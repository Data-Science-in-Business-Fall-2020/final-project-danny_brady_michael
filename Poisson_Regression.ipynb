{
 "cells": [
  {
   "cell_type": "code",
   "execution_count": 954,
   "metadata": {},
   "outputs": [],
   "source": [
    "# Import Packages\n",
    "import pandas as pd\n",
    "from patsy import dmatrices\n",
    "import numpy as np\n",
    "import statsmodels.api as sm\n",
    "import matplotlib.pyplot as plt\n",
    "import datetime\n",
    "from statsmodels.tools.eval_measures import rmse"
   ]
  },
  {
   "cell_type": "code",
   "execution_count": 955,
   "metadata": {},
   "outputs": [],
   "source": [
    "# Read in shark data\n",
    "eat = pd.read_excel(\"SharkData.xlsx\", sheet_name = 0)\n",
    "targets = pd.read_excel(\"SharkData.xlsx\", sheet_name = 1)\n",
    "drops = pd.read_excel(\"SharkData.xlsx\", sheet_name = 2)\n",
    "other_factors = pd.read_excel(\"SharkData.xlsx\", sheet_name = 3)"
   ]
  },
  {
   "cell_type": "markdown",
   "metadata": {},
   "source": [
    "# Data Cleaning"
   ]
  },
  {
   "cell_type": "code",
   "execution_count": 956,
   "metadata": {},
   "outputs": [
    {
     "data": {
      "text/html": [
       "<div>\n",
       "<style scoped>\n",
       "    .dataframe tbody tr th:only-of-type {\n",
       "        vertical-align: middle;\n",
       "    }\n",
       "\n",
       "    .dataframe tbody tr th {\n",
       "        vertical-align: top;\n",
       "    }\n",
       "\n",
       "    .dataframe thead th {\n",
       "        text-align: right;\n",
       "    }\n",
       "</style>\n",
       "<table border=\"1\" class=\"dataframe\">\n",
       "  <thead>\n",
       "    <tr style=\"text-align: right;\">\n",
       "      <th></th>\n",
       "      <th>Date</th>\n",
       "      <th>Ross</th>\n",
       "      <th>Chandler</th>\n",
       "      <th>BT1</th>\n",
       "      <th>BT2</th>\n",
       "      <th>BT3</th>\n",
       "      <th>BT4</th>\n",
       "      <th>BT5</th>\n",
       "      <th>GR1</th>\n",
       "      <th>GR2</th>\n",
       "      <th>GR3</th>\n",
       "      <th>GR4</th>\n",
       "      <th>GR5</th>\n",
       "      <th>Total</th>\n",
       "      <th>Etc. Comments</th>\n",
       "    </tr>\n",
       "  </thead>\n",
       "  <tbody>\n",
       "    <tr>\n",
       "      <th>0</th>\n",
       "      <td>2017-12-05</td>\n",
       "      <td>0.0</td>\n",
       "      <td>5.0</td>\n",
       "      <td>3.0</td>\n",
       "      <td>6.0</td>\n",
       "      <td>5.0</td>\n",
       "      <td>4.0</td>\n",
       "      <td>4.0</td>\n",
       "      <td>0.0</td>\n",
       "      <td>0.0</td>\n",
       "      <td>2.0</td>\n",
       "      <td>3.0</td>\n",
       "      <td>1.0</td>\n",
       "      <td>33.0</td>\n",
       "      <td>NaN</td>\n",
       "    </tr>\n",
       "    <tr>\n",
       "      <th>1</th>\n",
       "      <td>2017-12-07</td>\n",
       "      <td>1.0</td>\n",
       "      <td>0.0</td>\n",
       "      <td>0.0</td>\n",
       "      <td>2.0</td>\n",
       "      <td>0.0</td>\n",
       "      <td>0.0</td>\n",
       "      <td>0.0</td>\n",
       "      <td>0.0</td>\n",
       "      <td>0.0</td>\n",
       "      <td>0.0</td>\n",
       "      <td>0.0</td>\n",
       "      <td>0.0</td>\n",
       "      <td>3.0</td>\n",
       "      <td>NaN</td>\n",
       "    </tr>\n",
       "    <tr>\n",
       "      <th>2</th>\n",
       "      <td>2017-12-09</td>\n",
       "      <td>NaN</td>\n",
       "      <td>NaN</td>\n",
       "      <td>NaN</td>\n",
       "      <td>NaN</td>\n",
       "      <td>NaN</td>\n",
       "      <td>NaN</td>\n",
       "      <td>NaN</td>\n",
       "      <td>2.0</td>\n",
       "      <td>0.0</td>\n",
       "      <td>3.0</td>\n",
       "      <td>1.0</td>\n",
       "      <td>0.0</td>\n",
       "      <td>6.0</td>\n",
       "      <td>NaN</td>\n",
       "    </tr>\n",
       "    <tr>\n",
       "      <th>3</th>\n",
       "      <td>2017-12-10</td>\n",
       "      <td>5.0</td>\n",
       "      <td>1.0</td>\n",
       "      <td>1.0</td>\n",
       "      <td>3.0</td>\n",
       "      <td>2.0</td>\n",
       "      <td>2.0</td>\n",
       "      <td>0.0</td>\n",
       "      <td>NaN</td>\n",
       "      <td>NaN</td>\n",
       "      <td>NaN</td>\n",
       "      <td>NaN</td>\n",
       "      <td>NaN</td>\n",
       "      <td>14.0</td>\n",
       "      <td>NaN</td>\n",
       "    </tr>\n",
       "    <tr>\n",
       "      <th>4</th>\n",
       "      <td>2017-12-12</td>\n",
       "      <td>2.0</td>\n",
       "      <td>2.0</td>\n",
       "      <td>0.0</td>\n",
       "      <td>5.0</td>\n",
       "      <td>2.0</td>\n",
       "      <td>4.0</td>\n",
       "      <td>5.0</td>\n",
       "      <td>0.0</td>\n",
       "      <td>2.0</td>\n",
       "      <td>3.0</td>\n",
       "      <td>2.0</td>\n",
       "      <td>0.0</td>\n",
       "      <td>27.0</td>\n",
       "      <td>NaN</td>\n",
       "    </tr>\n",
       "  </tbody>\n",
       "</table>\n",
       "</div>"
      ],
      "text/plain": [
       "         Date  Ross  Chandler  BT1  BT2  BT3  BT4  BT5  GR1  GR2  GR3  GR4  \\\n",
       "0  2017-12-05   0.0       5.0  3.0  6.0  5.0  4.0  4.0  0.0  0.0  2.0  3.0   \n",
       "1  2017-12-07   1.0       0.0  0.0  2.0  0.0  0.0  0.0  0.0  0.0  0.0  0.0   \n",
       "2  2017-12-09   NaN       NaN  NaN  NaN  NaN  NaN  NaN  2.0  0.0  3.0  1.0   \n",
       "3  2017-12-10   5.0       1.0  1.0  3.0  2.0  2.0  0.0  NaN  NaN  NaN  NaN   \n",
       "4  2017-12-12   2.0       2.0  0.0  5.0  2.0  4.0  5.0  0.0  2.0  3.0  2.0   \n",
       "\n",
       "   GR5  Total Etc. Comments  \n",
       "0  1.0   33.0           NaN  \n",
       "1  0.0    3.0           NaN  \n",
       "2  0.0    6.0           NaN  \n",
       "3  NaN   14.0           NaN  \n",
       "4  0.0   27.0           NaN  "
      ]
     },
     "execution_count": 956,
     "metadata": {},
     "output_type": "execute_result"
    }
   ],
   "source": [
    "# Clean eating dataset\n",
    "eat = eat.iloc[1:,:-1]\n",
    "eat.rename(columns = {\"Unnamed: 14\":'Etc. Comments', \"Pieces Eaten\": \"Date\", 'Total: ' : 'Total'}, inplace = True)\n",
    "\n",
    "#get rid of null values at end of dataset\n",
    "eat = eat.head(582)\n",
    "\n",
    "# Change date to just date format, not datetime\n",
    "eat['Date'] = pd.to_datetime(eat['Date']).dt.date\n",
    "\n",
    "\n",
    "\n",
    "eat.reset_index(drop=True,inplace = True)\n",
    "eat.head()"
   ]
  },
  {
   "cell_type": "code",
   "execution_count": 957,
   "metadata": {},
   "outputs": [
    {
     "data": {
      "text/html": [
       "<div>\n",
       "<style scoped>\n",
       "    .dataframe tbody tr th:only-of-type {\n",
       "        vertical-align: middle;\n",
       "    }\n",
       "\n",
       "    .dataframe tbody tr th {\n",
       "        vertical-align: top;\n",
       "    }\n",
       "\n",
       "    .dataframe thead th {\n",
       "        text-align: right;\n",
       "    }\n",
       "</style>\n",
       "<table border=\"1\" class=\"dataframe\">\n",
       "  <thead>\n",
       "    <tr style=\"text-align: right;\">\n",
       "      <th></th>\n",
       "      <th>Date</th>\n",
       "      <th>Ross</th>\n",
       "      <th>Chandler</th>\n",
       "      <th>BT1</th>\n",
       "      <th>BT2</th>\n",
       "      <th>BT3</th>\n",
       "      <th>BT4</th>\n",
       "      <th>BT5</th>\n",
       "      <th>GR1</th>\n",
       "      <th>GR2</th>\n",
       "      <th>GR3</th>\n",
       "      <th>GR4</th>\n",
       "      <th>GR5</th>\n",
       "      <th>Total</th>\n",
       "    </tr>\n",
       "  </thead>\n",
       "  <tbody>\n",
       "    <tr>\n",
       "      <th>577</th>\n",
       "      <td>2020-09-22</td>\n",
       "      <td>0.0</td>\n",
       "      <td>0.0</td>\n",
       "      <td>1.0</td>\n",
       "      <td>4.0</td>\n",
       "      <td>0.0</td>\n",
       "      <td>2.0</td>\n",
       "      <td>2.0</td>\n",
       "      <td>0.0</td>\n",
       "      <td>0.0</td>\n",
       "      <td>0.0</td>\n",
       "      <td>1.0</td>\n",
       "      <td>0.0</td>\n",
       "      <td>10.0</td>\n",
       "    </tr>\n",
       "    <tr>\n",
       "      <th>578</th>\n",
       "      <td>2020-09-24</td>\n",
       "      <td>0.0</td>\n",
       "      <td>0.0</td>\n",
       "      <td>0.0</td>\n",
       "      <td>3.0</td>\n",
       "      <td>1.0</td>\n",
       "      <td>1.0</td>\n",
       "      <td>1.0</td>\n",
       "      <td>0.0</td>\n",
       "      <td>0.0</td>\n",
       "      <td>1.0</td>\n",
       "      <td>0.0</td>\n",
       "      <td>0.0</td>\n",
       "      <td>7.0</td>\n",
       "    </tr>\n",
       "    <tr>\n",
       "      <th>579</th>\n",
       "      <td>2020-09-26</td>\n",
       "      <td>NaN</td>\n",
       "      <td>NaN</td>\n",
       "      <td>NaN</td>\n",
       "      <td>NaN</td>\n",
       "      <td>NaN</td>\n",
       "      <td>NaN</td>\n",
       "      <td>NaN</td>\n",
       "      <td>0.0</td>\n",
       "      <td>0.0</td>\n",
       "      <td>0.0</td>\n",
       "      <td>0.0</td>\n",
       "      <td>1.0</td>\n",
       "      <td>1.0</td>\n",
       "    </tr>\n",
       "    <tr>\n",
       "      <th>580</th>\n",
       "      <td>2020-09-27</td>\n",
       "      <td>0.0</td>\n",
       "      <td>0.0</td>\n",
       "      <td>2.0</td>\n",
       "      <td>0.0</td>\n",
       "      <td>0.0</td>\n",
       "      <td>0.0</td>\n",
       "      <td>1.0</td>\n",
       "      <td>NaN</td>\n",
       "      <td>NaN</td>\n",
       "      <td>NaN</td>\n",
       "      <td>NaN</td>\n",
       "      <td>NaN</td>\n",
       "      <td>3.0</td>\n",
       "    </tr>\n",
       "    <tr>\n",
       "      <th>581</th>\n",
       "      <td>2020-09-29</td>\n",
       "      <td>0.0</td>\n",
       "      <td>0.0</td>\n",
       "      <td>0.0</td>\n",
       "      <td>2.0</td>\n",
       "      <td>0.0</td>\n",
       "      <td>0.0</td>\n",
       "      <td>1.0</td>\n",
       "      <td>0.0</td>\n",
       "      <td>0.0</td>\n",
       "      <td>1.0</td>\n",
       "      <td>0.0</td>\n",
       "      <td>0.0</td>\n",
       "      <td>4.0</td>\n",
       "    </tr>\n",
       "  </tbody>\n",
       "</table>\n",
       "</div>"
      ],
      "text/plain": [
       "           Date  Ross  Chandler  BT1  BT2  BT3  BT4  BT5  GR1  GR2  GR3  GR4  \\\n",
       "577  2020-09-22   0.0       0.0  1.0  4.0  0.0  2.0  2.0  0.0  0.0  0.0  1.0   \n",
       "578  2020-09-24   0.0       0.0  0.0  3.0  1.0  1.0  1.0  0.0  0.0  1.0  0.0   \n",
       "579  2020-09-26   NaN       NaN  NaN  NaN  NaN  NaN  NaN  0.0  0.0  0.0  0.0   \n",
       "580  2020-09-27   0.0       0.0  2.0  0.0  0.0  0.0  1.0  NaN  NaN  NaN  NaN   \n",
       "581  2020-09-29   0.0       0.0  0.0  2.0  0.0  0.0  1.0  0.0  0.0  1.0  0.0   \n",
       "\n",
       "     GR5  Total  \n",
       "577  0.0   10.0  \n",
       "578  0.0    7.0  \n",
       "579  1.0    1.0  \n",
       "580  NaN    3.0  \n",
       "581  0.0    4.0  "
      ]
     },
     "execution_count": 957,
     "metadata": {},
     "output_type": "execute_result"
    }
   ],
   "source": [
    "# Clean Drops Dataset\n",
    "drops = drops.iloc[1:,:-1]\n",
    "drops['Drops'] = pd.to_datetime(drops['Drops']).dt.date\n",
    "drops.rename(columns = {\"Drops\" : \"Date\", \"Total: \":\"Total\"}, inplace = True)\n",
    "drops.reset_index(drop=True,inplace = True)\n",
    "drops.tail()"
   ]
  },
  {
   "cell_type": "code",
   "execution_count": 958,
   "metadata": {},
   "outputs": [
    {
     "data": {
      "text/html": [
       "<div>\n",
       "<style scoped>\n",
       "    .dataframe tbody tr th:only-of-type {\n",
       "        vertical-align: middle;\n",
       "    }\n",
       "\n",
       "    .dataframe tbody tr th {\n",
       "        vertical-align: top;\n",
       "    }\n",
       "\n",
       "    .dataframe thead th {\n",
       "        text-align: right;\n",
       "    }\n",
       "</style>\n",
       "<table border=\"1\" class=\"dataframe\">\n",
       "  <thead>\n",
       "    <tr style=\"text-align: right;\">\n",
       "      <th></th>\n",
       "      <th>Date</th>\n",
       "      <th>Ross</th>\n",
       "      <th>Chandler</th>\n",
       "      <th>BT1</th>\n",
       "      <th>BT2</th>\n",
       "      <th>BT3</th>\n",
       "      <th>BT4</th>\n",
       "      <th>BT5</th>\n",
       "      <th>GR1</th>\n",
       "      <th>GR2</th>\n",
       "      <th>GR3</th>\n",
       "      <th>GR4</th>\n",
       "      <th>GR5</th>\n",
       "      <th>Total</th>\n",
       "    </tr>\n",
       "  </thead>\n",
       "  <tbody>\n",
       "    <tr>\n",
       "      <th>577</th>\n",
       "      <td>2020-09-22</td>\n",
       "      <td>6.0</td>\n",
       "      <td>1.0</td>\n",
       "      <td>4.0</td>\n",
       "      <td>6.0</td>\n",
       "      <td>5.0</td>\n",
       "      <td>4.0</td>\n",
       "      <td>7.0</td>\n",
       "      <td>2.0</td>\n",
       "      <td>1.0</td>\n",
       "      <td>5.0</td>\n",
       "      <td>4.0</td>\n",
       "      <td>1.0</td>\n",
       "      <td>46.0</td>\n",
       "    </tr>\n",
       "    <tr>\n",
       "      <th>578</th>\n",
       "      <td>2020-09-24</td>\n",
       "      <td>8.0</td>\n",
       "      <td>18.0</td>\n",
       "      <td>2.0</td>\n",
       "      <td>9.0</td>\n",
       "      <td>10.0</td>\n",
       "      <td>10.0</td>\n",
       "      <td>11.0</td>\n",
       "      <td>5.0</td>\n",
       "      <td>6.0</td>\n",
       "      <td>3.0</td>\n",
       "      <td>7.0</td>\n",
       "      <td>9.0</td>\n",
       "      <td>98.0</td>\n",
       "    </tr>\n",
       "    <tr>\n",
       "      <th>579</th>\n",
       "      <td>2020-09-26</td>\n",
       "      <td>NaN</td>\n",
       "      <td>NaN</td>\n",
       "      <td>NaN</td>\n",
       "      <td>NaN</td>\n",
       "      <td>NaN</td>\n",
       "      <td>NaN</td>\n",
       "      <td>NaN</td>\n",
       "      <td>6.0</td>\n",
       "      <td>2.0</td>\n",
       "      <td>3.0</td>\n",
       "      <td>5.0</td>\n",
       "      <td>8.0</td>\n",
       "      <td>24.0</td>\n",
       "    </tr>\n",
       "    <tr>\n",
       "      <th>580</th>\n",
       "      <td>2020-09-27</td>\n",
       "      <td>10.0</td>\n",
       "      <td>19.0</td>\n",
       "      <td>9.0</td>\n",
       "      <td>10.0</td>\n",
       "      <td>8.0</td>\n",
       "      <td>16.0</td>\n",
       "      <td>3.0</td>\n",
       "      <td>NaN</td>\n",
       "      <td>NaN</td>\n",
       "      <td>NaN</td>\n",
       "      <td>NaN</td>\n",
       "      <td>NaN</td>\n",
       "      <td>75.0</td>\n",
       "    </tr>\n",
       "    <tr>\n",
       "      <th>581</th>\n",
       "      <td>2020-09-29</td>\n",
       "      <td>15.0</td>\n",
       "      <td>5.0</td>\n",
       "      <td>6.0</td>\n",
       "      <td>6.0</td>\n",
       "      <td>4.0</td>\n",
       "      <td>4.0</td>\n",
       "      <td>7.0</td>\n",
       "      <td>4.0</td>\n",
       "      <td>1.0</td>\n",
       "      <td>4.0</td>\n",
       "      <td>4.0</td>\n",
       "      <td>1.0</td>\n",
       "      <td>61.0</td>\n",
       "    </tr>\n",
       "  </tbody>\n",
       "</table>\n",
       "</div>"
      ],
      "text/plain": [
       "           Date  Ross  Chandler  BT1   BT2   BT3   BT4   BT5  GR1  GR2  GR3  \\\n",
       "577  2020-09-22   6.0       1.0  4.0   6.0   5.0   4.0   7.0  2.0  1.0  5.0   \n",
       "578  2020-09-24   8.0      18.0  2.0   9.0  10.0  10.0  11.0  5.0  6.0  3.0   \n",
       "579  2020-09-26   NaN       NaN  NaN   NaN   NaN   NaN   NaN  6.0  2.0  3.0   \n",
       "580  2020-09-27  10.0      19.0  9.0  10.0   8.0  16.0   3.0  NaN  NaN  NaN   \n",
       "581  2020-09-29  15.0       5.0  6.0   6.0   4.0   4.0   7.0  4.0  1.0  4.0   \n",
       "\n",
       "     GR4  GR5  Total  \n",
       "577  4.0  1.0   46.0  \n",
       "578  7.0  9.0   98.0  \n",
       "579  5.0  8.0   24.0  \n",
       "580  NaN  NaN   75.0  \n",
       "581  4.0  1.0   61.0  "
      ]
     },
     "execution_count": 958,
     "metadata": {},
     "output_type": "execute_result"
    }
   ],
   "source": [
    "# Clean Targets Dataset\n",
    "targets = targets.iloc[1:,:-1]\n",
    "targets.rename(columns = {\"Unnamed: 14\":'Etc. Comments', \"Targets\": \"Date\", \"Total: \": \"Total\"}, inplace = True)\n",
    "\n",
    "#get rid of null values at end of dataset\n",
    "targets = targets.head(582)\n",
    "\n",
    "# Change date to just date format, not datetime\n",
    "targets['Date'] = pd.to_datetime(targets['Date']).dt.date\n",
    "\n",
    "targets.reset_index(drop=True,inplace = True)\n",
    "targets.tail()"
   ]
  },
  {
   "cell_type": "markdown",
   "metadata": {},
   "source": [
    "# Other Factors Data Cleaning and Dummy Variable Creation for Foods\n"
   ]
  },
  {
   "cell_type": "code",
   "execution_count": 959,
   "metadata": {},
   "outputs": [
    {
     "name": "stderr",
     "output_type": "stream",
     "text": [
      "/home/stats/.local/lib/python3.6/site-packages/ipykernel_launcher.py:7: SettingWithCopyWarning: \n",
      "A value is trying to be set on a copy of a slice from a DataFrame.\n",
      "Try using .loc[row_indexer,col_indexer] = value instead\n",
      "\n",
      "See the caveats in the documentation: https://pandas.pydata.org/pandas-docs/stable/user_guide/indexing.html#returning-a-view-versus-a-copy\n",
      "  import sys\n",
      "/home/stats/.local/lib/python3.6/site-packages/pandas/core/frame.py:4308: SettingWithCopyWarning: \n",
      "A value is trying to be set on a copy of a slice from a DataFrame\n",
      "\n",
      "See the caveats in the documentation: https://pandas.pydata.org/pandas-docs/stable/user_guide/indexing.html#returning-a-view-versus-a-copy\n",
      "  errors=errors,\n"
     ]
    }
   ],
   "source": [
    "dummy_factors = other_factors[['Saury', 'Blue Runner',\n",
    "                'Squid', 'Mackerel', 'Herring', 'Sardine',\n",
    "                'Mazuri Vitamins', 'Garlic', 'Salmon', 'Bonito', 'Bluefish', 'Mahi',\n",
    "                    'Goggle Eye', 'Humbolt Squid']]\n",
    "\n",
    "for i in dummy_factors:\n",
    "    dummy_factors[i] = dummy_factors[i].fillna(0)\n",
    "dummy_factors.rename(columns = {\"Blue Runner\": \"Blue_Runner\", \"Mazuri Vitamins\": \"Mazuri_Vitamins\", \n",
    "                               \"Goggle Eye\": \"Goggle_Eye\", \"Humbolt Squid\": \"Humbolt_Squid\"}, inplace = True)"
   ]
  },
  {
   "cell_type": "code",
   "execution_count": null,
   "metadata": {
    "scrolled": false
   },
   "outputs": [],
   "source": []
  },
  {
   "cell_type": "markdown",
   "metadata": {},
   "source": [
    "# Combine Datasets to get all factors to perform regression on"
   ]
  },
  {
   "cell_type": "code",
   "execution_count": 960,
   "metadata": {},
   "outputs": [
    {
     "data": {
      "text/html": [
       "<div>\n",
       "<style scoped>\n",
       "    .dataframe tbody tr th:only-of-type {\n",
       "        vertical-align: middle;\n",
       "    }\n",
       "\n",
       "    .dataframe tbody tr th {\n",
       "        vertical-align: top;\n",
       "    }\n",
       "\n",
       "    .dataframe thead th {\n",
       "        text-align: right;\n",
       "    }\n",
       "</style>\n",
       "<table border=\"1\" class=\"dataframe\">\n",
       "  <thead>\n",
       "    <tr style=\"text-align: right;\">\n",
       "      <th></th>\n",
       "      <th>Date</th>\n",
       "      <th>Ross</th>\n",
       "      <th>Chandler</th>\n",
       "      <th>BT1</th>\n",
       "      <th>BT2</th>\n",
       "      <th>BT3</th>\n",
       "      <th>BT4</th>\n",
       "      <th>BT5</th>\n",
       "      <th>GR1</th>\n",
       "      <th>GR2</th>\n",
       "      <th>...</th>\n",
       "      <th>Sardine</th>\n",
       "      <th>Mazuri_Vitamins</th>\n",
       "      <th>Garlic</th>\n",
       "      <th>Salmon</th>\n",
       "      <th>Bonito</th>\n",
       "      <th>Bluefish</th>\n",
       "      <th>Mahi</th>\n",
       "      <th>Goggle_Eye</th>\n",
       "      <th>Humbolt_Squid</th>\n",
       "      <th>Temperature</th>\n",
       "    </tr>\n",
       "  </thead>\n",
       "  <tbody>\n",
       "    <tr>\n",
       "      <th>0</th>\n",
       "      <td>2017-12-05</td>\n",
       "      <td>0.0</td>\n",
       "      <td>5.0</td>\n",
       "      <td>3.0</td>\n",
       "      <td>6.0</td>\n",
       "      <td>5.0</td>\n",
       "      <td>4.0</td>\n",
       "      <td>4.0</td>\n",
       "      <td>0.0</td>\n",
       "      <td>0.0</td>\n",
       "      <td>...</td>\n",
       "      <td>0.0</td>\n",
       "      <td>1.0</td>\n",
       "      <td>1.0</td>\n",
       "      <td>0.0</td>\n",
       "      <td>0.0</td>\n",
       "      <td>0.0</td>\n",
       "      <td>0.0</td>\n",
       "      <td>0.0</td>\n",
       "      <td>0.0</td>\n",
       "      <td>73.2</td>\n",
       "    </tr>\n",
       "    <tr>\n",
       "      <th>1</th>\n",
       "      <td>2017-12-07</td>\n",
       "      <td>1.0</td>\n",
       "      <td>0.0</td>\n",
       "      <td>0.0</td>\n",
       "      <td>2.0</td>\n",
       "      <td>0.0</td>\n",
       "      <td>0.0</td>\n",
       "      <td>0.0</td>\n",
       "      <td>0.0</td>\n",
       "      <td>0.0</td>\n",
       "      <td>...</td>\n",
       "      <td>0.0</td>\n",
       "      <td>1.0</td>\n",
       "      <td>1.0</td>\n",
       "      <td>0.0</td>\n",
       "      <td>0.0</td>\n",
       "      <td>0.0</td>\n",
       "      <td>0.0</td>\n",
       "      <td>0.0</td>\n",
       "      <td>0.0</td>\n",
       "      <td>73.2</td>\n",
       "    </tr>\n",
       "    <tr>\n",
       "      <th>2</th>\n",
       "      <td>2017-12-09</td>\n",
       "      <td>NaN</td>\n",
       "      <td>NaN</td>\n",
       "      <td>NaN</td>\n",
       "      <td>NaN</td>\n",
       "      <td>NaN</td>\n",
       "      <td>NaN</td>\n",
       "      <td>NaN</td>\n",
       "      <td>2.0</td>\n",
       "      <td>0.0</td>\n",
       "      <td>...</td>\n",
       "      <td>0.0</td>\n",
       "      <td>0.0</td>\n",
       "      <td>1.0</td>\n",
       "      <td>0.0</td>\n",
       "      <td>0.0</td>\n",
       "      <td>0.0</td>\n",
       "      <td>0.0</td>\n",
       "      <td>0.0</td>\n",
       "      <td>0.0</td>\n",
       "      <td>73.6</td>\n",
       "    </tr>\n",
       "    <tr>\n",
       "      <th>3</th>\n",
       "      <td>2017-12-10</td>\n",
       "      <td>5.0</td>\n",
       "      <td>1.0</td>\n",
       "      <td>1.0</td>\n",
       "      <td>3.0</td>\n",
       "      <td>2.0</td>\n",
       "      <td>2.0</td>\n",
       "      <td>0.0</td>\n",
       "      <td>NaN</td>\n",
       "      <td>NaN</td>\n",
       "      <td>...</td>\n",
       "      <td>1.0</td>\n",
       "      <td>0.0</td>\n",
       "      <td>1.0</td>\n",
       "      <td>0.0</td>\n",
       "      <td>0.0</td>\n",
       "      <td>0.0</td>\n",
       "      <td>0.0</td>\n",
       "      <td>0.0</td>\n",
       "      <td>0.0</td>\n",
       "      <td>73.6</td>\n",
       "    </tr>\n",
       "    <tr>\n",
       "      <th>4</th>\n",
       "      <td>2017-12-12</td>\n",
       "      <td>2.0</td>\n",
       "      <td>2.0</td>\n",
       "      <td>0.0</td>\n",
       "      <td>5.0</td>\n",
       "      <td>2.0</td>\n",
       "      <td>4.0</td>\n",
       "      <td>5.0</td>\n",
       "      <td>0.0</td>\n",
       "      <td>2.0</td>\n",
       "      <td>...</td>\n",
       "      <td>0.0</td>\n",
       "      <td>1.0</td>\n",
       "      <td>1.0</td>\n",
       "      <td>0.0</td>\n",
       "      <td>0.0</td>\n",
       "      <td>0.0</td>\n",
       "      <td>0.0</td>\n",
       "      <td>0.0</td>\n",
       "      <td>0.0</td>\n",
       "      <td>73.4</td>\n",
       "    </tr>\n",
       "  </tbody>\n",
       "</table>\n",
       "<p>5 rows × 30 columns</p>\n",
       "</div>"
      ],
      "text/plain": [
       "         Date  Ross  Chandler  BT1  BT2  BT3  BT4  BT5  GR1  GR2  ...  \\\n",
       "0  2017-12-05   0.0       5.0  3.0  6.0  5.0  4.0  4.0  0.0  0.0  ...   \n",
       "1  2017-12-07   1.0       0.0  0.0  2.0  0.0  0.0  0.0  0.0  0.0  ...   \n",
       "2  2017-12-09   NaN       NaN  NaN  NaN  NaN  NaN  NaN  2.0  0.0  ...   \n",
       "3  2017-12-10   5.0       1.0  1.0  3.0  2.0  2.0  0.0  NaN  NaN  ...   \n",
       "4  2017-12-12   2.0       2.0  0.0  5.0  2.0  4.0  5.0  0.0  2.0  ...   \n",
       "\n",
       "   Sardine  Mazuri_Vitamins  Garlic  Salmon Bonito  Bluefish  Mahi  \\\n",
       "0      0.0              1.0     1.0     0.0    0.0       0.0   0.0   \n",
       "1      0.0              1.0     1.0     0.0    0.0       0.0   0.0   \n",
       "2      0.0              0.0     1.0     0.0    0.0       0.0   0.0   \n",
       "3      1.0              0.0     1.0     0.0    0.0       0.0   0.0   \n",
       "4      0.0              1.0     1.0     0.0    0.0       0.0   0.0   \n",
       "\n",
       "   Goggle_Eye  Humbolt_Squid  Temperature  \n",
       "0         0.0            0.0         73.2  \n",
       "1         0.0            0.0         73.2  \n",
       "2         0.0            0.0         73.6  \n",
       "3         0.0            0.0         73.6  \n",
       "4         0.0            0.0         73.4  \n",
       "\n",
       "[5 rows x 30 columns]"
      ]
     },
     "execution_count": 960,
     "metadata": {},
     "output_type": "execute_result"
    }
   ],
   "source": [
    "# combine eat data\n",
    "eat_concat1 = pd.concat([eat,dummy_factors], axis = 1)\n",
    "eat_concat = pd.concat([eat_concat1, other_factors[\"Temperature\"]], axis = 1)\n",
    "eat_concat.head()"
   ]
  },
  {
   "cell_type": "code",
   "execution_count": 961,
   "metadata": {},
   "outputs": [],
   "source": [
    "# Add eat variable for Covid shut down\n",
    "start_date = pd.to_datetime('03-14-2020')\n",
    "end_date = pd.to_datetime('05-09-2020')\n",
    "conditions = [ (eat_concat['Date'] >= start_date) & (eat_concat['Date'] <= end_date),\n",
    "              (eat_concat['Date'] < start_date) | (eat_concat['Date'] > end_date)]\n",
    "values = [1, 0]\n",
    "eat_concat[\"covid\"] = np.select(conditions, values)"
   ]
  },
  {
   "cell_type": "code",
   "execution_count": 962,
   "metadata": {},
   "outputs": [],
   "source": [
    "# Add eat variable for light training\n",
    "light_start = pd.to_datetime('02-15-2018')\n",
    "conditions_light = [ (eat_concat['Date'] >= light_start), (eat_concat['Date'] < light_start)]\n",
    "values_light = [1, 0]\n",
    "eat_concat[\"light_training\"] = np.select(conditions_light, values_light)"
   ]
  },
  {
   "cell_type": "code",
   "execution_count": 963,
   "metadata": {},
   "outputs": [
    {
     "data": {
      "text/html": [
       "<div>\n",
       "<style scoped>\n",
       "    .dataframe tbody tr th:only-of-type {\n",
       "        vertical-align: middle;\n",
       "    }\n",
       "\n",
       "    .dataframe tbody tr th {\n",
       "        vertical-align: top;\n",
       "    }\n",
       "\n",
       "    .dataframe thead th {\n",
       "        text-align: right;\n",
       "    }\n",
       "</style>\n",
       "<table border=\"1\" class=\"dataframe\">\n",
       "  <thead>\n",
       "    <tr style=\"text-align: right;\">\n",
       "      <th></th>\n",
       "      <th>Date</th>\n",
       "      <th>Ross</th>\n",
       "      <th>Chandler</th>\n",
       "      <th>BT1</th>\n",
       "      <th>BT2</th>\n",
       "      <th>BT3</th>\n",
       "      <th>BT4</th>\n",
       "      <th>BT5</th>\n",
       "      <th>GR1</th>\n",
       "      <th>GR2</th>\n",
       "      <th>...</th>\n",
       "      <th>Sardine</th>\n",
       "      <th>Mazuri_Vitamins</th>\n",
       "      <th>Garlic</th>\n",
       "      <th>Salmon</th>\n",
       "      <th>Bonito</th>\n",
       "      <th>Bluefish</th>\n",
       "      <th>Mahi</th>\n",
       "      <th>Goggle_Eye</th>\n",
       "      <th>Humbolt_Squid</th>\n",
       "      <th>Temperature</th>\n",
       "    </tr>\n",
       "  </thead>\n",
       "  <tbody>\n",
       "    <tr>\n",
       "      <th>0</th>\n",
       "      <td>2017-12-05</td>\n",
       "      <td>0.0</td>\n",
       "      <td>0.0</td>\n",
       "      <td>0.0</td>\n",
       "      <td>0.0</td>\n",
       "      <td>0.0</td>\n",
       "      <td>1.0</td>\n",
       "      <td>0.0</td>\n",
       "      <td>0.0</td>\n",
       "      <td>0.0</td>\n",
       "      <td>...</td>\n",
       "      <td>0.0</td>\n",
       "      <td>1.0</td>\n",
       "      <td>1.0</td>\n",
       "      <td>0.0</td>\n",
       "      <td>0.0</td>\n",
       "      <td>0.0</td>\n",
       "      <td>0.0</td>\n",
       "      <td>0.0</td>\n",
       "      <td>0.0</td>\n",
       "      <td>73.2</td>\n",
       "    </tr>\n",
       "    <tr>\n",
       "      <th>1</th>\n",
       "      <td>2017-12-07</td>\n",
       "      <td>0.0</td>\n",
       "      <td>1.0</td>\n",
       "      <td>1.0</td>\n",
       "      <td>2.0</td>\n",
       "      <td>1.0</td>\n",
       "      <td>1.0</td>\n",
       "      <td>2.0</td>\n",
       "      <td>0.0</td>\n",
       "      <td>0.0</td>\n",
       "      <td>...</td>\n",
       "      <td>0.0</td>\n",
       "      <td>1.0</td>\n",
       "      <td>1.0</td>\n",
       "      <td>0.0</td>\n",
       "      <td>0.0</td>\n",
       "      <td>0.0</td>\n",
       "      <td>0.0</td>\n",
       "      <td>0.0</td>\n",
       "      <td>0.0</td>\n",
       "      <td>73.2</td>\n",
       "    </tr>\n",
       "    <tr>\n",
       "      <th>2</th>\n",
       "      <td>2017-12-09</td>\n",
       "      <td>NaN</td>\n",
       "      <td>NaN</td>\n",
       "      <td>NaN</td>\n",
       "      <td>NaN</td>\n",
       "      <td>NaN</td>\n",
       "      <td>NaN</td>\n",
       "      <td>NaN</td>\n",
       "      <td>0.0</td>\n",
       "      <td>1.0</td>\n",
       "      <td>...</td>\n",
       "      <td>0.0</td>\n",
       "      <td>0.0</td>\n",
       "      <td>1.0</td>\n",
       "      <td>0.0</td>\n",
       "      <td>0.0</td>\n",
       "      <td>0.0</td>\n",
       "      <td>0.0</td>\n",
       "      <td>0.0</td>\n",
       "      <td>0.0</td>\n",
       "      <td>73.6</td>\n",
       "    </tr>\n",
       "    <tr>\n",
       "      <th>3</th>\n",
       "      <td>2017-12-10</td>\n",
       "      <td>0.0</td>\n",
       "      <td>0.0</td>\n",
       "      <td>0.0</td>\n",
       "      <td>0.0</td>\n",
       "      <td>0.0</td>\n",
       "      <td>0.0</td>\n",
       "      <td>1.0</td>\n",
       "      <td>NaN</td>\n",
       "      <td>NaN</td>\n",
       "      <td>...</td>\n",
       "      <td>1.0</td>\n",
       "      <td>0.0</td>\n",
       "      <td>1.0</td>\n",
       "      <td>0.0</td>\n",
       "      <td>0.0</td>\n",
       "      <td>0.0</td>\n",
       "      <td>0.0</td>\n",
       "      <td>0.0</td>\n",
       "      <td>0.0</td>\n",
       "      <td>73.6</td>\n",
       "    </tr>\n",
       "    <tr>\n",
       "      <th>4</th>\n",
       "      <td>2017-12-12</td>\n",
       "      <td>0.0</td>\n",
       "      <td>0.0</td>\n",
       "      <td>0.0</td>\n",
       "      <td>0.0</td>\n",
       "      <td>2.0</td>\n",
       "      <td>0.0</td>\n",
       "      <td>0.0</td>\n",
       "      <td>0.0</td>\n",
       "      <td>0.0</td>\n",
       "      <td>...</td>\n",
       "      <td>0.0</td>\n",
       "      <td>1.0</td>\n",
       "      <td>1.0</td>\n",
       "      <td>0.0</td>\n",
       "      <td>0.0</td>\n",
       "      <td>0.0</td>\n",
       "      <td>0.0</td>\n",
       "      <td>0.0</td>\n",
       "      <td>0.0</td>\n",
       "      <td>73.4</td>\n",
       "    </tr>\n",
       "  </tbody>\n",
       "</table>\n",
       "<p>5 rows × 29 columns</p>\n",
       "</div>"
      ],
      "text/plain": [
       "         Date  Ross  Chandler  BT1  BT2  BT3  BT4  BT5  GR1  GR2  ...  \\\n",
       "0  2017-12-05   0.0       0.0  0.0  0.0  0.0  1.0  0.0  0.0  0.0  ...   \n",
       "1  2017-12-07   0.0       1.0  1.0  2.0  1.0  1.0  2.0  0.0  0.0  ...   \n",
       "2  2017-12-09   NaN       NaN  NaN  NaN  NaN  NaN  NaN  0.0  1.0  ...   \n",
       "3  2017-12-10   0.0       0.0  0.0  0.0  0.0  0.0  1.0  NaN  NaN  ...   \n",
       "4  2017-12-12   0.0       0.0  0.0  0.0  2.0  0.0  0.0  0.0  0.0  ...   \n",
       "\n",
       "   Sardine  Mazuri_Vitamins  Garlic  Salmon  Bonito  Bluefish  Mahi  \\\n",
       "0      0.0              1.0     1.0     0.0     0.0       0.0   0.0   \n",
       "1      0.0              1.0     1.0     0.0     0.0       0.0   0.0   \n",
       "2      0.0              0.0     1.0     0.0     0.0       0.0   0.0   \n",
       "3      1.0              0.0     1.0     0.0     0.0       0.0   0.0   \n",
       "4      0.0              1.0     1.0     0.0     0.0       0.0   0.0   \n",
       "\n",
       "   Goggle_Eye  Humbolt_Squid  Temperature  \n",
       "0         0.0            0.0         73.2  \n",
       "1         0.0            0.0         73.2  \n",
       "2         0.0            0.0         73.6  \n",
       "3         0.0            0.0         73.6  \n",
       "4         0.0            0.0         73.4  \n",
       "\n",
       "[5 rows x 29 columns]"
      ]
     },
     "execution_count": 963,
     "metadata": {},
     "output_type": "execute_result"
    }
   ],
   "source": [
    "# combine drops data\n",
    "drops_concat1 = pd.concat([drops,dummy_factors], axis = 1)\n",
    "drops_concat = pd.concat([drops_concat1, other_factors[\"Temperature\"]], axis = 1)\n",
    "drops_concat.head()"
   ]
  },
  {
   "cell_type": "code",
   "execution_count": 964,
   "metadata": {},
   "outputs": [],
   "source": [
    "# Add drop variable for Covid shut down\n",
    "start_date = pd.to_datetime('03-14-2020')\n",
    "end_date = pd.to_datetime('05-09-2020')\n",
    "conditions = [ (drops_concat['Date'] >= start_date) & (drops_concat['Date'] <= end_date),\n",
    "              (drops_concat['Date'] < start_date) | (drops_concat['Date'] > end_date)]\n",
    "values = [1, 0]\n",
    "drops_concat[\"covid\"] = np.select(conditions, values)"
   ]
  },
  {
   "cell_type": "code",
   "execution_count": 965,
   "metadata": {},
   "outputs": [],
   "source": [
    "# Add drop variable for light training\n",
    "light_start = pd.to_datetime('02-15-2018')\n",
    "conditions_light = [ (drops_concat['Date'] >= light_start), (drops_concat['Date'] < light_start)]\n",
    "values_light = [1, 0]\n",
    "drops_concat[\"light_training\"] = np.select(conditions_light, values_light)"
   ]
  },
  {
   "cell_type": "code",
   "execution_count": 966,
   "metadata": {
    "scrolled": false
   },
   "outputs": [
    {
     "data": {
      "text/html": [
       "<div>\n",
       "<style scoped>\n",
       "    .dataframe tbody tr th:only-of-type {\n",
       "        vertical-align: middle;\n",
       "    }\n",
       "\n",
       "    .dataframe tbody tr th {\n",
       "        vertical-align: top;\n",
       "    }\n",
       "\n",
       "    .dataframe thead th {\n",
       "        text-align: right;\n",
       "    }\n",
       "</style>\n",
       "<table border=\"1\" class=\"dataframe\">\n",
       "  <thead>\n",
       "    <tr style=\"text-align: right;\">\n",
       "      <th></th>\n",
       "      <th>Date</th>\n",
       "      <th>Ross</th>\n",
       "      <th>Chandler</th>\n",
       "      <th>BT1</th>\n",
       "      <th>BT2</th>\n",
       "      <th>BT3</th>\n",
       "      <th>BT4</th>\n",
       "      <th>BT5</th>\n",
       "      <th>GR1</th>\n",
       "      <th>GR2</th>\n",
       "      <th>...</th>\n",
       "      <th>Sardine</th>\n",
       "      <th>Mazuri_Vitamins</th>\n",
       "      <th>Garlic</th>\n",
       "      <th>Salmon</th>\n",
       "      <th>Bonito</th>\n",
       "      <th>Bluefish</th>\n",
       "      <th>Mahi</th>\n",
       "      <th>Goggle_Eye</th>\n",
       "      <th>Humbolt_Squid</th>\n",
       "      <th>Temperature</th>\n",
       "    </tr>\n",
       "  </thead>\n",
       "  <tbody>\n",
       "    <tr>\n",
       "      <th>0</th>\n",
       "      <td>2017-12-05</td>\n",
       "      <td>3.0</td>\n",
       "      <td>0.0</td>\n",
       "      <td>4.0</td>\n",
       "      <td>3.0</td>\n",
       "      <td>0.0</td>\n",
       "      <td>2.0</td>\n",
       "      <td>2.0</td>\n",
       "      <td>1.0</td>\n",
       "      <td>1.0</td>\n",
       "      <td>...</td>\n",
       "      <td>0.0</td>\n",
       "      <td>1.0</td>\n",
       "      <td>1.0</td>\n",
       "      <td>0.0</td>\n",
       "      <td>0.0</td>\n",
       "      <td>0.0</td>\n",
       "      <td>0.0</td>\n",
       "      <td>0.0</td>\n",
       "      <td>0.0</td>\n",
       "      <td>73.2</td>\n",
       "    </tr>\n",
       "    <tr>\n",
       "      <th>1</th>\n",
       "      <td>2017-12-07</td>\n",
       "      <td>4.0</td>\n",
       "      <td>5.0</td>\n",
       "      <td>2.0</td>\n",
       "      <td>2.0</td>\n",
       "      <td>5.0</td>\n",
       "      <td>3.0</td>\n",
       "      <td>5.0</td>\n",
       "      <td>0.0</td>\n",
       "      <td>0.0</td>\n",
       "      <td>...</td>\n",
       "      <td>0.0</td>\n",
       "      <td>1.0</td>\n",
       "      <td>1.0</td>\n",
       "      <td>0.0</td>\n",
       "      <td>0.0</td>\n",
       "      <td>0.0</td>\n",
       "      <td>0.0</td>\n",
       "      <td>0.0</td>\n",
       "      <td>0.0</td>\n",
       "      <td>73.2</td>\n",
       "    </tr>\n",
       "    <tr>\n",
       "      <th>2</th>\n",
       "      <td>2017-12-09</td>\n",
       "      <td>NaN</td>\n",
       "      <td>NaN</td>\n",
       "      <td>NaN</td>\n",
       "      <td>NaN</td>\n",
       "      <td>NaN</td>\n",
       "      <td>NaN</td>\n",
       "      <td>NaN</td>\n",
       "      <td>1.0</td>\n",
       "      <td>3.0</td>\n",
       "      <td>...</td>\n",
       "      <td>0.0</td>\n",
       "      <td>0.0</td>\n",
       "      <td>1.0</td>\n",
       "      <td>0.0</td>\n",
       "      <td>0.0</td>\n",
       "      <td>0.0</td>\n",
       "      <td>0.0</td>\n",
       "      <td>0.0</td>\n",
       "      <td>0.0</td>\n",
       "      <td>73.6</td>\n",
       "    </tr>\n",
       "    <tr>\n",
       "      <th>3</th>\n",
       "      <td>2017-12-10</td>\n",
       "      <td>4.0</td>\n",
       "      <td>7.0</td>\n",
       "      <td>0.0</td>\n",
       "      <td>2.0</td>\n",
       "      <td>2.0</td>\n",
       "      <td>0.0</td>\n",
       "      <td>0.0</td>\n",
       "      <td>NaN</td>\n",
       "      <td>NaN</td>\n",
       "      <td>...</td>\n",
       "      <td>1.0</td>\n",
       "      <td>0.0</td>\n",
       "      <td>1.0</td>\n",
       "      <td>0.0</td>\n",
       "      <td>0.0</td>\n",
       "      <td>0.0</td>\n",
       "      <td>0.0</td>\n",
       "      <td>0.0</td>\n",
       "      <td>0.0</td>\n",
       "      <td>73.6</td>\n",
       "    </tr>\n",
       "    <tr>\n",
       "      <th>4</th>\n",
       "      <td>2017-12-12</td>\n",
       "      <td>3.0</td>\n",
       "      <td>1.0</td>\n",
       "      <td>3.0</td>\n",
       "      <td>2.0</td>\n",
       "      <td>4.0</td>\n",
       "      <td>1.0</td>\n",
       "      <td>1.0</td>\n",
       "      <td>1.0</td>\n",
       "      <td>1.0</td>\n",
       "      <td>...</td>\n",
       "      <td>0.0</td>\n",
       "      <td>1.0</td>\n",
       "      <td>1.0</td>\n",
       "      <td>0.0</td>\n",
       "      <td>0.0</td>\n",
       "      <td>0.0</td>\n",
       "      <td>0.0</td>\n",
       "      <td>0.0</td>\n",
       "      <td>0.0</td>\n",
       "      <td>73.4</td>\n",
       "    </tr>\n",
       "  </tbody>\n",
       "</table>\n",
       "<p>5 rows × 29 columns</p>\n",
       "</div>"
      ],
      "text/plain": [
       "         Date  Ross  Chandler  BT1  BT2  BT3  BT4  BT5  GR1  GR2  ...  \\\n",
       "0  2017-12-05   3.0       0.0  4.0  3.0  0.0  2.0  2.0  1.0  1.0  ...   \n",
       "1  2017-12-07   4.0       5.0  2.0  2.0  5.0  3.0  5.0  0.0  0.0  ...   \n",
       "2  2017-12-09   NaN       NaN  NaN  NaN  NaN  NaN  NaN  1.0  3.0  ...   \n",
       "3  2017-12-10   4.0       7.0  0.0  2.0  2.0  0.0  0.0  NaN  NaN  ...   \n",
       "4  2017-12-12   3.0       1.0  3.0  2.0  4.0  1.0  1.0  1.0  1.0  ...   \n",
       "\n",
       "   Sardine  Mazuri_Vitamins  Garlic  Salmon  Bonito  Bluefish  Mahi  \\\n",
       "0      0.0              1.0     1.0     0.0     0.0       0.0   0.0   \n",
       "1      0.0              1.0     1.0     0.0     0.0       0.0   0.0   \n",
       "2      0.0              0.0     1.0     0.0     0.0       0.0   0.0   \n",
       "3      1.0              0.0     1.0     0.0     0.0       0.0   0.0   \n",
       "4      0.0              1.0     1.0     0.0     0.0       0.0   0.0   \n",
       "\n",
       "   Goggle_Eye  Humbolt_Squid  Temperature  \n",
       "0         0.0            0.0         73.2  \n",
       "1         0.0            0.0         73.2  \n",
       "2         0.0            0.0         73.6  \n",
       "3         0.0            0.0         73.6  \n",
       "4         0.0            0.0         73.4  \n",
       "\n",
       "[5 rows x 29 columns]"
      ]
     },
     "execution_count": 966,
     "metadata": {},
     "output_type": "execute_result"
    }
   ],
   "source": [
    "# combine Target data\n",
    "targets_concat1 = pd.concat([targets,dummy_factors], axis = 1)\n",
    "targets_concat = pd.concat([targets_concat1, other_factors[\"Temperature\"]], axis = 1)\n",
    "targets_concat.head()"
   ]
  },
  {
   "cell_type": "code",
   "execution_count": 967,
   "metadata": {},
   "outputs": [],
   "source": [
    "# Add target variable for Covid shut down\n",
    "start_date = pd.to_datetime('03-14-2020')\n",
    "end_date = pd.to_datetime('05-09-2020')\n",
    "conditions = [ (targets_concat['Date'] >= start_date) & (targets_concat['Date'] <= end_date),\n",
    "              (targets_concat['Date'] < start_date) | (targets_concat['Date'] > end_date)]\n",
    "values = [1, 0]\n",
    "targets_concat[\"covid\"] = np.select(conditions, values)"
   ]
  },
  {
   "cell_type": "code",
   "execution_count": 968,
   "metadata": {},
   "outputs": [],
   "source": [
    "# Add target variable for light training\n",
    "light_start = pd.to_datetime('02-15-2018')\n",
    "conditions_light = [ (targets_concat['Date'] >= light_start), (targets_concat['Date'] < light_start)]\n",
    "values_light = [1, 0]\n",
    "targets_concat[\"light_training\"] = np.select(conditions_light, values_light)"
   ]
  },
  {
   "cell_type": "code",
   "execution_count": 969,
   "metadata": {},
   "outputs": [
    {
     "data": {
      "text/html": [
       "<div>\n",
       "<style scoped>\n",
       "    .dataframe tbody tr th:only-of-type {\n",
       "        vertical-align: middle;\n",
       "    }\n",
       "\n",
       "    .dataframe tbody tr th {\n",
       "        vertical-align: top;\n",
       "    }\n",
       "\n",
       "    .dataframe thead th {\n",
       "        text-align: right;\n",
       "    }\n",
       "</style>\n",
       "<table border=\"1\" class=\"dataframe\">\n",
       "  <thead>\n",
       "    <tr style=\"text-align: right;\">\n",
       "      <th></th>\n",
       "      <th>Date</th>\n",
       "      <th>Ross</th>\n",
       "      <th>Chandler</th>\n",
       "      <th>BT1</th>\n",
       "      <th>BT2</th>\n",
       "      <th>BT3</th>\n",
       "      <th>BT4</th>\n",
       "      <th>BT5</th>\n",
       "      <th>GR1</th>\n",
       "      <th>GR2</th>\n",
       "      <th>...</th>\n",
       "      <th>Salmon</th>\n",
       "      <th>Bonito</th>\n",
       "      <th>Bluefish</th>\n",
       "      <th>Mahi</th>\n",
       "      <th>Goggle_Eye</th>\n",
       "      <th>Humbolt_Squid</th>\n",
       "      <th>Temperature</th>\n",
       "      <th>covid</th>\n",
       "      <th>light_training</th>\n",
       "      <th>GroupFeed</th>\n",
       "    </tr>\n",
       "  </thead>\n",
       "  <tbody>\n",
       "    <tr>\n",
       "      <th>0</th>\n",
       "      <td>2017-12-05</td>\n",
       "      <td>3.0</td>\n",
       "      <td>0.0</td>\n",
       "      <td>4.0</td>\n",
       "      <td>3.0</td>\n",
       "      <td>0.0</td>\n",
       "      <td>2.0</td>\n",
       "      <td>2.0</td>\n",
       "      <td>1.0</td>\n",
       "      <td>1.0</td>\n",
       "      <td>...</td>\n",
       "      <td>0.0</td>\n",
       "      <td>0.0</td>\n",
       "      <td>0.0</td>\n",
       "      <td>0.0</td>\n",
       "      <td>0.0</td>\n",
       "      <td>0.0</td>\n",
       "      <td>73.2</td>\n",
       "      <td>0</td>\n",
       "      <td>0</td>\n",
       "      <td>1</td>\n",
       "    </tr>\n",
       "    <tr>\n",
       "      <th>1</th>\n",
       "      <td>2017-12-07</td>\n",
       "      <td>4.0</td>\n",
       "      <td>5.0</td>\n",
       "      <td>2.0</td>\n",
       "      <td>2.0</td>\n",
       "      <td>5.0</td>\n",
       "      <td>3.0</td>\n",
       "      <td>5.0</td>\n",
       "      <td>0.0</td>\n",
       "      <td>0.0</td>\n",
       "      <td>...</td>\n",
       "      <td>0.0</td>\n",
       "      <td>0.0</td>\n",
       "      <td>0.0</td>\n",
       "      <td>0.0</td>\n",
       "      <td>0.0</td>\n",
       "      <td>0.0</td>\n",
       "      <td>73.2</td>\n",
       "      <td>0</td>\n",
       "      <td>0</td>\n",
       "      <td>1</td>\n",
       "    </tr>\n",
       "    <tr>\n",
       "      <th>2</th>\n",
       "      <td>2017-12-09</td>\n",
       "      <td>NaN</td>\n",
       "      <td>NaN</td>\n",
       "      <td>NaN</td>\n",
       "      <td>NaN</td>\n",
       "      <td>NaN</td>\n",
       "      <td>NaN</td>\n",
       "      <td>NaN</td>\n",
       "      <td>1.0</td>\n",
       "      <td>3.0</td>\n",
       "      <td>...</td>\n",
       "      <td>0.0</td>\n",
       "      <td>0.0</td>\n",
       "      <td>0.0</td>\n",
       "      <td>0.0</td>\n",
       "      <td>0.0</td>\n",
       "      <td>0.0</td>\n",
       "      <td>73.6</td>\n",
       "      <td>0</td>\n",
       "      <td>0</td>\n",
       "      <td>0</td>\n",
       "    </tr>\n",
       "    <tr>\n",
       "      <th>3</th>\n",
       "      <td>2017-12-10</td>\n",
       "      <td>4.0</td>\n",
       "      <td>7.0</td>\n",
       "      <td>0.0</td>\n",
       "      <td>2.0</td>\n",
       "      <td>2.0</td>\n",
       "      <td>0.0</td>\n",
       "      <td>0.0</td>\n",
       "      <td>NaN</td>\n",
       "      <td>NaN</td>\n",
       "      <td>...</td>\n",
       "      <td>0.0</td>\n",
       "      <td>0.0</td>\n",
       "      <td>0.0</td>\n",
       "      <td>0.0</td>\n",
       "      <td>0.0</td>\n",
       "      <td>0.0</td>\n",
       "      <td>73.6</td>\n",
       "      <td>0</td>\n",
       "      <td>0</td>\n",
       "      <td>0</td>\n",
       "    </tr>\n",
       "    <tr>\n",
       "      <th>4</th>\n",
       "      <td>2017-12-12</td>\n",
       "      <td>3.0</td>\n",
       "      <td>1.0</td>\n",
       "      <td>3.0</td>\n",
       "      <td>2.0</td>\n",
       "      <td>4.0</td>\n",
       "      <td>1.0</td>\n",
       "      <td>1.0</td>\n",
       "      <td>1.0</td>\n",
       "      <td>1.0</td>\n",
       "      <td>...</td>\n",
       "      <td>0.0</td>\n",
       "      <td>0.0</td>\n",
       "      <td>0.0</td>\n",
       "      <td>0.0</td>\n",
       "      <td>0.0</td>\n",
       "      <td>0.0</td>\n",
       "      <td>73.4</td>\n",
       "      <td>0</td>\n",
       "      <td>0</td>\n",
       "      <td>1</td>\n",
       "    </tr>\n",
       "  </tbody>\n",
       "</table>\n",
       "<p>5 rows × 32 columns</p>\n",
       "</div>"
      ],
      "text/plain": [
       "         Date  Ross  Chandler  BT1  BT2  BT3  BT4  BT5  GR1  GR2  ...  Salmon  \\\n",
       "0  2017-12-05   3.0       0.0  4.0  3.0  0.0  2.0  2.0  1.0  1.0  ...     0.0   \n",
       "1  2017-12-07   4.0       5.0  2.0  2.0  5.0  3.0  5.0  0.0  0.0  ...     0.0   \n",
       "2  2017-12-09   NaN       NaN  NaN  NaN  NaN  NaN  NaN  1.0  3.0  ...     0.0   \n",
       "3  2017-12-10   4.0       7.0  0.0  2.0  2.0  0.0  0.0  NaN  NaN  ...     0.0   \n",
       "4  2017-12-12   3.0       1.0  3.0  2.0  4.0  1.0  1.0  1.0  1.0  ...     0.0   \n",
       "\n",
       "   Bonito  Bluefish  Mahi  Goggle_Eye  Humbolt_Squid  Temperature  covid  \\\n",
       "0     0.0       0.0   0.0         0.0            0.0         73.2      0   \n",
       "1     0.0       0.0   0.0         0.0            0.0         73.2      0   \n",
       "2     0.0       0.0   0.0         0.0            0.0         73.6      0   \n",
       "3     0.0       0.0   0.0         0.0            0.0         73.6      0   \n",
       "4     0.0       0.0   0.0         0.0            0.0         73.4      0   \n",
       "\n",
       "   light_training  GroupFeed  \n",
       "0               0          1  \n",
       "1               0          1  \n",
       "2               0          0  \n",
       "3               0          0  \n",
       "4               0          1  \n",
       "\n",
       "[5 rows x 32 columns]"
      ]
     },
     "execution_count": 969,
     "metadata": {},
     "output_type": "execute_result"
    }
   ],
   "source": [
    "# Add group feed variable to eat, drop, and target datasets\n",
    "GroupFeed = []\n",
    "for row in drops.index:\n",
    "    if drops.iloc[row,:].isna().sum() > 0:\n",
    "        GroupFeed.append(0)\n",
    "    else:\n",
    "        GroupFeed.append(1)\n",
    "GroupFeed\n",
    "\n",
    "eat_concat[\"GroupFeed\"] = GroupFeed\n",
    "drops_concat[\"GroupFeed\"] = GroupFeed\n",
    "targets_concat[\"GroupFeed\"] = GroupFeed\n",
    "targets_concat.head()"
   ]
  },
  {
   "cell_type": "code",
   "execution_count": 970,
   "metadata": {},
   "outputs": [],
   "source": [
    "# add column to dataset that indicates whether targets were being varied or not\n",
    "varied_start1 = pd.to_datetime('04-01-2018')\n",
    "varied_stop = pd.to_datetime('05-12-2018')\n",
    "varied_start2 = pd.to_datetime('07-26-2018')\n",
    "\n",
    "eat_concat[\"Varied_Target\"] = [1 if (varied_start1 <= ele <= varied_stop) | (ele >= varied_start2)  else 0 for ele in eat_concat[\"Date\"]]\n",
    "drops_concat[\"Varied_Target\"] = [1 if (varied_start1 <= ele <= varied_stop) | (ele >= varied_start2)  else 0 for ele in drops_concat[\"Date\"]]\n",
    "targets_concat[\"Varied_Target\"] = [1 if (varied_start1 <= ele <= varied_stop) | (ele >= varied_start2)  else 0 for ele in targets_concat[\"Date\"]]"
   ]
  },
  {
   "cell_type": "markdown",
   "metadata": {},
   "source": [
    "# Subset Creation"
   ]
  },
  {
   "cell_type": "code",
   "execution_count": 971,
   "metadata": {},
   "outputs": [],
   "source": [
    "\n",
    "# All SS Subset\n",
    "All_SS = eat_concat[['Ross', 'Chandler']]\n",
    "\n",
    "# All BT Subset\n",
    "All_BT = eat_concat[['BT1', 'BT2', 'BT3', 'BT4', 'BT5']]\n",
    "\n",
    "# All GR Subset\n",
    "All_GR = eat_concat[['GR1', 'GR2', 'GR3', 'GR4', 'GR5']]\n",
    "\n",
    "# Male Subset\n",
    "Male = eat_concat[[\"BT1\",\"BT5\",\"GR1\",\"Ross\",\"Chandler\"]]\n",
    "\n",
    "# Female Subset\n",
    "female = eat_concat[[\"BT2\",\"BT3\",\"BT4\",\"GR2\",\"GR3\",\"GR4\",\"GR5\"]]\n",
    "\n",
    "# Append all subsets to original datasets\n",
    "# eat dataset\n",
    "eat_concat[\"All_GR\"] = eat['GR1'] + eat['GR2'] + eat['GR3'] + eat['GR4'] + eat['GR5']\n",
    "eat_concat[\"All_BT\"] = eat['BT1'] + eat['BT2'] + eat['BT3'] + eat['BT4'] + eat['BT5']\n",
    "eat_concat[\"All_SS\"] = eat['Ross'] + eat['Chandler']\n",
    "eat_concat[\"male\"] = eat[[\"BT1\",\"BT5\",\"GR1\",\"Ross\",\"Chandler\"]].sum(axis = 1)\n",
    "eat_concat[\"female\"] = eat[[\"BT2\",\"BT3\",\"BT4\",\"GR2\",\"GR3\",\"GR4\",\"GR5\"]].sum(axis = 1)\n",
    "\n",
    "# drop dataset\n",
    "drops_concat[\"All_GR\"] = drops['GR1'] + drops['GR2'] + drops['GR3'] + drops['GR4'] + drops['GR5']\n",
    "drops_concat[\"All_BT\"] = drops['BT1'] + drops['BT2'] + drops['BT3'] + drops['BT4'] + drops['BT5']\n",
    "drops_concat[\"All_SS\"] = drops['Ross'] + drops['Chandler']\n",
    "drops_concat[\"male\"] = drops[[\"BT1\",\"BT5\",\"GR1\",\"Ross\",\"Chandler\"]].sum(axis = 1)\n",
    "drops_concat[\"female\"] = drops[[\"BT2\",\"BT3\",\"BT4\",\"GR2\",\"GR3\",\"GR4\",\"GR5\"]].sum(axis = 1)\n",
    "\n",
    "# target dataset\n",
    "targets_concat[\"All_GR\"] = targets['GR1'] + targets['GR2'] + targets['GR3'] + targets['GR4'] + targets['GR5']\n",
    "targets_concat[\"All_BT\"] = targets['BT1'] + targets['BT2'] + targets['BT3'] + targets['BT4'] + targets['BT5']\n",
    "targets_concat[\"All_SS\"] = targets['Ross'] + targets['Chandler']\n",
    "targets_concat[\"male\"] = targets[[\"BT1\",\"BT5\",\"GR1\",\"Ross\",\"Chandler\"]].sum(axis = 1)\n",
    "targets_concat[\"female\"] = targets[[\"BT2\",\"BT3\",\"BT4\",\"GR2\",\"GR3\",\"GR4\",\"GR5\"]].sum(axis = 1)\n"
   ]
  },
  {
   "cell_type": "markdown",
   "metadata": {},
   "source": [
    "# Create Tables for Poisson Regression Time Series For Pieces Eaten For All Sharks"
   ]
  },
  {
   "cell_type": "code",
   "execution_count": 972,
   "metadata": {},
   "outputs": [
    {
     "data": {
      "text/html": [
       "<div>\n",
       "<style scoped>\n",
       "    .dataframe tbody tr th:only-of-type {\n",
       "        vertical-align: middle;\n",
       "    }\n",
       "\n",
       "    .dataframe tbody tr th {\n",
       "        vertical-align: top;\n",
       "    }\n",
       "\n",
       "    .dataframe thead th {\n",
       "        text-align: right;\n",
       "    }\n",
       "</style>\n",
       "<table border=\"1\" class=\"dataframe\">\n",
       "  <thead>\n",
       "    <tr style=\"text-align: right;\">\n",
       "      <th></th>\n",
       "      <th>Date</th>\n",
       "      <th>Ross</th>\n",
       "      <th>Chandler</th>\n",
       "      <th>BT1</th>\n",
       "      <th>BT2</th>\n",
       "      <th>BT3</th>\n",
       "      <th>BT4</th>\n",
       "      <th>BT5</th>\n",
       "      <th>GR1</th>\n",
       "      <th>GR2</th>\n",
       "      <th>...</th>\n",
       "      <th>GroupFeed</th>\n",
       "      <th>Varied_Target</th>\n",
       "      <th>All_GR</th>\n",
       "      <th>All_BT</th>\n",
       "      <th>All_SS</th>\n",
       "      <th>male</th>\n",
       "      <th>female</th>\n",
       "      <th>Day_of_week</th>\n",
       "      <th>Month</th>\n",
       "      <th>Day</th>\n",
       "    </tr>\n",
       "  </thead>\n",
       "  <tbody>\n",
       "    <tr>\n",
       "      <th>0</th>\n",
       "      <td>2017-12-05</td>\n",
       "      <td>0.0</td>\n",
       "      <td>5.0</td>\n",
       "      <td>3.0</td>\n",
       "      <td>6.0</td>\n",
       "      <td>5.0</td>\n",
       "      <td>4.0</td>\n",
       "      <td>4.0</td>\n",
       "      <td>0.0</td>\n",
       "      <td>0.0</td>\n",
       "      <td>...</td>\n",
       "      <td>1</td>\n",
       "      <td>0</td>\n",
       "      <td>6.0</td>\n",
       "      <td>22.0</td>\n",
       "      <td>5.0</td>\n",
       "      <td>12.0</td>\n",
       "      <td>21.0</td>\n",
       "      <td>1</td>\n",
       "      <td>12</td>\n",
       "      <td>5</td>\n",
       "    </tr>\n",
       "    <tr>\n",
       "      <th>1</th>\n",
       "      <td>2017-12-07</td>\n",
       "      <td>1.0</td>\n",
       "      <td>0.0</td>\n",
       "      <td>0.0</td>\n",
       "      <td>2.0</td>\n",
       "      <td>0.0</td>\n",
       "      <td>0.0</td>\n",
       "      <td>0.0</td>\n",
       "      <td>0.0</td>\n",
       "      <td>0.0</td>\n",
       "      <td>...</td>\n",
       "      <td>1</td>\n",
       "      <td>0</td>\n",
       "      <td>0.0</td>\n",
       "      <td>2.0</td>\n",
       "      <td>1.0</td>\n",
       "      <td>1.0</td>\n",
       "      <td>2.0</td>\n",
       "      <td>3</td>\n",
       "      <td>12</td>\n",
       "      <td>7</td>\n",
       "    </tr>\n",
       "    <tr>\n",
       "      <th>2</th>\n",
       "      <td>2017-12-09</td>\n",
       "      <td>NaN</td>\n",
       "      <td>NaN</td>\n",
       "      <td>NaN</td>\n",
       "      <td>NaN</td>\n",
       "      <td>NaN</td>\n",
       "      <td>NaN</td>\n",
       "      <td>NaN</td>\n",
       "      <td>2.0</td>\n",
       "      <td>0.0</td>\n",
       "      <td>...</td>\n",
       "      <td>0</td>\n",
       "      <td>0</td>\n",
       "      <td>6.0</td>\n",
       "      <td>NaN</td>\n",
       "      <td>NaN</td>\n",
       "      <td>2.0</td>\n",
       "      <td>4.0</td>\n",
       "      <td>5</td>\n",
       "      <td>12</td>\n",
       "      <td>9</td>\n",
       "    </tr>\n",
       "    <tr>\n",
       "      <th>3</th>\n",
       "      <td>2017-12-10</td>\n",
       "      <td>5.0</td>\n",
       "      <td>1.0</td>\n",
       "      <td>1.0</td>\n",
       "      <td>3.0</td>\n",
       "      <td>2.0</td>\n",
       "      <td>2.0</td>\n",
       "      <td>0.0</td>\n",
       "      <td>NaN</td>\n",
       "      <td>NaN</td>\n",
       "      <td>...</td>\n",
       "      <td>0</td>\n",
       "      <td>0</td>\n",
       "      <td>NaN</td>\n",
       "      <td>8.0</td>\n",
       "      <td>6.0</td>\n",
       "      <td>7.0</td>\n",
       "      <td>7.0</td>\n",
       "      <td>6</td>\n",
       "      <td>12</td>\n",
       "      <td>10</td>\n",
       "    </tr>\n",
       "    <tr>\n",
       "      <th>4</th>\n",
       "      <td>2017-12-12</td>\n",
       "      <td>2.0</td>\n",
       "      <td>2.0</td>\n",
       "      <td>0.0</td>\n",
       "      <td>5.0</td>\n",
       "      <td>2.0</td>\n",
       "      <td>4.0</td>\n",
       "      <td>5.0</td>\n",
       "      <td>0.0</td>\n",
       "      <td>2.0</td>\n",
       "      <td>...</td>\n",
       "      <td>1</td>\n",
       "      <td>0</td>\n",
       "      <td>7.0</td>\n",
       "      <td>16.0</td>\n",
       "      <td>4.0</td>\n",
       "      <td>9.0</td>\n",
       "      <td>18.0</td>\n",
       "      <td>1</td>\n",
       "      <td>12</td>\n",
       "      <td>12</td>\n",
       "    </tr>\n",
       "  </tbody>\n",
       "</table>\n",
       "<p>5 rows × 42 columns</p>\n",
       "</div>"
      ],
      "text/plain": [
       "        Date  Ross  Chandler  BT1  BT2  BT3  BT4  BT5  GR1  GR2  ...  \\\n",
       "0 2017-12-05   0.0       5.0  3.0  6.0  5.0  4.0  4.0  0.0  0.0  ...   \n",
       "1 2017-12-07   1.0       0.0  0.0  2.0  0.0  0.0  0.0  0.0  0.0  ...   \n",
       "2 2017-12-09   NaN       NaN  NaN  NaN  NaN  NaN  NaN  2.0  0.0  ...   \n",
       "3 2017-12-10   5.0       1.0  1.0  3.0  2.0  2.0  0.0  NaN  NaN  ...   \n",
       "4 2017-12-12   2.0       2.0  0.0  5.0  2.0  4.0  5.0  0.0  2.0  ...   \n",
       "\n",
       "   GroupFeed  Varied_Target  All_GR  All_BT All_SS  male  female  Day_of_week  \\\n",
       "0          1              0     6.0    22.0    5.0  12.0    21.0            1   \n",
       "1          1              0     0.0     2.0    1.0   1.0     2.0            3   \n",
       "2          0              0     6.0     NaN    NaN   2.0     4.0            5   \n",
       "3          0              0     NaN     8.0    6.0   7.0     7.0            6   \n",
       "4          1              0     7.0    16.0    4.0   9.0    18.0            1   \n",
       "\n",
       "   Month  Day  \n",
       "0     12    5  \n",
       "1     12    7  \n",
       "2     12    9  \n",
       "3     12   10  \n",
       "4     12   12  \n",
       "\n",
       "[5 rows x 42 columns]"
      ]
     },
     "execution_count": 972,
     "metadata": {},
     "output_type": "execute_result"
    }
   ],
   "source": [
    "# create additional time variables for eating\n",
    "eat_concat['Date'] = pd.to_datetime(eat_concat['Date'])\n",
    "eat_concat['Day_of_week'] = pd.to_datetime(eat_concat['Date']).dt.dayofweek\n",
    "eat_concat['Month'] = pd.to_datetime(eat_concat['Date']).dt.month\n",
    "eat_concat['Day'] = pd.to_datetime(eat_concat['Date']).dt.day\n",
    "eat_concat.head()"
   ]
  },
  {
   "cell_type": "code",
   "execution_count": 973,
   "metadata": {},
   "outputs": [
    {
     "name": "stdout",
     "output_type": "stream",
     "text": [
      "Training data set length=466\n",
      "Testing data set length=116\n"
     ]
    }
   ],
   "source": [
    "# Create training and testing datasets\n",
    "np.random.seed(25)\n",
    "mask = np.random.rand(len(eat_concat)) < 0.8\n",
    "eat_train = eat_concat[mask]\n",
    "eat_test = eat_concat[~mask]\n",
    "print('Training data set length='+str(len(eat_train)))\n",
    "print('Testing data set length='+str(len(eat_test)))"
   ]
  },
  {
   "cell_type": "code",
   "execution_count": 974,
   "metadata": {},
   "outputs": [],
   "source": [
    "# setup Poisson regression expression\n",
    "expr = \"\"\"Total ~ Day_of_week + Temperature + Saury + Blue_Runner + Mackerel + Herring + Sardine + Garlic + Bluefish + \n",
    "covid + light_training + GroupFeed + Varied_Target\"\"\""
   ]
  },
  {
   "cell_type": "code",
   "execution_count": 975,
   "metadata": {},
   "outputs": [],
   "source": [
    "# setup Poisson regression expression\n",
    "#expr = \"\"\"Total ~ Day_of_week + Month + Day + Temperature + Saury + Blue_Runner + Mackerel + Sardine + Mazuri_Vitamins + Garlic + Salmon + Bonito + Bluefish + Humbolt_Squid + covid + light_training + GroupFeed + Varied_Target\"\"\""
   ]
  },
  {
   "cell_type": "code",
   "execution_count": 976,
   "metadata": {},
   "outputs": [],
   "source": [
    "y_train, X_train = dmatrices(expr, eat_train, return_type='dataframe')\n",
    "y_test, X_test = dmatrices(expr, eat_test, return_type='dataframe')"
   ]
  },
  {
   "cell_type": "code",
   "execution_count": 977,
   "metadata": {},
   "outputs": [
    {
     "name": "stdout",
     "output_type": "stream",
     "text": [
      "                 Generalized Linear Model Regression Results                  \n",
      "==============================================================================\n",
      "Dep. Variable:                  Total   No. Observations:                  466\n",
      "Model:                            GLM   Df Residuals:                      452\n",
      "Model Family:                 Poisson   Df Model:                           13\n",
      "Link Function:                    log   Scale:                          1.0000\n",
      "Method:                          IRLS   Log-Likelihood:                -1693.2\n",
      "Date:                Wed, 09 Dec 2020   Deviance:                       1198.6\n",
      "Time:                        00:20:01   Pearson chi2:                 1.08e+03\n",
      "No. Iterations:                     4                                         \n",
      "Covariance Type:            nonrobust                                         \n",
      "==================================================================================\n",
      "                     coef    std err          z      P>|z|      [0.025      0.975]\n",
      "----------------------------------------------------------------------------------\n",
      "Intercept         -0.5852      0.560     -1.045      0.296      -1.683       0.512\n",
      "Day_of_week        0.0366      0.020      1.820      0.069      -0.003       0.076\n",
      "Temperature        0.0317      0.008      4.218      0.000       0.017       0.046\n",
      "Saury              0.4683      0.067      6.990      0.000       0.337       0.600\n",
      "Blue_Runner        0.3643      0.066      5.515      0.000       0.235       0.494\n",
      "Mackerel           0.2396      0.054      4.418      0.000       0.133       0.346\n",
      "Herring            0.1236      0.057      2.186      0.029       0.013       0.234\n",
      "Sardine            0.2176      0.052      4.166      0.000       0.115       0.320\n",
      "Garlic             0.1772      0.030      5.938      0.000       0.119       0.236\n",
      "Bluefish          -0.1908      0.104     -1.834      0.067      -0.395       0.013\n",
      "covid             -0.0847      0.053     -1.612      0.107      -0.188       0.018\n",
      "light_training     0.1442      0.056      2.571      0.010       0.034       0.254\n",
      "GroupFeed          0.5769      0.071      8.083      0.000       0.437       0.717\n",
      "Varied_Target      0.1884      0.036      5.298      0.000       0.119       0.258\n",
      "==================================================================================\n"
     ]
    }
   ],
   "source": [
    "# Fit model and print results of model\n",
    "poisson_training_results = sm.GLM(y_train, X_train, family=sm.families.Poisson()).fit()\n",
    "print(poisson_training_results.summary())"
   ]
  },
  {
   "cell_type": "code",
   "execution_count": 978,
   "metadata": {},
   "outputs": [
    {
     "name": "stdout",
     "output_type": "stream",
     "text": [
      "          mean   mean_se  mean_ci_lower  mean_ci_upper\n",
      "0    19.903591  0.900473      18.214683      21.749098\n",
      "19   13.786898  0.665549      12.542255      15.155054\n",
      "23   13.613429  0.653581      12.390856      14.956630\n",
      "31   11.187867  0.617289      10.041126      12.465572\n",
      "38    7.824930  0.409110       7.062804       8.669295\n",
      "..         ...       ...            ...            ...\n",
      "564  20.877558  0.589621      19.753325      22.065775\n",
      "571  11.264127  0.359444      10.581208      11.991122\n",
      "577  29.949879  0.588476      28.818415      31.125767\n",
      "578  29.038368  0.614533      27.858544      30.268159\n",
      "581  29.760866  0.572993      28.658745      30.905371\n",
      "\n",
      "[116 rows x 4 columns]\n"
     ]
    }
   ],
   "source": [
    "poisson_predictions = poisson_training_results.get_prediction(X_test)\n",
    " \n",
    "#.summary_frame() returns a pandas DataFrame\n",
    "predictions_summary_frame = poisson_predictions.summary_frame()\n",
    "print(predictions_summary_frame)"
   ]
  },
  {
   "cell_type": "code",
   "execution_count": 979,
   "metadata": {},
   "outputs": [
    {
     "data": {
      "image/png": "[encoded data removed]",
      "text/plain": [
       "<Figure size 432x288 with 1 Axes>"
      ]
     },
     "metadata": {
      "needs_background": "light"
     },
     "output_type": "display_data"
    }
   ],
   "source": [
    "predicted_counts=predictions_summary_frame['mean']\n",
    "actual_counts = y_test['Total']\n",
    " \n",
    "fig = plt.figure()\n",
    "\n",
    " \n",
    "predicted, = plt.plot(X_test.index, predicted_counts, 'go-', label='Predicted counts')\n",
    "actual, = plt.plot(X_test.index, actual_counts, 'ro-', label='Actual counts')\n",
    " \n",
    "plt.legend(handles=[predicted, actual])\n",
    " \n",
    "plt.show()"
   ]
  },
  {
   "cell_type": "markdown",
   "metadata": {},
   "source": [
    "# Poisson Regression for Number of Drops for All Sharks"
   ]
  },
  {
   "cell_type": "code",
   "execution_count": 980,
   "metadata": {},
   "outputs": [
    {
     "data": {
      "text/html": [
       "<div>\n",
       "<style scoped>\n",
       "    .dataframe tbody tr th:only-of-type {\n",
       "        vertical-align: middle;\n",
       "    }\n",
       "\n",
       "    .dataframe tbody tr th {\n",
       "        vertical-align: top;\n",
       "    }\n",
       "\n",
       "    .dataframe thead th {\n",
       "        text-align: right;\n",
       "    }\n",
       "</style>\n",
       "<table border=\"1\" class=\"dataframe\">\n",
       "  <thead>\n",
       "    <tr style=\"text-align: right;\">\n",
       "      <th></th>\n",
       "      <th>Date</th>\n",
       "      <th>Ross</th>\n",
       "      <th>Chandler</th>\n",
       "      <th>BT1</th>\n",
       "      <th>BT2</th>\n",
       "      <th>BT3</th>\n",
       "      <th>BT4</th>\n",
       "      <th>BT5</th>\n",
       "      <th>GR1</th>\n",
       "      <th>GR2</th>\n",
       "      <th>...</th>\n",
       "      <th>GroupFeed</th>\n",
       "      <th>Varied_Target</th>\n",
       "      <th>All_GR</th>\n",
       "      <th>All_BT</th>\n",
       "      <th>All_SS</th>\n",
       "      <th>male</th>\n",
       "      <th>female</th>\n",
       "      <th>Day_of_week</th>\n",
       "      <th>Month</th>\n",
       "      <th>Day</th>\n",
       "    </tr>\n",
       "  </thead>\n",
       "  <tbody>\n",
       "    <tr>\n",
       "      <th>0</th>\n",
       "      <td>2017-12-05</td>\n",
       "      <td>0.0</td>\n",
       "      <td>0.0</td>\n",
       "      <td>0.0</td>\n",
       "      <td>0.0</td>\n",
       "      <td>0.0</td>\n",
       "      <td>1.0</td>\n",
       "      <td>0.0</td>\n",
       "      <td>0.0</td>\n",
       "      <td>0.0</td>\n",
       "      <td>...</td>\n",
       "      <td>1</td>\n",
       "      <td>0</td>\n",
       "      <td>2.0</td>\n",
       "      <td>1.0</td>\n",
       "      <td>0.0</td>\n",
       "      <td>0.0</td>\n",
       "      <td>3.0</td>\n",
       "      <td>1</td>\n",
       "      <td>12</td>\n",
       "      <td>5</td>\n",
       "    </tr>\n",
       "    <tr>\n",
       "      <th>1</th>\n",
       "      <td>2017-12-07</td>\n",
       "      <td>0.0</td>\n",
       "      <td>1.0</td>\n",
       "      <td>1.0</td>\n",
       "      <td>2.0</td>\n",
       "      <td>1.0</td>\n",
       "      <td>1.0</td>\n",
       "      <td>2.0</td>\n",
       "      <td>0.0</td>\n",
       "      <td>0.0</td>\n",
       "      <td>...</td>\n",
       "      <td>1</td>\n",
       "      <td>0</td>\n",
       "      <td>2.0</td>\n",
       "      <td>7.0</td>\n",
       "      <td>1.0</td>\n",
       "      <td>4.0</td>\n",
       "      <td>6.0</td>\n",
       "      <td>3</td>\n",
       "      <td>12</td>\n",
       "      <td>7</td>\n",
       "    </tr>\n",
       "    <tr>\n",
       "      <th>2</th>\n",
       "      <td>2017-12-09</td>\n",
       "      <td>NaN</td>\n",
       "      <td>NaN</td>\n",
       "      <td>NaN</td>\n",
       "      <td>NaN</td>\n",
       "      <td>NaN</td>\n",
       "      <td>NaN</td>\n",
       "      <td>NaN</td>\n",
       "      <td>0.0</td>\n",
       "      <td>1.0</td>\n",
       "      <td>...</td>\n",
       "      <td>0</td>\n",
       "      <td>0</td>\n",
       "      <td>1.0</td>\n",
       "      <td>NaN</td>\n",
       "      <td>NaN</td>\n",
       "      <td>0.0</td>\n",
       "      <td>1.0</td>\n",
       "      <td>5</td>\n",
       "      <td>12</td>\n",
       "      <td>9</td>\n",
       "    </tr>\n",
       "    <tr>\n",
       "      <th>3</th>\n",
       "      <td>2017-12-10</td>\n",
       "      <td>0.0</td>\n",
       "      <td>0.0</td>\n",
       "      <td>0.0</td>\n",
       "      <td>0.0</td>\n",
       "      <td>0.0</td>\n",
       "      <td>0.0</td>\n",
       "      <td>1.0</td>\n",
       "      <td>NaN</td>\n",
       "      <td>NaN</td>\n",
       "      <td>...</td>\n",
       "      <td>0</td>\n",
       "      <td>0</td>\n",
       "      <td>NaN</td>\n",
       "      <td>1.0</td>\n",
       "      <td>0.0</td>\n",
       "      <td>1.0</td>\n",
       "      <td>0.0</td>\n",
       "      <td>6</td>\n",
       "      <td>12</td>\n",
       "      <td>10</td>\n",
       "    </tr>\n",
       "    <tr>\n",
       "      <th>4</th>\n",
       "      <td>2017-12-12</td>\n",
       "      <td>0.0</td>\n",
       "      <td>0.0</td>\n",
       "      <td>0.0</td>\n",
       "      <td>0.0</td>\n",
       "      <td>2.0</td>\n",
       "      <td>0.0</td>\n",
       "      <td>0.0</td>\n",
       "      <td>0.0</td>\n",
       "      <td>0.0</td>\n",
       "      <td>...</td>\n",
       "      <td>1</td>\n",
       "      <td>0</td>\n",
       "      <td>1.0</td>\n",
       "      <td>2.0</td>\n",
       "      <td>0.0</td>\n",
       "      <td>0.0</td>\n",
       "      <td>3.0</td>\n",
       "      <td>1</td>\n",
       "      <td>12</td>\n",
       "      <td>12</td>\n",
       "    </tr>\n",
       "  </tbody>\n",
       "</table>\n",
       "<p>5 rows × 41 columns</p>\n",
       "</div>"
      ],
      "text/plain": [
       "        Date  Ross  Chandler  BT1  BT2  BT3  BT4  BT5  GR1  GR2  ...  \\\n",
       "0 2017-12-05   0.0       0.0  0.0  0.0  0.0  1.0  0.0  0.0  0.0  ...   \n",
       "1 2017-12-07   0.0       1.0  1.0  2.0  1.0  1.0  2.0  0.0  0.0  ...   \n",
       "2 2017-12-09   NaN       NaN  NaN  NaN  NaN  NaN  NaN  0.0  1.0  ...   \n",
       "3 2017-12-10   0.0       0.0  0.0  0.0  0.0  0.0  1.0  NaN  NaN  ...   \n",
       "4 2017-12-12   0.0       0.0  0.0  0.0  2.0  0.0  0.0  0.0  0.0  ...   \n",
       "\n",
       "   GroupFeed  Varied_Target  All_GR  All_BT  All_SS  male  female  \\\n",
       "0          1              0     2.0     1.0     0.0   0.0     3.0   \n",
       "1          1              0     2.0     7.0     1.0   4.0     6.0   \n",
       "2          0              0     1.0     NaN     NaN   0.0     1.0   \n",
       "3          0              0     NaN     1.0     0.0   1.0     0.0   \n",
       "4          1              0     1.0     2.0     0.0   0.0     3.0   \n",
       "\n",
       "   Day_of_week  Month  Day  \n",
       "0            1     12    5  \n",
       "1            3     12    7  \n",
       "2            5     12    9  \n",
       "3            6     12   10  \n",
       "4            1     12   12  \n",
       "\n",
       "[5 rows x 41 columns]"
      ]
     },
     "execution_count": 980,
     "metadata": {},
     "output_type": "execute_result"
    }
   ],
   "source": [
    "# create additional time variables for dropping\n",
    "drops_concat['Date'] = pd.to_datetime(drops_concat['Date'])\n",
    "drops_concat['Day_of_week'] = pd.to_datetime(drops_concat['Date']).dt.dayofweek\n",
    "drops_concat['Month'] = pd.to_datetime(drops_concat['Date']).dt.month\n",
    "drops_concat['Day'] = pd.to_datetime(drops_concat['Date']).dt.day\n",
    "drops_concat.head()"
   ]
  },
  {
   "cell_type": "code",
   "execution_count": 981,
   "metadata": {},
   "outputs": [
    {
     "name": "stdout",
     "output_type": "stream",
     "text": [
      "Training data set length=466\n",
      "Testing data set length=116\n"
     ]
    }
   ],
   "source": [
    "# Create training and testing datasets\n",
    "np.random.seed(25)\n",
    "mask = np.random.rand(len(drops_concat)) < 0.8\n",
    "drops_train = drops_concat[mask]\n",
    "drops_test = drops_concat[~mask]\n",
    "print('Training data set length='+str(len(drops_train)))\n",
    "print('Testing data set length='+str(len(drops_test)))"
   ]
  },
  {
   "cell_type": "code",
   "execution_count": 982,
   "metadata": {},
   "outputs": [],
   "source": [
    "# setup Poisson regression expression\n",
    "expr = \"\"\"Total ~ Blue_Runner + Squid + Mackerel + Herring + Salmon + Mahi + Temperature +\n",
    "covid + light_training + GroupFeed + Month + Day\"\"\""
   ]
  },
  {
   "cell_type": "code",
   "execution_count": 983,
   "metadata": {},
   "outputs": [],
   "source": [
    "y_train, X_train = dmatrices(expr, drops_train, return_type='dataframe')\n",
    "y_test, X_test = dmatrices(expr, drops_test, return_type='dataframe')"
   ]
  },
  {
   "cell_type": "code",
   "execution_count": 984,
   "metadata": {},
   "outputs": [
    {
     "name": "stdout",
     "output_type": "stream",
     "text": [
      "                 Generalized Linear Model Regression Results                  \n",
      "==============================================================================\n",
      "Dep. Variable:                  Total   No. Observations:                  466\n",
      "Model:                            GLM   Df Residuals:                      453\n",
      "Model Family:                 Poisson   Df Model:                           12\n",
      "Link Function:                    log   Scale:                          1.0000\n",
      "Method:                          IRLS   Log-Likelihood:                -1047.8\n",
      "Date:                Wed, 09 Dec 2020   Deviance:                       899.88\n",
      "Time:                        00:20:02   Pearson chi2:                 1.02e+03\n",
      "No. Iterations:                     5                                         \n",
      "Covariance Type:            nonrobust                                         \n",
      "==================================================================================\n",
      "                     coef    std err          z      P>|z|      [0.025      0.975]\n",
      "----------------------------------------------------------------------------------\n",
      "Intercept          8.4250      1.447      5.823      0.000       5.589      11.261\n",
      "Blue_Runner        0.2713      0.090      3.005      0.003       0.094       0.448\n",
      "Squid              0.0043      0.090      0.048      0.962      -0.172       0.180\n",
      "Mackerel           0.5534      0.104      5.314      0.000       0.349       0.758\n",
      "Herring           -0.3715      0.116     -3.190      0.001      -0.600      -0.143\n",
      "Salmon            -0.0938      0.095     -0.991      0.322      -0.279       0.092\n",
      "Mahi               0.1499      0.185      0.809      0.418      -0.213       0.513\n",
      "Temperature       -0.1050      0.020     -5.332      0.000      -0.144      -0.066\n",
      "covid              0.2798      0.112      2.503      0.012       0.061       0.499\n",
      "light_training    -0.2068      0.088     -2.361      0.018      -0.378      -0.035\n",
      "GroupFeed          0.7858      0.107      7.376      0.000       0.577       0.995\n",
      "Month              0.0143      0.007      1.957      0.050    -2.2e-05       0.029\n",
      "Day                0.0044      0.003      1.503      0.133      -0.001       0.010\n",
      "==================================================================================\n"
     ]
    }
   ],
   "source": [
    "# Fit model and print results of model\n",
    "poisson_training_results = sm.GLM(y_train, X_train, family=sm.families.Poisson()).fit()\n",
    "print(poisson_training_results.summary())"
   ]
  },
  {
   "cell_type": "code",
   "execution_count": 985,
   "metadata": {},
   "outputs": [
    {
     "name": "stdout",
     "output_type": "stream",
     "text": [
      "         mean   mean_se  mean_ci_lower  mean_ci_upper\n",
      "0    5.566892  0.577458       4.542730       6.821951\n",
      "19   3.354946  0.360406       2.717972       4.141199\n",
      "23   3.608558  0.372472       2.947633       4.417676\n",
      "31   4.087978  0.444059       3.304047       5.057908\n",
      "38   1.456493  0.178555       1.145400       1.852079\n",
      "..        ...       ...            ...            ...\n",
      "564  2.539051  0.205550       2.166517       2.975642\n",
      "571  1.188637  0.107951       0.994818       1.420218\n",
      "577  3.633583  0.214658       3.236305       4.079629\n",
      "578  4.829044  0.296604       4.281339       5.446815\n",
      "581  3.827030  0.255730       3.357243       4.362555\n",
      "\n",
      "[116 rows x 4 columns]\n"
     ]
    }
   ],
   "source": [
    "poisson_predictions = poisson_training_results.get_prediction(X_test)\n",
    " \n",
    "#.summary_frame() returns a pandas DataFrame\n",
    "predictions_summary_frame = poisson_predictions.summary_frame()\n",
    "print(predictions_summary_frame)"
   ]
  },
  {
   "cell_type": "code",
   "execution_count": 986,
   "metadata": {},
   "outputs": [
    {
     "data": {
      "image/png": "[encoded data removed]",
      "text/plain": [
       "<Figure size 432x288 with 1 Axes>"
      ]
     },
     "metadata": {
      "needs_background": "light"
     },
     "output_type": "display_data"
    }
   ],
   "source": [
    "predicted_counts=predictions_summary_frame['mean']\n",
    "actual_counts = y_test['Total']\n",
    " \n",
    "fig = plt.figure()\n",
    "\n",
    " \n",
    "predicted, = plt.plot(X_test.index, predicted_counts, 'go-', label='Predicted counts')\n",
    "actual, = plt.plot(X_test.index, actual_counts, 'ro-', label='Actual counts')\n",
    " \n",
    "plt.legend(handles=[predicted, actual])\n",
    " \n",
    "plt.show()"
   ]
  },
  {
   "cell_type": "markdown",
   "metadata": {},
   "source": [
    "# Poisson Regression for Number of Targets for All Sharks"
   ]
  },
  {
   "cell_type": "code",
   "execution_count": 987,
   "metadata": {},
   "outputs": [
    {
     "data": {
      "text/html": [
       "<div>\n",
       "<style scoped>\n",
       "    .dataframe tbody tr th:only-of-type {\n",
       "        vertical-align: middle;\n",
       "    }\n",
       "\n",
       "    .dataframe tbody tr th {\n",
       "        vertical-align: top;\n",
       "    }\n",
       "\n",
       "    .dataframe thead th {\n",
       "        text-align: right;\n",
       "    }\n",
       "</style>\n",
       "<table border=\"1\" class=\"dataframe\">\n",
       "  <thead>\n",
       "    <tr style=\"text-align: right;\">\n",
       "      <th></th>\n",
       "      <th>Date</th>\n",
       "      <th>Ross</th>\n",
       "      <th>Chandler</th>\n",
       "      <th>BT1</th>\n",
       "      <th>BT2</th>\n",
       "      <th>BT3</th>\n",
       "      <th>BT4</th>\n",
       "      <th>BT5</th>\n",
       "      <th>GR1</th>\n",
       "      <th>GR2</th>\n",
       "      <th>...</th>\n",
       "      <th>GroupFeed</th>\n",
       "      <th>Varied_Target</th>\n",
       "      <th>All_GR</th>\n",
       "      <th>All_BT</th>\n",
       "      <th>All_SS</th>\n",
       "      <th>male</th>\n",
       "      <th>female</th>\n",
       "      <th>Day_of_week</th>\n",
       "      <th>Month</th>\n",
       "      <th>Day</th>\n",
       "    </tr>\n",
       "  </thead>\n",
       "  <tbody>\n",
       "    <tr>\n",
       "      <th>0</th>\n",
       "      <td>2017-12-05</td>\n",
       "      <td>3.0</td>\n",
       "      <td>0.0</td>\n",
       "      <td>4.0</td>\n",
       "      <td>3.0</td>\n",
       "      <td>0.0</td>\n",
       "      <td>2.0</td>\n",
       "      <td>2.0</td>\n",
       "      <td>1.0</td>\n",
       "      <td>1.0</td>\n",
       "      <td>...</td>\n",
       "      <td>1</td>\n",
       "      <td>0</td>\n",
       "      <td>8.0</td>\n",
       "      <td>11.0</td>\n",
       "      <td>3.0</td>\n",
       "      <td>10.0</td>\n",
       "      <td>12.0</td>\n",
       "      <td>1</td>\n",
       "      <td>12</td>\n",
       "      <td>5</td>\n",
       "    </tr>\n",
       "    <tr>\n",
       "      <th>1</th>\n",
       "      <td>2017-12-07</td>\n",
       "      <td>4.0</td>\n",
       "      <td>5.0</td>\n",
       "      <td>2.0</td>\n",
       "      <td>2.0</td>\n",
       "      <td>5.0</td>\n",
       "      <td>3.0</td>\n",
       "      <td>5.0</td>\n",
       "      <td>0.0</td>\n",
       "      <td>0.0</td>\n",
       "      <td>...</td>\n",
       "      <td>1</td>\n",
       "      <td>0</td>\n",
       "      <td>4.0</td>\n",
       "      <td>17.0</td>\n",
       "      <td>9.0</td>\n",
       "      <td>16.0</td>\n",
       "      <td>14.0</td>\n",
       "      <td>3</td>\n",
       "      <td>12</td>\n",
       "      <td>7</td>\n",
       "    </tr>\n",
       "    <tr>\n",
       "      <th>2</th>\n",
       "      <td>2017-12-09</td>\n",
       "      <td>NaN</td>\n",
       "      <td>NaN</td>\n",
       "      <td>NaN</td>\n",
       "      <td>NaN</td>\n",
       "      <td>NaN</td>\n",
       "      <td>NaN</td>\n",
       "      <td>NaN</td>\n",
       "      <td>1.0</td>\n",
       "      <td>3.0</td>\n",
       "      <td>...</td>\n",
       "      <td>0</td>\n",
       "      <td>0</td>\n",
       "      <td>8.0</td>\n",
       "      <td>NaN</td>\n",
       "      <td>NaN</td>\n",
       "      <td>1.0</td>\n",
       "      <td>7.0</td>\n",
       "      <td>5</td>\n",
       "      <td>12</td>\n",
       "      <td>9</td>\n",
       "    </tr>\n",
       "    <tr>\n",
       "      <th>3</th>\n",
       "      <td>2017-12-10</td>\n",
       "      <td>4.0</td>\n",
       "      <td>7.0</td>\n",
       "      <td>0.0</td>\n",
       "      <td>2.0</td>\n",
       "      <td>2.0</td>\n",
       "      <td>0.0</td>\n",
       "      <td>0.0</td>\n",
       "      <td>NaN</td>\n",
       "      <td>NaN</td>\n",
       "      <td>...</td>\n",
       "      <td>0</td>\n",
       "      <td>0</td>\n",
       "      <td>NaN</td>\n",
       "      <td>4.0</td>\n",
       "      <td>11.0</td>\n",
       "      <td>11.0</td>\n",
       "      <td>4.0</td>\n",
       "      <td>6</td>\n",
       "      <td>12</td>\n",
       "      <td>10</td>\n",
       "    </tr>\n",
       "    <tr>\n",
       "      <th>4</th>\n",
       "      <td>2017-12-12</td>\n",
       "      <td>3.0</td>\n",
       "      <td>1.0</td>\n",
       "      <td>3.0</td>\n",
       "      <td>2.0</td>\n",
       "      <td>4.0</td>\n",
       "      <td>1.0</td>\n",
       "      <td>1.0</td>\n",
       "      <td>1.0</td>\n",
       "      <td>1.0</td>\n",
       "      <td>...</td>\n",
       "      <td>1</td>\n",
       "      <td>0</td>\n",
       "      <td>11.0</td>\n",
       "      <td>11.0</td>\n",
       "      <td>4.0</td>\n",
       "      <td>9.0</td>\n",
       "      <td>17.0</td>\n",
       "      <td>1</td>\n",
       "      <td>12</td>\n",
       "      <td>12</td>\n",
       "    </tr>\n",
       "  </tbody>\n",
       "</table>\n",
       "<p>5 rows × 41 columns</p>\n",
       "</div>"
      ],
      "text/plain": [
       "        Date  Ross  Chandler  BT1  BT2  BT3  BT4  BT5  GR1  GR2  ...  \\\n",
       "0 2017-12-05   3.0       0.0  4.0  3.0  0.0  2.0  2.0  1.0  1.0  ...   \n",
       "1 2017-12-07   4.0       5.0  2.0  2.0  5.0  3.0  5.0  0.0  0.0  ...   \n",
       "2 2017-12-09   NaN       NaN  NaN  NaN  NaN  NaN  NaN  1.0  3.0  ...   \n",
       "3 2017-12-10   4.0       7.0  0.0  2.0  2.0  0.0  0.0  NaN  NaN  ...   \n",
       "4 2017-12-12   3.0       1.0  3.0  2.0  4.0  1.0  1.0  1.0  1.0  ...   \n",
       "\n",
       "   GroupFeed  Varied_Target  All_GR  All_BT  All_SS  male  female  \\\n",
       "0          1              0     8.0    11.0     3.0  10.0    12.0   \n",
       "1          1              0     4.0    17.0     9.0  16.0    14.0   \n",
       "2          0              0     8.0     NaN     NaN   1.0     7.0   \n",
       "3          0              0     NaN     4.0    11.0  11.0     4.0   \n",
       "4          1              0    11.0    11.0     4.0   9.0    17.0   \n",
       "\n",
       "   Day_of_week  Month  Day  \n",
       "0            1     12    5  \n",
       "1            3     12    7  \n",
       "2            5     12    9  \n",
       "3            6     12   10  \n",
       "4            1     12   12  \n",
       "\n",
       "[5 rows x 41 columns]"
      ]
     },
     "execution_count": 987,
     "metadata": {},
     "output_type": "execute_result"
    }
   ],
   "source": [
    "# create additional time variables for Targeting\n",
    "targets_concat['Date'] = pd.to_datetime(targets_concat['Date'])\n",
    "targets_concat['Day_of_week'] = pd.to_datetime(targets_concat['Date']).dt.dayofweek\n",
    "targets_concat['Month'] = pd.to_datetime(targets_concat['Date']).dt.month\n",
    "targets_concat['Day'] = pd.to_datetime(targets_concat['Date']).dt.day\n",
    "targets_concat.head()"
   ]
  },
  {
   "cell_type": "code",
   "execution_count": 988,
   "metadata": {},
   "outputs": [
    {
     "name": "stdout",
     "output_type": "stream",
     "text": [
      "Training data set length=466\n",
      "Testing data set length=116\n"
     ]
    }
   ],
   "source": [
    "# Create training and testing datasets\n",
    "np.random.seed(25)\n",
    "mask = np.random.rand(len(targets_concat)) < 0.8\n",
    "targets_train = targets_concat[mask]\n",
    "targets_test = targets_concat[~mask]\n",
    "print('Training data set length='+str(len(targets_train)))\n",
    "print('Testing data set length='+str(len(targets_test)))"
   ]
  },
  {
   "cell_type": "code",
   "execution_count": 989,
   "metadata": {},
   "outputs": [],
   "source": [
    "# setup Poisson regression expression\n",
    "expr = \"\"\"Total ~ Blue_Runner + Squid + Mackerel + Herring + Salmon + Mahi + Temperature +\n",
    "covid + light_training + GroupFeed + Month + Day\"\"\""
   ]
  },
  {
   "cell_type": "code",
   "execution_count": 990,
   "metadata": {},
   "outputs": [],
   "source": [
    "y_train, X_train = dmatrices(expr, targets_train, return_type='dataframe')\n",
    "y_test, X_test = dmatrices(expr, targets_test, return_type='dataframe')"
   ]
  },
  {
   "cell_type": "code",
   "execution_count": 991,
   "metadata": {},
   "outputs": [
    {
     "name": "stdout",
     "output_type": "stream",
     "text": [
      "                 Generalized Linear Model Regression Results                  \n",
      "==============================================================================\n",
      "Dep. Variable:                  Total   No. Observations:                  466\n",
      "Model:                            GLM   Df Residuals:                      453\n",
      "Model Family:                 Poisson   Df Model:                           12\n",
      "Link Function:                    log   Scale:                          1.0000\n",
      "Method:                          IRLS   Log-Likelihood:                -3771.6\n",
      "Date:                Wed, 09 Dec 2020   Deviance:                       4905.2\n",
      "Time:                        00:20:03   Pearson chi2:                 5.30e+03\n",
      "No. Iterations:                     5                                         \n",
      "Covariance Type:            nonrobust                                         \n",
      "==================================================================================\n",
      "                     coef    std err          z      P>|z|      [0.025      0.975]\n",
      "----------------------------------------------------------------------------------\n",
      "Intercept          3.0835      0.334      9.244      0.000       2.430       3.737\n",
      "Blue_Runner        0.0455      0.023      1.986      0.047       0.001       0.090\n",
      "Squid              0.0642      0.023      2.835      0.005       0.020       0.109\n",
      "Mackerel           0.4207      0.026     16.366      0.000       0.370       0.471\n",
      "Herring           -0.2807      0.027    -10.239      0.000      -0.334      -0.227\n",
      "Salmon            -0.2089      0.024     -8.624      0.000      -0.256      -0.161\n",
      "Mahi              -0.1606      0.052     -3.097      0.002      -0.262      -0.059\n",
      "Temperature        0.0011      0.005      0.244      0.808      -0.008       0.010\n",
      "covid             -0.1793      0.033     -5.497      0.000      -0.243      -0.115\n",
      "light_training     0.4935      0.029     16.773      0.000       0.436       0.551\n",
      "GroupFeed          0.5788      0.026     22.462      0.000       0.528       0.629\n",
      "Month             -0.0008      0.002     -0.397      0.691      -0.005       0.003\n",
      "Day                0.0004      0.001      0.602      0.547      -0.001       0.002\n",
      "==================================================================================\n"
     ]
    }
   ],
   "source": [
    "# Fit model and print results of model\n",
    "poisson_training_results = sm.GLM(y_train, X_train, family=sm.families.Poisson()).fit()\n",
    "print(poisson_training_results.summary())"
   ]
  },
  {
   "cell_type": "code",
   "execution_count": 992,
   "metadata": {},
   "outputs": [
    {
     "name": "stdout",
     "output_type": "stream",
     "text": [
      "          mean   mean_se  mean_ci_lower  mean_ci_upper\n",
      "0    41.937795  1.378062      39.321982      44.727620\n",
      "19   36.186152  1.190100      33.927187      38.595526\n",
      "23   36.279270  1.163721      34.068637      38.633345\n",
      "31   36.474291  1.207348      34.183061      38.919098\n",
      "38   17.942822  0.615919      16.775356      19.191536\n",
      "..         ...       ...            ...            ...\n",
      "564  59.712709  1.109547      57.577161      61.927466\n",
      "571  29.290175  0.571058      28.192036      30.431089\n",
      "577  69.543952  0.981839      67.645964      71.495192\n",
      "578  77.677069  1.202134      75.356305      80.069306\n",
      "581  69.738331  1.135821      67.547320      72.000412\n",
      "\n",
      "[116 rows x 4 columns]\n"
     ]
    }
   ],
   "source": [
    "poisson_predictions = poisson_training_results.get_prediction(X_test)\n",
    " \n",
    "#.summary_frame() returns a pandas DataFrame\n",
    "predictions_summary_frame = poisson_predictions.summary_frame()\n",
    "print(predictions_summary_frame)"
   ]
  },
  {
   "cell_type": "code",
   "execution_count": 993,
   "metadata": {},
   "outputs": [
    {
     "data": {
      "image/png": "[encoded data removed]",
      "text/plain": [
       "<Figure size 432x288 with 1 Axes>"
      ]
     },
     "metadata": {
      "needs_background": "light"
     },
     "output_type": "display_data"
    }
   ],
   "source": [
    "predicted_counts=predictions_summary_frame['mean']\n",
    "actual_counts = y_test['Total']\n",
    " \n",
    "fig = plt.figure()\n",
    "\n",
    " \n",
    "predicted, = plt.plot(X_test.index, predicted_counts, 'go-', label='Predicted counts')\n",
    "actual, = plt.plot(X_test.index, actual_counts, 'ro-', label='Actual counts')\n",
    " \n",
    "plt.legend(handles=[predicted, actual])\n",
    " \n",
    "plt.show()"
   ]
  },
  {
   "cell_type": "markdown",
   "metadata": {},
   "source": [
    "# Poisson Regression Across Different Species of Sharks"
   ]
  },
  {
   "cell_type": "markdown",
   "metadata": {},
   "source": [
    "# Sandbar Sharks"
   ]
  },
  {
   "cell_type": "code",
   "execution_count": 994,
   "metadata": {},
   "outputs": [],
   "source": [
    "expr = \"\"\"All_SS ~ Squid + Mackerel + Herring + Sardine + Garlic + Salmon + Bonito + Bluefish +\n",
    "covid + light_training\"\"\""
   ]
  },
  {
   "cell_type": "code",
   "execution_count": 995,
   "metadata": {},
   "outputs": [],
   "source": [
    "eat_concatSS = eat_concat[eat_concat['All_SS'].notna()]"
   ]
  },
  {
   "cell_type": "code",
   "execution_count": 996,
   "metadata": {},
   "outputs": [
    {
     "name": "stdout",
     "output_type": "stream",
     "text": [
      "Training data set length=357\n",
      "Testing data set length=82\n"
     ]
    }
   ],
   "source": [
    "# Create training and testing datasets\n",
    "np.random.seed(25)\n",
    "mask = np.random.rand(len(eat_concatSS)) < 0.8\n",
    "eat_train = eat_concatSS[mask]\n",
    "eat_test = eat_concatSS[~mask]\n",
    "print('Training data set length='+str(len(eat_train)))\n",
    "print('Testing data set length='+str(len(eat_test)))"
   ]
  },
  {
   "cell_type": "markdown",
   "metadata": {},
   "source": [
    "Eating:"
   ]
  },
  {
   "cell_type": "code",
   "execution_count": 997,
   "metadata": {},
   "outputs": [],
   "source": [
    "y_train, X_train = dmatrices(expr, eat_train, return_type='dataframe')\n",
    "y_test, X_test = dmatrices(expr, eat_test, return_type='dataframe')"
   ]
  },
  {
   "cell_type": "code",
   "execution_count": 998,
   "metadata": {},
   "outputs": [
    {
     "name": "stdout",
     "output_type": "stream",
     "text": [
      "                 Generalized Linear Model Regression Results                  \n",
      "==============================================================================\n",
      "Dep. Variable:                 All_SS   No. Observations:                  357\n",
      "Model:                            GLM   Df Residuals:                      346\n",
      "Model Family:                 Poisson   Df Model:                           10\n",
      "Link Function:                    log   Scale:                          1.0000\n",
      "Method:                          IRLS   Log-Likelihood:                -996.42\n",
      "Date:                Wed, 09 Dec 2020   Deviance:                       757.22\n",
      "Time:                        00:20:04   Pearson chi2:                     676.\n",
      "No. Iterations:                     4                                         \n",
      "Covariance Type:            nonrobust                                         \n",
      "==================================================================================\n",
      "                     coef    std err          z      P>|z|      [0.025      0.975]\n",
      "----------------------------------------------------------------------------------\n",
      "Intercept          1.3283      0.105     12.626      0.000       1.122       1.535\n",
      "Squid             -0.1286      0.059     -2.194      0.028      -0.243      -0.014\n",
      "Mackerel           0.3162      0.094      3.355      0.001       0.131       0.501\n",
      "Herring            0.3251      0.117      2.778      0.005       0.096       0.555\n",
      "Sardine            0.0597      0.094      0.636      0.525      -0.124       0.244\n",
      "Garlic             0.2298      0.067      3.422      0.001       0.098       0.361\n",
      "Salmon            -0.1407      0.081     -1.728      0.084      -0.300       0.019\n",
      "Bonito             0.6038      0.114      5.312      0.000       0.381       0.827\n",
      "Bluefish          -0.5238      0.228     -2.297      0.022      -0.971      -0.077\n",
      "covid             -0.1226      0.108     -1.131      0.258      -0.335       0.090\n",
      "light_training     0.2297      0.087      2.647      0.008       0.060       0.400\n",
      "==================================================================================\n"
     ]
    }
   ],
   "source": [
    "# Fit model and print results of model\n",
    "poisson_training_results = sm.GLM(y_train, X_train, family=sm.families.Poisson()).fit()\n",
    "print(poisson_training_results.summary())"
   ]
  },
  {
   "cell_type": "code",
   "execution_count": 999,
   "metadata": {},
   "outputs": [
    {
     "name": "stdout",
     "output_type": "stream",
     "text": [
      "          mean   mean_se  mean_ci_lower  mean_ci_upper\n",
      "0     4.750022  0.416924       3.999291       5.641677\n",
      "25    4.176968  0.395414       3.469619       5.028523\n",
      "31    5.497339  0.579467       4.471246       6.758908\n",
      "41    5.976489  0.245990       5.513292       6.478602\n",
      "50   12.048083  1.411824       9.575733      15.158766\n",
      "..         ...       ...            ...            ...\n",
      "573   5.976489  0.245990       5.513292       6.478602\n",
      "574   5.976489  0.245990       5.513292       6.478602\n",
      "577   5.976489  0.245990       5.513292       6.478602\n",
      "578   5.255471  0.258526       4.772430       5.787403\n",
      "581   5.976489  0.245990       5.513292       6.478602\n",
      "\n",
      "[82 rows x 4 columns]\n"
     ]
    }
   ],
   "source": [
    "poisson_predictions = poisson_training_results.get_prediction(X_test)\n",
    " \n",
    "#.summary_frame() returns a pandas DataFrame\n",
    "predictions_summary_frame = poisson_predictions.summary_frame()\n",
    "print(predictions_summary_frame)"
   ]
  },
  {
   "cell_type": "code",
   "execution_count": 1000,
   "metadata": {},
   "outputs": [
    {
     "data": {
      "image/png": "[encoded data removed]",
      "text/plain": [
       "<Figure size 432x288 with 1 Axes>"
      ]
     },
     "metadata": {
      "needs_background": "light"
     },
     "output_type": "display_data"
    }
   ],
   "source": [
    "predicted_counts=predictions_summary_frame['mean']\n",
    "actual_counts = y_test['All_SS']\n",
    " \n",
    "fig = plt.figure()\n",
    "\n",
    " \n",
    "predicted, = plt.plot(X_test.index, predicted_counts, 'go-', label='Predicted counts')\n",
    "actual, = plt.plot(X_test.index, actual_counts, 'ro-', label='Actual counts')\n",
    " \n",
    "plt.legend(handles=[predicted, actual])\n",
    " \n",
    "plt.show()"
   ]
  },
  {
   "cell_type": "markdown",
   "metadata": {},
   "source": [
    "Dropping:"
   ]
  },
  {
   "cell_type": "code",
   "execution_count": 1001,
   "metadata": {},
   "outputs": [],
   "source": [
    "drops_concatSS = drops_concat[drops_concat['All_SS'].notna()]"
   ]
  },
  {
   "cell_type": "code",
   "execution_count": 1002,
   "metadata": {},
   "outputs": [
    {
     "name": "stdout",
     "output_type": "stream",
     "text": [
      "Training data set length=357\n",
      "Testing data set length=81\n"
     ]
    }
   ],
   "source": [
    "# Create training and testing datasets\n",
    "np.random.seed(25)\n",
    "mask = np.random.rand(len(drops_concatSS)) < 0.8\n",
    "drops_train = drops_concatSS[mask]\n",
    "drops_test = drops_concatSS[~mask]\n",
    "print('Training data set length='+str(len(drops_train)))\n",
    "print('Testing data set length='+str(len(drops_test)))"
   ]
  },
  {
   "cell_type": "code",
   "execution_count": 1003,
   "metadata": {},
   "outputs": [],
   "source": [
    "expr = \"\"\"All_SS ~ Blue_Runner + Squid + Mackerel + Salmon + Temperature + light_training +\n",
    "Varied_Target + Day\"\"\""
   ]
  },
  {
   "cell_type": "code",
   "execution_count": 1004,
   "metadata": {},
   "outputs": [],
   "source": [
    "y_train, X_train = dmatrices(expr, drops_train, return_type='dataframe')\n",
    "y_test, X_test = dmatrices(expr, drops_test, return_type='dataframe')"
   ]
  },
  {
   "cell_type": "code",
   "execution_count": 1005,
   "metadata": {},
   "outputs": [
    {
     "name": "stdout",
     "output_type": "stream",
     "text": [
      "                 Generalized Linear Model Regression Results                  \n",
      "==============================================================================\n",
      "Dep. Variable:                 All_SS   No. Observations:                  357\n",
      "Model:                            GLM   Df Residuals:                      348\n",
      "Model Family:                 Poisson   Df Model:                            8\n",
      "Link Function:                    log   Scale:                          1.0000\n",
      "Method:                          IRLS   Log-Likelihood:                -280.73\n",
      "Date:                Wed, 09 Dec 2020   Deviance:                       347.75\n",
      "Time:                        00:20:05   Pearson chi2:                     448.\n",
      "No. Iterations:                     5                                         \n",
      "Covariance Type:            nonrobust                                         \n",
      "==================================================================================\n",
      "                     coef    std err          z      P>|z|      [0.025      0.975]\n",
      "----------------------------------------------------------------------------------\n",
      "Intercept          6.0385      4.678      1.291      0.197      -3.130      15.207\n",
      "Blue_Runner        0.6391      0.294      2.172      0.030       0.062       1.216\n",
      "Squid             -0.2830      0.298     -0.950      0.342      -0.867       0.301\n",
      "Mackerel           0.4670      0.219      2.131      0.033       0.037       0.897\n",
      "Salmon            -0.3263      0.378     -0.863      0.388      -1.068       0.415\n",
      "Temperature       -0.0993      0.063     -1.570      0.116      -0.223       0.025\n",
      "light_training     0.4886      0.348      1.404      0.160      -0.194       1.171\n",
      "Varied_Target     -0.7615      0.228     -3.333      0.001      -1.209      -0.314\n",
      "Day                0.0156      0.010      1.534      0.125      -0.004       0.036\n",
      "==================================================================================\n"
     ]
    }
   ],
   "source": [
    "# Fit model and print results of model\n",
    "poisson_training_results = sm.GLM(y_train, X_train, family=sm.families.Poisson()).fit()\n",
    "print(poisson_training_results.summary())"
   ]
  },
  {
   "cell_type": "code",
   "execution_count": 1006,
   "metadata": {},
   "outputs": [
    {
     "name": "stdout",
     "output_type": "stream",
     "text": [
      "         mean   mean_se  mean_ci_lower  mean_ci_upper\n",
      "0    0.315659  0.103031       0.166489       0.598480\n",
      "25   0.552273  0.173886       0.297953       1.023669\n",
      "31   0.707292  0.224042       0.380164       1.315909\n",
      "41   1.162844  0.371390       0.621819       2.174598\n",
      "50   0.764554  0.221443       0.433380       1.348801\n",
      "..        ...       ...            ...            ...\n",
      "570  0.232927  0.091710       0.107666       0.503920\n",
      "574  0.441428  0.125415       0.252943       0.770365\n",
      "576  0.389485  0.067201       0.277732       0.546206\n",
      "578  0.363805  0.076066       0.241487       0.548078\n",
      "580  0.425993  0.087319       0.285052       0.636620\n",
      "\n",
      "[81 rows x 4 columns]\n"
     ]
    }
   ],
   "source": [
    "poisson_predictions = poisson_training_results.get_prediction(X_test)\n",
    " \n",
    "#.summary_frame() returns a pandas DataFrame\n",
    "predictions_summary_frame = poisson_predictions.summary_frame()\n",
    "print(predictions_summary_frame)"
   ]
  },
  {
   "cell_type": "code",
   "execution_count": 1007,
   "metadata": {},
   "outputs": [
    {
     "data": {
      "image/png": "[encoded data removed]",
      "text/plain": [
       "<Figure size 432x288 with 1 Axes>"
      ]
     },
     "metadata": {
      "needs_background": "light"
     },
     "output_type": "display_data"
    }
   ],
   "source": [
    "predicted_counts=predictions_summary_frame['mean']\n",
    "actual_counts = y_test['All_SS']\n",
    " \n",
    "fig = plt.figure()\n",
    "\n",
    " \n",
    "predicted, = plt.plot(X_test.index, predicted_counts, 'go-', label='Predicted counts')\n",
    "actual, = plt.plot(X_test.index, actual_counts, 'ro-', label='Actual counts')\n",
    " \n",
    "plt.legend(handles=[predicted, actual])\n",
    " \n",
    "plt.show()"
   ]
  },
  {
   "cell_type": "markdown",
   "metadata": {},
   "source": [
    "Targets:"
   ]
  },
  {
   "cell_type": "code",
   "execution_count": 1008,
   "metadata": {},
   "outputs": [],
   "source": [
    "targets_concatSS = targets_concat[targets_concat['All_SS'].notna()]"
   ]
  },
  {
   "cell_type": "code",
   "execution_count": 1009,
   "metadata": {},
   "outputs": [
    {
     "name": "stdout",
     "output_type": "stream",
     "text": [
      "Training data set length=356\n",
      "Testing data set length=81\n"
     ]
    }
   ],
   "source": [
    "# Create training and testing datasets\n",
    "np.random.seed(25)\n",
    "mask = np.random.rand(len(targets_concatSS)) < 0.8\n",
    "targets_train = targets_concatSS[mask]\n",
    "targets_test = targets_concatSS[~mask]\n",
    "print('Training data set length='+str(len(targets_train)))\n",
    "print('Testing data set length='+str(len(targets_test)))"
   ]
  },
  {
   "cell_type": "code",
   "execution_count": 1010,
   "metadata": {},
   "outputs": [],
   "source": [
    "expr = \"\"\"All_SS ~ Squid + Mackerel + Sardine + Salmon + Bluefish + Goggle_Eye + Humbolt_Squid + \n",
    "Temperature + covid + light_training + Day_of_week + Day\"\"\""
   ]
  },
  {
   "cell_type": "code",
   "execution_count": 1011,
   "metadata": {},
   "outputs": [],
   "source": [
    "y_train, X_train = dmatrices(expr, targets_train, return_type='dataframe')\n",
    "y_test, X_test = dmatrices(expr, targets_test, return_type='dataframe')"
   ]
  },
  {
   "cell_type": "code",
   "execution_count": 1012,
   "metadata": {},
   "outputs": [
    {
     "name": "stdout",
     "output_type": "stream",
     "text": [
      "                 Generalized Linear Model Regression Results                  \n",
      "==============================================================================\n",
      "Dep. Variable:                 All_SS   No. Observations:                  356\n",
      "Model:                            GLM   Df Residuals:                      343\n",
      "Model Family:                 Poisson   Df Model:                           12\n",
      "Link Function:                    log   Scale:                          1.0000\n",
      "Method:                          IRLS   Log-Likelihood:                -1615.5\n",
      "Date:                Wed, 09 Dec 2020   Deviance:                       1598.0\n",
      "Time:                        00:20:06   Pearson chi2:                 1.57e+03\n",
      "No. Iterations:                     4                                         \n",
      "Covariance Type:            nonrobust                                         \n",
      "==================================================================================\n",
      "                     coef    std err          z      P>|z|      [0.025      0.975]\n",
      "----------------------------------------------------------------------------------\n",
      "Intercept          4.1262      0.638      6.468      0.000       2.876       5.377\n",
      "Squid             -0.0904      0.034     -2.623      0.009      -0.158      -0.023\n",
      "Mackerel          -0.2033      0.058     -3.516      0.000      -0.317      -0.090\n",
      "Sardine            0.1804      0.057      3.162      0.002       0.069       0.292\n",
      "Salmon            -0.2577      0.049     -5.250      0.000      -0.354      -0.161\n",
      "Bluefish          -0.5161      0.118     -4.380      0.000      -0.747      -0.285\n",
      "Goggle_Eye         0.4760      0.113      4.218      0.000       0.255       0.697\n",
      "Humbolt_Squid      0.4925      0.127      3.892      0.000       0.244       0.741\n",
      "Temperature       -0.0258      0.009     -2.985      0.003      -0.043      -0.009\n",
      "covid             -0.3465      0.065     -5.293      0.000      -0.475      -0.218\n",
      "light_training     0.4592      0.056      8.227      0.000       0.350       0.569\n",
      "Day_of_week        0.0888      0.012      7.582      0.000       0.066       0.112\n",
      "Day                0.0037      0.001      2.581      0.010       0.001       0.007\n",
      "==================================================================================\n"
     ]
    }
   ],
   "source": [
    "# Fit model and print results of model\n",
    "poisson_training_results = sm.GLM(y_train, X_train, family=sm.families.Poisson()).fit()\n",
    "print(poisson_training_results.summary())"
   ]
  },
  {
   "cell_type": "code",
   "execution_count": 1013,
   "metadata": {},
   "outputs": [
    {
     "name": "stdout",
     "output_type": "stream",
     "text": [
      "          mean   mean_se  mean_ci_lower  mean_ci_upper\n",
      "0    10.466465  0.605866       9.343876      11.723924\n",
      "25   11.983288  0.705253      10.677761      13.448437\n",
      "31   17.276220  1.005515      15.413699      19.363800\n",
      "41   20.637569  0.648742      19.404436      21.949067\n",
      "50   22.694597  0.706871      21.350597      24.123201\n",
      "..         ...       ...            ...            ...\n",
      "572  24.570673  0.530951      23.551757      25.633670\n",
      "576  25.214413  0.557422      24.145216      26.330956\n",
      "577  16.582096  0.442836      15.736478      17.473155\n",
      "580  25.742072  0.696546      24.412437      27.144126\n",
      "581  17.104423  0.532454      16.092030      18.180508\n",
      "\n",
      "[81 rows x 4 columns]\n"
     ]
    }
   ],
   "source": [
    "poisson_predictions = poisson_training_results.get_prediction(X_test)\n",
    " \n",
    "#.summary_frame() returns a pandas DataFrame\n",
    "predictions_summary_frame = poisson_predictions.summary_frame()\n",
    "print(predictions_summary_frame)"
   ]
  },
  {
   "cell_type": "code",
   "execution_count": 1014,
   "metadata": {},
   "outputs": [
    {
     "data": {
      "image/png": "[encoded data removed]",
      "text/plain": [
       "<Figure size 432x288 with 1 Axes>"
      ]
     },
     "metadata": {
      "needs_background": "light"
     },
     "output_type": "display_data"
    }
   ],
   "source": [
    "predicted_counts=predictions_summary_frame['mean']\n",
    "actual_counts = y_test['All_SS']\n",
    " \n",
    "fig = plt.figure()\n",
    "\n",
    " \n",
    "predicted, = plt.plot(X_test.index, predicted_counts, 'go-', label='Predicted counts')\n",
    "actual, = plt.plot(X_test.index, actual_counts, 'ro-', label='Actual counts')\n",
    " \n",
    "plt.legend(handles=[predicted, actual])\n",
    " \n",
    "plt.show()"
   ]
  },
  {
   "cell_type": "markdown",
   "metadata": {},
   "source": [
    "# Blacktip Sharks"
   ]
  },
  {
   "cell_type": "markdown",
   "metadata": {},
   "source": [
    "Eating:"
   ]
  },
  {
   "cell_type": "code",
   "execution_count": 1015,
   "metadata": {},
   "outputs": [],
   "source": [
    "expr = \"\"\"All_BT ~ Squid + Mackerel + Herring + Mazuri_Vitamins + Garlic + Bonito + Bluefish +\n",
    "Temperature + GroupFeed + Varied_Target\"\"\""
   ]
  },
  {
   "cell_type": "code",
   "execution_count": 1016,
   "metadata": {},
   "outputs": [],
   "source": [
    "eat_concatBT = eat_concat[eat_concat['All_BT'].notna()]"
   ]
  },
  {
   "cell_type": "code",
   "execution_count": 1017,
   "metadata": {},
   "outputs": [
    {
     "name": "stdout",
     "output_type": "stream",
     "text": [
      "Training data set length=356\n",
      "Testing data set length=80\n"
     ]
    }
   ],
   "source": [
    "# Create training and testing datasets\n",
    "np.random.seed(25)\n",
    "mask = np.random.rand(len(eat_concatBT)) < 0.8\n",
    "eat_train = eat_concatBT[mask]\n",
    "eat_test = eat_concatBT[~mask]\n",
    "print('Training data set length='+str(len(eat_train)))\n",
    "print('Testing data set length='+str(len(eat_test)))"
   ]
  },
  {
   "cell_type": "code",
   "execution_count": 1018,
   "metadata": {},
   "outputs": [],
   "source": [
    "y_train, X_train = dmatrices(expr, eat_train, return_type='dataframe')\n",
    "y_test, X_test = dmatrices(expr, eat_test, return_type='dataframe')"
   ]
  },
  {
   "cell_type": "code",
   "execution_count": 1019,
   "metadata": {},
   "outputs": [
    {
     "name": "stdout",
     "output_type": "stream",
     "text": [
      "                 Generalized Linear Model Regression Results                  \n",
      "==============================================================================\n",
      "Dep. Variable:                 All_BT   No. Observations:                  356\n",
      "Model:                            GLM   Df Residuals:                      345\n",
      "Model Family:                 Poisson   Df Model:                           10\n",
      "Link Function:                    log   Scale:                          1.0000\n",
      "Method:                          IRLS   Log-Likelihood:                -1169.9\n",
      "Date:                Wed, 09 Dec 2020   Deviance:                       809.45\n",
      "Time:                        00:20:06   Pearson chi2:                     786.\n",
      "No. Iterations:                     4                                         \n",
      "Covariance Type:            nonrobust                                         \n",
      "===================================================================================\n",
      "                      coef    std err          z      P>|z|      [0.025      0.975]\n",
      "-----------------------------------------------------------------------------------\n",
      "Intercept          -1.2309      0.764     -1.610      0.107      -2.729       0.267\n",
      "Squid               0.1493      0.035      4.224      0.000       0.080       0.219\n",
      "Mackerel           -0.3961      0.078     -5.061      0.000      -0.549      -0.243\n",
      "Herring            -0.2579      0.107     -2.406      0.016      -0.468      -0.048\n",
      "Mazuri_Vitamins     0.1071      0.050      2.154      0.031       0.010       0.205\n",
      "Garlic             -0.1541      0.047     -3.268      0.001      -0.247      -0.062\n",
      "Bonito             -0.0346      0.104     -0.334      0.739      -0.238       0.169\n",
      "Bluefish           -0.0947      0.107     -0.883      0.377      -0.305       0.115\n",
      "Temperature         0.0519      0.010      5.128      0.000       0.032       0.072\n",
      "GroupFeed          -0.2806      0.084     -3.358      0.001      -0.444      -0.117\n",
      "Varied_Target       0.3347      0.043      7.862      0.000       0.251       0.418\n",
      "===================================================================================\n"
     ]
    }
   ],
   "source": [
    "# Fit model and print results of model\n",
    "poisson_training_results = sm.GLM(y_train, X_train, family=sm.families.Poisson()).fit()\n",
    "print(poisson_training_results.summary())"
   ]
  },
  {
   "cell_type": "code",
   "execution_count": 1020,
   "metadata": {},
   "outputs": [
    {
     "name": "stdout",
     "output_type": "stream",
     "text": [
      "          mean   mean_se  mean_ci_lower  mean_ci_upper\n",
      "0     9.370551  0.445080       8.537583      10.284787\n",
      "27    7.423021  0.385265       6.705051       8.217870\n",
      "32    9.083477  0.455277       8.233580      10.021103\n",
      "43    7.578606  0.382320       6.865126       8.366237\n",
      "51   10.131915  0.586749       9.044772      11.349729\n",
      "..         ...       ...            ...            ...\n",
      "560  12.119491  0.410188      11.341622      12.950709\n",
      "573  14.830501  0.405422      14.056801      15.646786\n",
      "577  14.830501  0.405422      14.056801      15.646786\n",
      "578  17.218912  0.500968      16.264503      18.229327\n",
      "581  14.677479  0.392838      13.927378      15.467980\n",
      "\n",
      "[80 rows x 4 columns]\n"
     ]
    }
   ],
   "source": [
    "poisson_predictions = poisson_training_results.get_prediction(X_test)\n",
    " \n",
    "#.summary_frame() returns a pandas DataFrame\n",
    "predictions_summary_frame = poisson_predictions.summary_frame()\n",
    "print(predictions_summary_frame)"
   ]
  },
  {
   "cell_type": "code",
   "execution_count": 1021,
   "metadata": {},
   "outputs": [
    {
     "data": {
      "image/png": "[encoded data removed]",
      "text/plain": [
       "<Figure size 432x288 with 1 Axes>"
      ]
     },
     "metadata": {
      "needs_background": "light"
     },
     "output_type": "display_data"
    }
   ],
   "source": [
    "predicted_counts=predictions_summary_frame['mean']\n",
    "actual_counts = y_test['All_BT']\n",
    " \n",
    "fig = plt.figure()\n",
    "\n",
    " \n",
    "predicted, = plt.plot(X_test.index, predicted_counts, 'go-', label='Predicted counts')\n",
    "actual, = plt.plot(X_test.index, actual_counts, 'ro-', label='Actual counts')\n",
    " \n",
    "plt.legend(handles=[predicted, actual])\n",
    " \n",
    "plt.show()"
   ]
  },
  {
   "cell_type": "markdown",
   "metadata": {},
   "source": [
    "Dropping:"
   ]
  },
  {
   "cell_type": "code",
   "execution_count": 1022,
   "metadata": {},
   "outputs": [],
   "source": [
    "drops_concatBT = drops_concat[drops_concat['All_BT'].notna()]"
   ]
  },
  {
   "cell_type": "code",
   "execution_count": 1023,
   "metadata": {},
   "outputs": [
    {
     "name": "stdout",
     "output_type": "stream",
     "text": [
      "Training data set length=356\n",
      "Testing data set length=80\n"
     ]
    }
   ],
   "source": [
    "# Create training and testing datasets\n",
    "np.random.seed(25)\n",
    "mask = np.random.rand(len(drops_concatBT)) < 0.8\n",
    "drops_train = drops_concatBT[mask]\n",
    "drops_test = drops_concatBT[~mask]\n",
    "print('Training data set length='+str(len(drops_train)))\n",
    "print('Testing data set length='+str(len(drops_test)))"
   ]
  },
  {
   "cell_type": "code",
   "execution_count": 1024,
   "metadata": {},
   "outputs": [],
   "source": [
    "expr = \"\"\"All_BT ~ Saury + Mackerel + Garlic + Salmon + Bonito + Mahi + Temperature + covid\"\"\""
   ]
  },
  {
   "cell_type": "code",
   "execution_count": 1025,
   "metadata": {},
   "outputs": [],
   "source": [
    "y_train, X_train = dmatrices(expr, drops_train, return_type='dataframe')\n",
    "y_test, X_test = dmatrices(expr, drops_test, return_type='dataframe')"
   ]
  },
  {
   "cell_type": "code",
   "execution_count": 1026,
   "metadata": {},
   "outputs": [
    {
     "name": "stdout",
     "output_type": "stream",
     "text": [
      "                 Generalized Linear Model Regression Results                  \n",
      "==============================================================================\n",
      "Dep. Variable:                 All_BT   No. Observations:                  356\n",
      "Model:                            GLM   Df Residuals:                      347\n",
      "Model Family:                 Poisson   Df Model:                            8\n",
      "Link Function:                    log   Scale:                          1.0000\n",
      "Method:                          IRLS   Log-Likelihood:                -766.70\n",
      "Date:                Wed, 09 Dec 2020   Deviance:                       569.07\n",
      "Time:                        00:20:07   Pearson chi2:                     560.\n",
      "No. Iterations:                     5                                         \n",
      "Covariance Type:            nonrobust                                         \n",
      "===============================================================================\n",
      "                  coef    std err          z      P>|z|      [0.025      0.975]\n",
      "-------------------------------------------------------------------------------\n",
      "Intercept       9.7742      1.606      6.085      0.000       6.626      12.922\n",
      "Saury          -0.2789      0.074     -3.786      0.000      -0.423      -0.135\n",
      "Mackerel       -0.2720      0.072     -3.764      0.000      -0.414      -0.130\n",
      "Garlic         -0.2883      0.080     -3.613      0.000      -0.445      -0.132\n",
      "Salmon         -0.1751      0.113     -1.552      0.121      -0.396       0.046\n",
      "Bonito         -0.4486      0.199     -2.250      0.024      -0.839      -0.058\n",
      "Mahi            0.4198      0.158      2.660      0.008       0.111       0.729\n",
      "Temperature    -0.1097      0.022     -5.076      0.000      -0.152      -0.067\n",
      "covid           0.4472      0.115      3.885      0.000       0.222       0.673\n",
      "===============================================================================\n"
     ]
    }
   ],
   "source": [
    "# Fit model and print results of model\n",
    "poisson_training_results = sm.GLM(y_train, X_train, family=sm.families.Poisson()).fit()\n",
    "print(poisson_training_results.summary())"
   ]
  },
  {
   "cell_type": "code",
   "execution_count": 1027,
   "metadata": {},
   "outputs": [
    {
     "name": "stdout",
     "output_type": "stream",
     "text": [
      "         mean   mean_se  mean_ci_lower  mean_ci_upper\n",
      "0    3.238623  0.217802       2.838676       3.694920\n",
      "25   4.280578  0.253176       3.812044       4.806699\n",
      "31   4.256415  0.367801       3.593278       5.041933\n",
      "41   4.375553  0.268341       3.879994       4.934406\n",
      "50   3.121070  0.185959       2.777073       3.507679\n",
      "..        ...       ...            ...            ...\n",
      "560  2.398486  0.152170       2.118036       2.716071\n",
      "573  2.488824  0.160285       2.193689       2.823665\n",
      "577  2.488824  0.160285       2.193689       2.823665\n",
      "578  3.289547  0.187787       2.941335       3.678982\n",
      "581  2.544044  0.160362       2.248380       2.878588\n",
      "\n",
      "[80 rows x 4 columns]\n"
     ]
    }
   ],
   "source": [
    "poisson_predictions = poisson_training_results.get_prediction(X_test)\n",
    " \n",
    "#.summary_frame() returns a pandas DataFrame\n",
    "predictions_summary_frame = poisson_predictions.summary_frame()\n",
    "print(predictions_summary_frame)"
   ]
  },
  {
   "cell_type": "code",
   "execution_count": 1028,
   "metadata": {},
   "outputs": [
    {
     "data": {
      "image/png": "[encoded data removed]",
      "text/plain": [
       "<Figure size 432x288 with 1 Axes>"
      ]
     },
     "metadata": {
      "needs_background": "light"
     },
     "output_type": "display_data"
    }
   ],
   "source": [
    "predicted_counts=predictions_summary_frame['mean']\n",
    "actual_counts = y_test['All_BT']\n",
    " \n",
    "fig = plt.figure()\n",
    "\n",
    " \n",
    "predicted, = plt.plot(X_test.index, predicted_counts, 'go-', label='Predicted counts')\n",
    "actual, = plt.plot(X_test.index, actual_counts, 'ro-', label='Actual counts')\n",
    " \n",
    "plt.legend(handles=[predicted, actual])\n",
    " \n",
    "plt.show()"
   ]
  },
  {
   "cell_type": "markdown",
   "metadata": {},
   "source": [
    "Targeting:"
   ]
  },
  {
   "cell_type": "code",
   "execution_count": 1029,
   "metadata": {},
   "outputs": [],
   "source": [
    "targets_concatBT = targets_concat[targets_concat['All_BT'].notna()]"
   ]
  },
  {
   "cell_type": "code",
   "execution_count": 1030,
   "metadata": {},
   "outputs": [
    {
     "name": "stdout",
     "output_type": "stream",
     "text": [
      "Training data set length=356\n",
      "Testing data set length=81\n"
     ]
    }
   ],
   "source": [
    "# Create training and testing datasets\n",
    "np.random.seed(25)\n",
    "mask = np.random.rand(len(targets_concatBT)) < 0.8\n",
    "targets_train = targets_concatBT[mask]\n",
    "targets_test = targets_concatBT[~mask]\n",
    "print('Training data set length='+str(len(targets_train)))\n",
    "print('Testing data set length='+str(len(targets_test)))"
   ]
  },
  {
   "cell_type": "code",
   "execution_count": 1031,
   "metadata": {},
   "outputs": [],
   "source": [
    "expr = \"\"\"All_BT ~ Squid + Mackerel + Herring + Mazuri_Vitamins + Garlic + Salmon + Bonito + \n",
    "Bluefish + Temperature + covid + light_training + Varied_Target + Day_of_week + Month\"\"\""
   ]
  },
  {
   "cell_type": "code",
   "execution_count": 1032,
   "metadata": {},
   "outputs": [],
   "source": [
    "y_train, X_train = dmatrices(expr, targets_train, return_type='dataframe')\n",
    "y_test, X_test = dmatrices(expr, targets_test, return_type='dataframe')"
   ]
  },
  {
   "cell_type": "code",
   "execution_count": 1033,
   "metadata": {},
   "outputs": [
    {
     "name": "stdout",
     "output_type": "stream",
     "text": [
      "                 Generalized Linear Model Regression Results                  \n",
      "==============================================================================\n",
      "Dep. Variable:                 All_BT   No. Observations:                  356\n",
      "Model:                            GLM   Df Residuals:                      341\n",
      "Model Family:                 Poisson   Df Model:                           14\n",
      "Link Function:                    log   Scale:                          1.0000\n",
      "Method:                          IRLS   Log-Likelihood:                -1959.2\n",
      "Date:                Wed, 09 Dec 2020   Deviance:                       2006.0\n",
      "Time:                        00:20:08   Pearson chi2:                 2.05e+03\n",
      "No. Iterations:                     4                                         \n",
      "Covariance Type:            nonrobust                                         \n",
      "===================================================================================\n",
      "                      coef    std err          z      P>|z|      [0.025      0.975]\n",
      "-----------------------------------------------------------------------------------\n",
      "Intercept           3.9950      0.477      8.382      0.000       3.061       4.929\n",
      "Squid               0.0921      0.025      3.748      0.000       0.044       0.140\n",
      "Mackerel           -0.1707      0.040     -4.233      0.000      -0.250      -0.092\n",
      "Herring             0.0584      0.056      1.035      0.301      -0.052       0.169\n",
      "Mazuri_Vitamins     0.0822      0.029      2.800      0.005       0.025       0.140\n",
      "Garlic             -0.1343      0.028     -4.829      0.000      -0.189      -0.080\n",
      "Salmon             -0.2140      0.033     -6.390      0.000      -0.280      -0.148\n",
      "Bonito             -0.1870      0.063     -2.960      0.003      -0.311      -0.063\n",
      "Bluefish           -0.0250      0.057     -0.437      0.662      -0.137       0.087\n",
      "Temperature        -0.0129      0.007     -1.977      0.048      -0.026      -0.000\n",
      "covid              -0.1960      0.043     -4.539      0.000      -0.281      -0.111\n",
      "light_training      0.4459      0.051      8.809      0.000       0.347       0.545\n",
      "Varied_Target       0.1475      0.030      4.873      0.000       0.088       0.207\n",
      "Day_of_week         0.0755      0.009      8.508      0.000       0.058       0.093\n",
      "Month              -0.0108      0.003     -3.855      0.000      -0.016      -0.005\n",
      "===================================================================================\n"
     ]
    }
   ],
   "source": [
    "# Fit model and print results of model\n",
    "poisson_training_results = sm.GLM(y_train, X_train, family=sm.families.Poisson()).fit()\n",
    "print(poisson_training_results.summary())"
   ]
  },
  {
   "cell_type": "code",
   "execution_count": 1034,
   "metadata": {},
   "outputs": [
    {
     "name": "stdout",
     "output_type": "stream",
     "text": [
      "          mean   mean_se  mean_ci_lower  mean_ci_upper\n",
      "0    19.011883  0.881531      17.360298      20.820592\n",
      "25   27.312978  1.226359      25.012085      29.825532\n",
      "31   27.681036  1.347891      25.161367      30.453026\n",
      "41   38.584879  1.490540      35.771332      41.619723\n",
      "50   36.270446  2.237324      32.140080      40.931610\n",
      "..         ...       ...            ...            ...\n",
      "572  39.154094  0.699348      37.807111      40.549066\n",
      "576  39.154094  0.699348      37.807111      40.549066\n",
      "577  34.467283  0.719025      33.086442      35.905753\n",
      "580  39.053296  0.705330      37.695056      40.460477\n",
      "581  34.556244  0.714454      33.183932      35.985308\n",
      "\n",
      "[81 rows x 4 columns]\n"
     ]
    }
   ],
   "source": [
    "poisson_predictions = poisson_training_results.get_prediction(X_test)\n",
    " \n",
    "#.summary_frame() returns a pandas DataFrame\n",
    "predictions_summary_frame = poisson_predictions.summary_frame()\n",
    "print(predictions_summary_frame)"
   ]
  },
  {
   "cell_type": "code",
   "execution_count": 1035,
   "metadata": {},
   "outputs": [
    {
     "data": {
      "image/png": "[encoded data removed]",
      "text/plain": [
       "<Figure size 432x288 with 1 Axes>"
      ]
     },
     "metadata": {
      "needs_background": "light"
     },
     "output_type": "display_data"
    }
   ],
   "source": [
    "predicted_counts=predictions_summary_frame['mean']\n",
    "actual_counts = y_test['All_BT']\n",
    " \n",
    "fig = plt.figure()\n",
    "\n",
    " \n",
    "predicted, = plt.plot(X_test.index, predicted_counts, 'go-', label='Predicted counts')\n",
    "actual, = plt.plot(X_test.index, actual_counts, 'ro-', label='Actual counts')\n",
    " \n",
    "plt.legend(handles=[predicted, actual])\n",
    " \n",
    "plt.show()"
   ]
  },
  {
   "cell_type": "markdown",
   "metadata": {},
   "source": [
    "# Gray Reef Sharks"
   ]
  },
  {
   "cell_type": "markdown",
   "metadata": {},
   "source": [
    "Eating:"
   ]
  },
  {
   "cell_type": "code",
   "execution_count": 1036,
   "metadata": {},
   "outputs": [],
   "source": [
    "expr = \"\"\"All_GR ~ Saury + Blue_Runner + Squid + Herring + Sardine + Garlic + Bonito + Bluefish +\n",
    "Humbolt_Squid + covid + Varied_Target + Month\"\"\""
   ]
  },
  {
   "cell_type": "code",
   "execution_count": 1037,
   "metadata": {},
   "outputs": [],
   "source": [
    "eat_concatGR = eat_concat[eat_concat['All_GR'].notna()]"
   ]
  },
  {
   "cell_type": "code",
   "execution_count": 1038,
   "metadata": {},
   "outputs": [
    {
     "name": "stdout",
     "output_type": "stream",
     "text": [
      "Training data set length=356\n",
      "Testing data set length=81\n"
     ]
    }
   ],
   "source": [
    "# Create training and testing datasets\n",
    "np.random.seed(25)\n",
    "mask = np.random.rand(len(eat_concatGR)) < 0.8\n",
    "eat_train = eat_concatGR[mask]\n",
    "eat_test = eat_concatGR[~mask]\n",
    "print('Training data set length='+str(len(eat_train)))\n",
    "print('Testing data set length='+str(len(eat_test)))"
   ]
  },
  {
   "cell_type": "code",
   "execution_count": 1039,
   "metadata": {},
   "outputs": [],
   "source": [
    "y_train, X_train = dmatrices(expr, eat_train, return_type='dataframe')\n",
    "y_test, X_test = dmatrices(expr, eat_test, return_type='dataframe')"
   ]
  },
  {
   "cell_type": "code",
   "execution_count": 1040,
   "metadata": {},
   "outputs": [
    {
     "name": "stdout",
     "output_type": "stream",
     "text": [
      "                 Generalized Linear Model Regression Results                  \n",
      "==============================================================================\n",
      "Dep. Variable:                 All_GR   No. Observations:                  356\n",
      "Model:                            GLM   Df Residuals:                      343\n",
      "Model Family:                 Poisson   Df Model:                           12\n",
      "Link Function:                    log   Scale:                          1.0000\n",
      "Method:                          IRLS   Log-Likelihood:                -940.21\n",
      "Date:                Wed, 09 Dec 2020   Deviance:                       575.41\n",
      "Time:                        00:20:09   Pearson chi2:                     513.\n",
      "No. Iterations:                     5                                         \n",
      "Covariance Type:            nonrobust                                         \n",
      "=================================================================================\n",
      "                    coef    std err          z      P>|z|      [0.025      0.975]\n",
      "---------------------------------------------------------------------------------\n",
      "Intercept         1.1935      0.132      9.016      0.000       0.934       1.453\n",
      "Saury             0.7375      0.127      5.807      0.000       0.489       0.986\n",
      "Blue_Runner       0.3178      0.129      2.466      0.014       0.065       0.570\n",
      "Squid             0.2223      0.076      2.941      0.003       0.074       0.370\n",
      "Herring           0.9092      0.123      7.372      0.000       0.668       1.151\n",
      "Sardine          -0.6250      0.155     -4.040      0.000      -0.928      -0.322\n",
      "Garlic           -0.1365      0.052     -2.617      0.009      -0.239      -0.034\n",
      "Bonito           -0.3021      0.144     -2.098      0.036      -0.584      -0.020\n",
      "Bluefish         -0.2552      0.163     -1.562      0.118      -0.575       0.065\n",
      "Humbolt_Squid     0.7131      0.234      3.044      0.002       0.254       1.172\n",
      "covid            -0.4404      0.108     -4.068      0.000      -0.653      -0.228\n",
      "Varied_Target     0.2768      0.055      5.063      0.000       0.170       0.384\n",
      "Month             0.0113      0.006      1.932      0.053      -0.000       0.023\n",
      "=================================================================================\n"
     ]
    }
   ],
   "source": [
    "# Fit model and print results of model\n",
    "poisson_training_results = sm.GLM(y_train, X_train, family=sm.families.Poisson()).fit()\n",
    "print(poisson_training_results.summary())"
   ]
  },
  {
   "cell_type": "code",
   "execution_count": 1041,
   "metadata": {},
   "outputs": [
    {
     "name": "stdout",
     "output_type": "stream",
     "text": [
      "          mean   mean_se  mean_ci_lower  mean_ci_upper\n",
      "0     6.892756  0.475748       6.020627       7.891220\n",
      "25    4.994983  0.341302       4.368902       5.710783\n",
      "30    8.281982  0.517442       7.327450       9.360858\n",
      "41    4.044983  0.346201       3.420300       4.783757\n",
      "50    3.955984  0.660827       2.851449       5.488371\n",
      "..         ...       ...            ...            ...\n",
      "571  11.959677  0.424500      11.155953      12.821305\n",
      "575  11.959677  0.424500      11.155953      12.821305\n",
      "577   8.786967  0.329703       8.163950       9.457529\n",
      "579  11.959677  0.424500      11.155953      12.821305\n",
      "581   8.786967  0.329703       8.163950       9.457529\n",
      "\n",
      "[81 rows x 4 columns]\n"
     ]
    }
   ],
   "source": [
    "poisson_predictions = poisson_training_results.get_prediction(X_test)\n",
    " \n",
    "#.summary_frame() returns a pandas DataFrame\n",
    "predictions_summary_frame = poisson_predictions.summary_frame()\n",
    "print(predictions_summary_frame)"
   ]
  },
  {
   "cell_type": "code",
   "execution_count": 1042,
   "metadata": {},
   "outputs": [
    {
     "data": {
      "image/png": "[encoded data removed]",
      "text/plain": [
       "<Figure size 432x288 with 1 Axes>"
      ]
     },
     "metadata": {
      "needs_background": "light"
     },
     "output_type": "display_data"
    }
   ],
   "source": [
    "predicted_counts=predictions_summary_frame['mean']\n",
    "actual_counts = y_test['All_GR']\n",
    " \n",
    "fig = plt.figure()\n",
    "\n",
    " \n",
    "predicted, = plt.plot(X_test.index, predicted_counts, 'go-', label='Predicted counts')\n",
    "actual, = plt.plot(X_test.index, actual_counts, 'ro-', label='Actual counts')\n",
    " \n",
    "plt.legend(handles=[predicted, actual])\n",
    " \n",
    "plt.show()"
   ]
  },
  {
   "cell_type": "markdown",
   "metadata": {},
   "source": [
    "Dropping:"
   ]
  },
  {
   "cell_type": "code",
   "execution_count": 1043,
   "metadata": {},
   "outputs": [],
   "source": [
    "drops_concatGR = drops_concat[drops_concat['All_GR'].notna()]"
   ]
  },
  {
   "cell_type": "code",
   "execution_count": 1044,
   "metadata": {},
   "outputs": [
    {
     "name": "stdout",
     "output_type": "stream",
     "text": [
      "Training data set length=357\n",
      "Testing data set length=81\n"
     ]
    }
   ],
   "source": [
    "# Create training and testing datasets\n",
    "np.random.seed(25)\n",
    "mask = np.random.rand(len(drops_concatGR)) < 0.8\n",
    "drops_train = drops_concatGR[mask]\n",
    "drops_test = drops_concatGR[~mask]\n",
    "print('Training data set length='+str(len(drops_train)))\n",
    "print('Testing data set length='+str(len(drops_test)))"
   ]
  },
  {
   "cell_type": "code",
   "execution_count": 1045,
   "metadata": {},
   "outputs": [],
   "source": [
    "expr = \"\"\"All_GR ~ Blue_Runner + Squid + Mackerel + Herring + Bluefish + Humbolt_Squid + \n",
    "Temperature + covid + light_training + GroupFeed + Varied_Target + Day_of_week + Month\"\"\""
   ]
  },
  {
   "cell_type": "code",
   "execution_count": 1046,
   "metadata": {},
   "outputs": [],
   "source": [
    "y_train, X_train = dmatrices(expr, drops_train, return_type='dataframe')\n",
    "y_test, X_test = dmatrices(expr, drops_test, return_type='dataframe')"
   ]
  },
  {
   "cell_type": "code",
   "execution_count": 1047,
   "metadata": {},
   "outputs": [
    {
     "name": "stdout",
     "output_type": "stream",
     "text": [
      "                 Generalized Linear Model Regression Results                  \n",
      "==============================================================================\n",
      "Dep. Variable:                 All_GR   No. Observations:                  357\n",
      "Model:                            GLM   Df Residuals:                      343\n",
      "Model Family:                 Poisson   Df Model:                           13\n",
      "Link Function:                    log   Scale:                          1.0000\n",
      "Method:                          IRLS   Log-Likelihood:                -471.21\n",
      "Date:                Wed, 09 Dec 2020   Deviance:                       505.98\n",
      "Time:                        00:20:10   Pearson chi2:                     507.\n",
      "No. Iterations:                     5                                         \n",
      "Covariance Type:            nonrobust                                         \n",
      "==================================================================================\n",
      "                     coef    std err          z      P>|z|      [0.025      0.975]\n",
      "----------------------------------------------------------------------------------\n",
      "Intercept          6.7656      3.277      2.065      0.039       0.343      13.188\n",
      "Blue_Runner        1.4447      0.341      4.232      0.000       0.776       2.114\n",
      "Squid             -0.2141      0.190     -1.127      0.260      -0.586       0.158\n",
      "Mackerel           0.4989      0.376      1.329      0.184      -0.237       1.235\n",
      "Herring            0.9254      0.393      2.356      0.018       0.156       1.695\n",
      "Bluefish           0.6381      0.380      1.679      0.093      -0.107       1.383\n",
      "Humbolt_Squid      1.3703      0.442      3.100      0.002       0.504       2.237\n",
      "Temperature       -0.0679      0.044     -1.556      0.120      -0.153       0.018\n",
      "covid              0.0456      0.275      0.166      0.868      -0.494       0.586\n",
      "light_training    -1.2940      0.307     -4.217      0.000      -1.895      -0.693\n",
      "GroupFeed         -1.2238      0.577     -2.120      0.034      -2.355      -0.092\n",
      "Varied_Target      0.8099      0.267      3.039      0.002       0.288       1.332\n",
      "Day_of_week       -0.4763      0.166     -2.868      0.004      -0.802      -0.151\n",
      "Month              0.0349      0.016      2.174      0.030       0.003       0.066\n",
      "==================================================================================\n"
     ]
    }
   ],
   "source": [
    "# Fit model and print results of model\n",
    "poisson_training_results = sm.GLM(y_train, X_train, family=sm.families.Poisson()).fit()\n",
    "print(poisson_training_results.summary())"
   ]
  },
  {
   "cell_type": "code",
   "execution_count": 1048,
   "metadata": {},
   "outputs": [
    {
     "name": "stdout",
     "output_type": "stream",
     "text": [
      "         mean   mean_se  mean_ci_lower  mean_ci_upper\n",
      "0    1.673579  0.326286       1.142072       2.452444\n",
      "25   1.504990  0.308532       1.007006       2.249237\n",
      "30   1.396571  0.276690       0.947158       2.059224\n",
      "41   0.536515  0.169833       0.288493       0.997765\n",
      "50   0.201594  0.145731       0.048882       0.831393\n",
      "..        ...       ...            ...            ...\n",
      "570  1.115146  0.126021       0.893590       1.391634\n",
      "574  1.308315  0.250679       0.898707       1.904612\n",
      "575  1.063297  0.114648       0.860747       1.313510\n",
      "578  1.041952  0.128067       0.818891       1.325774\n",
      "579  1.048957  0.113834       0.847977       1.297572\n",
      "\n",
      "[81 rows x 4 columns]\n"
     ]
    }
   ],
   "source": [
    "poisson_predictions = poisson_training_results.get_prediction(X_test)\n",
    " \n",
    "#.summary_frame() returns a pandas DataFrame\n",
    "predictions_summary_frame = poisson_predictions.summary_frame()\n",
    "print(predictions_summary_frame)"
   ]
  },
  {
   "cell_type": "code",
   "execution_count": 1049,
   "metadata": {},
   "outputs": [
    {
     "data": {
      "image/png": "[encoded data removed]",
      "text/plain": [
       "<Figure size 432x288 with 1 Axes>"
      ]
     },
     "metadata": {
      "needs_background": "light"
     },
     "output_type": "display_data"
    }
   ],
   "source": [
    "predicted_counts=predictions_summary_frame['mean']\n",
    "actual_counts = y_test['All_GR']\n",
    " \n",
    "fig = plt.figure()\n",
    "\n",
    " \n",
    "predicted, = plt.plot(X_test.index, predicted_counts, 'go-', label='Predicted counts')\n",
    "actual, = plt.plot(X_test.index, actual_counts, 'ro-', label='Actual counts')\n",
    " \n",
    "plt.legend(handles=[predicted, actual])\n",
    " \n",
    "plt.show()"
   ]
  },
  {
   "cell_type": "markdown",
   "metadata": {},
   "source": [
    "Targeting:"
   ]
  },
  {
   "cell_type": "code",
   "execution_count": 1050,
   "metadata": {},
   "outputs": [],
   "source": [
    "targets_concatGR = targets_concat[targets_concat['All_GR'].notna()]"
   ]
  },
  {
   "cell_type": "code",
   "execution_count": 1051,
   "metadata": {},
   "outputs": [
    {
     "name": "stdout",
     "output_type": "stream",
     "text": [
      "Training data set length=356\n",
      "Testing data set length=81\n"
     ]
    }
   ],
   "source": [
    "# Create training and testing datasets\n",
    "np.random.seed(25)\n",
    "mask = np.random.rand(len(targets_concatGR)) < 0.8\n",
    "targets_train = targets_concatGR[mask]\n",
    "targets_test = targets_concatGR[~mask]\n",
    "print('Training data set length='+str(len(targets_train)))\n",
    "print('Testing data set length='+str(len(targets_test)))"
   ]
  },
  {
   "cell_type": "code",
   "execution_count": 1052,
   "metadata": {},
   "outputs": [],
   "source": [
    "expr = \"\"\"All_GR ~ Saury + Blue_Runner + Squid + Herring + Sardine + Bonito + Bluefish + \n",
    "Mahi + Goggle_Eye + Humbolt_Squid + Temperature + covid + light_training + GroupFeed + Month\"\"\""
   ]
  },
  {
   "cell_type": "code",
   "execution_count": 1053,
   "metadata": {},
   "outputs": [],
   "source": [
    "y_train, X_train = dmatrices(expr, targets_train, return_type='dataframe')\n",
    "y_test, X_test = dmatrices(expr, targets_test, return_type='dataframe')"
   ]
  },
  {
   "cell_type": "code",
   "execution_count": 1054,
   "metadata": {},
   "outputs": [
    {
     "name": "stdout",
     "output_type": "stream",
     "text": [
      "                 Generalized Linear Model Regression Results                  \n",
      "==============================================================================\n",
      "Dep. Variable:                 All_GR   No. Observations:                  356\n",
      "Model:                            GLM   Df Residuals:                      340\n",
      "Model Family:                 Poisson   Df Model:                           15\n",
      "Link Function:                    log   Scale:                          1.0000\n",
      "Method:                          IRLS   Log-Likelihood:                -1531.1\n",
      "Date:                Wed, 09 Dec 2020   Deviance:                       1478.8\n",
      "Time:                        00:20:11   Pearson chi2:                 1.43e+03\n",
      "No. Iterations:                     5                                         \n",
      "Covariance Type:            nonrobust                                         \n",
      "==================================================================================\n",
      "                     coef    std err          z      P>|z|      [0.025      0.975]\n",
      "----------------------------------------------------------------------------------\n",
      "Intercept         -0.5391      0.662     -0.815      0.415      -1.836       0.758\n",
      "Saury              0.8590      0.099      8.692      0.000       0.665       1.053\n",
      "Blue_Runner        0.5678      0.092      6.202      0.000       0.388       0.747\n",
      "Squid              0.1460      0.050      2.919      0.004       0.048       0.244\n",
      "Herring            0.8673      0.083     10.493      0.000       0.705       1.029\n",
      "Sardine           -0.0679      0.087     -0.782      0.434      -0.238       0.102\n",
      "Bonito             0.2536      0.076      3.329      0.001       0.104       0.403\n",
      "Bluefish           0.3934      0.094      4.205      0.000       0.210       0.577\n",
      "Mahi              -0.2710      0.106     -2.558      0.011      -0.479      -0.063\n",
      "Goggle_Eye        -0.2880      0.112     -2.567      0.010      -0.508      -0.068\n",
      "Humbolt_Squid      0.8692      0.142      6.116      0.000       0.591       1.148\n",
      "Temperature        0.0323      0.009      3.603      0.000       0.015       0.050\n",
      "covid             -0.2065      0.070     -2.948      0.003      -0.344      -0.069\n",
      "light_training     0.2939      0.056      5.275      0.000       0.185       0.403\n",
      "GroupFeed         -0.3341      0.089     -3.750      0.000      -0.509      -0.159\n",
      "Month              0.0195      0.004      4.759      0.000       0.011       0.027\n",
      "==================================================================================\n"
     ]
    }
   ],
   "source": [
    "# Fit model and print results of model\n",
    "poisson_training_results = sm.GLM(y_train, X_train, family=sm.families.Poisson()).fit()\n",
    "print(poisson_training_results.summary())"
   ]
  },
  {
   "cell_type": "code",
   "execution_count": 1055,
   "metadata": {},
   "outputs": [
    {
     "name": "stdout",
     "output_type": "stream",
     "text": [
      "          mean   mean_se  mean_ci_lower  mean_ci_upper\n",
      "0    13.237093  0.820049      11.723572      14.946011\n",
      "25    9.242382  0.589597       8.156117      10.473321\n",
      "30   15.344587  0.908287      13.663762      17.232174\n",
      "41   10.855519  0.577163       9.781245      12.047780\n",
      "50   14.225720  1.766983      11.151831      18.146896\n",
      "..         ...       ...            ...            ...\n",
      "571  24.843041  0.574518      23.742143      25.994985\n",
      "575  24.843041  0.574518      23.742143      25.994985\n",
      "577  18.102326  0.473104      17.198409      19.053753\n",
      "579  25.004004  0.573831      23.904236      26.154370\n",
      "581  17.985793  0.465131      17.096872      18.920931\n",
      "\n",
      "[81 rows x 4 columns]\n"
     ]
    }
   ],
   "source": [
    "poisson_predictions = poisson_training_results.get_prediction(X_test)\n",
    " \n",
    "#.summary_frame() returns a pandas DataFrame\n",
    "predictions_summary_frame = poisson_predictions.summary_frame()\n",
    "print(predictions_summary_frame)"
   ]
  },
  {
   "cell_type": "code",
   "execution_count": 1056,
   "metadata": {},
   "outputs": [
    {
     "data": {
      "image/png": "[encoded data removed]",
      "text/plain": [
       "<Figure size 432x288 with 1 Axes>"
      ]
     },
     "metadata": {
      "needs_background": "light"
     },
     "output_type": "display_data"
    }
   ],
   "source": [
    "predicted_counts=predictions_summary_frame['mean']\n",
    "actual_counts = y_test['All_GR']\n",
    " \n",
    "fig = plt.figure()\n",
    "\n",
    " \n",
    "predicted, = plt.plot(X_test.index, predicted_counts, 'go-', label='Predicted counts')\n",
    "actual, = plt.plot(X_test.index, actual_counts, 'ro-', label='Actual counts')\n",
    " \n",
    "plt.legend(handles=[predicted, actual])\n",
    " \n",
    "plt.show()"
   ]
  },
  {
   "cell_type": "markdown",
   "metadata": {},
   "source": [
    "# Poisson Regression for Each Gender of Shark"
   ]
  },
  {
   "cell_type": "markdown",
   "metadata": {},
   "source": [
    "# Male"
   ]
  },
  {
   "cell_type": "markdown",
   "metadata": {},
   "source": [
    "Eating:"
   ]
  },
  {
   "cell_type": "code",
   "execution_count": 1057,
   "metadata": {},
   "outputs": [],
   "source": [
    "expr = \"\"\"male ~ Saury + Blue_Runner + Squid + Mackerel + Sardine + Garlic + Salmon + \n",
    "Bonito + Mahi + covid + light_training + GroupFeed\"\"\""
   ]
  },
  {
   "cell_type": "code",
   "execution_count": 1058,
   "metadata": {},
   "outputs": [],
   "source": [
    "eat_concatM = eat_concat[eat_concat['male'].notna()]"
   ]
  },
  {
   "cell_type": "code",
   "execution_count": 1059,
   "metadata": {},
   "outputs": [
    {
     "name": "stdout",
     "output_type": "stream",
     "text": [
      "Training data set length=466\n",
      "Testing data set length=116\n"
     ]
    }
   ],
   "source": [
    "# Create training and testing datasets\n",
    "np.random.seed(25)\n",
    "mask = np.random.rand(len(eat_concatM)) < 0.8\n",
    "eat_train = eat_concatM[mask]\n",
    "eat_test = eat_concatM[~mask]\n",
    "print('Training data set length='+str(len(eat_train)))\n",
    "print('Testing data set length='+str(len(eat_test)))"
   ]
  },
  {
   "cell_type": "code",
   "execution_count": 1060,
   "metadata": {},
   "outputs": [],
   "source": [
    "y_train, X_train = dmatrices(expr, eat_train, return_type='dataframe')\n",
    "y_test, X_test = dmatrices(expr, eat_test, return_type='dataframe')"
   ]
  },
  {
   "cell_type": "code",
   "execution_count": 1061,
   "metadata": {},
   "outputs": [
    {
     "name": "stdout",
     "output_type": "stream",
     "text": [
      "                 Generalized Linear Model Regression Results                  \n",
      "==============================================================================\n",
      "Dep. Variable:                   male   No. Observations:                  466\n",
      "Model:                            GLM   Df Residuals:                      453\n",
      "Model Family:                 Poisson   Df Model:                           12\n",
      "Link Function:                    log   Scale:                          1.0000\n",
      "Method:                          IRLS   Log-Likelihood:                -1432.7\n",
      "Date:                Wed, 09 Dec 2020   Deviance:                       1142.0\n",
      "Time:                        00:20:12   Pearson chi2:                 1.09e+03\n",
      "No. Iterations:                     5                                         \n",
      "Covariance Type:            nonrobust                                         \n",
      "==================================================================================\n",
      "                     coef    std err          z      P>|z|      [0.025      0.975]\n",
      "----------------------------------------------------------------------------------\n",
      "Intercept          0.4977      0.086      5.756      0.000       0.328       0.667\n",
      "Saury              0.7006      0.078      8.975      0.000       0.548       0.854\n",
      "Blue_Runner        0.6550      0.077      8.480      0.000       0.504       0.806\n",
      "Squid              0.0343      0.058      0.589      0.556      -0.080       0.148\n",
      "Mackerel           0.5917      0.068      8.669      0.000       0.458       0.725\n",
      "Sardine            0.6702      0.070      9.585      0.000       0.533       0.807\n",
      "Garlic             0.3118      0.046      6.818      0.000       0.222       0.401\n",
      "Salmon            -0.0920      0.054     -1.708      0.088      -0.198       0.014\n",
      "Bonito             0.2296      0.114      2.010      0.044       0.006       0.454\n",
      "Mahi              -0.2468      0.137     -1.807      0.071      -0.515       0.021\n",
      "covid             -0.0906      0.076     -1.190      0.234      -0.240       0.059\n",
      "light_training     0.3962      0.066      5.959      0.000       0.266       0.527\n",
      "GroupFeed          0.7176      0.071     10.079      0.000       0.578       0.857\n",
      "==================================================================================\n"
     ]
    }
   ],
   "source": [
    "# Fit model and print results of model\n",
    "poisson_training_results = sm.GLM(y_train, X_train, family=sm.families.Poisson()).fit()\n",
    "print(poisson_training_results.summary())"
   ]
  },
  {
   "cell_type": "code",
   "execution_count": 1062,
   "metadata": {},
   "outputs": [
    {
     "name": "stdout",
     "output_type": "stream",
     "text": [
      "          mean   mean_se  mean_ci_lower  mean_ci_upper\n",
      "0     9.278318  0.623951       8.132563      10.585493\n",
      "19    7.935424  0.554452       6.919843       9.100056\n",
      "23    7.935424  0.554452       6.919843       9.100056\n",
      "31    5.809832  0.472620       4.953586       6.814083\n",
      "38    1.644924  0.142220       1.388516       1.948680\n",
      "..         ...       ...            ...            ...\n",
      "564  11.793323  0.345056      11.136052      12.489388\n",
      "571   2.444622  0.143538       2.178877       2.742779\n",
      "577  13.789080  0.406425      13.015073      14.609118\n",
      "578  13.633593  0.426682      12.822445      14.496055\n",
      "581  13.789080  0.406425      13.015073      14.609118\n",
      "\n",
      "[116 rows x 4 columns]\n"
     ]
    }
   ],
   "source": [
    "poisson_predictions = poisson_training_results.get_prediction(X_test)\n",
    " \n",
    "#.summary_frame() returns a pandas DataFrame\n",
    "predictions_summary_frame = poisson_predictions.summary_frame()\n",
    "print(predictions_summary_frame)"
   ]
  },
  {
   "cell_type": "code",
   "execution_count": 1063,
   "metadata": {},
   "outputs": [
    {
     "data": {
      "image/png": "[encoded data removed]",
      "text/plain": [
       "<Figure size 432x288 with 1 Axes>"
      ]
     },
     "metadata": {
      "needs_background": "light"
     },
     "output_type": "display_data"
    }
   ],
   "source": [
    "predicted_counts=predictions_summary_frame['mean']\n",
    "actual_counts = y_test['male']\n",
    " \n",
    "fig = plt.figure()\n",
    "\n",
    " \n",
    "predicted, = plt.plot(X_test.index, predicted_counts, 'go-', label='Predicted counts')\n",
    "actual, = plt.plot(X_test.index, actual_counts, 'ro-', label='Actual counts')\n",
    " \n",
    "plt.legend(handles=[predicted, actual])\n",
    " \n",
    "plt.show()"
   ]
  },
  {
   "cell_type": "markdown",
   "metadata": {},
   "source": [
    "Dropping:"
   ]
  },
  {
   "cell_type": "code",
   "execution_count": 1064,
   "metadata": {},
   "outputs": [],
   "source": [
    "drops_concatM = drops_concat[drops_concat['male'].notna()]"
   ]
  },
  {
   "cell_type": "code",
   "execution_count": 1065,
   "metadata": {},
   "outputs": [
    {
     "name": "stdout",
     "output_type": "stream",
     "text": [
      "Training data set length=466\n",
      "Testing data set length=116\n"
     ]
    }
   ],
   "source": [
    "# Create training and testing datasets\n",
    "np.random.seed(25)\n",
    "mask = np.random.rand(len(drops_concatM)) < 0.8\n",
    "drops_train = drops_concatM[mask]\n",
    "drops_test = drops_concatM[~mask]\n",
    "print('Training data set length='+str(len(drops_train)))\n",
    "print('Testing data set length='+str(len(drops_test)))"
   ]
  },
  {
   "cell_type": "code",
   "execution_count": 1066,
   "metadata": {},
   "outputs": [],
   "source": [
    "expr = \"\"\"male ~ Saury + Blue_Runner + Mackerel + Herring + Sardine + Salmon + Temperature +\n",
    "covid + GroupFeed + Varied_Target + Month\"\"\""
   ]
  },
  {
   "cell_type": "code",
   "execution_count": 1067,
   "metadata": {},
   "outputs": [],
   "source": [
    "y_train, X_train = dmatrices(expr, drops_train, return_type='dataframe')\n",
    "y_test, X_test = dmatrices(expr, drops_test, return_type='dataframe')"
   ]
  },
  {
   "cell_type": "code",
   "execution_count": 1068,
   "metadata": {},
   "outputs": [
    {
     "name": "stdout",
     "output_type": "stream",
     "text": [
      "                 Generalized Linear Model Regression Results                  \n",
      "==============================================================================\n",
      "Dep. Variable:                   male   No. Observations:                  466\n",
      "Model:                            GLM   Df Residuals:                      454\n",
      "Model Family:                 Poisson   Df Model:                           11\n",
      "Link Function:                    log   Scale:                          1.0000\n",
      "Method:                          IRLS   Log-Likelihood:                -701.46\n",
      "Date:                Wed, 09 Dec 2020   Deviance:                       654.39\n",
      "Time:                        00:20:13   Pearson chi2:                     686.\n",
      "No. Iterations:                     5                                         \n",
      "Covariance Type:            nonrobust                                         \n",
      "=================================================================================\n",
      "                    coef    std err          z      P>|z|      [0.025      0.975]\n",
      "---------------------------------------------------------------------------------\n",
      "Intercept         7.1195      2.148      3.314      0.001       2.909      11.330\n",
      "Saury             0.4515      0.217      2.083      0.037       0.027       0.876\n",
      "Blue_Runner       0.6191      0.216      2.865      0.004       0.196       1.043\n",
      "Mackerel          0.3587      0.189      1.902      0.057      -0.011       0.728\n",
      "Herring          -0.6405      0.228     -2.806      0.005      -1.088      -0.193\n",
      "Sardine           0.5411      0.197      2.748      0.006       0.155       0.927\n",
      "Salmon           -0.2420      0.155     -1.558      0.119      -0.546       0.062\n",
      "Temperature      -0.0991      0.029     -3.454      0.001      -0.155      -0.043\n",
      "covid             0.2709      0.186      1.455      0.146      -0.094       0.636\n",
      "GroupFeed         0.7418      0.194      3.827      0.000       0.362       1.122\n",
      "Varied_Target    -0.5387      0.093     -5.789      0.000      -0.721      -0.356\n",
      "Month             0.0171      0.011      1.530      0.126      -0.005       0.039\n",
      "=================================================================================\n"
     ]
    }
   ],
   "source": [
    "# Fit model and print results of model\n",
    "poisson_training_results = sm.GLM(y_train, X_train, family=sm.families.Poisson()).fit()\n",
    "print(poisson_training_results.summary())"
   ]
  },
  {
   "cell_type": "code",
   "execution_count": 1069,
   "metadata": {},
   "outputs": [
    {
     "name": "stdout",
     "output_type": "stream",
     "text": [
      "         mean   mean_se  mean_ci_lower  mean_ci_upper\n",
      "0    3.543175  0.467131       2.736342       4.587909\n",
      "19   1.943201  0.230446       1.540185       2.451674\n",
      "23   2.021766  0.239608       1.602698       2.550411\n",
      "31   2.145610  0.258472       1.694378       2.717009\n",
      "38   0.449577  0.083367       0.312580       0.646615\n",
      "..        ...       ...            ...            ...\n",
      "564  0.987877  0.106392       0.799891       1.220043\n",
      "571  0.267819  0.047598       0.189044       0.379419\n",
      "577  1.548252  0.138693       1.298945       1.845408\n",
      "578  1.830831  0.153854       1.552808       2.158633\n",
      "581  1.579240  0.139288       1.328534       1.877258\n",
      "\n",
      "[116 rows x 4 columns]\n"
     ]
    }
   ],
   "source": [
    "poisson_predictions = poisson_training_results.get_prediction(X_test)\n",
    " \n",
    "#.summary_frame() returns a pandas DataFrame\n",
    "predictions_summary_frame = poisson_predictions.summary_frame()\n",
    "print(predictions_summary_frame)"
   ]
  },
  {
   "cell_type": "code",
   "execution_count": 1070,
   "metadata": {},
   "outputs": [
    {
     "data": {
      "image/png": "[encoded data removed]",
      "text/plain": [
       "<Figure size 432x288 with 1 Axes>"
      ]
     },
     "metadata": {
      "needs_background": "light"
     },
     "output_type": "display_data"
    }
   ],
   "source": [
    "predicted_counts=predictions_summary_frame['mean']\n",
    "actual_counts = y_test['male']\n",
    " \n",
    "fig = plt.figure()\n",
    "\n",
    " \n",
    "predicted, = plt.plot(X_test.index, predicted_counts, 'go-', label='Predicted counts')\n",
    "actual, = plt.plot(X_test.index, actual_counts, 'ro-', label='Actual counts')\n",
    " \n",
    "plt.legend(handles=[predicted, actual])\n",
    " \n",
    "plt.show()"
   ]
  },
  {
   "cell_type": "markdown",
   "metadata": {},
   "source": [
    "Targeting:"
   ]
  },
  {
   "cell_type": "code",
   "execution_count": 1071,
   "metadata": {},
   "outputs": [],
   "source": [
    "targets_concatM = targets_concat[targets_concat['male'].notna()]"
   ]
  },
  {
   "cell_type": "code",
   "execution_count": 1072,
   "metadata": {},
   "outputs": [
    {
     "name": "stdout",
     "output_type": "stream",
     "text": [
      "Training data set length=466\n",
      "Testing data set length=116\n"
     ]
    }
   ],
   "source": [
    "# Create training and testing datasets\n",
    "np.random.seed(25)\n",
    "mask = np.random.rand(len(targets_concatM)) < 0.8\n",
    "targets_train = targets_concatM[mask]\n",
    "targets_test = targets_concatM[~mask]\n",
    "print('Training data set length='+str(len(targets_train)))\n",
    "print('Testing data set length='+str(len(targets_test)))"
   ]
  },
  {
   "cell_type": "code",
   "execution_count": 1073,
   "metadata": {},
   "outputs": [],
   "source": [
    "expr = \"\"\"male ~ Saury + Blue_Runner + Mackerel + Herring + Sardine + Garlic + Salmon + \n",
    "Humbolt_Squid + covid + light_training + GroupFeed + Varied_Target + Day_of_week + Day\"\"\""
   ]
  },
  {
   "cell_type": "code",
   "execution_count": 1074,
   "metadata": {},
   "outputs": [],
   "source": [
    "y_train, X_train = dmatrices(expr, targets_train, return_type='dataframe')\n",
    "y_test, X_test = dmatrices(expr, targets_test, return_type='dataframe')"
   ]
  },
  {
   "cell_type": "code",
   "execution_count": 1075,
   "metadata": {},
   "outputs": [
    {
     "name": "stdout",
     "output_type": "stream",
     "text": [
      "                 Generalized Linear Model Regression Results                  \n",
      "==============================================================================\n",
      "Dep. Variable:                   male   No. Observations:                  466\n",
      "Model:                            GLM   Df Residuals:                      451\n",
      "Model Family:                 Poisson   Df Model:                           14\n",
      "Link Function:                    log   Scale:                          1.0000\n",
      "Method:                          IRLS   Log-Likelihood:                -2949.2\n",
      "Date:                Wed, 09 Dec 2020   Deviance:                       3714.2\n",
      "Time:                        00:20:14   Pearson chi2:                 3.94e+03\n",
      "No. Iterations:                     5                                         \n",
      "Covariance Type:            nonrobust                                         \n",
      "==================================================================================\n",
      "                     coef    std err          z      P>|z|      [0.025      0.975]\n",
      "----------------------------------------------------------------------------------\n",
      "Intercept          0.9785      0.102      9.560      0.000       0.778       1.179\n",
      "Saury              0.7211      0.058     12.534      0.000       0.608       0.834\n",
      "Blue_Runner        0.5493      0.053     10.313      0.000       0.445       0.654\n",
      "Mackerel           0.3888      0.044      8.754      0.000       0.302       0.476\n",
      "Herring           -0.4195      0.049     -8.560      0.000      -0.516      -0.323\n",
      "Sardine            0.6597      0.045     14.570      0.000       0.571       0.748\n",
      "Garlic             0.1814      0.026      7.041      0.000       0.131       0.232\n",
      "Salmon            -0.2232      0.035     -6.452      0.000      -0.291      -0.155\n",
      "Humbolt_Squid      0.3443      0.126      2.736      0.006       0.098       0.591\n",
      "covid             -0.2325      0.049     -4.780      0.000      -0.328      -0.137\n",
      "light_training     0.6778      0.047     14.370      0.000       0.585       0.770\n",
      "GroupFeed          0.9965      0.056     17.834      0.000       0.887       1.106\n",
      "Varied_Target     -0.1857      0.027     -6.884      0.000      -0.239      -0.133\n",
      "Day_of_week        0.1527      0.017      8.947      0.000       0.119       0.186\n",
      "Day                0.0020      0.001      1.948      0.051   -1.26e-05       0.004\n",
      "==================================================================================\n"
     ]
    }
   ],
   "source": [
    "# Fit model and print results of model\n",
    "poisson_training_results = sm.GLM(y_train, X_train, family=sm.families.Poisson()).fit()\n",
    "print(poisson_training_results.summary())"
   ]
  },
  {
   "cell_type": "code",
   "execution_count": 1076,
   "metadata": {},
   "outputs": [
    {
     "name": "stdout",
     "output_type": "stream",
     "text": [
      "          mean   mean_se  mean_ci_lower  mean_ci_upper\n",
      "0    20.906070  0.907260      19.201398      22.762080\n",
      "19   23.072394  1.007239      21.180340      25.133466\n",
      "23   23.391886  1.002358      21.507537      25.441329\n",
      "31   20.055956  1.006543      18.177089      22.129031\n",
      "38    3.828196  0.211927       3.434569       4.266937\n",
      "..         ...       ...            ...            ...\n",
      "564  39.484141  0.862657      37.829054      41.211642\n",
      "571   6.286465  0.245541       5.823173       6.786617\n",
      "577  35.357625  0.694809      34.021717      36.745990\n",
      "578  40.573318  0.786414      39.060885      42.144313\n",
      "581  35.847235  0.821856      34.272081      37.494783\n",
      "\n",
      "[116 rows x 4 columns]\n"
     ]
    }
   ],
   "source": [
    "poisson_predictions = poisson_training_results.get_prediction(X_test)\n",
    " \n",
    "#.summary_frame() returns a pandas DataFrame\n",
    "predictions_summary_frame = poisson_predictions.summary_frame()\n",
    "print(predictions_summary_frame)"
   ]
  },
  {
   "cell_type": "code",
   "execution_count": 1077,
   "metadata": {},
   "outputs": [
    {
     "data": {
      "image/png": "[encoded data removed]",
      "text/plain": [
       "<Figure size 432x288 with 1 Axes>"
      ]
     },
     "metadata": {
      "needs_background": "light"
     },
     "output_type": "display_data"
    }
   ],
   "source": [
    "predicted_counts=predictions_summary_frame['mean']\n",
    "actual_counts = y_test['male']\n",
    " \n",
    "fig = plt.figure()\n",
    "\n",
    " \n",
    "predicted, = plt.plot(X_test.index, predicted_counts, 'go-', label='Predicted counts')\n",
    "actual, = plt.plot(X_test.index, actual_counts, 'ro-', label='Actual counts')\n",
    " \n",
    "plt.legend(handles=[predicted, actual])\n",
    " \n",
    "plt.show()"
   ]
  },
  {
   "cell_type": "markdown",
   "metadata": {},
   "source": [
    "# Female"
   ]
  },
  {
   "cell_type": "markdown",
   "metadata": {},
   "source": [
    "Eating:"
   ]
  },
  {
   "cell_type": "code",
   "execution_count": 1078,
   "metadata": {},
   "outputs": [],
   "source": [
    "expr = \"\"\"female ~ Saury + Blue_Runner + Squid + Herring + Goggle_Eye + Humbolt_Squid + \n",
    "Temperature + covid + GroupFeed + Varied_Target + Day_of_week\"\"\""
   ]
  },
  {
   "cell_type": "code",
   "execution_count": 1079,
   "metadata": {},
   "outputs": [],
   "source": [
    "eat_concatF = eat_concat[eat_concat['female'].notna()]"
   ]
  },
  {
   "cell_type": "code",
   "execution_count": 1080,
   "metadata": {},
   "outputs": [
    {
     "name": "stdout",
     "output_type": "stream",
     "text": [
      "Training data set length=466\n",
      "Testing data set length=116\n"
     ]
    }
   ],
   "source": [
    "# Create training and testing datasets\n",
    "np.random.seed(25)\n",
    "mask = np.random.rand(len(eat_concatF)) < 0.8\n",
    "eat_train = eat_concatF[mask]\n",
    "eat_test = eat_concatF[~mask]\n",
    "print('Training data set length='+str(len(eat_train)))\n",
    "print('Testing data set length='+str(len(eat_test)))"
   ]
  },
  {
   "cell_type": "code",
   "execution_count": 1081,
   "metadata": {},
   "outputs": [],
   "source": [
    "y_train, X_train = dmatrices(expr, eat_train, return_type='dataframe')\n",
    "y_test, X_test = dmatrices(expr, eat_test, return_type='dataframe')"
   ]
  },
  {
   "cell_type": "code",
   "execution_count": 1082,
   "metadata": {},
   "outputs": [
    {
     "name": "stdout",
     "output_type": "stream",
     "text": [
      "                 Generalized Linear Model Regression Results                  \n",
      "==============================================================================\n",
      "Dep. Variable:                 female   No. Observations:                  466\n",
      "Model:                            GLM   Df Residuals:                      454\n",
      "Model Family:                 Poisson   Df Model:                           11\n",
      "Link Function:                    log   Scale:                          1.0000\n",
      "Method:                          IRLS   Log-Likelihood:                -1427.6\n",
      "Date:                Wed, 09 Dec 2020   Deviance:                       973.79\n",
      "Time:                        00:20:15   Pearson chi2:                     894.\n",
      "No. Iterations:                     4                                         \n",
      "Covariance Type:            nonrobust                                         \n",
      "=================================================================================\n",
      "                    coef    std err          z      P>|z|      [0.025      0.975]\n",
      "---------------------------------------------------------------------------------\n",
      "Intercept        -1.9791      0.748     -2.647      0.008      -3.445      -0.513\n",
      "Saury             0.5057      0.086      5.860      0.000       0.337       0.675\n",
      "Blue_Runner       0.3136      0.075      4.160      0.000       0.166       0.461\n",
      "Squid             0.1162      0.057      2.046      0.041       0.005       0.228\n",
      "Herring           0.2488      0.049      5.106      0.000       0.153       0.344\n",
      "Goggle_Eye       -0.4601      0.195     -2.355      0.019      -0.843      -0.077\n",
      "Humbolt_Squid     0.4890      0.208      2.355      0.019       0.082       0.896\n",
      "Temperature       0.0486      0.010      4.928      0.000       0.029       0.068\n",
      "covid            -0.1061      0.071     -1.499      0.134      -0.245       0.033\n",
      "GroupFeed         0.2704      0.107      2.523      0.012       0.060       0.481\n",
      "Varied_Target     0.3222      0.041      7.878      0.000       0.242       0.402\n",
      "Day_of_week       0.0059      0.027      0.218      0.827      -0.047       0.059\n",
      "=================================================================================\n"
     ]
    }
   ],
   "source": [
    "# Fit model and print results of model\n",
    "poisson_training_results = sm.GLM(y_train, X_train, family=sm.families.Poisson()).fit()\n",
    "print(poisson_training_results.summary())"
   ]
  },
  {
   "cell_type": "code",
   "execution_count": 1083,
   "metadata": {},
   "outputs": [
    {
     "name": "stdout",
     "output_type": "stream",
     "text": [
      "          mean   mean_se  mean_ci_lower  mean_ci_upper\n",
      "0    10.575794  0.479952       9.675728      11.559586\n",
      "19    5.314179  0.261545       4.825508       5.852337\n",
      "23    5.211922  0.259205       4.727863       5.745540\n",
      "31    5.062213  0.258538       4.580023       5.595168\n",
      "38    6.580766  0.314311       5.992684       7.226559\n",
      "..         ...       ...            ...            ...\n",
      "564   8.321629  0.332978       7.693939       9.000527\n",
      "571   9.534443  0.331577       8.906218      10.206982\n",
      "577  16.400835  0.429206      15.580817      17.264010\n",
      "578  15.383697  0.462342      14.503696      16.317091\n",
      "581  16.242273  0.416383      15.446341      17.079218\n",
      "\n",
      "[116 rows x 4 columns]\n"
     ]
    }
   ],
   "source": [
    "poisson_predictions = poisson_training_results.get_prediction(X_test)\n",
    " \n",
    "#.summary_frame() returns a pandas DataFrame\n",
    "predictions_summary_frame = poisson_predictions.summary_frame()\n",
    "print(predictions_summary_frame)"
   ]
  },
  {
   "cell_type": "code",
   "execution_count": 1084,
   "metadata": {},
   "outputs": [
    {
     "data": {
      "image/png": "[encoded data removed]",
      "text/plain": [
       "<Figure size 432x288 with 1 Axes>"
      ]
     },
     "metadata": {
      "needs_background": "light"
     },
     "output_type": "display_data"
    }
   ],
   "source": [
    "predicted_counts=predictions_summary_frame['mean']\n",
    "actual_counts = y_test['female']\n",
    " \n",
    "fig = plt.figure()\n",
    "\n",
    " \n",
    "predicted, = plt.plot(X_test.index, predicted_counts, 'go-', label='Predicted counts')\n",
    "actual, = plt.plot(X_test.index, actual_counts, 'ro-', label='Actual counts')\n",
    " \n",
    "plt.legend(handles=[predicted, actual])\n",
    " \n",
    "plt.show()"
   ]
  },
  {
   "cell_type": "markdown",
   "metadata": {},
   "source": [
    "Dropping:"
   ]
  },
  {
   "cell_type": "code",
   "execution_count": 1085,
   "metadata": {},
   "outputs": [],
   "source": [
    "drops_concatF = drops_concat[drops_concat['female'].notna()]"
   ]
  },
  {
   "cell_type": "code",
   "execution_count": 1086,
   "metadata": {},
   "outputs": [
    {
     "name": "stdout",
     "output_type": "stream",
     "text": [
      "Training data set length=466\n",
      "Testing data set length=116\n"
     ]
    }
   ],
   "source": [
    "# Create training and testing datasets\n",
    "np.random.seed(25)\n",
    "mask = np.random.rand(len(drops_concatF)) < 0.8\n",
    "drops_train = drops_concatF[mask]\n",
    "drops_test = drops_concatF[~mask]\n",
    "print('Training data set length='+str(len(drops_train)))\n",
    "print('Testing data set length='+str(len(drops_test)))"
   ]
  },
  {
   "cell_type": "code",
   "execution_count": 1087,
   "metadata": {},
   "outputs": [],
   "source": [
    "expr = \"\"\"female ~ Blue_Runner + Squid + Mackerel + Bluefish + Mahi + Temperature + covid + \n",
    "light_training + GroupFeed + Varied_Target\"\"\""
   ]
  },
  {
   "cell_type": "code",
   "execution_count": 1088,
   "metadata": {},
   "outputs": [],
   "source": [
    "y_train, X_train = dmatrices(expr, drops_train, return_type='dataframe')\n",
    "y_test, X_test = dmatrices(expr, drops_test, return_type='dataframe')"
   ]
  },
  {
   "cell_type": "code",
   "execution_count": 1089,
   "metadata": {},
   "outputs": [
    {
     "name": "stdout",
     "output_type": "stream",
     "text": [
      "                 Generalized Linear Model Regression Results                  \n",
      "==============================================================================\n",
      "Dep. Variable:                 female   No. Observations:                  466\n",
      "Model:                            GLM   Df Residuals:                      455\n",
      "Model Family:                 Poisson   Df Model:                           10\n",
      "Link Function:                    log   Scale:                          1.0000\n",
      "Method:                          IRLS   Log-Likelihood:                -847.25\n",
      "Date:                Wed, 09 Dec 2020   Deviance:                       755.55\n",
      "Time:                        00:20:16   Pearson chi2:                     839.\n",
      "No. Iterations:                     5                                         \n",
      "Covariance Type:            nonrobust                                         \n",
      "==================================================================================\n",
      "                     coef    std err          z      P>|z|      [0.025      0.975]\n",
      "----------------------------------------------------------------------------------\n",
      "Intercept          7.3071      1.921      3.804      0.000       3.542      11.072\n",
      "Blue_Runner        0.3855      0.118      3.256      0.001       0.153       0.618\n",
      "Squid             -0.1119      0.118     -0.947      0.344      -0.343       0.120\n",
      "Mackerel           0.6356      0.104      6.121      0.000       0.432       0.839\n",
      "Bluefish           0.4777      0.220      2.171      0.030       0.046       0.909\n",
      "Mahi               0.3138      0.225      1.393      0.163      -0.128       0.755\n",
      "Temperature       -0.0976      0.026     -3.747      0.000      -0.149      -0.047\n",
      "covid              0.2932      0.137      2.134      0.033       0.024       0.562\n",
      "light_training    -0.3426      0.161     -2.122      0.034      -0.659      -0.026\n",
      "GroupFeed          0.8297      0.103      8.068      0.000       0.628       1.031\n",
      "Varied_Target      0.2443      0.121      2.014      0.044       0.007       0.482\n",
      "==================================================================================\n"
     ]
    }
   ],
   "source": [
    "# Fit model and print results of model\n",
    "poisson_training_results = sm.GLM(y_train, X_train, family=sm.families.Poisson()).fit()\n",
    "print(poisson_training_results.summary())"
   ]
  },
  {
   "cell_type": "code",
   "execution_count": 1090,
   "metadata": {},
   "outputs": [
    {
     "name": "stdout",
     "output_type": "stream",
     "text": [
      "         mean   mean_se  mean_ci_lower  mean_ci_upper\n",
      "0    2.701188  0.317438       2.145475       3.400841\n",
      "19   1.978828  0.247077       1.549269       2.527488\n",
      "23   2.057596  0.254020       1.615382       2.620866\n",
      "31   2.181665  0.268306       1.714373       2.776327\n",
      "38   1.111215  0.154513       0.846135       1.459339\n",
      "..        ...       ...            ...            ...\n",
      "564  1.391588  0.132613       1.154502       1.677363\n",
      "571  0.913500  0.082579       0.765177       1.090575\n",
      "577  1.937018  0.133163       1.692842       2.216413\n",
      "578  2.546683  0.182774       2.212506       2.931333\n",
      "581  1.975193  0.132130       1.732482       2.251906\n",
      "\n",
      "[116 rows x 4 columns]\n"
     ]
    }
   ],
   "source": [
    "poisson_predictions = poisson_training_results.get_prediction(X_test)\n",
    " \n",
    "#.summary_frame() returns a pandas DataFrame\n",
    "predictions_summary_frame = poisson_predictions.summary_frame()\n",
    "print(predictions_summary_frame)"
   ]
  },
  {
   "cell_type": "code",
   "execution_count": 1091,
   "metadata": {},
   "outputs": [
    {
     "data": {
      "image/png": "[encoded data removed]",
      "text/plain": [
       "<Figure size 432x288 with 1 Axes>"
      ]
     },
     "metadata": {
      "needs_background": "light"
     },
     "output_type": "display_data"
    }
   ],
   "source": [
    "predicted_counts=predictions_summary_frame['mean']\n",
    "actual_counts = y_test['female']\n",
    " \n",
    "fig = plt.figure()\n",
    "\n",
    " \n",
    "predicted, = plt.plot(X_test.index, predicted_counts, 'go-', label='Predicted counts')\n",
    "actual, = plt.plot(X_test.index, actual_counts, 'ro-', label='Actual counts')\n",
    " \n",
    "plt.legend(handles=[predicted, actual])\n",
    " \n",
    "plt.show()"
   ]
  },
  {
   "cell_type": "markdown",
   "metadata": {},
   "source": [
    "\n",
    "Targeting:"
   ]
  },
  {
   "cell_type": "code",
   "execution_count": 1092,
   "metadata": {},
   "outputs": [],
   "source": [
    "targets_concatF = targets_concat[targets_concat['female'].notna()]"
   ]
  },
  {
   "cell_type": "code",
   "execution_count": 1093,
   "metadata": {},
   "outputs": [
    {
     "name": "stdout",
     "output_type": "stream",
     "text": [
      "Training data set length=466\n",
      "Testing data set length=116\n"
     ]
    }
   ],
   "source": [
    "# Create training and testing datasets\n",
    "np.random.seed(25)\n",
    "mask = np.random.rand(len(targets_concatF)) < 0.8\n",
    "targets_train = targets_concatF[mask]\n",
    "targets_test = targets_concatF[~mask]\n",
    "print('Training data set length='+str(len(targets_train)))\n",
    "print('Testing data set length='+str(len(targets_test)))"
   ]
  },
  {
   "cell_type": "code",
   "execution_count": 1094,
   "metadata": {},
   "outputs": [],
   "source": [
    "expr = \"\"\"female ~ Saury + Blue_Runner + Herring + Sardine + Salmon + Bonito + Bluefish + \n",
    "Goggle_Eye + Humbolt_Squid + Temperature + light_training + GroupFeed + Varied_Target + \n",
    "Day_of_week\"\"\""
   ]
  },
  {
   "cell_type": "code",
   "execution_count": 1095,
   "metadata": {},
   "outputs": [],
   "source": [
    "y_train, X_train = dmatrices(expr, targets_train, return_type='dataframe')\n",
    "y_test, X_test = dmatrices(expr, targets_test, return_type='dataframe')"
   ]
  },
  {
   "cell_type": "code",
   "execution_count": 1096,
   "metadata": {},
   "outputs": [
    {
     "name": "stdout",
     "output_type": "stream",
     "text": [
      "                 Generalized Linear Model Regression Results                  \n",
      "==============================================================================\n",
      "Dep. Variable:                 female   No. Observations:                  466\n",
      "Model:                            GLM   Df Residuals:                      451\n",
      "Model Family:                 Poisson   Df Model:                           14\n",
      "Link Function:                    log   Scale:                          1.0000\n",
      "Method:                          IRLS   Log-Likelihood:                -2292.9\n",
      "Date:                Wed, 09 Dec 2020   Deviance:                       2253.6\n",
      "Time:                        00:20:17   Pearson chi2:                 2.25e+03\n",
      "No. Iterations:                     4                                         \n",
      "Covariance Type:            nonrobust                                         \n",
      "==================================================================================\n",
      "                     coef    std err          z      P>|z|      [0.025      0.975]\n",
      "----------------------------------------------------------------------------------\n",
      "Intercept          1.0913      0.485      2.251      0.024       0.141       2.041\n",
      "Saury              0.4534      0.059      7.735      0.000       0.339       0.568\n",
      "Blue_Runner        0.3191      0.055      5.835      0.000       0.212       0.426\n",
      "Herring            0.2449      0.040      6.065      0.000       0.166       0.324\n",
      "Sardine            0.2923      0.043      6.868      0.000       0.209       0.376\n",
      "Salmon            -0.1468      0.034     -4.346      0.000      -0.213      -0.081\n",
      "Bonito             0.0911      0.070      1.296      0.195      -0.047       0.229\n",
      "Bluefish           0.2690      0.074      3.648      0.000       0.124       0.414\n",
      "Goggle_Eye        -0.3392      0.115     -2.938      0.003      -0.565      -0.113\n",
      "Humbolt_Squid      0.5838      0.127      4.585      0.000       0.334       0.833\n",
      "Temperature        0.0121      0.006      1.871      0.061      -0.001       0.025\n",
      "light_training     0.3176      0.050      6.355      0.000       0.220       0.416\n",
      "GroupFeed          0.5929      0.061      9.707      0.000       0.473       0.713\n",
      "Varied_Target      0.1337      0.031      4.358      0.000       0.074       0.194\n",
      "Day_of_week        0.0723      0.017      4.232      0.000       0.039       0.106\n",
      "==================================================================================\n"
     ]
    }
   ],
   "source": [
    "# Fit model and print results of model\n",
    "poisson_training_results = sm.GLM(y_train, X_train, family=sm.families.Poisson()).fit()\n",
    "print(poisson_training_results.summary())"
   ]
  },
  {
   "cell_type": "code",
   "execution_count": 1097,
   "metadata": {},
   "outputs": [
    {
     "name": "stdout",
     "output_type": "stream",
     "text": [
      "          mean   mean_se  mean_ci_lower  mean_ci_upper\n",
      "0    22.129057  0.917556      20.401816      24.002528\n",
      "19   15.163310  0.663346      13.917355      16.520810\n",
      "23   15.089987  0.656822      13.856024      16.433842\n",
      "31   14.980668  0.651441      13.756765      16.313458\n",
      "38   13.355375  0.588370      12.250575      14.559810\n",
      "..         ...       ...            ...            ...\n",
      "564  24.572866  0.596153      23.431773      25.769530\n",
      "571  21.227427  0.488929      20.290453      22.207669\n",
      "577  35.774382  0.668946      34.487008      37.109814\n",
      "578  36.141651  0.691678      34.811097      37.523062\n",
      "581  35.687784  0.655900      34.425121      36.996758\n",
      "\n",
      "[116 rows x 4 columns]\n"
     ]
    }
   ],
   "source": [
    "poisson_predictions = poisson_training_results.get_prediction(X_test)\n",
    " \n",
    "#.summary_frame() returns a pandas DataFrame\n",
    "predictions_summary_frame = poisson_predictions.summary_frame()\n",
    "print(predictions_summary_frame)"
   ]
  },
  {
   "cell_type": "code",
   "execution_count": 1098,
   "metadata": {},
   "outputs": [
    {
     "data": {
      "image/png": "[encoded data removed]",
      "text/plain": [
       "<Figure size 432x288 with 1 Axes>"
      ]
     },
     "metadata": {
      "needs_background": "light"
     },
     "output_type": "display_data"
    }
   ],
   "source": [
    "predicted_counts=predictions_summary_frame['mean']\n",
    "actual_counts = y_test['female']\n",
    " \n",
    "fig = plt.figure()\n",
    "\n",
    " \n",
    "predicted, = plt.plot(X_test.index, predicted_counts, 'go-', label='Predicted counts')\n",
    "actual, = plt.plot(X_test.index, actual_counts, 'ro-', label='Actual counts')\n",
    " \n",
    "plt.legend(handles=[predicted, actual])\n",
    " \n",
    "plt.show()"
   ]
  }
 ],
 "metadata": {
  "kernelspec": {
   "display_name": "Python 3",
   "language": "python",
   "name": "python3"
  },
  "language_info": {
   "codemirror_mode": {
    "name": "ipython",
    "version": 3
   },
   "file_extension": ".py",
   "mimetype": "text/x-python",
   "name": "python",
   "nbconvert_exporter": "python",
   "pygments_lexer": "ipython3",
   "version": "3.6.9"
  }
 },
 "nbformat": 4,
 "nbformat_minor": 4
}
