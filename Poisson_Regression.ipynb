{
 "cells": [
  {
   "cell_type": "code",
   "execution_count": 1,
   "metadata": {},
   "outputs": [],
   "source": [
    "# Import Packages\n",
    "import pandas as pd\n",
    "from patsy import dmatrices\n",
    "import numpy as np\n",
    "import statsmodels.api as sm\n",
    "import matplotlib.pyplot as plt\n",
    "import datetime\n",
    "from statsmodels.tools.eval_measures import rmse"
   ]
  },
  {
   "cell_type": "code",
   "execution_count": 2,
   "metadata": {},
   "outputs": [],
   "source": [
    "# Read in shark data\n",
    "eat = pd.read_excel(\"SharkData.xlsx\", sheet_name = 0)\n",
    "targets = pd.read_excel(\"SharkData.xlsx\", sheet_name = 1)\n",
    "drops = pd.read_excel(\"SharkData.xlsx\", sheet_name = 2)\n",
    "other_factors = pd.read_excel(\"SharkData.xlsx\", sheet_name = 3)"
   ]
  },
  {
   "cell_type": "markdown",
   "metadata": {},
   "source": [
    "# Data Cleaning"
   ]
  },
  {
   "cell_type": "code",
   "execution_count": 3,
   "metadata": {},
   "outputs": [
    {
     "data": {
      "text/html": [
       "<div>\n",
       "<style scoped>\n",
       "    .dataframe tbody tr th:only-of-type {\n",
       "        vertical-align: middle;\n",
       "    }\n",
       "\n",
       "    .dataframe tbody tr th {\n",
       "        vertical-align: top;\n",
       "    }\n",
       "\n",
       "    .dataframe thead th {\n",
       "        text-align: right;\n",
       "    }\n",
       "</style>\n",
       "<table border=\"1\" class=\"dataframe\">\n",
       "  <thead>\n",
       "    <tr style=\"text-align: right;\">\n",
       "      <th></th>\n",
       "      <th>Date</th>\n",
       "      <th>Ross</th>\n",
       "      <th>Chandler</th>\n",
       "      <th>BT1</th>\n",
       "      <th>BT2</th>\n",
       "      <th>BT3</th>\n",
       "      <th>BT4</th>\n",
       "      <th>BT5</th>\n",
       "      <th>GR1</th>\n",
       "      <th>GR2</th>\n",
       "      <th>GR3</th>\n",
       "      <th>GR4</th>\n",
       "      <th>GR5</th>\n",
       "      <th>Total</th>\n",
       "      <th>Etc. Comments</th>\n",
       "    </tr>\n",
       "  </thead>\n",
       "  <tbody>\n",
       "    <tr>\n",
       "      <th>0</th>\n",
       "      <td>2017-12-05</td>\n",
       "      <td>0.0</td>\n",
       "      <td>5.0</td>\n",
       "      <td>3.0</td>\n",
       "      <td>6.0</td>\n",
       "      <td>5.0</td>\n",
       "      <td>4.0</td>\n",
       "      <td>4.0</td>\n",
       "      <td>0.0</td>\n",
       "      <td>0.0</td>\n",
       "      <td>2.0</td>\n",
       "      <td>3.0</td>\n",
       "      <td>1.0</td>\n",
       "      <td>33.0</td>\n",
       "      <td>NaN</td>\n",
       "    </tr>\n",
       "    <tr>\n",
       "      <th>1</th>\n",
       "      <td>2017-12-07</td>\n",
       "      <td>1.0</td>\n",
       "      <td>0.0</td>\n",
       "      <td>0.0</td>\n",
       "      <td>2.0</td>\n",
       "      <td>0.0</td>\n",
       "      <td>0.0</td>\n",
       "      <td>0.0</td>\n",
       "      <td>0.0</td>\n",
       "      <td>0.0</td>\n",
       "      <td>0.0</td>\n",
       "      <td>0.0</td>\n",
       "      <td>0.0</td>\n",
       "      <td>3.0</td>\n",
       "      <td>NaN</td>\n",
       "    </tr>\n",
       "    <tr>\n",
       "      <th>2</th>\n",
       "      <td>2017-12-09</td>\n",
       "      <td>NaN</td>\n",
       "      <td>NaN</td>\n",
       "      <td>NaN</td>\n",
       "      <td>NaN</td>\n",
       "      <td>NaN</td>\n",
       "      <td>NaN</td>\n",
       "      <td>NaN</td>\n",
       "      <td>2.0</td>\n",
       "      <td>0.0</td>\n",
       "      <td>3.0</td>\n",
       "      <td>1.0</td>\n",
       "      <td>0.0</td>\n",
       "      <td>6.0</td>\n",
       "      <td>NaN</td>\n",
       "    </tr>\n",
       "    <tr>\n",
       "      <th>3</th>\n",
       "      <td>2017-12-10</td>\n",
       "      <td>5.0</td>\n",
       "      <td>1.0</td>\n",
       "      <td>1.0</td>\n",
       "      <td>3.0</td>\n",
       "      <td>2.0</td>\n",
       "      <td>2.0</td>\n",
       "      <td>0.0</td>\n",
       "      <td>NaN</td>\n",
       "      <td>NaN</td>\n",
       "      <td>NaN</td>\n",
       "      <td>NaN</td>\n",
       "      <td>NaN</td>\n",
       "      <td>14.0</td>\n",
       "      <td>NaN</td>\n",
       "    </tr>\n",
       "    <tr>\n",
       "      <th>4</th>\n",
       "      <td>2017-12-12</td>\n",
       "      <td>2.0</td>\n",
       "      <td>2.0</td>\n",
       "      <td>0.0</td>\n",
       "      <td>5.0</td>\n",
       "      <td>2.0</td>\n",
       "      <td>4.0</td>\n",
       "      <td>5.0</td>\n",
       "      <td>0.0</td>\n",
       "      <td>2.0</td>\n",
       "      <td>3.0</td>\n",
       "      <td>2.0</td>\n",
       "      <td>0.0</td>\n",
       "      <td>27.0</td>\n",
       "      <td>NaN</td>\n",
       "    </tr>\n",
       "  </tbody>\n",
       "</table>\n",
       "</div>"
      ],
      "text/plain": [
       "         Date  Ross  Chandler  BT1  BT2  BT3  BT4  BT5  GR1  GR2  GR3  GR4  \\\n",
       "0  2017-12-05   0.0       5.0  3.0  6.0  5.0  4.0  4.0  0.0  0.0  2.0  3.0   \n",
       "1  2017-12-07   1.0       0.0  0.0  2.0  0.0  0.0  0.0  0.0  0.0  0.0  0.0   \n",
       "2  2017-12-09   NaN       NaN  NaN  NaN  NaN  NaN  NaN  2.0  0.0  3.0  1.0   \n",
       "3  2017-12-10   5.0       1.0  1.0  3.0  2.0  2.0  0.0  NaN  NaN  NaN  NaN   \n",
       "4  2017-12-12   2.0       2.0  0.0  5.0  2.0  4.0  5.0  0.0  2.0  3.0  2.0   \n",
       "\n",
       "   GR5  Total Etc. Comments  \n",
       "0  1.0   33.0           NaN  \n",
       "1  0.0    3.0           NaN  \n",
       "2  0.0    6.0           NaN  \n",
       "3  NaN   14.0           NaN  \n",
       "4  0.0   27.0           NaN  "
      ]
     },
     "execution_count": 3,
     "metadata": {},
     "output_type": "execute_result"
    }
   ],
   "source": [
    "# Clean eating dataset\n",
    "eat = eat.iloc[1:,:-1]\n",
    "eat.rename(columns = {\"Unnamed: 14\":'Etc. Comments', \"Pieces Eaten\": \"Date\", 'Total: ' : 'Total'}, inplace = True)\n",
    "\n",
    "#get rid of null values at end of dataset\n",
    "eat = eat.head(582)\n",
    "\n",
    "# Change date to just date format, not datetime\n",
    "eat['Date'] = pd.to_datetime(eat['Date']).dt.date\n",
    "\n",
    "\n",
    "\n",
    "eat.reset_index(drop=True,inplace = True)\n",
    "eat.head()"
   ]
  },
  {
   "cell_type": "code",
   "execution_count": 4,
   "metadata": {},
   "outputs": [
    {
     "data": {
      "text/html": [
       "<div>\n",
       "<style scoped>\n",
       "    .dataframe tbody tr th:only-of-type {\n",
       "        vertical-align: middle;\n",
       "    }\n",
       "\n",
       "    .dataframe tbody tr th {\n",
       "        vertical-align: top;\n",
       "    }\n",
       "\n",
       "    .dataframe thead th {\n",
       "        text-align: right;\n",
       "    }\n",
       "</style>\n",
       "<table border=\"1\" class=\"dataframe\">\n",
       "  <thead>\n",
       "    <tr style=\"text-align: right;\">\n",
       "      <th></th>\n",
       "      <th>Date</th>\n",
       "      <th>Ross</th>\n",
       "      <th>Chandler</th>\n",
       "      <th>BT1</th>\n",
       "      <th>BT2</th>\n",
       "      <th>BT3</th>\n",
       "      <th>BT4</th>\n",
       "      <th>BT5</th>\n",
       "      <th>GR1</th>\n",
       "      <th>GR2</th>\n",
       "      <th>GR3</th>\n",
       "      <th>GR4</th>\n",
       "      <th>GR5</th>\n",
       "      <th>Total</th>\n",
       "    </tr>\n",
       "  </thead>\n",
       "  <tbody>\n",
       "    <tr>\n",
       "      <th>577</th>\n",
       "      <td>2020-09-22</td>\n",
       "      <td>0.0</td>\n",
       "      <td>0.0</td>\n",
       "      <td>1.0</td>\n",
       "      <td>4.0</td>\n",
       "      <td>0.0</td>\n",
       "      <td>2.0</td>\n",
       "      <td>2.0</td>\n",
       "      <td>0.0</td>\n",
       "      <td>0.0</td>\n",
       "      <td>0.0</td>\n",
       "      <td>1.0</td>\n",
       "      <td>0.0</td>\n",
       "      <td>10.0</td>\n",
       "    </tr>\n",
       "    <tr>\n",
       "      <th>578</th>\n",
       "      <td>2020-09-24</td>\n",
       "      <td>0.0</td>\n",
       "      <td>0.0</td>\n",
       "      <td>0.0</td>\n",
       "      <td>3.0</td>\n",
       "      <td>1.0</td>\n",
       "      <td>1.0</td>\n",
       "      <td>1.0</td>\n",
       "      <td>0.0</td>\n",
       "      <td>0.0</td>\n",
       "      <td>1.0</td>\n",
       "      <td>0.0</td>\n",
       "      <td>0.0</td>\n",
       "      <td>7.0</td>\n",
       "    </tr>\n",
       "    <tr>\n",
       "      <th>579</th>\n",
       "      <td>2020-09-26</td>\n",
       "      <td>NaN</td>\n",
       "      <td>NaN</td>\n",
       "      <td>NaN</td>\n",
       "      <td>NaN</td>\n",
       "      <td>NaN</td>\n",
       "      <td>NaN</td>\n",
       "      <td>NaN</td>\n",
       "      <td>0.0</td>\n",
       "      <td>0.0</td>\n",
       "      <td>0.0</td>\n",
       "      <td>0.0</td>\n",
       "      <td>1.0</td>\n",
       "      <td>1.0</td>\n",
       "    </tr>\n",
       "    <tr>\n",
       "      <th>580</th>\n",
       "      <td>2020-09-27</td>\n",
       "      <td>0.0</td>\n",
       "      <td>0.0</td>\n",
       "      <td>2.0</td>\n",
       "      <td>0.0</td>\n",
       "      <td>0.0</td>\n",
       "      <td>0.0</td>\n",
       "      <td>1.0</td>\n",
       "      <td>NaN</td>\n",
       "      <td>NaN</td>\n",
       "      <td>NaN</td>\n",
       "      <td>NaN</td>\n",
       "      <td>NaN</td>\n",
       "      <td>3.0</td>\n",
       "    </tr>\n",
       "    <tr>\n",
       "      <th>581</th>\n",
       "      <td>2020-09-29</td>\n",
       "      <td>0.0</td>\n",
       "      <td>0.0</td>\n",
       "      <td>0.0</td>\n",
       "      <td>2.0</td>\n",
       "      <td>0.0</td>\n",
       "      <td>0.0</td>\n",
       "      <td>1.0</td>\n",
       "      <td>0.0</td>\n",
       "      <td>0.0</td>\n",
       "      <td>1.0</td>\n",
       "      <td>0.0</td>\n",
       "      <td>0.0</td>\n",
       "      <td>4.0</td>\n",
       "    </tr>\n",
       "  </tbody>\n",
       "</table>\n",
       "</div>"
      ],
      "text/plain": [
       "           Date  Ross  Chandler  BT1  BT2  BT3  BT4  BT5  GR1  GR2  GR3  GR4  \\\n",
       "577  2020-09-22   0.0       0.0  1.0  4.0  0.0  2.0  2.0  0.0  0.0  0.0  1.0   \n",
       "578  2020-09-24   0.0       0.0  0.0  3.0  1.0  1.0  1.0  0.0  0.0  1.0  0.0   \n",
       "579  2020-09-26   NaN       NaN  NaN  NaN  NaN  NaN  NaN  0.0  0.0  0.0  0.0   \n",
       "580  2020-09-27   0.0       0.0  2.0  0.0  0.0  0.0  1.0  NaN  NaN  NaN  NaN   \n",
       "581  2020-09-29   0.0       0.0  0.0  2.0  0.0  0.0  1.0  0.0  0.0  1.0  0.0   \n",
       "\n",
       "     GR5  Total  \n",
       "577  0.0   10.0  \n",
       "578  0.0    7.0  \n",
       "579  1.0    1.0  \n",
       "580  NaN    3.0  \n",
       "581  0.0    4.0  "
      ]
     },
     "execution_count": 4,
     "metadata": {},
     "output_type": "execute_result"
    }
   ],
   "source": [
    "# Clean Drops Dataset\n",
    "drops = drops.iloc[1:,:-1]\n",
    "drops['Drops'] = pd.to_datetime(drops['Drops']).dt.date\n",
    "drops.rename(columns = {\"Drops\" : \"Date\", \"Total: \":\"Total\"}, inplace = True)\n",
    "drops.reset_index(drop=True,inplace = True)\n",
    "drops.tail()"
   ]
  },
  {
   "cell_type": "code",
   "execution_count": 5,
   "metadata": {},
   "outputs": [
    {
     "data": {
      "text/html": [
       "<div>\n",
       "<style scoped>\n",
       "    .dataframe tbody tr th:only-of-type {\n",
       "        vertical-align: middle;\n",
       "    }\n",
       "\n",
       "    .dataframe tbody tr th {\n",
       "        vertical-align: top;\n",
       "    }\n",
       "\n",
       "    .dataframe thead th {\n",
       "        text-align: right;\n",
       "    }\n",
       "</style>\n",
       "<table border=\"1\" class=\"dataframe\">\n",
       "  <thead>\n",
       "    <tr style=\"text-align: right;\">\n",
       "      <th></th>\n",
       "      <th>Date</th>\n",
       "      <th>Ross</th>\n",
       "      <th>Chandler</th>\n",
       "      <th>BT1</th>\n",
       "      <th>BT2</th>\n",
       "      <th>BT3</th>\n",
       "      <th>BT4</th>\n",
       "      <th>BT5</th>\n",
       "      <th>GR1</th>\n",
       "      <th>GR2</th>\n",
       "      <th>GR3</th>\n",
       "      <th>GR4</th>\n",
       "      <th>GR5</th>\n",
       "      <th>Total</th>\n",
       "    </tr>\n",
       "  </thead>\n",
       "  <tbody>\n",
       "    <tr>\n",
       "      <th>577</th>\n",
       "      <td>2020-09-22</td>\n",
       "      <td>6.0</td>\n",
       "      <td>1.0</td>\n",
       "      <td>4.0</td>\n",
       "      <td>6.0</td>\n",
       "      <td>5.0</td>\n",
       "      <td>4.0</td>\n",
       "      <td>7.0</td>\n",
       "      <td>2.0</td>\n",
       "      <td>1.0</td>\n",
       "      <td>5.0</td>\n",
       "      <td>4.0</td>\n",
       "      <td>1.0</td>\n",
       "      <td>46.0</td>\n",
       "    </tr>\n",
       "    <tr>\n",
       "      <th>578</th>\n",
       "      <td>2020-09-24</td>\n",
       "      <td>8.0</td>\n",
       "      <td>18.0</td>\n",
       "      <td>2.0</td>\n",
       "      <td>9.0</td>\n",
       "      <td>10.0</td>\n",
       "      <td>10.0</td>\n",
       "      <td>11.0</td>\n",
       "      <td>5.0</td>\n",
       "      <td>6.0</td>\n",
       "      <td>3.0</td>\n",
       "      <td>7.0</td>\n",
       "      <td>9.0</td>\n",
       "      <td>98.0</td>\n",
       "    </tr>\n",
       "    <tr>\n",
       "      <th>579</th>\n",
       "      <td>2020-09-26</td>\n",
       "      <td>NaN</td>\n",
       "      <td>NaN</td>\n",
       "      <td>NaN</td>\n",
       "      <td>NaN</td>\n",
       "      <td>NaN</td>\n",
       "      <td>NaN</td>\n",
       "      <td>NaN</td>\n",
       "      <td>6.0</td>\n",
       "      <td>2.0</td>\n",
       "      <td>3.0</td>\n",
       "      <td>5.0</td>\n",
       "      <td>8.0</td>\n",
       "      <td>24.0</td>\n",
       "    </tr>\n",
       "    <tr>\n",
       "      <th>580</th>\n",
       "      <td>2020-09-27</td>\n",
       "      <td>10.0</td>\n",
       "      <td>19.0</td>\n",
       "      <td>9.0</td>\n",
       "      <td>10.0</td>\n",
       "      <td>8.0</td>\n",
       "      <td>16.0</td>\n",
       "      <td>3.0</td>\n",
       "      <td>NaN</td>\n",
       "      <td>NaN</td>\n",
       "      <td>NaN</td>\n",
       "      <td>NaN</td>\n",
       "      <td>NaN</td>\n",
       "      <td>75.0</td>\n",
       "    </tr>\n",
       "    <tr>\n",
       "      <th>581</th>\n",
       "      <td>2020-09-29</td>\n",
       "      <td>15.0</td>\n",
       "      <td>5.0</td>\n",
       "      <td>6.0</td>\n",
       "      <td>6.0</td>\n",
       "      <td>4.0</td>\n",
       "      <td>4.0</td>\n",
       "      <td>7.0</td>\n",
       "      <td>4.0</td>\n",
       "      <td>1.0</td>\n",
       "      <td>4.0</td>\n",
       "      <td>4.0</td>\n",
       "      <td>1.0</td>\n",
       "      <td>61.0</td>\n",
       "    </tr>\n",
       "  </tbody>\n",
       "</table>\n",
       "</div>"
      ],
      "text/plain": [
       "           Date  Ross  Chandler  BT1   BT2   BT3   BT4   BT5  GR1  GR2  GR3  \\\n",
       "577  2020-09-22   6.0       1.0  4.0   6.0   5.0   4.0   7.0  2.0  1.0  5.0   \n",
       "578  2020-09-24   8.0      18.0  2.0   9.0  10.0  10.0  11.0  5.0  6.0  3.0   \n",
       "579  2020-09-26   NaN       NaN  NaN   NaN   NaN   NaN   NaN  6.0  2.0  3.0   \n",
       "580  2020-09-27  10.0      19.0  9.0  10.0   8.0  16.0   3.0  NaN  NaN  NaN   \n",
       "581  2020-09-29  15.0       5.0  6.0   6.0   4.0   4.0   7.0  4.0  1.0  4.0   \n",
       "\n",
       "     GR4  GR5  Total  \n",
       "577  4.0  1.0   46.0  \n",
       "578  7.0  9.0   98.0  \n",
       "579  5.0  8.0   24.0  \n",
       "580  NaN  NaN   75.0  \n",
       "581  4.0  1.0   61.0  "
      ]
     },
     "execution_count": 5,
     "metadata": {},
     "output_type": "execute_result"
    }
   ],
   "source": [
    "# Clean Targets Dataset\n",
    "targets = targets.iloc[1:,:-1]\n",
    "targets.rename(columns = {\"Unnamed: 14\":'Etc. Comments', \"Targets\": \"Date\", \"Total: \": \"Total\"}, inplace = True)\n",
    "\n",
    "#get rid of null values at end of dataset\n",
    "targets = targets.head(582)\n",
    "\n",
    "# Change date to just date format, not datetime\n",
    "targets['Date'] = pd.to_datetime(targets['Date']).dt.date\n",
    "\n",
    "targets.reset_index(drop=True,inplace = True)\n",
    "targets.tail()"
   ]
  },
  {
   "cell_type": "markdown",
   "metadata": {},
   "source": [
    "# Other Factors Data Cleaning and Dummy Variable Creation for Foods\n"
   ]
  },
  {
   "cell_type": "code",
   "execution_count": 6,
   "metadata": {},
   "outputs": [
    {
     "name": "stderr",
     "output_type": "stream",
     "text": [
      "/home/stats/.local/lib/python3.6/site-packages/ipykernel_launcher.py:7: SettingWithCopyWarning: \n",
      "A value is trying to be set on a copy of a slice from a DataFrame.\n",
      "Try using .loc[row_indexer,col_indexer] = value instead\n",
      "\n",
      "See the caveats in the documentation: https://pandas.pydata.org/pandas-docs/stable/user_guide/indexing.html#returning-a-view-versus-a-copy\n",
      "  import sys\n",
      "/home/stats/.local/lib/python3.6/site-packages/pandas/core/frame.py:4308: SettingWithCopyWarning: \n",
      "A value is trying to be set on a copy of a slice from a DataFrame\n",
      "\n",
      "See the caveats in the documentation: https://pandas.pydata.org/pandas-docs/stable/user_guide/indexing.html#returning-a-view-versus-a-copy\n",
      "  errors=errors,\n"
     ]
    }
   ],
   "source": [
    "dummy_factors = other_factors[['Saury', 'Blue Runner',\n",
    "                'Squid', 'Mackerel', 'Herring', 'Sardine',\n",
    "                'Mazuri Vitamins', 'Garlic', 'Salmon', 'Bonito', 'Bluefish', 'Mahi',\n",
    "                    'Goggle Eye', 'Humbolt Squid']]\n",
    "\n",
    "for i in dummy_factors:\n",
    "    dummy_factors[i] = dummy_factors[i].fillna(0)\n",
    "dummy_factors.rename(columns = {\"Blue Runner\": \"Blue_Runner\", \"Mazuri Vitamins\": \"Mazuri_Vitamins\", \n",
    "                               \"Goggle Eye\": \"Goggle_Eye\", \"Humbolt Squid\": \"Humbolt_Squid\"}, inplace = True)"
   ]
  },
  {
   "cell_type": "code",
   "execution_count": null,
   "metadata": {
    "scrolled": false
   },
   "outputs": [],
   "source": []
  },
  {
   "cell_type": "markdown",
   "metadata": {},
   "source": [
    "# Combine Datasets to get all factors to perform regression on"
   ]
  },
  {
   "cell_type": "code",
   "execution_count": 7,
   "metadata": {},
   "outputs": [
    {
     "data": {
      "text/html": [
       "<div>\n",
       "<style scoped>\n",
       "    .dataframe tbody tr th:only-of-type {\n",
       "        vertical-align: middle;\n",
       "    }\n",
       "\n",
       "    .dataframe tbody tr th {\n",
       "        vertical-align: top;\n",
       "    }\n",
       "\n",
       "    .dataframe thead th {\n",
       "        text-align: right;\n",
       "    }\n",
       "</style>\n",
       "<table border=\"1\" class=\"dataframe\">\n",
       "  <thead>\n",
       "    <tr style=\"text-align: right;\">\n",
       "      <th></th>\n",
       "      <th>Date</th>\n",
       "      <th>Ross</th>\n",
       "      <th>Chandler</th>\n",
       "      <th>BT1</th>\n",
       "      <th>BT2</th>\n",
       "      <th>BT3</th>\n",
       "      <th>BT4</th>\n",
       "      <th>BT5</th>\n",
       "      <th>GR1</th>\n",
       "      <th>GR2</th>\n",
       "      <th>...</th>\n",
       "      <th>Sardine</th>\n",
       "      <th>Mazuri_Vitamins</th>\n",
       "      <th>Garlic</th>\n",
       "      <th>Salmon</th>\n",
       "      <th>Bonito</th>\n",
       "      <th>Bluefish</th>\n",
       "      <th>Mahi</th>\n",
       "      <th>Goggle_Eye</th>\n",
       "      <th>Humbolt_Squid</th>\n",
       "      <th>Temperature</th>\n",
       "    </tr>\n",
       "  </thead>\n",
       "  <tbody>\n",
       "    <tr>\n",
       "      <th>0</th>\n",
       "      <td>2017-12-05</td>\n",
       "      <td>0.0</td>\n",
       "      <td>5.0</td>\n",
       "      <td>3.0</td>\n",
       "      <td>6.0</td>\n",
       "      <td>5.0</td>\n",
       "      <td>4.0</td>\n",
       "      <td>4.0</td>\n",
       "      <td>0.0</td>\n",
       "      <td>0.0</td>\n",
       "      <td>...</td>\n",
       "      <td>0.0</td>\n",
       "      <td>1.0</td>\n",
       "      <td>1.0</td>\n",
       "      <td>0.0</td>\n",
       "      <td>0.0</td>\n",
       "      <td>0.0</td>\n",
       "      <td>0.0</td>\n",
       "      <td>0.0</td>\n",
       "      <td>0.0</td>\n",
       "      <td>73.2</td>\n",
       "    </tr>\n",
       "    <tr>\n",
       "      <th>1</th>\n",
       "      <td>2017-12-07</td>\n",
       "      <td>1.0</td>\n",
       "      <td>0.0</td>\n",
       "      <td>0.0</td>\n",
       "      <td>2.0</td>\n",
       "      <td>0.0</td>\n",
       "      <td>0.0</td>\n",
       "      <td>0.0</td>\n",
       "      <td>0.0</td>\n",
       "      <td>0.0</td>\n",
       "      <td>...</td>\n",
       "      <td>0.0</td>\n",
       "      <td>1.0</td>\n",
       "      <td>1.0</td>\n",
       "      <td>0.0</td>\n",
       "      <td>0.0</td>\n",
       "      <td>0.0</td>\n",
       "      <td>0.0</td>\n",
       "      <td>0.0</td>\n",
       "      <td>0.0</td>\n",
       "      <td>73.2</td>\n",
       "    </tr>\n",
       "    <tr>\n",
       "      <th>2</th>\n",
       "      <td>2017-12-09</td>\n",
       "      <td>NaN</td>\n",
       "      <td>NaN</td>\n",
       "      <td>NaN</td>\n",
       "      <td>NaN</td>\n",
       "      <td>NaN</td>\n",
       "      <td>NaN</td>\n",
       "      <td>NaN</td>\n",
       "      <td>2.0</td>\n",
       "      <td>0.0</td>\n",
       "      <td>...</td>\n",
       "      <td>0.0</td>\n",
       "      <td>0.0</td>\n",
       "      <td>1.0</td>\n",
       "      <td>0.0</td>\n",
       "      <td>0.0</td>\n",
       "      <td>0.0</td>\n",
       "      <td>0.0</td>\n",
       "      <td>0.0</td>\n",
       "      <td>0.0</td>\n",
       "      <td>73.6</td>\n",
       "    </tr>\n",
       "    <tr>\n",
       "      <th>3</th>\n",
       "      <td>2017-12-10</td>\n",
       "      <td>5.0</td>\n",
       "      <td>1.0</td>\n",
       "      <td>1.0</td>\n",
       "      <td>3.0</td>\n",
       "      <td>2.0</td>\n",
       "      <td>2.0</td>\n",
       "      <td>0.0</td>\n",
       "      <td>NaN</td>\n",
       "      <td>NaN</td>\n",
       "      <td>...</td>\n",
       "      <td>1.0</td>\n",
       "      <td>0.0</td>\n",
       "      <td>1.0</td>\n",
       "      <td>0.0</td>\n",
       "      <td>0.0</td>\n",
       "      <td>0.0</td>\n",
       "      <td>0.0</td>\n",
       "      <td>0.0</td>\n",
       "      <td>0.0</td>\n",
       "      <td>73.6</td>\n",
       "    </tr>\n",
       "    <tr>\n",
       "      <th>4</th>\n",
       "      <td>2017-12-12</td>\n",
       "      <td>2.0</td>\n",
       "      <td>2.0</td>\n",
       "      <td>0.0</td>\n",
       "      <td>5.0</td>\n",
       "      <td>2.0</td>\n",
       "      <td>4.0</td>\n",
       "      <td>5.0</td>\n",
       "      <td>0.0</td>\n",
       "      <td>2.0</td>\n",
       "      <td>...</td>\n",
       "      <td>0.0</td>\n",
       "      <td>1.0</td>\n",
       "      <td>1.0</td>\n",
       "      <td>0.0</td>\n",
       "      <td>0.0</td>\n",
       "      <td>0.0</td>\n",
       "      <td>0.0</td>\n",
       "      <td>0.0</td>\n",
       "      <td>0.0</td>\n",
       "      <td>73.4</td>\n",
       "    </tr>\n",
       "  </tbody>\n",
       "</table>\n",
       "<p>5 rows × 30 columns</p>\n",
       "</div>"
      ],
      "text/plain": [
       "         Date  Ross  Chandler  BT1  BT2  BT3  BT4  BT5  GR1  GR2  ...  \\\n",
       "0  2017-12-05   0.0       5.0  3.0  6.0  5.0  4.0  4.0  0.0  0.0  ...   \n",
       "1  2017-12-07   1.0       0.0  0.0  2.0  0.0  0.0  0.0  0.0  0.0  ...   \n",
       "2  2017-12-09   NaN       NaN  NaN  NaN  NaN  NaN  NaN  2.0  0.0  ...   \n",
       "3  2017-12-10   5.0       1.0  1.0  3.0  2.0  2.0  0.0  NaN  NaN  ...   \n",
       "4  2017-12-12   2.0       2.0  0.0  5.0  2.0  4.0  5.0  0.0  2.0  ...   \n",
       "\n",
       "   Sardine  Mazuri_Vitamins  Garlic  Salmon Bonito  Bluefish  Mahi  \\\n",
       "0      0.0              1.0     1.0     0.0    0.0       0.0   0.0   \n",
       "1      0.0              1.0     1.0     0.0    0.0       0.0   0.0   \n",
       "2      0.0              0.0     1.0     0.0    0.0       0.0   0.0   \n",
       "3      1.0              0.0     1.0     0.0    0.0       0.0   0.0   \n",
       "4      0.0              1.0     1.0     0.0    0.0       0.0   0.0   \n",
       "\n",
       "   Goggle_Eye  Humbolt_Squid  Temperature  \n",
       "0         0.0            0.0         73.2  \n",
       "1         0.0            0.0         73.2  \n",
       "2         0.0            0.0         73.6  \n",
       "3         0.0            0.0         73.6  \n",
       "4         0.0            0.0         73.4  \n",
       "\n",
       "[5 rows x 30 columns]"
      ]
     },
     "execution_count": 7,
     "metadata": {},
     "output_type": "execute_result"
    }
   ],
   "source": [
    "# combine eat data\n",
    "eat_concat1 = pd.concat([eat,dummy_factors], axis = 1)\n",
    "eat_concat = pd.concat([eat_concat1, other_factors[\"Temperature\"]], axis = 1)\n",
    "eat_concat.head()"
   ]
  },
  {
   "cell_type": "code",
   "execution_count": 8,
   "metadata": {},
   "outputs": [],
   "source": [
    "# Add eat variable for Covid shut down\n",
    "start_date = pd.to_datetime('03-14-2020')\n",
    "end_date = pd.to_datetime('05-09-2020')\n",
    "conditions = [ (eat_concat['Date'] >= start_date) & (eat_concat['Date'] <= end_date),\n",
    "              (eat_concat['Date'] < start_date) | (eat_concat['Date'] > end_date)]\n",
    "values = [1, 0]\n",
    "eat_concat[\"covid\"] = np.select(conditions, values)"
   ]
  },
  {
   "cell_type": "code",
   "execution_count": 9,
   "metadata": {},
   "outputs": [],
   "source": [
    "# Add eat variable for light training\n",
    "light_start = pd.to_datetime('02-15-2018')\n",
    "conditions_light = [ (eat_concat['Date'] >= light_start), (eat_concat['Date'] < light_start)]\n",
    "values_light = [1, 0]\n",
    "eat_concat[\"light_training\"] = np.select(conditions_light, values_light)"
   ]
  },
  {
   "cell_type": "code",
   "execution_count": 10,
   "metadata": {},
   "outputs": [
    {
     "data": {
      "text/html": [
       "<div>\n",
       "<style scoped>\n",
       "    .dataframe tbody tr th:only-of-type {\n",
       "        vertical-align: middle;\n",
       "    }\n",
       "\n",
       "    .dataframe tbody tr th {\n",
       "        vertical-align: top;\n",
       "    }\n",
       "\n",
       "    .dataframe thead th {\n",
       "        text-align: right;\n",
       "    }\n",
       "</style>\n",
       "<table border=\"1\" class=\"dataframe\">\n",
       "  <thead>\n",
       "    <tr style=\"text-align: right;\">\n",
       "      <th></th>\n",
       "      <th>Date</th>\n",
       "      <th>Ross</th>\n",
       "      <th>Chandler</th>\n",
       "      <th>BT1</th>\n",
       "      <th>BT2</th>\n",
       "      <th>BT3</th>\n",
       "      <th>BT4</th>\n",
       "      <th>BT5</th>\n",
       "      <th>GR1</th>\n",
       "      <th>GR2</th>\n",
       "      <th>...</th>\n",
       "      <th>Sardine</th>\n",
       "      <th>Mazuri_Vitamins</th>\n",
       "      <th>Garlic</th>\n",
       "      <th>Salmon</th>\n",
       "      <th>Bonito</th>\n",
       "      <th>Bluefish</th>\n",
       "      <th>Mahi</th>\n",
       "      <th>Goggle_Eye</th>\n",
       "      <th>Humbolt_Squid</th>\n",
       "      <th>Temperature</th>\n",
       "    </tr>\n",
       "  </thead>\n",
       "  <tbody>\n",
       "    <tr>\n",
       "      <th>0</th>\n",
       "      <td>2017-12-05</td>\n",
       "      <td>0.0</td>\n",
       "      <td>0.0</td>\n",
       "      <td>0.0</td>\n",
       "      <td>0.0</td>\n",
       "      <td>0.0</td>\n",
       "      <td>1.0</td>\n",
       "      <td>0.0</td>\n",
       "      <td>0.0</td>\n",
       "      <td>0.0</td>\n",
       "      <td>...</td>\n",
       "      <td>0.0</td>\n",
       "      <td>1.0</td>\n",
       "      <td>1.0</td>\n",
       "      <td>0.0</td>\n",
       "      <td>0.0</td>\n",
       "      <td>0.0</td>\n",
       "      <td>0.0</td>\n",
       "      <td>0.0</td>\n",
       "      <td>0.0</td>\n",
       "      <td>73.2</td>\n",
       "    </tr>\n",
       "    <tr>\n",
       "      <th>1</th>\n",
       "      <td>2017-12-07</td>\n",
       "      <td>0.0</td>\n",
       "      <td>1.0</td>\n",
       "      <td>1.0</td>\n",
       "      <td>2.0</td>\n",
       "      <td>1.0</td>\n",
       "      <td>1.0</td>\n",
       "      <td>2.0</td>\n",
       "      <td>0.0</td>\n",
       "      <td>0.0</td>\n",
       "      <td>...</td>\n",
       "      <td>0.0</td>\n",
       "      <td>1.0</td>\n",
       "      <td>1.0</td>\n",
       "      <td>0.0</td>\n",
       "      <td>0.0</td>\n",
       "      <td>0.0</td>\n",
       "      <td>0.0</td>\n",
       "      <td>0.0</td>\n",
       "      <td>0.0</td>\n",
       "      <td>73.2</td>\n",
       "    </tr>\n",
       "    <tr>\n",
       "      <th>2</th>\n",
       "      <td>2017-12-09</td>\n",
       "      <td>NaN</td>\n",
       "      <td>NaN</td>\n",
       "      <td>NaN</td>\n",
       "      <td>NaN</td>\n",
       "      <td>NaN</td>\n",
       "      <td>NaN</td>\n",
       "      <td>NaN</td>\n",
       "      <td>0.0</td>\n",
       "      <td>1.0</td>\n",
       "      <td>...</td>\n",
       "      <td>0.0</td>\n",
       "      <td>0.0</td>\n",
       "      <td>1.0</td>\n",
       "      <td>0.0</td>\n",
       "      <td>0.0</td>\n",
       "      <td>0.0</td>\n",
       "      <td>0.0</td>\n",
       "      <td>0.0</td>\n",
       "      <td>0.0</td>\n",
       "      <td>73.6</td>\n",
       "    </tr>\n",
       "    <tr>\n",
       "      <th>3</th>\n",
       "      <td>2017-12-10</td>\n",
       "      <td>0.0</td>\n",
       "      <td>0.0</td>\n",
       "      <td>0.0</td>\n",
       "      <td>0.0</td>\n",
       "      <td>0.0</td>\n",
       "      <td>0.0</td>\n",
       "      <td>1.0</td>\n",
       "      <td>NaN</td>\n",
       "      <td>NaN</td>\n",
       "      <td>...</td>\n",
       "      <td>1.0</td>\n",
       "      <td>0.0</td>\n",
       "      <td>1.0</td>\n",
       "      <td>0.0</td>\n",
       "      <td>0.0</td>\n",
       "      <td>0.0</td>\n",
       "      <td>0.0</td>\n",
       "      <td>0.0</td>\n",
       "      <td>0.0</td>\n",
       "      <td>73.6</td>\n",
       "    </tr>\n",
       "    <tr>\n",
       "      <th>4</th>\n",
       "      <td>2017-12-12</td>\n",
       "      <td>0.0</td>\n",
       "      <td>0.0</td>\n",
       "      <td>0.0</td>\n",
       "      <td>0.0</td>\n",
       "      <td>2.0</td>\n",
       "      <td>0.0</td>\n",
       "      <td>0.0</td>\n",
       "      <td>0.0</td>\n",
       "      <td>0.0</td>\n",
       "      <td>...</td>\n",
       "      <td>0.0</td>\n",
       "      <td>1.0</td>\n",
       "      <td>1.0</td>\n",
       "      <td>0.0</td>\n",
       "      <td>0.0</td>\n",
       "      <td>0.0</td>\n",
       "      <td>0.0</td>\n",
       "      <td>0.0</td>\n",
       "      <td>0.0</td>\n",
       "      <td>73.4</td>\n",
       "    </tr>\n",
       "  </tbody>\n",
       "</table>\n",
       "<p>5 rows × 29 columns</p>\n",
       "</div>"
      ],
      "text/plain": [
       "         Date  Ross  Chandler  BT1  BT2  BT3  BT4  BT5  GR1  GR2  ...  \\\n",
       "0  2017-12-05   0.0       0.0  0.0  0.0  0.0  1.0  0.0  0.0  0.0  ...   \n",
       "1  2017-12-07   0.0       1.0  1.0  2.0  1.0  1.0  2.0  0.0  0.0  ...   \n",
       "2  2017-12-09   NaN       NaN  NaN  NaN  NaN  NaN  NaN  0.0  1.0  ...   \n",
       "3  2017-12-10   0.0       0.0  0.0  0.0  0.0  0.0  1.0  NaN  NaN  ...   \n",
       "4  2017-12-12   0.0       0.0  0.0  0.0  2.0  0.0  0.0  0.0  0.0  ...   \n",
       "\n",
       "   Sardine  Mazuri_Vitamins  Garlic  Salmon  Bonito  Bluefish  Mahi  \\\n",
       "0      0.0              1.0     1.0     0.0     0.0       0.0   0.0   \n",
       "1      0.0              1.0     1.0     0.0     0.0       0.0   0.0   \n",
       "2      0.0              0.0     1.0     0.0     0.0       0.0   0.0   \n",
       "3      1.0              0.0     1.0     0.0     0.0       0.0   0.0   \n",
       "4      0.0              1.0     1.0     0.0     0.0       0.0   0.0   \n",
       "\n",
       "   Goggle_Eye  Humbolt_Squid  Temperature  \n",
       "0         0.0            0.0         73.2  \n",
       "1         0.0            0.0         73.2  \n",
       "2         0.0            0.0         73.6  \n",
       "3         0.0            0.0         73.6  \n",
       "4         0.0            0.0         73.4  \n",
       "\n",
       "[5 rows x 29 columns]"
      ]
     },
     "execution_count": 10,
     "metadata": {},
     "output_type": "execute_result"
    }
   ],
   "source": [
    "# combine drops data\n",
    "drops_concat1 = pd.concat([drops,dummy_factors], axis = 1)\n",
    "drops_concat = pd.concat([drops_concat1, other_factors[\"Temperature\"]], axis = 1)\n",
    "drops_concat.head()"
   ]
  },
  {
   "cell_type": "code",
   "execution_count": 11,
   "metadata": {},
   "outputs": [],
   "source": [
    "# Add drop variable for Covid shut down\n",
    "start_date = pd.to_datetime('03-14-2020')\n",
    "end_date = pd.to_datetime('05-09-2020')\n",
    "conditions = [ (drops_concat['Date'] >= start_date) & (drops_concat['Date'] <= end_date),\n",
    "              (drops_concat['Date'] < start_date) | (drops_concat['Date'] > end_date)]\n",
    "values = [1, 0]\n",
    "drops_concat[\"covid\"] = np.select(conditions, values)"
   ]
  },
  {
   "cell_type": "code",
   "execution_count": 12,
   "metadata": {},
   "outputs": [],
   "source": [
    "# Add drop variable for light training\n",
    "light_start = pd.to_datetime('02-15-2018')\n",
    "conditions_light = [ (drops_concat['Date'] >= light_start), (drops_concat['Date'] < light_start)]\n",
    "values_light = [1, 0]\n",
    "drops_concat[\"light_training\"] = np.select(conditions_light, values_light)"
   ]
  },
  {
   "cell_type": "code",
   "execution_count": 13,
   "metadata": {
    "scrolled": false
   },
   "outputs": [
    {
     "data": {
      "text/html": [
       "<div>\n",
       "<style scoped>\n",
       "    .dataframe tbody tr th:only-of-type {\n",
       "        vertical-align: middle;\n",
       "    }\n",
       "\n",
       "    .dataframe tbody tr th {\n",
       "        vertical-align: top;\n",
       "    }\n",
       "\n",
       "    .dataframe thead th {\n",
       "        text-align: right;\n",
       "    }\n",
       "</style>\n",
       "<table border=\"1\" class=\"dataframe\">\n",
       "  <thead>\n",
       "    <tr style=\"text-align: right;\">\n",
       "      <th></th>\n",
       "      <th>Date</th>\n",
       "      <th>Ross</th>\n",
       "      <th>Chandler</th>\n",
       "      <th>BT1</th>\n",
       "      <th>BT2</th>\n",
       "      <th>BT3</th>\n",
       "      <th>BT4</th>\n",
       "      <th>BT5</th>\n",
       "      <th>GR1</th>\n",
       "      <th>GR2</th>\n",
       "      <th>...</th>\n",
       "      <th>Sardine</th>\n",
       "      <th>Mazuri_Vitamins</th>\n",
       "      <th>Garlic</th>\n",
       "      <th>Salmon</th>\n",
       "      <th>Bonito</th>\n",
       "      <th>Bluefish</th>\n",
       "      <th>Mahi</th>\n",
       "      <th>Goggle_Eye</th>\n",
       "      <th>Humbolt_Squid</th>\n",
       "      <th>Temperature</th>\n",
       "    </tr>\n",
       "  </thead>\n",
       "  <tbody>\n",
       "    <tr>\n",
       "      <th>0</th>\n",
       "      <td>2017-12-05</td>\n",
       "      <td>3.0</td>\n",
       "      <td>0.0</td>\n",
       "      <td>4.0</td>\n",
       "      <td>3.0</td>\n",
       "      <td>0.0</td>\n",
       "      <td>2.0</td>\n",
       "      <td>2.0</td>\n",
       "      <td>1.0</td>\n",
       "      <td>1.0</td>\n",
       "      <td>...</td>\n",
       "      <td>0.0</td>\n",
       "      <td>1.0</td>\n",
       "      <td>1.0</td>\n",
       "      <td>0.0</td>\n",
       "      <td>0.0</td>\n",
       "      <td>0.0</td>\n",
       "      <td>0.0</td>\n",
       "      <td>0.0</td>\n",
       "      <td>0.0</td>\n",
       "      <td>73.2</td>\n",
       "    </tr>\n",
       "    <tr>\n",
       "      <th>1</th>\n",
       "      <td>2017-12-07</td>\n",
       "      <td>4.0</td>\n",
       "      <td>5.0</td>\n",
       "      <td>2.0</td>\n",
       "      <td>2.0</td>\n",
       "      <td>5.0</td>\n",
       "      <td>3.0</td>\n",
       "      <td>5.0</td>\n",
       "      <td>0.0</td>\n",
       "      <td>0.0</td>\n",
       "      <td>...</td>\n",
       "      <td>0.0</td>\n",
       "      <td>1.0</td>\n",
       "      <td>1.0</td>\n",
       "      <td>0.0</td>\n",
       "      <td>0.0</td>\n",
       "      <td>0.0</td>\n",
       "      <td>0.0</td>\n",
       "      <td>0.0</td>\n",
       "      <td>0.0</td>\n",
       "      <td>73.2</td>\n",
       "    </tr>\n",
       "    <tr>\n",
       "      <th>2</th>\n",
       "      <td>2017-12-09</td>\n",
       "      <td>NaN</td>\n",
       "      <td>NaN</td>\n",
       "      <td>NaN</td>\n",
       "      <td>NaN</td>\n",
       "      <td>NaN</td>\n",
       "      <td>NaN</td>\n",
       "      <td>NaN</td>\n",
       "      <td>1.0</td>\n",
       "      <td>3.0</td>\n",
       "      <td>...</td>\n",
       "      <td>0.0</td>\n",
       "      <td>0.0</td>\n",
       "      <td>1.0</td>\n",
       "      <td>0.0</td>\n",
       "      <td>0.0</td>\n",
       "      <td>0.0</td>\n",
       "      <td>0.0</td>\n",
       "      <td>0.0</td>\n",
       "      <td>0.0</td>\n",
       "      <td>73.6</td>\n",
       "    </tr>\n",
       "    <tr>\n",
       "      <th>3</th>\n",
       "      <td>2017-12-10</td>\n",
       "      <td>4.0</td>\n",
       "      <td>7.0</td>\n",
       "      <td>0.0</td>\n",
       "      <td>2.0</td>\n",
       "      <td>2.0</td>\n",
       "      <td>0.0</td>\n",
       "      <td>0.0</td>\n",
       "      <td>NaN</td>\n",
       "      <td>NaN</td>\n",
       "      <td>...</td>\n",
       "      <td>1.0</td>\n",
       "      <td>0.0</td>\n",
       "      <td>1.0</td>\n",
       "      <td>0.0</td>\n",
       "      <td>0.0</td>\n",
       "      <td>0.0</td>\n",
       "      <td>0.0</td>\n",
       "      <td>0.0</td>\n",
       "      <td>0.0</td>\n",
       "      <td>73.6</td>\n",
       "    </tr>\n",
       "    <tr>\n",
       "      <th>4</th>\n",
       "      <td>2017-12-12</td>\n",
       "      <td>3.0</td>\n",
       "      <td>1.0</td>\n",
       "      <td>3.0</td>\n",
       "      <td>2.0</td>\n",
       "      <td>4.0</td>\n",
       "      <td>1.0</td>\n",
       "      <td>1.0</td>\n",
       "      <td>1.0</td>\n",
       "      <td>1.0</td>\n",
       "      <td>...</td>\n",
       "      <td>0.0</td>\n",
       "      <td>1.0</td>\n",
       "      <td>1.0</td>\n",
       "      <td>0.0</td>\n",
       "      <td>0.0</td>\n",
       "      <td>0.0</td>\n",
       "      <td>0.0</td>\n",
       "      <td>0.0</td>\n",
       "      <td>0.0</td>\n",
       "      <td>73.4</td>\n",
       "    </tr>\n",
       "  </tbody>\n",
       "</table>\n",
       "<p>5 rows × 29 columns</p>\n",
       "</div>"
      ],
      "text/plain": [
       "         Date  Ross  Chandler  BT1  BT2  BT3  BT4  BT5  GR1  GR2  ...  \\\n",
       "0  2017-12-05   3.0       0.0  4.0  3.0  0.0  2.0  2.0  1.0  1.0  ...   \n",
       "1  2017-12-07   4.0       5.0  2.0  2.0  5.0  3.0  5.0  0.0  0.0  ...   \n",
       "2  2017-12-09   NaN       NaN  NaN  NaN  NaN  NaN  NaN  1.0  3.0  ...   \n",
       "3  2017-12-10   4.0       7.0  0.0  2.0  2.0  0.0  0.0  NaN  NaN  ...   \n",
       "4  2017-12-12   3.0       1.0  3.0  2.0  4.0  1.0  1.0  1.0  1.0  ...   \n",
       "\n",
       "   Sardine  Mazuri_Vitamins  Garlic  Salmon  Bonito  Bluefish  Mahi  \\\n",
       "0      0.0              1.0     1.0     0.0     0.0       0.0   0.0   \n",
       "1      0.0              1.0     1.0     0.0     0.0       0.0   0.0   \n",
       "2      0.0              0.0     1.0     0.0     0.0       0.0   0.0   \n",
       "3      1.0              0.0     1.0     0.0     0.0       0.0   0.0   \n",
       "4      0.0              1.0     1.0     0.0     0.0       0.0   0.0   \n",
       "\n",
       "   Goggle_Eye  Humbolt_Squid  Temperature  \n",
       "0         0.0            0.0         73.2  \n",
       "1         0.0            0.0         73.2  \n",
       "2         0.0            0.0         73.6  \n",
       "3         0.0            0.0         73.6  \n",
       "4         0.0            0.0         73.4  \n",
       "\n",
       "[5 rows x 29 columns]"
      ]
     },
     "execution_count": 13,
     "metadata": {},
     "output_type": "execute_result"
    }
   ],
   "source": [
    "# combine Target data\n",
    "targets_concat1 = pd.concat([targets,dummy_factors], axis = 1)\n",
    "targets_concat = pd.concat([targets_concat1, other_factors[\"Temperature\"]], axis = 1)\n",
    "targets_concat.head()"
   ]
  },
  {
   "cell_type": "code",
   "execution_count": 14,
   "metadata": {},
   "outputs": [],
   "source": [
    "# Add target variable for Covid shut down\n",
    "start_date = pd.to_datetime('03-14-2020')\n",
    "end_date = pd.to_datetime('05-09-2020')\n",
    "conditions = [ (targets_concat['Date'] >= start_date) & (targets_concat['Date'] <= end_date),\n",
    "              (targets_concat['Date'] < start_date) | (targets_concat['Date'] > end_date)]\n",
    "values = [1, 0]\n",
    "targets_concat[\"covid\"] = np.select(conditions, values)"
   ]
  },
  {
   "cell_type": "code",
   "execution_count": 15,
   "metadata": {},
   "outputs": [],
   "source": [
    "# Add target variable for light training\n",
    "light_start = pd.to_datetime('02-15-2018')\n",
    "conditions_light = [ (targets_concat['Date'] >= light_start), (targets_concat['Date'] < light_start)]\n",
    "values_light = [1, 0]\n",
    "targets_concat[\"light_training\"] = np.select(conditions_light, values_light)"
   ]
  },
  {
   "cell_type": "code",
   "execution_count": 16,
   "metadata": {},
   "outputs": [
    {
     "data": {
      "text/html": [
       "<div>\n",
       "<style scoped>\n",
       "    .dataframe tbody tr th:only-of-type {\n",
       "        vertical-align: middle;\n",
       "    }\n",
       "\n",
       "    .dataframe tbody tr th {\n",
       "        vertical-align: top;\n",
       "    }\n",
       "\n",
       "    .dataframe thead th {\n",
       "        text-align: right;\n",
       "    }\n",
       "</style>\n",
       "<table border=\"1\" class=\"dataframe\">\n",
       "  <thead>\n",
       "    <tr style=\"text-align: right;\">\n",
       "      <th></th>\n",
       "      <th>Date</th>\n",
       "      <th>Ross</th>\n",
       "      <th>Chandler</th>\n",
       "      <th>BT1</th>\n",
       "      <th>BT2</th>\n",
       "      <th>BT3</th>\n",
       "      <th>BT4</th>\n",
       "      <th>BT5</th>\n",
       "      <th>GR1</th>\n",
       "      <th>GR2</th>\n",
       "      <th>...</th>\n",
       "      <th>Salmon</th>\n",
       "      <th>Bonito</th>\n",
       "      <th>Bluefish</th>\n",
       "      <th>Mahi</th>\n",
       "      <th>Goggle_Eye</th>\n",
       "      <th>Humbolt_Squid</th>\n",
       "      <th>Temperature</th>\n",
       "      <th>covid</th>\n",
       "      <th>light_training</th>\n",
       "      <th>GroupFeed</th>\n",
       "    </tr>\n",
       "  </thead>\n",
       "  <tbody>\n",
       "    <tr>\n",
       "      <th>0</th>\n",
       "      <td>2017-12-05</td>\n",
       "      <td>3.0</td>\n",
       "      <td>0.0</td>\n",
       "      <td>4.0</td>\n",
       "      <td>3.0</td>\n",
       "      <td>0.0</td>\n",
       "      <td>2.0</td>\n",
       "      <td>2.0</td>\n",
       "      <td>1.0</td>\n",
       "      <td>1.0</td>\n",
       "      <td>...</td>\n",
       "      <td>0.0</td>\n",
       "      <td>0.0</td>\n",
       "      <td>0.0</td>\n",
       "      <td>0.0</td>\n",
       "      <td>0.0</td>\n",
       "      <td>0.0</td>\n",
       "      <td>73.2</td>\n",
       "      <td>0</td>\n",
       "      <td>0</td>\n",
       "      <td>1</td>\n",
       "    </tr>\n",
       "    <tr>\n",
       "      <th>1</th>\n",
       "      <td>2017-12-07</td>\n",
       "      <td>4.0</td>\n",
       "      <td>5.0</td>\n",
       "      <td>2.0</td>\n",
       "      <td>2.0</td>\n",
       "      <td>5.0</td>\n",
       "      <td>3.0</td>\n",
       "      <td>5.0</td>\n",
       "      <td>0.0</td>\n",
       "      <td>0.0</td>\n",
       "      <td>...</td>\n",
       "      <td>0.0</td>\n",
       "      <td>0.0</td>\n",
       "      <td>0.0</td>\n",
       "      <td>0.0</td>\n",
       "      <td>0.0</td>\n",
       "      <td>0.0</td>\n",
       "      <td>73.2</td>\n",
       "      <td>0</td>\n",
       "      <td>0</td>\n",
       "      <td>1</td>\n",
       "    </tr>\n",
       "    <tr>\n",
       "      <th>2</th>\n",
       "      <td>2017-12-09</td>\n",
       "      <td>NaN</td>\n",
       "      <td>NaN</td>\n",
       "      <td>NaN</td>\n",
       "      <td>NaN</td>\n",
       "      <td>NaN</td>\n",
       "      <td>NaN</td>\n",
       "      <td>NaN</td>\n",
       "      <td>1.0</td>\n",
       "      <td>3.0</td>\n",
       "      <td>...</td>\n",
       "      <td>0.0</td>\n",
       "      <td>0.0</td>\n",
       "      <td>0.0</td>\n",
       "      <td>0.0</td>\n",
       "      <td>0.0</td>\n",
       "      <td>0.0</td>\n",
       "      <td>73.6</td>\n",
       "      <td>0</td>\n",
       "      <td>0</td>\n",
       "      <td>0</td>\n",
       "    </tr>\n",
       "    <tr>\n",
       "      <th>3</th>\n",
       "      <td>2017-12-10</td>\n",
       "      <td>4.0</td>\n",
       "      <td>7.0</td>\n",
       "      <td>0.0</td>\n",
       "      <td>2.0</td>\n",
       "      <td>2.0</td>\n",
       "      <td>0.0</td>\n",
       "      <td>0.0</td>\n",
       "      <td>NaN</td>\n",
       "      <td>NaN</td>\n",
       "      <td>...</td>\n",
       "      <td>0.0</td>\n",
       "      <td>0.0</td>\n",
       "      <td>0.0</td>\n",
       "      <td>0.0</td>\n",
       "      <td>0.0</td>\n",
       "      <td>0.0</td>\n",
       "      <td>73.6</td>\n",
       "      <td>0</td>\n",
       "      <td>0</td>\n",
       "      <td>0</td>\n",
       "    </tr>\n",
       "    <tr>\n",
       "      <th>4</th>\n",
       "      <td>2017-12-12</td>\n",
       "      <td>3.0</td>\n",
       "      <td>1.0</td>\n",
       "      <td>3.0</td>\n",
       "      <td>2.0</td>\n",
       "      <td>4.0</td>\n",
       "      <td>1.0</td>\n",
       "      <td>1.0</td>\n",
       "      <td>1.0</td>\n",
       "      <td>1.0</td>\n",
       "      <td>...</td>\n",
       "      <td>0.0</td>\n",
       "      <td>0.0</td>\n",
       "      <td>0.0</td>\n",
       "      <td>0.0</td>\n",
       "      <td>0.0</td>\n",
       "      <td>0.0</td>\n",
       "      <td>73.4</td>\n",
       "      <td>0</td>\n",
       "      <td>0</td>\n",
       "      <td>1</td>\n",
       "    </tr>\n",
       "  </tbody>\n",
       "</table>\n",
       "<p>5 rows × 32 columns</p>\n",
       "</div>"
      ],
      "text/plain": [
       "         Date  Ross  Chandler  BT1  BT2  BT3  BT4  BT5  GR1  GR2  ...  Salmon  \\\n",
       "0  2017-12-05   3.0       0.0  4.0  3.0  0.0  2.0  2.0  1.0  1.0  ...     0.0   \n",
       "1  2017-12-07   4.0       5.0  2.0  2.0  5.0  3.0  5.0  0.0  0.0  ...     0.0   \n",
       "2  2017-12-09   NaN       NaN  NaN  NaN  NaN  NaN  NaN  1.0  3.0  ...     0.0   \n",
       "3  2017-12-10   4.0       7.0  0.0  2.0  2.0  0.0  0.0  NaN  NaN  ...     0.0   \n",
       "4  2017-12-12   3.0       1.0  3.0  2.0  4.0  1.0  1.0  1.0  1.0  ...     0.0   \n",
       "\n",
       "   Bonito  Bluefish  Mahi  Goggle_Eye  Humbolt_Squid  Temperature  covid  \\\n",
       "0     0.0       0.0   0.0         0.0            0.0         73.2      0   \n",
       "1     0.0       0.0   0.0         0.0            0.0         73.2      0   \n",
       "2     0.0       0.0   0.0         0.0            0.0         73.6      0   \n",
       "3     0.0       0.0   0.0         0.0            0.0         73.6      0   \n",
       "4     0.0       0.0   0.0         0.0            0.0         73.4      0   \n",
       "\n",
       "   light_training  GroupFeed  \n",
       "0               0          1  \n",
       "1               0          1  \n",
       "2               0          0  \n",
       "3               0          0  \n",
       "4               0          1  \n",
       "\n",
       "[5 rows x 32 columns]"
      ]
     },
     "execution_count": 16,
     "metadata": {},
     "output_type": "execute_result"
    }
   ],
   "source": [
    "# Add group feed variable to eat, drop, and target datasets\n",
    "GroupFeed = []\n",
    "for row in drops.index:\n",
    "    if drops.iloc[row,:].isna().sum() > 0:\n",
    "        GroupFeed.append(0)\n",
    "    else:\n",
    "        GroupFeed.append(1)\n",
    "GroupFeed\n",
    "\n",
    "eat_concat[\"GroupFeed\"] = GroupFeed\n",
    "drops_concat[\"GroupFeed\"] = GroupFeed\n",
    "targets_concat[\"GroupFeed\"] = GroupFeed\n",
    "targets_concat.head()"
   ]
  },
  {
   "cell_type": "code",
   "execution_count": 17,
   "metadata": {},
   "outputs": [],
   "source": [
    "# add column to dataset that indicates whether targets were being varied or not\n",
    "varied_start1 = pd.to_datetime('04-01-2018')\n",
    "varied_stop = pd.to_datetime('05-12-2018')\n",
    "varied_start2 = pd.to_datetime('07-26-2018')\n",
    "\n",
    "eat_concat[\"Varied_Target\"] = [1 if (varied_start1 <= ele <= varied_stop) | (ele >= varied_start2)  else 0 for ele in eat_concat[\"Date\"]]\n",
    "drops_concat[\"Varied_Target\"] = [1 if (varied_start1 <= ele <= varied_stop) | (ele >= varied_start2)  else 0 for ele in drops_concat[\"Date\"]]\n",
    "targets_concat[\"Varied_Target\"] = [1 if (varied_start1 <= ele <= varied_stop) | (ele >= varied_start2)  else 0 for ele in targets_concat[\"Date\"]]"
   ]
  },
  {
   "cell_type": "markdown",
   "metadata": {},
   "source": [
    "# Subset Creation"
   ]
  },
  {
   "cell_type": "code",
   "execution_count": 18,
   "metadata": {},
   "outputs": [],
   "source": [
    "\n",
    "# All SS Subset\n",
    "All_SS = eat_concat[['Ross', 'Chandler']]\n",
    "\n",
    "# All BT Subset\n",
    "All_BT = eat_concat[['BT1', 'BT2', 'BT3', 'BT4', 'BT5']]\n",
    "\n",
    "# All GR Subset\n",
    "All_GR = eat_concat[['GR1', 'GR2', 'GR3', 'GR4', 'GR5']]\n",
    "\n",
    "# Male Subset\n",
    "Male = eat_concat[[\"BT1\",\"BT5\",\"GR1\",\"Ross\",\"Chandler\"]]\n",
    "\n",
    "# Female Subset\n",
    "female = eat_concat[[\"BT2\",\"BT3\",\"BT4\",\"GR2\",\"GR3\",\"GR4\",\"GR5\"]]\n",
    "\n",
    "# Append all subsets to original datasets\n",
    "# eat dataset\n",
    "eat_concat[\"All_GR\"] = eat['GR1'] + eat['GR2'] + eat['GR3'] + eat['GR4'] + eat['GR5']\n",
    "eat_concat[\"All_BT\"] = eat['BT1'] + eat['BT2'] + eat['BT3'] + eat['BT4'] + eat['BT5']\n",
    "eat_concat[\"All_SS\"] = eat['Ross'] + eat['Chandler']\n",
    "eat_concat[\"male\"] = eat[[\"BT1\",\"BT5\",\"GR1\",\"Ross\",\"Chandler\"]].sum(axis = 1)\n",
    "eat_concat[\"female\"] = eat[[\"BT2\",\"BT3\",\"BT4\",\"GR2\",\"GR3\",\"GR4\",\"GR5\"]].sum(axis = 1)\n",
    "\n",
    "# drop dataset\n",
    "drops_concat[\"All_GR\"] = drops['GR1'] + drops['GR2'] + drops['GR3'] + drops['GR4'] + drops['GR5']\n",
    "drops_concat[\"All_BT\"] = drops['BT1'] + drops['BT2'] + drops['BT3'] + drops['BT4'] + drops['BT5']\n",
    "drops_concat[\"All_SS\"] = drops['Ross'] + drops['Chandler']\n",
    "drops_concat[\"male\"] = drops[[\"BT1\",\"BT5\",\"GR1\",\"Ross\",\"Chandler\"]].sum(axis = 1)\n",
    "drops_concat[\"female\"] = drops[[\"BT2\",\"BT3\",\"BT4\",\"GR2\",\"GR3\",\"GR4\",\"GR5\"]].sum(axis = 1)\n",
    "\n",
    "# target dataset\n",
    "targets_concat[\"All_GR\"] = targets['GR1'] + targets['GR2'] + targets['GR3'] + targets['GR4'] + targets['GR5']\n",
    "targets_concat[\"All_BT\"] = targets['BT1'] + targets['BT2'] + targets['BT3'] + targets['BT4'] + targets['BT5']\n",
    "targets_concat[\"All_SS\"] = targets['Ross'] + targets['Chandler']\n",
    "targets_concat[\"male\"] = targets[[\"BT1\",\"BT5\",\"GR1\",\"Ross\",\"Chandler\"]].sum(axis = 1)\n",
    "targets_concat[\"female\"] = targets[[\"BT2\",\"BT3\",\"BT4\",\"GR2\",\"GR3\",\"GR4\",\"GR5\"]].sum(axis = 1)\n"
   ]
  },
  {
   "cell_type": "markdown",
   "metadata": {},
   "source": [
    "# Create Tables for Poisson Regression Time Series For Pieces Eaten For All Sharks"
   ]
  },
  {
   "cell_type": "code",
   "execution_count": 19,
   "metadata": {},
   "outputs": [
    {
     "data": {
      "text/html": [
       "<div>\n",
       "<style scoped>\n",
       "    .dataframe tbody tr th:only-of-type {\n",
       "        vertical-align: middle;\n",
       "    }\n",
       "\n",
       "    .dataframe tbody tr th {\n",
       "        vertical-align: top;\n",
       "    }\n",
       "\n",
       "    .dataframe thead th {\n",
       "        text-align: right;\n",
       "    }\n",
       "</style>\n",
       "<table border=\"1\" class=\"dataframe\">\n",
       "  <thead>\n",
       "    <tr style=\"text-align: right;\">\n",
       "      <th></th>\n",
       "      <th>Date</th>\n",
       "      <th>Ross</th>\n",
       "      <th>Chandler</th>\n",
       "      <th>BT1</th>\n",
       "      <th>BT2</th>\n",
       "      <th>BT3</th>\n",
       "      <th>BT4</th>\n",
       "      <th>BT5</th>\n",
       "      <th>GR1</th>\n",
       "      <th>GR2</th>\n",
       "      <th>...</th>\n",
       "      <th>GroupFeed</th>\n",
       "      <th>Varied_Target</th>\n",
       "      <th>All_GR</th>\n",
       "      <th>All_BT</th>\n",
       "      <th>All_SS</th>\n",
       "      <th>male</th>\n",
       "      <th>female</th>\n",
       "      <th>Day_of_week</th>\n",
       "      <th>Month</th>\n",
       "      <th>Day</th>\n",
       "    </tr>\n",
       "  </thead>\n",
       "  <tbody>\n",
       "    <tr>\n",
       "      <th>0</th>\n",
       "      <td>2017-12-05</td>\n",
       "      <td>0.0</td>\n",
       "      <td>5.0</td>\n",
       "      <td>3.0</td>\n",
       "      <td>6.0</td>\n",
       "      <td>5.0</td>\n",
       "      <td>4.0</td>\n",
       "      <td>4.0</td>\n",
       "      <td>0.0</td>\n",
       "      <td>0.0</td>\n",
       "      <td>...</td>\n",
       "      <td>1</td>\n",
       "      <td>0</td>\n",
       "      <td>6.0</td>\n",
       "      <td>22.0</td>\n",
       "      <td>5.0</td>\n",
       "      <td>12.0</td>\n",
       "      <td>21.0</td>\n",
       "      <td>1</td>\n",
       "      <td>12</td>\n",
       "      <td>5</td>\n",
       "    </tr>\n",
       "    <tr>\n",
       "      <th>1</th>\n",
       "      <td>2017-12-07</td>\n",
       "      <td>1.0</td>\n",
       "      <td>0.0</td>\n",
       "      <td>0.0</td>\n",
       "      <td>2.0</td>\n",
       "      <td>0.0</td>\n",
       "      <td>0.0</td>\n",
       "      <td>0.0</td>\n",
       "      <td>0.0</td>\n",
       "      <td>0.0</td>\n",
       "      <td>...</td>\n",
       "      <td>1</td>\n",
       "      <td>0</td>\n",
       "      <td>0.0</td>\n",
       "      <td>2.0</td>\n",
       "      <td>1.0</td>\n",
       "      <td>1.0</td>\n",
       "      <td>2.0</td>\n",
       "      <td>3</td>\n",
       "      <td>12</td>\n",
       "      <td>7</td>\n",
       "    </tr>\n",
       "    <tr>\n",
       "      <th>2</th>\n",
       "      <td>2017-12-09</td>\n",
       "      <td>NaN</td>\n",
       "      <td>NaN</td>\n",
       "      <td>NaN</td>\n",
       "      <td>NaN</td>\n",
       "      <td>NaN</td>\n",
       "      <td>NaN</td>\n",
       "      <td>NaN</td>\n",
       "      <td>2.0</td>\n",
       "      <td>0.0</td>\n",
       "      <td>...</td>\n",
       "      <td>0</td>\n",
       "      <td>0</td>\n",
       "      <td>6.0</td>\n",
       "      <td>NaN</td>\n",
       "      <td>NaN</td>\n",
       "      <td>2.0</td>\n",
       "      <td>4.0</td>\n",
       "      <td>5</td>\n",
       "      <td>12</td>\n",
       "      <td>9</td>\n",
       "    </tr>\n",
       "    <tr>\n",
       "      <th>3</th>\n",
       "      <td>2017-12-10</td>\n",
       "      <td>5.0</td>\n",
       "      <td>1.0</td>\n",
       "      <td>1.0</td>\n",
       "      <td>3.0</td>\n",
       "      <td>2.0</td>\n",
       "      <td>2.0</td>\n",
       "      <td>0.0</td>\n",
       "      <td>NaN</td>\n",
       "      <td>NaN</td>\n",
       "      <td>...</td>\n",
       "      <td>0</td>\n",
       "      <td>0</td>\n",
       "      <td>NaN</td>\n",
       "      <td>8.0</td>\n",
       "      <td>6.0</td>\n",
       "      <td>7.0</td>\n",
       "      <td>7.0</td>\n",
       "      <td>6</td>\n",
       "      <td>12</td>\n",
       "      <td>10</td>\n",
       "    </tr>\n",
       "    <tr>\n",
       "      <th>4</th>\n",
       "      <td>2017-12-12</td>\n",
       "      <td>2.0</td>\n",
       "      <td>2.0</td>\n",
       "      <td>0.0</td>\n",
       "      <td>5.0</td>\n",
       "      <td>2.0</td>\n",
       "      <td>4.0</td>\n",
       "      <td>5.0</td>\n",
       "      <td>0.0</td>\n",
       "      <td>2.0</td>\n",
       "      <td>...</td>\n",
       "      <td>1</td>\n",
       "      <td>0</td>\n",
       "      <td>7.0</td>\n",
       "      <td>16.0</td>\n",
       "      <td>4.0</td>\n",
       "      <td>9.0</td>\n",
       "      <td>18.0</td>\n",
       "      <td>1</td>\n",
       "      <td>12</td>\n",
       "      <td>12</td>\n",
       "    </tr>\n",
       "  </tbody>\n",
       "</table>\n",
       "<p>5 rows × 42 columns</p>\n",
       "</div>"
      ],
      "text/plain": [
       "        Date  Ross  Chandler  BT1  BT2  BT3  BT4  BT5  GR1  GR2  ...  \\\n",
       "0 2017-12-05   0.0       5.0  3.0  6.0  5.0  4.0  4.0  0.0  0.0  ...   \n",
       "1 2017-12-07   1.0       0.0  0.0  2.0  0.0  0.0  0.0  0.0  0.0  ...   \n",
       "2 2017-12-09   NaN       NaN  NaN  NaN  NaN  NaN  NaN  2.0  0.0  ...   \n",
       "3 2017-12-10   5.0       1.0  1.0  3.0  2.0  2.0  0.0  NaN  NaN  ...   \n",
       "4 2017-12-12   2.0       2.0  0.0  5.0  2.0  4.0  5.0  0.0  2.0  ...   \n",
       "\n",
       "   GroupFeed  Varied_Target  All_GR  All_BT All_SS  male  female  Day_of_week  \\\n",
       "0          1              0     6.0    22.0    5.0  12.0    21.0            1   \n",
       "1          1              0     0.0     2.0    1.0   1.0     2.0            3   \n",
       "2          0              0     6.0     NaN    NaN   2.0     4.0            5   \n",
       "3          0              0     NaN     8.0    6.0   7.0     7.0            6   \n",
       "4          1              0     7.0    16.0    4.0   9.0    18.0            1   \n",
       "\n",
       "   Month  Day  \n",
       "0     12    5  \n",
       "1     12    7  \n",
       "2     12    9  \n",
       "3     12   10  \n",
       "4     12   12  \n",
       "\n",
       "[5 rows x 42 columns]"
      ]
     },
     "execution_count": 19,
     "metadata": {},
     "output_type": "execute_result"
    }
   ],
   "source": [
    "# create additional time variables for eating\n",
    "eat_concat['Date'] = pd.to_datetime(eat_concat['Date'])\n",
    "eat_concat['Day_of_week'] = pd.to_datetime(eat_concat['Date']).dt.dayofweek\n",
    "eat_concat['Month'] = pd.to_datetime(eat_concat['Date']).dt.month\n",
    "eat_concat['Day'] = pd.to_datetime(eat_concat['Date']).dt.day\n",
    "eat_concat.head()"
   ]
  },
  {
   "cell_type": "code",
   "execution_count": 20,
   "metadata": {},
   "outputs": [
    {
     "name": "stdout",
     "output_type": "stream",
     "text": [
      "Training data set length=466\n",
      "Testing data set length=116\n"
     ]
    }
   ],
   "source": [
    "# Create training and testing datasets\n",
    "np.random.seed(25)\n",
    "mask = np.random.rand(len(eat_concat)) < 0.8\n",
    "eat_train = eat_concat[mask]\n",
    "eat_test = eat_concat[~mask]\n",
    "print('Training data set length='+str(len(eat_train)))\n",
    "print('Testing data set length='+str(len(eat_test)))"
   ]
  },
  {
   "cell_type": "code",
   "execution_count": 21,
   "metadata": {},
   "outputs": [],
   "source": [
    "# setup Poisson regression expression\n",
    "expr = \"\"\"Total ~ GroupFeed + Mackerel + Varied_Target + \n",
    "    Garlic + Temperature + Bluefish + Sardine + Saury + Blue_Runner + \n",
    "    Squid + Herring + covid + Humbolt_Squid + Day_of_week + Month + \n",
    "    light_training + Mazuri_Vitamins + Salmon\"\"\""
   ]
  },
  {
   "cell_type": "code",
   "execution_count": 22,
   "metadata": {},
   "outputs": [],
   "source": [
    "y_train, X_train = dmatrices(expr, eat_train, return_type='dataframe')\n",
    "y_test, X_test = dmatrices(expr, eat_test, return_type='dataframe')"
   ]
  },
  {
   "cell_type": "code",
   "execution_count": 23,
   "metadata": {},
   "outputs": [
    {
     "name": "stdout",
     "output_type": "stream",
     "text": [
      "                 Generalized Linear Model Regression Results                  \n",
      "==============================================================================\n",
      "Dep. Variable:                  Total   No. Observations:                  466\n",
      "Model:                            GLM   Df Residuals:                      447\n",
      "Model Family:                 Poisson   Df Model:                           18\n",
      "Link Function:                    log   Scale:                          1.0000\n",
      "Method:                          IRLS   Log-Likelihood:                -1688.7\n",
      "Date:                Wed, 09 Dec 2020   Deviance:                       1189.7\n",
      "Time:                        11:58:28   Pearson chi2:                 1.07e+03\n",
      "No. Iterations:                     4                                         \n",
      "Covariance Type:            nonrobust                                         \n",
      "===================================================================================\n",
      "                      coef    std err          z      P>|z|      [0.025      0.975]\n",
      "-----------------------------------------------------------------------------------\n",
      "Intercept          -0.5030      0.575     -0.875      0.382      -1.630       0.624\n",
      "GroupFeed           0.5348      0.074      7.205      0.000       0.389       0.680\n",
      "Mackerel            0.2534      0.055      4.622      0.000       0.146       0.361\n",
      "Varied_Target       0.1749      0.038      4.644      0.000       0.101       0.249\n",
      "Garlic              0.1524      0.033      4.646      0.000       0.088       0.217\n",
      "Temperature         0.0297      0.008      3.838      0.000       0.015       0.045\n",
      "Bluefish           -0.1957      0.106     -1.849      0.065      -0.403       0.012\n",
      "Sardine             0.2393      0.054      4.421      0.000       0.133       0.345\n",
      "Saury               0.5356      0.073      7.376      0.000       0.393       0.678\n",
      "Blue_Runner         0.3706      0.072      5.163      0.000       0.230       0.511\n",
      "Squid               0.0593      0.042      1.397      0.162      -0.024       0.142\n",
      "Herring             0.1473      0.058      2.544      0.011       0.034       0.261\n",
      "covid              -0.0938      0.054     -1.750      0.080      -0.199       0.011\n",
      "Humbolt_Squid       0.1466      0.168      0.871      0.384      -0.183       0.476\n",
      "Day_of_week         0.0408      0.020      1.995      0.046       0.001       0.081\n",
      "Month               0.0031      0.003      0.942      0.346      -0.003       0.010\n",
      "light_training      0.1621      0.058      2.802      0.005       0.049       0.275\n",
      "Mazuri_Vitamins     0.0520      0.036      1.442      0.149      -0.019       0.123\n",
      "Salmon             -0.0452      0.037     -1.230      0.219      -0.117       0.027\n",
      "===================================================================================\n"
     ]
    }
   ],
   "source": [
    "# Fit model and print results of model\n",
    "poisson_training_results = sm.GLM(y_train, X_train, family=sm.families.Poisson()).fit()\n",
    "print(poisson_training_results.summary())"
   ]
  },
  {
   "cell_type": "code",
   "execution_count": 24,
   "metadata": {},
   "outputs": [
    {
     "name": "stdout",
     "output_type": "stream",
     "text": [
      "          mean   mean_se  mean_ci_lower  mean_ci_upper\n",
      "0    20.505221  1.028531      18.585261      22.623525\n",
      "19   13.414503  0.701523      12.107661      14.862399\n",
      "23   13.256299  0.687243      11.975501      14.674082\n",
      "31   11.181306  0.651660       9.974325      12.534343\n",
      "38    7.714634  0.420125       6.933625       8.583616\n",
      "..         ...       ...            ...            ...\n",
      "564  20.739745  0.589327      19.616261      21.927575\n",
      "571  11.374571  0.372505      10.667412      12.128609\n",
      "577  30.556315  0.709976      29.195998      31.980013\n",
      "578  29.824929  0.701024      28.482116      31.231051\n",
      "581  30.375598  0.699222      29.035603      31.777435\n",
      "\n",
      "[116 rows x 4 columns]\n"
     ]
    }
   ],
   "source": [
    "poisson_predictions = poisson_training_results.get_prediction(X_test)\n",
    " \n",
    "#.summary_frame() returns a pandas DataFrame\n",
    "predictions_summary_frame = poisson_predictions.summary_frame()\n",
    "print(predictions_summary_frame)"
   ]
  },
  {
   "cell_type": "code",
   "execution_count": 25,
   "metadata": {},
   "outputs": [
    {
     "data": {
      "image/png": "[encoded data removed]",
      "text/plain": [
       "<Figure size 432x288 with 1 Axes>"
      ]
     },
     "metadata": {
      "needs_background": "light"
     },
     "output_type": "display_data"
    }
   ],
   "source": [
    "predicted_counts=predictions_summary_frame['mean']\n",
    "actual_counts = y_test['Total']\n",
    " \n",
    "fig = plt.figure()\n",
    "\n",
    " \n",
    "predicted, = plt.plot(X_test.index, predicted_counts, 'go-', label='Predicted counts')\n",
    "actual, = plt.plot(X_test.index, actual_counts, 'ro-', label='Actual counts')\n",
    " \n",
    "plt.legend(handles=[predicted, actual])\n",
    " \n",
    "plt.show()"
   ]
  },
  {
   "cell_type": "markdown",
   "metadata": {},
   "source": [
    "# Poisson Regression for Number of Drops for All Sharks"
   ]
  },
  {
   "cell_type": "code",
   "execution_count": 26,
   "metadata": {},
   "outputs": [
    {
     "data": {
      "text/html": [
       "<div>\n",
       "<style scoped>\n",
       "    .dataframe tbody tr th:only-of-type {\n",
       "        vertical-align: middle;\n",
       "    }\n",
       "\n",
       "    .dataframe tbody tr th {\n",
       "        vertical-align: top;\n",
       "    }\n",
       "\n",
       "    .dataframe thead th {\n",
       "        text-align: right;\n",
       "    }\n",
       "</style>\n",
       "<table border=\"1\" class=\"dataframe\">\n",
       "  <thead>\n",
       "    <tr style=\"text-align: right;\">\n",
       "      <th></th>\n",
       "      <th>Date</th>\n",
       "      <th>Ross</th>\n",
       "      <th>Chandler</th>\n",
       "      <th>BT1</th>\n",
       "      <th>BT2</th>\n",
       "      <th>BT3</th>\n",
       "      <th>BT4</th>\n",
       "      <th>BT5</th>\n",
       "      <th>GR1</th>\n",
       "      <th>GR2</th>\n",
       "      <th>...</th>\n",
       "      <th>GroupFeed</th>\n",
       "      <th>Varied_Target</th>\n",
       "      <th>All_GR</th>\n",
       "      <th>All_BT</th>\n",
       "      <th>All_SS</th>\n",
       "      <th>male</th>\n",
       "      <th>female</th>\n",
       "      <th>Day_of_week</th>\n",
       "      <th>Month</th>\n",
       "      <th>Day</th>\n",
       "    </tr>\n",
       "  </thead>\n",
       "  <tbody>\n",
       "    <tr>\n",
       "      <th>0</th>\n",
       "      <td>2017-12-05</td>\n",
       "      <td>0.0</td>\n",
       "      <td>0.0</td>\n",
       "      <td>0.0</td>\n",
       "      <td>0.0</td>\n",
       "      <td>0.0</td>\n",
       "      <td>1.0</td>\n",
       "      <td>0.0</td>\n",
       "      <td>0.0</td>\n",
       "      <td>0.0</td>\n",
       "      <td>...</td>\n",
       "      <td>1</td>\n",
       "      <td>0</td>\n",
       "      <td>2.0</td>\n",
       "      <td>1.0</td>\n",
       "      <td>0.0</td>\n",
       "      <td>0.0</td>\n",
       "      <td>3.0</td>\n",
       "      <td>1</td>\n",
       "      <td>12</td>\n",
       "      <td>5</td>\n",
       "    </tr>\n",
       "    <tr>\n",
       "      <th>1</th>\n",
       "      <td>2017-12-07</td>\n",
       "      <td>0.0</td>\n",
       "      <td>1.0</td>\n",
       "      <td>1.0</td>\n",
       "      <td>2.0</td>\n",
       "      <td>1.0</td>\n",
       "      <td>1.0</td>\n",
       "      <td>2.0</td>\n",
       "      <td>0.0</td>\n",
       "      <td>0.0</td>\n",
       "      <td>...</td>\n",
       "      <td>1</td>\n",
       "      <td>0</td>\n",
       "      <td>2.0</td>\n",
       "      <td>7.0</td>\n",
       "      <td>1.0</td>\n",
       "      <td>4.0</td>\n",
       "      <td>6.0</td>\n",
       "      <td>3</td>\n",
       "      <td>12</td>\n",
       "      <td>7</td>\n",
       "    </tr>\n",
       "    <tr>\n",
       "      <th>2</th>\n",
       "      <td>2017-12-09</td>\n",
       "      <td>NaN</td>\n",
       "      <td>NaN</td>\n",
       "      <td>NaN</td>\n",
       "      <td>NaN</td>\n",
       "      <td>NaN</td>\n",
       "      <td>NaN</td>\n",
       "      <td>NaN</td>\n",
       "      <td>0.0</td>\n",
       "      <td>1.0</td>\n",
       "      <td>...</td>\n",
       "      <td>0</td>\n",
       "      <td>0</td>\n",
       "      <td>1.0</td>\n",
       "      <td>NaN</td>\n",
       "      <td>NaN</td>\n",
       "      <td>0.0</td>\n",
       "      <td>1.0</td>\n",
       "      <td>5</td>\n",
       "      <td>12</td>\n",
       "      <td>9</td>\n",
       "    </tr>\n",
       "    <tr>\n",
       "      <th>3</th>\n",
       "      <td>2017-12-10</td>\n",
       "      <td>0.0</td>\n",
       "      <td>0.0</td>\n",
       "      <td>0.0</td>\n",
       "      <td>0.0</td>\n",
       "      <td>0.0</td>\n",
       "      <td>0.0</td>\n",
       "      <td>1.0</td>\n",
       "      <td>NaN</td>\n",
       "      <td>NaN</td>\n",
       "      <td>...</td>\n",
       "      <td>0</td>\n",
       "      <td>0</td>\n",
       "      <td>NaN</td>\n",
       "      <td>1.0</td>\n",
       "      <td>0.0</td>\n",
       "      <td>1.0</td>\n",
       "      <td>0.0</td>\n",
       "      <td>6</td>\n",
       "      <td>12</td>\n",
       "      <td>10</td>\n",
       "    </tr>\n",
       "    <tr>\n",
       "      <th>4</th>\n",
       "      <td>2017-12-12</td>\n",
       "      <td>0.0</td>\n",
       "      <td>0.0</td>\n",
       "      <td>0.0</td>\n",
       "      <td>0.0</td>\n",
       "      <td>2.0</td>\n",
       "      <td>0.0</td>\n",
       "      <td>0.0</td>\n",
       "      <td>0.0</td>\n",
       "      <td>0.0</td>\n",
       "      <td>...</td>\n",
       "      <td>1</td>\n",
       "      <td>0</td>\n",
       "      <td>1.0</td>\n",
       "      <td>2.0</td>\n",
       "      <td>0.0</td>\n",
       "      <td>0.0</td>\n",
       "      <td>3.0</td>\n",
       "      <td>1</td>\n",
       "      <td>12</td>\n",
       "      <td>12</td>\n",
       "    </tr>\n",
       "  </tbody>\n",
       "</table>\n",
       "<p>5 rows × 41 columns</p>\n",
       "</div>"
      ],
      "text/plain": [
       "        Date  Ross  Chandler  BT1  BT2  BT3  BT4  BT5  GR1  GR2  ...  \\\n",
       "0 2017-12-05   0.0       0.0  0.0  0.0  0.0  1.0  0.0  0.0  0.0  ...   \n",
       "1 2017-12-07   0.0       1.0  1.0  2.0  1.0  1.0  2.0  0.0  0.0  ...   \n",
       "2 2017-12-09   NaN       NaN  NaN  NaN  NaN  NaN  NaN  0.0  1.0  ...   \n",
       "3 2017-12-10   0.0       0.0  0.0  0.0  0.0  0.0  1.0  NaN  NaN  ...   \n",
       "4 2017-12-12   0.0       0.0  0.0  0.0  2.0  0.0  0.0  0.0  0.0  ...   \n",
       "\n",
       "   GroupFeed  Varied_Target  All_GR  All_BT  All_SS  male  female  \\\n",
       "0          1              0     2.0     1.0     0.0   0.0     3.0   \n",
       "1          1              0     2.0     7.0     1.0   4.0     6.0   \n",
       "2          0              0     1.0     NaN     NaN   0.0     1.0   \n",
       "3          0              0     NaN     1.0     0.0   1.0     0.0   \n",
       "4          1              0     1.0     2.0     0.0   0.0     3.0   \n",
       "\n",
       "   Day_of_week  Month  Day  \n",
       "0            1     12    5  \n",
       "1            3     12    7  \n",
       "2            5     12    9  \n",
       "3            6     12   10  \n",
       "4            1     12   12  \n",
       "\n",
       "[5 rows x 41 columns]"
      ]
     },
     "execution_count": 26,
     "metadata": {},
     "output_type": "execute_result"
    }
   ],
   "source": [
    "# create additional time variables for dropping\n",
    "drops_concat['Date'] = pd.to_datetime(drops_concat['Date'])\n",
    "drops_concat['Day_of_week'] = pd.to_datetime(drops_concat['Date']).dt.dayofweek\n",
    "drops_concat['Month'] = pd.to_datetime(drops_concat['Date']).dt.month\n",
    "drops_concat['Day'] = pd.to_datetime(drops_concat['Date']).dt.day\n",
    "drops_concat.head()"
   ]
  },
  {
   "cell_type": "code",
   "execution_count": 27,
   "metadata": {},
   "outputs": [
    {
     "name": "stdout",
     "output_type": "stream",
     "text": [
      "Training data set length=466\n",
      "Testing data set length=116\n"
     ]
    }
   ],
   "source": [
    "# Create training and testing datasets\n",
    "np.random.seed(25)\n",
    "mask = np.random.rand(len(drops_concat)) < 0.8\n",
    "drops_train = drops_concat[mask]\n",
    "drops_test = drops_concat[~mask]\n",
    "print('Training data set length='+str(len(drops_train)))\n",
    "print('Testing data set length='+str(len(drops_test)))"
   ]
  },
  {
   "cell_type": "code",
   "execution_count": 28,
   "metadata": {},
   "outputs": [],
   "source": [
    "# setup Poisson regression expression\n",
    "expr = \"\"\"Total ~ Herring + Blue_Runner + Temperature + GroupFeed + \n",
    "    Mackerel + covid + Bluefish + Sardine + Varied_Target + Day + \n",
    "    Saury + Month + Mahi\"\"\""
   ]
  },
  {
   "cell_type": "code",
   "execution_count": 29,
   "metadata": {},
   "outputs": [],
   "source": [
    "y_train, X_train = dmatrices(expr, drops_train, return_type='dataframe')\n",
    "y_test, X_test = dmatrices(expr, drops_test, return_type='dataframe')"
   ]
  },
  {
   "cell_type": "code",
   "execution_count": 30,
   "metadata": {},
   "outputs": [
    {
     "name": "stdout",
     "output_type": "stream",
     "text": [
      "                 Generalized Linear Model Regression Results                  \n",
      "==============================================================================\n",
      "Dep. Variable:                  Total   No. Observations:                  466\n",
      "Model:                            GLM   Df Residuals:                      452\n",
      "Model Family:                 Poisson   Df Model:                           13\n",
      "Link Function:                    log   Scale:                          1.0000\n",
      "Method:                          IRLS   Log-Likelihood:                -1043.4\n",
      "Date:                Wed, 09 Dec 2020   Deviance:                       891.21\n",
      "Time:                        11:58:28   Pearson chi2:                     990.\n",
      "No. Iterations:                     5                                         \n",
      "Covariance Type:            nonrobust                                         \n",
      "=================================================================================\n",
      "                    coef    std err          z      P>|z|      [0.025      0.975]\n",
      "---------------------------------------------------------------------------------\n",
      "Intercept         8.6565      1.425      6.074      0.000       5.863      11.450\n",
      "Herring          -0.2413      0.137     -1.767      0.077      -0.509       0.026\n",
      "Blue_Runner       0.5259      0.145      3.617      0.000       0.241       0.811\n",
      "Temperature      -0.1112      0.019     -5.840      0.000      -0.149      -0.074\n",
      "GroupFeed         0.7013      0.123      5.718      0.000       0.461       0.942\n",
      "Mackerel          0.4856      0.121      4.009      0.000       0.248       0.723\n",
      "covid             0.3326      0.113      2.946      0.003       0.111       0.554\n",
      "Bluefish          0.3551      0.195      1.823      0.068      -0.027       0.737\n",
      "Sardine           0.2772      0.123      2.247      0.025       0.035       0.519\n",
      "Varied_Target    -0.2117      0.065     -3.260      0.001      -0.339      -0.084\n",
      "Day               0.0044      0.003      1.516      0.130      -0.001       0.010\n",
      "Saury             0.2549      0.148      1.719      0.086      -0.036       0.545\n",
      "Month             0.0183      0.007      2.503      0.012       0.004       0.033\n",
      "Mahi              0.2686      0.187      1.433      0.152      -0.099       0.636\n",
      "=================================================================================\n"
     ]
    }
   ],
   "source": [
    "# Fit model and print results of model\n",
    "poisson_training_results = sm.GLM(y_train, X_train, family=sm.families.Poisson()).fit()\n",
    "print(poisson_training_results.summary())"
   ]
  },
  {
   "cell_type": "code",
   "execution_count": 31,
   "metadata": {},
   "outputs": [
    {
     "name": "stdout",
     "output_type": "stream",
     "text": [
      "         mean   mean_se  mean_ci_lower  mean_ci_upper\n",
      "0    5.538509  0.527852       4.594819       6.676015\n",
      "19   3.295865  0.279629       2.790947       3.892130\n",
      "23   3.554361  0.288195       3.032105       4.166571\n",
      "31   4.042816  0.363204       3.390101       4.821202\n",
      "38   1.332273  0.140881       1.082886       1.639093\n",
      "..        ...       ...            ...            ...\n",
      "564  2.513385  0.205230       2.141678       2.949604\n",
      "571  1.106042  0.104783       0.918610       1.331717\n",
      "577  3.502736  0.203684       3.125431       3.925588\n",
      "578  4.633924  0.276733       4.122076       5.209329\n",
      "581  3.694347  0.243754       3.246199       4.204363\n",
      "\n",
      "[116 rows x 4 columns]\n"
     ]
    }
   ],
   "source": [
    "poisson_predictions = poisson_training_results.get_prediction(X_test)\n",
    " \n",
    "#.summary_frame() returns a pandas DataFrame\n",
    "predictions_summary_frame = poisson_predictions.summary_frame()\n",
    "print(predictions_summary_frame)"
   ]
  },
  {
   "cell_type": "code",
   "execution_count": 32,
   "metadata": {},
   "outputs": [
    {
     "data": {
      "image/png": "[encoded data removed]",
      "text/plain": [
       "<Figure size 432x288 with 1 Axes>"
      ]
     },
     "metadata": {
      "needs_background": "light"
     },
     "output_type": "display_data"
    }
   ],
   "source": [
    "predicted_counts=predictions_summary_frame['mean']\n",
    "actual_counts = y_test['Total']\n",
    " \n",
    "fig = plt.figure()\n",
    "\n",
    " \n",
    "predicted, = plt.plot(X_test.index, predicted_counts, 'go-', label='Predicted counts')\n",
    "actual, = plt.plot(X_test.index, actual_counts, 'ro-', label='Actual counts')\n",
    " \n",
    "plt.legend(handles=[predicted, actual])\n",
    " \n",
    "plt.show()"
   ]
  },
  {
   "cell_type": "markdown",
   "metadata": {},
   "source": [
    "# Poisson Regression for Number of Targets for All Sharks"
   ]
  },
  {
   "cell_type": "code",
   "execution_count": 33,
   "metadata": {},
   "outputs": [
    {
     "data": {
      "text/html": [
       "<div>\n",
       "<style scoped>\n",
       "    .dataframe tbody tr th:only-of-type {\n",
       "        vertical-align: middle;\n",
       "    }\n",
       "\n",
       "    .dataframe tbody tr th {\n",
       "        vertical-align: top;\n",
       "    }\n",
       "\n",
       "    .dataframe thead th {\n",
       "        text-align: right;\n",
       "    }\n",
       "</style>\n",
       "<table border=\"1\" class=\"dataframe\">\n",
       "  <thead>\n",
       "    <tr style=\"text-align: right;\">\n",
       "      <th></th>\n",
       "      <th>Date</th>\n",
       "      <th>Ross</th>\n",
       "      <th>Chandler</th>\n",
       "      <th>BT1</th>\n",
       "      <th>BT2</th>\n",
       "      <th>BT3</th>\n",
       "      <th>BT4</th>\n",
       "      <th>BT5</th>\n",
       "      <th>GR1</th>\n",
       "      <th>GR2</th>\n",
       "      <th>...</th>\n",
       "      <th>GroupFeed</th>\n",
       "      <th>Varied_Target</th>\n",
       "      <th>All_GR</th>\n",
       "      <th>All_BT</th>\n",
       "      <th>All_SS</th>\n",
       "      <th>male</th>\n",
       "      <th>female</th>\n",
       "      <th>Day_of_week</th>\n",
       "      <th>Month</th>\n",
       "      <th>Day</th>\n",
       "    </tr>\n",
       "  </thead>\n",
       "  <tbody>\n",
       "    <tr>\n",
       "      <th>0</th>\n",
       "      <td>2017-12-05</td>\n",
       "      <td>3.0</td>\n",
       "      <td>0.0</td>\n",
       "      <td>4.0</td>\n",
       "      <td>3.0</td>\n",
       "      <td>0.0</td>\n",
       "      <td>2.0</td>\n",
       "      <td>2.0</td>\n",
       "      <td>1.0</td>\n",
       "      <td>1.0</td>\n",
       "      <td>...</td>\n",
       "      <td>1</td>\n",
       "      <td>0</td>\n",
       "      <td>8.0</td>\n",
       "      <td>11.0</td>\n",
       "      <td>3.0</td>\n",
       "      <td>10.0</td>\n",
       "      <td>12.0</td>\n",
       "      <td>1</td>\n",
       "      <td>12</td>\n",
       "      <td>5</td>\n",
       "    </tr>\n",
       "    <tr>\n",
       "      <th>1</th>\n",
       "      <td>2017-12-07</td>\n",
       "      <td>4.0</td>\n",
       "      <td>5.0</td>\n",
       "      <td>2.0</td>\n",
       "      <td>2.0</td>\n",
       "      <td>5.0</td>\n",
       "      <td>3.0</td>\n",
       "      <td>5.0</td>\n",
       "      <td>0.0</td>\n",
       "      <td>0.0</td>\n",
       "      <td>...</td>\n",
       "      <td>1</td>\n",
       "      <td>0</td>\n",
       "      <td>4.0</td>\n",
       "      <td>17.0</td>\n",
       "      <td>9.0</td>\n",
       "      <td>16.0</td>\n",
       "      <td>14.0</td>\n",
       "      <td>3</td>\n",
       "      <td>12</td>\n",
       "      <td>7</td>\n",
       "    </tr>\n",
       "    <tr>\n",
       "      <th>2</th>\n",
       "      <td>2017-12-09</td>\n",
       "      <td>NaN</td>\n",
       "      <td>NaN</td>\n",
       "      <td>NaN</td>\n",
       "      <td>NaN</td>\n",
       "      <td>NaN</td>\n",
       "      <td>NaN</td>\n",
       "      <td>NaN</td>\n",
       "      <td>1.0</td>\n",
       "      <td>3.0</td>\n",
       "      <td>...</td>\n",
       "      <td>0</td>\n",
       "      <td>0</td>\n",
       "      <td>8.0</td>\n",
       "      <td>NaN</td>\n",
       "      <td>NaN</td>\n",
       "      <td>1.0</td>\n",
       "      <td>7.0</td>\n",
       "      <td>5</td>\n",
       "      <td>12</td>\n",
       "      <td>9</td>\n",
       "    </tr>\n",
       "    <tr>\n",
       "      <th>3</th>\n",
       "      <td>2017-12-10</td>\n",
       "      <td>4.0</td>\n",
       "      <td>7.0</td>\n",
       "      <td>0.0</td>\n",
       "      <td>2.0</td>\n",
       "      <td>2.0</td>\n",
       "      <td>0.0</td>\n",
       "      <td>0.0</td>\n",
       "      <td>NaN</td>\n",
       "      <td>NaN</td>\n",
       "      <td>...</td>\n",
       "      <td>0</td>\n",
       "      <td>0</td>\n",
       "      <td>NaN</td>\n",
       "      <td>4.0</td>\n",
       "      <td>11.0</td>\n",
       "      <td>11.0</td>\n",
       "      <td>4.0</td>\n",
       "      <td>6</td>\n",
       "      <td>12</td>\n",
       "      <td>10</td>\n",
       "    </tr>\n",
       "    <tr>\n",
       "      <th>4</th>\n",
       "      <td>2017-12-12</td>\n",
       "      <td>3.0</td>\n",
       "      <td>1.0</td>\n",
       "      <td>3.0</td>\n",
       "      <td>2.0</td>\n",
       "      <td>4.0</td>\n",
       "      <td>1.0</td>\n",
       "      <td>1.0</td>\n",
       "      <td>1.0</td>\n",
       "      <td>1.0</td>\n",
       "      <td>...</td>\n",
       "      <td>1</td>\n",
       "      <td>0</td>\n",
       "      <td>11.0</td>\n",
       "      <td>11.0</td>\n",
       "      <td>4.0</td>\n",
       "      <td>9.0</td>\n",
       "      <td>17.0</td>\n",
       "      <td>1</td>\n",
       "      <td>12</td>\n",
       "      <td>12</td>\n",
       "    </tr>\n",
       "  </tbody>\n",
       "</table>\n",
       "<p>5 rows × 41 columns</p>\n",
       "</div>"
      ],
      "text/plain": [
       "        Date  Ross  Chandler  BT1  BT2  BT3  BT4  BT5  GR1  GR2  ...  \\\n",
       "0 2017-12-05   3.0       0.0  4.0  3.0  0.0  2.0  2.0  1.0  1.0  ...   \n",
       "1 2017-12-07   4.0       5.0  2.0  2.0  5.0  3.0  5.0  0.0  0.0  ...   \n",
       "2 2017-12-09   NaN       NaN  NaN  NaN  NaN  NaN  NaN  1.0  3.0  ...   \n",
       "3 2017-12-10   4.0       7.0  0.0  2.0  2.0  0.0  0.0  NaN  NaN  ...   \n",
       "4 2017-12-12   3.0       1.0  3.0  2.0  4.0  1.0  1.0  1.0  1.0  ...   \n",
       "\n",
       "   GroupFeed  Varied_Target  All_GR  All_BT  All_SS  male  female  \\\n",
       "0          1              0     8.0    11.0     3.0  10.0    12.0   \n",
       "1          1              0     4.0    17.0     9.0  16.0    14.0   \n",
       "2          0              0     8.0     NaN     NaN   1.0     7.0   \n",
       "3          0              0     NaN     4.0    11.0  11.0     4.0   \n",
       "4          1              0    11.0    11.0     4.0   9.0    17.0   \n",
       "\n",
       "   Day_of_week  Month  Day  \n",
       "0            1     12    5  \n",
       "1            3     12    7  \n",
       "2            5     12    9  \n",
       "3            6     12   10  \n",
       "4            1     12   12  \n",
       "\n",
       "[5 rows x 41 columns]"
      ]
     },
     "execution_count": 33,
     "metadata": {},
     "output_type": "execute_result"
    }
   ],
   "source": [
    "# create additional time variables for Targeting\n",
    "targets_concat['Date'] = pd.to_datetime(targets_concat['Date'])\n",
    "targets_concat['Day_of_week'] = pd.to_datetime(targets_concat['Date']).dt.dayofweek\n",
    "targets_concat['Month'] = pd.to_datetime(targets_concat['Date']).dt.month\n",
    "targets_concat['Day'] = pd.to_datetime(targets_concat['Date']).dt.day\n",
    "targets_concat.head()"
   ]
  },
  {
   "cell_type": "code",
   "execution_count": 34,
   "metadata": {},
   "outputs": [
    {
     "name": "stdout",
     "output_type": "stream",
     "text": [
      "Training data set length=466\n",
      "Testing data set length=116\n"
     ]
    }
   ],
   "source": [
    "# Create training and testing datasets\n",
    "np.random.seed(25)\n",
    "mask = np.random.rand(len(targets_concat)) < 0.8\n",
    "targets_train = targets_concat[mask]\n",
    "targets_test = targets_concat[~mask]\n",
    "print('Training data set length='+str(len(targets_train)))\n",
    "print('Testing data set length='+str(len(targets_test)))"
   ]
  },
  {
   "cell_type": "code",
   "execution_count": 35,
   "metadata": {},
   "outputs": [],
   "source": [
    "# setup Poisson regression expression\n",
    "expr = \"\"\"Total ~ GroupFeed + Sardine + light_training + \n",
    "    Day_of_week + Saury + Salmon + Blue_Runner + Humbolt_Squid + \n",
    "    Mackerel + covid + Garlic + Squid + Day + Bluefish + Mahi + \n",
    "    Bonito + Temperature\"\"\""
   ]
  },
  {
   "cell_type": "code",
   "execution_count": 36,
   "metadata": {},
   "outputs": [],
   "source": [
    "y_train, X_train = dmatrices(expr, targets_train, return_type='dataframe')\n",
    "y_test, X_test = dmatrices(expr, targets_test, return_type='dataframe')"
   ]
  },
  {
   "cell_type": "code",
   "execution_count": 37,
   "metadata": {},
   "outputs": [
    {
     "name": "stdout",
     "output_type": "stream",
     "text": [
      "                 Generalized Linear Model Regression Results                  \n",
      "==============================================================================\n",
      "Dep. Variable:                  Total   No. Observations:                  466\n",
      "Model:                            GLM   Df Residuals:                      448\n",
      "Model Family:                 Poisson   Df Model:                           17\n",
      "Link Function:                    log   Scale:                          1.0000\n",
      "Method:                          IRLS   Log-Likelihood:                -3538.2\n",
      "Date:                Wed, 09 Dec 2020   Deviance:                       4438.6\n",
      "Time:                        11:58:30   Pearson chi2:                 4.48e+03\n",
      "No. Iterations:                     5                                         \n",
      "Covariance Type:            nonrobust                                         \n",
      "==================================================================================\n",
      "                     coef    std err          z      P>|z|      [0.025      0.975]\n",
      "----------------------------------------------------------------------------------\n",
      "Intercept          2.4029      0.338      7.099      0.000       1.739       3.066\n",
      "GroupFeed          0.7370      0.043     17.260      0.000       0.653       0.821\n",
      "Sardine            0.4565      0.028     16.182      0.000       0.401       0.512\n",
      "light_training     0.4774      0.030     16.157      0.000       0.420       0.535\n",
      "Day_of_week        0.1116      0.012      9.128      0.000       0.088       0.136\n",
      "Saury              0.5983      0.037     16.222      0.000       0.526       0.671\n",
      "Salmon            -0.1943      0.024     -8.041      0.000      -0.242      -0.147\n",
      "Blue_Runner        0.3808      0.034     11.305      0.000       0.315       0.447\n",
      "Humbolt_Squid      0.4360      0.089      4.878      0.000       0.261       0.611\n",
      "Mackerel           0.1981      0.028      7.072      0.000       0.143       0.253\n",
      "covid             -0.1686      0.033     -5.169      0.000      -0.233      -0.105\n",
      "Garlic             0.0917      0.018      5.149      0.000       0.057       0.127\n",
      "Squid              0.0795      0.025      3.187      0.001       0.031       0.128\n",
      "Day                0.0010      0.001      1.438      0.150      -0.000       0.002\n",
      "Bluefish           0.1493      0.054      2.741      0.006       0.043       0.256\n",
      "Mahi              -0.0522      0.052     -1.002      0.317      -0.154       0.050\n",
      "Bonito             0.1460      0.048      3.055      0.002       0.052       0.240\n",
      "Temperature       -0.0024      0.005     -0.523      0.601      -0.011       0.007\n",
      "==================================================================================\n"
     ]
    }
   ],
   "source": [
    "# Fit model and print results of model\n",
    "poisson_training_results = sm.GLM(y_train, X_train, family=sm.families.Poisson()).fit()\n",
    "print(poisson_training_results.summary())"
   ]
  },
  {
   "cell_type": "code",
   "execution_count": 38,
   "metadata": {},
   "outputs": [
    {
     "name": "stdout",
     "output_type": "stream",
     "text": [
      "          mean   mean_se  mean_ci_lower  mean_ci_upper\n",
      "0    43.495925  1.325351      40.974330      46.172701\n",
      "19   38.445160  1.202065      36.159894      40.874852\n",
      "23   38.760238  1.183698      36.508300      41.151083\n",
      "31   35.927426  1.280282      33.503744      38.526439\n",
      "38   16.376435  0.557377      15.319636      17.506136\n",
      "..         ...       ...            ...            ...\n",
      "564  63.065915  1.180657      60.793810      65.422938\n",
      "571  26.389361  0.522917      25.384110      27.434422\n",
      "577  70.945308  0.986723      69.037489      72.905849\n",
      "578  77.414250  1.207514      75.083378      79.817482\n",
      "581  71.492743  1.149321      69.275234      73.781235\n",
      "\n",
      "[116 rows x 4 columns]\n"
     ]
    }
   ],
   "source": [
    "poisson_predictions = poisson_training_results.get_prediction(X_test)\n",
    " \n",
    "#.summary_frame() returns a pandas DataFrame\n",
    "predictions_summary_frame = poisson_predictions.summary_frame()\n",
    "print(predictions_summary_frame)"
   ]
  },
  {
   "cell_type": "code",
   "execution_count": 39,
   "metadata": {},
   "outputs": [
    {
     "data": {
      "image/png": "[encoded data removed]",
      "text/plain": [
       "<Figure size 432x288 with 1 Axes>"
      ]
     },
     "metadata": {
      "needs_background": "light"
     },
     "output_type": "display_data"
    }
   ],
   "source": [
    "predicted_counts=predictions_summary_frame['mean']\n",
    "actual_counts = y_test['Total']\n",
    " \n",
    "fig = plt.figure()\n",
    "\n",
    " \n",
    "predicted, = plt.plot(X_test.index, predicted_counts, 'go-', label='Predicted counts')\n",
    "actual, = plt.plot(X_test.index, actual_counts, 'ro-', label='Actual counts')\n",
    " \n",
    "plt.legend(handles=[predicted, actual])\n",
    " \n",
    "plt.show()"
   ]
  },
  {
   "cell_type": "markdown",
   "metadata": {},
   "source": [
    "# Poisson Regression Across Different Species of Sharks"
   ]
  },
  {
   "cell_type": "markdown",
   "metadata": {},
   "source": [
    "# Sandbar Sharks"
   ]
  },
  {
   "cell_type": "code",
   "execution_count": 40,
   "metadata": {},
   "outputs": [],
   "source": [
    "expr = \"\"\"All_SS ~ Sardine + Bonito + Bluefish + Garlic + \n",
    "    Herring + Squid + Salmon + light_training + Mackerel + covid\"\"\""
   ]
  },
  {
   "cell_type": "code",
   "execution_count": 41,
   "metadata": {},
   "outputs": [],
   "source": [
    "eat_concatSS = eat_concat[eat_concat['All_SS'].notna()]"
   ]
  },
  {
   "cell_type": "code",
   "execution_count": 42,
   "metadata": {},
   "outputs": [
    {
     "name": "stdout",
     "output_type": "stream",
     "text": [
      "Training data set length=357\n",
      "Testing data set length=82\n"
     ]
    }
   ],
   "source": [
    "# Create training and testing datasets\n",
    "np.random.seed(25)\n",
    "mask = np.random.rand(len(eat_concatSS)) < 0.8\n",
    "eat_train = eat_concatSS[mask]\n",
    "eat_test = eat_concatSS[~mask]\n",
    "print('Training data set length='+str(len(eat_train)))\n",
    "print('Testing data set length='+str(len(eat_test)))"
   ]
  },
  {
   "cell_type": "markdown",
   "metadata": {},
   "source": [
    "Eating:"
   ]
  },
  {
   "cell_type": "code",
   "execution_count": 43,
   "metadata": {},
   "outputs": [],
   "source": [
    "y_train, X_train = dmatrices(expr, eat_train, return_type='dataframe')\n",
    "y_test, X_test = dmatrices(expr, eat_test, return_type='dataframe')"
   ]
  },
  {
   "cell_type": "code",
   "execution_count": 44,
   "metadata": {},
   "outputs": [
    {
     "name": "stdout",
     "output_type": "stream",
     "text": [
      "                 Generalized Linear Model Regression Results                  \n",
      "==============================================================================\n",
      "Dep. Variable:                 All_SS   No. Observations:                  357\n",
      "Model:                            GLM   Df Residuals:                      346\n",
      "Model Family:                 Poisson   Df Model:                           10\n",
      "Link Function:                    log   Scale:                          1.0000\n",
      "Method:                          IRLS   Log-Likelihood:                -996.42\n",
      "Date:                Wed, 09 Dec 2020   Deviance:                       757.22\n",
      "Time:                        11:58:30   Pearson chi2:                     676.\n",
      "No. Iterations:                     4                                         \n",
      "Covariance Type:            nonrobust                                         \n",
      "==================================================================================\n",
      "                     coef    std err          z      P>|z|      [0.025      0.975]\n",
      "----------------------------------------------------------------------------------\n",
      "Intercept          1.3283      0.105     12.626      0.000       1.122       1.535\n",
      "Sardine            0.0597      0.094      0.636      0.525      -0.124       0.244\n",
      "Bonito             0.6038      0.114      5.312      0.000       0.381       0.827\n",
      "Bluefish          -0.5238      0.228     -2.297      0.022      -0.971      -0.077\n",
      "Garlic             0.2298      0.067      3.422      0.001       0.098       0.361\n",
      "Herring            0.3251      0.117      2.778      0.005       0.096       0.555\n",
      "Squid             -0.1286      0.059     -2.194      0.028      -0.243      -0.014\n",
      "Salmon            -0.1407      0.081     -1.728      0.084      -0.300       0.019\n",
      "light_training     0.2297      0.087      2.647      0.008       0.060       0.400\n",
      "Mackerel           0.3162      0.094      3.355      0.001       0.131       0.501\n",
      "covid             -0.1226      0.108     -1.131      0.258      -0.335       0.090\n",
      "==================================================================================\n"
     ]
    }
   ],
   "source": [
    "# Fit model and print results of model\n",
    "poisson_training_results = sm.GLM(y_train, X_train, family=sm.families.Poisson()).fit()\n",
    "print(poisson_training_results.summary())"
   ]
  },
  {
   "cell_type": "code",
   "execution_count": 45,
   "metadata": {},
   "outputs": [
    {
     "name": "stdout",
     "output_type": "stream",
     "text": [
      "          mean   mean_se  mean_ci_lower  mean_ci_upper\n",
      "0     4.750022  0.416924       3.999291       5.641677\n",
      "25    4.176968  0.395414       3.469619       5.028523\n",
      "31    5.497339  0.579467       4.471246       6.758908\n",
      "41    5.976489  0.245990       5.513292       6.478602\n",
      "50   12.048083  1.411824       9.575733      15.158766\n",
      "..         ...       ...            ...            ...\n",
      "573   5.976489  0.245990       5.513292       6.478602\n",
      "574   5.976489  0.245990       5.513292       6.478602\n",
      "577   5.976489  0.245990       5.513292       6.478602\n",
      "578   5.255471  0.258526       4.772430       5.787403\n",
      "581   5.976489  0.245990       5.513292       6.478602\n",
      "\n",
      "[82 rows x 4 columns]\n"
     ]
    }
   ],
   "source": [
    "poisson_predictions = poisson_training_results.get_prediction(X_test)\n",
    " \n",
    "#.summary_frame() returns a pandas DataFrame\n",
    "predictions_summary_frame = poisson_predictions.summary_frame()\n",
    "print(predictions_summary_frame)"
   ]
  },
  {
   "cell_type": "code",
   "execution_count": 46,
   "metadata": {},
   "outputs": [
    {
     "data": {
      "image/png": "[encoded data removed]",
      "text/plain": [
       "<Figure size 432x288 with 1 Axes>"
      ]
     },
     "metadata": {
      "needs_background": "light"
     },
     "output_type": "display_data"
    }
   ],
   "source": [
    "predicted_counts=predictions_summary_frame['mean']\n",
    "actual_counts = y_test['All_SS']\n",
    " \n",
    "fig = plt.figure()\n",
    "\n",
    " \n",
    "predicted, = plt.plot(X_test.index, predicted_counts, 'go-', label='Predicted counts')\n",
    "actual, = plt.plot(X_test.index, actual_counts, 'ro-', label='Actual counts')\n",
    " \n",
    "plt.legend(handles=[predicted, actual])\n",
    " \n",
    "plt.show()"
   ]
  },
  {
   "cell_type": "markdown",
   "metadata": {},
   "source": [
    "Dropping:"
   ]
  },
  {
   "cell_type": "code",
   "execution_count": 47,
   "metadata": {},
   "outputs": [],
   "source": [
    "drops_concatSS = drops_concat[drops_concat['All_SS'].notna()]"
   ]
  },
  {
   "cell_type": "code",
   "execution_count": 48,
   "metadata": {},
   "outputs": [
    {
     "name": "stdout",
     "output_type": "stream",
     "text": [
      "Training data set length=357\n",
      "Testing data set length=81\n"
     ]
    }
   ],
   "source": [
    "# Create training and testing datasets\n",
    "np.random.seed(25)\n",
    "mask = np.random.rand(len(drops_concatSS)) < 0.8\n",
    "drops_train = drops_concatSS[mask]\n",
    "drops_test = drops_concatSS[~mask]\n",
    "print('Training data set length='+str(len(drops_train)))\n",
    "print('Testing data set length='+str(len(drops_test)))"
   ]
  },
  {
   "cell_type": "code",
   "execution_count": 49,
   "metadata": {},
   "outputs": [],
   "source": [
    "expr = \"\"\"All_SS ~ Varied_Target + Temperature + Saury + \n",
    "    light_training + Day + Salmon\"\"\""
   ]
  },
  {
   "cell_type": "code",
   "execution_count": 50,
   "metadata": {},
   "outputs": [],
   "source": [
    "y_train, X_train = dmatrices(expr, drops_train, return_type='dataframe')\n",
    "y_test, X_test = dmatrices(expr, drops_test, return_type='dataframe')"
   ]
  },
  {
   "cell_type": "code",
   "execution_count": 51,
   "metadata": {},
   "outputs": [
    {
     "name": "stdout",
     "output_type": "stream",
     "text": [
      "                 Generalized Linear Model Regression Results                  \n",
      "==============================================================================\n",
      "Dep. Variable:                 All_SS   No. Observations:                  357\n",
      "Model:                            GLM   Df Residuals:                      350\n",
      "Model Family:                 Poisson   Df Model:                            6\n",
      "Link Function:                    log   Scale:                          1.0000\n",
      "Method:                          IRLS   Log-Likelihood:                -283.34\n",
      "Date:                Wed, 09 Dec 2020   Deviance:                       352.98\n",
      "Time:                        11:58:31   Pearson chi2:                     444.\n",
      "No. Iterations:                     5                                         \n",
      "Covariance Type:            nonrobust                                         \n",
      "==================================================================================\n",
      "                     coef    std err          z      P>|z|      [0.025      0.975]\n",
      "----------------------------------------------------------------------------------\n",
      "Intercept          7.5530      4.605      1.640      0.101      -1.472      16.578\n",
      "Varied_Target     -0.7577      0.227     -3.343      0.001      -1.202      -0.313\n",
      "Temperature       -0.1144      0.062     -1.832      0.067      -0.237       0.008\n",
      "Saury             -0.2567      0.196     -1.310      0.190      -0.641       0.127\n",
      "light_training     0.4644      0.350      1.328      0.184      -0.221       1.150\n",
      "Day                0.0163      0.010      1.619      0.105      -0.003       0.036\n",
      "Salmon            -0.4020      0.375     -1.073      0.283      -1.136       0.332\n",
      "==================================================================================\n"
     ]
    }
   ],
   "source": [
    "# Fit model and print results of model\n",
    "poisson_training_results = sm.GLM(y_train, X_train, family=sm.families.Poisson()).fit()\n",
    "print(poisson_training_results.summary())"
   ]
  },
  {
   "cell_type": "code",
   "execution_count": 52,
   "metadata": {},
   "outputs": [
    {
     "name": "stdout",
     "output_type": "stream",
     "text": [
      "         mean   mean_se  mean_ci_lower  mean_ci_upper\n",
      "0    0.367880  0.118316       0.195860       0.690981\n",
      "25   0.587549  0.161616       0.342693       1.007356\n",
      "31   0.675709  0.202563       0.375480       1.215995\n",
      "41   0.910892  0.222323       0.564563       1.469673\n",
      "50   0.699610  0.188122       0.413021       1.185061\n",
      "..        ...       ...            ...            ...\n",
      "570  0.219275  0.083296       0.104146       0.461672\n",
      "574  0.335168  0.045323       0.257133       0.436884\n",
      "576  0.351932  0.049279       0.267467       0.463071\n",
      "578  0.367097  0.059094       0.267767       0.503274\n",
      "580  0.385459  0.068415       0.272206       0.545831\n",
      "\n",
      "[81 rows x 4 columns]\n"
     ]
    }
   ],
   "source": [
    "poisson_predictions = poisson_training_results.get_prediction(X_test)\n",
    " \n",
    "#.summary_frame() returns a pandas DataFrame\n",
    "predictions_summary_frame = poisson_predictions.summary_frame()\n",
    "print(predictions_summary_frame)"
   ]
  },
  {
   "cell_type": "code",
   "execution_count": 53,
   "metadata": {},
   "outputs": [
    {
     "data": {
      "image/png": "[encoded data removed]",
      "text/plain": [
       "<Figure size 432x288 with 1 Axes>"
      ]
     },
     "metadata": {
      "needs_background": "light"
     },
     "output_type": "display_data"
    }
   ],
   "source": [
    "predicted_counts=predictions_summary_frame['mean']\n",
    "actual_counts = y_test['All_SS']\n",
    " \n",
    "fig = plt.figure()\n",
    "\n",
    " \n",
    "predicted, = plt.plot(X_test.index, predicted_counts, 'go-', label='Predicted counts')\n",
    "actual, = plt.plot(X_test.index, actual_counts, 'ro-', label='Actual counts')\n",
    " \n",
    "plt.legend(handles=[predicted, actual])\n",
    " \n",
    "plt.show()"
   ]
  },
  {
   "cell_type": "markdown",
   "metadata": {},
   "source": [
    "Targets:"
   ]
  },
  {
   "cell_type": "code",
   "execution_count": 54,
   "metadata": {},
   "outputs": [],
   "source": [
    "targets_concatSS = targets_concat[targets_concat['All_SS'].notna()]"
   ]
  },
  {
   "cell_type": "code",
   "execution_count": 55,
   "metadata": {},
   "outputs": [
    {
     "name": "stdout",
     "output_type": "stream",
     "text": [
      "Training data set length=356\n",
      "Testing data set length=81\n"
     ]
    }
   ],
   "source": [
    "# Create training and testing datasets\n",
    "np.random.seed(25)\n",
    "mask = np.random.rand(len(targets_concatSS)) < 0.8\n",
    "targets_train = targets_concatSS[mask]\n",
    "targets_test = targets_concatSS[~mask]\n",
    "print('Training data set length='+str(len(targets_train)))\n",
    "print('Testing data set length='+str(len(targets_test)))"
   ]
  },
  {
   "cell_type": "code",
   "execution_count": 56,
   "metadata": {},
   "outputs": [],
   "source": [
    "expr = \"\"\"All_SS ~ Day_of_week + light_training + covid + \n",
    "    Varied_Target + Salmon + Bluefish + Goggle_Eye + Temperature + \n",
    "    Sardine + Mackerel + Humbolt_Squid + Squid + Day + Month\"\"\""
   ]
  },
  {
   "cell_type": "code",
   "execution_count": 57,
   "metadata": {},
   "outputs": [],
   "source": [
    "y_train, X_train = dmatrices(expr, targets_train, return_type='dataframe')\n",
    "y_test, X_test = dmatrices(expr, targets_test, return_type='dataframe')"
   ]
  },
  {
   "cell_type": "code",
   "execution_count": 58,
   "metadata": {},
   "outputs": [
    {
     "name": "stdout",
     "output_type": "stream",
     "text": [
      "                 Generalized Linear Model Regression Results                  \n",
      "==============================================================================\n",
      "Dep. Variable:                 All_SS   No. Observations:                  356\n",
      "Model:                            GLM   Df Residuals:                      341\n",
      "Model Family:                 Poisson   Df Model:                           14\n",
      "Link Function:                    log   Scale:                          1.0000\n",
      "Method:                          IRLS   Log-Likelihood:                -1613.2\n",
      "Date:                Wed, 09 Dec 2020   Deviance:                       1593.4\n",
      "Time:                        11:58:32   Pearson chi2:                 1.57e+03\n",
      "No. Iterations:                     4                                         \n",
      "Covariance Type:            nonrobust                                         \n",
      "==================================================================================\n",
      "                     coef    std err          z      P>|z|      [0.025      0.975]\n",
      "----------------------------------------------------------------------------------\n",
      "Intercept          4.2971      0.663      6.479      0.000       2.997       5.597\n",
      "Day_of_week        0.0881      0.012      7.507      0.000       0.065       0.111\n",
      "light_training     0.5246      0.067      7.821      0.000       0.393       0.656\n",
      "covid             -0.3463      0.066     -5.227      0.000      -0.476      -0.216\n",
      "Varied_Target     -0.0719      0.041     -1.756      0.079      -0.152       0.008\n",
      "Salmon            -0.2431      0.050     -4.908      0.000      -0.340      -0.146\n",
      "Bluefish          -0.5169      0.118     -4.380      0.000      -0.748      -0.286\n",
      "Goggle_Eye         0.4050      0.118      3.430      0.001       0.174       0.636\n",
      "Temperature       -0.0278      0.009     -3.081      0.002      -0.046      -0.010\n",
      "Sardine            0.1950      0.057      3.397      0.001       0.082       0.307\n",
      "Mackerel          -0.2093      0.058     -3.608      0.000      -0.323      -0.096\n",
      "Humbolt_Squid      0.4543      0.129      3.526      0.000       0.202       0.707\n",
      "Squid             -0.0811      0.035     -2.334      0.020      -0.149      -0.013\n",
      "Day                0.0036      0.001      2.528      0.011       0.001       0.006\n",
      "Month             -0.0033      0.004     -0.845      0.398      -0.011       0.004\n",
      "==================================================================================\n"
     ]
    }
   ],
   "source": [
    "# Fit model and print results of model\n",
    "poisson_training_results = sm.GLM(y_train, X_train, family=sm.families.Poisson()).fit()\n",
    "print(poisson_training_results.summary())"
   ]
  },
  {
   "cell_type": "code",
   "execution_count": 59,
   "metadata": {},
   "outputs": [
    {
     "name": "stdout",
     "output_type": "stream",
     "text": [
      "          mean   mean_se  mean_ci_lower  mean_ci_upper\n",
      "0    10.234492  0.653626       9.030344      11.599208\n",
      "25   12.238834  0.759223      10.837689      13.821126\n",
      "31   17.572700  1.078840      15.580476      19.819662\n",
      "41   22.236339  1.061502      20.250197      24.417282\n",
      "50   24.534002  1.204597      22.283078      27.012302\n",
      "..         ...       ...            ...            ...\n",
      "572  24.104051  0.576560      23.000094      25.260996\n",
      "576  24.723478  0.603181      23.569085      25.934412\n",
      "577  16.172950  0.478958      15.260935      17.139470\n",
      "580  25.218046  0.731029      23.825199      26.692320\n",
      "581  16.681167  0.562008      15.615233      17.819865\n",
      "\n",
      "[81 rows x 4 columns]\n"
     ]
    }
   ],
   "source": [
    "poisson_predictions = poisson_training_results.get_prediction(X_test)\n",
    " \n",
    "#.summary_frame() returns a pandas DataFrame\n",
    "predictions_summary_frame = poisson_predictions.summary_frame()\n",
    "print(predictions_summary_frame)"
   ]
  },
  {
   "cell_type": "code",
   "execution_count": 60,
   "metadata": {},
   "outputs": [
    {
     "data": {
      "image/png": "[encoded data removed]",
      "text/plain": [
       "<Figure size 432x288 with 1 Axes>"
      ]
     },
     "metadata": {
      "needs_background": "light"
     },
     "output_type": "display_data"
    }
   ],
   "source": [
    "predicted_counts=predictions_summary_frame['mean']\n",
    "actual_counts = y_test['All_SS']\n",
    " \n",
    "fig = plt.figure()\n",
    "\n",
    " \n",
    "predicted, = plt.plot(X_test.index, predicted_counts, 'go-', label='Predicted counts')\n",
    "actual, = plt.plot(X_test.index, actual_counts, 'ro-', label='Actual counts')\n",
    " \n",
    "plt.legend(handles=[predicted, actual])\n",
    " \n",
    "plt.show()"
   ]
  },
  {
   "cell_type": "markdown",
   "metadata": {},
   "source": [
    "# Blacktip Sharks"
   ]
  },
  {
   "cell_type": "markdown",
   "metadata": {},
   "source": [
    "Eating:"
   ]
  },
  {
   "cell_type": "code",
   "execution_count": 61,
   "metadata": {},
   "outputs": [],
   "source": [
    "expr = \"\"\"All_BT ~ Varied_Target + Mackerel + Temperature + \n",
    "    Bonito + Squid + GroupFeed + Herring + Mazuri_Vitamins + \n",
    "    Garlic + Bluefish\"\"\""
   ]
  },
  {
   "cell_type": "code",
   "execution_count": 62,
   "metadata": {},
   "outputs": [],
   "source": [
    "eat_concatBT = eat_concat[eat_concat['All_BT'].notna()]"
   ]
  },
  {
   "cell_type": "code",
   "execution_count": 63,
   "metadata": {},
   "outputs": [
    {
     "name": "stdout",
     "output_type": "stream",
     "text": [
      "Training data set length=356\n",
      "Testing data set length=80\n"
     ]
    }
   ],
   "source": [
    "# Create training and testing datasets\n",
    "np.random.seed(25)\n",
    "mask = np.random.rand(len(eat_concatBT)) < 0.8\n",
    "eat_train = eat_concatBT[mask]\n",
    "eat_test = eat_concatBT[~mask]\n",
    "print('Training data set length='+str(len(eat_train)))\n",
    "print('Testing data set length='+str(len(eat_test)))"
   ]
  },
  {
   "cell_type": "code",
   "execution_count": 64,
   "metadata": {},
   "outputs": [],
   "source": [
    "y_train, X_train = dmatrices(expr, eat_train, return_type='dataframe')\n",
    "y_test, X_test = dmatrices(expr, eat_test, return_type='dataframe')"
   ]
  },
  {
   "cell_type": "code",
   "execution_count": 65,
   "metadata": {},
   "outputs": [
    {
     "name": "stdout",
     "output_type": "stream",
     "text": [
      "                 Generalized Linear Model Regression Results                  \n",
      "==============================================================================\n",
      "Dep. Variable:                 All_BT   No. Observations:                  356\n",
      "Model:                            GLM   Df Residuals:                      345\n",
      "Model Family:                 Poisson   Df Model:                           10\n",
      "Link Function:                    log   Scale:                          1.0000\n",
      "Method:                          IRLS   Log-Likelihood:                -1169.9\n",
      "Date:                Wed, 09 Dec 2020   Deviance:                       809.45\n",
      "Time:                        11:58:33   Pearson chi2:                     786.\n",
      "No. Iterations:                     4                                         \n",
      "Covariance Type:            nonrobust                                         \n",
      "===================================================================================\n",
      "                      coef    std err          z      P>|z|      [0.025      0.975]\n",
      "-----------------------------------------------------------------------------------\n",
      "Intercept          -1.2309      0.764     -1.610      0.107      -2.729       0.267\n",
      "Varied_Target       0.3347      0.043      7.862      0.000       0.251       0.418\n",
      "Mackerel           -0.3961      0.078     -5.061      0.000      -0.549      -0.243\n",
      "Temperature         0.0519      0.010      5.128      0.000       0.032       0.072\n",
      "Bonito             -0.0346      0.104     -0.334      0.739      -0.238       0.169\n",
      "Squid               0.1493      0.035      4.224      0.000       0.080       0.219\n",
      "GroupFeed          -0.2806      0.084     -3.358      0.001      -0.444      -0.117\n",
      "Herring            -0.2579      0.107     -2.406      0.016      -0.468      -0.048\n",
      "Mazuri_Vitamins     0.1071      0.050      2.154      0.031       0.010       0.205\n",
      "Garlic             -0.1541      0.047     -3.268      0.001      -0.247      -0.062\n",
      "Bluefish           -0.0947      0.107     -0.883      0.377      -0.305       0.115\n",
      "===================================================================================\n"
     ]
    }
   ],
   "source": [
    "# Fit model and print results of model\n",
    "poisson_training_results = sm.GLM(y_train, X_train, family=sm.families.Poisson()).fit()\n",
    "print(poisson_training_results.summary())"
   ]
  },
  {
   "cell_type": "code",
   "execution_count": 66,
   "metadata": {},
   "outputs": [
    {
     "name": "stdout",
     "output_type": "stream",
     "text": [
      "          mean   mean_se  mean_ci_lower  mean_ci_upper\n",
      "0     9.370551  0.445080       8.537583      10.284787\n",
      "27    7.423021  0.385265       6.705051       8.217870\n",
      "32    9.083477  0.455277       8.233580      10.021103\n",
      "43    7.578606  0.382320       6.865126       8.366237\n",
      "51   10.131915  0.586749       9.044772      11.349729\n",
      "..         ...       ...            ...            ...\n",
      "560  12.119491  0.410188      11.341622      12.950709\n",
      "573  14.830501  0.405422      14.056801      15.646786\n",
      "577  14.830501  0.405422      14.056801      15.646786\n",
      "578  17.218912  0.500968      16.264503      18.229327\n",
      "581  14.677479  0.392838      13.927378      15.467980\n",
      "\n",
      "[80 rows x 4 columns]\n"
     ]
    }
   ],
   "source": [
    "poisson_predictions = poisson_training_results.get_prediction(X_test)\n",
    " \n",
    "#.summary_frame() returns a pandas DataFrame\n",
    "predictions_summary_frame = poisson_predictions.summary_frame()\n",
    "print(predictions_summary_frame)"
   ]
  },
  {
   "cell_type": "code",
   "execution_count": 67,
   "metadata": {},
   "outputs": [
    {
     "data": {
      "image/png": "[encoded data removed]",
      "text/plain": [
       "<Figure size 432x288 with 1 Axes>"
      ]
     },
     "metadata": {
      "needs_background": "light"
     },
     "output_type": "display_data"
    }
   ],
   "source": [
    "predicted_counts=predictions_summary_frame['mean']\n",
    "actual_counts = y_test['All_BT']\n",
    " \n",
    "fig = plt.figure()\n",
    "\n",
    " \n",
    "predicted, = plt.plot(X_test.index, predicted_counts, 'go-', label='Predicted counts')\n",
    "actual, = plt.plot(X_test.index, actual_counts, 'ro-', label='Actual counts')\n",
    " \n",
    "plt.legend(handles=[predicted, actual])\n",
    " \n",
    "plt.show()"
   ]
  },
  {
   "cell_type": "markdown",
   "metadata": {},
   "source": [
    "Dropping:"
   ]
  },
  {
   "cell_type": "code",
   "execution_count": 68,
   "metadata": {},
   "outputs": [],
   "source": [
    "drops_concatBT = drops_concat[drops_concat['All_BT'].notna()]"
   ]
  },
  {
   "cell_type": "code",
   "execution_count": 69,
   "metadata": {},
   "outputs": [
    {
     "name": "stdout",
     "output_type": "stream",
     "text": [
      "Training data set length=356\n",
      "Testing data set length=80\n"
     ]
    }
   ],
   "source": [
    "# Create training and testing datasets\n",
    "np.random.seed(25)\n",
    "mask = np.random.rand(len(drops_concatBT)) < 0.8\n",
    "drops_train = drops_concatBT[mask]\n",
    "drops_test = drops_concatBT[~mask]\n",
    "print('Training data set length='+str(len(drops_train)))\n",
    "print('Testing data set length='+str(len(drops_test)))"
   ]
  },
  {
   "cell_type": "code",
   "execution_count": 70,
   "metadata": {},
   "outputs": [],
   "source": [
    "expr = \"\"\"All_BT ~ Temperature + covid + Garlic + Mahi + \n",
    "    Herring + Bonito + Salmon + Humbolt_Squid + Mazuri_Vitamins + \n",
    "    Saury + Sardine\n",
    "\"\"\""
   ]
  },
  {
   "cell_type": "code",
   "execution_count": 71,
   "metadata": {},
   "outputs": [],
   "source": [
    "y_train, X_train = dmatrices(expr, drops_train, return_type='dataframe')\n",
    "y_test, X_test = dmatrices(expr, drops_test, return_type='dataframe')"
   ]
  },
  {
   "cell_type": "code",
   "execution_count": 72,
   "metadata": {},
   "outputs": [
    {
     "name": "stdout",
     "output_type": "stream",
     "text": [
      "                 Generalized Linear Model Regression Results                  \n",
      "==============================================================================\n",
      "Dep. Variable:                 All_BT   No. Observations:                  356\n",
      "Model:                            GLM   Df Residuals:                      344\n",
      "Model Family:                 Poisson   Df Model:                           11\n",
      "Link Function:                    log   Scale:                          1.0000\n",
      "Method:                          IRLS   Log-Likelihood:                -757.32\n",
      "Date:                Wed, 09 Dec 2020   Deviance:                       550.31\n",
      "Time:                        11:58:34   Pearson chi2:                     537.\n",
      "No. Iterations:                     5                                         \n",
      "Covariance Type:            nonrobust                                         \n",
      "===================================================================================\n",
      "                      coef    std err          z      P>|z|      [0.025      0.975]\n",
      "-----------------------------------------------------------------------------------\n",
      "Intercept           9.1645      1.628      5.630      0.000       5.974      12.355\n",
      "Temperature        -0.1024      0.022     -4.675      0.000      -0.145      -0.059\n",
      "covid               0.4292      0.116      3.707      0.000       0.202       0.656\n",
      "Garlic             -0.4118      0.092     -4.472      0.000      -0.592      -0.231\n",
      "Mahi                0.3560      0.160      2.224      0.026       0.042       0.670\n",
      "Herring             0.4807      0.176      2.738      0.006       0.137       0.825\n",
      "Bonito             -0.3742      0.202     -1.853      0.064      -0.770       0.022\n",
      "Salmon             -0.1811      0.113     -1.605      0.108      -0.402       0.040\n",
      "Humbolt_Squid      -0.9918      0.509     -1.947      0.052      -1.990       0.007\n",
      "Mazuri_Vitamins     0.2407      0.092      2.613      0.009       0.060       0.421\n",
      "Saury              -0.2937      0.075     -3.896      0.000      -0.441      -0.146\n",
      "Sardine            -0.1536      0.097     -1.576      0.115      -0.345       0.037\n",
      "===================================================================================\n"
     ]
    }
   ],
   "source": [
    "# Fit model and print results of model\n",
    "poisson_training_results = sm.GLM(y_train, X_train, family=sm.families.Poisson()).fit()\n",
    "print(poisson_training_results.summary())"
   ]
  },
  {
   "cell_type": "code",
   "execution_count": 73,
   "metadata": {},
   "outputs": [
    {
     "name": "stdout",
     "output_type": "stream",
     "text": [
      "         mean   mean_se  mean_ci_lower  mean_ci_upper\n",
      "0    3.322583  0.226677       2.906727       3.797934\n",
      "25   4.456878  0.269683       3.958450       5.018066\n",
      "31   4.443651  0.405144       3.716488       5.313089\n",
      "41   4.549137  0.283961       4.025281       5.141167\n",
      "50   4.663939  0.815335       3.310918       6.569877\n",
      "..        ...       ...            ...            ...\n",
      "560  2.255396  0.149864       1.979990       2.569110\n",
      "573  2.598346  0.171409       2.283203       2.956987\n",
      "577  2.598346  0.171409       2.283203       2.956987\n",
      "578  3.485394  0.215915       3.086890       3.935343\n",
      "581  2.652133  0.171176       2.336987       3.009776\n",
      "\n",
      "[80 rows x 4 columns]\n"
     ]
    }
   ],
   "source": [
    "poisson_predictions = poisson_training_results.get_prediction(X_test)\n",
    " \n",
    "#.summary_frame() returns a pandas DataFrame\n",
    "predictions_summary_frame = poisson_predictions.summary_frame()\n",
    "print(predictions_summary_frame)"
   ]
  },
  {
   "cell_type": "code",
   "execution_count": 74,
   "metadata": {},
   "outputs": [
    {
     "data": {
      "image/png": "[encoded data removed]",
      "text/plain": [
       "<Figure size 432x288 with 1 Axes>"
      ]
     },
     "metadata": {
      "needs_background": "light"
     },
     "output_type": "display_data"
    }
   ],
   "source": [
    "predicted_counts=predictions_summary_frame['mean']\n",
    "actual_counts = y_test['All_BT']\n",
    " \n",
    "fig = plt.figure()\n",
    "\n",
    " \n",
    "predicted, = plt.plot(X_test.index, predicted_counts, 'go-', label='Predicted counts')\n",
    "actual, = plt.plot(X_test.index, actual_counts, 'ro-', label='Actual counts')\n",
    " \n",
    "plt.legend(handles=[predicted, actual])\n",
    " \n",
    "plt.show()"
   ]
  },
  {
   "cell_type": "markdown",
   "metadata": {},
   "source": [
    "Targeting:"
   ]
  },
  {
   "cell_type": "code",
   "execution_count": 75,
   "metadata": {},
   "outputs": [],
   "source": [
    "targets_concatBT = targets_concat[targets_concat['All_BT'].notna()]"
   ]
  },
  {
   "cell_type": "code",
   "execution_count": 76,
   "metadata": {},
   "outputs": [
    {
     "name": "stdout",
     "output_type": "stream",
     "text": [
      "Training data set length=356\n",
      "Testing data set length=81\n"
     ]
    }
   ],
   "source": [
    "# Create training and testing datasets\n",
    "np.random.seed(25)\n",
    "mask = np.random.rand(len(targets_concatBT)) < 0.8\n",
    "targets_train = targets_concatBT[mask]\n",
    "targets_test = targets_concatBT[~mask]\n",
    "print('Training data set length='+str(len(targets_train)))\n",
    "print('Testing data set length='+str(len(targets_test)))"
   ]
  },
  {
   "cell_type": "code",
   "execution_count": 77,
   "metadata": {},
   "outputs": [],
   "source": [
    "expr = \"\"\"All_BT ~ light_training + Saury + Salmon + Varied_Target + \n",
    "    Month + Mackerel + Day_of_week + Bonito + covid + Garlic + \n",
    "    Blue_Runner + Temperature + Squid + Bluefish + Herring + \n",
    "    Goggle_Eye\"\"\""
   ]
  },
  {
   "cell_type": "code",
   "execution_count": 78,
   "metadata": {},
   "outputs": [],
   "source": [
    "y_train, X_train = dmatrices(expr, targets_train, return_type='dataframe')\n",
    "y_test, X_test = dmatrices(expr, targets_test, return_type='dataframe')"
   ]
  },
  {
   "cell_type": "code",
   "execution_count": 79,
   "metadata": {},
   "outputs": [
    {
     "name": "stdout",
     "output_type": "stream",
     "text": [
      "                 Generalized Linear Model Regression Results                  \n",
      "==============================================================================\n",
      "Dep. Variable:                 All_BT   No. Observations:                  356\n",
      "Model:                            GLM   Df Residuals:                      339\n",
      "Model Family:                 Poisson   Df Model:                           16\n",
      "Link Function:                    log   Scale:                          1.0000\n",
      "Method:                          IRLS   Log-Likelihood:                -1957.6\n",
      "Date:                Wed, 09 Dec 2020   Deviance:                       2002.8\n",
      "Time:                        11:58:35   Pearson chi2:                 2.05e+03\n",
      "No. Iterations:                     4                                         \n",
      "Covariance Type:            nonrobust                                         \n",
      "==================================================================================\n",
      "                     coef    std err          z      P>|z|      [0.025      0.975]\n",
      "----------------------------------------------------------------------------------\n",
      "Intercept          4.2994      0.481      8.942      0.000       3.357       5.242\n",
      "light_training     0.4019      0.051      7.901      0.000       0.302       0.502\n",
      "Saury             -0.1074      0.049     -2.171      0.030      -0.204      -0.010\n",
      "Salmon            -0.2119      0.034     -6.297      0.000      -0.278      -0.146\n",
      "Varied_Target      0.1824      0.032      5.784      0.000       0.121       0.244\n",
      "Month             -0.0125      0.003     -4.382      0.000      -0.018      -0.007\n",
      "Mackerel          -0.2751      0.048     -5.700      0.000      -0.370      -0.181\n",
      "Day_of_week        0.0635      0.010      6.310      0.000       0.044       0.083\n",
      "Bonito            -0.2258      0.065     -3.459      0.001      -0.354      -0.098\n",
      "covid             -0.1855      0.043     -4.280      0.000      -0.270      -0.101\n",
      "Garlic            -0.1058      0.025     -4.149      0.000      -0.156      -0.056\n",
      "Blue_Runner       -0.1276      0.044     -2.915      0.004      -0.213      -0.042\n",
      "Temperature       -0.0145      0.007     -2.223      0.026      -0.027      -0.002\n",
      "Squid              0.1324      0.034      3.875      0.000       0.065       0.199\n",
      "Bluefish          -0.0522      0.058     -0.900      0.368      -0.166       0.061\n",
      "Herring           -0.0069      0.059     -0.116      0.907      -0.123       0.109\n",
      "Goggle_Eye         0.1527      0.097      1.572      0.116      -0.038       0.343\n",
      "==================================================================================\n"
     ]
    }
   ],
   "source": [
    "# Fit model and print results of model\n",
    "poisson_training_results = sm.GLM(y_train, X_train, family=sm.families.Poisson()).fit()\n",
    "print(poisson_training_results.summary())"
   ]
  },
  {
   "cell_type": "code",
   "execution_count": 80,
   "metadata": {},
   "outputs": [
    {
     "name": "stdout",
     "output_type": "stream",
     "text": [
      "          mean   mean_se  mean_ci_lower  mean_ci_upper\n",
      "0    18.837535  0.884115      17.182013      20.652570\n",
      "25   27.443564  1.231339      25.133256      29.966240\n",
      "31   27.815386  1.361301      25.271254      30.615644\n",
      "41   35.590985  1.600761      32.587863      38.870859\n",
      "50   33.902807  2.196053      29.860641      38.492153\n",
      "..         ...       ...            ...            ...\n",
      "572  39.464761  0.696085      38.123772      40.852919\n",
      "576  39.464761  0.696085      38.123772      40.852919\n",
      "577  33.873740  0.705986      32.517914      35.286097\n",
      "580  39.350153  0.702530      37.997033      40.751460\n",
      "581  33.972398  0.701971      32.624047      35.376476\n",
      "\n",
      "[81 rows x 4 columns]\n"
     ]
    }
   ],
   "source": [
    "poisson_predictions = poisson_training_results.get_prediction(X_test)\n",
    " \n",
    "#.summary_frame() returns a pandas DataFrame\n",
    "predictions_summary_frame = poisson_predictions.summary_frame()\n",
    "print(predictions_summary_frame)"
   ]
  },
  {
   "cell_type": "code",
   "execution_count": 81,
   "metadata": {},
   "outputs": [
    {
     "data": {
      "image/png": "[encoded data removed]",
      "text/plain": [
       "<Figure size 432x288 with 1 Axes>"
      ]
     },
     "metadata": {
      "needs_background": "light"
     },
     "output_type": "display_data"
    }
   ],
   "source": [
    "predicted_counts=predictions_summary_frame['mean']\n",
    "actual_counts = y_test['All_BT']\n",
    " \n",
    "fig = plt.figure()\n",
    "\n",
    " \n",
    "predicted, = plt.plot(X_test.index, predicted_counts, 'go-', label='Predicted counts')\n",
    "actual, = plt.plot(X_test.index, actual_counts, 'ro-', label='Actual counts')\n",
    " \n",
    "plt.legend(handles=[predicted, actual])\n",
    " \n",
    "plt.show()"
   ]
  },
  {
   "cell_type": "markdown",
   "metadata": {},
   "source": [
    "# Gray Reef Sharks"
   ]
  },
  {
   "cell_type": "markdown",
   "metadata": {},
   "source": [
    "Eating:"
   ]
  },
  {
   "cell_type": "code",
   "execution_count": 82,
   "metadata": {},
   "outputs": [],
   "source": [
    "expr = \"\"\"All_GR ~ Herring + Sardine + Varied_Target + Bonito + \n",
    "    covid + Bluefish + Squid + Saury + Humbolt_Squid + Blue_Runner + \n",
    "    Month + Temperature + Garlic\"\"\""
   ]
  },
  {
   "cell_type": "code",
   "execution_count": 83,
   "metadata": {},
   "outputs": [],
   "source": [
    "eat_concatGR = eat_concat[eat_concat['All_GR'].notna()]"
   ]
  },
  {
   "cell_type": "code",
   "execution_count": 84,
   "metadata": {},
   "outputs": [
    {
     "name": "stdout",
     "output_type": "stream",
     "text": [
      "Training data set length=356\n",
      "Testing data set length=81\n"
     ]
    }
   ],
   "source": [
    "# Create training and testing datasets\n",
    "np.random.seed(25)\n",
    "mask = np.random.rand(len(eat_concatGR)) < 0.8\n",
    "eat_train = eat_concatGR[mask]\n",
    "eat_test = eat_concatGR[~mask]\n",
    "print('Training data set length='+str(len(eat_train)))\n",
    "print('Testing data set length='+str(len(eat_test)))"
   ]
  },
  {
   "cell_type": "code",
   "execution_count": 85,
   "metadata": {},
   "outputs": [],
   "source": [
    "y_train, X_train = dmatrices(expr, eat_train, return_type='dataframe')\n",
    "y_test, X_test = dmatrices(expr, eat_test, return_type='dataframe')"
   ]
  },
  {
   "cell_type": "code",
   "execution_count": 86,
   "metadata": {},
   "outputs": [
    {
     "name": "stdout",
     "output_type": "stream",
     "text": [
      "                 Generalized Linear Model Regression Results                  \n",
      "==============================================================================\n",
      "Dep. Variable:                 All_GR   No. Observations:                  356\n",
      "Model:                            GLM   Df Residuals:                      342\n",
      "Model Family:                 Poisson   Df Model:                           13\n",
      "Link Function:                    log   Scale:                          1.0000\n",
      "Method:                          IRLS   Log-Likelihood:                -938.83\n",
      "Date:                Wed, 09 Dec 2020   Deviance:                       572.66\n",
      "Time:                        11:58:35   Pearson chi2:                     511.\n",
      "No. Iterations:                     5                                         \n",
      "Covariance Type:            nonrobust                                         \n",
      "=================================================================================\n",
      "                    coef    std err          z      P>|z|      [0.025      0.975]\n",
      "---------------------------------------------------------------------------------\n",
      "Intercept        -0.4478      0.997     -0.449      0.653      -2.402       1.506\n",
      "Herring           0.9000      0.124      7.281      0.000       0.658       1.142\n",
      "Sardine          -0.6253      0.155     -4.038      0.000      -0.929      -0.322\n",
      "Varied_Target     0.2841      0.055      5.174      0.000       0.176       0.392\n",
      "Bonito           -0.3064      0.144     -2.132      0.033      -0.588      -0.025\n",
      "covid            -0.4263      0.109     -3.925      0.000      -0.639      -0.213\n",
      "Bluefish         -0.2425      0.164     -1.483      0.138      -0.563       0.078\n",
      "Squid             0.2158      0.076      2.851      0.004       0.067       0.364\n",
      "Saury             0.7372      0.127      5.798      0.000       0.488       0.986\n",
      "Humbolt_Squid     0.6983      0.234      2.981      0.003       0.239       1.157\n",
      "Blue_Runner       0.3248      0.129      2.514      0.012       0.072       0.578\n",
      "Month             0.0097      0.006      1.611      0.107      -0.002       0.021\n",
      "Temperature       0.0222      0.013      1.661      0.097      -0.004       0.048\n",
      "Garlic           -0.1482      0.052     -2.825      0.005      -0.251      -0.045\n",
      "=================================================================================\n"
     ]
    }
   ],
   "source": [
    "# Fit model and print results of model\n",
    "poisson_training_results = sm.GLM(y_train, X_train, family=sm.families.Poisson()).fit()\n",
    "print(poisson_training_results.summary())"
   ]
  },
  {
   "cell_type": "code",
   "execution_count": 87,
   "metadata": {},
   "outputs": [
    {
     "name": "stdout",
     "output_type": "stream",
     "text": [
      "          mean   mean_se  mean_ci_lower  mean_ci_upper\n",
      "0     6.548702  0.498222       5.641521       7.601761\n",
      "25    4.836106  0.344929       4.205184       5.561688\n",
      "30    8.140757  0.517138       7.187743       9.220129\n",
      "41    3.917866  0.344330       3.297919       4.654352\n",
      "50    3.812936  0.642971       2.739822       5.306361\n",
      "..         ...       ...            ...            ...\n",
      "571  11.949620  0.425096      11.144829      12.812527\n",
      "575  11.949620  0.425096      11.144829      12.812527\n",
      "577   8.912555  0.342749       8.265471       9.610296\n",
      "579  12.002685  0.427396      11.193568      12.870288\n",
      "581   8.873152  0.336997       8.236635       9.558857\n",
      "\n",
      "[81 rows x 4 columns]\n"
     ]
    }
   ],
   "source": [
    "poisson_predictions = poisson_training_results.get_prediction(X_test)\n",
    " \n",
    "#.summary_frame() returns a pandas DataFrame\n",
    "predictions_summary_frame = poisson_predictions.summary_frame()\n",
    "print(predictions_summary_frame)"
   ]
  },
  {
   "cell_type": "code",
   "execution_count": 88,
   "metadata": {},
   "outputs": [
    {
     "data": {
      "image/png": "[encoded data removed]",
      "text/plain": [
       "<Figure size 432x288 with 1 Axes>"
      ]
     },
     "metadata": {
      "needs_background": "light"
     },
     "output_type": "display_data"
    }
   ],
   "source": [
    "predicted_counts=predictions_summary_frame['mean']\n",
    "actual_counts = y_test['All_GR']\n",
    " \n",
    "fig = plt.figure()\n",
    "\n",
    " \n",
    "predicted, = plt.plot(X_test.index, predicted_counts, 'go-', label='Predicted counts')\n",
    "actual, = plt.plot(X_test.index, actual_counts, 'ro-', label='Actual counts')\n",
    " \n",
    "plt.legend(handles=[predicted, actual])\n",
    " \n",
    "plt.show()"
   ]
  },
  {
   "cell_type": "markdown",
   "metadata": {},
   "source": [
    "Dropping:"
   ]
  },
  {
   "cell_type": "code",
   "execution_count": 89,
   "metadata": {},
   "outputs": [],
   "source": [
    "drops_concatGR = drops_concat[drops_concat['All_GR'].notna()]"
   ]
  },
  {
   "cell_type": "code",
   "execution_count": 90,
   "metadata": {},
   "outputs": [
    {
     "name": "stdout",
     "output_type": "stream",
     "text": [
      "Training data set length=357\n",
      "Testing data set length=81\n"
     ]
    }
   ],
   "source": [
    "# Create training and testing datasets\n",
    "np.random.seed(25)\n",
    "mask = np.random.rand(len(drops_concatGR)) < 0.8\n",
    "drops_train = drops_concatGR[mask]\n",
    "drops_test = drops_concatGR[~mask]\n",
    "print('Training data set length='+str(len(drops_train)))\n",
    "print('Testing data set length='+str(len(drops_test)))"
   ]
  },
  {
   "cell_type": "code",
   "execution_count": 91,
   "metadata": {},
   "outputs": [],
   "source": [
    "expr = \"\"\"All_GR ~ Temperature + Blue_Runner + light_training + \n",
    "    Month + Humbolt_Squid + Mazuri_Vitamins + Varied_Target + \n",
    "    Sardine + Squid\"\"\""
   ]
  },
  {
   "cell_type": "code",
   "execution_count": 92,
   "metadata": {},
   "outputs": [],
   "source": [
    "y_train, X_train = dmatrices(expr, drops_train, return_type='dataframe')\n",
    "y_test, X_test = dmatrices(expr, drops_test, return_type='dataframe')"
   ]
  },
  {
   "cell_type": "code",
   "execution_count": 93,
   "metadata": {},
   "outputs": [
    {
     "name": "stdout",
     "output_type": "stream",
     "text": [
      "                 Generalized Linear Model Regression Results                  \n",
      "==============================================================================\n",
      "Dep. Variable:                 All_GR   No. Observations:                  357\n",
      "Model:                            GLM   Df Residuals:                      347\n",
      "Model Family:                 Poisson   Df Model:                            9\n",
      "Link Function:                    log   Scale:                          1.0000\n",
      "Method:                          IRLS   Log-Likelihood:                -473.59\n",
      "Date:                Wed, 09 Dec 2020   Deviance:                       510.75\n",
      "Time:                        11:58:36   Pearson chi2:                     521.\n",
      "No. Iterations:                     5                                         \n",
      "Covariance Type:            nonrobust                                         \n",
      "===================================================================================\n",
      "                      coef    std err          z      P>|z|      [0.025      0.975]\n",
      "-----------------------------------------------------------------------------------\n",
      "Intercept           5.6787      3.158      1.798      0.072      -0.511      11.868\n",
      "Temperature        -0.0729      0.043     -1.701      0.089      -0.157       0.011\n",
      "Blue_Runner         0.5390      0.177      3.037      0.002       0.191       0.887\n",
      "light_training     -1.3477      0.309     -4.364      0.000      -1.953      -0.742\n",
      "Month               0.0342      0.016      2.199      0.028       0.004       0.065\n",
      "Humbolt_Squid       1.3159      0.438      3.004      0.003       0.457       2.174\n",
      "Mazuri_Vitamins    -0.2222      0.125     -1.785      0.074      -0.466       0.022\n",
      "Varied_Target       0.8469      0.265      3.192      0.001       0.327       1.367\n",
      "Sardine            -1.0049      0.453     -2.220      0.026      -1.892      -0.118\n",
      "Squid              -0.2201      0.187     -1.179      0.238      -0.586       0.146\n",
      "===================================================================================\n"
     ]
    }
   ],
   "source": [
    "# Fit model and print results of model\n",
    "poisson_training_results = sm.GLM(y_train, X_train, family=sm.families.Poisson()).fit()\n",
    "print(poisson_training_results.summary())"
   ]
  },
  {
   "cell_type": "code",
   "execution_count": 94,
   "metadata": {},
   "outputs": [
    {
     "name": "stdout",
     "output_type": "stream",
     "text": [
      "         mean   mean_se  mean_ci_lower  mean_ci_upper\n",
      "0    1.697266  0.314781       1.180002       2.441277\n",
      "25   1.603350  0.319010       1.085598       2.368031\n",
      "30   1.393246  0.268771       0.954602       2.033448\n",
      "41   0.545080  0.174576       0.290965       1.021127\n",
      "50   0.143980  0.075035       0.051844       0.399858\n",
      "..        ...       ...            ...            ...\n",
      "570  1.153198  0.128197       0.927426       1.433933\n",
      "574  1.355641  0.259241       0.931898       1.972063\n",
      "575  1.031741  0.098104       0.856315       1.243104\n",
      "578  1.072103  0.129928       0.845434       1.359544\n",
      "579  1.016803  0.097629       0.842380       1.227343\n",
      "\n",
      "[81 rows x 4 columns]\n"
     ]
    }
   ],
   "source": [
    "poisson_predictions = poisson_training_results.get_prediction(X_test)\n",
    " \n",
    "#.summary_frame() returns a pandas DataFrame\n",
    "predictions_summary_frame = poisson_predictions.summary_frame()\n",
    "print(predictions_summary_frame)"
   ]
  },
  {
   "cell_type": "code",
   "execution_count": 95,
   "metadata": {},
   "outputs": [
    {
     "data": {
      "image/png": "[encoded data removed]",
      "text/plain": [
       "<Figure size 432x288 with 1 Axes>"
      ]
     },
     "metadata": {
      "needs_background": "light"
     },
     "output_type": "display_data"
    }
   ],
   "source": [
    "predicted_counts=predictions_summary_frame['mean']\n",
    "actual_counts = y_test['All_GR']\n",
    " \n",
    "fig = plt.figure()\n",
    "\n",
    " \n",
    "predicted, = plt.plot(X_test.index, predicted_counts, 'go-', label='Predicted counts')\n",
    "actual, = plt.plot(X_test.index, actual_counts, 'ro-', label='Actual counts')\n",
    " \n",
    "plt.legend(handles=[predicted, actual])\n",
    " \n",
    "plt.show()"
   ]
  },
  {
   "cell_type": "markdown",
   "metadata": {},
   "source": [
    "Targeting:"
   ]
  },
  {
   "cell_type": "code",
   "execution_count": 96,
   "metadata": {},
   "outputs": [],
   "source": [
    "targets_concatGR = targets_concat[targets_concat['All_GR'].notna()]"
   ]
  },
  {
   "cell_type": "code",
   "execution_count": 97,
   "metadata": {},
   "outputs": [
    {
     "name": "stdout",
     "output_type": "stream",
     "text": [
      "Training data set length=356\n",
      "Testing data set length=81\n"
     ]
    }
   ],
   "source": [
    "# Create training and testing datasets\n",
    "np.random.seed(25)\n",
    "mask = np.random.rand(len(targets_concatGR)) < 0.8\n",
    "targets_train = targets_concatGR[mask]\n",
    "targets_test = targets_concatGR[~mask]\n",
    "print('Training data set length='+str(len(targets_train)))\n",
    "print('Testing data set length='+str(len(targets_test)))"
   ]
  },
  {
   "cell_type": "code",
   "execution_count": 98,
   "metadata": {},
   "outputs": [],
   "source": [
    "expr = \"\"\"All_GR ~ Herring + Sardine + light_training + Day_of_week + \n",
    "    Temperature + Month + Goggle_Eye + Humbolt_Squid + Garlic + \n",
    "    Mahi + Blue_Runner + Saury + Bluefish + GroupFeed + Squid + \n",
    "    covid + Bonito\"\"\""
   ]
  },
  {
   "cell_type": "code",
   "execution_count": 99,
   "metadata": {},
   "outputs": [],
   "source": [
    "y_train, X_train = dmatrices(expr, targets_train, return_type='dataframe')\n",
    "y_test, X_test = dmatrices(expr, targets_test, return_type='dataframe')"
   ]
  },
  {
   "cell_type": "code",
   "execution_count": 100,
   "metadata": {},
   "outputs": [
    {
     "name": "stdout",
     "output_type": "stream",
     "text": [
      "                 Generalized Linear Model Regression Results                  \n",
      "==============================================================================\n",
      "Dep. Variable:                 All_GR   No. Observations:                  356\n",
      "Model:                            GLM   Df Residuals:                      338\n",
      "Model Family:                 Poisson   Df Model:                           17\n",
      "Link Function:                    log   Scale:                          1.0000\n",
      "Method:                          IRLS   Log-Likelihood:                -1526.7\n",
      "Date:                Wed, 09 Dec 2020   Deviance:                       1470.0\n",
      "Time:                        11:58:37   Pearson chi2:                 1.43e+03\n",
      "No. Iterations:                     5                                         \n",
      "Covariance Type:            nonrobust                                         \n",
      "==================================================================================\n",
      "                     coef    std err          z      P>|z|      [0.025      0.975]\n",
      "----------------------------------------------------------------------------------\n",
      "Intercept         -0.4025      0.705     -0.571      0.568      -1.784       0.979\n",
      "Herring            0.9099      0.086     10.570      0.000       0.741       1.079\n",
      "Sardine           -0.0242      0.090     -0.269      0.788      -0.201       0.152\n",
      "light_training     0.2731      0.056      4.858      0.000       0.163       0.383\n",
      "Day_of_week       -0.0929      0.051     -1.830      0.067      -0.192       0.007\n",
      "Temperature        0.0367      0.009      4.024      0.000       0.019       0.055\n",
      "Month              0.0189      0.004      4.621      0.000       0.011       0.027\n",
      "Goggle_Eye        -0.2677      0.112     -2.382      0.017      -0.488      -0.047\n",
      "Humbolt_Squid      0.8284      0.145      5.697      0.000       0.543       1.113\n",
      "Garlic            -0.0845      0.036     -2.355      0.019      -0.155      -0.014\n",
      "Mahi              -0.2766      0.106     -2.605      0.009      -0.485      -0.069\n",
      "Blue_Runner        0.6169      0.096      6.417      0.000       0.428       0.805\n",
      "Saury              0.7343      0.122      6.008      0.000       0.495       0.974\n",
      "Bluefish           0.4052      0.094      4.316      0.000       0.221       0.589\n",
      "GroupFeed         -0.4819      0.146     -3.297      0.001      -0.768      -0.195\n",
      "Squid              0.1574      0.050      3.154      0.002       0.060       0.255\n",
      "covid             -0.2161      0.071     -3.059      0.002      -0.355      -0.078\n",
      "Bonito             0.2668      0.076      3.496      0.000       0.117       0.416\n",
      "==================================================================================\n"
     ]
    }
   ],
   "source": [
    "# Fit model and print results of model\n",
    "poisson_training_results = sm.GLM(y_train, X_train, family=sm.families.Poisson()).fit()\n",
    "print(poisson_training_results.summary())"
   ]
  },
  {
   "cell_type": "code",
   "execution_count": 101,
   "metadata": {},
   "outputs": [
    {
     "name": "stdout",
     "output_type": "stream",
     "text": [
      "          mean   mean_se  mean_ci_lower  mean_ci_upper\n",
      "0    13.234003  0.821038      11.718788      14.945133\n",
      "25    9.289435  0.592405       8.197973      10.526211\n",
      "30   15.911870  0.971110      14.117960      17.933726\n",
      "41   10.550698  0.567757       9.494587      11.724283\n",
      "50   11.943060  1.865284       8.793742      16.220248\n",
      "..         ...       ...            ...            ...\n",
      "571  25.232767  0.615144      24.055457      26.467696\n",
      "575  25.232767  0.615144      24.055457      26.467696\n",
      "577  17.941681  0.474588      17.035206      18.896391\n",
      "579  25.418439  0.618176      24.235259      26.659382\n",
      "581  17.810624  0.467408      16.917682      18.750696\n",
      "\n",
      "[81 rows x 4 columns]\n"
     ]
    }
   ],
   "source": [
    "poisson_predictions = poisson_training_results.get_prediction(X_test)\n",
    " \n",
    "#.summary_frame() returns a pandas DataFrame\n",
    "predictions_summary_frame = poisson_predictions.summary_frame()\n",
    "print(predictions_summary_frame)"
   ]
  },
  {
   "cell_type": "code",
   "execution_count": 102,
   "metadata": {},
   "outputs": [
    {
     "data": {
      "image/png": "[encoded data removed]",
      "text/plain": [
       "<Figure size 432x288 with 1 Axes>"
      ]
     },
     "metadata": {
      "needs_background": "light"
     },
     "output_type": "display_data"
    }
   ],
   "source": [
    "predicted_counts=predictions_summary_frame['mean']\n",
    "actual_counts = y_test['All_GR']\n",
    " \n",
    "fig = plt.figure()\n",
    "\n",
    " \n",
    "predicted, = plt.plot(X_test.index, predicted_counts, 'go-', label='Predicted counts')\n",
    "actual, = plt.plot(X_test.index, actual_counts, 'ro-', label='Actual counts')\n",
    " \n",
    "plt.legend(handles=[predicted, actual])\n",
    " \n",
    "plt.show()"
   ]
  },
  {
   "cell_type": "markdown",
   "metadata": {},
   "source": [
    "# Poisson Regression for Each Gender of Shark"
   ]
  },
  {
   "cell_type": "markdown",
   "metadata": {},
   "source": [
    "# Male"
   ]
  },
  {
   "cell_type": "markdown",
   "metadata": {},
   "source": [
    "Eating:"
   ]
  },
  {
   "cell_type": "code",
   "execution_count": 103,
   "metadata": {},
   "outputs": [],
   "source": [
    "expr = \"\"\"male ~ Herring + Garlic + GroupFeed + Sardine + \n",
    "    Mackerel + light_training + Mahi + covid + Mazuri_Vitamins + \n",
    "    Salmon + Saury + Blue_Runner + Month + Bonito + Day_of_week + \n",
    "    Day\"\"\""
   ]
  },
  {
   "cell_type": "code",
   "execution_count": 104,
   "metadata": {},
   "outputs": [],
   "source": [
    "eat_concatM = eat_concat[eat_concat['male'].notna()]"
   ]
  },
  {
   "cell_type": "code",
   "execution_count": 105,
   "metadata": {},
   "outputs": [
    {
     "name": "stdout",
     "output_type": "stream",
     "text": [
      "Training data set length=466\n",
      "Testing data set length=116\n"
     ]
    }
   ],
   "source": [
    "# Create training and testing datasets\n",
    "np.random.seed(25)\n",
    "mask = np.random.rand(len(eat_concatM)) < 0.8\n",
    "eat_train = eat_concatM[mask]\n",
    "eat_test = eat_concatM[~mask]\n",
    "print('Training data set length='+str(len(eat_train)))\n",
    "print('Testing data set length='+str(len(eat_test)))"
   ]
  },
  {
   "cell_type": "code",
   "execution_count": 106,
   "metadata": {},
   "outputs": [],
   "source": [
    "y_train, X_train = dmatrices(expr, eat_train, return_type='dataframe')\n",
    "y_test, X_test = dmatrices(expr, eat_test, return_type='dataframe')"
   ]
  },
  {
   "cell_type": "code",
   "execution_count": 107,
   "metadata": {},
   "outputs": [
    {
     "name": "stdout",
     "output_type": "stream",
     "text": [
      "                 Generalized Linear Model Regression Results                  \n",
      "==============================================================================\n",
      "Dep. Variable:                   male   No. Observations:                  466\n",
      "Model:                            GLM   Df Residuals:                      449\n",
      "Model Family:                 Poisson   Df Model:                           16\n",
      "Link Function:                    log   Scale:                          1.0000\n",
      "Method:                          IRLS   Log-Likelihood:                -1424.0\n",
      "Date:                Wed, 09 Dec 2020   Deviance:                       1124.5\n",
      "Time:                        11:58:38   Pearson chi2:                 1.06e+03\n",
      "No. Iterations:                     5                                         \n",
      "Covariance Type:            nonrobust                                         \n",
      "===================================================================================\n",
      "                      coef    std err          z      P>|z|      [0.025      0.975]\n",
      "-----------------------------------------------------------------------------------\n",
      "Intercept           0.1398      0.172      0.813      0.416      -0.197       0.477\n",
      "Herring            -0.1322      0.084     -1.581      0.114      -0.296       0.032\n",
      "Garlic              0.2854      0.049      5.771      0.000       0.188       0.382\n",
      "GroupFeed           0.8619      0.096      8.995      0.000       0.674       1.050\n",
      "Sardine             0.6074      0.078      7.828      0.000       0.455       0.759\n",
      "Mackerel            0.5102      0.079      6.456      0.000       0.355       0.665\n",
      "light_training      0.3991      0.067      5.987      0.000       0.268       0.530\n",
      "Mahi               -0.2771      0.137     -2.019      0.043      -0.546      -0.008\n",
      "covid              -0.0772      0.078     -0.986      0.324      -0.231       0.076\n",
      "Mazuri_Vitamins     0.0532      0.051      1.043      0.297      -0.047       0.153\n",
      "Salmon             -0.1114      0.054     -2.050      0.040      -0.218      -0.005\n",
      "Saury               0.7135      0.096      7.426      0.000       0.525       0.902\n",
      "Blue_Runner         0.5659      0.091      6.224      0.000       0.388       0.744\n",
      "Month               0.0081      0.005      1.806      0.071      -0.001       0.017\n",
      "Bonito              0.2201      0.115      1.913      0.056      -0.005       0.446\n",
      "Day_of_week         0.0693      0.028      2.462      0.014       0.014       0.124\n",
      "Day                 0.0038      0.002      2.239      0.025       0.000       0.007\n",
      "===================================================================================\n"
     ]
    }
   ],
   "source": [
    "# Fit model and print results of model\n",
    "poisson_training_results = sm.GLM(y_train, X_train, family=sm.families.Poisson()).fit()\n",
    "print(poisson_training_results.summary())"
   ]
  },
  {
   "cell_type": "code",
   "execution_count": 108,
   "metadata": {},
   "outputs": [
    {
     "name": "stdout",
     "output_type": "stream",
     "text": [
      "          mean   mean_se  mean_ci_lower  mean_ci_upper\n",
      "0     9.390027  0.700605       8.112549      10.868669\n",
      "19    7.339538  0.558659       6.322347       8.520383\n",
      "23    7.538085  0.563427       6.510867       8.727367\n",
      "31    5.977273  0.523745       5.034061       7.097210\n",
      "38    1.504412  0.137875       1.257062       1.800432\n",
      "..         ...       ...            ...            ...\n",
      "564  12.642154  0.484644      11.727078      13.628635\n",
      "571   2.391896  0.154337       2.107748       2.714350\n",
      "577  14.573516  0.505572      13.615550      15.598883\n",
      "578  14.553503  0.528624      13.553440      15.627358\n",
      "581  14.967754  0.598153      13.840132      16.187248\n",
      "\n",
      "[116 rows x 4 columns]\n"
     ]
    }
   ],
   "source": [
    "poisson_predictions = poisson_training_results.get_prediction(X_test)\n",
    " \n",
    "#.summary_frame() returns a pandas DataFrame\n",
    "predictions_summary_frame = poisson_predictions.summary_frame()\n",
    "print(predictions_summary_frame)"
   ]
  },
  {
   "cell_type": "code",
   "execution_count": 109,
   "metadata": {},
   "outputs": [
    {
     "data": {
      "image/png": "[encoded data removed]",
      "text/plain": [
       "<Figure size 432x288 with 1 Axes>"
      ]
     },
     "metadata": {
      "needs_background": "light"
     },
     "output_type": "display_data"
    }
   ],
   "source": [
    "predicted_counts=predictions_summary_frame['mean']\n",
    "actual_counts = y_test['male']\n",
    " \n",
    "fig = plt.figure()\n",
    "\n",
    " \n",
    "predicted, = plt.plot(X_test.index, predicted_counts, 'go-', label='Predicted counts')\n",
    "actual, = plt.plot(X_test.index, actual_counts, 'ro-', label='Actual counts')\n",
    " \n",
    "plt.legend(handles=[predicted, actual])\n",
    " \n",
    "plt.show()"
   ]
  },
  {
   "cell_type": "markdown",
   "metadata": {},
   "source": [
    "Dropping:"
   ]
  },
  {
   "cell_type": "code",
   "execution_count": 110,
   "metadata": {},
   "outputs": [],
   "source": [
    "drops_concatM = drops_concat[drops_concat['male'].notna()]"
   ]
  },
  {
   "cell_type": "code",
   "execution_count": 111,
   "metadata": {},
   "outputs": [
    {
     "name": "stdout",
     "output_type": "stream",
     "text": [
      "Training data set length=466\n",
      "Testing data set length=116\n"
     ]
    }
   ],
   "source": [
    "# Create training and testing datasets\n",
    "np.random.seed(25)\n",
    "mask = np.random.rand(len(drops_concatM)) < 0.8\n",
    "drops_train = drops_concatM[mask]\n",
    "drops_test = drops_concatM[~mask]\n",
    "print('Training data set length='+str(len(drops_train)))\n",
    "print('Testing data set length='+str(len(drops_test)))"
   ]
  },
  {
   "cell_type": "code",
   "execution_count": 112,
   "metadata": {},
   "outputs": [],
   "source": [
    "expr = \"\"\"male ~ Herring + GroupFeed + Varied_Target + Temperature + \n",
    "    Sardine + Blue_Runner + covid + Saury + Mackerel + Salmon + \n",
    "    Month\"\"\""
   ]
  },
  {
   "cell_type": "code",
   "execution_count": 113,
   "metadata": {},
   "outputs": [],
   "source": [
    "y_train, X_train = dmatrices(expr, drops_train, return_type='dataframe')\n",
    "y_test, X_test = dmatrices(expr, drops_test, return_type='dataframe')"
   ]
  },
  {
   "cell_type": "code",
   "execution_count": 114,
   "metadata": {},
   "outputs": [
    {
     "name": "stdout",
     "output_type": "stream",
     "text": [
      "                 Generalized Linear Model Regression Results                  \n",
      "==============================================================================\n",
      "Dep. Variable:                   male   No. Observations:                  466\n",
      "Model:                            GLM   Df Residuals:                      454\n",
      "Model Family:                 Poisson   Df Model:                           11\n",
      "Link Function:                    log   Scale:                          1.0000\n",
      "Method:                          IRLS   Log-Likelihood:                -701.46\n",
      "Date:                Wed, 09 Dec 2020   Deviance:                       654.39\n",
      "Time:                        11:58:39   Pearson chi2:                     686.\n",
      "No. Iterations:                     5                                         \n",
      "Covariance Type:            nonrobust                                         \n",
      "=================================================================================\n",
      "                    coef    std err          z      P>|z|      [0.025      0.975]\n",
      "---------------------------------------------------------------------------------\n",
      "Intercept         7.1195      2.148      3.314      0.001       2.909      11.330\n",
      "Herring          -0.6405      0.228     -2.806      0.005      -1.088      -0.193\n",
      "GroupFeed         0.7418      0.194      3.827      0.000       0.362       1.122\n",
      "Varied_Target    -0.5387      0.093     -5.789      0.000      -0.721      -0.356\n",
      "Temperature      -0.0991      0.029     -3.454      0.001      -0.155      -0.043\n",
      "Sardine           0.5411      0.197      2.748      0.006       0.155       0.927\n",
      "Blue_Runner       0.6191      0.216      2.865      0.004       0.196       1.043\n",
      "covid             0.2709      0.186      1.455      0.146      -0.094       0.636\n",
      "Saury             0.4515      0.217      2.083      0.037       0.027       0.876\n",
      "Mackerel          0.3587      0.189      1.902      0.057      -0.011       0.728\n",
      "Salmon           -0.2420      0.155     -1.558      0.119      -0.546       0.062\n",
      "Month             0.0171      0.011      1.530      0.126      -0.005       0.039\n",
      "=================================================================================\n"
     ]
    }
   ],
   "source": [
    "# Fit model and print results of model\n",
    "poisson_training_results = sm.GLM(y_train, X_train, family=sm.families.Poisson()).fit()\n",
    "print(poisson_training_results.summary())"
   ]
  },
  {
   "cell_type": "code",
   "execution_count": 115,
   "metadata": {},
   "outputs": [
    {
     "name": "stdout",
     "output_type": "stream",
     "text": [
      "         mean   mean_se  mean_ci_lower  mean_ci_upper\n",
      "0    3.543175  0.467131       2.736342       4.587909\n",
      "19   1.943201  0.230446       1.540185       2.451674\n",
      "23   2.021766  0.239608       1.602698       2.550411\n",
      "31   2.145610  0.258472       1.694378       2.717009\n",
      "38   0.449577  0.083367       0.312580       0.646615\n",
      "..        ...       ...            ...            ...\n",
      "564  0.987877  0.106392       0.799891       1.220043\n",
      "571  0.267819  0.047598       0.189044       0.379419\n",
      "577  1.548252  0.138693       1.298945       1.845408\n",
      "578  1.830831  0.153854       1.552808       2.158633\n",
      "581  1.579240  0.139288       1.328534       1.877258\n",
      "\n",
      "[116 rows x 4 columns]\n"
     ]
    }
   ],
   "source": [
    "poisson_predictions = poisson_training_results.get_prediction(X_test)\n",
    " \n",
    "#.summary_frame() returns a pandas DataFrame\n",
    "predictions_summary_frame = poisson_predictions.summary_frame()\n",
    "print(predictions_summary_frame)"
   ]
  },
  {
   "cell_type": "code",
   "execution_count": 116,
   "metadata": {},
   "outputs": [
    {
     "data": {
      "image/png": "[encoded data removed]",
      "text/plain": [
       "<Figure size 432x288 with 1 Axes>"
      ]
     },
     "metadata": {
      "needs_background": "light"
     },
     "output_type": "display_data"
    }
   ],
   "source": [
    "predicted_counts=predictions_summary_frame['mean']\n",
    "actual_counts = y_test['male']\n",
    " \n",
    "fig = plt.figure()\n",
    "\n",
    " \n",
    "predicted, = plt.plot(X_test.index, predicted_counts, 'go-', label='Predicted counts')\n",
    "actual, = plt.plot(X_test.index, actual_counts, 'ro-', label='Actual counts')\n",
    " \n",
    "plt.legend(handles=[predicted, actual])\n",
    " \n",
    "plt.show()"
   ]
  },
  {
   "cell_type": "markdown",
   "metadata": {},
   "source": [
    "Targeting:"
   ]
  },
  {
   "cell_type": "code",
   "execution_count": 117,
   "metadata": {},
   "outputs": [],
   "source": [
    "targets_concatM = targets_concat[targets_concat['male'].notna()]"
   ]
  },
  {
   "cell_type": "code",
   "execution_count": 118,
   "metadata": {},
   "outputs": [
    {
     "name": "stdout",
     "output_type": "stream",
     "text": [
      "Training data set length=466\n",
      "Testing data set length=116\n"
     ]
    }
   ],
   "source": [
    "# Create training and testing datasets\n",
    "np.random.seed(25)\n",
    "mask = np.random.rand(len(targets_concatM)) < 0.8\n",
    "targets_train = targets_concatM[mask]\n",
    "targets_test = targets_concatM[~mask]\n",
    "print('Training data set length='+str(len(targets_train)))\n",
    "print('Testing data set length='+str(len(targets_test)))"
   ]
  },
  {
   "cell_type": "code",
   "execution_count": 119,
   "metadata": {},
   "outputs": [],
   "source": [
    "expr = \"\"\"male ~ Herring + Garlic + light_training + Sardine + \n",
    "    GroupFeed + Mackerel + Day_of_week + Saury + Blue_Runner + \n",
    "    Varied_Target + Salmon + covid + Humbolt_Squid + Temperature + \n",
    "    Day + Goggle_Eye + Bonito + Squid\"\"\""
   ]
  },
  {
   "cell_type": "code",
   "execution_count": 120,
   "metadata": {},
   "outputs": [],
   "source": [
    "y_train, X_train = dmatrices(expr, targets_train, return_type='dataframe')\n",
    "y_test, X_test = dmatrices(expr, targets_test, return_type='dataframe')"
   ]
  },
  {
   "cell_type": "code",
   "execution_count": 121,
   "metadata": {},
   "outputs": [
    {
     "name": "stdout",
     "output_type": "stream",
     "text": [
      "                 Generalized Linear Model Regression Results                  \n",
      "==============================================================================\n",
      "Dep. Variable:                   male   No. Observations:                  466\n",
      "Model:                            GLM   Df Residuals:                      447\n",
      "Model Family:                 Poisson   Df Model:                           18\n",
      "Link Function:                    log   Scale:                          1.0000\n",
      "Method:                          IRLS   Log-Likelihood:                -2938.6\n",
      "Date:                Wed, 09 Dec 2020   Deviance:                       3692.9\n",
      "Time:                        11:58:40   Pearson chi2:                 3.95e+03\n",
      "No. Iterations:                     5                                         \n",
      "Covariance Type:            nonrobust                                         \n",
      "==================================================================================\n",
      "                     coef    std err          z      P>|z|      [0.025      0.975]\n",
      "----------------------------------------------------------------------------------\n",
      "Intercept          2.2221      0.481      4.620      0.000       1.279       3.165\n",
      "Herring           -0.3976      0.049     -8.047      0.000      -0.494      -0.301\n",
      "Garlic             0.1854      0.026      7.161      0.000       0.135       0.236\n",
      "light_training     0.6963      0.049     14.163      0.000       0.600       0.793\n",
      "Sardine            0.6788      0.046     14.857      0.000       0.589       0.768\n",
      "GroupFeed          0.9732      0.057     16.963      0.000       0.861       1.086\n",
      "Mackerel           0.4045      0.045      8.980      0.000       0.316       0.493\n",
      "Day_of_week        0.1514      0.017      8.865      0.000       0.118       0.185\n",
      "Saury              0.7708      0.060     12.912      0.000       0.654       0.888\n",
      "Blue_Runner        0.5365      0.055      9.756      0.000       0.429       0.644\n",
      "Varied_Target     -0.1929      0.028     -6.847      0.000      -0.248      -0.138\n",
      "Salmon            -0.2287      0.035     -6.572      0.000      -0.297      -0.161\n",
      "covid             -0.2457      0.049     -5.026      0.000      -0.342      -0.150\n",
      "Humbolt_Squid      0.3558      0.128      2.769      0.006       0.104       0.608\n",
      "Temperature       -0.0172      0.006     -2.678      0.007      -0.030      -0.005\n",
      "Day                0.0022      0.001      2.206      0.027       0.000       0.004\n",
      "Goggle_Eye         0.0985      0.103      0.957      0.338      -0.103       0.300\n",
      "Bonito             0.2233      0.066      3.371      0.001       0.093       0.353\n",
      "Squid              0.0633      0.035      1.824      0.068      -0.005       0.131\n",
      "==================================================================================\n"
     ]
    }
   ],
   "source": [
    "# Fit model and print results of model\n",
    "poisson_training_results = sm.GLM(y_train, X_train, family=sm.families.Poisson()).fit()\n",
    "print(poisson_training_results.summary())"
   ]
  },
  {
   "cell_type": "code",
   "execution_count": 122,
   "metadata": {},
   "outputs": [
    {
     "name": "stdout",
     "output_type": "stream",
     "text": [
      "          mean   mean_se  mean_ci_lower  mean_ci_upper\n",
      "0    21.144932  0.919380      19.417626      23.025891\n",
      "19   22.909612  1.008757      21.015397      24.974561\n",
      "23   23.431619  1.007612      21.537671      25.492114\n",
      "31   20.293575  1.023039      18.384331      22.401097\n",
      "38    3.784043  0.210441       3.393271       4.219818\n",
      "..         ...       ...            ...            ...\n",
      "564  38.148591  0.993078      36.251014      40.145496\n",
      "571   6.180719  0.243422       5.721571       6.676714\n",
      "577  34.861577  0.710404      33.496650      36.282123\n",
      "578  39.952311  0.856853      38.307718      41.667508\n",
      "581  35.533118  0.826424      33.949720      37.190365\n",
      "\n",
      "[116 rows x 4 columns]\n"
     ]
    }
   ],
   "source": [
    "poisson_predictions = poisson_training_results.get_prediction(X_test)\n",
    " \n",
    "#.summary_frame() returns a pandas DataFrame\n",
    "predictions_summary_frame = poisson_predictions.summary_frame()\n",
    "print(predictions_summary_frame)"
   ]
  },
  {
   "cell_type": "code",
   "execution_count": 123,
   "metadata": {},
   "outputs": [
    {
     "data": {
      "image/png": "[encoded data removed]",
      "text/plain": [
       "<Figure size 432x288 with 1 Axes>"
      ]
     },
     "metadata": {
      "needs_background": "light"
     },
     "output_type": "display_data"
    }
   ],
   "source": [
    "predicted_counts=predictions_summary_frame['mean']\n",
    "actual_counts = y_test['male']\n",
    " \n",
    "fig = plt.figure()\n",
    "\n",
    " \n",
    "predicted, = plt.plot(X_test.index, predicted_counts, 'go-', label='Predicted counts')\n",
    "actual, = plt.plot(X_test.index, actual_counts, 'ro-', label='Actual counts')\n",
    " \n",
    "plt.legend(handles=[predicted, actual])\n",
    " \n",
    "plt.show()"
   ]
  },
  {
   "cell_type": "markdown",
   "metadata": {},
   "source": [
    "# Female"
   ]
  },
  {
   "cell_type": "markdown",
   "metadata": {},
   "source": [
    "Eating:"
   ]
  },
  {
   "cell_type": "code",
   "execution_count": 124,
   "metadata": {},
   "outputs": [],
   "source": [
    "expr = \"\"\"female ~ GroupFeed + Varied_Target + Temperature + \n",
    "    Saury + Squid + Herring + Blue_Runner + Humbolt_Squid + Bonito + \n",
    "    covid + Day_of_week + Goggle_Eye\"\"\""
   ]
  },
  {
   "cell_type": "code",
   "execution_count": 125,
   "metadata": {},
   "outputs": [],
   "source": [
    "eat_concatF = eat_concat[eat_concat['female'].notna()]"
   ]
  },
  {
   "cell_type": "code",
   "execution_count": 126,
   "metadata": {},
   "outputs": [
    {
     "name": "stdout",
     "output_type": "stream",
     "text": [
      "Training data set length=466\n",
      "Testing data set length=116\n"
     ]
    }
   ],
   "source": [
    "# Create training and testing datasets\n",
    "np.random.seed(25)\n",
    "mask = np.random.rand(len(eat_concatF)) < 0.8\n",
    "eat_train = eat_concatF[mask]\n",
    "eat_test = eat_concatF[~mask]\n",
    "print('Training data set length='+str(len(eat_train)))\n",
    "print('Testing data set length='+str(len(eat_test)))"
   ]
  },
  {
   "cell_type": "code",
   "execution_count": 127,
   "metadata": {},
   "outputs": [],
   "source": [
    "y_train, X_train = dmatrices(expr, eat_train, return_type='dataframe')\n",
    "y_test, X_test = dmatrices(expr, eat_test, return_type='dataframe')"
   ]
  },
  {
   "cell_type": "code",
   "execution_count": 128,
   "metadata": {},
   "outputs": [
    {
     "name": "stdout",
     "output_type": "stream",
     "text": [
      "                 Generalized Linear Model Regression Results                  \n",
      "==============================================================================\n",
      "Dep. Variable:                 female   No. Observations:                  466\n",
      "Model:                            GLM   Df Residuals:                      453\n",
      "Model Family:                 Poisson   Df Model:                           12\n",
      "Link Function:                    log   Scale:                          1.0000\n",
      "Method:                          IRLS   Log-Likelihood:                -1426.5\n",
      "Date:                Wed, 09 Dec 2020   Deviance:                       971.73\n",
      "Time:                        11:58:40   Pearson chi2:                     893.\n",
      "No. Iterations:                     4                                         \n",
      "Covariance Type:            nonrobust                                         \n",
      "=================================================================================\n",
      "                    coef    std err          z      P>|z|      [0.025      0.975]\n",
      "---------------------------------------------------------------------------------\n",
      "Intercept        -2.0343      0.748     -2.719      0.007      -3.501      -0.568\n",
      "GroupFeed         0.2801      0.107      2.610      0.009       0.070       0.490\n",
      "Varied_Target     0.3212      0.041      7.857      0.000       0.241       0.401\n",
      "Temperature       0.0493      0.010      5.000      0.000       0.030       0.069\n",
      "Saury             0.4973      0.087      5.738      0.000       0.327       0.667\n",
      "Squid             0.1120      0.057      1.969      0.049       0.000       0.223\n",
      "Herring           0.2485      0.049      5.101      0.000       0.153       0.344\n",
      "Blue_Runner       0.3143      0.075      4.169      0.000       0.167       0.462\n",
      "Humbolt_Squid     0.4818      0.208      2.319      0.020       0.075       0.889\n",
      "Bonito           -0.1762      0.126     -1.397      0.162      -0.423       0.071\n",
      "covid            -0.1074      0.071     -1.518      0.129      -0.246       0.031\n",
      "Day_of_week       0.0064      0.027      0.235      0.814      -0.047       0.060\n",
      "Goggle_Eye       -0.4355      0.196     -2.222      0.026      -0.820      -0.051\n",
      "=================================================================================\n"
     ]
    }
   ],
   "source": [
    "# Fit model and print results of model\n",
    "poisson_training_results = sm.GLM(y_train, X_train, family=sm.families.Poisson()).fit()\n",
    "print(poisson_training_results.summary())"
   ]
  },
  {
   "cell_type": "code",
   "execution_count": 129,
   "metadata": {},
   "outputs": [
    {
     "name": "stdout",
     "output_type": "stream",
     "text": [
      "          mean   mean_se  mean_ci_lower  mean_ci_upper\n",
      "0    10.576698  0.479720       9.677045      11.559990\n",
      "19    5.324308  0.262068       4.834662       5.863544\n",
      "23    5.220330  0.259609       4.735517       5.754776\n",
      "31    5.068158  0.258775       4.585520       5.601595\n",
      "38    6.585280  0.314605       5.996653       7.231686\n",
      "..         ...       ...            ...            ...\n",
      "564   8.345064  0.334046       7.715371       9.026150\n",
      "571   9.538499  0.331801       8.909854      10.211499\n",
      "577  16.414742  0.429497      15.594164      17.278499\n",
      "578  15.485567  0.470396      14.590517      16.435523\n",
      "581  16.253671  0.416608      15.457306      17.091065\n",
      "\n",
      "[116 rows x 4 columns]\n"
     ]
    }
   ],
   "source": [
    "poisson_predictions = poisson_training_results.get_prediction(X_test)\n",
    " \n",
    "#.summary_frame() returns a pandas DataFrame\n",
    "predictions_summary_frame = poisson_predictions.summary_frame()\n",
    "print(predictions_summary_frame)"
   ]
  },
  {
   "cell_type": "code",
   "execution_count": 130,
   "metadata": {},
   "outputs": [
    {
     "data": {
      "image/png": "[encoded data removed]",
      "text/plain": [
       "<Figure size 432x288 with 1 Axes>"
      ]
     },
     "metadata": {
      "needs_background": "light"
     },
     "output_type": "display_data"
    }
   ],
   "source": [
    "predicted_counts=predictions_summary_frame['mean']\n",
    "actual_counts = y_test['female']\n",
    " \n",
    "fig = plt.figure()\n",
    "\n",
    " \n",
    "predicted, = plt.plot(X_test.index, predicted_counts, 'go-', label='Predicted counts')\n",
    "actual, = plt.plot(X_test.index, actual_counts, 'ro-', label='Actual counts')\n",
    " \n",
    "plt.legend(handles=[predicted, actual])\n",
    " \n",
    "plt.show()"
   ]
  },
  {
   "cell_type": "markdown",
   "metadata": {},
   "source": [
    "Dropping:"
   ]
  },
  {
   "cell_type": "code",
   "execution_count": 131,
   "metadata": {},
   "outputs": [],
   "source": [
    "drops_concatF = drops_concat[drops_concat['female'].notna()]"
   ]
  },
  {
   "cell_type": "code",
   "execution_count": 132,
   "metadata": {},
   "outputs": [
    {
     "name": "stdout",
     "output_type": "stream",
     "text": [
      "Training data set length=466\n",
      "Testing data set length=116\n"
     ]
    }
   ],
   "source": [
    "# Create training and testing datasets\n",
    "np.random.seed(25)\n",
    "mask = np.random.rand(len(drops_concatF)) < 0.8\n",
    "drops_train = drops_concatF[mask]\n",
    "drops_test = drops_concatF[~mask]\n",
    "print('Training data set length='+str(len(drops_train)))\n",
    "print('Testing data set length='+str(len(drops_test)))"
   ]
  },
  {
   "cell_type": "code",
   "execution_count": 133,
   "metadata": {},
   "outputs": [],
   "source": [
    "expr = \"\"\"female ~ GroupFeed + Mackerel + Blue_Runner + Temperature + \n",
    "    covid + Bluefish + Squid + Mahi\"\"\""
   ]
  },
  {
   "cell_type": "code",
   "execution_count": 134,
   "metadata": {},
   "outputs": [],
   "source": [
    "y_train, X_train = dmatrices(expr, drops_train, return_type='dataframe')\n",
    "y_test, X_test = dmatrices(expr, drops_test, return_type='dataframe')"
   ]
  },
  {
   "cell_type": "code",
   "execution_count": 135,
   "metadata": {},
   "outputs": [
    {
     "name": "stdout",
     "output_type": "stream",
     "text": [
      "                 Generalized Linear Model Regression Results                  \n",
      "==============================================================================\n",
      "Dep. Variable:                 female   No. Observations:                  466\n",
      "Model:                            GLM   Df Residuals:                      457\n",
      "Model Family:                 Poisson   Df Model:                            8\n",
      "Link Function:                    log   Scale:                          1.0000\n",
      "Method:                          IRLS   Log-Likelihood:                -849.92\n",
      "Date:                Wed, 09 Dec 2020   Deviance:                       760.89\n",
      "Time:                        11:58:41   Pearson chi2:                     861.\n",
      "No. Iterations:                     5                                         \n",
      "Covariance Type:            nonrobust                                         \n",
      "===============================================================================\n",
      "                  coef    std err          z      P>|z|      [0.025      0.975]\n",
      "-------------------------------------------------------------------------------\n",
      "Intercept       8.2206      1.859      4.421      0.000       4.576      11.865\n",
      "GroupFeed       0.8228      0.102      8.061      0.000       0.623       1.023\n",
      "Mackerel        0.6297      0.103      6.089      0.000       0.427       0.832\n",
      "Blue_Runner     0.3963      0.117      3.390      0.001       0.167       0.625\n",
      "Temperature    -0.1113      0.025     -4.467      0.000      -0.160      -0.062\n",
      "covid           0.3024      0.136      2.219      0.027       0.035       0.570\n",
      "Bluefish        0.4813      0.220      2.189      0.029       0.050       0.912\n",
      "Squid          -0.1129      0.116     -0.969      0.332      -0.341       0.115\n",
      "Mahi            0.3371      0.224      1.502      0.133      -0.103       0.777\n",
      "===============================================================================\n"
     ]
    }
   ],
   "source": [
    "# Fit model and print results of model\n",
    "poisson_training_results = sm.GLM(y_train, X_train, family=sm.families.Poisson()).fit()\n",
    "print(poisson_training_results.summary())"
   ]
  },
  {
   "cell_type": "code",
   "execution_count": 136,
   "metadata": {},
   "outputs": [
    {
     "name": "stdout",
     "output_type": "stream",
     "text": [
      "         mean   mean_se  mean_ci_lower  mean_ci_upper\n",
      "0    2.441858  0.168466       2.133021       2.795411\n",
      "19   1.761244  0.119175       1.542492       2.011020\n",
      "23   1.841461  0.126547       1.609411       2.106969\n",
      "31   1.968688  0.143477       1.706640       2.270974\n",
      "38   1.003178  0.091103       0.839608       1.198613\n",
      "..        ...       ...            ...            ...\n",
      "564  1.318531  0.121485       1.100687       1.579491\n",
      "571  0.897471  0.080236       0.753218       1.069351\n",
      "577  1.869230  0.122605       1.643734       2.125660\n",
      "578  2.481618  0.174858       2.161514       2.849126\n",
      "581  1.911323  0.121890       1.686751       2.165795\n",
      "\n",
      "[116 rows x 4 columns]\n"
     ]
    }
   ],
   "source": [
    "poisson_predictions = poisson_training_results.get_prediction(X_test)\n",
    " \n",
    "#.summary_frame() returns a pandas DataFrame\n",
    "predictions_summary_frame = poisson_predictions.summary_frame()\n",
    "print(predictions_summary_frame)"
   ]
  },
  {
   "cell_type": "code",
   "execution_count": 137,
   "metadata": {},
   "outputs": [
    {
     "data": {
      "image/png": "[encoded data removed]",
      "text/plain": [
       "<Figure size 432x288 with 1 Axes>"
      ]
     },
     "metadata": {
      "needs_background": "light"
     },
     "output_type": "display_data"
    }
   ],
   "source": [
    "predicted_counts=predictions_summary_frame['mean']\n",
    "actual_counts = y_test['female']\n",
    " \n",
    "fig = plt.figure()\n",
    "\n",
    " \n",
    "predicted, = plt.plot(X_test.index, predicted_counts, 'go-', label='Predicted counts')\n",
    "actual, = plt.plot(X_test.index, actual_counts, 'ro-', label='Actual counts')\n",
    " \n",
    "plt.legend(handles=[predicted, actual])\n",
    " \n",
    "plt.show()"
   ]
  },
  {
   "cell_type": "markdown",
   "metadata": {},
   "source": [
    "\n",
    "Targeting:"
   ]
  },
  {
   "cell_type": "code",
   "execution_count": 138,
   "metadata": {},
   "outputs": [],
   "source": [
    "targets_concatF = targets_concat[targets_concat['female'].notna()]"
   ]
  },
  {
   "cell_type": "code",
   "execution_count": 139,
   "metadata": {},
   "outputs": [
    {
     "name": "stdout",
     "output_type": "stream",
     "text": [
      "Training data set length=466\n",
      "Testing data set length=116\n"
     ]
    }
   ],
   "source": [
    "# Create training and testing datasets\n",
    "np.random.seed(25)\n",
    "mask = np.random.rand(len(targets_concatF)) < 0.8\n",
    "targets_train = targets_concatF[mask]\n",
    "targets_test = targets_concatF[~mask]\n",
    "print('Training data set length='+str(len(targets_train)))\n",
    "print('Testing data set length='+str(len(targets_test)))"
   ]
  },
  {
   "cell_type": "code",
   "execution_count": 140,
   "metadata": {},
   "outputs": [],
   "source": [
    "expr = \"\"\"female ~ GroupFeed + light_training + Day_of_week + \n",
    "    Saury + Varied_Target + Salmon + Humbolt_Squid + Bluefish + \n",
    "    Squid + Sardine + Herring + Blue_Runner + Mahi + Day + Temperature + \n",
    "    Bonito + Goggle_Eye\"\"\""
   ]
  },
  {
   "cell_type": "code",
   "execution_count": 141,
   "metadata": {},
   "outputs": [],
   "source": [
    "y_train, X_train = dmatrices(expr, targets_train, return_type='dataframe')\n",
    "y_test, X_test = dmatrices(expr, targets_test, return_type='dataframe')"
   ]
  },
  {
   "cell_type": "code",
   "execution_count": 142,
   "metadata": {},
   "outputs": [
    {
     "name": "stdout",
     "output_type": "stream",
     "text": [
      "                 Generalized Linear Model Regression Results                  \n",
      "==============================================================================\n",
      "Dep. Variable:                 female   No. Observations:                  466\n",
      "Model:                            GLM   Df Residuals:                      448\n",
      "Model Family:                 Poisson   Df Model:                           17\n",
      "Link Function:                    log   Scale:                          1.0000\n",
      "Method:                          IRLS   Log-Likelihood:                -2287.2\n",
      "Date:                Wed, 09 Dec 2020   Deviance:                       2242.2\n",
      "Time:                        11:58:42   Pearson chi2:                 2.25e+03\n",
      "No. Iterations:                     4                                         \n",
      "Covariance Type:            nonrobust                                         \n",
      "==================================================================================\n",
      "                     coef    std err          z      P>|z|      [0.025      0.975]\n",
      "----------------------------------------------------------------------------------\n",
      "Intercept          1.1052      0.486      2.274      0.023       0.153       2.058\n",
      "GroupFeed          0.5605      0.063      8.916      0.000       0.437       0.684\n",
      "light_training     0.3146      0.050      6.290      0.000       0.217       0.413\n",
      "Day_of_week        0.0717      0.017      4.184      0.000       0.038       0.105\n",
      "Saury              0.4822      0.060      7.997      0.000       0.364       0.600\n",
      "Varied_Target      0.1278      0.031      4.142      0.000       0.067       0.188\n",
      "Salmon            -0.1441      0.034     -4.258      0.000      -0.210      -0.078\n",
      "Humbolt_Squid      0.5072      0.130      3.903      0.000       0.252       0.762\n",
      "Bluefish           0.2243      0.075      2.985      0.003       0.077       0.372\n",
      "Squid              0.1077      0.036      3.034      0.002       0.038       0.177\n",
      "Sardine            0.2934      0.043      6.827      0.000       0.209       0.378\n",
      "Herring            0.2436      0.041      5.976      0.000       0.164       0.323\n",
      "Blue_Runner        0.2689      0.057      4.711      0.000       0.157       0.381\n",
      "Mahi              -0.1208      0.078     -1.548      0.122      -0.274       0.032\n",
      "Day                0.0003      0.001      0.252      0.801      -0.002       0.002\n",
      "Temperature        0.0120      0.006      1.847      0.065      -0.001       0.025\n",
      "Bonito             0.0988      0.070      1.401      0.161      -0.039       0.237\n",
      "Goggle_Eye        -0.3429      0.115     -2.970      0.003      -0.569      -0.117\n",
      "==================================================================================\n"
     ]
    }
   ],
   "source": [
    "# Fit model and print results of model\n",
    "poisson_training_results = sm.GLM(y_train, X_train, family=sm.families.Poisson()).fit()\n",
    "print(poisson_training_results.summary())"
   ]
  },
  {
   "cell_type": "code",
   "execution_count": 143,
   "metadata": {},
   "outputs": [
    {
     "name": "stdout",
     "output_type": "stream",
     "text": [
      "          mean   mean_se  mean_ci_lower  mean_ci_upper\n",
      "0    22.167609  0.947038      20.387035      24.103696\n",
      "19   15.220050  0.679624      13.944636      16.612117\n",
      "23   15.174395  0.661768      13.931240      16.528483\n",
      "31   15.119716  0.686620      13.832117      16.527175\n",
      "38   13.392096  0.596091      12.273289      14.612890\n",
      "..         ...       ...            ...            ...\n",
      "564  24.583463  0.688217      23.270921      25.970037\n",
      "571  21.106042  0.497935      20.152327      22.104893\n",
      "577  35.664560  0.708497      34.302618      37.080577\n",
      "578  37.057102  0.827534      35.470148      38.715057\n",
      "581  35.642964  0.815659      34.079624      37.278020\n",
      "\n",
      "[116 rows x 4 columns]\n"
     ]
    }
   ],
   "source": [
    "poisson_predictions = poisson_training_results.get_prediction(X_test)\n",
    " \n",
    "#.summary_frame() returns a pandas DataFrame\n",
    "predictions_summary_frame = poisson_predictions.summary_frame()\n",
    "print(predictions_summary_frame)"
   ]
  },
  {
   "cell_type": "code",
   "execution_count": 144,
   "metadata": {},
   "outputs": [
    {
     "data": {
      "image/png": "[encoded data removed]",
      "text/plain": [
       "<Figure size 432x288 with 1 Axes>"
      ]
     },
     "metadata": {
      "needs_background": "light"
     },
     "output_type": "display_data"
    }
   ],
   "source": [
    "predicted_counts=predictions_summary_frame['mean']\n",
    "actual_counts = y_test['female']\n",
    " \n",
    "fig = plt.figure()\n",
    "\n",
    " \n",
    "predicted, = plt.plot(X_test.index, predicted_counts, 'go-', label='Predicted counts')\n",
    "actual, = plt.plot(X_test.index, actual_counts, 'ro-', label='Actual counts')\n",
    " \n",
    "plt.legend(handles=[predicted, actual])\n",
    " \n",
    "plt.show()"
   ]
  }
 ],
 "metadata": {
  "kernelspec": {
   "display_name": "Python 3",
   "language": "python",
   "name": "python3"
  },
  "language_info": {
   "codemirror_mode": {
    "name": "ipython",
    "version": 3
   },
   "file_extension": ".py",
   "mimetype": "text/x-python",
   "name": "python",
   "nbconvert_exporter": "python",
   "pygments_lexer": "ipython3",
   "version": "3.6.9"
  }
 },
 "nbformat": 4,
 "nbformat_minor": 4
}
