{
 "cells": [
  {
   "cell_type": "code",
   "execution_count": 406,
   "metadata": {},
   "outputs": [],
   "source": [
    "# Import Packages\n",
    "import pandas as pd\n",
    "from patsy import dmatrices\n",
    "import numpy as np\n",
    "import statsmodels.api as sm\n",
    "import matplotlib.pyplot as plt\n",
    "import datetime"
   ]
  },
  {
   "cell_type": "code",
   "execution_count": 407,
   "metadata": {},
   "outputs": [],
   "source": [
    "# Read in shark data\n",
    "eat = pd.read_excel(\"SharkData.xlsx\", sheet_name = 0)\n",
    "targets = pd.read_excel(\"SharkData.xlsx\", sheet_name = 1)\n",
    "drops = pd.read_excel(\"SharkData.xlsx\", sheet_name = 2)\n",
    "other_factors = pd.read_excel(\"SharkData.xlsx\", sheet_name = 3)"
   ]
  },
  {
   "cell_type": "markdown",
   "metadata": {},
   "source": [
    "# Data Cleaning"
   ]
  },
  {
   "cell_type": "code",
   "execution_count": 408,
   "metadata": {},
   "outputs": [
    {
     "data": {
      "text/html": [
       "<div>\n",
       "<style scoped>\n",
       "    .dataframe tbody tr th:only-of-type {\n",
       "        vertical-align: middle;\n",
       "    }\n",
       "\n",
       "    .dataframe tbody tr th {\n",
       "        vertical-align: top;\n",
       "    }\n",
       "\n",
       "    .dataframe thead th {\n",
       "        text-align: right;\n",
       "    }\n",
       "</style>\n",
       "<table border=\"1\" class=\"dataframe\">\n",
       "  <thead>\n",
       "    <tr style=\"text-align: right;\">\n",
       "      <th></th>\n",
       "      <th>Date</th>\n",
       "      <th>Ross</th>\n",
       "      <th>Chandler</th>\n",
       "      <th>BT1</th>\n",
       "      <th>BT2</th>\n",
       "      <th>BT3</th>\n",
       "      <th>BT4</th>\n",
       "      <th>BT5</th>\n",
       "      <th>GR1</th>\n",
       "      <th>GR2</th>\n",
       "      <th>GR3</th>\n",
       "      <th>GR4</th>\n",
       "      <th>GR5</th>\n",
       "      <th>Total</th>\n",
       "      <th>Etc. Comments</th>\n",
       "    </tr>\n",
       "  </thead>\n",
       "  <tbody>\n",
       "    <tr>\n",
       "      <th>0</th>\n",
       "      <td>2017-12-05</td>\n",
       "      <td>0.0</td>\n",
       "      <td>5.0</td>\n",
       "      <td>3.0</td>\n",
       "      <td>6.0</td>\n",
       "      <td>5.0</td>\n",
       "      <td>4.0</td>\n",
       "      <td>4.0</td>\n",
       "      <td>0.0</td>\n",
       "      <td>0.0</td>\n",
       "      <td>2.0</td>\n",
       "      <td>3.0</td>\n",
       "      <td>1.0</td>\n",
       "      <td>33.0</td>\n",
       "      <td>NaN</td>\n",
       "    </tr>\n",
       "    <tr>\n",
       "      <th>1</th>\n",
       "      <td>2017-12-07</td>\n",
       "      <td>1.0</td>\n",
       "      <td>0.0</td>\n",
       "      <td>0.0</td>\n",
       "      <td>2.0</td>\n",
       "      <td>0.0</td>\n",
       "      <td>0.0</td>\n",
       "      <td>0.0</td>\n",
       "      <td>0.0</td>\n",
       "      <td>0.0</td>\n",
       "      <td>0.0</td>\n",
       "      <td>0.0</td>\n",
       "      <td>0.0</td>\n",
       "      <td>3.0</td>\n",
       "      <td>NaN</td>\n",
       "    </tr>\n",
       "    <tr>\n",
       "      <th>2</th>\n",
       "      <td>2017-12-09</td>\n",
       "      <td>NaN</td>\n",
       "      <td>NaN</td>\n",
       "      <td>NaN</td>\n",
       "      <td>NaN</td>\n",
       "      <td>NaN</td>\n",
       "      <td>NaN</td>\n",
       "      <td>NaN</td>\n",
       "      <td>2.0</td>\n",
       "      <td>0.0</td>\n",
       "      <td>3.0</td>\n",
       "      <td>1.0</td>\n",
       "      <td>0.0</td>\n",
       "      <td>6.0</td>\n",
       "      <td>NaN</td>\n",
       "    </tr>\n",
       "    <tr>\n",
       "      <th>3</th>\n",
       "      <td>2017-12-10</td>\n",
       "      <td>5.0</td>\n",
       "      <td>1.0</td>\n",
       "      <td>1.0</td>\n",
       "      <td>3.0</td>\n",
       "      <td>2.0</td>\n",
       "      <td>2.0</td>\n",
       "      <td>0.0</td>\n",
       "      <td>NaN</td>\n",
       "      <td>NaN</td>\n",
       "      <td>NaN</td>\n",
       "      <td>NaN</td>\n",
       "      <td>NaN</td>\n",
       "      <td>14.0</td>\n",
       "      <td>NaN</td>\n",
       "    </tr>\n",
       "    <tr>\n",
       "      <th>4</th>\n",
       "      <td>2017-12-12</td>\n",
       "      <td>2.0</td>\n",
       "      <td>2.0</td>\n",
       "      <td>0.0</td>\n",
       "      <td>5.0</td>\n",
       "      <td>2.0</td>\n",
       "      <td>4.0</td>\n",
       "      <td>5.0</td>\n",
       "      <td>0.0</td>\n",
       "      <td>2.0</td>\n",
       "      <td>3.0</td>\n",
       "      <td>2.0</td>\n",
       "      <td>0.0</td>\n",
       "      <td>27.0</td>\n",
       "      <td>NaN</td>\n",
       "    </tr>\n",
       "  </tbody>\n",
       "</table>\n",
       "</div>"
      ],
      "text/plain": [
       "         Date  Ross  Chandler  BT1  BT2  BT3  BT4  BT5  GR1  GR2  GR3  GR4  \\\n",
       "0  2017-12-05   0.0       5.0  3.0  6.0  5.0  4.0  4.0  0.0  0.0  2.0  3.0   \n",
       "1  2017-12-07   1.0       0.0  0.0  2.0  0.0  0.0  0.0  0.0  0.0  0.0  0.0   \n",
       "2  2017-12-09   NaN       NaN  NaN  NaN  NaN  NaN  NaN  2.0  0.0  3.0  1.0   \n",
       "3  2017-12-10   5.0       1.0  1.0  3.0  2.0  2.0  0.0  NaN  NaN  NaN  NaN   \n",
       "4  2017-12-12   2.0       2.0  0.0  5.0  2.0  4.0  5.0  0.0  2.0  3.0  2.0   \n",
       "\n",
       "   GR5  Total Etc. Comments  \n",
       "0  1.0   33.0           NaN  \n",
       "1  0.0    3.0           NaN  \n",
       "2  0.0    6.0           NaN  \n",
       "3  NaN   14.0           NaN  \n",
       "4  0.0   27.0           NaN  "
      ]
     },
     "execution_count": 408,
     "metadata": {},
     "output_type": "execute_result"
    }
   ],
   "source": [
    "# Clean eating dataset\n",
    "eat = eat.iloc[1:,:-1]\n",
    "eat.rename(columns = {\"Unnamed: 14\":'Etc. Comments', \"Pieces Eaten\": \"Date\", 'Total: ' : 'Total'}, inplace = True)\n",
    "\n",
    "#get rid of null values at end of dataset\n",
    "eat = eat.head(582)\n",
    "\n",
    "# Change date to just date format, not datetime\n",
    "eat['Date'] = pd.to_datetime(eat['Date']).dt.date\n",
    "\n",
    "\n",
    "\n",
    "eat.reset_index(drop=True,inplace = True)\n",
    "eat.head()"
   ]
  },
  {
   "cell_type": "code",
   "execution_count": 409,
   "metadata": {},
   "outputs": [
    {
     "data": {
      "text/html": [
       "<div>\n",
       "<style scoped>\n",
       "    .dataframe tbody tr th:only-of-type {\n",
       "        vertical-align: middle;\n",
       "    }\n",
       "\n",
       "    .dataframe tbody tr th {\n",
       "        vertical-align: top;\n",
       "    }\n",
       "\n",
       "    .dataframe thead th {\n",
       "        text-align: right;\n",
       "    }\n",
       "</style>\n",
       "<table border=\"1\" class=\"dataframe\">\n",
       "  <thead>\n",
       "    <tr style=\"text-align: right;\">\n",
       "      <th></th>\n",
       "      <th>Date</th>\n",
       "      <th>Ross</th>\n",
       "      <th>Chandler</th>\n",
       "      <th>BT1</th>\n",
       "      <th>BT2</th>\n",
       "      <th>BT3</th>\n",
       "      <th>BT4</th>\n",
       "      <th>BT5</th>\n",
       "      <th>GR1</th>\n",
       "      <th>GR2</th>\n",
       "      <th>GR3</th>\n",
       "      <th>GR4</th>\n",
       "      <th>GR5</th>\n",
       "      <th>Total</th>\n",
       "    </tr>\n",
       "  </thead>\n",
       "  <tbody>\n",
       "    <tr>\n",
       "      <th>577</th>\n",
       "      <td>2020-09-22</td>\n",
       "      <td>0.0</td>\n",
       "      <td>0.0</td>\n",
       "      <td>1.0</td>\n",
       "      <td>4.0</td>\n",
       "      <td>0.0</td>\n",
       "      <td>2.0</td>\n",
       "      <td>2.0</td>\n",
       "      <td>0.0</td>\n",
       "      <td>0.0</td>\n",
       "      <td>0.0</td>\n",
       "      <td>1.0</td>\n",
       "      <td>0.0</td>\n",
       "      <td>10.0</td>\n",
       "    </tr>\n",
       "    <tr>\n",
       "      <th>578</th>\n",
       "      <td>2020-09-24</td>\n",
       "      <td>0.0</td>\n",
       "      <td>0.0</td>\n",
       "      <td>0.0</td>\n",
       "      <td>3.0</td>\n",
       "      <td>1.0</td>\n",
       "      <td>1.0</td>\n",
       "      <td>1.0</td>\n",
       "      <td>0.0</td>\n",
       "      <td>0.0</td>\n",
       "      <td>1.0</td>\n",
       "      <td>0.0</td>\n",
       "      <td>0.0</td>\n",
       "      <td>7.0</td>\n",
       "    </tr>\n",
       "    <tr>\n",
       "      <th>579</th>\n",
       "      <td>2020-09-26</td>\n",
       "      <td>NaN</td>\n",
       "      <td>NaN</td>\n",
       "      <td>NaN</td>\n",
       "      <td>NaN</td>\n",
       "      <td>NaN</td>\n",
       "      <td>NaN</td>\n",
       "      <td>NaN</td>\n",
       "      <td>0.0</td>\n",
       "      <td>0.0</td>\n",
       "      <td>0.0</td>\n",
       "      <td>0.0</td>\n",
       "      <td>1.0</td>\n",
       "      <td>1.0</td>\n",
       "    </tr>\n",
       "    <tr>\n",
       "      <th>580</th>\n",
       "      <td>2020-09-27</td>\n",
       "      <td>0.0</td>\n",
       "      <td>0.0</td>\n",
       "      <td>2.0</td>\n",
       "      <td>0.0</td>\n",
       "      <td>0.0</td>\n",
       "      <td>0.0</td>\n",
       "      <td>1.0</td>\n",
       "      <td>NaN</td>\n",
       "      <td>NaN</td>\n",
       "      <td>NaN</td>\n",
       "      <td>NaN</td>\n",
       "      <td>NaN</td>\n",
       "      <td>3.0</td>\n",
       "    </tr>\n",
       "    <tr>\n",
       "      <th>581</th>\n",
       "      <td>2020-09-29</td>\n",
       "      <td>0.0</td>\n",
       "      <td>0.0</td>\n",
       "      <td>0.0</td>\n",
       "      <td>2.0</td>\n",
       "      <td>0.0</td>\n",
       "      <td>0.0</td>\n",
       "      <td>1.0</td>\n",
       "      <td>0.0</td>\n",
       "      <td>0.0</td>\n",
       "      <td>1.0</td>\n",
       "      <td>0.0</td>\n",
       "      <td>0.0</td>\n",
       "      <td>4.0</td>\n",
       "    </tr>\n",
       "  </tbody>\n",
       "</table>\n",
       "</div>"
      ],
      "text/plain": [
       "           Date  Ross  Chandler  BT1  BT2  BT3  BT4  BT5  GR1  GR2  GR3  GR4  \\\n",
       "577  2020-09-22   0.0       0.0  1.0  4.0  0.0  2.0  2.0  0.0  0.0  0.0  1.0   \n",
       "578  2020-09-24   0.0       0.0  0.0  3.0  1.0  1.0  1.0  0.0  0.0  1.0  0.0   \n",
       "579  2020-09-26   NaN       NaN  NaN  NaN  NaN  NaN  NaN  0.0  0.0  0.0  0.0   \n",
       "580  2020-09-27   0.0       0.0  2.0  0.0  0.0  0.0  1.0  NaN  NaN  NaN  NaN   \n",
       "581  2020-09-29   0.0       0.0  0.0  2.0  0.0  0.0  1.0  0.0  0.0  1.0  0.0   \n",
       "\n",
       "     GR5  Total  \n",
       "577  0.0   10.0  \n",
       "578  0.0    7.0  \n",
       "579  1.0    1.0  \n",
       "580  NaN    3.0  \n",
       "581  0.0    4.0  "
      ]
     },
     "execution_count": 409,
     "metadata": {},
     "output_type": "execute_result"
    }
   ],
   "source": [
    "# Clean Drops Dataset\n",
    "drops = drops.iloc[1:,:-1]\n",
    "drops['Drops'] = pd.to_datetime(drops['Drops']).dt.date\n",
    "drops.rename(columns = {\"Drops\" : \"Date\", \"Total: \":\"Total\"}, inplace = True)\n",
    "drops.reset_index(drop=True,inplace = True)\n",
    "drops.tail()"
   ]
  },
  {
   "cell_type": "code",
   "execution_count": 410,
   "metadata": {},
   "outputs": [
    {
     "data": {
      "text/html": [
       "<div>\n",
       "<style scoped>\n",
       "    .dataframe tbody tr th:only-of-type {\n",
       "        vertical-align: middle;\n",
       "    }\n",
       "\n",
       "    .dataframe tbody tr th {\n",
       "        vertical-align: top;\n",
       "    }\n",
       "\n",
       "    .dataframe thead th {\n",
       "        text-align: right;\n",
       "    }\n",
       "</style>\n",
       "<table border=\"1\" class=\"dataframe\">\n",
       "  <thead>\n",
       "    <tr style=\"text-align: right;\">\n",
       "      <th></th>\n",
       "      <th>Date</th>\n",
       "      <th>Ross</th>\n",
       "      <th>Chandler</th>\n",
       "      <th>BT1</th>\n",
       "      <th>BT2</th>\n",
       "      <th>BT3</th>\n",
       "      <th>BT4</th>\n",
       "      <th>BT5</th>\n",
       "      <th>GR1</th>\n",
       "      <th>GR2</th>\n",
       "      <th>GR3</th>\n",
       "      <th>GR4</th>\n",
       "      <th>GR5</th>\n",
       "      <th>Total</th>\n",
       "    </tr>\n",
       "  </thead>\n",
       "  <tbody>\n",
       "    <tr>\n",
       "      <th>577</th>\n",
       "      <td>2020-09-22</td>\n",
       "      <td>6.0</td>\n",
       "      <td>1.0</td>\n",
       "      <td>4.0</td>\n",
       "      <td>6.0</td>\n",
       "      <td>5.0</td>\n",
       "      <td>4.0</td>\n",
       "      <td>7.0</td>\n",
       "      <td>2.0</td>\n",
       "      <td>1.0</td>\n",
       "      <td>5.0</td>\n",
       "      <td>4.0</td>\n",
       "      <td>1.0</td>\n",
       "      <td>46.0</td>\n",
       "    </tr>\n",
       "    <tr>\n",
       "      <th>578</th>\n",
       "      <td>2020-09-24</td>\n",
       "      <td>8.0</td>\n",
       "      <td>18.0</td>\n",
       "      <td>2.0</td>\n",
       "      <td>9.0</td>\n",
       "      <td>10.0</td>\n",
       "      <td>10.0</td>\n",
       "      <td>11.0</td>\n",
       "      <td>5.0</td>\n",
       "      <td>6.0</td>\n",
       "      <td>3.0</td>\n",
       "      <td>7.0</td>\n",
       "      <td>9.0</td>\n",
       "      <td>98.0</td>\n",
       "    </tr>\n",
       "    <tr>\n",
       "      <th>579</th>\n",
       "      <td>2020-09-26</td>\n",
       "      <td>NaN</td>\n",
       "      <td>NaN</td>\n",
       "      <td>NaN</td>\n",
       "      <td>NaN</td>\n",
       "      <td>NaN</td>\n",
       "      <td>NaN</td>\n",
       "      <td>NaN</td>\n",
       "      <td>6.0</td>\n",
       "      <td>2.0</td>\n",
       "      <td>3.0</td>\n",
       "      <td>5.0</td>\n",
       "      <td>8.0</td>\n",
       "      <td>24.0</td>\n",
       "    </tr>\n",
       "    <tr>\n",
       "      <th>580</th>\n",
       "      <td>2020-09-27</td>\n",
       "      <td>10.0</td>\n",
       "      <td>19.0</td>\n",
       "      <td>9.0</td>\n",
       "      <td>10.0</td>\n",
       "      <td>8.0</td>\n",
       "      <td>16.0</td>\n",
       "      <td>3.0</td>\n",
       "      <td>NaN</td>\n",
       "      <td>NaN</td>\n",
       "      <td>NaN</td>\n",
       "      <td>NaN</td>\n",
       "      <td>NaN</td>\n",
       "      <td>75.0</td>\n",
       "    </tr>\n",
       "    <tr>\n",
       "      <th>581</th>\n",
       "      <td>2020-09-29</td>\n",
       "      <td>15.0</td>\n",
       "      <td>5.0</td>\n",
       "      <td>6.0</td>\n",
       "      <td>6.0</td>\n",
       "      <td>4.0</td>\n",
       "      <td>4.0</td>\n",
       "      <td>7.0</td>\n",
       "      <td>4.0</td>\n",
       "      <td>1.0</td>\n",
       "      <td>4.0</td>\n",
       "      <td>4.0</td>\n",
       "      <td>1.0</td>\n",
       "      <td>61.0</td>\n",
       "    </tr>\n",
       "  </tbody>\n",
       "</table>\n",
       "</div>"
      ],
      "text/plain": [
       "           Date  Ross  Chandler  BT1   BT2   BT3   BT4   BT5  GR1  GR2  GR3  \\\n",
       "577  2020-09-22   6.0       1.0  4.0   6.0   5.0   4.0   7.0  2.0  1.0  5.0   \n",
       "578  2020-09-24   8.0      18.0  2.0   9.0  10.0  10.0  11.0  5.0  6.0  3.0   \n",
       "579  2020-09-26   NaN       NaN  NaN   NaN   NaN   NaN   NaN  6.0  2.0  3.0   \n",
       "580  2020-09-27  10.0      19.0  9.0  10.0   8.0  16.0   3.0  NaN  NaN  NaN   \n",
       "581  2020-09-29  15.0       5.0  6.0   6.0   4.0   4.0   7.0  4.0  1.0  4.0   \n",
       "\n",
       "     GR4  GR5  Total  \n",
       "577  4.0  1.0   46.0  \n",
       "578  7.0  9.0   98.0  \n",
       "579  5.0  8.0   24.0  \n",
       "580  NaN  NaN   75.0  \n",
       "581  4.0  1.0   61.0  "
      ]
     },
     "execution_count": 410,
     "metadata": {},
     "output_type": "execute_result"
    }
   ],
   "source": [
    "# Clean Targets Dataset\n",
    "targets = targets.iloc[1:,:-1]\n",
    "targets.rename(columns = {\"Unnamed: 14\":'Etc. Comments', \"Targets\": \"Date\", \"Total: \": \"Total\"}, inplace = True)\n",
    "\n",
    "#get rid of null values at end of dataset\n",
    "targets = targets.head(582)\n",
    "\n",
    "# Change date to just date format, not datetime\n",
    "targets['Date'] = pd.to_datetime(targets['Date']).dt.date\n",
    "\n",
    "targets.reset_index(drop=True,inplace = True)\n",
    "targets.tail()"
   ]
  },
  {
   "cell_type": "markdown",
   "metadata": {},
   "source": [
    "# Other Factors Data Cleaning and Dummy Variable Creation for Foods\n"
   ]
  },
  {
   "cell_type": "code",
   "execution_count": 411,
   "metadata": {},
   "outputs": [
    {
     "name": "stderr",
     "output_type": "stream",
     "text": [
      "/home/stats/.local/lib/python3.6/site-packages/ipykernel_launcher.py:7: SettingWithCopyWarning: \n",
      "A value is trying to be set on a copy of a slice from a DataFrame.\n",
      "Try using .loc[row_indexer,col_indexer] = value instead\n",
      "\n",
      "See the caveats in the documentation: https://pandas.pydata.org/pandas-docs/stable/user_guide/indexing.html#returning-a-view-versus-a-copy\n",
      "  import sys\n",
      "/home/stats/.local/lib/python3.6/site-packages/pandas/core/frame.py:4308: SettingWithCopyWarning: \n",
      "A value is trying to be set on a copy of a slice from a DataFrame\n",
      "\n",
      "See the caveats in the documentation: https://pandas.pydata.org/pandas-docs/stable/user_guide/indexing.html#returning-a-view-versus-a-copy\n",
      "  errors=errors,\n"
     ]
    }
   ],
   "source": [
    "dummy_factors = other_factors[['Saury', 'Blue Runner',\n",
    "                'Squid', 'Mackerel', 'Herring', 'Sardine',\n",
    "                'Mazuri Vitamins', 'Garlic', 'Salmon', 'Bonito', 'Bluefish', 'Mahi',\n",
    "                    'Goggle Eye', 'Humbolt Squid']]\n",
    "\n",
    "for i in dummy_factors:\n",
    "    dummy_factors[i] = dummy_factors[i].fillna(0)\n",
    "dummy_factors.rename(columns = {\"Blue Runner\": \"Blue_Runner\", \"Mazuri Vitamins\": \"Mazuri_Vitamins\", \n",
    "                               \"Goggle Eye\": \"Goggle_Eye\", \"Humbolt Squid\": \"Humbolt_Squid\"}, inplace = True)"
   ]
  },
  {
   "cell_type": "code",
   "execution_count": null,
   "metadata": {
    "scrolled": false
   },
   "outputs": [],
   "source": []
  },
  {
   "cell_type": "markdown",
   "metadata": {},
   "source": [
    "# Combine Datasets to get all factors to perform regression on"
   ]
  },
  {
   "cell_type": "code",
   "execution_count": 412,
   "metadata": {},
   "outputs": [
    {
     "data": {
      "text/html": [
       "<div>\n",
       "<style scoped>\n",
       "    .dataframe tbody tr th:only-of-type {\n",
       "        vertical-align: middle;\n",
       "    }\n",
       "\n",
       "    .dataframe tbody tr th {\n",
       "        vertical-align: top;\n",
       "    }\n",
       "\n",
       "    .dataframe thead th {\n",
       "        text-align: right;\n",
       "    }\n",
       "</style>\n",
       "<table border=\"1\" class=\"dataframe\">\n",
       "  <thead>\n",
       "    <tr style=\"text-align: right;\">\n",
       "      <th></th>\n",
       "      <th>Date</th>\n",
       "      <th>Ross</th>\n",
       "      <th>Chandler</th>\n",
       "      <th>BT1</th>\n",
       "      <th>BT2</th>\n",
       "      <th>BT3</th>\n",
       "      <th>BT4</th>\n",
       "      <th>BT5</th>\n",
       "      <th>GR1</th>\n",
       "      <th>GR2</th>\n",
       "      <th>...</th>\n",
       "      <th>Sardine</th>\n",
       "      <th>Mazuri_Vitamins</th>\n",
       "      <th>Garlic</th>\n",
       "      <th>Salmon</th>\n",
       "      <th>Bonito</th>\n",
       "      <th>Bluefish</th>\n",
       "      <th>Mahi</th>\n",
       "      <th>Goggle_Eye</th>\n",
       "      <th>Humbolt_Squid</th>\n",
       "      <th>Temperature</th>\n",
       "    </tr>\n",
       "  </thead>\n",
       "  <tbody>\n",
       "    <tr>\n",
       "      <th>0</th>\n",
       "      <td>2017-12-05</td>\n",
       "      <td>0.0</td>\n",
       "      <td>5.0</td>\n",
       "      <td>3.0</td>\n",
       "      <td>6.0</td>\n",
       "      <td>5.0</td>\n",
       "      <td>4.0</td>\n",
       "      <td>4.0</td>\n",
       "      <td>0.0</td>\n",
       "      <td>0.0</td>\n",
       "      <td>...</td>\n",
       "      <td>0.0</td>\n",
       "      <td>1.0</td>\n",
       "      <td>1.0</td>\n",
       "      <td>0.0</td>\n",
       "      <td>0.0</td>\n",
       "      <td>0.0</td>\n",
       "      <td>0.0</td>\n",
       "      <td>0.0</td>\n",
       "      <td>0.0</td>\n",
       "      <td>73.2</td>\n",
       "    </tr>\n",
       "    <tr>\n",
       "      <th>1</th>\n",
       "      <td>2017-12-07</td>\n",
       "      <td>1.0</td>\n",
       "      <td>0.0</td>\n",
       "      <td>0.0</td>\n",
       "      <td>2.0</td>\n",
       "      <td>0.0</td>\n",
       "      <td>0.0</td>\n",
       "      <td>0.0</td>\n",
       "      <td>0.0</td>\n",
       "      <td>0.0</td>\n",
       "      <td>...</td>\n",
       "      <td>0.0</td>\n",
       "      <td>1.0</td>\n",
       "      <td>1.0</td>\n",
       "      <td>0.0</td>\n",
       "      <td>0.0</td>\n",
       "      <td>0.0</td>\n",
       "      <td>0.0</td>\n",
       "      <td>0.0</td>\n",
       "      <td>0.0</td>\n",
       "      <td>73.2</td>\n",
       "    </tr>\n",
       "    <tr>\n",
       "      <th>2</th>\n",
       "      <td>2017-12-09</td>\n",
       "      <td>NaN</td>\n",
       "      <td>NaN</td>\n",
       "      <td>NaN</td>\n",
       "      <td>NaN</td>\n",
       "      <td>NaN</td>\n",
       "      <td>NaN</td>\n",
       "      <td>NaN</td>\n",
       "      <td>2.0</td>\n",
       "      <td>0.0</td>\n",
       "      <td>...</td>\n",
       "      <td>0.0</td>\n",
       "      <td>0.0</td>\n",
       "      <td>1.0</td>\n",
       "      <td>0.0</td>\n",
       "      <td>0.0</td>\n",
       "      <td>0.0</td>\n",
       "      <td>0.0</td>\n",
       "      <td>0.0</td>\n",
       "      <td>0.0</td>\n",
       "      <td>73.6</td>\n",
       "    </tr>\n",
       "    <tr>\n",
       "      <th>3</th>\n",
       "      <td>2017-12-10</td>\n",
       "      <td>5.0</td>\n",
       "      <td>1.0</td>\n",
       "      <td>1.0</td>\n",
       "      <td>3.0</td>\n",
       "      <td>2.0</td>\n",
       "      <td>2.0</td>\n",
       "      <td>0.0</td>\n",
       "      <td>NaN</td>\n",
       "      <td>NaN</td>\n",
       "      <td>...</td>\n",
       "      <td>1.0</td>\n",
       "      <td>0.0</td>\n",
       "      <td>1.0</td>\n",
       "      <td>0.0</td>\n",
       "      <td>0.0</td>\n",
       "      <td>0.0</td>\n",
       "      <td>0.0</td>\n",
       "      <td>0.0</td>\n",
       "      <td>0.0</td>\n",
       "      <td>73.6</td>\n",
       "    </tr>\n",
       "    <tr>\n",
       "      <th>4</th>\n",
       "      <td>2017-12-12</td>\n",
       "      <td>2.0</td>\n",
       "      <td>2.0</td>\n",
       "      <td>0.0</td>\n",
       "      <td>5.0</td>\n",
       "      <td>2.0</td>\n",
       "      <td>4.0</td>\n",
       "      <td>5.0</td>\n",
       "      <td>0.0</td>\n",
       "      <td>2.0</td>\n",
       "      <td>...</td>\n",
       "      <td>0.0</td>\n",
       "      <td>1.0</td>\n",
       "      <td>1.0</td>\n",
       "      <td>0.0</td>\n",
       "      <td>0.0</td>\n",
       "      <td>0.0</td>\n",
       "      <td>0.0</td>\n",
       "      <td>0.0</td>\n",
       "      <td>0.0</td>\n",
       "      <td>73.4</td>\n",
       "    </tr>\n",
       "  </tbody>\n",
       "</table>\n",
       "<p>5 rows × 30 columns</p>\n",
       "</div>"
      ],
      "text/plain": [
       "         Date  Ross  Chandler  BT1  BT2  BT3  BT4  BT5  GR1  GR2  ...  \\\n",
       "0  2017-12-05   0.0       5.0  3.0  6.0  5.0  4.0  4.0  0.0  0.0  ...   \n",
       "1  2017-12-07   1.0       0.0  0.0  2.0  0.0  0.0  0.0  0.0  0.0  ...   \n",
       "2  2017-12-09   NaN       NaN  NaN  NaN  NaN  NaN  NaN  2.0  0.0  ...   \n",
       "3  2017-12-10   5.0       1.0  1.0  3.0  2.0  2.0  0.0  NaN  NaN  ...   \n",
       "4  2017-12-12   2.0       2.0  0.0  5.0  2.0  4.0  5.0  0.0  2.0  ...   \n",
       "\n",
       "   Sardine  Mazuri_Vitamins  Garlic  Salmon Bonito  Bluefish  Mahi  \\\n",
       "0      0.0              1.0     1.0     0.0    0.0       0.0   0.0   \n",
       "1      0.0              1.0     1.0     0.0    0.0       0.0   0.0   \n",
       "2      0.0              0.0     1.0     0.0    0.0       0.0   0.0   \n",
       "3      1.0              0.0     1.0     0.0    0.0       0.0   0.0   \n",
       "4      0.0              1.0     1.0     0.0    0.0       0.0   0.0   \n",
       "\n",
       "   Goggle_Eye  Humbolt_Squid  Temperature  \n",
       "0         0.0            0.0         73.2  \n",
       "1         0.0            0.0         73.2  \n",
       "2         0.0            0.0         73.6  \n",
       "3         0.0            0.0         73.6  \n",
       "4         0.0            0.0         73.4  \n",
       "\n",
       "[5 rows x 30 columns]"
      ]
     },
     "execution_count": 412,
     "metadata": {},
     "output_type": "execute_result"
    }
   ],
   "source": [
    "# combine eat data\n",
    "eat_concat1 = pd.concat([eat,dummy_factors], axis = 1)\n",
    "eat_concat = pd.concat([eat_concat1, other_factors[\"Temperature\"]], axis = 1)\n",
    "eat_concat.head()"
   ]
  },
  {
   "cell_type": "code",
   "execution_count": 413,
   "metadata": {},
   "outputs": [],
   "source": [
    "# Add eat variable for Covid shut down\n",
    "start_date = pd.to_datetime('03-14-2020')\n",
    "end_date = pd.to_datetime('05-09-2020')\n",
    "conditions = [ (eat_concat['Date'] >= start_date) & (eat_concat['Date'] <= end_date),\n",
    "              (eat_concat['Date'] < start_date) | (eat_concat['Date'] > end_date)]\n",
    "values = [1, 0]\n",
    "eat_concat[\"covid\"] = np.select(conditions, values)"
   ]
  },
  {
   "cell_type": "code",
   "execution_count": 414,
   "metadata": {},
   "outputs": [],
   "source": [
    "# Add eat variable for light training\n",
    "light_start = pd.to_datetime('02-15-2018')\n",
    "conditions_light = [ (eat_concat['Date'] >= light_start), (eat_concat['Date'] < light_start)]\n",
    "values_light = [1, 0]\n",
    "eat_concat[\"light_training\"] = np.select(conditions_light, values_light)"
   ]
  },
  {
   "cell_type": "code",
   "execution_count": 415,
   "metadata": {},
   "outputs": [
    {
     "data": {
      "text/html": [
       "<div>\n",
       "<style scoped>\n",
       "    .dataframe tbody tr th:only-of-type {\n",
       "        vertical-align: middle;\n",
       "    }\n",
       "\n",
       "    .dataframe tbody tr th {\n",
       "        vertical-align: top;\n",
       "    }\n",
       "\n",
       "    .dataframe thead th {\n",
       "        text-align: right;\n",
       "    }\n",
       "</style>\n",
       "<table border=\"1\" class=\"dataframe\">\n",
       "  <thead>\n",
       "    <tr style=\"text-align: right;\">\n",
       "      <th></th>\n",
       "      <th>Date</th>\n",
       "      <th>Ross</th>\n",
       "      <th>Chandler</th>\n",
       "      <th>BT1</th>\n",
       "      <th>BT2</th>\n",
       "      <th>BT3</th>\n",
       "      <th>BT4</th>\n",
       "      <th>BT5</th>\n",
       "      <th>GR1</th>\n",
       "      <th>GR2</th>\n",
       "      <th>...</th>\n",
       "      <th>Sardine</th>\n",
       "      <th>Mazuri_Vitamins</th>\n",
       "      <th>Garlic</th>\n",
       "      <th>Salmon</th>\n",
       "      <th>Bonito</th>\n",
       "      <th>Bluefish</th>\n",
       "      <th>Mahi</th>\n",
       "      <th>Goggle_Eye</th>\n",
       "      <th>Humbolt_Squid</th>\n",
       "      <th>Temperature</th>\n",
       "    </tr>\n",
       "  </thead>\n",
       "  <tbody>\n",
       "    <tr>\n",
       "      <th>0</th>\n",
       "      <td>2017-12-05</td>\n",
       "      <td>0.0</td>\n",
       "      <td>0.0</td>\n",
       "      <td>0.0</td>\n",
       "      <td>0.0</td>\n",
       "      <td>0.0</td>\n",
       "      <td>1.0</td>\n",
       "      <td>0.0</td>\n",
       "      <td>0.0</td>\n",
       "      <td>0.0</td>\n",
       "      <td>...</td>\n",
       "      <td>0.0</td>\n",
       "      <td>1.0</td>\n",
       "      <td>1.0</td>\n",
       "      <td>0.0</td>\n",
       "      <td>0.0</td>\n",
       "      <td>0.0</td>\n",
       "      <td>0.0</td>\n",
       "      <td>0.0</td>\n",
       "      <td>0.0</td>\n",
       "      <td>73.2</td>\n",
       "    </tr>\n",
       "    <tr>\n",
       "      <th>1</th>\n",
       "      <td>2017-12-07</td>\n",
       "      <td>0.0</td>\n",
       "      <td>1.0</td>\n",
       "      <td>1.0</td>\n",
       "      <td>2.0</td>\n",
       "      <td>1.0</td>\n",
       "      <td>1.0</td>\n",
       "      <td>2.0</td>\n",
       "      <td>0.0</td>\n",
       "      <td>0.0</td>\n",
       "      <td>...</td>\n",
       "      <td>0.0</td>\n",
       "      <td>1.0</td>\n",
       "      <td>1.0</td>\n",
       "      <td>0.0</td>\n",
       "      <td>0.0</td>\n",
       "      <td>0.0</td>\n",
       "      <td>0.0</td>\n",
       "      <td>0.0</td>\n",
       "      <td>0.0</td>\n",
       "      <td>73.2</td>\n",
       "    </tr>\n",
       "    <tr>\n",
       "      <th>2</th>\n",
       "      <td>2017-12-09</td>\n",
       "      <td>NaN</td>\n",
       "      <td>NaN</td>\n",
       "      <td>NaN</td>\n",
       "      <td>NaN</td>\n",
       "      <td>NaN</td>\n",
       "      <td>NaN</td>\n",
       "      <td>NaN</td>\n",
       "      <td>0.0</td>\n",
       "      <td>1.0</td>\n",
       "      <td>...</td>\n",
       "      <td>0.0</td>\n",
       "      <td>0.0</td>\n",
       "      <td>1.0</td>\n",
       "      <td>0.0</td>\n",
       "      <td>0.0</td>\n",
       "      <td>0.0</td>\n",
       "      <td>0.0</td>\n",
       "      <td>0.0</td>\n",
       "      <td>0.0</td>\n",
       "      <td>73.6</td>\n",
       "    </tr>\n",
       "    <tr>\n",
       "      <th>3</th>\n",
       "      <td>2017-12-10</td>\n",
       "      <td>0.0</td>\n",
       "      <td>0.0</td>\n",
       "      <td>0.0</td>\n",
       "      <td>0.0</td>\n",
       "      <td>0.0</td>\n",
       "      <td>0.0</td>\n",
       "      <td>1.0</td>\n",
       "      <td>NaN</td>\n",
       "      <td>NaN</td>\n",
       "      <td>...</td>\n",
       "      <td>1.0</td>\n",
       "      <td>0.0</td>\n",
       "      <td>1.0</td>\n",
       "      <td>0.0</td>\n",
       "      <td>0.0</td>\n",
       "      <td>0.0</td>\n",
       "      <td>0.0</td>\n",
       "      <td>0.0</td>\n",
       "      <td>0.0</td>\n",
       "      <td>73.6</td>\n",
       "    </tr>\n",
       "    <tr>\n",
       "      <th>4</th>\n",
       "      <td>2017-12-12</td>\n",
       "      <td>0.0</td>\n",
       "      <td>0.0</td>\n",
       "      <td>0.0</td>\n",
       "      <td>0.0</td>\n",
       "      <td>2.0</td>\n",
       "      <td>0.0</td>\n",
       "      <td>0.0</td>\n",
       "      <td>0.0</td>\n",
       "      <td>0.0</td>\n",
       "      <td>...</td>\n",
       "      <td>0.0</td>\n",
       "      <td>1.0</td>\n",
       "      <td>1.0</td>\n",
       "      <td>0.0</td>\n",
       "      <td>0.0</td>\n",
       "      <td>0.0</td>\n",
       "      <td>0.0</td>\n",
       "      <td>0.0</td>\n",
       "      <td>0.0</td>\n",
       "      <td>73.4</td>\n",
       "    </tr>\n",
       "  </tbody>\n",
       "</table>\n",
       "<p>5 rows × 29 columns</p>\n",
       "</div>"
      ],
      "text/plain": [
       "         Date  Ross  Chandler  BT1  BT2  BT3  BT4  BT5  GR1  GR2  ...  \\\n",
       "0  2017-12-05   0.0       0.0  0.0  0.0  0.0  1.0  0.0  0.0  0.0  ...   \n",
       "1  2017-12-07   0.0       1.0  1.0  2.0  1.0  1.0  2.0  0.0  0.0  ...   \n",
       "2  2017-12-09   NaN       NaN  NaN  NaN  NaN  NaN  NaN  0.0  1.0  ...   \n",
       "3  2017-12-10   0.0       0.0  0.0  0.0  0.0  0.0  1.0  NaN  NaN  ...   \n",
       "4  2017-12-12   0.0       0.0  0.0  0.0  2.0  0.0  0.0  0.0  0.0  ...   \n",
       "\n",
       "   Sardine  Mazuri_Vitamins  Garlic  Salmon  Bonito  Bluefish  Mahi  \\\n",
       "0      0.0              1.0     1.0     0.0     0.0       0.0   0.0   \n",
       "1      0.0              1.0     1.0     0.0     0.0       0.0   0.0   \n",
       "2      0.0              0.0     1.0     0.0     0.0       0.0   0.0   \n",
       "3      1.0              0.0     1.0     0.0     0.0       0.0   0.0   \n",
       "4      0.0              1.0     1.0     0.0     0.0       0.0   0.0   \n",
       "\n",
       "   Goggle_Eye  Humbolt_Squid  Temperature  \n",
       "0         0.0            0.0         73.2  \n",
       "1         0.0            0.0         73.2  \n",
       "2         0.0            0.0         73.6  \n",
       "3         0.0            0.0         73.6  \n",
       "4         0.0            0.0         73.4  \n",
       "\n",
       "[5 rows x 29 columns]"
      ]
     },
     "execution_count": 415,
     "metadata": {},
     "output_type": "execute_result"
    }
   ],
   "source": [
    "# combine drops data\n",
    "drops_concat1 = pd.concat([drops,dummy_factors], axis = 1)\n",
    "drops_concat = pd.concat([drops_concat1, other_factors[\"Temperature\"]], axis = 1)\n",
    "drops_concat.head()"
   ]
  },
  {
   "cell_type": "code",
   "execution_count": 416,
   "metadata": {},
   "outputs": [],
   "source": [
    "# Add drop variable for Covid shut down\n",
    "start_date = pd.to_datetime('03-14-2020')\n",
    "end_date = pd.to_datetime('05-09-2020')\n",
    "conditions = [ (drops_concat['Date'] >= start_date) & (drops_concat['Date'] <= end_date),\n",
    "              (drops_concat['Date'] < start_date) | (drops_concat['Date'] > end_date)]\n",
    "values = [1, 0]\n",
    "drops_concat[\"covid\"] = np.select(conditions, values)"
   ]
  },
  {
   "cell_type": "code",
   "execution_count": 417,
   "metadata": {},
   "outputs": [],
   "source": [
    "# Add drop variable for light training\n",
    "light_start = pd.to_datetime('02-15-2018')\n",
    "conditions_light = [ (drops_concat['Date'] >= light_start), (drops_concat['Date'] < light_start)]\n",
    "values_light = [1, 0]\n",
    "drops_concat[\"light_training\"] = np.select(conditions_light, values_light)"
   ]
  },
  {
   "cell_type": "code",
   "execution_count": 418,
   "metadata": {
    "scrolled": false
   },
   "outputs": [
    {
     "data": {
      "text/html": [
       "<div>\n",
       "<style scoped>\n",
       "    .dataframe tbody tr th:only-of-type {\n",
       "        vertical-align: middle;\n",
       "    }\n",
       "\n",
       "    .dataframe tbody tr th {\n",
       "        vertical-align: top;\n",
       "    }\n",
       "\n",
       "    .dataframe thead th {\n",
       "        text-align: right;\n",
       "    }\n",
       "</style>\n",
       "<table border=\"1\" class=\"dataframe\">\n",
       "  <thead>\n",
       "    <tr style=\"text-align: right;\">\n",
       "      <th></th>\n",
       "      <th>Date</th>\n",
       "      <th>Ross</th>\n",
       "      <th>Chandler</th>\n",
       "      <th>BT1</th>\n",
       "      <th>BT2</th>\n",
       "      <th>BT3</th>\n",
       "      <th>BT4</th>\n",
       "      <th>BT5</th>\n",
       "      <th>GR1</th>\n",
       "      <th>GR2</th>\n",
       "      <th>...</th>\n",
       "      <th>Sardine</th>\n",
       "      <th>Mazuri_Vitamins</th>\n",
       "      <th>Garlic</th>\n",
       "      <th>Salmon</th>\n",
       "      <th>Bonito</th>\n",
       "      <th>Bluefish</th>\n",
       "      <th>Mahi</th>\n",
       "      <th>Goggle_Eye</th>\n",
       "      <th>Humbolt_Squid</th>\n",
       "      <th>Temperature</th>\n",
       "    </tr>\n",
       "  </thead>\n",
       "  <tbody>\n",
       "    <tr>\n",
       "      <th>0</th>\n",
       "      <td>2017-12-05</td>\n",
       "      <td>3.0</td>\n",
       "      <td>0.0</td>\n",
       "      <td>4.0</td>\n",
       "      <td>3.0</td>\n",
       "      <td>0.0</td>\n",
       "      <td>2.0</td>\n",
       "      <td>2.0</td>\n",
       "      <td>1.0</td>\n",
       "      <td>1.0</td>\n",
       "      <td>...</td>\n",
       "      <td>0.0</td>\n",
       "      <td>1.0</td>\n",
       "      <td>1.0</td>\n",
       "      <td>0.0</td>\n",
       "      <td>0.0</td>\n",
       "      <td>0.0</td>\n",
       "      <td>0.0</td>\n",
       "      <td>0.0</td>\n",
       "      <td>0.0</td>\n",
       "      <td>73.2</td>\n",
       "    </tr>\n",
       "    <tr>\n",
       "      <th>1</th>\n",
       "      <td>2017-12-07</td>\n",
       "      <td>4.0</td>\n",
       "      <td>5.0</td>\n",
       "      <td>2.0</td>\n",
       "      <td>2.0</td>\n",
       "      <td>5.0</td>\n",
       "      <td>3.0</td>\n",
       "      <td>5.0</td>\n",
       "      <td>0.0</td>\n",
       "      <td>0.0</td>\n",
       "      <td>...</td>\n",
       "      <td>0.0</td>\n",
       "      <td>1.0</td>\n",
       "      <td>1.0</td>\n",
       "      <td>0.0</td>\n",
       "      <td>0.0</td>\n",
       "      <td>0.0</td>\n",
       "      <td>0.0</td>\n",
       "      <td>0.0</td>\n",
       "      <td>0.0</td>\n",
       "      <td>73.2</td>\n",
       "    </tr>\n",
       "    <tr>\n",
       "      <th>2</th>\n",
       "      <td>2017-12-09</td>\n",
       "      <td>NaN</td>\n",
       "      <td>NaN</td>\n",
       "      <td>NaN</td>\n",
       "      <td>NaN</td>\n",
       "      <td>NaN</td>\n",
       "      <td>NaN</td>\n",
       "      <td>NaN</td>\n",
       "      <td>1.0</td>\n",
       "      <td>3.0</td>\n",
       "      <td>...</td>\n",
       "      <td>0.0</td>\n",
       "      <td>0.0</td>\n",
       "      <td>1.0</td>\n",
       "      <td>0.0</td>\n",
       "      <td>0.0</td>\n",
       "      <td>0.0</td>\n",
       "      <td>0.0</td>\n",
       "      <td>0.0</td>\n",
       "      <td>0.0</td>\n",
       "      <td>73.6</td>\n",
       "    </tr>\n",
       "    <tr>\n",
       "      <th>3</th>\n",
       "      <td>2017-12-10</td>\n",
       "      <td>4.0</td>\n",
       "      <td>7.0</td>\n",
       "      <td>0.0</td>\n",
       "      <td>2.0</td>\n",
       "      <td>2.0</td>\n",
       "      <td>0.0</td>\n",
       "      <td>0.0</td>\n",
       "      <td>NaN</td>\n",
       "      <td>NaN</td>\n",
       "      <td>...</td>\n",
       "      <td>1.0</td>\n",
       "      <td>0.0</td>\n",
       "      <td>1.0</td>\n",
       "      <td>0.0</td>\n",
       "      <td>0.0</td>\n",
       "      <td>0.0</td>\n",
       "      <td>0.0</td>\n",
       "      <td>0.0</td>\n",
       "      <td>0.0</td>\n",
       "      <td>73.6</td>\n",
       "    </tr>\n",
       "    <tr>\n",
       "      <th>4</th>\n",
       "      <td>2017-12-12</td>\n",
       "      <td>3.0</td>\n",
       "      <td>1.0</td>\n",
       "      <td>3.0</td>\n",
       "      <td>2.0</td>\n",
       "      <td>4.0</td>\n",
       "      <td>1.0</td>\n",
       "      <td>1.0</td>\n",
       "      <td>1.0</td>\n",
       "      <td>1.0</td>\n",
       "      <td>...</td>\n",
       "      <td>0.0</td>\n",
       "      <td>1.0</td>\n",
       "      <td>1.0</td>\n",
       "      <td>0.0</td>\n",
       "      <td>0.0</td>\n",
       "      <td>0.0</td>\n",
       "      <td>0.0</td>\n",
       "      <td>0.0</td>\n",
       "      <td>0.0</td>\n",
       "      <td>73.4</td>\n",
       "    </tr>\n",
       "  </tbody>\n",
       "</table>\n",
       "<p>5 rows × 29 columns</p>\n",
       "</div>"
      ],
      "text/plain": [
       "         Date  Ross  Chandler  BT1  BT2  BT3  BT4  BT5  GR1  GR2  ...  \\\n",
       "0  2017-12-05   3.0       0.0  4.0  3.0  0.0  2.0  2.0  1.0  1.0  ...   \n",
       "1  2017-12-07   4.0       5.0  2.0  2.0  5.0  3.0  5.0  0.0  0.0  ...   \n",
       "2  2017-12-09   NaN       NaN  NaN  NaN  NaN  NaN  NaN  1.0  3.0  ...   \n",
       "3  2017-12-10   4.0       7.0  0.0  2.0  2.0  0.0  0.0  NaN  NaN  ...   \n",
       "4  2017-12-12   3.0       1.0  3.0  2.0  4.0  1.0  1.0  1.0  1.0  ...   \n",
       "\n",
       "   Sardine  Mazuri_Vitamins  Garlic  Salmon  Bonito  Bluefish  Mahi  \\\n",
       "0      0.0              1.0     1.0     0.0     0.0       0.0   0.0   \n",
       "1      0.0              1.0     1.0     0.0     0.0       0.0   0.0   \n",
       "2      0.0              0.0     1.0     0.0     0.0       0.0   0.0   \n",
       "3      1.0              0.0     1.0     0.0     0.0       0.0   0.0   \n",
       "4      0.0              1.0     1.0     0.0     0.0       0.0   0.0   \n",
       "\n",
       "   Goggle_Eye  Humbolt_Squid  Temperature  \n",
       "0         0.0            0.0         73.2  \n",
       "1         0.0            0.0         73.2  \n",
       "2         0.0            0.0         73.6  \n",
       "3         0.0            0.0         73.6  \n",
       "4         0.0            0.0         73.4  \n",
       "\n",
       "[5 rows x 29 columns]"
      ]
     },
     "execution_count": 418,
     "metadata": {},
     "output_type": "execute_result"
    }
   ],
   "source": [
    "# combine Target data\n",
    "targets_concat1 = pd.concat([targets,dummy_factors], axis = 1)\n",
    "targets_concat = pd.concat([targets_concat1, other_factors[\"Temperature\"]], axis = 1)\n",
    "targets_concat.head()"
   ]
  },
  {
   "cell_type": "code",
   "execution_count": 419,
   "metadata": {},
   "outputs": [],
   "source": [
    "# Add target variable for Covid shut down\n",
    "start_date = pd.to_datetime('03-14-2020')\n",
    "end_date = pd.to_datetime('05-09-2020')\n",
    "conditions = [ (targets_concat['Date'] >= start_date) & (targets_concat['Date'] <= end_date),\n",
    "              (targets_concat['Date'] < start_date) | (targets_concat['Date'] > end_date)]\n",
    "values = [1, 0]\n",
    "targets_concat[\"covid\"] = np.select(conditions, values)"
   ]
  },
  {
   "cell_type": "code",
   "execution_count": 420,
   "metadata": {},
   "outputs": [],
   "source": [
    "# Add target variable for light training\n",
    "light_start = pd.to_datetime('02-15-2018')\n",
    "conditions_light = [ (targets_concat['Date'] >= light_start), (targets_concat['Date'] < light_start)]\n",
    "values_light = [1, 0]\n",
    "targets_concat[\"light_training\"] = np.select(conditions_light, values_light)"
   ]
  },
  {
   "cell_type": "code",
   "execution_count": 421,
   "metadata": {},
   "outputs": [
    {
     "data": {
      "text/html": [
       "<div>\n",
       "<style scoped>\n",
       "    .dataframe tbody tr th:only-of-type {\n",
       "        vertical-align: middle;\n",
       "    }\n",
       "\n",
       "    .dataframe tbody tr th {\n",
       "        vertical-align: top;\n",
       "    }\n",
       "\n",
       "    .dataframe thead th {\n",
       "        text-align: right;\n",
       "    }\n",
       "</style>\n",
       "<table border=\"1\" class=\"dataframe\">\n",
       "  <thead>\n",
       "    <tr style=\"text-align: right;\">\n",
       "      <th></th>\n",
       "      <th>Date</th>\n",
       "      <th>Ross</th>\n",
       "      <th>Chandler</th>\n",
       "      <th>BT1</th>\n",
       "      <th>BT2</th>\n",
       "      <th>BT3</th>\n",
       "      <th>BT4</th>\n",
       "      <th>BT5</th>\n",
       "      <th>GR1</th>\n",
       "      <th>GR2</th>\n",
       "      <th>...</th>\n",
       "      <th>Salmon</th>\n",
       "      <th>Bonito</th>\n",
       "      <th>Bluefish</th>\n",
       "      <th>Mahi</th>\n",
       "      <th>Goggle_Eye</th>\n",
       "      <th>Humbolt_Squid</th>\n",
       "      <th>Temperature</th>\n",
       "      <th>covid</th>\n",
       "      <th>light_training</th>\n",
       "      <th>GroupFeed</th>\n",
       "    </tr>\n",
       "  </thead>\n",
       "  <tbody>\n",
       "    <tr>\n",
       "      <th>0</th>\n",
       "      <td>2017-12-05</td>\n",
       "      <td>3.0</td>\n",
       "      <td>0.0</td>\n",
       "      <td>4.0</td>\n",
       "      <td>3.0</td>\n",
       "      <td>0.0</td>\n",
       "      <td>2.0</td>\n",
       "      <td>2.0</td>\n",
       "      <td>1.0</td>\n",
       "      <td>1.0</td>\n",
       "      <td>...</td>\n",
       "      <td>0.0</td>\n",
       "      <td>0.0</td>\n",
       "      <td>0.0</td>\n",
       "      <td>0.0</td>\n",
       "      <td>0.0</td>\n",
       "      <td>0.0</td>\n",
       "      <td>73.2</td>\n",
       "      <td>0</td>\n",
       "      <td>0</td>\n",
       "      <td>1</td>\n",
       "    </tr>\n",
       "    <tr>\n",
       "      <th>1</th>\n",
       "      <td>2017-12-07</td>\n",
       "      <td>4.0</td>\n",
       "      <td>5.0</td>\n",
       "      <td>2.0</td>\n",
       "      <td>2.0</td>\n",
       "      <td>5.0</td>\n",
       "      <td>3.0</td>\n",
       "      <td>5.0</td>\n",
       "      <td>0.0</td>\n",
       "      <td>0.0</td>\n",
       "      <td>...</td>\n",
       "      <td>0.0</td>\n",
       "      <td>0.0</td>\n",
       "      <td>0.0</td>\n",
       "      <td>0.0</td>\n",
       "      <td>0.0</td>\n",
       "      <td>0.0</td>\n",
       "      <td>73.2</td>\n",
       "      <td>0</td>\n",
       "      <td>0</td>\n",
       "      <td>1</td>\n",
       "    </tr>\n",
       "    <tr>\n",
       "      <th>2</th>\n",
       "      <td>2017-12-09</td>\n",
       "      <td>NaN</td>\n",
       "      <td>NaN</td>\n",
       "      <td>NaN</td>\n",
       "      <td>NaN</td>\n",
       "      <td>NaN</td>\n",
       "      <td>NaN</td>\n",
       "      <td>NaN</td>\n",
       "      <td>1.0</td>\n",
       "      <td>3.0</td>\n",
       "      <td>...</td>\n",
       "      <td>0.0</td>\n",
       "      <td>0.0</td>\n",
       "      <td>0.0</td>\n",
       "      <td>0.0</td>\n",
       "      <td>0.0</td>\n",
       "      <td>0.0</td>\n",
       "      <td>73.6</td>\n",
       "      <td>0</td>\n",
       "      <td>0</td>\n",
       "      <td>0</td>\n",
       "    </tr>\n",
       "    <tr>\n",
       "      <th>3</th>\n",
       "      <td>2017-12-10</td>\n",
       "      <td>4.0</td>\n",
       "      <td>7.0</td>\n",
       "      <td>0.0</td>\n",
       "      <td>2.0</td>\n",
       "      <td>2.0</td>\n",
       "      <td>0.0</td>\n",
       "      <td>0.0</td>\n",
       "      <td>NaN</td>\n",
       "      <td>NaN</td>\n",
       "      <td>...</td>\n",
       "      <td>0.0</td>\n",
       "      <td>0.0</td>\n",
       "      <td>0.0</td>\n",
       "      <td>0.0</td>\n",
       "      <td>0.0</td>\n",
       "      <td>0.0</td>\n",
       "      <td>73.6</td>\n",
       "      <td>0</td>\n",
       "      <td>0</td>\n",
       "      <td>0</td>\n",
       "    </tr>\n",
       "    <tr>\n",
       "      <th>4</th>\n",
       "      <td>2017-12-12</td>\n",
       "      <td>3.0</td>\n",
       "      <td>1.0</td>\n",
       "      <td>3.0</td>\n",
       "      <td>2.0</td>\n",
       "      <td>4.0</td>\n",
       "      <td>1.0</td>\n",
       "      <td>1.0</td>\n",
       "      <td>1.0</td>\n",
       "      <td>1.0</td>\n",
       "      <td>...</td>\n",
       "      <td>0.0</td>\n",
       "      <td>0.0</td>\n",
       "      <td>0.0</td>\n",
       "      <td>0.0</td>\n",
       "      <td>0.0</td>\n",
       "      <td>0.0</td>\n",
       "      <td>73.4</td>\n",
       "      <td>0</td>\n",
       "      <td>0</td>\n",
       "      <td>1</td>\n",
       "    </tr>\n",
       "  </tbody>\n",
       "</table>\n",
       "<p>5 rows × 32 columns</p>\n",
       "</div>"
      ],
      "text/plain": [
       "         Date  Ross  Chandler  BT1  BT2  BT3  BT4  BT5  GR1  GR2  ...  Salmon  \\\n",
       "0  2017-12-05   3.0       0.0  4.0  3.0  0.0  2.0  2.0  1.0  1.0  ...     0.0   \n",
       "1  2017-12-07   4.0       5.0  2.0  2.0  5.0  3.0  5.0  0.0  0.0  ...     0.0   \n",
       "2  2017-12-09   NaN       NaN  NaN  NaN  NaN  NaN  NaN  1.0  3.0  ...     0.0   \n",
       "3  2017-12-10   4.0       7.0  0.0  2.0  2.0  0.0  0.0  NaN  NaN  ...     0.0   \n",
       "4  2017-12-12   3.0       1.0  3.0  2.0  4.0  1.0  1.0  1.0  1.0  ...     0.0   \n",
       "\n",
       "   Bonito  Bluefish  Mahi  Goggle_Eye  Humbolt_Squid  Temperature  covid  \\\n",
       "0     0.0       0.0   0.0         0.0            0.0         73.2      0   \n",
       "1     0.0       0.0   0.0         0.0            0.0         73.2      0   \n",
       "2     0.0       0.0   0.0         0.0            0.0         73.6      0   \n",
       "3     0.0       0.0   0.0         0.0            0.0         73.6      0   \n",
       "4     0.0       0.0   0.0         0.0            0.0         73.4      0   \n",
       "\n",
       "   light_training  GroupFeed  \n",
       "0               0          1  \n",
       "1               0          1  \n",
       "2               0          0  \n",
       "3               0          0  \n",
       "4               0          1  \n",
       "\n",
       "[5 rows x 32 columns]"
      ]
     },
     "execution_count": 421,
     "metadata": {},
     "output_type": "execute_result"
    }
   ],
   "source": [
    "# Add group feed variable to eat, drop, and target datasets\n",
    "GroupFeed = []\n",
    "for row in drops.index:\n",
    "    if drops.iloc[row,:].isna().sum() > 0:\n",
    "        GroupFeed.append(0)\n",
    "    else:\n",
    "        GroupFeed.append(1)\n",
    "GroupFeed\n",
    "\n",
    "eat_concat[\"GroupFeed\"] = GroupFeed\n",
    "drops_concat[\"GroupFeed\"] = GroupFeed\n",
    "targets_concat[\"GroupFeed\"] = GroupFeed\n",
    "targets_concat.head()"
   ]
  },
  {
   "cell_type": "code",
   "execution_count": 422,
   "metadata": {},
   "outputs": [],
   "source": [
    "# add column to dataset that indicates whether targets were being varied or not\n",
    "varied_start1 = pd.to_datetime('04-01-2018')\n",
    "varied_stop = pd.to_datetime('05-12-2018')\n",
    "varied_start2 = pd.to_datetime('07-26-2018')\n",
    "\n",
    "eat_concat[\"Varied_Target\"] = [1 if (varied_start1 <= ele <= varied_stop) | (ele >= varied_start2)  else 0 for ele in eat_concat[\"Date\"]]\n",
    "drops_concat[\"Varied_Target\"] = [1 if (varied_start1 <= ele <= varied_stop) | (ele >= varied_start2)  else 0 for ele in drops_concat[\"Date\"]]\n",
    "targets_concat[\"Varied_Target\"] = [1 if (varied_start1 <= ele <= varied_stop) | (ele >= varied_start2)  else 0 for ele in targets_concat[\"Date\"]]"
   ]
  },
  {
   "cell_type": "markdown",
   "metadata": {},
   "source": [
    "# Subset Creation"
   ]
  },
  {
   "cell_type": "code",
   "execution_count": 423,
   "metadata": {},
   "outputs": [],
   "source": [
    "\n",
    "# All SS Subset\n",
    "All_SS = eat_concat[['Ross', 'Chandler']]\n",
    "\n",
    "# All BT Subset\n",
    "All_BT = eat_concat[['BT1', 'BT2', 'BT3', 'BT4', 'BT5']]\n",
    "\n",
    "# All GR Subset\n",
    "All_GR = eat_concat[['GR1', 'GR2', 'GR3', 'GR4', 'GR5']]\n",
    "\n",
    "# Male Subset\n",
    "Male = eat_concat[[\"BT1\",\"BT5\",\"GR1\",\"Ross\",\"Chandler\"]]\n",
    "\n",
    "# Female Subset\n",
    "female = eat_concat[[\"BT2\",\"BT3\",\"BT4\",\"GR2\",\"GR3\",\"GR4\",\"GR5\"]]\n",
    "\n",
    "# Append all subsets to original datasets\n",
    "# eat dataset\n",
    "eat_concat[\"All_GR\"] = eat['GR1'] + eat['GR2'] + eat['GR3'] + eat['GR4'] + eat['GR5']\n",
    "eat_concat[\"All_BT\"] = eat['BT1'] + eat['BT2'] + eat['BT3'] + eat['BT4'] + eat['BT5']\n",
    "eat_concat[\"All_SS\"] = eat['Ross'] + eat['Chandler']\n",
    "eat_concat[\"male\"] = eat[[\"BT1\",\"BT5\",\"GR1\",\"Ross\",\"Chandler\"]].sum(axis = 1)\n",
    "eat_concat[\"female\"] = eat[[\"BT2\",\"BT3\",\"BT4\",\"GR2\",\"GR3\",\"GR4\",\"GR5\"]].sum(axis = 1)\n",
    "\n",
    "# drop dataset\n",
    "drops_concat[\"All_GR\"] = drops['GR1'] + drops['GR2'] + drops['GR3'] + drops['GR4'] + drops['GR5']\n",
    "drops_concat[\"All_BT\"] = drops['BT1'] + drops['BT2'] + drops['BT3'] + drops['BT4'] + drops['BT5']\n",
    "drops_concat[\"All_SS\"] = drops['Ross'] + drops['Chandler']\n",
    "drops_concat[\"male\"] = drops[[\"BT1\",\"BT5\",\"GR1\",\"Ross\",\"Chandler\"]].sum(axis = 1)\n",
    "drops_concat[\"female\"] = drops[[\"BT2\",\"BT3\",\"BT4\",\"GR2\",\"GR3\",\"GR4\",\"GR5\"]].sum(axis = 1)\n",
    "\n",
    "# target dataset\n",
    "targets_concat[\"All_GR\"] = targets['GR1'] + targets['GR2'] + targets['GR3'] + targets['GR4'] + targets['GR5']\n",
    "targets_concat[\"All_BT\"] = targets['BT1'] + targets['BT2'] + targets['BT3'] + targets['BT4'] + targets['BT5']\n",
    "targets_concat[\"All_SS\"] = targets['Ross'] + targets['Chandler']\n",
    "targets_concat[\"male\"] = targets[[\"BT1\",\"BT5\",\"GR1\",\"Ross\",\"Chandler\"]].sum(axis = 1)\n",
    "targets_concat[\"female\"] = targets[[\"BT2\",\"BT3\",\"BT4\",\"GR2\",\"GR3\",\"GR4\",\"GR5\"]].sum(axis = 1)\n"
   ]
  },
  {
   "cell_type": "markdown",
   "metadata": {},
   "source": [
    "# Create Tables for Poisson Regression Time Series For Pieces Eaten For All Sharks"
   ]
  },
  {
   "cell_type": "code",
   "execution_count": 424,
   "metadata": {},
   "outputs": [
    {
     "data": {
      "text/html": [
       "<div>\n",
       "<style scoped>\n",
       "    .dataframe tbody tr th:only-of-type {\n",
       "        vertical-align: middle;\n",
       "    }\n",
       "\n",
       "    .dataframe tbody tr th {\n",
       "        vertical-align: top;\n",
       "    }\n",
       "\n",
       "    .dataframe thead th {\n",
       "        text-align: right;\n",
       "    }\n",
       "</style>\n",
       "<table border=\"1\" class=\"dataframe\">\n",
       "  <thead>\n",
       "    <tr style=\"text-align: right;\">\n",
       "      <th></th>\n",
       "      <th>Date</th>\n",
       "      <th>Ross</th>\n",
       "      <th>Chandler</th>\n",
       "      <th>BT1</th>\n",
       "      <th>BT2</th>\n",
       "      <th>BT3</th>\n",
       "      <th>BT4</th>\n",
       "      <th>BT5</th>\n",
       "      <th>GR1</th>\n",
       "      <th>GR2</th>\n",
       "      <th>...</th>\n",
       "      <th>GroupFeed</th>\n",
       "      <th>Varied_Target</th>\n",
       "      <th>All_GR</th>\n",
       "      <th>All_BT</th>\n",
       "      <th>All_SS</th>\n",
       "      <th>male</th>\n",
       "      <th>female</th>\n",
       "      <th>Day_of_week</th>\n",
       "      <th>Month</th>\n",
       "      <th>Day</th>\n",
       "    </tr>\n",
       "  </thead>\n",
       "  <tbody>\n",
       "    <tr>\n",
       "      <th>0</th>\n",
       "      <td>2017-12-05</td>\n",
       "      <td>0.0</td>\n",
       "      <td>5.0</td>\n",
       "      <td>3.0</td>\n",
       "      <td>6.0</td>\n",
       "      <td>5.0</td>\n",
       "      <td>4.0</td>\n",
       "      <td>4.0</td>\n",
       "      <td>0.0</td>\n",
       "      <td>0.0</td>\n",
       "      <td>...</td>\n",
       "      <td>1</td>\n",
       "      <td>0</td>\n",
       "      <td>6.0</td>\n",
       "      <td>22.0</td>\n",
       "      <td>5.0</td>\n",
       "      <td>12.0</td>\n",
       "      <td>21.0</td>\n",
       "      <td>1</td>\n",
       "      <td>12</td>\n",
       "      <td>5</td>\n",
       "    </tr>\n",
       "    <tr>\n",
       "      <th>1</th>\n",
       "      <td>2017-12-07</td>\n",
       "      <td>1.0</td>\n",
       "      <td>0.0</td>\n",
       "      <td>0.0</td>\n",
       "      <td>2.0</td>\n",
       "      <td>0.0</td>\n",
       "      <td>0.0</td>\n",
       "      <td>0.0</td>\n",
       "      <td>0.0</td>\n",
       "      <td>0.0</td>\n",
       "      <td>...</td>\n",
       "      <td>1</td>\n",
       "      <td>0</td>\n",
       "      <td>0.0</td>\n",
       "      <td>2.0</td>\n",
       "      <td>1.0</td>\n",
       "      <td>1.0</td>\n",
       "      <td>2.0</td>\n",
       "      <td>3</td>\n",
       "      <td>12</td>\n",
       "      <td>7</td>\n",
       "    </tr>\n",
       "    <tr>\n",
       "      <th>2</th>\n",
       "      <td>2017-12-09</td>\n",
       "      <td>NaN</td>\n",
       "      <td>NaN</td>\n",
       "      <td>NaN</td>\n",
       "      <td>NaN</td>\n",
       "      <td>NaN</td>\n",
       "      <td>NaN</td>\n",
       "      <td>NaN</td>\n",
       "      <td>2.0</td>\n",
       "      <td>0.0</td>\n",
       "      <td>...</td>\n",
       "      <td>0</td>\n",
       "      <td>0</td>\n",
       "      <td>6.0</td>\n",
       "      <td>NaN</td>\n",
       "      <td>NaN</td>\n",
       "      <td>2.0</td>\n",
       "      <td>4.0</td>\n",
       "      <td>5</td>\n",
       "      <td>12</td>\n",
       "      <td>9</td>\n",
       "    </tr>\n",
       "    <tr>\n",
       "      <th>3</th>\n",
       "      <td>2017-12-10</td>\n",
       "      <td>5.0</td>\n",
       "      <td>1.0</td>\n",
       "      <td>1.0</td>\n",
       "      <td>3.0</td>\n",
       "      <td>2.0</td>\n",
       "      <td>2.0</td>\n",
       "      <td>0.0</td>\n",
       "      <td>NaN</td>\n",
       "      <td>NaN</td>\n",
       "      <td>...</td>\n",
       "      <td>0</td>\n",
       "      <td>0</td>\n",
       "      <td>NaN</td>\n",
       "      <td>8.0</td>\n",
       "      <td>6.0</td>\n",
       "      <td>7.0</td>\n",
       "      <td>7.0</td>\n",
       "      <td>6</td>\n",
       "      <td>12</td>\n",
       "      <td>10</td>\n",
       "    </tr>\n",
       "    <tr>\n",
       "      <th>4</th>\n",
       "      <td>2017-12-12</td>\n",
       "      <td>2.0</td>\n",
       "      <td>2.0</td>\n",
       "      <td>0.0</td>\n",
       "      <td>5.0</td>\n",
       "      <td>2.0</td>\n",
       "      <td>4.0</td>\n",
       "      <td>5.0</td>\n",
       "      <td>0.0</td>\n",
       "      <td>2.0</td>\n",
       "      <td>...</td>\n",
       "      <td>1</td>\n",
       "      <td>0</td>\n",
       "      <td>7.0</td>\n",
       "      <td>16.0</td>\n",
       "      <td>4.0</td>\n",
       "      <td>9.0</td>\n",
       "      <td>18.0</td>\n",
       "      <td>1</td>\n",
       "      <td>12</td>\n",
       "      <td>12</td>\n",
       "    </tr>\n",
       "  </tbody>\n",
       "</table>\n",
       "<p>5 rows × 42 columns</p>\n",
       "</div>"
      ],
      "text/plain": [
       "        Date  Ross  Chandler  BT1  BT2  BT3  BT4  BT5  GR1  GR2  ...  \\\n",
       "0 2017-12-05   0.0       5.0  3.0  6.0  5.0  4.0  4.0  0.0  0.0  ...   \n",
       "1 2017-12-07   1.0       0.0  0.0  2.0  0.0  0.0  0.0  0.0  0.0  ...   \n",
       "2 2017-12-09   NaN       NaN  NaN  NaN  NaN  NaN  NaN  2.0  0.0  ...   \n",
       "3 2017-12-10   5.0       1.0  1.0  3.0  2.0  2.0  0.0  NaN  NaN  ...   \n",
       "4 2017-12-12   2.0       2.0  0.0  5.0  2.0  4.0  5.0  0.0  2.0  ...   \n",
       "\n",
       "   GroupFeed  Varied_Target  All_GR  All_BT All_SS  male  female  Day_of_week  \\\n",
       "0          1              0     6.0    22.0    5.0  12.0    21.0            1   \n",
       "1          1              0     0.0     2.0    1.0   1.0     2.0            3   \n",
       "2          0              0     6.0     NaN    NaN   2.0     4.0            5   \n",
       "3          0              0     NaN     8.0    6.0   7.0     7.0            6   \n",
       "4          1              0     7.0    16.0    4.0   9.0    18.0            1   \n",
       "\n",
       "   Month  Day  \n",
       "0     12    5  \n",
       "1     12    7  \n",
       "2     12    9  \n",
       "3     12   10  \n",
       "4     12   12  \n",
       "\n",
       "[5 rows x 42 columns]"
      ]
     },
     "execution_count": 424,
     "metadata": {},
     "output_type": "execute_result"
    }
   ],
   "source": [
    "# create additional time variables for eating\n",
    "eat_concat['Date'] = pd.to_datetime(eat_concat['Date'])\n",
    "eat_concat['Day_of_week'] = pd.to_datetime(eat_concat['Date']).dt.dayofweek\n",
    "eat_concat['Month'] = pd.to_datetime(eat_concat['Date']).dt.month\n",
    "eat_concat['Day'] = pd.to_datetime(eat_concat['Date']).dt.day\n",
    "eat_concat.head()"
   ]
  },
  {
   "cell_type": "code",
   "execution_count": 425,
   "metadata": {},
   "outputs": [
    {
     "name": "stdout",
     "output_type": "stream",
     "text": [
      "Training data set length=465\n",
      "Testing data set length=117\n"
     ]
    }
   ],
   "source": [
    "# Create training and testing datasets\n",
    "mask = np.random.rand(len(eat_concat)) < 0.8\n",
    "eat_train = eat_concat[mask]\n",
    "eat_test = eat_concat[~mask]\n",
    "print('Training data set length='+str(len(eat_train)))\n",
    "print('Testing data set length='+str(len(eat_test)))"
   ]
  },
  {
   "cell_type": "code",
   "execution_count": 426,
   "metadata": {},
   "outputs": [],
   "source": [
    "# setup Poisson regression expression\n",
    "expr = \"\"\"Total ~ Day_of_week + Month + Day + Temperature + Saury + Blue_Runner + \n",
    "Squid + Mackerel + Herring + Sardine + Mazuri_Vitamins + Garlic + Salmon + Bonito + Bluefish +\n",
    "Mahi + Goggle_Eye + Humbolt_Squid + covid + light_training + GroupFeed + Varied_Target\"\"\""
   ]
  },
  {
   "cell_type": "code",
   "execution_count": 427,
   "metadata": {},
   "outputs": [],
   "source": [
    "y_train, X_train = dmatrices(expr, eat_train, return_type='dataframe')\n",
    "y_test, X_test = dmatrices(expr, eat_test, return_type='dataframe')"
   ]
  },
  {
   "cell_type": "code",
   "execution_count": 428,
   "metadata": {},
   "outputs": [
    {
     "name": "stdout",
     "output_type": "stream",
     "text": [
      "                 Generalized Linear Model Regression Results                  \n",
      "==============================================================================\n",
      "Dep. Variable:                  Total   No. Observations:                  464\n",
      "Model:                            GLM   Df Residuals:                      441\n",
      "Model Family:                 Poisson   Df Model:                           22\n",
      "Link Function:                    log   Scale:                          1.0000\n",
      "Method:                          IRLS   Log-Likelihood:                -1649.8\n",
      "Date:                Mon, 07 Dec 2020   Deviance:                       1121.2\n",
      "Time:                        19:13:11   Pearson chi2:                 1.02e+03\n",
      "No. Iterations:                     4                                         \n",
      "Covariance Type:            nonrobust                                         \n",
      "===================================================================================\n",
      "                      coef    std err          z      P>|z|      [0.025      0.975]\n",
      "-----------------------------------------------------------------------------------\n",
      "Intercept           0.1868      0.585      0.319      0.750      -0.960       1.334\n",
      "Day_of_week         0.0629      0.019      3.242      0.001       0.025       0.101\n",
      "Month               0.0050      0.004      1.419      0.156      -0.002       0.012\n",
      "Day                 0.0016      0.001      1.353      0.176      -0.001       0.004\n",
      "Temperature         0.0195      0.008      2.430      0.015       0.004       0.035\n",
      "Saury               0.5084      0.072      7.035      0.000       0.367       0.650\n",
      "Blue_Runner         0.2711      0.066      4.115      0.000       0.142       0.400\n",
      "Squid               0.0851      0.043      1.991      0.046       0.001       0.169\n",
      "Mackerel            0.2862      0.058      4.908      0.000       0.172       0.400\n",
      "Herring             0.0912      0.062      1.481      0.139      -0.030       0.212\n",
      "Sardine             0.2284      0.055      4.128      0.000       0.120       0.337\n",
      "Mazuri_Vitamins     0.0868      0.036      2.396      0.017       0.016       0.158\n",
      "Garlic              0.0552      0.033      1.695      0.090      -0.009       0.119\n",
      "Salmon             -0.0615      0.038     -1.615      0.106      -0.136       0.013\n",
      "Bonito             -0.0358      0.073     -0.491      0.623      -0.179       0.107\n",
      "Bluefish           -0.1446      0.094     -1.532      0.126      -0.330       0.040\n",
      "Mahi               -0.0198      0.090     -0.221      0.825      -0.196       0.156\n",
      "Goggle_Eye         -0.0513      0.128     -0.401      0.689      -0.302       0.200\n",
      "Humbolt_Squid       0.2856      0.124      2.308      0.021       0.043       0.528\n",
      "covid              -0.2267      0.061     -3.708      0.000      -0.347      -0.107\n",
      "light_training      0.1245      0.059      2.101      0.036       0.008       0.241\n",
      "GroupFeed           0.6188      0.078      7.976      0.000       0.467       0.771\n",
      "Varied_Target       0.2250      0.040      5.650      0.000       0.147       0.303\n",
      "===================================================================================\n"
     ]
    }
   ],
   "source": [
    "# Fit model and print results of model\n",
    "poisson_training_results = sm.GLM(y_train, X_train, family=sm.families.Poisson()).fit()\n",
    "print(poisson_training_results.summary())"
   ]
  },
  {
   "cell_type": "markdown",
   "metadata": {},
   "source": [
    "Saury, Blue Runner, Mackerel, Herring, Bluefish, Light training, summer, and fall were all significant predictors for the number of pieces eaten for all sharks"
   ]
  },
  {
   "cell_type": "markdown",
   "metadata": {},
   "source": [
    "# Poisson Regression for Number of Drops for All Sharks"
   ]
  },
  {
   "cell_type": "code",
   "execution_count": 429,
   "metadata": {},
   "outputs": [
    {
     "data": {
      "text/html": [
       "<div>\n",
       "<style scoped>\n",
       "    .dataframe tbody tr th:only-of-type {\n",
       "        vertical-align: middle;\n",
       "    }\n",
       "\n",
       "    .dataframe tbody tr th {\n",
       "        vertical-align: top;\n",
       "    }\n",
       "\n",
       "    .dataframe thead th {\n",
       "        text-align: right;\n",
       "    }\n",
       "</style>\n",
       "<table border=\"1\" class=\"dataframe\">\n",
       "  <thead>\n",
       "    <tr style=\"text-align: right;\">\n",
       "      <th></th>\n",
       "      <th>Date</th>\n",
       "      <th>Ross</th>\n",
       "      <th>Chandler</th>\n",
       "      <th>BT1</th>\n",
       "      <th>BT2</th>\n",
       "      <th>BT3</th>\n",
       "      <th>BT4</th>\n",
       "      <th>BT5</th>\n",
       "      <th>GR1</th>\n",
       "      <th>GR2</th>\n",
       "      <th>...</th>\n",
       "      <th>GroupFeed</th>\n",
       "      <th>Varied_Target</th>\n",
       "      <th>All_GR</th>\n",
       "      <th>All_BT</th>\n",
       "      <th>All_SS</th>\n",
       "      <th>male</th>\n",
       "      <th>female</th>\n",
       "      <th>Day_of_week</th>\n",
       "      <th>Month</th>\n",
       "      <th>Day</th>\n",
       "    </tr>\n",
       "  </thead>\n",
       "  <tbody>\n",
       "    <tr>\n",
       "      <th>0</th>\n",
       "      <td>2017-12-05</td>\n",
       "      <td>0.0</td>\n",
       "      <td>0.0</td>\n",
       "      <td>0.0</td>\n",
       "      <td>0.0</td>\n",
       "      <td>0.0</td>\n",
       "      <td>1.0</td>\n",
       "      <td>0.0</td>\n",
       "      <td>0.0</td>\n",
       "      <td>0.0</td>\n",
       "      <td>...</td>\n",
       "      <td>1</td>\n",
       "      <td>0</td>\n",
       "      <td>2.0</td>\n",
       "      <td>1.0</td>\n",
       "      <td>0.0</td>\n",
       "      <td>0.0</td>\n",
       "      <td>3.0</td>\n",
       "      <td>1</td>\n",
       "      <td>12</td>\n",
       "      <td>5</td>\n",
       "    </tr>\n",
       "    <tr>\n",
       "      <th>1</th>\n",
       "      <td>2017-12-07</td>\n",
       "      <td>0.0</td>\n",
       "      <td>1.0</td>\n",
       "      <td>1.0</td>\n",
       "      <td>2.0</td>\n",
       "      <td>1.0</td>\n",
       "      <td>1.0</td>\n",
       "      <td>2.0</td>\n",
       "      <td>0.0</td>\n",
       "      <td>0.0</td>\n",
       "      <td>...</td>\n",
       "      <td>1</td>\n",
       "      <td>0</td>\n",
       "      <td>2.0</td>\n",
       "      <td>7.0</td>\n",
       "      <td>1.0</td>\n",
       "      <td>4.0</td>\n",
       "      <td>6.0</td>\n",
       "      <td>3</td>\n",
       "      <td>12</td>\n",
       "      <td>7</td>\n",
       "    </tr>\n",
       "    <tr>\n",
       "      <th>2</th>\n",
       "      <td>2017-12-09</td>\n",
       "      <td>NaN</td>\n",
       "      <td>NaN</td>\n",
       "      <td>NaN</td>\n",
       "      <td>NaN</td>\n",
       "      <td>NaN</td>\n",
       "      <td>NaN</td>\n",
       "      <td>NaN</td>\n",
       "      <td>0.0</td>\n",
       "      <td>1.0</td>\n",
       "      <td>...</td>\n",
       "      <td>0</td>\n",
       "      <td>0</td>\n",
       "      <td>1.0</td>\n",
       "      <td>NaN</td>\n",
       "      <td>NaN</td>\n",
       "      <td>0.0</td>\n",
       "      <td>1.0</td>\n",
       "      <td>5</td>\n",
       "      <td>12</td>\n",
       "      <td>9</td>\n",
       "    </tr>\n",
       "    <tr>\n",
       "      <th>3</th>\n",
       "      <td>2017-12-10</td>\n",
       "      <td>0.0</td>\n",
       "      <td>0.0</td>\n",
       "      <td>0.0</td>\n",
       "      <td>0.0</td>\n",
       "      <td>0.0</td>\n",
       "      <td>0.0</td>\n",
       "      <td>1.0</td>\n",
       "      <td>NaN</td>\n",
       "      <td>NaN</td>\n",
       "      <td>...</td>\n",
       "      <td>0</td>\n",
       "      <td>0</td>\n",
       "      <td>NaN</td>\n",
       "      <td>1.0</td>\n",
       "      <td>0.0</td>\n",
       "      <td>1.0</td>\n",
       "      <td>0.0</td>\n",
       "      <td>6</td>\n",
       "      <td>12</td>\n",
       "      <td>10</td>\n",
       "    </tr>\n",
       "    <tr>\n",
       "      <th>4</th>\n",
       "      <td>2017-12-12</td>\n",
       "      <td>0.0</td>\n",
       "      <td>0.0</td>\n",
       "      <td>0.0</td>\n",
       "      <td>0.0</td>\n",
       "      <td>2.0</td>\n",
       "      <td>0.0</td>\n",
       "      <td>0.0</td>\n",
       "      <td>0.0</td>\n",
       "      <td>0.0</td>\n",
       "      <td>...</td>\n",
       "      <td>1</td>\n",
       "      <td>0</td>\n",
       "      <td>1.0</td>\n",
       "      <td>2.0</td>\n",
       "      <td>0.0</td>\n",
       "      <td>0.0</td>\n",
       "      <td>3.0</td>\n",
       "      <td>1</td>\n",
       "      <td>12</td>\n",
       "      <td>12</td>\n",
       "    </tr>\n",
       "  </tbody>\n",
       "</table>\n",
       "<p>5 rows × 41 columns</p>\n",
       "</div>"
      ],
      "text/plain": [
       "        Date  Ross  Chandler  BT1  BT2  BT3  BT4  BT5  GR1  GR2  ...  \\\n",
       "0 2017-12-05   0.0       0.0  0.0  0.0  0.0  1.0  0.0  0.0  0.0  ...   \n",
       "1 2017-12-07   0.0       1.0  1.0  2.0  1.0  1.0  2.0  0.0  0.0  ...   \n",
       "2 2017-12-09   NaN       NaN  NaN  NaN  NaN  NaN  NaN  0.0  1.0  ...   \n",
       "3 2017-12-10   0.0       0.0  0.0  0.0  0.0  0.0  1.0  NaN  NaN  ...   \n",
       "4 2017-12-12   0.0       0.0  0.0  0.0  2.0  0.0  0.0  0.0  0.0  ...   \n",
       "\n",
       "   GroupFeed  Varied_Target  All_GR  All_BT  All_SS  male  female  \\\n",
       "0          1              0     2.0     1.0     0.0   0.0     3.0   \n",
       "1          1              0     2.0     7.0     1.0   4.0     6.0   \n",
       "2          0              0     1.0     NaN     NaN   0.0     1.0   \n",
       "3          0              0     NaN     1.0     0.0   1.0     0.0   \n",
       "4          1              0     1.0     2.0     0.0   0.0     3.0   \n",
       "\n",
       "   Day_of_week  Month  Day  \n",
       "0            1     12    5  \n",
       "1            3     12    7  \n",
       "2            5     12    9  \n",
       "3            6     12   10  \n",
       "4            1     12   12  \n",
       "\n",
       "[5 rows x 41 columns]"
      ]
     },
     "execution_count": 429,
     "metadata": {},
     "output_type": "execute_result"
    }
   ],
   "source": [
    "# create additional time variables for dropping\n",
    "drops_concat['Date'] = pd.to_datetime(drops_concat['Date'])\n",
    "drops_concat['Day_of_week'] = pd.to_datetime(drops_concat['Date']).dt.dayofweek\n",
    "drops_concat['Month'] = pd.to_datetime(drops_concat['Date']).dt.month\n",
    "drops_concat['Day'] = pd.to_datetime(drops_concat['Date']).dt.day\n",
    "drops_concat.head()"
   ]
  },
  {
   "cell_type": "code",
   "execution_count": 430,
   "metadata": {},
   "outputs": [
    {
     "name": "stdout",
     "output_type": "stream",
     "text": [
      "Training data set length=468\n",
      "Testing data set length=114\n"
     ]
    }
   ],
   "source": [
    "# Create training and testing datasets\n",
    "mask = np.random.rand(len(drops_concat)) < 0.8\n",
    "drops_train = drops_concat[mask]\n",
    "drops_test = drops_concat[~mask]\n",
    "print('Training data set length='+str(len(drops_train)))\n",
    "print('Testing data set length='+str(len(drops_test)))"
   ]
  },
  {
   "cell_type": "code",
   "execution_count": 432,
   "metadata": {},
   "outputs": [],
   "source": [
    "y_train, X_train = dmatrices(expr, drops_train, return_type='dataframe')\n",
    "y_test, X_test = dmatrices(expr, drops_test, return_type='dataframe')"
   ]
  },
  {
   "cell_type": "code",
   "execution_count": 433,
   "metadata": {},
   "outputs": [
    {
     "name": "stdout",
     "output_type": "stream",
     "text": [
      "                 Generalized Linear Model Regression Results                  \n",
      "==============================================================================\n",
      "Dep. Variable:                  Total   No. Observations:                  468\n",
      "Model:                            GLM   Df Residuals:                      445\n",
      "Model Family:                 Poisson   Df Model:                           22\n",
      "Link Function:                    log   Scale:                          1.0000\n",
      "Method:                          IRLS   Log-Likelihood:                -1057.8\n",
      "Date:                Mon, 07 Dec 2020   Deviance:                       916.23\n",
      "Time:                        19:13:11   Pearson chi2:                 1.02e+03\n",
      "No. Iterations:                     5                                         \n",
      "Covariance Type:            nonrobust                                         \n",
      "===================================================================================\n",
      "                      coef    std err          z      P>|z|      [0.025      0.975]\n",
      "-----------------------------------------------------------------------------------\n",
      "Intercept           9.0939      1.493      6.092      0.000       6.168      12.020\n",
      "Day_of_week         0.0109      0.048      0.227      0.820      -0.083       0.105\n",
      "Month               0.0150      0.008      1.997      0.046       0.000       0.030\n",
      "Day                 0.0043      0.003      1.499      0.134      -0.001       0.010\n",
      "Temperature        -0.1169      0.020     -5.786      0.000      -0.156      -0.077\n",
      "Saury               0.2068      0.163      1.268      0.205      -0.113       0.526\n",
      "Blue_Runner         0.5755      0.154      3.735      0.000       0.274       0.878\n",
      "Squid              -0.0945      0.093     -1.021      0.307      -0.276       0.087\n",
      "Mackerel            0.3996      0.132      3.026      0.002       0.141       0.659\n",
      "Herring            -0.2856      0.145     -1.974      0.048      -0.569      -0.002\n",
      "Sardine             0.3573      0.127      2.809      0.005       0.108       0.607\n",
      "Mazuri_Vitamins    -0.0137      0.084     -0.165      0.869      -0.177       0.150\n",
      "Garlic             -0.0675      0.076     -0.891      0.373      -0.216       0.081\n",
      "Salmon             -0.0803      0.095     -0.843      0.399      -0.267       0.106\n",
      "Bonito             -0.2447      0.215     -1.137      0.256      -0.667       0.177\n",
      "Bluefish            0.2093      0.180      1.161      0.246      -0.144       0.563\n",
      "Mahi                0.3973      0.168      2.364      0.018       0.068       0.727\n",
      "Goggle_Eye         -0.0888      0.315     -0.281      0.778      -0.707       0.530\n",
      "Humbolt_Squid       0.3629      0.399      0.911      0.363      -0.418       1.144\n",
      "covid               0.5037      0.096      5.251      0.000       0.316       0.692\n",
      "light_training     -0.1136      0.126     -0.904      0.366      -0.360       0.133\n",
      "GroupFeed           0.8302      0.171      4.841      0.000       0.494       1.166\n",
      "Varied_Target      -0.1152      0.096     -1.195      0.232      -0.304       0.074\n",
      "===================================================================================\n"
     ]
    }
   ],
   "source": [
    "# Fit model and print results of model\n",
    "poisson_training_results = sm.GLM(y_train, X_train, family=sm.families.Poisson()).fit()\n",
    "print(poisson_training_results.summary())"
   ]
  },
  {
   "cell_type": "markdown",
   "metadata": {},
   "source": [
    "Day of week, Day of Month, Temperature, Blue Runner, Bluefish, covid, and light training were all significant predictors for the number of drops for all sharks"
   ]
  },
  {
   "cell_type": "markdown",
   "metadata": {},
   "source": [
    "# Poisson Regression for Number of Targets for All Sharks"
   ]
  },
  {
   "cell_type": "code",
   "execution_count": 434,
   "metadata": {},
   "outputs": [
    {
     "data": {
      "text/html": [
       "<div>\n",
       "<style scoped>\n",
       "    .dataframe tbody tr th:only-of-type {\n",
       "        vertical-align: middle;\n",
       "    }\n",
       "\n",
       "    .dataframe tbody tr th {\n",
       "        vertical-align: top;\n",
       "    }\n",
       "\n",
       "    .dataframe thead th {\n",
       "        text-align: right;\n",
       "    }\n",
       "</style>\n",
       "<table border=\"1\" class=\"dataframe\">\n",
       "  <thead>\n",
       "    <tr style=\"text-align: right;\">\n",
       "      <th></th>\n",
       "      <th>Date</th>\n",
       "      <th>Ross</th>\n",
       "      <th>Chandler</th>\n",
       "      <th>BT1</th>\n",
       "      <th>BT2</th>\n",
       "      <th>BT3</th>\n",
       "      <th>BT4</th>\n",
       "      <th>BT5</th>\n",
       "      <th>GR1</th>\n",
       "      <th>GR2</th>\n",
       "      <th>...</th>\n",
       "      <th>GroupFeed</th>\n",
       "      <th>Varied_Target</th>\n",
       "      <th>All_GR</th>\n",
       "      <th>All_BT</th>\n",
       "      <th>All_SS</th>\n",
       "      <th>male</th>\n",
       "      <th>female</th>\n",
       "      <th>Day_of_week</th>\n",
       "      <th>Month</th>\n",
       "      <th>Day</th>\n",
       "    </tr>\n",
       "  </thead>\n",
       "  <tbody>\n",
       "    <tr>\n",
       "      <th>0</th>\n",
       "      <td>2017-12-05</td>\n",
       "      <td>3.0</td>\n",
       "      <td>0.0</td>\n",
       "      <td>4.0</td>\n",
       "      <td>3.0</td>\n",
       "      <td>0.0</td>\n",
       "      <td>2.0</td>\n",
       "      <td>2.0</td>\n",
       "      <td>1.0</td>\n",
       "      <td>1.0</td>\n",
       "      <td>...</td>\n",
       "      <td>1</td>\n",
       "      <td>0</td>\n",
       "      <td>8.0</td>\n",
       "      <td>11.0</td>\n",
       "      <td>3.0</td>\n",
       "      <td>10.0</td>\n",
       "      <td>12.0</td>\n",
       "      <td>1</td>\n",
       "      <td>12</td>\n",
       "      <td>5</td>\n",
       "    </tr>\n",
       "    <tr>\n",
       "      <th>1</th>\n",
       "      <td>2017-12-07</td>\n",
       "      <td>4.0</td>\n",
       "      <td>5.0</td>\n",
       "      <td>2.0</td>\n",
       "      <td>2.0</td>\n",
       "      <td>5.0</td>\n",
       "      <td>3.0</td>\n",
       "      <td>5.0</td>\n",
       "      <td>0.0</td>\n",
       "      <td>0.0</td>\n",
       "      <td>...</td>\n",
       "      <td>1</td>\n",
       "      <td>0</td>\n",
       "      <td>4.0</td>\n",
       "      <td>17.0</td>\n",
       "      <td>9.0</td>\n",
       "      <td>16.0</td>\n",
       "      <td>14.0</td>\n",
       "      <td>3</td>\n",
       "      <td>12</td>\n",
       "      <td>7</td>\n",
       "    </tr>\n",
       "    <tr>\n",
       "      <th>2</th>\n",
       "      <td>2017-12-09</td>\n",
       "      <td>NaN</td>\n",
       "      <td>NaN</td>\n",
       "      <td>NaN</td>\n",
       "      <td>NaN</td>\n",
       "      <td>NaN</td>\n",
       "      <td>NaN</td>\n",
       "      <td>NaN</td>\n",
       "      <td>1.0</td>\n",
       "      <td>3.0</td>\n",
       "      <td>...</td>\n",
       "      <td>0</td>\n",
       "      <td>0</td>\n",
       "      <td>8.0</td>\n",
       "      <td>NaN</td>\n",
       "      <td>NaN</td>\n",
       "      <td>1.0</td>\n",
       "      <td>7.0</td>\n",
       "      <td>5</td>\n",
       "      <td>12</td>\n",
       "      <td>9</td>\n",
       "    </tr>\n",
       "    <tr>\n",
       "      <th>3</th>\n",
       "      <td>2017-12-10</td>\n",
       "      <td>4.0</td>\n",
       "      <td>7.0</td>\n",
       "      <td>0.0</td>\n",
       "      <td>2.0</td>\n",
       "      <td>2.0</td>\n",
       "      <td>0.0</td>\n",
       "      <td>0.0</td>\n",
       "      <td>NaN</td>\n",
       "      <td>NaN</td>\n",
       "      <td>...</td>\n",
       "      <td>0</td>\n",
       "      <td>0</td>\n",
       "      <td>NaN</td>\n",
       "      <td>4.0</td>\n",
       "      <td>11.0</td>\n",
       "      <td>11.0</td>\n",
       "      <td>4.0</td>\n",
       "      <td>6</td>\n",
       "      <td>12</td>\n",
       "      <td>10</td>\n",
       "    </tr>\n",
       "    <tr>\n",
       "      <th>4</th>\n",
       "      <td>2017-12-12</td>\n",
       "      <td>3.0</td>\n",
       "      <td>1.0</td>\n",
       "      <td>3.0</td>\n",
       "      <td>2.0</td>\n",
       "      <td>4.0</td>\n",
       "      <td>1.0</td>\n",
       "      <td>1.0</td>\n",
       "      <td>1.0</td>\n",
       "      <td>1.0</td>\n",
       "      <td>...</td>\n",
       "      <td>1</td>\n",
       "      <td>0</td>\n",
       "      <td>11.0</td>\n",
       "      <td>11.0</td>\n",
       "      <td>4.0</td>\n",
       "      <td>9.0</td>\n",
       "      <td>17.0</td>\n",
       "      <td>1</td>\n",
       "      <td>12</td>\n",
       "      <td>12</td>\n",
       "    </tr>\n",
       "  </tbody>\n",
       "</table>\n",
       "<p>5 rows × 41 columns</p>\n",
       "</div>"
      ],
      "text/plain": [
       "        Date  Ross  Chandler  BT1  BT2  BT3  BT4  BT5  GR1  GR2  ...  \\\n",
       "0 2017-12-05   3.0       0.0  4.0  3.0  0.0  2.0  2.0  1.0  1.0  ...   \n",
       "1 2017-12-07   4.0       5.0  2.0  2.0  5.0  3.0  5.0  0.0  0.0  ...   \n",
       "2 2017-12-09   NaN       NaN  NaN  NaN  NaN  NaN  NaN  1.0  3.0  ...   \n",
       "3 2017-12-10   4.0       7.0  0.0  2.0  2.0  0.0  0.0  NaN  NaN  ...   \n",
       "4 2017-12-12   3.0       1.0  3.0  2.0  4.0  1.0  1.0  1.0  1.0  ...   \n",
       "\n",
       "   GroupFeed  Varied_Target  All_GR  All_BT  All_SS  male  female  \\\n",
       "0          1              0     8.0    11.0     3.0  10.0    12.0   \n",
       "1          1              0     4.0    17.0     9.0  16.0    14.0   \n",
       "2          0              0     8.0     NaN     NaN   1.0     7.0   \n",
       "3          0              0     NaN     4.0    11.0  11.0     4.0   \n",
       "4          1              0    11.0    11.0     4.0   9.0    17.0   \n",
       "\n",
       "   Day_of_week  Month  Day  \n",
       "0            1     12    5  \n",
       "1            3     12    7  \n",
       "2            5     12    9  \n",
       "3            6     12   10  \n",
       "4            1     12   12  \n",
       "\n",
       "[5 rows x 41 columns]"
      ]
     },
     "execution_count": 434,
     "metadata": {},
     "output_type": "execute_result"
    }
   ],
   "source": [
    "# create additional time variables for Targeting\n",
    "targets_concat['Date'] = pd.to_datetime(targets_concat['Date'])\n",
    "targets_concat['Day_of_week'] = pd.to_datetime(targets_concat['Date']).dt.dayofweek\n",
    "targets_concat['Month'] = pd.to_datetime(targets_concat['Date']).dt.month\n",
    "targets_concat['Day'] = pd.to_datetime(targets_concat['Date']).dt.day\n",
    "targets_concat.head()"
   ]
  },
  {
   "cell_type": "code",
   "execution_count": 435,
   "metadata": {},
   "outputs": [
    {
     "name": "stdout",
     "output_type": "stream",
     "text": [
      "Training data set length=455\n",
      "Testing data set length=127\n"
     ]
    }
   ],
   "source": [
    "# Create training and testing datasets\n",
    "mask = np.random.rand(len(targets_concat)) < 0.8\n",
    "targets_train = targets_concat[mask]\n",
    "targets_test = targets_concat[~mask]\n",
    "print('Training data set length='+str(len(targets_train)))\n",
    "print('Testing data set length='+str(len(targets_test)))"
   ]
  },
  {
   "cell_type": "code",
   "execution_count": 436,
   "metadata": {},
   "outputs": [],
   "source": [
    "y_train, X_train = dmatrices(expr, targets_train, return_type='dataframe')\n",
    "y_test, X_test = dmatrices(expr, targets_test, return_type='dataframe')"
   ]
  },
  {
   "cell_type": "code",
   "execution_count": 437,
   "metadata": {},
   "outputs": [
    {
     "name": "stdout",
     "output_type": "stream",
     "text": [
      "                 Generalized Linear Model Regression Results                  \n",
      "==============================================================================\n",
      "Dep. Variable:                  Total   No. Observations:                  455\n",
      "Model:                            GLM   Df Residuals:                      432\n",
      "Model Family:                 Poisson   Df Model:                           22\n",
      "Link Function:                    log   Scale:                          1.0000\n",
      "Method:                          IRLS   Log-Likelihood:                -3210.4\n",
      "Date:                Mon, 07 Dec 2020   Deviance:                       3830.7\n",
      "Time:                        19:13:12   Pearson chi2:                 3.96e+03\n",
      "No. Iterations:                     5                                         \n",
      "Covariance Type:            nonrobust                                         \n",
      "===================================================================================\n",
      "                      coef    std err          z      P>|z|      [0.025      0.975]\n",
      "-----------------------------------------------------------------------------------\n",
      "Intercept           3.2639      0.354      9.222      0.000       2.570       3.958\n",
      "Day_of_week         0.0953      0.011      8.314      0.000       0.073       0.118\n",
      "Month              -0.0021      0.002     -1.019      0.308      -0.006       0.002\n",
      "Day                 0.0023      0.001      3.160      0.002       0.001       0.004\n",
      "Temperature        -0.0117      0.005     -2.445      0.014      -0.021      -0.002\n",
      "Saury               0.6394      0.045     14.340      0.000       0.552       0.727\n",
      "Blue_Runner         0.3803      0.044      8.688      0.000       0.295       0.466\n",
      "Squid               0.1858      0.026      7.259      0.000       0.136       0.236\n",
      "Mackerel            0.1509      0.035      4.273      0.000       0.082       0.220\n",
      "Herring            -0.0165      0.037     -0.452      0.651      -0.088       0.055\n",
      "Sardine             0.5565      0.034     16.161      0.000       0.489       0.624\n",
      "Mazuri_Vitamins    -0.0351      0.021     -1.643      0.100      -0.077       0.007\n",
      "Garlic              0.0413      0.020      2.101      0.036       0.003       0.080\n",
      "Salmon             -0.1560      0.023     -6.682      0.000      -0.202      -0.110\n",
      "Bonito              0.1613      0.045      3.615      0.000       0.074       0.249\n",
      "Bluefish            0.1362      0.050      2.729      0.006       0.038       0.234\n",
      "Mahi               -0.0723      0.047     -1.535      0.125      -0.165       0.020\n",
      "Goggle_Eye         -0.1532      0.089     -1.722      0.085      -0.328       0.021\n",
      "Humbolt_Squid       0.5095      0.072      7.073      0.000       0.368       0.651\n",
      "covid              -0.2561      0.034     -7.571      0.000      -0.322      -0.190\n",
      "light_training      0.3935      0.036     10.959      0.000       0.323       0.464\n",
      "GroupFeed           0.6427      0.046     14.073      0.000       0.553       0.732\n",
      "Varied_Target       0.0287      0.022      1.289      0.197      -0.015       0.072\n",
      "===================================================================================\n"
     ]
    }
   ],
   "source": [
    "# Fit model and print results of model\n",
    "poisson_training_results = sm.GLM(y_train, X_train, family=sm.families.Poisson()).fit()\n",
    "print(poisson_training_results.summary())"
   ]
  },
  {
   "cell_type": "markdown",
   "metadata": {},
   "source": [
    "Month, Temperature, Mackerel, Herring, Sardine, Mazuri Vitamins, garlic, salmon, bonito, goggle eye, humbolt squid, light training, spring, and group feeding were all significant predictors for number of targets for all sharks"
   ]
  },
  {
   "cell_type": "markdown",
   "metadata": {},
   "source": [
    "# Poisson Regression Across Different Species of Sharks"
   ]
  },
  {
   "cell_type": "markdown",
   "metadata": {},
   "source": [
    "# Sandbar Sharks"
   ]
  },
  {
   "cell_type": "code",
   "execution_count": 438,
   "metadata": {},
   "outputs": [],
   "source": [
    "expr = \"\"\"All_SS ~ Day_of_week + Month + Day + Temperature + Saury + Blue_Runner + \n",
    "Squid + Mackerel + Herring + Sardine + Mazuri_Vitamins + Garlic + Salmon + Bonito + Bluefish +\n",
    "Mahi + Goggle_Eye + Humbolt_Squid + covid + light_training + GroupFeed + Varied_Target\"\"\""
   ]
  },
  {
   "cell_type": "code",
   "execution_count": 439,
   "metadata": {},
   "outputs": [],
   "source": [
    "eat_concatSS = eat_concat[eat_concat['All_SS'].notna()]"
   ]
  },
  {
   "cell_type": "code",
   "execution_count": 440,
   "metadata": {},
   "outputs": [
    {
     "name": "stdout",
     "output_type": "stream",
     "text": [
      "Training data set length=346\n",
      "Testing data set length=93\n"
     ]
    }
   ],
   "source": [
    "# Create training and testing datasets\n",
    "mask = np.random.rand(len(eat_concatSS)) < 0.8\n",
    "eat_train = eat_concatSS[mask]\n",
    "eat_test = eat_concatSS[~mask]\n",
    "print('Training data set length='+str(len(eat_train)))\n",
    "print('Testing data set length='+str(len(eat_test)))"
   ]
  },
  {
   "cell_type": "markdown",
   "metadata": {},
   "source": [
    "Eating:"
   ]
  },
  {
   "cell_type": "code",
   "execution_count": 441,
   "metadata": {},
   "outputs": [],
   "source": [
    "y_train, X_train = dmatrices(expr, eat_train, return_type='dataframe')\n",
    "y_test, X_test = dmatrices(expr, eat_test, return_type='dataframe')"
   ]
  },
  {
   "cell_type": "code",
   "execution_count": 442,
   "metadata": {},
   "outputs": [
    {
     "name": "stdout",
     "output_type": "stream",
     "text": [
      "                 Generalized Linear Model Regression Results                  \n",
      "==============================================================================\n",
      "Dep. Variable:                 All_SS   No. Observations:                  346\n",
      "Model:                            GLM   Df Residuals:                      323\n",
      "Model Family:                 Poisson   Df Model:                           22\n",
      "Link Function:                    log   Scale:                          1.0000\n",
      "Method:                          IRLS   Log-Likelihood:                -942.76\n",
      "Date:                Mon, 07 Dec 2020   Deviance:                       697.67\n",
      "Time:                        19:13:12   Pearson chi2:                     643.\n",
      "No. Iterations:                     5                                         \n",
      "Covariance Type:            nonrobust                                         \n",
      "===================================================================================\n",
      "                      coef    std err          z      P>|z|      [0.025      0.975]\n",
      "-----------------------------------------------------------------------------------\n",
      "Intercept           0.7946      1.189      0.668      0.504      -1.536       3.126\n",
      "Day_of_week        -0.0082      0.028     -0.290      0.772      -0.064       0.047\n",
      "Month               0.0048      0.007      0.679      0.497      -0.009       0.019\n",
      "Day                -0.0005      0.003     -0.195      0.846      -0.005       0.004\n",
      "Temperature         0.0083      0.016      0.521      0.602      -0.023       0.040\n",
      "Saury               0.0407      0.159      0.256      0.798      -0.271       0.352\n",
      "Blue_Runner         0.1610      0.150      1.073      0.283      -0.133       0.455\n",
      "Squid              -0.1822      0.091     -1.995      0.046      -0.361      -0.003\n",
      "Mackerel            0.1666      0.127      1.315      0.188      -0.082       0.415\n",
      "Herring             0.5351      0.132      4.056      0.000       0.276       0.794\n",
      "Sardine             0.2691      0.126      2.134      0.033       0.022       0.516\n",
      "Mazuri_Vitamins     0.1240      0.076      1.634      0.102      -0.025       0.273\n",
      "Garlic              0.2172      0.072      3.005      0.003       0.076       0.359\n",
      "Salmon             -0.1820      0.092     -1.969      0.049      -0.363      -0.001\n",
      "Bonito              0.4878      0.133      3.663      0.000       0.227       0.749\n",
      "Bluefish           -0.6364      0.248     -2.571      0.010      -1.121      -0.151\n",
      "Mahi               -0.0233      0.181     -0.129      0.898      -0.378       0.332\n",
      "Goggle_Eye          0.5942      0.372      1.597      0.110      -0.135       1.323\n",
      "Humbolt_Squid       0.1053      0.265      0.397      0.691      -0.415       0.625\n",
      "covid              -0.2174      0.110     -1.981      0.048      -0.433      -0.002\n",
      "light_training      0.1261      0.113      1.114      0.265      -0.096       0.348\n",
      "GroupFeed          -0.1778      0.154     -1.152      0.249      -0.480       0.125\n",
      "Varied_Target      -0.0120      0.076     -0.159      0.874      -0.160       0.136\n",
      "===================================================================================\n"
     ]
    }
   ],
   "source": [
    "# Fit model and print results of model\n",
    "poisson_training_results = sm.GLM(y_train, X_train, family=sm.families.Poisson()).fit()\n",
    "print(poisson_training_results.summary())"
   ]
  },
  {
   "cell_type": "markdown",
   "metadata": {},
   "source": [
    "Temperature, Bonito, Bluefish, BT_SB_Location,covid, light training, summer,spring, and Group feeding were all significant predictors for the number of fish eaten for Sandbars\n",
    "\n",
    "Dropping:"
   ]
  },
  {
   "cell_type": "code",
   "execution_count": 443,
   "metadata": {},
   "outputs": [],
   "source": [
    "drops_concatSS = drops_concat[drops_concat['All_SS'].notna()]"
   ]
  },
  {
   "cell_type": "code",
   "execution_count": 444,
   "metadata": {},
   "outputs": [
    {
     "name": "stdout",
     "output_type": "stream",
     "text": [
      "Training data set length=349\n",
      "Testing data set length=89\n"
     ]
    }
   ],
   "source": [
    "# Create training and testing datasets\n",
    "mask = np.random.rand(len(drops_concatSS)) < 0.8\n",
    "drops_train = drops_concatSS[mask]\n",
    "drops_test = drops_concatSS[~mask]\n",
    "print('Training data set length='+str(len(drops_train)))\n",
    "print('Testing data set length='+str(len(drops_test)))"
   ]
  },
  {
   "cell_type": "code",
   "execution_count": 445,
   "metadata": {},
   "outputs": [],
   "source": [
    "y_train, X_train = dmatrices(expr, drops_train, return_type='dataframe')\n",
    "y_test, X_test = dmatrices(expr, drops_test, return_type='dataframe')"
   ]
  },
  {
   "cell_type": "code",
   "execution_count": 446,
   "metadata": {},
   "outputs": [
    {
     "name": "stdout",
     "output_type": "stream",
     "text": [
      "                 Generalized Linear Model Regression Results                  \n",
      "==============================================================================\n",
      "Dep. Variable:                 All_SS   No. Observations:                  349\n",
      "Model:                            GLM   Df Residuals:                      326\n",
      "Model Family:                 Poisson   Df Model:                           22\n",
      "Link Function:                    log   Scale:                          1.0000\n",
      "Method:                          IRLS   Log-Likelihood:                -278.04\n",
      "Date:                Mon, 07 Dec 2020   Deviance:                       337.01\n",
      "Time:                        19:13:13   Pearson chi2:                     439.\n",
      "No. Iterations:                     6                                         \n",
      "Covariance Type:            nonrobust                                         \n",
      "===================================================================================\n",
      "                      coef    std err          z      P>|z|      [0.025      0.975]\n",
      "-----------------------------------------------------------------------------------\n",
      "Intercept           7.5497      5.066      1.490      0.136      -2.380      17.479\n",
      "Day_of_week        -0.1593      0.094     -1.689      0.091      -0.344       0.026\n",
      "Month               0.0050      0.027      0.187      0.852      -0.047       0.057\n",
      "Day                 0.0014      0.010      0.131      0.896      -0.019       0.022\n",
      "Temperature        -0.1097      0.069     -1.594      0.111      -0.245       0.025\n",
      "Saury               0.3202      0.616      0.520      0.603      -0.886       1.527\n",
      "Blue_Runner         1.3513      0.604      2.238      0.025       0.168       2.535\n",
      "Squid              -0.5147      0.308     -1.674      0.094      -1.117       0.088\n",
      "Mackerel            0.9549      0.563      1.695      0.090      -0.149       2.059\n",
      "Herring            -0.5254      0.767     -0.685      0.493      -2.029       0.978\n",
      "Sardine            -0.0868      0.596     -0.146      0.884      -1.254       1.081\n",
      "Mazuri_Vitamins     0.2046      0.294      0.696      0.486      -0.372       0.781\n",
      "Garlic             -0.1949      0.264     -0.738      0.460      -0.712       0.322\n",
      "Salmon             -0.8835      0.473     -1.866      0.062      -1.811       0.045\n",
      "Bonito              0.1389      0.630      0.220      0.826      -1.096       1.374\n",
      "Bluefish           -0.3693      0.738     -0.500      0.617      -1.816       1.077\n",
      "Mahi               -0.2403      0.744     -0.323      0.747      -1.698       1.217\n",
      "Goggle_Eye          0.5654      0.648      0.872      0.383      -0.705       1.836\n",
      "Humbolt_Squid       0.0520      1.210      0.043      0.966      -2.320       2.424\n",
      "covid               0.3113      0.379      0.820      0.412      -0.432       1.055\n",
      "light_training      0.4749      0.376      1.263      0.206      -0.262       1.212\n",
      "GroupFeed          -0.4719      0.729     -0.647      0.517      -1.900       0.957\n",
      "Varied_Target      -0.7269      0.267     -2.726      0.006      -1.250      -0.204\n",
      "===================================================================================\n"
     ]
    }
   ],
   "source": [
    "# Fit model and print results of model\n",
    "poisson_training_results = sm.GLM(y_train, X_train, family=sm.families.Poisson()).fit()\n",
    "print(poisson_training_results.summary())"
   ]
  },
  {
   "cell_type": "markdown",
   "metadata": {},
   "source": [
    "there were no significant predictors for the number of drops for the Sandbar sharks\n",
    "\n",
    "Targets:"
   ]
  },
  {
   "cell_type": "code",
   "execution_count": 447,
   "metadata": {},
   "outputs": [],
   "source": [
    "targets_concatSS = targets_concat[targets_concat['All_SS'].notna()]"
   ]
  },
  {
   "cell_type": "code",
   "execution_count": 448,
   "metadata": {},
   "outputs": [
    {
     "name": "stdout",
     "output_type": "stream",
     "text": [
      "Training data set length=353\n",
      "Testing data set length=84\n"
     ]
    }
   ],
   "source": [
    "# Create training and testing datasets\n",
    "mask = np.random.rand(len(targets_concatSS)) < 0.8\n",
    "targets_train = targets_concatSS[mask]\n",
    "targets_test = targets_concatSS[~mask]\n",
    "print('Training data set length='+str(len(targets_train)))\n",
    "print('Testing data set length='+str(len(targets_test)))"
   ]
  },
  {
   "cell_type": "code",
   "execution_count": 449,
   "metadata": {},
   "outputs": [],
   "source": [
    "y_train, X_train = dmatrices(expr, targets_train, return_type='dataframe')\n",
    "y_test, X_test = dmatrices(expr, targets_test, return_type='dataframe')"
   ]
  },
  {
   "cell_type": "code",
   "execution_count": 450,
   "metadata": {},
   "outputs": [
    {
     "name": "stdout",
     "output_type": "stream",
     "text": [
      "                 Generalized Linear Model Regression Results                  \n",
      "==============================================================================\n",
      "Dep. Variable:                 All_SS   No. Observations:                  353\n",
      "Model:                            GLM   Df Residuals:                      330\n",
      "Model Family:                 Poisson   Df Model:                           22\n",
      "Link Function:                    log   Scale:                          1.0000\n",
      "Method:                          IRLS   Log-Likelihood:                -1525.3\n",
      "Date:                Mon, 07 Dec 2020   Deviance:                       1433.6\n",
      "Time:                        19:13:13   Pearson chi2:                 1.40e+03\n",
      "No. Iterations:                     4                                         \n",
      "Covariance Type:            nonrobust                                         \n",
      "===================================================================================\n",
      "                      coef    std err          z      P>|z|      [0.025      0.975]\n",
      "-----------------------------------------------------------------------------------\n",
      "Intercept           3.1020      0.725      4.277      0.000       1.681       4.523\n",
      "Day_of_week         0.0511      0.025      2.035      0.042       0.002       0.100\n",
      "Month              -0.0052      0.004     -1.231      0.218      -0.013       0.003\n",
      "Day                 0.0051      0.001      3.596      0.000       0.002       0.008\n",
      "Temperature        -0.0115      0.010     -1.199      0.231      -0.030       0.007\n",
      "Saury               0.2113      0.092      2.306      0.021       0.032       0.391\n",
      "Blue_Runner         0.1644      0.087      1.889      0.059      -0.006       0.335\n",
      "Squid              -0.0012      0.054     -0.022      0.982      -0.108       0.106\n",
      "Mackerel           -0.0729      0.073     -0.995      0.320      -0.216       0.071\n",
      "Herring             0.2444      0.074      3.283      0.001       0.098       0.390\n",
      "Sardine             0.2528      0.076      3.348      0.001       0.105       0.401\n",
      "Mazuri_Vitamins    -0.0658      0.044     -1.495      0.135      -0.152       0.020\n",
      "Garlic             -0.0485      0.042     -1.157      0.247      -0.131       0.034\n",
      "Salmon             -0.2922      0.053     -5.513      0.000      -0.396      -0.188\n",
      "Bonito              0.0282      0.097      0.289      0.772      -0.163       0.219\n",
      "Bluefish           -0.2336      0.103     -2.273      0.023      -0.435      -0.032\n",
      "Mahi                0.0879      0.088      0.994      0.320      -0.085       0.261\n",
      "Goggle_Eye          0.3901      0.155      2.513      0.012       0.086       0.694\n",
      "Humbolt_Squid       0.6447      0.148      4.347      0.000       0.354       0.935\n",
      "covid              -0.3657      0.068     -5.375      0.000      -0.499      -0.232\n",
      "light_training      0.5785      0.069      8.364      0.000       0.443       0.714\n",
      "GroupFeed          -0.1078      0.103     -1.045      0.296      -0.310       0.094\n",
      "Varied_Target      -0.1361      0.042     -3.279      0.001      -0.217      -0.055\n",
      "===================================================================================\n"
     ]
    }
   ],
   "source": [
    "# Fit model and print results of model\n",
    "poisson_training_results = sm.GLM(y_train, X_train, family=sm.families.Poisson()).fit()\n",
    "print(poisson_training_results.summary())"
   ]
  },
  {
   "cell_type": "markdown",
   "metadata": {},
   "source": [
    "Temperature, Saury, Sardine, Mazuri Vitamins, Garlic, Salmon, Bluefish, Goggle Eye, BT_SB_Location, light training, and group feeding were all significant predictors for number of targets for sandbar sharks"
   ]
  },
  {
   "cell_type": "markdown",
   "metadata": {},
   "source": [
    "# Blacktip Sharks"
   ]
  },
  {
   "cell_type": "markdown",
   "metadata": {},
   "source": [
    "Eating:"
   ]
  },
  {
   "cell_type": "code",
   "execution_count": 451,
   "metadata": {},
   "outputs": [],
   "source": [
    "expr = \"\"\"All_BT ~ Day_of_week + Month + Day + Temperature + Saury + Blue_Runner + \n",
    "Squid + Mackerel + Herring + Sardine + Mazuri_Vitamins + Garlic + Salmon + Bonito + Bluefish +\n",
    "Mahi + Goggle_Eye + Humbolt_Squid + covid + light_training + GroupFeed + Varied_Target\"\"\""
   ]
  },
  {
   "cell_type": "code",
   "execution_count": 452,
   "metadata": {},
   "outputs": [],
   "source": [
    "eat_concatBT = eat_concat[eat_concat['All_BT'].notna()]"
   ]
  },
  {
   "cell_type": "code",
   "execution_count": 453,
   "metadata": {},
   "outputs": [
    {
     "name": "stdout",
     "output_type": "stream",
     "text": [
      "Training data set length=350\n",
      "Testing data set length=86\n"
     ]
    }
   ],
   "source": [
    "# Create training and testing datasets\n",
    "mask = np.random.rand(len(eat_concatBT)) < 0.8\n",
    "eat_train = eat_concatBT[mask]\n",
    "eat_test = eat_concatBT[~mask]\n",
    "print('Training data set length='+str(len(eat_train)))\n",
    "print('Testing data set length='+str(len(eat_test)))"
   ]
  },
  {
   "cell_type": "code",
   "execution_count": 454,
   "metadata": {},
   "outputs": [],
   "source": [
    "y_train, X_train = dmatrices(expr, eat_train, return_type='dataframe')\n",
    "y_test, X_test = dmatrices(expr, eat_test, return_type='dataframe')"
   ]
  },
  {
   "cell_type": "code",
   "execution_count": 455,
   "metadata": {},
   "outputs": [
    {
     "name": "stdout",
     "output_type": "stream",
     "text": [
      "                 Generalized Linear Model Regression Results                  \n",
      "==============================================================================\n",
      "Dep. Variable:                 All_BT   No. Observations:                  350\n",
      "Model:                            GLM   Df Residuals:                      327\n",
      "Model Family:                 Poisson   Df Model:                           22\n",
      "Link Function:                    log   Scale:                          1.0000\n",
      "Method:                          IRLS   Log-Likelihood:                -1139.0\n",
      "Date:                Mon, 07 Dec 2020   Deviance:                       781.37\n",
      "Time:                        19:13:13   Pearson chi2:                     781.\n",
      "No. Iterations:                     4                                         \n",
      "Covariance Type:            nonrobust                                         \n",
      "===================================================================================\n",
      "                      coef    std err          z      P>|z|      [0.025      0.975]\n",
      "-----------------------------------------------------------------------------------\n",
      "Intercept          -1.1976      0.836     -1.433      0.152      -2.836       0.441\n",
      "Day_of_week         0.0077      0.025      0.307      0.759      -0.041       0.057\n",
      "Month               0.0039      0.005      0.803      0.422      -0.006       0.014\n",
      "Day                -0.0018      0.002     -1.005      0.315      -0.005       0.002\n",
      "Temperature         0.0503      0.011      4.491      0.000       0.028       0.072\n",
      "Saury               0.1751      0.105      1.672      0.094      -0.030       0.380\n",
      "Blue_Runner         0.1301      0.096      1.353      0.176      -0.058       0.319\n",
      "Squid               0.1365      0.060      2.264      0.024       0.018       0.255\n",
      "Mackerel           -0.3845      0.091     -4.244      0.000      -0.562      -0.207\n",
      "Herring            -0.0588      0.108     -0.543      0.587      -0.271       0.153\n",
      "Sardine            -0.0063      0.094     -0.067      0.947      -0.192       0.179\n",
      "Mazuri_Vitamins     0.1137      0.052      2.179      0.029       0.011       0.216\n",
      "Garlic             -0.0970      0.052     -1.878      0.060      -0.198       0.004\n",
      "Salmon             -0.0997      0.052     -1.913      0.056      -0.202       0.002\n",
      "Bonito             -0.2062      0.100     -2.062      0.039      -0.402      -0.010\n",
      "Bluefish           -0.1499      0.116     -1.296      0.195      -0.377       0.077\n",
      "Mahi                0.0403      0.111      0.362      0.717      -0.178       0.258\n",
      "Goggle_Eye          0.0118      0.190      0.062      0.951      -0.361       0.384\n",
      "Humbolt_Squid       0.1166      0.239      0.487      0.626      -0.352       0.586\n",
      "covid              -0.0199      0.075     -0.266      0.790      -0.166       0.127\n",
      "light_training     -0.0522      0.092     -0.567      0.571      -0.233       0.128\n",
      "GroupFeed          -0.3464      0.131     -2.635      0.008      -0.604      -0.089\n",
      "Varied_Target       0.3226      0.063      5.089      0.000       0.198       0.447\n",
      "===================================================================================\n"
     ]
    }
   ],
   "source": [
    "# Fit model and print results of model\n",
    "poisson_training_results = sm.GLM(y_train, X_train, family=sm.families.Poisson()).fit()\n",
    "print(poisson_training_results.summary())"
   ]
  },
  {
   "cell_type": "markdown",
   "metadata": {},
   "source": [
    "Day of Week, Temperature, Blue Runner, Mackerel, Bonito, BT_SB_Location, light training, spring, and Group feeding were all significant predictors for pieces eaten for Black Tips\n",
    "\n",
    "Dropping:"
   ]
  },
  {
   "cell_type": "code",
   "execution_count": 456,
   "metadata": {},
   "outputs": [],
   "source": [
    "drops_concatBT = drops_concat[drops_concat['All_BT'].notna()]"
   ]
  },
  {
   "cell_type": "code",
   "execution_count": 457,
   "metadata": {},
   "outputs": [
    {
     "name": "stdout",
     "output_type": "stream",
     "text": [
      "Training data set length=344\n",
      "Testing data set length=92\n"
     ]
    }
   ],
   "source": [
    "# Create training and testing datasets\n",
    "mask = np.random.rand(len(drops_concatBT)) < 0.8\n",
    "drops_train = drops_concatBT[mask]\n",
    "drops_test = drops_concatBT[~mask]\n",
    "print('Training data set length='+str(len(drops_train)))\n",
    "print('Testing data set length='+str(len(drops_test)))"
   ]
  },
  {
   "cell_type": "code",
   "execution_count": 458,
   "metadata": {},
   "outputs": [],
   "source": [
    "y_train, X_train = dmatrices(expr, drops_train, return_type='dataframe')\n",
    "y_test, X_test = dmatrices(expr, drops_test, return_type='dataframe')"
   ]
  },
  {
   "cell_type": "code",
   "execution_count": 459,
   "metadata": {},
   "outputs": [
    {
     "name": "stdout",
     "output_type": "stream",
     "text": [
      "                 Generalized Linear Model Regression Results                  \n",
      "==============================================================================\n",
      "Dep. Variable:                 All_BT   No. Observations:                  344\n",
      "Model:                            GLM   Df Residuals:                      321\n",
      "Model Family:                 Poisson   Df Model:                           22\n",
      "Link Function:                    log   Scale:                          1.0000\n",
      "Method:                          IRLS   Log-Likelihood:                -729.19\n",
      "Date:                Mon, 07 Dec 2020   Deviance:                       518.00\n",
      "Time:                        19:13:14   Pearson chi2:                     519.\n",
      "No. Iterations:                     5                                         \n",
      "Covariance Type:            nonrobust                                         \n",
      "===================================================================================\n",
      "                      coef    std err          z      P>|z|      [0.025      0.975]\n",
      "-----------------------------------------------------------------------------------\n",
      "Intercept           7.3874      1.730      4.271      0.000       3.997      10.777\n",
      "Day_of_week        -0.0564      0.050     -1.129      0.259      -0.154       0.041\n",
      "Month               0.0089      0.010      0.937      0.349      -0.010       0.028\n",
      "Day                -0.0010      0.004     -0.275      0.783      -0.008       0.006\n",
      "Temperature        -0.0714      0.023     -3.077      0.002      -0.117      -0.026\n",
      "Saury              -0.3226      0.201     -1.604      0.109      -0.717       0.071\n",
      "Blue_Runner         0.0266      0.193      0.137      0.891      -0.352       0.405\n",
      "Squid               0.0419      0.121      0.345      0.730      -0.196       0.280\n",
      "Mackerel           -0.2561      0.169     -1.512      0.130      -0.588       0.076\n",
      "Herring             0.2508      0.182      1.381      0.167      -0.105       0.607\n",
      "Sardine            -0.0934      0.192     -0.486      0.627      -0.470       0.283\n",
      "Mazuri_Vitamins     0.2357      0.101      2.323      0.020       0.037       0.435\n",
      "Garlic             -0.3524      0.093     -3.779      0.000      -0.535      -0.170\n",
      "Salmon             -0.1074      0.122     -0.883      0.377      -0.346       0.131\n",
      "Bonito             -0.3359      0.256     -1.311      0.190      -0.838       0.166\n",
      "Bluefish           -0.0221      0.264     -0.084      0.933      -0.539       0.495\n",
      "Mahi                0.6530      0.212      3.087      0.002       0.238       1.068\n",
      "Goggle_Eye         -0.4327      0.402     -1.076      0.282      -1.221       0.355\n",
      "Humbolt_Squid      -1.4263      0.742     -1.921      0.055      -2.881       0.029\n",
      "covid               0.4267      0.134      3.173      0.002       0.163       0.690\n",
      "light_training     -0.0130      0.150     -0.087      0.931      -0.308       0.281\n",
      "GroupFeed          -0.4503      0.250     -1.800      0.072      -0.941       0.040\n",
      "Varied_Target      -0.1132      0.110     -1.031      0.303      -0.328       0.102\n",
      "===================================================================================\n"
     ]
    }
   ],
   "source": [
    "# Fit model and print results of model\n",
    "poisson_training_results = sm.GLM(y_train, X_train, family=sm.families.Poisson()).fit()\n",
    "print(poisson_training_results.summary())"
   ]
  },
  {
   "cell_type": "markdown",
   "metadata": {},
   "source": [
    "Day of week, Day of month, Blue runner, Herring, Garlic, covid, and light training were all significant predictors for the number of drops for Black Tips.\n",
    "\n",
    "Targeting:"
   ]
  },
  {
   "cell_type": "code",
   "execution_count": 460,
   "metadata": {},
   "outputs": [],
   "source": [
    "targets_concatBT = targets_concat[targets_concat['All_BT'].notna()]"
   ]
  },
  {
   "cell_type": "code",
   "execution_count": 461,
   "metadata": {},
   "outputs": [
    {
     "name": "stdout",
     "output_type": "stream",
     "text": [
      "Training data set length=348\n",
      "Testing data set length=89\n"
     ]
    }
   ],
   "source": [
    "# Create training and testing datasets\n",
    "mask = np.random.rand(len(targets_concatBT)) < 0.8\n",
    "targets_train = targets_concatBT[mask]\n",
    "targets_test = targets_concatBT[~mask]\n",
    "print('Training data set length='+str(len(targets_train)))\n",
    "print('Testing data set length='+str(len(targets_test)))"
   ]
  },
  {
   "cell_type": "code",
   "execution_count": 462,
   "metadata": {},
   "outputs": [],
   "source": [
    "y_train, X_train = dmatrices(expr, targets_train, return_type='dataframe')\n",
    "y_test, X_test = dmatrices(expr, targets_test, return_type='dataframe')"
   ]
  },
  {
   "cell_type": "code",
   "execution_count": 463,
   "metadata": {},
   "outputs": [
    {
     "name": "stdout",
     "output_type": "stream",
     "text": [
      "                 Generalized Linear Model Regression Results                  \n",
      "==============================================================================\n",
      "Dep. Variable:                 All_BT   No. Observations:                  348\n",
      "Model:                            GLM   Df Residuals:                      325\n",
      "Model Family:                 Poisson   Df Model:                           22\n",
      "Link Function:                    log   Scale:                          1.0000\n",
      "Method:                          IRLS   Log-Likelihood:                -1845.5\n",
      "Date:                Mon, 07 Dec 2020   Deviance:                       1816.4\n",
      "Time:                        19:13:14   Pearson chi2:                 1.83e+03\n",
      "No. Iterations:                     4                                         \n",
      "Covariance Type:            nonrobust                                         \n",
      "===================================================================================\n",
      "                      coef    std err          z      P>|z|      [0.025      0.975]\n",
      "-----------------------------------------------------------------------------------\n",
      "Intercept           4.2789      0.499      8.577      0.000       3.301       5.257\n",
      "Day_of_week         0.0659      0.015      4.441      0.000       0.037       0.095\n",
      "Month              -0.0184      0.003     -6.321      0.000      -0.024      -0.013\n",
      "Day                 0.0008      0.001      0.815      0.415      -0.001       0.003\n",
      "Temperature        -0.0137      0.007     -2.039      0.041      -0.027      -0.001\n",
      "Saury              -0.0772      0.062     -1.253      0.210      -0.198       0.044\n",
      "Blue_Runner        -0.0744      0.056     -1.332      0.183      -0.184       0.035\n",
      "Squid               0.0790      0.036      2.197      0.028       0.009       0.150\n",
      "Mackerel           -0.3329      0.049     -6.822      0.000      -0.429      -0.237\n",
      "Herring             0.2011      0.052      3.863      0.000       0.099       0.303\n",
      "Sardine             0.0524      0.056      0.929      0.353      -0.058       0.163\n",
      "Mazuri_Vitamins     0.0841      0.029      2.869      0.004       0.027       0.142\n",
      "Garlic             -0.1839      0.028     -6.573      0.000      -0.239      -0.129\n",
      "Salmon             -0.2465      0.036     -6.869      0.000      -0.317      -0.176\n",
      "Bonito             -0.1337      0.057     -2.325      0.020      -0.246      -0.021\n",
      "Bluefish           -0.2106      0.070     -2.995      0.003      -0.348      -0.073\n",
      "Mahi                0.0333      0.061      0.549      0.583      -0.086       0.152\n",
      "Goggle_Eye          0.2656      0.106      2.514      0.012       0.059       0.473\n",
      "Humbolt_Squid       0.0686      0.104      0.657      0.511      -0.136       0.273\n",
      "covid              -0.1800      0.045     -3.997      0.000      -0.268      -0.092\n",
      "light_training      0.4256      0.052      8.164      0.000       0.323       0.528\n",
      "GroupFeed          -0.0663      0.069     -0.966      0.334      -0.201       0.068\n",
      "Varied_Target       0.1926      0.032      6.044      0.000       0.130       0.255\n",
      "===================================================================================\n"
     ]
    }
   ],
   "source": [
    "# Fit model and print results of model\n",
    "poisson_training_results = sm.GLM(y_train, X_train, family=sm.families.Poisson()).fit()\n",
    "print(poisson_training_results.summary())"
   ]
  },
  {
   "cell_type": "markdown",
   "metadata": {},
   "source": [
    "Month, Day of month, Temperature, Saury, Sardine, Garlic, Salmon, Bonito, Mahi, BT_SB Location, light training, summer, fall, spring, and group feeding were all significant predictors for the number of targets for Black Tips"
   ]
  },
  {
   "cell_type": "markdown",
   "metadata": {},
   "source": [
    "# Gray Reef Sharks"
   ]
  },
  {
   "cell_type": "markdown",
   "metadata": {},
   "source": [
    "Eating:"
   ]
  },
  {
   "cell_type": "code",
   "execution_count": 464,
   "metadata": {},
   "outputs": [],
   "source": [
    "expr = \"\"\"All_GR ~ Day_of_week + Month + Day + Temperature + Saury + Blue_Runner + \n",
    "Squid + Mackerel + Herring + Sardine + Mazuri_Vitamins + Garlic + Salmon + Bonito + Bluefish +\n",
    "Mahi + Goggle_Eye + Humbolt_Squid + covid + light_training + GroupFeed + + Varied_Target\"\"\""
   ]
  },
  {
   "cell_type": "code",
   "execution_count": 465,
   "metadata": {},
   "outputs": [],
   "source": [
    "eat_concatGR = eat_concat[eat_concat['All_GR'].notna()]"
   ]
  },
  {
   "cell_type": "code",
   "execution_count": 466,
   "metadata": {},
   "outputs": [
    {
     "name": "stdout",
     "output_type": "stream",
     "text": [
      "Training data set length=349\n",
      "Testing data set length=88\n"
     ]
    }
   ],
   "source": [
    "# Create training and testing datasets\n",
    "mask = np.random.rand(len(eat_concatGR)) < 0.8\n",
    "eat_train = eat_concatGR[mask]\n",
    "eat_test = eat_concatGR[~mask]\n",
    "print('Training data set length='+str(len(eat_train)))\n",
    "print('Testing data set length='+str(len(eat_test)))"
   ]
  },
  {
   "cell_type": "code",
   "execution_count": 467,
   "metadata": {},
   "outputs": [],
   "source": [
    "y_train, X_train = dmatrices(expr, eat_train, return_type='dataframe')\n",
    "y_test, X_test = dmatrices(expr, eat_test, return_type='dataframe')"
   ]
  },
  {
   "cell_type": "code",
   "execution_count": 468,
   "metadata": {},
   "outputs": [
    {
     "name": "stdout",
     "output_type": "stream",
     "text": [
      "                 Generalized Linear Model Regression Results                  \n",
      "==============================================================================\n",
      "Dep. Variable:                 All_GR   No. Observations:                  349\n",
      "Model:                            GLM   Df Residuals:                      326\n",
      "Model Family:                 Poisson   Df Model:                           22\n",
      "Link Function:                    log   Scale:                          1.0000\n",
      "Method:                          IRLS   Log-Likelihood:                -931.89\n",
      "Date:                Mon, 07 Dec 2020   Deviance:                       596.20\n",
      "Time:                        19:13:15   Pearson chi2:                     516.\n",
      "No. Iterations:                     5                                         \n",
      "Covariance Type:            nonrobust                                         \n",
      "===================================================================================\n",
      "                      coef    std err          z      P>|z|      [0.025      0.975]\n",
      "-----------------------------------------------------------------------------------\n",
      "Intercept           0.0189      1.114      0.017      0.986      -2.164       2.202\n",
      "Day_of_week        -0.0200      0.093     -0.214      0.831      -0.203       0.163\n",
      "Month               0.0087      0.006      1.401      0.161      -0.003       0.021\n",
      "Day                 0.0019      0.002      0.848      0.396      -0.002       0.006\n",
      "Temperature         0.0170      0.014      1.194      0.233      -0.011       0.045\n",
      "Saury               0.7243      0.197      3.683      0.000       0.339       1.110\n",
      "Blue_Runner         0.4630      0.171      2.703      0.007       0.127       0.799\n",
      "Squid               0.1754      0.087      2.021      0.043       0.005       0.345\n",
      "Mackerel           -0.0418      0.178     -0.235      0.814      -0.390       0.307\n",
      "Herring             0.9135      0.130      7.021      0.000       0.659       1.169\n",
      "Sardine            -0.4878      0.169     -2.881      0.004      -0.820      -0.156\n",
      "Mazuri_Vitamins    -0.0224      0.073     -0.306      0.760      -0.166       0.121\n",
      "Garlic             -0.0371      0.061     -0.605      0.545      -0.157       0.083\n",
      "Salmon              0.0233      0.068      0.344      0.731      -0.110       0.156\n",
      "Bonito             -0.3598      0.161     -2.235      0.025      -0.675      -0.044\n",
      "Bluefish           -0.0961      0.174     -0.552      0.581      -0.437       0.245\n",
      "Mahi                0.0189      0.150      0.126      0.899      -0.275       0.312\n",
      "Goggle_Eye         -0.1554      0.180     -0.862      0.389      -0.509       0.198\n",
      "Humbolt_Squid       0.8887      0.294      3.018      0.003       0.312       1.466\n",
      "covid              -0.2334      0.091     -2.561      0.010      -0.412      -0.055\n",
      "light_training     -0.0822      0.111     -0.743      0.458      -0.299       0.135\n",
      "GroupFeed          -0.2017      0.270     -0.746      0.456      -0.732       0.328\n",
      "Varied_Target       0.3321      0.077      4.301      0.000       0.181       0.483\n",
      "===================================================================================\n"
     ]
    }
   ],
   "source": [
    "# Fit model and print results of model\n",
    "poisson_training_results = sm.GLM(y_train, X_train, family=sm.families.Poisson()).fit()\n",
    "print(poisson_training_results.summary())"
   ]
  },
  {
   "cell_type": "markdown",
   "metadata": {},
   "source": [
    "Day of week, Month, Saury, Blue runner, Mackerel, Herring, Bonito, Humbolt squid, summer, and fall were all significant predictors for number of fish eaten for Gray Reefs\n",
    "\n",
    "Dropping:"
   ]
  },
  {
   "cell_type": "code",
   "execution_count": 469,
   "metadata": {},
   "outputs": [],
   "source": [
    "drops_concatGR = drops_concat[drops_concat['All_GR'].notna()]"
   ]
  },
  {
   "cell_type": "code",
   "execution_count": 470,
   "metadata": {},
   "outputs": [
    {
     "name": "stdout",
     "output_type": "stream",
     "text": [
      "Training data set length=346\n",
      "Testing data set length=92\n"
     ]
    }
   ],
   "source": [
    "# Create training and testing datasets\n",
    "mask = np.random.rand(len(drops_concatGR)) < 0.8\n",
    "drops_train = drops_concatGR[mask]\n",
    "drops_test = drops_concatGR[~mask]\n",
    "print('Training data set length='+str(len(drops_train)))\n",
    "print('Testing data set length='+str(len(drops_test)))"
   ]
  },
  {
   "cell_type": "code",
   "execution_count": 471,
   "metadata": {},
   "outputs": [],
   "source": [
    "y_train, X_train = dmatrices(expr, drops_train, return_type='dataframe')\n",
    "y_test, X_test = dmatrices(expr, drops_test, return_type='dataframe')"
   ]
  },
  {
   "cell_type": "code",
   "execution_count": 472,
   "metadata": {},
   "outputs": [
    {
     "name": "stdout",
     "output_type": "stream",
     "text": [
      "                 Generalized Linear Model Regression Results                  \n",
      "==============================================================================\n",
      "Dep. Variable:                 All_GR   No. Observations:                  346\n",
      "Model:                            GLM   Df Residuals:                      323\n",
      "Model Family:                 Poisson   Df Model:                           22\n",
      "Link Function:                    log   Scale:                          1.0000\n",
      "Method:                          IRLS   Log-Likelihood:                -467.97\n",
      "Date:                Mon, 07 Dec 2020   Deviance:                       482.69\n",
      "Time:                        19:13:15   Pearson chi2:                     473.\n",
      "No. Iterations:                     5                                         \n",
      "Covariance Type:            nonrobust                                         \n",
      "===================================================================================\n",
      "                      coef    std err          z      P>|z|      [0.025      0.975]\n",
      "-----------------------------------------------------------------------------------\n",
      "Intercept           9.0082      3.347      2.691      0.007       2.448      15.569\n",
      "Day_of_week        -0.2731      0.197     -1.388      0.165      -0.659       0.112\n",
      "Month               0.0441      0.016      2.799      0.005       0.013       0.075\n",
      "Day                -0.0012      0.006     -0.191      0.849      -0.014       0.011\n",
      "Temperature        -0.1060      0.044     -2.412      0.016      -0.192      -0.020\n",
      "Saury               0.7425      0.457      1.623      0.105      -0.154       1.639\n",
      "Blue_Runner         1.7711      0.456      3.887      0.000       0.878       2.664\n",
      "Squid              -0.1548      0.206     -0.751      0.452      -0.558       0.249\n",
      "Mackerel            0.9089      0.432      2.106      0.035       0.063       1.755\n",
      "Herring             0.7014      0.394      1.782      0.075      -0.070       1.473\n",
      "Sardine             0.1595      0.356      0.448      0.654      -0.538       0.857\n",
      "Mazuri_Vitamins    -0.0927      0.203     -0.458      0.647      -0.490       0.304\n",
      "Garlic             -0.0140      0.173     -0.081      0.935      -0.352       0.324\n",
      "Salmon             -0.0413      0.208     -0.198      0.843      -0.450       0.367\n",
      "Bonito             -0.0068      0.354     -0.019      0.985      -0.700       0.686\n",
      "Bluefish            0.8755      0.476      1.841      0.066      -0.057       1.808\n",
      "Mahi               -0.3640      0.462     -0.789      0.430      -1.269       0.541\n",
      "Goggle_Eye          0.1419      0.603      0.235      0.814      -1.040       1.324\n",
      "Humbolt_Squid       1.7317      0.632      2.741      0.006       0.494       2.970\n",
      "covid               0.3721      0.223      1.669      0.095      -0.065       0.809\n",
      "light_training     -1.0302      0.270     -3.810      0.000      -1.560      -0.500\n",
      "GroupFeed          -1.2170      0.589     -2.067      0.039      -2.371      -0.063\n",
      "Varied_Target       0.2356      0.229      1.029      0.303      -0.213       0.684\n",
      "===================================================================================\n"
     ]
    }
   ],
   "source": [
    "# Fit model and print results of model\n",
    "poisson_training_results = sm.GLM(y_train, X_train, family=sm.families.Poisson()).fit()\n",
    "print(poisson_training_results.summary())"
   ]
  },
  {
   "cell_type": "markdown",
   "metadata": {},
   "source": [
    "Month, Temperature, Blue Runner, and light training were significant predictors for number of drops for Gray Reefs\n",
    "\n",
    "Targeting:"
   ]
  },
  {
   "cell_type": "code",
   "execution_count": 473,
   "metadata": {},
   "outputs": [],
   "source": [
    "targets_concatGR = targets_concat[targets_concat['All_GR'].notna()]"
   ]
  },
  {
   "cell_type": "code",
   "execution_count": 474,
   "metadata": {},
   "outputs": [
    {
     "name": "stdout",
     "output_type": "stream",
     "text": [
      "Training data set length=344\n",
      "Testing data set length=93\n"
     ]
    }
   ],
   "source": [
    "# Create training and testing datasets\n",
    "mask = np.random.rand(len(targets_concatGR)) < 0.8\n",
    "targets_train = targets_concatGR[mask]\n",
    "targets_test = targets_concatGR[~mask]\n",
    "print('Training data set length='+str(len(targets_train)))\n",
    "print('Testing data set length='+str(len(targets_test)))"
   ]
  },
  {
   "cell_type": "code",
   "execution_count": 475,
   "metadata": {},
   "outputs": [],
   "source": [
    "y_train, X_train = dmatrices(expr, targets_train, return_type='dataframe')\n",
    "y_test, X_test = dmatrices(expr, targets_test, return_type='dataframe')"
   ]
  },
  {
   "cell_type": "code",
   "execution_count": 476,
   "metadata": {},
   "outputs": [
    {
     "name": "stdout",
     "output_type": "stream",
     "text": [
      "                 Generalized Linear Model Regression Results                  \n",
      "==============================================================================\n",
      "Dep. Variable:                 All_GR   No. Observations:                  344\n",
      "Model:                            GLM   Df Residuals:                      321\n",
      "Model Family:                 Poisson   Df Model:                           22\n",
      "Link Function:                    log   Scale:                          1.0000\n",
      "Method:                          IRLS   Log-Likelihood:                -1456.0\n",
      "Date:                Mon, 07 Dec 2020   Deviance:                       1376.5\n",
      "Time:                        19:13:15   Pearson chi2:                 1.33e+03\n",
      "No. Iterations:                     5                                         \n",
      "Covariance Type:            nonrobust                                         \n",
      "===================================================================================\n",
      "                      coef    std err          z      P>|z|      [0.025      0.975]\n",
      "-----------------------------------------------------------------------------------\n",
      "Intercept           1.0925      0.762      1.435      0.151      -0.400       2.585\n",
      "Day_of_week        -0.1566      0.061     -2.571      0.010      -0.276      -0.037\n",
      "Month               0.0152      0.004      3.386      0.001       0.006       0.024\n",
      "Day                 0.0025      0.002      1.643      0.100      -0.000       0.005\n",
      "Temperature         0.0261      0.010      2.665      0.008       0.007       0.045\n",
      "Saury               0.3551      0.159      2.235      0.025       0.044       0.666\n",
      "Blue_Runner         0.3888      0.104      3.740      0.000       0.185       0.593\n",
      "Squid               0.2069      0.054      3.840      0.000       0.101       0.313\n",
      "Mackerel           -0.1178      0.113     -1.043      0.297      -0.339       0.104\n",
      "Herring             0.6263      0.084      7.485      0.000       0.462       0.790\n",
      "Sardine            -0.3188      0.105     -3.030      0.002      -0.525      -0.113\n",
      "Mazuri_Vitamins    -0.1254      0.047     -2.649      0.008      -0.218      -0.033\n",
      "Garlic             -0.0523      0.040     -1.321      0.187      -0.130       0.025\n",
      "Salmon             -0.0426      0.052     -0.817      0.414      -0.145       0.060\n",
      "Bonito              0.2054      0.079      2.609      0.009       0.051       0.360\n",
      "Bluefish            0.3178      0.094      3.373      0.001       0.133       0.502\n",
      "Mahi               -0.3521      0.115     -3.056      0.002      -0.578      -0.126\n",
      "Goggle_Eye         -0.2724      0.123     -2.221      0.026      -0.513      -0.032\n",
      "Humbolt_Squid       0.6621      0.162      4.082      0.000       0.344       0.980\n",
      "covid              -0.1425      0.067     -2.125      0.034      -0.274      -0.011\n",
      "light_training      0.1042      0.077      1.351      0.177      -0.047       0.256\n",
      "GroupFeed          -0.5893      0.153     -3.844      0.000      -0.890      -0.289\n",
      "Varied_Target       0.0348      0.048      0.723      0.470      -0.059       0.129\n",
      "===================================================================================\n"
     ]
    }
   ],
   "source": [
    "# Fit model and print results of model\n",
    "poisson_training_results = sm.GLM(y_train, X_train, family=sm.families.Poisson()).fit()\n",
    "print(poisson_training_results.summary())"
   ]
  },
  {
   "cell_type": "markdown",
   "metadata": {},
   "source": [
    "Month, Temperature, Saury, Blue runner, Mackerel, Herring, Sardine, Mazuri vitamins, Salmon, Bluefish, Mahi, Humbolt squid, GR location, covid, fall, and group feed were all significant predictors for the number of targets for Gray Reefs"
   ]
  },
  {
   "cell_type": "markdown",
   "metadata": {},
   "source": [
    "# Poisson Regression for Each Gender of Shark"
   ]
  },
  {
   "cell_type": "markdown",
   "metadata": {},
   "source": [
    "# Male"
   ]
  },
  {
   "cell_type": "markdown",
   "metadata": {},
   "source": [
    "Eating:"
   ]
  },
  {
   "cell_type": "code",
   "execution_count": 477,
   "metadata": {},
   "outputs": [],
   "source": [
    "expr = \"\"\"male ~ Day_of_week + Month + Day + Temperature + Saury + Blue_Runner + \n",
    "Squid + Mackerel + Herring + Sardine + Mazuri_Vitamins + Garlic + Salmon + Bonito + Bluefish +\n",
    "Mahi + Goggle_Eye + Humbolt_Squid + covid + light_training + GroupFeed + Varied_Target\"\"\""
   ]
  },
  {
   "cell_type": "code",
   "execution_count": 478,
   "metadata": {},
   "outputs": [],
   "source": [
    "eat_concatM = eat_concat[eat_concat['male'].notna()]"
   ]
  },
  {
   "cell_type": "code",
   "execution_count": 479,
   "metadata": {},
   "outputs": [
    {
     "name": "stdout",
     "output_type": "stream",
     "text": [
      "Training data set length=468\n",
      "Testing data set length=114\n"
     ]
    }
   ],
   "source": [
    "# Create training and testing datasets\n",
    "mask = np.random.rand(len(eat_concatM)) < 0.8\n",
    "eat_train = eat_concatM[mask]\n",
    "eat_test = eat_concatM[~mask]\n",
    "print('Training data set length='+str(len(eat_train)))\n",
    "print('Testing data set length='+str(len(eat_test)))"
   ]
  },
  {
   "cell_type": "code",
   "execution_count": 480,
   "metadata": {},
   "outputs": [],
   "source": [
    "y_train, X_train = dmatrices(expr, eat_train, return_type='dataframe')\n",
    "y_test, X_test = dmatrices(expr, eat_test, return_type='dataframe')"
   ]
  },
  {
   "cell_type": "code",
   "execution_count": 481,
   "metadata": {},
   "outputs": [
    {
     "name": "stdout",
     "output_type": "stream",
     "text": [
      "                 Generalized Linear Model Regression Results                  \n",
      "==============================================================================\n",
      "Dep. Variable:                   male   No. Observations:                  468\n",
      "Model:                            GLM   Df Residuals:                      445\n",
      "Model Family:                 Poisson   Df Model:                           22\n",
      "Link Function:                    log   Scale:                          1.0000\n",
      "Method:                          IRLS   Log-Likelihood:                -1469.8\n",
      "Date:                Mon, 07 Dec 2020   Deviance:                       1209.6\n",
      "Time:                        19:13:16   Pearson chi2:                 1.17e+03\n",
      "No. Iterations:                     5                                         \n",
      "Covariance Type:            nonrobust                                         \n",
      "===================================================================================\n",
      "                      coef    std err          z      P>|z|      [0.025      0.975]\n",
      "-----------------------------------------------------------------------------------\n",
      "Intercept          -0.8790      0.814     -1.080      0.280      -2.474       0.716\n",
      "Day_of_week         0.0691      0.028      2.473      0.013       0.014       0.124\n",
      "Month               0.0063      0.005      1.316      0.188      -0.003       0.016\n",
      "Day                 0.0011      0.002      0.639      0.523      -0.002       0.004\n",
      "Temperature         0.0176      0.011      1.597      0.110      -0.004       0.039\n",
      "Saury               0.6390      0.098      6.510      0.000       0.447       0.831\n",
      "Blue_Runner         0.4645      0.093      5.022      0.000       0.283       0.646\n",
      "Squid               0.0048      0.061      0.079      0.937      -0.114       0.124\n",
      "Mackerel            0.5530      0.081      6.807      0.000       0.394       0.712\n",
      "Herring            -0.1418      0.086     -1.649      0.099      -0.310       0.027\n",
      "Sardine             0.5903      0.081      7.332      0.000       0.433       0.748\n",
      "Mazuri_Vitamins     0.1294      0.052      2.513      0.012       0.028       0.230\n",
      "Garlic              0.1610      0.047      3.435      0.001       0.069       0.253\n",
      "Salmon             -0.1273      0.056     -2.270      0.023      -0.237      -0.017\n",
      "Bonito              0.1689      0.091      1.846      0.065      -0.010       0.348\n",
      "Bluefish           -0.0498      0.130     -0.382      0.702      -0.305       0.206\n",
      "Mahi               -0.2481      0.119     -2.088      0.037      -0.481      -0.015\n",
      "Goggle_Eye         -0.0058      0.160     -0.036      0.971      -0.320       0.309\n",
      "Humbolt_Squid       0.0711      0.202      0.352      0.725      -0.325       0.467\n",
      "covid              -0.2594      0.081     -3.193      0.001      -0.419      -0.100\n",
      "light_training      0.2888      0.085      3.408      0.001       0.123       0.455\n",
      "GroupFeed           0.8637      0.099      8.746      0.000       0.670       1.057\n",
      "Varied_Target      -0.0003      0.053     -0.005      0.996      -0.105       0.104\n",
      "===================================================================================\n"
     ]
    }
   ],
   "source": [
    "# Fit model and print results of model\n",
    "poisson_training_results = sm.GLM(y_train, X_train, family=sm.families.Poisson()).fit()\n",
    "print(poisson_training_results.summary())"
   ]
  },
  {
   "cell_type": "markdown",
   "metadata": {},
   "source": [
    "Herring, Mazuri Vitamins, Salmon, Bluefish, BT_SB Location, and light training were all significant predictors for the number of fish eaten for male sharks\n",
    "\n",
    "Dropping:"
   ]
  },
  {
   "cell_type": "code",
   "execution_count": 482,
   "metadata": {},
   "outputs": [],
   "source": [
    "drops_concatM = drops_concat[drops_concat['male'].notna()]"
   ]
  },
  {
   "cell_type": "code",
   "execution_count": 483,
   "metadata": {},
   "outputs": [
    {
     "name": "stdout",
     "output_type": "stream",
     "text": [
      "Training data set length=470\n",
      "Testing data set length=112\n"
     ]
    }
   ],
   "source": [
    "# Create training and testing datasets\n",
    "mask = np.random.rand(len(drops_concatM)) < 0.8\n",
    "drops_train = drops_concatM[mask]\n",
    "drops_test = drops_concatM[~mask]\n",
    "print('Training data set length='+str(len(drops_train)))\n",
    "print('Testing data set length='+str(len(drops_test)))"
   ]
  },
  {
   "cell_type": "code",
   "execution_count": 484,
   "metadata": {},
   "outputs": [],
   "source": [
    "y_train, X_train = dmatrices(expr, drops_train, return_type='dataframe')\n",
    "y_test, X_test = dmatrices(expr, drops_test, return_type='dataframe')"
   ]
  },
  {
   "cell_type": "code",
   "execution_count": 485,
   "metadata": {},
   "outputs": [
    {
     "name": "stdout",
     "output_type": "stream",
     "text": [
      "                 Generalized Linear Model Regression Results                  \n",
      "==============================================================================\n",
      "Dep. Variable:                   male   No. Observations:                  470\n",
      "Model:                            GLM   Df Residuals:                      447\n",
      "Model Family:                 Poisson   Df Model:                           22\n",
      "Link Function:                    log   Scale:                          1.0000\n",
      "Method:                          IRLS   Log-Likelihood:                -693.51\n",
      "Date:                Mon, 07 Dec 2020   Deviance:                       646.06\n",
      "Time:                        19:13:16   Pearson chi2:                     718.\n",
      "No. Iterations:                     6                                         \n",
      "Covariance Type:            nonrobust                                         \n",
      "===================================================================================\n",
      "                      coef    std err          z      P>|z|      [0.025      0.975]\n",
      "-----------------------------------------------------------------------------------\n",
      "Intercept           7.3531      2.249      3.270      0.001       2.945      11.761\n",
      "Day_of_week        -0.0706      0.063     -1.116      0.264      -0.194       0.053\n",
      "Month               0.0216      0.012      1.849      0.065      -0.001       0.045\n",
      "Day                 0.0103      0.005      2.223      0.026       0.001       0.019\n",
      "Temperature        -0.1023      0.031     -3.333      0.001      -0.162      -0.042\n",
      "Saury               0.4578      0.256      1.791      0.073      -0.043       0.959\n",
      "Blue_Runner         0.7102      0.249      2.855      0.004       0.223       1.198\n",
      "Squid               0.0726      0.148      0.491      0.624      -0.217       0.363\n",
      "Mackerel            0.4446      0.223      1.994      0.046       0.008       0.882\n",
      "Herring            -0.7643      0.256     -2.982      0.003      -1.267      -0.262\n",
      "Sardine             0.6535      0.213      3.073      0.002       0.237       1.070\n",
      "Mazuri_Vitamins    -0.0199      0.139     -0.143      0.886      -0.292       0.252\n",
      "Garlic             -0.0902      0.122     -0.741      0.459      -0.329       0.148\n",
      "Salmon             -0.2387      0.148     -1.609      0.108      -0.529       0.052\n",
      "Bonito             -0.6316      0.346     -1.826      0.068      -1.309       0.046\n",
      "Bluefish           -0.0316      0.300     -0.105      0.916      -0.620       0.557\n",
      "Mahi                0.1418      0.274      0.518      0.604      -0.395       0.678\n",
      "Goggle_Eye          0.1718      0.470      0.365      0.715      -0.750       1.093\n",
      "Humbolt_Squid       0.5284      0.809      0.653      0.514      -1.057       2.114\n",
      "covid               0.3875      0.164      2.368      0.018       0.067       0.708\n",
      "light_training      0.0818      0.185      0.442      0.658      -0.280       0.444\n",
      "GroupFeed           0.5815      0.279      2.085      0.037       0.035       1.128\n",
      "Varied_Target      -0.4600      0.140     -3.287      0.001      -0.734      -0.186\n",
      "===================================================================================\n"
     ]
    }
   ],
   "source": [
    "# Fit model and print results of model\n",
    "poisson_training_results = sm.GLM(y_train, X_train, family=sm.families.Poisson()).fit()\n",
    "print(poisson_training_results.summary())"
   ]
  },
  {
   "cell_type": "markdown",
   "metadata": {},
   "source": [
    "Light training and covid were the only significant predictors for number of pieces dropped for male sharks\n",
    "\n",
    "Targetting:"
   ]
  },
  {
   "cell_type": "code",
   "execution_count": 486,
   "metadata": {},
   "outputs": [],
   "source": [
    "targets_concatM = targets_concat[targets_concat['male'].notna()]"
   ]
  },
  {
   "cell_type": "code",
   "execution_count": 487,
   "metadata": {},
   "outputs": [
    {
     "name": "stdout",
     "output_type": "stream",
     "text": [
      "Training data set length=457\n",
      "Testing data set length=125\n"
     ]
    }
   ],
   "source": [
    "# Create training and testing datasets\n",
    "mask = np.random.rand(len(targets_concatM)) < 0.8\n",
    "targets_train = targets_concatM[mask]\n",
    "targets_test = targets_concatM[~mask]\n",
    "print('Training data set length='+str(len(targets_train)))\n",
    "print('Testing data set length='+str(len(targets_test)))"
   ]
  },
  {
   "cell_type": "code",
   "execution_count": 488,
   "metadata": {},
   "outputs": [],
   "source": [
    "y_train, X_train = dmatrices(expr, targets_train, return_type='dataframe')\n",
    "y_test, X_test = dmatrices(expr, targets_test, return_type='dataframe')"
   ]
  },
  {
   "cell_type": "code",
   "execution_count": 489,
   "metadata": {},
   "outputs": [
    {
     "name": "stdout",
     "output_type": "stream",
     "text": [
      "                 Generalized Linear Model Regression Results                  \n",
      "==============================================================================\n",
      "Dep. Variable:                   male   No. Observations:                  457\n",
      "Model:                            GLM   Df Residuals:                      434\n",
      "Model Family:                 Poisson   Df Model:                           22\n",
      "Link Function:                    log   Scale:                          1.0000\n",
      "Method:                          IRLS   Log-Likelihood:                -2836.8\n",
      "Date:                Mon, 07 Dec 2020   Deviance:                       3574.3\n",
      "Time:                        19:13:17   Pearson chi2:                 3.98e+03\n",
      "No. Iterations:                     5                                         \n",
      "Covariance Type:            nonrobust                                         \n",
      "===================================================================================\n",
      "                      coef    std err          z      P>|z|      [0.025      0.975]\n",
      "-----------------------------------------------------------------------------------\n",
      "Intercept           2.8243      0.501      5.634      0.000       1.842       3.807\n",
      "Day_of_week         0.1099      0.018      6.258      0.000       0.076       0.144\n",
      "Month               0.0005      0.003      0.180      0.857      -0.005       0.006\n",
      "Day                 0.0018      0.001      1.709      0.087      -0.000       0.004\n",
      "Temperature        -0.0207      0.007     -3.051      0.002      -0.034      -0.007\n",
      "Saury               0.7295      0.060     12.170      0.000       0.612       0.847\n",
      "Blue_Runner         0.5459      0.055      9.898      0.000       0.438       0.654\n",
      "Squid               0.0184      0.035      0.534      0.594      -0.049       0.086\n",
      "Mackerel            0.5105      0.051     10.021      0.000       0.411       0.610\n",
      "Herring            -0.4979      0.053     -9.456      0.000      -0.601      -0.395\n",
      "Sardine             0.7436      0.048     15.342      0.000       0.649       0.839\n",
      "Mazuri_Vitamins     0.0468      0.032      1.470      0.142      -0.016       0.109\n",
      "Garlic              0.0822      0.029      2.815      0.005       0.025       0.139\n",
      "Salmon             -0.2882      0.040     -7.123      0.000      -0.368      -0.209\n",
      "Bonito              0.2171      0.058      3.776      0.000       0.104       0.330\n",
      "Bluefish            0.1162      0.075      1.541      0.123      -0.032       0.264\n",
      "Mahi               -0.0259      0.069     -0.374      0.708      -0.162       0.110\n",
      "Goggle_Eye          0.2840      0.107      2.666      0.008       0.075       0.493\n",
      "Humbolt_Squid       0.4443      0.136      3.273      0.001       0.178       0.710\n",
      "covid              -0.3033      0.046     -6.559      0.000      -0.394      -0.213\n",
      "light_training      0.5181      0.051     10.185      0.000       0.418       0.618\n",
      "GroupFeed           0.9156      0.060     15.372      0.000       0.799       1.032\n",
      "Varied_Target      -0.1667      0.029     -5.666      0.000      -0.224      -0.109\n",
      "===================================================================================\n"
     ]
    }
   ],
   "source": [
    "# Fit model and print results of model\n",
    "poisson_training_results = sm.GLM(y_train, X_train, family=sm.families.Poisson()).fit()\n",
    "print(poisson_training_results.summary())"
   ]
  },
  {
   "cell_type": "markdown",
   "metadata": {},
   "source": [
    "Month, Temperature, Mackerel, Salmon, Bonito, Bluefish, Goggle eye, BT_SB Location, covid, light training, spring, and group feeding were all significant predictors for the number of targets for male sharks"
   ]
  },
  {
   "cell_type": "markdown",
   "metadata": {},
   "source": [
    "# Female"
   ]
  },
  {
   "cell_type": "markdown",
   "metadata": {},
   "source": [
    "Eating:"
   ]
  },
  {
   "cell_type": "code",
   "execution_count": 490,
   "metadata": {},
   "outputs": [],
   "source": [
    "expr = \"\"\"female ~ Day_of_week + Month + Day + Temperature + Saury + Blue_Runner + \n",
    "Squid + Mackerel + Herring + Sardine + Mazuri_Vitamins + Garlic + Salmon + Bonito + Bluefish +\n",
    "Mahi + Goggle_Eye + Humbolt_Squid + covid + light_training + GroupFeed + Varied_Target\"\"\""
   ]
  },
  {
   "cell_type": "code",
   "execution_count": 491,
   "metadata": {},
   "outputs": [],
   "source": [
    "eat_concatF = eat_concat[eat_concat['female'].notna()]"
   ]
  },
  {
   "cell_type": "code",
   "execution_count": 492,
   "metadata": {},
   "outputs": [
    {
     "name": "stdout",
     "output_type": "stream",
     "text": [
      "Training data set length=461\n",
      "Testing data set length=121\n"
     ]
    }
   ],
   "source": [
    "# Create training and testing datasets\n",
    "mask = np.random.rand(len(eat_concatF)) < 0.8\n",
    "eat_train = eat_concatF[mask]\n",
    "eat_test = eat_concatF[~mask]\n",
    "print('Training data set length='+str(len(eat_train)))\n",
    "print('Testing data set length='+str(len(eat_test)))"
   ]
  },
  {
   "cell_type": "code",
   "execution_count": 493,
   "metadata": {},
   "outputs": [],
   "source": [
    "y_train, X_train = dmatrices(expr, eat_train, return_type='dataframe')\n",
    "y_test, X_test = dmatrices(expr, eat_test, return_type='dataframe')"
   ]
  },
  {
   "cell_type": "code",
   "execution_count": 494,
   "metadata": {},
   "outputs": [
    {
     "name": "stdout",
     "output_type": "stream",
     "text": [
      "                 Generalized Linear Model Regression Results                  \n",
      "==============================================================================\n",
      "Dep. Variable:                 female   No. Observations:                  461\n",
      "Model:                            GLM   Df Residuals:                      438\n",
      "Model Family:                 Poisson   Df Model:                           22\n",
      "Link Function:                    log   Scale:                          1.0000\n",
      "Method:                          IRLS   Log-Likelihood:                -1425.2\n",
      "Date:                Mon, 07 Dec 2020   Deviance:                       980.54\n",
      "Time:                        19:13:17   Pearson chi2:                     927.\n",
      "No. Iterations:                     4                                         \n",
      "Covariance Type:            nonrobust                                         \n",
      "===================================================================================\n",
      "                      coef    std err          z      P>|z|      [0.025      0.975]\n",
      "-----------------------------------------------------------------------------------\n",
      "Intercept          -0.9904      0.793     -1.248      0.212      -2.545       0.564\n",
      "Day_of_week         0.0457      0.029      1.557      0.119      -0.012       0.103\n",
      "Month               0.0018      0.005      0.394      0.693      -0.007       0.011\n",
      "Day                 0.0006      0.002      0.353      0.724      -0.003       0.004\n",
      "Temperature         0.0319      0.011      2.989      0.003       0.011       0.053\n",
      "Saury               0.5292      0.107      4.946      0.000       0.320       0.739\n",
      "Blue_Runner         0.2469      0.105      2.359      0.018       0.042       0.452\n",
      "Squid               0.1062      0.059      1.796      0.073      -0.010       0.222\n",
      "Mackerel            0.0846      0.089      0.956      0.339      -0.089       0.258\n",
      "Herring             0.3031      0.090      3.353      0.001       0.126       0.480\n",
      "Sardine            -0.0235      0.087     -0.271      0.786      -0.193       0.146\n",
      "Mazuri_Vitamins     0.0102      0.049      0.210      0.834      -0.085       0.106\n",
      "Garlic             -0.0247      0.045     -0.547      0.585      -0.113       0.064\n",
      "Salmon             -0.0360      0.050     -0.720      0.471      -0.134       0.062\n",
      "Bonito             -0.0566      0.102     -0.553      0.580      -0.257       0.144\n",
      "Bluefish           -0.1346      0.119     -1.136      0.256      -0.367       0.098\n",
      "Mahi                0.1197      0.103      1.160      0.246      -0.083       0.322\n",
      "Goggle_Eye         -0.3860      0.254     -1.518      0.129      -0.884       0.112\n",
      "Humbolt_Squid       0.5467      0.194      2.816      0.005       0.166       0.927\n",
      "covid              -0.0653      0.067     -0.979      0.328      -0.196       0.065\n",
      "light_training     -0.0421      0.083     -0.507      0.612      -0.205       0.121\n",
      "GroupFeed           0.4845      0.122      3.986      0.000       0.246       0.723\n",
      "Varied_Target       0.3333      0.057      5.841      0.000       0.221       0.445\n",
      "===================================================================================\n"
     ]
    }
   ],
   "source": [
    "# Fit model and print results of model\n",
    "poisson_training_results = sm.GLM(y_train, X_train, family=sm.families.Poisson()).fit()\n",
    "print(poisson_training_results.summary())"
   ]
  },
  {
   "cell_type": "markdown",
   "metadata": {},
   "source": [
    "Temperature, Saury, Blue runner, humbolt squid, BT_SB Location, light training, and fall were all significant predictors for number of pieces eaten for female sharks\n",
    "\n",
    "Dropping:"
   ]
  },
  {
   "cell_type": "code",
   "execution_count": 495,
   "metadata": {},
   "outputs": [],
   "source": [
    "drops_concatF = drops_concat[drops_concat['female'].notna()]"
   ]
  },
  {
   "cell_type": "code",
   "execution_count": 496,
   "metadata": {},
   "outputs": [
    {
     "name": "stdout",
     "output_type": "stream",
     "text": [
      "Training data set length=455\n",
      "Testing data set length=127\n"
     ]
    }
   ],
   "source": [
    "# Create training and testing datasets\n",
    "mask = np.random.rand(len(drops_concatF)) < 0.8\n",
    "drops_train = drops_concatF[mask]\n",
    "drops_test = drops_concatF[~mask]\n",
    "print('Training data set length='+str(len(drops_train)))\n",
    "print('Testing data set length='+str(len(drops_test)))"
   ]
  },
  {
   "cell_type": "code",
   "execution_count": 497,
   "metadata": {},
   "outputs": [],
   "source": [
    "y_train, X_train = dmatrices(expr, drops_train, return_type='dataframe')\n",
    "y_test, X_test = dmatrices(expr, drops_test, return_type='dataframe')"
   ]
  },
  {
   "cell_type": "code",
   "execution_count": 498,
   "metadata": {},
   "outputs": [
    {
     "name": "stdout",
     "output_type": "stream",
     "text": [
      "                 Generalized Linear Model Regression Results                  \n",
      "==============================================================================\n",
      "Dep. Variable:                 female   No. Observations:                  455\n",
      "Model:                            GLM   Df Residuals:                      432\n",
      "Model Family:                 Poisson   Df Model:                           22\n",
      "Link Function:                    log   Scale:                          1.0000\n",
      "Method:                          IRLS   Log-Likelihood:                -829.02\n",
      "Date:                Mon, 07 Dec 2020   Deviance:                       718.03\n",
      "Time:                        19:13:17   Pearson chi2:                     786.\n",
      "No. Iterations:                     5                                         \n",
      "Covariance Type:            nonrobust                                         \n",
      "===================================================================================\n",
      "                      coef    std err          z      P>|z|      [0.025      0.975]\n",
      "-----------------------------------------------------------------------------------\n",
      "Intercept           6.8857      1.914      3.598      0.000       3.135      10.637\n",
      "Day_of_week        -0.0328      0.062     -0.532      0.594      -0.154       0.088\n",
      "Month               0.0159      0.010      1.573      0.116      -0.004       0.036\n",
      "Day                 0.0068      0.004      1.794      0.073      -0.001       0.014\n",
      "Temperature        -0.0909      0.026     -3.482      0.000      -0.142      -0.040\n",
      "Saury              -0.0548      0.213     -0.257      0.797      -0.472       0.362\n",
      "Blue_Runner         0.5621      0.202      2.777      0.005       0.165       0.959\n",
      "Squid              -0.1964      0.131     -1.501      0.133      -0.453       0.060\n",
      "Mackerel            0.5703      0.181      3.145      0.002       0.215       0.926\n",
      "Herring            -0.0190      0.187     -0.102      0.919      -0.385       0.347\n",
      "Sardine             0.1197      0.186      0.643      0.520      -0.245       0.485\n",
      "Mazuri_Vitamins     0.1949      0.112      1.747      0.081      -0.024       0.413\n",
      "Garlic             -0.1289      0.101     -1.271      0.204      -0.328       0.070\n",
      "Salmon             -0.1211      0.127     -0.955      0.340      -0.370       0.128\n",
      "Bonito             -0.1551      0.205     -0.756      0.450      -0.557       0.247\n",
      "Bluefish            0.3623      0.218      1.660      0.097      -0.065       0.790\n",
      "Mahi                0.3935      0.178      2.214      0.027       0.045       0.742\n",
      "Goggle_Eye         -0.2337      0.429     -0.545      0.586      -1.074       0.607\n",
      "Humbolt_Squid       0.3026      0.445      0.679      0.497      -0.570       1.176\n",
      "covid               0.5208      0.120      4.346      0.000       0.286       0.756\n",
      "light_training     -0.3887      0.180     -2.160      0.031      -0.741      -0.036\n",
      "GroupFeed           0.6702      0.220      3.046      0.002       0.239       1.101\n",
      "Varied_Target       0.2266      0.140      1.623      0.105      -0.047       0.500\n",
      "===================================================================================\n"
     ]
    }
   ],
   "source": [
    "# Fit model and print results of model\n",
    "poisson_training_results = sm.GLM(y_train, X_train, family=sm.families.Poisson()).fit()\n",
    "print(poisson_training_results.summary())"
   ]
  },
  {
   "cell_type": "markdown",
   "metadata": {},
   "source": [
    "Saury, Mackerel, Bluefish, and covid were all significant predictors for the number of pieces dropped for female sharks\n",
    "\n",
    "Targetting:"
   ]
  },
  {
   "cell_type": "code",
   "execution_count": 499,
   "metadata": {},
   "outputs": [],
   "source": [
    "targets_concatF = targets_concat[targets_concat['female'].notna()]"
   ]
  },
  {
   "cell_type": "code",
   "execution_count": 500,
   "metadata": {},
   "outputs": [
    {
     "name": "stdout",
     "output_type": "stream",
     "text": [
      "Training data set length=465\n",
      "Testing data set length=117\n"
     ]
    }
   ],
   "source": [
    "# Create training and testing datasets\n",
    "mask = np.random.rand(len(targets_concatF)) < 0.8\n",
    "targets_train = targets_concatF[mask]\n",
    "targets_test = targets_concatF[~mask]\n",
    "print('Training data set length='+str(len(targets_train)))\n",
    "print('Testing data set length='+str(len(targets_test)))"
   ]
  },
  {
   "cell_type": "code",
   "execution_count": 501,
   "metadata": {},
   "outputs": [],
   "source": [
    "y_train, X_train = dmatrices(expr, targets_train, return_type='dataframe')\n",
    "y_test, X_test = dmatrices(expr, targets_test, return_type='dataframe')"
   ]
  },
  {
   "cell_type": "code",
   "execution_count": 502,
   "metadata": {},
   "outputs": [
    {
     "name": "stdout",
     "output_type": "stream",
     "text": [
      "                 Generalized Linear Model Regression Results                  \n",
      "==============================================================================\n",
      "Dep. Variable:                 female   No. Observations:                  465\n",
      "Model:                            GLM   Df Residuals:                      442\n",
      "Model Family:                 Poisson   Df Model:                           22\n",
      "Link Function:                    log   Scale:                          1.0000\n",
      "Method:                          IRLS   Log-Likelihood:                -2148.1\n",
      "Date:                Mon, 07 Dec 2020   Deviance:                       1966.4\n",
      "Time:                        19:13:18   Pearson chi2:                 2.00e+03\n",
      "No. Iterations:                     4                                         \n",
      "Covariance Type:            nonrobust                                         \n",
      "===================================================================================\n",
      "                      coef    std err          z      P>|z|      [0.025      0.975]\n",
      "-----------------------------------------------------------------------------------\n",
      "Intercept           1.5041      0.499      3.016      0.003       0.527       2.482\n",
      "Day_of_week         0.0743      0.018      4.230      0.000       0.040       0.109\n",
      "Month               0.0041      0.003      1.388      0.165      -0.002       0.010\n",
      "Day                 0.0037      0.001      3.608      0.000       0.002       0.006\n",
      "Temperature         0.0076      0.007      1.131      0.258      -0.006       0.021\n",
      "Saury               0.4923      0.069      7.136      0.000       0.357       0.628\n",
      "Blue_Runner         0.2619      0.066      3.972      0.000       0.133       0.391\n",
      "Squid               0.1025      0.036      2.815      0.005       0.031       0.174\n",
      "Mackerel           -0.1858      0.050     -3.737      0.000      -0.283      -0.088\n",
      "Herring             0.0673      0.053      1.258      0.208      -0.038       0.172\n",
      "Sardine             0.3146      0.053      5.993      0.000       0.212       0.418\n",
      "Mazuri_Vitamins    -0.0646      0.032     -2.012      0.044      -0.127      -0.002\n",
      "Garlic              0.0305      0.027      1.112      0.266      -0.023       0.084\n",
      "Salmon             -0.1077      0.035     -3.062      0.002      -0.177      -0.039\n",
      "Bonito              0.0925      0.061      1.508      0.132      -0.028       0.213\n",
      "Bluefish            0.2429      0.071      3.420      0.001       0.104       0.382\n",
      "Mahi               -0.2166      0.084     -2.586      0.010      -0.381      -0.052\n",
      "Goggle_Eye         -0.1584      0.095     -1.674      0.094      -0.344       0.027\n",
      "Humbolt_Squid       0.5426      0.105      5.151      0.000       0.336       0.749\n",
      "covid              -0.0251      0.046     -0.548      0.584      -0.115       0.065\n",
      "light_training      0.3148      0.053      5.921      0.000       0.211       0.419\n",
      "GroupFeed           0.4742      0.069      6.896      0.000       0.339       0.609\n",
      "Varied_Target       0.0755      0.033      2.265      0.024       0.010       0.141\n",
      "===================================================================================\n"
     ]
    }
   ],
   "source": [
    "# Fit model and print results of model\n",
    "poisson_training_results = sm.GLM(y_train, X_train, family=sm.families.Poisson()).fit()\n",
    "print(poisson_training_results.summary())"
   ]
  },
  {
   "cell_type": "markdown",
   "metadata": {},
   "source": [
    "Day of week, Month, Temperature, Blue runner, Squid, Mackerel, Herring, Mazuri Vitamins, Salmon, Bluefish, Humbolt Squid, BT_SB location, GR location, light training, fall, and spring were all significant predictors for the number of targets for female sharks"
   ]
  },
  {
   "cell_type": "code",
   "execution_count": null,
   "metadata": {},
   "outputs": [],
   "source": []
  }
 ],
 "metadata": {
  "kernelspec": {
   "display_name": "Python 3",
   "language": "python",
   "name": "python3"
  },
  "language_info": {
   "codemirror_mode": {
    "name": "ipython",
    "version": 3
   },
   "file_extension": ".py",
   "mimetype": "text/x-python",
   "name": "python",
   "nbconvert_exporter": "python",
   "pygments_lexer": "ipython3",
   "version": "3.6.9"
  }
 },
 "nbformat": 4,
 "nbformat_minor": 4
}
