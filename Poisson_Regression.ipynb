{
 "cells": [
  {
   "cell_type": "code",
   "execution_count": 57,
   "metadata": {},
   "outputs": [],
   "source": [
    "# Import Packages\n",
    "import pandas as pd\n",
    "from patsy import dmatrices\n",
    "import numpy as np\n",
    "import statsmodels.api as sm\n",
    "import matplotlib.pyplot as plt\n",
    "import datetime\n",
    "import getpass\n",
    "import mysql.connector\n",
    "from sqlalchemy import create_engine"
   ]
  },
  {
   "cell_type": "code",
   "execution_count": 58,
   "metadata": {},
   "outputs": [],
   "source": [
    "# Read in shark data\n",
    "eat = pd.read_excel(\"SharkData.xlsx\", sheet_name = 0)\n",
    "targets = pd.read_excel(\"SharkData.xlsx\", sheet_name = 1)\n",
    "drops = pd.read_excel(\"SharkData.xlsx\", sheet_name = 2)\n",
    "other_factors = pd.read_excel(\"SharkData.xlsx\", sheet_name = 3)"
   ]
  },
  {
   "cell_type": "markdown",
   "metadata": {},
   "source": [
    "# Data Cleaning"
   ]
  },
  {
   "cell_type": "code",
   "execution_count": 59,
   "metadata": {},
   "outputs": [
    {
     "data": {
      "text/html": [
       "<div>\n",
       "<style scoped>\n",
       "    .dataframe tbody tr th:only-of-type {\n",
       "        vertical-align: middle;\n",
       "    }\n",
       "\n",
       "    .dataframe tbody tr th {\n",
       "        vertical-align: top;\n",
       "    }\n",
       "\n",
       "    .dataframe thead th {\n",
       "        text-align: right;\n",
       "    }\n",
       "</style>\n",
       "<table border=\"1\" class=\"dataframe\">\n",
       "  <thead>\n",
       "    <tr style=\"text-align: right;\">\n",
       "      <th></th>\n",
       "      <th>Date</th>\n",
       "      <th>Ross</th>\n",
       "      <th>Chandler</th>\n",
       "      <th>BT1</th>\n",
       "      <th>BT2</th>\n",
       "      <th>BT3</th>\n",
       "      <th>BT4</th>\n",
       "      <th>BT5</th>\n",
       "      <th>GR1</th>\n",
       "      <th>GR2</th>\n",
       "      <th>GR3</th>\n",
       "      <th>GR4</th>\n",
       "      <th>GR5</th>\n",
       "      <th>Total</th>\n",
       "      <th>Etc. Comments</th>\n",
       "    </tr>\n",
       "  </thead>\n",
       "  <tbody>\n",
       "    <tr>\n",
       "      <th>578</th>\n",
       "      <td>2020-09-22</td>\n",
       "      <td>6.0</td>\n",
       "      <td>0.0</td>\n",
       "      <td>1.0</td>\n",
       "      <td>2.0</td>\n",
       "      <td>6.0</td>\n",
       "      <td>0.0</td>\n",
       "      <td>4.0</td>\n",
       "      <td>1.0</td>\n",
       "      <td>0.0</td>\n",
       "      <td>0.0</td>\n",
       "      <td>5.0</td>\n",
       "      <td>1.0</td>\n",
       "      <td>26.0</td>\n",
       "      <td>NaN</td>\n",
       "    </tr>\n",
       "    <tr>\n",
       "      <th>579</th>\n",
       "      <td>2020-09-24</td>\n",
       "      <td>0.0</td>\n",
       "      <td>9.0</td>\n",
       "      <td>0.0</td>\n",
       "      <td>7.0</td>\n",
       "      <td>5.0</td>\n",
       "      <td>5.0</td>\n",
       "      <td>7.0</td>\n",
       "      <td>0.0</td>\n",
       "      <td>1.0</td>\n",
       "      <td>2.0</td>\n",
       "      <td>2.0</td>\n",
       "      <td>6.0</td>\n",
       "      <td>44.0</td>\n",
       "      <td>NaN</td>\n",
       "    </tr>\n",
       "    <tr>\n",
       "      <th>580</th>\n",
       "      <td>2020-09-26</td>\n",
       "      <td>NaN</td>\n",
       "      <td>NaN</td>\n",
       "      <td>NaN</td>\n",
       "      <td>NaN</td>\n",
       "      <td>NaN</td>\n",
       "      <td>NaN</td>\n",
       "      <td>NaN</td>\n",
       "      <td>4.0</td>\n",
       "      <td>0.0</td>\n",
       "      <td>2.0</td>\n",
       "      <td>3.0</td>\n",
       "      <td>3.0</td>\n",
       "      <td>12.0</td>\n",
       "      <td>NaN</td>\n",
       "    </tr>\n",
       "    <tr>\n",
       "      <th>581</th>\n",
       "      <td>2020-09-27</td>\n",
       "      <td>5.0</td>\n",
       "      <td>6.0</td>\n",
       "      <td>3.0</td>\n",
       "      <td>6.0</td>\n",
       "      <td>4.0</td>\n",
       "      <td>6.0</td>\n",
       "      <td>3.0</td>\n",
       "      <td>NaN</td>\n",
       "      <td>NaN</td>\n",
       "      <td>NaN</td>\n",
       "      <td>NaN</td>\n",
       "      <td>NaN</td>\n",
       "      <td>33.0</td>\n",
       "      <td>NaN</td>\n",
       "    </tr>\n",
       "    <tr>\n",
       "      <th>582</th>\n",
       "      <td>2020-09-29</td>\n",
       "      <td>10.0</td>\n",
       "      <td>3.0</td>\n",
       "      <td>1.0</td>\n",
       "      <td>1.0</td>\n",
       "      <td>4.0</td>\n",
       "      <td>2.0</td>\n",
       "      <td>7.0</td>\n",
       "      <td>4.0</td>\n",
       "      <td>4.0</td>\n",
       "      <td>0.0</td>\n",
       "      <td>2.0</td>\n",
       "      <td>0.0</td>\n",
       "      <td>38.0</td>\n",
       "      <td>NaN</td>\n",
       "    </tr>\n",
       "  </tbody>\n",
       "</table>\n",
       "</div>"
      ],
      "text/plain": [
       "           Date  Ross  Chandler  BT1  BT2  BT3  BT4  BT5  GR1  GR2  GR3  GR4  \\\n",
       "578  2020-09-22   6.0       0.0  1.0  2.0  6.0  0.0  4.0  1.0  0.0  0.0  5.0   \n",
       "579  2020-09-24   0.0       9.0  0.0  7.0  5.0  5.0  7.0  0.0  1.0  2.0  2.0   \n",
       "580  2020-09-26   NaN       NaN  NaN  NaN  NaN  NaN  NaN  4.0  0.0  2.0  3.0   \n",
       "581  2020-09-27   5.0       6.0  3.0  6.0  4.0  6.0  3.0  NaN  NaN  NaN  NaN   \n",
       "582  2020-09-29  10.0       3.0  1.0  1.0  4.0  2.0  7.0  4.0  4.0  0.0  2.0   \n",
       "\n",
       "     GR5  Total Etc. Comments  \n",
       "578  1.0   26.0           NaN  \n",
       "579  6.0   44.0           NaN  \n",
       "580  3.0   12.0           NaN  \n",
       "581  NaN   33.0           NaN  \n",
       "582  0.0   38.0           NaN  "
      ]
     },
     "execution_count": 59,
     "metadata": {},
     "output_type": "execute_result"
    }
   ],
   "source": [
    "# Clean eating dataset\n",
    "eat = eat.iloc[1:,:-1]\n",
    "eat.rename(columns = {\"Unnamed: 14\":'Etc. Comments', \"Pieces Eaten\": \"Date\", 'Total: ' : 'Total'}, inplace = True)\n",
    "\n",
    "#get rid of null values at end of dataset\n",
    "eat = eat.head(582)\n",
    "\n",
    "# Change date to just date format, not datetime\n",
    "eat['Date'] = pd.to_datetime(eat['Date']).dt.date\n",
    "\n",
    "\n",
    "eat.tail()"
   ]
  },
  {
   "cell_type": "code",
   "execution_count": 60,
   "metadata": {},
   "outputs": [
    {
     "data": {
      "text/html": [
       "<div>\n",
       "<style scoped>\n",
       "    .dataframe tbody tr th:only-of-type {\n",
       "        vertical-align: middle;\n",
       "    }\n",
       "\n",
       "    .dataframe tbody tr th {\n",
       "        vertical-align: top;\n",
       "    }\n",
       "\n",
       "    .dataframe thead th {\n",
       "        text-align: right;\n",
       "    }\n",
       "</style>\n",
       "<table border=\"1\" class=\"dataframe\">\n",
       "  <thead>\n",
       "    <tr style=\"text-align: right;\">\n",
       "      <th></th>\n",
       "      <th>Date</th>\n",
       "      <th>Ross</th>\n",
       "      <th>Chandler</th>\n",
       "      <th>BT1</th>\n",
       "      <th>BT2</th>\n",
       "      <th>BT3</th>\n",
       "      <th>BT4</th>\n",
       "      <th>BT5</th>\n",
       "      <th>GR1</th>\n",
       "      <th>GR2</th>\n",
       "      <th>GR3</th>\n",
       "      <th>GR4</th>\n",
       "      <th>GR5</th>\n",
       "      <th>Total</th>\n",
       "    </tr>\n",
       "  </thead>\n",
       "  <tbody>\n",
       "    <tr>\n",
       "      <th>578</th>\n",
       "      <td>2020-09-22</td>\n",
       "      <td>0.0</td>\n",
       "      <td>0.0</td>\n",
       "      <td>1.0</td>\n",
       "      <td>4.0</td>\n",
       "      <td>0.0</td>\n",
       "      <td>2.0</td>\n",
       "      <td>2.0</td>\n",
       "      <td>0.0</td>\n",
       "      <td>0.0</td>\n",
       "      <td>0.0</td>\n",
       "      <td>1.0</td>\n",
       "      <td>0.0</td>\n",
       "      <td>10.0</td>\n",
       "    </tr>\n",
       "    <tr>\n",
       "      <th>579</th>\n",
       "      <td>2020-09-24</td>\n",
       "      <td>0.0</td>\n",
       "      <td>0.0</td>\n",
       "      <td>0.0</td>\n",
       "      <td>3.0</td>\n",
       "      <td>1.0</td>\n",
       "      <td>1.0</td>\n",
       "      <td>1.0</td>\n",
       "      <td>0.0</td>\n",
       "      <td>0.0</td>\n",
       "      <td>1.0</td>\n",
       "      <td>0.0</td>\n",
       "      <td>0.0</td>\n",
       "      <td>7.0</td>\n",
       "    </tr>\n",
       "    <tr>\n",
       "      <th>580</th>\n",
       "      <td>2020-09-26</td>\n",
       "      <td>NaN</td>\n",
       "      <td>NaN</td>\n",
       "      <td>NaN</td>\n",
       "      <td>NaN</td>\n",
       "      <td>NaN</td>\n",
       "      <td>NaN</td>\n",
       "      <td>NaN</td>\n",
       "      <td>0.0</td>\n",
       "      <td>0.0</td>\n",
       "      <td>0.0</td>\n",
       "      <td>0.0</td>\n",
       "      <td>1.0</td>\n",
       "      <td>1.0</td>\n",
       "    </tr>\n",
       "    <tr>\n",
       "      <th>581</th>\n",
       "      <td>2020-09-27</td>\n",
       "      <td>0.0</td>\n",
       "      <td>0.0</td>\n",
       "      <td>2.0</td>\n",
       "      <td>0.0</td>\n",
       "      <td>0.0</td>\n",
       "      <td>0.0</td>\n",
       "      <td>1.0</td>\n",
       "      <td>NaN</td>\n",
       "      <td>NaN</td>\n",
       "      <td>NaN</td>\n",
       "      <td>NaN</td>\n",
       "      <td>NaN</td>\n",
       "      <td>3.0</td>\n",
       "    </tr>\n",
       "    <tr>\n",
       "      <th>582</th>\n",
       "      <td>2020-09-29</td>\n",
       "      <td>0.0</td>\n",
       "      <td>0.0</td>\n",
       "      <td>0.0</td>\n",
       "      <td>2.0</td>\n",
       "      <td>0.0</td>\n",
       "      <td>0.0</td>\n",
       "      <td>1.0</td>\n",
       "      <td>0.0</td>\n",
       "      <td>0.0</td>\n",
       "      <td>1.0</td>\n",
       "      <td>0.0</td>\n",
       "      <td>0.0</td>\n",
       "      <td>4.0</td>\n",
       "    </tr>\n",
       "  </tbody>\n",
       "</table>\n",
       "</div>"
      ],
      "text/plain": [
       "           Date  Ross  Chandler  BT1  BT2  BT3  BT4  BT5  GR1  GR2  GR3  GR4  \\\n",
       "578  2020-09-22   0.0       0.0  1.0  4.0  0.0  2.0  2.0  0.0  0.0  0.0  1.0   \n",
       "579  2020-09-24   0.0       0.0  0.0  3.0  1.0  1.0  1.0  0.0  0.0  1.0  0.0   \n",
       "580  2020-09-26   NaN       NaN  NaN  NaN  NaN  NaN  NaN  0.0  0.0  0.0  0.0   \n",
       "581  2020-09-27   0.0       0.0  2.0  0.0  0.0  0.0  1.0  NaN  NaN  NaN  NaN   \n",
       "582  2020-09-29   0.0       0.0  0.0  2.0  0.0  0.0  1.0  0.0  0.0  1.0  0.0   \n",
       "\n",
       "     GR5  Total  \n",
       "578  0.0   10.0  \n",
       "579  0.0    7.0  \n",
       "580  1.0    1.0  \n",
       "581  NaN    3.0  \n",
       "582  0.0    4.0  "
      ]
     },
     "execution_count": 60,
     "metadata": {},
     "output_type": "execute_result"
    }
   ],
   "source": [
    "# Clean Drops Dataset\n",
    "drops = drops.iloc[1:,:-1]\n",
    "drops['Drops'] = pd.to_datetime(drops['Drops']).dt.date\n",
    "drops.rename(columns = {\"Drops\" : \"Date\", \"Total: \":\"Total\"}, inplace = True)\n",
    "drops.tail()"
   ]
  },
  {
   "cell_type": "code",
   "execution_count": 80,
   "metadata": {},
   "outputs": [
    {
     "data": {
      "text/html": [
       "<div>\n",
       "<style scoped>\n",
       "    .dataframe tbody tr th:only-of-type {\n",
       "        vertical-align: middle;\n",
       "    }\n",
       "\n",
       "    .dataframe tbody tr th {\n",
       "        vertical-align: top;\n",
       "    }\n",
       "\n",
       "    .dataframe thead th {\n",
       "        text-align: right;\n",
       "    }\n",
       "</style>\n",
       "<table border=\"1\" class=\"dataframe\">\n",
       "  <thead>\n",
       "    <tr style=\"text-align: right;\">\n",
       "      <th></th>\n",
       "      <th>Date</th>\n",
       "      <th>Ross</th>\n",
       "      <th>Chandler</th>\n",
       "      <th>BT1</th>\n",
       "      <th>BT2</th>\n",
       "      <th>BT3</th>\n",
       "      <th>BT4</th>\n",
       "      <th>BT5</th>\n",
       "      <th>GR1</th>\n",
       "      <th>GR2</th>\n",
       "      <th>...</th>\n",
       "      <th>GR4</th>\n",
       "      <th>GR5</th>\n",
       "      <th>Total</th>\n",
       "      <th>All_GR</th>\n",
       "      <th>All_BT</th>\n",
       "      <th>All_SS</th>\n",
       "      <th>male</th>\n",
       "      <th>female</th>\n",
       "      <th>Day_of_week</th>\n",
       "      <th>Month</th>\n",
       "    </tr>\n",
       "  </thead>\n",
       "  <tbody>\n",
       "    <tr>\n",
       "      <th>578</th>\n",
       "      <td>2020-09-22</td>\n",
       "      <td>6.0</td>\n",
       "      <td>1.0</td>\n",
       "      <td>4.0</td>\n",
       "      <td>6.0</td>\n",
       "      <td>5.0</td>\n",
       "      <td>4.0</td>\n",
       "      <td>7.0</td>\n",
       "      <td>2.0</td>\n",
       "      <td>1.0</td>\n",
       "      <td>...</td>\n",
       "      <td>4.0</td>\n",
       "      <td>1.0</td>\n",
       "      <td>46.0</td>\n",
       "      <td>13.0</td>\n",
       "      <td>26.0</td>\n",
       "      <td>7.0</td>\n",
       "      <td>20.0</td>\n",
       "      <td>26.0</td>\n",
       "      <td>1</td>\n",
       "      <td>9</td>\n",
       "    </tr>\n",
       "    <tr>\n",
       "      <th>579</th>\n",
       "      <td>2020-09-24</td>\n",
       "      <td>8.0</td>\n",
       "      <td>18.0</td>\n",
       "      <td>2.0</td>\n",
       "      <td>9.0</td>\n",
       "      <td>10.0</td>\n",
       "      <td>10.0</td>\n",
       "      <td>11.0</td>\n",
       "      <td>5.0</td>\n",
       "      <td>6.0</td>\n",
       "      <td>...</td>\n",
       "      <td>7.0</td>\n",
       "      <td>9.0</td>\n",
       "      <td>98.0</td>\n",
       "      <td>30.0</td>\n",
       "      <td>42.0</td>\n",
       "      <td>26.0</td>\n",
       "      <td>44.0</td>\n",
       "      <td>54.0</td>\n",
       "      <td>3</td>\n",
       "      <td>9</td>\n",
       "    </tr>\n",
       "    <tr>\n",
       "      <th>580</th>\n",
       "      <td>2020-09-26</td>\n",
       "      <td>NaN</td>\n",
       "      <td>NaN</td>\n",
       "      <td>NaN</td>\n",
       "      <td>NaN</td>\n",
       "      <td>NaN</td>\n",
       "      <td>NaN</td>\n",
       "      <td>NaN</td>\n",
       "      <td>6.0</td>\n",
       "      <td>2.0</td>\n",
       "      <td>...</td>\n",
       "      <td>5.0</td>\n",
       "      <td>8.0</td>\n",
       "      <td>24.0</td>\n",
       "      <td>24.0</td>\n",
       "      <td>NaN</td>\n",
       "      <td>NaN</td>\n",
       "      <td>6.0</td>\n",
       "      <td>18.0</td>\n",
       "      <td>5</td>\n",
       "      <td>9</td>\n",
       "    </tr>\n",
       "    <tr>\n",
       "      <th>581</th>\n",
       "      <td>2020-09-27</td>\n",
       "      <td>10.0</td>\n",
       "      <td>19.0</td>\n",
       "      <td>9.0</td>\n",
       "      <td>10.0</td>\n",
       "      <td>8.0</td>\n",
       "      <td>16.0</td>\n",
       "      <td>3.0</td>\n",
       "      <td>NaN</td>\n",
       "      <td>NaN</td>\n",
       "      <td>...</td>\n",
       "      <td>NaN</td>\n",
       "      <td>NaN</td>\n",
       "      <td>75.0</td>\n",
       "      <td>NaN</td>\n",
       "      <td>46.0</td>\n",
       "      <td>29.0</td>\n",
       "      <td>41.0</td>\n",
       "      <td>34.0</td>\n",
       "      <td>6</td>\n",
       "      <td>9</td>\n",
       "    </tr>\n",
       "    <tr>\n",
       "      <th>582</th>\n",
       "      <td>2020-09-29</td>\n",
       "      <td>15.0</td>\n",
       "      <td>5.0</td>\n",
       "      <td>6.0</td>\n",
       "      <td>6.0</td>\n",
       "      <td>4.0</td>\n",
       "      <td>4.0</td>\n",
       "      <td>7.0</td>\n",
       "      <td>4.0</td>\n",
       "      <td>1.0</td>\n",
       "      <td>...</td>\n",
       "      <td>4.0</td>\n",
       "      <td>1.0</td>\n",
       "      <td>61.0</td>\n",
       "      <td>14.0</td>\n",
       "      <td>27.0</td>\n",
       "      <td>20.0</td>\n",
       "      <td>37.0</td>\n",
       "      <td>24.0</td>\n",
       "      <td>1</td>\n",
       "      <td>9</td>\n",
       "    </tr>\n",
       "  </tbody>\n",
       "</table>\n",
       "<p>5 rows × 21 columns</p>\n",
       "</div>"
      ],
      "text/plain": [
       "           Date  Ross  Chandler  BT1   BT2   BT3   BT4   BT5  GR1  GR2  ...  \\\n",
       "578  2020-09-22   6.0       1.0  4.0   6.0   5.0   4.0   7.0  2.0  1.0  ...   \n",
       "579  2020-09-24   8.0      18.0  2.0   9.0  10.0  10.0  11.0  5.0  6.0  ...   \n",
       "580  2020-09-26   NaN       NaN  NaN   NaN   NaN   NaN   NaN  6.0  2.0  ...   \n",
       "581  2020-09-27  10.0      19.0  9.0  10.0   8.0  16.0   3.0  NaN  NaN  ...   \n",
       "582  2020-09-29  15.0       5.0  6.0   6.0   4.0   4.0   7.0  4.0  1.0  ...   \n",
       "\n",
       "     GR4  GR5  Total  All_GR  All_BT  All_SS  male  female  Day_of_week  Month  \n",
       "578  4.0  1.0   46.0    13.0    26.0     7.0  20.0    26.0            1      9  \n",
       "579  7.0  9.0   98.0    30.0    42.0    26.0  44.0    54.0            3      9  \n",
       "580  5.0  8.0   24.0    24.0     NaN     NaN   6.0    18.0            5      9  \n",
       "581  NaN  NaN   75.0     NaN    46.0    29.0  41.0    34.0            6      9  \n",
       "582  4.0  1.0   61.0    14.0    27.0    20.0  37.0    24.0            1      9  \n",
       "\n",
       "[5 rows x 21 columns]"
      ]
     },
     "execution_count": 80,
     "metadata": {},
     "output_type": "execute_result"
    }
   ],
   "source": [
    "# Clean Targets Dataset\n",
    "targets = targets.iloc[1:,:-1]\n",
    "targets.rename(columns = {\"Unnamed: 14\":'Etc. Comments', \"Targets\": \"Date\", \"Total: \": \"Total\"}, inplace = True)\n",
    "\n",
    "#get rid of null values at end of dataset\n",
    "targets = targets.head(582)\n",
    "\n",
    "# Change date to just date format, not datetime\n",
    "targets['Date'] = pd.to_datetime(targets['Date']).dt.date\n",
    "\n",
    "\n",
    "targets.tail()"
   ]
  },
  {
   "cell_type": "markdown",
   "metadata": {},
   "source": [
    "# Other Factors Data Cleaning and Dummy Variable Creation for Foods\n"
   ]
  },
  {
   "cell_type": "code",
   "execution_count": 62,
   "metadata": {},
   "outputs": [
    {
     "name": "stderr",
     "output_type": "stream",
     "text": [
      "/home/stats/.local/lib/python3.6/site-packages/ipykernel_launcher.py:5: SettingWithCopyWarning: \n",
      "A value is trying to be set on a copy of a slice from a DataFrame.\n",
      "Try using .loc[row_indexer,col_indexer] = value instead\n",
      "\n",
      "See the caveats in the documentation: https://pandas.pydata.org/pandas-docs/stable/user_guide/indexing.html#returning-a-view-versus-a-copy\n",
      "  \"\"\"\n",
      "/home/stats/.local/lib/python3.6/site-packages/ipykernel_launcher.py:7: SettingWithCopyWarning: \n",
      "A value is trying to be set on a copy of a slice from a DataFrame.\n",
      "Try using .loc[row_indexer,col_indexer] = value instead\n",
      "\n",
      "See the caveats in the documentation: https://pandas.pydata.org/pandas-docs/stable/user_guide/indexing.html#returning-a-view-versus-a-copy\n",
      "  import sys\n"
     ]
    },
    {
     "data": {
      "text/html": [
       "<div>\n",
       "<style scoped>\n",
       "    .dataframe tbody tr th:only-of-type {\n",
       "        vertical-align: middle;\n",
       "    }\n",
       "\n",
       "    .dataframe tbody tr th {\n",
       "        vertical-align: top;\n",
       "    }\n",
       "\n",
       "    .dataframe thead th {\n",
       "        text-align: right;\n",
       "    }\n",
       "</style>\n",
       "<table border=\"1\" class=\"dataframe\">\n",
       "  <thead>\n",
       "    <tr style=\"text-align: right;\">\n",
       "      <th></th>\n",
       "      <th>Date</th>\n",
       "      <th>Saury</th>\n",
       "      <th>Blue Runner</th>\n",
       "      <th>Squid</th>\n",
       "      <th>Mackerel</th>\n",
       "      <th>Herring</th>\n",
       "      <th>Sardine</th>\n",
       "      <th>Mazuri Vitamins</th>\n",
       "      <th>Garlic</th>\n",
       "      <th>Salmon</th>\n",
       "      <th>Bonito</th>\n",
       "      <th>Bluefish</th>\n",
       "      <th>Mahi</th>\n",
       "      <th>Goggle Eye</th>\n",
       "      <th>Humbolt Squid</th>\n",
       "    </tr>\n",
       "  </thead>\n",
       "  <tbody>\n",
       "    <tr>\n",
       "      <th>0</th>\n",
       "      <td>2017-12-05</td>\n",
       "      <td>1.0</td>\n",
       "      <td>0.0</td>\n",
       "      <td>0.0</td>\n",
       "      <td>0.0</td>\n",
       "      <td>0.0</td>\n",
       "      <td>0</td>\n",
       "      <td>1.0</td>\n",
       "      <td>1.0</td>\n",
       "      <td>0.0</td>\n",
       "      <td>0.0</td>\n",
       "      <td>0.0</td>\n",
       "      <td>0.0</td>\n",
       "      <td>0.0</td>\n",
       "      <td>0.0</td>\n",
       "    </tr>\n",
       "    <tr>\n",
       "      <th>1</th>\n",
       "      <td>2017-12-07</td>\n",
       "      <td>0.0</td>\n",
       "      <td>1.0</td>\n",
       "      <td>1.0</td>\n",
       "      <td>1.0</td>\n",
       "      <td>0.0</td>\n",
       "      <td>0</td>\n",
       "      <td>1.0</td>\n",
       "      <td>1.0</td>\n",
       "      <td>0.0</td>\n",
       "      <td>0.0</td>\n",
       "      <td>0.0</td>\n",
       "      <td>0.0</td>\n",
       "      <td>0.0</td>\n",
       "      <td>0.0</td>\n",
       "    </tr>\n",
       "    <tr>\n",
       "      <th>2</th>\n",
       "      <td>2017-12-09</td>\n",
       "      <td>0.0</td>\n",
       "      <td>0.0</td>\n",
       "      <td>0.0</td>\n",
       "      <td>0.0</td>\n",
       "      <td>1.0</td>\n",
       "      <td>0</td>\n",
       "      <td>0.0</td>\n",
       "      <td>1.0</td>\n",
       "      <td>0.0</td>\n",
       "      <td>0.0</td>\n",
       "      <td>0.0</td>\n",
       "      <td>0.0</td>\n",
       "      <td>0.0</td>\n",
       "      <td>0.0</td>\n",
       "    </tr>\n",
       "    <tr>\n",
       "      <th>3</th>\n",
       "      <td>2017-12-10</td>\n",
       "      <td>0.0</td>\n",
       "      <td>0.0</td>\n",
       "      <td>0.0</td>\n",
       "      <td>1.0</td>\n",
       "      <td>0.0</td>\n",
       "      <td>1</td>\n",
       "      <td>0.0</td>\n",
       "      <td>1.0</td>\n",
       "      <td>0.0</td>\n",
       "      <td>0.0</td>\n",
       "      <td>0.0</td>\n",
       "      <td>0.0</td>\n",
       "      <td>0.0</td>\n",
       "      <td>0.0</td>\n",
       "    </tr>\n",
       "    <tr>\n",
       "      <th>4</th>\n",
       "      <td>2017-12-12</td>\n",
       "      <td>1.0</td>\n",
       "      <td>0.0</td>\n",
       "      <td>0.0</td>\n",
       "      <td>0.0</td>\n",
       "      <td>0.0</td>\n",
       "      <td>0</td>\n",
       "      <td>1.0</td>\n",
       "      <td>1.0</td>\n",
       "      <td>0.0</td>\n",
       "      <td>0.0</td>\n",
       "      <td>0.0</td>\n",
       "      <td>0.0</td>\n",
       "      <td>0.0</td>\n",
       "      <td>0.0</td>\n",
       "    </tr>\n",
       "  </tbody>\n",
       "</table>\n",
       "</div>"
      ],
      "text/plain": [
       "        Date  Saury  Blue Runner  Squid  Mackerel  Herring Sardine  \\\n",
       "0 2017-12-05    1.0          0.0    0.0       0.0      0.0       0   \n",
       "1 2017-12-07    0.0          1.0    1.0       1.0      0.0       0   \n",
       "2 2017-12-09    0.0          0.0    0.0       0.0      1.0       0   \n",
       "3 2017-12-10    0.0          0.0    0.0       1.0      0.0       1   \n",
       "4 2017-12-12    1.0          0.0    0.0       0.0      0.0       0   \n",
       "\n",
       "   Mazuri Vitamins  Garlic  Salmon  Bonito  Bluefish  Mahi  Goggle Eye  \\\n",
       "0              1.0     1.0     0.0     0.0       0.0   0.0         0.0   \n",
       "1              1.0     1.0     0.0     0.0       0.0   0.0         0.0   \n",
       "2              0.0     1.0     0.0     0.0       0.0   0.0         0.0   \n",
       "3              0.0     1.0     0.0     0.0       0.0   0.0         0.0   \n",
       "4              1.0     1.0     0.0     0.0       0.0   0.0         0.0   \n",
       "\n",
       "   Humbolt Squid  \n",
       "0            0.0  \n",
       "1            0.0  \n",
       "2            0.0  \n",
       "3            0.0  \n",
       "4            0.0  "
      ]
     },
     "execution_count": 62,
     "metadata": {},
     "output_type": "execute_result"
    }
   ],
   "source": [
    "dummy_factors = other_factors[['Date','Saury', 'Blue Runner',\n",
    "                'Squid', 'Mackerel', 'Herring', 'Sardine',\n",
    "                'Mazuri Vitamins', 'Garlic', 'Salmon', 'Bonito', 'Bluefish', 'Mahi',\n",
    "                    'Goggle Eye', 'Humbolt Squid']]\n",
    "dummy_factors['Date'] = pd.to_datetime(dummy_factors['Date'])\n",
    "for i in dummy_factors:\n",
    "    dummy_factors[i] = dummy_factors[i].fillna(0)\n",
    "dummy_factors.head()"
   ]
  },
  {
   "cell_type": "markdown",
   "metadata": {},
   "source": [
    "# Subset Creation"
   ]
  },
  {
   "cell_type": "code",
   "execution_count": 63,
   "metadata": {},
   "outputs": [],
   "source": [
    "# All Sharks Subset\n",
    "All_Sharks = eat[['Ross', 'Chandler','BT1','BT2','BT3','BT4','BT5','GR1','GR2','GR3','GR4', 'GR5','Total']]\n",
    "\n",
    "# All SS Subset\n",
    "All_SS = eat[['Ross', 'Chandler']]\n",
    "\n",
    "# All BT Subset\n",
    "All_BT = eat[['BT1', 'BT2', 'BT3', 'BT4', 'BT5']]\n",
    "\n",
    "# All GR Subset\n",
    "All_GR = eat[['GR1', 'GR2', 'GR3', 'GR4', 'GR5']]\n",
    "\n",
    "# Male Subset\n",
    "Male = eat[[\"BT1\",\"BT5\",\"GR1\",\"Ross\",\"Chandler\"]]\n",
    "\n",
    "# Female Subset\n",
    "female = eat[[\"BT2\",\"BT3\",\"BT4\",\"GR2\",\"GR3\",\"GR4\",\"GR5\"]]\n",
    "\n",
    "# Append all subsets to original datasets\n",
    "# eat dataset\n",
    "eat[\"All_GR\"] = eat['GR1'] + eat['GR2'] + eat['GR3'] + eat['GR4'] + eat['GR5']\n",
    "eat[\"All_BT\"] = eat['BT1'] + eat['BT2'] + eat['BT3'] + eat['BT4'] + eat['BT5']\n",
    "eat[\"All_SS\"] = eat['Ross'] + eat['Chandler']\n",
    "eat[\"male\"] = eat[[\"BT1\",\"BT5\",\"GR1\",\"Ross\",\"Chandler\"]].sum(axis = 1)\n",
    "eat[\"female\"] = eat[[\"BT2\",\"BT3\",\"BT4\",\"GR2\",\"GR3\",\"GR4\",\"GR5\"]].sum(axis = 1)\n",
    "\n",
    "# drop dataset\n",
    "drops[\"All_GR\"] = drops['GR1'] + drops['GR2'] + drops['GR3'] + drops['GR4'] + drops['GR5']\n",
    "drops[\"All_BT\"] = drops['BT1'] + drops['BT2'] + drops['BT3'] + drops['BT4'] + drops['BT5']\n",
    "drops[\"All_SS\"] = drops['Ross'] + drops['Chandler']\n",
    "drops[\"male\"] = drops[[\"BT1\",\"BT5\",\"GR1\",\"Ross\",\"Chandler\"]].sum(axis = 1)\n",
    "drops[\"female\"] = drops[[\"BT2\",\"BT3\",\"BT4\",\"GR2\",\"GR3\",\"GR4\",\"GR5\"]].sum(axis = 1)\n",
    "\n",
    "# target dataset\n",
    "targets[\"All_GR\"] = targets['GR1'] + targets['GR2'] + targets['GR3'] + targets['GR4'] + targets['GR5']\n",
    "targets[\"All_BT\"] = targets['BT1'] + targets['BT2'] + targets['BT3'] + targets['BT4'] + targets['BT5']\n",
    "targets[\"All_SS\"] = targets['Ross'] + targets['Chandler']\n",
    "targets[\"male\"] = targets[[\"BT1\",\"BT5\",\"GR1\",\"Ross\",\"Chandler\"]].sum(axis = 1)\n",
    "targets[\"female\"] = targets[[\"BT2\",\"BT3\",\"BT4\",\"GR2\",\"GR3\",\"GR4\",\"GR5\"]].sum(axis = 1)\n"
   ]
  },
  {
   "cell_type": "markdown",
   "metadata": {},
   "source": [
    "# Create Tables for Poisson Regression Time Series For Pieces Eaten For All Sharks"
   ]
  },
  {
   "cell_type": "code",
   "execution_count": 64,
   "metadata": {},
   "outputs": [],
   "source": [
    "# create additional time variables for eating\n",
    "eat['Date'] = pd.to_datetime(eat['Date'])\n",
    "eat['Day_of_week'] = pd.to_datetime(eat['Date']).dt.dayofweek\n",
    "eat['Month'] = pd.to_datetime(eat['Date']).dt.month\n",
    "eat['Day'] = pd.to_datetime(eat['Date']).dt.day\n",
    "eat_table1 = eat[['Total','Date', 'Day', 'Day_of_week', 'Month']]"
   ]
  },
  {
   "cell_type": "code",
   "execution_count": 66,
   "metadata": {},
   "outputs": [
    {
     "name": "stdout",
     "output_type": "stream",
     "text": [
      "Training data set length=467\n",
      "Testing data set length=115\n"
     ]
    }
   ],
   "source": [
    "# Create training and testing datasets\n",
    "mask = np.random.rand(len(eat_table1)) < 0.8\n",
    "eat_train = eat_table1[mask]\n",
    "eat_test = eat_table1[~mask]\n",
    "print('Training data set length='+str(len(eat_train)))\n",
    "print('Testing data set length='+str(len(eat_test)))"
   ]
  },
  {
   "cell_type": "code",
   "execution_count": 67,
   "metadata": {},
   "outputs": [],
   "source": [
    "# setup Poisson regression expression\n",
    "expr = \"\"\"Total ~ Day_of_week + Month + Day\"\"\""
   ]
  },
  {
   "cell_type": "code",
   "execution_count": 68,
   "metadata": {},
   "outputs": [],
   "source": [
    "y_train, X_train = dmatrices(expr, eat_train, return_type='dataframe')\n",
    "y_test, X_test = dmatrices(expr, eat_test, return_type='dataframe')"
   ]
  },
  {
   "cell_type": "code",
   "execution_count": 69,
   "metadata": {},
   "outputs": [
    {
     "name": "stdout",
     "output_type": "stream",
     "text": [
      "                 Generalized Linear Model Regression Results                  \n",
      "==============================================================================\n",
      "Dep. Variable:                  Total   No. Observations:                  466\n",
      "Model:                            GLM   Df Residuals:                      462\n",
      "Model Family:                 Poisson   Df Model:                            3\n",
      "Link Function:                    log   Scale:                          1.0000\n",
      "Method:                          IRLS   Log-Likelihood:                -2020.2\n",
      "Date:                Wed, 02 Dec 2020   Deviance:                       1858.0\n",
      "Time:                        17:38:05   Pearson chi2:                 1.76e+03\n",
      "No. Iterations:                     4                                         \n",
      "Covariance Type:            nonrobust                                         \n",
      "===============================================================================\n",
      "                  coef    std err          z      P>|z|      [0.025      0.975]\n",
      "-------------------------------------------------------------------------------\n",
      "Intercept       3.3902      0.033    102.339      0.000       3.325       3.455\n",
      "Day_of_week    -0.1147      0.005    -21.961      0.000      -0.125      -0.104\n",
      "Month           0.0112      0.003      3.688      0.000       0.005       0.017\n",
      "Day            -0.0028      0.001     -2.424      0.015      -0.005      -0.001\n",
      "===============================================================================\n"
     ]
    }
   ],
   "source": [
    "# Fit model and print results of model\n",
    "poisson_training_results = sm.GLM(y_train, X_train, family=sm.families.Poisson()).fit()\n",
    "print(poisson_training_results.summary())"
   ]
  },
  {
   "cell_type": "code",
   "execution_count": 70,
   "metadata": {},
   "outputs": [
    {
     "name": "stdout",
     "output_type": "stream",
     "text": [
      "          mean   mean_se  mean_ci_lower  mean_ci_upper\n",
      "4    16.573421  0.419617      15.771059      17.416603\n",
      "5    29.244552  0.687937      27.926831      30.624450\n",
      "6    23.119091  0.464665      22.226068      24.047994\n",
      "13   28.115089  0.738238      26.704770      29.599888\n",
      "16   15.622620  0.481674      14.706515      16.595792\n",
      "..         ...       ...            ...            ...\n",
      "563  21.315470  0.376964      20.589292      22.067259\n",
      "571  22.610696  0.328445      21.976033      23.263688\n",
      "572  17.874739  0.293198      17.309220      18.458734\n",
      "578  27.496831  0.524518      26.487774      28.544327\n",
      "581  15.279075  0.363875      14.582282      16.009163\n",
      "\n",
      "[115 rows x 4 columns]\n"
     ]
    }
   ],
   "source": [
    "# Create prediction of number of fish eaten by All Sharks\n",
    "poisson_predictions = poisson_training_results.get_prediction(X_test)\n",
    " \n",
    "#.summary_frame() returns a pandas DataFrame\n",
    "predictions_summary_frame = poisson_predictions.summary_frame()\n",
    "print(predictions_summary_frame)"
   ]
  },
  {
   "cell_type": "code",
   "execution_count": 71,
   "metadata": {},
   "outputs": [
    {
     "data": {
      "image/png": "[encoded data removed]",
      "text/plain": [
       "<Figure size 432x288 with 1 Axes>"
      ]
     },
     "metadata": {
      "needs_background": "light"
     },
     "output_type": "display_data"
    }
   ],
   "source": [
    "# Create graph of predicted counts alongside actual counts\n",
    "\n",
    "predicted_counts=predictions_summary_frame['mean']\n",
    "actual_counts = y_test['Total']\n",
    " \n",
    "fig = plt.figure()\n",
    "fig.suptitle('Predicted Number of Fish Eaten By All Sharks')\n",
    " \n",
    "predicted, = plt.plot(X_test.index, predicted_counts, 'go-', label='Predicted counts')\n",
    "actual, = plt.plot(X_test.index, actual_counts, 'ro-', label='Actual counts')\n",
    " \n",
    "plt.legend(handles=[predicted, actual])\n",
    " \n",
    "plt.show()"
   ]
  },
  {
   "cell_type": "markdown",
   "metadata": {},
   "source": [
    "# Poisson Regression for Number of Drops for All Sharks"
   ]
  },
  {
   "cell_type": "code",
   "execution_count": 72,
   "metadata": {},
   "outputs": [],
   "source": [
    "# create additional time variables for dropping\n",
    "drops['Date'] = pd.to_datetime(drops['Date'])\n",
    "drops['Day_of_week'] = pd.to_datetime(drops['Date']).dt.dayofweek\n",
    "drops['Month'] = pd.to_datetime(drops['Date']).dt.month\n",
    "drops['Day'] = pd.to_datetime(drops['Date']).dt.day\n",
    "drops_table = drops[['Total','Date', 'Day', 'Day_of_week', 'Month']]"
   ]
  },
  {
   "cell_type": "code",
   "execution_count": 73,
   "metadata": {},
   "outputs": [
    {
     "name": "stdout",
     "output_type": "stream",
     "text": [
      "Training data set length=474\n",
      "Testing data set length=108\n"
     ]
    }
   ],
   "source": [
    "# Create training and testing datasets\n",
    "mask = np.random.rand(len(drops_table)) < 0.8\n",
    "drops_train = drops_table[mask]\n",
    "drops_test = drops_table[~mask]\n",
    "print('Training data set length='+str(len(drops_train)))\n",
    "print('Testing data set length='+str(len(drops_test)))"
   ]
  },
  {
   "cell_type": "code",
   "execution_count": 74,
   "metadata": {},
   "outputs": [],
   "source": [
    "# setup Poisson regression expression\n",
    "expr = \"\"\"Total ~ Day_of_week + Month + Day\"\"\""
   ]
  },
  {
   "cell_type": "code",
   "execution_count": 75,
   "metadata": {},
   "outputs": [],
   "source": [
    "y_train, X_train = dmatrices(expr, drops_train, return_type='dataframe')\n",
    "y_test, X_test = dmatrices(expr, drops_test, return_type='dataframe')"
   ]
  },
  {
   "cell_type": "code",
   "execution_count": 76,
   "metadata": {},
   "outputs": [
    {
     "name": "stdout",
     "output_type": "stream",
     "text": [
      "                 Generalized Linear Model Regression Results                  \n",
      "==============================================================================\n",
      "Dep. Variable:                  Total   No. Observations:                  474\n",
      "Model:                            GLM   Df Residuals:                      470\n",
      "Model Family:                 Poisson   Df Model:                            3\n",
      "Link Function:                    log   Scale:                          1.0000\n",
      "Method:                          IRLS   Log-Likelihood:                -1239.8\n",
      "Date:                Wed, 02 Dec 2020   Deviance:                       1250.4\n",
      "Time:                        17:38:26   Pearson chi2:                 1.23e+03\n",
      "No. Iterations:                     5                                         \n",
      "Covariance Type:            nonrobust                                         \n",
      "===============================================================================\n",
      "                  coef    std err          z      P>|z|      [0.025      0.975]\n",
      "-------------------------------------------------------------------------------\n",
      "Intercept       1.6536      0.079     20.912      0.000       1.499       1.809\n",
      "Day_of_week    -0.1021      0.012     -8.282      0.000      -0.126      -0.078\n",
      "Month          -0.0086      0.007     -1.195      0.232      -0.023       0.006\n",
      "Day             0.0002      0.003      0.074      0.941      -0.005       0.006\n",
      "===============================================================================\n"
     ]
    }
   ],
   "source": [
    "# Fit model and print results of model\n",
    "poisson_training_results = sm.GLM(y_train, X_train, family=sm.families.Poisson()).fit()\n",
    "print(poisson_training_results.summary())"
   ]
  },
  {
   "cell_type": "code",
   "execution_count": 78,
   "metadata": {},
   "outputs": [
    {
     "name": "stdout",
     "output_type": "stream",
     "text": [
      "         mean   mean_se  mean_ci_lower  mean_ci_upper\n",
      "3    2.835060  0.160040       2.538117       3.166744\n",
      "7    2.839188  0.150413       2.559174       3.149840\n",
      "10   3.485671  0.173689       3.161343       3.843272\n",
      "15   2.847461  0.187971       2.501883       3.240773\n",
      "21   4.687246  0.263824       4.197662       5.233931\n",
      "..        ...       ...            ...            ...\n",
      "549  2.645732  0.154981       2.358764       2.967613\n",
      "551  3.596403  0.141975       3.328630       3.885717\n",
      "577  2.632914  0.127314       2.394842       2.894652\n",
      "578  4.387523  0.193894       4.023491       4.784492\n",
      "580  2.919434  0.140000       2.657540       3.207137\n",
      "\n",
      "[108 rows x 4 columns]\n"
     ]
    }
   ],
   "source": [
    "# Create prediction of number of fish dropped by All Sharks\n",
    "poisson_predictions = poisson_training_results.get_prediction(X_test)\n",
    " \n",
    "#.summary_frame() returns a pandas DataFrame\n",
    "predictions_summary_frame = poisson_predictions.summary_frame()\n",
    "print(predictions_summary_frame)"
   ]
  },
  {
   "cell_type": "code",
   "execution_count": 79,
   "metadata": {},
   "outputs": [
    {
     "data": {
      "image/png": "[encoded data removed]",
      "text/plain": [
       "<Figure size 432x288 with 1 Axes>"
      ]
     },
     "metadata": {
      "needs_background": "light"
     },
     "output_type": "display_data"
    }
   ],
   "source": [
    "# Create graph of predicted counts alongside actual counts\n",
    "\n",
    "predicted_counts=predictions_summary_frame['mean']\n",
    "actual_counts = y_test['Total']\n",
    " \n",
    "fig = plt.figure()\n",
    "fig.suptitle('Predicted Number of Fish Dropped By All Sharks')\n",
    " \n",
    "predicted, = plt.plot(X_test.index, predicted_counts, 'go-', label='Predicted counts')\n",
    "actual, = plt.plot(X_test.index, actual_counts, 'ro-', label='Actual counts')\n",
    " \n",
    "plt.legend(handles=[predicted, actual])\n",
    " \n",
    "plt.show()"
   ]
  },
  {
   "cell_type": "markdown",
   "metadata": {},
   "source": [
    "# Poisson Regression for Number of Targets for All Sharks"
   ]
  },
  {
   "cell_type": "code",
   "execution_count": 81,
   "metadata": {},
   "outputs": [],
   "source": [
    "# create additional time variables for Targeting\n",
    "targets['Date'] = pd.to_datetime(targets['Date'])\n",
    "targets['Day_of_week'] = pd.to_datetime(targets['Date']).dt.dayofweek\n",
    "targets['Month'] = pd.to_datetime(targets['Date']).dt.month\n",
    "targets['Day'] = pd.to_datetime(targets['Date']).dt.day\n",
    "targets_table = targets[['Total','Date', 'Day', 'Day_of_week', 'Month']]"
   ]
  },
  {
   "cell_type": "code",
   "execution_count": 82,
   "metadata": {},
   "outputs": [
    {
     "name": "stdout",
     "output_type": "stream",
     "text": [
      "Training data set length=476\n",
      "Testing data set length=105\n"
     ]
    }
   ],
   "source": [
    "# Create training and testing datasets\n",
    "mask = np.random.rand(len(targets_table)) < 0.8\n",
    "targets_train = targets_table[mask]\n",
    "targets_test = targets_table[~mask]\n",
    "print('Training data set length='+str(len(targets_train)))\n",
    "print('Testing data set length='+str(len(targets_test)))"
   ]
  },
  {
   "cell_type": "code",
   "execution_count": 83,
   "metadata": {},
   "outputs": [],
   "source": [
    "# setup Poisson regression expression\n",
    "expr = \"\"\"Total ~ Day_of_week + Month + Day\"\"\""
   ]
  },
  {
   "cell_type": "code",
   "execution_count": 85,
   "metadata": {},
   "outputs": [],
   "source": [
    "y_train, X_train = dmatrices(expr, targets_train, return_type='dataframe')\n",
    "y_test, X_test = dmatrices(expr, targets_test, return_type='dataframe')"
   ]
  },
  {
   "cell_type": "code",
   "execution_count": 86,
   "metadata": {},
   "outputs": [
    {
     "name": "stdout",
     "output_type": "stream",
     "text": [
      "                 Generalized Linear Model Regression Results                  \n",
      "==============================================================================\n",
      "Dep. Variable:                  Total   No. Observations:                  476\n",
      "Model:                            GLM   Df Residuals:                      472\n",
      "Model Family:                 Poisson   Df Model:                            3\n",
      "Link Function:                    log   Scale:                          1.0000\n",
      "Method:                          IRLS   Log-Likelihood:                -4853.9\n",
      "Date:                Wed, 02 Dec 2020   Deviance:                       7012.7\n",
      "Time:                        17:44:25   Pearson chi2:                 7.01e+03\n",
      "No. Iterations:                     4                                         \n",
      "Covariance Type:            nonrobust                                         \n",
      "===============================================================================\n",
      "                  coef    std err          z      P>|z|      [0.025      0.975]\n",
      "-------------------------------------------------------------------------------\n",
      "Intercept       4.2758      0.020    214.063      0.000       4.237       4.315\n",
      "Day_of_week    -0.0651      0.003    -20.924      0.000      -0.071      -0.059\n",
      "Month          -0.0052      0.002     -2.845      0.004      -0.009      -0.002\n",
      "Day         -6.862e-05      0.001     -0.097      0.923      -0.001       0.001\n",
      "===============================================================================\n"
     ]
    }
   ],
   "source": [
    "# Fit model and print results of model\n",
    "poisson_training_results = sm.GLM(y_train, X_train, family=sm.families.Poisson()).fit()\n",
    "print(poisson_training_results.summary())"
   ]
  },
  {
   "cell_type": "code",
   "execution_count": 87,
   "metadata": {},
   "outputs": [
    {
     "name": "stdout",
     "output_type": "stream",
     "text": [
      "          mean   mean_se  mean_ci_lower  mean_ci_upper\n",
      "7    48.761041  0.639339      47.523923      50.030363\n",
      "9    63.248834  0.906472      61.496902      65.050676\n",
      "21   67.015601  0.963177      65.154150      68.930235\n",
      "23   51.640182  0.652052      50.377867      52.934127\n",
      "28   48.359536  0.708020      46.991563      49.767333\n",
      "..         ...       ...            ...            ...\n",
      "550  64.643809  0.855016      62.989543      66.341520\n",
      "560  49.764723  0.477222      48.838120      50.708905\n",
      "569  46.438084  0.618637      45.241271      47.666557\n",
      "571  56.436076  0.511073      55.443228      57.446703\n",
      "577  46.393495  0.543490      45.340410      47.471040\n",
      "\n",
      "[105 rows x 4 columns]\n"
     ]
    }
   ],
   "source": [
    "# Create prediction of number of fish dropped by All Sharks\n",
    "poisson_predictions = poisson_training_results.get_prediction(X_test)\n",
    " \n",
    "#.summary_frame() returns a pandas DataFrame\n",
    "predictions_summary_frame = poisson_predictions.summary_frame()\n",
    "print(predictions_summary_frame)"
   ]
  },
  {
   "cell_type": "code",
   "execution_count": 88,
   "metadata": {},
   "outputs": [
    {
     "data": {
      "image/png": "[encoded data removed]",
      "text/plain": [
       "<Figure size 432x288 with 1 Axes>"
      ]
     },
     "metadata": {
      "needs_background": "light"
     },
     "output_type": "display_data"
    }
   ],
   "source": [
    "# Create graph of predicted counts alongside actual counts\n",
    "\n",
    "predicted_counts=predictions_summary_frame['mean']\n",
    "actual_counts = y_test['Total']\n",
    " \n",
    "fig = plt.figure()\n",
    "fig.suptitle('Predicted Number of Fish Dropped By All Sharks')\n",
    " \n",
    "predicted, = plt.plot(X_test.index, predicted_counts, 'go-', label='Predicted counts')\n",
    "actual, = plt.plot(X_test.index, actual_counts, 'ro-', label='Actual counts')\n",
    " \n",
    "plt.legend(handles=[predicted, actual])\n",
    " \n",
    "plt.show()"
   ]
  },
  {
   "cell_type": "code",
   "execution_count": null,
   "metadata": {},
   "outputs": [],
   "source": []
  }
 ],
 "metadata": {
  "kernelspec": {
   "display_name": "Python 3",
   "language": "python",
   "name": "python3"
  },
  "language_info": {
   "codemirror_mode": {
    "name": "ipython",
    "version": 3
   },
   "file_extension": ".py",
   "mimetype": "text/x-python",
   "name": "python",
   "nbconvert_exporter": "python",
   "pygments_lexer": "ipython3",
   "version": "3.6.9"
  }
 },
 "nbformat": 4,
 "nbformat_minor": 4
}
