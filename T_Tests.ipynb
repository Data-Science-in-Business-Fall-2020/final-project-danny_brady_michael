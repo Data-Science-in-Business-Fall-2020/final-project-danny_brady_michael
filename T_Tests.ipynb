{
 "cells": [
  {
   "cell_type": "code",
   "execution_count": 2,
   "metadata": {},
   "outputs": [],
   "source": [
    "import numpy as np\n",
    "import pandas as pd\n",
    "import plotly.express as px\n",
    "import matplotlib.pyplot as plt\n",
    "import datetime\n",
    "import plotly.graph_objects as go\n",
    "import scipy.stats as st"
   ]
  },
  {
   "cell_type": "markdown",
   "metadata": {},
   "source": [
    "# Data Cleaning for All Datasets"
   ]
  },
  {
   "cell_type": "code",
   "execution_count": 3,
   "metadata": {},
   "outputs": [],
   "source": [
    "# Read in shark data\n",
    "eat = pd.read_excel(\"SharkData.xlsx\", sheet_name = 0)\n",
    "targets = pd.read_excel(\"SharkData.xlsx\", sheet_name = 1)\n",
    "drops = pd.read_excel(\"SharkData.xlsx\", sheet_name = 2)\n",
    "other_factors = pd.read_excel(\"SharkData.xlsx\", sheet_name = 3)"
   ]
  },
  {
   "cell_type": "code",
   "execution_count": 4,
   "metadata": {},
   "outputs": [
    {
     "data": {
      "text/html": [
       "<div>\n",
       "<style scoped>\n",
       "    .dataframe tbody tr th:only-of-type {\n",
       "        vertical-align: middle;\n",
       "    }\n",
       "\n",
       "    .dataframe tbody tr th {\n",
       "        vertical-align: top;\n",
       "    }\n",
       "\n",
       "    .dataframe thead th {\n",
       "        text-align: right;\n",
       "    }\n",
       "</style>\n",
       "<table border=\"1\" class=\"dataframe\">\n",
       "  <thead>\n",
       "    <tr style=\"text-align: right;\">\n",
       "      <th></th>\n",
       "      <th>Date</th>\n",
       "      <th>Ross</th>\n",
       "      <th>Chandler</th>\n",
       "      <th>BT1</th>\n",
       "      <th>BT2</th>\n",
       "      <th>BT3</th>\n",
       "      <th>BT4</th>\n",
       "      <th>BT5</th>\n",
       "      <th>GR1</th>\n",
       "      <th>GR2</th>\n",
       "      <th>GR3</th>\n",
       "      <th>GR4</th>\n",
       "      <th>GR5</th>\n",
       "      <th>Total:</th>\n",
       "      <th>Etc. Comments</th>\n",
       "    </tr>\n",
       "  </thead>\n",
       "  <tbody>\n",
       "    <tr>\n",
       "      <th>578</th>\n",
       "      <td>2020-09-22</td>\n",
       "      <td>6.0</td>\n",
       "      <td>0.0</td>\n",
       "      <td>1.0</td>\n",
       "      <td>2.0</td>\n",
       "      <td>6.0</td>\n",
       "      <td>0.0</td>\n",
       "      <td>4.0</td>\n",
       "      <td>1.0</td>\n",
       "      <td>0.0</td>\n",
       "      <td>0.0</td>\n",
       "      <td>5.0</td>\n",
       "      <td>1.0</td>\n",
       "      <td>26.0</td>\n",
       "      <td>NaN</td>\n",
       "    </tr>\n",
       "    <tr>\n",
       "      <th>579</th>\n",
       "      <td>2020-09-24</td>\n",
       "      <td>0.0</td>\n",
       "      <td>9.0</td>\n",
       "      <td>0.0</td>\n",
       "      <td>7.0</td>\n",
       "      <td>5.0</td>\n",
       "      <td>5.0</td>\n",
       "      <td>7.0</td>\n",
       "      <td>0.0</td>\n",
       "      <td>1.0</td>\n",
       "      <td>2.0</td>\n",
       "      <td>2.0</td>\n",
       "      <td>6.0</td>\n",
       "      <td>44.0</td>\n",
       "      <td>NaN</td>\n",
       "    </tr>\n",
       "    <tr>\n",
       "      <th>580</th>\n",
       "      <td>2020-09-26</td>\n",
       "      <td>NaN</td>\n",
       "      <td>NaN</td>\n",
       "      <td>NaN</td>\n",
       "      <td>NaN</td>\n",
       "      <td>NaN</td>\n",
       "      <td>NaN</td>\n",
       "      <td>NaN</td>\n",
       "      <td>4.0</td>\n",
       "      <td>0.0</td>\n",
       "      <td>2.0</td>\n",
       "      <td>3.0</td>\n",
       "      <td>3.0</td>\n",
       "      <td>12.0</td>\n",
       "      <td>NaN</td>\n",
       "    </tr>\n",
       "    <tr>\n",
       "      <th>581</th>\n",
       "      <td>2020-09-27</td>\n",
       "      <td>5.0</td>\n",
       "      <td>6.0</td>\n",
       "      <td>3.0</td>\n",
       "      <td>6.0</td>\n",
       "      <td>4.0</td>\n",
       "      <td>6.0</td>\n",
       "      <td>3.0</td>\n",
       "      <td>NaN</td>\n",
       "      <td>NaN</td>\n",
       "      <td>NaN</td>\n",
       "      <td>NaN</td>\n",
       "      <td>NaN</td>\n",
       "      <td>33.0</td>\n",
       "      <td>NaN</td>\n",
       "    </tr>\n",
       "    <tr>\n",
       "      <th>582</th>\n",
       "      <td>2020-09-29</td>\n",
       "      <td>10.0</td>\n",
       "      <td>3.0</td>\n",
       "      <td>1.0</td>\n",
       "      <td>1.0</td>\n",
       "      <td>4.0</td>\n",
       "      <td>2.0</td>\n",
       "      <td>7.0</td>\n",
       "      <td>4.0</td>\n",
       "      <td>4.0</td>\n",
       "      <td>0.0</td>\n",
       "      <td>2.0</td>\n",
       "      <td>0.0</td>\n",
       "      <td>38.0</td>\n",
       "      <td>NaN</td>\n",
       "    </tr>\n",
       "  </tbody>\n",
       "</table>\n",
       "</div>"
      ],
      "text/plain": [
       "           Date  Ross  Chandler  BT1  BT2  BT3  BT4  BT5  GR1  GR2  GR3  GR4  \\\n",
       "578  2020-09-22   6.0       0.0  1.0  2.0  6.0  0.0  4.0  1.0  0.0  0.0  5.0   \n",
       "579  2020-09-24   0.0       9.0  0.0  7.0  5.0  5.0  7.0  0.0  1.0  2.0  2.0   \n",
       "580  2020-09-26   NaN       NaN  NaN  NaN  NaN  NaN  NaN  4.0  0.0  2.0  3.0   \n",
       "581  2020-09-27   5.0       6.0  3.0  6.0  4.0  6.0  3.0  NaN  NaN  NaN  NaN   \n",
       "582  2020-09-29  10.0       3.0  1.0  1.0  4.0  2.0  7.0  4.0  4.0  0.0  2.0   \n",
       "\n",
       "     GR5  Total:  Etc. Comments  \n",
       "578  1.0     26.0           NaN  \n",
       "579  6.0     44.0           NaN  \n",
       "580  3.0     12.0           NaN  \n",
       "581  NaN     33.0           NaN  \n",
       "582  0.0     38.0           NaN  "
      ]
     },
     "execution_count": 4,
     "metadata": {},
     "output_type": "execute_result"
    }
   ],
   "source": [
    "# Clean eating dataset\n",
    "eat = eat.iloc[1:,:-1]\n",
    "eat.rename(columns = {\"Unnamed: 14\":'Etc. Comments', \"Pieces Eaten\": \"Date\"}, inplace = True)\n",
    "\n",
    "#get rid of null values at end of dataset\n",
    "eat = eat.head(582)\n",
    "\n",
    "# Change date to just date format, not datetime\n",
    "eat['Date'] = pd.to_datetime(eat['Date']).dt.date\n",
    "\n",
    "\n",
    "eat.tail()"
   ]
  },
  {
   "cell_type": "code",
   "execution_count": 5,
   "metadata": {},
   "outputs": [],
   "source": [
    "# Clean Drops Dataset\n",
    "drops = drops.iloc[1:,:-1]\n",
    "drops['Drops'] = pd.to_datetime(drops['Drops']).dt.date"
   ]
  },
  {
   "cell_type": "code",
   "execution_count": 6,
   "metadata": {},
   "outputs": [
    {
     "data": {
      "text/html": [
       "<div>\n",
       "<style scoped>\n",
       "    .dataframe tbody tr th:only-of-type {\n",
       "        vertical-align: middle;\n",
       "    }\n",
       "\n",
       "    .dataframe tbody tr th {\n",
       "        vertical-align: top;\n",
       "    }\n",
       "\n",
       "    .dataframe thead th {\n",
       "        text-align: right;\n",
       "    }\n",
       "</style>\n",
       "<table border=\"1\" class=\"dataframe\">\n",
       "  <thead>\n",
       "    <tr style=\"text-align: right;\">\n",
       "      <th></th>\n",
       "      <th>Date</th>\n",
       "      <th>Ross</th>\n",
       "      <th>Chandler</th>\n",
       "      <th>BT1</th>\n",
       "      <th>BT2</th>\n",
       "      <th>BT3</th>\n",
       "      <th>BT4</th>\n",
       "      <th>BT5</th>\n",
       "      <th>GR1</th>\n",
       "      <th>GR2</th>\n",
       "      <th>GR3</th>\n",
       "      <th>GR4</th>\n",
       "      <th>GR5</th>\n",
       "      <th>Total:</th>\n",
       "    </tr>\n",
       "  </thead>\n",
       "  <tbody>\n",
       "    <tr>\n",
       "      <th>578</th>\n",
       "      <td>2020-09-22</td>\n",
       "      <td>6.0</td>\n",
       "      <td>1.0</td>\n",
       "      <td>4.0</td>\n",
       "      <td>6.0</td>\n",
       "      <td>5.0</td>\n",
       "      <td>4.0</td>\n",
       "      <td>7.0</td>\n",
       "      <td>2.0</td>\n",
       "      <td>1.0</td>\n",
       "      <td>5.0</td>\n",
       "      <td>4.0</td>\n",
       "      <td>1.0</td>\n",
       "      <td>46.0</td>\n",
       "    </tr>\n",
       "    <tr>\n",
       "      <th>579</th>\n",
       "      <td>2020-09-24</td>\n",
       "      <td>8.0</td>\n",
       "      <td>18.0</td>\n",
       "      <td>2.0</td>\n",
       "      <td>9.0</td>\n",
       "      <td>10.0</td>\n",
       "      <td>10.0</td>\n",
       "      <td>11.0</td>\n",
       "      <td>5.0</td>\n",
       "      <td>6.0</td>\n",
       "      <td>3.0</td>\n",
       "      <td>7.0</td>\n",
       "      <td>9.0</td>\n",
       "      <td>98.0</td>\n",
       "    </tr>\n",
       "    <tr>\n",
       "      <th>580</th>\n",
       "      <td>2020-09-26</td>\n",
       "      <td>NaN</td>\n",
       "      <td>NaN</td>\n",
       "      <td>NaN</td>\n",
       "      <td>NaN</td>\n",
       "      <td>NaN</td>\n",
       "      <td>NaN</td>\n",
       "      <td>NaN</td>\n",
       "      <td>6.0</td>\n",
       "      <td>2.0</td>\n",
       "      <td>3.0</td>\n",
       "      <td>5.0</td>\n",
       "      <td>8.0</td>\n",
       "      <td>24.0</td>\n",
       "    </tr>\n",
       "    <tr>\n",
       "      <th>581</th>\n",
       "      <td>2020-09-27</td>\n",
       "      <td>10.0</td>\n",
       "      <td>19.0</td>\n",
       "      <td>9.0</td>\n",
       "      <td>10.0</td>\n",
       "      <td>8.0</td>\n",
       "      <td>16.0</td>\n",
       "      <td>3.0</td>\n",
       "      <td>NaN</td>\n",
       "      <td>NaN</td>\n",
       "      <td>NaN</td>\n",
       "      <td>NaN</td>\n",
       "      <td>NaN</td>\n",
       "      <td>75.0</td>\n",
       "    </tr>\n",
       "    <tr>\n",
       "      <th>582</th>\n",
       "      <td>2020-09-29</td>\n",
       "      <td>15.0</td>\n",
       "      <td>5.0</td>\n",
       "      <td>6.0</td>\n",
       "      <td>6.0</td>\n",
       "      <td>4.0</td>\n",
       "      <td>4.0</td>\n",
       "      <td>7.0</td>\n",
       "      <td>4.0</td>\n",
       "      <td>1.0</td>\n",
       "      <td>4.0</td>\n",
       "      <td>4.0</td>\n",
       "      <td>1.0</td>\n",
       "      <td>61.0</td>\n",
       "    </tr>\n",
       "  </tbody>\n",
       "</table>\n",
       "</div>"
      ],
      "text/plain": [
       "           Date  Ross  Chandler  BT1   BT2   BT3   BT4   BT5  GR1  GR2  GR3  \\\n",
       "578  2020-09-22   6.0       1.0  4.0   6.0   5.0   4.0   7.0  2.0  1.0  5.0   \n",
       "579  2020-09-24   8.0      18.0  2.0   9.0  10.0  10.0  11.0  5.0  6.0  3.0   \n",
       "580  2020-09-26   NaN       NaN  NaN   NaN   NaN   NaN   NaN  6.0  2.0  3.0   \n",
       "581  2020-09-27  10.0      19.0  9.0  10.0   8.0  16.0   3.0  NaN  NaN  NaN   \n",
       "582  2020-09-29  15.0       5.0  6.0   6.0   4.0   4.0   7.0  4.0  1.0  4.0   \n",
       "\n",
       "     GR4  GR5  Total:   \n",
       "578  4.0  1.0     46.0  \n",
       "579  7.0  9.0     98.0  \n",
       "580  5.0  8.0     24.0  \n",
       "581  NaN  NaN     75.0  \n",
       "582  4.0  1.0     61.0  "
      ]
     },
     "execution_count": 6,
     "metadata": {},
     "output_type": "execute_result"
    }
   ],
   "source": [
    "# Clean Targets Dataset\n",
    "targets = targets.iloc[1:,:-1]\n",
    "targets.rename(columns = {\"Unnamed: 14\":'Etc. Comments', \"Targets\": \"Date\"}, inplace = True)\n",
    "\n",
    "#get rid of null values at end of dataset\n",
    "targets = targets.head(582)\n",
    "\n",
    "# Change date to just date format, not datetime\n",
    "targets['Date'] = pd.to_datetime(targets['Date']).dt.date\n",
    "\n",
    "\n",
    "targets.tail()"
   ]
  },
  {
   "cell_type": "markdown",
   "metadata": {},
   "source": [
    "# Create Subset Groups"
   ]
  },
  {
   "cell_type": "code",
   "execution_count": 7,
   "metadata": {},
   "outputs": [],
   "source": [
    "# All Sharks Subset\n",
    "All_Sharks = eat[['Ross', 'Chandler','BT1','BT2','BT3','BT4','BT5','GR1','GR2','GR3','GR4', 'GR5','Total: ']]\n",
    "\n",
    "# All SS Subset\n",
    "All_SS = eat[['Ross', 'Chandler']]\n",
    "\n",
    "# All BT Subset\n",
    "All_BT = eat[['BT1', 'BT2', 'BT3', 'BT4', 'BT5']]\n",
    "\n",
    "# All GR Subset\n",
    "All_GR = eat[['GR1', 'GR2', 'GR3', 'GR4', 'GR5']]\n",
    "\n",
    "# Male Subset\n",
    "Male = eat[[\"BT1\",\"BT5\",\"GR1\",\"Ross\",\"Chandler\"]]\n",
    "\n",
    "# Female Subset\n",
    "female = eat[[\"BT2\",\"BT3\",\"BT4\",\"GR2\",\"GR3\",\"GR4\",\"GR5\"]]\n",
    "\n",
    "# Append all subsets to original datasets\n",
    "# eat dataset\n",
    "eat[\"All_GR\"] = eat['GR1'] + eat['GR2'] + eat['GR3'] + eat['GR4'] + eat['GR5']\n",
    "eat[\"All_BT\"] = eat['BT1'] + eat['BT2'] + eat['BT3'] + eat['BT4'] + eat['BT5']\n",
    "eat[\"All_SS\"] = eat['Ross'] + eat['Chandler']\n",
    "eat[\"male\"] = eat[[\"BT1\",\"BT5\",\"GR1\",\"Ross\",\"Chandler\"]].sum(axis = 1)\n",
    "eat[\"female\"] = eat[[\"BT2\",\"BT3\",\"BT4\",\"GR2\",\"GR3\",\"GR4\",\"GR5\"]].sum(axis = 1)\n",
    "\n",
    "# drop dataset\n",
    "drops[\"All_GR\"] = drops['GR1'] + drops['GR2'] + drops['GR3'] + drops['GR4'] + drops['GR5']\n",
    "drops[\"All_BT\"] = drops['BT1'] + drops['BT2'] + drops['BT3'] + drops['BT4'] + drops['BT5']\n",
    "drops[\"All_SS\"] = drops['Ross'] + drops['Chandler']\n",
    "drops[\"male\"] = drops[[\"BT1\",\"BT5\",\"GR1\",\"Ross\",\"Chandler\"]].sum(axis = 1)\n",
    "drops[\"female\"] = drops[[\"BT2\",\"BT3\",\"BT4\",\"GR2\",\"GR3\",\"GR4\",\"GR5\"]].sum(axis = 1)\n",
    "\n",
    "# target dataset\n",
    "targets[\"All_GR\"] = targets['GR1'] + targets['GR2'] + targets['GR3'] + targets['GR4'] + targets['GR5']\n",
    "targets[\"All_BT\"] = targets['BT1'] + targets['BT2'] + targets['BT3'] + targets['BT4'] + targets['BT5']\n",
    "targets[\"All_SS\"] = targets['Ross'] + targets['Chandler']\n",
    "targets[\"male\"] = targets[[\"BT1\",\"BT5\",\"GR1\",\"Ross\",\"Chandler\"]].sum(axis = 1)\n",
    "targets[\"female\"] = targets[[\"BT2\",\"BT3\",\"BT4\",\"GR2\",\"GR3\",\"GR4\",\"GR5\"]].sum(axis = 1)\n"
   ]
  },
  {
   "cell_type": "code",
   "execution_count": 8,
   "metadata": {},
   "outputs": [
    {
     "data": {
      "text/html": [
       "<div>\n",
       "<style scoped>\n",
       "    .dataframe tbody tr th:only-of-type {\n",
       "        vertical-align: middle;\n",
       "    }\n",
       "\n",
       "    .dataframe tbody tr th {\n",
       "        vertical-align: top;\n",
       "    }\n",
       "\n",
       "    .dataframe thead th {\n",
       "        text-align: right;\n",
       "    }\n",
       "</style>\n",
       "<table border=\"1\" class=\"dataframe\">\n",
       "  <thead>\n",
       "    <tr style=\"text-align: right;\">\n",
       "      <th></th>\n",
       "      <th>Date</th>\n",
       "      <th>Ross</th>\n",
       "      <th>Chandler</th>\n",
       "      <th>BT1</th>\n",
       "      <th>BT2</th>\n",
       "      <th>BT3</th>\n",
       "      <th>BT4</th>\n",
       "      <th>BT5</th>\n",
       "      <th>GR1</th>\n",
       "      <th>GR2</th>\n",
       "      <th>GR3</th>\n",
       "      <th>GR4</th>\n",
       "      <th>GR5</th>\n",
       "      <th>Total:</th>\n",
       "      <th>Etc. Comments</th>\n",
       "      <th>All_GR</th>\n",
       "      <th>All_BT</th>\n",
       "      <th>All_SS</th>\n",
       "      <th>male</th>\n",
       "      <th>female</th>\n",
       "    </tr>\n",
       "  </thead>\n",
       "  <tbody>\n",
       "    <tr>\n",
       "      <th>1</th>\n",
       "      <td>2017-12-05</td>\n",
       "      <td>0.0</td>\n",
       "      <td>5.0</td>\n",
       "      <td>3.0</td>\n",
       "      <td>6.0</td>\n",
       "      <td>5.0</td>\n",
       "      <td>4.0</td>\n",
       "      <td>4.0</td>\n",
       "      <td>0.0</td>\n",
       "      <td>0.0</td>\n",
       "      <td>2.0</td>\n",
       "      <td>3.0</td>\n",
       "      <td>1.0</td>\n",
       "      <td>33.0</td>\n",
       "      <td>NaN</td>\n",
       "      <td>6.0</td>\n",
       "      <td>22.0</td>\n",
       "      <td>5.0</td>\n",
       "      <td>12.0</td>\n",
       "      <td>21.0</td>\n",
       "    </tr>\n",
       "    <tr>\n",
       "      <th>2</th>\n",
       "      <td>2017-12-07</td>\n",
       "      <td>1.0</td>\n",
       "      <td>0.0</td>\n",
       "      <td>0.0</td>\n",
       "      <td>2.0</td>\n",
       "      <td>0.0</td>\n",
       "      <td>0.0</td>\n",
       "      <td>0.0</td>\n",
       "      <td>0.0</td>\n",
       "      <td>0.0</td>\n",
       "      <td>0.0</td>\n",
       "      <td>0.0</td>\n",
       "      <td>0.0</td>\n",
       "      <td>3.0</td>\n",
       "      <td>NaN</td>\n",
       "      <td>0.0</td>\n",
       "      <td>2.0</td>\n",
       "      <td>1.0</td>\n",
       "      <td>1.0</td>\n",
       "      <td>2.0</td>\n",
       "    </tr>\n",
       "    <tr>\n",
       "      <th>3</th>\n",
       "      <td>2017-12-09</td>\n",
       "      <td>NaN</td>\n",
       "      <td>NaN</td>\n",
       "      <td>NaN</td>\n",
       "      <td>NaN</td>\n",
       "      <td>NaN</td>\n",
       "      <td>NaN</td>\n",
       "      <td>NaN</td>\n",
       "      <td>2.0</td>\n",
       "      <td>0.0</td>\n",
       "      <td>3.0</td>\n",
       "      <td>1.0</td>\n",
       "      <td>0.0</td>\n",
       "      <td>6.0</td>\n",
       "      <td>NaN</td>\n",
       "      <td>6.0</td>\n",
       "      <td>NaN</td>\n",
       "      <td>NaN</td>\n",
       "      <td>2.0</td>\n",
       "      <td>4.0</td>\n",
       "    </tr>\n",
       "    <tr>\n",
       "      <th>4</th>\n",
       "      <td>2017-12-10</td>\n",
       "      <td>5.0</td>\n",
       "      <td>1.0</td>\n",
       "      <td>1.0</td>\n",
       "      <td>3.0</td>\n",
       "      <td>2.0</td>\n",
       "      <td>2.0</td>\n",
       "      <td>0.0</td>\n",
       "      <td>NaN</td>\n",
       "      <td>NaN</td>\n",
       "      <td>NaN</td>\n",
       "      <td>NaN</td>\n",
       "      <td>NaN</td>\n",
       "      <td>14.0</td>\n",
       "      <td>NaN</td>\n",
       "      <td>NaN</td>\n",
       "      <td>8.0</td>\n",
       "      <td>6.0</td>\n",
       "      <td>7.0</td>\n",
       "      <td>7.0</td>\n",
       "    </tr>\n",
       "    <tr>\n",
       "      <th>5</th>\n",
       "      <td>2017-12-12</td>\n",
       "      <td>2.0</td>\n",
       "      <td>2.0</td>\n",
       "      <td>0.0</td>\n",
       "      <td>5.0</td>\n",
       "      <td>2.0</td>\n",
       "      <td>4.0</td>\n",
       "      <td>5.0</td>\n",
       "      <td>0.0</td>\n",
       "      <td>2.0</td>\n",
       "      <td>3.0</td>\n",
       "      <td>2.0</td>\n",
       "      <td>0.0</td>\n",
       "      <td>27.0</td>\n",
       "      <td>NaN</td>\n",
       "      <td>7.0</td>\n",
       "      <td>16.0</td>\n",
       "      <td>4.0</td>\n",
       "      <td>9.0</td>\n",
       "      <td>18.0</td>\n",
       "    </tr>\n",
       "  </tbody>\n",
       "</table>\n",
       "</div>"
      ],
      "text/plain": [
       "         Date  Ross  Chandler  BT1  BT2  BT3  BT4  BT5  GR1  GR2  GR3  GR4  \\\n",
       "1  2017-12-05   0.0       5.0  3.0  6.0  5.0  4.0  4.0  0.0  0.0  2.0  3.0   \n",
       "2  2017-12-07   1.0       0.0  0.0  2.0  0.0  0.0  0.0  0.0  0.0  0.0  0.0   \n",
       "3  2017-12-09   NaN       NaN  NaN  NaN  NaN  NaN  NaN  2.0  0.0  3.0  1.0   \n",
       "4  2017-12-10   5.0       1.0  1.0  3.0  2.0  2.0  0.0  NaN  NaN  NaN  NaN   \n",
       "5  2017-12-12   2.0       2.0  0.0  5.0  2.0  4.0  5.0  0.0  2.0  3.0  2.0   \n",
       "\n",
       "   GR5  Total:  Etc. Comments  All_GR  All_BT  All_SS  male  female  \n",
       "1  1.0     33.0           NaN     6.0    22.0     5.0  12.0    21.0  \n",
       "2  0.0      3.0           NaN     0.0     2.0     1.0   1.0     2.0  \n",
       "3  0.0      6.0           NaN     6.0     NaN     NaN   2.0     4.0  \n",
       "4  NaN     14.0           NaN     NaN     8.0     6.0   7.0     7.0  \n",
       "5  0.0     27.0           NaN     7.0    16.0     4.0   9.0    18.0  "
      ]
     },
     "execution_count": 8,
     "metadata": {},
     "output_type": "execute_result"
    }
   ],
   "source": [
    "eat.head()"
   ]
  },
  {
   "cell_type": "code",
   "execution_count": 9,
   "metadata": {},
   "outputs": [
    {
     "data": {
      "text/html": [
       "<div>\n",
       "<style scoped>\n",
       "    .dataframe tbody tr th:only-of-type {\n",
       "        vertical-align: middle;\n",
       "    }\n",
       "\n",
       "    .dataframe tbody tr th {\n",
       "        vertical-align: top;\n",
       "    }\n",
       "\n",
       "    .dataframe thead th {\n",
       "        text-align: right;\n",
       "    }\n",
       "</style>\n",
       "<table border=\"1\" class=\"dataframe\">\n",
       "  <thead>\n",
       "    <tr style=\"text-align: right;\">\n",
       "      <th></th>\n",
       "      <th>Drops</th>\n",
       "      <th>Ross</th>\n",
       "      <th>Chandler</th>\n",
       "      <th>BT1</th>\n",
       "      <th>BT2</th>\n",
       "      <th>BT3</th>\n",
       "      <th>BT4</th>\n",
       "      <th>BT5</th>\n",
       "      <th>GR1</th>\n",
       "      <th>GR2</th>\n",
       "      <th>GR3</th>\n",
       "      <th>GR4</th>\n",
       "      <th>GR5</th>\n",
       "      <th>Total:</th>\n",
       "      <th>All_GR</th>\n",
       "      <th>All_BT</th>\n",
       "      <th>All_SS</th>\n",
       "      <th>male</th>\n",
       "      <th>female</th>\n",
       "    </tr>\n",
       "  </thead>\n",
       "  <tbody>\n",
       "    <tr>\n",
       "      <th>1</th>\n",
       "      <td>2017-12-05</td>\n",
       "      <td>0.0</td>\n",
       "      <td>0.0</td>\n",
       "      <td>0.0</td>\n",
       "      <td>0.0</td>\n",
       "      <td>0.0</td>\n",
       "      <td>1.0</td>\n",
       "      <td>0.0</td>\n",
       "      <td>0.0</td>\n",
       "      <td>0.0</td>\n",
       "      <td>1.0</td>\n",
       "      <td>1.0</td>\n",
       "      <td>0.0</td>\n",
       "      <td>3.0</td>\n",
       "      <td>2.0</td>\n",
       "      <td>1.0</td>\n",
       "      <td>0.0</td>\n",
       "      <td>0.0</td>\n",
       "      <td>3.0</td>\n",
       "    </tr>\n",
       "    <tr>\n",
       "      <th>2</th>\n",
       "      <td>2017-12-07</td>\n",
       "      <td>0.0</td>\n",
       "      <td>1.0</td>\n",
       "      <td>1.0</td>\n",
       "      <td>2.0</td>\n",
       "      <td>1.0</td>\n",
       "      <td>1.0</td>\n",
       "      <td>2.0</td>\n",
       "      <td>0.0</td>\n",
       "      <td>0.0</td>\n",
       "      <td>2.0</td>\n",
       "      <td>0.0</td>\n",
       "      <td>0.0</td>\n",
       "      <td>10.0</td>\n",
       "      <td>2.0</td>\n",
       "      <td>7.0</td>\n",
       "      <td>1.0</td>\n",
       "      <td>4.0</td>\n",
       "      <td>6.0</td>\n",
       "    </tr>\n",
       "    <tr>\n",
       "      <th>3</th>\n",
       "      <td>2017-12-09</td>\n",
       "      <td>NaN</td>\n",
       "      <td>NaN</td>\n",
       "      <td>NaN</td>\n",
       "      <td>NaN</td>\n",
       "      <td>NaN</td>\n",
       "      <td>NaN</td>\n",
       "      <td>NaN</td>\n",
       "      <td>0.0</td>\n",
       "      <td>1.0</td>\n",
       "      <td>0.0</td>\n",
       "      <td>0.0</td>\n",
       "      <td>0.0</td>\n",
       "      <td>1.0</td>\n",
       "      <td>1.0</td>\n",
       "      <td>NaN</td>\n",
       "      <td>NaN</td>\n",
       "      <td>0.0</td>\n",
       "      <td>1.0</td>\n",
       "    </tr>\n",
       "    <tr>\n",
       "      <th>4</th>\n",
       "      <td>2017-12-10</td>\n",
       "      <td>0.0</td>\n",
       "      <td>0.0</td>\n",
       "      <td>0.0</td>\n",
       "      <td>0.0</td>\n",
       "      <td>0.0</td>\n",
       "      <td>0.0</td>\n",
       "      <td>1.0</td>\n",
       "      <td>NaN</td>\n",
       "      <td>NaN</td>\n",
       "      <td>NaN</td>\n",
       "      <td>NaN</td>\n",
       "      <td>NaN</td>\n",
       "      <td>1.0</td>\n",
       "      <td>NaN</td>\n",
       "      <td>1.0</td>\n",
       "      <td>0.0</td>\n",
       "      <td>1.0</td>\n",
       "      <td>0.0</td>\n",
       "    </tr>\n",
       "    <tr>\n",
       "      <th>5</th>\n",
       "      <td>2017-12-12</td>\n",
       "      <td>0.0</td>\n",
       "      <td>0.0</td>\n",
       "      <td>0.0</td>\n",
       "      <td>0.0</td>\n",
       "      <td>2.0</td>\n",
       "      <td>0.0</td>\n",
       "      <td>0.0</td>\n",
       "      <td>0.0</td>\n",
       "      <td>0.0</td>\n",
       "      <td>0.0</td>\n",
       "      <td>1.0</td>\n",
       "      <td>0.0</td>\n",
       "      <td>3.0</td>\n",
       "      <td>1.0</td>\n",
       "      <td>2.0</td>\n",
       "      <td>0.0</td>\n",
       "      <td>0.0</td>\n",
       "      <td>3.0</td>\n",
       "    </tr>\n",
       "  </tbody>\n",
       "</table>\n",
       "</div>"
      ],
      "text/plain": [
       "        Drops  Ross  Chandler  BT1  BT2  BT3  BT4  BT5  GR1  GR2  GR3  GR4  \\\n",
       "1  2017-12-05   0.0       0.0  0.0  0.0  0.0  1.0  0.0  0.0  0.0  1.0  1.0   \n",
       "2  2017-12-07   0.0       1.0  1.0  2.0  1.0  1.0  2.0  0.0  0.0  2.0  0.0   \n",
       "3  2017-12-09   NaN       NaN  NaN  NaN  NaN  NaN  NaN  0.0  1.0  0.0  0.0   \n",
       "4  2017-12-10   0.0       0.0  0.0  0.0  0.0  0.0  1.0  NaN  NaN  NaN  NaN   \n",
       "5  2017-12-12   0.0       0.0  0.0  0.0  2.0  0.0  0.0  0.0  0.0  0.0  1.0   \n",
       "\n",
       "   GR5  Total:   All_GR  All_BT  All_SS  male  female  \n",
       "1  0.0      3.0     2.0     1.0     0.0   0.0     3.0  \n",
       "2  0.0     10.0     2.0     7.0     1.0   4.0     6.0  \n",
       "3  0.0      1.0     1.0     NaN     NaN   0.0     1.0  \n",
       "4  NaN      1.0     NaN     1.0     0.0   1.0     0.0  \n",
       "5  0.0      3.0     1.0     2.0     0.0   0.0     3.0  "
      ]
     },
     "execution_count": 9,
     "metadata": {},
     "output_type": "execute_result"
    }
   ],
   "source": [
    "drops.head()"
   ]
  },
  {
   "cell_type": "code",
   "execution_count": 10,
   "metadata": {},
   "outputs": [
    {
     "data": {
      "text/html": [
       "<div>\n",
       "<style scoped>\n",
       "    .dataframe tbody tr th:only-of-type {\n",
       "        vertical-align: middle;\n",
       "    }\n",
       "\n",
       "    .dataframe tbody tr th {\n",
       "        vertical-align: top;\n",
       "    }\n",
       "\n",
       "    .dataframe thead th {\n",
       "        text-align: right;\n",
       "    }\n",
       "</style>\n",
       "<table border=\"1\" class=\"dataframe\">\n",
       "  <thead>\n",
       "    <tr style=\"text-align: right;\">\n",
       "      <th></th>\n",
       "      <th>Date</th>\n",
       "      <th>Ross</th>\n",
       "      <th>Chandler</th>\n",
       "      <th>BT1</th>\n",
       "      <th>BT2</th>\n",
       "      <th>BT3</th>\n",
       "      <th>BT4</th>\n",
       "      <th>BT5</th>\n",
       "      <th>GR1</th>\n",
       "      <th>GR2</th>\n",
       "      <th>GR3</th>\n",
       "      <th>GR4</th>\n",
       "      <th>GR5</th>\n",
       "      <th>Total:</th>\n",
       "      <th>All_GR</th>\n",
       "      <th>All_BT</th>\n",
       "      <th>All_SS</th>\n",
       "      <th>male</th>\n",
       "      <th>female</th>\n",
       "    </tr>\n",
       "  </thead>\n",
       "  <tbody>\n",
       "    <tr>\n",
       "      <th>1</th>\n",
       "      <td>2017-12-05</td>\n",
       "      <td>3.0</td>\n",
       "      <td>0.0</td>\n",
       "      <td>4.0</td>\n",
       "      <td>3.0</td>\n",
       "      <td>0.0</td>\n",
       "      <td>2.0</td>\n",
       "      <td>2.0</td>\n",
       "      <td>1.0</td>\n",
       "      <td>1.0</td>\n",
       "      <td>3.0</td>\n",
       "      <td>3.0</td>\n",
       "      <td>0.0</td>\n",
       "      <td>22.0</td>\n",
       "      <td>8.0</td>\n",
       "      <td>11.0</td>\n",
       "      <td>3.0</td>\n",
       "      <td>10.0</td>\n",
       "      <td>12.0</td>\n",
       "    </tr>\n",
       "    <tr>\n",
       "      <th>2</th>\n",
       "      <td>2017-12-07</td>\n",
       "      <td>4.0</td>\n",
       "      <td>5.0</td>\n",
       "      <td>2.0</td>\n",
       "      <td>2.0</td>\n",
       "      <td>5.0</td>\n",
       "      <td>3.0</td>\n",
       "      <td>5.0</td>\n",
       "      <td>0.0</td>\n",
       "      <td>0.0</td>\n",
       "      <td>2.0</td>\n",
       "      <td>2.0</td>\n",
       "      <td>0.0</td>\n",
       "      <td>30.0</td>\n",
       "      <td>4.0</td>\n",
       "      <td>17.0</td>\n",
       "      <td>9.0</td>\n",
       "      <td>16.0</td>\n",
       "      <td>14.0</td>\n",
       "    </tr>\n",
       "    <tr>\n",
       "      <th>3</th>\n",
       "      <td>2017-12-09</td>\n",
       "      <td>NaN</td>\n",
       "      <td>NaN</td>\n",
       "      <td>NaN</td>\n",
       "      <td>NaN</td>\n",
       "      <td>NaN</td>\n",
       "      <td>NaN</td>\n",
       "      <td>NaN</td>\n",
       "      <td>1.0</td>\n",
       "      <td>3.0</td>\n",
       "      <td>1.0</td>\n",
       "      <td>0.0</td>\n",
       "      <td>3.0</td>\n",
       "      <td>8.0</td>\n",
       "      <td>8.0</td>\n",
       "      <td>NaN</td>\n",
       "      <td>NaN</td>\n",
       "      <td>1.0</td>\n",
       "      <td>7.0</td>\n",
       "    </tr>\n",
       "    <tr>\n",
       "      <th>4</th>\n",
       "      <td>2017-12-10</td>\n",
       "      <td>4.0</td>\n",
       "      <td>7.0</td>\n",
       "      <td>0.0</td>\n",
       "      <td>2.0</td>\n",
       "      <td>2.0</td>\n",
       "      <td>0.0</td>\n",
       "      <td>0.0</td>\n",
       "      <td>NaN</td>\n",
       "      <td>NaN</td>\n",
       "      <td>NaN</td>\n",
       "      <td>NaN</td>\n",
       "      <td>NaN</td>\n",
       "      <td>15.0</td>\n",
       "      <td>NaN</td>\n",
       "      <td>4.0</td>\n",
       "      <td>11.0</td>\n",
       "      <td>11.0</td>\n",
       "      <td>4.0</td>\n",
       "    </tr>\n",
       "    <tr>\n",
       "      <th>5</th>\n",
       "      <td>2017-12-12</td>\n",
       "      <td>3.0</td>\n",
       "      <td>1.0</td>\n",
       "      <td>3.0</td>\n",
       "      <td>2.0</td>\n",
       "      <td>4.0</td>\n",
       "      <td>1.0</td>\n",
       "      <td>1.0</td>\n",
       "      <td>1.0</td>\n",
       "      <td>1.0</td>\n",
       "      <td>5.0</td>\n",
       "      <td>1.0</td>\n",
       "      <td>3.0</td>\n",
       "      <td>26.0</td>\n",
       "      <td>11.0</td>\n",
       "      <td>11.0</td>\n",
       "      <td>4.0</td>\n",
       "      <td>9.0</td>\n",
       "      <td>17.0</td>\n",
       "    </tr>\n",
       "  </tbody>\n",
       "</table>\n",
       "</div>"
      ],
      "text/plain": [
       "         Date  Ross  Chandler  BT1  BT2  BT3  BT4  BT5  GR1  GR2  GR3  GR4  \\\n",
       "1  2017-12-05   3.0       0.0  4.0  3.0  0.0  2.0  2.0  1.0  1.0  3.0  3.0   \n",
       "2  2017-12-07   4.0       5.0  2.0  2.0  5.0  3.0  5.0  0.0  0.0  2.0  2.0   \n",
       "3  2017-12-09   NaN       NaN  NaN  NaN  NaN  NaN  NaN  1.0  3.0  1.0  0.0   \n",
       "4  2017-12-10   4.0       7.0  0.0  2.0  2.0  0.0  0.0  NaN  NaN  NaN  NaN   \n",
       "5  2017-12-12   3.0       1.0  3.0  2.0  4.0  1.0  1.0  1.0  1.0  5.0  1.0   \n",
       "\n",
       "   GR5  Total:   All_GR  All_BT  All_SS  male  female  \n",
       "1  0.0     22.0     8.0    11.0     3.0  10.0    12.0  \n",
       "2  0.0     30.0     4.0    17.0     9.0  16.0    14.0  \n",
       "3  3.0      8.0     8.0     NaN     NaN   1.0     7.0  \n",
       "4  NaN     15.0     NaN     4.0    11.0  11.0     4.0  \n",
       "5  3.0     26.0    11.0    11.0     4.0   9.0    17.0  "
      ]
     },
     "execution_count": 10,
     "metadata": {},
     "output_type": "execute_result"
    }
   ],
   "source": [
    "targets.head()"
   ]
  },
  {
   "cell_type": "markdown",
   "metadata": {},
   "source": [
    "# T test for Shutdown vs. Open Groups"
   ]
  },
  {
   "cell_type": "markdown",
   "metadata": {},
   "source": [
    "# Number of Pieces Eaten"
   ]
  },
  {
   "cell_type": "code",
   "execution_count": 11,
   "metadata": {},
   "outputs": [],
   "source": [
    "start_date = pd.to_datetime('03-14-2020')\n",
    "end_date = pd.to_datetime('05-09-2020')\n",
    "corona_times_eat = (eat['Date'] >= start_date) & (eat['Date'] < end_date)\n",
    "corona_eat = eat[corona_times_eat]\n",
    "\n",
    "# Create dataset of the all the time that the Aquarium was open to the public to compare\n",
    "open_eat_times = (eat['Date'] < start_date) | (eat['Date'] >= end_date)\n",
    "open_eat = eat[open_eat_times]"
   ]
  },
  {
   "cell_type": "code",
   "execution_count": 12,
   "metadata": {},
   "outputs": [
    {
     "name": "stdout",
     "output_type": "stream",
     "text": [
      "Ross : Test Statistic = -1.61396 P-Value = 0.10726\n",
      "Chandler : Test Statistic = -0.40546 P-Value = 0.68534\n",
      "BT1 : Test Statistic = -0.49799 P-Value = 0.61874\n",
      "BT2 : Test Statistic = 2.87097 P-Value = 0.00429\n",
      "BT3 : Test Statistic = -1.95872 P-Value = 0.05078\n",
      "BT4 : Test Statistic = -0.20414 P-Value = 0.83834\n",
      "BT5 : Test Statistic = -1.04968 P-Value = 0.29445\n",
      "GR1 : Test Statistic = -1.05797 P-Value = 0.29066\n",
      "GR2 : Test Statistic = -1.38793 P-Value = 0.16587\n",
      "GR3 : Test Statistic = -0.11202 P-Value = 0.91086\n",
      "GR4 : Test Statistic = -0.90367 P-Value = 0.36667\n",
      "GR5 : Test Statistic = -1.37777 P-Value = 0.16898\n",
      "Total:  : Test Statistic = -0.81231 P-Value = 0.41695\n"
     ]
    }
   ],
   "source": [
    "# Perform T-Test for each individual Shark\n",
    "for column in All_Sharks:\n",
    "    twosample_results = st.ttest_ind(corona_eat[column], open_eat[column],nan_policy='omit')\n",
    "    print(column, \": Test Statistic =\" ,round(twosample_results[0], 5), \"P-Value =\", round(twosample_results[1], 5))"
   ]
  },
  {
   "cell_type": "code",
   "execution_count": 13,
   "metadata": {},
   "outputs": [
    {
     "name": "stdout",
     "output_type": "stream",
     "text": [
      "male : Test Statistic = -1.09837 P-Value = 0.2725\n",
      "female : Test Statistic = -0.1688 P-Value = 0.86602\n",
      "All_GR : Test Statistic = -1.756 P-Value = 0.07979\n",
      "All_BT : Test Statistic = -0.24767 P-Value = 0.8045\n",
      "All_SS : Test Statistic = -1.44172 P-Value = 0.1501\n"
     ]
    }
   ],
   "source": [
    "# Perform T-Test for species and genders\n",
    "gender_and_species = eat[['male', 'female', 'All_GR', 'All_BT', 'All_SS']]\n",
    "for column in gender_and_species:\n",
    "    twosample_results = st.ttest_ind(corona_eat[column], open_eat[column],nan_policy='omit')\n",
    "    print(column, \": Test Statistic =\" ,round(twosample_results[0], 5), \"P-Value =\", round(twosample_results[1], 5))"
   ]
  },
  {
   "cell_type": "markdown",
   "metadata": {},
   "source": [
    "After correcting for the number of T-tests, these are the significant p-values for each subset:"
   ]
  },
  {
   "cell_type": "code",
   "execution_count": 14,
   "metadata": {},
   "outputs": [
    {
     "name": "stdout",
     "output_type": "stream",
     "text": [
      "Individual Sharks: 0.00417\n",
      "Species: 0.01667\n",
      "Male/Female 0.025\n",
      "Total: 0.05\n"
     ]
    }
   ],
   "source": [
    "print('Individual Sharks:', round(0.05 / 12, 5))\n",
    "print('Species:', round(0.05 / 3, 5))\n",
    "print(\"Male/Female\", round(0.05 / 2, 5))\n",
    "print(\"Total:\", 0.05)"
   ]
  },
  {
   "cell_type": "markdown",
   "metadata": {},
   "source": [
    "Based on these significant values, there are no significant p-values from any individual shark or subset as a result of our T-tests. We can conclude that there was no significant difference in the number of pieces eaten between the COVID lockdown and the time the Aquarium was open to the public. However, it does look like BT2 was marginally significant and it was just slightly over the updated p-value and should be mentioned."
   ]
  },
  {
   "cell_type": "markdown",
   "metadata": {},
   "source": [
    "# Number of Pieces Dropped"
   ]
  },
  {
   "cell_type": "code",
   "execution_count": 15,
   "metadata": {},
   "outputs": [],
   "source": [
    "# Create Drops Data for Corona time and open to the public time to perform T-Test\n",
    "corona_times_drop = (drops['Drops'] >= start_date) & (drops['Drops'] < end_date)\n",
    "corona_drop = drops[corona_times_drop]\n",
    "\n",
    "# Create dataset of the all the time that the Aquarium was open to the public to compare\n",
    "open_drop_times = (drops['Drops'] < start_date) | (drops['Drops'] >= end_date)\n",
    "open_drop = drops[open_drop_times]"
   ]
  },
  {
   "cell_type": "code",
   "execution_count": 16,
   "metadata": {},
   "outputs": [
    {
     "name": "stdout",
     "output_type": "stream",
     "text": [
      "Ross : Test Statistic = 1.58969 P-Value = 0.11263\n",
      "Chandler : Test Statistic = 0.43535 P-Value = 0.66352\n",
      "BT1 : Test Statistic = 0.24058 P-Value = 0.80999\n",
      "BT2 : Test Statistic = 3.89072 P-Value = 0.00012\n",
      "BT3 : Test Statistic = 1.67011 P-Value = 0.09562\n",
      "BT4 : Test Statistic = 2.15166 P-Value = 0.03197\n",
      "BT5 : Test Statistic = 3.07718 P-Value = 0.00222\n",
      "GR1 : Test Statistic = -0.29879 P-Value = 0.76525\n",
      "GR2 : Test Statistic = 0.35249 P-Value = 0.72464\n",
      "GR3 : Test Statistic = 0.49377 P-Value = 0.62171\n",
      "GR4 : Test Statistic = 0.61508 P-Value = 0.53882\n",
      "GR5 : Test Statistic = 0.16739 P-Value = 0.86714\n",
      "Total:  : Test Statistic = 3.54939 P-Value = 0.00042\n"
     ]
    }
   ],
   "source": [
    "# Perform T-Test for each individual Shark\n",
    "for column in All_Sharks:\n",
    "    twosample_results = st.ttest_ind(corona_drop[column], open_drop[column],nan_policy='omit')\n",
    "    print(column, \": Test Statistic =\" ,round(twosample_results[0],5), \"P-Value =\", round(twosample_results[1],5))"
   ]
  },
  {
   "cell_type": "code",
   "execution_count": 17,
   "metadata": {
    "scrolled": true
   },
   "outputs": [
    {
     "name": "stdout",
     "output_type": "stream",
     "text": [
      "male : Test Statistic = 1.84951 P-Value = 0.06489\n",
      "female : Test Statistic = 3.64153 P-Value = 0.0003\n",
      "All_GR : Test Statistic = 0.57308 P-Value = 0.56689\n",
      "All_BT : Test Statistic = 4.29426 P-Value = 2e-05\n",
      "All_SS : Test Statistic = 1.17782 P-Value = 0.23951\n"
     ]
    }
   ],
   "source": [
    "# Perform T-Test for species and genders\n",
    "gender_and_species_drop = drops[['male', 'female', 'All_GR', 'All_BT', 'All_SS']]\n",
    "for column in gender_and_species_drop:\n",
    "    twosample_results = st.ttest_ind(corona_drop[column], open_drop[column],nan_policy='omit')\n",
    "    print(column, \": Test Statistic =\" ,round(twosample_results[0],5), \"P-Value =\", round(twosample_results[1],5))"
   ]
  },
  {
   "cell_type": "markdown",
   "metadata": {},
   "source": [
    "Blacktip2 and Blcktip5 have significant p-values for drops, Total, as well as the Blacktip subset and the female subset"
   ]
  },
  {
   "cell_type": "markdown",
   "metadata": {},
   "source": [
    "# Number of Times Targeted"
   ]
  },
  {
   "cell_type": "code",
   "execution_count": 18,
   "metadata": {},
   "outputs": [],
   "source": [
    "# Create Target Data for Corona time and open to the public time to perform T-Test\n",
    "corona_times_target = (targets['Date'] >= start_date) & (targets['Date'] < end_date)\n",
    "corona_target = targets[corona_times_target]\n",
    "\n",
    "# Create dataset of the all the time that the Aquarium was open to the public to compare\n",
    "open_target_times = (targets['Date'] < start_date) | (targets['Date'] >= end_date)\n",
    "open_target = targets[open_target_times]"
   ]
  },
  {
   "cell_type": "code",
   "execution_count": 19,
   "metadata": {},
   "outputs": [
    {
     "name": "stdout",
     "output_type": "stream",
     "text": [
      "Ross : Test Statistic = -2.2993 P-Value = 0.02196\n",
      "Chandler : Test Statistic = -1.63313 P-Value = 0.10317\n",
      "BT1 : Test Statistic = -1.53598 P-Value = 0.12527\n",
      "BT2 : Test Statistic = 1.64821 P-Value = 0.10003\n",
      "BT3 : Test Statistic = 0.75754 P-Value = 0.44914\n",
      "BT4 : Test Statistic = 0.37776 P-Value = 0.70579\n",
      "BT5 : Test Statistic = -1.69312 P-Value = 0.09115\n",
      "GR1 : Test Statistic = -1.81694 P-Value = 0.06991\n",
      "GR2 : Test Statistic = -0.29126 P-Value = 0.77099\n",
      "GR3 : Test Statistic = -0.97071 P-Value = 0.33223\n",
      "GR4 : Test Statistic = 0.29916 P-Value = 0.76496\n",
      "GR5 : Test Statistic = -1.80879 P-Value = 0.07117\n",
      "Total:  : Test Statistic = -1.05584 P-Value = 0.29148\n"
     ]
    }
   ],
   "source": [
    "# Perform T-Test for each individual Shark\n",
    "for column in All_Sharks:\n",
    "    twosample_results = st.ttest_ind(corona_target[column], open_target[column],nan_policy='omit')\n",
    "    print(column, \": Test Statistic =\" ,round(twosample_results[0],5), \"P-Value =\", round(twosample_results[1],5))"
   ]
  },
  {
   "cell_type": "code",
   "execution_count": 20,
   "metadata": {},
   "outputs": [
    {
     "name": "stdout",
     "output_type": "stream",
     "text": [
      "male : Test Statistic = -1.86336 P-Value = 0.06292\n",
      "female : Test Statistic = 0.42712 P-Value = 0.66945\n",
      "All_GR : Test Statistic = -1.45035 P-Value = 0.14768\n",
      "All_BT : Test Statistic = -0.27715 P-Value = 0.7818\n",
      "All_SS : Test Statistic = -2.35684 P-Value = 0.01887\n"
     ]
    }
   ],
   "source": [
    "# Perform T-Test for species and genders\n",
    "gender_and_species_target = targets[['male', 'female', 'All_GR', 'All_BT', 'All_SS']]\n",
    "for column in gender_and_species_target:\n",
    "    twosample_results = st.ttest_ind(corona_target[column], open_target[column],nan_policy='omit')\n",
    "    print(column, \": Test Statistic =\" ,round(twosample_results[0],5), \"P-Value =\", round(twosample_results[1],5))"
   ]
  },
  {
   "cell_type": "markdown",
   "metadata": {},
   "source": [
    "There were no significant p-values in terms of number of pieces dropped between COVID times and regular open times. However, it does seem that Sand Bar Sharks are marginally significant because it was just slightly over the updated p-value and should be mentioned"
   ]
  },
  {
   "cell_type": "markdown",
   "metadata": {},
   "source": [
    "# T tests for Light Training Vs. No Light Training"
   ]
  },
  {
   "cell_type": "markdown",
   "metadata": {},
   "source": [
    "Since there were only 41 entries in our data that did not include light training, we will compare this time period with the 40 days immediately after light training began, the final 40 days of our dataset, and to all the days that did not have light training to see if there are significant differences in any of the dates."
   ]
  },
  {
   "cell_type": "markdown",
   "metadata": {},
   "source": [
    "# Number of Pieces Eaten"
   ]
  },
  {
   "cell_type": "code",
   "execution_count": 21,
   "metadata": {},
   "outputs": [],
   "source": [
    "# Create dataset that includes days without light training\n",
    "start_date = pd.to_datetime('02-15-2018')\n",
    "#end_date = pd.to_datetime('05-09-2020')\n",
    "no_light_e = (eat['Date'] < start_date)\n",
    "no_light_eat = eat[no_light_e]\n",
    "\n",
    "# Create dataset of first 40 days after light training was introduced\n",
    "first_40 = (eat[\"Date\"] >= start_date) & (eat[\"Date\"] <= pd.to_datetime('04-28-2018'))\n",
    "first_40_eat = eat[first_40]\n",
    "\n",
    "# Create dataset of last 40 days of dataset\n",
    "last_40 = eat.iloc[-40:]\n",
    "\n",
    "# Create dataset of all non light training days\n",
    "light = eat['Date'] >= start_date\n",
    "light_eat = eat[light]"
   ]
  },
  {
   "cell_type": "markdown",
   "metadata": {},
   "source": [
    "First we will perform the T-test between the no light training group and the first 40 days after light training was introduced:"
   ]
  },
  {
   "cell_type": "code",
   "execution_count": 22,
   "metadata": {
    "scrolled": true
   },
   "outputs": [
    {
     "name": "stdout",
     "output_type": "stream",
     "text": [
      "Ross : Test Statistic = -1.41029 P-Value = 0.16362\n",
      "Chandler : Test Statistic = -1.97072 P-Value = 0.05337\n",
      "BT1 : Test Statistic = 0.08784 P-Value = 0.9303\n",
      "BT2 : Test Statistic = 0.14512 P-Value = 0.8851\n",
      "BT3 : Test Statistic = 0.62961 P-Value = 0.53134\n",
      "BT4 : Test Statistic = -0.64733 P-Value = 0.51989\n",
      "BT5 : Test Statistic = 0.22961 P-Value = 0.81919\n",
      "GR1 : Test Statistic = 1.15358 P-Value = 0.25317\n",
      "GR2 : Test Statistic = 0.19689 P-Value = 0.84457\n",
      "GR3 : Test Statistic = 1.61052 P-Value = 0.11245\n",
      "GR4 : Test Statistic = 0.02983 P-Value = 0.9763\n",
      "GR5 : Test Statistic = -1.54532 P-Value = 0.12744\n",
      "Total:  : Test Statistic = -0.29934 P-Value = 0.76545\n"
     ]
    }
   ],
   "source": [
    "# Perform T-Test for each individual Shark\n",
    "for column in All_Sharks:\n",
    "    twosample_results = st.ttest_ind(no_light_eat[column], first_40_eat[column],nan_policy='omit')\n",
    "    print(column, \": Test Statistic =\" ,round(twosample_results[0], 5), \"P-Value =\", round(twosample_results[1], 5))"
   ]
  },
  {
   "cell_type": "code",
   "execution_count": 23,
   "metadata": {},
   "outputs": [
    {
     "name": "stdout",
     "output_type": "stream",
     "text": [
      "male : Test Statistic = -1.20314 P-Value = 0.23247\n",
      "female : Test Statistic = 0.11406 P-Value = 0.90947\n",
      "All_GR : Test Statistic = 0.57841 P-Value = 0.56512\n",
      "All_BT : Test Statistic = 0.33383 P-Value = 0.73969\n",
      "All_SS : Test Statistic = -2.19435 P-Value = 0.03209\n"
     ]
    }
   ],
   "source": [
    "# Perform T-Test for species and genders\n",
    "for column in gender_and_species:\n",
    "    twosample_results = st.ttest_ind(no_light_eat[column], first_40_eat[column],nan_policy='omit')\n",
    "    print(column, \": Test Statistic =\" ,round(twosample_results[0], 5), \"P-Value =\", round(twosample_results[1], 5))"
   ]
  },
  {
   "cell_type": "markdown",
   "metadata": {},
   "source": [
    "There were no significant p-values when conducting the T-tests between the time frame with no light training and the first 40 days of light training. Next we will perform the T-test between the no light training time frame and the last 40 days of the dataset with light training used:"
   ]
  },
  {
   "cell_type": "code",
   "execution_count": 145,
   "metadata": {},
   "outputs": [
    {
     "name": "stdout",
     "output_type": "stream",
     "text": [
      "Ross : Test Statistic = -1.26515 P-Value = 0.2107924558\n",
      "BT1 : Test Statistic = -1.12999 P-Value = 0.2630534188\n",
      "BT2 : Test Statistic = -2.74599 P-Value = 0.0079850899\n",
      "BT3 : Test Statistic = -1.79207 P-Value = 0.0782491067\n",
      "BT4 : Test Statistic = -3.42741 P-Value = 0.0011163556\n",
      "BT5 : Test Statistic = -3.94279 P-Value = 0.0002194297\n",
      "GR1 : Test Statistic = -3.30711 P-Value = 0.0016085972\n",
      "GR2 : Test Statistic = -1.72522 P-Value = 0.0897235664\n",
      "GR3 : Test Statistic = -0.28503 P-Value = 0.7766165661\n",
      "GR4 : Test Statistic = -2.15341 P-Value = 0.0353844967\n",
      "GR5 : Test Statistic = -3.87084 P-Value = 0.0002738381\n",
      "Total:  : Test Statistic = -5.0205 P-Value = 3.1196e-06\n",
      "Chandler : Test Statistic = -3.12246 P-Value = 0.003305346\n"
     ]
    }
   ],
   "source": [
    "# Perform T-Test for each individual Shark\n",
    "unequal_var = [\"Chandler\"]\n",
    "for column in All_Sharks.drop(columns = unequal_var):\n",
    "    twosample_results = st.ttest_ind(no_light_eat[column], last_40[column],nan_policy='omit')\n",
    "    print(column, \": Test Statistic =\" ,round(twosample_results[0], 5), \"P-Value =\", round(twosample_results[1], 10))\n",
    "for column in All_Sharks[unequal_var]:\n",
    "    twosample_results = st.ttest_ind(no_light_eat[column], last_40[column],nan_policy='omit', equal_var = False)\n",
    "    print(column, \": Test Statistic =\" ,round(twosample_results[0], 5), \"P-Value =\", round(twosample_results[1], 10))"
   ]
  },
  {
   "cell_type": "code",
   "execution_count": 25,
   "metadata": {},
   "outputs": [
    {
     "name": "stdout",
     "output_type": "stream",
     "text": [
      "male : Test Statistic = -4.21881 P-Value = 6e-05\n",
      "female : Test Statistic = -3.94547 P-Value = 0.00017\n",
      "All_GR : Test Statistic = -4.64421 P-Value = 2e-05\n",
      "All_BT : Test Statistic = -4.57361 P-Value = 3e-05\n",
      "All_SS : Test Statistic = -3.75821 P-Value = 0.00039\n"
     ]
    }
   ],
   "source": [
    "# Perform T-Test for species and genders\n",
    "for column in gender_and_species:\n",
    "    twosample_results = st.ttest_ind(no_light_eat[column], last_40[column],nan_policy='omit')\n",
    "    print(column, \": Test Statistic =\" ,round(twosample_results[0], 5), \"P-Value =\", round(twosample_results[1], 5))"
   ]
  },
  {
   "cell_type": "markdown",
   "metadata": {},
   "source": [
    "Chandler, BT4, BT5, GR1, GR5, males, females, All_GR, All_BT, All_SS, and the total were all significant. This shows evidence that the sharks may have improved over time with the number of the fish they ate because of light training. Now we will compare the time frame of no light training with the whole time frame of light training:"
   ]
  },
  {
   "cell_type": "code",
   "execution_count": 26,
   "metadata": {},
   "outputs": [
    {
     "name": "stdout",
     "output_type": "stream",
     "text": [
      "Ross : Test Statistic = -0.52385 P-Value = 0.6006489928\n",
      "Chandler : Test Statistic = -1.69831 P-Value = 0.0901602489\n",
      "BT1 : Test Statistic = -1.33223 P-Value = 0.1834797438\n",
      "BT2 : Test Statistic = -2.51846 P-Value = 0.0121439573\n",
      "BT3 : Test Statistic = -0.6316 P-Value = 0.5279772593\n",
      "BT4 : Test Statistic = -2.93365 P-Value = 0.0035267242\n",
      "BT5 : Test Statistic = -2.16195 P-Value = 0.0311677576\n",
      "GR1 : Test Statistic = -1.46375 P-Value = 0.1439840385\n",
      "GR2 : Test Statistic = -1.34015 P-Value = 0.1808965732\n",
      "GR3 : Test Statistic = 0.36902 P-Value = 0.7122952273\n",
      "GR4 : Test Statistic = -1.19187 P-Value = 0.2339604589\n",
      "GR5 : Test Statistic = -2.40969 P-Value = 0.0163802393\n",
      "Total:  : Test Statistic = -3.37587 P-Value = 0.0007851421\n"
     ]
    }
   ],
   "source": [
    "# Perform T-Test for each individual Shark\n",
    "for column in All_Sharks:\n",
    "    twosample_results = st.ttest_ind(no_light_eat[column], light_eat[column],nan_policy='omit')\n",
    "    print(column, \": Test Statistic =\" ,round(twosample_results[0], 5), \"P-Value =\", round(twosample_results[1], 10))"
   ]
  },
  {
   "cell_type": "code",
   "execution_count": 27,
   "metadata": {},
   "outputs": [
    {
     "name": "stdout",
     "output_type": "stream",
     "text": [
      "male : Test Statistic = -2.25547 P-Value = 0.02448\n",
      "female : Test Statistic = -3.15556 P-Value = 0.00168\n",
      "All_GR : Test Statistic = -2.18877 P-Value = 0.02914\n",
      "All_BT : Test Statistic = -3.56903 P-Value = 0.0004\n",
      "All_SS : Test Statistic = -1.55598 P-Value = 0.12044\n"
     ]
    }
   ],
   "source": [
    "# Perform T-Test for species and genders\n",
    "for column in gender_and_species:\n",
    "    twosample_results = st.ttest_ind(no_light_eat[column], light_eat[column],nan_policy='omit')\n",
    "    print(column, \": Test Statistic =\" ,round(twosample_results[0], 5), \"P-Value =\", round(twosample_results[1], 5))"
   ]
  },
  {
   "cell_type": "markdown",
   "metadata": {},
   "source": [
    "The total p-value was significant, BT4 along with the male, female, and All_BT subsets. This is a good indicator that the light training has a significant effect on the number of fish the sharks eat."
   ]
  },
  {
   "cell_type": "markdown",
   "metadata": {},
   "source": [
    "# Number of Drops"
   ]
  },
  {
   "cell_type": "code",
   "execution_count": 28,
   "metadata": {},
   "outputs": [],
   "source": [
    "# Create dataset that includes days without light training\n",
    "\n",
    "no_light_d = (drops['Drops'] < start_date)\n",
    "no_light_drops = drops[no_light_d]\n",
    "\n",
    "# Create dataset of first 40 days after light training was introduced\n",
    "first_40_d = (drops[\"Drops\"] >= start_date) & (drops[\"Drops\"] <= pd.to_datetime('04-28-2018'))\n",
    "first_40_drops = drops[first_40_d]\n",
    "\n",
    "# Create dataset of last 40 days of dataset\n",
    "last_40_d = drops.iloc[-40:]\n",
    "\n",
    "# Create dataset of all non light training days\n",
    "light_d = drops['Drops'] >= start_date\n",
    "light_drops = drops[light_d]"
   ]
  },
  {
   "cell_type": "markdown",
   "metadata": {},
   "source": [
    "First we will perform the T-test between the no light training group and the first 40 days after light training was introduced:"
   ]
  },
  {
   "cell_type": "code",
   "execution_count": 147,
   "metadata": {},
   "outputs": [
    {
     "name": "stdout",
     "output_type": "stream",
     "text": [
      "Ross : Test Statistic = -0.45676 P-Value = 0.64955\n",
      "Chandler : Test Statistic = -2.18551 P-Value = 0.0329\n",
      "BT1 : Test Statistic = 0.61463 P-Value = 0.54116\n",
      "BT2 : Test Statistic = 0.09473 P-Value = 0.92485\n",
      "BT3 : Test Statistic = 0.87148 P-Value = 0.38702\n",
      "BT4 : Test Statistic = -0.75221 P-Value = 0.45492\n",
      "BT5 : Test Statistic = 0.87357 P-Value = 0.38589\n",
      "GR3 : Test Statistic = 1.31692 P-Value = 0.19279\n",
      "GR4 : Test Statistic = 0.94443 P-Value = 0.34867\n",
      "GR5 : Test Statistic = -0.70028 P-Value = 0.48641\n",
      "Total:  : Test Statistic = 0.40096 P-Value = 0.68953\n",
      "GR1 : Test Statistic = 1.89545 P-Value = 0.0653\n",
      "GR2 : Test Statistic = 1.07753 P-Value = 0.28727\n"
     ]
    }
   ],
   "source": [
    "# Perform T-Test for each individual Shark\n",
    "unequal_var = [\"GR1\",\"GR2\"]\n",
    "for column in All_Sharks.drop(columns = unequal_var):\n",
    "    twosample_results = st.ttest_ind(no_light_drops[column], first_40_drops[column],nan_policy='omit')\n",
    "    print(column, \": Test Statistic =\" ,round(twosample_results[0], 5), \"P-Value =\", round(twosample_results[1], 5))\n",
    "for column in All_Sharks[unequal_var]:\n",
    "    twosample_results = st.ttest_ind(no_light_drops[column], first_40_drops[column],nan_policy='omit', equal_var = False)\n",
    "    print(column, \": Test Statistic =\" ,round(twosample_results[0], 5), \"P-Value =\", round(twosample_results[1], 5))"
   ]
  },
  {
   "cell_type": "code",
   "execution_count": 148,
   "metadata": {},
   "outputs": [
    {
     "name": "stdout",
     "output_type": "stream",
     "text": [
      "male : Test Statistic = 0.33205 P-Value = 0.74073\n",
      "female : Test Statistic = 0.96797 P-Value = 0.33601\n",
      "All_BT : Test Statistic = 0.85347 P-Value = 0.39685\n",
      "All_SS : Test Statistic = -1.82788 P-Value = 0.07271\n",
      "All_GR : Test Statistic = 1.52562 P-Value = 0.13569\n"
     ]
    }
   ],
   "source": [
    "# Perform T-Test for species and genders\n",
    "unequal_var = [\"All_GR\"]\n",
    "for column in gender_and_species.drop(columns = unequal_var):\n",
    "    twosample_results = st.ttest_ind(no_light_drops[column], first_40_drops[column],nan_policy='omit')\n",
    "    print(column, \": Test Statistic =\" ,round(twosample_results[0], 5), \"P-Value =\", round(twosample_results[1], 5))\n",
    "for column in gender_and_species[unequal_var]:\n",
    "    twosample_results = st.ttest_ind(no_light_drops[column], first_40_drops[column],nan_policy='omit', equal_var = False)\n",
    "    print(column, \": Test Statistic =\" ,round(twosample_results[0], 5), \"P-Value =\", round(twosample_results[1], 5))\n"
   ]
  },
  {
   "cell_type": "markdown",
   "metadata": {},
   "source": [
    "There were no significant P-values between the no light training time frame and the subset of the first 40 days. Now we will compare the last 40 days of the dataset to the days with no light training:"
   ]
  },
  {
   "cell_type": "code",
   "execution_count": 149,
   "metadata": {},
   "outputs": [
    {
     "name": "stdout",
     "output_type": "stream",
     "text": [
      "Chandler : Test Statistic = -0.79993 P-Value = 0.42701\n",
      "BT2 : Test Statistic = -0.3721 P-Value = 0.71117\n",
      "BT3 : Test Statistic = 1.21852 P-Value = 0.22796\n",
      "BT4 : Test Statistic = 0.88681 P-Value = 0.37884\n",
      "BT5 : Test Statistic = 0.12891 P-Value = 0.89787\n",
      "GR1 : Test Statistic = 1.9847 P-Value = 0.05183\n",
      "GR2 : Test Statistic = -0.8929 P-Value = 0.37554\n",
      "GR5 : Test Statistic = -2.03061 P-Value = 0.04681\n",
      "Total:  : Test Statistic = 1.09082 P-Value = 0.27871\n",
      "Ross : Test Statistic = 2.50405 P-Value = 0.01815\n",
      "BT1 : Test Statistic = 1.31062 P-Value = 0.19855\n",
      "GR3 : Test Statistic = 1.67466 P-Value = 0.10138\n",
      "GR4 : Test Statistic = 1.61521 P-Value = 0.11389\n"
     ]
    }
   ],
   "source": [
    "# Perform T-Test for each individual Shark\n",
    "unequal_var = [\"Ross\",\"BT1\",\"GR3\",\"GR4\"]\n",
    "for column in All_Sharks.drop(columns = unequal_var):\n",
    "    twosample_results = st.ttest_ind(no_light_drops[column], last_40_d[column],nan_policy='omit')\n",
    "    print(column, \": Test Statistic =\" ,round(twosample_results[0], 5), \"P-Value =\", round(twosample_results[1], 5))\n",
    "for column in All_Sharks[unequal_var]:\n",
    "    twosample_results = st.ttest_ind(no_light_drops[column], last_40_d[column],nan_policy='omit', equal_var = False)\n",
    "    print(column, \": Test Statistic =\" ,round(twosample_results[0], 5), \"P-Value =\", round(twosample_results[1], 5))"
   ]
  },
  {
   "cell_type": "code",
   "execution_count": 150,
   "metadata": {},
   "outputs": [
    {
     "name": "stdout",
     "output_type": "stream",
     "text": [
      "female : Test Statistic = 0.93319 P-Value = 0.3536\n",
      "All_BT : Test Statistic = 1.35082 P-Value = 0.182\n",
      "All_SS : Test Statistic = 0.37817 P-Value = 0.70668\n",
      "male : Test Statistic = 1.32292 P-Value = 0.19167\n",
      "All_GR : Test Statistic = 1.05107 P-Value = 0.29952\n"
     ]
    }
   ],
   "source": [
    "# Perform T-Test for species and genders\n",
    "unequal_var = [\"male\",\"All_GR\"]\n",
    "for column in gender_and_species.drop(columns = unequal_var):\n",
    "    twosample_results = st.ttest_ind(no_light_drops[column], last_40_d[column],nan_policy='omit')\n",
    "    print(column, \": Test Statistic =\" ,round(twosample_results[0], 5), \"P-Value =\", round(twosample_results[1], 5))\n",
    "for column in gender_and_species[unequal_var]:\n",
    "    twosample_results = st.ttest_ind(no_light_drops[column], last_40_d[column],nan_policy='omit', equal_var = False)\n",
    "    print(column, \": Test Statistic =\" ,round(twosample_results[0], 5), \"P-Value =\", round(twosample_results[1], 5))"
   ]
  },
  {
   "cell_type": "markdown",
   "metadata": {},
   "source": [
    "There were no significant P-values between the subset of no light training and the last 40 days subset. Now we will look at the no light training subset and the light training subset as a whole:"
   ]
  },
  {
   "cell_type": "code",
   "execution_count": 153,
   "metadata": {},
   "outputs": [
    {
     "name": "stdout",
     "output_type": "stream",
     "text": [
      "Ross : Test Statistic = 1.9177 P-Value = 0.0558\n",
      "Chandler : Test Statistic = 0.45865 P-Value = 0.64671\n",
      "BT2 : Test Statistic = -0.4617 P-Value = 0.64453\n",
      "BT3 : Test Statistic = 0.63897 P-Value = 0.52318\n",
      "BT4 : Test Statistic = -0.30976 P-Value = 0.75689\n",
      "BT5 : Test Statistic = 0.8157 P-Value = 0.41512\n",
      "GR2 : Test Statistic = -0.3634 P-Value = 0.71648\n",
      "GR4 : Test Statistic = 2.04736 P-Value = 0.04122\n",
      "GR5 : Test Statistic = -0.36774 P-Value = 0.71325\n",
      "Total:  : Test Statistic = 1.74169 P-Value = 0.08209\n",
      "BT1 : Test Statistic = 1.13014 P-Value = 0.26747\n",
      "GR1 : Test Statistic = 2.05487 P-Value = 0.04841\n",
      "GR3 : Test Statistic = 1.87145 P-Value = 0.07072\n"
     ]
    }
   ],
   "source": [
    "# Perform T-Test for each individual Shark\n",
    "unequal_var = [\"BT1\",\"GR1\",\"GR3\"]\n",
    "for column in All_Sharks.drop(columns = unequal_var):\n",
    "    twosample_results = st.ttest_ind(no_light_drops[column], light_drops[column],nan_policy='omit')\n",
    "    print(column, \": Test Statistic =\" ,round(twosample_results[0], 5), \"P-Value =\", round(twosample_results[1], 5))\n",
    "for column in All_Sharks[unequal_var]:\n",
    "    twosample_results = st.ttest_ind(no_light_drops[column], light_drops[column],nan_policy='omit', equal_var = False)\n",
    "    print(column, \": Test Statistic =\" ,round(twosample_results[0], 5), \"P-Value =\", round(twosample_results[1], 5))"
   ]
  },
  {
   "cell_type": "code",
   "execution_count": 154,
   "metadata": {},
   "outputs": [
    {
     "name": "stdout",
     "output_type": "stream",
     "text": [
      "female : Test Statistic = 1.05099 P-Value = 0.2937\n",
      "All_BT : Test Statistic = 1.26563 P-Value = 0.20633\n",
      "All_SS : Test Statistic = 1.36852 P-Value = 0.17185\n",
      "All_GR : Test Statistic = 1.58365 P-Value = 0.12349\n",
      "male : Test Statistic = 1.51139 P-Value = 0.13853\n"
     ]
    }
   ],
   "source": [
    "# Perform T-Test for species and genders\n",
    "unequal_var = [\"All_GR\",\"male\"]\n",
    "for column in gender_and_species.drop(columns = unequal_var):\n",
    "    twosample_results = st.ttest_ind(no_light_drops[column], light_drops[column],nan_policy='omit')\n",
    "    print(column, \": Test Statistic =\" ,round(twosample_results[0], 5), \"P-Value =\", round(twosample_results[1], 5))\n",
    "for column in gender_and_species[unequal_var]:\n",
    "    twosample_results = st.ttest_ind(no_light_drops[column], light_drops[column],nan_policy='omit', equal_var = False)\n",
    "    print(column, \": Test Statistic =\" ,round(twosample_results[0], 5), \"P-Value =\", round(twosample_results[1], 5))"
   ]
  },
  {
   "cell_type": "markdown",
   "metadata": {},
   "source": [
    "There are no significant values so this is a good indicator the light training does not significantly effect the number of drops."
   ]
  },
  {
   "cell_type": "markdown",
   "metadata": {},
   "source": [
    "# Number of Targets"
   ]
  },
  {
   "cell_type": "code",
   "execution_count": 35,
   "metadata": {},
   "outputs": [],
   "source": [
    "# Create dataset that includes days without light training\n",
    "\n",
    "no_light_t = (targets['Date'] < start_date)\n",
    "no_light_targets = targets[no_light_t]\n",
    "\n",
    "# Create dataset of first 40 days after light training was introduced\n",
    "first_40_t = (targets[\"Date\"] >= start_date) & (targets[\"Date\"] <= pd.to_datetime('04-28-2018'))\n",
    "first_40_targets = drops[first_40_t]\n",
    "\n",
    "# Create dataset of last 40 days of dataset\n",
    "last_40_t = targets.iloc[-40:]\n",
    "\n",
    "# Create dataset of all non light training days\n",
    "light_t = drops['Drops'] >= start_date\n",
    "light_targets = drops[light_t]"
   ]
  },
  {
   "cell_type": "markdown",
   "metadata": {},
   "source": [
    "First we will compare the no light training subset to the first 40 days after light training started subset:"
   ]
  },
  {
   "cell_type": "code",
   "execution_count": 157,
   "metadata": {},
   "outputs": [
    {
     "name": "stdout",
     "output_type": "stream",
     "text": [
      "BT2 : Test Statistic = 6.79503 P-Value = 6e-09\n",
      "Ross : Test Statistic = 7.4382 P-Value = 2.67e-08\n",
      "Chandler : Test Statistic = 6.86537 P-Value = 1.035e-07\n",
      "BT1 : Test Statistic = 5.61988 P-Value = 3.0515e-06\n",
      "BT3 : Test Statistic = 8.37721 P-Value = 1.3e-09\n",
      "BT4 : Test Statistic = 7.08617 P-Value = 3.94e-08\n",
      "BT5 : Test Statistic = 5.92226 P-Value = 1.2915e-06\n",
      "GR1 : Test Statistic = 6.41837 P-Value = 3.603e-07\n",
      "GR2 : Test Statistic = 5.54979 P-Value = 4.2045e-06\n",
      "GR3 : Test Statistic = 6.87081 P-Value = 9.91e-08\n",
      "GR4 : Test Statistic = 5.12867 P-Value = 1.41262e-05\n",
      "GR5 : Test Statistic = 3.027 P-Value = 0.0049112821\n",
      "Total:  : Test Statistic = 10.16325 P-Value = 0.0\n"
     ]
    }
   ],
   "source": [
    "# Perform T-Test for each individual Shark\n",
    "\n",
    "twosample_results = st.ttest_ind(no_light_targets[\"BT2\"], first_40_targets[\"BT2\"],nan_policy='omit')\n",
    "print(\"BT2\", \": Test Statistic =\" ,round(twosample_results[0], 5), \"P-Value =\", round(twosample_results[1], 10))\n",
    "for column in All_Sharks.drop(columns = [\"BT2\"]):\n",
    "    twosample_results = st.ttest_ind(no_light_targets[column], first_40_targets[column],nan_policy='omit', equal_var = False)\n",
    "    print(column, \": Test Statistic =\" ,round(twosample_results[0], 5), \"P-Value =\", round(twosample_results[1], 10))"
   ]
  },
  {
   "cell_type": "code",
   "execution_count": 158,
   "metadata": {},
   "outputs": [
    {
     "name": "stdout",
     "output_type": "stream",
     "text": [
      "male : Test Statistic = 7.69344 P-Value = 2e-09\n",
      "female : Test Statistic = 10.71679 P-Value = 0.0\n",
      "All_GR : Test Statistic = 8.85028 P-Value = 6e-10\n",
      "All_BT : Test Statistic = 9.42654 P-Value = 1e-10\n",
      "All_SS : Test Statistic = 7.76162 P-Value = 1.13e-08\n"
     ]
    }
   ],
   "source": [
    "# Perform T-Test for species and genders\n",
    "for column in gender_and_species:\n",
    "    twosample_results = st.ttest_ind(no_light_targets[column], first_40_targets[column],nan_policy='omit', equal_var = False)\n",
    "    print(column, \": Test Statistic =\" ,round(twosample_results[0], 5), \"P-Value =\", round(twosample_results[1], 10))"
   ]
  },
  {
   "cell_type": "markdown",
   "metadata": {},
   "source": [
    "Every single P-value is significant. This would make sense since the light training probably was a shock to the sharks at first and either didn't target as much or targeted more. Now we will compare the non-light training subset to the last 40 days of light training subset:"
   ]
  },
  {
   "cell_type": "code",
   "execution_count": 38,
   "metadata": {},
   "outputs": [
    {
     "name": "stdout",
     "output_type": "stream",
     "text": [
      "Ross : Test Statistic = -1.68722 P-Value = 0.0969333882\n",
      "Chandler : Test Statistic = -1.53604 P-Value = 0.1299654646\n",
      "BT1 : Test Statistic = 0.49784 P-Value = 0.6204777804\n",
      "BT2 : Test Statistic = -3.12479 P-Value = 0.002777852\n",
      "BT3 : Test Statistic = -1.03103 P-Value = 0.3068063745\n",
      "BT4 : Test Statistic = -4.08836 P-Value = 0.0001354664\n",
      "BT5 : Test Statistic = -4.00907 P-Value = 0.0001763462\n",
      "GR1 : Test Statistic = -1.32542 P-Value = 0.1901401276\n",
      "GR2 : Test Statistic = -2.83406 P-Value = 0.0062826497\n",
      "GR3 : Test Statistic = 1.69134 P-Value = 0.0960482222\n",
      "GR4 : Test Statistic = -1.49635 P-Value = 0.1398924537\n",
      "GR5 : Test Statistic = -3.95334 P-Value = 0.0002088523\n",
      "Total:  : Test Statistic = -2.64137 P-Value = 0.009972226\n"
     ]
    }
   ],
   "source": [
    "# Perform T-Test for each individual Shark\n",
    "for column in All_Sharks:\n",
    "    twosample_results = st.ttest_ind(no_light_targets[column], last_40_t[column],nan_policy='omit')\n",
    "    print(column, \": Test Statistic =\" ,round(twosample_results[0], 5), \"P-Value =\", round(twosample_results[1], 10))"
   ]
  },
  {
   "cell_type": "code",
   "execution_count": 39,
   "metadata": {},
   "outputs": [
    {
     "name": "stdout",
     "output_type": "stream",
     "text": [
      "male : Test Statistic = -1.69109 P-Value = 0.0948112714\n",
      "female : Test Statistic = -3.30149 P-Value = 0.0014524086\n",
      "All_GR : Test Statistic = -2.44215 P-Value = 0.0176157187\n",
      "All_BT : Test Statistic = -3.25035 P-Value = 0.0019211677\n",
      "All_SS : Test Statistic = -1.8115 P-Value = 0.0752424523\n"
     ]
    }
   ],
   "source": [
    "# Perform T-Test for species and genders\n",
    "for column in gender_and_species:\n",
    "    twosample_results = st.ttest_ind(no_light_targets[column], last_40_t[column],nan_policy='omit')\n",
    "    print(column, \": Test Statistic =\" ,round(twosample_results[0], 5), \"P-Value =\", round(twosample_results[1], 10))"
   ]
  },
  {
   "cell_type": "markdown",
   "metadata": {},
   "source": [
    "BT2, BT4, BT5, GR2 (marginally), GR5 as well as female, total, All_GR (marginally), and All_BT subsets. Now we will look at the non-light training subset vs. the light training subset as a whole:"
   ]
  },
  {
   "cell_type": "code",
   "execution_count": 159,
   "metadata": {},
   "outputs": [
    {
     "name": "stdout",
     "output_type": "stream",
     "text": [
      "Ross : Test Statistic = 7.79666 P-Value = 1.33e-08\n",
      "Chandler : Test Statistic = 7.58439 P-Value = 2.29e-08\n",
      "BT1 : Test Statistic = 6.01249 P-Value = 1.5046e-06\n",
      "BT3 : Test Statistic = 8.46227 P-Value = 2.3e-09\n",
      "BT4 : Test Statistic = 7.46314 P-Value = 2.86e-08\n",
      "BT5 : Test Statistic = 5.9307 P-Value = 1.8298e-06\n",
      "GR1 : Test Statistic = 6.48769 P-Value = 3.53e-07\n",
      "GR2 : Test Statistic = 5.07688 P-Value = 1.80169e-05\n",
      "GR3 : Test Statistic = 7.06752 P-Value = 7.26e-08\n",
      "GR4 : Test Statistic = 5.28318 P-Value = 1.03196e-05\n",
      "GR5 : Test Statistic = 3.13772 P-Value = 0.0037926659\n",
      "Total:  : Test Statistic = 10.43655 P-Value = 0.0\n",
      "BT2 : Test Statistic = 11.31421 P-Value = 0.0\n"
     ]
    }
   ],
   "source": [
    "# Perform T-Test for each individual Shark\n",
    "for column in All_Sharks.drop(columns = [\"BT2\"]):\n",
    "    twosample_results = st.ttest_ind(no_light_targets[column], light_targets[column],nan_policy='omit',equal_var = False)\n",
    "    print(column, \": Test Statistic =\" ,round(twosample_results[0], 5), \"P-Value =\", round(twosample_results[1], 10))\n",
    "twosample_results = st.ttest_ind(no_light_targets[\"BT2\"], light_targets[\"BT2\"],nan_policy='omit')\n",
    "print(\"BT2\", \": Test Statistic =\" ,round(twosample_results[0], 5), \"P-Value =\", round(twosample_results[1], 10))"
   ]
  },
  {
   "cell_type": "code",
   "execution_count": 160,
   "metadata": {},
   "outputs": [
    {
     "name": "stdout",
     "output_type": "stream",
     "text": [
      "male : Test Statistic = 8.04001 P-Value = 8e-10\n",
      "female : Test Statistic = 10.81423 P-Value = 0.0\n",
      "All_GR : Test Statistic = 8.8951 P-Value = 6e-10\n",
      "All_BT : Test Statistic = 9.61757 P-Value = 1e-10\n",
      "All_SS : Test Statistic = 8.32902 P-Value = 3.5e-09\n"
     ]
    }
   ],
   "source": [
    "# Perform T-Test for species and genders\n",
    "for column in gender_and_species:\n",
    "    twosample_results = st.ttest_ind(no_light_targets[column], light_targets[column],nan_policy='omit', equal_var = False)\n",
    "    print(column, \": Test Statistic =\" ,round(twosample_results[0], 5), \"P-Value =\", round(twosample_results[1], 10))"
   ]
  },
  {
   "cell_type": "markdown",
   "metadata": {},
   "source": [
    "All of the P-values are significant, so it seems that targeting was significantly effected by light training."
   ]
  },
  {
   "cell_type": "markdown",
   "metadata": {},
   "source": [
    "# Water Temperature Linear Regression to see if temperature had any affect on how much they ate, dropped, and targeted."
   ]
  },
  {
   "cell_type": "code",
   "execution_count": 294,
   "metadata": {},
   "outputs": [],
   "source": [
    "from sklearn.linear_model import LinearRegression"
   ]
  },
  {
   "cell_type": "code",
   "execution_count": 314,
   "metadata": {},
   "outputs": [
    {
     "data": {
      "text/plain": [
       "LinearRegression()"
      ]
     },
     "execution_count": 314,
     "metadata": {},
     "output_type": "execute_result"
    }
   ],
   "source": [
    "model = LinearRegression()\n",
    "model.fit(np.array(other_factors.Temperature[eat.Chandler.notna().reset_index(drop = True)]).reshape((-1, 1)),eat[\"Chandler\"].dropna())"
   ]
  },
  {
   "cell_type": "code",
   "execution_count": 320,
   "metadata": {},
   "outputs": [
    {
     "name": "stdout",
     "output_type": "stream",
     "text": [
      "intercept: -3.4890945546992467\n",
      "slope: [0.08529267]\n",
      "y = 0.0853 x - 3.49\n"
     ]
    }
   ],
   "source": [
    "print('intercept:', model.intercept_)\n",
    "print('slope:', model.coef_)\n",
    "print(\"y =\",round(model.coef_[0],4),\"x -\",round(-1*model.intercept_,2))"
   ]
  },
  {
   "cell_type": "code",
   "execution_count": 321,
   "metadata": {},
   "outputs": [
    {
     "data": {
      "text/plain": [
       "0.0019882898707391794"
      ]
     },
     "execution_count": 321,
     "metadata": {},
     "output_type": "execute_result"
    }
   ],
   "source": [
    "model.score(np.array(other_factors.Temperature[eat.Chandler.notna().reset_index(drop = True)]).reshape((-1, 1)),eat[\"Chandler\"].dropna())"
   ]
  },
  {
   "cell_type": "code",
   "execution_count": 328,
   "metadata": {},
   "outputs": [
    {
     "data": {
      "text/plain": [
       "[0.00019,\n",
       " 0.00199,\n",
       " 0.00105,\n",
       " 0.00495,\n",
       " 0.00217,\n",
       " 0.02497,\n",
       " 0.00151,\n",
       " 0.01629,\n",
       " 0.00262,\n",
       " 0.00016,\n",
       " 6e-05,\n",
       " 0.01364,\n",
       " 0.00844,\n",
       " 0.01081,\n",
       " 0.01838,\n",
       " 0.00168,\n",
       " 0.00271,\n",
       " 0.00995]"
      ]
     },
     "execution_count": 328,
     "metadata": {},
     "output_type": "execute_result"
    }
   ],
   "source": [
    "rsq = []\n",
    "for column in eat.drop(columns = \"Etc. Comments\").iloc[:,1:]:\n",
    "    model = LinearRegression()\n",
    "    model.fit(np.array(other_factors.Temperature[eat[column].notna().reset_index(drop = True)]).reshape((-1, 1)),eat[column].dropna())\n",
    "    rsq.append(round(model.score(np.array(other_factors.Temperature[eat[column].notna().reset_index(drop = True)]).reshape((-1, 1)),eat[column].dropna()),5))\n",
    "rsq"
   ]
  },
  {
   "cell_type": "code",
   "execution_count": 329,
   "metadata": {},
   "outputs": [
    {
     "data": {
      "text/plain": [
       "[0.00282,\n",
       " 0.00754,\n",
       " 0.0136,\n",
       " 0.0157,\n",
       " 0.01122,\n",
       " 0.01249,\n",
       " 0.00187,\n",
       " 0.00406,\n",
       " 0.00669,\n",
       " 0.00203,\n",
       " 0.01977,\n",
       " 0.00106,\n",
       " 0.03424,\n",
       " 0.01834,\n",
       " 0.03942,\n",
       " 0.00912,\n",
       " 0.01424,\n",
       " 0.0309]"
      ]
     },
     "execution_count": 329,
     "metadata": {},
     "output_type": "execute_result"
    }
   ],
   "source": [
    "rsq = []\n",
    "for column in drops.iloc[:,1:]:\n",
    "    model = LinearRegression()\n",
    "    model.fit(np.array(other_factors.Temperature[drops[column].notna().reset_index(drop = True)]).reshape((-1, 1)),drops[column].dropna())\n",
    "    rsq.append(round(model.score(np.array(other_factors.Temperature[drops[column].notna().reset_index(drop = True)]).reshape((-1, 1)),drops[column].dropna()),5))\n",
    "rsq"
   ]
  },
  {
   "cell_type": "code",
   "execution_count": 330,
   "metadata": {},
   "outputs": [
    {
     "data": {
      "text/plain": [
       "[0.00145,\n",
       " 0.00146,\n",
       " 0.00816,\n",
       " 2e-05,\n",
       " 3e-05,\n",
       " 2e-05,\n",
       " 0.01044,\n",
       " 0.006,\n",
       " 0.01467,\n",
       " 0.0011,\n",
       " 0.00677,\n",
       " 0.02721,\n",
       " 0.00083,\n",
       " 0.02154,\n",
       " 1e-05,\n",
       " 0.00208,\n",
       " 0.00015,\n",
       " 0.00203]"
      ]
     },
     "execution_count": 330,
     "metadata": {},
     "output_type": "execute_result"
    }
   ],
   "source": [
    "rsq = []\n",
    "for column in targets.iloc[:,1:]:\n",
    "    model = LinearRegression()\n",
    "    model.fit(np.array(other_factors.Temperature[targets[column].notna().reset_index(drop = True)]).reshape((-1, 1)),targets[column].dropna())\n",
    "    rsq.append(round(model.score(np.array(other_factors.Temperature[targets[column].notna().reset_index(drop = True)]).reshape((-1, 1)),targets[column].dropna()),5))\n",
    "rsq"
   ]
  },
  {
   "cell_type": "markdown",
   "metadata": {},
   "source": [
    "# Time of Year Affect on Sharks"
   ]
  },
  {
   "cell_type": "code",
   "execution_count": null,
   "metadata": {},
   "outputs": [],
   "source": [
    "#Split the dataframes into different seasons"
   ]
  },
  {
   "cell_type": "code",
   "execution_count": 350,
   "metadata": {},
   "outputs": [],
   "source": [
    "def season_of_date(date):\n",
    "    year = str(date.year)\n",
    "    seasons = {'spring': pd.date_range(start=year+'/03/21', end=year+'/06/20'),\n",
    "               'summer': pd.date_range(start=year+'/06/21', end=year+'/09/22'),\n",
    "               'fall': pd.date_range(start=year+'/09/23', end=year+'/12/20')}\n",
    "    if date in seasons['spring']:\n",
    "        return 'spring'\n",
    "    if date in seasons['summer']:\n",
    "        return 'summer'\n",
    "    if date in seasons['fall']:\n",
    "        return 'fall'\n",
    "    else:\n",
    "        return 'winter'\n",
    "\n",
    "# Assuming df has a date column of type `datetime`\n",
    "#df['season'] = df.date.map(season_of_date)"
   ]
  },
  {
   "cell_type": "code",
   "execution_count": 351,
   "metadata": {},
   "outputs": [
    {
     "data": {
      "text/plain": [
       "1        fall\n",
       "2        fall\n",
       "3        fall\n",
       "4        fall\n",
       "5        fall\n",
       "        ...  \n",
       "578    summer\n",
       "579      fall\n",
       "580      fall\n",
       "581      fall\n",
       "582      fall\n",
       "Name: Date, Length: 582, dtype: object"
      ]
     },
     "execution_count": 351,
     "metadata": {},
     "output_type": "execute_result"
    }
   ],
   "source": [
    "eat.Date.map(season_of_date)"
   ]
  },
  {
   "cell_type": "code",
   "execution_count": 355,
   "metadata": {},
   "outputs": [],
   "source": [
    "eat_summer = eat[eat.Date.map(season_of_date)==\"summer\"]\n",
    "eat_fall = eat[eat.Date.map(season_of_date)==\"fall\"]\n",
    "eat_winter = eat[eat.Date.map(season_of_date)==\"winter\"]\n",
    "eat_spring = eat[eat.Date.map(season_of_date)==\"spring\"]"
   ]
  },
  {
   "cell_type": "code",
   "execution_count": 356,
   "metadata": {},
   "outputs": [],
   "source": [
    "targets_summer = targets[targets.Date.map(season_of_date)==\"summer\"]\n",
    "targets_fall = targets[targets.Date.map(season_of_date)==\"fall\"]\n",
    "targets_winter = targets[targets.Date.map(season_of_date)==\"winter\"]\n",
    "targets_spring = targets[targets.Date.map(season_of_date)==\"spring\"]"
   ]
  },
  {
   "cell_type": "code",
   "execution_count": 357,
   "metadata": {},
   "outputs": [],
   "source": [
    "drops_summer = drops[eat.Date.map(season_of_date)==\"summer\"]\n",
    "drops_fall = drops[eat.Date.map(season_of_date)==\"fall\"]\n",
    "drops_winter = drops[eat.Date.map(season_of_date)==\"winter\"]\n",
    "drops_spring = drops[eat.Date.map(season_of_date)==\"spring\"]"
   ]
  },
  {
   "cell_type": "markdown",
   "metadata": {},
   "source": [
    "# Confidence Intervals"
   ]
  },
  {
   "cell_type": "markdown",
   "metadata": {},
   "source": [
    "## Corona Vs. Non-Corona"
   ]
  },
  {
   "cell_type": "code",
   "execution_count": 163,
   "metadata": {},
   "outputs": [
    {
     "name": "stdout",
     "output_type": "stream",
     "text": [
      "Corona Eating Mean CI for BT2 (3.1422010241574245, 5.466494628016488)\n",
      "Open Eating Mean CI for BT2 (2.540346838548647, 3.016279667475449)\n"
     ]
    }
   ],
   "source": [
    "print(\"Corona Eating Mean CI for BT2\",st.t.interval(alpha=0.95, df=len(corona_eat[\"BT2\"])-1, loc=np.mean(corona_eat[\"BT2\"]), scale=st.sem(corona_eat[\"BT2\"],nan_policy='omit')))\n",
    "print(\"Open Eating Mean CI for BT2\",st.t.interval(alpha=0.95, df=len(open_eat[\"BT2\"])-1, loc=np.mean(open_eat[\"BT2\"]), scale=st.sem(open_eat[\"BT2\"],nan_policy='omit')))"
   ]
  },
  {
   "cell_type": "code",
   "execution_count": 167,
   "metadata": {},
   "outputs": [
    {
     "name": "stdout",
     "output_type": "stream",
     "text": [
      "Corona Dropping Mean CI for BT2 (1.0788439446594555, 2.486373446644892)\n",
      "Open Dropping Mean CI for BT2 (0.7028123803003375, 0.9212840052418311)\n"
     ]
    }
   ],
   "source": [
    "print(\"Corona Dropping Mean CI for BT2\",st.t.interval(alpha=0.95, df=len(corona_drop[\"BT2\"])-1, loc=np.mean(corona_drop[\"BT2\"]), scale=st.sem(corona_drop[\"BT2\"],nan_policy='omit')))\n",
    "print(\"Open Dropping Mean CI for BT2\",st.t.interval(alpha=0.95, df=len(open_drop[\"BT2\"])-1, loc=np.mean(open_drop[\"BT2\"]), scale=st.sem(open_drop[\"BT2\"],nan_policy='omit')))"
   ]
  },
  {
   "cell_type": "code",
   "execution_count": 221,
   "metadata": {},
   "outputs": [
    {
     "data": {
      "text/plain": [
       "True"
      ]
     },
     "execution_count": 221,
     "metadata": {},
     "output_type": "execute_result"
    }
   ],
   "source": [
    "def overlap(start1, end1, start2, end2):\n",
    "    \"\"\"Does the range (start1, end1) overlap with (start2, end2)?\"\"\"\n",
    "    return (\n",
    "        start1 <= start2 <= end1 or\n",
    "        start1 <= end2 <= end1 or\n",
    "        start2 <= start1 <= end2 or\n",
    "        start2 <= end1 <= end2\n",
    "    )"
   ]
  },
  {
   "cell_type": "code",
   "execution_count": 224,
   "metadata": {},
   "outputs": [
    {
     "name": "stderr",
     "output_type": "stream",
     "text": [
      "<ipython-input-224-60bc9f8f419a>:14: DeprecationWarning:\n",
      "\n",
      "The default dtype for empty Series will be 'object' instead of 'float64' in a future version. Specify a dtype explicitly to silence this warning.\n",
      "\n"
     ]
    },
    {
     "name": "stdout",
     "output_type": "stream",
     "text": [
      "BT5 Has Confidence Intervals that overlap\n",
      "Here are the confidence intervals:\n",
      "Corona (0.6508513025502022, 1.7301010784021789)\n",
      "Open (0.48878682997915057, 0.6582011218280784)\n"
     ]
    },
    {
     "data": {
      "application/vnd.plotly.v1+json": {
       "config": {
        "plotlyServerURL": "https://plot.ly"
       },
       "data": [
        {
         "alignmentgroup": "True",
         "error_y": {
          "array": [
           0.7037647509927183,
           1.1126099957449815,
           1.5172518366939327,
           1.8046557213824759
          ]
         },
         "hovertemplate": "Variable=Corona<br>column=%{x}<br>Mean=%{y}<extra></extra>",
         "legendgroup": "Corona",
         "marker": {
          "color": "#636efa"
         },
         "name": "Corona",
         "offsetgroup": "Corona",
         "orientation": "v",
         "showlegend": true,
         "textposition": "auto",
         "type": "bar",
         "x": [
          "BT2",
          "female",
          "All_BT",
          "Total: "
         ],
         "xaxis": "x",
         "y": [
          1.7826086956521738,
          3.466666666666667,
          5.571428571428571,
          5.433333333333334
         ],
         "yaxis": "y"
        },
        {
         "alignmentgroup": "True",
         "error_y": {
          "array": [
           0.10923581247074676,
           0.1749589906364979,
           0.23414937235091182,
           0.251111310099168
          ]
         },
         "hovertemplate": "Variable=Open<br>column=%{x}<br>Mean=%{y}<extra></extra>",
         "legendgroup": "Open",
         "marker": {
          "color": "#EF553B"
         },
         "name": "Open",
         "offsetgroup": "Open",
         "orientation": "v",
         "showlegend": true,
         "textposition": "auto",
         "type": "bar",
         "x": [
          "BT2",
          "female",
          "All_BT",
          "Total: "
         ],
         "xaxis": "x",
         "y": [
          0.8120481927710843,
          2.0018115942028984,
          3.1879518072289157,
          3.3568840579710146
         ],
         "yaxis": "y"
        }
       ],
       "layout": {
        "barmode": "group",
        "legend": {
         "title": {
          "text": "Variable"
         },
         "tracegroupgap": 0
        },
        "template": {
         "data": {
          "bar": [
           {
            "error_x": {
             "color": "#2a3f5f"
            },
            "error_y": {
             "color": "#2a3f5f"
            },
            "marker": {
             "line": {
              "color": "#E5ECF6",
              "width": 0.5
             }
            },
            "type": "bar"
           }
          ],
          "barpolar": [
           {
            "marker": {
             "line": {
              "color": "#E5ECF6",
              "width": 0.5
             }
            },
            "type": "barpolar"
           }
          ],
          "carpet": [
           {
            "aaxis": {
             "endlinecolor": "#2a3f5f",
             "gridcolor": "white",
             "linecolor": "white",
             "minorgridcolor": "white",
             "startlinecolor": "#2a3f5f"
            },
            "baxis": {
             "endlinecolor": "#2a3f5f",
             "gridcolor": "white",
             "linecolor": "white",
             "minorgridcolor": "white",
             "startlinecolor": "#2a3f5f"
            },
            "type": "carpet"
           }
          ],
          "choropleth": [
           {
            "colorbar": {
             "outlinewidth": 0,
             "ticks": ""
            },
            "type": "choropleth"
           }
          ],
          "contour": [
           {
            "colorbar": {
             "outlinewidth": 0,
             "ticks": ""
            },
            "colorscale": [
             [
              0,
              "#0d0887"
             ],
             [
              0.1111111111111111,
              "#46039f"
             ],
             [
              0.2222222222222222,
              "#7201a8"
             ],
             [
              0.3333333333333333,
              "#9c179e"
             ],
             [
              0.4444444444444444,
              "#bd3786"
             ],
             [
              0.5555555555555556,
              "#d8576b"
             ],
             [
              0.6666666666666666,
              "#ed7953"
             ],
             [
              0.7777777777777778,
              "#fb9f3a"
             ],
             [
              0.8888888888888888,
              "#fdca26"
             ],
             [
              1,
              "#f0f921"
             ]
            ],
            "type": "contour"
           }
          ],
          "contourcarpet": [
           {
            "colorbar": {
             "outlinewidth": 0,
             "ticks": ""
            },
            "type": "contourcarpet"
           }
          ],
          "heatmap": [
           {
            "colorbar": {
             "outlinewidth": 0,
             "ticks": ""
            },
            "colorscale": [
             [
              0,
              "#0d0887"
             ],
             [
              0.1111111111111111,
              "#46039f"
             ],
             [
              0.2222222222222222,
              "#7201a8"
             ],
             [
              0.3333333333333333,
              "#9c179e"
             ],
             [
              0.4444444444444444,
              "#bd3786"
             ],
             [
              0.5555555555555556,
              "#d8576b"
             ],
             [
              0.6666666666666666,
              "#ed7953"
             ],
             [
              0.7777777777777778,
              "#fb9f3a"
             ],
             [
              0.8888888888888888,
              "#fdca26"
             ],
             [
              1,
              "#f0f921"
             ]
            ],
            "type": "heatmap"
           }
          ],
          "heatmapgl": [
           {
            "colorbar": {
             "outlinewidth": 0,
             "ticks": ""
            },
            "colorscale": [
             [
              0,
              "#0d0887"
             ],
             [
              0.1111111111111111,
              "#46039f"
             ],
             [
              0.2222222222222222,
              "#7201a8"
             ],
             [
              0.3333333333333333,
              "#9c179e"
             ],
             [
              0.4444444444444444,
              "#bd3786"
             ],
             [
              0.5555555555555556,
              "#d8576b"
             ],
             [
              0.6666666666666666,
              "#ed7953"
             ],
             [
              0.7777777777777778,
              "#fb9f3a"
             ],
             [
              0.8888888888888888,
              "#fdca26"
             ],
             [
              1,
              "#f0f921"
             ]
            ],
            "type": "heatmapgl"
           }
          ],
          "histogram": [
           {
            "marker": {
             "colorbar": {
              "outlinewidth": 0,
              "ticks": ""
             }
            },
            "type": "histogram"
           }
          ],
          "histogram2d": [
           {
            "colorbar": {
             "outlinewidth": 0,
             "ticks": ""
            },
            "colorscale": [
             [
              0,
              "#0d0887"
             ],
             [
              0.1111111111111111,
              "#46039f"
             ],
             [
              0.2222222222222222,
              "#7201a8"
             ],
             [
              0.3333333333333333,
              "#9c179e"
             ],
             [
              0.4444444444444444,
              "#bd3786"
             ],
             [
              0.5555555555555556,
              "#d8576b"
             ],
             [
              0.6666666666666666,
              "#ed7953"
             ],
             [
              0.7777777777777778,
              "#fb9f3a"
             ],
             [
              0.8888888888888888,
              "#fdca26"
             ],
             [
              1,
              "#f0f921"
             ]
            ],
            "type": "histogram2d"
           }
          ],
          "histogram2dcontour": [
           {
            "colorbar": {
             "outlinewidth": 0,
             "ticks": ""
            },
            "colorscale": [
             [
              0,
              "#0d0887"
             ],
             [
              0.1111111111111111,
              "#46039f"
             ],
             [
              0.2222222222222222,
              "#7201a8"
             ],
             [
              0.3333333333333333,
              "#9c179e"
             ],
             [
              0.4444444444444444,
              "#bd3786"
             ],
             [
              0.5555555555555556,
              "#d8576b"
             ],
             [
              0.6666666666666666,
              "#ed7953"
             ],
             [
              0.7777777777777778,
              "#fb9f3a"
             ],
             [
              0.8888888888888888,
              "#fdca26"
             ],
             [
              1,
              "#f0f921"
             ]
            ],
            "type": "histogram2dcontour"
           }
          ],
          "mesh3d": [
           {
            "colorbar": {
             "outlinewidth": 0,
             "ticks": ""
            },
            "type": "mesh3d"
           }
          ],
          "parcoords": [
           {
            "line": {
             "colorbar": {
              "outlinewidth": 0,
              "ticks": ""
             }
            },
            "type": "parcoords"
           }
          ],
          "pie": [
           {
            "automargin": true,
            "type": "pie"
           }
          ],
          "scatter": [
           {
            "marker": {
             "colorbar": {
              "outlinewidth": 0,
              "ticks": ""
             }
            },
            "type": "scatter"
           }
          ],
          "scatter3d": [
           {
            "line": {
             "colorbar": {
              "outlinewidth": 0,
              "ticks": ""
             }
            },
            "marker": {
             "colorbar": {
              "outlinewidth": 0,
              "ticks": ""
             }
            },
            "type": "scatter3d"
           }
          ],
          "scattercarpet": [
           {
            "marker": {
             "colorbar": {
              "outlinewidth": 0,
              "ticks": ""
             }
            },
            "type": "scattercarpet"
           }
          ],
          "scattergeo": [
           {
            "marker": {
             "colorbar": {
              "outlinewidth": 0,
              "ticks": ""
             }
            },
            "type": "scattergeo"
           }
          ],
          "scattergl": [
           {
            "marker": {
             "colorbar": {
              "outlinewidth": 0,
              "ticks": ""
             }
            },
            "type": "scattergl"
           }
          ],
          "scattermapbox": [
           {
            "marker": {
             "colorbar": {
              "outlinewidth": 0,
              "ticks": ""
             }
            },
            "type": "scattermapbox"
           }
          ],
          "scatterpolar": [
           {
            "marker": {
             "colorbar": {
              "outlinewidth": 0,
              "ticks": ""
             }
            },
            "type": "scatterpolar"
           }
          ],
          "scatterpolargl": [
           {
            "marker": {
             "colorbar": {
              "outlinewidth": 0,
              "ticks": ""
             }
            },
            "type": "scatterpolargl"
           }
          ],
          "scatterternary": [
           {
            "marker": {
             "colorbar": {
              "outlinewidth": 0,
              "ticks": ""
             }
            },
            "type": "scatterternary"
           }
          ],
          "surface": [
           {
            "colorbar": {
             "outlinewidth": 0,
             "ticks": ""
            },
            "colorscale": [
             [
              0,
              "#0d0887"
             ],
             [
              0.1111111111111111,
              "#46039f"
             ],
             [
              0.2222222222222222,
              "#7201a8"
             ],
             [
              0.3333333333333333,
              "#9c179e"
             ],
             [
              0.4444444444444444,
              "#bd3786"
             ],
             [
              0.5555555555555556,
              "#d8576b"
             ],
             [
              0.6666666666666666,
              "#ed7953"
             ],
             [
              0.7777777777777778,
              "#fb9f3a"
             ],
             [
              0.8888888888888888,
              "#fdca26"
             ],
             [
              1,
              "#f0f921"
             ]
            ],
            "type": "surface"
           }
          ],
          "table": [
           {
            "cells": {
             "fill": {
              "color": "#EBF0F8"
             },
             "line": {
              "color": "white"
             }
            },
            "header": {
             "fill": {
              "color": "#C8D4E3"
             },
             "line": {
              "color": "white"
             }
            },
            "type": "table"
           }
          ]
         },
         "layout": {
          "annotationdefaults": {
           "arrowcolor": "#2a3f5f",
           "arrowhead": 0,
           "arrowwidth": 1
          },
          "coloraxis": {
           "colorbar": {
            "outlinewidth": 0,
            "ticks": ""
           }
          },
          "colorscale": {
           "diverging": [
            [
             0,
             "#8e0152"
            ],
            [
             0.1,
             "#c51b7d"
            ],
            [
             0.2,
             "#de77ae"
            ],
            [
             0.3,
             "#f1b6da"
            ],
            [
             0.4,
             "#fde0ef"
            ],
            [
             0.5,
             "#f7f7f7"
            ],
            [
             0.6,
             "#e6f5d0"
            ],
            [
             0.7,
             "#b8e186"
            ],
            [
             0.8,
             "#7fbc41"
            ],
            [
             0.9,
             "#4d9221"
            ],
            [
             1,
             "#276419"
            ]
           ],
           "sequential": [
            [
             0,
             "#0d0887"
            ],
            [
             0.1111111111111111,
             "#46039f"
            ],
            [
             0.2222222222222222,
             "#7201a8"
            ],
            [
             0.3333333333333333,
             "#9c179e"
            ],
            [
             0.4444444444444444,
             "#bd3786"
            ],
            [
             0.5555555555555556,
             "#d8576b"
            ],
            [
             0.6666666666666666,
             "#ed7953"
            ],
            [
             0.7777777777777778,
             "#fb9f3a"
            ],
            [
             0.8888888888888888,
             "#fdca26"
            ],
            [
             1,
             "#f0f921"
            ]
           ],
           "sequentialminus": [
            [
             0,
             "#0d0887"
            ],
            [
             0.1111111111111111,
             "#46039f"
            ],
            [
             0.2222222222222222,
             "#7201a8"
            ],
            [
             0.3333333333333333,
             "#9c179e"
            ],
            [
             0.4444444444444444,
             "#bd3786"
            ],
            [
             0.5555555555555556,
             "#d8576b"
            ],
            [
             0.6666666666666666,
             "#ed7953"
            ],
            [
             0.7777777777777778,
             "#fb9f3a"
            ],
            [
             0.8888888888888888,
             "#fdca26"
            ],
            [
             1,
             "#f0f921"
            ]
           ]
          },
          "colorway": [
           "#636efa",
           "#EF553B",
           "#00cc96",
           "#ab63fa",
           "#FFA15A",
           "#19d3f3",
           "#FF6692",
           "#B6E880",
           "#FF97FF",
           "#FECB52"
          ],
          "font": {
           "color": "#2a3f5f"
          },
          "geo": {
           "bgcolor": "white",
           "lakecolor": "white",
           "landcolor": "#E5ECF6",
           "showlakes": true,
           "showland": true,
           "subunitcolor": "white"
          },
          "hoverlabel": {
           "align": "left"
          },
          "hovermode": "closest",
          "mapbox": {
           "style": "light"
          },
          "paper_bgcolor": "white",
          "plot_bgcolor": "#E5ECF6",
          "polar": {
           "angularaxis": {
            "gridcolor": "white",
            "linecolor": "white",
            "ticks": ""
           },
           "bgcolor": "#E5ECF6",
           "radialaxis": {
            "gridcolor": "white",
            "linecolor": "white",
            "ticks": ""
           }
          },
          "scene": {
           "xaxis": {
            "backgroundcolor": "#E5ECF6",
            "gridcolor": "white",
            "gridwidth": 2,
            "linecolor": "white",
            "showbackground": true,
            "ticks": "",
            "zerolinecolor": "white"
           },
           "yaxis": {
            "backgroundcolor": "#E5ECF6",
            "gridcolor": "white",
            "gridwidth": 2,
            "linecolor": "white",
            "showbackground": true,
            "ticks": "",
            "zerolinecolor": "white"
           },
           "zaxis": {
            "backgroundcolor": "#E5ECF6",
            "gridcolor": "white",
            "gridwidth": 2,
            "linecolor": "white",
            "showbackground": true,
            "ticks": "",
            "zerolinecolor": "white"
           }
          },
          "shapedefaults": {
           "line": {
            "color": "#2a3f5f"
           }
          },
          "ternary": {
           "aaxis": {
            "gridcolor": "white",
            "linecolor": "white",
            "ticks": ""
           },
           "baxis": {
            "gridcolor": "white",
            "linecolor": "white",
            "ticks": ""
           },
           "bgcolor": "#E5ECF6",
           "caxis": {
            "gridcolor": "white",
            "linecolor": "white",
            "ticks": ""
           }
          },
          "title": {
           "x": 0.05
          },
          "xaxis": {
           "automargin": true,
           "gridcolor": "white",
           "linecolor": "white",
           "ticks": "",
           "title": {
            "standoff": 15
           },
           "zerolinecolor": "white",
           "zerolinewidth": 2
          },
          "yaxis": {
           "automargin": true,
           "gridcolor": "white",
           "linecolor": "white",
           "ticks": "",
           "title": {
            "standoff": 15
           },
           "zerolinecolor": "white",
           "zerolinewidth": 2
          }
         }
        },
        "title": {
         "text": "Subsets that were significantly different in Dropping during Corona shutdown vs. non shutdown"
        },
        "xaxis": {
         "anchor": "y",
         "domain": [
          0,
          1
         ],
         "title": {
          "text": "column"
         }
        },
        "yaxis": {
         "anchor": "x",
         "domain": [
          0,
          1
         ],
         "title": {
          "text": "Mean"
         }
        }
       }
      },
      "text/html": [
       "<div>                            <div id=\"4fda38c1-05d9-42ff-b1c1-42057ffc2532\" class=\"plotly-graph-div\" style=\"height:525px; width:100%;\"></div>            <script type=\"text/javascript\">                require([\"plotly\"], function(Plotly) {                    window.PLOTLYENV=window.PLOTLYENV || {};                                    if (document.getElementById(\"4fda38c1-05d9-42ff-b1c1-42057ffc2532\")) {                    Plotly.newPlot(                        \"4fda38c1-05d9-42ff-b1c1-42057ffc2532\",                        [{\"alignmentgroup\": \"True\", \"error_y\": {\"array\": [0.7037647509927183, 1.1126099957449815, 1.5172518366939327, 1.8046557213824759]}, \"hovertemplate\": \"Variable=Corona<br>column=%{x}<br>Mean=%{y}<extra></extra>\", \"legendgroup\": \"Corona\", \"marker\": {\"color\": \"#636efa\"}, \"name\": \"Corona\", \"offsetgroup\": \"Corona\", \"orientation\": \"v\", \"showlegend\": true, \"textposition\": \"auto\", \"type\": \"bar\", \"x\": [\"BT2\", \"female\", \"All_BT\", \"Total: \"], \"xaxis\": \"x\", \"y\": [1.7826086956521738, 3.466666666666667, 5.571428571428571, 5.433333333333334], \"yaxis\": \"y\"}, {\"alignmentgroup\": \"True\", \"error_y\": {\"array\": [0.10923581247074676, 0.1749589906364979, 0.23414937235091182, 0.251111310099168]}, \"hovertemplate\": \"Variable=Open<br>column=%{x}<br>Mean=%{y}<extra></extra>\", \"legendgroup\": \"Open\", \"marker\": {\"color\": \"#EF553B\"}, \"name\": \"Open\", \"offsetgroup\": \"Open\", \"orientation\": \"v\", \"showlegend\": true, \"textposition\": \"auto\", \"type\": \"bar\", \"x\": [\"BT2\", \"female\", \"All_BT\", \"Total: \"], \"xaxis\": \"x\", \"y\": [0.8120481927710843, 2.0018115942028984, 3.1879518072289157, 3.3568840579710146], \"yaxis\": \"y\"}],                        {\"barmode\": \"group\", \"legend\": {\"title\": {\"text\": \"Variable\"}, \"tracegroupgap\": 0}, \"template\": {\"data\": {\"bar\": [{\"error_x\": {\"color\": \"#2a3f5f\"}, \"error_y\": {\"color\": \"#2a3f5f\"}, \"marker\": {\"line\": {\"color\": \"#E5ECF6\", \"width\": 0.5}}, \"type\": \"bar\"}], \"barpolar\": [{\"marker\": {\"line\": {\"color\": \"#E5ECF6\", \"width\": 0.5}}, \"type\": \"barpolar\"}], \"carpet\": [{\"aaxis\": {\"endlinecolor\": \"#2a3f5f\", \"gridcolor\": \"white\", \"linecolor\": \"white\", \"minorgridcolor\": \"white\", \"startlinecolor\": \"#2a3f5f\"}, \"baxis\": {\"endlinecolor\": \"#2a3f5f\", \"gridcolor\": \"white\", \"linecolor\": \"white\", \"minorgridcolor\": \"white\", \"startlinecolor\": \"#2a3f5f\"}, \"type\": \"carpet\"}], \"choropleth\": [{\"colorbar\": {\"outlinewidth\": 0, \"ticks\": \"\"}, \"type\": \"choropleth\"}], \"contour\": [{\"colorbar\": {\"outlinewidth\": 0, \"ticks\": \"\"}, \"colorscale\": [[0.0, \"#0d0887\"], [0.1111111111111111, \"#46039f\"], [0.2222222222222222, \"#7201a8\"], [0.3333333333333333, \"#9c179e\"], [0.4444444444444444, \"#bd3786\"], [0.5555555555555556, \"#d8576b\"], [0.6666666666666666, \"#ed7953\"], [0.7777777777777778, \"#fb9f3a\"], [0.8888888888888888, \"#fdca26\"], [1.0, \"#f0f921\"]], \"type\": \"contour\"}], \"contourcarpet\": [{\"colorbar\": {\"outlinewidth\": 0, \"ticks\": \"\"}, \"type\": \"contourcarpet\"}], \"heatmap\": [{\"colorbar\": {\"outlinewidth\": 0, \"ticks\": \"\"}, \"colorscale\": [[0.0, \"#0d0887\"], [0.1111111111111111, \"#46039f\"], [0.2222222222222222, \"#7201a8\"], [0.3333333333333333, \"#9c179e\"], [0.4444444444444444, \"#bd3786\"], [0.5555555555555556, \"#d8576b\"], [0.6666666666666666, \"#ed7953\"], [0.7777777777777778, \"#fb9f3a\"], [0.8888888888888888, \"#fdca26\"], [1.0, \"#f0f921\"]], \"type\": \"heatmap\"}], \"heatmapgl\": [{\"colorbar\": {\"outlinewidth\": 0, \"ticks\": \"\"}, \"colorscale\": [[0.0, \"#0d0887\"], [0.1111111111111111, \"#46039f\"], [0.2222222222222222, \"#7201a8\"], [0.3333333333333333, \"#9c179e\"], [0.4444444444444444, \"#bd3786\"], [0.5555555555555556, \"#d8576b\"], [0.6666666666666666, \"#ed7953\"], [0.7777777777777778, \"#fb9f3a\"], [0.8888888888888888, \"#fdca26\"], [1.0, \"#f0f921\"]], \"type\": \"heatmapgl\"}], \"histogram\": [{\"marker\": {\"colorbar\": {\"outlinewidth\": 0, \"ticks\": \"\"}}, \"type\": \"histogram\"}], \"histogram2d\": [{\"colorbar\": {\"outlinewidth\": 0, \"ticks\": \"\"}, \"colorscale\": [[0.0, \"#0d0887\"], [0.1111111111111111, \"#46039f\"], [0.2222222222222222, \"#7201a8\"], [0.3333333333333333, \"#9c179e\"], [0.4444444444444444, \"#bd3786\"], [0.5555555555555556, \"#d8576b\"], [0.6666666666666666, \"#ed7953\"], [0.7777777777777778, \"#fb9f3a\"], [0.8888888888888888, \"#fdca26\"], [1.0, \"#f0f921\"]], \"type\": \"histogram2d\"}], \"histogram2dcontour\": [{\"colorbar\": {\"outlinewidth\": 0, \"ticks\": \"\"}, \"colorscale\": [[0.0, \"#0d0887\"], [0.1111111111111111, \"#46039f\"], [0.2222222222222222, \"#7201a8\"], [0.3333333333333333, \"#9c179e\"], [0.4444444444444444, \"#bd3786\"], [0.5555555555555556, \"#d8576b\"], [0.6666666666666666, \"#ed7953\"], [0.7777777777777778, \"#fb9f3a\"], [0.8888888888888888, \"#fdca26\"], [1.0, \"#f0f921\"]], \"type\": \"histogram2dcontour\"}], \"mesh3d\": [{\"colorbar\": {\"outlinewidth\": 0, \"ticks\": \"\"}, \"type\": \"mesh3d\"}], \"parcoords\": [{\"line\": {\"colorbar\": {\"outlinewidth\": 0, \"ticks\": \"\"}}, \"type\": \"parcoords\"}], \"pie\": [{\"automargin\": true, \"type\": \"pie\"}], \"scatter\": [{\"marker\": {\"colorbar\": {\"outlinewidth\": 0, \"ticks\": \"\"}}, \"type\": \"scatter\"}], \"scatter3d\": [{\"line\": {\"colorbar\": {\"outlinewidth\": 0, \"ticks\": \"\"}}, \"marker\": {\"colorbar\": {\"outlinewidth\": 0, \"ticks\": \"\"}}, \"type\": \"scatter3d\"}], \"scattercarpet\": [{\"marker\": {\"colorbar\": {\"outlinewidth\": 0, \"ticks\": \"\"}}, \"type\": \"scattercarpet\"}], \"scattergeo\": [{\"marker\": {\"colorbar\": {\"outlinewidth\": 0, \"ticks\": \"\"}}, \"type\": \"scattergeo\"}], \"scattergl\": [{\"marker\": {\"colorbar\": {\"outlinewidth\": 0, \"ticks\": \"\"}}, \"type\": \"scattergl\"}], \"scattermapbox\": [{\"marker\": {\"colorbar\": {\"outlinewidth\": 0, \"ticks\": \"\"}}, \"type\": \"scattermapbox\"}], \"scatterpolar\": [{\"marker\": {\"colorbar\": {\"outlinewidth\": 0, \"ticks\": \"\"}}, \"type\": \"scatterpolar\"}], \"scatterpolargl\": [{\"marker\": {\"colorbar\": {\"outlinewidth\": 0, \"ticks\": \"\"}}, \"type\": \"scatterpolargl\"}], \"scatterternary\": [{\"marker\": {\"colorbar\": {\"outlinewidth\": 0, \"ticks\": \"\"}}, \"type\": \"scatterternary\"}], \"surface\": [{\"colorbar\": {\"outlinewidth\": 0, \"ticks\": \"\"}, \"colorscale\": [[0.0, \"#0d0887\"], [0.1111111111111111, \"#46039f\"], [0.2222222222222222, \"#7201a8\"], [0.3333333333333333, \"#9c179e\"], [0.4444444444444444, \"#bd3786\"], [0.5555555555555556, \"#d8576b\"], [0.6666666666666666, \"#ed7953\"], [0.7777777777777778, \"#fb9f3a\"], [0.8888888888888888, \"#fdca26\"], [1.0, \"#f0f921\"]], \"type\": \"surface\"}], \"table\": [{\"cells\": {\"fill\": {\"color\": \"#EBF0F8\"}, \"line\": {\"color\": \"white\"}}, \"header\": {\"fill\": {\"color\": \"#C8D4E3\"}, \"line\": {\"color\": \"white\"}}, \"type\": \"table\"}]}, \"layout\": {\"annotationdefaults\": {\"arrowcolor\": \"#2a3f5f\", \"arrowhead\": 0, \"arrowwidth\": 1}, \"coloraxis\": {\"colorbar\": {\"outlinewidth\": 0, \"ticks\": \"\"}}, \"colorscale\": {\"diverging\": [[0, \"#8e0152\"], [0.1, \"#c51b7d\"], [0.2, \"#de77ae\"], [0.3, \"#f1b6da\"], [0.4, \"#fde0ef\"], [0.5, \"#f7f7f7\"], [0.6, \"#e6f5d0\"], [0.7, \"#b8e186\"], [0.8, \"#7fbc41\"], [0.9, \"#4d9221\"], [1, \"#276419\"]], \"sequential\": [[0.0, \"#0d0887\"], [0.1111111111111111, \"#46039f\"], [0.2222222222222222, \"#7201a8\"], [0.3333333333333333, \"#9c179e\"], [0.4444444444444444, \"#bd3786\"], [0.5555555555555556, \"#d8576b\"], [0.6666666666666666, \"#ed7953\"], [0.7777777777777778, \"#fb9f3a\"], [0.8888888888888888, \"#fdca26\"], [1.0, \"#f0f921\"]], \"sequentialminus\": [[0.0, \"#0d0887\"], [0.1111111111111111, \"#46039f\"], [0.2222222222222222, \"#7201a8\"], [0.3333333333333333, \"#9c179e\"], [0.4444444444444444, \"#bd3786\"], [0.5555555555555556, \"#d8576b\"], [0.6666666666666666, \"#ed7953\"], [0.7777777777777778, \"#fb9f3a\"], [0.8888888888888888, \"#fdca26\"], [1.0, \"#f0f921\"]]}, \"colorway\": [\"#636efa\", \"#EF553B\", \"#00cc96\", \"#ab63fa\", \"#FFA15A\", \"#19d3f3\", \"#FF6692\", \"#B6E880\", \"#FF97FF\", \"#FECB52\"], \"font\": {\"color\": \"#2a3f5f\"}, \"geo\": {\"bgcolor\": \"white\", \"lakecolor\": \"white\", \"landcolor\": \"#E5ECF6\", \"showlakes\": true, \"showland\": true, \"subunitcolor\": \"white\"}, \"hoverlabel\": {\"align\": \"left\"}, \"hovermode\": \"closest\", \"mapbox\": {\"style\": \"light\"}, \"paper_bgcolor\": \"white\", \"plot_bgcolor\": \"#E5ECF6\", \"polar\": {\"angularaxis\": {\"gridcolor\": \"white\", \"linecolor\": \"white\", \"ticks\": \"\"}, \"bgcolor\": \"#E5ECF6\", \"radialaxis\": {\"gridcolor\": \"white\", \"linecolor\": \"white\", \"ticks\": \"\"}}, \"scene\": {\"xaxis\": {\"backgroundcolor\": \"#E5ECF6\", \"gridcolor\": \"white\", \"gridwidth\": 2, \"linecolor\": \"white\", \"showbackground\": true, \"ticks\": \"\", \"zerolinecolor\": \"white\"}, \"yaxis\": {\"backgroundcolor\": \"#E5ECF6\", \"gridcolor\": \"white\", \"gridwidth\": 2, \"linecolor\": \"white\", \"showbackground\": true, \"ticks\": \"\", \"zerolinecolor\": \"white\"}, \"zaxis\": {\"backgroundcolor\": \"#E5ECF6\", \"gridcolor\": \"white\", \"gridwidth\": 2, \"linecolor\": \"white\", \"showbackground\": true, \"ticks\": \"\", \"zerolinecolor\": \"white\"}}, \"shapedefaults\": {\"line\": {\"color\": \"#2a3f5f\"}}, \"ternary\": {\"aaxis\": {\"gridcolor\": \"white\", \"linecolor\": \"white\", \"ticks\": \"\"}, \"baxis\": {\"gridcolor\": \"white\", \"linecolor\": \"white\", \"ticks\": \"\"}, \"bgcolor\": \"#E5ECF6\", \"caxis\": {\"gridcolor\": \"white\", \"linecolor\": \"white\", \"ticks\": \"\"}}, \"title\": {\"x\": 0.05}, \"xaxis\": {\"automargin\": true, \"gridcolor\": \"white\", \"linecolor\": \"white\", \"ticks\": \"\", \"title\": {\"standoff\": 15}, \"zerolinecolor\": \"white\", \"zerolinewidth\": 2}, \"yaxis\": {\"automargin\": true, \"gridcolor\": \"white\", \"linecolor\": \"white\", \"ticks\": \"\", \"title\": {\"standoff\": 15}, \"zerolinecolor\": \"white\", \"zerolinewidth\": 2}}}, \"title\": {\"text\": \"Subsets that were significantly different in Dropping during Corona shutdown vs. non shutdown\"}, \"xaxis\": {\"anchor\": \"y\", \"domain\": [0.0, 1.0], \"title\": {\"text\": \"column\"}}, \"yaxis\": {\"anchor\": \"x\", \"domain\": [0.0, 1.0], \"title\": {\"text\": \"Mean\"}}},                        {\"responsive\": true}                    ).then(function(){\n",
       "                            \n",
       "var gd = document.getElementById('4fda38c1-05d9-42ff-b1c1-42057ffc2532');\n",
       "var x = new MutationObserver(function (mutations, observer) {{\n",
       "        var display = window.getComputedStyle(gd).display;\n",
       "        if (!display || display === 'none') {{\n",
       "            console.log([gd, 'removed!']);\n",
       "            Plotly.purge(gd);\n",
       "            observer.disconnect();\n",
       "        }}\n",
       "}});\n",
       "\n",
       "// Listen for the removal of the full notebook cells\n",
       "var notebookContainer = gd.closest('#notebook-container');\n",
       "if (notebookContainer) {{\n",
       "    x.observe(notebookContainer, {childList: true});\n",
       "}}\n",
       "\n",
       "// Listen for the clearing of the current output cell\n",
       "var outputEl = gd.closest('.output');\n",
       "if (outputEl) {{\n",
       "    x.observe(outputEl, {childList: true});\n",
       "}}\n",
       "\n",
       "                        })                };                });            </script>        </div>"
      ]
     },
     "metadata": {},
     "output_type": "display_data"
    }
   ],
   "source": [
    "test = pd.DataFrame()\n",
    "sig = [\"BT2\", \"BT5\", \"female\", \"All_BT\", \"Total: \"]\n",
    "for column in sig:\n",
    "    x = st.t.interval(alpha=0.95, df=len(corona_drop[column])-1, loc=np.mean(corona_drop[column]), scale=st.sem(corona_drop[column],nan_policy='omit'))\n",
    "    y = st.t.interval(alpha=0.95, df=len(open_drop[column])-1, loc=np.mean(open_drop[column]), scale=st.sem(open_drop[column],nan_policy='omit'))\n",
    "    if overlap(x[0],x[1],y[0],y[1])==False:\n",
    "        #Graph it\n",
    "        corona_mean = corona_drop[column].mean()\n",
    "        open_mean = open_drop[column].mean()\n",
    "        corona_int = st.t.interval(alpha=0.95, df=len(corona_drop[column])-1, loc=np.mean(corona_drop[column]), scale=st.sem(corona_drop[column],nan_policy='omit'))\n",
    "        open_int = st.t.interval(alpha=0.95, df=len(open_drop[column])-1, loc=np.mean(open_drop[column]), scale=st.sem(open_drop[column],nan_policy='omit'))\n",
    "        corona_error = (corona_int[1] - corona_int[0])/2\n",
    "        open_error = (open_int[1] - open_int[0])/2\n",
    "        pd.Series()\n",
    "        data = {'Variable':['Corona','Open'], 'Mean':[corona_mean,open_mean],'error':[corona_error,open_error],'column':[column,column]} \n",
    "        data = pd.DataFrame(data)\n",
    "        test = pd.concat([test, data])\n",
    "    else:\n",
    "        print(column,\"Has Confidence Intervals that overlap\")\n",
    "        print(\"Here are the confidence intervals:\")\n",
    "        print(\"Corona\",x)\n",
    "        print(\"Open\",y)\n",
    "test\n",
    "\n",
    "px.bar(test, x = \"column\", y = \"Mean\", color = \"Variable\", error_y = \"error\", barmode = \"group\", title = \"Subsets that were significantly different in Dropping during Corona shutdown vs. non shutdown\")\n",
    "  "
   ]
  },
  {
   "cell_type": "code",
   "execution_count": 183,
   "metadata": {},
   "outputs": [
    {
     "name": "stderr",
     "output_type": "stream",
     "text": [
      "<ipython-input-183-be22b0cdc15c>:10: DeprecationWarning:\n",
      "\n",
      "The default dtype for empty Series will be 'object' instead of 'float64' in a future version. Specify a dtype explicitly to silence this warning.\n",
      "\n"
     ]
    },
    {
     "data": {
      "application/vnd.plotly.v1+json": {
       "config": {
        "plotlyServerURL": "https://plot.ly"
       },
       "data": [
        {
         "alignmentgroup": "True",
         "error_y": {
          "array": [
           3.6789170411084475
          ]
         },
         "hovertemplate": "Variable=Corona<br>column=%{x}<br>Mean=%{y}<extra></extra>",
         "legendgroup": "Corona",
         "marker": {
          "color": "#636efa"
         },
         "name": "Corona",
         "offsetgroup": "Corona",
         "orientation": "v",
         "showlegend": true,
         "textposition": "auto",
         "type": "bar",
         "x": [
          "All_SS"
         ],
         "xaxis": "x",
         "y": [
          13.652173913043478
         ],
         "yaxis": "y"
        },
        {
         "alignmentgroup": "True",
         "error_y": {
          "array": [
           1.0046389277884025
          ]
         },
         "hovertemplate": "Variable=Open<br>column=%{x}<br>Mean=%{y}<extra></extra>",
         "legendgroup": "Open",
         "marker": {
          "color": "#EF553B"
         },
         "name": "Open",
         "offsetgroup": "Open",
         "orientation": "v",
         "showlegend": true,
         "textposition": "auto",
         "type": "bar",
         "x": [
          "All_SS"
         ],
         "xaxis": "x",
         "y": [
          18.864734299516908
         ],
         "yaxis": "y"
        }
       ],
       "layout": {
        "barmode": "group",
        "legend": {
         "title": {
          "text": "Variable"
         },
         "tracegroupgap": 0
        },
        "template": {
         "data": {
          "bar": [
           {
            "error_x": {
             "color": "#2a3f5f"
            },
            "error_y": {
             "color": "#2a3f5f"
            },
            "marker": {
             "line": {
              "color": "#E5ECF6",
              "width": 0.5
             }
            },
            "type": "bar"
           }
          ],
          "barpolar": [
           {
            "marker": {
             "line": {
              "color": "#E5ECF6",
              "width": 0.5
             }
            },
            "type": "barpolar"
           }
          ],
          "carpet": [
           {
            "aaxis": {
             "endlinecolor": "#2a3f5f",
             "gridcolor": "white",
             "linecolor": "white",
             "minorgridcolor": "white",
             "startlinecolor": "#2a3f5f"
            },
            "baxis": {
             "endlinecolor": "#2a3f5f",
             "gridcolor": "white",
             "linecolor": "white",
             "minorgridcolor": "white",
             "startlinecolor": "#2a3f5f"
            },
            "type": "carpet"
           }
          ],
          "choropleth": [
           {
            "colorbar": {
             "outlinewidth": 0,
             "ticks": ""
            },
            "type": "choropleth"
           }
          ],
          "contour": [
           {
            "colorbar": {
             "outlinewidth": 0,
             "ticks": ""
            },
            "colorscale": [
             [
              0,
              "#0d0887"
             ],
             [
              0.1111111111111111,
              "#46039f"
             ],
             [
              0.2222222222222222,
              "#7201a8"
             ],
             [
              0.3333333333333333,
              "#9c179e"
             ],
             [
              0.4444444444444444,
              "#bd3786"
             ],
             [
              0.5555555555555556,
              "#d8576b"
             ],
             [
              0.6666666666666666,
              "#ed7953"
             ],
             [
              0.7777777777777778,
              "#fb9f3a"
             ],
             [
              0.8888888888888888,
              "#fdca26"
             ],
             [
              1,
              "#f0f921"
             ]
            ],
            "type": "contour"
           }
          ],
          "contourcarpet": [
           {
            "colorbar": {
             "outlinewidth": 0,
             "ticks": ""
            },
            "type": "contourcarpet"
           }
          ],
          "heatmap": [
           {
            "colorbar": {
             "outlinewidth": 0,
             "ticks": ""
            },
            "colorscale": [
             [
              0,
              "#0d0887"
             ],
             [
              0.1111111111111111,
              "#46039f"
             ],
             [
              0.2222222222222222,
              "#7201a8"
             ],
             [
              0.3333333333333333,
              "#9c179e"
             ],
             [
              0.4444444444444444,
              "#bd3786"
             ],
             [
              0.5555555555555556,
              "#d8576b"
             ],
             [
              0.6666666666666666,
              "#ed7953"
             ],
             [
              0.7777777777777778,
              "#fb9f3a"
             ],
             [
              0.8888888888888888,
              "#fdca26"
             ],
             [
              1,
              "#f0f921"
             ]
            ],
            "type": "heatmap"
           }
          ],
          "heatmapgl": [
           {
            "colorbar": {
             "outlinewidth": 0,
             "ticks": ""
            },
            "colorscale": [
             [
              0,
              "#0d0887"
             ],
             [
              0.1111111111111111,
              "#46039f"
             ],
             [
              0.2222222222222222,
              "#7201a8"
             ],
             [
              0.3333333333333333,
              "#9c179e"
             ],
             [
              0.4444444444444444,
              "#bd3786"
             ],
             [
              0.5555555555555556,
              "#d8576b"
             ],
             [
              0.6666666666666666,
              "#ed7953"
             ],
             [
              0.7777777777777778,
              "#fb9f3a"
             ],
             [
              0.8888888888888888,
              "#fdca26"
             ],
             [
              1,
              "#f0f921"
             ]
            ],
            "type": "heatmapgl"
           }
          ],
          "histogram": [
           {
            "marker": {
             "colorbar": {
              "outlinewidth": 0,
              "ticks": ""
             }
            },
            "type": "histogram"
           }
          ],
          "histogram2d": [
           {
            "colorbar": {
             "outlinewidth": 0,
             "ticks": ""
            },
            "colorscale": [
             [
              0,
              "#0d0887"
             ],
             [
              0.1111111111111111,
              "#46039f"
             ],
             [
              0.2222222222222222,
              "#7201a8"
             ],
             [
              0.3333333333333333,
              "#9c179e"
             ],
             [
              0.4444444444444444,
              "#bd3786"
             ],
             [
              0.5555555555555556,
              "#d8576b"
             ],
             [
              0.6666666666666666,
              "#ed7953"
             ],
             [
              0.7777777777777778,
              "#fb9f3a"
             ],
             [
              0.8888888888888888,
              "#fdca26"
             ],
             [
              1,
              "#f0f921"
             ]
            ],
            "type": "histogram2d"
           }
          ],
          "histogram2dcontour": [
           {
            "colorbar": {
             "outlinewidth": 0,
             "ticks": ""
            },
            "colorscale": [
             [
              0,
              "#0d0887"
             ],
             [
              0.1111111111111111,
              "#46039f"
             ],
             [
              0.2222222222222222,
              "#7201a8"
             ],
             [
              0.3333333333333333,
              "#9c179e"
             ],
             [
              0.4444444444444444,
              "#bd3786"
             ],
             [
              0.5555555555555556,
              "#d8576b"
             ],
             [
              0.6666666666666666,
              "#ed7953"
             ],
             [
              0.7777777777777778,
              "#fb9f3a"
             ],
             [
              0.8888888888888888,
              "#fdca26"
             ],
             [
              1,
              "#f0f921"
             ]
            ],
            "type": "histogram2dcontour"
           }
          ],
          "mesh3d": [
           {
            "colorbar": {
             "outlinewidth": 0,
             "ticks": ""
            },
            "type": "mesh3d"
           }
          ],
          "parcoords": [
           {
            "line": {
             "colorbar": {
              "outlinewidth": 0,
              "ticks": ""
             }
            },
            "type": "parcoords"
           }
          ],
          "pie": [
           {
            "automargin": true,
            "type": "pie"
           }
          ],
          "scatter": [
           {
            "marker": {
             "colorbar": {
              "outlinewidth": 0,
              "ticks": ""
             }
            },
            "type": "scatter"
           }
          ],
          "scatter3d": [
           {
            "line": {
             "colorbar": {
              "outlinewidth": 0,
              "ticks": ""
             }
            },
            "marker": {
             "colorbar": {
              "outlinewidth": 0,
              "ticks": ""
             }
            },
            "type": "scatter3d"
           }
          ],
          "scattercarpet": [
           {
            "marker": {
             "colorbar": {
              "outlinewidth": 0,
              "ticks": ""
             }
            },
            "type": "scattercarpet"
           }
          ],
          "scattergeo": [
           {
            "marker": {
             "colorbar": {
              "outlinewidth": 0,
              "ticks": ""
             }
            },
            "type": "scattergeo"
           }
          ],
          "scattergl": [
           {
            "marker": {
             "colorbar": {
              "outlinewidth": 0,
              "ticks": ""
             }
            },
            "type": "scattergl"
           }
          ],
          "scattermapbox": [
           {
            "marker": {
             "colorbar": {
              "outlinewidth": 0,
              "ticks": ""
             }
            },
            "type": "scattermapbox"
           }
          ],
          "scatterpolar": [
           {
            "marker": {
             "colorbar": {
              "outlinewidth": 0,
              "ticks": ""
             }
            },
            "type": "scatterpolar"
           }
          ],
          "scatterpolargl": [
           {
            "marker": {
             "colorbar": {
              "outlinewidth": 0,
              "ticks": ""
             }
            },
            "type": "scatterpolargl"
           }
          ],
          "scatterternary": [
           {
            "marker": {
             "colorbar": {
              "outlinewidth": 0,
              "ticks": ""
             }
            },
            "type": "scatterternary"
           }
          ],
          "surface": [
           {
            "colorbar": {
             "outlinewidth": 0,
             "ticks": ""
            },
            "colorscale": [
             [
              0,
              "#0d0887"
             ],
             [
              0.1111111111111111,
              "#46039f"
             ],
             [
              0.2222222222222222,
              "#7201a8"
             ],
             [
              0.3333333333333333,
              "#9c179e"
             ],
             [
              0.4444444444444444,
              "#bd3786"
             ],
             [
              0.5555555555555556,
              "#d8576b"
             ],
             [
              0.6666666666666666,
              "#ed7953"
             ],
             [
              0.7777777777777778,
              "#fb9f3a"
             ],
             [
              0.8888888888888888,
              "#fdca26"
             ],
             [
              1,
              "#f0f921"
             ]
            ],
            "type": "surface"
           }
          ],
          "table": [
           {
            "cells": {
             "fill": {
              "color": "#EBF0F8"
             },
             "line": {
              "color": "white"
             }
            },
            "header": {
             "fill": {
              "color": "#C8D4E3"
             },
             "line": {
              "color": "white"
             }
            },
            "type": "table"
           }
          ]
         },
         "layout": {
          "annotationdefaults": {
           "arrowcolor": "#2a3f5f",
           "arrowhead": 0,
           "arrowwidth": 1
          },
          "coloraxis": {
           "colorbar": {
            "outlinewidth": 0,
            "ticks": ""
           }
          },
          "colorscale": {
           "diverging": [
            [
             0,
             "#8e0152"
            ],
            [
             0.1,
             "#c51b7d"
            ],
            [
             0.2,
             "#de77ae"
            ],
            [
             0.3,
             "#f1b6da"
            ],
            [
             0.4,
             "#fde0ef"
            ],
            [
             0.5,
             "#f7f7f7"
            ],
            [
             0.6,
             "#e6f5d0"
            ],
            [
             0.7,
             "#b8e186"
            ],
            [
             0.8,
             "#7fbc41"
            ],
            [
             0.9,
             "#4d9221"
            ],
            [
             1,
             "#276419"
            ]
           ],
           "sequential": [
            [
             0,
             "#0d0887"
            ],
            [
             0.1111111111111111,
             "#46039f"
            ],
            [
             0.2222222222222222,
             "#7201a8"
            ],
            [
             0.3333333333333333,
             "#9c179e"
            ],
            [
             0.4444444444444444,
             "#bd3786"
            ],
            [
             0.5555555555555556,
             "#d8576b"
            ],
            [
             0.6666666666666666,
             "#ed7953"
            ],
            [
             0.7777777777777778,
             "#fb9f3a"
            ],
            [
             0.8888888888888888,
             "#fdca26"
            ],
            [
             1,
             "#f0f921"
            ]
           ],
           "sequentialminus": [
            [
             0,
             "#0d0887"
            ],
            [
             0.1111111111111111,
             "#46039f"
            ],
            [
             0.2222222222222222,
             "#7201a8"
            ],
            [
             0.3333333333333333,
             "#9c179e"
            ],
            [
             0.4444444444444444,
             "#bd3786"
            ],
            [
             0.5555555555555556,
             "#d8576b"
            ],
            [
             0.6666666666666666,
             "#ed7953"
            ],
            [
             0.7777777777777778,
             "#fb9f3a"
            ],
            [
             0.8888888888888888,
             "#fdca26"
            ],
            [
             1,
             "#f0f921"
            ]
           ]
          },
          "colorway": [
           "#636efa",
           "#EF553B",
           "#00cc96",
           "#ab63fa",
           "#FFA15A",
           "#19d3f3",
           "#FF6692",
           "#B6E880",
           "#FF97FF",
           "#FECB52"
          ],
          "font": {
           "color": "#2a3f5f"
          },
          "geo": {
           "bgcolor": "white",
           "lakecolor": "white",
           "landcolor": "#E5ECF6",
           "showlakes": true,
           "showland": true,
           "subunitcolor": "white"
          },
          "hoverlabel": {
           "align": "left"
          },
          "hovermode": "closest",
          "mapbox": {
           "style": "light"
          },
          "paper_bgcolor": "white",
          "plot_bgcolor": "#E5ECF6",
          "polar": {
           "angularaxis": {
            "gridcolor": "white",
            "linecolor": "white",
            "ticks": ""
           },
           "bgcolor": "#E5ECF6",
           "radialaxis": {
            "gridcolor": "white",
            "linecolor": "white",
            "ticks": ""
           }
          },
          "scene": {
           "xaxis": {
            "backgroundcolor": "#E5ECF6",
            "gridcolor": "white",
            "gridwidth": 2,
            "linecolor": "white",
            "showbackground": true,
            "ticks": "",
            "zerolinecolor": "white"
           },
           "yaxis": {
            "backgroundcolor": "#E5ECF6",
            "gridcolor": "white",
            "gridwidth": 2,
            "linecolor": "white",
            "showbackground": true,
            "ticks": "",
            "zerolinecolor": "white"
           },
           "zaxis": {
            "backgroundcolor": "#E5ECF6",
            "gridcolor": "white",
            "gridwidth": 2,
            "linecolor": "white",
            "showbackground": true,
            "ticks": "",
            "zerolinecolor": "white"
           }
          },
          "shapedefaults": {
           "line": {
            "color": "#2a3f5f"
           }
          },
          "ternary": {
           "aaxis": {
            "gridcolor": "white",
            "linecolor": "white",
            "ticks": ""
           },
           "baxis": {
            "gridcolor": "white",
            "linecolor": "white",
            "ticks": ""
           },
           "bgcolor": "#E5ECF6",
           "caxis": {
            "gridcolor": "white",
            "linecolor": "white",
            "ticks": ""
           }
          },
          "title": {
           "x": 0.05
          },
          "xaxis": {
           "automargin": true,
           "gridcolor": "white",
           "linecolor": "white",
           "ticks": "",
           "title": {
            "standoff": 15
           },
           "zerolinecolor": "white",
           "zerolinewidth": 2
          },
          "yaxis": {
           "automargin": true,
           "gridcolor": "white",
           "linecolor": "white",
           "ticks": "",
           "title": {
            "standoff": 15
           },
           "zerolinecolor": "white",
           "zerolinewidth": 2
          }
         }
        },
        "title": {
         "text": "Subsets that were significantly different in Targeting during Corona shutdown vs. non shutdown"
        },
        "xaxis": {
         "anchor": "y",
         "domain": [
          0,
          1
         ],
         "title": {
          "text": "column"
         }
        },
        "yaxis": {
         "anchor": "x",
         "domain": [
          0,
          1
         ],
         "title": {
          "text": "Mean"
         }
        }
       }
      },
      "text/html": [
       "<div>                            <div id=\"df1be162-499f-4eb3-b101-9356477a4a21\" class=\"plotly-graph-div\" style=\"height:525px; width:100%;\"></div>            <script type=\"text/javascript\">                require([\"plotly\"], function(Plotly) {                    window.PLOTLYENV=window.PLOTLYENV || {};                                    if (document.getElementById(\"df1be162-499f-4eb3-b101-9356477a4a21\")) {                    Plotly.newPlot(                        \"df1be162-499f-4eb3-b101-9356477a4a21\",                        [{\"alignmentgroup\": \"True\", \"error_y\": {\"array\": [3.6789170411084475]}, \"hovertemplate\": \"Variable=Corona<br>column=%{x}<br>Mean=%{y}<extra></extra>\", \"legendgroup\": \"Corona\", \"marker\": {\"color\": \"#636efa\"}, \"name\": \"Corona\", \"offsetgroup\": \"Corona\", \"orientation\": \"v\", \"showlegend\": true, \"textposition\": \"auto\", \"type\": \"bar\", \"x\": [\"All_SS\"], \"xaxis\": \"x\", \"y\": [13.652173913043478], \"yaxis\": \"y\"}, {\"alignmentgroup\": \"True\", \"error_y\": {\"array\": [1.0046389277884025]}, \"hovertemplate\": \"Variable=Open<br>column=%{x}<br>Mean=%{y}<extra></extra>\", \"legendgroup\": \"Open\", \"marker\": {\"color\": \"#EF553B\"}, \"name\": \"Open\", \"offsetgroup\": \"Open\", \"orientation\": \"v\", \"showlegend\": true, \"textposition\": \"auto\", \"type\": \"bar\", \"x\": [\"All_SS\"], \"xaxis\": \"x\", \"y\": [18.864734299516908], \"yaxis\": \"y\"}],                        {\"barmode\": \"group\", \"legend\": {\"title\": {\"text\": \"Variable\"}, \"tracegroupgap\": 0}, \"template\": {\"data\": {\"bar\": [{\"error_x\": {\"color\": \"#2a3f5f\"}, \"error_y\": {\"color\": \"#2a3f5f\"}, \"marker\": {\"line\": {\"color\": \"#E5ECF6\", \"width\": 0.5}}, \"type\": \"bar\"}], \"barpolar\": [{\"marker\": {\"line\": {\"color\": \"#E5ECF6\", \"width\": 0.5}}, \"type\": \"barpolar\"}], \"carpet\": [{\"aaxis\": {\"endlinecolor\": \"#2a3f5f\", \"gridcolor\": \"white\", \"linecolor\": \"white\", \"minorgridcolor\": \"white\", \"startlinecolor\": \"#2a3f5f\"}, \"baxis\": {\"endlinecolor\": \"#2a3f5f\", \"gridcolor\": \"white\", \"linecolor\": \"white\", \"minorgridcolor\": \"white\", \"startlinecolor\": \"#2a3f5f\"}, \"type\": \"carpet\"}], \"choropleth\": [{\"colorbar\": {\"outlinewidth\": 0, \"ticks\": \"\"}, \"type\": \"choropleth\"}], \"contour\": [{\"colorbar\": {\"outlinewidth\": 0, \"ticks\": \"\"}, \"colorscale\": [[0.0, \"#0d0887\"], [0.1111111111111111, \"#46039f\"], [0.2222222222222222, \"#7201a8\"], [0.3333333333333333, \"#9c179e\"], [0.4444444444444444, \"#bd3786\"], [0.5555555555555556, \"#d8576b\"], [0.6666666666666666, \"#ed7953\"], [0.7777777777777778, \"#fb9f3a\"], [0.8888888888888888, \"#fdca26\"], [1.0, \"#f0f921\"]], \"type\": \"contour\"}], \"contourcarpet\": [{\"colorbar\": {\"outlinewidth\": 0, \"ticks\": \"\"}, \"type\": \"contourcarpet\"}], \"heatmap\": [{\"colorbar\": {\"outlinewidth\": 0, \"ticks\": \"\"}, \"colorscale\": [[0.0, \"#0d0887\"], [0.1111111111111111, \"#46039f\"], [0.2222222222222222, \"#7201a8\"], [0.3333333333333333, \"#9c179e\"], [0.4444444444444444, \"#bd3786\"], [0.5555555555555556, \"#d8576b\"], [0.6666666666666666, \"#ed7953\"], [0.7777777777777778, \"#fb9f3a\"], [0.8888888888888888, \"#fdca26\"], [1.0, \"#f0f921\"]], \"type\": \"heatmap\"}], \"heatmapgl\": [{\"colorbar\": {\"outlinewidth\": 0, \"ticks\": \"\"}, \"colorscale\": [[0.0, \"#0d0887\"], [0.1111111111111111, \"#46039f\"], [0.2222222222222222, \"#7201a8\"], [0.3333333333333333, \"#9c179e\"], [0.4444444444444444, \"#bd3786\"], [0.5555555555555556, \"#d8576b\"], [0.6666666666666666, \"#ed7953\"], [0.7777777777777778, \"#fb9f3a\"], [0.8888888888888888, \"#fdca26\"], [1.0, \"#f0f921\"]], \"type\": \"heatmapgl\"}], \"histogram\": [{\"marker\": {\"colorbar\": {\"outlinewidth\": 0, \"ticks\": \"\"}}, \"type\": \"histogram\"}], \"histogram2d\": [{\"colorbar\": {\"outlinewidth\": 0, \"ticks\": \"\"}, \"colorscale\": [[0.0, \"#0d0887\"], [0.1111111111111111, \"#46039f\"], [0.2222222222222222, \"#7201a8\"], [0.3333333333333333, \"#9c179e\"], [0.4444444444444444, \"#bd3786\"], [0.5555555555555556, \"#d8576b\"], [0.6666666666666666, \"#ed7953\"], [0.7777777777777778, \"#fb9f3a\"], [0.8888888888888888, \"#fdca26\"], [1.0, \"#f0f921\"]], \"type\": \"histogram2d\"}], \"histogram2dcontour\": [{\"colorbar\": {\"outlinewidth\": 0, \"ticks\": \"\"}, \"colorscale\": [[0.0, \"#0d0887\"], [0.1111111111111111, \"#46039f\"], [0.2222222222222222, \"#7201a8\"], [0.3333333333333333, \"#9c179e\"], [0.4444444444444444, \"#bd3786\"], [0.5555555555555556, \"#d8576b\"], [0.6666666666666666, \"#ed7953\"], [0.7777777777777778, \"#fb9f3a\"], [0.8888888888888888, \"#fdca26\"], [1.0, \"#f0f921\"]], \"type\": \"histogram2dcontour\"}], \"mesh3d\": [{\"colorbar\": {\"outlinewidth\": 0, \"ticks\": \"\"}, \"type\": \"mesh3d\"}], \"parcoords\": [{\"line\": {\"colorbar\": {\"outlinewidth\": 0, \"ticks\": \"\"}}, \"type\": \"parcoords\"}], \"pie\": [{\"automargin\": true, \"type\": \"pie\"}], \"scatter\": [{\"marker\": {\"colorbar\": {\"outlinewidth\": 0, \"ticks\": \"\"}}, \"type\": \"scatter\"}], \"scatter3d\": [{\"line\": {\"colorbar\": {\"outlinewidth\": 0, \"ticks\": \"\"}}, \"marker\": {\"colorbar\": {\"outlinewidth\": 0, \"ticks\": \"\"}}, \"type\": \"scatter3d\"}], \"scattercarpet\": [{\"marker\": {\"colorbar\": {\"outlinewidth\": 0, \"ticks\": \"\"}}, \"type\": \"scattercarpet\"}], \"scattergeo\": [{\"marker\": {\"colorbar\": {\"outlinewidth\": 0, \"ticks\": \"\"}}, \"type\": \"scattergeo\"}], \"scattergl\": [{\"marker\": {\"colorbar\": {\"outlinewidth\": 0, \"ticks\": \"\"}}, \"type\": \"scattergl\"}], \"scattermapbox\": [{\"marker\": {\"colorbar\": {\"outlinewidth\": 0, \"ticks\": \"\"}}, \"type\": \"scattermapbox\"}], \"scatterpolar\": [{\"marker\": {\"colorbar\": {\"outlinewidth\": 0, \"ticks\": \"\"}}, \"type\": \"scatterpolar\"}], \"scatterpolargl\": [{\"marker\": {\"colorbar\": {\"outlinewidth\": 0, \"ticks\": \"\"}}, \"type\": \"scatterpolargl\"}], \"scatterternary\": [{\"marker\": {\"colorbar\": {\"outlinewidth\": 0, \"ticks\": \"\"}}, \"type\": \"scatterternary\"}], \"surface\": [{\"colorbar\": {\"outlinewidth\": 0, \"ticks\": \"\"}, \"colorscale\": [[0.0, \"#0d0887\"], [0.1111111111111111, \"#46039f\"], [0.2222222222222222, \"#7201a8\"], [0.3333333333333333, \"#9c179e\"], [0.4444444444444444, \"#bd3786\"], [0.5555555555555556, \"#d8576b\"], [0.6666666666666666, \"#ed7953\"], [0.7777777777777778, \"#fb9f3a\"], [0.8888888888888888, \"#fdca26\"], [1.0, \"#f0f921\"]], \"type\": \"surface\"}], \"table\": [{\"cells\": {\"fill\": {\"color\": \"#EBF0F8\"}, \"line\": {\"color\": \"white\"}}, \"header\": {\"fill\": {\"color\": \"#C8D4E3\"}, \"line\": {\"color\": \"white\"}}, \"type\": \"table\"}]}, \"layout\": {\"annotationdefaults\": {\"arrowcolor\": \"#2a3f5f\", \"arrowhead\": 0, \"arrowwidth\": 1}, \"coloraxis\": {\"colorbar\": {\"outlinewidth\": 0, \"ticks\": \"\"}}, \"colorscale\": {\"diverging\": [[0, \"#8e0152\"], [0.1, \"#c51b7d\"], [0.2, \"#de77ae\"], [0.3, \"#f1b6da\"], [0.4, \"#fde0ef\"], [0.5, \"#f7f7f7\"], [0.6, \"#e6f5d0\"], [0.7, \"#b8e186\"], [0.8, \"#7fbc41\"], [0.9, \"#4d9221\"], [1, \"#276419\"]], \"sequential\": [[0.0, \"#0d0887\"], [0.1111111111111111, \"#46039f\"], [0.2222222222222222, \"#7201a8\"], [0.3333333333333333, \"#9c179e\"], [0.4444444444444444, \"#bd3786\"], [0.5555555555555556, \"#d8576b\"], [0.6666666666666666, \"#ed7953\"], [0.7777777777777778, \"#fb9f3a\"], [0.8888888888888888, \"#fdca26\"], [1.0, \"#f0f921\"]], \"sequentialminus\": [[0.0, \"#0d0887\"], [0.1111111111111111, \"#46039f\"], [0.2222222222222222, \"#7201a8\"], [0.3333333333333333, \"#9c179e\"], [0.4444444444444444, \"#bd3786\"], [0.5555555555555556, \"#d8576b\"], [0.6666666666666666, \"#ed7953\"], [0.7777777777777778, \"#fb9f3a\"], [0.8888888888888888, \"#fdca26\"], [1.0, \"#f0f921\"]]}, \"colorway\": [\"#636efa\", \"#EF553B\", \"#00cc96\", \"#ab63fa\", \"#FFA15A\", \"#19d3f3\", \"#FF6692\", \"#B6E880\", \"#FF97FF\", \"#FECB52\"], \"font\": {\"color\": \"#2a3f5f\"}, \"geo\": {\"bgcolor\": \"white\", \"lakecolor\": \"white\", \"landcolor\": \"#E5ECF6\", \"showlakes\": true, \"showland\": true, \"subunitcolor\": \"white\"}, \"hoverlabel\": {\"align\": \"left\"}, \"hovermode\": \"closest\", \"mapbox\": {\"style\": \"light\"}, \"paper_bgcolor\": \"white\", \"plot_bgcolor\": \"#E5ECF6\", \"polar\": {\"angularaxis\": {\"gridcolor\": \"white\", \"linecolor\": \"white\", \"ticks\": \"\"}, \"bgcolor\": \"#E5ECF6\", \"radialaxis\": {\"gridcolor\": \"white\", \"linecolor\": \"white\", \"ticks\": \"\"}}, \"scene\": {\"xaxis\": {\"backgroundcolor\": \"#E5ECF6\", \"gridcolor\": \"white\", \"gridwidth\": 2, \"linecolor\": \"white\", \"showbackground\": true, \"ticks\": \"\", \"zerolinecolor\": \"white\"}, \"yaxis\": {\"backgroundcolor\": \"#E5ECF6\", \"gridcolor\": \"white\", \"gridwidth\": 2, \"linecolor\": \"white\", \"showbackground\": true, \"ticks\": \"\", \"zerolinecolor\": \"white\"}, \"zaxis\": {\"backgroundcolor\": \"#E5ECF6\", \"gridcolor\": \"white\", \"gridwidth\": 2, \"linecolor\": \"white\", \"showbackground\": true, \"ticks\": \"\", \"zerolinecolor\": \"white\"}}, \"shapedefaults\": {\"line\": {\"color\": \"#2a3f5f\"}}, \"ternary\": {\"aaxis\": {\"gridcolor\": \"white\", \"linecolor\": \"white\", \"ticks\": \"\"}, \"baxis\": {\"gridcolor\": \"white\", \"linecolor\": \"white\", \"ticks\": \"\"}, \"bgcolor\": \"#E5ECF6\", \"caxis\": {\"gridcolor\": \"white\", \"linecolor\": \"white\", \"ticks\": \"\"}}, \"title\": {\"x\": 0.05}, \"xaxis\": {\"automargin\": true, \"gridcolor\": \"white\", \"linecolor\": \"white\", \"ticks\": \"\", \"title\": {\"standoff\": 15}, \"zerolinecolor\": \"white\", \"zerolinewidth\": 2}, \"yaxis\": {\"automargin\": true, \"gridcolor\": \"white\", \"linecolor\": \"white\", \"ticks\": \"\", \"title\": {\"standoff\": 15}, \"zerolinecolor\": \"white\", \"zerolinewidth\": 2}}}, \"title\": {\"text\": \"Subsets that were significantly different in Targeting during Corona shutdown vs. non shutdown\"}, \"xaxis\": {\"anchor\": \"y\", \"domain\": [0.0, 1.0], \"title\": {\"text\": \"column\"}}, \"yaxis\": {\"anchor\": \"x\", \"domain\": [0.0, 1.0], \"title\": {\"text\": \"Mean\"}}},                        {\"responsive\": true}                    ).then(function(){\n",
       "                            \n",
       "var gd = document.getElementById('df1be162-499f-4eb3-b101-9356477a4a21');\n",
       "var x = new MutationObserver(function (mutations, observer) {{\n",
       "        var display = window.getComputedStyle(gd).display;\n",
       "        if (!display || display === 'none') {{\n",
       "            console.log([gd, 'removed!']);\n",
       "            Plotly.purge(gd);\n",
       "            observer.disconnect();\n",
       "        }}\n",
       "}});\n",
       "\n",
       "// Listen for the removal of the full notebook cells\n",
       "var notebookContainer = gd.closest('#notebook-container');\n",
       "if (notebookContainer) {{\n",
       "    x.observe(notebookContainer, {childList: true});\n",
       "}}\n",
       "\n",
       "// Listen for the clearing of the current output cell\n",
       "var outputEl = gd.closest('.output');\n",
       "if (outputEl) {{\n",
       "    x.observe(outputEl, {childList: true});\n",
       "}}\n",
       "\n",
       "                        })                };                });            </script>        </div>"
      ]
     },
     "metadata": {},
     "output_type": "display_data"
    }
   ],
   "source": [
    "test = pd.DataFrame()\n",
    "sig = [\"All_SS\"]\n",
    "for column in sig:\n",
    "    corona_mean = corona_target[column].mean()\n",
    "    open_mean = open_target[column].mean()\n",
    "    corona_int = st.t.interval(alpha=0.95, df=len(corona_target[column])-1, loc=np.mean(corona_target[column]), scale=st.sem(corona_target[column],nan_policy='omit'))\n",
    "    open_int = st.t.interval(alpha=0.95, df=len(open_target[column])-1, loc=np.mean(open_target[column]), scale=st.sem(open_target[column],nan_policy='omit'))\n",
    "    corona_error = (corona_int[1] - corona_int[0])/2\n",
    "    open_error = (open_int[1] - open_int[0])/2\n",
    "    pd.Series()\n",
    "    data = {'Variable':['Corona','Open'], 'Mean':[corona_mean,open_mean],'error':[corona_error,open_error],'column':[column,column]} \n",
    "    data = pd.DataFrame(data)\n",
    "    test = pd.concat([test, data])\n",
    "test\n",
    "\n",
    "px.bar(test, x = \"column\", y = \"Mean\", color = \"Variable\", error_y = \"error\", barmode = \"group\", title = \"Subsets that were significantly different in Targeting during Corona shutdown vs. non shutdown\")\n",
    "  "
   ]
  },
  {
   "cell_type": "code",
   "execution_count": 225,
   "metadata": {},
   "outputs": [
    {
     "name": "stderr",
     "output_type": "stream",
     "text": [
      "<ipython-input-225-d8e220c6d906>:13: DeprecationWarning:\n",
      "\n",
      "The default dtype for empty Series will be 'object' instead of 'float64' in a future version. Specify a dtype explicitly to silence this warning.\n",
      "\n"
     ]
    },
    {
     "data": {
      "application/vnd.plotly.v1+json": {
       "config": {
        "plotlyServerURL": "https://plot.ly"
       },
       "data": [
        {
         "alignmentgroup": "True",
         "error_y": {
          "array": [
           1.1621468019295316
          ]
         },
         "hovertemplate": "Variable=Corona<br>column=%{x}<br>Mean=%{y}<extra></extra>",
         "legendgroup": "Corona",
         "marker": {
          "color": "#636efa"
         },
         "name": "Corona",
         "offsetgroup": "Corona",
         "orientation": "v",
         "showlegend": true,
         "textposition": "auto",
         "type": "bar",
         "x": [
          "BT2"
         ],
         "xaxis": "x",
         "y": [
          4.304347826086956
         ],
         "yaxis": "y"
        },
        {
         "alignmentgroup": "True",
         "error_y": {
          "array": [
           0.23796641446340105
          ]
         },
         "hovertemplate": "Variable=Open<br>column=%{x}<br>Mean=%{y}<extra></extra>",
         "legendgroup": "Open",
         "marker": {
          "color": "#EF553B"
         },
         "name": "Open",
         "offsetgroup": "Open",
         "orientation": "v",
         "showlegend": true,
         "textposition": "auto",
         "type": "bar",
         "x": [
          "BT2"
         ],
         "xaxis": "x",
         "y": [
          2.778313253012048
         ],
         "yaxis": "y"
        }
       ],
       "layout": {
        "barmode": "group",
        "legend": {
         "title": {
          "text": "Variable"
         },
         "tracegroupgap": 0
        },
        "template": {
         "data": {
          "bar": [
           {
            "error_x": {
             "color": "#2a3f5f"
            },
            "error_y": {
             "color": "#2a3f5f"
            },
            "marker": {
             "line": {
              "color": "#E5ECF6",
              "width": 0.5
             }
            },
            "type": "bar"
           }
          ],
          "barpolar": [
           {
            "marker": {
             "line": {
              "color": "#E5ECF6",
              "width": 0.5
             }
            },
            "type": "barpolar"
           }
          ],
          "carpet": [
           {
            "aaxis": {
             "endlinecolor": "#2a3f5f",
             "gridcolor": "white",
             "linecolor": "white",
             "minorgridcolor": "white",
             "startlinecolor": "#2a3f5f"
            },
            "baxis": {
             "endlinecolor": "#2a3f5f",
             "gridcolor": "white",
             "linecolor": "white",
             "minorgridcolor": "white",
             "startlinecolor": "#2a3f5f"
            },
            "type": "carpet"
           }
          ],
          "choropleth": [
           {
            "colorbar": {
             "outlinewidth": 0,
             "ticks": ""
            },
            "type": "choropleth"
           }
          ],
          "contour": [
           {
            "colorbar": {
             "outlinewidth": 0,
             "ticks": ""
            },
            "colorscale": [
             [
              0,
              "#0d0887"
             ],
             [
              0.1111111111111111,
              "#46039f"
             ],
             [
              0.2222222222222222,
              "#7201a8"
             ],
             [
              0.3333333333333333,
              "#9c179e"
             ],
             [
              0.4444444444444444,
              "#bd3786"
             ],
             [
              0.5555555555555556,
              "#d8576b"
             ],
             [
              0.6666666666666666,
              "#ed7953"
             ],
             [
              0.7777777777777778,
              "#fb9f3a"
             ],
             [
              0.8888888888888888,
              "#fdca26"
             ],
             [
              1,
              "#f0f921"
             ]
            ],
            "type": "contour"
           }
          ],
          "contourcarpet": [
           {
            "colorbar": {
             "outlinewidth": 0,
             "ticks": ""
            },
            "type": "contourcarpet"
           }
          ],
          "heatmap": [
           {
            "colorbar": {
             "outlinewidth": 0,
             "ticks": ""
            },
            "colorscale": [
             [
              0,
              "#0d0887"
             ],
             [
              0.1111111111111111,
              "#46039f"
             ],
             [
              0.2222222222222222,
              "#7201a8"
             ],
             [
              0.3333333333333333,
              "#9c179e"
             ],
             [
              0.4444444444444444,
              "#bd3786"
             ],
             [
              0.5555555555555556,
              "#d8576b"
             ],
             [
              0.6666666666666666,
              "#ed7953"
             ],
             [
              0.7777777777777778,
              "#fb9f3a"
             ],
             [
              0.8888888888888888,
              "#fdca26"
             ],
             [
              1,
              "#f0f921"
             ]
            ],
            "type": "heatmap"
           }
          ],
          "heatmapgl": [
           {
            "colorbar": {
             "outlinewidth": 0,
             "ticks": ""
            },
            "colorscale": [
             [
              0,
              "#0d0887"
             ],
             [
              0.1111111111111111,
              "#46039f"
             ],
             [
              0.2222222222222222,
              "#7201a8"
             ],
             [
              0.3333333333333333,
              "#9c179e"
             ],
             [
              0.4444444444444444,
              "#bd3786"
             ],
             [
              0.5555555555555556,
              "#d8576b"
             ],
             [
              0.6666666666666666,
              "#ed7953"
             ],
             [
              0.7777777777777778,
              "#fb9f3a"
             ],
             [
              0.8888888888888888,
              "#fdca26"
             ],
             [
              1,
              "#f0f921"
             ]
            ],
            "type": "heatmapgl"
           }
          ],
          "histogram": [
           {
            "marker": {
             "colorbar": {
              "outlinewidth": 0,
              "ticks": ""
             }
            },
            "type": "histogram"
           }
          ],
          "histogram2d": [
           {
            "colorbar": {
             "outlinewidth": 0,
             "ticks": ""
            },
            "colorscale": [
             [
              0,
              "#0d0887"
             ],
             [
              0.1111111111111111,
              "#46039f"
             ],
             [
              0.2222222222222222,
              "#7201a8"
             ],
             [
              0.3333333333333333,
              "#9c179e"
             ],
             [
              0.4444444444444444,
              "#bd3786"
             ],
             [
              0.5555555555555556,
              "#d8576b"
             ],
             [
              0.6666666666666666,
              "#ed7953"
             ],
             [
              0.7777777777777778,
              "#fb9f3a"
             ],
             [
              0.8888888888888888,
              "#fdca26"
             ],
             [
              1,
              "#f0f921"
             ]
            ],
            "type": "histogram2d"
           }
          ],
          "histogram2dcontour": [
           {
            "colorbar": {
             "outlinewidth": 0,
             "ticks": ""
            },
            "colorscale": [
             [
              0,
              "#0d0887"
             ],
             [
              0.1111111111111111,
              "#46039f"
             ],
             [
              0.2222222222222222,
              "#7201a8"
             ],
             [
              0.3333333333333333,
              "#9c179e"
             ],
             [
              0.4444444444444444,
              "#bd3786"
             ],
             [
              0.5555555555555556,
              "#d8576b"
             ],
             [
              0.6666666666666666,
              "#ed7953"
             ],
             [
              0.7777777777777778,
              "#fb9f3a"
             ],
             [
              0.8888888888888888,
              "#fdca26"
             ],
             [
              1,
              "#f0f921"
             ]
            ],
            "type": "histogram2dcontour"
           }
          ],
          "mesh3d": [
           {
            "colorbar": {
             "outlinewidth": 0,
             "ticks": ""
            },
            "type": "mesh3d"
           }
          ],
          "parcoords": [
           {
            "line": {
             "colorbar": {
              "outlinewidth": 0,
              "ticks": ""
             }
            },
            "type": "parcoords"
           }
          ],
          "pie": [
           {
            "automargin": true,
            "type": "pie"
           }
          ],
          "scatter": [
           {
            "marker": {
             "colorbar": {
              "outlinewidth": 0,
              "ticks": ""
             }
            },
            "type": "scatter"
           }
          ],
          "scatter3d": [
           {
            "line": {
             "colorbar": {
              "outlinewidth": 0,
              "ticks": ""
             }
            },
            "marker": {
             "colorbar": {
              "outlinewidth": 0,
              "ticks": ""
             }
            },
            "type": "scatter3d"
           }
          ],
          "scattercarpet": [
           {
            "marker": {
             "colorbar": {
              "outlinewidth": 0,
              "ticks": ""
             }
            },
            "type": "scattercarpet"
           }
          ],
          "scattergeo": [
           {
            "marker": {
             "colorbar": {
              "outlinewidth": 0,
              "ticks": ""
             }
            },
            "type": "scattergeo"
           }
          ],
          "scattergl": [
           {
            "marker": {
             "colorbar": {
              "outlinewidth": 0,
              "ticks": ""
             }
            },
            "type": "scattergl"
           }
          ],
          "scattermapbox": [
           {
            "marker": {
             "colorbar": {
              "outlinewidth": 0,
              "ticks": ""
             }
            },
            "type": "scattermapbox"
           }
          ],
          "scatterpolar": [
           {
            "marker": {
             "colorbar": {
              "outlinewidth": 0,
              "ticks": ""
             }
            },
            "type": "scatterpolar"
           }
          ],
          "scatterpolargl": [
           {
            "marker": {
             "colorbar": {
              "outlinewidth": 0,
              "ticks": ""
             }
            },
            "type": "scatterpolargl"
           }
          ],
          "scatterternary": [
           {
            "marker": {
             "colorbar": {
              "outlinewidth": 0,
              "ticks": ""
             }
            },
            "type": "scatterternary"
           }
          ],
          "surface": [
           {
            "colorbar": {
             "outlinewidth": 0,
             "ticks": ""
            },
            "colorscale": [
             [
              0,
              "#0d0887"
             ],
             [
              0.1111111111111111,
              "#46039f"
             ],
             [
              0.2222222222222222,
              "#7201a8"
             ],
             [
              0.3333333333333333,
              "#9c179e"
             ],
             [
              0.4444444444444444,
              "#bd3786"
             ],
             [
              0.5555555555555556,
              "#d8576b"
             ],
             [
              0.6666666666666666,
              "#ed7953"
             ],
             [
              0.7777777777777778,
              "#fb9f3a"
             ],
             [
              0.8888888888888888,
              "#fdca26"
             ],
             [
              1,
              "#f0f921"
             ]
            ],
            "type": "surface"
           }
          ],
          "table": [
           {
            "cells": {
             "fill": {
              "color": "#EBF0F8"
             },
             "line": {
              "color": "white"
             }
            },
            "header": {
             "fill": {
              "color": "#C8D4E3"
             },
             "line": {
              "color": "white"
             }
            },
            "type": "table"
           }
          ]
         },
         "layout": {
          "annotationdefaults": {
           "arrowcolor": "#2a3f5f",
           "arrowhead": 0,
           "arrowwidth": 1
          },
          "coloraxis": {
           "colorbar": {
            "outlinewidth": 0,
            "ticks": ""
           }
          },
          "colorscale": {
           "diverging": [
            [
             0,
             "#8e0152"
            ],
            [
             0.1,
             "#c51b7d"
            ],
            [
             0.2,
             "#de77ae"
            ],
            [
             0.3,
             "#f1b6da"
            ],
            [
             0.4,
             "#fde0ef"
            ],
            [
             0.5,
             "#f7f7f7"
            ],
            [
             0.6,
             "#e6f5d0"
            ],
            [
             0.7,
             "#b8e186"
            ],
            [
             0.8,
             "#7fbc41"
            ],
            [
             0.9,
             "#4d9221"
            ],
            [
             1,
             "#276419"
            ]
           ],
           "sequential": [
            [
             0,
             "#0d0887"
            ],
            [
             0.1111111111111111,
             "#46039f"
            ],
            [
             0.2222222222222222,
             "#7201a8"
            ],
            [
             0.3333333333333333,
             "#9c179e"
            ],
            [
             0.4444444444444444,
             "#bd3786"
            ],
            [
             0.5555555555555556,
             "#d8576b"
            ],
            [
             0.6666666666666666,
             "#ed7953"
            ],
            [
             0.7777777777777778,
             "#fb9f3a"
            ],
            [
             0.8888888888888888,
             "#fdca26"
            ],
            [
             1,
             "#f0f921"
            ]
           ],
           "sequentialminus": [
            [
             0,
             "#0d0887"
            ],
            [
             0.1111111111111111,
             "#46039f"
            ],
            [
             0.2222222222222222,
             "#7201a8"
            ],
            [
             0.3333333333333333,
             "#9c179e"
            ],
            [
             0.4444444444444444,
             "#bd3786"
            ],
            [
             0.5555555555555556,
             "#d8576b"
            ],
            [
             0.6666666666666666,
             "#ed7953"
            ],
            [
             0.7777777777777778,
             "#fb9f3a"
            ],
            [
             0.8888888888888888,
             "#fdca26"
            ],
            [
             1,
             "#f0f921"
            ]
           ]
          },
          "colorway": [
           "#636efa",
           "#EF553B",
           "#00cc96",
           "#ab63fa",
           "#FFA15A",
           "#19d3f3",
           "#FF6692",
           "#B6E880",
           "#FF97FF",
           "#FECB52"
          ],
          "font": {
           "color": "#2a3f5f"
          },
          "geo": {
           "bgcolor": "white",
           "lakecolor": "white",
           "landcolor": "#E5ECF6",
           "showlakes": true,
           "showland": true,
           "subunitcolor": "white"
          },
          "hoverlabel": {
           "align": "left"
          },
          "hovermode": "closest",
          "mapbox": {
           "style": "light"
          },
          "paper_bgcolor": "white",
          "plot_bgcolor": "#E5ECF6",
          "polar": {
           "angularaxis": {
            "gridcolor": "white",
            "linecolor": "white",
            "ticks": ""
           },
           "bgcolor": "#E5ECF6",
           "radialaxis": {
            "gridcolor": "white",
            "linecolor": "white",
            "ticks": ""
           }
          },
          "scene": {
           "xaxis": {
            "backgroundcolor": "#E5ECF6",
            "gridcolor": "white",
            "gridwidth": 2,
            "linecolor": "white",
            "showbackground": true,
            "ticks": "",
            "zerolinecolor": "white"
           },
           "yaxis": {
            "backgroundcolor": "#E5ECF6",
            "gridcolor": "white",
            "gridwidth": 2,
            "linecolor": "white",
            "showbackground": true,
            "ticks": "",
            "zerolinecolor": "white"
           },
           "zaxis": {
            "backgroundcolor": "#E5ECF6",
            "gridcolor": "white",
            "gridwidth": 2,
            "linecolor": "white",
            "showbackground": true,
            "ticks": "",
            "zerolinecolor": "white"
           }
          },
          "shapedefaults": {
           "line": {
            "color": "#2a3f5f"
           }
          },
          "ternary": {
           "aaxis": {
            "gridcolor": "white",
            "linecolor": "white",
            "ticks": ""
           },
           "baxis": {
            "gridcolor": "white",
            "linecolor": "white",
            "ticks": ""
           },
           "bgcolor": "#E5ECF6",
           "caxis": {
            "gridcolor": "white",
            "linecolor": "white",
            "ticks": ""
           }
          },
          "title": {
           "x": 0.05
          },
          "xaxis": {
           "automargin": true,
           "gridcolor": "white",
           "linecolor": "white",
           "ticks": "",
           "title": {
            "standoff": 15
           },
           "zerolinecolor": "white",
           "zerolinewidth": 2
          },
          "yaxis": {
           "automargin": true,
           "gridcolor": "white",
           "linecolor": "white",
           "ticks": "",
           "title": {
            "standoff": 15
           },
           "zerolinecolor": "white",
           "zerolinewidth": 2
          }
         }
        },
        "title": {
         "text": "Subsets that were significantly different in Eating during Corona shutdown vs. non shutdown"
        },
        "xaxis": {
         "anchor": "y",
         "domain": [
          0,
          1
         ],
         "title": {
          "text": "column"
         }
        },
        "yaxis": {
         "anchor": "x",
         "domain": [
          0,
          1
         ],
         "title": {
          "text": "Mean"
         }
        }
       }
      },
      "text/html": [
       "<div>                            <div id=\"08ded34a-ea24-4d2a-b4b4-320676f8cfeb\" class=\"plotly-graph-div\" style=\"height:525px; width:100%;\"></div>            <script type=\"text/javascript\">                require([\"plotly\"], function(Plotly) {                    window.PLOTLYENV=window.PLOTLYENV || {};                                    if (document.getElementById(\"08ded34a-ea24-4d2a-b4b4-320676f8cfeb\")) {                    Plotly.newPlot(                        \"08ded34a-ea24-4d2a-b4b4-320676f8cfeb\",                        [{\"alignmentgroup\": \"True\", \"error_y\": {\"array\": [1.1621468019295316]}, \"hovertemplate\": \"Variable=Corona<br>column=%{x}<br>Mean=%{y}<extra></extra>\", \"legendgroup\": \"Corona\", \"marker\": {\"color\": \"#636efa\"}, \"name\": \"Corona\", \"offsetgroup\": \"Corona\", \"orientation\": \"v\", \"showlegend\": true, \"textposition\": \"auto\", \"type\": \"bar\", \"x\": [\"BT2\"], \"xaxis\": \"x\", \"y\": [4.304347826086956], \"yaxis\": \"y\"}, {\"alignmentgroup\": \"True\", \"error_y\": {\"array\": [0.23796641446340105]}, \"hovertemplate\": \"Variable=Open<br>column=%{x}<br>Mean=%{y}<extra></extra>\", \"legendgroup\": \"Open\", \"marker\": {\"color\": \"#EF553B\"}, \"name\": \"Open\", \"offsetgroup\": \"Open\", \"orientation\": \"v\", \"showlegend\": true, \"textposition\": \"auto\", \"type\": \"bar\", \"x\": [\"BT2\"], \"xaxis\": \"x\", \"y\": [2.778313253012048], \"yaxis\": \"y\"}],                        {\"barmode\": \"group\", \"legend\": {\"title\": {\"text\": \"Variable\"}, \"tracegroupgap\": 0}, \"template\": {\"data\": {\"bar\": [{\"error_x\": {\"color\": \"#2a3f5f\"}, \"error_y\": {\"color\": \"#2a3f5f\"}, \"marker\": {\"line\": {\"color\": \"#E5ECF6\", \"width\": 0.5}}, \"type\": \"bar\"}], \"barpolar\": [{\"marker\": {\"line\": {\"color\": \"#E5ECF6\", \"width\": 0.5}}, \"type\": \"barpolar\"}], \"carpet\": [{\"aaxis\": {\"endlinecolor\": \"#2a3f5f\", \"gridcolor\": \"white\", \"linecolor\": \"white\", \"minorgridcolor\": \"white\", \"startlinecolor\": \"#2a3f5f\"}, \"baxis\": {\"endlinecolor\": \"#2a3f5f\", \"gridcolor\": \"white\", \"linecolor\": \"white\", \"minorgridcolor\": \"white\", \"startlinecolor\": \"#2a3f5f\"}, \"type\": \"carpet\"}], \"choropleth\": [{\"colorbar\": {\"outlinewidth\": 0, \"ticks\": \"\"}, \"type\": \"choropleth\"}], \"contour\": [{\"colorbar\": {\"outlinewidth\": 0, \"ticks\": \"\"}, \"colorscale\": [[0.0, \"#0d0887\"], [0.1111111111111111, \"#46039f\"], [0.2222222222222222, \"#7201a8\"], [0.3333333333333333, \"#9c179e\"], [0.4444444444444444, \"#bd3786\"], [0.5555555555555556, \"#d8576b\"], [0.6666666666666666, \"#ed7953\"], [0.7777777777777778, \"#fb9f3a\"], [0.8888888888888888, \"#fdca26\"], [1.0, \"#f0f921\"]], \"type\": \"contour\"}], \"contourcarpet\": [{\"colorbar\": {\"outlinewidth\": 0, \"ticks\": \"\"}, \"type\": \"contourcarpet\"}], \"heatmap\": [{\"colorbar\": {\"outlinewidth\": 0, \"ticks\": \"\"}, \"colorscale\": [[0.0, \"#0d0887\"], [0.1111111111111111, \"#46039f\"], [0.2222222222222222, \"#7201a8\"], [0.3333333333333333, \"#9c179e\"], [0.4444444444444444, \"#bd3786\"], [0.5555555555555556, \"#d8576b\"], [0.6666666666666666, \"#ed7953\"], [0.7777777777777778, \"#fb9f3a\"], [0.8888888888888888, \"#fdca26\"], [1.0, \"#f0f921\"]], \"type\": \"heatmap\"}], \"heatmapgl\": [{\"colorbar\": {\"outlinewidth\": 0, \"ticks\": \"\"}, \"colorscale\": [[0.0, \"#0d0887\"], [0.1111111111111111, \"#46039f\"], [0.2222222222222222, \"#7201a8\"], [0.3333333333333333, \"#9c179e\"], [0.4444444444444444, \"#bd3786\"], [0.5555555555555556, \"#d8576b\"], [0.6666666666666666, \"#ed7953\"], [0.7777777777777778, \"#fb9f3a\"], [0.8888888888888888, \"#fdca26\"], [1.0, \"#f0f921\"]], \"type\": \"heatmapgl\"}], \"histogram\": [{\"marker\": {\"colorbar\": {\"outlinewidth\": 0, \"ticks\": \"\"}}, \"type\": \"histogram\"}], \"histogram2d\": [{\"colorbar\": {\"outlinewidth\": 0, \"ticks\": \"\"}, \"colorscale\": [[0.0, \"#0d0887\"], [0.1111111111111111, \"#46039f\"], [0.2222222222222222, \"#7201a8\"], [0.3333333333333333, \"#9c179e\"], [0.4444444444444444, \"#bd3786\"], [0.5555555555555556, \"#d8576b\"], [0.6666666666666666, \"#ed7953\"], [0.7777777777777778, \"#fb9f3a\"], [0.8888888888888888, \"#fdca26\"], [1.0, \"#f0f921\"]], \"type\": \"histogram2d\"}], \"histogram2dcontour\": [{\"colorbar\": {\"outlinewidth\": 0, \"ticks\": \"\"}, \"colorscale\": [[0.0, \"#0d0887\"], [0.1111111111111111, \"#46039f\"], [0.2222222222222222, \"#7201a8\"], [0.3333333333333333, \"#9c179e\"], [0.4444444444444444, \"#bd3786\"], [0.5555555555555556, \"#d8576b\"], [0.6666666666666666, \"#ed7953\"], [0.7777777777777778, \"#fb9f3a\"], [0.8888888888888888, \"#fdca26\"], [1.0, \"#f0f921\"]], \"type\": \"histogram2dcontour\"}], \"mesh3d\": [{\"colorbar\": {\"outlinewidth\": 0, \"ticks\": \"\"}, \"type\": \"mesh3d\"}], \"parcoords\": [{\"line\": {\"colorbar\": {\"outlinewidth\": 0, \"ticks\": \"\"}}, \"type\": \"parcoords\"}], \"pie\": [{\"automargin\": true, \"type\": \"pie\"}], \"scatter\": [{\"marker\": {\"colorbar\": {\"outlinewidth\": 0, \"ticks\": \"\"}}, \"type\": \"scatter\"}], \"scatter3d\": [{\"line\": {\"colorbar\": {\"outlinewidth\": 0, \"ticks\": \"\"}}, \"marker\": {\"colorbar\": {\"outlinewidth\": 0, \"ticks\": \"\"}}, \"type\": \"scatter3d\"}], \"scattercarpet\": [{\"marker\": {\"colorbar\": {\"outlinewidth\": 0, \"ticks\": \"\"}}, \"type\": \"scattercarpet\"}], \"scattergeo\": [{\"marker\": {\"colorbar\": {\"outlinewidth\": 0, \"ticks\": \"\"}}, \"type\": \"scattergeo\"}], \"scattergl\": [{\"marker\": {\"colorbar\": {\"outlinewidth\": 0, \"ticks\": \"\"}}, \"type\": \"scattergl\"}], \"scattermapbox\": [{\"marker\": {\"colorbar\": {\"outlinewidth\": 0, \"ticks\": \"\"}}, \"type\": \"scattermapbox\"}], \"scatterpolar\": [{\"marker\": {\"colorbar\": {\"outlinewidth\": 0, \"ticks\": \"\"}}, \"type\": \"scatterpolar\"}], \"scatterpolargl\": [{\"marker\": {\"colorbar\": {\"outlinewidth\": 0, \"ticks\": \"\"}}, \"type\": \"scatterpolargl\"}], \"scatterternary\": [{\"marker\": {\"colorbar\": {\"outlinewidth\": 0, \"ticks\": \"\"}}, \"type\": \"scatterternary\"}], \"surface\": [{\"colorbar\": {\"outlinewidth\": 0, \"ticks\": \"\"}, \"colorscale\": [[0.0, \"#0d0887\"], [0.1111111111111111, \"#46039f\"], [0.2222222222222222, \"#7201a8\"], [0.3333333333333333, \"#9c179e\"], [0.4444444444444444, \"#bd3786\"], [0.5555555555555556, \"#d8576b\"], [0.6666666666666666, \"#ed7953\"], [0.7777777777777778, \"#fb9f3a\"], [0.8888888888888888, \"#fdca26\"], [1.0, \"#f0f921\"]], \"type\": \"surface\"}], \"table\": [{\"cells\": {\"fill\": {\"color\": \"#EBF0F8\"}, \"line\": {\"color\": \"white\"}}, \"header\": {\"fill\": {\"color\": \"#C8D4E3\"}, \"line\": {\"color\": \"white\"}}, \"type\": \"table\"}]}, \"layout\": {\"annotationdefaults\": {\"arrowcolor\": \"#2a3f5f\", \"arrowhead\": 0, \"arrowwidth\": 1}, \"coloraxis\": {\"colorbar\": {\"outlinewidth\": 0, \"ticks\": \"\"}}, \"colorscale\": {\"diverging\": [[0, \"#8e0152\"], [0.1, \"#c51b7d\"], [0.2, \"#de77ae\"], [0.3, \"#f1b6da\"], [0.4, \"#fde0ef\"], [0.5, \"#f7f7f7\"], [0.6, \"#e6f5d0\"], [0.7, \"#b8e186\"], [0.8, \"#7fbc41\"], [0.9, \"#4d9221\"], [1, \"#276419\"]], \"sequential\": [[0.0, \"#0d0887\"], [0.1111111111111111, \"#46039f\"], [0.2222222222222222, \"#7201a8\"], [0.3333333333333333, \"#9c179e\"], [0.4444444444444444, \"#bd3786\"], [0.5555555555555556, \"#d8576b\"], [0.6666666666666666, \"#ed7953\"], [0.7777777777777778, \"#fb9f3a\"], [0.8888888888888888, \"#fdca26\"], [1.0, \"#f0f921\"]], \"sequentialminus\": [[0.0, \"#0d0887\"], [0.1111111111111111, \"#46039f\"], [0.2222222222222222, \"#7201a8\"], [0.3333333333333333, \"#9c179e\"], [0.4444444444444444, \"#bd3786\"], [0.5555555555555556, \"#d8576b\"], [0.6666666666666666, \"#ed7953\"], [0.7777777777777778, \"#fb9f3a\"], [0.8888888888888888, \"#fdca26\"], [1.0, \"#f0f921\"]]}, \"colorway\": [\"#636efa\", \"#EF553B\", \"#00cc96\", \"#ab63fa\", \"#FFA15A\", \"#19d3f3\", \"#FF6692\", \"#B6E880\", \"#FF97FF\", \"#FECB52\"], \"font\": {\"color\": \"#2a3f5f\"}, \"geo\": {\"bgcolor\": \"white\", \"lakecolor\": \"white\", \"landcolor\": \"#E5ECF6\", \"showlakes\": true, \"showland\": true, \"subunitcolor\": \"white\"}, \"hoverlabel\": {\"align\": \"left\"}, \"hovermode\": \"closest\", \"mapbox\": {\"style\": \"light\"}, \"paper_bgcolor\": \"white\", \"plot_bgcolor\": \"#E5ECF6\", \"polar\": {\"angularaxis\": {\"gridcolor\": \"white\", \"linecolor\": \"white\", \"ticks\": \"\"}, \"bgcolor\": \"#E5ECF6\", \"radialaxis\": {\"gridcolor\": \"white\", \"linecolor\": \"white\", \"ticks\": \"\"}}, \"scene\": {\"xaxis\": {\"backgroundcolor\": \"#E5ECF6\", \"gridcolor\": \"white\", \"gridwidth\": 2, \"linecolor\": \"white\", \"showbackground\": true, \"ticks\": \"\", \"zerolinecolor\": \"white\"}, \"yaxis\": {\"backgroundcolor\": \"#E5ECF6\", \"gridcolor\": \"white\", \"gridwidth\": 2, \"linecolor\": \"white\", \"showbackground\": true, \"ticks\": \"\", \"zerolinecolor\": \"white\"}, \"zaxis\": {\"backgroundcolor\": \"#E5ECF6\", \"gridcolor\": \"white\", \"gridwidth\": 2, \"linecolor\": \"white\", \"showbackground\": true, \"ticks\": \"\", \"zerolinecolor\": \"white\"}}, \"shapedefaults\": {\"line\": {\"color\": \"#2a3f5f\"}}, \"ternary\": {\"aaxis\": {\"gridcolor\": \"white\", \"linecolor\": \"white\", \"ticks\": \"\"}, \"baxis\": {\"gridcolor\": \"white\", \"linecolor\": \"white\", \"ticks\": \"\"}, \"bgcolor\": \"#E5ECF6\", \"caxis\": {\"gridcolor\": \"white\", \"linecolor\": \"white\", \"ticks\": \"\"}}, \"title\": {\"x\": 0.05}, \"xaxis\": {\"automargin\": true, \"gridcolor\": \"white\", \"linecolor\": \"white\", \"ticks\": \"\", \"title\": {\"standoff\": 15}, \"zerolinecolor\": \"white\", \"zerolinewidth\": 2}, \"yaxis\": {\"automargin\": true, \"gridcolor\": \"white\", \"linecolor\": \"white\", \"ticks\": \"\", \"title\": {\"standoff\": 15}, \"zerolinecolor\": \"white\", \"zerolinewidth\": 2}}}, \"title\": {\"text\": \"Subsets that were significantly different in Eating during Corona shutdown vs. non shutdown\"}, \"xaxis\": {\"anchor\": \"y\", \"domain\": [0.0, 1.0], \"title\": {\"text\": \"column\"}}, \"yaxis\": {\"anchor\": \"x\", \"domain\": [0.0, 1.0], \"title\": {\"text\": \"Mean\"}}},                        {\"responsive\": true}                    ).then(function(){\n",
       "                            \n",
       "var gd = document.getElementById('08ded34a-ea24-4d2a-b4b4-320676f8cfeb');\n",
       "var x = new MutationObserver(function (mutations, observer) {{\n",
       "        var display = window.getComputedStyle(gd).display;\n",
       "        if (!display || display === 'none') {{\n",
       "            console.log([gd, 'removed!']);\n",
       "            Plotly.purge(gd);\n",
       "            observer.disconnect();\n",
       "        }}\n",
       "}});\n",
       "\n",
       "// Listen for the removal of the full notebook cells\n",
       "var notebookContainer = gd.closest('#notebook-container');\n",
       "if (notebookContainer) {{\n",
       "    x.observe(notebookContainer, {childList: true});\n",
       "}}\n",
       "\n",
       "// Listen for the clearing of the current output cell\n",
       "var outputEl = gd.closest('.output');\n",
       "if (outputEl) {{\n",
       "    x.observe(outputEl, {childList: true});\n",
       "}}\n",
       "\n",
       "                        })                };                });            </script>        </div>"
      ]
     },
     "metadata": {},
     "output_type": "display_data"
    }
   ],
   "source": [
    "test = pd.DataFrame()\n",
    "sig = [\"BT2\"]\n",
    "for column in sig:\n",
    "    x = st.t.interval(alpha=0.95, df=len(corona_eat[column])-1, loc=np.mean(corona_eat[column]), scale=st.sem(corona_eat[column],nan_policy='omit'))\n",
    "    y = st.t.interval(alpha=0.95, df=len(open_eat[column])-1, loc=np.mean(open_eat[column]), scale=st.sem(open_eat[column],nan_policy='omit'))\n",
    "    if overlap(x[0],x[1],y[0],y[1])==False:\n",
    "        corona_mean = corona_eat[column].mean()\n",
    "        open_mean = open_eat[column].mean()\n",
    "        corona_int = st.t.interval(alpha=0.95, df=len(corona_eat[column])-1, loc=np.mean(corona_eat[column]), scale=st.sem(corona_eat[column],nan_policy='omit'))\n",
    "        open_int = st.t.interval(alpha=0.95, df=len(open_eat[column])-1, loc=np.mean(open_eat[column]), scale=st.sem(open_eat[column],nan_policy='omit'))\n",
    "        corona_error = (corona_int[1] - corona_int[0])/2\n",
    "        open_error = (open_int[1] - open_int[0])/2\n",
    "        pd.Series()\n",
    "        data = {'Variable':['Corona','Open'], 'Mean':[corona_mean,open_mean],'error':[corona_error,open_error],'column':[column,column]} \n",
    "        data = pd.DataFrame(data)\n",
    "        test = pd.concat([test, data])\n",
    "    else:\n",
    "        print(column,\"Has Confidence Intervals that overlap\")\n",
    "        print(\"Here are the confidence intervals:\")\n",
    "        print(\"Corona\",x)\n",
    "        print(\"Open\",y)\n",
    "test\n",
    "\n",
    "px.bar(test, x = \"column\", y = \"Mean\", color = \"Variable\", error_y = \"error\", barmode = \"group\", title = \"Subsets that were significantly different in Eating during Corona shutdown vs. non shutdown\")\n",
    "  "
   ]
  },
  {
   "cell_type": "markdown",
   "metadata": {},
   "source": [
    "## Light Training of first 40 days vs. non-light training"
   ]
  },
  {
   "cell_type": "code",
   "execution_count": 234,
   "metadata": {},
   "outputs": [
    {
     "name": "stderr",
     "output_type": "stream",
     "text": [
      "<ipython-input-234-591fdc3020cf>:12: DeprecationWarning:\n",
      "\n",
      "The default dtype for empty Series will be 'object' instead of 'float64' in a future version. Specify a dtype explicitly to silence this warning.\n",
      "\n"
     ]
    },
    {
     "data": {
      "application/vnd.plotly.v1+json": {
       "config": {
        "plotlyServerURL": "https://plot.ly"
       },
       "data": [
        {
         "alignmentgroup": "True",
         "error_y": {
          "array": [
           0.20171998753392578,
           0.34510765051309,
           0.44885905349451727,
           0.39728556582245017,
           0.2791525091783851,
           0.24509989174497615,
           0.2629481394071571,
           0.10580624782449866,
           0.10580624782449866,
           0.21493092678873513,
           0.14168177408062438,
           0.13180095933163832,
           0.9624431848986648,
           0.324038614419171,
           0.8690080422460125,
           0.4151030440242267,
           0.5443642021987705,
           0.5397693835665461
          ]
         },
         "hovertemplate": "Variable=First 40 Days Of Light Training<br>column=%{x}<br>Mean=%{y}<extra></extra>",
         "legendgroup": "First 40 Days Of Light Training",
         "marker": {
          "color": "#636efa"
         },
         "name": "First 40 Days Of Light Training",
         "offsetgroup": "First 40 Days Of Light Training",
         "orientation": "v",
         "showlegend": true,
         "textposition": "auto",
         "type": "bar",
         "x": [
          "Ross",
          "Chandler",
          "BT1",
          "BT2",
          "BT3",
          "BT4",
          "BT5",
          "GR1",
          "GR2",
          "GR3",
          "GR4",
          "GR5",
          "Total: ",
          "All_GR",
          "All_BT",
          "All_SS",
          "male",
          "female"
         ],
         "xaxis": "x",
         "y": [
          0.3333333333333333,
          0.7666666666666667,
          0.9354838709677419,
          0.7419354838709677,
          0.5161290322580645,
          0.5483870967741935,
          0.5161290322580645,
          0.09375,
          0.09375,
          0.34375,
          0.1875,
          0.15625,
          3.951219512195122,
          0.875,
          3.2580645161290325,
          1.1,
          1.975609756097561,
          1.975609756097561
         ],
         "yaxis": "y"
        },
        {
         "alignmentgroup": "True",
         "error_y": {
          "array": [
           1.4544935652126538,
           1.7636966038087336,
           1.7789620087884472,
           0.7611587613691433,
           1.1787566155217641,
           0.9050079970448421,
           1.0785505018519739,
           0.7252035300204964,
           0.6628384268773315,
           1.4114315496247114,
           0.8687230970705246,
           0.8990672793365504,
           6.50143148418897,
           2.8633928584876562,
           4.094699134947806,
           2.967986842756103,
           4.356520469918539,
           3.0333447705182026
          ]
         },
         "hovertemplate": "Variable=Non-Light Training<br>column=%{x}<br>Mean=%{y}<extra></extra>",
         "legendgroup": "Non-Light Training",
         "marker": {
          "color": "#EF553B"
         },
         "name": "Non-Light Training",
         "offsetgroup": "Non-Light Training",
         "orientation": "v",
         "showlegend": true,
         "textposition": "auto",
         "type": "bar",
         "x": [
          "Ross",
          "Chandler",
          "BT1",
          "BT2",
          "BT3",
          "BT4",
          "BT5",
          "GR1",
          "GR2",
          "GR3",
          "GR4",
          "GR5",
          "Total: ",
          "All_GR",
          "All_BT",
          "All_SS",
          "male",
          "female"
         ],
         "xaxis": "x",
         "y": [
          5.733333333333333,
          6.866666666666666,
          6.033333333333333,
          3.6,
          5.533333333333333,
          3.8333333333333335,
          3.7666666666666666,
          2.4193548387096775,
          1.935483870967742,
          5.193548387096774,
          2.4193548387096775,
          1.5161290322580645,
          36.975,
          13.483870967741936,
          22.766666666666666,
          12.6,
          18.675,
          18.3
         ],
         "yaxis": "y"
        }
       ],
       "layout": {
        "barmode": "group",
        "legend": {
         "title": {
          "text": "Variable"
         },
         "tracegroupgap": 0
        },
        "template": {
         "data": {
          "bar": [
           {
            "error_x": {
             "color": "#2a3f5f"
            },
            "error_y": {
             "color": "#2a3f5f"
            },
            "marker": {
             "line": {
              "color": "#E5ECF6",
              "width": 0.5
             }
            },
            "type": "bar"
           }
          ],
          "barpolar": [
           {
            "marker": {
             "line": {
              "color": "#E5ECF6",
              "width": 0.5
             }
            },
            "type": "barpolar"
           }
          ],
          "carpet": [
           {
            "aaxis": {
             "endlinecolor": "#2a3f5f",
             "gridcolor": "white",
             "linecolor": "white",
             "minorgridcolor": "white",
             "startlinecolor": "#2a3f5f"
            },
            "baxis": {
             "endlinecolor": "#2a3f5f",
             "gridcolor": "white",
             "linecolor": "white",
             "minorgridcolor": "white",
             "startlinecolor": "#2a3f5f"
            },
            "type": "carpet"
           }
          ],
          "choropleth": [
           {
            "colorbar": {
             "outlinewidth": 0,
             "ticks": ""
            },
            "type": "choropleth"
           }
          ],
          "contour": [
           {
            "colorbar": {
             "outlinewidth": 0,
             "ticks": ""
            },
            "colorscale": [
             [
              0,
              "#0d0887"
             ],
             [
              0.1111111111111111,
              "#46039f"
             ],
             [
              0.2222222222222222,
              "#7201a8"
             ],
             [
              0.3333333333333333,
              "#9c179e"
             ],
             [
              0.4444444444444444,
              "#bd3786"
             ],
             [
              0.5555555555555556,
              "#d8576b"
             ],
             [
              0.6666666666666666,
              "#ed7953"
             ],
             [
              0.7777777777777778,
              "#fb9f3a"
             ],
             [
              0.8888888888888888,
              "#fdca26"
             ],
             [
              1,
              "#f0f921"
             ]
            ],
            "type": "contour"
           }
          ],
          "contourcarpet": [
           {
            "colorbar": {
             "outlinewidth": 0,
             "ticks": ""
            },
            "type": "contourcarpet"
           }
          ],
          "heatmap": [
           {
            "colorbar": {
             "outlinewidth": 0,
             "ticks": ""
            },
            "colorscale": [
             [
              0,
              "#0d0887"
             ],
             [
              0.1111111111111111,
              "#46039f"
             ],
             [
              0.2222222222222222,
              "#7201a8"
             ],
             [
              0.3333333333333333,
              "#9c179e"
             ],
             [
              0.4444444444444444,
              "#bd3786"
             ],
             [
              0.5555555555555556,
              "#d8576b"
             ],
             [
              0.6666666666666666,
              "#ed7953"
             ],
             [
              0.7777777777777778,
              "#fb9f3a"
             ],
             [
              0.8888888888888888,
              "#fdca26"
             ],
             [
              1,
              "#f0f921"
             ]
            ],
            "type": "heatmap"
           }
          ],
          "heatmapgl": [
           {
            "colorbar": {
             "outlinewidth": 0,
             "ticks": ""
            },
            "colorscale": [
             [
              0,
              "#0d0887"
             ],
             [
              0.1111111111111111,
              "#46039f"
             ],
             [
              0.2222222222222222,
              "#7201a8"
             ],
             [
              0.3333333333333333,
              "#9c179e"
             ],
             [
              0.4444444444444444,
              "#bd3786"
             ],
             [
              0.5555555555555556,
              "#d8576b"
             ],
             [
              0.6666666666666666,
              "#ed7953"
             ],
             [
              0.7777777777777778,
              "#fb9f3a"
             ],
             [
              0.8888888888888888,
              "#fdca26"
             ],
             [
              1,
              "#f0f921"
             ]
            ],
            "type": "heatmapgl"
           }
          ],
          "histogram": [
           {
            "marker": {
             "colorbar": {
              "outlinewidth": 0,
              "ticks": ""
             }
            },
            "type": "histogram"
           }
          ],
          "histogram2d": [
           {
            "colorbar": {
             "outlinewidth": 0,
             "ticks": ""
            },
            "colorscale": [
             [
              0,
              "#0d0887"
             ],
             [
              0.1111111111111111,
              "#46039f"
             ],
             [
              0.2222222222222222,
              "#7201a8"
             ],
             [
              0.3333333333333333,
              "#9c179e"
             ],
             [
              0.4444444444444444,
              "#bd3786"
             ],
             [
              0.5555555555555556,
              "#d8576b"
             ],
             [
              0.6666666666666666,
              "#ed7953"
             ],
             [
              0.7777777777777778,
              "#fb9f3a"
             ],
             [
              0.8888888888888888,
              "#fdca26"
             ],
             [
              1,
              "#f0f921"
             ]
            ],
            "type": "histogram2d"
           }
          ],
          "histogram2dcontour": [
           {
            "colorbar": {
             "outlinewidth": 0,
             "ticks": ""
            },
            "colorscale": [
             [
              0,
              "#0d0887"
             ],
             [
              0.1111111111111111,
              "#46039f"
             ],
             [
              0.2222222222222222,
              "#7201a8"
             ],
             [
              0.3333333333333333,
              "#9c179e"
             ],
             [
              0.4444444444444444,
              "#bd3786"
             ],
             [
              0.5555555555555556,
              "#d8576b"
             ],
             [
              0.6666666666666666,
              "#ed7953"
             ],
             [
              0.7777777777777778,
              "#fb9f3a"
             ],
             [
              0.8888888888888888,
              "#fdca26"
             ],
             [
              1,
              "#f0f921"
             ]
            ],
            "type": "histogram2dcontour"
           }
          ],
          "mesh3d": [
           {
            "colorbar": {
             "outlinewidth": 0,
             "ticks": ""
            },
            "type": "mesh3d"
           }
          ],
          "parcoords": [
           {
            "line": {
             "colorbar": {
              "outlinewidth": 0,
              "ticks": ""
             }
            },
            "type": "parcoords"
           }
          ],
          "pie": [
           {
            "automargin": true,
            "type": "pie"
           }
          ],
          "scatter": [
           {
            "marker": {
             "colorbar": {
              "outlinewidth": 0,
              "ticks": ""
             }
            },
            "type": "scatter"
           }
          ],
          "scatter3d": [
           {
            "line": {
             "colorbar": {
              "outlinewidth": 0,
              "ticks": ""
             }
            },
            "marker": {
             "colorbar": {
              "outlinewidth": 0,
              "ticks": ""
             }
            },
            "type": "scatter3d"
           }
          ],
          "scattercarpet": [
           {
            "marker": {
             "colorbar": {
              "outlinewidth": 0,
              "ticks": ""
             }
            },
            "type": "scattercarpet"
           }
          ],
          "scattergeo": [
           {
            "marker": {
             "colorbar": {
              "outlinewidth": 0,
              "ticks": ""
             }
            },
            "type": "scattergeo"
           }
          ],
          "scattergl": [
           {
            "marker": {
             "colorbar": {
              "outlinewidth": 0,
              "ticks": ""
             }
            },
            "type": "scattergl"
           }
          ],
          "scattermapbox": [
           {
            "marker": {
             "colorbar": {
              "outlinewidth": 0,
              "ticks": ""
             }
            },
            "type": "scattermapbox"
           }
          ],
          "scatterpolar": [
           {
            "marker": {
             "colorbar": {
              "outlinewidth": 0,
              "ticks": ""
             }
            },
            "type": "scatterpolar"
           }
          ],
          "scatterpolargl": [
           {
            "marker": {
             "colorbar": {
              "outlinewidth": 0,
              "ticks": ""
             }
            },
            "type": "scatterpolargl"
           }
          ],
          "scatterternary": [
           {
            "marker": {
             "colorbar": {
              "outlinewidth": 0,
              "ticks": ""
             }
            },
            "type": "scatterternary"
           }
          ],
          "surface": [
           {
            "colorbar": {
             "outlinewidth": 0,
             "ticks": ""
            },
            "colorscale": [
             [
              0,
              "#0d0887"
             ],
             [
              0.1111111111111111,
              "#46039f"
             ],
             [
              0.2222222222222222,
              "#7201a8"
             ],
             [
              0.3333333333333333,
              "#9c179e"
             ],
             [
              0.4444444444444444,
              "#bd3786"
             ],
             [
              0.5555555555555556,
              "#d8576b"
             ],
             [
              0.6666666666666666,
              "#ed7953"
             ],
             [
              0.7777777777777778,
              "#fb9f3a"
             ],
             [
              0.8888888888888888,
              "#fdca26"
             ],
             [
              1,
              "#f0f921"
             ]
            ],
            "type": "surface"
           }
          ],
          "table": [
           {
            "cells": {
             "fill": {
              "color": "#EBF0F8"
             },
             "line": {
              "color": "white"
             }
            },
            "header": {
             "fill": {
              "color": "#C8D4E3"
             },
             "line": {
              "color": "white"
             }
            },
            "type": "table"
           }
          ]
         },
         "layout": {
          "annotationdefaults": {
           "arrowcolor": "#2a3f5f",
           "arrowhead": 0,
           "arrowwidth": 1
          },
          "coloraxis": {
           "colorbar": {
            "outlinewidth": 0,
            "ticks": ""
           }
          },
          "colorscale": {
           "diverging": [
            [
             0,
             "#8e0152"
            ],
            [
             0.1,
             "#c51b7d"
            ],
            [
             0.2,
             "#de77ae"
            ],
            [
             0.3,
             "#f1b6da"
            ],
            [
             0.4,
             "#fde0ef"
            ],
            [
             0.5,
             "#f7f7f7"
            ],
            [
             0.6,
             "#e6f5d0"
            ],
            [
             0.7,
             "#b8e186"
            ],
            [
             0.8,
             "#7fbc41"
            ],
            [
             0.9,
             "#4d9221"
            ],
            [
             1,
             "#276419"
            ]
           ],
           "sequential": [
            [
             0,
             "#0d0887"
            ],
            [
             0.1111111111111111,
             "#46039f"
            ],
            [
             0.2222222222222222,
             "#7201a8"
            ],
            [
             0.3333333333333333,
             "#9c179e"
            ],
            [
             0.4444444444444444,
             "#bd3786"
            ],
            [
             0.5555555555555556,
             "#d8576b"
            ],
            [
             0.6666666666666666,
             "#ed7953"
            ],
            [
             0.7777777777777778,
             "#fb9f3a"
            ],
            [
             0.8888888888888888,
             "#fdca26"
            ],
            [
             1,
             "#f0f921"
            ]
           ],
           "sequentialminus": [
            [
             0,
             "#0d0887"
            ],
            [
             0.1111111111111111,
             "#46039f"
            ],
            [
             0.2222222222222222,
             "#7201a8"
            ],
            [
             0.3333333333333333,
             "#9c179e"
            ],
            [
             0.4444444444444444,
             "#bd3786"
            ],
            [
             0.5555555555555556,
             "#d8576b"
            ],
            [
             0.6666666666666666,
             "#ed7953"
            ],
            [
             0.7777777777777778,
             "#fb9f3a"
            ],
            [
             0.8888888888888888,
             "#fdca26"
            ],
            [
             1,
             "#f0f921"
            ]
           ]
          },
          "colorway": [
           "#636efa",
           "#EF553B",
           "#00cc96",
           "#ab63fa",
           "#FFA15A",
           "#19d3f3",
           "#FF6692",
           "#B6E880",
           "#FF97FF",
           "#FECB52"
          ],
          "font": {
           "color": "#2a3f5f"
          },
          "geo": {
           "bgcolor": "white",
           "lakecolor": "white",
           "landcolor": "#E5ECF6",
           "showlakes": true,
           "showland": true,
           "subunitcolor": "white"
          },
          "hoverlabel": {
           "align": "left"
          },
          "hovermode": "closest",
          "mapbox": {
           "style": "light"
          },
          "paper_bgcolor": "white",
          "plot_bgcolor": "#E5ECF6",
          "polar": {
           "angularaxis": {
            "gridcolor": "white",
            "linecolor": "white",
            "ticks": ""
           },
           "bgcolor": "#E5ECF6",
           "radialaxis": {
            "gridcolor": "white",
            "linecolor": "white",
            "ticks": ""
           }
          },
          "scene": {
           "xaxis": {
            "backgroundcolor": "#E5ECF6",
            "gridcolor": "white",
            "gridwidth": 2,
            "linecolor": "white",
            "showbackground": true,
            "ticks": "",
            "zerolinecolor": "white"
           },
           "yaxis": {
            "backgroundcolor": "#E5ECF6",
            "gridcolor": "white",
            "gridwidth": 2,
            "linecolor": "white",
            "showbackground": true,
            "ticks": "",
            "zerolinecolor": "white"
           },
           "zaxis": {
            "backgroundcolor": "#E5ECF6",
            "gridcolor": "white",
            "gridwidth": 2,
            "linecolor": "white",
            "showbackground": true,
            "ticks": "",
            "zerolinecolor": "white"
           }
          },
          "shapedefaults": {
           "line": {
            "color": "#2a3f5f"
           }
          },
          "ternary": {
           "aaxis": {
            "gridcolor": "white",
            "linecolor": "white",
            "ticks": ""
           },
           "baxis": {
            "gridcolor": "white",
            "linecolor": "white",
            "ticks": ""
           },
           "bgcolor": "#E5ECF6",
           "caxis": {
            "gridcolor": "white",
            "linecolor": "white",
            "ticks": ""
           }
          },
          "title": {
           "x": 0.05
          },
          "xaxis": {
           "automargin": true,
           "gridcolor": "white",
           "linecolor": "white",
           "ticks": "",
           "title": {
            "standoff": 15
           },
           "zerolinecolor": "white",
           "zerolinewidth": 2
          },
          "yaxis": {
           "automargin": true,
           "gridcolor": "white",
           "linecolor": "white",
           "ticks": "",
           "title": {
            "standoff": 15
           },
           "zerolinecolor": "white",
           "zerolinewidth": 2
          }
         }
        },
        "title": {
         "text": "Subsets that were significantly different in Targeting going from no light training to light training for first 40 days"
        },
        "xaxis": {
         "anchor": "y",
         "categoryarray": [
          "Total: ",
          "All_BT",
          "male",
          "female",
          "All_GR",
          "All_SS",
          "Chandler",
          "BT1",
          "Ross",
          "BT3",
          "GR3",
          "Total: ",
          "BT4",
          "BT5",
          "BT2",
          "All_BT",
          "GR1",
          "GR4",
          "male",
          "female",
          "GR2",
          "GR5",
          "All_SS",
          "BT1",
          "All_GR",
          "Chandler",
          "BT2",
          "BT4",
          "BT5",
          "BT3",
          "GR3",
          "Ross",
          "GR4",
          "GR5",
          "GR2",
          "GR1"
         ],
         "categoryorder": "array",
         "domain": [
          0,
          1
         ],
         "title": {
          "text": "column"
         }
        },
        "yaxis": {
         "anchor": "x",
         "domain": [
          0,
          1
         ],
         "title": {
          "text": "Mean"
         }
        }
       }
      },
      "text/html": [
       "<div>                            <div id=\"e0f15bf5-43f6-4af3-8a8f-18bfcb49121f\" class=\"plotly-graph-div\" style=\"height:525px; width:100%;\"></div>            <script type=\"text/javascript\">                require([\"plotly\"], function(Plotly) {                    window.PLOTLYENV=window.PLOTLYENV || {};                                    if (document.getElementById(\"e0f15bf5-43f6-4af3-8a8f-18bfcb49121f\")) {                    Plotly.newPlot(                        \"e0f15bf5-43f6-4af3-8a8f-18bfcb49121f\",                        [{\"alignmentgroup\": \"True\", \"error_y\": {\"array\": [0.20171998753392578, 0.34510765051309, 0.44885905349451727, 0.39728556582245017, 0.2791525091783851, 0.24509989174497615, 0.2629481394071571, 0.10580624782449866, 0.10580624782449866, 0.21493092678873513, 0.14168177408062438, 0.13180095933163832, 0.9624431848986648, 0.324038614419171, 0.8690080422460125, 0.4151030440242267, 0.5443642021987705, 0.5397693835665461]}, \"hovertemplate\": \"Variable=First 40 Days Of Light Training<br>column=%{x}<br>Mean=%{y}<extra></extra>\", \"legendgroup\": \"First 40 Days Of Light Training\", \"marker\": {\"color\": \"#636efa\"}, \"name\": \"First 40 Days Of Light Training\", \"offsetgroup\": \"First 40 Days Of Light Training\", \"orientation\": \"v\", \"showlegend\": true, \"textposition\": \"auto\", \"type\": \"bar\", \"x\": [\"Ross\", \"Chandler\", \"BT1\", \"BT2\", \"BT3\", \"BT4\", \"BT5\", \"GR1\", \"GR2\", \"GR3\", \"GR4\", \"GR5\", \"Total: \", \"All_GR\", \"All_BT\", \"All_SS\", \"male\", \"female\"], \"xaxis\": \"x\", \"y\": [0.3333333333333333, 0.7666666666666667, 0.9354838709677419, 0.7419354838709677, 0.5161290322580645, 0.5483870967741935, 0.5161290322580645, 0.09375, 0.09375, 0.34375, 0.1875, 0.15625, 3.951219512195122, 0.875, 3.2580645161290325, 1.1, 1.975609756097561, 1.975609756097561], \"yaxis\": \"y\"}, {\"alignmentgroup\": \"True\", \"error_y\": {\"array\": [1.4544935652126538, 1.7636966038087336, 1.7789620087884472, 0.7611587613691433, 1.1787566155217641, 0.9050079970448421, 1.0785505018519739, 0.7252035300204964, 0.6628384268773315, 1.4114315496247114, 0.8687230970705246, 0.8990672793365504, 6.50143148418897, 2.8633928584876562, 4.094699134947806, 2.967986842756103, 4.356520469918539, 3.0333447705182026]}, \"hovertemplate\": \"Variable=Non-Light Training<br>column=%{x}<br>Mean=%{y}<extra></extra>\", \"legendgroup\": \"Non-Light Training\", \"marker\": {\"color\": \"#EF553B\"}, \"name\": \"Non-Light Training\", \"offsetgroup\": \"Non-Light Training\", \"orientation\": \"v\", \"showlegend\": true, \"textposition\": \"auto\", \"type\": \"bar\", \"x\": [\"Ross\", \"Chandler\", \"BT1\", \"BT2\", \"BT3\", \"BT4\", \"BT5\", \"GR1\", \"GR2\", \"GR3\", \"GR4\", \"GR5\", \"Total: \", \"All_GR\", \"All_BT\", \"All_SS\", \"male\", \"female\"], \"xaxis\": \"x\", \"y\": [5.733333333333333, 6.866666666666666, 6.033333333333333, 3.6, 5.533333333333333, 3.8333333333333335, 3.7666666666666666, 2.4193548387096775, 1.935483870967742, 5.193548387096774, 2.4193548387096775, 1.5161290322580645, 36.975, 13.483870967741936, 22.766666666666666, 12.6, 18.675, 18.3], \"yaxis\": \"y\"}],                        {\"barmode\": \"group\", \"legend\": {\"title\": {\"text\": \"Variable\"}, \"tracegroupgap\": 0}, \"template\": {\"data\": {\"bar\": [{\"error_x\": {\"color\": \"#2a3f5f\"}, \"error_y\": {\"color\": \"#2a3f5f\"}, \"marker\": {\"line\": {\"color\": \"#E5ECF6\", \"width\": 0.5}}, \"type\": \"bar\"}], \"barpolar\": [{\"marker\": {\"line\": {\"color\": \"#E5ECF6\", \"width\": 0.5}}, \"type\": \"barpolar\"}], \"carpet\": [{\"aaxis\": {\"endlinecolor\": \"#2a3f5f\", \"gridcolor\": \"white\", \"linecolor\": \"white\", \"minorgridcolor\": \"white\", \"startlinecolor\": \"#2a3f5f\"}, \"baxis\": {\"endlinecolor\": \"#2a3f5f\", \"gridcolor\": \"white\", \"linecolor\": \"white\", \"minorgridcolor\": \"white\", \"startlinecolor\": \"#2a3f5f\"}, \"type\": \"carpet\"}], \"choropleth\": [{\"colorbar\": {\"outlinewidth\": 0, \"ticks\": \"\"}, \"type\": \"choropleth\"}], \"contour\": [{\"colorbar\": {\"outlinewidth\": 0, \"ticks\": \"\"}, \"colorscale\": [[0.0, \"#0d0887\"], [0.1111111111111111, \"#46039f\"], [0.2222222222222222, \"#7201a8\"], [0.3333333333333333, \"#9c179e\"], [0.4444444444444444, \"#bd3786\"], [0.5555555555555556, \"#d8576b\"], [0.6666666666666666, \"#ed7953\"], [0.7777777777777778, \"#fb9f3a\"], [0.8888888888888888, \"#fdca26\"], [1.0, \"#f0f921\"]], \"type\": \"contour\"}], \"contourcarpet\": [{\"colorbar\": {\"outlinewidth\": 0, \"ticks\": \"\"}, \"type\": \"contourcarpet\"}], \"heatmap\": [{\"colorbar\": {\"outlinewidth\": 0, \"ticks\": \"\"}, \"colorscale\": [[0.0, \"#0d0887\"], [0.1111111111111111, \"#46039f\"], [0.2222222222222222, \"#7201a8\"], [0.3333333333333333, \"#9c179e\"], [0.4444444444444444, \"#bd3786\"], [0.5555555555555556, \"#d8576b\"], [0.6666666666666666, \"#ed7953\"], [0.7777777777777778, \"#fb9f3a\"], [0.8888888888888888, \"#fdca26\"], [1.0, \"#f0f921\"]], \"type\": \"heatmap\"}], \"heatmapgl\": [{\"colorbar\": {\"outlinewidth\": 0, \"ticks\": \"\"}, \"colorscale\": [[0.0, \"#0d0887\"], [0.1111111111111111, \"#46039f\"], [0.2222222222222222, \"#7201a8\"], [0.3333333333333333, \"#9c179e\"], [0.4444444444444444, \"#bd3786\"], [0.5555555555555556, \"#d8576b\"], [0.6666666666666666, \"#ed7953\"], [0.7777777777777778, \"#fb9f3a\"], [0.8888888888888888, \"#fdca26\"], [1.0, \"#f0f921\"]], \"type\": \"heatmapgl\"}], \"histogram\": [{\"marker\": {\"colorbar\": {\"outlinewidth\": 0, \"ticks\": \"\"}}, \"type\": \"histogram\"}], \"histogram2d\": [{\"colorbar\": {\"outlinewidth\": 0, \"ticks\": \"\"}, \"colorscale\": [[0.0, \"#0d0887\"], [0.1111111111111111, \"#46039f\"], [0.2222222222222222, \"#7201a8\"], [0.3333333333333333, \"#9c179e\"], [0.4444444444444444, \"#bd3786\"], [0.5555555555555556, \"#d8576b\"], [0.6666666666666666, \"#ed7953\"], [0.7777777777777778, \"#fb9f3a\"], [0.8888888888888888, \"#fdca26\"], [1.0, \"#f0f921\"]], \"type\": \"histogram2d\"}], \"histogram2dcontour\": [{\"colorbar\": {\"outlinewidth\": 0, \"ticks\": \"\"}, \"colorscale\": [[0.0, \"#0d0887\"], [0.1111111111111111, \"#46039f\"], [0.2222222222222222, \"#7201a8\"], [0.3333333333333333, \"#9c179e\"], [0.4444444444444444, \"#bd3786\"], [0.5555555555555556, \"#d8576b\"], [0.6666666666666666, \"#ed7953\"], [0.7777777777777778, \"#fb9f3a\"], [0.8888888888888888, \"#fdca26\"], [1.0, \"#f0f921\"]], \"type\": \"histogram2dcontour\"}], \"mesh3d\": [{\"colorbar\": {\"outlinewidth\": 0, \"ticks\": \"\"}, \"type\": \"mesh3d\"}], \"parcoords\": [{\"line\": {\"colorbar\": {\"outlinewidth\": 0, \"ticks\": \"\"}}, \"type\": \"parcoords\"}], \"pie\": [{\"automargin\": true, \"type\": \"pie\"}], \"scatter\": [{\"marker\": {\"colorbar\": {\"outlinewidth\": 0, \"ticks\": \"\"}}, \"type\": \"scatter\"}], \"scatter3d\": [{\"line\": {\"colorbar\": {\"outlinewidth\": 0, \"ticks\": \"\"}}, \"marker\": {\"colorbar\": {\"outlinewidth\": 0, \"ticks\": \"\"}}, \"type\": \"scatter3d\"}], \"scattercarpet\": [{\"marker\": {\"colorbar\": {\"outlinewidth\": 0, \"ticks\": \"\"}}, \"type\": \"scattercarpet\"}], \"scattergeo\": [{\"marker\": {\"colorbar\": {\"outlinewidth\": 0, \"ticks\": \"\"}}, \"type\": \"scattergeo\"}], \"scattergl\": [{\"marker\": {\"colorbar\": {\"outlinewidth\": 0, \"ticks\": \"\"}}, \"type\": \"scattergl\"}], \"scattermapbox\": [{\"marker\": {\"colorbar\": {\"outlinewidth\": 0, \"ticks\": \"\"}}, \"type\": \"scattermapbox\"}], \"scatterpolar\": [{\"marker\": {\"colorbar\": {\"outlinewidth\": 0, \"ticks\": \"\"}}, \"type\": \"scatterpolar\"}], \"scatterpolargl\": [{\"marker\": {\"colorbar\": {\"outlinewidth\": 0, \"ticks\": \"\"}}, \"type\": \"scatterpolargl\"}], \"scatterternary\": [{\"marker\": {\"colorbar\": {\"outlinewidth\": 0, \"ticks\": \"\"}}, \"type\": \"scatterternary\"}], \"surface\": [{\"colorbar\": {\"outlinewidth\": 0, \"ticks\": \"\"}, \"colorscale\": [[0.0, \"#0d0887\"], [0.1111111111111111, \"#46039f\"], [0.2222222222222222, \"#7201a8\"], [0.3333333333333333, \"#9c179e\"], [0.4444444444444444, \"#bd3786\"], [0.5555555555555556, \"#d8576b\"], [0.6666666666666666, \"#ed7953\"], [0.7777777777777778, \"#fb9f3a\"], [0.8888888888888888, \"#fdca26\"], [1.0, \"#f0f921\"]], \"type\": \"surface\"}], \"table\": [{\"cells\": {\"fill\": {\"color\": \"#EBF0F8\"}, \"line\": {\"color\": \"white\"}}, \"header\": {\"fill\": {\"color\": \"#C8D4E3\"}, \"line\": {\"color\": \"white\"}}, \"type\": \"table\"}]}, \"layout\": {\"annotationdefaults\": {\"arrowcolor\": \"#2a3f5f\", \"arrowhead\": 0, \"arrowwidth\": 1}, \"coloraxis\": {\"colorbar\": {\"outlinewidth\": 0, \"ticks\": \"\"}}, \"colorscale\": {\"diverging\": [[0, \"#8e0152\"], [0.1, \"#c51b7d\"], [0.2, \"#de77ae\"], [0.3, \"#f1b6da\"], [0.4, \"#fde0ef\"], [0.5, \"#f7f7f7\"], [0.6, \"#e6f5d0\"], [0.7, \"#b8e186\"], [0.8, \"#7fbc41\"], [0.9, \"#4d9221\"], [1, \"#276419\"]], \"sequential\": [[0.0, \"#0d0887\"], [0.1111111111111111, \"#46039f\"], [0.2222222222222222, \"#7201a8\"], [0.3333333333333333, \"#9c179e\"], [0.4444444444444444, \"#bd3786\"], [0.5555555555555556, \"#d8576b\"], [0.6666666666666666, \"#ed7953\"], [0.7777777777777778, \"#fb9f3a\"], [0.8888888888888888, \"#fdca26\"], [1.0, \"#f0f921\"]], \"sequentialminus\": [[0.0, \"#0d0887\"], [0.1111111111111111, \"#46039f\"], [0.2222222222222222, \"#7201a8\"], [0.3333333333333333, \"#9c179e\"], [0.4444444444444444, \"#bd3786\"], [0.5555555555555556, \"#d8576b\"], [0.6666666666666666, \"#ed7953\"], [0.7777777777777778, \"#fb9f3a\"], [0.8888888888888888, \"#fdca26\"], [1.0, \"#f0f921\"]]}, \"colorway\": [\"#636efa\", \"#EF553B\", \"#00cc96\", \"#ab63fa\", \"#FFA15A\", \"#19d3f3\", \"#FF6692\", \"#B6E880\", \"#FF97FF\", \"#FECB52\"], \"font\": {\"color\": \"#2a3f5f\"}, \"geo\": {\"bgcolor\": \"white\", \"lakecolor\": \"white\", \"landcolor\": \"#E5ECF6\", \"showlakes\": true, \"showland\": true, \"subunitcolor\": \"white\"}, \"hoverlabel\": {\"align\": \"left\"}, \"hovermode\": \"closest\", \"mapbox\": {\"style\": \"light\"}, \"paper_bgcolor\": \"white\", \"plot_bgcolor\": \"#E5ECF6\", \"polar\": {\"angularaxis\": {\"gridcolor\": \"white\", \"linecolor\": \"white\", \"ticks\": \"\"}, \"bgcolor\": \"#E5ECF6\", \"radialaxis\": {\"gridcolor\": \"white\", \"linecolor\": \"white\", \"ticks\": \"\"}}, \"scene\": {\"xaxis\": {\"backgroundcolor\": \"#E5ECF6\", \"gridcolor\": \"white\", \"gridwidth\": 2, \"linecolor\": \"white\", \"showbackground\": true, \"ticks\": \"\", \"zerolinecolor\": \"white\"}, \"yaxis\": {\"backgroundcolor\": \"#E5ECF6\", \"gridcolor\": \"white\", \"gridwidth\": 2, \"linecolor\": \"white\", \"showbackground\": true, \"ticks\": \"\", \"zerolinecolor\": \"white\"}, \"zaxis\": {\"backgroundcolor\": \"#E5ECF6\", \"gridcolor\": \"white\", \"gridwidth\": 2, \"linecolor\": \"white\", \"showbackground\": true, \"ticks\": \"\", \"zerolinecolor\": \"white\"}}, \"shapedefaults\": {\"line\": {\"color\": \"#2a3f5f\"}}, \"ternary\": {\"aaxis\": {\"gridcolor\": \"white\", \"linecolor\": \"white\", \"ticks\": \"\"}, \"baxis\": {\"gridcolor\": \"white\", \"linecolor\": \"white\", \"ticks\": \"\"}, \"bgcolor\": \"#E5ECF6\", \"caxis\": {\"gridcolor\": \"white\", \"linecolor\": \"white\", \"ticks\": \"\"}}, \"title\": {\"x\": 0.05}, \"xaxis\": {\"automargin\": true, \"gridcolor\": \"white\", \"linecolor\": \"white\", \"ticks\": \"\", \"title\": {\"standoff\": 15}, \"zerolinecolor\": \"white\", \"zerolinewidth\": 2}, \"yaxis\": {\"automargin\": true, \"gridcolor\": \"white\", \"linecolor\": \"white\", \"ticks\": \"\", \"title\": {\"standoff\": 15}, \"zerolinecolor\": \"white\", \"zerolinewidth\": 2}}}, \"title\": {\"text\": \"Subsets that were significantly different in Targeting going from no light training to light training for first 40 days\"}, \"xaxis\": {\"anchor\": \"y\", \"categoryarray\": [\"Total: \", \"All_BT\", \"male\", \"female\", \"All_GR\", \"All_SS\", \"Chandler\", \"BT1\", \"Ross\", \"BT3\", \"GR3\", \"Total: \", \"BT4\", \"BT5\", \"BT2\", \"All_BT\", \"GR1\", \"GR4\", \"male\", \"female\", \"GR2\", \"GR5\", \"All_SS\", \"BT1\", \"All_GR\", \"Chandler\", \"BT2\", \"BT4\", \"BT5\", \"BT3\", \"GR3\", \"Ross\", \"GR4\", \"GR5\", \"GR2\", \"GR1\"], \"categoryorder\": \"array\", \"domain\": [0.0, 1.0], \"title\": {\"text\": \"column\"}}, \"yaxis\": {\"anchor\": \"x\", \"domain\": [0.0, 1.0], \"title\": {\"text\": \"Mean\"}}},                        {\"responsive\": true}                    ).then(function(){\n",
       "                            \n",
       "var gd = document.getElementById('e0f15bf5-43f6-4af3-8a8f-18bfcb49121f');\n",
       "var x = new MutationObserver(function (mutations, observer) {{\n",
       "        var display = window.getComputedStyle(gd).display;\n",
       "        if (!display || display === 'none') {{\n",
       "            console.log([gd, 'removed!']);\n",
       "            Plotly.purge(gd);\n",
       "            observer.disconnect();\n",
       "        }}\n",
       "}});\n",
       "\n",
       "// Listen for the removal of the full notebook cells\n",
       "var notebookContainer = gd.closest('#notebook-container');\n",
       "if (notebookContainer) {{\n",
       "    x.observe(notebookContainer, {childList: true});\n",
       "}}\n",
       "\n",
       "// Listen for the clearing of the current output cell\n",
       "var outputEl = gd.closest('.output');\n",
       "if (outputEl) {{\n",
       "    x.observe(outputEl, {childList: true});\n",
       "}}\n",
       "\n",
       "                        })                };                });            </script>        </div>"
      ]
     },
     "metadata": {},
     "output_type": "display_data"
    }
   ],
   "source": [
    "test = pd.DataFrame()\n",
    "for column in light_targets.iloc[:,1:]:\n",
    "    x = st.t.interval(alpha=0.95, df=len(first_40_targets[column])-1, loc=np.mean(first_40_targets[column]), scale=st.sem(first_40_targets[column],nan_policy='omit'))\n",
    "    y = st.t.interval(alpha=0.95, df=len(no_light_targets[column])-1, loc=np.mean(no_light_targets[column]), scale=st.sem(no_light_targets[column],nan_policy='omit'))\n",
    "    if overlap(x[0],x[1],y[0],y[1])==False:\n",
    "        light_mean = first_40_targets[column].mean()\n",
    "        no_light_mean = no_light_targets[column].mean()\n",
    "        light_int = st.t.interval(alpha=0.95, df=len(first_40_targets[column])-1, loc=np.mean(first_40_targets[column]), scale=st.sem(first_40_targets[column],nan_policy='omit'))\n",
    "        no_light_int = st.t.interval(alpha=0.95, df=len(no_light_targets[column])-1, loc=np.mean(no_light_targets[column]), scale=st.sem(no_light_targets[column],nan_policy='omit'))\n",
    "        light_error = (light_int[1] - light_int[0])/2\n",
    "        no_light_error = (no_light_int[1] - no_light_int[0])/2\n",
    "        pd.Series()\n",
    "        data = {'Variable':['First 40 Days Of Light Training','Non-Light Training'], 'Mean':[light_mean,no_light_mean],'error':[light_error,no_light_error],'column':[column,column]} \n",
    "        data = pd.DataFrame(data)\n",
    "        test = pd.concat([test, data])\n",
    "    else:\n",
    "        print(column,\"Has Confidence Intervals that overlap\")\n",
    "        print(\"Here are the confidence intervals:\")\n",
    "        print(\"Light Training:\",x)\n",
    "        print(\"Non-Light Training:\",y)\n",
    "test\n",
    "\n",
    "px.bar(test, x = \"column\", y = \"Mean\", color = \"Variable\", error_y = \"error\", barmode = \"group\", category_orders = {\"column\":test.sort_values(by = \"Mean\", ascending = False)[\"column\"]},\n",
    "       title = \"Subsets that were significantly different in Targeting going from no light training to light training for first 40 days\")\n",
    "  "
   ]
  },
  {
   "cell_type": "markdown",
   "metadata": {},
   "source": [
    "## Light Training of 40 most recent days vs. non-light training"
   ]
  },
  {
   "cell_type": "code",
   "execution_count": 235,
   "metadata": {},
   "outputs": [
    {
     "name": "stderr",
     "output_type": "stream",
     "text": [
      "<ipython-input-235-2d65b1e6708d>:13: DeprecationWarning:\n",
      "\n",
      "The default dtype for empty Series will be 'object' instead of 'float64' in a future version. Specify a dtype explicitly to silence this warning.\n",
      "\n"
     ]
    },
    {
     "name": "stdout",
     "output_type": "stream",
     "text": [
      "BT2 Has Confidence Intervals that overlap\n",
      "Here are the confidence intervals:\n",
      "Light Training: (2.3589882272303697, 4.24101177276963)\n",
      "Non-Light Training: (1.147497719584826, 2.4008893771893676)\n"
     ]
    },
    {
     "data": {
      "application/vnd.plotly.v1+json": {
       "config": {
        "plotlyServerURL": "https://plot.ly"
       },
       "data": [
        {
         "alignmentgroup": "True",
         "error_y": {
          "array": [
           1.476156118999051,
           0.679441263983183,
           0.9634003505117503,
           0.6179422807015755,
           0.5786419206580774,
           2.3506984189889213,
           2.126108709965232,
           2.339491716732688,
           1.127438651973831,
           1.4266371299041878,
           3.8123403745175786
          ]
         },
         "hovertemplate": "Variable=Most Recent 40 Days Of Light Training<br>column=%{x}<br>Mean=%{y}<extra></extra>",
         "legendgroup": "Most Recent 40 Days Of Light Training",
         "marker": {
          "color": "#636efa"
         },
         "name": "Most Recent 40 Days Of Light Training",
         "offsetgroup": "Most Recent 40 Days Of Light Training",
         "orientation": "v",
         "showlegend": true,
         "textposition": "auto",
         "type": "bar",
         "x": [
          "Chandler",
          "BT4",
          "BT5",
          "GR1",
          "GR5",
          "male",
          "female",
          "All_BT",
          "All_GR",
          "All_SS",
          "Total: "
         ],
         "xaxis": "x",
         "y": [
          4.566666666666666,
          3.1666666666666665,
          4.433333333333334,
          2.4,
          2.4,
          13.225,
          13.6,
          16.266666666666666,
          10.7,
          8.8,
          26.825
         ],
         "yaxis": "y"
        },
        {
         "alignmentgroup": "True",
         "error_y": {
          "array": [
           0.6689077904055756,
           0.5894139686304797,
           0.6506476917057009,
           0.5927697483138858,
           0.3969287758395459,
           1.3903327330056428,
           1.7651982033628535,
           1.9346683683349912,
           1.5070475396922358,
           1.1912621662299445,
           2.340321979944381
          ]
         },
         "hovertemplate": "Variable=Non-Light Training<br>column=%{x}<br>Mean=%{y}<extra></extra>",
         "legendgroup": "Non-Light Training",
         "marker": {
          "color": "#EF553B"
         },
         "name": "Non-Light Training",
         "offsetgroup": "Non-Light Training",
         "orientation": "v",
         "showlegend": true,
         "textposition": "auto",
         "type": "bar",
         "x": [
          "Chandler",
          "BT4",
          "BT5",
          "GR1",
          "GR5",
          "male",
          "female",
          "All_BT",
          "All_GR",
          "All_SS",
          "Total: "
         ],
         "xaxis": "x",
         "y": [
          2.064516129032258,
          1.6451612903225807,
          2.1666666666666665,
          1,
          1.064516129032258,
          7.560975609756097,
          8.21951219512195,
          9.4,
          6.354838709677419,
          5.354838709677419,
          15.78048780487805
         ],
         "yaxis": "y"
        }
       ],
       "layout": {
        "barmode": "group",
        "legend": {
         "title": {
          "text": "Variable"
         },
         "tracegroupgap": 0
        },
        "template": {
         "data": {
          "bar": [
           {
            "error_x": {
             "color": "#2a3f5f"
            },
            "error_y": {
             "color": "#2a3f5f"
            },
            "marker": {
             "line": {
              "color": "#E5ECF6",
              "width": 0.5
             }
            },
            "type": "bar"
           }
          ],
          "barpolar": [
           {
            "marker": {
             "line": {
              "color": "#E5ECF6",
              "width": 0.5
             }
            },
            "type": "barpolar"
           }
          ],
          "carpet": [
           {
            "aaxis": {
             "endlinecolor": "#2a3f5f",
             "gridcolor": "white",
             "linecolor": "white",
             "minorgridcolor": "white",
             "startlinecolor": "#2a3f5f"
            },
            "baxis": {
             "endlinecolor": "#2a3f5f",
             "gridcolor": "white",
             "linecolor": "white",
             "minorgridcolor": "white",
             "startlinecolor": "#2a3f5f"
            },
            "type": "carpet"
           }
          ],
          "choropleth": [
           {
            "colorbar": {
             "outlinewidth": 0,
             "ticks": ""
            },
            "type": "choropleth"
           }
          ],
          "contour": [
           {
            "colorbar": {
             "outlinewidth": 0,
             "ticks": ""
            },
            "colorscale": [
             [
              0,
              "#0d0887"
             ],
             [
              0.1111111111111111,
              "#46039f"
             ],
             [
              0.2222222222222222,
              "#7201a8"
             ],
             [
              0.3333333333333333,
              "#9c179e"
             ],
             [
              0.4444444444444444,
              "#bd3786"
             ],
             [
              0.5555555555555556,
              "#d8576b"
             ],
             [
              0.6666666666666666,
              "#ed7953"
             ],
             [
              0.7777777777777778,
              "#fb9f3a"
             ],
             [
              0.8888888888888888,
              "#fdca26"
             ],
             [
              1,
              "#f0f921"
             ]
            ],
            "type": "contour"
           }
          ],
          "contourcarpet": [
           {
            "colorbar": {
             "outlinewidth": 0,
             "ticks": ""
            },
            "type": "contourcarpet"
           }
          ],
          "heatmap": [
           {
            "colorbar": {
             "outlinewidth": 0,
             "ticks": ""
            },
            "colorscale": [
             [
              0,
              "#0d0887"
             ],
             [
              0.1111111111111111,
              "#46039f"
             ],
             [
              0.2222222222222222,
              "#7201a8"
             ],
             [
              0.3333333333333333,
              "#9c179e"
             ],
             [
              0.4444444444444444,
              "#bd3786"
             ],
             [
              0.5555555555555556,
              "#d8576b"
             ],
             [
              0.6666666666666666,
              "#ed7953"
             ],
             [
              0.7777777777777778,
              "#fb9f3a"
             ],
             [
              0.8888888888888888,
              "#fdca26"
             ],
             [
              1,
              "#f0f921"
             ]
            ],
            "type": "heatmap"
           }
          ],
          "heatmapgl": [
           {
            "colorbar": {
             "outlinewidth": 0,
             "ticks": ""
            },
            "colorscale": [
             [
              0,
              "#0d0887"
             ],
             [
              0.1111111111111111,
              "#46039f"
             ],
             [
              0.2222222222222222,
              "#7201a8"
             ],
             [
              0.3333333333333333,
              "#9c179e"
             ],
             [
              0.4444444444444444,
              "#bd3786"
             ],
             [
              0.5555555555555556,
              "#d8576b"
             ],
             [
              0.6666666666666666,
              "#ed7953"
             ],
             [
              0.7777777777777778,
              "#fb9f3a"
             ],
             [
              0.8888888888888888,
              "#fdca26"
             ],
             [
              1,
              "#f0f921"
             ]
            ],
            "type": "heatmapgl"
           }
          ],
          "histogram": [
           {
            "marker": {
             "colorbar": {
              "outlinewidth": 0,
              "ticks": ""
             }
            },
            "type": "histogram"
           }
          ],
          "histogram2d": [
           {
            "colorbar": {
             "outlinewidth": 0,
             "ticks": ""
            },
            "colorscale": [
             [
              0,
              "#0d0887"
             ],
             [
              0.1111111111111111,
              "#46039f"
             ],
             [
              0.2222222222222222,
              "#7201a8"
             ],
             [
              0.3333333333333333,
              "#9c179e"
             ],
             [
              0.4444444444444444,
              "#bd3786"
             ],
             [
              0.5555555555555556,
              "#d8576b"
             ],
             [
              0.6666666666666666,
              "#ed7953"
             ],
             [
              0.7777777777777778,
              "#fb9f3a"
             ],
             [
              0.8888888888888888,
              "#fdca26"
             ],
             [
              1,
              "#f0f921"
             ]
            ],
            "type": "histogram2d"
           }
          ],
          "histogram2dcontour": [
           {
            "colorbar": {
             "outlinewidth": 0,
             "ticks": ""
            },
            "colorscale": [
             [
              0,
              "#0d0887"
             ],
             [
              0.1111111111111111,
              "#46039f"
             ],
             [
              0.2222222222222222,
              "#7201a8"
             ],
             [
              0.3333333333333333,
              "#9c179e"
             ],
             [
              0.4444444444444444,
              "#bd3786"
             ],
             [
              0.5555555555555556,
              "#d8576b"
             ],
             [
              0.6666666666666666,
              "#ed7953"
             ],
             [
              0.7777777777777778,
              "#fb9f3a"
             ],
             [
              0.8888888888888888,
              "#fdca26"
             ],
             [
              1,
              "#f0f921"
             ]
            ],
            "type": "histogram2dcontour"
           }
          ],
          "mesh3d": [
           {
            "colorbar": {
             "outlinewidth": 0,
             "ticks": ""
            },
            "type": "mesh3d"
           }
          ],
          "parcoords": [
           {
            "line": {
             "colorbar": {
              "outlinewidth": 0,
              "ticks": ""
             }
            },
            "type": "parcoords"
           }
          ],
          "pie": [
           {
            "automargin": true,
            "type": "pie"
           }
          ],
          "scatter": [
           {
            "marker": {
             "colorbar": {
              "outlinewidth": 0,
              "ticks": ""
             }
            },
            "type": "scatter"
           }
          ],
          "scatter3d": [
           {
            "line": {
             "colorbar": {
              "outlinewidth": 0,
              "ticks": ""
             }
            },
            "marker": {
             "colorbar": {
              "outlinewidth": 0,
              "ticks": ""
             }
            },
            "type": "scatter3d"
           }
          ],
          "scattercarpet": [
           {
            "marker": {
             "colorbar": {
              "outlinewidth": 0,
              "ticks": ""
             }
            },
            "type": "scattercarpet"
           }
          ],
          "scattergeo": [
           {
            "marker": {
             "colorbar": {
              "outlinewidth": 0,
              "ticks": ""
             }
            },
            "type": "scattergeo"
           }
          ],
          "scattergl": [
           {
            "marker": {
             "colorbar": {
              "outlinewidth": 0,
              "ticks": ""
             }
            },
            "type": "scattergl"
           }
          ],
          "scattermapbox": [
           {
            "marker": {
             "colorbar": {
              "outlinewidth": 0,
              "ticks": ""
             }
            },
            "type": "scattermapbox"
           }
          ],
          "scatterpolar": [
           {
            "marker": {
             "colorbar": {
              "outlinewidth": 0,
              "ticks": ""
             }
            },
            "type": "scatterpolar"
           }
          ],
          "scatterpolargl": [
           {
            "marker": {
             "colorbar": {
              "outlinewidth": 0,
              "ticks": ""
             }
            },
            "type": "scatterpolargl"
           }
          ],
          "scatterternary": [
           {
            "marker": {
             "colorbar": {
              "outlinewidth": 0,
              "ticks": ""
             }
            },
            "type": "scatterternary"
           }
          ],
          "surface": [
           {
            "colorbar": {
             "outlinewidth": 0,
             "ticks": ""
            },
            "colorscale": [
             [
              0,
              "#0d0887"
             ],
             [
              0.1111111111111111,
              "#46039f"
             ],
             [
              0.2222222222222222,
              "#7201a8"
             ],
             [
              0.3333333333333333,
              "#9c179e"
             ],
             [
              0.4444444444444444,
              "#bd3786"
             ],
             [
              0.5555555555555556,
              "#d8576b"
             ],
             [
              0.6666666666666666,
              "#ed7953"
             ],
             [
              0.7777777777777778,
              "#fb9f3a"
             ],
             [
              0.8888888888888888,
              "#fdca26"
             ],
             [
              1,
              "#f0f921"
             ]
            ],
            "type": "surface"
           }
          ],
          "table": [
           {
            "cells": {
             "fill": {
              "color": "#EBF0F8"
             },
             "line": {
              "color": "white"
             }
            },
            "header": {
             "fill": {
              "color": "#C8D4E3"
             },
             "line": {
              "color": "white"
             }
            },
            "type": "table"
           }
          ]
         },
         "layout": {
          "annotationdefaults": {
           "arrowcolor": "#2a3f5f",
           "arrowhead": 0,
           "arrowwidth": 1
          },
          "coloraxis": {
           "colorbar": {
            "outlinewidth": 0,
            "ticks": ""
           }
          },
          "colorscale": {
           "diverging": [
            [
             0,
             "#8e0152"
            ],
            [
             0.1,
             "#c51b7d"
            ],
            [
             0.2,
             "#de77ae"
            ],
            [
             0.3,
             "#f1b6da"
            ],
            [
             0.4,
             "#fde0ef"
            ],
            [
             0.5,
             "#f7f7f7"
            ],
            [
             0.6,
             "#e6f5d0"
            ],
            [
             0.7,
             "#b8e186"
            ],
            [
             0.8,
             "#7fbc41"
            ],
            [
             0.9,
             "#4d9221"
            ],
            [
             1,
             "#276419"
            ]
           ],
           "sequential": [
            [
             0,
             "#0d0887"
            ],
            [
             0.1111111111111111,
             "#46039f"
            ],
            [
             0.2222222222222222,
             "#7201a8"
            ],
            [
             0.3333333333333333,
             "#9c179e"
            ],
            [
             0.4444444444444444,
             "#bd3786"
            ],
            [
             0.5555555555555556,
             "#d8576b"
            ],
            [
             0.6666666666666666,
             "#ed7953"
            ],
            [
             0.7777777777777778,
             "#fb9f3a"
            ],
            [
             0.8888888888888888,
             "#fdca26"
            ],
            [
             1,
             "#f0f921"
            ]
           ],
           "sequentialminus": [
            [
             0,
             "#0d0887"
            ],
            [
             0.1111111111111111,
             "#46039f"
            ],
            [
             0.2222222222222222,
             "#7201a8"
            ],
            [
             0.3333333333333333,
             "#9c179e"
            ],
            [
             0.4444444444444444,
             "#bd3786"
            ],
            [
             0.5555555555555556,
             "#d8576b"
            ],
            [
             0.6666666666666666,
             "#ed7953"
            ],
            [
             0.7777777777777778,
             "#fb9f3a"
            ],
            [
             0.8888888888888888,
             "#fdca26"
            ],
            [
             1,
             "#f0f921"
            ]
           ]
          },
          "colorway": [
           "#636efa",
           "#EF553B",
           "#00cc96",
           "#ab63fa",
           "#FFA15A",
           "#19d3f3",
           "#FF6692",
           "#B6E880",
           "#FF97FF",
           "#FECB52"
          ],
          "font": {
           "color": "#2a3f5f"
          },
          "geo": {
           "bgcolor": "white",
           "lakecolor": "white",
           "landcolor": "#E5ECF6",
           "showlakes": true,
           "showland": true,
           "subunitcolor": "white"
          },
          "hoverlabel": {
           "align": "left"
          },
          "hovermode": "closest",
          "mapbox": {
           "style": "light"
          },
          "paper_bgcolor": "white",
          "plot_bgcolor": "#E5ECF6",
          "polar": {
           "angularaxis": {
            "gridcolor": "white",
            "linecolor": "white",
            "ticks": ""
           },
           "bgcolor": "#E5ECF6",
           "radialaxis": {
            "gridcolor": "white",
            "linecolor": "white",
            "ticks": ""
           }
          },
          "scene": {
           "xaxis": {
            "backgroundcolor": "#E5ECF6",
            "gridcolor": "white",
            "gridwidth": 2,
            "linecolor": "white",
            "showbackground": true,
            "ticks": "",
            "zerolinecolor": "white"
           },
           "yaxis": {
            "backgroundcolor": "#E5ECF6",
            "gridcolor": "white",
            "gridwidth": 2,
            "linecolor": "white",
            "showbackground": true,
            "ticks": "",
            "zerolinecolor": "white"
           },
           "zaxis": {
            "backgroundcolor": "#E5ECF6",
            "gridcolor": "white",
            "gridwidth": 2,
            "linecolor": "white",
            "showbackground": true,
            "ticks": "",
            "zerolinecolor": "white"
           }
          },
          "shapedefaults": {
           "line": {
            "color": "#2a3f5f"
           }
          },
          "ternary": {
           "aaxis": {
            "gridcolor": "white",
            "linecolor": "white",
            "ticks": ""
           },
           "baxis": {
            "gridcolor": "white",
            "linecolor": "white",
            "ticks": ""
           },
           "bgcolor": "#E5ECF6",
           "caxis": {
            "gridcolor": "white",
            "linecolor": "white",
            "ticks": ""
           }
          },
          "title": {
           "x": 0.05
          },
          "xaxis": {
           "automargin": true,
           "gridcolor": "white",
           "linecolor": "white",
           "ticks": "",
           "title": {
            "standoff": 15
           },
           "zerolinecolor": "white",
           "zerolinewidth": 2
          },
          "yaxis": {
           "automargin": true,
           "gridcolor": "white",
           "linecolor": "white",
           "ticks": "",
           "title": {
            "standoff": 15
           },
           "zerolinecolor": "white",
           "zerolinewidth": 2
          }
         }
        },
        "title": {
         "text": "Subsets that were significantly different in Eating going from no light training to light training for most recent 40 days"
        },
        "xaxis": {
         "anchor": "y",
         "categoryarray": [
          "Total: ",
          "All_BT",
          "Total: ",
          "female",
          "male",
          "All_GR",
          "All_BT",
          "All_SS",
          "female",
          "male",
          "All_GR",
          "All_SS",
          "Chandler",
          "BT5",
          "BT4",
          "GR5",
          "GR1",
          "BT5",
          "Chandler",
          "BT4",
          "GR5",
          "GR1"
         ],
         "categoryorder": "array",
         "domain": [
          0,
          1
         ],
         "title": {
          "text": "column"
         }
        },
        "yaxis": {
         "anchor": "x",
         "domain": [
          0,
          1
         ],
         "title": {
          "text": "Mean"
         }
        }
       }
      },
      "text/html": [
       "<div>                            <div id=\"75018e5a-8f47-4298-8f57-fbfd75272f9d\" class=\"plotly-graph-div\" style=\"height:525px; width:100%;\"></div>            <script type=\"text/javascript\">                require([\"plotly\"], function(Plotly) {                    window.PLOTLYENV=window.PLOTLYENV || {};                                    if (document.getElementById(\"75018e5a-8f47-4298-8f57-fbfd75272f9d\")) {                    Plotly.newPlot(                        \"75018e5a-8f47-4298-8f57-fbfd75272f9d\",                        [{\"alignmentgroup\": \"True\", \"error_y\": {\"array\": [1.476156118999051, 0.679441263983183, 0.9634003505117503, 0.6179422807015755, 0.5786419206580774, 2.3506984189889213, 2.126108709965232, 2.339491716732688, 1.127438651973831, 1.4266371299041878, 3.8123403745175786]}, \"hovertemplate\": \"Variable=Most Recent 40 Days Of Light Training<br>column=%{x}<br>Mean=%{y}<extra></extra>\", \"legendgroup\": \"Most Recent 40 Days Of Light Training\", \"marker\": {\"color\": \"#636efa\"}, \"name\": \"Most Recent 40 Days Of Light Training\", \"offsetgroup\": \"Most Recent 40 Days Of Light Training\", \"orientation\": \"v\", \"showlegend\": true, \"textposition\": \"auto\", \"type\": \"bar\", \"x\": [\"Chandler\", \"BT4\", \"BT5\", \"GR1\", \"GR5\", \"male\", \"female\", \"All_BT\", \"All_GR\", \"All_SS\", \"Total: \"], \"xaxis\": \"x\", \"y\": [4.566666666666666, 3.1666666666666665, 4.433333333333334, 2.4, 2.4, 13.225, 13.6, 16.266666666666666, 10.7, 8.8, 26.825], \"yaxis\": \"y\"}, {\"alignmentgroup\": \"True\", \"error_y\": {\"array\": [0.6689077904055756, 0.5894139686304797, 0.6506476917057009, 0.5927697483138858, 0.3969287758395459, 1.3903327330056428, 1.7651982033628535, 1.9346683683349912, 1.5070475396922358, 1.1912621662299445, 2.340321979944381]}, \"hovertemplate\": \"Variable=Non-Light Training<br>column=%{x}<br>Mean=%{y}<extra></extra>\", \"legendgroup\": \"Non-Light Training\", \"marker\": {\"color\": \"#EF553B\"}, \"name\": \"Non-Light Training\", \"offsetgroup\": \"Non-Light Training\", \"orientation\": \"v\", \"showlegend\": true, \"textposition\": \"auto\", \"type\": \"bar\", \"x\": [\"Chandler\", \"BT4\", \"BT5\", \"GR1\", \"GR5\", \"male\", \"female\", \"All_BT\", \"All_GR\", \"All_SS\", \"Total: \"], \"xaxis\": \"x\", \"y\": [2.064516129032258, 1.6451612903225807, 2.1666666666666665, 1.0, 1.064516129032258, 7.560975609756097, 8.21951219512195, 9.4, 6.354838709677419, 5.354838709677419, 15.78048780487805], \"yaxis\": \"y\"}],                        {\"barmode\": \"group\", \"legend\": {\"title\": {\"text\": \"Variable\"}, \"tracegroupgap\": 0}, \"template\": {\"data\": {\"bar\": [{\"error_x\": {\"color\": \"#2a3f5f\"}, \"error_y\": {\"color\": \"#2a3f5f\"}, \"marker\": {\"line\": {\"color\": \"#E5ECF6\", \"width\": 0.5}}, \"type\": \"bar\"}], \"barpolar\": [{\"marker\": {\"line\": {\"color\": \"#E5ECF6\", \"width\": 0.5}}, \"type\": \"barpolar\"}], \"carpet\": [{\"aaxis\": {\"endlinecolor\": \"#2a3f5f\", \"gridcolor\": \"white\", \"linecolor\": \"white\", \"minorgridcolor\": \"white\", \"startlinecolor\": \"#2a3f5f\"}, \"baxis\": {\"endlinecolor\": \"#2a3f5f\", \"gridcolor\": \"white\", \"linecolor\": \"white\", \"minorgridcolor\": \"white\", \"startlinecolor\": \"#2a3f5f\"}, \"type\": \"carpet\"}], \"choropleth\": [{\"colorbar\": {\"outlinewidth\": 0, \"ticks\": \"\"}, \"type\": \"choropleth\"}], \"contour\": [{\"colorbar\": {\"outlinewidth\": 0, \"ticks\": \"\"}, \"colorscale\": [[0.0, \"#0d0887\"], [0.1111111111111111, \"#46039f\"], [0.2222222222222222, \"#7201a8\"], [0.3333333333333333, \"#9c179e\"], [0.4444444444444444, \"#bd3786\"], [0.5555555555555556, \"#d8576b\"], [0.6666666666666666, \"#ed7953\"], [0.7777777777777778, \"#fb9f3a\"], [0.8888888888888888, \"#fdca26\"], [1.0, \"#f0f921\"]], \"type\": \"contour\"}], \"contourcarpet\": [{\"colorbar\": {\"outlinewidth\": 0, \"ticks\": \"\"}, \"type\": \"contourcarpet\"}], \"heatmap\": [{\"colorbar\": {\"outlinewidth\": 0, \"ticks\": \"\"}, \"colorscale\": [[0.0, \"#0d0887\"], [0.1111111111111111, \"#46039f\"], [0.2222222222222222, \"#7201a8\"], [0.3333333333333333, \"#9c179e\"], [0.4444444444444444, \"#bd3786\"], [0.5555555555555556, \"#d8576b\"], [0.6666666666666666, \"#ed7953\"], [0.7777777777777778, \"#fb9f3a\"], [0.8888888888888888, \"#fdca26\"], [1.0, \"#f0f921\"]], \"type\": \"heatmap\"}], \"heatmapgl\": [{\"colorbar\": {\"outlinewidth\": 0, \"ticks\": \"\"}, \"colorscale\": [[0.0, \"#0d0887\"], [0.1111111111111111, \"#46039f\"], [0.2222222222222222, \"#7201a8\"], [0.3333333333333333, \"#9c179e\"], [0.4444444444444444, \"#bd3786\"], [0.5555555555555556, \"#d8576b\"], [0.6666666666666666, \"#ed7953\"], [0.7777777777777778, \"#fb9f3a\"], [0.8888888888888888, \"#fdca26\"], [1.0, \"#f0f921\"]], \"type\": \"heatmapgl\"}], \"histogram\": [{\"marker\": {\"colorbar\": {\"outlinewidth\": 0, \"ticks\": \"\"}}, \"type\": \"histogram\"}], \"histogram2d\": [{\"colorbar\": {\"outlinewidth\": 0, \"ticks\": \"\"}, \"colorscale\": [[0.0, \"#0d0887\"], [0.1111111111111111, \"#46039f\"], [0.2222222222222222, \"#7201a8\"], [0.3333333333333333, \"#9c179e\"], [0.4444444444444444, \"#bd3786\"], [0.5555555555555556, \"#d8576b\"], [0.6666666666666666, \"#ed7953\"], [0.7777777777777778, \"#fb9f3a\"], [0.8888888888888888, \"#fdca26\"], [1.0, \"#f0f921\"]], \"type\": \"histogram2d\"}], \"histogram2dcontour\": [{\"colorbar\": {\"outlinewidth\": 0, \"ticks\": \"\"}, \"colorscale\": [[0.0, \"#0d0887\"], [0.1111111111111111, \"#46039f\"], [0.2222222222222222, \"#7201a8\"], [0.3333333333333333, \"#9c179e\"], [0.4444444444444444, \"#bd3786\"], [0.5555555555555556, \"#d8576b\"], [0.6666666666666666, \"#ed7953\"], [0.7777777777777778, \"#fb9f3a\"], [0.8888888888888888, \"#fdca26\"], [1.0, \"#f0f921\"]], \"type\": \"histogram2dcontour\"}], \"mesh3d\": [{\"colorbar\": {\"outlinewidth\": 0, \"ticks\": \"\"}, \"type\": \"mesh3d\"}], \"parcoords\": [{\"line\": {\"colorbar\": {\"outlinewidth\": 0, \"ticks\": \"\"}}, \"type\": \"parcoords\"}], \"pie\": [{\"automargin\": true, \"type\": \"pie\"}], \"scatter\": [{\"marker\": {\"colorbar\": {\"outlinewidth\": 0, \"ticks\": \"\"}}, \"type\": \"scatter\"}], \"scatter3d\": [{\"line\": {\"colorbar\": {\"outlinewidth\": 0, \"ticks\": \"\"}}, \"marker\": {\"colorbar\": {\"outlinewidth\": 0, \"ticks\": \"\"}}, \"type\": \"scatter3d\"}], \"scattercarpet\": [{\"marker\": {\"colorbar\": {\"outlinewidth\": 0, \"ticks\": \"\"}}, \"type\": \"scattercarpet\"}], \"scattergeo\": [{\"marker\": {\"colorbar\": {\"outlinewidth\": 0, \"ticks\": \"\"}}, \"type\": \"scattergeo\"}], \"scattergl\": [{\"marker\": {\"colorbar\": {\"outlinewidth\": 0, \"ticks\": \"\"}}, \"type\": \"scattergl\"}], \"scattermapbox\": [{\"marker\": {\"colorbar\": {\"outlinewidth\": 0, \"ticks\": \"\"}}, \"type\": \"scattermapbox\"}], \"scatterpolar\": [{\"marker\": {\"colorbar\": {\"outlinewidth\": 0, \"ticks\": \"\"}}, \"type\": \"scatterpolar\"}], \"scatterpolargl\": [{\"marker\": {\"colorbar\": {\"outlinewidth\": 0, \"ticks\": \"\"}}, \"type\": \"scatterpolargl\"}], \"scatterternary\": [{\"marker\": {\"colorbar\": {\"outlinewidth\": 0, \"ticks\": \"\"}}, \"type\": \"scatterternary\"}], \"surface\": [{\"colorbar\": {\"outlinewidth\": 0, \"ticks\": \"\"}, \"colorscale\": [[0.0, \"#0d0887\"], [0.1111111111111111, \"#46039f\"], [0.2222222222222222, \"#7201a8\"], [0.3333333333333333, \"#9c179e\"], [0.4444444444444444, \"#bd3786\"], [0.5555555555555556, \"#d8576b\"], [0.6666666666666666, \"#ed7953\"], [0.7777777777777778, \"#fb9f3a\"], [0.8888888888888888, \"#fdca26\"], [1.0, \"#f0f921\"]], \"type\": \"surface\"}], \"table\": [{\"cells\": {\"fill\": {\"color\": \"#EBF0F8\"}, \"line\": {\"color\": \"white\"}}, \"header\": {\"fill\": {\"color\": \"#C8D4E3\"}, \"line\": {\"color\": \"white\"}}, \"type\": \"table\"}]}, \"layout\": {\"annotationdefaults\": {\"arrowcolor\": \"#2a3f5f\", \"arrowhead\": 0, \"arrowwidth\": 1}, \"coloraxis\": {\"colorbar\": {\"outlinewidth\": 0, \"ticks\": \"\"}}, \"colorscale\": {\"diverging\": [[0, \"#8e0152\"], [0.1, \"#c51b7d\"], [0.2, \"#de77ae\"], [0.3, \"#f1b6da\"], [0.4, \"#fde0ef\"], [0.5, \"#f7f7f7\"], [0.6, \"#e6f5d0\"], [0.7, \"#b8e186\"], [0.8, \"#7fbc41\"], [0.9, \"#4d9221\"], [1, \"#276419\"]], \"sequential\": [[0.0, \"#0d0887\"], [0.1111111111111111, \"#46039f\"], [0.2222222222222222, \"#7201a8\"], [0.3333333333333333, \"#9c179e\"], [0.4444444444444444, \"#bd3786\"], [0.5555555555555556, \"#d8576b\"], [0.6666666666666666, \"#ed7953\"], [0.7777777777777778, \"#fb9f3a\"], [0.8888888888888888, \"#fdca26\"], [1.0, \"#f0f921\"]], \"sequentialminus\": [[0.0, \"#0d0887\"], [0.1111111111111111, \"#46039f\"], [0.2222222222222222, \"#7201a8\"], [0.3333333333333333, \"#9c179e\"], [0.4444444444444444, \"#bd3786\"], [0.5555555555555556, \"#d8576b\"], [0.6666666666666666, \"#ed7953\"], [0.7777777777777778, \"#fb9f3a\"], [0.8888888888888888, \"#fdca26\"], [1.0, \"#f0f921\"]]}, \"colorway\": [\"#636efa\", \"#EF553B\", \"#00cc96\", \"#ab63fa\", \"#FFA15A\", \"#19d3f3\", \"#FF6692\", \"#B6E880\", \"#FF97FF\", \"#FECB52\"], \"font\": {\"color\": \"#2a3f5f\"}, \"geo\": {\"bgcolor\": \"white\", \"lakecolor\": \"white\", \"landcolor\": \"#E5ECF6\", \"showlakes\": true, \"showland\": true, \"subunitcolor\": \"white\"}, \"hoverlabel\": {\"align\": \"left\"}, \"hovermode\": \"closest\", \"mapbox\": {\"style\": \"light\"}, \"paper_bgcolor\": \"white\", \"plot_bgcolor\": \"#E5ECF6\", \"polar\": {\"angularaxis\": {\"gridcolor\": \"white\", \"linecolor\": \"white\", \"ticks\": \"\"}, \"bgcolor\": \"#E5ECF6\", \"radialaxis\": {\"gridcolor\": \"white\", \"linecolor\": \"white\", \"ticks\": \"\"}}, \"scene\": {\"xaxis\": {\"backgroundcolor\": \"#E5ECF6\", \"gridcolor\": \"white\", \"gridwidth\": 2, \"linecolor\": \"white\", \"showbackground\": true, \"ticks\": \"\", \"zerolinecolor\": \"white\"}, \"yaxis\": {\"backgroundcolor\": \"#E5ECF6\", \"gridcolor\": \"white\", \"gridwidth\": 2, \"linecolor\": \"white\", \"showbackground\": true, \"ticks\": \"\", \"zerolinecolor\": \"white\"}, \"zaxis\": {\"backgroundcolor\": \"#E5ECF6\", \"gridcolor\": \"white\", \"gridwidth\": 2, \"linecolor\": \"white\", \"showbackground\": true, \"ticks\": \"\", \"zerolinecolor\": \"white\"}}, \"shapedefaults\": {\"line\": {\"color\": \"#2a3f5f\"}}, \"ternary\": {\"aaxis\": {\"gridcolor\": \"white\", \"linecolor\": \"white\", \"ticks\": \"\"}, \"baxis\": {\"gridcolor\": \"white\", \"linecolor\": \"white\", \"ticks\": \"\"}, \"bgcolor\": \"#E5ECF6\", \"caxis\": {\"gridcolor\": \"white\", \"linecolor\": \"white\", \"ticks\": \"\"}}, \"title\": {\"x\": 0.05}, \"xaxis\": {\"automargin\": true, \"gridcolor\": \"white\", \"linecolor\": \"white\", \"ticks\": \"\", \"title\": {\"standoff\": 15}, \"zerolinecolor\": \"white\", \"zerolinewidth\": 2}, \"yaxis\": {\"automargin\": true, \"gridcolor\": \"white\", \"linecolor\": \"white\", \"ticks\": \"\", \"title\": {\"standoff\": 15}, \"zerolinecolor\": \"white\", \"zerolinewidth\": 2}}}, \"title\": {\"text\": \"Subsets that were significantly different in Eating going from no light training to light training for most recent 40 days\"}, \"xaxis\": {\"anchor\": \"y\", \"categoryarray\": [\"Total: \", \"All_BT\", \"Total: \", \"female\", \"male\", \"All_GR\", \"All_BT\", \"All_SS\", \"female\", \"male\", \"All_GR\", \"All_SS\", \"Chandler\", \"BT5\", \"BT4\", \"GR5\", \"GR1\", \"BT5\", \"Chandler\", \"BT4\", \"GR5\", \"GR1\"], \"categoryorder\": \"array\", \"domain\": [0.0, 1.0], \"title\": {\"text\": \"column\"}}, \"yaxis\": {\"anchor\": \"x\", \"domain\": [0.0, 1.0], \"title\": {\"text\": \"Mean\"}}},                        {\"responsive\": true}                    ).then(function(){\n",
       "                            \n",
       "var gd = document.getElementById('75018e5a-8f47-4298-8f57-fbfd75272f9d');\n",
       "var x = new MutationObserver(function (mutations, observer) {{\n",
       "        var display = window.getComputedStyle(gd).display;\n",
       "        if (!display || display === 'none') {{\n",
       "            console.log([gd, 'removed!']);\n",
       "            Plotly.purge(gd);\n",
       "            observer.disconnect();\n",
       "        }}\n",
       "}});\n",
       "\n",
       "// Listen for the removal of the full notebook cells\n",
       "var notebookContainer = gd.closest('#notebook-container');\n",
       "if (notebookContainer) {{\n",
       "    x.observe(notebookContainer, {childList: true});\n",
       "}}\n",
       "\n",
       "// Listen for the clearing of the current output cell\n",
       "var outputEl = gd.closest('.output');\n",
       "if (outputEl) {{\n",
       "    x.observe(outputEl, {childList: true});\n",
       "}}\n",
       "\n",
       "                        })                };                });            </script>        </div>"
      ]
     },
     "metadata": {},
     "output_type": "display_data"
    }
   ],
   "source": [
    "test = pd.DataFrame()\n",
    "sig = [\"Chandler\", \"BT2\", \"BT4\",\"BT5\", \"GR1\", \"GR5\", \"male\", \"female\", \"All_BT\" ,\"All_GR\", \"All_SS\",\"Total: \"]\n",
    "for column in sig:\n",
    "    x = st.t.interval(alpha=0.95, df=len(last_40[column])-1, loc=np.mean(last_40[column]), scale=st.sem(last_40[column],nan_policy='omit'))\n",
    "    y = st.t.interval(alpha=0.95, df=len(no_light_eat[column])-1, loc=np.mean(no_light_eat[column]), scale=st.sem(no_light_eat[column],nan_policy='omit'))\n",
    "    if overlap(x[0],x[1],y[0],y[1])==False:\n",
    "        light_mean = last_40[column].mean()\n",
    "        no_light_mean = no_light_eat[column].mean()\n",
    "        light_int = st.t.interval(alpha=0.95, df=len(last_40[column])-1, loc=np.mean(last_40[column]), scale=st.sem(last_40[column],nan_policy='omit'))\n",
    "        no_light_int = st.t.interval(alpha=0.95, df=len(no_light_eat[column])-1, loc=np.mean(no_light_eat[column]), scale=st.sem(no_light_eat[column],nan_policy='omit'))\n",
    "        light_error = (light_int[1] - light_int[0])/2\n",
    "        no_light_error = (no_light_int[1] - no_light_int[0])/2\n",
    "        pd.Series()\n",
    "        data = {'Variable':['Most Recent 40 Days Of Light Training','Non-Light Training'], 'Mean':[light_mean,no_light_mean],'error':[light_error,no_light_error],'column':[column,column]} \n",
    "        data = pd.DataFrame(data)\n",
    "        test = pd.concat([test, data])\n",
    "    else:\n",
    "        print(column,\"Has Confidence Intervals that overlap\")\n",
    "        print(\"Here are the confidence intervals:\")\n",
    "        print(\"Light Training:\",x)\n",
    "        print(\"Non-Light Training:\",y)\n",
    "test\n",
    "\n",
    "px.bar(test, x = \"column\", y = \"Mean\", color = \"Variable\", error_y = \"error\", barmode = \"group\", title = \"Subsets that were significantly different in Eating going from no light training to light training for most recent 40 days\",category_orders = {\"column\":test.sort_values(by = \"Mean\", ascending = False)[\"column\"]})\n",
    "#BT2 is marginal "
   ]
  },
  {
   "cell_type": "code",
   "execution_count": 236,
   "metadata": {},
   "outputs": [
    {
     "name": "stdout",
     "output_type": "stream",
     "text": [
      "All_GR Has Confidence Intervals that overlap\n",
      "Here are the confidence intervals:\n",
      "Light Training: (15.552234074615262, 20.847765925384735)\n",
      "Non-Light Training: (10.62047810925428, 16.347263826229593)\n",
      "Total:  Has Confidence Intervals that overlap\n",
      "Here are the confidence intervals:\n",
      "Light Training: (42.436126613591796, 57.51387338640821)\n",
      "Non-Light Training: (30.47356851581103, 43.47643148418897)\n"
     ]
    },
    {
     "name": "stderr",
     "output_type": "stream",
     "text": [
      "<ipython-input-236-6c310f7acb20>:13: DeprecationWarning:\n",
      "\n",
      "The default dtype for empty Series will be 'object' instead of 'float64' in a future version. Specify a dtype explicitly to silence this warning.\n",
      "\n"
     ]
    },
    {
     "data": {
      "application/vnd.plotly.v1+json": {
       "config": {
        "plotlyServerURL": "https://plot.ly"
       },
       "data": [
        {
         "alignmentgroup": "True",
         "error_y": {
          "array": [
           1.0472109383036283,
           1.378637676562783,
           1.4822495045708046,
           1.0239762114433133,
           1.1106290839051232,
           3.390019307487961,
           4.1483825104537
          ]
         },
         "hovertemplate": "Variable=Most Recent 40 Days Of Light Training<br>column=%{x}<br>Mean=%{y}<extra></extra>",
         "legendgroup": "Most Recent 40 Days Of Light Training",
         "marker": {
          "color": "#636efa"
         },
         "name": "Most Recent 40 Days Of Light Training",
         "offsetgroup": "Most Recent 40 Days Of Light Training",
         "orientation": "v",
         "showlegend": true,
         "textposition": "auto",
         "type": "bar",
         "x": [
          "BT2",
          "BT4",
          "BT5",
          "GR2",
          "GR5",
          "female",
          "All_BT"
         ],
         "xaxis": "x",
         "y": [
          5.6,
          7.166666666666667,
          7.4,
          3.6333333333333333,
          4.3,
          25.725,
          32.13333333333333
         ],
         "yaxis": "y"
        },
        {
         "alignmentgroup": "True",
         "error_y": {
          "array": [
           0.7611587613691433,
           0.9050079970448421,
           1.0785505018519739,
           0.6628384268773315,
           0.8990672793365504,
           3.0333447705182026,
           4.094699134947806
          ]
         },
         "hovertemplate": "Variable=Non-Light Training<br>column=%{x}<br>Mean=%{y}<extra></extra>",
         "legendgroup": "Non-Light Training",
         "marker": {
          "color": "#EF553B"
         },
         "name": "Non-Light Training",
         "offsetgroup": "Non-Light Training",
         "orientation": "v",
         "showlegend": true,
         "textposition": "auto",
         "type": "bar",
         "x": [
          "BT2",
          "BT4",
          "BT5",
          "GR2",
          "GR5",
          "female",
          "All_BT"
         ],
         "xaxis": "x",
         "y": [
          3.6,
          3.8333333333333335,
          3.7666666666666666,
          1.935483870967742,
          1.5161290322580645,
          18.3,
          22.766666666666666
         ],
         "yaxis": "y"
        }
       ],
       "layout": {
        "barmode": "group",
        "legend": {
         "title": {
          "text": "Variable"
         },
         "tracegroupgap": 0
        },
        "template": {
         "data": {
          "bar": [
           {
            "error_x": {
             "color": "#2a3f5f"
            },
            "error_y": {
             "color": "#2a3f5f"
            },
            "marker": {
             "line": {
              "color": "#E5ECF6",
              "width": 0.5
             }
            },
            "type": "bar"
           }
          ],
          "barpolar": [
           {
            "marker": {
             "line": {
              "color": "#E5ECF6",
              "width": 0.5
             }
            },
            "type": "barpolar"
           }
          ],
          "carpet": [
           {
            "aaxis": {
             "endlinecolor": "#2a3f5f",
             "gridcolor": "white",
             "linecolor": "white",
             "minorgridcolor": "white",
             "startlinecolor": "#2a3f5f"
            },
            "baxis": {
             "endlinecolor": "#2a3f5f",
             "gridcolor": "white",
             "linecolor": "white",
             "minorgridcolor": "white",
             "startlinecolor": "#2a3f5f"
            },
            "type": "carpet"
           }
          ],
          "choropleth": [
           {
            "colorbar": {
             "outlinewidth": 0,
             "ticks": ""
            },
            "type": "choropleth"
           }
          ],
          "contour": [
           {
            "colorbar": {
             "outlinewidth": 0,
             "ticks": ""
            },
            "colorscale": [
             [
              0,
              "#0d0887"
             ],
             [
              0.1111111111111111,
              "#46039f"
             ],
             [
              0.2222222222222222,
              "#7201a8"
             ],
             [
              0.3333333333333333,
              "#9c179e"
             ],
             [
              0.4444444444444444,
              "#bd3786"
             ],
             [
              0.5555555555555556,
              "#d8576b"
             ],
             [
              0.6666666666666666,
              "#ed7953"
             ],
             [
              0.7777777777777778,
              "#fb9f3a"
             ],
             [
              0.8888888888888888,
              "#fdca26"
             ],
             [
              1,
              "#f0f921"
             ]
            ],
            "type": "contour"
           }
          ],
          "contourcarpet": [
           {
            "colorbar": {
             "outlinewidth": 0,
             "ticks": ""
            },
            "type": "contourcarpet"
           }
          ],
          "heatmap": [
           {
            "colorbar": {
             "outlinewidth": 0,
             "ticks": ""
            },
            "colorscale": [
             [
              0,
              "#0d0887"
             ],
             [
              0.1111111111111111,
              "#46039f"
             ],
             [
              0.2222222222222222,
              "#7201a8"
             ],
             [
              0.3333333333333333,
              "#9c179e"
             ],
             [
              0.4444444444444444,
              "#bd3786"
             ],
             [
              0.5555555555555556,
              "#d8576b"
             ],
             [
              0.6666666666666666,
              "#ed7953"
             ],
             [
              0.7777777777777778,
              "#fb9f3a"
             ],
             [
              0.8888888888888888,
              "#fdca26"
             ],
             [
              1,
              "#f0f921"
             ]
            ],
            "type": "heatmap"
           }
          ],
          "heatmapgl": [
           {
            "colorbar": {
             "outlinewidth": 0,
             "ticks": ""
            },
            "colorscale": [
             [
              0,
              "#0d0887"
             ],
             [
              0.1111111111111111,
              "#46039f"
             ],
             [
              0.2222222222222222,
              "#7201a8"
             ],
             [
              0.3333333333333333,
              "#9c179e"
             ],
             [
              0.4444444444444444,
              "#bd3786"
             ],
             [
              0.5555555555555556,
              "#d8576b"
             ],
             [
              0.6666666666666666,
              "#ed7953"
             ],
             [
              0.7777777777777778,
              "#fb9f3a"
             ],
             [
              0.8888888888888888,
              "#fdca26"
             ],
             [
              1,
              "#f0f921"
             ]
            ],
            "type": "heatmapgl"
           }
          ],
          "histogram": [
           {
            "marker": {
             "colorbar": {
              "outlinewidth": 0,
              "ticks": ""
             }
            },
            "type": "histogram"
           }
          ],
          "histogram2d": [
           {
            "colorbar": {
             "outlinewidth": 0,
             "ticks": ""
            },
            "colorscale": [
             [
              0,
              "#0d0887"
             ],
             [
              0.1111111111111111,
              "#46039f"
             ],
             [
              0.2222222222222222,
              "#7201a8"
             ],
             [
              0.3333333333333333,
              "#9c179e"
             ],
             [
              0.4444444444444444,
              "#bd3786"
             ],
             [
              0.5555555555555556,
              "#d8576b"
             ],
             [
              0.6666666666666666,
              "#ed7953"
             ],
             [
              0.7777777777777778,
              "#fb9f3a"
             ],
             [
              0.8888888888888888,
              "#fdca26"
             ],
             [
              1,
              "#f0f921"
             ]
            ],
            "type": "histogram2d"
           }
          ],
          "histogram2dcontour": [
           {
            "colorbar": {
             "outlinewidth": 0,
             "ticks": ""
            },
            "colorscale": [
             [
              0,
              "#0d0887"
             ],
             [
              0.1111111111111111,
              "#46039f"
             ],
             [
              0.2222222222222222,
              "#7201a8"
             ],
             [
              0.3333333333333333,
              "#9c179e"
             ],
             [
              0.4444444444444444,
              "#bd3786"
             ],
             [
              0.5555555555555556,
              "#d8576b"
             ],
             [
              0.6666666666666666,
              "#ed7953"
             ],
             [
              0.7777777777777778,
              "#fb9f3a"
             ],
             [
              0.8888888888888888,
              "#fdca26"
             ],
             [
              1,
              "#f0f921"
             ]
            ],
            "type": "histogram2dcontour"
           }
          ],
          "mesh3d": [
           {
            "colorbar": {
             "outlinewidth": 0,
             "ticks": ""
            },
            "type": "mesh3d"
           }
          ],
          "parcoords": [
           {
            "line": {
             "colorbar": {
              "outlinewidth": 0,
              "ticks": ""
             }
            },
            "type": "parcoords"
           }
          ],
          "pie": [
           {
            "automargin": true,
            "type": "pie"
           }
          ],
          "scatter": [
           {
            "marker": {
             "colorbar": {
              "outlinewidth": 0,
              "ticks": ""
             }
            },
            "type": "scatter"
           }
          ],
          "scatter3d": [
           {
            "line": {
             "colorbar": {
              "outlinewidth": 0,
              "ticks": ""
             }
            },
            "marker": {
             "colorbar": {
              "outlinewidth": 0,
              "ticks": ""
             }
            },
            "type": "scatter3d"
           }
          ],
          "scattercarpet": [
           {
            "marker": {
             "colorbar": {
              "outlinewidth": 0,
              "ticks": ""
             }
            },
            "type": "scattercarpet"
           }
          ],
          "scattergeo": [
           {
            "marker": {
             "colorbar": {
              "outlinewidth": 0,
              "ticks": ""
             }
            },
            "type": "scattergeo"
           }
          ],
          "scattergl": [
           {
            "marker": {
             "colorbar": {
              "outlinewidth": 0,
              "ticks": ""
             }
            },
            "type": "scattergl"
           }
          ],
          "scattermapbox": [
           {
            "marker": {
             "colorbar": {
              "outlinewidth": 0,
              "ticks": ""
             }
            },
            "type": "scattermapbox"
           }
          ],
          "scatterpolar": [
           {
            "marker": {
             "colorbar": {
              "outlinewidth": 0,
              "ticks": ""
             }
            },
            "type": "scatterpolar"
           }
          ],
          "scatterpolargl": [
           {
            "marker": {
             "colorbar": {
              "outlinewidth": 0,
              "ticks": ""
             }
            },
            "type": "scatterpolargl"
           }
          ],
          "scatterternary": [
           {
            "marker": {
             "colorbar": {
              "outlinewidth": 0,
              "ticks": ""
             }
            },
            "type": "scatterternary"
           }
          ],
          "surface": [
           {
            "colorbar": {
             "outlinewidth": 0,
             "ticks": ""
            },
            "colorscale": [
             [
              0,
              "#0d0887"
             ],
             [
              0.1111111111111111,
              "#46039f"
             ],
             [
              0.2222222222222222,
              "#7201a8"
             ],
             [
              0.3333333333333333,
              "#9c179e"
             ],
             [
              0.4444444444444444,
              "#bd3786"
             ],
             [
              0.5555555555555556,
              "#d8576b"
             ],
             [
              0.6666666666666666,
              "#ed7953"
             ],
             [
              0.7777777777777778,
              "#fb9f3a"
             ],
             [
              0.8888888888888888,
              "#fdca26"
             ],
             [
              1,
              "#f0f921"
             ]
            ],
            "type": "surface"
           }
          ],
          "table": [
           {
            "cells": {
             "fill": {
              "color": "#EBF0F8"
             },
             "line": {
              "color": "white"
             }
            },
            "header": {
             "fill": {
              "color": "#C8D4E3"
             },
             "line": {
              "color": "white"
             }
            },
            "type": "table"
           }
          ]
         },
         "layout": {
          "annotationdefaults": {
           "arrowcolor": "#2a3f5f",
           "arrowhead": 0,
           "arrowwidth": 1
          },
          "coloraxis": {
           "colorbar": {
            "outlinewidth": 0,
            "ticks": ""
           }
          },
          "colorscale": {
           "diverging": [
            [
             0,
             "#8e0152"
            ],
            [
             0.1,
             "#c51b7d"
            ],
            [
             0.2,
             "#de77ae"
            ],
            [
             0.3,
             "#f1b6da"
            ],
            [
             0.4,
             "#fde0ef"
            ],
            [
             0.5,
             "#f7f7f7"
            ],
            [
             0.6,
             "#e6f5d0"
            ],
            [
             0.7,
             "#b8e186"
            ],
            [
             0.8,
             "#7fbc41"
            ],
            [
             0.9,
             "#4d9221"
            ],
            [
             1,
             "#276419"
            ]
           ],
           "sequential": [
            [
             0,
             "#0d0887"
            ],
            [
             0.1111111111111111,
             "#46039f"
            ],
            [
             0.2222222222222222,
             "#7201a8"
            ],
            [
             0.3333333333333333,
             "#9c179e"
            ],
            [
             0.4444444444444444,
             "#bd3786"
            ],
            [
             0.5555555555555556,
             "#d8576b"
            ],
            [
             0.6666666666666666,
             "#ed7953"
            ],
            [
             0.7777777777777778,
             "#fb9f3a"
            ],
            [
             0.8888888888888888,
             "#fdca26"
            ],
            [
             1,
             "#f0f921"
            ]
           ],
           "sequentialminus": [
            [
             0,
             "#0d0887"
            ],
            [
             0.1111111111111111,
             "#46039f"
            ],
            [
             0.2222222222222222,
             "#7201a8"
            ],
            [
             0.3333333333333333,
             "#9c179e"
            ],
            [
             0.4444444444444444,
             "#bd3786"
            ],
            [
             0.5555555555555556,
             "#d8576b"
            ],
            [
             0.6666666666666666,
             "#ed7953"
            ],
            [
             0.7777777777777778,
             "#fb9f3a"
            ],
            [
             0.8888888888888888,
             "#fdca26"
            ],
            [
             1,
             "#f0f921"
            ]
           ]
          },
          "colorway": [
           "#636efa",
           "#EF553B",
           "#00cc96",
           "#ab63fa",
           "#FFA15A",
           "#19d3f3",
           "#FF6692",
           "#B6E880",
           "#FF97FF",
           "#FECB52"
          ],
          "font": {
           "color": "#2a3f5f"
          },
          "geo": {
           "bgcolor": "white",
           "lakecolor": "white",
           "landcolor": "#E5ECF6",
           "showlakes": true,
           "showland": true,
           "subunitcolor": "white"
          },
          "hoverlabel": {
           "align": "left"
          },
          "hovermode": "closest",
          "mapbox": {
           "style": "light"
          },
          "paper_bgcolor": "white",
          "plot_bgcolor": "#E5ECF6",
          "polar": {
           "angularaxis": {
            "gridcolor": "white",
            "linecolor": "white",
            "ticks": ""
           },
           "bgcolor": "#E5ECF6",
           "radialaxis": {
            "gridcolor": "white",
            "linecolor": "white",
            "ticks": ""
           }
          },
          "scene": {
           "xaxis": {
            "backgroundcolor": "#E5ECF6",
            "gridcolor": "white",
            "gridwidth": 2,
            "linecolor": "white",
            "showbackground": true,
            "ticks": "",
            "zerolinecolor": "white"
           },
           "yaxis": {
            "backgroundcolor": "#E5ECF6",
            "gridcolor": "white",
            "gridwidth": 2,
            "linecolor": "white",
            "showbackground": true,
            "ticks": "",
            "zerolinecolor": "white"
           },
           "zaxis": {
            "backgroundcolor": "#E5ECF6",
            "gridcolor": "white",
            "gridwidth": 2,
            "linecolor": "white",
            "showbackground": true,
            "ticks": "",
            "zerolinecolor": "white"
           }
          },
          "shapedefaults": {
           "line": {
            "color": "#2a3f5f"
           }
          },
          "ternary": {
           "aaxis": {
            "gridcolor": "white",
            "linecolor": "white",
            "ticks": ""
           },
           "baxis": {
            "gridcolor": "white",
            "linecolor": "white",
            "ticks": ""
           },
           "bgcolor": "#E5ECF6",
           "caxis": {
            "gridcolor": "white",
            "linecolor": "white",
            "ticks": ""
           }
          },
          "title": {
           "x": 0.05
          },
          "xaxis": {
           "automargin": true,
           "gridcolor": "white",
           "linecolor": "white",
           "ticks": "",
           "title": {
            "standoff": 15
           },
           "zerolinecolor": "white",
           "zerolinewidth": 2
          },
          "yaxis": {
           "automargin": true,
           "gridcolor": "white",
           "linecolor": "white",
           "ticks": "",
           "title": {
            "standoff": 15
           },
           "zerolinecolor": "white",
           "zerolinewidth": 2
          }
         }
        },
        "title": {
         "text": "Subsets that were significantly different in Targeting going from no light training to light training for most recent 40 days"
        },
        "xaxis": {
         "anchor": "y",
         "categoryarray": [
          "All_BT",
          "female",
          "All_BT",
          "female",
          "BT5",
          "BT4",
          "BT2",
          "GR5",
          "BT4",
          "BT5",
          "GR2",
          "BT2",
          "GR2",
          "GR5"
         ],
         "categoryorder": "array",
         "domain": [
          0,
          1
         ],
         "title": {
          "text": "column"
         }
        },
        "yaxis": {
         "anchor": "x",
         "domain": [
          0,
          1
         ],
         "title": {
          "text": "Mean"
         }
        }
       }
      },
      "text/html": [
       "<div>                            <div id=\"8cd56979-b24b-40c8-88a2-6e7eebfbb35f\" class=\"plotly-graph-div\" style=\"height:525px; width:100%;\"></div>            <script type=\"text/javascript\">                require([\"plotly\"], function(Plotly) {                    window.PLOTLYENV=window.PLOTLYENV || {};                                    if (document.getElementById(\"8cd56979-b24b-40c8-88a2-6e7eebfbb35f\")) {                    Plotly.newPlot(                        \"8cd56979-b24b-40c8-88a2-6e7eebfbb35f\",                        [{\"alignmentgroup\": \"True\", \"error_y\": {\"array\": [1.0472109383036283, 1.378637676562783, 1.4822495045708046, 1.0239762114433133, 1.1106290839051232, 3.390019307487961, 4.1483825104537]}, \"hovertemplate\": \"Variable=Most Recent 40 Days Of Light Training<br>column=%{x}<br>Mean=%{y}<extra></extra>\", \"legendgroup\": \"Most Recent 40 Days Of Light Training\", \"marker\": {\"color\": \"#636efa\"}, \"name\": \"Most Recent 40 Days Of Light Training\", \"offsetgroup\": \"Most Recent 40 Days Of Light Training\", \"orientation\": \"v\", \"showlegend\": true, \"textposition\": \"auto\", \"type\": \"bar\", \"x\": [\"BT2\", \"BT4\", \"BT5\", \"GR2\", \"GR5\", \"female\", \"All_BT\"], \"xaxis\": \"x\", \"y\": [5.6, 7.166666666666667, 7.4, 3.6333333333333333, 4.3, 25.725, 32.13333333333333], \"yaxis\": \"y\"}, {\"alignmentgroup\": \"True\", \"error_y\": {\"array\": [0.7611587613691433, 0.9050079970448421, 1.0785505018519739, 0.6628384268773315, 0.8990672793365504, 3.0333447705182026, 4.094699134947806]}, \"hovertemplate\": \"Variable=Non-Light Training<br>column=%{x}<br>Mean=%{y}<extra></extra>\", \"legendgroup\": \"Non-Light Training\", \"marker\": {\"color\": \"#EF553B\"}, \"name\": \"Non-Light Training\", \"offsetgroup\": \"Non-Light Training\", \"orientation\": \"v\", \"showlegend\": true, \"textposition\": \"auto\", \"type\": \"bar\", \"x\": [\"BT2\", \"BT4\", \"BT5\", \"GR2\", \"GR5\", \"female\", \"All_BT\"], \"xaxis\": \"x\", \"y\": [3.6, 3.8333333333333335, 3.7666666666666666, 1.935483870967742, 1.5161290322580645, 18.3, 22.766666666666666], \"yaxis\": \"y\"}],                        {\"barmode\": \"group\", \"legend\": {\"title\": {\"text\": \"Variable\"}, \"tracegroupgap\": 0}, \"template\": {\"data\": {\"bar\": [{\"error_x\": {\"color\": \"#2a3f5f\"}, \"error_y\": {\"color\": \"#2a3f5f\"}, \"marker\": {\"line\": {\"color\": \"#E5ECF6\", \"width\": 0.5}}, \"type\": \"bar\"}], \"barpolar\": [{\"marker\": {\"line\": {\"color\": \"#E5ECF6\", \"width\": 0.5}}, \"type\": \"barpolar\"}], \"carpet\": [{\"aaxis\": {\"endlinecolor\": \"#2a3f5f\", \"gridcolor\": \"white\", \"linecolor\": \"white\", \"minorgridcolor\": \"white\", \"startlinecolor\": \"#2a3f5f\"}, \"baxis\": {\"endlinecolor\": \"#2a3f5f\", \"gridcolor\": \"white\", \"linecolor\": \"white\", \"minorgridcolor\": \"white\", \"startlinecolor\": \"#2a3f5f\"}, \"type\": \"carpet\"}], \"choropleth\": [{\"colorbar\": {\"outlinewidth\": 0, \"ticks\": \"\"}, \"type\": \"choropleth\"}], \"contour\": [{\"colorbar\": {\"outlinewidth\": 0, \"ticks\": \"\"}, \"colorscale\": [[0.0, \"#0d0887\"], [0.1111111111111111, \"#46039f\"], [0.2222222222222222, \"#7201a8\"], [0.3333333333333333, \"#9c179e\"], [0.4444444444444444, \"#bd3786\"], [0.5555555555555556, \"#d8576b\"], [0.6666666666666666, \"#ed7953\"], [0.7777777777777778, \"#fb9f3a\"], [0.8888888888888888, \"#fdca26\"], [1.0, \"#f0f921\"]], \"type\": \"contour\"}], \"contourcarpet\": [{\"colorbar\": {\"outlinewidth\": 0, \"ticks\": \"\"}, \"type\": \"contourcarpet\"}], \"heatmap\": [{\"colorbar\": {\"outlinewidth\": 0, \"ticks\": \"\"}, \"colorscale\": [[0.0, \"#0d0887\"], [0.1111111111111111, \"#46039f\"], [0.2222222222222222, \"#7201a8\"], [0.3333333333333333, \"#9c179e\"], [0.4444444444444444, \"#bd3786\"], [0.5555555555555556, \"#d8576b\"], [0.6666666666666666, \"#ed7953\"], [0.7777777777777778, \"#fb9f3a\"], [0.8888888888888888, \"#fdca26\"], [1.0, \"#f0f921\"]], \"type\": \"heatmap\"}], \"heatmapgl\": [{\"colorbar\": {\"outlinewidth\": 0, \"ticks\": \"\"}, \"colorscale\": [[0.0, \"#0d0887\"], [0.1111111111111111, \"#46039f\"], [0.2222222222222222, \"#7201a8\"], [0.3333333333333333, \"#9c179e\"], [0.4444444444444444, \"#bd3786\"], [0.5555555555555556, \"#d8576b\"], [0.6666666666666666, \"#ed7953\"], [0.7777777777777778, \"#fb9f3a\"], [0.8888888888888888, \"#fdca26\"], [1.0, \"#f0f921\"]], \"type\": \"heatmapgl\"}], \"histogram\": [{\"marker\": {\"colorbar\": {\"outlinewidth\": 0, \"ticks\": \"\"}}, \"type\": \"histogram\"}], \"histogram2d\": [{\"colorbar\": {\"outlinewidth\": 0, \"ticks\": \"\"}, \"colorscale\": [[0.0, \"#0d0887\"], [0.1111111111111111, \"#46039f\"], [0.2222222222222222, \"#7201a8\"], [0.3333333333333333, \"#9c179e\"], [0.4444444444444444, \"#bd3786\"], [0.5555555555555556, \"#d8576b\"], [0.6666666666666666, \"#ed7953\"], [0.7777777777777778, \"#fb9f3a\"], [0.8888888888888888, \"#fdca26\"], [1.0, \"#f0f921\"]], \"type\": \"histogram2d\"}], \"histogram2dcontour\": [{\"colorbar\": {\"outlinewidth\": 0, \"ticks\": \"\"}, \"colorscale\": [[0.0, \"#0d0887\"], [0.1111111111111111, \"#46039f\"], [0.2222222222222222, \"#7201a8\"], [0.3333333333333333, \"#9c179e\"], [0.4444444444444444, \"#bd3786\"], [0.5555555555555556, \"#d8576b\"], [0.6666666666666666, \"#ed7953\"], [0.7777777777777778, \"#fb9f3a\"], [0.8888888888888888, \"#fdca26\"], [1.0, \"#f0f921\"]], \"type\": \"histogram2dcontour\"}], \"mesh3d\": [{\"colorbar\": {\"outlinewidth\": 0, \"ticks\": \"\"}, \"type\": \"mesh3d\"}], \"parcoords\": [{\"line\": {\"colorbar\": {\"outlinewidth\": 0, \"ticks\": \"\"}}, \"type\": \"parcoords\"}], \"pie\": [{\"automargin\": true, \"type\": \"pie\"}], \"scatter\": [{\"marker\": {\"colorbar\": {\"outlinewidth\": 0, \"ticks\": \"\"}}, \"type\": \"scatter\"}], \"scatter3d\": [{\"line\": {\"colorbar\": {\"outlinewidth\": 0, \"ticks\": \"\"}}, \"marker\": {\"colorbar\": {\"outlinewidth\": 0, \"ticks\": \"\"}}, \"type\": \"scatter3d\"}], \"scattercarpet\": [{\"marker\": {\"colorbar\": {\"outlinewidth\": 0, \"ticks\": \"\"}}, \"type\": \"scattercarpet\"}], \"scattergeo\": [{\"marker\": {\"colorbar\": {\"outlinewidth\": 0, \"ticks\": \"\"}}, \"type\": \"scattergeo\"}], \"scattergl\": [{\"marker\": {\"colorbar\": {\"outlinewidth\": 0, \"ticks\": \"\"}}, \"type\": \"scattergl\"}], \"scattermapbox\": [{\"marker\": {\"colorbar\": {\"outlinewidth\": 0, \"ticks\": \"\"}}, \"type\": \"scattermapbox\"}], \"scatterpolar\": [{\"marker\": {\"colorbar\": {\"outlinewidth\": 0, \"ticks\": \"\"}}, \"type\": \"scatterpolar\"}], \"scatterpolargl\": [{\"marker\": {\"colorbar\": {\"outlinewidth\": 0, \"ticks\": \"\"}}, \"type\": \"scatterpolargl\"}], \"scatterternary\": [{\"marker\": {\"colorbar\": {\"outlinewidth\": 0, \"ticks\": \"\"}}, \"type\": \"scatterternary\"}], \"surface\": [{\"colorbar\": {\"outlinewidth\": 0, \"ticks\": \"\"}, \"colorscale\": [[0.0, \"#0d0887\"], [0.1111111111111111, \"#46039f\"], [0.2222222222222222, \"#7201a8\"], [0.3333333333333333, \"#9c179e\"], [0.4444444444444444, \"#bd3786\"], [0.5555555555555556, \"#d8576b\"], [0.6666666666666666, \"#ed7953\"], [0.7777777777777778, \"#fb9f3a\"], [0.8888888888888888, \"#fdca26\"], [1.0, \"#f0f921\"]], \"type\": \"surface\"}], \"table\": [{\"cells\": {\"fill\": {\"color\": \"#EBF0F8\"}, \"line\": {\"color\": \"white\"}}, \"header\": {\"fill\": {\"color\": \"#C8D4E3\"}, \"line\": {\"color\": \"white\"}}, \"type\": \"table\"}]}, \"layout\": {\"annotationdefaults\": {\"arrowcolor\": \"#2a3f5f\", \"arrowhead\": 0, \"arrowwidth\": 1}, \"coloraxis\": {\"colorbar\": {\"outlinewidth\": 0, \"ticks\": \"\"}}, \"colorscale\": {\"diverging\": [[0, \"#8e0152\"], [0.1, \"#c51b7d\"], [0.2, \"#de77ae\"], [0.3, \"#f1b6da\"], [0.4, \"#fde0ef\"], [0.5, \"#f7f7f7\"], [0.6, \"#e6f5d0\"], [0.7, \"#b8e186\"], [0.8, \"#7fbc41\"], [0.9, \"#4d9221\"], [1, \"#276419\"]], \"sequential\": [[0.0, \"#0d0887\"], [0.1111111111111111, \"#46039f\"], [0.2222222222222222, \"#7201a8\"], [0.3333333333333333, \"#9c179e\"], [0.4444444444444444, \"#bd3786\"], [0.5555555555555556, \"#d8576b\"], [0.6666666666666666, \"#ed7953\"], [0.7777777777777778, \"#fb9f3a\"], [0.8888888888888888, \"#fdca26\"], [1.0, \"#f0f921\"]], \"sequentialminus\": [[0.0, \"#0d0887\"], [0.1111111111111111, \"#46039f\"], [0.2222222222222222, \"#7201a8\"], [0.3333333333333333, \"#9c179e\"], [0.4444444444444444, \"#bd3786\"], [0.5555555555555556, \"#d8576b\"], [0.6666666666666666, \"#ed7953\"], [0.7777777777777778, \"#fb9f3a\"], [0.8888888888888888, \"#fdca26\"], [1.0, \"#f0f921\"]]}, \"colorway\": [\"#636efa\", \"#EF553B\", \"#00cc96\", \"#ab63fa\", \"#FFA15A\", \"#19d3f3\", \"#FF6692\", \"#B6E880\", \"#FF97FF\", \"#FECB52\"], \"font\": {\"color\": \"#2a3f5f\"}, \"geo\": {\"bgcolor\": \"white\", \"lakecolor\": \"white\", \"landcolor\": \"#E5ECF6\", \"showlakes\": true, \"showland\": true, \"subunitcolor\": \"white\"}, \"hoverlabel\": {\"align\": \"left\"}, \"hovermode\": \"closest\", \"mapbox\": {\"style\": \"light\"}, \"paper_bgcolor\": \"white\", \"plot_bgcolor\": \"#E5ECF6\", \"polar\": {\"angularaxis\": {\"gridcolor\": \"white\", \"linecolor\": \"white\", \"ticks\": \"\"}, \"bgcolor\": \"#E5ECF6\", \"radialaxis\": {\"gridcolor\": \"white\", \"linecolor\": \"white\", \"ticks\": \"\"}}, \"scene\": {\"xaxis\": {\"backgroundcolor\": \"#E5ECF6\", \"gridcolor\": \"white\", \"gridwidth\": 2, \"linecolor\": \"white\", \"showbackground\": true, \"ticks\": \"\", \"zerolinecolor\": \"white\"}, \"yaxis\": {\"backgroundcolor\": \"#E5ECF6\", \"gridcolor\": \"white\", \"gridwidth\": 2, \"linecolor\": \"white\", \"showbackground\": true, \"ticks\": \"\", \"zerolinecolor\": \"white\"}, \"zaxis\": {\"backgroundcolor\": \"#E5ECF6\", \"gridcolor\": \"white\", \"gridwidth\": 2, \"linecolor\": \"white\", \"showbackground\": true, \"ticks\": \"\", \"zerolinecolor\": \"white\"}}, \"shapedefaults\": {\"line\": {\"color\": \"#2a3f5f\"}}, \"ternary\": {\"aaxis\": {\"gridcolor\": \"white\", \"linecolor\": \"white\", \"ticks\": \"\"}, \"baxis\": {\"gridcolor\": \"white\", \"linecolor\": \"white\", \"ticks\": \"\"}, \"bgcolor\": \"#E5ECF6\", \"caxis\": {\"gridcolor\": \"white\", \"linecolor\": \"white\", \"ticks\": \"\"}}, \"title\": {\"x\": 0.05}, \"xaxis\": {\"automargin\": true, \"gridcolor\": \"white\", \"linecolor\": \"white\", \"ticks\": \"\", \"title\": {\"standoff\": 15}, \"zerolinecolor\": \"white\", \"zerolinewidth\": 2}, \"yaxis\": {\"automargin\": true, \"gridcolor\": \"white\", \"linecolor\": \"white\", \"ticks\": \"\", \"title\": {\"standoff\": 15}, \"zerolinecolor\": \"white\", \"zerolinewidth\": 2}}}, \"title\": {\"text\": \"Subsets that were significantly different in Targeting going from no light training to light training for most recent 40 days\"}, \"xaxis\": {\"anchor\": \"y\", \"categoryarray\": [\"All_BT\", \"female\", \"All_BT\", \"female\", \"BT5\", \"BT4\", \"BT2\", \"GR5\", \"BT4\", \"BT5\", \"GR2\", \"BT2\", \"GR2\", \"GR5\"], \"categoryorder\": \"array\", \"domain\": [0.0, 1.0], \"title\": {\"text\": \"column\"}}, \"yaxis\": {\"anchor\": \"x\", \"domain\": [0.0, 1.0], \"title\": {\"text\": \"Mean\"}}},                        {\"responsive\": true}                    ).then(function(){\n",
       "                            \n",
       "var gd = document.getElementById('8cd56979-b24b-40c8-88a2-6e7eebfbb35f');\n",
       "var x = new MutationObserver(function (mutations, observer) {{\n",
       "        var display = window.getComputedStyle(gd).display;\n",
       "        if (!display || display === 'none') {{\n",
       "            console.log([gd, 'removed!']);\n",
       "            Plotly.purge(gd);\n",
       "            observer.disconnect();\n",
       "        }}\n",
       "}});\n",
       "\n",
       "// Listen for the removal of the full notebook cells\n",
       "var notebookContainer = gd.closest('#notebook-container');\n",
       "if (notebookContainer) {{\n",
       "    x.observe(notebookContainer, {childList: true});\n",
       "}}\n",
       "\n",
       "// Listen for the clearing of the current output cell\n",
       "var outputEl = gd.closest('.output');\n",
       "if (outputEl) {{\n",
       "    x.observe(outputEl, {childList: true});\n",
       "}}\n",
       "\n",
       "                        })                };                });            </script>        </div>"
      ]
     },
     "metadata": {},
     "output_type": "display_data"
    }
   ],
   "source": [
    "test = pd.DataFrame()\n",
    "sig = [\"BT2\", \"BT4\", \"BT5\", \"GR2\", \"GR5\", \"female\", \"All_GR\", \"All_BT\", \"Total: \"]\n",
    "for column in sig:\n",
    "    x = st.t.interval(alpha=0.95, df=len(last_40_t[column])-1, loc=np.mean(last_40_t[column]), scale=st.sem(last_40_t[column],nan_policy='omit'))\n",
    "    y = st.t.interval(alpha=0.95, df=len(no_light_targets[column])-1, loc=np.mean(no_light_targets[column]), scale=st.sem(no_light_targets[column],nan_policy='omit'))\n",
    "    if overlap(x[0],x[1],y[0],y[1])==False:\n",
    "        light_mean = last_40_t[column].mean()\n",
    "        no_light_mean = no_light_targets[column].mean()\n",
    "        light_int = st.t.interval(alpha=0.95, df=len(last_40_t[column])-1, loc=np.mean(last_40_t[column]), scale=st.sem(last_40_t[column],nan_policy='omit'))\n",
    "        no_light_int = st.t.interval(alpha=0.95, df=len(no_light_targets[column])-1, loc=np.mean(no_light_targets[column]), scale=st.sem(no_light_targets[column],nan_policy='omit'))\n",
    "        light_error = (light_int[1] - light_int[0])/2\n",
    "        no_light_error = (no_light_int[1] - no_light_int[0])/2\n",
    "        pd.Series()\n",
    "        data = {'Variable':['Most Recent 40 Days Of Light Training','Non-Light Training'], 'Mean':[light_mean,no_light_mean],'error':[light_error,no_light_error],'column':[column,column]} \n",
    "        data = pd.DataFrame(data)\n",
    "        test = pd.concat([test, data])\n",
    "    else:\n",
    "        print(column,\"Has Confidence Intervals that overlap\")\n",
    "        print(\"Here are the confidence intervals:\")\n",
    "        print(\"Light Training:\",x)\n",
    "        print(\"Non-Light Training:\",y)\n",
    "test\n",
    "\n",
    "px.bar(test, x = \"column\", y = \"Mean\", color = \"Variable\", error_y = \"error\", barmode = \"group\", title = \"Subsets that were significantly different in Targeting going from no light training to light training for most recent 40 days\",category_orders = {\"column\":test.sort_values(by = \"Mean\", ascending = False)[\"column\"]})\n",
    "#GR2 and all_gr are marginal "
   ]
  },
  {
   "cell_type": "markdown",
   "metadata": {},
   "source": [
    "## Light Training all-time vs. non-light training"
   ]
  },
  {
   "cell_type": "code",
   "execution_count": 237,
   "metadata": {},
   "outputs": [
    {
     "name": "stderr",
     "output_type": "stream",
     "text": [
      "<ipython-input-237-1bfe3fd5bb4f>:13: DeprecationWarning:\n",
      "\n",
      "The default dtype for empty Series will be 'object' instead of 'float64' in a future version. Specify a dtype explicitly to silence this warning.\n",
      "\n"
     ]
    },
    {
     "data": {
      "application/vnd.plotly.v1+json": {
       "config": {
        "plotlyServerURL": "https://plot.ly"
       },
       "data": [
        {
         "alignmentgroup": "True",
         "error_y": {
          "array": [
           0.22333073485959254,
           0.5448796838432433,
           0.48337332407909983,
           0.5825625087261379,
           0.8164724141307396
          ]
         },
         "hovertemplate": "Variable=Light Training<br>column=%{x}<br>Mean=%{y}<extra></extra>",
         "legendgroup": "Light Training",
         "marker": {
          "color": "#636efa"
         },
         "name": "Light Training",
         "offsetgroup": "Light Training",
         "orientation": "v",
         "showlegend": true,
         "textposition": "auto",
         "type": "bar",
         "x": [
          "BT4",
          "male",
          "female",
          "All_BT",
          "Total: "
         ],
         "xaxis": "x",
         "y": [
          2.8771498771498774,
          9.87430683918669,
          11.140480591497226,
          13.403940886699507,
          20.987037037037037
         ],
         "yaxis": "y"
        },
        {
         "alignmentgroup": "True",
         "error_y": {
          "array": [
           0.5894139686304797,
           1.3903327330056428,
           1.7651982033628535,
           1.9346683683349912,
           2.340321979944381
          ]
         },
         "hovertemplate": "Variable=Non-Light Training<br>column=%{x}<br>Mean=%{y}<extra></extra>",
         "legendgroup": "Non-Light Training",
         "marker": {
          "color": "#EF553B"
         },
         "name": "Non-Light Training",
         "offsetgroup": "Non-Light Training",
         "orientation": "v",
         "showlegend": true,
         "textposition": "auto",
         "type": "bar",
         "x": [
          "BT4",
          "male",
          "female",
          "All_BT",
          "Total: "
         ],
         "xaxis": "x",
         "y": [
          1.6451612903225807,
          7.560975609756097,
          8.21951219512195,
          9.4,
          15.78048780487805
         ],
         "yaxis": "y"
        }
       ],
       "layout": {
        "barmode": "group",
        "legend": {
         "title": {
          "text": "Variable"
         },
         "tracegroupgap": 0
        },
        "template": {
         "data": {
          "bar": [
           {
            "error_x": {
             "color": "#2a3f5f"
            },
            "error_y": {
             "color": "#2a3f5f"
            },
            "marker": {
             "line": {
              "color": "#E5ECF6",
              "width": 0.5
             }
            },
            "type": "bar"
           }
          ],
          "barpolar": [
           {
            "marker": {
             "line": {
              "color": "#E5ECF6",
              "width": 0.5
             }
            },
            "type": "barpolar"
           }
          ],
          "carpet": [
           {
            "aaxis": {
             "endlinecolor": "#2a3f5f",
             "gridcolor": "white",
             "linecolor": "white",
             "minorgridcolor": "white",
             "startlinecolor": "#2a3f5f"
            },
            "baxis": {
             "endlinecolor": "#2a3f5f",
             "gridcolor": "white",
             "linecolor": "white",
             "minorgridcolor": "white",
             "startlinecolor": "#2a3f5f"
            },
            "type": "carpet"
           }
          ],
          "choropleth": [
           {
            "colorbar": {
             "outlinewidth": 0,
             "ticks": ""
            },
            "type": "choropleth"
           }
          ],
          "contour": [
           {
            "colorbar": {
             "outlinewidth": 0,
             "ticks": ""
            },
            "colorscale": [
             [
              0,
              "#0d0887"
             ],
             [
              0.1111111111111111,
              "#46039f"
             ],
             [
              0.2222222222222222,
              "#7201a8"
             ],
             [
              0.3333333333333333,
              "#9c179e"
             ],
             [
              0.4444444444444444,
              "#bd3786"
             ],
             [
              0.5555555555555556,
              "#d8576b"
             ],
             [
              0.6666666666666666,
              "#ed7953"
             ],
             [
              0.7777777777777778,
              "#fb9f3a"
             ],
             [
              0.8888888888888888,
              "#fdca26"
             ],
             [
              1,
              "#f0f921"
             ]
            ],
            "type": "contour"
           }
          ],
          "contourcarpet": [
           {
            "colorbar": {
             "outlinewidth": 0,
             "ticks": ""
            },
            "type": "contourcarpet"
           }
          ],
          "heatmap": [
           {
            "colorbar": {
             "outlinewidth": 0,
             "ticks": ""
            },
            "colorscale": [
             [
              0,
              "#0d0887"
             ],
             [
              0.1111111111111111,
              "#46039f"
             ],
             [
              0.2222222222222222,
              "#7201a8"
             ],
             [
              0.3333333333333333,
              "#9c179e"
             ],
             [
              0.4444444444444444,
              "#bd3786"
             ],
             [
              0.5555555555555556,
              "#d8576b"
             ],
             [
              0.6666666666666666,
              "#ed7953"
             ],
             [
              0.7777777777777778,
              "#fb9f3a"
             ],
             [
              0.8888888888888888,
              "#fdca26"
             ],
             [
              1,
              "#f0f921"
             ]
            ],
            "type": "heatmap"
           }
          ],
          "heatmapgl": [
           {
            "colorbar": {
             "outlinewidth": 0,
             "ticks": ""
            },
            "colorscale": [
             [
              0,
              "#0d0887"
             ],
             [
              0.1111111111111111,
              "#46039f"
             ],
             [
              0.2222222222222222,
              "#7201a8"
             ],
             [
              0.3333333333333333,
              "#9c179e"
             ],
             [
              0.4444444444444444,
              "#bd3786"
             ],
             [
              0.5555555555555556,
              "#d8576b"
             ],
             [
              0.6666666666666666,
              "#ed7953"
             ],
             [
              0.7777777777777778,
              "#fb9f3a"
             ],
             [
              0.8888888888888888,
              "#fdca26"
             ],
             [
              1,
              "#f0f921"
             ]
            ],
            "type": "heatmapgl"
           }
          ],
          "histogram": [
           {
            "marker": {
             "colorbar": {
              "outlinewidth": 0,
              "ticks": ""
             }
            },
            "type": "histogram"
           }
          ],
          "histogram2d": [
           {
            "colorbar": {
             "outlinewidth": 0,
             "ticks": ""
            },
            "colorscale": [
             [
              0,
              "#0d0887"
             ],
             [
              0.1111111111111111,
              "#46039f"
             ],
             [
              0.2222222222222222,
              "#7201a8"
             ],
             [
              0.3333333333333333,
              "#9c179e"
             ],
             [
              0.4444444444444444,
              "#bd3786"
             ],
             [
              0.5555555555555556,
              "#d8576b"
             ],
             [
              0.6666666666666666,
              "#ed7953"
             ],
             [
              0.7777777777777778,
              "#fb9f3a"
             ],
             [
              0.8888888888888888,
              "#fdca26"
             ],
             [
              1,
              "#f0f921"
             ]
            ],
            "type": "histogram2d"
           }
          ],
          "histogram2dcontour": [
           {
            "colorbar": {
             "outlinewidth": 0,
             "ticks": ""
            },
            "colorscale": [
             [
              0,
              "#0d0887"
             ],
             [
              0.1111111111111111,
              "#46039f"
             ],
             [
              0.2222222222222222,
              "#7201a8"
             ],
             [
              0.3333333333333333,
              "#9c179e"
             ],
             [
              0.4444444444444444,
              "#bd3786"
             ],
             [
              0.5555555555555556,
              "#d8576b"
             ],
             [
              0.6666666666666666,
              "#ed7953"
             ],
             [
              0.7777777777777778,
              "#fb9f3a"
             ],
             [
              0.8888888888888888,
              "#fdca26"
             ],
             [
              1,
              "#f0f921"
             ]
            ],
            "type": "histogram2dcontour"
           }
          ],
          "mesh3d": [
           {
            "colorbar": {
             "outlinewidth": 0,
             "ticks": ""
            },
            "type": "mesh3d"
           }
          ],
          "parcoords": [
           {
            "line": {
             "colorbar": {
              "outlinewidth": 0,
              "ticks": ""
             }
            },
            "type": "parcoords"
           }
          ],
          "pie": [
           {
            "automargin": true,
            "type": "pie"
           }
          ],
          "scatter": [
           {
            "marker": {
             "colorbar": {
              "outlinewidth": 0,
              "ticks": ""
             }
            },
            "type": "scatter"
           }
          ],
          "scatter3d": [
           {
            "line": {
             "colorbar": {
              "outlinewidth": 0,
              "ticks": ""
             }
            },
            "marker": {
             "colorbar": {
              "outlinewidth": 0,
              "ticks": ""
             }
            },
            "type": "scatter3d"
           }
          ],
          "scattercarpet": [
           {
            "marker": {
             "colorbar": {
              "outlinewidth": 0,
              "ticks": ""
             }
            },
            "type": "scattercarpet"
           }
          ],
          "scattergeo": [
           {
            "marker": {
             "colorbar": {
              "outlinewidth": 0,
              "ticks": ""
             }
            },
            "type": "scattergeo"
           }
          ],
          "scattergl": [
           {
            "marker": {
             "colorbar": {
              "outlinewidth": 0,
              "ticks": ""
             }
            },
            "type": "scattergl"
           }
          ],
          "scattermapbox": [
           {
            "marker": {
             "colorbar": {
              "outlinewidth": 0,
              "ticks": ""
             }
            },
            "type": "scattermapbox"
           }
          ],
          "scatterpolar": [
           {
            "marker": {
             "colorbar": {
              "outlinewidth": 0,
              "ticks": ""
             }
            },
            "type": "scatterpolar"
           }
          ],
          "scatterpolargl": [
           {
            "marker": {
             "colorbar": {
              "outlinewidth": 0,
              "ticks": ""
             }
            },
            "type": "scatterpolargl"
           }
          ],
          "scatterternary": [
           {
            "marker": {
             "colorbar": {
              "outlinewidth": 0,
              "ticks": ""
             }
            },
            "type": "scatterternary"
           }
          ],
          "surface": [
           {
            "colorbar": {
             "outlinewidth": 0,
             "ticks": ""
            },
            "colorscale": [
             [
              0,
              "#0d0887"
             ],
             [
              0.1111111111111111,
              "#46039f"
             ],
             [
              0.2222222222222222,
              "#7201a8"
             ],
             [
              0.3333333333333333,
              "#9c179e"
             ],
             [
              0.4444444444444444,
              "#bd3786"
             ],
             [
              0.5555555555555556,
              "#d8576b"
             ],
             [
              0.6666666666666666,
              "#ed7953"
             ],
             [
              0.7777777777777778,
              "#fb9f3a"
             ],
             [
              0.8888888888888888,
              "#fdca26"
             ],
             [
              1,
              "#f0f921"
             ]
            ],
            "type": "surface"
           }
          ],
          "table": [
           {
            "cells": {
             "fill": {
              "color": "#EBF0F8"
             },
             "line": {
              "color": "white"
             }
            },
            "header": {
             "fill": {
              "color": "#C8D4E3"
             },
             "line": {
              "color": "white"
             }
            },
            "type": "table"
           }
          ]
         },
         "layout": {
          "annotationdefaults": {
           "arrowcolor": "#2a3f5f",
           "arrowhead": 0,
           "arrowwidth": 1
          },
          "coloraxis": {
           "colorbar": {
            "outlinewidth": 0,
            "ticks": ""
           }
          },
          "colorscale": {
           "diverging": [
            [
             0,
             "#8e0152"
            ],
            [
             0.1,
             "#c51b7d"
            ],
            [
             0.2,
             "#de77ae"
            ],
            [
             0.3,
             "#f1b6da"
            ],
            [
             0.4,
             "#fde0ef"
            ],
            [
             0.5,
             "#f7f7f7"
            ],
            [
             0.6,
             "#e6f5d0"
            ],
            [
             0.7,
             "#b8e186"
            ],
            [
             0.8,
             "#7fbc41"
            ],
            [
             0.9,
             "#4d9221"
            ],
            [
             1,
             "#276419"
            ]
           ],
           "sequential": [
            [
             0,
             "#0d0887"
            ],
            [
             0.1111111111111111,
             "#46039f"
            ],
            [
             0.2222222222222222,
             "#7201a8"
            ],
            [
             0.3333333333333333,
             "#9c179e"
            ],
            [
             0.4444444444444444,
             "#bd3786"
            ],
            [
             0.5555555555555556,
             "#d8576b"
            ],
            [
             0.6666666666666666,
             "#ed7953"
            ],
            [
             0.7777777777777778,
             "#fb9f3a"
            ],
            [
             0.8888888888888888,
             "#fdca26"
            ],
            [
             1,
             "#f0f921"
            ]
           ],
           "sequentialminus": [
            [
             0,
             "#0d0887"
            ],
            [
             0.1111111111111111,
             "#46039f"
            ],
            [
             0.2222222222222222,
             "#7201a8"
            ],
            [
             0.3333333333333333,
             "#9c179e"
            ],
            [
             0.4444444444444444,
             "#bd3786"
            ],
            [
             0.5555555555555556,
             "#d8576b"
            ],
            [
             0.6666666666666666,
             "#ed7953"
            ],
            [
             0.7777777777777778,
             "#fb9f3a"
            ],
            [
             0.8888888888888888,
             "#fdca26"
            ],
            [
             1,
             "#f0f921"
            ]
           ]
          },
          "colorway": [
           "#636efa",
           "#EF553B",
           "#00cc96",
           "#ab63fa",
           "#FFA15A",
           "#19d3f3",
           "#FF6692",
           "#B6E880",
           "#FF97FF",
           "#FECB52"
          ],
          "font": {
           "color": "#2a3f5f"
          },
          "geo": {
           "bgcolor": "white",
           "lakecolor": "white",
           "landcolor": "#E5ECF6",
           "showlakes": true,
           "showland": true,
           "subunitcolor": "white"
          },
          "hoverlabel": {
           "align": "left"
          },
          "hovermode": "closest",
          "mapbox": {
           "style": "light"
          },
          "paper_bgcolor": "white",
          "plot_bgcolor": "#E5ECF6",
          "polar": {
           "angularaxis": {
            "gridcolor": "white",
            "linecolor": "white",
            "ticks": ""
           },
           "bgcolor": "#E5ECF6",
           "radialaxis": {
            "gridcolor": "white",
            "linecolor": "white",
            "ticks": ""
           }
          },
          "scene": {
           "xaxis": {
            "backgroundcolor": "#E5ECF6",
            "gridcolor": "white",
            "gridwidth": 2,
            "linecolor": "white",
            "showbackground": true,
            "ticks": "",
            "zerolinecolor": "white"
           },
           "yaxis": {
            "backgroundcolor": "#E5ECF6",
            "gridcolor": "white",
            "gridwidth": 2,
            "linecolor": "white",
            "showbackground": true,
            "ticks": "",
            "zerolinecolor": "white"
           },
           "zaxis": {
            "backgroundcolor": "#E5ECF6",
            "gridcolor": "white",
            "gridwidth": 2,
            "linecolor": "white",
            "showbackground": true,
            "ticks": "",
            "zerolinecolor": "white"
           }
          },
          "shapedefaults": {
           "line": {
            "color": "#2a3f5f"
           }
          },
          "ternary": {
           "aaxis": {
            "gridcolor": "white",
            "linecolor": "white",
            "ticks": ""
           },
           "baxis": {
            "gridcolor": "white",
            "linecolor": "white",
            "ticks": ""
           },
           "bgcolor": "#E5ECF6",
           "caxis": {
            "gridcolor": "white",
            "linecolor": "white",
            "ticks": ""
           }
          },
          "title": {
           "x": 0.05
          },
          "xaxis": {
           "automargin": true,
           "gridcolor": "white",
           "linecolor": "white",
           "ticks": "",
           "title": {
            "standoff": 15
           },
           "zerolinecolor": "white",
           "zerolinewidth": 2
          },
          "yaxis": {
           "automargin": true,
           "gridcolor": "white",
           "linecolor": "white",
           "ticks": "",
           "title": {
            "standoff": 15
           },
           "zerolinecolor": "white",
           "zerolinewidth": 2
          }
         }
        },
        "title": {
         "text": "Subsets that were significantly different in Eating going from no light training to light training"
        },
        "xaxis": {
         "anchor": "y",
         "categoryarray": [
          "Total: ",
          "Total: ",
          "All_BT",
          "female",
          "male",
          "All_BT",
          "female",
          "male",
          "BT4",
          "BT4"
         ],
         "categoryorder": "array",
         "domain": [
          0,
          1
         ],
         "title": {
          "text": "column"
         }
        },
        "yaxis": {
         "anchor": "x",
         "domain": [
          0,
          1
         ],
         "title": {
          "text": "Mean"
         }
        }
       }
      },
      "text/html": [
       "<div>                            <div id=\"71295332-46e2-42c5-bdba-9c024a65bec4\" class=\"plotly-graph-div\" style=\"height:525px; width:100%;\"></div>            <script type=\"text/javascript\">                require([\"plotly\"], function(Plotly) {                    window.PLOTLYENV=window.PLOTLYENV || {};                                    if (document.getElementById(\"71295332-46e2-42c5-bdba-9c024a65bec4\")) {                    Plotly.newPlot(                        \"71295332-46e2-42c5-bdba-9c024a65bec4\",                        [{\"alignmentgroup\": \"True\", \"error_y\": {\"array\": [0.22333073485959254, 0.5448796838432433, 0.48337332407909983, 0.5825625087261379, 0.8164724141307396]}, \"hovertemplate\": \"Variable=Light Training<br>column=%{x}<br>Mean=%{y}<extra></extra>\", \"legendgroup\": \"Light Training\", \"marker\": {\"color\": \"#636efa\"}, \"name\": \"Light Training\", \"offsetgroup\": \"Light Training\", \"orientation\": \"v\", \"showlegend\": true, \"textposition\": \"auto\", \"type\": \"bar\", \"x\": [\"BT4\", \"male\", \"female\", \"All_BT\", \"Total: \"], \"xaxis\": \"x\", \"y\": [2.8771498771498774, 9.87430683918669, 11.140480591497226, 13.403940886699507, 20.987037037037037], \"yaxis\": \"y\"}, {\"alignmentgroup\": \"True\", \"error_y\": {\"array\": [0.5894139686304797, 1.3903327330056428, 1.7651982033628535, 1.9346683683349912, 2.340321979944381]}, \"hovertemplate\": \"Variable=Non-Light Training<br>column=%{x}<br>Mean=%{y}<extra></extra>\", \"legendgroup\": \"Non-Light Training\", \"marker\": {\"color\": \"#EF553B\"}, \"name\": \"Non-Light Training\", \"offsetgroup\": \"Non-Light Training\", \"orientation\": \"v\", \"showlegend\": true, \"textposition\": \"auto\", \"type\": \"bar\", \"x\": [\"BT4\", \"male\", \"female\", \"All_BT\", \"Total: \"], \"xaxis\": \"x\", \"y\": [1.6451612903225807, 7.560975609756097, 8.21951219512195, 9.4, 15.78048780487805], \"yaxis\": \"y\"}],                        {\"barmode\": \"group\", \"legend\": {\"title\": {\"text\": \"Variable\"}, \"tracegroupgap\": 0}, \"template\": {\"data\": {\"bar\": [{\"error_x\": {\"color\": \"#2a3f5f\"}, \"error_y\": {\"color\": \"#2a3f5f\"}, \"marker\": {\"line\": {\"color\": \"#E5ECF6\", \"width\": 0.5}}, \"type\": \"bar\"}], \"barpolar\": [{\"marker\": {\"line\": {\"color\": \"#E5ECF6\", \"width\": 0.5}}, \"type\": \"barpolar\"}], \"carpet\": [{\"aaxis\": {\"endlinecolor\": \"#2a3f5f\", \"gridcolor\": \"white\", \"linecolor\": \"white\", \"minorgridcolor\": \"white\", \"startlinecolor\": \"#2a3f5f\"}, \"baxis\": {\"endlinecolor\": \"#2a3f5f\", \"gridcolor\": \"white\", \"linecolor\": \"white\", \"minorgridcolor\": \"white\", \"startlinecolor\": \"#2a3f5f\"}, \"type\": \"carpet\"}], \"choropleth\": [{\"colorbar\": {\"outlinewidth\": 0, \"ticks\": \"\"}, \"type\": \"choropleth\"}], \"contour\": [{\"colorbar\": {\"outlinewidth\": 0, \"ticks\": \"\"}, \"colorscale\": [[0.0, \"#0d0887\"], [0.1111111111111111, \"#46039f\"], [0.2222222222222222, \"#7201a8\"], [0.3333333333333333, \"#9c179e\"], [0.4444444444444444, \"#bd3786\"], [0.5555555555555556, \"#d8576b\"], [0.6666666666666666, \"#ed7953\"], [0.7777777777777778, \"#fb9f3a\"], [0.8888888888888888, \"#fdca26\"], [1.0, \"#f0f921\"]], \"type\": \"contour\"}], \"contourcarpet\": [{\"colorbar\": {\"outlinewidth\": 0, \"ticks\": \"\"}, \"type\": \"contourcarpet\"}], \"heatmap\": [{\"colorbar\": {\"outlinewidth\": 0, \"ticks\": \"\"}, \"colorscale\": [[0.0, \"#0d0887\"], [0.1111111111111111, \"#46039f\"], [0.2222222222222222, \"#7201a8\"], [0.3333333333333333, \"#9c179e\"], [0.4444444444444444, \"#bd3786\"], [0.5555555555555556, \"#d8576b\"], [0.6666666666666666, \"#ed7953\"], [0.7777777777777778, \"#fb9f3a\"], [0.8888888888888888, \"#fdca26\"], [1.0, \"#f0f921\"]], \"type\": \"heatmap\"}], \"heatmapgl\": [{\"colorbar\": {\"outlinewidth\": 0, \"ticks\": \"\"}, \"colorscale\": [[0.0, \"#0d0887\"], [0.1111111111111111, \"#46039f\"], [0.2222222222222222, \"#7201a8\"], [0.3333333333333333, \"#9c179e\"], [0.4444444444444444, \"#bd3786\"], [0.5555555555555556, \"#d8576b\"], [0.6666666666666666, \"#ed7953\"], [0.7777777777777778, \"#fb9f3a\"], [0.8888888888888888, \"#fdca26\"], [1.0, \"#f0f921\"]], \"type\": \"heatmapgl\"}], \"histogram\": [{\"marker\": {\"colorbar\": {\"outlinewidth\": 0, \"ticks\": \"\"}}, \"type\": \"histogram\"}], \"histogram2d\": [{\"colorbar\": {\"outlinewidth\": 0, \"ticks\": \"\"}, \"colorscale\": [[0.0, \"#0d0887\"], [0.1111111111111111, \"#46039f\"], [0.2222222222222222, \"#7201a8\"], [0.3333333333333333, \"#9c179e\"], [0.4444444444444444, \"#bd3786\"], [0.5555555555555556, \"#d8576b\"], [0.6666666666666666, \"#ed7953\"], [0.7777777777777778, \"#fb9f3a\"], [0.8888888888888888, \"#fdca26\"], [1.0, \"#f0f921\"]], \"type\": \"histogram2d\"}], \"histogram2dcontour\": [{\"colorbar\": {\"outlinewidth\": 0, \"ticks\": \"\"}, \"colorscale\": [[0.0, \"#0d0887\"], [0.1111111111111111, \"#46039f\"], [0.2222222222222222, \"#7201a8\"], [0.3333333333333333, \"#9c179e\"], [0.4444444444444444, \"#bd3786\"], [0.5555555555555556, \"#d8576b\"], [0.6666666666666666, \"#ed7953\"], [0.7777777777777778, \"#fb9f3a\"], [0.8888888888888888, \"#fdca26\"], [1.0, \"#f0f921\"]], \"type\": \"histogram2dcontour\"}], \"mesh3d\": [{\"colorbar\": {\"outlinewidth\": 0, \"ticks\": \"\"}, \"type\": \"mesh3d\"}], \"parcoords\": [{\"line\": {\"colorbar\": {\"outlinewidth\": 0, \"ticks\": \"\"}}, \"type\": \"parcoords\"}], \"pie\": [{\"automargin\": true, \"type\": \"pie\"}], \"scatter\": [{\"marker\": {\"colorbar\": {\"outlinewidth\": 0, \"ticks\": \"\"}}, \"type\": \"scatter\"}], \"scatter3d\": [{\"line\": {\"colorbar\": {\"outlinewidth\": 0, \"ticks\": \"\"}}, \"marker\": {\"colorbar\": {\"outlinewidth\": 0, \"ticks\": \"\"}}, \"type\": \"scatter3d\"}], \"scattercarpet\": [{\"marker\": {\"colorbar\": {\"outlinewidth\": 0, \"ticks\": \"\"}}, \"type\": \"scattercarpet\"}], \"scattergeo\": [{\"marker\": {\"colorbar\": {\"outlinewidth\": 0, \"ticks\": \"\"}}, \"type\": \"scattergeo\"}], \"scattergl\": [{\"marker\": {\"colorbar\": {\"outlinewidth\": 0, \"ticks\": \"\"}}, \"type\": \"scattergl\"}], \"scattermapbox\": [{\"marker\": {\"colorbar\": {\"outlinewidth\": 0, \"ticks\": \"\"}}, \"type\": \"scattermapbox\"}], \"scatterpolar\": [{\"marker\": {\"colorbar\": {\"outlinewidth\": 0, \"ticks\": \"\"}}, \"type\": \"scatterpolar\"}], \"scatterpolargl\": [{\"marker\": {\"colorbar\": {\"outlinewidth\": 0, \"ticks\": \"\"}}, \"type\": \"scatterpolargl\"}], \"scatterternary\": [{\"marker\": {\"colorbar\": {\"outlinewidth\": 0, \"ticks\": \"\"}}, \"type\": \"scatterternary\"}], \"surface\": [{\"colorbar\": {\"outlinewidth\": 0, \"ticks\": \"\"}, \"colorscale\": [[0.0, \"#0d0887\"], [0.1111111111111111, \"#46039f\"], [0.2222222222222222, \"#7201a8\"], [0.3333333333333333, \"#9c179e\"], [0.4444444444444444, \"#bd3786\"], [0.5555555555555556, \"#d8576b\"], [0.6666666666666666, \"#ed7953\"], [0.7777777777777778, \"#fb9f3a\"], [0.8888888888888888, \"#fdca26\"], [1.0, \"#f0f921\"]], \"type\": \"surface\"}], \"table\": [{\"cells\": {\"fill\": {\"color\": \"#EBF0F8\"}, \"line\": {\"color\": \"white\"}}, \"header\": {\"fill\": {\"color\": \"#C8D4E3\"}, \"line\": {\"color\": \"white\"}}, \"type\": \"table\"}]}, \"layout\": {\"annotationdefaults\": {\"arrowcolor\": \"#2a3f5f\", \"arrowhead\": 0, \"arrowwidth\": 1}, \"coloraxis\": {\"colorbar\": {\"outlinewidth\": 0, \"ticks\": \"\"}}, \"colorscale\": {\"diverging\": [[0, \"#8e0152\"], [0.1, \"#c51b7d\"], [0.2, \"#de77ae\"], [0.3, \"#f1b6da\"], [0.4, \"#fde0ef\"], [0.5, \"#f7f7f7\"], [0.6, \"#e6f5d0\"], [0.7, \"#b8e186\"], [0.8, \"#7fbc41\"], [0.9, \"#4d9221\"], [1, \"#276419\"]], \"sequential\": [[0.0, \"#0d0887\"], [0.1111111111111111, \"#46039f\"], [0.2222222222222222, \"#7201a8\"], [0.3333333333333333, \"#9c179e\"], [0.4444444444444444, \"#bd3786\"], [0.5555555555555556, \"#d8576b\"], [0.6666666666666666, \"#ed7953\"], [0.7777777777777778, \"#fb9f3a\"], [0.8888888888888888, \"#fdca26\"], [1.0, \"#f0f921\"]], \"sequentialminus\": [[0.0, \"#0d0887\"], [0.1111111111111111, \"#46039f\"], [0.2222222222222222, \"#7201a8\"], [0.3333333333333333, \"#9c179e\"], [0.4444444444444444, \"#bd3786\"], [0.5555555555555556, \"#d8576b\"], [0.6666666666666666, \"#ed7953\"], [0.7777777777777778, \"#fb9f3a\"], [0.8888888888888888, \"#fdca26\"], [1.0, \"#f0f921\"]]}, \"colorway\": [\"#636efa\", \"#EF553B\", \"#00cc96\", \"#ab63fa\", \"#FFA15A\", \"#19d3f3\", \"#FF6692\", \"#B6E880\", \"#FF97FF\", \"#FECB52\"], \"font\": {\"color\": \"#2a3f5f\"}, \"geo\": {\"bgcolor\": \"white\", \"lakecolor\": \"white\", \"landcolor\": \"#E5ECF6\", \"showlakes\": true, \"showland\": true, \"subunitcolor\": \"white\"}, \"hoverlabel\": {\"align\": \"left\"}, \"hovermode\": \"closest\", \"mapbox\": {\"style\": \"light\"}, \"paper_bgcolor\": \"white\", \"plot_bgcolor\": \"#E5ECF6\", \"polar\": {\"angularaxis\": {\"gridcolor\": \"white\", \"linecolor\": \"white\", \"ticks\": \"\"}, \"bgcolor\": \"#E5ECF6\", \"radialaxis\": {\"gridcolor\": \"white\", \"linecolor\": \"white\", \"ticks\": \"\"}}, \"scene\": {\"xaxis\": {\"backgroundcolor\": \"#E5ECF6\", \"gridcolor\": \"white\", \"gridwidth\": 2, \"linecolor\": \"white\", \"showbackground\": true, \"ticks\": \"\", \"zerolinecolor\": \"white\"}, \"yaxis\": {\"backgroundcolor\": \"#E5ECF6\", \"gridcolor\": \"white\", \"gridwidth\": 2, \"linecolor\": \"white\", \"showbackground\": true, \"ticks\": \"\", \"zerolinecolor\": \"white\"}, \"zaxis\": {\"backgroundcolor\": \"#E5ECF6\", \"gridcolor\": \"white\", \"gridwidth\": 2, \"linecolor\": \"white\", \"showbackground\": true, \"ticks\": \"\", \"zerolinecolor\": \"white\"}}, \"shapedefaults\": {\"line\": {\"color\": \"#2a3f5f\"}}, \"ternary\": {\"aaxis\": {\"gridcolor\": \"white\", \"linecolor\": \"white\", \"ticks\": \"\"}, \"baxis\": {\"gridcolor\": \"white\", \"linecolor\": \"white\", \"ticks\": \"\"}, \"bgcolor\": \"#E5ECF6\", \"caxis\": {\"gridcolor\": \"white\", \"linecolor\": \"white\", \"ticks\": \"\"}}, \"title\": {\"x\": 0.05}, \"xaxis\": {\"automargin\": true, \"gridcolor\": \"white\", \"linecolor\": \"white\", \"ticks\": \"\", \"title\": {\"standoff\": 15}, \"zerolinecolor\": \"white\", \"zerolinewidth\": 2}, \"yaxis\": {\"automargin\": true, \"gridcolor\": \"white\", \"linecolor\": \"white\", \"ticks\": \"\", \"title\": {\"standoff\": 15}, \"zerolinecolor\": \"white\", \"zerolinewidth\": 2}}}, \"title\": {\"text\": \"Subsets that were significantly different in Eating going from no light training to light training\"}, \"xaxis\": {\"anchor\": \"y\", \"categoryarray\": [\"Total: \", \"Total: \", \"All_BT\", \"female\", \"male\", \"All_BT\", \"female\", \"male\", \"BT4\", \"BT4\"], \"categoryorder\": \"array\", \"domain\": [0.0, 1.0], \"title\": {\"text\": \"column\"}}, \"yaxis\": {\"anchor\": \"x\", \"domain\": [0.0, 1.0], \"title\": {\"text\": \"Mean\"}}},                        {\"responsive\": true}                    ).then(function(){\n",
       "                            \n",
       "var gd = document.getElementById('71295332-46e2-42c5-bdba-9c024a65bec4');\n",
       "var x = new MutationObserver(function (mutations, observer) {{\n",
       "        var display = window.getComputedStyle(gd).display;\n",
       "        if (!display || display === 'none') {{\n",
       "            console.log([gd, 'removed!']);\n",
       "            Plotly.purge(gd);\n",
       "            observer.disconnect();\n",
       "        }}\n",
       "}});\n",
       "\n",
       "// Listen for the removal of the full notebook cells\n",
       "var notebookContainer = gd.closest('#notebook-container');\n",
       "if (notebookContainer) {{\n",
       "    x.observe(notebookContainer, {childList: true});\n",
       "}}\n",
       "\n",
       "// Listen for the clearing of the current output cell\n",
       "var outputEl = gd.closest('.output');\n",
       "if (outputEl) {{\n",
       "    x.observe(outputEl, {childList: true});\n",
       "}}\n",
       "\n",
       "                        })                };                });            </script>        </div>"
      ]
     },
     "metadata": {},
     "output_type": "display_data"
    }
   ],
   "source": [
    "test = pd.DataFrame()\n",
    "sig = [\"BT4\", \"male\", \"female\",\"All_BT\",\"Total: \"]\n",
    "for column in sig:\n",
    "    x = st.t.interval(alpha=0.95, df=len(light_eat[column])-1, loc=np.mean(light_eat[column]), scale=st.sem(light_eat[column],nan_policy='omit'))\n",
    "    y = st.t.interval(alpha=0.95, df=len(no_light_eat[column])-1, loc=np.mean(no_light_eat[column]), scale=st.sem(no_light_eat[column],nan_policy='omit'))\n",
    "    if overlap(x[0],x[1],y[0],y[1])==False:\n",
    "        light_mean = light_eat[column].mean()\n",
    "        no_light_mean = no_light_eat[column].mean()\n",
    "        light_int = st.t.interval(alpha=0.95, df=len(light_eat[column])-1, loc=np.mean(light_eat[column]), scale=st.sem(light_eat[column],nan_policy='omit'))\n",
    "        no_light_int = st.t.interval(alpha=0.95, df=len(no_light_eat[column])-1, loc=np.mean(no_light_eat[column]), scale=st.sem(no_light_eat[column],nan_policy='omit'))\n",
    "        light_error = (light_int[1] - light_int[0])/2\n",
    "        no_light_error = (no_light_int[1] - no_light_int[0])/2\n",
    "        pd.Series()\n",
    "        data = {'Variable':['Light Training','Non-Light Training'], 'Mean':[light_mean,no_light_mean],'error':[light_error,no_light_error],'column':[column,column]} \n",
    "        data = pd.DataFrame(data)\n",
    "        test = pd.concat([test, data])\n",
    "    else:\n",
    "        print(column,\"Has Confidence Intervals that overlap\")\n",
    "        print(\"Here are the confidence intervals:\")\n",
    "        print(\"Light Training:\",x)\n",
    "        print(\"Non-Light Training:\",y)\n",
    "test\n",
    "\n",
    "px.bar(test, x = \"column\", y = \"Mean\", color = \"Variable\", error_y = \"error\", barmode = \"group\", title = \"Subsets that were significantly different in Eating going from no light training to light training\",category_orders = {\"column\":test.sort_values(by = \"Mean\", ascending = False)[\"column\"]})\n",
    "  "
   ]
  },
  {
   "cell_type": "code",
   "execution_count": 238,
   "metadata": {},
   "outputs": [
    {
     "name": "stderr",
     "output_type": "stream",
     "text": [
      "<ipython-input-238-b3cfa68b9cae>:12: DeprecationWarning:\n",
      "\n",
      "The default dtype for empty Series will be 'object' instead of 'float64' in a future version. Specify a dtype explicitly to silence this warning.\n",
      "\n"
     ]
    },
    {
     "data": {
      "application/vnd.plotly.v1+json": {
       "config": {
        "plotlyServerURL": "https://plot.ly"
       },
       "data": [
        {
         "alignmentgroup": "True",
         "error_y": {
          "array": [
           0.03627417952713172,
           0.05506792932896548,
           0.09259139176335496,
           0.116703795668879,
           0.09234748503324808,
           0.07977088703896115,
           0.08610628603787318,
           0.03192161324081469,
           0.056631946021190496,
           0.05422422290879349,
           0.04244651170707994,
           0.03386137280144544,
           0.2539938560632615,
           0.10852301737133085,
           0.2417454302318851,
           0.06844877509584862,
           0.12594680759843913,
           0.1813288168982624
          ]
         },
         "hovertemplate": "Variable=Light Training<br>column=%{x}<br>Mean=%{y}<extra></extra>",
         "legendgroup": "Light Training",
         "marker": {
          "color": "#636efa"
         },
         "name": "Light Training",
         "offsetgroup": "Light Training",
         "orientation": "v",
         "showlegend": true,
         "textposition": "auto",
         "type": "bar",
         "x": [
          "Ross",
          "Chandler",
          "BT1",
          "BT2",
          "BT3",
          "BT4",
          "BT5",
          "GR1",
          "GR2",
          "GR3",
          "GR4",
          "GR5",
          "Total: ",
          "All_GR",
          "All_BT",
          "All_SS",
          "male",
          "female"
         ],
         "xaxis": "x",
         "y": [
          0.125,
          0.25,
          0.7377450980392157,
          0.8700980392156863,
          0.5857843137254902,
          0.4803921568627451,
          0.5935960591133005,
          0.09090909090909091,
          0.26535626535626533,
          0.257985257985258,
          0.14742014742014742,
          0.12039312039312039,
          3.4022140221402215,
          0.8820638820638821,
          3.2610837438423643,
          0.375,
          1.3505535055350553,
          2.0516605166051662
         ],
         "yaxis": "y"
        },
        {
         "alignmentgroup": "True",
         "error_y": {
          "array": [
           1.4544935652126538,
           1.7636966038087336,
           1.7789620087884472,
           0.7611587613691433,
           1.1787566155217641,
           0.9050079970448421,
           1.0785505018519739,
           0.7252035300204964,
           0.6628384268773315,
           1.4114315496247114,
           0.8687230970705246,
           0.8990672793365504,
           6.50143148418897,
           2.8633928584876562,
           4.094699134947806,
           2.967986842756103,
           4.356520469918539,
           3.0333447705182026
          ]
         },
         "hovertemplate": "Variable=Non-Light Training<br>column=%{x}<br>Mean=%{y}<extra></extra>",
         "legendgroup": "Non-Light Training",
         "marker": {
          "color": "#EF553B"
         },
         "name": "Non-Light Training",
         "offsetgroup": "Non-Light Training",
         "orientation": "v",
         "showlegend": true,
         "textposition": "auto",
         "type": "bar",
         "x": [
          "Ross",
          "Chandler",
          "BT1",
          "BT2",
          "BT3",
          "BT4",
          "BT5",
          "GR1",
          "GR2",
          "GR3",
          "GR4",
          "GR5",
          "Total: ",
          "All_GR",
          "All_BT",
          "All_SS",
          "male",
          "female"
         ],
         "xaxis": "x",
         "y": [
          5.733333333333333,
          6.866666666666666,
          6.033333333333333,
          3.6,
          5.533333333333333,
          3.8333333333333335,
          3.7666666666666666,
          2.4193548387096775,
          1.935483870967742,
          5.193548387096774,
          2.4193548387096775,
          1.5161290322580645,
          36.975,
          13.483870967741936,
          22.766666666666666,
          12.6,
          18.675,
          18.3
         ],
         "yaxis": "y"
        }
       ],
       "layout": {
        "barmode": "group",
        "legend": {
         "title": {
          "text": "Variable"
         },
         "tracegroupgap": 0
        },
        "template": {
         "data": {
          "bar": [
           {
            "error_x": {
             "color": "#2a3f5f"
            },
            "error_y": {
             "color": "#2a3f5f"
            },
            "marker": {
             "line": {
              "color": "#E5ECF6",
              "width": 0.5
             }
            },
            "type": "bar"
           }
          ],
          "barpolar": [
           {
            "marker": {
             "line": {
              "color": "#E5ECF6",
              "width": 0.5
             }
            },
            "type": "barpolar"
           }
          ],
          "carpet": [
           {
            "aaxis": {
             "endlinecolor": "#2a3f5f",
             "gridcolor": "white",
             "linecolor": "white",
             "minorgridcolor": "white",
             "startlinecolor": "#2a3f5f"
            },
            "baxis": {
             "endlinecolor": "#2a3f5f",
             "gridcolor": "white",
             "linecolor": "white",
             "minorgridcolor": "white",
             "startlinecolor": "#2a3f5f"
            },
            "type": "carpet"
           }
          ],
          "choropleth": [
           {
            "colorbar": {
             "outlinewidth": 0,
             "ticks": ""
            },
            "type": "choropleth"
           }
          ],
          "contour": [
           {
            "colorbar": {
             "outlinewidth": 0,
             "ticks": ""
            },
            "colorscale": [
             [
              0,
              "#0d0887"
             ],
             [
              0.1111111111111111,
              "#46039f"
             ],
             [
              0.2222222222222222,
              "#7201a8"
             ],
             [
              0.3333333333333333,
              "#9c179e"
             ],
             [
              0.4444444444444444,
              "#bd3786"
             ],
             [
              0.5555555555555556,
              "#d8576b"
             ],
             [
              0.6666666666666666,
              "#ed7953"
             ],
             [
              0.7777777777777778,
              "#fb9f3a"
             ],
             [
              0.8888888888888888,
              "#fdca26"
             ],
             [
              1,
              "#f0f921"
             ]
            ],
            "type": "contour"
           }
          ],
          "contourcarpet": [
           {
            "colorbar": {
             "outlinewidth": 0,
             "ticks": ""
            },
            "type": "contourcarpet"
           }
          ],
          "heatmap": [
           {
            "colorbar": {
             "outlinewidth": 0,
             "ticks": ""
            },
            "colorscale": [
             [
              0,
              "#0d0887"
             ],
             [
              0.1111111111111111,
              "#46039f"
             ],
             [
              0.2222222222222222,
              "#7201a8"
             ],
             [
              0.3333333333333333,
              "#9c179e"
             ],
             [
              0.4444444444444444,
              "#bd3786"
             ],
             [
              0.5555555555555556,
              "#d8576b"
             ],
             [
              0.6666666666666666,
              "#ed7953"
             ],
             [
              0.7777777777777778,
              "#fb9f3a"
             ],
             [
              0.8888888888888888,
              "#fdca26"
             ],
             [
              1,
              "#f0f921"
             ]
            ],
            "type": "heatmap"
           }
          ],
          "heatmapgl": [
           {
            "colorbar": {
             "outlinewidth": 0,
             "ticks": ""
            },
            "colorscale": [
             [
              0,
              "#0d0887"
             ],
             [
              0.1111111111111111,
              "#46039f"
             ],
             [
              0.2222222222222222,
              "#7201a8"
             ],
             [
              0.3333333333333333,
              "#9c179e"
             ],
             [
              0.4444444444444444,
              "#bd3786"
             ],
             [
              0.5555555555555556,
              "#d8576b"
             ],
             [
              0.6666666666666666,
              "#ed7953"
             ],
             [
              0.7777777777777778,
              "#fb9f3a"
             ],
             [
              0.8888888888888888,
              "#fdca26"
             ],
             [
              1,
              "#f0f921"
             ]
            ],
            "type": "heatmapgl"
           }
          ],
          "histogram": [
           {
            "marker": {
             "colorbar": {
              "outlinewidth": 0,
              "ticks": ""
             }
            },
            "type": "histogram"
           }
          ],
          "histogram2d": [
           {
            "colorbar": {
             "outlinewidth": 0,
             "ticks": ""
            },
            "colorscale": [
             [
              0,
              "#0d0887"
             ],
             [
              0.1111111111111111,
              "#46039f"
             ],
             [
              0.2222222222222222,
              "#7201a8"
             ],
             [
              0.3333333333333333,
              "#9c179e"
             ],
             [
              0.4444444444444444,
              "#bd3786"
             ],
             [
              0.5555555555555556,
              "#d8576b"
             ],
             [
              0.6666666666666666,
              "#ed7953"
             ],
             [
              0.7777777777777778,
              "#fb9f3a"
             ],
             [
              0.8888888888888888,
              "#fdca26"
             ],
             [
              1,
              "#f0f921"
             ]
            ],
            "type": "histogram2d"
           }
          ],
          "histogram2dcontour": [
           {
            "colorbar": {
             "outlinewidth": 0,
             "ticks": ""
            },
            "colorscale": [
             [
              0,
              "#0d0887"
             ],
             [
              0.1111111111111111,
              "#46039f"
             ],
             [
              0.2222222222222222,
              "#7201a8"
             ],
             [
              0.3333333333333333,
              "#9c179e"
             ],
             [
              0.4444444444444444,
              "#bd3786"
             ],
             [
              0.5555555555555556,
              "#d8576b"
             ],
             [
              0.6666666666666666,
              "#ed7953"
             ],
             [
              0.7777777777777778,
              "#fb9f3a"
             ],
             [
              0.8888888888888888,
              "#fdca26"
             ],
             [
              1,
              "#f0f921"
             ]
            ],
            "type": "histogram2dcontour"
           }
          ],
          "mesh3d": [
           {
            "colorbar": {
             "outlinewidth": 0,
             "ticks": ""
            },
            "type": "mesh3d"
           }
          ],
          "parcoords": [
           {
            "line": {
             "colorbar": {
              "outlinewidth": 0,
              "ticks": ""
             }
            },
            "type": "parcoords"
           }
          ],
          "pie": [
           {
            "automargin": true,
            "type": "pie"
           }
          ],
          "scatter": [
           {
            "marker": {
             "colorbar": {
              "outlinewidth": 0,
              "ticks": ""
             }
            },
            "type": "scatter"
           }
          ],
          "scatter3d": [
           {
            "line": {
             "colorbar": {
              "outlinewidth": 0,
              "ticks": ""
             }
            },
            "marker": {
             "colorbar": {
              "outlinewidth": 0,
              "ticks": ""
             }
            },
            "type": "scatter3d"
           }
          ],
          "scattercarpet": [
           {
            "marker": {
             "colorbar": {
              "outlinewidth": 0,
              "ticks": ""
             }
            },
            "type": "scattercarpet"
           }
          ],
          "scattergeo": [
           {
            "marker": {
             "colorbar": {
              "outlinewidth": 0,
              "ticks": ""
             }
            },
            "type": "scattergeo"
           }
          ],
          "scattergl": [
           {
            "marker": {
             "colorbar": {
              "outlinewidth": 0,
              "ticks": ""
             }
            },
            "type": "scattergl"
           }
          ],
          "scattermapbox": [
           {
            "marker": {
             "colorbar": {
              "outlinewidth": 0,
              "ticks": ""
             }
            },
            "type": "scattermapbox"
           }
          ],
          "scatterpolar": [
           {
            "marker": {
             "colorbar": {
              "outlinewidth": 0,
              "ticks": ""
             }
            },
            "type": "scatterpolar"
           }
          ],
          "scatterpolargl": [
           {
            "marker": {
             "colorbar": {
              "outlinewidth": 0,
              "ticks": ""
             }
            },
            "type": "scatterpolargl"
           }
          ],
          "scatterternary": [
           {
            "marker": {
             "colorbar": {
              "outlinewidth": 0,
              "ticks": ""
             }
            },
            "type": "scatterternary"
           }
          ],
          "surface": [
           {
            "colorbar": {
             "outlinewidth": 0,
             "ticks": ""
            },
            "colorscale": [
             [
              0,
              "#0d0887"
             ],
             [
              0.1111111111111111,
              "#46039f"
             ],
             [
              0.2222222222222222,
              "#7201a8"
             ],
             [
              0.3333333333333333,
              "#9c179e"
             ],
             [
              0.4444444444444444,
              "#bd3786"
             ],
             [
              0.5555555555555556,
              "#d8576b"
             ],
             [
              0.6666666666666666,
              "#ed7953"
             ],
             [
              0.7777777777777778,
              "#fb9f3a"
             ],
             [
              0.8888888888888888,
              "#fdca26"
             ],
             [
              1,
              "#f0f921"
             ]
            ],
            "type": "surface"
           }
          ],
          "table": [
           {
            "cells": {
             "fill": {
              "color": "#EBF0F8"
             },
             "line": {
              "color": "white"
             }
            },
            "header": {
             "fill": {
              "color": "#C8D4E3"
             },
             "line": {
              "color": "white"
             }
            },
            "type": "table"
           }
          ]
         },
         "layout": {
          "annotationdefaults": {
           "arrowcolor": "#2a3f5f",
           "arrowhead": 0,
           "arrowwidth": 1
          },
          "coloraxis": {
           "colorbar": {
            "outlinewidth": 0,
            "ticks": ""
           }
          },
          "colorscale": {
           "diverging": [
            [
             0,
             "#8e0152"
            ],
            [
             0.1,
             "#c51b7d"
            ],
            [
             0.2,
             "#de77ae"
            ],
            [
             0.3,
             "#f1b6da"
            ],
            [
             0.4,
             "#fde0ef"
            ],
            [
             0.5,
             "#f7f7f7"
            ],
            [
             0.6,
             "#e6f5d0"
            ],
            [
             0.7,
             "#b8e186"
            ],
            [
             0.8,
             "#7fbc41"
            ],
            [
             0.9,
             "#4d9221"
            ],
            [
             1,
             "#276419"
            ]
           ],
           "sequential": [
            [
             0,
             "#0d0887"
            ],
            [
             0.1111111111111111,
             "#46039f"
            ],
            [
             0.2222222222222222,
             "#7201a8"
            ],
            [
             0.3333333333333333,
             "#9c179e"
            ],
            [
             0.4444444444444444,
             "#bd3786"
            ],
            [
             0.5555555555555556,
             "#d8576b"
            ],
            [
             0.6666666666666666,
             "#ed7953"
            ],
            [
             0.7777777777777778,
             "#fb9f3a"
            ],
            [
             0.8888888888888888,
             "#fdca26"
            ],
            [
             1,
             "#f0f921"
            ]
           ],
           "sequentialminus": [
            [
             0,
             "#0d0887"
            ],
            [
             0.1111111111111111,
             "#46039f"
            ],
            [
             0.2222222222222222,
             "#7201a8"
            ],
            [
             0.3333333333333333,
             "#9c179e"
            ],
            [
             0.4444444444444444,
             "#bd3786"
            ],
            [
             0.5555555555555556,
             "#d8576b"
            ],
            [
             0.6666666666666666,
             "#ed7953"
            ],
            [
             0.7777777777777778,
             "#fb9f3a"
            ],
            [
             0.8888888888888888,
             "#fdca26"
            ],
            [
             1,
             "#f0f921"
            ]
           ]
          },
          "colorway": [
           "#636efa",
           "#EF553B",
           "#00cc96",
           "#ab63fa",
           "#FFA15A",
           "#19d3f3",
           "#FF6692",
           "#B6E880",
           "#FF97FF",
           "#FECB52"
          ],
          "font": {
           "color": "#2a3f5f"
          },
          "geo": {
           "bgcolor": "white",
           "lakecolor": "white",
           "landcolor": "#E5ECF6",
           "showlakes": true,
           "showland": true,
           "subunitcolor": "white"
          },
          "hoverlabel": {
           "align": "left"
          },
          "hovermode": "closest",
          "mapbox": {
           "style": "light"
          },
          "paper_bgcolor": "white",
          "plot_bgcolor": "#E5ECF6",
          "polar": {
           "angularaxis": {
            "gridcolor": "white",
            "linecolor": "white",
            "ticks": ""
           },
           "bgcolor": "#E5ECF6",
           "radialaxis": {
            "gridcolor": "white",
            "linecolor": "white",
            "ticks": ""
           }
          },
          "scene": {
           "xaxis": {
            "backgroundcolor": "#E5ECF6",
            "gridcolor": "white",
            "gridwidth": 2,
            "linecolor": "white",
            "showbackground": true,
            "ticks": "",
            "zerolinecolor": "white"
           },
           "yaxis": {
            "backgroundcolor": "#E5ECF6",
            "gridcolor": "white",
            "gridwidth": 2,
            "linecolor": "white",
            "showbackground": true,
            "ticks": "",
            "zerolinecolor": "white"
           },
           "zaxis": {
            "backgroundcolor": "#E5ECF6",
            "gridcolor": "white",
            "gridwidth": 2,
            "linecolor": "white",
            "showbackground": true,
            "ticks": "",
            "zerolinecolor": "white"
           }
          },
          "shapedefaults": {
           "line": {
            "color": "#2a3f5f"
           }
          },
          "ternary": {
           "aaxis": {
            "gridcolor": "white",
            "linecolor": "white",
            "ticks": ""
           },
           "baxis": {
            "gridcolor": "white",
            "linecolor": "white",
            "ticks": ""
           },
           "bgcolor": "#E5ECF6",
           "caxis": {
            "gridcolor": "white",
            "linecolor": "white",
            "ticks": ""
           }
          },
          "title": {
           "x": 0.05
          },
          "xaxis": {
           "automargin": true,
           "gridcolor": "white",
           "linecolor": "white",
           "ticks": "",
           "title": {
            "standoff": 15
           },
           "zerolinecolor": "white",
           "zerolinewidth": 2
          },
          "yaxis": {
           "automargin": true,
           "gridcolor": "white",
           "linecolor": "white",
           "ticks": "",
           "title": {
            "standoff": 15
           },
           "zerolinecolor": "white",
           "zerolinewidth": 2
          }
         }
        },
        "title": {
         "text": "Subsets that were significantly different in Targeting going from no light training to light training"
        },
        "xaxis": {
         "anchor": "y",
         "categoryarray": [
          "Total: ",
          "All_BT",
          "male",
          "female",
          "All_GR",
          "All_SS",
          "Chandler",
          "BT1",
          "Ross",
          "BT3",
          "GR3",
          "BT4",
          "BT5",
          "BT2",
          "Total: ",
          "All_BT",
          "GR1",
          "GR4",
          "female",
          "GR2",
          "GR5",
          "male",
          "All_GR",
          "BT2",
          "BT1",
          "BT5",
          "BT3",
          "BT4",
          "All_SS",
          "GR2",
          "GR3",
          "Chandler",
          "GR4",
          "Ross",
          "GR5",
          "GR1"
         ],
         "categoryorder": "array",
         "domain": [
          0,
          1
         ],
         "title": {
          "text": "column"
         }
        },
        "yaxis": {
         "anchor": "x",
         "domain": [
          0,
          1
         ],
         "title": {
          "text": "Mean"
         }
        }
       }
      },
      "text/html": [
       "<div>                            <div id=\"4a3a2f95-2c66-49e6-a3c5-465804fd3014\" class=\"plotly-graph-div\" style=\"height:525px; width:100%;\"></div>            <script type=\"text/javascript\">                require([\"plotly\"], function(Plotly) {                    window.PLOTLYENV=window.PLOTLYENV || {};                                    if (document.getElementById(\"4a3a2f95-2c66-49e6-a3c5-465804fd3014\")) {                    Plotly.newPlot(                        \"4a3a2f95-2c66-49e6-a3c5-465804fd3014\",                        [{\"alignmentgroup\": \"True\", \"error_y\": {\"array\": [0.03627417952713172, 0.05506792932896548, 0.09259139176335496, 0.116703795668879, 0.09234748503324808, 0.07977088703896115, 0.08610628603787318, 0.03192161324081469, 0.056631946021190496, 0.05422422290879349, 0.04244651170707994, 0.03386137280144544, 0.2539938560632615, 0.10852301737133085, 0.2417454302318851, 0.06844877509584862, 0.12594680759843913, 0.1813288168982624]}, \"hovertemplate\": \"Variable=Light Training<br>column=%{x}<br>Mean=%{y}<extra></extra>\", \"legendgroup\": \"Light Training\", \"marker\": {\"color\": \"#636efa\"}, \"name\": \"Light Training\", \"offsetgroup\": \"Light Training\", \"orientation\": \"v\", \"showlegend\": true, \"textposition\": \"auto\", \"type\": \"bar\", \"x\": [\"Ross\", \"Chandler\", \"BT1\", \"BT2\", \"BT3\", \"BT4\", \"BT5\", \"GR1\", \"GR2\", \"GR3\", \"GR4\", \"GR5\", \"Total: \", \"All_GR\", \"All_BT\", \"All_SS\", \"male\", \"female\"], \"xaxis\": \"x\", \"y\": [0.125, 0.25, 0.7377450980392157, 0.8700980392156863, 0.5857843137254902, 0.4803921568627451, 0.5935960591133005, 0.09090909090909091, 0.26535626535626533, 0.257985257985258, 0.14742014742014742, 0.12039312039312039, 3.4022140221402215, 0.8820638820638821, 3.2610837438423643, 0.375, 1.3505535055350553, 2.0516605166051662], \"yaxis\": \"y\"}, {\"alignmentgroup\": \"True\", \"error_y\": {\"array\": [1.4544935652126538, 1.7636966038087336, 1.7789620087884472, 0.7611587613691433, 1.1787566155217641, 0.9050079970448421, 1.0785505018519739, 0.7252035300204964, 0.6628384268773315, 1.4114315496247114, 0.8687230970705246, 0.8990672793365504, 6.50143148418897, 2.8633928584876562, 4.094699134947806, 2.967986842756103, 4.356520469918539, 3.0333447705182026]}, \"hovertemplate\": \"Variable=Non-Light Training<br>column=%{x}<br>Mean=%{y}<extra></extra>\", \"legendgroup\": \"Non-Light Training\", \"marker\": {\"color\": \"#EF553B\"}, \"name\": \"Non-Light Training\", \"offsetgroup\": \"Non-Light Training\", \"orientation\": \"v\", \"showlegend\": true, \"textposition\": \"auto\", \"type\": \"bar\", \"x\": [\"Ross\", \"Chandler\", \"BT1\", \"BT2\", \"BT3\", \"BT4\", \"BT5\", \"GR1\", \"GR2\", \"GR3\", \"GR4\", \"GR5\", \"Total: \", \"All_GR\", \"All_BT\", \"All_SS\", \"male\", \"female\"], \"xaxis\": \"x\", \"y\": [5.733333333333333, 6.866666666666666, 6.033333333333333, 3.6, 5.533333333333333, 3.8333333333333335, 3.7666666666666666, 2.4193548387096775, 1.935483870967742, 5.193548387096774, 2.4193548387096775, 1.5161290322580645, 36.975, 13.483870967741936, 22.766666666666666, 12.6, 18.675, 18.3], \"yaxis\": \"y\"}],                        {\"barmode\": \"group\", \"legend\": {\"title\": {\"text\": \"Variable\"}, \"tracegroupgap\": 0}, \"template\": {\"data\": {\"bar\": [{\"error_x\": {\"color\": \"#2a3f5f\"}, \"error_y\": {\"color\": \"#2a3f5f\"}, \"marker\": {\"line\": {\"color\": \"#E5ECF6\", \"width\": 0.5}}, \"type\": \"bar\"}], \"barpolar\": [{\"marker\": {\"line\": {\"color\": \"#E5ECF6\", \"width\": 0.5}}, \"type\": \"barpolar\"}], \"carpet\": [{\"aaxis\": {\"endlinecolor\": \"#2a3f5f\", \"gridcolor\": \"white\", \"linecolor\": \"white\", \"minorgridcolor\": \"white\", \"startlinecolor\": \"#2a3f5f\"}, \"baxis\": {\"endlinecolor\": \"#2a3f5f\", \"gridcolor\": \"white\", \"linecolor\": \"white\", \"minorgridcolor\": \"white\", \"startlinecolor\": \"#2a3f5f\"}, \"type\": \"carpet\"}], \"choropleth\": [{\"colorbar\": {\"outlinewidth\": 0, \"ticks\": \"\"}, \"type\": \"choropleth\"}], \"contour\": [{\"colorbar\": {\"outlinewidth\": 0, \"ticks\": \"\"}, \"colorscale\": [[0.0, \"#0d0887\"], [0.1111111111111111, \"#46039f\"], [0.2222222222222222, \"#7201a8\"], [0.3333333333333333, \"#9c179e\"], [0.4444444444444444, \"#bd3786\"], [0.5555555555555556, \"#d8576b\"], [0.6666666666666666, \"#ed7953\"], [0.7777777777777778, \"#fb9f3a\"], [0.8888888888888888, \"#fdca26\"], [1.0, \"#f0f921\"]], \"type\": \"contour\"}], \"contourcarpet\": [{\"colorbar\": {\"outlinewidth\": 0, \"ticks\": \"\"}, \"type\": \"contourcarpet\"}], \"heatmap\": [{\"colorbar\": {\"outlinewidth\": 0, \"ticks\": \"\"}, \"colorscale\": [[0.0, \"#0d0887\"], [0.1111111111111111, \"#46039f\"], [0.2222222222222222, \"#7201a8\"], [0.3333333333333333, \"#9c179e\"], [0.4444444444444444, \"#bd3786\"], [0.5555555555555556, \"#d8576b\"], [0.6666666666666666, \"#ed7953\"], [0.7777777777777778, \"#fb9f3a\"], [0.8888888888888888, \"#fdca26\"], [1.0, \"#f0f921\"]], \"type\": \"heatmap\"}], \"heatmapgl\": [{\"colorbar\": {\"outlinewidth\": 0, \"ticks\": \"\"}, \"colorscale\": [[0.0, \"#0d0887\"], [0.1111111111111111, \"#46039f\"], [0.2222222222222222, \"#7201a8\"], [0.3333333333333333, \"#9c179e\"], [0.4444444444444444, \"#bd3786\"], [0.5555555555555556, \"#d8576b\"], [0.6666666666666666, \"#ed7953\"], [0.7777777777777778, \"#fb9f3a\"], [0.8888888888888888, \"#fdca26\"], [1.0, \"#f0f921\"]], \"type\": \"heatmapgl\"}], \"histogram\": [{\"marker\": {\"colorbar\": {\"outlinewidth\": 0, \"ticks\": \"\"}}, \"type\": \"histogram\"}], \"histogram2d\": [{\"colorbar\": {\"outlinewidth\": 0, \"ticks\": \"\"}, \"colorscale\": [[0.0, \"#0d0887\"], [0.1111111111111111, \"#46039f\"], [0.2222222222222222, \"#7201a8\"], [0.3333333333333333, \"#9c179e\"], [0.4444444444444444, \"#bd3786\"], [0.5555555555555556, \"#d8576b\"], [0.6666666666666666, \"#ed7953\"], [0.7777777777777778, \"#fb9f3a\"], [0.8888888888888888, \"#fdca26\"], [1.0, \"#f0f921\"]], \"type\": \"histogram2d\"}], \"histogram2dcontour\": [{\"colorbar\": {\"outlinewidth\": 0, \"ticks\": \"\"}, \"colorscale\": [[0.0, \"#0d0887\"], [0.1111111111111111, \"#46039f\"], [0.2222222222222222, \"#7201a8\"], [0.3333333333333333, \"#9c179e\"], [0.4444444444444444, \"#bd3786\"], [0.5555555555555556, \"#d8576b\"], [0.6666666666666666, \"#ed7953\"], [0.7777777777777778, \"#fb9f3a\"], [0.8888888888888888, \"#fdca26\"], [1.0, \"#f0f921\"]], \"type\": \"histogram2dcontour\"}], \"mesh3d\": [{\"colorbar\": {\"outlinewidth\": 0, \"ticks\": \"\"}, \"type\": \"mesh3d\"}], \"parcoords\": [{\"line\": {\"colorbar\": {\"outlinewidth\": 0, \"ticks\": \"\"}}, \"type\": \"parcoords\"}], \"pie\": [{\"automargin\": true, \"type\": \"pie\"}], \"scatter\": [{\"marker\": {\"colorbar\": {\"outlinewidth\": 0, \"ticks\": \"\"}}, \"type\": \"scatter\"}], \"scatter3d\": [{\"line\": {\"colorbar\": {\"outlinewidth\": 0, \"ticks\": \"\"}}, \"marker\": {\"colorbar\": {\"outlinewidth\": 0, \"ticks\": \"\"}}, \"type\": \"scatter3d\"}], \"scattercarpet\": [{\"marker\": {\"colorbar\": {\"outlinewidth\": 0, \"ticks\": \"\"}}, \"type\": \"scattercarpet\"}], \"scattergeo\": [{\"marker\": {\"colorbar\": {\"outlinewidth\": 0, \"ticks\": \"\"}}, \"type\": \"scattergeo\"}], \"scattergl\": [{\"marker\": {\"colorbar\": {\"outlinewidth\": 0, \"ticks\": \"\"}}, \"type\": \"scattergl\"}], \"scattermapbox\": [{\"marker\": {\"colorbar\": {\"outlinewidth\": 0, \"ticks\": \"\"}}, \"type\": \"scattermapbox\"}], \"scatterpolar\": [{\"marker\": {\"colorbar\": {\"outlinewidth\": 0, \"ticks\": \"\"}}, \"type\": \"scatterpolar\"}], \"scatterpolargl\": [{\"marker\": {\"colorbar\": {\"outlinewidth\": 0, \"ticks\": \"\"}}, \"type\": \"scatterpolargl\"}], \"scatterternary\": [{\"marker\": {\"colorbar\": {\"outlinewidth\": 0, \"ticks\": \"\"}}, \"type\": \"scatterternary\"}], \"surface\": [{\"colorbar\": {\"outlinewidth\": 0, \"ticks\": \"\"}, \"colorscale\": [[0.0, \"#0d0887\"], [0.1111111111111111, \"#46039f\"], [0.2222222222222222, \"#7201a8\"], [0.3333333333333333, \"#9c179e\"], [0.4444444444444444, \"#bd3786\"], [0.5555555555555556, \"#d8576b\"], [0.6666666666666666, \"#ed7953\"], [0.7777777777777778, \"#fb9f3a\"], [0.8888888888888888, \"#fdca26\"], [1.0, \"#f0f921\"]], \"type\": \"surface\"}], \"table\": [{\"cells\": {\"fill\": {\"color\": \"#EBF0F8\"}, \"line\": {\"color\": \"white\"}}, \"header\": {\"fill\": {\"color\": \"#C8D4E3\"}, \"line\": {\"color\": \"white\"}}, \"type\": \"table\"}]}, \"layout\": {\"annotationdefaults\": {\"arrowcolor\": \"#2a3f5f\", \"arrowhead\": 0, \"arrowwidth\": 1}, \"coloraxis\": {\"colorbar\": {\"outlinewidth\": 0, \"ticks\": \"\"}}, \"colorscale\": {\"diverging\": [[0, \"#8e0152\"], [0.1, \"#c51b7d\"], [0.2, \"#de77ae\"], [0.3, \"#f1b6da\"], [0.4, \"#fde0ef\"], [0.5, \"#f7f7f7\"], [0.6, \"#e6f5d0\"], [0.7, \"#b8e186\"], [0.8, \"#7fbc41\"], [0.9, \"#4d9221\"], [1, \"#276419\"]], \"sequential\": [[0.0, \"#0d0887\"], [0.1111111111111111, \"#46039f\"], [0.2222222222222222, \"#7201a8\"], [0.3333333333333333, \"#9c179e\"], [0.4444444444444444, \"#bd3786\"], [0.5555555555555556, \"#d8576b\"], [0.6666666666666666, \"#ed7953\"], [0.7777777777777778, \"#fb9f3a\"], [0.8888888888888888, \"#fdca26\"], [1.0, \"#f0f921\"]], \"sequentialminus\": [[0.0, \"#0d0887\"], [0.1111111111111111, \"#46039f\"], [0.2222222222222222, \"#7201a8\"], [0.3333333333333333, \"#9c179e\"], [0.4444444444444444, \"#bd3786\"], [0.5555555555555556, \"#d8576b\"], [0.6666666666666666, \"#ed7953\"], [0.7777777777777778, \"#fb9f3a\"], [0.8888888888888888, \"#fdca26\"], [1.0, \"#f0f921\"]]}, \"colorway\": [\"#636efa\", \"#EF553B\", \"#00cc96\", \"#ab63fa\", \"#FFA15A\", \"#19d3f3\", \"#FF6692\", \"#B6E880\", \"#FF97FF\", \"#FECB52\"], \"font\": {\"color\": \"#2a3f5f\"}, \"geo\": {\"bgcolor\": \"white\", \"lakecolor\": \"white\", \"landcolor\": \"#E5ECF6\", \"showlakes\": true, \"showland\": true, \"subunitcolor\": \"white\"}, \"hoverlabel\": {\"align\": \"left\"}, \"hovermode\": \"closest\", \"mapbox\": {\"style\": \"light\"}, \"paper_bgcolor\": \"white\", \"plot_bgcolor\": \"#E5ECF6\", \"polar\": {\"angularaxis\": {\"gridcolor\": \"white\", \"linecolor\": \"white\", \"ticks\": \"\"}, \"bgcolor\": \"#E5ECF6\", \"radialaxis\": {\"gridcolor\": \"white\", \"linecolor\": \"white\", \"ticks\": \"\"}}, \"scene\": {\"xaxis\": {\"backgroundcolor\": \"#E5ECF6\", \"gridcolor\": \"white\", \"gridwidth\": 2, \"linecolor\": \"white\", \"showbackground\": true, \"ticks\": \"\", \"zerolinecolor\": \"white\"}, \"yaxis\": {\"backgroundcolor\": \"#E5ECF6\", \"gridcolor\": \"white\", \"gridwidth\": 2, \"linecolor\": \"white\", \"showbackground\": true, \"ticks\": \"\", \"zerolinecolor\": \"white\"}, \"zaxis\": {\"backgroundcolor\": \"#E5ECF6\", \"gridcolor\": \"white\", \"gridwidth\": 2, \"linecolor\": \"white\", \"showbackground\": true, \"ticks\": \"\", \"zerolinecolor\": \"white\"}}, \"shapedefaults\": {\"line\": {\"color\": \"#2a3f5f\"}}, \"ternary\": {\"aaxis\": {\"gridcolor\": \"white\", \"linecolor\": \"white\", \"ticks\": \"\"}, \"baxis\": {\"gridcolor\": \"white\", \"linecolor\": \"white\", \"ticks\": \"\"}, \"bgcolor\": \"#E5ECF6\", \"caxis\": {\"gridcolor\": \"white\", \"linecolor\": \"white\", \"ticks\": \"\"}}, \"title\": {\"x\": 0.05}, \"xaxis\": {\"automargin\": true, \"gridcolor\": \"white\", \"linecolor\": \"white\", \"ticks\": \"\", \"title\": {\"standoff\": 15}, \"zerolinecolor\": \"white\", \"zerolinewidth\": 2}, \"yaxis\": {\"automargin\": true, \"gridcolor\": \"white\", \"linecolor\": \"white\", \"ticks\": \"\", \"title\": {\"standoff\": 15}, \"zerolinecolor\": \"white\", \"zerolinewidth\": 2}}}, \"title\": {\"text\": \"Subsets that were significantly different in Targeting going from no light training to light training\"}, \"xaxis\": {\"anchor\": \"y\", \"categoryarray\": [\"Total: \", \"All_BT\", \"male\", \"female\", \"All_GR\", \"All_SS\", \"Chandler\", \"BT1\", \"Ross\", \"BT3\", \"GR3\", \"BT4\", \"BT5\", \"BT2\", \"Total: \", \"All_BT\", \"GR1\", \"GR4\", \"female\", \"GR2\", \"GR5\", \"male\", \"All_GR\", \"BT2\", \"BT1\", \"BT5\", \"BT3\", \"BT4\", \"All_SS\", \"GR2\", \"GR3\", \"Chandler\", \"GR4\", \"Ross\", \"GR5\", \"GR1\"], \"categoryorder\": \"array\", \"domain\": [0.0, 1.0], \"title\": {\"text\": \"column\"}}, \"yaxis\": {\"anchor\": \"x\", \"domain\": [0.0, 1.0], \"title\": {\"text\": \"Mean\"}}},                        {\"responsive\": true}                    ).then(function(){\n",
       "                            \n",
       "var gd = document.getElementById('4a3a2f95-2c66-49e6-a3c5-465804fd3014');\n",
       "var x = new MutationObserver(function (mutations, observer) {{\n",
       "        var display = window.getComputedStyle(gd).display;\n",
       "        if (!display || display === 'none') {{\n",
       "            console.log([gd, 'removed!']);\n",
       "            Plotly.purge(gd);\n",
       "            observer.disconnect();\n",
       "        }}\n",
       "}});\n",
       "\n",
       "// Listen for the removal of the full notebook cells\n",
       "var notebookContainer = gd.closest('#notebook-container');\n",
       "if (notebookContainer) {{\n",
       "    x.observe(notebookContainer, {childList: true});\n",
       "}}\n",
       "\n",
       "// Listen for the clearing of the current output cell\n",
       "var outputEl = gd.closest('.output');\n",
       "if (outputEl) {{\n",
       "    x.observe(outputEl, {childList: true});\n",
       "}}\n",
       "\n",
       "                        })                };                });            </script>        </div>"
      ]
     },
     "metadata": {},
     "output_type": "display_data"
    }
   ],
   "source": [
    "test = pd.DataFrame()\n",
    "for column in light_targets.iloc[:,1:]:\n",
    "    x = st.t.interval(alpha=0.95, df=len(light_targets[column])-1, loc=np.mean(light_targets[column]), scale=st.sem(light_targets[column],nan_policy='omit'))\n",
    "    y = st.t.interval(alpha=0.95, df=len(no_light_targets[column])-1, loc=np.mean(no_light_targets[column]), scale=st.sem(no_light_targets[column],nan_policy='omit'))\n",
    "    if overlap(x[0],x[1],y[0],y[1])==False:\n",
    "        light_mean = light_targets[column].mean()\n",
    "        no_light_mean = no_light_targets[column].mean()\n",
    "        light_int = st.t.interval(alpha=0.95, df=len(light_targets[column])-1, loc=np.mean(light_targets[column]), scale=st.sem(light_targets[column],nan_policy='omit'))\n",
    "        no_light_int = st.t.interval(alpha=0.95, df=len(no_light_targets[column])-1, loc=np.mean(no_light_targets[column]), scale=st.sem(no_light_targets[column],nan_policy='omit'))\n",
    "        light_error = (light_int[1] - light_int[0])/2\n",
    "        no_light_error = (no_light_int[1] - no_light_int[0])/2\n",
    "        pd.Series()\n",
    "        data = {'Variable':['Light Training','Non-Light Training'], 'Mean':[light_mean,no_light_mean],'error':[light_error,no_light_error],'column':[column,column]} \n",
    "        data = pd.DataFrame(data)\n",
    "        test = pd.concat([test, data])\n",
    "    else:\n",
    "        print(column,\"Has Confidence Intervals that overlap\")\n",
    "        print(\"Here are the confidence intervals:\")\n",
    "        print(\"Light Training:\",x)\n",
    "        print(\"Non-Light Training:\",y)\n",
    "test\n",
    "\n",
    "px.bar(test, x = \"column\", y = \"Mean\", color = \"Variable\", error_y = \"error\", barmode = \"group\", title = \"Subsets that were significantly different in Targeting going from no light training to light training\",category_orders = {\"column\":test.sort_values(by = \"Mean\", ascending = False)[\"column\"]})\n"
   ]
  },
  {
   "cell_type": "markdown",
   "metadata": {},
   "source": [
    "# Checking Assumptions"
   ]
  },
  {
   "cell_type": "markdown",
   "metadata": {},
   "source": [
    "## 1. Check if errors of dist. are normal through qq plots"
   ]
  },
  {
   "cell_type": "code",
   "execution_count": 245,
   "metadata": {},
   "outputs": [
    {
     "data": {
      "text/html": [
       "<div>\n",
       "<style scoped>\n",
       "    .dataframe tbody tr th:only-of-type {\n",
       "        vertical-align: middle;\n",
       "    }\n",
       "\n",
       "    .dataframe tbody tr th {\n",
       "        vertical-align: top;\n",
       "    }\n",
       "\n",
       "    .dataframe thead th {\n",
       "        text-align: right;\n",
       "    }\n",
       "</style>\n",
       "<table border=\"1\" class=\"dataframe\">\n",
       "  <thead>\n",
       "    <tr style=\"text-align: right;\">\n",
       "      <th></th>\n",
       "      <th>Ross</th>\n",
       "      <th>Chandler</th>\n",
       "      <th>BT1</th>\n",
       "      <th>BT2</th>\n",
       "      <th>BT3</th>\n",
       "      <th>BT4</th>\n",
       "      <th>BT5</th>\n",
       "      <th>GR1</th>\n",
       "      <th>GR2</th>\n",
       "      <th>GR3</th>\n",
       "      <th>GR4</th>\n",
       "      <th>GR5</th>\n",
       "      <th>Total:</th>\n",
       "      <th>All_GR</th>\n",
       "      <th>All_BT</th>\n",
       "      <th>All_SS</th>\n",
       "      <th>male</th>\n",
       "      <th>female</th>\n",
       "    </tr>\n",
       "  </thead>\n",
       "  <tbody>\n",
       "    <tr>\n",
       "      <th>0</th>\n",
       "      <td>1.264555</td>\n",
       "      <td>-0.752995</td>\n",
       "      <td>-0.434675</td>\n",
       "      <td>-1.306980</td>\n",
       "      <td>-1.110323</td>\n",
       "      <td>-0.543469</td>\n",
       "      <td>-0.371444</td>\n",
       "      <td>0.994478</td>\n",
       "      <td>0.991042</td>\n",
       "      <td>-0.082193</td>\n",
       "      <td>-0.906527</td>\n",
       "      <td>0.468374</td>\n",
       "      <td>-1.272287</td>\n",
       "      <td>0.485810</td>\n",
       "      <td>-1.468629</td>\n",
       "      <td>0.373629</td>\n",
       "      <td>-0.348729</td>\n",
       "      <td>-1.738560</td>\n",
       "    </tr>\n",
       "    <tr>\n",
       "      <th>1</th>\n",
       "      <td>0.913710</td>\n",
       "      <td>1.034939</td>\n",
       "      <td>0.945861</td>\n",
       "      <td>0.315748</td>\n",
       "      <td>1.024914</td>\n",
       "      <td>1.260847</td>\n",
       "      <td>1.287002</td>\n",
       "      <td>0.994478</td>\n",
       "      <td>0.991042</td>\n",
       "      <td>1.094011</td>\n",
       "      <td>1.059721</td>\n",
       "      <td>1.085437</td>\n",
       "      <td>1.829300</td>\n",
       "      <td>1.964620</td>\n",
       "      <td>1.848537</td>\n",
       "      <td>1.366789</td>\n",
       "      <td>1.377323</td>\n",
       "      <td>1.546290</td>\n",
       "    </tr>\n",
       "    <tr>\n",
       "      <th>2</th>\n",
       "      <td>NaN</td>\n",
       "      <td>NaN</td>\n",
       "      <td>NaN</td>\n",
       "      <td>NaN</td>\n",
       "      <td>NaN</td>\n",
       "      <td>NaN</td>\n",
       "      <td>NaN</td>\n",
       "      <td>-0.466437</td>\n",
       "      <td>0.991042</td>\n",
       "      <td>-0.670295</td>\n",
       "      <td>0.404305</td>\n",
       "      <td>1.085437</td>\n",
       "      <td>1.519141</td>\n",
       "      <td>0.485810</td>\n",
       "      <td>NaN</td>\n",
       "      <td>NaN</td>\n",
       "      <td>1.220409</td>\n",
       "      <td>1.200516</td>\n",
       "    </tr>\n",
       "    <tr>\n",
       "      <th>3</th>\n",
       "      <td>-0.489668</td>\n",
       "      <td>0.677352</td>\n",
       "      <td>0.485683</td>\n",
       "      <td>-0.089934</td>\n",
       "      <td>0.170819</td>\n",
       "      <td>0.358689</td>\n",
       "      <td>1.287002</td>\n",
       "      <td>NaN</td>\n",
       "      <td>NaN</td>\n",
       "      <td>NaN</td>\n",
       "      <td>NaN</td>\n",
       "      <td>NaN</td>\n",
       "      <td>0.692051</td>\n",
       "      <td>NaN</td>\n",
       "      <td>0.853387</td>\n",
       "      <td>0.125339</td>\n",
       "      <td>0.435840</td>\n",
       "      <td>0.681856</td>\n",
       "    </tr>\n",
       "    <tr>\n",
       "      <th>4</th>\n",
       "      <td>0.562866</td>\n",
       "      <td>0.319765</td>\n",
       "      <td>0.945861</td>\n",
       "      <td>-0.901298</td>\n",
       "      <td>0.170819</td>\n",
       "      <td>-0.543469</td>\n",
       "      <td>-0.786055</td>\n",
       "      <td>0.994478</td>\n",
       "      <td>-0.452054</td>\n",
       "      <td>-0.670295</td>\n",
       "      <td>-0.251111</td>\n",
       "      <td>1.085437</td>\n",
       "      <td>-0.651970</td>\n",
       "      <td>0.239342</td>\n",
       "      <td>-0.473479</td>\n",
       "      <td>0.621919</td>\n",
       "      <td>0.122013</td>\n",
       "      <td>-1.219899</td>\n",
       "    </tr>\n",
       "    <tr>\n",
       "      <th>...</th>\n",
       "      <td>...</td>\n",
       "      <td>...</td>\n",
       "      <td>...</td>\n",
       "      <td>...</td>\n",
       "      <td>...</td>\n",
       "      <td>...</td>\n",
       "      <td>...</td>\n",
       "      <td>...</td>\n",
       "      <td>...</td>\n",
       "      <td>...</td>\n",
       "      <td>...</td>\n",
       "      <td>...</td>\n",
       "      <td>...</td>\n",
       "      <td>...</td>\n",
       "      <td>...</td>\n",
       "      <td>...</td>\n",
       "      <td>...</td>\n",
       "      <td>...</td>\n",
       "    </tr>\n",
       "    <tr>\n",
       "      <th>577</th>\n",
       "      <td>-0.840513</td>\n",
       "      <td>1.034939</td>\n",
       "      <td>0.485683</td>\n",
       "      <td>0.315748</td>\n",
       "      <td>-1.537371</td>\n",
       "      <td>1.260847</td>\n",
       "      <td>-0.371444</td>\n",
       "      <td>0.264021</td>\n",
       "      <td>0.991042</td>\n",
       "      <td>1.094011</td>\n",
       "      <td>-2.217359</td>\n",
       "      <td>0.468374</td>\n",
       "      <td>-0.548584</td>\n",
       "      <td>0.239342</td>\n",
       "      <td>0.024096</td>\n",
       "      <td>0.125339</td>\n",
       "      <td>-0.348729</td>\n",
       "      <td>-0.528352</td>\n",
       "    </tr>\n",
       "    <tr>\n",
       "      <th>578</th>\n",
       "      <td>1.264555</td>\n",
       "      <td>-2.183343</td>\n",
       "      <td>0.945861</td>\n",
       "      <td>-1.712662</td>\n",
       "      <td>-1.110323</td>\n",
       "      <td>-0.994548</td>\n",
       "      <td>-1.615278</td>\n",
       "      <td>0.994478</td>\n",
       "      <td>0.269494</td>\n",
       "      <td>-0.082193</td>\n",
       "      <td>-0.251111</td>\n",
       "      <td>-2.616945</td>\n",
       "      <td>-2.409536</td>\n",
       "      <td>-0.746532</td>\n",
       "      <td>-1.800346</td>\n",
       "      <td>-0.619532</td>\n",
       "      <td>-0.976384</td>\n",
       "      <td>-2.948768</td>\n",
       "    </tr>\n",
       "    <tr>\n",
       "      <th>579</th>\n",
       "      <td>NaN</td>\n",
       "      <td>NaN</td>\n",
       "      <td>NaN</td>\n",
       "      <td>NaN</td>\n",
       "      <td>NaN</td>\n",
       "      <td>NaN</td>\n",
       "      <td>NaN</td>\n",
       "      <td>-1.927351</td>\n",
       "      <td>0.991042</td>\n",
       "      <td>-0.082193</td>\n",
       "      <td>-0.906527</td>\n",
       "      <td>-0.765754</td>\n",
       "      <td>0.898823</td>\n",
       "      <td>-0.993000</td>\n",
       "      <td>NaN</td>\n",
       "      <td>NaN</td>\n",
       "      <td>0.906582</td>\n",
       "      <td>0.508969</td>\n",
       "    </tr>\n",
       "    <tr>\n",
       "      <th>580</th>\n",
       "      <td>-0.489668</td>\n",
       "      <td>-1.110582</td>\n",
       "      <td>-0.434675</td>\n",
       "      <td>-1.306980</td>\n",
       "      <td>-0.683276</td>\n",
       "      <td>-1.445627</td>\n",
       "      <td>0.043168</td>\n",
       "      <td>NaN</td>\n",
       "      <td>NaN</td>\n",
       "      <td>NaN</td>\n",
       "      <td>NaN</td>\n",
       "      <td>NaN</td>\n",
       "      <td>-1.272287</td>\n",
       "      <td>NaN</td>\n",
       "      <td>-1.468629</td>\n",
       "      <td>-1.116112</td>\n",
       "      <td>-1.133298</td>\n",
       "      <td>-0.874126</td>\n",
       "    </tr>\n",
       "    <tr>\n",
       "      <th>581</th>\n",
       "      <td>-2.243891</td>\n",
       "      <td>-0.037822</td>\n",
       "      <td>0.485683</td>\n",
       "      <td>0.721429</td>\n",
       "      <td>-0.683276</td>\n",
       "      <td>0.358689</td>\n",
       "      <td>-1.615278</td>\n",
       "      <td>-1.927351</td>\n",
       "      <td>-1.895151</td>\n",
       "      <td>1.094011</td>\n",
       "      <td>-0.251111</td>\n",
       "      <td>1.085437</td>\n",
       "      <td>-1.789219</td>\n",
       "      <td>-0.500063</td>\n",
       "      <td>-0.307621</td>\n",
       "      <td>-1.612692</td>\n",
       "      <td>-2.388608</td>\n",
       "      <td>-0.355465</td>\n",
       "    </tr>\n",
       "  </tbody>\n",
       "</table>\n",
       "<p>582 rows × 18 columns</p>\n",
       "</div>"
      ],
      "text/plain": [
       "         Ross  Chandler       BT1       BT2       BT3       BT4       BT5  \\\n",
       "0    1.264555 -0.752995 -0.434675 -1.306980 -1.110323 -0.543469 -0.371444   \n",
       "1    0.913710  1.034939  0.945861  0.315748  1.024914  1.260847  1.287002   \n",
       "2         NaN       NaN       NaN       NaN       NaN       NaN       NaN   \n",
       "3   -0.489668  0.677352  0.485683 -0.089934  0.170819  0.358689  1.287002   \n",
       "4    0.562866  0.319765  0.945861 -0.901298  0.170819 -0.543469 -0.786055   \n",
       "..        ...       ...       ...       ...       ...       ...       ...   \n",
       "577 -0.840513  1.034939  0.485683  0.315748 -1.537371  1.260847 -0.371444   \n",
       "578  1.264555 -2.183343  0.945861 -1.712662 -1.110323 -0.994548 -1.615278   \n",
       "579       NaN       NaN       NaN       NaN       NaN       NaN       NaN   \n",
       "580 -0.489668 -1.110582 -0.434675 -1.306980 -0.683276 -1.445627  0.043168   \n",
       "581 -2.243891 -0.037822  0.485683  0.721429 -0.683276  0.358689 -1.615278   \n",
       "\n",
       "          GR1       GR2       GR3       GR4       GR5   Total:     All_GR  \\\n",
       "0    0.994478  0.991042 -0.082193 -0.906527  0.468374 -1.272287  0.485810   \n",
       "1    0.994478  0.991042  1.094011  1.059721  1.085437  1.829300  1.964620   \n",
       "2   -0.466437  0.991042 -0.670295  0.404305  1.085437  1.519141  0.485810   \n",
       "3         NaN       NaN       NaN       NaN       NaN  0.692051       NaN   \n",
       "4    0.994478 -0.452054 -0.670295 -0.251111  1.085437 -0.651970  0.239342   \n",
       "..        ...       ...       ...       ...       ...       ...       ...   \n",
       "577  0.264021  0.991042  1.094011 -2.217359  0.468374 -0.548584  0.239342   \n",
       "578  0.994478  0.269494 -0.082193 -0.251111 -2.616945 -2.409536 -0.746532   \n",
       "579 -1.927351  0.991042 -0.082193 -0.906527 -0.765754  0.898823 -0.993000   \n",
       "580       NaN       NaN       NaN       NaN       NaN -1.272287       NaN   \n",
       "581 -1.927351 -1.895151  1.094011 -0.251111  1.085437 -1.789219 -0.500063   \n",
       "\n",
       "       All_BT    All_SS      male    female  \n",
       "0   -1.468629  0.373629 -0.348729 -1.738560  \n",
       "1    1.848537  1.366789  1.377323  1.546290  \n",
       "2         NaN       NaN  1.220409  1.200516  \n",
       "3    0.853387  0.125339  0.435840  0.681856  \n",
       "4   -0.473479  0.621919  0.122013 -1.219899  \n",
       "..        ...       ...       ...       ...  \n",
       "577  0.024096  0.125339 -0.348729 -0.528352  \n",
       "578 -1.800346 -0.619532 -0.976384 -2.948768  \n",
       "579       NaN       NaN  0.906582  0.508969  \n",
       "580 -1.468629 -1.116112 -1.133298 -0.874126  \n",
       "581 -0.307621 -1.612692 -2.388608 -0.355465  \n",
       "\n",
       "[582 rows x 18 columns]"
      ]
     },
     "execution_count": 245,
     "metadata": {},
     "output_type": "execute_result"
    }
   ],
   "source": [
    "df = pd.DataFrame()\n",
    "for column in corona_eat.drop(columns = \"Etc. Comments\").iloc[:,1:].columns:\n",
    "    resid = []\n",
    "    corona_mean = corona_eat[column].mean()\n",
    "    corona_std = np.std(corona_eat[column])\n",
    "    open_mean = open_eat[column].mean()\n",
    "    open_std = np.std(open_eat[column])\n",
    "    for date in eat.Date:\n",
    "        if (date >= pd.to_datetime('03-14-2020')) & (date < pd.to_datetime('05-09-2020')):\n",
    "            resid.append((corona_mean - eat[eat[\"Date\"]==date][column].values[0])/corona_std)\n",
    "        else:\n",
    "            resid.append((open_mean - eat[eat[\"Date\"]==date][column].values[0])/open_std)\n",
    "    df = pd.concat([df, pd.Series(resid,name = column)], axis = 1)\n",
    "df\n",
    "    "
   ]
  },
  {
   "cell_type": "code",
   "execution_count": 262,
   "metadata": {},
   "outputs": [
    {
     "data": {
      "application/vnd.plotly.v1+json": {
       "config": {
        "plotlyServerURL": "https://plot.ly"
       },
       "data": [
        {
         "alignmentgroup": "True",
         "bingroup": "x",
         "hovertemplate": "variable=female<br>value=%{x}<br>count=%{y}<extra></extra>",
         "legendgroup": "female",
         "marker": {
          "color": "#636efa"
         },
         "name": "female",
         "offsetgroup": "female",
         "orientation": "v",
         "showlegend": true,
         "type": "histogram",
         "x": [
          -1.7385598678627934,
          1.5462897152399528,
          1.2005160749133479,
          0.6818556144234407,
          -1.2198994073728862,
          -0.7012389468829788,
          1.7191765354032553,
          0.854742434586743,
          0.33608197409683577,
          0.854742434586743,
          0.854742434586743,
          -0.00969166622976909,
          -1.0470125872095837,
          0.33608197409683577,
          0.33608197409683577,
          1.8920633555665576,
          -1.3927862275361886,
          0.33608197409683577,
          0.5089687942601382,
          1.5462897152399528,
          -0.7012389468829788,
          0.16319515393353334,
          1.0276292547500454,
          1.5462897152399528,
          -1.2198994073728862,
          1.0276292547500454,
          -0.00969166622976909,
          1.8920633555665576,
          0.33608197409683577,
          1.2005160749133479,
          0.16319515393353334,
          1.7191765354032553,
          0.33608197409683577,
          1.5462897152399528,
          0.6818556144234407,
          1.5462897152399528,
          -0.5283521267196764,
          0.5089687942601382,
          0.6818556144234407,
          1.0276292547500454,
          -0.5283521267196764,
          0.33608197409683577,
          0.5089687942601382,
          0.854742434586743,
          -0.00969166622976909,
          0.5089687942601382,
          -0.00969166622976909,
          1.7191765354032553,
          0.5089687942601382,
          0.854742434586743,
          0.16319515393353334,
          0.16319515393353334,
          0.5089687942601382,
          1.7191765354032553,
          1.3734028950766504,
          0.6818556144234407,
          0.5089687942601382,
          0.16319515393353334,
          1.3734028950766504,
          -0.18257848639307153,
          1.3734028950766504,
          1.0276292547500454,
          1.5462897152399528,
          -0.355465306556374,
          -0.5283521267196764,
          1.5462897152399528,
          -0.7012389468829788,
          -0.355465306556374,
          0.33608197409683577,
          0.5089687942601382,
          1.0276292547500454,
          0.16319515393353334,
          -0.00969166622976909,
          0.16319515393353334,
          0.6818556144234407,
          -0.00969166622976909,
          0.33608197409683577,
          1.2005160749133479,
          1.2005160749133479,
          -1.2198994073728862,
          0.5089687942601382,
          -0.00969166622976909,
          1.5462897152399528,
          -1.2198994073728862,
          0.16319515393353334,
          0.16319515393353334,
          1.7191765354032553,
          -1.2198994073728862,
          0.33608197409683577,
          1.0276292547500454,
          0.6818556144234407,
          -1.3927862275361886,
          0.33608197409683577,
          1.0276292547500454,
          1.0276292547500454,
          -1.2198994073728862,
          1.5462897152399528,
          1.0276292547500454,
          1.0276292547500454,
          -0.18257848639307153,
          -0.8741257670462813,
          0.33608197409683577,
          1.5462897152399528,
          1.0276292547500454,
          -1.7385598678627934,
          0.854742434586743,
          0.5089687942601382,
          -1.565673047699491,
          -0.355465306556374,
          1.2005160749133479,
          1.3734028950766504,
          -1.2198994073728862,
          1.3734028950766504,
          1.3734028950766504,
          0.854742434586743,
          -0.18257848639307153,
          -0.00969166622976909,
          0.16319515393353334,
          -0.18257848639307153,
          0.6818556144234407,
          0.5089687942601382,
          0.854742434586743,
          0.6818556144234407,
          -1.2198994073728862,
          0.6818556144234407,
          0.6818556144234407,
          1.3734028950766504,
          -1.9114466880260959,
          0.16319515393353334,
          0.5089687942601382,
          0.5089687942601382,
          -1.565673047699491,
          -0.5283521267196764,
          -0.18257848639307153,
          0.5089687942601382,
          -1.7385598678627934,
          -1.565673047699491,
          -0.00969166622976909,
          1.0276292547500454,
          -1.9114466880260959,
          -0.5283521267196764,
          -0.355465306556374,
          -0.18257848639307153,
          -1.7385598678627934,
          -0.7012389468829788,
          0.5089687942601382,
          0.16319515393353334,
          0.5089687942601382,
          -0.18257848639307153,
          0.6818556144234407,
          1.3734028950766504,
          -1.2198994073728862,
          -0.8741257670462813,
          0.16319515393353334,
          0.16319515393353334,
          -1.2198994073728862,
          0.33608197409683577,
          1.2005160749133479,
          0.16319515393353334,
          -1.7385598678627934,
          -1.2198994073728862,
          0.6818556144234407,
          1.2005160749133479,
          -1.9114466880260959,
          0.6818556144234407,
          0.16319515393353334,
          1.3734028950766504,
          -0.355465306556374,
          0.854742434586743,
          0.5089687942601382,
          1.2005160749133479,
          -2.084333508189398,
          -0.18257848639307153,
          0.16319515393353334,
          0.5089687942601382,
          -0.355465306556374,
          -0.355465306556374,
          0.6818556144234407,
          0.33608197409683577,
          0.33608197409683577,
          -0.7012389468829788,
          0.33608197409683577,
          -0.355465306556374,
          1.3734028950766504,
          -1.0470125872095837,
          1.5462897152399528,
          0.5089687942601382,
          -0.5283521267196764,
          -0.00969166622976909,
          1.7191765354032553,
          1.0276292547500454,
          -1.2198994073728862,
          1.2005160749133479,
          -0.00969166622976909,
          0.854742434586743,
          -1.565673047699491,
          0.5089687942601382,
          -0.00969166622976909,
          0.6818556144234407,
          -0.18257848639307153,
          -0.5283521267196764,
          0.6818556144234407,
          -0.00969166622976909,
          -0.18257848639307153,
          -0.5283521267196764,
          -0.5283521267196764,
          -0.355465306556374,
          -0.355465306556374,
          -0.18257848639307153,
          -1.0470125872095837,
          -1.0470125872095837,
          -0.18257848639307153,
          -0.5283521267196764,
          -0.00969166622976909,
          -0.00969166622976909,
          -1.0470125872095837,
          -0.00969166622976909,
          -0.355465306556374,
          0.16319515393353334,
          0.33608197409683577,
          -0.7012389468829788,
          -2.084333508189398,
          -0.8741257670462813,
          1.7191765354032553,
          -0.355465306556374,
          -2.084333508189398,
          -0.5283521267196764,
          0.5089687942601382,
          -0.7012389468829788,
          -0.00969166622976909,
          0.16319515393353334,
          1.8920633555665576,
          -0.5283521267196764,
          -1.2198994073728862,
          -1.7385598678627934,
          1.8920633555665576,
          -0.5283521267196764,
          -1.565673047699491,
          -1.9114466880260959,
          1.5462897152399528,
          0.5089687942601382,
          0.33608197409683577,
          1.0276292547500454,
          -0.00969166622976909,
          1.0276292547500454,
          0.16319515393353334,
          -1.2198994073728862,
          0.854742434586743,
          1.2005160749133479,
          -1.0470125872095837,
          -1.0470125872095837,
          0.33608197409683577,
          1.5462897152399528,
          -0.8741257670462813,
          0.16319515393353334,
          1.3734028950766504,
          1.0276292547500454,
          -0.5283521267196764,
          -0.18257848639307153,
          -0.18257848639307153,
          0.5089687942601382,
          -0.355465306556374,
          -1.9114466880260959,
          0.854742434586743,
          1.0276292547500454,
          -0.355465306556374,
          -0.355465306556374,
          0.16319515393353334,
          0.6818556144234407,
          0.33608197409683577,
          -1.2198994073728862,
          0.16319515393353334,
          -0.18257848639307153,
          0.33608197409683577,
          -1.9114466880260959,
          -0.18257848639307153,
          0.16319515393353334,
          0.16319515393353334,
          -0.355465306556374,
          -0.7012389468829788,
          1.7191765354032553,
          -0.355465306556374,
          -0.00969166622976909,
          -0.8741257670462813,
          1.3734028950766504,
          -0.7012389468829788,
          -1.565673047699491,
          0.5089687942601382,
          -0.00969166622976909,
          -0.355465306556374,
          -0.00969166622976909,
          0.6818556144234407,
          1.0276292547500454,
          -0.7012389468829788,
          -1.3927862275361886,
          -0.00969166622976909,
          1.2005160749133479,
          -0.355465306556374,
          -1.7385598678627934,
          0.854742434586743,
          -0.8741257670462813,
          0.33608197409683577,
          1.2005160749133479,
          -0.18257848639307153,
          1.7191765354032553,
          0.5089687942601382,
          1.7191765354032553,
          -0.18257848639307153,
          0.854742434586743,
          -0.00969166622976909,
          -1.3927862275361886,
          0.5089687942601382,
          0.5089687942601382,
          -2.084333508189398,
          -0.18257848639307153,
          0.16319515393353334,
          -0.5283521267196764,
          -1.2198994073728862,
          0.5089687942601382,
          -0.18257848639307153,
          -0.8741257670462813,
          0.16319515393353334,
          -2.257220328352701,
          -0.355465306556374,
          -1.2198994073728862,
          -0.355465306556374,
          -0.8741257670462813,
          0.16319515393353334,
          0.5089687942601382,
          -0.8741257670462813,
          -1.2198994073728862,
          -0.18257848639307153,
          0.33608197409683577,
          -0.5283521267196764,
          -1.565673047699491,
          0.16319515393353334,
          -1.565673047699491,
          -0.18257848639307153,
          -0.8741257670462813,
          -0.18257848639307153,
          -1.2198994073728862,
          -0.5283521267196764,
          -0.8741257670462813,
          -0.00969166622976909,
          1.2005160749133479,
          -1.3927862275361886,
          -0.355465306556374,
          -0.18257848639307153,
          0.6818556144234407,
          -1.2198994073728862,
          -1.2198994073728862,
          0.33608197409683577,
          -0.355465306556374,
          -1.2198994073728862,
          -0.355465306556374,
          0.6818556144234407,
          0.16319515393353334,
          -1.565673047699491,
          -0.355465306556374,
          -0.00969166622976909,
          1.0276292547500454,
          -1.565673047699491,
          -0.355465306556374,
          0.5089687942601382,
          0.6818556144234407,
          -1.7385598678627934,
          -0.8741257670462813,
          0.6818556144234407,
          0.16319515393353334,
          -0.8741257670462813,
          -1.565673047699491,
          0.5089687942601382,
          1.7191765354032553,
          -1.7385598678627934,
          -1.3927862275361886,
          0.33608197409683577,
          -0.355465306556374,
          -1.0470125872095837,
          -0.355465306556374,
          0.854742434586743,
          0.5089687942601382,
          -0.355465306556374,
          -1.9114466880260959,
          0.33608197409683577,
          -0.00969166622976909,
          0.5089687942601382,
          -0.7012389468829788,
          0.33608197409683577,
          1.0276292547500454,
          -0.8741257670462813,
          -1.565673047699491,
          0.16319515393353334,
          1.7191765354032553,
          -1.3927862275361886,
          1.3734028950766504,
          -0.00969166622976909,
          1.5462897152399528,
          -0.5283521267196764,
          -0.7012389468829788,
          -0.00969166622976909,
          0.6818556144234407,
          -0.8741257670462813,
          -0.8741257670462813,
          1.2005160749133479,
          0.5089687942601382,
          0.854742434586743,
          -2.084333508189398,
          0.33608197409683577,
          1.0276292547500454,
          -0.5283521267196764,
          0.16319515393353334,
          1.7191765354032553,
          0.16319515393353334,
          -1.3927862275361886,
          -0.18257848639307153,
          0.854742434586743,
          0.854742434586743,
          -1.7385598678627934,
          1.5462897152399528,
          1.7191765354032553,
          -0.00969166622976909,
          -1.0470125872095837,
          -0.18257848639307153,
          -0.00969166622976909,
          -0.5283521267196764,
          1.0276292547500454,
          0.5089687942601382,
          0.16319515393353334,
          -0.18257848639307153,
          0.5089687942601382,
          -0.5283521267196764,
          -0.5283521267196764,
          -0.18257848639307153,
          0.16319515393353334,
          0.5089687942601382,
          1.3734028950766504,
          -1.2198994073728862,
          -0.355465306556374,
          0.16319515393353334,
          -0.7012389468829788,
          0.16319515393353334,
          -0.355465306556374,
          0.6818556144234407,
          -0.355465306556374,
          -1.0470125872095837,
          -1.0470125872095837,
          0.5089687942601382,
          0.16319515393353334,
          -1.9114466880260959,
          0.16319515393353334,
          0.6818556144234407,
          -1.7385598678627934,
          -0.5283521267196764,
          0.33608197409683577,
          0.6818556144234407,
          0.5089687942601382,
          -1.0470125872095837,
          -0.5283521267196764,
          0.6818556144234407,
          0.33608197409683577,
          -0.355465306556374,
          0.6818556144234407,
          1.0276292547500454,
          -0.7012389468829788,
          -0.7012389468829788,
          1.3734028950766504,
          -0.00969166622976909,
          1.5462897152399528,
          -0.8741257670462813,
          -1.0470125872095837,
          0.3427840479158879,
          1.5122825643347995,
          -0.24196521029356788,
          0.5377004673190399,
          0.9275333061253437,
          -1.4114637267124794,
          -3.5555443401471503,
          -0.24196521029356788,
          0.9275333061253437,
          0.3427840479158879,
          -0.8267144685030237,
          0.147867628512736,
          0.147867628512736,
          -0.4368816296967198,
          -0.6317980490998717,
          0.147867628512736,
          -0.04704879089041595,
          0.147867628512736,
          -0.24196521029356788,
          0.9275333061253437,
          0.3427840479158879,
          -0.8267144685030237,
          -0.8267144685030237,
          1.9021154031411034,
          0.9275333061253437,
          0.5377004673190399,
          0.147867628512736,
          0.3427840479158879,
          -1.0216308879061755,
          1.2005160749133479,
          0.6818556144234407,
          0.5089687942601382,
          0.16319515393353334,
          1.5462897152399528,
          0.6818556144234407,
          -2.6029939686793058,
          0.16319515393353334,
          1.8920633555665576,
          0.854742434586743,
          -1.7385598678627934,
          0.33608197409683577,
          1.7191765354032553,
          1.2005160749133479,
          0.16319515393353334,
          -0.00969166622976909,
          1.8920633555665576,
          0.6818556144234407,
          0.16319515393353334,
          -1.2198994073728862,
          1.7191765354032553,
          0.33608197409683577,
          1.0276292547500454,
          -1.7385598678627934,
          0.854742434586743,
          -0.5283521267196764,
          -1.3927862275361886,
          -3.1216544291692125,
          0.33608197409683577,
          1.3734028950766504,
          -0.8741257670462813,
          -0.355465306556374,
          0.6818556144234407,
          1.5462897152399528,
          -1.0470125872095837,
          -0.18257848639307153,
          1.8920633555665576,
          0.5089687942601382,
          -1.0470125872095837,
          -2.430107148516003,
          -0.355465306556374,
          0.33608197409683577,
          -1.9114466880260959,
          -0.00969166622976909,
          0.33608197409683577,
          -0.18257848639307153,
          -1.7385598678627934,
          -2.084333508189398,
          0.5089687942601382,
          1.2005160749133479,
          -1.3927862275361886,
          -1.7385598678627934,
          0.16319515393353334,
          0.854742434586743,
          -1.2198994073728862,
          -1.565673047699491,
          -0.18257848639307153,
          -0.355465306556374,
          -1.9114466880260959,
          -0.8741257670462813,
          0.6818556144234407,
          -0.8741257670462813,
          0.16319515393353334,
          -1.0470125872095837,
          0.33608197409683577,
          1.0276292547500454,
          -1.3927862275361886,
          -2.084333508189398,
          0.6818556144234407,
          0.6818556144234407,
          -0.00969166622976909,
          -1.3927862275361886,
          0.33608197409683577,
          1.7191765354032553,
          -2.257220328352701,
          -1.9114466880260959,
          -0.00969166622976909,
          1.3734028950766504,
          -0.5283521267196764,
          -2.9487676090059103,
          0.5089687942601382,
          -0.8741257670462813,
          -0.355465306556374
         ],
         "xaxis": "x",
         "yaxis": "y"
        }
       ],
       "layout": {
        "barmode": "relative",
        "legend": {
         "title": {
          "text": "variable"
         },
         "tracegroupgap": 0
        },
        "margin": {
         "t": 60
        },
        "template": {
         "data": {
          "bar": [
           {
            "error_x": {
             "color": "#2a3f5f"
            },
            "error_y": {
             "color": "#2a3f5f"
            },
            "marker": {
             "line": {
              "color": "#E5ECF6",
              "width": 0.5
             }
            },
            "type": "bar"
           }
          ],
          "barpolar": [
           {
            "marker": {
             "line": {
              "color": "#E5ECF6",
              "width": 0.5
             }
            },
            "type": "barpolar"
           }
          ],
          "carpet": [
           {
            "aaxis": {
             "endlinecolor": "#2a3f5f",
             "gridcolor": "white",
             "linecolor": "white",
             "minorgridcolor": "white",
             "startlinecolor": "#2a3f5f"
            },
            "baxis": {
             "endlinecolor": "#2a3f5f",
             "gridcolor": "white",
             "linecolor": "white",
             "minorgridcolor": "white",
             "startlinecolor": "#2a3f5f"
            },
            "type": "carpet"
           }
          ],
          "choropleth": [
           {
            "colorbar": {
             "outlinewidth": 0,
             "ticks": ""
            },
            "type": "choropleth"
           }
          ],
          "contour": [
           {
            "colorbar": {
             "outlinewidth": 0,
             "ticks": ""
            },
            "colorscale": [
             [
              0,
              "#0d0887"
             ],
             [
              0.1111111111111111,
              "#46039f"
             ],
             [
              0.2222222222222222,
              "#7201a8"
             ],
             [
              0.3333333333333333,
              "#9c179e"
             ],
             [
              0.4444444444444444,
              "#bd3786"
             ],
             [
              0.5555555555555556,
              "#d8576b"
             ],
             [
              0.6666666666666666,
              "#ed7953"
             ],
             [
              0.7777777777777778,
              "#fb9f3a"
             ],
             [
              0.8888888888888888,
              "#fdca26"
             ],
             [
              1,
              "#f0f921"
             ]
            ],
            "type": "contour"
           }
          ],
          "contourcarpet": [
           {
            "colorbar": {
             "outlinewidth": 0,
             "ticks": ""
            },
            "type": "contourcarpet"
           }
          ],
          "heatmap": [
           {
            "colorbar": {
             "outlinewidth": 0,
             "ticks": ""
            },
            "colorscale": [
             [
              0,
              "#0d0887"
             ],
             [
              0.1111111111111111,
              "#46039f"
             ],
             [
              0.2222222222222222,
              "#7201a8"
             ],
             [
              0.3333333333333333,
              "#9c179e"
             ],
             [
              0.4444444444444444,
              "#bd3786"
             ],
             [
              0.5555555555555556,
              "#d8576b"
             ],
             [
              0.6666666666666666,
              "#ed7953"
             ],
             [
              0.7777777777777778,
              "#fb9f3a"
             ],
             [
              0.8888888888888888,
              "#fdca26"
             ],
             [
              1,
              "#f0f921"
             ]
            ],
            "type": "heatmap"
           }
          ],
          "heatmapgl": [
           {
            "colorbar": {
             "outlinewidth": 0,
             "ticks": ""
            },
            "colorscale": [
             [
              0,
              "#0d0887"
             ],
             [
              0.1111111111111111,
              "#46039f"
             ],
             [
              0.2222222222222222,
              "#7201a8"
             ],
             [
              0.3333333333333333,
              "#9c179e"
             ],
             [
              0.4444444444444444,
              "#bd3786"
             ],
             [
              0.5555555555555556,
              "#d8576b"
             ],
             [
              0.6666666666666666,
              "#ed7953"
             ],
             [
              0.7777777777777778,
              "#fb9f3a"
             ],
             [
              0.8888888888888888,
              "#fdca26"
             ],
             [
              1,
              "#f0f921"
             ]
            ],
            "type": "heatmapgl"
           }
          ],
          "histogram": [
           {
            "marker": {
             "colorbar": {
              "outlinewidth": 0,
              "ticks": ""
             }
            },
            "type": "histogram"
           }
          ],
          "histogram2d": [
           {
            "colorbar": {
             "outlinewidth": 0,
             "ticks": ""
            },
            "colorscale": [
             [
              0,
              "#0d0887"
             ],
             [
              0.1111111111111111,
              "#46039f"
             ],
             [
              0.2222222222222222,
              "#7201a8"
             ],
             [
              0.3333333333333333,
              "#9c179e"
             ],
             [
              0.4444444444444444,
              "#bd3786"
             ],
             [
              0.5555555555555556,
              "#d8576b"
             ],
             [
              0.6666666666666666,
              "#ed7953"
             ],
             [
              0.7777777777777778,
              "#fb9f3a"
             ],
             [
              0.8888888888888888,
              "#fdca26"
             ],
             [
              1,
              "#f0f921"
             ]
            ],
            "type": "histogram2d"
           }
          ],
          "histogram2dcontour": [
           {
            "colorbar": {
             "outlinewidth": 0,
             "ticks": ""
            },
            "colorscale": [
             [
              0,
              "#0d0887"
             ],
             [
              0.1111111111111111,
              "#46039f"
             ],
             [
              0.2222222222222222,
              "#7201a8"
             ],
             [
              0.3333333333333333,
              "#9c179e"
             ],
             [
              0.4444444444444444,
              "#bd3786"
             ],
             [
              0.5555555555555556,
              "#d8576b"
             ],
             [
              0.6666666666666666,
              "#ed7953"
             ],
             [
              0.7777777777777778,
              "#fb9f3a"
             ],
             [
              0.8888888888888888,
              "#fdca26"
             ],
             [
              1,
              "#f0f921"
             ]
            ],
            "type": "histogram2dcontour"
           }
          ],
          "mesh3d": [
           {
            "colorbar": {
             "outlinewidth": 0,
             "ticks": ""
            },
            "type": "mesh3d"
           }
          ],
          "parcoords": [
           {
            "line": {
             "colorbar": {
              "outlinewidth": 0,
              "ticks": ""
             }
            },
            "type": "parcoords"
           }
          ],
          "pie": [
           {
            "automargin": true,
            "type": "pie"
           }
          ],
          "scatter": [
           {
            "marker": {
             "colorbar": {
              "outlinewidth": 0,
              "ticks": ""
             }
            },
            "type": "scatter"
           }
          ],
          "scatter3d": [
           {
            "line": {
             "colorbar": {
              "outlinewidth": 0,
              "ticks": ""
             }
            },
            "marker": {
             "colorbar": {
              "outlinewidth": 0,
              "ticks": ""
             }
            },
            "type": "scatter3d"
           }
          ],
          "scattercarpet": [
           {
            "marker": {
             "colorbar": {
              "outlinewidth": 0,
              "ticks": ""
             }
            },
            "type": "scattercarpet"
           }
          ],
          "scattergeo": [
           {
            "marker": {
             "colorbar": {
              "outlinewidth": 0,
              "ticks": ""
             }
            },
            "type": "scattergeo"
           }
          ],
          "scattergl": [
           {
            "marker": {
             "colorbar": {
              "outlinewidth": 0,
              "ticks": ""
             }
            },
            "type": "scattergl"
           }
          ],
          "scattermapbox": [
           {
            "marker": {
             "colorbar": {
              "outlinewidth": 0,
              "ticks": ""
             }
            },
            "type": "scattermapbox"
           }
          ],
          "scatterpolar": [
           {
            "marker": {
             "colorbar": {
              "outlinewidth": 0,
              "ticks": ""
             }
            },
            "type": "scatterpolar"
           }
          ],
          "scatterpolargl": [
           {
            "marker": {
             "colorbar": {
              "outlinewidth": 0,
              "ticks": ""
             }
            },
            "type": "scatterpolargl"
           }
          ],
          "scatterternary": [
           {
            "marker": {
             "colorbar": {
              "outlinewidth": 0,
              "ticks": ""
             }
            },
            "type": "scatterternary"
           }
          ],
          "surface": [
           {
            "colorbar": {
             "outlinewidth": 0,
             "ticks": ""
            },
            "colorscale": [
             [
              0,
              "#0d0887"
             ],
             [
              0.1111111111111111,
              "#46039f"
             ],
             [
              0.2222222222222222,
              "#7201a8"
             ],
             [
              0.3333333333333333,
              "#9c179e"
             ],
             [
              0.4444444444444444,
              "#bd3786"
             ],
             [
              0.5555555555555556,
              "#d8576b"
             ],
             [
              0.6666666666666666,
              "#ed7953"
             ],
             [
              0.7777777777777778,
              "#fb9f3a"
             ],
             [
              0.8888888888888888,
              "#fdca26"
             ],
             [
              1,
              "#f0f921"
             ]
            ],
            "type": "surface"
           }
          ],
          "table": [
           {
            "cells": {
             "fill": {
              "color": "#EBF0F8"
             },
             "line": {
              "color": "white"
             }
            },
            "header": {
             "fill": {
              "color": "#C8D4E3"
             },
             "line": {
              "color": "white"
             }
            },
            "type": "table"
           }
          ]
         },
         "layout": {
          "annotationdefaults": {
           "arrowcolor": "#2a3f5f",
           "arrowhead": 0,
           "arrowwidth": 1
          },
          "coloraxis": {
           "colorbar": {
            "outlinewidth": 0,
            "ticks": ""
           }
          },
          "colorscale": {
           "diverging": [
            [
             0,
             "#8e0152"
            ],
            [
             0.1,
             "#c51b7d"
            ],
            [
             0.2,
             "#de77ae"
            ],
            [
             0.3,
             "#f1b6da"
            ],
            [
             0.4,
             "#fde0ef"
            ],
            [
             0.5,
             "#f7f7f7"
            ],
            [
             0.6,
             "#e6f5d0"
            ],
            [
             0.7,
             "#b8e186"
            ],
            [
             0.8,
             "#7fbc41"
            ],
            [
             0.9,
             "#4d9221"
            ],
            [
             1,
             "#276419"
            ]
           ],
           "sequential": [
            [
             0,
             "#0d0887"
            ],
            [
             0.1111111111111111,
             "#46039f"
            ],
            [
             0.2222222222222222,
             "#7201a8"
            ],
            [
             0.3333333333333333,
             "#9c179e"
            ],
            [
             0.4444444444444444,
             "#bd3786"
            ],
            [
             0.5555555555555556,
             "#d8576b"
            ],
            [
             0.6666666666666666,
             "#ed7953"
            ],
            [
             0.7777777777777778,
             "#fb9f3a"
            ],
            [
             0.8888888888888888,
             "#fdca26"
            ],
            [
             1,
             "#f0f921"
            ]
           ],
           "sequentialminus": [
            [
             0,
             "#0d0887"
            ],
            [
             0.1111111111111111,
             "#46039f"
            ],
            [
             0.2222222222222222,
             "#7201a8"
            ],
            [
             0.3333333333333333,
             "#9c179e"
            ],
            [
             0.4444444444444444,
             "#bd3786"
            ],
            [
             0.5555555555555556,
             "#d8576b"
            ],
            [
             0.6666666666666666,
             "#ed7953"
            ],
            [
             0.7777777777777778,
             "#fb9f3a"
            ],
            [
             0.8888888888888888,
             "#fdca26"
            ],
            [
             1,
             "#f0f921"
            ]
           ]
          },
          "colorway": [
           "#636efa",
           "#EF553B",
           "#00cc96",
           "#ab63fa",
           "#FFA15A",
           "#19d3f3",
           "#FF6692",
           "#B6E880",
           "#FF97FF",
           "#FECB52"
          ],
          "font": {
           "color": "#2a3f5f"
          },
          "geo": {
           "bgcolor": "white",
           "lakecolor": "white",
           "landcolor": "#E5ECF6",
           "showlakes": true,
           "showland": true,
           "subunitcolor": "white"
          },
          "hoverlabel": {
           "align": "left"
          },
          "hovermode": "closest",
          "mapbox": {
           "style": "light"
          },
          "paper_bgcolor": "white",
          "plot_bgcolor": "#E5ECF6",
          "polar": {
           "angularaxis": {
            "gridcolor": "white",
            "linecolor": "white",
            "ticks": ""
           },
           "bgcolor": "#E5ECF6",
           "radialaxis": {
            "gridcolor": "white",
            "linecolor": "white",
            "ticks": ""
           }
          },
          "scene": {
           "xaxis": {
            "backgroundcolor": "#E5ECF6",
            "gridcolor": "white",
            "gridwidth": 2,
            "linecolor": "white",
            "showbackground": true,
            "ticks": "",
            "zerolinecolor": "white"
           },
           "yaxis": {
            "backgroundcolor": "#E5ECF6",
            "gridcolor": "white",
            "gridwidth": 2,
            "linecolor": "white",
            "showbackground": true,
            "ticks": "",
            "zerolinecolor": "white"
           },
           "zaxis": {
            "backgroundcolor": "#E5ECF6",
            "gridcolor": "white",
            "gridwidth": 2,
            "linecolor": "white",
            "showbackground": true,
            "ticks": "",
            "zerolinecolor": "white"
           }
          },
          "shapedefaults": {
           "line": {
            "color": "#2a3f5f"
           }
          },
          "ternary": {
           "aaxis": {
            "gridcolor": "white",
            "linecolor": "white",
            "ticks": ""
           },
           "baxis": {
            "gridcolor": "white",
            "linecolor": "white",
            "ticks": ""
           },
           "bgcolor": "#E5ECF6",
           "caxis": {
            "gridcolor": "white",
            "linecolor": "white",
            "ticks": ""
           }
          },
          "title": {
           "x": 0.05
          },
          "xaxis": {
           "automargin": true,
           "gridcolor": "white",
           "linecolor": "white",
           "ticks": "",
           "title": {
            "standoff": 15
           },
           "zerolinecolor": "white",
           "zerolinewidth": 2
          },
          "yaxis": {
           "automargin": true,
           "gridcolor": "white",
           "linecolor": "white",
           "ticks": "",
           "title": {
            "standoff": 15
           },
           "zerolinecolor": "white",
           "zerolinewidth": 2
          }
         }
        },
        "xaxis": {
         "anchor": "y",
         "domain": [
          0,
          1
         ],
         "title": {
          "text": "value"
         }
        },
        "yaxis": {
         "anchor": "x",
         "domain": [
          0,
          1
         ],
         "title": {
          "text": "count"
         }
        }
       }
      },
      "text/html": [
       "<div>                            <div id=\"d8365ffb-7d93-4dc9-99d3-6d110dd8c323\" class=\"plotly-graph-div\" style=\"height:525px; width:100%;\"></div>            <script type=\"text/javascript\">                require([\"plotly\"], function(Plotly) {                    window.PLOTLYENV=window.PLOTLYENV || {};                                    if (document.getElementById(\"d8365ffb-7d93-4dc9-99d3-6d110dd8c323\")) {                    Plotly.newPlot(                        \"d8365ffb-7d93-4dc9-99d3-6d110dd8c323\",                        [{\"alignmentgroup\": \"True\", \"bingroup\": \"x\", \"hovertemplate\": \"variable=female<br>value=%{x}<br>count=%{y}<extra></extra>\", \"legendgroup\": \"female\", \"marker\": {\"color\": \"#636efa\"}, \"name\": \"female\", \"offsetgroup\": \"female\", \"orientation\": \"v\", \"showlegend\": true, \"type\": \"histogram\", \"x\": [-1.7385598678627934, 1.5462897152399528, 1.2005160749133479, 0.6818556144234407, -1.2198994073728862, -0.7012389468829788, 1.7191765354032553, 0.854742434586743, 0.33608197409683577, 0.854742434586743, 0.854742434586743, -0.00969166622976909, -1.0470125872095837, 0.33608197409683577, 0.33608197409683577, 1.8920633555665576, -1.3927862275361886, 0.33608197409683577, 0.5089687942601382, 1.5462897152399528, -0.7012389468829788, 0.16319515393353334, 1.0276292547500454, 1.5462897152399528, -1.2198994073728862, 1.0276292547500454, -0.00969166622976909, 1.8920633555665576, 0.33608197409683577, 1.2005160749133479, 0.16319515393353334, 1.7191765354032553, 0.33608197409683577, 1.5462897152399528, 0.6818556144234407, 1.5462897152399528, -0.5283521267196764, 0.5089687942601382, 0.6818556144234407, 1.0276292547500454, -0.5283521267196764, 0.33608197409683577, 0.5089687942601382, 0.854742434586743, -0.00969166622976909, 0.5089687942601382, -0.00969166622976909, 1.7191765354032553, 0.5089687942601382, 0.854742434586743, 0.16319515393353334, 0.16319515393353334, 0.5089687942601382, 1.7191765354032553, 1.3734028950766504, 0.6818556144234407, 0.5089687942601382, 0.16319515393353334, 1.3734028950766504, -0.18257848639307153, 1.3734028950766504, 1.0276292547500454, 1.5462897152399528, -0.355465306556374, -0.5283521267196764, 1.5462897152399528, -0.7012389468829788, -0.355465306556374, 0.33608197409683577, 0.5089687942601382, 1.0276292547500454, 0.16319515393353334, -0.00969166622976909, 0.16319515393353334, 0.6818556144234407, -0.00969166622976909, 0.33608197409683577, 1.2005160749133479, 1.2005160749133479, -1.2198994073728862, 0.5089687942601382, -0.00969166622976909, 1.5462897152399528, -1.2198994073728862, 0.16319515393353334, 0.16319515393353334, 1.7191765354032553, -1.2198994073728862, 0.33608197409683577, 1.0276292547500454, 0.6818556144234407, -1.3927862275361886, 0.33608197409683577, 1.0276292547500454, 1.0276292547500454, -1.2198994073728862, 1.5462897152399528, 1.0276292547500454, 1.0276292547500454, -0.18257848639307153, -0.8741257670462813, 0.33608197409683577, 1.5462897152399528, 1.0276292547500454, -1.7385598678627934, 0.854742434586743, 0.5089687942601382, -1.565673047699491, -0.355465306556374, 1.2005160749133479, 1.3734028950766504, -1.2198994073728862, 1.3734028950766504, 1.3734028950766504, 0.854742434586743, -0.18257848639307153, -0.00969166622976909, 0.16319515393353334, -0.18257848639307153, 0.6818556144234407, 0.5089687942601382, 0.854742434586743, 0.6818556144234407, -1.2198994073728862, 0.6818556144234407, 0.6818556144234407, 1.3734028950766504, -1.9114466880260959, 0.16319515393353334, 0.5089687942601382, 0.5089687942601382, -1.565673047699491, -0.5283521267196764, -0.18257848639307153, 0.5089687942601382, -1.7385598678627934, -1.565673047699491, -0.00969166622976909, 1.0276292547500454, -1.9114466880260959, -0.5283521267196764, -0.355465306556374, -0.18257848639307153, -1.7385598678627934, -0.7012389468829788, 0.5089687942601382, 0.16319515393353334, 0.5089687942601382, -0.18257848639307153, 0.6818556144234407, 1.3734028950766504, -1.2198994073728862, -0.8741257670462813, 0.16319515393353334, 0.16319515393353334, -1.2198994073728862, 0.33608197409683577, 1.2005160749133479, 0.16319515393353334, -1.7385598678627934, -1.2198994073728862, 0.6818556144234407, 1.2005160749133479, -1.9114466880260959, 0.6818556144234407, 0.16319515393353334, 1.3734028950766504, -0.355465306556374, 0.854742434586743, 0.5089687942601382, 1.2005160749133479, -2.084333508189398, -0.18257848639307153, 0.16319515393353334, 0.5089687942601382, -0.355465306556374, -0.355465306556374, 0.6818556144234407, 0.33608197409683577, 0.33608197409683577, -0.7012389468829788, 0.33608197409683577, -0.355465306556374, 1.3734028950766504, -1.0470125872095837, 1.5462897152399528, 0.5089687942601382, -0.5283521267196764, -0.00969166622976909, 1.7191765354032553, 1.0276292547500454, -1.2198994073728862, 1.2005160749133479, -0.00969166622976909, 0.854742434586743, -1.565673047699491, 0.5089687942601382, -0.00969166622976909, 0.6818556144234407, -0.18257848639307153, -0.5283521267196764, 0.6818556144234407, -0.00969166622976909, -0.18257848639307153, -0.5283521267196764, -0.5283521267196764, -0.355465306556374, -0.355465306556374, -0.18257848639307153, -1.0470125872095837, -1.0470125872095837, -0.18257848639307153, -0.5283521267196764, -0.00969166622976909, -0.00969166622976909, -1.0470125872095837, -0.00969166622976909, -0.355465306556374, 0.16319515393353334, 0.33608197409683577, -0.7012389468829788, -2.084333508189398, -0.8741257670462813, 1.7191765354032553, -0.355465306556374, -2.084333508189398, -0.5283521267196764, 0.5089687942601382, -0.7012389468829788, -0.00969166622976909, 0.16319515393353334, 1.8920633555665576, -0.5283521267196764, -1.2198994073728862, -1.7385598678627934, 1.8920633555665576, -0.5283521267196764, -1.565673047699491, -1.9114466880260959, 1.5462897152399528, 0.5089687942601382, 0.33608197409683577, 1.0276292547500454, -0.00969166622976909, 1.0276292547500454, 0.16319515393353334, -1.2198994073728862, 0.854742434586743, 1.2005160749133479, -1.0470125872095837, -1.0470125872095837, 0.33608197409683577, 1.5462897152399528, -0.8741257670462813, 0.16319515393353334, 1.3734028950766504, 1.0276292547500454, -0.5283521267196764, -0.18257848639307153, -0.18257848639307153, 0.5089687942601382, -0.355465306556374, -1.9114466880260959, 0.854742434586743, 1.0276292547500454, -0.355465306556374, -0.355465306556374, 0.16319515393353334, 0.6818556144234407, 0.33608197409683577, -1.2198994073728862, 0.16319515393353334, -0.18257848639307153, 0.33608197409683577, -1.9114466880260959, -0.18257848639307153, 0.16319515393353334, 0.16319515393353334, -0.355465306556374, -0.7012389468829788, 1.7191765354032553, -0.355465306556374, -0.00969166622976909, -0.8741257670462813, 1.3734028950766504, -0.7012389468829788, -1.565673047699491, 0.5089687942601382, -0.00969166622976909, -0.355465306556374, -0.00969166622976909, 0.6818556144234407, 1.0276292547500454, -0.7012389468829788, -1.3927862275361886, -0.00969166622976909, 1.2005160749133479, -0.355465306556374, -1.7385598678627934, 0.854742434586743, -0.8741257670462813, 0.33608197409683577, 1.2005160749133479, -0.18257848639307153, 1.7191765354032553, 0.5089687942601382, 1.7191765354032553, -0.18257848639307153, 0.854742434586743, -0.00969166622976909, -1.3927862275361886, 0.5089687942601382, 0.5089687942601382, -2.084333508189398, -0.18257848639307153, 0.16319515393353334, -0.5283521267196764, -1.2198994073728862, 0.5089687942601382, -0.18257848639307153, -0.8741257670462813, 0.16319515393353334, -2.257220328352701, -0.355465306556374, -1.2198994073728862, -0.355465306556374, -0.8741257670462813, 0.16319515393353334, 0.5089687942601382, -0.8741257670462813, -1.2198994073728862, -0.18257848639307153, 0.33608197409683577, -0.5283521267196764, -1.565673047699491, 0.16319515393353334, -1.565673047699491, -0.18257848639307153, -0.8741257670462813, -0.18257848639307153, -1.2198994073728862, -0.5283521267196764, -0.8741257670462813, -0.00969166622976909, 1.2005160749133479, -1.3927862275361886, -0.355465306556374, -0.18257848639307153, 0.6818556144234407, -1.2198994073728862, -1.2198994073728862, 0.33608197409683577, -0.355465306556374, -1.2198994073728862, -0.355465306556374, 0.6818556144234407, 0.16319515393353334, -1.565673047699491, -0.355465306556374, -0.00969166622976909, 1.0276292547500454, -1.565673047699491, -0.355465306556374, 0.5089687942601382, 0.6818556144234407, -1.7385598678627934, -0.8741257670462813, 0.6818556144234407, 0.16319515393353334, -0.8741257670462813, -1.565673047699491, 0.5089687942601382, 1.7191765354032553, -1.7385598678627934, -1.3927862275361886, 0.33608197409683577, -0.355465306556374, -1.0470125872095837, -0.355465306556374, 0.854742434586743, 0.5089687942601382, -0.355465306556374, -1.9114466880260959, 0.33608197409683577, -0.00969166622976909, 0.5089687942601382, -0.7012389468829788, 0.33608197409683577, 1.0276292547500454, -0.8741257670462813, -1.565673047699491, 0.16319515393353334, 1.7191765354032553, -1.3927862275361886, 1.3734028950766504, -0.00969166622976909, 1.5462897152399528, -0.5283521267196764, -0.7012389468829788, -0.00969166622976909, 0.6818556144234407, -0.8741257670462813, -0.8741257670462813, 1.2005160749133479, 0.5089687942601382, 0.854742434586743, -2.084333508189398, 0.33608197409683577, 1.0276292547500454, -0.5283521267196764, 0.16319515393353334, 1.7191765354032553, 0.16319515393353334, -1.3927862275361886, -0.18257848639307153, 0.854742434586743, 0.854742434586743, -1.7385598678627934, 1.5462897152399528, 1.7191765354032553, -0.00969166622976909, -1.0470125872095837, -0.18257848639307153, -0.00969166622976909, -0.5283521267196764, 1.0276292547500454, 0.5089687942601382, 0.16319515393353334, -0.18257848639307153, 0.5089687942601382, -0.5283521267196764, -0.5283521267196764, -0.18257848639307153, 0.16319515393353334, 0.5089687942601382, 1.3734028950766504, -1.2198994073728862, -0.355465306556374, 0.16319515393353334, -0.7012389468829788, 0.16319515393353334, -0.355465306556374, 0.6818556144234407, -0.355465306556374, -1.0470125872095837, -1.0470125872095837, 0.5089687942601382, 0.16319515393353334, -1.9114466880260959, 0.16319515393353334, 0.6818556144234407, -1.7385598678627934, -0.5283521267196764, 0.33608197409683577, 0.6818556144234407, 0.5089687942601382, -1.0470125872095837, -0.5283521267196764, 0.6818556144234407, 0.33608197409683577, -0.355465306556374, 0.6818556144234407, 1.0276292547500454, -0.7012389468829788, -0.7012389468829788, 1.3734028950766504, -0.00969166622976909, 1.5462897152399528, -0.8741257670462813, -1.0470125872095837, 0.3427840479158879, 1.5122825643347995, -0.24196521029356788, 0.5377004673190399, 0.9275333061253437, -1.4114637267124794, -3.5555443401471503, -0.24196521029356788, 0.9275333061253437, 0.3427840479158879, -0.8267144685030237, 0.147867628512736, 0.147867628512736, -0.4368816296967198, -0.6317980490998717, 0.147867628512736, -0.04704879089041595, 0.147867628512736, -0.24196521029356788, 0.9275333061253437, 0.3427840479158879, -0.8267144685030237, -0.8267144685030237, 1.9021154031411034, 0.9275333061253437, 0.5377004673190399, 0.147867628512736, 0.3427840479158879, -1.0216308879061755, 1.2005160749133479, 0.6818556144234407, 0.5089687942601382, 0.16319515393353334, 1.5462897152399528, 0.6818556144234407, -2.6029939686793058, 0.16319515393353334, 1.8920633555665576, 0.854742434586743, -1.7385598678627934, 0.33608197409683577, 1.7191765354032553, 1.2005160749133479, 0.16319515393353334, -0.00969166622976909, 1.8920633555665576, 0.6818556144234407, 0.16319515393353334, -1.2198994073728862, 1.7191765354032553, 0.33608197409683577, 1.0276292547500454, -1.7385598678627934, 0.854742434586743, -0.5283521267196764, -1.3927862275361886, -3.1216544291692125, 0.33608197409683577, 1.3734028950766504, -0.8741257670462813, -0.355465306556374, 0.6818556144234407, 1.5462897152399528, -1.0470125872095837, -0.18257848639307153, 1.8920633555665576, 0.5089687942601382, -1.0470125872095837, -2.430107148516003, -0.355465306556374, 0.33608197409683577, -1.9114466880260959, -0.00969166622976909, 0.33608197409683577, -0.18257848639307153, -1.7385598678627934, -2.084333508189398, 0.5089687942601382, 1.2005160749133479, -1.3927862275361886, -1.7385598678627934, 0.16319515393353334, 0.854742434586743, -1.2198994073728862, -1.565673047699491, -0.18257848639307153, -0.355465306556374, -1.9114466880260959, -0.8741257670462813, 0.6818556144234407, -0.8741257670462813, 0.16319515393353334, -1.0470125872095837, 0.33608197409683577, 1.0276292547500454, -1.3927862275361886, -2.084333508189398, 0.6818556144234407, 0.6818556144234407, -0.00969166622976909, -1.3927862275361886, 0.33608197409683577, 1.7191765354032553, -2.257220328352701, -1.9114466880260959, -0.00969166622976909, 1.3734028950766504, -0.5283521267196764, -2.9487676090059103, 0.5089687942601382, -0.8741257670462813, -0.355465306556374], \"xaxis\": \"x\", \"yaxis\": \"y\"}],                        {\"barmode\": \"relative\", \"legend\": {\"title\": {\"text\": \"variable\"}, \"tracegroupgap\": 0}, \"margin\": {\"t\": 60}, \"template\": {\"data\": {\"bar\": [{\"error_x\": {\"color\": \"#2a3f5f\"}, \"error_y\": {\"color\": \"#2a3f5f\"}, \"marker\": {\"line\": {\"color\": \"#E5ECF6\", \"width\": 0.5}}, \"type\": \"bar\"}], \"barpolar\": [{\"marker\": {\"line\": {\"color\": \"#E5ECF6\", \"width\": 0.5}}, \"type\": \"barpolar\"}], \"carpet\": [{\"aaxis\": {\"endlinecolor\": \"#2a3f5f\", \"gridcolor\": \"white\", \"linecolor\": \"white\", \"minorgridcolor\": \"white\", \"startlinecolor\": \"#2a3f5f\"}, \"baxis\": {\"endlinecolor\": \"#2a3f5f\", \"gridcolor\": \"white\", \"linecolor\": \"white\", \"minorgridcolor\": \"white\", \"startlinecolor\": \"#2a3f5f\"}, \"type\": \"carpet\"}], \"choropleth\": [{\"colorbar\": {\"outlinewidth\": 0, \"ticks\": \"\"}, \"type\": \"choropleth\"}], \"contour\": [{\"colorbar\": {\"outlinewidth\": 0, \"ticks\": \"\"}, \"colorscale\": [[0.0, \"#0d0887\"], [0.1111111111111111, \"#46039f\"], [0.2222222222222222, \"#7201a8\"], [0.3333333333333333, \"#9c179e\"], [0.4444444444444444, \"#bd3786\"], [0.5555555555555556, \"#d8576b\"], [0.6666666666666666, \"#ed7953\"], [0.7777777777777778, \"#fb9f3a\"], [0.8888888888888888, \"#fdca26\"], [1.0, \"#f0f921\"]], \"type\": \"contour\"}], \"contourcarpet\": [{\"colorbar\": {\"outlinewidth\": 0, \"ticks\": \"\"}, \"type\": \"contourcarpet\"}], \"heatmap\": [{\"colorbar\": {\"outlinewidth\": 0, \"ticks\": \"\"}, \"colorscale\": [[0.0, \"#0d0887\"], [0.1111111111111111, \"#46039f\"], [0.2222222222222222, \"#7201a8\"], [0.3333333333333333, \"#9c179e\"], [0.4444444444444444, \"#bd3786\"], [0.5555555555555556, \"#d8576b\"], [0.6666666666666666, \"#ed7953\"], [0.7777777777777778, \"#fb9f3a\"], [0.8888888888888888, \"#fdca26\"], [1.0, \"#f0f921\"]], \"type\": \"heatmap\"}], \"heatmapgl\": [{\"colorbar\": {\"outlinewidth\": 0, \"ticks\": \"\"}, \"colorscale\": [[0.0, \"#0d0887\"], [0.1111111111111111, \"#46039f\"], [0.2222222222222222, \"#7201a8\"], [0.3333333333333333, \"#9c179e\"], [0.4444444444444444, \"#bd3786\"], [0.5555555555555556, \"#d8576b\"], [0.6666666666666666, \"#ed7953\"], [0.7777777777777778, \"#fb9f3a\"], [0.8888888888888888, \"#fdca26\"], [1.0, \"#f0f921\"]], \"type\": \"heatmapgl\"}], \"histogram\": [{\"marker\": {\"colorbar\": {\"outlinewidth\": 0, \"ticks\": \"\"}}, \"type\": \"histogram\"}], \"histogram2d\": [{\"colorbar\": {\"outlinewidth\": 0, \"ticks\": \"\"}, \"colorscale\": [[0.0, \"#0d0887\"], [0.1111111111111111, \"#46039f\"], [0.2222222222222222, \"#7201a8\"], [0.3333333333333333, \"#9c179e\"], [0.4444444444444444, \"#bd3786\"], [0.5555555555555556, \"#d8576b\"], [0.6666666666666666, \"#ed7953\"], [0.7777777777777778, \"#fb9f3a\"], [0.8888888888888888, \"#fdca26\"], [1.0, \"#f0f921\"]], \"type\": \"histogram2d\"}], \"histogram2dcontour\": [{\"colorbar\": {\"outlinewidth\": 0, \"ticks\": \"\"}, \"colorscale\": [[0.0, \"#0d0887\"], [0.1111111111111111, \"#46039f\"], [0.2222222222222222, \"#7201a8\"], [0.3333333333333333, \"#9c179e\"], [0.4444444444444444, \"#bd3786\"], [0.5555555555555556, \"#d8576b\"], [0.6666666666666666, \"#ed7953\"], [0.7777777777777778, \"#fb9f3a\"], [0.8888888888888888, \"#fdca26\"], [1.0, \"#f0f921\"]], \"type\": \"histogram2dcontour\"}], \"mesh3d\": [{\"colorbar\": {\"outlinewidth\": 0, \"ticks\": \"\"}, \"type\": \"mesh3d\"}], \"parcoords\": [{\"line\": {\"colorbar\": {\"outlinewidth\": 0, \"ticks\": \"\"}}, \"type\": \"parcoords\"}], \"pie\": [{\"automargin\": true, \"type\": \"pie\"}], \"scatter\": [{\"marker\": {\"colorbar\": {\"outlinewidth\": 0, \"ticks\": \"\"}}, \"type\": \"scatter\"}], \"scatter3d\": [{\"line\": {\"colorbar\": {\"outlinewidth\": 0, \"ticks\": \"\"}}, \"marker\": {\"colorbar\": {\"outlinewidth\": 0, \"ticks\": \"\"}}, \"type\": \"scatter3d\"}], \"scattercarpet\": [{\"marker\": {\"colorbar\": {\"outlinewidth\": 0, \"ticks\": \"\"}}, \"type\": \"scattercarpet\"}], \"scattergeo\": [{\"marker\": {\"colorbar\": {\"outlinewidth\": 0, \"ticks\": \"\"}}, \"type\": \"scattergeo\"}], \"scattergl\": [{\"marker\": {\"colorbar\": {\"outlinewidth\": 0, \"ticks\": \"\"}}, \"type\": \"scattergl\"}], \"scattermapbox\": [{\"marker\": {\"colorbar\": {\"outlinewidth\": 0, \"ticks\": \"\"}}, \"type\": \"scattermapbox\"}], \"scatterpolar\": [{\"marker\": {\"colorbar\": {\"outlinewidth\": 0, \"ticks\": \"\"}}, \"type\": \"scatterpolar\"}], \"scatterpolargl\": [{\"marker\": {\"colorbar\": {\"outlinewidth\": 0, \"ticks\": \"\"}}, \"type\": \"scatterpolargl\"}], \"scatterternary\": [{\"marker\": {\"colorbar\": {\"outlinewidth\": 0, \"ticks\": \"\"}}, \"type\": \"scatterternary\"}], \"surface\": [{\"colorbar\": {\"outlinewidth\": 0, \"ticks\": \"\"}, \"colorscale\": [[0.0, \"#0d0887\"], [0.1111111111111111, \"#46039f\"], [0.2222222222222222, \"#7201a8\"], [0.3333333333333333, \"#9c179e\"], [0.4444444444444444, \"#bd3786\"], [0.5555555555555556, \"#d8576b\"], [0.6666666666666666, \"#ed7953\"], [0.7777777777777778, \"#fb9f3a\"], [0.8888888888888888, \"#fdca26\"], [1.0, \"#f0f921\"]], \"type\": \"surface\"}], \"table\": [{\"cells\": {\"fill\": {\"color\": \"#EBF0F8\"}, \"line\": {\"color\": \"white\"}}, \"header\": {\"fill\": {\"color\": \"#C8D4E3\"}, \"line\": {\"color\": \"white\"}}, \"type\": \"table\"}]}, \"layout\": {\"annotationdefaults\": {\"arrowcolor\": \"#2a3f5f\", \"arrowhead\": 0, \"arrowwidth\": 1}, \"coloraxis\": {\"colorbar\": {\"outlinewidth\": 0, \"ticks\": \"\"}}, \"colorscale\": {\"diverging\": [[0, \"#8e0152\"], [0.1, \"#c51b7d\"], [0.2, \"#de77ae\"], [0.3, \"#f1b6da\"], [0.4, \"#fde0ef\"], [0.5, \"#f7f7f7\"], [0.6, \"#e6f5d0\"], [0.7, \"#b8e186\"], [0.8, \"#7fbc41\"], [0.9, \"#4d9221\"], [1, \"#276419\"]], \"sequential\": [[0.0, \"#0d0887\"], [0.1111111111111111, \"#46039f\"], [0.2222222222222222, \"#7201a8\"], [0.3333333333333333, \"#9c179e\"], [0.4444444444444444, \"#bd3786\"], [0.5555555555555556, \"#d8576b\"], [0.6666666666666666, \"#ed7953\"], [0.7777777777777778, \"#fb9f3a\"], [0.8888888888888888, \"#fdca26\"], [1.0, \"#f0f921\"]], \"sequentialminus\": [[0.0, \"#0d0887\"], [0.1111111111111111, \"#46039f\"], [0.2222222222222222, \"#7201a8\"], [0.3333333333333333, \"#9c179e\"], [0.4444444444444444, \"#bd3786\"], [0.5555555555555556, \"#d8576b\"], [0.6666666666666666, \"#ed7953\"], [0.7777777777777778, \"#fb9f3a\"], [0.8888888888888888, \"#fdca26\"], [1.0, \"#f0f921\"]]}, \"colorway\": [\"#636efa\", \"#EF553B\", \"#00cc96\", \"#ab63fa\", \"#FFA15A\", \"#19d3f3\", \"#FF6692\", \"#B6E880\", \"#FF97FF\", \"#FECB52\"], \"font\": {\"color\": \"#2a3f5f\"}, \"geo\": {\"bgcolor\": \"white\", \"lakecolor\": \"white\", \"landcolor\": \"#E5ECF6\", \"showlakes\": true, \"showland\": true, \"subunitcolor\": \"white\"}, \"hoverlabel\": {\"align\": \"left\"}, \"hovermode\": \"closest\", \"mapbox\": {\"style\": \"light\"}, \"paper_bgcolor\": \"white\", \"plot_bgcolor\": \"#E5ECF6\", \"polar\": {\"angularaxis\": {\"gridcolor\": \"white\", \"linecolor\": \"white\", \"ticks\": \"\"}, \"bgcolor\": \"#E5ECF6\", \"radialaxis\": {\"gridcolor\": \"white\", \"linecolor\": \"white\", \"ticks\": \"\"}}, \"scene\": {\"xaxis\": {\"backgroundcolor\": \"#E5ECF6\", \"gridcolor\": \"white\", \"gridwidth\": 2, \"linecolor\": \"white\", \"showbackground\": true, \"ticks\": \"\", \"zerolinecolor\": \"white\"}, \"yaxis\": {\"backgroundcolor\": \"#E5ECF6\", \"gridcolor\": \"white\", \"gridwidth\": 2, \"linecolor\": \"white\", \"showbackground\": true, \"ticks\": \"\", \"zerolinecolor\": \"white\"}, \"zaxis\": {\"backgroundcolor\": \"#E5ECF6\", \"gridcolor\": \"white\", \"gridwidth\": 2, \"linecolor\": \"white\", \"showbackground\": true, \"ticks\": \"\", \"zerolinecolor\": \"white\"}}, \"shapedefaults\": {\"line\": {\"color\": \"#2a3f5f\"}}, \"ternary\": {\"aaxis\": {\"gridcolor\": \"white\", \"linecolor\": \"white\", \"ticks\": \"\"}, \"baxis\": {\"gridcolor\": \"white\", \"linecolor\": \"white\", \"ticks\": \"\"}, \"bgcolor\": \"#E5ECF6\", \"caxis\": {\"gridcolor\": \"white\", \"linecolor\": \"white\", \"ticks\": \"\"}}, \"title\": {\"x\": 0.05}, \"xaxis\": {\"automargin\": true, \"gridcolor\": \"white\", \"linecolor\": \"white\", \"ticks\": \"\", \"title\": {\"standoff\": 15}, \"zerolinecolor\": \"white\", \"zerolinewidth\": 2}, \"yaxis\": {\"automargin\": true, \"gridcolor\": \"white\", \"linecolor\": \"white\", \"ticks\": \"\", \"title\": {\"standoff\": 15}, \"zerolinecolor\": \"white\", \"zerolinewidth\": 2}}}, \"xaxis\": {\"anchor\": \"y\", \"domain\": [0.0, 1.0], \"title\": {\"text\": \"value\"}}, \"yaxis\": {\"anchor\": \"x\", \"domain\": [0.0, 1.0], \"title\": {\"text\": \"count\"}}},                        {\"responsive\": true}                    ).then(function(){\n",
       "                            \n",
       "var gd = document.getElementById('d8365ffb-7d93-4dc9-99d3-6d110dd8c323');\n",
       "var x = new MutationObserver(function (mutations, observer) {{\n",
       "        var display = window.getComputedStyle(gd).display;\n",
       "        if (!display || display === 'none') {{\n",
       "            console.log([gd, 'removed!']);\n",
       "            Plotly.purge(gd);\n",
       "            observer.disconnect();\n",
       "        }}\n",
       "}});\n",
       "\n",
       "// Listen for the removal of the full notebook cells\n",
       "var notebookContainer = gd.closest('#notebook-container');\n",
       "if (notebookContainer) {{\n",
       "    x.observe(notebookContainer, {childList: true});\n",
       "}}\n",
       "\n",
       "// Listen for the clearing of the current output cell\n",
       "var outputEl = gd.closest('.output');\n",
       "if (outputEl) {{\n",
       "    x.observe(outputEl, {childList: true});\n",
       "}}\n",
       "\n",
       "                        })                };                });            </script>        </div>"
      ]
     },
     "metadata": {},
     "output_type": "display_data"
    }
   ],
   "source": [
    "px.histogram(df[\"female\"])"
   ]
  },
  {
   "cell_type": "code",
   "execution_count": 263,
   "metadata": {},
   "outputs": [
    {
     "data": {
      "text/html": [
       "<div>\n",
       "<style scoped>\n",
       "    .dataframe tbody tr th:only-of-type {\n",
       "        vertical-align: middle;\n",
       "    }\n",
       "\n",
       "    .dataframe tbody tr th {\n",
       "        vertical-align: top;\n",
       "    }\n",
       "\n",
       "    .dataframe thead th {\n",
       "        text-align: right;\n",
       "    }\n",
       "</style>\n",
       "<table border=\"1\" class=\"dataframe\">\n",
       "  <thead>\n",
       "    <tr style=\"text-align: right;\">\n",
       "      <th></th>\n",
       "      <th>Ross</th>\n",
       "      <th>Chandler</th>\n",
       "      <th>BT1</th>\n",
       "      <th>BT2</th>\n",
       "      <th>BT3</th>\n",
       "      <th>BT4</th>\n",
       "      <th>BT5</th>\n",
       "      <th>GR1</th>\n",
       "      <th>GR2</th>\n",
       "      <th>GR3</th>\n",
       "      <th>GR4</th>\n",
       "      <th>GR5</th>\n",
       "      <th>Total:</th>\n",
       "      <th>All_GR</th>\n",
       "      <th>All_BT</th>\n",
       "      <th>All_SS</th>\n",
       "      <th>male</th>\n",
       "      <th>female</th>\n",
       "    </tr>\n",
       "  </thead>\n",
       "  <tbody>\n",
       "    <tr>\n",
       "      <th>0</th>\n",
       "      <td>1.244786</td>\n",
       "      <td>-0.726181</td>\n",
       "      <td>-0.420426</td>\n",
       "      <td>-1.208749</td>\n",
       "      <td>-1.138389</td>\n",
       "      <td>-0.490154</td>\n",
       "      <td>-0.353893</td>\n",
       "      <td>1.023944</td>\n",
       "      <td>0.991227</td>\n",
       "      <td>-0.086965</td>\n",
       "      <td>-0.901766</td>\n",
       "      <td>0.480332</td>\n",
       "      <td>-1.244907</td>\n",
       "      <td>0.496762</td>\n",
       "      <td>-1.440297</td>\n",
       "      <td>0.373878</td>\n",
       "      <td>-0.329781</td>\n",
       "      <td>-1.724244</td>\n",
       "    </tr>\n",
       "    <tr>\n",
       "      <th>1</th>\n",
       "      <td>0.896314</td>\n",
       "      <td>1.039504</td>\n",
       "      <td>0.952142</td>\n",
       "      <td>0.371848</td>\n",
       "      <td>1.024657</td>\n",
       "      <td>1.255953</td>\n",
       "      <td>1.297606</td>\n",
       "      <td>1.023944</td>\n",
       "      <td>0.991227</td>\n",
       "      <td>1.070669</td>\n",
       "      <td>1.066605</td>\n",
       "      <td>1.091663</td>\n",
       "      <td>1.864002</td>\n",
       "      <td>1.979742</td>\n",
       "      <td>1.910766</td>\n",
       "      <td>1.356438</td>\n",
       "      <td>1.376764</td>\n",
       "      <td>1.598498</td>\n",
       "    </tr>\n",
       "    <tr>\n",
       "      <th>2</th>\n",
       "      <td>NaN</td>\n",
       "      <td>NaN</td>\n",
       "      <td>NaN</td>\n",
       "      <td>NaN</td>\n",
       "      <td>NaN</td>\n",
       "      <td>NaN</td>\n",
       "      <td>NaN</td>\n",
       "      <td>-0.468771</td>\n",
       "      <td>0.991227</td>\n",
       "      <td>-0.665782</td>\n",
       "      <td>0.410481</td>\n",
       "      <td>1.091663</td>\n",
       "      <td>1.553111</td>\n",
       "      <td>0.496762</td>\n",
       "      <td>NaN</td>\n",
       "      <td>NaN</td>\n",
       "      <td>1.221624</td>\n",
       "      <td>1.248736</td>\n",
       "    </tr>\n",
       "    <tr>\n",
       "      <th>3</th>\n",
       "      <td>-0.497574</td>\n",
       "      <td>0.686367</td>\n",
       "      <td>0.494619</td>\n",
       "      <td>-0.023301</td>\n",
       "      <td>0.159438</td>\n",
       "      <td>0.382900</td>\n",
       "      <td>1.297606</td>\n",
       "      <td>NaN</td>\n",
       "      <td>NaN</td>\n",
       "      <td>NaN</td>\n",
       "      <td>NaN</td>\n",
       "      <td>NaN</td>\n",
       "      <td>0.724069</td>\n",
       "      <td>NaN</td>\n",
       "      <td>0.905447</td>\n",
       "      <td>0.128238</td>\n",
       "      <td>0.445921</td>\n",
       "      <td>0.724092</td>\n",
       "    </tr>\n",
       "    <tr>\n",
       "      <th>4</th>\n",
       "      <td>0.547842</td>\n",
       "      <td>0.333230</td>\n",
       "      <td>0.952142</td>\n",
       "      <td>-0.813600</td>\n",
       "      <td>0.159438</td>\n",
       "      <td>-0.490154</td>\n",
       "      <td>-0.766767</td>\n",
       "      <td>1.023944</td>\n",
       "      <td>-0.448623</td>\n",
       "      <td>-0.665782</td>\n",
       "      <td>-0.245642</td>\n",
       "      <td>1.091663</td>\n",
       "      <td>-0.623125</td>\n",
       "      <td>0.249598</td>\n",
       "      <td>-0.434978</td>\n",
       "      <td>0.619518</td>\n",
       "      <td>0.135640</td>\n",
       "      <td>-1.199601</td>\n",
       "    </tr>\n",
       "    <tr>\n",
       "      <th>...</th>\n",
       "      <td>...</td>\n",
       "      <td>...</td>\n",
       "      <td>...</td>\n",
       "      <td>...</td>\n",
       "      <td>...</td>\n",
       "      <td>...</td>\n",
       "      <td>...</td>\n",
       "      <td>...</td>\n",
       "      <td>...</td>\n",
       "      <td>...</td>\n",
       "      <td>...</td>\n",
       "      <td>...</td>\n",
       "      <td>...</td>\n",
       "      <td>...</td>\n",
       "      <td>...</td>\n",
       "      <td>...</td>\n",
       "      <td>...</td>\n",
       "      <td>...</td>\n",
       "    </tr>\n",
       "    <tr>\n",
       "      <th>577</th>\n",
       "      <td>-0.894630</td>\n",
       "      <td>1.138869</td>\n",
       "      <td>0.382627</td>\n",
       "      <td>-0.132954</td>\n",
       "      <td>-1.770247</td>\n",
       "      <td>1.029935</td>\n",
       "      <td>-1.057497</td>\n",
       "      <td>0.000000</td>\n",
       "      <td>0.857075</td>\n",
       "      <td>1.319247</td>\n",
       "      <td>-2.969287</td>\n",
       "      <td>0.059976</td>\n",
       "      <td>-1.395427</td>\n",
       "      <td>-0.157966</td>\n",
       "      <td>-0.698360</td>\n",
       "      <td>-0.199840</td>\n",
       "      <td>-1.020285</td>\n",
       "      <td>-1.046462</td>\n",
       "    </tr>\n",
       "    <tr>\n",
       "      <th>578</th>\n",
       "      <td>1.086337</td>\n",
       "      <td>-3.825889</td>\n",
       "      <td>1.080358</td>\n",
       "      <td>-3.076936</td>\n",
       "      <td>-1.316713</td>\n",
       "      <td>-2.100260</td>\n",
       "      <td>-2.787946</td>\n",
       "      <td>0.622495</td>\n",
       "      <td>0.026784</td>\n",
       "      <td>-0.021627</td>\n",
       "      <td>-0.568038</td>\n",
       "      <td>-4.588165</td>\n",
       "      <td>-3.853243</td>\n",
       "      <td>-1.137354</td>\n",
       "      <td>-2.832239</td>\n",
       "      <td>-1.129097</td>\n",
       "      <td>-1.939662</td>\n",
       "      <td>-3.580932</td>\n",
       "    </tr>\n",
       "    <tr>\n",
       "      <th>579</th>\n",
       "      <td>NaN</td>\n",
       "      <td>NaN</td>\n",
       "      <td>NaN</td>\n",
       "      <td>NaN</td>\n",
       "      <td>NaN</td>\n",
       "      <td>NaN</td>\n",
       "      <td>NaN</td>\n",
       "      <td>-1.867485</td>\n",
       "      <td>0.857075</td>\n",
       "      <td>-0.021627</td>\n",
       "      <td>-1.368454</td>\n",
       "      <td>-1.799280</td>\n",
       "      <td>0.516208</td>\n",
       "      <td>-1.382201</td>\n",
       "      <td>NaN</td>\n",
       "      <td>NaN</td>\n",
       "      <td>0.818470</td>\n",
       "      <td>0.039739</td>\n",
       "    </tr>\n",
       "    <tr>\n",
       "      <th>580</th>\n",
       "      <td>-0.564469</td>\n",
       "      <td>-2.170970</td>\n",
       "      <td>-1.012836</td>\n",
       "      <td>-2.488139</td>\n",
       "      <td>-0.863178</td>\n",
       "      <td>-2.726299</td>\n",
       "      <td>-0.480680</td>\n",
       "      <td>NaN</td>\n",
       "      <td>NaN</td>\n",
       "      <td>NaN</td>\n",
       "      <td>NaN</td>\n",
       "      <td>NaN</td>\n",
       "      <td>-2.351244</td>\n",
       "      <td>NaN</td>\n",
       "      <td>-2.444261</td>\n",
       "      <td>-1.748602</td>\n",
       "      <td>-2.169506</td>\n",
       "      <td>-1.408529</td>\n",
       "    </tr>\n",
       "    <tr>\n",
       "      <th>581</th>\n",
       "      <td>-2.215274</td>\n",
       "      <td>-0.516050</td>\n",
       "      <td>0.382627</td>\n",
       "      <td>0.455842</td>\n",
       "      <td>-0.863178</td>\n",
       "      <td>-0.222143</td>\n",
       "      <td>-2.787946</td>\n",
       "      <td>-1.867485</td>\n",
       "      <td>-2.464089</td>\n",
       "      <td>1.319247</td>\n",
       "      <td>-0.568038</td>\n",
       "      <td>0.989604</td>\n",
       "      <td>-3.033971</td>\n",
       "      <td>-0.892507</td>\n",
       "      <td>-1.086338</td>\n",
       "      <td>-2.368106</td>\n",
       "      <td>-4.008261</td>\n",
       "      <td>-0.865429</td>\n",
       "    </tr>\n",
       "  </tbody>\n",
       "</table>\n",
       "<p>582 rows × 18 columns</p>\n",
       "</div>"
      ],
      "text/plain": [
       "         Ross  Chandler       BT1       BT2       BT3       BT4       BT5  \\\n",
       "0    1.244786 -0.726181 -0.420426 -1.208749 -1.138389 -0.490154 -0.353893   \n",
       "1    0.896314  1.039504  0.952142  0.371848  1.024657  1.255953  1.297606   \n",
       "2         NaN       NaN       NaN       NaN       NaN       NaN       NaN   \n",
       "3   -0.497574  0.686367  0.494619 -0.023301  0.159438  0.382900  1.297606   \n",
       "4    0.547842  0.333230  0.952142 -0.813600  0.159438 -0.490154 -0.766767   \n",
       "..        ...       ...       ...       ...       ...       ...       ...   \n",
       "577 -0.894630  1.138869  0.382627 -0.132954 -1.770247  1.029935 -1.057497   \n",
       "578  1.086337 -3.825889  1.080358 -3.076936 -1.316713 -2.100260 -2.787946   \n",
       "579       NaN       NaN       NaN       NaN       NaN       NaN       NaN   \n",
       "580 -0.564469 -2.170970 -1.012836 -2.488139 -0.863178 -2.726299 -0.480680   \n",
       "581 -2.215274 -0.516050  0.382627  0.455842 -0.863178 -0.222143 -2.787946   \n",
       "\n",
       "          GR1       GR2       GR3       GR4       GR5   Total:     All_GR  \\\n",
       "0    1.023944  0.991227 -0.086965 -0.901766  0.480332 -1.244907  0.496762   \n",
       "1    1.023944  0.991227  1.070669  1.066605  1.091663  1.864002  1.979742   \n",
       "2   -0.468771  0.991227 -0.665782  0.410481  1.091663  1.553111  0.496762   \n",
       "3         NaN       NaN       NaN       NaN       NaN  0.724069       NaN   \n",
       "4    1.023944 -0.448623 -0.665782 -0.245642  1.091663 -0.623125  0.249598   \n",
       "..        ...       ...       ...       ...       ...       ...       ...   \n",
       "577  0.000000  0.857075  1.319247 -2.969287  0.059976 -1.395427 -0.157966   \n",
       "578  0.622495  0.026784 -0.021627 -0.568038 -4.588165 -3.853243 -1.137354   \n",
       "579 -1.867485  0.857075 -0.021627 -1.368454 -1.799280  0.516208 -1.382201   \n",
       "580       NaN       NaN       NaN       NaN       NaN -2.351244       NaN   \n",
       "581 -1.867485 -2.464089  1.319247 -0.568038  0.989604 -3.033971 -0.892507   \n",
       "\n",
       "       All_BT    All_SS      male    female  \n",
       "0   -1.440297  0.373878 -0.329781 -1.724244  \n",
       "1    1.910766  1.356438  1.376764  1.598498  \n",
       "2         NaN       NaN  1.221624  1.248736  \n",
       "3    0.905447  0.128238  0.445921  0.724092  \n",
       "4   -0.434978  0.619518  0.135640 -1.199601  \n",
       "..        ...       ...       ...       ...  \n",
       "577 -0.698360 -0.199840 -1.020285 -1.046462  \n",
       "578 -2.832239 -1.129097 -1.939662 -3.580932  \n",
       "579       NaN       NaN  0.818470  0.039739  \n",
       "580 -2.444261 -1.748602 -2.169506 -1.408529  \n",
       "581 -1.086338 -2.368106 -4.008261 -0.865429  \n",
       "\n",
       "[582 rows x 18 columns]"
      ]
     },
     "execution_count": 263,
     "metadata": {},
     "output_type": "execute_result"
    }
   ],
   "source": [
    "df2 = pd.DataFrame()\n",
    "for column in light_eat.drop(columns = \"Etc. Comments\").iloc[:,1:].columns:\n",
    "    resid = []\n",
    "    light_mean = light_eat[column].mean()\n",
    "    light_std = np.std(light_eat[column])\n",
    "    no_light_mean = no_light_eat[column].mean()\n",
    "    no_light_std = np.std(no_light_eat[column])\n",
    "    for date in eat.Date:\n",
    "        if  (date < pd.to_datetime('02-15-2018')):\n",
    "            resid.append((light_mean - eat[eat[\"Date\"]==date][column].values[0])/light_std)\n",
    "        else:\n",
    "            resid.append((no_light_mean - eat[eat[\"Date\"]==date][column].values[0])/no_light_std)\n",
    "    df2 = pd.concat([df2, pd.Series(resid,name = column)], axis = 1)\n",
    "df2\n",
    "    "
   ]
  },
  {
   "cell_type": "code",
   "execution_count": 273,
   "metadata": {
    "scrolled": false
   },
   "outputs": [
    {
     "data": {
      "application/vnd.plotly.v1+json": {
       "config": {
        "plotlyServerURL": "https://plot.ly"
       },
       "data": [
        {
         "alignmentgroup": "True",
         "bingroup": "x",
         "hovertemplate": "variable=Total: <br>value=%{x}<br>count=%{y}<extra></extra>",
         "legendgroup": "Total: ",
         "marker": {
          "color": "#636efa"
         },
         "name": "Total: ",
         "offsetgroup": "Total: ",
         "orientation": "v",
         "showlegend": true,
         "type": "histogram",
         "x": [
          -1.244906743556674,
          1.864001726555569,
          1.5531108795443447,
          0.7240686208477466,
          -0.6231250495342255,
          -0.9340158965454498,
          2.0712622912297185,
          1.0349594678589709,
          -0.6231250495342255,
          0.8276989031848213,
          1.3458503148701952,
          0.6204383385106718,
          -0.6231250495342255,
          0.6204383385106718,
          1.1385897501960456,
          0.516808056173597,
          -0.6231250495342255,
          0.41317777383652227,
          1.1385897501960456,
          0.9313291855218961,
          -0.2086039201859264,
          0.6204383385106718,
          1.44948059720727,
          0.8276989031848213,
          -0.3122342025230012,
          0.516808056173597,
          0.8276989031848213,
          1.3458503148701952,
          0.516808056173597,
          0.7240686208477466,
          0.7240686208477466,
          0.8276989031848213,
          0.516808056173597,
          1.0349594678589709,
          1.2422200325331205,
          0.6204383385106718,
          -0.415864484860076,
          0.3095474914994475,
          0.8276989031848213,
          0.41317777383652227,
          -0.415864484860076,
          0.10657197808460736,
          0.9258440596100258,
          -0.576154756519908,
          -0.8492454503617141,
          -0.4396094095990049,
          0.24311732500551042,
          -0.4396094095990049,
          -0.576154756519908,
          -0.712700103440811,
          -1.6685175318871326,
          -0.8492454503617141,
          -0.8492454503617141,
          2.01820683497725,
          -0.576154756519908,
          0.7892987126891227,
          -0.576154756519908,
          0.6527533657682196,
          -0.3030640626781018,
          -1.2588814911244233,
          -0.3030640626781018,
          1.472025447293638,
          -0.576154756519908,
          -1.1223361442035202,
          -0.9857907972826172,
          1.745116141135444,
          -1.5319721849662293,
          -0.16651871575719876,
          -0.8492454503617141,
          1.0623894065309287,
          -0.712700103440811,
          -0.3030640626781018,
          -1.1223361442035202,
          0.7892987126891227,
          0.10657197808460736,
          0.10657197808460736,
          -0.3030640626781018,
          1.472025447293638,
          1.608570794214541,
          2.154752181898153,
          -0.9857907972826172,
          0.6527533657682196,
          0.6527533657682196,
          -2.624334960333454,
          -0.712700103440811,
          0.7892987126891227,
          -0.16651871575719876,
          -2.3512442664916477,
          -0.576154756519908,
          1.0623894065309287,
          0.10657197808460736,
          -2.624334960333454,
          0.10657197808460736,
          1.472025447293638,
          0.24311732500551042,
          -2.760880307254357,
          -0.712700103440811,
          1.335480100372735,
          0.10657197808460736,
          -1.8050628788080356,
          -1.9416082257289387,
          0.9258440596100258,
          0.24311732500551042,
          -1.3954268380453263,
          -1.5319721849662293,
          1.335480100372735,
          0.24311732500551042,
          -1.5319721849662293,
          -1.5319721849662293,
          1.335480100372735,
          0.5162080188473166,
          -2.2146989195707447,
          -0.3030640626781018,
          1.472025447293638,
          0.5162080188473166,
          -2.3512442664916477,
          -0.576154756519908,
          0.3796626719264135,
          -0.16651871575719876,
          -0.3030640626781018,
          -0.4396094095990049,
          1.335480100372735,
          0.6527533657682196,
          -1.2588814911244233,
          -0.0299733688362957,
          0.7892987126891227,
          0.24311732500551042,
          -2.2146989195707447,
          -1.2588814911244233,
          1.0623894065309287,
          0.3796626719264135,
          -2.3512442664916477,
          -1.3954268380453263,
          0.5162080188473166,
          0.24311732500551042,
          -2.2146989195707447,
          -1.9416082257289387,
          0.24311732500551042,
          0.5162080188473166,
          -2.760880307254357,
          -2.0781535726498417,
          0.3796626719264135,
          -0.0299733688362957,
          -2.2146989195707447,
          -1.1223361442035202,
          0.7892987126891227,
          0.10657197808460736,
          -0.8492454503617141,
          -0.712700103440811,
          0.7892987126891227,
          0.24311732500551042,
          -1.6685175318871326,
          -1.3954268380453263,
          0.7892987126891227,
          0.24311732500551042,
          -2.0781535726498417,
          -0.9857907972826172,
          1.0623894065309287,
          -0.3030640626781018,
          -2.487789613412551,
          -1.9416082257289387,
          0.7892987126891227,
          0.3796626719264135,
          -2.624334960333454,
          0.24311732500551042,
          0.5162080188473166,
          0.6527533657682196,
          -1.5319721849662293,
          0.5162080188473166,
          0.7892987126891227,
          0.9258440596100258,
          -3.0339710010961634,
          -1.3954268380453263,
          0.6527533657682196,
          0.5162080188473166,
          -0.8492454503617141,
          -0.576154756519908,
          0.9258440596100258,
          0.5162080188473166,
          -1.1223361442035202,
          -1.2588814911244233,
          0.3796626719264135,
          -0.576154756519908,
          0.5162080188473166,
          -1.8050628788080356,
          1.8816614880563471,
          -0.16651871575719876,
          -1.8050628788080356,
          -0.8492454503617141,
          2.01820683497725,
          0.7892987126891227,
          -1.6685175318871326,
          0.5162080188473166,
          0.5162080188473166,
          0.24311732500551042,
          -2.0781535726498417,
          -1.8050628788080356,
          0.5162080188473166,
          -1.2588814911244233,
          -2.0781535726498417,
          0.24311732500551042,
          -0.4396094095990049,
          -1.8050628788080356,
          -1.1223361442035202,
          0.24311732500551042,
          -1.3954268380453263,
          -1.8050628788080356,
          -0.576154756519908,
          0.24311732500551042,
          -1.2588814911244233,
          -1.8050628788080356,
          -0.3030640626781018,
          -0.16651871575719876,
          -1.2588814911244233,
          -1.6685175318871326,
          -0.576154756519908,
          0.5162080188473166,
          -1.1223361442035202,
          -0.9857907972826172,
          0.7892987126891227,
          -0.9857907972826172,
          -2.0781535726498417,
          -1.5319721849662293,
          1.8816614880563471,
          -1.2588814911244233,
          -3.8532430826215816,
          -0.8492454503617141,
          0.9258440596100258,
          -1.6685175318871326,
          -1.9416082257289387,
          -0.9857907972826172,
          2.154752181898153,
          -1.3954268380453263,
          -2.2146989195707447,
          -2.2146989195707447,
          2.154752181898153,
          -1.6685175318871326,
          -1.1223361442035202,
          -2.3512442664916477,
          null,
          -0.3030640626781018,
          -1.6685175318871326,
          -0.16651871575719876,
          0.24311732500551042,
          -0.16651871575719876,
          -0.8492454503617141,
          -1.3954268380453263,
          0.7892987126891227,
          0.6527533657682196,
          -1.8050628788080356,
          -1.6685175318871326,
          0.6527533657682196,
          -0.16651871575719876,
          -1.9416082257289387,
          -0.3030640626781018,
          1.335480100372735,
          0.5162080188473166,
          -1.5319721849662293,
          -0.712700103440811,
          0.3796626719264135,
          -0.4396094095990049,
          -1.5319721849662293,
          -2.760880307254357,
          0.9258440596100258,
          -0.712700103440811,
          -1.5319721849662293,
          -0.576154756519908,
          0.24311732500551042,
          -0.712700103440811,
          -0.4396094095990049,
          -1.9416082257289387,
          0.3796626719264135,
          -0.576154756519908,
          -0.16651871575719876,
          -2.3512442664916477,
          0.3796626719264135,
          -0.9857907972826172,
          -0.4396094095990049,
          -1.2588814911244233,
          -0.16651871575719876,
          -1.2588814911244233,
          -0.8492454503617141,
          -1.6685175318871326,
          -0.0299733688362957,
          -1.1223361442035202,
          -1.3954268380453263,
          -2.760880307254357,
          0.9258440596100258,
          -0.9857907972826172,
          -1.9416082257289387,
          -1.9416082257289387,
          0.7892987126891227,
          -0.0299733688362957,
          -1.6685175318871326,
          -3.8532430826215816,
          0.3796626719264135,
          0.9258440596100258,
          -0.576154756519908,
          -3.0339710010961634,
          0.7892987126891227,
          -2.487789613412551,
          -0.4396094095990049,
          -1.6685175318871326,
          0.5162080188473166,
          1.745116141135444,
          -0.712700103440811,
          -0.4396094095990049,
          0.5162080188473166,
          -0.4396094095990049,
          -1.1223361442035202,
          -2.3512442664916477,
          0.7892987126891227,
          -0.3030640626781018,
          -2.0781535726498417,
          -1.2588814911244233,
          0.5162080188473166,
          -2.0781535726498417,
          -1.5319721849662293,
          -1.1223361442035202,
          0.24311732500551042,
          -3.3070616949379694,
          -1.5319721849662293,
          -3.4436070418588725,
          0.24311732500551042,
          -1.8050628788080356,
          -1.6685175318871326,
          -3.3070616949379694,
          0.6527533657682196,
          -0.16651871575719876,
          -2.89742565417526,
          -1.8050628788080356,
          0.5162080188473166,
          -1.6685175318871326,
          -1.5319721849662293,
          -3.9897884295424846,
          0.3796626719264135,
          -4.672515164147,
          -0.576154756519908,
          -1.8050628788080356,
          0.24311732500551042,
          -2.2146989195707447,
          -1.1223361442035202,
          -2.487789613412551,
          0.3796626719264135,
          -2.2146989195707447,
          -1.8050628788080356,
          -2.2146989195707447,
          0.10657197808460736,
          -2.3512442664916477,
          -1.6685175318871326,
          -1.8050628788080356,
          0.5162080188473166,
          -1.8050628788080356,
          -1.1223361442035202,
          -1.2588814911244233,
          0.9258440596100258,
          -2.760880307254357,
          -2.760880307254357,
          -0.8492454503617141,
          0.3796626719264135,
          -2.2146989195707447,
          -3.5801523887797755,
          -0.712700103440811,
          0.7892987126891227,
          -1.2588814911244233,
          -2.3512442664916477,
          -1.9416082257289387,
          0.7892987126891227,
          -1.3954268380453263,
          -1.6685175318871326,
          -3.3070616949379694,
          0.5162080188473166,
          0.24311732500551042,
          -2.2146989195707447,
          -2.89742565417526,
          0.10657197808460736,
          -3.0339710010961634,
          -0.712700103440811,
          -1.5319721849662293,
          1.335480100372735,
          -1.6685175318871326,
          -1.6685175318871326,
          -3.1705163480170664,
          0.5162080188473166,
          -1.3954268380453263,
          -0.9857907972826172,
          -1.9416082257289387,
          0.6527533657682196,
          -0.712700103440811,
          -1.8050628788080356,
          -1.8050628788080356,
          0.6527533657682196,
          0.10657197808460736,
          -1.8050628788080356,
          -0.3030640626781018,
          0.5162080188473166,
          0.3796626719264135,
          -0.9857907972826172,
          -1.5319721849662293,
          0.5162080188473166,
          0.3796626719264135,
          -2.760880307254357,
          -1.6685175318871326,
          1.472025447293638,
          -0.712700103440811,
          -0.3030640626781018,
          -2.2146989195707447,
          0.6527533657682196,
          -0.4396094095990049,
          -0.8492454503617141,
          0.3796626719264135,
          -0.0299733688362957,
          -0.712700103440811,
          -2.624334960333454,
          0.3796626719264135,
          0.5162080188473166,
          -0.4396094095990049,
          -2.624334960333454,
          1.8816614880563471,
          -0.3030640626781018,
          -1.9416082257289387,
          -2.2146989195707447,
          0.10657197808460736,
          -1.9416082257289387,
          -1.1223361442035202,
          -0.576154756519908,
          0.6527533657682196,
          -0.8492454503617141,
          -0.9857907972826172,
          -1.3954268380453263,
          -0.0299733688362957,
          -0.576154756519908,
          -0.8492454503617141,
          -0.4396094095990049,
          0.9258440596100258,
          -0.0299733688362957,
          -1.3954268380453263,
          -1.3954268380453263,
          0.7892987126891227,
          -1.1223361442035202,
          -0.576154756519908,
          -1.5319721849662293,
          0.6527533657682196,
          -1.9416082257289387,
          -1.6685175318871326,
          -0.8492454503617141,
          0.7892987126891227,
          -0.9857907972826172,
          -1.9416082257289387,
          -0.9857907972826172,
          0.6527533657682196,
          -2.2146989195707447,
          -1.2588814911244233,
          -0.576154756519908,
          1.198934753451832,
          -0.9857907972826172,
          -1.5319721849662293,
          -0.9857907972826172,
          0.9258440596100258,
          -1.2588814911244233,
          -0.8492454503617141,
          0.6527533657682196,
          1.198934753451832,
          -2.3512442664916477,
          -0.9857907972826172,
          -0.0299733688362957,
          0.6527533657682196,
          -0.712700103440811,
          -1.8050628788080356,
          -0.576154756519908,
          0.7892987126891227,
          -1.3954268380453263,
          -1.3954268380453263,
          -0.8492454503617141,
          1.335480100372735,
          -1.6685175318871326,
          -3.4436070418588725,
          -0.0299733688362957,
          0.5162080188473166,
          0.24311732500551042,
          -1.3954268380453263,
          0.6527533657682196,
          0.10657197808460736,
          -0.8492454503617141,
          -2.2146989195707447,
          0.6527533657682196,
          -0.3030640626781018,
          -0.576154756519908,
          0.10657197808460736,
          1.335480100372735,
          -0.8492454503617141,
          -1.3954268380453263,
          -1.5319721849662293,
          -0.0299733688362957,
          0.9258440596100258,
          -0.4396094095990049,
          -0.3030640626781018,
          -0.9857907972826172,
          -0.576154756519908,
          1.0623894065309287,
          -0.712700103440811,
          -0.576154756519908,
          -0.4396094095990049,
          1.608570794214541,
          -0.712700103440811,
          -2.487789613412551,
          -0.4396094095990049,
          2.154752181898153,
          -0.3030640626781018,
          -2.3512442664916477,
          -1.2588814911244233,
          2.01820683497725,
          0.5162080188473166,
          -1.6685175318871326,
          -0.576154756519908,
          2.154752181898153,
          -0.0299733688362957,
          -1.2588814911244233,
          -2.2146989195707447,
          2.01820683497725,
          -0.712700103440811,
          -1.1223361442035202,
          -2.2146989195707447,
          1.335480100372735,
          -1.1223361442035202,
          -2.487789613412551,
          -4.399424470305194,
          0.9258440596100258,
          -0.576154756519908,
          -2.3512442664916477,
          0.10657197808460736,
          1.0623894065309287,
          -0.3030640626781018,
          -1.6685175318871326,
          -0.0299733688362957,
          2.154752181898153,
          -0.576154756519908,
          -2.3512442664916477,
          -2.89742565417526,
          -0.0299733688362957,
          -0.3030640626781018,
          -2.760880307254357,
          -2.2146989195707447,
          0.24311732500551042,
          -1.2588814911244233,
          -2.89742565417526,
          -2.3512442664916477,
          0.5162080188473166,
          -0.3030640626781018,
          -3.1705163480170664,
          -2.3512442664916477,
          0.5162080188473166,
          -0.3030640626781018,
          -3.3070616949379694,
          -3.5801523887797755,
          0.24311732500551042,
          -0.8492454503617141,
          -3.4436070418588725,
          -3.3070616949379694,
          0.7892987126891227,
          -2.89742565417526,
          -1.1223361442035202,
          -2.0781535726498417,
          0.6527533657682196,
          -0.0299733688362957,
          -2.0781535726498417,
          -3.8532430826215816,
          0.6527533657682196,
          -1.9416082257289387,
          -1.9416082257289387,
          -3.1705163480170664,
          0.9258440596100258,
          0.5162080188473166,
          -3.1705163480170664,
          -3.8532430826215816,
          0.3796626719264135,
          -0.16651871575719876,
          -1.3954268380453263,
          -3.8532430826215816,
          0.5162080188473166,
          -2.3512442664916477,
          -3.0339710010961634
         ],
         "xaxis": "x",
         "yaxis": "y"
        }
       ],
       "layout": {
        "barmode": "relative",
        "legend": {
         "title": {
          "text": "variable"
         },
         "tracegroupgap": 0
        },
        "margin": {
         "t": 60
        },
        "template": {
         "data": {
          "bar": [
           {
            "error_x": {
             "color": "#2a3f5f"
            },
            "error_y": {
             "color": "#2a3f5f"
            },
            "marker": {
             "line": {
              "color": "#E5ECF6",
              "width": 0.5
             }
            },
            "type": "bar"
           }
          ],
          "barpolar": [
           {
            "marker": {
             "line": {
              "color": "#E5ECF6",
              "width": 0.5
             }
            },
            "type": "barpolar"
           }
          ],
          "carpet": [
           {
            "aaxis": {
             "endlinecolor": "#2a3f5f",
             "gridcolor": "white",
             "linecolor": "white",
             "minorgridcolor": "white",
             "startlinecolor": "#2a3f5f"
            },
            "baxis": {
             "endlinecolor": "#2a3f5f",
             "gridcolor": "white",
             "linecolor": "white",
             "minorgridcolor": "white",
             "startlinecolor": "#2a3f5f"
            },
            "type": "carpet"
           }
          ],
          "choropleth": [
           {
            "colorbar": {
             "outlinewidth": 0,
             "ticks": ""
            },
            "type": "choropleth"
           }
          ],
          "contour": [
           {
            "colorbar": {
             "outlinewidth": 0,
             "ticks": ""
            },
            "colorscale": [
             [
              0,
              "#0d0887"
             ],
             [
              0.1111111111111111,
              "#46039f"
             ],
             [
              0.2222222222222222,
              "#7201a8"
             ],
             [
              0.3333333333333333,
              "#9c179e"
             ],
             [
              0.4444444444444444,
              "#bd3786"
             ],
             [
              0.5555555555555556,
              "#d8576b"
             ],
             [
              0.6666666666666666,
              "#ed7953"
             ],
             [
              0.7777777777777778,
              "#fb9f3a"
             ],
             [
              0.8888888888888888,
              "#fdca26"
             ],
             [
              1,
              "#f0f921"
             ]
            ],
            "type": "contour"
           }
          ],
          "contourcarpet": [
           {
            "colorbar": {
             "outlinewidth": 0,
             "ticks": ""
            },
            "type": "contourcarpet"
           }
          ],
          "heatmap": [
           {
            "colorbar": {
             "outlinewidth": 0,
             "ticks": ""
            },
            "colorscale": [
             [
              0,
              "#0d0887"
             ],
             [
              0.1111111111111111,
              "#46039f"
             ],
             [
              0.2222222222222222,
              "#7201a8"
             ],
             [
              0.3333333333333333,
              "#9c179e"
             ],
             [
              0.4444444444444444,
              "#bd3786"
             ],
             [
              0.5555555555555556,
              "#d8576b"
             ],
             [
              0.6666666666666666,
              "#ed7953"
             ],
             [
              0.7777777777777778,
              "#fb9f3a"
             ],
             [
              0.8888888888888888,
              "#fdca26"
             ],
             [
              1,
              "#f0f921"
             ]
            ],
            "type": "heatmap"
           }
          ],
          "heatmapgl": [
           {
            "colorbar": {
             "outlinewidth": 0,
             "ticks": ""
            },
            "colorscale": [
             [
              0,
              "#0d0887"
             ],
             [
              0.1111111111111111,
              "#46039f"
             ],
             [
              0.2222222222222222,
              "#7201a8"
             ],
             [
              0.3333333333333333,
              "#9c179e"
             ],
             [
              0.4444444444444444,
              "#bd3786"
             ],
             [
              0.5555555555555556,
              "#d8576b"
             ],
             [
              0.6666666666666666,
              "#ed7953"
             ],
             [
              0.7777777777777778,
              "#fb9f3a"
             ],
             [
              0.8888888888888888,
              "#fdca26"
             ],
             [
              1,
              "#f0f921"
             ]
            ],
            "type": "heatmapgl"
           }
          ],
          "histogram": [
           {
            "marker": {
             "colorbar": {
              "outlinewidth": 0,
              "ticks": ""
             }
            },
            "type": "histogram"
           }
          ],
          "histogram2d": [
           {
            "colorbar": {
             "outlinewidth": 0,
             "ticks": ""
            },
            "colorscale": [
             [
              0,
              "#0d0887"
             ],
             [
              0.1111111111111111,
              "#46039f"
             ],
             [
              0.2222222222222222,
              "#7201a8"
             ],
             [
              0.3333333333333333,
              "#9c179e"
             ],
             [
              0.4444444444444444,
              "#bd3786"
             ],
             [
              0.5555555555555556,
              "#d8576b"
             ],
             [
              0.6666666666666666,
              "#ed7953"
             ],
             [
              0.7777777777777778,
              "#fb9f3a"
             ],
             [
              0.8888888888888888,
              "#fdca26"
             ],
             [
              1,
              "#f0f921"
             ]
            ],
            "type": "histogram2d"
           }
          ],
          "histogram2dcontour": [
           {
            "colorbar": {
             "outlinewidth": 0,
             "ticks": ""
            },
            "colorscale": [
             [
              0,
              "#0d0887"
             ],
             [
              0.1111111111111111,
              "#46039f"
             ],
             [
              0.2222222222222222,
              "#7201a8"
             ],
             [
              0.3333333333333333,
              "#9c179e"
             ],
             [
              0.4444444444444444,
              "#bd3786"
             ],
             [
              0.5555555555555556,
              "#d8576b"
             ],
             [
              0.6666666666666666,
              "#ed7953"
             ],
             [
              0.7777777777777778,
              "#fb9f3a"
             ],
             [
              0.8888888888888888,
              "#fdca26"
             ],
             [
              1,
              "#f0f921"
             ]
            ],
            "type": "histogram2dcontour"
           }
          ],
          "mesh3d": [
           {
            "colorbar": {
             "outlinewidth": 0,
             "ticks": ""
            },
            "type": "mesh3d"
           }
          ],
          "parcoords": [
           {
            "line": {
             "colorbar": {
              "outlinewidth": 0,
              "ticks": ""
             }
            },
            "type": "parcoords"
           }
          ],
          "pie": [
           {
            "automargin": true,
            "type": "pie"
           }
          ],
          "scatter": [
           {
            "marker": {
             "colorbar": {
              "outlinewidth": 0,
              "ticks": ""
             }
            },
            "type": "scatter"
           }
          ],
          "scatter3d": [
           {
            "line": {
             "colorbar": {
              "outlinewidth": 0,
              "ticks": ""
             }
            },
            "marker": {
             "colorbar": {
              "outlinewidth": 0,
              "ticks": ""
             }
            },
            "type": "scatter3d"
           }
          ],
          "scattercarpet": [
           {
            "marker": {
             "colorbar": {
              "outlinewidth": 0,
              "ticks": ""
             }
            },
            "type": "scattercarpet"
           }
          ],
          "scattergeo": [
           {
            "marker": {
             "colorbar": {
              "outlinewidth": 0,
              "ticks": ""
             }
            },
            "type": "scattergeo"
           }
          ],
          "scattergl": [
           {
            "marker": {
             "colorbar": {
              "outlinewidth": 0,
              "ticks": ""
             }
            },
            "type": "scattergl"
           }
          ],
          "scattermapbox": [
           {
            "marker": {
             "colorbar": {
              "outlinewidth": 0,
              "ticks": ""
             }
            },
            "type": "scattermapbox"
           }
          ],
          "scatterpolar": [
           {
            "marker": {
             "colorbar": {
              "outlinewidth": 0,
              "ticks": ""
             }
            },
            "type": "scatterpolar"
           }
          ],
          "scatterpolargl": [
           {
            "marker": {
             "colorbar": {
              "outlinewidth": 0,
              "ticks": ""
             }
            },
            "type": "scatterpolargl"
           }
          ],
          "scatterternary": [
           {
            "marker": {
             "colorbar": {
              "outlinewidth": 0,
              "ticks": ""
             }
            },
            "type": "scatterternary"
           }
          ],
          "surface": [
           {
            "colorbar": {
             "outlinewidth": 0,
             "ticks": ""
            },
            "colorscale": [
             [
              0,
              "#0d0887"
             ],
             [
              0.1111111111111111,
              "#46039f"
             ],
             [
              0.2222222222222222,
              "#7201a8"
             ],
             [
              0.3333333333333333,
              "#9c179e"
             ],
             [
              0.4444444444444444,
              "#bd3786"
             ],
             [
              0.5555555555555556,
              "#d8576b"
             ],
             [
              0.6666666666666666,
              "#ed7953"
             ],
             [
              0.7777777777777778,
              "#fb9f3a"
             ],
             [
              0.8888888888888888,
              "#fdca26"
             ],
             [
              1,
              "#f0f921"
             ]
            ],
            "type": "surface"
           }
          ],
          "table": [
           {
            "cells": {
             "fill": {
              "color": "#EBF0F8"
             },
             "line": {
              "color": "white"
             }
            },
            "header": {
             "fill": {
              "color": "#C8D4E3"
             },
             "line": {
              "color": "white"
             }
            },
            "type": "table"
           }
          ]
         },
         "layout": {
          "annotationdefaults": {
           "arrowcolor": "#2a3f5f",
           "arrowhead": 0,
           "arrowwidth": 1
          },
          "coloraxis": {
           "colorbar": {
            "outlinewidth": 0,
            "ticks": ""
           }
          },
          "colorscale": {
           "diverging": [
            [
             0,
             "#8e0152"
            ],
            [
             0.1,
             "#c51b7d"
            ],
            [
             0.2,
             "#de77ae"
            ],
            [
             0.3,
             "#f1b6da"
            ],
            [
             0.4,
             "#fde0ef"
            ],
            [
             0.5,
             "#f7f7f7"
            ],
            [
             0.6,
             "#e6f5d0"
            ],
            [
             0.7,
             "#b8e186"
            ],
            [
             0.8,
             "#7fbc41"
            ],
            [
             0.9,
             "#4d9221"
            ],
            [
             1,
             "#276419"
            ]
           ],
           "sequential": [
            [
             0,
             "#0d0887"
            ],
            [
             0.1111111111111111,
             "#46039f"
            ],
            [
             0.2222222222222222,
             "#7201a8"
            ],
            [
             0.3333333333333333,
             "#9c179e"
            ],
            [
             0.4444444444444444,
             "#bd3786"
            ],
            [
             0.5555555555555556,
             "#d8576b"
            ],
            [
             0.6666666666666666,
             "#ed7953"
            ],
            [
             0.7777777777777778,
             "#fb9f3a"
            ],
            [
             0.8888888888888888,
             "#fdca26"
            ],
            [
             1,
             "#f0f921"
            ]
           ],
           "sequentialminus": [
            [
             0,
             "#0d0887"
            ],
            [
             0.1111111111111111,
             "#46039f"
            ],
            [
             0.2222222222222222,
             "#7201a8"
            ],
            [
             0.3333333333333333,
             "#9c179e"
            ],
            [
             0.4444444444444444,
             "#bd3786"
            ],
            [
             0.5555555555555556,
             "#d8576b"
            ],
            [
             0.6666666666666666,
             "#ed7953"
            ],
            [
             0.7777777777777778,
             "#fb9f3a"
            ],
            [
             0.8888888888888888,
             "#fdca26"
            ],
            [
             1,
             "#f0f921"
            ]
           ]
          },
          "colorway": [
           "#636efa",
           "#EF553B",
           "#00cc96",
           "#ab63fa",
           "#FFA15A",
           "#19d3f3",
           "#FF6692",
           "#B6E880",
           "#FF97FF",
           "#FECB52"
          ],
          "font": {
           "color": "#2a3f5f"
          },
          "geo": {
           "bgcolor": "white",
           "lakecolor": "white",
           "landcolor": "#E5ECF6",
           "showlakes": true,
           "showland": true,
           "subunitcolor": "white"
          },
          "hoverlabel": {
           "align": "left"
          },
          "hovermode": "closest",
          "mapbox": {
           "style": "light"
          },
          "paper_bgcolor": "white",
          "plot_bgcolor": "#E5ECF6",
          "polar": {
           "angularaxis": {
            "gridcolor": "white",
            "linecolor": "white",
            "ticks": ""
           },
           "bgcolor": "#E5ECF6",
           "radialaxis": {
            "gridcolor": "white",
            "linecolor": "white",
            "ticks": ""
           }
          },
          "scene": {
           "xaxis": {
            "backgroundcolor": "#E5ECF6",
            "gridcolor": "white",
            "gridwidth": 2,
            "linecolor": "white",
            "showbackground": true,
            "ticks": "",
            "zerolinecolor": "white"
           },
           "yaxis": {
            "backgroundcolor": "#E5ECF6",
            "gridcolor": "white",
            "gridwidth": 2,
            "linecolor": "white",
            "showbackground": true,
            "ticks": "",
            "zerolinecolor": "white"
           },
           "zaxis": {
            "backgroundcolor": "#E5ECF6",
            "gridcolor": "white",
            "gridwidth": 2,
            "linecolor": "white",
            "showbackground": true,
            "ticks": "",
            "zerolinecolor": "white"
           }
          },
          "shapedefaults": {
           "line": {
            "color": "#2a3f5f"
           }
          },
          "ternary": {
           "aaxis": {
            "gridcolor": "white",
            "linecolor": "white",
            "ticks": ""
           },
           "baxis": {
            "gridcolor": "white",
            "linecolor": "white",
            "ticks": ""
           },
           "bgcolor": "#E5ECF6",
           "caxis": {
            "gridcolor": "white",
            "linecolor": "white",
            "ticks": ""
           }
          },
          "title": {
           "x": 0.05
          },
          "xaxis": {
           "automargin": true,
           "gridcolor": "white",
           "linecolor": "white",
           "ticks": "",
           "title": {
            "standoff": 15
           },
           "zerolinecolor": "white",
           "zerolinewidth": 2
          },
          "yaxis": {
           "automargin": true,
           "gridcolor": "white",
           "linecolor": "white",
           "ticks": "",
           "title": {
            "standoff": 15
           },
           "zerolinecolor": "white",
           "zerolinewidth": 2
          }
         }
        },
        "xaxis": {
         "anchor": "y",
         "domain": [
          0,
          1
         ],
         "title": {
          "text": "value"
         }
        },
        "yaxis": {
         "anchor": "x",
         "domain": [
          0,
          1
         ],
         "title": {
          "text": "count"
         }
        }
       }
      },
      "text/html": [
       "<div>                            <div id=\"ab757417-7615-42ee-bfc7-cb95d16651e0\" class=\"plotly-graph-div\" style=\"height:525px; width:100%;\"></div>            <script type=\"text/javascript\">                require([\"plotly\"], function(Plotly) {                    window.PLOTLYENV=window.PLOTLYENV || {};                                    if (document.getElementById(\"ab757417-7615-42ee-bfc7-cb95d16651e0\")) {                    Plotly.newPlot(                        \"ab757417-7615-42ee-bfc7-cb95d16651e0\",                        [{\"alignmentgroup\": \"True\", \"bingroup\": \"x\", \"hovertemplate\": \"variable=Total: <br>value=%{x}<br>count=%{y}<extra></extra>\", \"legendgroup\": \"Total: \", \"marker\": {\"color\": \"#636efa\"}, \"name\": \"Total: \", \"offsetgroup\": \"Total: \", \"orientation\": \"v\", \"showlegend\": true, \"type\": \"histogram\", \"x\": [-1.244906743556674, 1.864001726555569, 1.5531108795443447, 0.7240686208477466, -0.6231250495342255, -0.9340158965454498, 2.0712622912297185, 1.0349594678589709, -0.6231250495342255, 0.8276989031848213, 1.3458503148701952, 0.6204383385106718, -0.6231250495342255, 0.6204383385106718, 1.1385897501960456, 0.516808056173597, -0.6231250495342255, 0.41317777383652227, 1.1385897501960456, 0.9313291855218961, -0.2086039201859264, 0.6204383385106718, 1.44948059720727, 0.8276989031848213, -0.3122342025230012, 0.516808056173597, 0.8276989031848213, 1.3458503148701952, 0.516808056173597, 0.7240686208477466, 0.7240686208477466, 0.8276989031848213, 0.516808056173597, 1.0349594678589709, 1.2422200325331205, 0.6204383385106718, -0.415864484860076, 0.3095474914994475, 0.8276989031848213, 0.41317777383652227, -0.415864484860076, 0.10657197808460736, 0.9258440596100258, -0.576154756519908, -0.8492454503617141, -0.4396094095990049, 0.24311732500551042, -0.4396094095990049, -0.576154756519908, -0.712700103440811, -1.6685175318871326, -0.8492454503617141, -0.8492454503617141, 2.01820683497725, -0.576154756519908, 0.7892987126891227, -0.576154756519908, 0.6527533657682196, -0.3030640626781018, -1.2588814911244233, -0.3030640626781018, 1.472025447293638, -0.576154756519908, -1.1223361442035202, -0.9857907972826172, 1.745116141135444, -1.5319721849662293, -0.16651871575719876, -0.8492454503617141, 1.0623894065309287, -0.712700103440811, -0.3030640626781018, -1.1223361442035202, 0.7892987126891227, 0.10657197808460736, 0.10657197808460736, -0.3030640626781018, 1.472025447293638, 1.608570794214541, 2.154752181898153, -0.9857907972826172, 0.6527533657682196, 0.6527533657682196, -2.624334960333454, -0.712700103440811, 0.7892987126891227, -0.16651871575719876, -2.3512442664916477, -0.576154756519908, 1.0623894065309287, 0.10657197808460736, -2.624334960333454, 0.10657197808460736, 1.472025447293638, 0.24311732500551042, -2.760880307254357, -0.712700103440811, 1.335480100372735, 0.10657197808460736, -1.8050628788080356, -1.9416082257289387, 0.9258440596100258, 0.24311732500551042, -1.3954268380453263, -1.5319721849662293, 1.335480100372735, 0.24311732500551042, -1.5319721849662293, -1.5319721849662293, 1.335480100372735, 0.5162080188473166, -2.2146989195707447, -0.3030640626781018, 1.472025447293638, 0.5162080188473166, -2.3512442664916477, -0.576154756519908, 0.3796626719264135, -0.16651871575719876, -0.3030640626781018, -0.4396094095990049, 1.335480100372735, 0.6527533657682196, -1.2588814911244233, -0.0299733688362957, 0.7892987126891227, 0.24311732500551042, -2.2146989195707447, -1.2588814911244233, 1.0623894065309287, 0.3796626719264135, -2.3512442664916477, -1.3954268380453263, 0.5162080188473166, 0.24311732500551042, -2.2146989195707447, -1.9416082257289387, 0.24311732500551042, 0.5162080188473166, -2.760880307254357, -2.0781535726498417, 0.3796626719264135, -0.0299733688362957, -2.2146989195707447, -1.1223361442035202, 0.7892987126891227, 0.10657197808460736, -0.8492454503617141, -0.712700103440811, 0.7892987126891227, 0.24311732500551042, -1.6685175318871326, -1.3954268380453263, 0.7892987126891227, 0.24311732500551042, -2.0781535726498417, -0.9857907972826172, 1.0623894065309287, -0.3030640626781018, -2.487789613412551, -1.9416082257289387, 0.7892987126891227, 0.3796626719264135, -2.624334960333454, 0.24311732500551042, 0.5162080188473166, 0.6527533657682196, -1.5319721849662293, 0.5162080188473166, 0.7892987126891227, 0.9258440596100258, -3.0339710010961634, -1.3954268380453263, 0.6527533657682196, 0.5162080188473166, -0.8492454503617141, -0.576154756519908, 0.9258440596100258, 0.5162080188473166, -1.1223361442035202, -1.2588814911244233, 0.3796626719264135, -0.576154756519908, 0.5162080188473166, -1.8050628788080356, 1.8816614880563471, -0.16651871575719876, -1.8050628788080356, -0.8492454503617141, 2.01820683497725, 0.7892987126891227, -1.6685175318871326, 0.5162080188473166, 0.5162080188473166, 0.24311732500551042, -2.0781535726498417, -1.8050628788080356, 0.5162080188473166, -1.2588814911244233, -2.0781535726498417, 0.24311732500551042, -0.4396094095990049, -1.8050628788080356, -1.1223361442035202, 0.24311732500551042, -1.3954268380453263, -1.8050628788080356, -0.576154756519908, 0.24311732500551042, -1.2588814911244233, -1.8050628788080356, -0.3030640626781018, -0.16651871575719876, -1.2588814911244233, -1.6685175318871326, -0.576154756519908, 0.5162080188473166, -1.1223361442035202, -0.9857907972826172, 0.7892987126891227, -0.9857907972826172, -2.0781535726498417, -1.5319721849662293, 1.8816614880563471, -1.2588814911244233, -3.8532430826215816, -0.8492454503617141, 0.9258440596100258, -1.6685175318871326, -1.9416082257289387, -0.9857907972826172, 2.154752181898153, -1.3954268380453263, -2.2146989195707447, -2.2146989195707447, 2.154752181898153, -1.6685175318871326, -1.1223361442035202, -2.3512442664916477, null, -0.3030640626781018, -1.6685175318871326, -0.16651871575719876, 0.24311732500551042, -0.16651871575719876, -0.8492454503617141, -1.3954268380453263, 0.7892987126891227, 0.6527533657682196, -1.8050628788080356, -1.6685175318871326, 0.6527533657682196, -0.16651871575719876, -1.9416082257289387, -0.3030640626781018, 1.335480100372735, 0.5162080188473166, -1.5319721849662293, -0.712700103440811, 0.3796626719264135, -0.4396094095990049, -1.5319721849662293, -2.760880307254357, 0.9258440596100258, -0.712700103440811, -1.5319721849662293, -0.576154756519908, 0.24311732500551042, -0.712700103440811, -0.4396094095990049, -1.9416082257289387, 0.3796626719264135, -0.576154756519908, -0.16651871575719876, -2.3512442664916477, 0.3796626719264135, -0.9857907972826172, -0.4396094095990049, -1.2588814911244233, -0.16651871575719876, -1.2588814911244233, -0.8492454503617141, -1.6685175318871326, -0.0299733688362957, -1.1223361442035202, -1.3954268380453263, -2.760880307254357, 0.9258440596100258, -0.9857907972826172, -1.9416082257289387, -1.9416082257289387, 0.7892987126891227, -0.0299733688362957, -1.6685175318871326, -3.8532430826215816, 0.3796626719264135, 0.9258440596100258, -0.576154756519908, -3.0339710010961634, 0.7892987126891227, -2.487789613412551, -0.4396094095990049, -1.6685175318871326, 0.5162080188473166, 1.745116141135444, -0.712700103440811, -0.4396094095990049, 0.5162080188473166, -0.4396094095990049, -1.1223361442035202, -2.3512442664916477, 0.7892987126891227, -0.3030640626781018, -2.0781535726498417, -1.2588814911244233, 0.5162080188473166, -2.0781535726498417, -1.5319721849662293, -1.1223361442035202, 0.24311732500551042, -3.3070616949379694, -1.5319721849662293, -3.4436070418588725, 0.24311732500551042, -1.8050628788080356, -1.6685175318871326, -3.3070616949379694, 0.6527533657682196, -0.16651871575719876, -2.89742565417526, -1.8050628788080356, 0.5162080188473166, -1.6685175318871326, -1.5319721849662293, -3.9897884295424846, 0.3796626719264135, -4.672515164147, -0.576154756519908, -1.8050628788080356, 0.24311732500551042, -2.2146989195707447, -1.1223361442035202, -2.487789613412551, 0.3796626719264135, -2.2146989195707447, -1.8050628788080356, -2.2146989195707447, 0.10657197808460736, -2.3512442664916477, -1.6685175318871326, -1.8050628788080356, 0.5162080188473166, -1.8050628788080356, -1.1223361442035202, -1.2588814911244233, 0.9258440596100258, -2.760880307254357, -2.760880307254357, -0.8492454503617141, 0.3796626719264135, -2.2146989195707447, -3.5801523887797755, -0.712700103440811, 0.7892987126891227, -1.2588814911244233, -2.3512442664916477, -1.9416082257289387, 0.7892987126891227, -1.3954268380453263, -1.6685175318871326, -3.3070616949379694, 0.5162080188473166, 0.24311732500551042, -2.2146989195707447, -2.89742565417526, 0.10657197808460736, -3.0339710010961634, -0.712700103440811, -1.5319721849662293, 1.335480100372735, -1.6685175318871326, -1.6685175318871326, -3.1705163480170664, 0.5162080188473166, -1.3954268380453263, -0.9857907972826172, -1.9416082257289387, 0.6527533657682196, -0.712700103440811, -1.8050628788080356, -1.8050628788080356, 0.6527533657682196, 0.10657197808460736, -1.8050628788080356, -0.3030640626781018, 0.5162080188473166, 0.3796626719264135, -0.9857907972826172, -1.5319721849662293, 0.5162080188473166, 0.3796626719264135, -2.760880307254357, -1.6685175318871326, 1.472025447293638, -0.712700103440811, -0.3030640626781018, -2.2146989195707447, 0.6527533657682196, -0.4396094095990049, -0.8492454503617141, 0.3796626719264135, -0.0299733688362957, -0.712700103440811, -2.624334960333454, 0.3796626719264135, 0.5162080188473166, -0.4396094095990049, -2.624334960333454, 1.8816614880563471, -0.3030640626781018, -1.9416082257289387, -2.2146989195707447, 0.10657197808460736, -1.9416082257289387, -1.1223361442035202, -0.576154756519908, 0.6527533657682196, -0.8492454503617141, -0.9857907972826172, -1.3954268380453263, -0.0299733688362957, -0.576154756519908, -0.8492454503617141, -0.4396094095990049, 0.9258440596100258, -0.0299733688362957, -1.3954268380453263, -1.3954268380453263, 0.7892987126891227, -1.1223361442035202, -0.576154756519908, -1.5319721849662293, 0.6527533657682196, -1.9416082257289387, -1.6685175318871326, -0.8492454503617141, 0.7892987126891227, -0.9857907972826172, -1.9416082257289387, -0.9857907972826172, 0.6527533657682196, -2.2146989195707447, -1.2588814911244233, -0.576154756519908, 1.198934753451832, -0.9857907972826172, -1.5319721849662293, -0.9857907972826172, 0.9258440596100258, -1.2588814911244233, -0.8492454503617141, 0.6527533657682196, 1.198934753451832, -2.3512442664916477, -0.9857907972826172, -0.0299733688362957, 0.6527533657682196, -0.712700103440811, -1.8050628788080356, -0.576154756519908, 0.7892987126891227, -1.3954268380453263, -1.3954268380453263, -0.8492454503617141, 1.335480100372735, -1.6685175318871326, -3.4436070418588725, -0.0299733688362957, 0.5162080188473166, 0.24311732500551042, -1.3954268380453263, 0.6527533657682196, 0.10657197808460736, -0.8492454503617141, -2.2146989195707447, 0.6527533657682196, -0.3030640626781018, -0.576154756519908, 0.10657197808460736, 1.335480100372735, -0.8492454503617141, -1.3954268380453263, -1.5319721849662293, -0.0299733688362957, 0.9258440596100258, -0.4396094095990049, -0.3030640626781018, -0.9857907972826172, -0.576154756519908, 1.0623894065309287, -0.712700103440811, -0.576154756519908, -0.4396094095990049, 1.608570794214541, -0.712700103440811, -2.487789613412551, -0.4396094095990049, 2.154752181898153, -0.3030640626781018, -2.3512442664916477, -1.2588814911244233, 2.01820683497725, 0.5162080188473166, -1.6685175318871326, -0.576154756519908, 2.154752181898153, -0.0299733688362957, -1.2588814911244233, -2.2146989195707447, 2.01820683497725, -0.712700103440811, -1.1223361442035202, -2.2146989195707447, 1.335480100372735, -1.1223361442035202, -2.487789613412551, -4.399424470305194, 0.9258440596100258, -0.576154756519908, -2.3512442664916477, 0.10657197808460736, 1.0623894065309287, -0.3030640626781018, -1.6685175318871326, -0.0299733688362957, 2.154752181898153, -0.576154756519908, -2.3512442664916477, -2.89742565417526, -0.0299733688362957, -0.3030640626781018, -2.760880307254357, -2.2146989195707447, 0.24311732500551042, -1.2588814911244233, -2.89742565417526, -2.3512442664916477, 0.5162080188473166, -0.3030640626781018, -3.1705163480170664, -2.3512442664916477, 0.5162080188473166, -0.3030640626781018, -3.3070616949379694, -3.5801523887797755, 0.24311732500551042, -0.8492454503617141, -3.4436070418588725, -3.3070616949379694, 0.7892987126891227, -2.89742565417526, -1.1223361442035202, -2.0781535726498417, 0.6527533657682196, -0.0299733688362957, -2.0781535726498417, -3.8532430826215816, 0.6527533657682196, -1.9416082257289387, -1.9416082257289387, -3.1705163480170664, 0.9258440596100258, 0.5162080188473166, -3.1705163480170664, -3.8532430826215816, 0.3796626719264135, -0.16651871575719876, -1.3954268380453263, -3.8532430826215816, 0.5162080188473166, -2.3512442664916477, -3.0339710010961634], \"xaxis\": \"x\", \"yaxis\": \"y\"}],                        {\"barmode\": \"relative\", \"legend\": {\"title\": {\"text\": \"variable\"}, \"tracegroupgap\": 0}, \"margin\": {\"t\": 60}, \"template\": {\"data\": {\"bar\": [{\"error_x\": {\"color\": \"#2a3f5f\"}, \"error_y\": {\"color\": \"#2a3f5f\"}, \"marker\": {\"line\": {\"color\": \"#E5ECF6\", \"width\": 0.5}}, \"type\": \"bar\"}], \"barpolar\": [{\"marker\": {\"line\": {\"color\": \"#E5ECF6\", \"width\": 0.5}}, \"type\": \"barpolar\"}], \"carpet\": [{\"aaxis\": {\"endlinecolor\": \"#2a3f5f\", \"gridcolor\": \"white\", \"linecolor\": \"white\", \"minorgridcolor\": \"white\", \"startlinecolor\": \"#2a3f5f\"}, \"baxis\": {\"endlinecolor\": \"#2a3f5f\", \"gridcolor\": \"white\", \"linecolor\": \"white\", \"minorgridcolor\": \"white\", \"startlinecolor\": \"#2a3f5f\"}, \"type\": \"carpet\"}], \"choropleth\": [{\"colorbar\": {\"outlinewidth\": 0, \"ticks\": \"\"}, \"type\": \"choropleth\"}], \"contour\": [{\"colorbar\": {\"outlinewidth\": 0, \"ticks\": \"\"}, \"colorscale\": [[0.0, \"#0d0887\"], [0.1111111111111111, \"#46039f\"], [0.2222222222222222, \"#7201a8\"], [0.3333333333333333, \"#9c179e\"], [0.4444444444444444, \"#bd3786\"], [0.5555555555555556, \"#d8576b\"], [0.6666666666666666, \"#ed7953\"], [0.7777777777777778, \"#fb9f3a\"], [0.8888888888888888, \"#fdca26\"], [1.0, \"#f0f921\"]], \"type\": \"contour\"}], \"contourcarpet\": [{\"colorbar\": {\"outlinewidth\": 0, \"ticks\": \"\"}, \"type\": \"contourcarpet\"}], \"heatmap\": [{\"colorbar\": {\"outlinewidth\": 0, \"ticks\": \"\"}, \"colorscale\": [[0.0, \"#0d0887\"], [0.1111111111111111, \"#46039f\"], [0.2222222222222222, \"#7201a8\"], [0.3333333333333333, \"#9c179e\"], [0.4444444444444444, \"#bd3786\"], [0.5555555555555556, \"#d8576b\"], [0.6666666666666666, \"#ed7953\"], [0.7777777777777778, \"#fb9f3a\"], [0.8888888888888888, \"#fdca26\"], [1.0, \"#f0f921\"]], \"type\": \"heatmap\"}], \"heatmapgl\": [{\"colorbar\": {\"outlinewidth\": 0, \"ticks\": \"\"}, \"colorscale\": [[0.0, \"#0d0887\"], [0.1111111111111111, \"#46039f\"], [0.2222222222222222, \"#7201a8\"], [0.3333333333333333, \"#9c179e\"], [0.4444444444444444, \"#bd3786\"], [0.5555555555555556, \"#d8576b\"], [0.6666666666666666, \"#ed7953\"], [0.7777777777777778, \"#fb9f3a\"], [0.8888888888888888, \"#fdca26\"], [1.0, \"#f0f921\"]], \"type\": \"heatmapgl\"}], \"histogram\": [{\"marker\": {\"colorbar\": {\"outlinewidth\": 0, \"ticks\": \"\"}}, \"type\": \"histogram\"}], \"histogram2d\": [{\"colorbar\": {\"outlinewidth\": 0, \"ticks\": \"\"}, \"colorscale\": [[0.0, \"#0d0887\"], [0.1111111111111111, \"#46039f\"], [0.2222222222222222, \"#7201a8\"], [0.3333333333333333, \"#9c179e\"], [0.4444444444444444, \"#bd3786\"], [0.5555555555555556, \"#d8576b\"], [0.6666666666666666, \"#ed7953\"], [0.7777777777777778, \"#fb9f3a\"], [0.8888888888888888, \"#fdca26\"], [1.0, \"#f0f921\"]], \"type\": \"histogram2d\"}], \"histogram2dcontour\": [{\"colorbar\": {\"outlinewidth\": 0, \"ticks\": \"\"}, \"colorscale\": [[0.0, \"#0d0887\"], [0.1111111111111111, \"#46039f\"], [0.2222222222222222, \"#7201a8\"], [0.3333333333333333, \"#9c179e\"], [0.4444444444444444, \"#bd3786\"], [0.5555555555555556, \"#d8576b\"], [0.6666666666666666, \"#ed7953\"], [0.7777777777777778, \"#fb9f3a\"], [0.8888888888888888, \"#fdca26\"], [1.0, \"#f0f921\"]], \"type\": \"histogram2dcontour\"}], \"mesh3d\": [{\"colorbar\": {\"outlinewidth\": 0, \"ticks\": \"\"}, \"type\": \"mesh3d\"}], \"parcoords\": [{\"line\": {\"colorbar\": {\"outlinewidth\": 0, \"ticks\": \"\"}}, \"type\": \"parcoords\"}], \"pie\": [{\"automargin\": true, \"type\": \"pie\"}], \"scatter\": [{\"marker\": {\"colorbar\": {\"outlinewidth\": 0, \"ticks\": \"\"}}, \"type\": \"scatter\"}], \"scatter3d\": [{\"line\": {\"colorbar\": {\"outlinewidth\": 0, \"ticks\": \"\"}}, \"marker\": {\"colorbar\": {\"outlinewidth\": 0, \"ticks\": \"\"}}, \"type\": \"scatter3d\"}], \"scattercarpet\": [{\"marker\": {\"colorbar\": {\"outlinewidth\": 0, \"ticks\": \"\"}}, \"type\": \"scattercarpet\"}], \"scattergeo\": [{\"marker\": {\"colorbar\": {\"outlinewidth\": 0, \"ticks\": \"\"}}, \"type\": \"scattergeo\"}], \"scattergl\": [{\"marker\": {\"colorbar\": {\"outlinewidth\": 0, \"ticks\": \"\"}}, \"type\": \"scattergl\"}], \"scattermapbox\": [{\"marker\": {\"colorbar\": {\"outlinewidth\": 0, \"ticks\": \"\"}}, \"type\": \"scattermapbox\"}], \"scatterpolar\": [{\"marker\": {\"colorbar\": {\"outlinewidth\": 0, \"ticks\": \"\"}}, \"type\": \"scatterpolar\"}], \"scatterpolargl\": [{\"marker\": {\"colorbar\": {\"outlinewidth\": 0, \"ticks\": \"\"}}, \"type\": \"scatterpolargl\"}], \"scatterternary\": [{\"marker\": {\"colorbar\": {\"outlinewidth\": 0, \"ticks\": \"\"}}, \"type\": \"scatterternary\"}], \"surface\": [{\"colorbar\": {\"outlinewidth\": 0, \"ticks\": \"\"}, \"colorscale\": [[0.0, \"#0d0887\"], [0.1111111111111111, \"#46039f\"], [0.2222222222222222, \"#7201a8\"], [0.3333333333333333, \"#9c179e\"], [0.4444444444444444, \"#bd3786\"], [0.5555555555555556, \"#d8576b\"], [0.6666666666666666, \"#ed7953\"], [0.7777777777777778, \"#fb9f3a\"], [0.8888888888888888, \"#fdca26\"], [1.0, \"#f0f921\"]], \"type\": \"surface\"}], \"table\": [{\"cells\": {\"fill\": {\"color\": \"#EBF0F8\"}, \"line\": {\"color\": \"white\"}}, \"header\": {\"fill\": {\"color\": \"#C8D4E3\"}, \"line\": {\"color\": \"white\"}}, \"type\": \"table\"}]}, \"layout\": {\"annotationdefaults\": {\"arrowcolor\": \"#2a3f5f\", \"arrowhead\": 0, \"arrowwidth\": 1}, \"coloraxis\": {\"colorbar\": {\"outlinewidth\": 0, \"ticks\": \"\"}}, \"colorscale\": {\"diverging\": [[0, \"#8e0152\"], [0.1, \"#c51b7d\"], [0.2, \"#de77ae\"], [0.3, \"#f1b6da\"], [0.4, \"#fde0ef\"], [0.5, \"#f7f7f7\"], [0.6, \"#e6f5d0\"], [0.7, \"#b8e186\"], [0.8, \"#7fbc41\"], [0.9, \"#4d9221\"], [1, \"#276419\"]], \"sequential\": [[0.0, \"#0d0887\"], [0.1111111111111111, \"#46039f\"], [0.2222222222222222, \"#7201a8\"], [0.3333333333333333, \"#9c179e\"], [0.4444444444444444, \"#bd3786\"], [0.5555555555555556, \"#d8576b\"], [0.6666666666666666, \"#ed7953\"], [0.7777777777777778, \"#fb9f3a\"], [0.8888888888888888, \"#fdca26\"], [1.0, \"#f0f921\"]], \"sequentialminus\": [[0.0, \"#0d0887\"], [0.1111111111111111, \"#46039f\"], [0.2222222222222222, \"#7201a8\"], [0.3333333333333333, \"#9c179e\"], [0.4444444444444444, \"#bd3786\"], [0.5555555555555556, \"#d8576b\"], [0.6666666666666666, \"#ed7953\"], [0.7777777777777778, \"#fb9f3a\"], [0.8888888888888888, \"#fdca26\"], [1.0, \"#f0f921\"]]}, \"colorway\": [\"#636efa\", \"#EF553B\", \"#00cc96\", \"#ab63fa\", \"#FFA15A\", \"#19d3f3\", \"#FF6692\", \"#B6E880\", \"#FF97FF\", \"#FECB52\"], \"font\": {\"color\": \"#2a3f5f\"}, \"geo\": {\"bgcolor\": \"white\", \"lakecolor\": \"white\", \"landcolor\": \"#E5ECF6\", \"showlakes\": true, \"showland\": true, \"subunitcolor\": \"white\"}, \"hoverlabel\": {\"align\": \"left\"}, \"hovermode\": \"closest\", \"mapbox\": {\"style\": \"light\"}, \"paper_bgcolor\": \"white\", \"plot_bgcolor\": \"#E5ECF6\", \"polar\": {\"angularaxis\": {\"gridcolor\": \"white\", \"linecolor\": \"white\", \"ticks\": \"\"}, \"bgcolor\": \"#E5ECF6\", \"radialaxis\": {\"gridcolor\": \"white\", \"linecolor\": \"white\", \"ticks\": \"\"}}, \"scene\": {\"xaxis\": {\"backgroundcolor\": \"#E5ECF6\", \"gridcolor\": \"white\", \"gridwidth\": 2, \"linecolor\": \"white\", \"showbackground\": true, \"ticks\": \"\", \"zerolinecolor\": \"white\"}, \"yaxis\": {\"backgroundcolor\": \"#E5ECF6\", \"gridcolor\": \"white\", \"gridwidth\": 2, \"linecolor\": \"white\", \"showbackground\": true, \"ticks\": \"\", \"zerolinecolor\": \"white\"}, \"zaxis\": {\"backgroundcolor\": \"#E5ECF6\", \"gridcolor\": \"white\", \"gridwidth\": 2, \"linecolor\": \"white\", \"showbackground\": true, \"ticks\": \"\", \"zerolinecolor\": \"white\"}}, \"shapedefaults\": {\"line\": {\"color\": \"#2a3f5f\"}}, \"ternary\": {\"aaxis\": {\"gridcolor\": \"white\", \"linecolor\": \"white\", \"ticks\": \"\"}, \"baxis\": {\"gridcolor\": \"white\", \"linecolor\": \"white\", \"ticks\": \"\"}, \"bgcolor\": \"#E5ECF6\", \"caxis\": {\"gridcolor\": \"white\", \"linecolor\": \"white\", \"ticks\": \"\"}}, \"title\": {\"x\": 0.05}, \"xaxis\": {\"automargin\": true, \"gridcolor\": \"white\", \"linecolor\": \"white\", \"ticks\": \"\", \"title\": {\"standoff\": 15}, \"zerolinecolor\": \"white\", \"zerolinewidth\": 2}, \"yaxis\": {\"automargin\": true, \"gridcolor\": \"white\", \"linecolor\": \"white\", \"ticks\": \"\", \"title\": {\"standoff\": 15}, \"zerolinecolor\": \"white\", \"zerolinewidth\": 2}}}, \"xaxis\": {\"anchor\": \"y\", \"domain\": [0.0, 1.0], \"title\": {\"text\": \"value\"}}, \"yaxis\": {\"anchor\": \"x\", \"domain\": [0.0, 1.0], \"title\": {\"text\": \"count\"}}},                        {\"responsive\": true}                    ).then(function(){\n",
       "                            \n",
       "var gd = document.getElementById('ab757417-7615-42ee-bfc7-cb95d16651e0');\n",
       "var x = new MutationObserver(function (mutations, observer) {{\n",
       "        var display = window.getComputedStyle(gd).display;\n",
       "        if (!display || display === 'none') {{\n",
       "            console.log([gd, 'removed!']);\n",
       "            Plotly.purge(gd);\n",
       "            observer.disconnect();\n",
       "        }}\n",
       "}});\n",
       "\n",
       "// Listen for the removal of the full notebook cells\n",
       "var notebookContainer = gd.closest('#notebook-container');\n",
       "if (notebookContainer) {{\n",
       "    x.observe(notebookContainer, {childList: true});\n",
       "}}\n",
       "\n",
       "// Listen for the clearing of the current output cell\n",
       "var outputEl = gd.closest('.output');\n",
       "if (outputEl) {{\n",
       "    x.observe(outputEl, {childList: true});\n",
       "}}\n",
       "\n",
       "                        })                };                });            </script>        </div>"
      ]
     },
     "metadata": {},
     "output_type": "display_data"
    }
   ],
   "source": [
    "px.histogram(df2[\"Total: \"])"
   ]
  },
  {
   "cell_type": "code",
   "execution_count": 277,
   "metadata": {},
   "outputs": [
    {
     "data": {
      "text/html": [
       "<div>\n",
       "<style scoped>\n",
       "    .dataframe tbody tr th:only-of-type {\n",
       "        vertical-align: middle;\n",
       "    }\n",
       "\n",
       "    .dataframe tbody tr th {\n",
       "        vertical-align: top;\n",
       "    }\n",
       "\n",
       "    .dataframe thead th {\n",
       "        text-align: right;\n",
       "    }\n",
       "</style>\n",
       "<table border=\"1\" class=\"dataframe\">\n",
       "  <thead>\n",
       "    <tr style=\"text-align: right;\">\n",
       "      <th></th>\n",
       "      <th>Ross</th>\n",
       "      <th>Chandler</th>\n",
       "      <th>BT1</th>\n",
       "      <th>BT2</th>\n",
       "      <th>BT3</th>\n",
       "      <th>BT4</th>\n",
       "      <th>BT5</th>\n",
       "      <th>GR1</th>\n",
       "      <th>GR2</th>\n",
       "      <th>GR3</th>\n",
       "      <th>GR4</th>\n",
       "      <th>GR5</th>\n",
       "      <th>Total:</th>\n",
       "      <th>All_GR</th>\n",
       "      <th>All_BT</th>\n",
       "      <th>All_SS</th>\n",
       "      <th>male</th>\n",
       "      <th>female</th>\n",
       "    </tr>\n",
       "  </thead>\n",
       "  <tbody>\n",
       "    <tr>\n",
       "      <th>0</th>\n",
       "      <td>0.335534</td>\n",
       "      <td>-8.398823</td>\n",
       "      <td>-2.379000</td>\n",
       "      <td>-4.280038</td>\n",
       "      <td>-4.654275</td>\n",
       "      <td>-4.296091</td>\n",
       "      <td>-3.861487</td>\n",
       "      <td>0.277639</td>\n",
       "      <td>0.456800</td>\n",
       "      <td>-3.131960</td>\n",
       "      <td>-6.551693</td>\n",
       "      <td>-2.532455</td>\n",
       "      <td>-9.841429</td>\n",
       "      <td>-4.597596</td>\n",
       "      <td>-7.566229</td>\n",
       "      <td>-6.579148</td>\n",
       "      <td>-7.141049</td>\n",
       "      <td>-8.825239</td>\n",
       "    </tr>\n",
       "    <tr>\n",
       "      <th>1</th>\n",
       "      <td>-2.348735</td>\n",
       "      <td>0.442043</td>\n",
       "      <td>0.775817</td>\n",
       "      <td>-0.942713</td>\n",
       "      <td>0.617641</td>\n",
       "      <td>0.586374</td>\n",
       "      <td>0.672898</td>\n",
       "      <td>0.277639</td>\n",
       "      <td>0.456800</td>\n",
       "      <td>0.463831</td>\n",
       "      <td>0.338589</td>\n",
       "      <td>0.346621</td>\n",
       "      <td>0.133738</td>\n",
       "      <td>0.792384</td>\n",
       "      <td>0.509189</td>\n",
       "      <td>-0.889074</td>\n",
       "      <td>0.235066</td>\n",
       "      <td>0.024061</td>\n",
       "    </tr>\n",
       "    <tr>\n",
       "      <th>2</th>\n",
       "      <td>NaN</td>\n",
       "      <td>NaN</td>\n",
       "      <td>NaN</td>\n",
       "      <td>NaN</td>\n",
       "      <td>NaN</td>\n",
       "      <td>NaN</td>\n",
       "      <td>NaN</td>\n",
       "      <td>-5.830416</td>\n",
       "      <td>0.456800</td>\n",
       "      <td>-4.929856</td>\n",
       "      <td>-1.958172</td>\n",
       "      <td>0.346621</td>\n",
       "      <td>-0.863778</td>\n",
       "      <td>-4.597596</td>\n",
       "      <td>NaN</td>\n",
       "      <td>NaN</td>\n",
       "      <td>-0.435490</td>\n",
       "      <td>-0.907444</td>\n",
       "    </tr>\n",
       "    <tr>\n",
       "      <th>3</th>\n",
       "      <td>-13.085810</td>\n",
       "      <td>-1.326130</td>\n",
       "      <td>-0.275789</td>\n",
       "      <td>-1.777044</td>\n",
       "      <td>-1.491125</td>\n",
       "      <td>-1.854858</td>\n",
       "      <td>0.672898</td>\n",
       "      <td>NaN</td>\n",
       "      <td>NaN</td>\n",
       "      <td>NaN</td>\n",
       "      <td>NaN</td>\n",
       "      <td>NaN</td>\n",
       "      <td>-3.523823</td>\n",
       "      <td>NaN</td>\n",
       "      <td>-1.913436</td>\n",
       "      <td>-8.001666</td>\n",
       "      <td>-3.788270</td>\n",
       "      <td>-2.304702</td>\n",
       "    </tr>\n",
       "    <tr>\n",
       "      <th>4</th>\n",
       "      <td>-5.033004</td>\n",
       "      <td>-3.094303</td>\n",
       "      <td>0.775817</td>\n",
       "      <td>-3.445707</td>\n",
       "      <td>-1.491125</td>\n",
       "      <td>-4.296091</td>\n",
       "      <td>-4.995083</td>\n",
       "      <td>0.277639</td>\n",
       "      <td>-2.986115</td>\n",
       "      <td>-4.929856</td>\n",
       "      <td>-4.254933</td>\n",
       "      <td>0.346621</td>\n",
       "      <td>-7.846395</td>\n",
       "      <td>-5.495926</td>\n",
       "      <td>-5.143603</td>\n",
       "      <td>-5.156629</td>\n",
       "      <td>-5.129381</td>\n",
       "      <td>-7.427981</td>\n",
       "    </tr>\n",
       "    <tr>\n",
       "      <th>...</th>\n",
       "      <td>...</td>\n",
       "      <td>...</td>\n",
       "      <td>...</td>\n",
       "      <td>...</td>\n",
       "      <td>...</td>\n",
       "      <td>...</td>\n",
       "      <td>...</td>\n",
       "      <td>...</td>\n",
       "      <td>...</td>\n",
       "      <td>...</td>\n",
       "      <td>...</td>\n",
       "      <td>...</td>\n",
       "      <td>...</td>\n",
       "      <td>...</td>\n",
       "      <td>...</td>\n",
       "      <td>...</td>\n",
       "      <td>...</td>\n",
       "      <td>...</td>\n",
       "    </tr>\n",
       "    <tr>\n",
       "      <th>577</th>\n",
       "      <td>-0.068863</td>\n",
       "      <td>1.462354</td>\n",
       "      <td>1.062722</td>\n",
       "      <td>0.789542</td>\n",
       "      <td>-0.148701</td>\n",
       "      <td>1.590943</td>\n",
       "      <td>-0.081258</td>\n",
       "      <td>0.722770</td>\n",
       "      <td>1.078328</td>\n",
       "      <td>1.358855</td>\n",
       "      <td>-1.097023</td>\n",
       "      <td>0.212000</td>\n",
       "      <td>0.546755</td>\n",
       "      <td>0.836223</td>\n",
       "      <td>0.895890</td>\n",
       "      <td>0.835242</td>\n",
       "      <td>0.496259</td>\n",
       "      <td>0.459139</td>\n",
       "    </tr>\n",
       "    <tr>\n",
       "      <th>578</th>\n",
       "      <td>1.480560</td>\n",
       "      <td>-0.454324</td>\n",
       "      <td>1.273858</td>\n",
       "      <td>-1.677777</td>\n",
       "      <td>0.169944</td>\n",
       "      <td>-0.484200</td>\n",
       "      <td>-1.126006</td>\n",
       "      <td>1.231994</td>\n",
       "      <td>0.521192</td>\n",
       "      <td>0.835569</td>\n",
       "      <td>0.178266</td>\n",
       "      <td>-1.841746</td>\n",
       "      <td>-0.349973</td>\n",
       "      <td>0.320344</td>\n",
       "      <td>-0.113133</td>\n",
       "      <td>0.455587</td>\n",
       "      <td>0.198875</td>\n",
       "      <td>-1.035731</td>\n",
       "    </tr>\n",
       "    <tr>\n",
       "      <th>579</th>\n",
       "      <td>NaN</td>\n",
       "      <td>NaN</td>\n",
       "      <td>NaN</td>\n",
       "      <td>NaN</td>\n",
       "      <td>NaN</td>\n",
       "      <td>NaN</td>\n",
       "      <td>NaN</td>\n",
       "      <td>-0.804903</td>\n",
       "      <td>1.078328</td>\n",
       "      <td>0.835569</td>\n",
       "      <td>-0.246830</td>\n",
       "      <td>-0.609499</td>\n",
       "      <td>1.244210</td>\n",
       "      <td>0.191375</td>\n",
       "      <td>NaN</td>\n",
       "      <td>NaN</td>\n",
       "      <td>1.091027</td>\n",
       "      <td>1.099797</td>\n",
       "    </tr>\n",
       "    <tr>\n",
       "      <th>580</th>\n",
       "      <td>0.189374</td>\n",
       "      <td>0.184569</td>\n",
       "      <td>0.640448</td>\n",
       "      <td>-1.184313</td>\n",
       "      <td>0.488588</td>\n",
       "      <td>-0.899229</td>\n",
       "      <td>0.266991</td>\n",
       "      <td>NaN</td>\n",
       "      <td>NaN</td>\n",
       "      <td>NaN</td>\n",
       "      <td>NaN</td>\n",
       "      <td>NaN</td>\n",
       "      <td>0.198027</td>\n",
       "      <td>NaN</td>\n",
       "      <td>0.070326</td>\n",
       "      <td>0.202483</td>\n",
       "      <td>0.124530</td>\n",
       "      <td>0.245586</td>\n",
       "    </tr>\n",
       "    <tr>\n",
       "      <th>581</th>\n",
       "      <td>-1.101812</td>\n",
       "      <td>0.823462</td>\n",
       "      <td>1.062722</td>\n",
       "      <td>1.283006</td>\n",
       "      <td>0.488588</td>\n",
       "      <td>0.760886</td>\n",
       "      <td>-1.126006</td>\n",
       "      <td>-0.804903</td>\n",
       "      <td>-1.150216</td>\n",
       "      <td>1.358855</td>\n",
       "      <td>0.178266</td>\n",
       "      <td>0.622749</td>\n",
       "      <td>-0.051064</td>\n",
       "      <td>0.449314</td>\n",
       "      <td>0.712432</td>\n",
       "      <td>-0.050621</td>\n",
       "      <td>-0.470238</td>\n",
       "      <td>0.565915</td>\n",
       "    </tr>\n",
       "  </tbody>\n",
       "</table>\n",
       "<p>582 rows × 18 columns</p>\n",
       "</div>"
      ],
      "text/plain": [
       "          Ross  Chandler       BT1       BT2       BT3       BT4       BT5  \\\n",
       "0     0.335534 -8.398823 -2.379000 -4.280038 -4.654275 -4.296091 -3.861487   \n",
       "1    -2.348735  0.442043  0.775817 -0.942713  0.617641  0.586374  0.672898   \n",
       "2          NaN       NaN       NaN       NaN       NaN       NaN       NaN   \n",
       "3   -13.085810 -1.326130 -0.275789 -1.777044 -1.491125 -1.854858  0.672898   \n",
       "4    -5.033004 -3.094303  0.775817 -3.445707 -1.491125 -4.296091 -4.995083   \n",
       "..         ...       ...       ...       ...       ...       ...       ...   \n",
       "577  -0.068863  1.462354  1.062722  0.789542 -0.148701  1.590943 -0.081258   \n",
       "578   1.480560 -0.454324  1.273858 -1.677777  0.169944 -0.484200 -1.126006   \n",
       "579        NaN       NaN       NaN       NaN       NaN       NaN       NaN   \n",
       "580   0.189374  0.184569  0.640448 -1.184313  0.488588 -0.899229  0.266991   \n",
       "581  -1.101812  0.823462  1.062722  1.283006  0.488588  0.760886 -1.126006   \n",
       "\n",
       "          GR1       GR2       GR3       GR4       GR5   Total:     All_GR  \\\n",
       "0    0.277639  0.456800 -3.131960 -6.551693 -2.532455 -9.841429 -4.597596   \n",
       "1    0.277639  0.456800  0.463831  0.338589  0.346621  0.133738  0.792384   \n",
       "2   -5.830416  0.456800 -4.929856 -1.958172  0.346621 -0.863778 -4.597596   \n",
       "3         NaN       NaN       NaN       NaN       NaN -3.523823       NaN   \n",
       "4    0.277639 -2.986115 -4.929856 -4.254933  0.346621 -7.846395 -5.495926   \n",
       "..        ...       ...       ...       ...       ...       ...       ...   \n",
       "577  0.722770  1.078328  1.358855 -1.097023  0.212000  0.546755  0.836223   \n",
       "578  1.231994  0.521192  0.835569  0.178266 -1.841746 -0.349973  0.320344   \n",
       "579 -0.804903  1.078328  0.835569 -0.246830 -0.609499  1.244210  0.191375   \n",
       "580       NaN       NaN       NaN       NaN       NaN  0.198027       NaN   \n",
       "581 -0.804903 -1.150216  1.358855  0.178266  0.622749 -0.051064  0.449314   \n",
       "\n",
       "       All_BT    All_SS      male    female  \n",
       "0   -7.566229 -6.579148 -7.141049 -8.825239  \n",
       "1    0.509189 -0.889074  0.235066  0.024061  \n",
       "2         NaN       NaN -0.435490 -0.907444  \n",
       "3   -1.913436 -8.001666 -3.788270 -2.304702  \n",
       "4   -5.143603 -5.156629 -5.129381 -7.427981  \n",
       "..        ...       ...       ...       ...  \n",
       "577  0.895890  0.835242  0.496259  0.459139  \n",
       "578 -0.113133  0.455587  0.198875 -1.035731  \n",
       "579       NaN       NaN  1.091027  1.099797  \n",
       "580  0.070326  0.202483  0.124530  0.245586  \n",
       "581  0.712432 -0.050621 -0.470238  0.565915  \n",
       "\n",
       "[582 rows x 18 columns]"
      ]
     },
     "execution_count": 277,
     "metadata": {},
     "output_type": "execute_result"
    }
   ],
   "source": [
    "df3 = pd.DataFrame()\n",
    "for column in light_targets.iloc[:,1:].columns:\n",
    "    resid = []\n",
    "    light_mean = light_targets[column].mean()\n",
    "    light_std = np.std(light_targets[column])\n",
    "    no_light_mean = no_light_targets[column].mean()\n",
    "    no_light_std = np.std(no_light_targets[column])\n",
    "    for date in eat.Date:\n",
    "        if  (date < pd.to_datetime('02-15-2018')):\n",
    "            resid.append((light_mean - eat[eat[\"Date\"]==date][column].values[0])/light_std)\n",
    "        else:\n",
    "            resid.append((no_light_mean - eat[eat[\"Date\"]==date][column].values[0])/no_light_std)\n",
    "    df3 = pd.concat([df3, pd.Series(resid,name = column)], axis = 1)\n",
    "df3\n",
    "    "
   ]
  },
  {
   "cell_type": "code",
   "execution_count": 278,
   "metadata": {},
   "outputs": [
    {
     "data": {
      "application/vnd.plotly.v1+json": {
       "config": {
        "plotlyServerURL": "https://plot.ly"
       },
       "data": [
        {
         "alignmentgroup": "True",
         "bingroup": "x",
         "hovertemplate": "variable=Total: <br>value=%{x}<br>count=%{y}<extra></extra>",
         "legendgroup": "Total: ",
         "marker": {
          "color": "#636efa"
         },
         "name": "Total: ",
         "offsetgroup": "Total: ",
         "orientation": "v",
         "showlegend": true,
         "type": "histogram",
         "x": [
          -1.2722874842482763,
          1.8292995522821895,
          1.5191408486291431,
          0.6920509722210187,
          -0.6519700769421831,
          -0.9621287805952297,
          2.0360720213842205,
          1.0022096758740653,
          -0.6519700769421831,
          0.7954372067720343,
          1.312368379527112,
          0.5886647376700033,
          -0.6519700769421831,
          0.5886647376700033,
          1.105595910425081,
          0.48527850311898774,
          -0.6519700769421831,
          0.3818922685679722,
          1.105595910425081,
          0.8988234413230498,
          -0.238425138738121,
          0.5886647376700033,
          1.4157546140781274,
          0.7954372067720343,
          -0.3418113732891365,
          0.48527850311898774,
          0.7954372067720343,
          1.312368379527112,
          0.48527850311898774,
          0.6920509722210187,
          0.6920509722210187,
          0.7954372067720343,
          0.48527850311898774,
          1.0022096758740653,
          1.2089821449760965,
          0.5886647376700033,
          -0.44519760784015205,
          0.27850603401695667,
          0.7954372067720343,
          0.3818922685679722,
          -0.44519760784015205,
          0.5886647376700033,
          1.2089821449760965,
          0.0717335649149256,
          -0.13503890418710546,
          0.1751197994659411,
          0.6920509722210187,
          0.1751197994659411,
          0.0717335649149256,
          -0.03165266963608994,
          -0.7553563114931986,
          -0.13503890418710546,
          -0.13503890418710546,
          2.0360720213842205,
          0.0717335649149256,
          1.105595910425081,
          0.0717335649149256,
          1.0022096758740653,
          0.27850603401695667,
          -0.44519760784015205,
          0.27850603401695667,
          1.6225270831801586,
          0.0717335649149256,
          -0.3418113732891365,
          -0.238425138738121,
          1.8292995522821895,
          -0.6519700769421831,
          0.3818922685679722,
          -0.13503890418710546,
          1.312368379527112,
          -0.03165266963608994,
          0.27850603401695667,
          -0.3418113732891365,
          1.105595910425081,
          0.5886647376700033,
          0.5886647376700033,
          0.27850603401695667,
          1.6225270831801586,
          1.725913317731174,
          2.139458255935236,
          -0.238425138738121,
          1.0022096758740653,
          1.0022096758740653,
          -1.4790599533503073,
          -0.03165266963608994,
          1.105595910425081,
          0.3818922685679722,
          -1.2722874842482763,
          0.0717335649149256,
          1.312368379527112,
          0.5886647376700033,
          -1.4790599533503073,
          0.5886647376700033,
          1.6225270831801586,
          0.6920509722210187,
          -1.582446187901323,
          -0.03165266963608994,
          1.5191408486291431,
          0.5886647376700033,
          -0.8587425460442142,
          -0.9621287805952297,
          1.2089821449760965,
          0.6920509722210187,
          -0.5485838423911676,
          -0.6519700769421831,
          1.5191408486291431,
          0.6920509722210187,
          -0.6519700769421831,
          -0.6519700769421831,
          1.5191408486291431,
          0.8988234413230498,
          -1.1689012496972608,
          0.27850603401695667,
          1.6225270831801586,
          0.8988234413230498,
          -1.2722874842482763,
          0.0717335649149256,
          0.7954372067720343,
          0.3818922685679722,
          0.27850603401695667,
          0.1751197994659411,
          1.5191408486291431,
          1.0022096758740653,
          -0.44519760784015205,
          0.48527850311898774,
          1.105595910425081,
          0.6920509722210187,
          -1.1689012496972608,
          -0.44519760784015205,
          1.312368379527112,
          0.7954372067720343,
          -1.2722874842482763,
          -0.5485838423911676,
          0.8988234413230498,
          0.6920509722210187,
          -1.1689012496972608,
          -0.9621287805952297,
          0.6920509722210187,
          0.8988234413230498,
          -1.582446187901323,
          -1.0655150151462451,
          0.7954372067720343,
          0.48527850311898774,
          -1.1689012496972608,
          -0.3418113732891365,
          1.105595910425081,
          0.5886647376700033,
          -0.13503890418710546,
          -0.03165266963608994,
          1.105595910425081,
          0.6920509722210187,
          -0.7553563114931986,
          -0.5485838423911676,
          1.105595910425081,
          0.6920509722210187,
          -1.0655150151462451,
          -0.238425138738121,
          1.312368379527112,
          0.27850603401695667,
          -1.3756737187992918,
          -0.9621287805952297,
          1.105595910425081,
          0.7954372067720343,
          -1.4790599533503073,
          0.6920509722210187,
          0.8988234413230498,
          1.0022096758740653,
          -0.6519700769421831,
          0.8988234413230498,
          1.105595910425081,
          1.2089821449760965,
          -1.789218657003354,
          -0.5485838423911676,
          1.0022096758740653,
          0.8988234413230498,
          -0.13503890418710546,
          0.0717335649149256,
          1.2089821449760965,
          0.8988234413230498,
          -0.3418113732891365,
          -0.44519760784015205,
          0.7954372067720343,
          0.0717335649149256,
          0.8988234413230498,
          -0.8587425460442142,
          1.9326857868332052,
          0.3818922685679722,
          -0.8587425460442142,
          -0.13503890418710546,
          2.0360720213842205,
          1.105595910425081,
          -0.7553563114931986,
          0.8988234413230498,
          0.8988234413230498,
          0.6920509722210187,
          -1.0655150151462451,
          -0.8587425460442142,
          0.8988234413230498,
          -0.44519760784015205,
          -1.0655150151462451,
          0.6920509722210187,
          0.1751197994659411,
          -0.8587425460442142,
          -0.3418113732891365,
          0.6920509722210187,
          -0.5485838423911676,
          -0.8587425460442142,
          0.0717335649149256,
          0.6920509722210187,
          -0.44519760784015205,
          -0.8587425460442142,
          0.27850603401695667,
          0.3818922685679722,
          -0.44519760784015205,
          -0.7553563114931986,
          0.0717335649149256,
          0.8988234413230498,
          -0.3418113732891365,
          -0.238425138738121,
          1.105595910425081,
          -0.238425138738121,
          -1.0655150151462451,
          -0.6519700769421831,
          1.9326857868332052,
          -0.44519760784015205,
          -2.4095360643094472,
          -0.13503890418710546,
          1.2089821449760965,
          -0.7553563114931986,
          -0.9621287805952297,
          -0.238425138738121,
          2.139458255935236,
          -0.5485838423911676,
          -1.1689012496972608,
          -1.1689012496972608,
          2.139458255935236,
          -0.7553563114931986,
          -0.3418113732891365,
          -1.2722874842482763,
          null,
          0.27850603401695667,
          -0.7553563114931986,
          0.3818922685679722,
          0.6920509722210187,
          0.3818922685679722,
          -0.13503890418710546,
          -0.5485838423911676,
          1.105595910425081,
          1.0022096758740653,
          -0.8587425460442142,
          -0.7553563114931986,
          1.0022096758740653,
          0.3818922685679722,
          -0.9621287805952297,
          0.27850603401695667,
          1.5191408486291431,
          0.8988234413230498,
          -0.6519700769421831,
          -0.03165266963608994,
          0.7954372067720343,
          0.1751197994659411,
          -0.6519700769421831,
          -1.582446187901323,
          1.2089821449760965,
          -0.03165266963608994,
          -0.6519700769421831,
          0.0717335649149256,
          0.6920509722210187,
          -0.03165266963608994,
          0.1751197994659411,
          -0.9621287805952297,
          0.7954372067720343,
          0.0717335649149256,
          0.3818922685679722,
          -1.2722874842482763,
          0.7954372067720343,
          -0.238425138738121,
          0.1751197994659411,
          -0.44519760784015205,
          0.3818922685679722,
          -0.44519760784015205,
          -0.13503890418710546,
          -0.7553563114931986,
          0.48527850311898774,
          -0.3418113732891365,
          -0.5485838423911676,
          -1.582446187901323,
          1.2089821449760965,
          -0.238425138738121,
          -0.9621287805952297,
          -0.9621287805952297,
          1.105595910425081,
          0.48527850311898774,
          -0.7553563114931986,
          -2.4095360643094472,
          0.7954372067720343,
          1.2089821449760965,
          0.0717335649149256,
          -1.789218657003354,
          1.105595910425081,
          -1.3756737187992918,
          0.1751197994659411,
          -0.7553563114931986,
          0.8988234413230498,
          1.8292995522821895,
          -0.03165266963608994,
          0.1751197994659411,
          0.8988234413230498,
          0.1751197994659411,
          -0.3418113732891365,
          -1.2722874842482763,
          1.105595910425081,
          0.27850603401695667,
          -1.0655150151462451,
          -0.44519760784015205,
          0.8988234413230498,
          -1.0655150151462451,
          -0.6519700769421831,
          -0.3418113732891365,
          0.6920509722210187,
          -1.995991126105385,
          -0.6519700769421831,
          -2.0993773606564003,
          0.6920509722210187,
          -0.8587425460442142,
          -0.7553563114931986,
          -1.995991126105385,
          1.0022096758740653,
          0.3818922685679722,
          -1.6858324224523384,
          -0.8587425460442142,
          0.8988234413230498,
          -0.7553563114931986,
          -0.6519700769421831,
          -2.5129222988604627,
          0.7954372067720343,
          -3.0298534716155405,
          0.0717335649149256,
          -0.8587425460442142,
          0.6920509722210187,
          -1.1689012496972608,
          -0.3418113732891365,
          -1.3756737187992918,
          0.7954372067720343,
          -1.1689012496972608,
          -0.8587425460442142,
          -1.1689012496972608,
          0.5886647376700033,
          -1.2722874842482763,
          -0.7553563114931986,
          -0.8587425460442142,
          0.8988234413230498,
          -0.8587425460442142,
          -0.3418113732891365,
          -0.44519760784015205,
          1.2089821449760965,
          -1.582446187901323,
          -1.582446187901323,
          -0.13503890418710546,
          0.7954372067720343,
          -1.1689012496972608,
          -2.2027635952074163,
          -0.03165266963608994,
          1.105595910425081,
          -0.44519760784015205,
          -1.2722874842482763,
          -0.9621287805952297,
          1.105595910425081,
          -0.5485838423911676,
          -0.7553563114931986,
          -1.995991126105385,
          0.8988234413230498,
          0.6920509722210187,
          -1.1689012496972608,
          -1.6858324224523384,
          0.5886647376700033,
          -1.789218657003354,
          -0.03165266963608994,
          -0.6519700769421831,
          1.5191408486291431,
          -0.7553563114931986,
          -0.7553563114931986,
          -1.8926048915543694,
          0.8988234413230498,
          -0.5485838423911676,
          -0.238425138738121,
          -0.9621287805952297,
          1.0022096758740653,
          -0.03165266963608994,
          -0.8587425460442142,
          -0.8587425460442142,
          1.0022096758740653,
          0.5886647376700033,
          -0.8587425460442142,
          0.27850603401695667,
          0.8988234413230498,
          0.7954372067720343,
          -0.238425138738121,
          -0.6519700769421831,
          0.8988234413230498,
          0.7954372067720343,
          -1.582446187901323,
          -0.7553563114931986,
          1.6225270831801586,
          -0.03165266963608994,
          0.27850603401695667,
          -1.1689012496972608,
          1.0022096758740653,
          0.1751197994659411,
          -0.13503890418710546,
          0.7954372067720343,
          0.48527850311898774,
          -0.03165266963608994,
          -1.4790599533503073,
          0.7954372067720343,
          0.8988234413230498,
          0.1751197994659411,
          -1.4790599533503073,
          1.9326857868332052,
          0.27850603401695667,
          -0.9621287805952297,
          -1.1689012496972608,
          0.5886647376700033,
          -0.9621287805952297,
          -0.3418113732891365,
          0.0717335649149256,
          1.0022096758740653,
          -0.13503890418710546,
          -0.238425138738121,
          -0.5485838423911676,
          0.48527850311898774,
          0.0717335649149256,
          -0.13503890418710546,
          0.1751197994659411,
          1.2089821449760965,
          0.48527850311898774,
          -0.5485838423911676,
          -0.5485838423911676,
          1.105595910425081,
          -0.3418113732891365,
          0.0717335649149256,
          -0.6519700769421831,
          1.0022096758740653,
          -0.9621287805952297,
          -0.7553563114931986,
          -0.13503890418710546,
          1.105595910425081,
          -0.238425138738121,
          -0.9621287805952297,
          -0.238425138738121,
          1.0022096758740653,
          -1.1689012496972608,
          -0.44519760784015205,
          0.0717335649149256,
          1.4157546140781274,
          -0.238425138738121,
          -0.6519700769421831,
          -0.238425138738121,
          1.2089821449760965,
          -0.44519760784015205,
          -0.13503890418710546,
          1.0022096758740653,
          1.4157546140781274,
          -1.2722874842482763,
          -0.238425138738121,
          0.48527850311898774,
          1.0022096758740653,
          -0.03165266963608994,
          -0.8587425460442142,
          0.0717335649149256,
          1.1651503814248838,
          -0.8596802439726668,
          -0.8596802439726668,
          -0.3534725876232792,
          1.6713580377742714,
          -1.1127840721473607,
          -2.7579589552828705,
          0.40583889690080227,
          0.9120465532501899,
          0.6589427250754961,
          -0.8596802439726668,
          1.0385984673375368,
          0.5323908109881492,
          -0.3534725876232792,
          -1.6189917284967483,
          1.0385984673375368,
          0.15273506872610845,
          -0.10036875944858537,
          0.5323908109881492,
          1.6713580377742714,
          -0.3534725876232792,
          -0.8596802439726668,
          -0.9862321580600137,
          0.40583889690080227,
          1.2917022955122306,
          0.026183154638761537,
          0.15273506872610845,
          -0.4800245017106261,
          -0.10036875944858537,
          1.312368379527112,
          -0.03165266963608994,
          0.0717335649149256,
          0.1751197994659411,
          1.725913317731174,
          -0.03165266963608994,
          -1.3756737187992918,
          0.1751197994659411,
          2.139458255935236,
          0.27850603401695667,
          -1.2722874842482763,
          -0.44519760784015205,
          2.0360720213842205,
          0.8988234413230498,
          -0.7553563114931986,
          0.0717335649149256,
          2.139458255935236,
          0.48527850311898774,
          -0.44519760784015205,
          -1.1689012496972608,
          2.0360720213842205,
          -0.03165266963608994,
          -0.3418113732891365,
          -1.1689012496972608,
          1.5191408486291431,
          -0.3418113732891365,
          -1.3756737187992918,
          -2.823081002513509,
          1.2089821449760965,
          0.0717335649149256,
          -1.2722874842482763,
          0.5886647376700033,
          1.312368379527112,
          0.27850603401695667,
          -0.7553563114931986,
          0.48527850311898774,
          2.139458255935236,
          0.0717335649149256,
          -1.2722874842482763,
          -1.6858324224523384,
          0.48527850311898774,
          0.27850603401695667,
          -1.582446187901323,
          -1.1689012496972608,
          0.6920509722210187,
          -0.44519760784015205,
          -1.6858324224523384,
          -1.2722874842482763,
          0.8988234413230498,
          0.27850603401695667,
          -1.8926048915543694,
          -1.2722874842482763,
          0.8988234413230498,
          0.27850603401695667,
          -1.995991126105385,
          -2.2027635952074163,
          0.6920509722210187,
          -0.13503890418710546,
          -2.0993773606564003,
          -1.995991126105385,
          1.105595910425081,
          -1.6858324224523384,
          -0.3418113732891365,
          -1.0655150151462451,
          1.0022096758740653,
          0.48527850311898774,
          -1.0655150151462451,
          -2.4095360643094472,
          1.0022096758740653,
          -0.9621287805952297,
          -0.9621287805952297,
          -1.8926048915543694,
          1.2089821449760965,
          0.8988234413230498,
          -1.8926048915543694,
          -2.4095360643094472,
          0.7954372067720343,
          0.3818922685679722,
          -0.5485838423911676,
          -2.4095360643094472,
          0.8988234413230498,
          -1.2722874842482763,
          -1.789218657003354
         ],
         "xaxis": "x",
         "yaxis": "y"
        }
       ],
       "layout": {
        "barmode": "relative",
        "legend": {
         "title": {
          "text": "variable"
         },
         "tracegroupgap": 0
        },
        "margin": {
         "t": 60
        },
        "template": {
         "data": {
          "bar": [
           {
            "error_x": {
             "color": "#2a3f5f"
            },
            "error_y": {
             "color": "#2a3f5f"
            },
            "marker": {
             "line": {
              "color": "#E5ECF6",
              "width": 0.5
             }
            },
            "type": "bar"
           }
          ],
          "barpolar": [
           {
            "marker": {
             "line": {
              "color": "#E5ECF6",
              "width": 0.5
             }
            },
            "type": "barpolar"
           }
          ],
          "carpet": [
           {
            "aaxis": {
             "endlinecolor": "#2a3f5f",
             "gridcolor": "white",
             "linecolor": "white",
             "minorgridcolor": "white",
             "startlinecolor": "#2a3f5f"
            },
            "baxis": {
             "endlinecolor": "#2a3f5f",
             "gridcolor": "white",
             "linecolor": "white",
             "minorgridcolor": "white",
             "startlinecolor": "#2a3f5f"
            },
            "type": "carpet"
           }
          ],
          "choropleth": [
           {
            "colorbar": {
             "outlinewidth": 0,
             "ticks": ""
            },
            "type": "choropleth"
           }
          ],
          "contour": [
           {
            "colorbar": {
             "outlinewidth": 0,
             "ticks": ""
            },
            "colorscale": [
             [
              0,
              "#0d0887"
             ],
             [
              0.1111111111111111,
              "#46039f"
             ],
             [
              0.2222222222222222,
              "#7201a8"
             ],
             [
              0.3333333333333333,
              "#9c179e"
             ],
             [
              0.4444444444444444,
              "#bd3786"
             ],
             [
              0.5555555555555556,
              "#d8576b"
             ],
             [
              0.6666666666666666,
              "#ed7953"
             ],
             [
              0.7777777777777778,
              "#fb9f3a"
             ],
             [
              0.8888888888888888,
              "#fdca26"
             ],
             [
              1,
              "#f0f921"
             ]
            ],
            "type": "contour"
           }
          ],
          "contourcarpet": [
           {
            "colorbar": {
             "outlinewidth": 0,
             "ticks": ""
            },
            "type": "contourcarpet"
           }
          ],
          "heatmap": [
           {
            "colorbar": {
             "outlinewidth": 0,
             "ticks": ""
            },
            "colorscale": [
             [
              0,
              "#0d0887"
             ],
             [
              0.1111111111111111,
              "#46039f"
             ],
             [
              0.2222222222222222,
              "#7201a8"
             ],
             [
              0.3333333333333333,
              "#9c179e"
             ],
             [
              0.4444444444444444,
              "#bd3786"
             ],
             [
              0.5555555555555556,
              "#d8576b"
             ],
             [
              0.6666666666666666,
              "#ed7953"
             ],
             [
              0.7777777777777778,
              "#fb9f3a"
             ],
             [
              0.8888888888888888,
              "#fdca26"
             ],
             [
              1,
              "#f0f921"
             ]
            ],
            "type": "heatmap"
           }
          ],
          "heatmapgl": [
           {
            "colorbar": {
             "outlinewidth": 0,
             "ticks": ""
            },
            "colorscale": [
             [
              0,
              "#0d0887"
             ],
             [
              0.1111111111111111,
              "#46039f"
             ],
             [
              0.2222222222222222,
              "#7201a8"
             ],
             [
              0.3333333333333333,
              "#9c179e"
             ],
             [
              0.4444444444444444,
              "#bd3786"
             ],
             [
              0.5555555555555556,
              "#d8576b"
             ],
             [
              0.6666666666666666,
              "#ed7953"
             ],
             [
              0.7777777777777778,
              "#fb9f3a"
             ],
             [
              0.8888888888888888,
              "#fdca26"
             ],
             [
              1,
              "#f0f921"
             ]
            ],
            "type": "heatmapgl"
           }
          ],
          "histogram": [
           {
            "marker": {
             "colorbar": {
              "outlinewidth": 0,
              "ticks": ""
             }
            },
            "type": "histogram"
           }
          ],
          "histogram2d": [
           {
            "colorbar": {
             "outlinewidth": 0,
             "ticks": ""
            },
            "colorscale": [
             [
              0,
              "#0d0887"
             ],
             [
              0.1111111111111111,
              "#46039f"
             ],
             [
              0.2222222222222222,
              "#7201a8"
             ],
             [
              0.3333333333333333,
              "#9c179e"
             ],
             [
              0.4444444444444444,
              "#bd3786"
             ],
             [
              0.5555555555555556,
              "#d8576b"
             ],
             [
              0.6666666666666666,
              "#ed7953"
             ],
             [
              0.7777777777777778,
              "#fb9f3a"
             ],
             [
              0.8888888888888888,
              "#fdca26"
             ],
             [
              1,
              "#f0f921"
             ]
            ],
            "type": "histogram2d"
           }
          ],
          "histogram2dcontour": [
           {
            "colorbar": {
             "outlinewidth": 0,
             "ticks": ""
            },
            "colorscale": [
             [
              0,
              "#0d0887"
             ],
             [
              0.1111111111111111,
              "#46039f"
             ],
             [
              0.2222222222222222,
              "#7201a8"
             ],
             [
              0.3333333333333333,
              "#9c179e"
             ],
             [
              0.4444444444444444,
              "#bd3786"
             ],
             [
              0.5555555555555556,
              "#d8576b"
             ],
             [
              0.6666666666666666,
              "#ed7953"
             ],
             [
              0.7777777777777778,
              "#fb9f3a"
             ],
             [
              0.8888888888888888,
              "#fdca26"
             ],
             [
              1,
              "#f0f921"
             ]
            ],
            "type": "histogram2dcontour"
           }
          ],
          "mesh3d": [
           {
            "colorbar": {
             "outlinewidth": 0,
             "ticks": ""
            },
            "type": "mesh3d"
           }
          ],
          "parcoords": [
           {
            "line": {
             "colorbar": {
              "outlinewidth": 0,
              "ticks": ""
             }
            },
            "type": "parcoords"
           }
          ],
          "pie": [
           {
            "automargin": true,
            "type": "pie"
           }
          ],
          "scatter": [
           {
            "marker": {
             "colorbar": {
              "outlinewidth": 0,
              "ticks": ""
             }
            },
            "type": "scatter"
           }
          ],
          "scatter3d": [
           {
            "line": {
             "colorbar": {
              "outlinewidth": 0,
              "ticks": ""
             }
            },
            "marker": {
             "colorbar": {
              "outlinewidth": 0,
              "ticks": ""
             }
            },
            "type": "scatter3d"
           }
          ],
          "scattercarpet": [
           {
            "marker": {
             "colorbar": {
              "outlinewidth": 0,
              "ticks": ""
             }
            },
            "type": "scattercarpet"
           }
          ],
          "scattergeo": [
           {
            "marker": {
             "colorbar": {
              "outlinewidth": 0,
              "ticks": ""
             }
            },
            "type": "scattergeo"
           }
          ],
          "scattergl": [
           {
            "marker": {
             "colorbar": {
              "outlinewidth": 0,
              "ticks": ""
             }
            },
            "type": "scattergl"
           }
          ],
          "scattermapbox": [
           {
            "marker": {
             "colorbar": {
              "outlinewidth": 0,
              "ticks": ""
             }
            },
            "type": "scattermapbox"
           }
          ],
          "scatterpolar": [
           {
            "marker": {
             "colorbar": {
              "outlinewidth": 0,
              "ticks": ""
             }
            },
            "type": "scatterpolar"
           }
          ],
          "scatterpolargl": [
           {
            "marker": {
             "colorbar": {
              "outlinewidth": 0,
              "ticks": ""
             }
            },
            "type": "scatterpolargl"
           }
          ],
          "scatterternary": [
           {
            "marker": {
             "colorbar": {
              "outlinewidth": 0,
              "ticks": ""
             }
            },
            "type": "scatterternary"
           }
          ],
          "surface": [
           {
            "colorbar": {
             "outlinewidth": 0,
             "ticks": ""
            },
            "colorscale": [
             [
              0,
              "#0d0887"
             ],
             [
              0.1111111111111111,
              "#46039f"
             ],
             [
              0.2222222222222222,
              "#7201a8"
             ],
             [
              0.3333333333333333,
              "#9c179e"
             ],
             [
              0.4444444444444444,
              "#bd3786"
             ],
             [
              0.5555555555555556,
              "#d8576b"
             ],
             [
              0.6666666666666666,
              "#ed7953"
             ],
             [
              0.7777777777777778,
              "#fb9f3a"
             ],
             [
              0.8888888888888888,
              "#fdca26"
             ],
             [
              1,
              "#f0f921"
             ]
            ],
            "type": "surface"
           }
          ],
          "table": [
           {
            "cells": {
             "fill": {
              "color": "#EBF0F8"
             },
             "line": {
              "color": "white"
             }
            },
            "header": {
             "fill": {
              "color": "#C8D4E3"
             },
             "line": {
              "color": "white"
             }
            },
            "type": "table"
           }
          ]
         },
         "layout": {
          "annotationdefaults": {
           "arrowcolor": "#2a3f5f",
           "arrowhead": 0,
           "arrowwidth": 1
          },
          "coloraxis": {
           "colorbar": {
            "outlinewidth": 0,
            "ticks": ""
           }
          },
          "colorscale": {
           "diverging": [
            [
             0,
             "#8e0152"
            ],
            [
             0.1,
             "#c51b7d"
            ],
            [
             0.2,
             "#de77ae"
            ],
            [
             0.3,
             "#f1b6da"
            ],
            [
             0.4,
             "#fde0ef"
            ],
            [
             0.5,
             "#f7f7f7"
            ],
            [
             0.6,
             "#e6f5d0"
            ],
            [
             0.7,
             "#b8e186"
            ],
            [
             0.8,
             "#7fbc41"
            ],
            [
             0.9,
             "#4d9221"
            ],
            [
             1,
             "#276419"
            ]
           ],
           "sequential": [
            [
             0,
             "#0d0887"
            ],
            [
             0.1111111111111111,
             "#46039f"
            ],
            [
             0.2222222222222222,
             "#7201a8"
            ],
            [
             0.3333333333333333,
             "#9c179e"
            ],
            [
             0.4444444444444444,
             "#bd3786"
            ],
            [
             0.5555555555555556,
             "#d8576b"
            ],
            [
             0.6666666666666666,
             "#ed7953"
            ],
            [
             0.7777777777777778,
             "#fb9f3a"
            ],
            [
             0.8888888888888888,
             "#fdca26"
            ],
            [
             1,
             "#f0f921"
            ]
           ],
           "sequentialminus": [
            [
             0,
             "#0d0887"
            ],
            [
             0.1111111111111111,
             "#46039f"
            ],
            [
             0.2222222222222222,
             "#7201a8"
            ],
            [
             0.3333333333333333,
             "#9c179e"
            ],
            [
             0.4444444444444444,
             "#bd3786"
            ],
            [
             0.5555555555555556,
             "#d8576b"
            ],
            [
             0.6666666666666666,
             "#ed7953"
            ],
            [
             0.7777777777777778,
             "#fb9f3a"
            ],
            [
             0.8888888888888888,
             "#fdca26"
            ],
            [
             1,
             "#f0f921"
            ]
           ]
          },
          "colorway": [
           "#636efa",
           "#EF553B",
           "#00cc96",
           "#ab63fa",
           "#FFA15A",
           "#19d3f3",
           "#FF6692",
           "#B6E880",
           "#FF97FF",
           "#FECB52"
          ],
          "font": {
           "color": "#2a3f5f"
          },
          "geo": {
           "bgcolor": "white",
           "lakecolor": "white",
           "landcolor": "#E5ECF6",
           "showlakes": true,
           "showland": true,
           "subunitcolor": "white"
          },
          "hoverlabel": {
           "align": "left"
          },
          "hovermode": "closest",
          "mapbox": {
           "style": "light"
          },
          "paper_bgcolor": "white",
          "plot_bgcolor": "#E5ECF6",
          "polar": {
           "angularaxis": {
            "gridcolor": "white",
            "linecolor": "white",
            "ticks": ""
           },
           "bgcolor": "#E5ECF6",
           "radialaxis": {
            "gridcolor": "white",
            "linecolor": "white",
            "ticks": ""
           }
          },
          "scene": {
           "xaxis": {
            "backgroundcolor": "#E5ECF6",
            "gridcolor": "white",
            "gridwidth": 2,
            "linecolor": "white",
            "showbackground": true,
            "ticks": "",
            "zerolinecolor": "white"
           },
           "yaxis": {
            "backgroundcolor": "#E5ECF6",
            "gridcolor": "white",
            "gridwidth": 2,
            "linecolor": "white",
            "showbackground": true,
            "ticks": "",
            "zerolinecolor": "white"
           },
           "zaxis": {
            "backgroundcolor": "#E5ECF6",
            "gridcolor": "white",
            "gridwidth": 2,
            "linecolor": "white",
            "showbackground": true,
            "ticks": "",
            "zerolinecolor": "white"
           }
          },
          "shapedefaults": {
           "line": {
            "color": "#2a3f5f"
           }
          },
          "ternary": {
           "aaxis": {
            "gridcolor": "white",
            "linecolor": "white",
            "ticks": ""
           },
           "baxis": {
            "gridcolor": "white",
            "linecolor": "white",
            "ticks": ""
           },
           "bgcolor": "#E5ECF6",
           "caxis": {
            "gridcolor": "white",
            "linecolor": "white",
            "ticks": ""
           }
          },
          "title": {
           "x": 0.05
          },
          "xaxis": {
           "automargin": true,
           "gridcolor": "white",
           "linecolor": "white",
           "ticks": "",
           "title": {
            "standoff": 15
           },
           "zerolinecolor": "white",
           "zerolinewidth": 2
          },
          "yaxis": {
           "automargin": true,
           "gridcolor": "white",
           "linecolor": "white",
           "ticks": "",
           "title": {
            "standoff": 15
           },
           "zerolinecolor": "white",
           "zerolinewidth": 2
          }
         }
        },
        "xaxis": {
         "anchor": "y",
         "domain": [
          0,
          1
         ],
         "title": {
          "text": "value"
         }
        },
        "yaxis": {
         "anchor": "x",
         "domain": [
          0,
          1
         ],
         "title": {
          "text": "count"
         }
        }
       }
      },
      "text/html": [
       "<div>                            <div id=\"35bf58f0-9615-4493-a3d2-fee0fbb4f6a4\" class=\"plotly-graph-div\" style=\"height:525px; width:100%;\"></div>            <script type=\"text/javascript\">                require([\"plotly\"], function(Plotly) {                    window.PLOTLYENV=window.PLOTLYENV || {};                                    if (document.getElementById(\"35bf58f0-9615-4493-a3d2-fee0fbb4f6a4\")) {                    Plotly.newPlot(                        \"35bf58f0-9615-4493-a3d2-fee0fbb4f6a4\",                        [{\"alignmentgroup\": \"True\", \"bingroup\": \"x\", \"hovertemplate\": \"variable=Total: <br>value=%{x}<br>count=%{y}<extra></extra>\", \"legendgroup\": \"Total: \", \"marker\": {\"color\": \"#636efa\"}, \"name\": \"Total: \", \"offsetgroup\": \"Total: \", \"orientation\": \"v\", \"showlegend\": true, \"type\": \"histogram\", \"x\": [-1.2722874842482763, 1.8292995522821895, 1.5191408486291431, 0.6920509722210187, -0.6519700769421831, -0.9621287805952297, 2.0360720213842205, 1.0022096758740653, -0.6519700769421831, 0.7954372067720343, 1.312368379527112, 0.5886647376700033, -0.6519700769421831, 0.5886647376700033, 1.105595910425081, 0.48527850311898774, -0.6519700769421831, 0.3818922685679722, 1.105595910425081, 0.8988234413230498, -0.238425138738121, 0.5886647376700033, 1.4157546140781274, 0.7954372067720343, -0.3418113732891365, 0.48527850311898774, 0.7954372067720343, 1.312368379527112, 0.48527850311898774, 0.6920509722210187, 0.6920509722210187, 0.7954372067720343, 0.48527850311898774, 1.0022096758740653, 1.2089821449760965, 0.5886647376700033, -0.44519760784015205, 0.27850603401695667, 0.7954372067720343, 0.3818922685679722, -0.44519760784015205, 0.5886647376700033, 1.2089821449760965, 0.0717335649149256, -0.13503890418710546, 0.1751197994659411, 0.6920509722210187, 0.1751197994659411, 0.0717335649149256, -0.03165266963608994, -0.7553563114931986, -0.13503890418710546, -0.13503890418710546, 2.0360720213842205, 0.0717335649149256, 1.105595910425081, 0.0717335649149256, 1.0022096758740653, 0.27850603401695667, -0.44519760784015205, 0.27850603401695667, 1.6225270831801586, 0.0717335649149256, -0.3418113732891365, -0.238425138738121, 1.8292995522821895, -0.6519700769421831, 0.3818922685679722, -0.13503890418710546, 1.312368379527112, -0.03165266963608994, 0.27850603401695667, -0.3418113732891365, 1.105595910425081, 0.5886647376700033, 0.5886647376700033, 0.27850603401695667, 1.6225270831801586, 1.725913317731174, 2.139458255935236, -0.238425138738121, 1.0022096758740653, 1.0022096758740653, -1.4790599533503073, -0.03165266963608994, 1.105595910425081, 0.3818922685679722, -1.2722874842482763, 0.0717335649149256, 1.312368379527112, 0.5886647376700033, -1.4790599533503073, 0.5886647376700033, 1.6225270831801586, 0.6920509722210187, -1.582446187901323, -0.03165266963608994, 1.5191408486291431, 0.5886647376700033, -0.8587425460442142, -0.9621287805952297, 1.2089821449760965, 0.6920509722210187, -0.5485838423911676, -0.6519700769421831, 1.5191408486291431, 0.6920509722210187, -0.6519700769421831, -0.6519700769421831, 1.5191408486291431, 0.8988234413230498, -1.1689012496972608, 0.27850603401695667, 1.6225270831801586, 0.8988234413230498, -1.2722874842482763, 0.0717335649149256, 0.7954372067720343, 0.3818922685679722, 0.27850603401695667, 0.1751197994659411, 1.5191408486291431, 1.0022096758740653, -0.44519760784015205, 0.48527850311898774, 1.105595910425081, 0.6920509722210187, -1.1689012496972608, -0.44519760784015205, 1.312368379527112, 0.7954372067720343, -1.2722874842482763, -0.5485838423911676, 0.8988234413230498, 0.6920509722210187, -1.1689012496972608, -0.9621287805952297, 0.6920509722210187, 0.8988234413230498, -1.582446187901323, -1.0655150151462451, 0.7954372067720343, 0.48527850311898774, -1.1689012496972608, -0.3418113732891365, 1.105595910425081, 0.5886647376700033, -0.13503890418710546, -0.03165266963608994, 1.105595910425081, 0.6920509722210187, -0.7553563114931986, -0.5485838423911676, 1.105595910425081, 0.6920509722210187, -1.0655150151462451, -0.238425138738121, 1.312368379527112, 0.27850603401695667, -1.3756737187992918, -0.9621287805952297, 1.105595910425081, 0.7954372067720343, -1.4790599533503073, 0.6920509722210187, 0.8988234413230498, 1.0022096758740653, -0.6519700769421831, 0.8988234413230498, 1.105595910425081, 1.2089821449760965, -1.789218657003354, -0.5485838423911676, 1.0022096758740653, 0.8988234413230498, -0.13503890418710546, 0.0717335649149256, 1.2089821449760965, 0.8988234413230498, -0.3418113732891365, -0.44519760784015205, 0.7954372067720343, 0.0717335649149256, 0.8988234413230498, -0.8587425460442142, 1.9326857868332052, 0.3818922685679722, -0.8587425460442142, -0.13503890418710546, 2.0360720213842205, 1.105595910425081, -0.7553563114931986, 0.8988234413230498, 0.8988234413230498, 0.6920509722210187, -1.0655150151462451, -0.8587425460442142, 0.8988234413230498, -0.44519760784015205, -1.0655150151462451, 0.6920509722210187, 0.1751197994659411, -0.8587425460442142, -0.3418113732891365, 0.6920509722210187, -0.5485838423911676, -0.8587425460442142, 0.0717335649149256, 0.6920509722210187, -0.44519760784015205, -0.8587425460442142, 0.27850603401695667, 0.3818922685679722, -0.44519760784015205, -0.7553563114931986, 0.0717335649149256, 0.8988234413230498, -0.3418113732891365, -0.238425138738121, 1.105595910425081, -0.238425138738121, -1.0655150151462451, -0.6519700769421831, 1.9326857868332052, -0.44519760784015205, -2.4095360643094472, -0.13503890418710546, 1.2089821449760965, -0.7553563114931986, -0.9621287805952297, -0.238425138738121, 2.139458255935236, -0.5485838423911676, -1.1689012496972608, -1.1689012496972608, 2.139458255935236, -0.7553563114931986, -0.3418113732891365, -1.2722874842482763, null, 0.27850603401695667, -0.7553563114931986, 0.3818922685679722, 0.6920509722210187, 0.3818922685679722, -0.13503890418710546, -0.5485838423911676, 1.105595910425081, 1.0022096758740653, -0.8587425460442142, -0.7553563114931986, 1.0022096758740653, 0.3818922685679722, -0.9621287805952297, 0.27850603401695667, 1.5191408486291431, 0.8988234413230498, -0.6519700769421831, -0.03165266963608994, 0.7954372067720343, 0.1751197994659411, -0.6519700769421831, -1.582446187901323, 1.2089821449760965, -0.03165266963608994, -0.6519700769421831, 0.0717335649149256, 0.6920509722210187, -0.03165266963608994, 0.1751197994659411, -0.9621287805952297, 0.7954372067720343, 0.0717335649149256, 0.3818922685679722, -1.2722874842482763, 0.7954372067720343, -0.238425138738121, 0.1751197994659411, -0.44519760784015205, 0.3818922685679722, -0.44519760784015205, -0.13503890418710546, -0.7553563114931986, 0.48527850311898774, -0.3418113732891365, -0.5485838423911676, -1.582446187901323, 1.2089821449760965, -0.238425138738121, -0.9621287805952297, -0.9621287805952297, 1.105595910425081, 0.48527850311898774, -0.7553563114931986, -2.4095360643094472, 0.7954372067720343, 1.2089821449760965, 0.0717335649149256, -1.789218657003354, 1.105595910425081, -1.3756737187992918, 0.1751197994659411, -0.7553563114931986, 0.8988234413230498, 1.8292995522821895, -0.03165266963608994, 0.1751197994659411, 0.8988234413230498, 0.1751197994659411, -0.3418113732891365, -1.2722874842482763, 1.105595910425081, 0.27850603401695667, -1.0655150151462451, -0.44519760784015205, 0.8988234413230498, -1.0655150151462451, -0.6519700769421831, -0.3418113732891365, 0.6920509722210187, -1.995991126105385, -0.6519700769421831, -2.0993773606564003, 0.6920509722210187, -0.8587425460442142, -0.7553563114931986, -1.995991126105385, 1.0022096758740653, 0.3818922685679722, -1.6858324224523384, -0.8587425460442142, 0.8988234413230498, -0.7553563114931986, -0.6519700769421831, -2.5129222988604627, 0.7954372067720343, -3.0298534716155405, 0.0717335649149256, -0.8587425460442142, 0.6920509722210187, -1.1689012496972608, -0.3418113732891365, -1.3756737187992918, 0.7954372067720343, -1.1689012496972608, -0.8587425460442142, -1.1689012496972608, 0.5886647376700033, -1.2722874842482763, -0.7553563114931986, -0.8587425460442142, 0.8988234413230498, -0.8587425460442142, -0.3418113732891365, -0.44519760784015205, 1.2089821449760965, -1.582446187901323, -1.582446187901323, -0.13503890418710546, 0.7954372067720343, -1.1689012496972608, -2.2027635952074163, -0.03165266963608994, 1.105595910425081, -0.44519760784015205, -1.2722874842482763, -0.9621287805952297, 1.105595910425081, -0.5485838423911676, -0.7553563114931986, -1.995991126105385, 0.8988234413230498, 0.6920509722210187, -1.1689012496972608, -1.6858324224523384, 0.5886647376700033, -1.789218657003354, -0.03165266963608994, -0.6519700769421831, 1.5191408486291431, -0.7553563114931986, -0.7553563114931986, -1.8926048915543694, 0.8988234413230498, -0.5485838423911676, -0.238425138738121, -0.9621287805952297, 1.0022096758740653, -0.03165266963608994, -0.8587425460442142, -0.8587425460442142, 1.0022096758740653, 0.5886647376700033, -0.8587425460442142, 0.27850603401695667, 0.8988234413230498, 0.7954372067720343, -0.238425138738121, -0.6519700769421831, 0.8988234413230498, 0.7954372067720343, -1.582446187901323, -0.7553563114931986, 1.6225270831801586, -0.03165266963608994, 0.27850603401695667, -1.1689012496972608, 1.0022096758740653, 0.1751197994659411, -0.13503890418710546, 0.7954372067720343, 0.48527850311898774, -0.03165266963608994, -1.4790599533503073, 0.7954372067720343, 0.8988234413230498, 0.1751197994659411, -1.4790599533503073, 1.9326857868332052, 0.27850603401695667, -0.9621287805952297, -1.1689012496972608, 0.5886647376700033, -0.9621287805952297, -0.3418113732891365, 0.0717335649149256, 1.0022096758740653, -0.13503890418710546, -0.238425138738121, -0.5485838423911676, 0.48527850311898774, 0.0717335649149256, -0.13503890418710546, 0.1751197994659411, 1.2089821449760965, 0.48527850311898774, -0.5485838423911676, -0.5485838423911676, 1.105595910425081, -0.3418113732891365, 0.0717335649149256, -0.6519700769421831, 1.0022096758740653, -0.9621287805952297, -0.7553563114931986, -0.13503890418710546, 1.105595910425081, -0.238425138738121, -0.9621287805952297, -0.238425138738121, 1.0022096758740653, -1.1689012496972608, -0.44519760784015205, 0.0717335649149256, 1.4157546140781274, -0.238425138738121, -0.6519700769421831, -0.238425138738121, 1.2089821449760965, -0.44519760784015205, -0.13503890418710546, 1.0022096758740653, 1.4157546140781274, -1.2722874842482763, -0.238425138738121, 0.48527850311898774, 1.0022096758740653, -0.03165266963608994, -0.8587425460442142, 0.0717335649149256, 1.1651503814248838, -0.8596802439726668, -0.8596802439726668, -0.3534725876232792, 1.6713580377742714, -1.1127840721473607, -2.7579589552828705, 0.40583889690080227, 0.9120465532501899, 0.6589427250754961, -0.8596802439726668, 1.0385984673375368, 0.5323908109881492, -0.3534725876232792, -1.6189917284967483, 1.0385984673375368, 0.15273506872610845, -0.10036875944858537, 0.5323908109881492, 1.6713580377742714, -0.3534725876232792, -0.8596802439726668, -0.9862321580600137, 0.40583889690080227, 1.2917022955122306, 0.026183154638761537, 0.15273506872610845, -0.4800245017106261, -0.10036875944858537, 1.312368379527112, -0.03165266963608994, 0.0717335649149256, 0.1751197994659411, 1.725913317731174, -0.03165266963608994, -1.3756737187992918, 0.1751197994659411, 2.139458255935236, 0.27850603401695667, -1.2722874842482763, -0.44519760784015205, 2.0360720213842205, 0.8988234413230498, -0.7553563114931986, 0.0717335649149256, 2.139458255935236, 0.48527850311898774, -0.44519760784015205, -1.1689012496972608, 2.0360720213842205, -0.03165266963608994, -0.3418113732891365, -1.1689012496972608, 1.5191408486291431, -0.3418113732891365, -1.3756737187992918, -2.823081002513509, 1.2089821449760965, 0.0717335649149256, -1.2722874842482763, 0.5886647376700033, 1.312368379527112, 0.27850603401695667, -0.7553563114931986, 0.48527850311898774, 2.139458255935236, 0.0717335649149256, -1.2722874842482763, -1.6858324224523384, 0.48527850311898774, 0.27850603401695667, -1.582446187901323, -1.1689012496972608, 0.6920509722210187, -0.44519760784015205, -1.6858324224523384, -1.2722874842482763, 0.8988234413230498, 0.27850603401695667, -1.8926048915543694, -1.2722874842482763, 0.8988234413230498, 0.27850603401695667, -1.995991126105385, -2.2027635952074163, 0.6920509722210187, -0.13503890418710546, -2.0993773606564003, -1.995991126105385, 1.105595910425081, -1.6858324224523384, -0.3418113732891365, -1.0655150151462451, 1.0022096758740653, 0.48527850311898774, -1.0655150151462451, -2.4095360643094472, 1.0022096758740653, -0.9621287805952297, -0.9621287805952297, -1.8926048915543694, 1.2089821449760965, 0.8988234413230498, -1.8926048915543694, -2.4095360643094472, 0.7954372067720343, 0.3818922685679722, -0.5485838423911676, -2.4095360643094472, 0.8988234413230498, -1.2722874842482763, -1.789218657003354], \"xaxis\": \"x\", \"yaxis\": \"y\"}],                        {\"barmode\": \"relative\", \"legend\": {\"title\": {\"text\": \"variable\"}, \"tracegroupgap\": 0}, \"margin\": {\"t\": 60}, \"template\": {\"data\": {\"bar\": [{\"error_x\": {\"color\": \"#2a3f5f\"}, \"error_y\": {\"color\": \"#2a3f5f\"}, \"marker\": {\"line\": {\"color\": \"#E5ECF6\", \"width\": 0.5}}, \"type\": \"bar\"}], \"barpolar\": [{\"marker\": {\"line\": {\"color\": \"#E5ECF6\", \"width\": 0.5}}, \"type\": \"barpolar\"}], \"carpet\": [{\"aaxis\": {\"endlinecolor\": \"#2a3f5f\", \"gridcolor\": \"white\", \"linecolor\": \"white\", \"minorgridcolor\": \"white\", \"startlinecolor\": \"#2a3f5f\"}, \"baxis\": {\"endlinecolor\": \"#2a3f5f\", \"gridcolor\": \"white\", \"linecolor\": \"white\", \"minorgridcolor\": \"white\", \"startlinecolor\": \"#2a3f5f\"}, \"type\": \"carpet\"}], \"choropleth\": [{\"colorbar\": {\"outlinewidth\": 0, \"ticks\": \"\"}, \"type\": \"choropleth\"}], \"contour\": [{\"colorbar\": {\"outlinewidth\": 0, \"ticks\": \"\"}, \"colorscale\": [[0.0, \"#0d0887\"], [0.1111111111111111, \"#46039f\"], [0.2222222222222222, \"#7201a8\"], [0.3333333333333333, \"#9c179e\"], [0.4444444444444444, \"#bd3786\"], [0.5555555555555556, \"#d8576b\"], [0.6666666666666666, \"#ed7953\"], [0.7777777777777778, \"#fb9f3a\"], [0.8888888888888888, \"#fdca26\"], [1.0, \"#f0f921\"]], \"type\": \"contour\"}], \"contourcarpet\": [{\"colorbar\": {\"outlinewidth\": 0, \"ticks\": \"\"}, \"type\": \"contourcarpet\"}], \"heatmap\": [{\"colorbar\": {\"outlinewidth\": 0, \"ticks\": \"\"}, \"colorscale\": [[0.0, \"#0d0887\"], [0.1111111111111111, \"#46039f\"], [0.2222222222222222, \"#7201a8\"], [0.3333333333333333, \"#9c179e\"], [0.4444444444444444, \"#bd3786\"], [0.5555555555555556, \"#d8576b\"], [0.6666666666666666, \"#ed7953\"], [0.7777777777777778, \"#fb9f3a\"], [0.8888888888888888, \"#fdca26\"], [1.0, \"#f0f921\"]], \"type\": \"heatmap\"}], \"heatmapgl\": [{\"colorbar\": {\"outlinewidth\": 0, \"ticks\": \"\"}, \"colorscale\": [[0.0, \"#0d0887\"], [0.1111111111111111, \"#46039f\"], [0.2222222222222222, \"#7201a8\"], [0.3333333333333333, \"#9c179e\"], [0.4444444444444444, \"#bd3786\"], [0.5555555555555556, \"#d8576b\"], [0.6666666666666666, \"#ed7953\"], [0.7777777777777778, \"#fb9f3a\"], [0.8888888888888888, \"#fdca26\"], [1.0, \"#f0f921\"]], \"type\": \"heatmapgl\"}], \"histogram\": [{\"marker\": {\"colorbar\": {\"outlinewidth\": 0, \"ticks\": \"\"}}, \"type\": \"histogram\"}], \"histogram2d\": [{\"colorbar\": {\"outlinewidth\": 0, \"ticks\": \"\"}, \"colorscale\": [[0.0, \"#0d0887\"], [0.1111111111111111, \"#46039f\"], [0.2222222222222222, \"#7201a8\"], [0.3333333333333333, \"#9c179e\"], [0.4444444444444444, \"#bd3786\"], [0.5555555555555556, \"#d8576b\"], [0.6666666666666666, \"#ed7953\"], [0.7777777777777778, \"#fb9f3a\"], [0.8888888888888888, \"#fdca26\"], [1.0, \"#f0f921\"]], \"type\": \"histogram2d\"}], \"histogram2dcontour\": [{\"colorbar\": {\"outlinewidth\": 0, \"ticks\": \"\"}, \"colorscale\": [[0.0, \"#0d0887\"], [0.1111111111111111, \"#46039f\"], [0.2222222222222222, \"#7201a8\"], [0.3333333333333333, \"#9c179e\"], [0.4444444444444444, \"#bd3786\"], [0.5555555555555556, \"#d8576b\"], [0.6666666666666666, \"#ed7953\"], [0.7777777777777778, \"#fb9f3a\"], [0.8888888888888888, \"#fdca26\"], [1.0, \"#f0f921\"]], \"type\": \"histogram2dcontour\"}], \"mesh3d\": [{\"colorbar\": {\"outlinewidth\": 0, \"ticks\": \"\"}, \"type\": \"mesh3d\"}], \"parcoords\": [{\"line\": {\"colorbar\": {\"outlinewidth\": 0, \"ticks\": \"\"}}, \"type\": \"parcoords\"}], \"pie\": [{\"automargin\": true, \"type\": \"pie\"}], \"scatter\": [{\"marker\": {\"colorbar\": {\"outlinewidth\": 0, \"ticks\": \"\"}}, \"type\": \"scatter\"}], \"scatter3d\": [{\"line\": {\"colorbar\": {\"outlinewidth\": 0, \"ticks\": \"\"}}, \"marker\": {\"colorbar\": {\"outlinewidth\": 0, \"ticks\": \"\"}}, \"type\": \"scatter3d\"}], \"scattercarpet\": [{\"marker\": {\"colorbar\": {\"outlinewidth\": 0, \"ticks\": \"\"}}, \"type\": \"scattercarpet\"}], \"scattergeo\": [{\"marker\": {\"colorbar\": {\"outlinewidth\": 0, \"ticks\": \"\"}}, \"type\": \"scattergeo\"}], \"scattergl\": [{\"marker\": {\"colorbar\": {\"outlinewidth\": 0, \"ticks\": \"\"}}, \"type\": \"scattergl\"}], \"scattermapbox\": [{\"marker\": {\"colorbar\": {\"outlinewidth\": 0, \"ticks\": \"\"}}, \"type\": \"scattermapbox\"}], \"scatterpolar\": [{\"marker\": {\"colorbar\": {\"outlinewidth\": 0, \"ticks\": \"\"}}, \"type\": \"scatterpolar\"}], \"scatterpolargl\": [{\"marker\": {\"colorbar\": {\"outlinewidth\": 0, \"ticks\": \"\"}}, \"type\": \"scatterpolargl\"}], \"scatterternary\": [{\"marker\": {\"colorbar\": {\"outlinewidth\": 0, \"ticks\": \"\"}}, \"type\": \"scatterternary\"}], \"surface\": [{\"colorbar\": {\"outlinewidth\": 0, \"ticks\": \"\"}, \"colorscale\": [[0.0, \"#0d0887\"], [0.1111111111111111, \"#46039f\"], [0.2222222222222222, \"#7201a8\"], [0.3333333333333333, \"#9c179e\"], [0.4444444444444444, \"#bd3786\"], [0.5555555555555556, \"#d8576b\"], [0.6666666666666666, \"#ed7953\"], [0.7777777777777778, \"#fb9f3a\"], [0.8888888888888888, \"#fdca26\"], [1.0, \"#f0f921\"]], \"type\": \"surface\"}], \"table\": [{\"cells\": {\"fill\": {\"color\": \"#EBF0F8\"}, \"line\": {\"color\": \"white\"}}, \"header\": {\"fill\": {\"color\": \"#C8D4E3\"}, \"line\": {\"color\": \"white\"}}, \"type\": \"table\"}]}, \"layout\": {\"annotationdefaults\": {\"arrowcolor\": \"#2a3f5f\", \"arrowhead\": 0, \"arrowwidth\": 1}, \"coloraxis\": {\"colorbar\": {\"outlinewidth\": 0, \"ticks\": \"\"}}, \"colorscale\": {\"diverging\": [[0, \"#8e0152\"], [0.1, \"#c51b7d\"], [0.2, \"#de77ae\"], [0.3, \"#f1b6da\"], [0.4, \"#fde0ef\"], [0.5, \"#f7f7f7\"], [0.6, \"#e6f5d0\"], [0.7, \"#b8e186\"], [0.8, \"#7fbc41\"], [0.9, \"#4d9221\"], [1, \"#276419\"]], \"sequential\": [[0.0, \"#0d0887\"], [0.1111111111111111, \"#46039f\"], [0.2222222222222222, \"#7201a8\"], [0.3333333333333333, \"#9c179e\"], [0.4444444444444444, \"#bd3786\"], [0.5555555555555556, \"#d8576b\"], [0.6666666666666666, \"#ed7953\"], [0.7777777777777778, \"#fb9f3a\"], [0.8888888888888888, \"#fdca26\"], [1.0, \"#f0f921\"]], \"sequentialminus\": [[0.0, \"#0d0887\"], [0.1111111111111111, \"#46039f\"], [0.2222222222222222, \"#7201a8\"], [0.3333333333333333, \"#9c179e\"], [0.4444444444444444, \"#bd3786\"], [0.5555555555555556, \"#d8576b\"], [0.6666666666666666, \"#ed7953\"], [0.7777777777777778, \"#fb9f3a\"], [0.8888888888888888, \"#fdca26\"], [1.0, \"#f0f921\"]]}, \"colorway\": [\"#636efa\", \"#EF553B\", \"#00cc96\", \"#ab63fa\", \"#FFA15A\", \"#19d3f3\", \"#FF6692\", \"#B6E880\", \"#FF97FF\", \"#FECB52\"], \"font\": {\"color\": \"#2a3f5f\"}, \"geo\": {\"bgcolor\": \"white\", \"lakecolor\": \"white\", \"landcolor\": \"#E5ECF6\", \"showlakes\": true, \"showland\": true, \"subunitcolor\": \"white\"}, \"hoverlabel\": {\"align\": \"left\"}, \"hovermode\": \"closest\", \"mapbox\": {\"style\": \"light\"}, \"paper_bgcolor\": \"white\", \"plot_bgcolor\": \"#E5ECF6\", \"polar\": {\"angularaxis\": {\"gridcolor\": \"white\", \"linecolor\": \"white\", \"ticks\": \"\"}, \"bgcolor\": \"#E5ECF6\", \"radialaxis\": {\"gridcolor\": \"white\", \"linecolor\": \"white\", \"ticks\": \"\"}}, \"scene\": {\"xaxis\": {\"backgroundcolor\": \"#E5ECF6\", \"gridcolor\": \"white\", \"gridwidth\": 2, \"linecolor\": \"white\", \"showbackground\": true, \"ticks\": \"\", \"zerolinecolor\": \"white\"}, \"yaxis\": {\"backgroundcolor\": \"#E5ECF6\", \"gridcolor\": \"white\", \"gridwidth\": 2, \"linecolor\": \"white\", \"showbackground\": true, \"ticks\": \"\", \"zerolinecolor\": \"white\"}, \"zaxis\": {\"backgroundcolor\": \"#E5ECF6\", \"gridcolor\": \"white\", \"gridwidth\": 2, \"linecolor\": \"white\", \"showbackground\": true, \"ticks\": \"\", \"zerolinecolor\": \"white\"}}, \"shapedefaults\": {\"line\": {\"color\": \"#2a3f5f\"}}, \"ternary\": {\"aaxis\": {\"gridcolor\": \"white\", \"linecolor\": \"white\", \"ticks\": \"\"}, \"baxis\": {\"gridcolor\": \"white\", \"linecolor\": \"white\", \"ticks\": \"\"}, \"bgcolor\": \"#E5ECF6\", \"caxis\": {\"gridcolor\": \"white\", \"linecolor\": \"white\", \"ticks\": \"\"}}, \"title\": {\"x\": 0.05}, \"xaxis\": {\"automargin\": true, \"gridcolor\": \"white\", \"linecolor\": \"white\", \"ticks\": \"\", \"title\": {\"standoff\": 15}, \"zerolinecolor\": \"white\", \"zerolinewidth\": 2}, \"yaxis\": {\"automargin\": true, \"gridcolor\": \"white\", \"linecolor\": \"white\", \"ticks\": \"\", \"title\": {\"standoff\": 15}, \"zerolinecolor\": \"white\", \"zerolinewidth\": 2}}}, \"xaxis\": {\"anchor\": \"y\", \"domain\": [0.0, 1.0], \"title\": {\"text\": \"value\"}}, \"yaxis\": {\"anchor\": \"x\", \"domain\": [0.0, 1.0], \"title\": {\"text\": \"count\"}}},                        {\"responsive\": true}                    ).then(function(){\n",
       "                            \n",
       "var gd = document.getElementById('35bf58f0-9615-4493-a3d2-fee0fbb4f6a4');\n",
       "var x = new MutationObserver(function (mutations, observer) {{\n",
       "        var display = window.getComputedStyle(gd).display;\n",
       "        if (!display || display === 'none') {{\n",
       "            console.log([gd, 'removed!']);\n",
       "            Plotly.purge(gd);\n",
       "            observer.disconnect();\n",
       "        }}\n",
       "}});\n",
       "\n",
       "// Listen for the removal of the full notebook cells\n",
       "var notebookContainer = gd.closest('#notebook-container');\n",
       "if (notebookContainer) {{\n",
       "    x.observe(notebookContainer, {childList: true});\n",
       "}}\n",
       "\n",
       "// Listen for the clearing of the current output cell\n",
       "var outputEl = gd.closest('.output');\n",
       "if (outputEl) {{\n",
       "    x.observe(outputEl, {childList: true});\n",
       "}}\n",
       "\n",
       "                        })                };                });            </script>        </div>"
      ]
     },
     "metadata": {},
     "output_type": "display_data"
    }
   ],
   "source": [
    "px.histogram(df[\"Total: \"])"
   ]
  },
  {
   "cell_type": "markdown",
   "metadata": {},
   "source": [
    "Each of the total histogram of residuals look like they are approximately normal. When we look at the individual sharks they do look like they are left skewed but we are going to say that this assumption passes and we can move on."
   ]
  },
  {
   "cell_type": "markdown",
   "metadata": {},
   "source": [
    "## 2. Mean of Residuals needs to be 0"
   ]
  },
  {
   "cell_type": "code",
   "execution_count": 276,
   "metadata": {},
   "outputs": [
    {
     "data": {
      "text/plain": [
       "Ross       -1.140502e-16\n",
       "Chandler    1.918391e-16\n",
       "BT1         1.138105e-16\n",
       "BT2        -6.641060e-17\n",
       "BT3         1.120362e-16\n",
       "BT4         9.479987e-17\n",
       "BT5         2.846856e-16\n",
       "GR1         4.705110e-16\n",
       "GR2         1.107682e-16\n",
       "GR3        -5.385979e-17\n",
       "GR4         1.582766e-16\n",
       "GR5        -2.342393e-16\n",
       "Total:      2.025536e-17\n",
       "All_GR     -6.605446e-18\n",
       "All_BT      2.495455e-17\n",
       "All_SS      4.552167e-17\n",
       "male       -1.442145e-16\n",
       "female      2.703069e-16\n",
       "dtype: float64"
      ]
     },
     "execution_count": 276,
     "metadata": {},
     "output_type": "execute_result"
    }
   ],
   "source": [
    "df.mean()"
   ]
  },
  {
   "cell_type": "code",
   "execution_count": 275,
   "metadata": {
    "scrolled": true
   },
   "outputs": [
    {
     "data": {
      "text/plain": [
       "Ross       -0.079567\n",
       "Chandler   -0.428786\n",
       "BT1        -0.328122\n",
       "BT2        -0.605772\n",
       "BT3        -0.106215\n",
       "BT4        -0.678622\n",
       "BT5        -0.496606\n",
       "GR1        -0.195404\n",
       "GR2        -0.248215\n",
       "GR3         0.068648\n",
       "GR4        -0.233730\n",
       "GR5        -0.591610\n",
       "Total:     -0.622686\n",
       "All_GR     -0.347461\n",
       "All_BT     -0.677115\n",
       "All_SS     -0.315772\n",
       "male       -0.468966\n",
       "female     -0.455556\n",
       "dtype: float64"
      ]
     },
     "execution_count": 275,
     "metadata": {},
     "output_type": "execute_result"
    }
   ],
   "source": [
    "df2.mean()"
   ]
  },
  {
   "cell_type": "code",
   "execution_count": 279,
   "metadata": {},
   "outputs": [
    {
     "data": {
      "text/plain": [
       "Ross       -0.079840\n",
       "Chandler    0.549911\n",
       "BT1         0.715070\n",
       "BT2         0.248774\n",
       "BT3         0.824309\n",
       "BT4         0.268131\n",
       "BT5         0.079594\n",
       "GR1         0.298590\n",
       "GR2         0.195506\n",
       "GR3         0.594756\n",
       "GR4         0.127269\n",
       "GR5        -0.295701\n",
       "Total:      0.449838\n",
       "All_GR      0.307144\n",
       "All_BT      0.629189\n",
       "All_SS      0.214629\n",
       "male        0.314832\n",
       "female      0.508242\n",
       "dtype: float64"
      ]
     },
     "execution_count": 279,
     "metadata": {},
     "output_type": "execute_result"
    }
   ],
   "source": [
    "df3.mean()"
   ]
  },
  {
   "cell_type": "markdown",
   "metadata": {},
   "source": [
    "All of the residuals are pretty close to having residuals of 0 so we are good on this assumption"
   ]
  },
  {
   "cell_type": "markdown",
   "metadata": {},
   "source": [
    "## 3. Do the samples have equal variances?"
   ]
  },
  {
   "cell_type": "markdown",
   "metadata": {},
   "source": [
    "### Check Corona Vs. Non-Corona"
   ]
  },
  {
   "cell_type": "code",
   "execution_count": 105,
   "metadata": {},
   "outputs": [
    {
     "data": {
      "text/html": [
       "<div>\n",
       "<style scoped>\n",
       "    .dataframe tbody tr th:only-of-type {\n",
       "        vertical-align: middle;\n",
       "    }\n",
       "\n",
       "    .dataframe tbody tr th {\n",
       "        vertical-align: top;\n",
       "    }\n",
       "\n",
       "    .dataframe thead th {\n",
       "        text-align: right;\n",
       "    }\n",
       "</style>\n",
       "<table border=\"1\" class=\"dataframe\">\n",
       "  <thead>\n",
       "    <tr style=\"text-align: right;\">\n",
       "      <th></th>\n",
       "      <th>Ross</th>\n",
       "      <th>Chandler</th>\n",
       "      <th>BT1</th>\n",
       "      <th>BT2</th>\n",
       "      <th>BT3</th>\n",
       "      <th>BT4</th>\n",
       "      <th>BT5</th>\n",
       "      <th>GR1</th>\n",
       "      <th>GR2</th>\n",
       "      <th>GR3</th>\n",
       "      <th>GR4</th>\n",
       "      <th>GR5</th>\n",
       "      <th>Total:</th>\n",
       "      <th>All_GR</th>\n",
       "      <th>All_BT</th>\n",
       "      <th>All_SS</th>\n",
       "      <th>male</th>\n",
       "      <th>female</th>\n",
       "    </tr>\n",
       "  </thead>\n",
       "  <tbody>\n",
       "    <tr>\n",
       "      <th>0</th>\n",
       "      <td>False</td>\n",
       "      <td>False</td>\n",
       "      <td>False</td>\n",
       "      <td>False</td>\n",
       "      <td>False</td>\n",
       "      <td>False</td>\n",
       "      <td>False</td>\n",
       "      <td>False</td>\n",
       "      <td>False</td>\n",
       "      <td>False</td>\n",
       "      <td>False</td>\n",
       "      <td>False</td>\n",
       "      <td>False</td>\n",
       "      <td>False</td>\n",
       "      <td>False</td>\n",
       "      <td>False</td>\n",
       "      <td>False</td>\n",
       "      <td>False</td>\n",
       "    </tr>\n",
       "  </tbody>\n",
       "</table>\n",
       "</div>"
      ],
      "text/plain": [
       "    Ross  Chandler    BT1    BT2    BT3    BT4    BT5    GR1    GR2    GR3  \\\n",
       "0  False     False  False  False  False  False  False  False  False  False   \n",
       "\n",
       "     GR4    GR5  Total:   All_GR  All_BT  All_SS   male  female  \n",
       "0  False  False    False   False   False   False  False   False  "
      ]
     },
     "execution_count": 105,
     "metadata": {},
     "output_type": "execute_result"
    }
   ],
   "source": [
    "df = pd.DataFrame()\n",
    "for column in corona_eat.drop(columns = \"Etc. Comments\").iloc[:,1:]:\n",
    "    numbers = []\n",
    "    corona = corona_eat[column]\n",
    "    opened = open_eat[column]\n",
    "    if np.std(corona)>np.std(opened):\n",
    "        num = np.std(corona)/np.std(opened)\n",
    "    else:\n",
    "        num = np.std(opened)/np.std(corona)\n",
    "    numbers.append(num)\n",
    "    df = pd.concat([df,pd.Series(numbers,name = column)], axis = 1)\n",
    "df >2\n",
    "    "
   ]
  },
  {
   "cell_type": "code",
   "execution_count": 107,
   "metadata": {},
   "outputs": [
    {
     "data": {
      "text/html": [
       "<div>\n",
       "<style scoped>\n",
       "    .dataframe tbody tr th:only-of-type {\n",
       "        vertical-align: middle;\n",
       "    }\n",
       "\n",
       "    .dataframe tbody tr th {\n",
       "        vertical-align: top;\n",
       "    }\n",
       "\n",
       "    .dataframe thead th {\n",
       "        text-align: right;\n",
       "    }\n",
       "</style>\n",
       "<table border=\"1\" class=\"dataframe\">\n",
       "  <thead>\n",
       "    <tr style=\"text-align: right;\">\n",
       "      <th></th>\n",
       "      <th>Ross</th>\n",
       "      <th>Chandler</th>\n",
       "      <th>BT1</th>\n",
       "      <th>BT2</th>\n",
       "      <th>BT3</th>\n",
       "      <th>BT4</th>\n",
       "      <th>BT5</th>\n",
       "      <th>GR1</th>\n",
       "      <th>GR2</th>\n",
       "      <th>GR3</th>\n",
       "      <th>GR4</th>\n",
       "      <th>GR5</th>\n",
       "      <th>Total:</th>\n",
       "      <th>All_GR</th>\n",
       "      <th>All_BT</th>\n",
       "      <th>All_SS</th>\n",
       "      <th>male</th>\n",
       "      <th>female</th>\n",
       "    </tr>\n",
       "  </thead>\n",
       "  <tbody>\n",
       "    <tr>\n",
       "      <th>0</th>\n",
       "      <td>False</td>\n",
       "      <td>False</td>\n",
       "      <td>False</td>\n",
       "      <td>False</td>\n",
       "      <td>False</td>\n",
       "      <td>False</td>\n",
       "      <td>False</td>\n",
       "      <td>False</td>\n",
       "      <td>False</td>\n",
       "      <td>False</td>\n",
       "      <td>False</td>\n",
       "      <td>False</td>\n",
       "      <td>False</td>\n",
       "      <td>False</td>\n",
       "      <td>False</td>\n",
       "      <td>False</td>\n",
       "      <td>False</td>\n",
       "      <td>False</td>\n",
       "    </tr>\n",
       "  </tbody>\n",
       "</table>\n",
       "</div>"
      ],
      "text/plain": [
       "    Ross  Chandler    BT1    BT2    BT3    BT4    BT5    GR1    GR2    GR3  \\\n",
       "0  False     False  False  False  False  False  False  False  False  False   \n",
       "\n",
       "     GR4    GR5  Total:   All_GR  All_BT  All_SS   male  female  \n",
       "0  False  False    False   False   False   False  False   False  "
      ]
     },
     "execution_count": 107,
     "metadata": {},
     "output_type": "execute_result"
    }
   ],
   "source": [
    "df = pd.DataFrame()\n",
    "for column in corona_drop.iloc[:,1:]:\n",
    "    numbers = []\n",
    "    corona = corona_drop[column]\n",
    "    opened = open_drop[column]\n",
    "    if np.std(corona)>np.std(opened):\n",
    "        num = np.std(corona)/np.std(opened)\n",
    "    else:\n",
    "        num = np.std(opened)/np.std(corona)\n",
    "    numbers.append(num)\n",
    "    df = pd.concat([df,pd.Series(numbers,name = column)], axis = 1)\n",
    "df >2\n",
    "    "
   ]
  },
  {
   "cell_type": "code",
   "execution_count": 110,
   "metadata": {},
   "outputs": [
    {
     "data": {
      "text/html": [
       "<div>\n",
       "<style scoped>\n",
       "    .dataframe tbody tr th:only-of-type {\n",
       "        vertical-align: middle;\n",
       "    }\n",
       "\n",
       "    .dataframe tbody tr th {\n",
       "        vertical-align: top;\n",
       "    }\n",
       "\n",
       "    .dataframe thead th {\n",
       "        text-align: right;\n",
       "    }\n",
       "</style>\n",
       "<table border=\"1\" class=\"dataframe\">\n",
       "  <thead>\n",
       "    <tr style=\"text-align: right;\">\n",
       "      <th></th>\n",
       "      <th>Ross</th>\n",
       "      <th>Chandler</th>\n",
       "      <th>BT1</th>\n",
       "      <th>BT2</th>\n",
       "      <th>BT3</th>\n",
       "      <th>BT4</th>\n",
       "      <th>BT5</th>\n",
       "      <th>GR1</th>\n",
       "      <th>GR2</th>\n",
       "      <th>GR3</th>\n",
       "      <th>GR4</th>\n",
       "      <th>GR5</th>\n",
       "      <th>Total:</th>\n",
       "      <th>All_GR</th>\n",
       "      <th>All_BT</th>\n",
       "      <th>All_SS</th>\n",
       "      <th>male</th>\n",
       "      <th>female</th>\n",
       "    </tr>\n",
       "  </thead>\n",
       "  <tbody>\n",
       "    <tr>\n",
       "      <th>0</th>\n",
       "      <td>False</td>\n",
       "      <td>False</td>\n",
       "      <td>False</td>\n",
       "      <td>False</td>\n",
       "      <td>False</td>\n",
       "      <td>False</td>\n",
       "      <td>False</td>\n",
       "      <td>False</td>\n",
       "      <td>False</td>\n",
       "      <td>False</td>\n",
       "      <td>False</td>\n",
       "      <td>False</td>\n",
       "      <td>False</td>\n",
       "      <td>False</td>\n",
       "      <td>False</td>\n",
       "      <td>False</td>\n",
       "      <td>False</td>\n",
       "      <td>False</td>\n",
       "    </tr>\n",
       "  </tbody>\n",
       "</table>\n",
       "</div>"
      ],
      "text/plain": [
       "    Ross  Chandler    BT1    BT2    BT3    BT4    BT5    GR1    GR2    GR3  \\\n",
       "0  False     False  False  False  False  False  False  False  False  False   \n",
       "\n",
       "     GR4    GR5  Total:   All_GR  All_BT  All_SS   male  female  \n",
       "0  False  False    False   False   False   False  False   False  "
      ]
     },
     "execution_count": 110,
     "metadata": {},
     "output_type": "execute_result"
    }
   ],
   "source": [
    "\n",
    "df = pd.DataFrame()\n",
    "for column in corona_target.iloc[:,1:]:\n",
    "    numbers = []\n",
    "    corona = corona_target[column]\n",
    "    opened = open_target[column]\n",
    "    if np.std(corona)>np.std(opened):\n",
    "        num = np.std(corona)/np.std(opened)\n",
    "    else:\n",
    "        num = np.std(opened)/np.std(corona)\n",
    "    numbers.append(num)\n",
    "    df = pd.concat([df,pd.Series(numbers,name = column)], axis = 1)\n",
    "df > 2\n",
    "    \n"
   ]
  },
  {
   "cell_type": "markdown",
   "metadata": {},
   "source": [
    "### Check non-light training vs. all light-training"
   ]
  },
  {
   "cell_type": "code",
   "execution_count": 116,
   "metadata": {},
   "outputs": [
    {
     "data": {
      "text/html": [
       "<div>\n",
       "<style scoped>\n",
       "    .dataframe tbody tr th:only-of-type {\n",
       "        vertical-align: middle;\n",
       "    }\n",
       "\n",
       "    .dataframe tbody tr th {\n",
       "        vertical-align: top;\n",
       "    }\n",
       "\n",
       "    .dataframe thead th {\n",
       "        text-align: right;\n",
       "    }\n",
       "</style>\n",
       "<table border=\"1\" class=\"dataframe\">\n",
       "  <thead>\n",
       "    <tr style=\"text-align: right;\">\n",
       "      <th></th>\n",
       "      <th>Ross</th>\n",
       "      <th>Chandler</th>\n",
       "      <th>BT1</th>\n",
       "      <th>BT2</th>\n",
       "      <th>BT3</th>\n",
       "      <th>BT4</th>\n",
       "      <th>BT5</th>\n",
       "      <th>GR1</th>\n",
       "      <th>GR2</th>\n",
       "      <th>GR3</th>\n",
       "      <th>GR4</th>\n",
       "      <th>GR5</th>\n",
       "      <th>Total:</th>\n",
       "      <th>All_GR</th>\n",
       "      <th>All_BT</th>\n",
       "      <th>All_SS</th>\n",
       "      <th>male</th>\n",
       "      <th>female</th>\n",
       "    </tr>\n",
       "  </thead>\n",
       "  <tbody>\n",
       "    <tr>\n",
       "      <th>0</th>\n",
       "      <td>False</td>\n",
       "      <td>False</td>\n",
       "      <td>False</td>\n",
       "      <td>False</td>\n",
       "      <td>False</td>\n",
       "      <td>False</td>\n",
       "      <td>False</td>\n",
       "      <td>False</td>\n",
       "      <td>False</td>\n",
       "      <td>False</td>\n",
       "      <td>False</td>\n",
       "      <td>False</td>\n",
       "      <td>False</td>\n",
       "      <td>False</td>\n",
       "      <td>False</td>\n",
       "      <td>False</td>\n",
       "      <td>False</td>\n",
       "      <td>False</td>\n",
       "    </tr>\n",
       "  </tbody>\n",
       "</table>\n",
       "</div>"
      ],
      "text/plain": [
       "    Ross  Chandler    BT1    BT2    BT3    BT4    BT5    GR1    GR2    GR3  \\\n",
       "0  False     False  False  False  False  False  False  False  False  False   \n",
       "\n",
       "     GR4    GR5  Total:   All_GR  All_BT  All_SS   male  female  \n",
       "0  False  False    False   False   False   False  False   False  "
      ]
     },
     "execution_count": 116,
     "metadata": {},
     "output_type": "execute_result"
    }
   ],
   "source": [
    "df = pd.DataFrame()\n",
    "for column in light_eat.drop(columns = \"Etc. Comments\").iloc[:,1:]:\n",
    "    numbers = []\n",
    "    light = light_eat[column]\n",
    "    no_light = no_light_eat[column]\n",
    "    if np.std(light)>np.std(no_light):\n",
    "        num = np.std(light)/np.std(no_light)\n",
    "    else:\n",
    "        num = np.std(no_light)/np.std(light)\n",
    "    numbers.append(num)\n",
    "    df = pd.concat([df,pd.Series(numbers,name = column)], axis = 1)\n",
    "df>2\n",
    "    "
   ]
  },
  {
   "cell_type": "code",
   "execution_count": 122,
   "metadata": {},
   "outputs": [
    {
     "data": {
      "text/html": [
       "<div>\n",
       "<style scoped>\n",
       "    .dataframe tbody tr th:only-of-type {\n",
       "        vertical-align: middle;\n",
       "    }\n",
       "\n",
       "    .dataframe tbody tr th {\n",
       "        vertical-align: top;\n",
       "    }\n",
       "\n",
       "    .dataframe thead th {\n",
       "        text-align: right;\n",
       "    }\n",
       "</style>\n",
       "<table border=\"1\" class=\"dataframe\">\n",
       "  <thead>\n",
       "    <tr style=\"text-align: right;\">\n",
       "      <th></th>\n",
       "      <th>Ross</th>\n",
       "      <th>Chandler</th>\n",
       "      <th>BT1</th>\n",
       "      <th>BT2</th>\n",
       "      <th>BT3</th>\n",
       "      <th>BT4</th>\n",
       "      <th>BT5</th>\n",
       "      <th>GR1</th>\n",
       "      <th>GR2</th>\n",
       "      <th>GR3</th>\n",
       "      <th>GR4</th>\n",
       "      <th>GR5</th>\n",
       "      <th>Total:</th>\n",
       "      <th>All_GR</th>\n",
       "      <th>All_BT</th>\n",
       "      <th>All_SS</th>\n",
       "      <th>male</th>\n",
       "      <th>female</th>\n",
       "    </tr>\n",
       "  </thead>\n",
       "  <tbody>\n",
       "    <tr>\n",
       "      <th>0</th>\n",
       "      <td>False</td>\n",
       "      <td>False</td>\n",
       "      <td>True</td>\n",
       "      <td>False</td>\n",
       "      <td>False</td>\n",
       "      <td>False</td>\n",
       "      <td>False</td>\n",
       "      <td>True</td>\n",
       "      <td>False</td>\n",
       "      <td>True</td>\n",
       "      <td>False</td>\n",
       "      <td>False</td>\n",
       "      <td>False</td>\n",
       "      <td>True</td>\n",
       "      <td>False</td>\n",
       "      <td>False</td>\n",
       "      <td>True</td>\n",
       "      <td>False</td>\n",
       "    </tr>\n",
       "  </tbody>\n",
       "</table>\n",
       "</div>"
      ],
      "text/plain": [
       "    Ross  Chandler   BT1    BT2    BT3    BT4    BT5   GR1    GR2   GR3  \\\n",
       "0  False     False  True  False  False  False  False  True  False  True   \n",
       "\n",
       "     GR4    GR5  Total:   All_GR  All_BT  All_SS  male  female  \n",
       "0  False  False    False    True   False   False  True   False  "
      ]
     },
     "execution_count": 122,
     "metadata": {},
     "output_type": "execute_result"
    }
   ],
   "source": [
    "df = pd.DataFrame()\n",
    "for column in light_drops.iloc[:,1:]:\n",
    "    numbers = []\n",
    "    light = light_drops[column]\n",
    "    no_light = no_light_drops[column]\n",
    "    if np.std(light)>np.std(no_light):\n",
    "        num = np.std(light)/np.std(no_light)\n",
    "    else:\n",
    "        num = np.std(no_light)/np.std(light)\n",
    "    numbers.append(num)\n",
    "    df = pd.concat([df,pd.Series(numbers,name = column)], axis = 1)\n",
    "df >2\n",
    "    "
   ]
  },
  {
   "cell_type": "markdown",
   "metadata": {},
   "source": [
    "Looks like BT1, GR1, GR3, All_GR, and male are all unequal variances. We will need to make sure that we are doing the Welch T-test for these tests."
   ]
  },
  {
   "cell_type": "code",
   "execution_count": 125,
   "metadata": {},
   "outputs": [
    {
     "data": {
      "text/html": [
       "<div>\n",
       "<style scoped>\n",
       "    .dataframe tbody tr th:only-of-type {\n",
       "        vertical-align: middle;\n",
       "    }\n",
       "\n",
       "    .dataframe tbody tr th {\n",
       "        vertical-align: top;\n",
       "    }\n",
       "\n",
       "    .dataframe thead th {\n",
       "        text-align: right;\n",
       "    }\n",
       "</style>\n",
       "<table border=\"1\" class=\"dataframe\">\n",
       "  <thead>\n",
       "    <tr style=\"text-align: right;\">\n",
       "      <th></th>\n",
       "      <th>Ross</th>\n",
       "      <th>Chandler</th>\n",
       "      <th>BT1</th>\n",
       "      <th>BT2</th>\n",
       "      <th>BT3</th>\n",
       "      <th>BT4</th>\n",
       "      <th>BT5</th>\n",
       "      <th>GR1</th>\n",
       "      <th>GR2</th>\n",
       "      <th>GR3</th>\n",
       "      <th>GR4</th>\n",
       "      <th>GR5</th>\n",
       "      <th>Total:</th>\n",
       "      <th>All_GR</th>\n",
       "      <th>All_BT</th>\n",
       "      <th>All_SS</th>\n",
       "      <th>male</th>\n",
       "      <th>female</th>\n",
       "    </tr>\n",
       "  </thead>\n",
       "  <tbody>\n",
       "    <tr>\n",
       "      <th>0</th>\n",
       "      <td>True</td>\n",
       "      <td>True</td>\n",
       "      <td>True</td>\n",
       "      <td>False</td>\n",
       "      <td>True</td>\n",
       "      <td>True</td>\n",
       "      <td>True</td>\n",
       "      <td>True</td>\n",
       "      <td>True</td>\n",
       "      <td>True</td>\n",
       "      <td>True</td>\n",
       "      <td>True</td>\n",
       "      <td>True</td>\n",
       "      <td>True</td>\n",
       "      <td>True</td>\n",
       "      <td>True</td>\n",
       "      <td>True</td>\n",
       "      <td>True</td>\n",
       "    </tr>\n",
       "  </tbody>\n",
       "</table>\n",
       "</div>"
      ],
      "text/plain": [
       "   Ross  Chandler   BT1    BT2   BT3   BT4   BT5   GR1   GR2   GR3   GR4  \\\n",
       "0  True      True  True  False  True  True  True  True  True  True  True   \n",
       "\n",
       "    GR5  Total:   All_GR  All_BT  All_SS  male  female  \n",
       "0  True     True    True    True    True  True    True  "
      ]
     },
     "execution_count": 125,
     "metadata": {},
     "output_type": "execute_result"
    }
   ],
   "source": [
    "df = pd.DataFrame()\n",
    "for column in light_targets.iloc[:,1:]:\n",
    "    numbers = []\n",
    "    light = light_targets[column]\n",
    "    no_light = no_light_targets[column]\n",
    "    if np.std(light)>np.std(no_light):\n",
    "        num = np.std(light)/np.std(no_light)\n",
    "    else:\n",
    "        num = np.std(no_light)/np.std(light)\n",
    "    numbers.append(num)\n",
    "    df = pd.concat([df,pd.Series(numbers,name = column)], axis = 1)\n",
    "df>2\n",
    "    "
   ]
  },
  {
   "cell_type": "markdown",
   "metadata": {},
   "source": [
    "Looks like all of them except BT2 have unequal variances. We will need to make sure we do the Welch T-test."
   ]
  },
  {
   "cell_type": "markdown",
   "metadata": {},
   "source": [
    "### Check non light training vs. first 40 days of light training variances"
   ]
  },
  {
   "cell_type": "code",
   "execution_count": 139,
   "metadata": {},
   "outputs": [
    {
     "data": {
      "text/html": [
       "<div>\n",
       "<style scoped>\n",
       "    .dataframe tbody tr th:only-of-type {\n",
       "        vertical-align: middle;\n",
       "    }\n",
       "\n",
       "    .dataframe tbody tr th {\n",
       "        vertical-align: top;\n",
       "    }\n",
       "\n",
       "    .dataframe thead th {\n",
       "        text-align: right;\n",
       "    }\n",
       "</style>\n",
       "<table border=\"1\" class=\"dataframe\">\n",
       "  <thead>\n",
       "    <tr style=\"text-align: right;\">\n",
       "      <th></th>\n",
       "      <th>Ross</th>\n",
       "      <th>Chandler</th>\n",
       "      <th>BT1</th>\n",
       "      <th>BT2</th>\n",
       "      <th>BT3</th>\n",
       "      <th>BT4</th>\n",
       "      <th>BT5</th>\n",
       "      <th>GR1</th>\n",
       "      <th>GR2</th>\n",
       "      <th>GR3</th>\n",
       "      <th>GR4</th>\n",
       "      <th>GR5</th>\n",
       "      <th>Total:</th>\n",
       "      <th>All_GR</th>\n",
       "      <th>All_BT</th>\n",
       "      <th>All_SS</th>\n",
       "      <th>male</th>\n",
       "      <th>female</th>\n",
       "    </tr>\n",
       "  </thead>\n",
       "  <tbody>\n",
       "    <tr>\n",
       "      <th>0</th>\n",
       "      <td>False</td>\n",
       "      <td>False</td>\n",
       "      <td>False</td>\n",
       "      <td>False</td>\n",
       "      <td>False</td>\n",
       "      <td>False</td>\n",
       "      <td>False</td>\n",
       "      <td>False</td>\n",
       "      <td>False</td>\n",
       "      <td>False</td>\n",
       "      <td>False</td>\n",
       "      <td>False</td>\n",
       "      <td>False</td>\n",
       "      <td>False</td>\n",
       "      <td>False</td>\n",
       "      <td>False</td>\n",
       "      <td>False</td>\n",
       "      <td>False</td>\n",
       "    </tr>\n",
       "  </tbody>\n",
       "</table>\n",
       "</div>"
      ],
      "text/plain": [
       "    Ross  Chandler    BT1    BT2    BT3    BT4    BT5    GR1    GR2    GR3  \\\n",
       "0  False     False  False  False  False  False  False  False  False  False   \n",
       "\n",
       "     GR4    GR5  Total:   All_GR  All_BT  All_SS   male  female  \n",
       "0  False  False    False   False   False   False  False   False  "
      ]
     },
     "execution_count": 139,
     "metadata": {},
     "output_type": "execute_result"
    }
   ],
   "source": [
    "df = pd.DataFrame()\n",
    "for column in no_light_eat.drop(columns = \"Etc. Comments\").iloc[:,1:]:\n",
    "    numbers = []\n",
    "    light = first_40_eat[column]\n",
    "    no_light = no_light_eat[column]\n",
    "    if np.std(light)>np.std(no_light):\n",
    "        num = np.std(light)/np.std(no_light)\n",
    "    else:\n",
    "        num = np.std(no_light)/np.std(light)\n",
    "    numbers.append(num)\n",
    "    df = pd.concat([df,pd.Series(numbers,name = column)], axis = 1)\n",
    "df>2\n",
    "    "
   ]
  },
  {
   "cell_type": "code",
   "execution_count": 127,
   "metadata": {},
   "outputs": [
    {
     "data": {
      "text/html": [
       "<div>\n",
       "<style scoped>\n",
       "    .dataframe tbody tr th:only-of-type {\n",
       "        vertical-align: middle;\n",
       "    }\n",
       "\n",
       "    .dataframe tbody tr th {\n",
       "        vertical-align: top;\n",
       "    }\n",
       "\n",
       "    .dataframe thead th {\n",
       "        text-align: right;\n",
       "    }\n",
       "</style>\n",
       "<table border=\"1\" class=\"dataframe\">\n",
       "  <thead>\n",
       "    <tr style=\"text-align: right;\">\n",
       "      <th></th>\n",
       "      <th>Ross</th>\n",
       "      <th>Chandler</th>\n",
       "      <th>BT1</th>\n",
       "      <th>BT2</th>\n",
       "      <th>BT3</th>\n",
       "      <th>BT4</th>\n",
       "      <th>BT5</th>\n",
       "      <th>GR1</th>\n",
       "      <th>GR2</th>\n",
       "      <th>GR3</th>\n",
       "      <th>GR4</th>\n",
       "      <th>GR5</th>\n",
       "      <th>Total:</th>\n",
       "      <th>All_GR</th>\n",
       "      <th>All_BT</th>\n",
       "      <th>All_SS</th>\n",
       "      <th>male</th>\n",
       "      <th>female</th>\n",
       "    </tr>\n",
       "  </thead>\n",
       "  <tbody>\n",
       "    <tr>\n",
       "      <th>0</th>\n",
       "      <td>False</td>\n",
       "      <td>False</td>\n",
       "      <td>False</td>\n",
       "      <td>False</td>\n",
       "      <td>False</td>\n",
       "      <td>False</td>\n",
       "      <td>False</td>\n",
       "      <td>True</td>\n",
       "      <td>True</td>\n",
       "      <td>False</td>\n",
       "      <td>False</td>\n",
       "      <td>False</td>\n",
       "      <td>False</td>\n",
       "      <td>True</td>\n",
       "      <td>False</td>\n",
       "      <td>False</td>\n",
       "      <td>False</td>\n",
       "      <td>False</td>\n",
       "    </tr>\n",
       "  </tbody>\n",
       "</table>\n",
       "</div>"
      ],
      "text/plain": [
       "    Ross  Chandler    BT1    BT2    BT3    BT4    BT5   GR1   GR2    GR3  \\\n",
       "0  False     False  False  False  False  False  False  True  True  False   \n",
       "\n",
       "     GR4    GR5  Total:   All_GR  All_BT  All_SS   male  female  \n",
       "0  False  False    False    True   False   False  False   False  "
      ]
     },
     "execution_count": 127,
     "metadata": {},
     "output_type": "execute_result"
    }
   ],
   "source": [
    "df = pd.DataFrame()\n",
    "for column in no_light_drops.iloc[:,1:]:\n",
    "    numbers = []\n",
    "    light = first_40_drops[column]\n",
    "    no_light = no_light_drops[column]\n",
    "    if np.std(light)>np.std(no_light):\n",
    "        num = np.std(light)/np.std(no_light)\n",
    "    else:\n",
    "        num = np.std(no_light)/np.std(light)\n",
    "    numbers.append(num)\n",
    "    df = pd.concat([df,pd.Series(numbers,name = column)], axis = 1)\n",
    "df >2\n",
    "    "
   ]
  },
  {
   "cell_type": "markdown",
   "metadata": {},
   "source": [
    "Looks like GR1, GR2, and All_GR have unequal variances in these tests"
   ]
  },
  {
   "cell_type": "code",
   "execution_count": 130,
   "metadata": {},
   "outputs": [
    {
     "data": {
      "text/html": [
       "<div>\n",
       "<style scoped>\n",
       "    .dataframe tbody tr th:only-of-type {\n",
       "        vertical-align: middle;\n",
       "    }\n",
       "\n",
       "    .dataframe tbody tr th {\n",
       "        vertical-align: top;\n",
       "    }\n",
       "\n",
       "    .dataframe thead th {\n",
       "        text-align: right;\n",
       "    }\n",
       "</style>\n",
       "<table border=\"1\" class=\"dataframe\">\n",
       "  <thead>\n",
       "    <tr style=\"text-align: right;\">\n",
       "      <th></th>\n",
       "      <th>Ross</th>\n",
       "      <th>Chandler</th>\n",
       "      <th>BT1</th>\n",
       "      <th>BT2</th>\n",
       "      <th>BT3</th>\n",
       "      <th>BT4</th>\n",
       "      <th>BT5</th>\n",
       "      <th>GR1</th>\n",
       "      <th>GR2</th>\n",
       "      <th>GR3</th>\n",
       "      <th>GR4</th>\n",
       "      <th>GR5</th>\n",
       "      <th>Total:</th>\n",
       "      <th>All_GR</th>\n",
       "      <th>All_BT</th>\n",
       "      <th>All_SS</th>\n",
       "      <th>male</th>\n",
       "      <th>female</th>\n",
       "    </tr>\n",
       "  </thead>\n",
       "  <tbody>\n",
       "    <tr>\n",
       "      <th>0</th>\n",
       "      <td>True</td>\n",
       "      <td>True</td>\n",
       "      <td>True</td>\n",
       "      <td>False</td>\n",
       "      <td>True</td>\n",
       "      <td>True</td>\n",
       "      <td>True</td>\n",
       "      <td>True</td>\n",
       "      <td>True</td>\n",
       "      <td>True</td>\n",
       "      <td>True</td>\n",
       "      <td>True</td>\n",
       "      <td>True</td>\n",
       "      <td>True</td>\n",
       "      <td>True</td>\n",
       "      <td>True</td>\n",
       "      <td>True</td>\n",
       "      <td>True</td>\n",
       "    </tr>\n",
       "  </tbody>\n",
       "</table>\n",
       "</div>"
      ],
      "text/plain": [
       "   Ross  Chandler   BT1    BT2   BT3   BT4   BT5   GR1   GR2   GR3   GR4  \\\n",
       "0  True      True  True  False  True  True  True  True  True  True  True   \n",
       "\n",
       "    GR5  Total:   All_GR  All_BT  All_SS  male  female  \n",
       "0  True     True    True    True    True  True    True  "
      ]
     },
     "execution_count": 130,
     "metadata": {},
     "output_type": "execute_result"
    }
   ],
   "source": [
    "df = pd.DataFrame()\n",
    "for column in no_light_targets.iloc[:,1:]:\n",
    "    numbers = []\n",
    "    light = first_40_targets[column]\n",
    "    no_light = no_light_targets[column]\n",
    "    if np.std(light)>np.std(no_light):\n",
    "        num = np.std(light)/np.std(no_light)\n",
    "    else:\n",
    "        num = np.std(no_light)/np.std(light)\n",
    "    numbers.append(num)\n",
    "    df = pd.concat([df,pd.Series(numbers,name = column)], axis = 1)\n",
    "df>2\n",
    "    "
   ]
  },
  {
   "cell_type": "markdown",
   "metadata": {},
   "source": [
    "All but BT2 have unequal variances here"
   ]
  },
  {
   "cell_type": "markdown",
   "metadata": {},
   "source": [
    "### Check non light training vs. last 40 days"
   ]
  },
  {
   "cell_type": "code",
   "execution_count": 133,
   "metadata": {},
   "outputs": [
    {
     "data": {
      "text/html": [
       "<div>\n",
       "<style scoped>\n",
       "    .dataframe tbody tr th:only-of-type {\n",
       "        vertical-align: middle;\n",
       "    }\n",
       "\n",
       "    .dataframe tbody tr th {\n",
       "        vertical-align: top;\n",
       "    }\n",
       "\n",
       "    .dataframe thead th {\n",
       "        text-align: right;\n",
       "    }\n",
       "</style>\n",
       "<table border=\"1\" class=\"dataframe\">\n",
       "  <thead>\n",
       "    <tr style=\"text-align: right;\">\n",
       "      <th></th>\n",
       "      <th>Ross</th>\n",
       "      <th>Chandler</th>\n",
       "      <th>BT1</th>\n",
       "      <th>BT2</th>\n",
       "      <th>BT3</th>\n",
       "      <th>BT4</th>\n",
       "      <th>BT5</th>\n",
       "      <th>GR1</th>\n",
       "      <th>GR2</th>\n",
       "      <th>GR3</th>\n",
       "      <th>GR4</th>\n",
       "      <th>GR5</th>\n",
       "      <th>Total:</th>\n",
       "      <th>All_GR</th>\n",
       "      <th>All_BT</th>\n",
       "      <th>All_SS</th>\n",
       "      <th>male</th>\n",
       "      <th>female</th>\n",
       "    </tr>\n",
       "  </thead>\n",
       "  <tbody>\n",
       "    <tr>\n",
       "      <th>0</th>\n",
       "      <td>False</td>\n",
       "      <td>True</td>\n",
       "      <td>False</td>\n",
       "      <td>False</td>\n",
       "      <td>False</td>\n",
       "      <td>False</td>\n",
       "      <td>False</td>\n",
       "      <td>False</td>\n",
       "      <td>False</td>\n",
       "      <td>False</td>\n",
       "      <td>False</td>\n",
       "      <td>False</td>\n",
       "      <td>False</td>\n",
       "      <td>False</td>\n",
       "      <td>False</td>\n",
       "      <td>False</td>\n",
       "      <td>False</td>\n",
       "      <td>False</td>\n",
       "    </tr>\n",
       "  </tbody>\n",
       "</table>\n",
       "</div>"
      ],
      "text/plain": [
       "    Ross  Chandler    BT1    BT2    BT3    BT4    BT5    GR1    GR2    GR3  \\\n",
       "0  False      True  False  False  False  False  False  False  False  False   \n",
       "\n",
       "     GR4    GR5  Total:   All_GR  All_BT  All_SS   male  female  \n",
       "0  False  False    False   False   False   False  False   False  "
      ]
     },
     "execution_count": 133,
     "metadata": {},
     "output_type": "execute_result"
    }
   ],
   "source": [
    "df = pd.DataFrame()\n",
    "for column in no_light_eat.drop(columns = \"Etc. Comments\").iloc[:,1:]:\n",
    "    numbers = []\n",
    "    light = last_40[column]\n",
    "    no_light = no_light_eat[column]\n",
    "    if np.std(light)>np.std(no_light):\n",
    "        num = np.std(light)/np.std(no_light)\n",
    "    else:\n",
    "        num = np.std(no_light)/np.std(light)\n",
    "    numbers.append(num)\n",
    "    df = pd.concat([df,pd.Series(numbers,name = column)], axis = 1)\n",
    "df>2\n",
    "    "
   ]
  },
  {
   "cell_type": "markdown",
   "metadata": {},
   "source": [
    "Looks like Chandler has unequal variance"
   ]
  },
  {
   "cell_type": "code",
   "execution_count": 134,
   "metadata": {},
   "outputs": [
    {
     "name": "stderr",
     "output_type": "stream",
     "text": [
      "<ipython-input-134-cf4a152c5f9d>:9: RuntimeWarning:\n",
      "\n",
      "divide by zero encountered in double_scalars\n",
      "\n"
     ]
    },
    {
     "data": {
      "text/html": [
       "<div>\n",
       "<style scoped>\n",
       "    .dataframe tbody tr th:only-of-type {\n",
       "        vertical-align: middle;\n",
       "    }\n",
       "\n",
       "    .dataframe tbody tr th {\n",
       "        vertical-align: top;\n",
       "    }\n",
       "\n",
       "    .dataframe thead th {\n",
       "        text-align: right;\n",
       "    }\n",
       "</style>\n",
       "<table border=\"1\" class=\"dataframe\">\n",
       "  <thead>\n",
       "    <tr style=\"text-align: right;\">\n",
       "      <th></th>\n",
       "      <th>Ross</th>\n",
       "      <th>Chandler</th>\n",
       "      <th>BT1</th>\n",
       "      <th>BT2</th>\n",
       "      <th>BT3</th>\n",
       "      <th>BT4</th>\n",
       "      <th>BT5</th>\n",
       "      <th>GR1</th>\n",
       "      <th>GR2</th>\n",
       "      <th>GR3</th>\n",
       "      <th>GR4</th>\n",
       "      <th>GR5</th>\n",
       "      <th>Total:</th>\n",
       "      <th>All_GR</th>\n",
       "      <th>All_BT</th>\n",
       "      <th>All_SS</th>\n",
       "      <th>male</th>\n",
       "      <th>female</th>\n",
       "    </tr>\n",
       "  </thead>\n",
       "  <tbody>\n",
       "    <tr>\n",
       "      <th>0</th>\n",
       "      <td>True</td>\n",
       "      <td>False</td>\n",
       "      <td>True</td>\n",
       "      <td>False</td>\n",
       "      <td>False</td>\n",
       "      <td>False</td>\n",
       "      <td>False</td>\n",
       "      <td>False</td>\n",
       "      <td>False</td>\n",
       "      <td>True</td>\n",
       "      <td>True</td>\n",
       "      <td>False</td>\n",
       "      <td>False</td>\n",
       "      <td>True</td>\n",
       "      <td>False</td>\n",
       "      <td>False</td>\n",
       "      <td>True</td>\n",
       "      <td>False</td>\n",
       "    </tr>\n",
       "  </tbody>\n",
       "</table>\n",
       "</div>"
      ],
      "text/plain": [
       "   Ross  Chandler   BT1    BT2    BT3    BT4    BT5    GR1    GR2   GR3   GR4  \\\n",
       "0  True     False  True  False  False  False  False  False  False  True  True   \n",
       "\n",
       "     GR5  Total:   All_GR  All_BT  All_SS  male  female  \n",
       "0  False    False    True   False   False  True   False  "
      ]
     },
     "execution_count": 134,
     "metadata": {},
     "output_type": "execute_result"
    }
   ],
   "source": [
    "df = pd.DataFrame()\n",
    "for column in no_light_drops.iloc[:,1:]:\n",
    "    numbers = []\n",
    "    light = last_40_d[column]\n",
    "    no_light = no_light_drops[column]\n",
    "    if np.std(light)>np.std(no_light):\n",
    "        num = np.std(light)/np.std(no_light)\n",
    "    else:\n",
    "        num = np.std(no_light)/np.std(light)\n",
    "    numbers.append(num)\n",
    "    df = pd.concat([df,pd.Series(numbers,name = column)], axis = 1)\n",
    "df >2\n",
    "    "
   ]
  },
  {
   "cell_type": "markdown",
   "metadata": {},
   "source": [
    "Looks like Ross, BT1, GR3, GR4, All_GR, and male all have unequal variances"
   ]
  },
  {
   "cell_type": "code",
   "execution_count": 135,
   "metadata": {},
   "outputs": [
    {
     "data": {
      "text/html": [
       "<div>\n",
       "<style scoped>\n",
       "    .dataframe tbody tr th:only-of-type {\n",
       "        vertical-align: middle;\n",
       "    }\n",
       "\n",
       "    .dataframe tbody tr th {\n",
       "        vertical-align: top;\n",
       "    }\n",
       "\n",
       "    .dataframe thead th {\n",
       "        text-align: right;\n",
       "    }\n",
       "</style>\n",
       "<table border=\"1\" class=\"dataframe\">\n",
       "  <thead>\n",
       "    <tr style=\"text-align: right;\">\n",
       "      <th></th>\n",
       "      <th>Ross</th>\n",
       "      <th>Chandler</th>\n",
       "      <th>BT1</th>\n",
       "      <th>BT2</th>\n",
       "      <th>BT3</th>\n",
       "      <th>BT4</th>\n",
       "      <th>BT5</th>\n",
       "      <th>GR1</th>\n",
       "      <th>GR2</th>\n",
       "      <th>GR3</th>\n",
       "      <th>GR4</th>\n",
       "      <th>GR5</th>\n",
       "      <th>Total:</th>\n",
       "      <th>All_GR</th>\n",
       "      <th>All_BT</th>\n",
       "      <th>All_SS</th>\n",
       "      <th>male</th>\n",
       "      <th>female</th>\n",
       "    </tr>\n",
       "  </thead>\n",
       "  <tbody>\n",
       "    <tr>\n",
       "      <th>0</th>\n",
       "      <td>False</td>\n",
       "      <td>False</td>\n",
       "      <td>False</td>\n",
       "      <td>False</td>\n",
       "      <td>False</td>\n",
       "      <td>False</td>\n",
       "      <td>False</td>\n",
       "      <td>False</td>\n",
       "      <td>False</td>\n",
       "      <td>False</td>\n",
       "      <td>False</td>\n",
       "      <td>False</td>\n",
       "      <td>False</td>\n",
       "      <td>False</td>\n",
       "      <td>False</td>\n",
       "      <td>False</td>\n",
       "      <td>False</td>\n",
       "      <td>False</td>\n",
       "    </tr>\n",
       "  </tbody>\n",
       "</table>\n",
       "</div>"
      ],
      "text/plain": [
       "    Ross  Chandler    BT1    BT2    BT3    BT4    BT5    GR1    GR2    GR3  \\\n",
       "0  False     False  False  False  False  False  False  False  False  False   \n",
       "\n",
       "     GR4    GR5  Total:   All_GR  All_BT  All_SS   male  female  \n",
       "0  False  False    False   False   False   False  False   False  "
      ]
     },
     "execution_count": 135,
     "metadata": {},
     "output_type": "execute_result"
    }
   ],
   "source": [
    "df = pd.DataFrame()\n",
    "for column in no_light_targets.iloc[:,1:]:\n",
    "    numbers = []\n",
    "    light = last_40_t[column]\n",
    "    no_light = no_light_targets[column]\n",
    "    if np.std(light)>np.std(no_light):\n",
    "        num = np.std(light)/np.std(no_light)\n",
    "    else:\n",
    "        num = np.std(no_light)/np.std(light)\n",
    "    numbers.append(num)\n",
    "    df = pd.concat([df,pd.Series(numbers,name = column)], axis = 1)\n",
    "df>2\n",
    "    "
   ]
  },
  {
   "cell_type": "markdown",
   "metadata": {},
   "source": [
    "There was some definite variances that were not equal as you looked at the two groups. So making note of all of those, I went to the t tests that we made and changed the test to include a parameter that said that the variances were not equal which made some that we found significant, not significant anymore."
   ]
  },
  {
   "cell_type": "markdown",
   "metadata": {},
   "source": [
    "## 4. Independence Assumption"
   ]
  },
  {
   "cell_type": "code",
   "execution_count": 287,
   "metadata": {},
   "outputs": [
    {
     "data": {
      "application/vnd.plotly.v1+json": {
       "config": {
        "plotlyServerURL": "https://plot.ly"
       },
       "data": [
        {
         "hovertemplate": "variable=Ross<br>index=%{x}<br>value=%{y}<extra></extra>",
         "legendgroup": "Ross",
         "line": {
          "color": "#636efa",
          "dash": "solid"
         },
         "mode": "lines",
         "name": "Ross",
         "orientation": "v",
         "showlegend": true,
         "type": "scatter",
         "x": [
          0,
          1,
          3,
          4,
          5,
          7,
          8,
          9,
          11,
          12,
          13,
          15,
          16,
          17,
          19,
          20,
          21,
          23,
          24,
          25,
          27,
          28,
          29,
          31,
          32,
          33,
          35,
          36,
          37,
          39,
          40,
          41,
          43,
          44,
          45,
          47,
          48,
          49,
          50,
          51,
          52,
          54,
          55,
          56,
          58,
          59,
          60,
          62,
          63,
          64,
          66,
          67,
          68,
          70,
          71,
          72,
          74,
          75,
          76,
          78,
          79,
          80,
          82,
          83,
          84,
          86,
          87,
          88,
          90,
          91,
          92,
          94,
          95,
          96,
          98,
          99,
          100,
          102,
          103,
          104,
          106,
          107,
          108,
          110,
          111,
          112,
          114,
          115,
          116,
          118,
          119,
          120,
          122,
          123,
          124,
          126,
          127,
          128,
          130,
          131,
          132,
          134,
          135,
          136,
          138,
          139,
          140,
          142,
          143,
          144,
          146,
          147,
          148,
          150,
          151,
          152,
          154,
          155,
          156,
          158,
          159,
          160,
          162,
          163,
          164,
          166,
          167,
          168,
          170,
          171,
          172,
          174,
          175,
          176,
          178,
          179,
          180,
          182,
          183,
          184,
          186,
          187,
          188,
          190,
          191,
          192,
          194,
          195,
          196,
          198,
          199,
          201,
          202,
          203,
          205,
          206,
          207,
          209,
          210,
          211,
          213,
          214,
          215,
          217,
          218,
          220,
          221,
          222,
          224,
          225,
          226,
          228,
          229,
          230,
          232,
          233,
          234,
          236,
          237,
          238,
          240,
          241,
          242,
          244,
          245,
          246,
          248,
          249,
          250,
          252,
          253,
          254,
          256,
          257,
          258,
          260,
          261,
          262,
          263,
          264,
          265,
          266,
          268,
          269,
          270,
          272,
          273,
          274,
          276,
          277,
          278,
          280,
          281,
          282,
          284,
          285,
          286,
          288,
          289,
          290,
          292,
          293,
          294,
          296,
          297,
          298,
          300,
          301,
          302,
          304,
          305,
          306,
          308,
          309,
          310,
          312,
          313,
          314,
          316,
          317,
          318,
          320,
          321,
          322,
          324,
          325,
          326,
          328,
          329,
          330,
          332,
          333,
          334,
          336,
          337,
          338,
          340,
          341,
          342,
          344,
          345,
          346,
          348,
          349,
          350,
          352,
          353,
          354,
          356,
          357,
          358,
          360,
          361,
          362,
          364,
          365,
          366,
          368,
          369,
          370,
          371,
          372,
          373,
          374,
          376,
          377,
          378,
          380,
          381,
          382,
          384,
          385,
          386,
          388,
          389,
          390,
          392,
          393,
          394,
          396,
          397,
          398,
          400,
          401,
          402,
          404,
          405,
          406,
          408,
          409,
          411,
          412,
          413,
          415,
          416,
          417,
          419,
          420,
          421,
          423,
          424,
          425,
          427,
          428,
          429,
          431,
          432,
          433,
          435,
          436,
          437,
          439,
          440,
          441,
          443,
          444,
          445,
          447,
          448,
          449,
          451,
          452,
          453,
          455,
          456,
          457,
          459,
          460,
          461,
          463,
          464,
          465,
          467,
          468,
          469,
          471,
          472,
          473,
          475,
          476,
          478,
          479,
          480,
          482,
          483,
          484,
          486,
          487,
          488,
          490,
          491,
          492,
          493,
          494,
          495,
          496,
          497,
          498,
          500,
          501,
          502,
          504,
          505,
          506,
          508,
          509,
          510,
          512,
          513,
          514,
          516,
          517,
          518,
          520,
          521,
          522,
          524,
          525,
          526,
          528,
          529,
          530,
          532,
          533,
          534,
          536,
          537,
          538,
          540,
          541,
          542,
          544,
          545,
          546,
          548,
          549,
          550,
          552,
          553,
          554,
          556,
          557,
          558,
          560,
          561,
          562,
          564,
          565,
          566,
          568,
          569,
          570,
          572,
          573,
          574,
          576,
          577,
          578,
          580,
          581
         ],
         "xaxis": "x",
         "y": [
          1.2645549242695955,
          0.9137103444822227,
          -0.48966797466726864,
          0.5628657646948498,
          -1.89304629381676,
          0.9137103444822227,
          0.5628657646948498,
          -0.1388233948798958,
          0.5628657646948498,
          1.2645549242695955,
          0.9137103444822227,
          -1.1913571342420144,
          -0.1388233948798958,
          -0.48966797466726864,
          -1.1913571342420144,
          1.2645549242695955,
          0.9137103444822227,
          -0.48966797466726864,
          0.9137103444822227,
          -0.48966797466726864,
          -0.48966797466726864,
          0.5628657646948498,
          0.21202118490747704,
          -1.542201714029387,
          1.2645549242695955,
          0.5628657646948498,
          -1.542201714029387,
          1.2645549242695955,
          1.2645549242695955,
          -2.5947354533915057,
          0.9137103444822227,
          0.9137103444822227,
          -1.1913571342420144,
          0.9137103444822227,
          0.21202118490747704,
          -2.9455800331788784,
          1.2645549242695955,
          -1.1913571342420144,
          -2.5947354533915057,
          1.2645549242695955,
          -1.1913571342420144,
          -2.5947354533915057,
          0.5628657646948498,
          0.5628657646948498,
          -1.89304629381676,
          0.21202118490747704,
          -1.89304629381676,
          -3.296424612966251,
          -0.48966797466726864,
          -0.8405125544546415,
          -0.1388233948798958,
          1.2645549242695955,
          -0.8405125544546415,
          -0.1388233948798958,
          0.9137103444822227,
          1.2645549242695955,
          -0.1388233948798958,
          1.2645549242695955,
          0.21202118490747704,
          1.2645549242695955,
          -0.48966797466726864,
          -0.48966797466726864,
          -0.1388233948798958,
          0.21202118490747704,
          0.9137103444822227,
          -1.542201714029387,
          0.21202118490747704,
          1.2645549242695955,
          -0.1388233948798958,
          0.9137103444822227,
          0.9137103444822227,
          -0.48966797466726864,
          0.21202118490747704,
          -2.9455800331788784,
          -0.48966797466726864,
          0.5628657646948498,
          0.21202118490747704,
          -1.1913571342420144,
          -0.8405125544546415,
          1.2645549242695955,
          -0.1388233948798958,
          0.9137103444822227,
          -1.1913571342420144,
          1.2645549242695955,
          0.21202118490747704,
          -1.89304629381676,
          0.21202118490747704,
          -0.1388233948798958,
          0.5628657646948498,
          1.2645549242695955,
          -0.8405125544546415,
          0.21202118490747704,
          1.2645549242695955,
          0.9137103444822227,
          -0.1388233948798958,
          -0.1388233948798958,
          0.9137103444822227,
          0.21202118490747704,
          0.9137103444822227,
          -0.48966797466726864,
          0.5628657646948498,
          0.9137103444822227,
          0.5628657646948498,
          0.21202118490747704,
          1.2645549242695955,
          -0.48966797466726864,
          0.21202118490747704,
          1.2645549242695955,
          0.5628657646948498,
          0.5628657646948498,
          0.5628657646948498,
          0.21202118490747704,
          0.9137103444822227,
          0.21202118490747704,
          0.21202118490747704,
          0.9137103444822227,
          1.2645549242695955,
          -0.48966797466726864,
          0.21202118490747704,
          -0.1388233948798958,
          1.2645549242695955,
          -0.48966797466726864,
          0.9137103444822227,
          0.5628657646948498,
          0.5628657646948498,
          0.9137103444822227,
          0.21202118490747704,
          1.2645549242695955,
          -0.1388233948798958,
          -0.48966797466726864,
          0.21202118490747704,
          0.9137103444822227,
          0.5628657646948498,
          0.9137103444822227,
          1.2645549242695955,
          0.9137103444822227,
          0.9137103444822227,
          0.21202118490747704,
          -1.542201714029387,
          1.2645549242695955,
          0.21202118490747704,
          -1.542201714029387,
          -0.48966797466726864,
          0.9137103444822227,
          0.21202118490747704,
          1.2645549242695955,
          0.21202118490747704,
          1.2645549242695955,
          0.21202118490747704,
          -1.89304629381676,
          -1.542201714029387,
          -0.8405125544546415,
          0.21202118490747704,
          0.21202118490747704,
          0.5628657646948498,
          -1.1913571342420144,
          0.9137103444822227,
          0.5628657646948498,
          0.5628657646948498,
          0.9137103444822227,
          0.9137103444822227,
          -0.8405125544546415,
          1.2645549242695955,
          -0.8405125544546415,
          -0.8405125544546415,
          0.21202118490747704,
          1.2645549242695955,
          0.21202118490747704,
          -0.48966797466726864,
          0.5628657646948498,
          0.5628657646948498,
          0.9137103444822227,
          -0.8405125544546415,
          -0.1388233948798958,
          -0.1388233948798958,
          -0.1388233948798958,
          1.2645549242695955,
          -0.8405125544546415,
          0.5628657646948498,
          0.5628657646948498,
          0.21202118490747704,
          -0.1388233948798958,
          -0.8405125544546415,
          0.21202118490747704,
          0.21202118490747704,
          0.5628657646948498,
          0.5628657646948498,
          0.9137103444822227,
          1.2645549242695955,
          0.21202118490747704,
          0.5628657646948498,
          0.21202118490747704,
          0.21202118490747704,
          0.9137103444822227,
          1.2645549242695955,
          0.21202118490747704,
          0.5628657646948498,
          0.5628657646948498,
          0.5628657646948498,
          -1.89304629381676,
          0.21202118490747704,
          1.2645549242695955,
          -0.8405125544546415,
          0.5628657646948498,
          -0.48966797466726864,
          -0.48966797466726864,
          0.9137103444822227,
          0.21202118490747704,
          -2.5947354533915057,
          0.21202118490747704,
          0.5628657646948498,
          -2.9455800331788784,
          0.9137103444822227,
          -1.1913571342420144,
          -1.542201714029387,
          -0.1388233948798958,
          -1.1913571342420144,
          -1.1913571342420144,
          0.21202118490747704,
          -1.1913571342420144,
          -1.1913571342420144,
          0.21202118490747704,
          -0.8405125544546415,
          -0.1388233948798958,
          0.9137103444822227,
          -2.243890873604133,
          -3.296424612966251,
          1.2645549242695955,
          -1.89304629381676,
          0.9137103444822227,
          -0.48966797466726864,
          -1.1913571342420144,
          -1.1913571342420144,
          0.5628657646948498,
          -1.542201714029387,
          -0.1388233948798958,
          1.2645549242695955,
          -0.8405125544546415,
          0.21202118490747704,
          1.2645549242695955,
          0.21202118490747704,
          -3.6472691927536243,
          -1.1913571342420144,
          -0.8405125544546415,
          0.9137103444822227,
          -1.1913571342420144,
          -0.48966797466726864,
          0.21202118490747704,
          -1.542201714029387,
          0.5628657646948498,
          -0.1388233948798958,
          -0.8405125544546415,
          0.9137103444822227,
          0.21202118490747704,
          1.2645549242695955,
          -0.1388233948798958,
          0.21202118490747704,
          -0.48966797466726864,
          0.9137103444822227,
          -1.89304629381676,
          1.2645549242695955,
          -1.1913571342420144,
          -0.48966797466726864,
          0.5628657646948498,
          0.5628657646948498,
          0.21202118490747704,
          1.2645549242695955,
          -1.1913571342420144,
          -0.48966797466726864,
          -0.8405125544546415,
          0.5628657646948498,
          -1.89304629381676,
          0.5628657646948498,
          -0.1388233948798958,
          -0.1388233948798958,
          0.21202118490747704,
          0.5628657646948498,
          0.9137103444822227,
          0.5628657646948498,
          -1.1913571342420144,
          0.9137103444822227,
          -0.1388233948798958,
          -0.1388233948798958,
          -0.1388233948798958,
          -1.89304629381676,
          0.9137103444822227,
          -0.1388233948798958,
          -1.542201714029387,
          0.21202118490747704,
          -0.48966797466726864,
          -0.1388233948798958,
          -1.1913571342420144,
          -0.48966797466726864,
          0.21202118490747704,
          -0.1388233948798958,
          1.2645549242695955,
          -0.8405125544546415,
          1.2645549242695955,
          0.5628657646948498,
          -0.8405125544546415,
          0.5628657646948498,
          0.9137103444822227,
          0.5628657646948498,
          0.9137103444822227,
          1.2645549242695955,
          0.21202118490747704,
          -0.48966797466726864,
          0.5628657646948498,
          -0.48966797466726864,
          1.2645549242695955,
          0.21202118490747704,
          0.21202118490747704,
          1.2645549242695955,
          1.2645549242695955,
          1.2645549242695955,
          0.5628657646948498,
          -1.89304629381676,
          -0.8405125544546415,
          -0.1388233948798958,
          -0.8405125544546415,
          0.9137103444822227,
          -1.1913571342420144,
          0.21202118490747704,
          -0.48966797466726864,
          -0.48966797466726864,
          -0.1388233948798958,
          1.2645549242695955,
          -0.1388233948798958,
          0.5628657646948498,
          0.21202118490747704,
          0.9137103444822227,
          -0.1388233948798958,
          0.21202118490747704,
          0.9137103444822227,
          -1.1913571342420144,
          1.2645549242695955,
          0.5628657646948498,
          1.2645549242695955,
          -0.48966797466726864,
          0.5628657646948498,
          1.2645549242695955,
          0.9137103444822227,
          -0.48966797466726864,
          0.5628657646948498,
          -0.48966797466726864,
          1.2645549242695955,
          1.2645549242695955,
          0.21202118490747704,
          0.9137103444822227,
          1.2645549242695955,
          0.5628657646948498,
          -1.542201714029387,
          1.2645549242695955,
          0.9137103444822227,
          0.9137103444822227,
          0.18631919484121065,
          -0.7319682654476132,
          -0.7319682654476132,
          0.49241501493748524,
          -0.11977662525506397,
          0.7985108350337599,
          0.7985108350337599,
          0.49241501493748524,
          0.18631919484121065,
          0.7985108350337599,
          0.18631919484121065,
          -0.11977662525506397,
          -0.11977662525506397,
          0.7985108350337599,
          -1.650255725736437,
          0.49241501493748524,
          0.49241501493748524,
          -3.7929264664103592,
          0.7985108350337599,
          0.49241501493748524,
          -0.11977662525506397,
          -0.11977662525506397,
          0.49241501493748524,
          -0.8405125544546415,
          -0.48966797466726864,
          0.21202118490747704,
          -1.89304629381676,
          1.2645549242695955,
          0.5628657646948498,
          -0.48966797466726864,
          -1.1913571342420144,
          -0.8405125544546415,
          -0.1388233948798958,
          -1.89304629381676,
          -0.48966797466726864,
          -0.8405125544546415,
          0.5628657646948498,
          -0.1388233948798958,
          -0.8405125544546415,
          -0.1388233948798958,
          -0.48966797466726864,
          -1.1913571342420144,
          -1.1913571342420144,
          -0.1388233948798958,
          -1.1913571342420144,
          0.21202118490747704,
          1.2645549242695955,
          -1.89304629381676,
          1.2645549242695955,
          0.5628657646948498,
          -0.1388233948798958,
          0.21202118490747704,
          0.21202118490747704,
          -0.1388233948798958,
          -1.542201714029387,
          -0.1388233948798958,
          -0.1388233948798958,
          1.2645549242695955,
          0.21202118490747704,
          -0.8405125544546415,
          0.21202118490747704,
          0.9137103444822227,
          -0.8405125544546415,
          -1.89304629381676,
          -0.48966797466726864,
          0.9137103444822227,
          -0.48966797466726864,
          -1.89304629381676,
          -0.8405125544546415,
          -1.1913571342420144,
          0.5628657646948498,
          0.9137103444822227,
          -0.48966797466726864,
          0.21202118490747704,
          0.9137103444822227,
          -1.542201714029387,
          -0.48966797466726864,
          0.9137103444822227,
          0.21202118490747704,
          -0.1388233948798958,
          -0.1388233948798958,
          -0.8405125544546415,
          1.2645549242695955,
          -0.48966797466726864,
          -2.243890873604133
         ],
         "yaxis": "y"
        }
       ],
       "layout": {
        "legend": {
         "title": {
          "text": "variable"
         },
         "tracegroupgap": 0
        },
        "margin": {
         "t": 60
        },
        "template": {
         "data": {
          "bar": [
           {
            "error_x": {
             "color": "#2a3f5f"
            },
            "error_y": {
             "color": "#2a3f5f"
            },
            "marker": {
             "line": {
              "color": "#E5ECF6",
              "width": 0.5
             }
            },
            "type": "bar"
           }
          ],
          "barpolar": [
           {
            "marker": {
             "line": {
              "color": "#E5ECF6",
              "width": 0.5
             }
            },
            "type": "barpolar"
           }
          ],
          "carpet": [
           {
            "aaxis": {
             "endlinecolor": "#2a3f5f",
             "gridcolor": "white",
             "linecolor": "white",
             "minorgridcolor": "white",
             "startlinecolor": "#2a3f5f"
            },
            "baxis": {
             "endlinecolor": "#2a3f5f",
             "gridcolor": "white",
             "linecolor": "white",
             "minorgridcolor": "white",
             "startlinecolor": "#2a3f5f"
            },
            "type": "carpet"
           }
          ],
          "choropleth": [
           {
            "colorbar": {
             "outlinewidth": 0,
             "ticks": ""
            },
            "type": "choropleth"
           }
          ],
          "contour": [
           {
            "colorbar": {
             "outlinewidth": 0,
             "ticks": ""
            },
            "colorscale": [
             [
              0,
              "#0d0887"
             ],
             [
              0.1111111111111111,
              "#46039f"
             ],
             [
              0.2222222222222222,
              "#7201a8"
             ],
             [
              0.3333333333333333,
              "#9c179e"
             ],
             [
              0.4444444444444444,
              "#bd3786"
             ],
             [
              0.5555555555555556,
              "#d8576b"
             ],
             [
              0.6666666666666666,
              "#ed7953"
             ],
             [
              0.7777777777777778,
              "#fb9f3a"
             ],
             [
              0.8888888888888888,
              "#fdca26"
             ],
             [
              1,
              "#f0f921"
             ]
            ],
            "type": "contour"
           }
          ],
          "contourcarpet": [
           {
            "colorbar": {
             "outlinewidth": 0,
             "ticks": ""
            },
            "type": "contourcarpet"
           }
          ],
          "heatmap": [
           {
            "colorbar": {
             "outlinewidth": 0,
             "ticks": ""
            },
            "colorscale": [
             [
              0,
              "#0d0887"
             ],
             [
              0.1111111111111111,
              "#46039f"
             ],
             [
              0.2222222222222222,
              "#7201a8"
             ],
             [
              0.3333333333333333,
              "#9c179e"
             ],
             [
              0.4444444444444444,
              "#bd3786"
             ],
             [
              0.5555555555555556,
              "#d8576b"
             ],
             [
              0.6666666666666666,
              "#ed7953"
             ],
             [
              0.7777777777777778,
              "#fb9f3a"
             ],
             [
              0.8888888888888888,
              "#fdca26"
             ],
             [
              1,
              "#f0f921"
             ]
            ],
            "type": "heatmap"
           }
          ],
          "heatmapgl": [
           {
            "colorbar": {
             "outlinewidth": 0,
             "ticks": ""
            },
            "colorscale": [
             [
              0,
              "#0d0887"
             ],
             [
              0.1111111111111111,
              "#46039f"
             ],
             [
              0.2222222222222222,
              "#7201a8"
             ],
             [
              0.3333333333333333,
              "#9c179e"
             ],
             [
              0.4444444444444444,
              "#bd3786"
             ],
             [
              0.5555555555555556,
              "#d8576b"
             ],
             [
              0.6666666666666666,
              "#ed7953"
             ],
             [
              0.7777777777777778,
              "#fb9f3a"
             ],
             [
              0.8888888888888888,
              "#fdca26"
             ],
             [
              1,
              "#f0f921"
             ]
            ],
            "type": "heatmapgl"
           }
          ],
          "histogram": [
           {
            "marker": {
             "colorbar": {
              "outlinewidth": 0,
              "ticks": ""
             }
            },
            "type": "histogram"
           }
          ],
          "histogram2d": [
           {
            "colorbar": {
             "outlinewidth": 0,
             "ticks": ""
            },
            "colorscale": [
             [
              0,
              "#0d0887"
             ],
             [
              0.1111111111111111,
              "#46039f"
             ],
             [
              0.2222222222222222,
              "#7201a8"
             ],
             [
              0.3333333333333333,
              "#9c179e"
             ],
             [
              0.4444444444444444,
              "#bd3786"
             ],
             [
              0.5555555555555556,
              "#d8576b"
             ],
             [
              0.6666666666666666,
              "#ed7953"
             ],
             [
              0.7777777777777778,
              "#fb9f3a"
             ],
             [
              0.8888888888888888,
              "#fdca26"
             ],
             [
              1,
              "#f0f921"
             ]
            ],
            "type": "histogram2d"
           }
          ],
          "histogram2dcontour": [
           {
            "colorbar": {
             "outlinewidth": 0,
             "ticks": ""
            },
            "colorscale": [
             [
              0,
              "#0d0887"
             ],
             [
              0.1111111111111111,
              "#46039f"
             ],
             [
              0.2222222222222222,
              "#7201a8"
             ],
             [
              0.3333333333333333,
              "#9c179e"
             ],
             [
              0.4444444444444444,
              "#bd3786"
             ],
             [
              0.5555555555555556,
              "#d8576b"
             ],
             [
              0.6666666666666666,
              "#ed7953"
             ],
             [
              0.7777777777777778,
              "#fb9f3a"
             ],
             [
              0.8888888888888888,
              "#fdca26"
             ],
             [
              1,
              "#f0f921"
             ]
            ],
            "type": "histogram2dcontour"
           }
          ],
          "mesh3d": [
           {
            "colorbar": {
             "outlinewidth": 0,
             "ticks": ""
            },
            "type": "mesh3d"
           }
          ],
          "parcoords": [
           {
            "line": {
             "colorbar": {
              "outlinewidth": 0,
              "ticks": ""
             }
            },
            "type": "parcoords"
           }
          ],
          "pie": [
           {
            "automargin": true,
            "type": "pie"
           }
          ],
          "scatter": [
           {
            "marker": {
             "colorbar": {
              "outlinewidth": 0,
              "ticks": ""
             }
            },
            "type": "scatter"
           }
          ],
          "scatter3d": [
           {
            "line": {
             "colorbar": {
              "outlinewidth": 0,
              "ticks": ""
             }
            },
            "marker": {
             "colorbar": {
              "outlinewidth": 0,
              "ticks": ""
             }
            },
            "type": "scatter3d"
           }
          ],
          "scattercarpet": [
           {
            "marker": {
             "colorbar": {
              "outlinewidth": 0,
              "ticks": ""
             }
            },
            "type": "scattercarpet"
           }
          ],
          "scattergeo": [
           {
            "marker": {
             "colorbar": {
              "outlinewidth": 0,
              "ticks": ""
             }
            },
            "type": "scattergeo"
           }
          ],
          "scattergl": [
           {
            "marker": {
             "colorbar": {
              "outlinewidth": 0,
              "ticks": ""
             }
            },
            "type": "scattergl"
           }
          ],
          "scattermapbox": [
           {
            "marker": {
             "colorbar": {
              "outlinewidth": 0,
              "ticks": ""
             }
            },
            "type": "scattermapbox"
           }
          ],
          "scatterpolar": [
           {
            "marker": {
             "colorbar": {
              "outlinewidth": 0,
              "ticks": ""
             }
            },
            "type": "scatterpolar"
           }
          ],
          "scatterpolargl": [
           {
            "marker": {
             "colorbar": {
              "outlinewidth": 0,
              "ticks": ""
             }
            },
            "type": "scatterpolargl"
           }
          ],
          "scatterternary": [
           {
            "marker": {
             "colorbar": {
              "outlinewidth": 0,
              "ticks": ""
             }
            },
            "type": "scatterternary"
           }
          ],
          "surface": [
           {
            "colorbar": {
             "outlinewidth": 0,
             "ticks": ""
            },
            "colorscale": [
             [
              0,
              "#0d0887"
             ],
             [
              0.1111111111111111,
              "#46039f"
             ],
             [
              0.2222222222222222,
              "#7201a8"
             ],
             [
              0.3333333333333333,
              "#9c179e"
             ],
             [
              0.4444444444444444,
              "#bd3786"
             ],
             [
              0.5555555555555556,
              "#d8576b"
             ],
             [
              0.6666666666666666,
              "#ed7953"
             ],
             [
              0.7777777777777778,
              "#fb9f3a"
             ],
             [
              0.8888888888888888,
              "#fdca26"
             ],
             [
              1,
              "#f0f921"
             ]
            ],
            "type": "surface"
           }
          ],
          "table": [
           {
            "cells": {
             "fill": {
              "color": "#EBF0F8"
             },
             "line": {
              "color": "white"
             }
            },
            "header": {
             "fill": {
              "color": "#C8D4E3"
             },
             "line": {
              "color": "white"
             }
            },
            "type": "table"
           }
          ]
         },
         "layout": {
          "annotationdefaults": {
           "arrowcolor": "#2a3f5f",
           "arrowhead": 0,
           "arrowwidth": 1
          },
          "coloraxis": {
           "colorbar": {
            "outlinewidth": 0,
            "ticks": ""
           }
          },
          "colorscale": {
           "diverging": [
            [
             0,
             "#8e0152"
            ],
            [
             0.1,
             "#c51b7d"
            ],
            [
             0.2,
             "#de77ae"
            ],
            [
             0.3,
             "#f1b6da"
            ],
            [
             0.4,
             "#fde0ef"
            ],
            [
             0.5,
             "#f7f7f7"
            ],
            [
             0.6,
             "#e6f5d0"
            ],
            [
             0.7,
             "#b8e186"
            ],
            [
             0.8,
             "#7fbc41"
            ],
            [
             0.9,
             "#4d9221"
            ],
            [
             1,
             "#276419"
            ]
           ],
           "sequential": [
            [
             0,
             "#0d0887"
            ],
            [
             0.1111111111111111,
             "#46039f"
            ],
            [
             0.2222222222222222,
             "#7201a8"
            ],
            [
             0.3333333333333333,
             "#9c179e"
            ],
            [
             0.4444444444444444,
             "#bd3786"
            ],
            [
             0.5555555555555556,
             "#d8576b"
            ],
            [
             0.6666666666666666,
             "#ed7953"
            ],
            [
             0.7777777777777778,
             "#fb9f3a"
            ],
            [
             0.8888888888888888,
             "#fdca26"
            ],
            [
             1,
             "#f0f921"
            ]
           ],
           "sequentialminus": [
            [
             0,
             "#0d0887"
            ],
            [
             0.1111111111111111,
             "#46039f"
            ],
            [
             0.2222222222222222,
             "#7201a8"
            ],
            [
             0.3333333333333333,
             "#9c179e"
            ],
            [
             0.4444444444444444,
             "#bd3786"
            ],
            [
             0.5555555555555556,
             "#d8576b"
            ],
            [
             0.6666666666666666,
             "#ed7953"
            ],
            [
             0.7777777777777778,
             "#fb9f3a"
            ],
            [
             0.8888888888888888,
             "#fdca26"
            ],
            [
             1,
             "#f0f921"
            ]
           ]
          },
          "colorway": [
           "#636efa",
           "#EF553B",
           "#00cc96",
           "#ab63fa",
           "#FFA15A",
           "#19d3f3",
           "#FF6692",
           "#B6E880",
           "#FF97FF",
           "#FECB52"
          ],
          "font": {
           "color": "#2a3f5f"
          },
          "geo": {
           "bgcolor": "white",
           "lakecolor": "white",
           "landcolor": "#E5ECF6",
           "showlakes": true,
           "showland": true,
           "subunitcolor": "white"
          },
          "hoverlabel": {
           "align": "left"
          },
          "hovermode": "closest",
          "mapbox": {
           "style": "light"
          },
          "paper_bgcolor": "white",
          "plot_bgcolor": "#E5ECF6",
          "polar": {
           "angularaxis": {
            "gridcolor": "white",
            "linecolor": "white",
            "ticks": ""
           },
           "bgcolor": "#E5ECF6",
           "radialaxis": {
            "gridcolor": "white",
            "linecolor": "white",
            "ticks": ""
           }
          },
          "scene": {
           "xaxis": {
            "backgroundcolor": "#E5ECF6",
            "gridcolor": "white",
            "gridwidth": 2,
            "linecolor": "white",
            "showbackground": true,
            "ticks": "",
            "zerolinecolor": "white"
           },
           "yaxis": {
            "backgroundcolor": "#E5ECF6",
            "gridcolor": "white",
            "gridwidth": 2,
            "linecolor": "white",
            "showbackground": true,
            "ticks": "",
            "zerolinecolor": "white"
           },
           "zaxis": {
            "backgroundcolor": "#E5ECF6",
            "gridcolor": "white",
            "gridwidth": 2,
            "linecolor": "white",
            "showbackground": true,
            "ticks": "",
            "zerolinecolor": "white"
           }
          },
          "shapedefaults": {
           "line": {
            "color": "#2a3f5f"
           }
          },
          "ternary": {
           "aaxis": {
            "gridcolor": "white",
            "linecolor": "white",
            "ticks": ""
           },
           "baxis": {
            "gridcolor": "white",
            "linecolor": "white",
            "ticks": ""
           },
           "bgcolor": "#E5ECF6",
           "caxis": {
            "gridcolor": "white",
            "linecolor": "white",
            "ticks": ""
           }
          },
          "title": {
           "x": 0.05
          },
          "xaxis": {
           "automargin": true,
           "gridcolor": "white",
           "linecolor": "white",
           "ticks": "",
           "title": {
            "standoff": 15
           },
           "zerolinecolor": "white",
           "zerolinewidth": 2
          },
          "yaxis": {
           "automargin": true,
           "gridcolor": "white",
           "linecolor": "white",
           "ticks": "",
           "title": {
            "standoff": 15
           },
           "zerolinecolor": "white",
           "zerolinewidth": 2
          }
         }
        },
        "xaxis": {
         "anchor": "y",
         "domain": [
          0,
          1
         ],
         "title": {
          "text": "index"
         }
        },
        "yaxis": {
         "anchor": "x",
         "domain": [
          0,
          1
         ],
         "title": {
          "text": "value"
         }
        }
       }
      },
      "text/html": [
       "<div>                            <div id=\"0a4543cc-c98c-4be5-9564-79e0c81c0979\" class=\"plotly-graph-div\" style=\"height:525px; width:100%;\"></div>            <script type=\"text/javascript\">                require([\"plotly\"], function(Plotly) {                    window.PLOTLYENV=window.PLOTLYENV || {};                                    if (document.getElementById(\"0a4543cc-c98c-4be5-9564-79e0c81c0979\")) {                    Plotly.newPlot(                        \"0a4543cc-c98c-4be5-9564-79e0c81c0979\",                        [{\"hovertemplate\": \"variable=Ross<br>index=%{x}<br>value=%{y}<extra></extra>\", \"legendgroup\": \"Ross\", \"line\": {\"color\": \"#636efa\", \"dash\": \"solid\"}, \"mode\": \"lines\", \"name\": \"Ross\", \"orientation\": \"v\", \"showlegend\": true, \"type\": \"scatter\", \"x\": [0, 1, 3, 4, 5, 7, 8, 9, 11, 12, 13, 15, 16, 17, 19, 20, 21, 23, 24, 25, 27, 28, 29, 31, 32, 33, 35, 36, 37, 39, 40, 41, 43, 44, 45, 47, 48, 49, 50, 51, 52, 54, 55, 56, 58, 59, 60, 62, 63, 64, 66, 67, 68, 70, 71, 72, 74, 75, 76, 78, 79, 80, 82, 83, 84, 86, 87, 88, 90, 91, 92, 94, 95, 96, 98, 99, 100, 102, 103, 104, 106, 107, 108, 110, 111, 112, 114, 115, 116, 118, 119, 120, 122, 123, 124, 126, 127, 128, 130, 131, 132, 134, 135, 136, 138, 139, 140, 142, 143, 144, 146, 147, 148, 150, 151, 152, 154, 155, 156, 158, 159, 160, 162, 163, 164, 166, 167, 168, 170, 171, 172, 174, 175, 176, 178, 179, 180, 182, 183, 184, 186, 187, 188, 190, 191, 192, 194, 195, 196, 198, 199, 201, 202, 203, 205, 206, 207, 209, 210, 211, 213, 214, 215, 217, 218, 220, 221, 222, 224, 225, 226, 228, 229, 230, 232, 233, 234, 236, 237, 238, 240, 241, 242, 244, 245, 246, 248, 249, 250, 252, 253, 254, 256, 257, 258, 260, 261, 262, 263, 264, 265, 266, 268, 269, 270, 272, 273, 274, 276, 277, 278, 280, 281, 282, 284, 285, 286, 288, 289, 290, 292, 293, 294, 296, 297, 298, 300, 301, 302, 304, 305, 306, 308, 309, 310, 312, 313, 314, 316, 317, 318, 320, 321, 322, 324, 325, 326, 328, 329, 330, 332, 333, 334, 336, 337, 338, 340, 341, 342, 344, 345, 346, 348, 349, 350, 352, 353, 354, 356, 357, 358, 360, 361, 362, 364, 365, 366, 368, 369, 370, 371, 372, 373, 374, 376, 377, 378, 380, 381, 382, 384, 385, 386, 388, 389, 390, 392, 393, 394, 396, 397, 398, 400, 401, 402, 404, 405, 406, 408, 409, 411, 412, 413, 415, 416, 417, 419, 420, 421, 423, 424, 425, 427, 428, 429, 431, 432, 433, 435, 436, 437, 439, 440, 441, 443, 444, 445, 447, 448, 449, 451, 452, 453, 455, 456, 457, 459, 460, 461, 463, 464, 465, 467, 468, 469, 471, 472, 473, 475, 476, 478, 479, 480, 482, 483, 484, 486, 487, 488, 490, 491, 492, 493, 494, 495, 496, 497, 498, 500, 501, 502, 504, 505, 506, 508, 509, 510, 512, 513, 514, 516, 517, 518, 520, 521, 522, 524, 525, 526, 528, 529, 530, 532, 533, 534, 536, 537, 538, 540, 541, 542, 544, 545, 546, 548, 549, 550, 552, 553, 554, 556, 557, 558, 560, 561, 562, 564, 565, 566, 568, 569, 570, 572, 573, 574, 576, 577, 578, 580, 581], \"xaxis\": \"x\", \"y\": [1.2645549242695955, 0.9137103444822227, -0.48966797466726864, 0.5628657646948498, -1.89304629381676, 0.9137103444822227, 0.5628657646948498, -0.1388233948798958, 0.5628657646948498, 1.2645549242695955, 0.9137103444822227, -1.1913571342420144, -0.1388233948798958, -0.48966797466726864, -1.1913571342420144, 1.2645549242695955, 0.9137103444822227, -0.48966797466726864, 0.9137103444822227, -0.48966797466726864, -0.48966797466726864, 0.5628657646948498, 0.21202118490747704, -1.542201714029387, 1.2645549242695955, 0.5628657646948498, -1.542201714029387, 1.2645549242695955, 1.2645549242695955, -2.5947354533915057, 0.9137103444822227, 0.9137103444822227, -1.1913571342420144, 0.9137103444822227, 0.21202118490747704, -2.9455800331788784, 1.2645549242695955, -1.1913571342420144, -2.5947354533915057, 1.2645549242695955, -1.1913571342420144, -2.5947354533915057, 0.5628657646948498, 0.5628657646948498, -1.89304629381676, 0.21202118490747704, -1.89304629381676, -3.296424612966251, -0.48966797466726864, -0.8405125544546415, -0.1388233948798958, 1.2645549242695955, -0.8405125544546415, -0.1388233948798958, 0.9137103444822227, 1.2645549242695955, -0.1388233948798958, 1.2645549242695955, 0.21202118490747704, 1.2645549242695955, -0.48966797466726864, -0.48966797466726864, -0.1388233948798958, 0.21202118490747704, 0.9137103444822227, -1.542201714029387, 0.21202118490747704, 1.2645549242695955, -0.1388233948798958, 0.9137103444822227, 0.9137103444822227, -0.48966797466726864, 0.21202118490747704, -2.9455800331788784, -0.48966797466726864, 0.5628657646948498, 0.21202118490747704, -1.1913571342420144, -0.8405125544546415, 1.2645549242695955, -0.1388233948798958, 0.9137103444822227, -1.1913571342420144, 1.2645549242695955, 0.21202118490747704, -1.89304629381676, 0.21202118490747704, -0.1388233948798958, 0.5628657646948498, 1.2645549242695955, -0.8405125544546415, 0.21202118490747704, 1.2645549242695955, 0.9137103444822227, -0.1388233948798958, -0.1388233948798958, 0.9137103444822227, 0.21202118490747704, 0.9137103444822227, -0.48966797466726864, 0.5628657646948498, 0.9137103444822227, 0.5628657646948498, 0.21202118490747704, 1.2645549242695955, -0.48966797466726864, 0.21202118490747704, 1.2645549242695955, 0.5628657646948498, 0.5628657646948498, 0.5628657646948498, 0.21202118490747704, 0.9137103444822227, 0.21202118490747704, 0.21202118490747704, 0.9137103444822227, 1.2645549242695955, -0.48966797466726864, 0.21202118490747704, -0.1388233948798958, 1.2645549242695955, -0.48966797466726864, 0.9137103444822227, 0.5628657646948498, 0.5628657646948498, 0.9137103444822227, 0.21202118490747704, 1.2645549242695955, -0.1388233948798958, -0.48966797466726864, 0.21202118490747704, 0.9137103444822227, 0.5628657646948498, 0.9137103444822227, 1.2645549242695955, 0.9137103444822227, 0.9137103444822227, 0.21202118490747704, -1.542201714029387, 1.2645549242695955, 0.21202118490747704, -1.542201714029387, -0.48966797466726864, 0.9137103444822227, 0.21202118490747704, 1.2645549242695955, 0.21202118490747704, 1.2645549242695955, 0.21202118490747704, -1.89304629381676, -1.542201714029387, -0.8405125544546415, 0.21202118490747704, 0.21202118490747704, 0.5628657646948498, -1.1913571342420144, 0.9137103444822227, 0.5628657646948498, 0.5628657646948498, 0.9137103444822227, 0.9137103444822227, -0.8405125544546415, 1.2645549242695955, -0.8405125544546415, -0.8405125544546415, 0.21202118490747704, 1.2645549242695955, 0.21202118490747704, -0.48966797466726864, 0.5628657646948498, 0.5628657646948498, 0.9137103444822227, -0.8405125544546415, -0.1388233948798958, -0.1388233948798958, -0.1388233948798958, 1.2645549242695955, -0.8405125544546415, 0.5628657646948498, 0.5628657646948498, 0.21202118490747704, -0.1388233948798958, -0.8405125544546415, 0.21202118490747704, 0.21202118490747704, 0.5628657646948498, 0.5628657646948498, 0.9137103444822227, 1.2645549242695955, 0.21202118490747704, 0.5628657646948498, 0.21202118490747704, 0.21202118490747704, 0.9137103444822227, 1.2645549242695955, 0.21202118490747704, 0.5628657646948498, 0.5628657646948498, 0.5628657646948498, -1.89304629381676, 0.21202118490747704, 1.2645549242695955, -0.8405125544546415, 0.5628657646948498, -0.48966797466726864, -0.48966797466726864, 0.9137103444822227, 0.21202118490747704, -2.5947354533915057, 0.21202118490747704, 0.5628657646948498, -2.9455800331788784, 0.9137103444822227, -1.1913571342420144, -1.542201714029387, -0.1388233948798958, -1.1913571342420144, -1.1913571342420144, 0.21202118490747704, -1.1913571342420144, -1.1913571342420144, 0.21202118490747704, -0.8405125544546415, -0.1388233948798958, 0.9137103444822227, -2.243890873604133, -3.296424612966251, 1.2645549242695955, -1.89304629381676, 0.9137103444822227, -0.48966797466726864, -1.1913571342420144, -1.1913571342420144, 0.5628657646948498, -1.542201714029387, -0.1388233948798958, 1.2645549242695955, -0.8405125544546415, 0.21202118490747704, 1.2645549242695955, 0.21202118490747704, -3.6472691927536243, -1.1913571342420144, -0.8405125544546415, 0.9137103444822227, -1.1913571342420144, -0.48966797466726864, 0.21202118490747704, -1.542201714029387, 0.5628657646948498, -0.1388233948798958, -0.8405125544546415, 0.9137103444822227, 0.21202118490747704, 1.2645549242695955, -0.1388233948798958, 0.21202118490747704, -0.48966797466726864, 0.9137103444822227, -1.89304629381676, 1.2645549242695955, -1.1913571342420144, -0.48966797466726864, 0.5628657646948498, 0.5628657646948498, 0.21202118490747704, 1.2645549242695955, -1.1913571342420144, -0.48966797466726864, -0.8405125544546415, 0.5628657646948498, -1.89304629381676, 0.5628657646948498, -0.1388233948798958, -0.1388233948798958, 0.21202118490747704, 0.5628657646948498, 0.9137103444822227, 0.5628657646948498, -1.1913571342420144, 0.9137103444822227, -0.1388233948798958, -0.1388233948798958, -0.1388233948798958, -1.89304629381676, 0.9137103444822227, -0.1388233948798958, -1.542201714029387, 0.21202118490747704, -0.48966797466726864, -0.1388233948798958, -1.1913571342420144, -0.48966797466726864, 0.21202118490747704, -0.1388233948798958, 1.2645549242695955, -0.8405125544546415, 1.2645549242695955, 0.5628657646948498, -0.8405125544546415, 0.5628657646948498, 0.9137103444822227, 0.5628657646948498, 0.9137103444822227, 1.2645549242695955, 0.21202118490747704, -0.48966797466726864, 0.5628657646948498, -0.48966797466726864, 1.2645549242695955, 0.21202118490747704, 0.21202118490747704, 1.2645549242695955, 1.2645549242695955, 1.2645549242695955, 0.5628657646948498, -1.89304629381676, -0.8405125544546415, -0.1388233948798958, -0.8405125544546415, 0.9137103444822227, -1.1913571342420144, 0.21202118490747704, -0.48966797466726864, -0.48966797466726864, -0.1388233948798958, 1.2645549242695955, -0.1388233948798958, 0.5628657646948498, 0.21202118490747704, 0.9137103444822227, -0.1388233948798958, 0.21202118490747704, 0.9137103444822227, -1.1913571342420144, 1.2645549242695955, 0.5628657646948498, 1.2645549242695955, -0.48966797466726864, 0.5628657646948498, 1.2645549242695955, 0.9137103444822227, -0.48966797466726864, 0.5628657646948498, -0.48966797466726864, 1.2645549242695955, 1.2645549242695955, 0.21202118490747704, 0.9137103444822227, 1.2645549242695955, 0.5628657646948498, -1.542201714029387, 1.2645549242695955, 0.9137103444822227, 0.9137103444822227, 0.18631919484121065, -0.7319682654476132, -0.7319682654476132, 0.49241501493748524, -0.11977662525506397, 0.7985108350337599, 0.7985108350337599, 0.49241501493748524, 0.18631919484121065, 0.7985108350337599, 0.18631919484121065, -0.11977662525506397, -0.11977662525506397, 0.7985108350337599, -1.650255725736437, 0.49241501493748524, 0.49241501493748524, -3.7929264664103592, 0.7985108350337599, 0.49241501493748524, -0.11977662525506397, -0.11977662525506397, 0.49241501493748524, -0.8405125544546415, -0.48966797466726864, 0.21202118490747704, -1.89304629381676, 1.2645549242695955, 0.5628657646948498, -0.48966797466726864, -1.1913571342420144, -0.8405125544546415, -0.1388233948798958, -1.89304629381676, -0.48966797466726864, -0.8405125544546415, 0.5628657646948498, -0.1388233948798958, -0.8405125544546415, -0.1388233948798958, -0.48966797466726864, -1.1913571342420144, -1.1913571342420144, -0.1388233948798958, -1.1913571342420144, 0.21202118490747704, 1.2645549242695955, -1.89304629381676, 1.2645549242695955, 0.5628657646948498, -0.1388233948798958, 0.21202118490747704, 0.21202118490747704, -0.1388233948798958, -1.542201714029387, -0.1388233948798958, -0.1388233948798958, 1.2645549242695955, 0.21202118490747704, -0.8405125544546415, 0.21202118490747704, 0.9137103444822227, -0.8405125544546415, -1.89304629381676, -0.48966797466726864, 0.9137103444822227, -0.48966797466726864, -1.89304629381676, -0.8405125544546415, -1.1913571342420144, 0.5628657646948498, 0.9137103444822227, -0.48966797466726864, 0.21202118490747704, 0.9137103444822227, -1.542201714029387, -0.48966797466726864, 0.9137103444822227, 0.21202118490747704, -0.1388233948798958, -0.1388233948798958, -0.8405125544546415, 1.2645549242695955, -0.48966797466726864, -2.243890873604133], \"yaxis\": \"y\"}],                        {\"legend\": {\"title\": {\"text\": \"variable\"}, \"tracegroupgap\": 0}, \"margin\": {\"t\": 60}, \"template\": {\"data\": {\"bar\": [{\"error_x\": {\"color\": \"#2a3f5f\"}, \"error_y\": {\"color\": \"#2a3f5f\"}, \"marker\": {\"line\": {\"color\": \"#E5ECF6\", \"width\": 0.5}}, \"type\": \"bar\"}], \"barpolar\": [{\"marker\": {\"line\": {\"color\": \"#E5ECF6\", \"width\": 0.5}}, \"type\": \"barpolar\"}], \"carpet\": [{\"aaxis\": {\"endlinecolor\": \"#2a3f5f\", \"gridcolor\": \"white\", \"linecolor\": \"white\", \"minorgridcolor\": \"white\", \"startlinecolor\": \"#2a3f5f\"}, \"baxis\": {\"endlinecolor\": \"#2a3f5f\", \"gridcolor\": \"white\", \"linecolor\": \"white\", \"minorgridcolor\": \"white\", \"startlinecolor\": \"#2a3f5f\"}, \"type\": \"carpet\"}], \"choropleth\": [{\"colorbar\": {\"outlinewidth\": 0, \"ticks\": \"\"}, \"type\": \"choropleth\"}], \"contour\": [{\"colorbar\": {\"outlinewidth\": 0, \"ticks\": \"\"}, \"colorscale\": [[0.0, \"#0d0887\"], [0.1111111111111111, \"#46039f\"], [0.2222222222222222, \"#7201a8\"], [0.3333333333333333, \"#9c179e\"], [0.4444444444444444, \"#bd3786\"], [0.5555555555555556, \"#d8576b\"], [0.6666666666666666, \"#ed7953\"], [0.7777777777777778, \"#fb9f3a\"], [0.8888888888888888, \"#fdca26\"], [1.0, \"#f0f921\"]], \"type\": \"contour\"}], \"contourcarpet\": [{\"colorbar\": {\"outlinewidth\": 0, \"ticks\": \"\"}, \"type\": \"contourcarpet\"}], \"heatmap\": [{\"colorbar\": {\"outlinewidth\": 0, \"ticks\": \"\"}, \"colorscale\": [[0.0, \"#0d0887\"], [0.1111111111111111, \"#46039f\"], [0.2222222222222222, \"#7201a8\"], [0.3333333333333333, \"#9c179e\"], [0.4444444444444444, \"#bd3786\"], [0.5555555555555556, \"#d8576b\"], [0.6666666666666666, \"#ed7953\"], [0.7777777777777778, \"#fb9f3a\"], [0.8888888888888888, \"#fdca26\"], [1.0, \"#f0f921\"]], \"type\": \"heatmap\"}], \"heatmapgl\": [{\"colorbar\": {\"outlinewidth\": 0, \"ticks\": \"\"}, \"colorscale\": [[0.0, \"#0d0887\"], [0.1111111111111111, \"#46039f\"], [0.2222222222222222, \"#7201a8\"], [0.3333333333333333, \"#9c179e\"], [0.4444444444444444, \"#bd3786\"], [0.5555555555555556, \"#d8576b\"], [0.6666666666666666, \"#ed7953\"], [0.7777777777777778, \"#fb9f3a\"], [0.8888888888888888, \"#fdca26\"], [1.0, \"#f0f921\"]], \"type\": \"heatmapgl\"}], \"histogram\": [{\"marker\": {\"colorbar\": {\"outlinewidth\": 0, \"ticks\": \"\"}}, \"type\": \"histogram\"}], \"histogram2d\": [{\"colorbar\": {\"outlinewidth\": 0, \"ticks\": \"\"}, \"colorscale\": [[0.0, \"#0d0887\"], [0.1111111111111111, \"#46039f\"], [0.2222222222222222, \"#7201a8\"], [0.3333333333333333, \"#9c179e\"], [0.4444444444444444, \"#bd3786\"], [0.5555555555555556, \"#d8576b\"], [0.6666666666666666, \"#ed7953\"], [0.7777777777777778, \"#fb9f3a\"], [0.8888888888888888, \"#fdca26\"], [1.0, \"#f0f921\"]], \"type\": \"histogram2d\"}], \"histogram2dcontour\": [{\"colorbar\": {\"outlinewidth\": 0, \"ticks\": \"\"}, \"colorscale\": [[0.0, \"#0d0887\"], [0.1111111111111111, \"#46039f\"], [0.2222222222222222, \"#7201a8\"], [0.3333333333333333, \"#9c179e\"], [0.4444444444444444, \"#bd3786\"], [0.5555555555555556, \"#d8576b\"], [0.6666666666666666, \"#ed7953\"], [0.7777777777777778, \"#fb9f3a\"], [0.8888888888888888, \"#fdca26\"], [1.0, \"#f0f921\"]], \"type\": \"histogram2dcontour\"}], \"mesh3d\": [{\"colorbar\": {\"outlinewidth\": 0, \"ticks\": \"\"}, \"type\": \"mesh3d\"}], \"parcoords\": [{\"line\": {\"colorbar\": {\"outlinewidth\": 0, \"ticks\": \"\"}}, \"type\": \"parcoords\"}], \"pie\": [{\"automargin\": true, \"type\": \"pie\"}], \"scatter\": [{\"marker\": {\"colorbar\": {\"outlinewidth\": 0, \"ticks\": \"\"}}, \"type\": \"scatter\"}], \"scatter3d\": [{\"line\": {\"colorbar\": {\"outlinewidth\": 0, \"ticks\": \"\"}}, \"marker\": {\"colorbar\": {\"outlinewidth\": 0, \"ticks\": \"\"}}, \"type\": \"scatter3d\"}], \"scattercarpet\": [{\"marker\": {\"colorbar\": {\"outlinewidth\": 0, \"ticks\": \"\"}}, \"type\": \"scattercarpet\"}], \"scattergeo\": [{\"marker\": {\"colorbar\": {\"outlinewidth\": 0, \"ticks\": \"\"}}, \"type\": \"scattergeo\"}], \"scattergl\": [{\"marker\": {\"colorbar\": {\"outlinewidth\": 0, \"ticks\": \"\"}}, \"type\": \"scattergl\"}], \"scattermapbox\": [{\"marker\": {\"colorbar\": {\"outlinewidth\": 0, \"ticks\": \"\"}}, \"type\": \"scattermapbox\"}], \"scatterpolar\": [{\"marker\": {\"colorbar\": {\"outlinewidth\": 0, \"ticks\": \"\"}}, \"type\": \"scatterpolar\"}], \"scatterpolargl\": [{\"marker\": {\"colorbar\": {\"outlinewidth\": 0, \"ticks\": \"\"}}, \"type\": \"scatterpolargl\"}], \"scatterternary\": [{\"marker\": {\"colorbar\": {\"outlinewidth\": 0, \"ticks\": \"\"}}, \"type\": \"scatterternary\"}], \"surface\": [{\"colorbar\": {\"outlinewidth\": 0, \"ticks\": \"\"}, \"colorscale\": [[0.0, \"#0d0887\"], [0.1111111111111111, \"#46039f\"], [0.2222222222222222, \"#7201a8\"], [0.3333333333333333, \"#9c179e\"], [0.4444444444444444, \"#bd3786\"], [0.5555555555555556, \"#d8576b\"], [0.6666666666666666, \"#ed7953\"], [0.7777777777777778, \"#fb9f3a\"], [0.8888888888888888, \"#fdca26\"], [1.0, \"#f0f921\"]], \"type\": \"surface\"}], \"table\": [{\"cells\": {\"fill\": {\"color\": \"#EBF0F8\"}, \"line\": {\"color\": \"white\"}}, \"header\": {\"fill\": {\"color\": \"#C8D4E3\"}, \"line\": {\"color\": \"white\"}}, \"type\": \"table\"}]}, \"layout\": {\"annotationdefaults\": {\"arrowcolor\": \"#2a3f5f\", \"arrowhead\": 0, \"arrowwidth\": 1}, \"coloraxis\": {\"colorbar\": {\"outlinewidth\": 0, \"ticks\": \"\"}}, \"colorscale\": {\"diverging\": [[0, \"#8e0152\"], [0.1, \"#c51b7d\"], [0.2, \"#de77ae\"], [0.3, \"#f1b6da\"], [0.4, \"#fde0ef\"], [0.5, \"#f7f7f7\"], [0.6, \"#e6f5d0\"], [0.7, \"#b8e186\"], [0.8, \"#7fbc41\"], [0.9, \"#4d9221\"], [1, \"#276419\"]], \"sequential\": [[0.0, \"#0d0887\"], [0.1111111111111111, \"#46039f\"], [0.2222222222222222, \"#7201a8\"], [0.3333333333333333, \"#9c179e\"], [0.4444444444444444, \"#bd3786\"], [0.5555555555555556, \"#d8576b\"], [0.6666666666666666, \"#ed7953\"], [0.7777777777777778, \"#fb9f3a\"], [0.8888888888888888, \"#fdca26\"], [1.0, \"#f0f921\"]], \"sequentialminus\": [[0.0, \"#0d0887\"], [0.1111111111111111, \"#46039f\"], [0.2222222222222222, \"#7201a8\"], [0.3333333333333333, \"#9c179e\"], [0.4444444444444444, \"#bd3786\"], [0.5555555555555556, \"#d8576b\"], [0.6666666666666666, \"#ed7953\"], [0.7777777777777778, \"#fb9f3a\"], [0.8888888888888888, \"#fdca26\"], [1.0, \"#f0f921\"]]}, \"colorway\": [\"#636efa\", \"#EF553B\", \"#00cc96\", \"#ab63fa\", \"#FFA15A\", \"#19d3f3\", \"#FF6692\", \"#B6E880\", \"#FF97FF\", \"#FECB52\"], \"font\": {\"color\": \"#2a3f5f\"}, \"geo\": {\"bgcolor\": \"white\", \"lakecolor\": \"white\", \"landcolor\": \"#E5ECF6\", \"showlakes\": true, \"showland\": true, \"subunitcolor\": \"white\"}, \"hoverlabel\": {\"align\": \"left\"}, \"hovermode\": \"closest\", \"mapbox\": {\"style\": \"light\"}, \"paper_bgcolor\": \"white\", \"plot_bgcolor\": \"#E5ECF6\", \"polar\": {\"angularaxis\": {\"gridcolor\": \"white\", \"linecolor\": \"white\", \"ticks\": \"\"}, \"bgcolor\": \"#E5ECF6\", \"radialaxis\": {\"gridcolor\": \"white\", \"linecolor\": \"white\", \"ticks\": \"\"}}, \"scene\": {\"xaxis\": {\"backgroundcolor\": \"#E5ECF6\", \"gridcolor\": \"white\", \"gridwidth\": 2, \"linecolor\": \"white\", \"showbackground\": true, \"ticks\": \"\", \"zerolinecolor\": \"white\"}, \"yaxis\": {\"backgroundcolor\": \"#E5ECF6\", \"gridcolor\": \"white\", \"gridwidth\": 2, \"linecolor\": \"white\", \"showbackground\": true, \"ticks\": \"\", \"zerolinecolor\": \"white\"}, \"zaxis\": {\"backgroundcolor\": \"#E5ECF6\", \"gridcolor\": \"white\", \"gridwidth\": 2, \"linecolor\": \"white\", \"showbackground\": true, \"ticks\": \"\", \"zerolinecolor\": \"white\"}}, \"shapedefaults\": {\"line\": {\"color\": \"#2a3f5f\"}}, \"ternary\": {\"aaxis\": {\"gridcolor\": \"white\", \"linecolor\": \"white\", \"ticks\": \"\"}, \"baxis\": {\"gridcolor\": \"white\", \"linecolor\": \"white\", \"ticks\": \"\"}, \"bgcolor\": \"#E5ECF6\", \"caxis\": {\"gridcolor\": \"white\", \"linecolor\": \"white\", \"ticks\": \"\"}}, \"title\": {\"x\": 0.05}, \"xaxis\": {\"automargin\": true, \"gridcolor\": \"white\", \"linecolor\": \"white\", \"ticks\": \"\", \"title\": {\"standoff\": 15}, \"zerolinecolor\": \"white\", \"zerolinewidth\": 2}, \"yaxis\": {\"automargin\": true, \"gridcolor\": \"white\", \"linecolor\": \"white\", \"ticks\": \"\", \"title\": {\"standoff\": 15}, \"zerolinecolor\": \"white\", \"zerolinewidth\": 2}}}, \"xaxis\": {\"anchor\": \"y\", \"domain\": [0.0, 1.0], \"title\": {\"text\": \"index\"}}, \"yaxis\": {\"anchor\": \"x\", \"domain\": [0.0, 1.0], \"title\": {\"text\": \"value\"}}},                        {\"responsive\": true}                    ).then(function(){\n",
       "                            \n",
       "var gd = document.getElementById('0a4543cc-c98c-4be5-9564-79e0c81c0979');\n",
       "var x = new MutationObserver(function (mutations, observer) {{\n",
       "        var display = window.getComputedStyle(gd).display;\n",
       "        if (!display || display === 'none') {{\n",
       "            console.log([gd, 'removed!']);\n",
       "            Plotly.purge(gd);\n",
       "            observer.disconnect();\n",
       "        }}\n",
       "}});\n",
       "\n",
       "// Listen for the removal of the full notebook cells\n",
       "var notebookContainer = gd.closest('#notebook-container');\n",
       "if (notebookContainer) {{\n",
       "    x.observe(notebookContainer, {childList: true});\n",
       "}}\n",
       "\n",
       "// Listen for the clearing of the current output cell\n",
       "var outputEl = gd.closest('.output');\n",
       "if (outputEl) {{\n",
       "    x.observe(outputEl, {childList: true});\n",
       "}}\n",
       "\n",
       "                        })                };                });            </script>        </div>"
      ]
     },
     "metadata": {},
     "output_type": "display_data"
    }
   ],
   "source": [
    "px.line(df[\"Ross\"].dropna())"
   ]
  },
  {
   "cell_type": "code",
   "execution_count": 288,
   "metadata": {},
   "outputs": [
    {
     "data": {
      "application/vnd.plotly.v1+json": {
       "config": {
        "plotlyServerURL": "https://plot.ly"
       },
       "data": [
        {
         "hovertemplate": "variable=Total: <br>index=%{x}<br>value=%{y}<extra></extra>",
         "legendgroup": "Total: ",
         "line": {
          "color": "#636efa",
          "dash": "solid"
         },
         "mode": "lines",
         "name": "Total: ",
         "orientation": "v",
         "showlegend": true,
         "type": "scatter",
         "x": [
          0,
          1,
          2,
          3,
          4,
          5,
          6,
          7,
          8,
          9,
          10,
          11,
          12,
          13,
          14,
          15,
          16,
          17,
          18,
          19,
          20,
          21,
          22,
          23,
          24,
          25,
          26,
          27,
          28,
          29,
          30,
          31,
          32,
          33,
          34,
          35,
          36,
          37,
          38,
          39,
          40,
          41,
          42,
          43,
          44,
          45,
          46,
          47,
          48,
          49,
          50,
          51,
          52,
          53,
          54,
          55,
          56,
          57,
          58,
          59,
          60,
          61,
          62,
          63,
          64,
          65,
          66,
          67,
          68,
          69,
          70,
          71,
          72,
          73,
          74,
          75,
          76,
          77,
          78,
          79,
          80,
          81,
          82,
          83,
          84,
          85,
          86,
          87,
          88,
          89,
          90,
          91,
          92,
          93,
          94,
          95,
          96,
          97,
          98,
          99,
          100,
          101,
          102,
          103,
          104,
          105,
          106,
          107,
          108,
          109,
          110,
          111,
          112,
          113,
          114,
          115,
          116,
          117,
          118,
          119,
          120,
          121,
          122,
          123,
          124,
          125,
          126,
          127,
          128,
          129,
          130,
          131,
          132,
          133,
          134,
          135,
          136,
          137,
          138,
          139,
          140,
          141,
          142,
          143,
          144,
          145,
          146,
          147,
          148,
          149,
          150,
          151,
          152,
          153,
          154,
          155,
          156,
          157,
          158,
          159,
          160,
          161,
          162,
          163,
          164,
          165,
          166,
          167,
          168,
          169,
          170,
          171,
          172,
          173,
          174,
          175,
          176,
          177,
          178,
          179,
          180,
          181,
          182,
          183,
          184,
          185,
          186,
          187,
          188,
          189,
          190,
          191,
          192,
          193,
          194,
          195,
          196,
          197,
          198,
          199,
          200,
          201,
          202,
          203,
          204,
          205,
          206,
          207,
          208,
          209,
          210,
          211,
          212,
          213,
          214,
          215,
          216,
          217,
          218,
          219,
          220,
          221,
          222,
          223,
          224,
          225,
          226,
          227,
          228,
          229,
          230,
          231,
          232,
          233,
          234,
          235,
          236,
          237,
          238,
          239,
          240,
          241,
          242,
          243,
          244,
          245,
          246,
          247,
          248,
          249,
          250,
          251,
          252,
          253,
          254,
          255,
          256,
          257,
          258,
          259,
          260,
          261,
          262,
          263,
          264,
          265,
          266,
          267,
          268,
          269,
          270,
          271,
          272,
          273,
          274,
          275,
          276,
          277,
          278,
          279,
          280,
          281,
          282,
          283,
          284,
          285,
          286,
          287,
          288,
          289,
          290,
          291,
          292,
          293,
          294,
          295,
          296,
          297,
          298,
          299,
          300,
          301,
          302,
          303,
          304,
          305,
          306,
          307,
          308,
          309,
          310,
          311,
          312,
          313,
          314,
          315,
          316,
          317,
          318,
          319,
          320,
          321,
          322,
          323,
          324,
          325,
          326,
          327,
          328,
          329,
          330,
          331,
          332,
          333,
          334,
          335,
          336,
          337,
          338,
          339,
          340,
          341,
          342,
          343,
          344,
          345,
          346,
          347,
          348,
          349,
          350,
          351,
          352,
          353,
          354,
          355,
          356,
          357,
          358,
          359,
          360,
          361,
          362,
          363,
          364,
          365,
          366,
          367,
          368,
          369,
          370,
          371,
          372,
          373,
          374,
          375,
          376,
          377,
          378,
          379,
          380,
          381,
          382,
          383,
          384,
          385,
          386,
          387,
          388,
          389,
          390,
          391,
          392,
          393,
          394,
          395,
          396,
          397,
          398,
          399,
          400,
          401,
          402,
          403,
          404,
          405,
          406,
          407,
          408,
          409,
          410,
          411,
          412,
          413,
          414,
          415,
          416,
          417,
          418,
          419,
          420,
          421,
          422,
          423,
          424,
          425,
          426,
          427,
          428,
          429,
          430,
          431,
          432,
          433,
          434,
          435,
          436,
          437,
          438,
          439,
          440,
          441,
          442,
          443,
          444,
          445,
          446,
          447,
          448,
          449,
          450,
          451,
          452,
          453,
          454,
          455,
          456,
          457,
          458,
          459,
          460,
          461,
          462,
          463,
          464,
          465,
          466,
          467,
          468,
          469,
          470,
          471,
          472,
          473,
          474,
          475,
          476,
          477,
          478,
          479,
          480,
          481,
          482,
          483,
          484,
          485,
          486,
          487,
          488,
          489,
          490,
          491,
          492,
          493,
          494,
          495,
          496,
          497,
          498,
          499,
          500,
          501,
          502,
          503,
          504,
          505,
          506,
          507,
          508,
          509,
          510,
          511,
          512,
          513,
          514,
          515,
          516,
          517,
          518,
          519,
          520,
          521,
          522,
          523,
          524,
          525,
          526,
          527,
          528,
          529,
          530,
          531,
          532,
          533,
          534,
          535,
          536,
          537,
          538,
          539,
          540,
          541,
          542,
          543,
          544,
          545,
          546,
          547,
          548,
          549,
          550,
          551,
          552,
          553,
          554,
          555,
          556,
          557,
          558,
          559,
          560,
          561,
          562,
          563,
          564,
          565,
          566,
          567,
          568,
          569,
          570,
          571,
          572,
          573,
          574,
          575,
          576,
          577,
          578,
          579,
          580,
          581
         ],
         "xaxis": "x",
         "y": [
          -1.2722874842482763,
          1.8292995522821895,
          1.5191408486291431,
          0.6920509722210187,
          -0.6519700769421831,
          -0.9621287805952297,
          2.0360720213842205,
          1.0022096758740653,
          -0.6519700769421831,
          0.7954372067720343,
          1.312368379527112,
          0.5886647376700033,
          -0.6519700769421831,
          0.5886647376700033,
          1.105595910425081,
          0.48527850311898774,
          -0.6519700769421831,
          0.3818922685679722,
          1.105595910425081,
          0.8988234413230498,
          -0.238425138738121,
          0.5886647376700033,
          1.4157546140781274,
          0.7954372067720343,
          -0.3418113732891365,
          0.48527850311898774,
          0.7954372067720343,
          1.312368379527112,
          0.48527850311898774,
          0.6920509722210187,
          0.6920509722210187,
          0.7954372067720343,
          0.48527850311898774,
          1.0022096758740653,
          1.2089821449760965,
          0.5886647376700033,
          -0.44519760784015205,
          0.27850603401695667,
          0.7954372067720343,
          0.3818922685679722,
          -0.44519760784015205,
          0.5886647376700033,
          1.2089821449760965,
          0.0717335649149256,
          -0.13503890418710546,
          0.1751197994659411,
          0.6920509722210187,
          0.1751197994659411,
          0.0717335649149256,
          -0.03165266963608994,
          -0.7553563114931986,
          -0.13503890418710546,
          -0.13503890418710546,
          2.0360720213842205,
          0.0717335649149256,
          1.105595910425081,
          0.0717335649149256,
          1.0022096758740653,
          0.27850603401695667,
          -0.44519760784015205,
          0.27850603401695667,
          1.6225270831801586,
          0.0717335649149256,
          -0.3418113732891365,
          -0.238425138738121,
          1.8292995522821895,
          -0.6519700769421831,
          0.3818922685679722,
          -0.13503890418710546,
          1.312368379527112,
          -0.03165266963608994,
          0.27850603401695667,
          -0.3418113732891365,
          1.105595910425081,
          0.5886647376700033,
          0.5886647376700033,
          0.27850603401695667,
          1.6225270831801586,
          1.725913317731174,
          2.139458255935236,
          -0.238425138738121,
          1.0022096758740653,
          1.0022096758740653,
          -1.4790599533503073,
          -0.03165266963608994,
          1.105595910425081,
          0.3818922685679722,
          -1.2722874842482763,
          0.0717335649149256,
          1.312368379527112,
          0.5886647376700033,
          -1.4790599533503073,
          0.5886647376700033,
          1.6225270831801586,
          0.6920509722210187,
          -1.582446187901323,
          -0.03165266963608994,
          1.5191408486291431,
          0.5886647376700033,
          -0.8587425460442142,
          -0.9621287805952297,
          1.2089821449760965,
          0.6920509722210187,
          -0.5485838423911676,
          -0.6519700769421831,
          1.5191408486291431,
          0.6920509722210187,
          -0.6519700769421831,
          -0.6519700769421831,
          1.5191408486291431,
          0.8988234413230498,
          -1.1689012496972608,
          0.27850603401695667,
          1.6225270831801586,
          0.8988234413230498,
          -1.2722874842482763,
          0.0717335649149256,
          0.7954372067720343,
          0.3818922685679722,
          0.27850603401695667,
          0.1751197994659411,
          1.5191408486291431,
          1.0022096758740653,
          -0.44519760784015205,
          0.48527850311898774,
          1.105595910425081,
          0.6920509722210187,
          -1.1689012496972608,
          -0.44519760784015205,
          1.312368379527112,
          0.7954372067720343,
          -1.2722874842482763,
          -0.5485838423911676,
          0.8988234413230498,
          0.6920509722210187,
          -1.1689012496972608,
          -0.9621287805952297,
          0.6920509722210187,
          0.8988234413230498,
          -1.582446187901323,
          -1.0655150151462451,
          0.7954372067720343,
          0.48527850311898774,
          -1.1689012496972608,
          -0.3418113732891365,
          1.105595910425081,
          0.5886647376700033,
          -0.13503890418710546,
          -0.03165266963608994,
          1.105595910425081,
          0.6920509722210187,
          -0.7553563114931986,
          -0.5485838423911676,
          1.105595910425081,
          0.6920509722210187,
          -1.0655150151462451,
          -0.238425138738121,
          1.312368379527112,
          0.27850603401695667,
          -1.3756737187992918,
          -0.9621287805952297,
          1.105595910425081,
          0.7954372067720343,
          -1.4790599533503073,
          0.6920509722210187,
          0.8988234413230498,
          1.0022096758740653,
          -0.6519700769421831,
          0.8988234413230498,
          1.105595910425081,
          1.2089821449760965,
          -1.789218657003354,
          -0.5485838423911676,
          1.0022096758740653,
          0.8988234413230498,
          -0.13503890418710546,
          0.0717335649149256,
          1.2089821449760965,
          0.8988234413230498,
          -0.3418113732891365,
          -0.44519760784015205,
          0.7954372067720343,
          0.0717335649149256,
          0.8988234413230498,
          -0.8587425460442142,
          1.9326857868332052,
          0.3818922685679722,
          -0.8587425460442142,
          -0.13503890418710546,
          2.0360720213842205,
          1.105595910425081,
          -0.7553563114931986,
          0.8988234413230498,
          0.8988234413230498,
          0.6920509722210187,
          -1.0655150151462451,
          -0.8587425460442142,
          0.8988234413230498,
          -0.44519760784015205,
          -1.0655150151462451,
          0.6920509722210187,
          0.1751197994659411,
          -0.8587425460442142,
          -0.3418113732891365,
          0.6920509722210187,
          -0.5485838423911676,
          -0.8587425460442142,
          0.0717335649149256,
          0.6920509722210187,
          -0.44519760784015205,
          -0.8587425460442142,
          0.27850603401695667,
          0.3818922685679722,
          -0.44519760784015205,
          -0.7553563114931986,
          0.0717335649149256,
          0.8988234413230498,
          -0.3418113732891365,
          -0.238425138738121,
          1.105595910425081,
          -0.238425138738121,
          -1.0655150151462451,
          -0.6519700769421831,
          1.9326857868332052,
          -0.44519760784015205,
          -2.4095360643094472,
          -0.13503890418710546,
          1.2089821449760965,
          -0.7553563114931986,
          -0.9621287805952297,
          -0.238425138738121,
          2.139458255935236,
          -0.5485838423911676,
          -1.1689012496972608,
          -1.1689012496972608,
          2.139458255935236,
          -0.7553563114931986,
          -0.3418113732891365,
          -1.2722874842482763,
          null,
          0.27850603401695667,
          -0.7553563114931986,
          0.3818922685679722,
          0.6920509722210187,
          0.3818922685679722,
          -0.13503890418710546,
          -0.5485838423911676,
          1.105595910425081,
          1.0022096758740653,
          -0.8587425460442142,
          -0.7553563114931986,
          1.0022096758740653,
          0.3818922685679722,
          -0.9621287805952297,
          0.27850603401695667,
          1.5191408486291431,
          0.8988234413230498,
          -0.6519700769421831,
          -0.03165266963608994,
          0.7954372067720343,
          0.1751197994659411,
          -0.6519700769421831,
          -1.582446187901323,
          1.2089821449760965,
          -0.03165266963608994,
          -0.6519700769421831,
          0.0717335649149256,
          0.6920509722210187,
          -0.03165266963608994,
          0.1751197994659411,
          -0.9621287805952297,
          0.7954372067720343,
          0.0717335649149256,
          0.3818922685679722,
          -1.2722874842482763,
          0.7954372067720343,
          -0.238425138738121,
          0.1751197994659411,
          -0.44519760784015205,
          0.3818922685679722,
          -0.44519760784015205,
          -0.13503890418710546,
          -0.7553563114931986,
          0.48527850311898774,
          -0.3418113732891365,
          -0.5485838423911676,
          -1.582446187901323,
          1.2089821449760965,
          -0.238425138738121,
          -0.9621287805952297,
          -0.9621287805952297,
          1.105595910425081,
          0.48527850311898774,
          -0.7553563114931986,
          -2.4095360643094472,
          0.7954372067720343,
          1.2089821449760965,
          0.0717335649149256,
          -1.789218657003354,
          1.105595910425081,
          -1.3756737187992918,
          0.1751197994659411,
          -0.7553563114931986,
          0.8988234413230498,
          1.8292995522821895,
          -0.03165266963608994,
          0.1751197994659411,
          0.8988234413230498,
          0.1751197994659411,
          -0.3418113732891365,
          -1.2722874842482763,
          1.105595910425081,
          0.27850603401695667,
          -1.0655150151462451,
          -0.44519760784015205,
          0.8988234413230498,
          -1.0655150151462451,
          -0.6519700769421831,
          -0.3418113732891365,
          0.6920509722210187,
          -1.995991126105385,
          -0.6519700769421831,
          -2.0993773606564003,
          0.6920509722210187,
          -0.8587425460442142,
          -0.7553563114931986,
          -1.995991126105385,
          1.0022096758740653,
          0.3818922685679722,
          -1.6858324224523384,
          -0.8587425460442142,
          0.8988234413230498,
          -0.7553563114931986,
          -0.6519700769421831,
          -2.5129222988604627,
          0.7954372067720343,
          -3.0298534716155405,
          0.0717335649149256,
          -0.8587425460442142,
          0.6920509722210187,
          -1.1689012496972608,
          -0.3418113732891365,
          -1.3756737187992918,
          0.7954372067720343,
          -1.1689012496972608,
          -0.8587425460442142,
          -1.1689012496972608,
          0.5886647376700033,
          -1.2722874842482763,
          -0.7553563114931986,
          -0.8587425460442142,
          0.8988234413230498,
          -0.8587425460442142,
          -0.3418113732891365,
          -0.44519760784015205,
          1.2089821449760965,
          -1.582446187901323,
          -1.582446187901323,
          -0.13503890418710546,
          0.7954372067720343,
          -1.1689012496972608,
          -2.2027635952074163,
          -0.03165266963608994,
          1.105595910425081,
          -0.44519760784015205,
          -1.2722874842482763,
          -0.9621287805952297,
          1.105595910425081,
          -0.5485838423911676,
          -0.7553563114931986,
          -1.995991126105385,
          0.8988234413230498,
          0.6920509722210187,
          -1.1689012496972608,
          -1.6858324224523384,
          0.5886647376700033,
          -1.789218657003354,
          -0.03165266963608994,
          -0.6519700769421831,
          1.5191408486291431,
          -0.7553563114931986,
          -0.7553563114931986,
          -1.8926048915543694,
          0.8988234413230498,
          -0.5485838423911676,
          -0.238425138738121,
          -0.9621287805952297,
          1.0022096758740653,
          -0.03165266963608994,
          -0.8587425460442142,
          -0.8587425460442142,
          1.0022096758740653,
          0.5886647376700033,
          -0.8587425460442142,
          0.27850603401695667,
          0.8988234413230498,
          0.7954372067720343,
          -0.238425138738121,
          -0.6519700769421831,
          0.8988234413230498,
          0.7954372067720343,
          -1.582446187901323,
          -0.7553563114931986,
          1.6225270831801586,
          -0.03165266963608994,
          0.27850603401695667,
          -1.1689012496972608,
          1.0022096758740653,
          0.1751197994659411,
          -0.13503890418710546,
          0.7954372067720343,
          0.48527850311898774,
          -0.03165266963608994,
          -1.4790599533503073,
          0.7954372067720343,
          0.8988234413230498,
          0.1751197994659411,
          -1.4790599533503073,
          1.9326857868332052,
          0.27850603401695667,
          -0.9621287805952297,
          -1.1689012496972608,
          0.5886647376700033,
          -0.9621287805952297,
          -0.3418113732891365,
          0.0717335649149256,
          1.0022096758740653,
          -0.13503890418710546,
          -0.238425138738121,
          -0.5485838423911676,
          0.48527850311898774,
          0.0717335649149256,
          -0.13503890418710546,
          0.1751197994659411,
          1.2089821449760965,
          0.48527850311898774,
          -0.5485838423911676,
          -0.5485838423911676,
          1.105595910425081,
          -0.3418113732891365,
          0.0717335649149256,
          -0.6519700769421831,
          1.0022096758740653,
          -0.9621287805952297,
          -0.7553563114931986,
          -0.13503890418710546,
          1.105595910425081,
          -0.238425138738121,
          -0.9621287805952297,
          -0.238425138738121,
          1.0022096758740653,
          -1.1689012496972608,
          -0.44519760784015205,
          0.0717335649149256,
          1.4157546140781274,
          -0.238425138738121,
          -0.6519700769421831,
          -0.238425138738121,
          1.2089821449760965,
          -0.44519760784015205,
          -0.13503890418710546,
          1.0022096758740653,
          1.4157546140781274,
          -1.2722874842482763,
          -0.238425138738121,
          0.48527850311898774,
          1.0022096758740653,
          -0.03165266963608994,
          -0.8587425460442142,
          0.0717335649149256,
          1.1651503814248838,
          -0.8596802439726668,
          -0.8596802439726668,
          -0.3534725876232792,
          1.6713580377742714,
          -1.1127840721473607,
          -2.7579589552828705,
          0.40583889690080227,
          0.9120465532501899,
          0.6589427250754961,
          -0.8596802439726668,
          1.0385984673375368,
          0.5323908109881492,
          -0.3534725876232792,
          -1.6189917284967483,
          1.0385984673375368,
          0.15273506872610845,
          -0.10036875944858537,
          0.5323908109881492,
          1.6713580377742714,
          -0.3534725876232792,
          -0.8596802439726668,
          -0.9862321580600137,
          0.40583889690080227,
          1.2917022955122306,
          0.026183154638761537,
          0.15273506872610845,
          -0.4800245017106261,
          -0.10036875944858537,
          1.312368379527112,
          -0.03165266963608994,
          0.0717335649149256,
          0.1751197994659411,
          1.725913317731174,
          -0.03165266963608994,
          -1.3756737187992918,
          0.1751197994659411,
          2.139458255935236,
          0.27850603401695667,
          -1.2722874842482763,
          -0.44519760784015205,
          2.0360720213842205,
          0.8988234413230498,
          -0.7553563114931986,
          0.0717335649149256,
          2.139458255935236,
          0.48527850311898774,
          -0.44519760784015205,
          -1.1689012496972608,
          2.0360720213842205,
          -0.03165266963608994,
          -0.3418113732891365,
          -1.1689012496972608,
          1.5191408486291431,
          -0.3418113732891365,
          -1.3756737187992918,
          -2.823081002513509,
          1.2089821449760965,
          0.0717335649149256,
          -1.2722874842482763,
          0.5886647376700033,
          1.312368379527112,
          0.27850603401695667,
          -0.7553563114931986,
          0.48527850311898774,
          2.139458255935236,
          0.0717335649149256,
          -1.2722874842482763,
          -1.6858324224523384,
          0.48527850311898774,
          0.27850603401695667,
          -1.582446187901323,
          -1.1689012496972608,
          0.6920509722210187,
          -0.44519760784015205,
          -1.6858324224523384,
          -1.2722874842482763,
          0.8988234413230498,
          0.27850603401695667,
          -1.8926048915543694,
          -1.2722874842482763,
          0.8988234413230498,
          0.27850603401695667,
          -1.995991126105385,
          -2.2027635952074163,
          0.6920509722210187,
          -0.13503890418710546,
          -2.0993773606564003,
          -1.995991126105385,
          1.105595910425081,
          -1.6858324224523384,
          -0.3418113732891365,
          -1.0655150151462451,
          1.0022096758740653,
          0.48527850311898774,
          -1.0655150151462451,
          -2.4095360643094472,
          1.0022096758740653,
          -0.9621287805952297,
          -0.9621287805952297,
          -1.8926048915543694,
          1.2089821449760965,
          0.8988234413230498,
          -1.8926048915543694,
          -2.4095360643094472,
          0.7954372067720343,
          0.3818922685679722,
          -0.5485838423911676,
          -2.4095360643094472,
          0.8988234413230498,
          -1.2722874842482763,
          -1.789218657003354
         ],
         "yaxis": "y"
        }
       ],
       "layout": {
        "legend": {
         "title": {
          "text": "variable"
         },
         "tracegroupgap": 0
        },
        "margin": {
         "t": 60
        },
        "template": {
         "data": {
          "bar": [
           {
            "error_x": {
             "color": "#2a3f5f"
            },
            "error_y": {
             "color": "#2a3f5f"
            },
            "marker": {
             "line": {
              "color": "#E5ECF6",
              "width": 0.5
             }
            },
            "type": "bar"
           }
          ],
          "barpolar": [
           {
            "marker": {
             "line": {
              "color": "#E5ECF6",
              "width": 0.5
             }
            },
            "type": "barpolar"
           }
          ],
          "carpet": [
           {
            "aaxis": {
             "endlinecolor": "#2a3f5f",
             "gridcolor": "white",
             "linecolor": "white",
             "minorgridcolor": "white",
             "startlinecolor": "#2a3f5f"
            },
            "baxis": {
             "endlinecolor": "#2a3f5f",
             "gridcolor": "white",
             "linecolor": "white",
             "minorgridcolor": "white",
             "startlinecolor": "#2a3f5f"
            },
            "type": "carpet"
           }
          ],
          "choropleth": [
           {
            "colorbar": {
             "outlinewidth": 0,
             "ticks": ""
            },
            "type": "choropleth"
           }
          ],
          "contour": [
           {
            "colorbar": {
             "outlinewidth": 0,
             "ticks": ""
            },
            "colorscale": [
             [
              0,
              "#0d0887"
             ],
             [
              0.1111111111111111,
              "#46039f"
             ],
             [
              0.2222222222222222,
              "#7201a8"
             ],
             [
              0.3333333333333333,
              "#9c179e"
             ],
             [
              0.4444444444444444,
              "#bd3786"
             ],
             [
              0.5555555555555556,
              "#d8576b"
             ],
             [
              0.6666666666666666,
              "#ed7953"
             ],
             [
              0.7777777777777778,
              "#fb9f3a"
             ],
             [
              0.8888888888888888,
              "#fdca26"
             ],
             [
              1,
              "#f0f921"
             ]
            ],
            "type": "contour"
           }
          ],
          "contourcarpet": [
           {
            "colorbar": {
             "outlinewidth": 0,
             "ticks": ""
            },
            "type": "contourcarpet"
           }
          ],
          "heatmap": [
           {
            "colorbar": {
             "outlinewidth": 0,
             "ticks": ""
            },
            "colorscale": [
             [
              0,
              "#0d0887"
             ],
             [
              0.1111111111111111,
              "#46039f"
             ],
             [
              0.2222222222222222,
              "#7201a8"
             ],
             [
              0.3333333333333333,
              "#9c179e"
             ],
             [
              0.4444444444444444,
              "#bd3786"
             ],
             [
              0.5555555555555556,
              "#d8576b"
             ],
             [
              0.6666666666666666,
              "#ed7953"
             ],
             [
              0.7777777777777778,
              "#fb9f3a"
             ],
             [
              0.8888888888888888,
              "#fdca26"
             ],
             [
              1,
              "#f0f921"
             ]
            ],
            "type": "heatmap"
           }
          ],
          "heatmapgl": [
           {
            "colorbar": {
             "outlinewidth": 0,
             "ticks": ""
            },
            "colorscale": [
             [
              0,
              "#0d0887"
             ],
             [
              0.1111111111111111,
              "#46039f"
             ],
             [
              0.2222222222222222,
              "#7201a8"
             ],
             [
              0.3333333333333333,
              "#9c179e"
             ],
             [
              0.4444444444444444,
              "#bd3786"
             ],
             [
              0.5555555555555556,
              "#d8576b"
             ],
             [
              0.6666666666666666,
              "#ed7953"
             ],
             [
              0.7777777777777778,
              "#fb9f3a"
             ],
             [
              0.8888888888888888,
              "#fdca26"
             ],
             [
              1,
              "#f0f921"
             ]
            ],
            "type": "heatmapgl"
           }
          ],
          "histogram": [
           {
            "marker": {
             "colorbar": {
              "outlinewidth": 0,
              "ticks": ""
             }
            },
            "type": "histogram"
           }
          ],
          "histogram2d": [
           {
            "colorbar": {
             "outlinewidth": 0,
             "ticks": ""
            },
            "colorscale": [
             [
              0,
              "#0d0887"
             ],
             [
              0.1111111111111111,
              "#46039f"
             ],
             [
              0.2222222222222222,
              "#7201a8"
             ],
             [
              0.3333333333333333,
              "#9c179e"
             ],
             [
              0.4444444444444444,
              "#bd3786"
             ],
             [
              0.5555555555555556,
              "#d8576b"
             ],
             [
              0.6666666666666666,
              "#ed7953"
             ],
             [
              0.7777777777777778,
              "#fb9f3a"
             ],
             [
              0.8888888888888888,
              "#fdca26"
             ],
             [
              1,
              "#f0f921"
             ]
            ],
            "type": "histogram2d"
           }
          ],
          "histogram2dcontour": [
           {
            "colorbar": {
             "outlinewidth": 0,
             "ticks": ""
            },
            "colorscale": [
             [
              0,
              "#0d0887"
             ],
             [
              0.1111111111111111,
              "#46039f"
             ],
             [
              0.2222222222222222,
              "#7201a8"
             ],
             [
              0.3333333333333333,
              "#9c179e"
             ],
             [
              0.4444444444444444,
              "#bd3786"
             ],
             [
              0.5555555555555556,
              "#d8576b"
             ],
             [
              0.6666666666666666,
              "#ed7953"
             ],
             [
              0.7777777777777778,
              "#fb9f3a"
             ],
             [
              0.8888888888888888,
              "#fdca26"
             ],
             [
              1,
              "#f0f921"
             ]
            ],
            "type": "histogram2dcontour"
           }
          ],
          "mesh3d": [
           {
            "colorbar": {
             "outlinewidth": 0,
             "ticks": ""
            },
            "type": "mesh3d"
           }
          ],
          "parcoords": [
           {
            "line": {
             "colorbar": {
              "outlinewidth": 0,
              "ticks": ""
             }
            },
            "type": "parcoords"
           }
          ],
          "pie": [
           {
            "automargin": true,
            "type": "pie"
           }
          ],
          "scatter": [
           {
            "marker": {
             "colorbar": {
              "outlinewidth": 0,
              "ticks": ""
             }
            },
            "type": "scatter"
           }
          ],
          "scatter3d": [
           {
            "line": {
             "colorbar": {
              "outlinewidth": 0,
              "ticks": ""
             }
            },
            "marker": {
             "colorbar": {
              "outlinewidth": 0,
              "ticks": ""
             }
            },
            "type": "scatter3d"
           }
          ],
          "scattercarpet": [
           {
            "marker": {
             "colorbar": {
              "outlinewidth": 0,
              "ticks": ""
             }
            },
            "type": "scattercarpet"
           }
          ],
          "scattergeo": [
           {
            "marker": {
             "colorbar": {
              "outlinewidth": 0,
              "ticks": ""
             }
            },
            "type": "scattergeo"
           }
          ],
          "scattergl": [
           {
            "marker": {
             "colorbar": {
              "outlinewidth": 0,
              "ticks": ""
             }
            },
            "type": "scattergl"
           }
          ],
          "scattermapbox": [
           {
            "marker": {
             "colorbar": {
              "outlinewidth": 0,
              "ticks": ""
             }
            },
            "type": "scattermapbox"
           }
          ],
          "scatterpolar": [
           {
            "marker": {
             "colorbar": {
              "outlinewidth": 0,
              "ticks": ""
             }
            },
            "type": "scatterpolar"
           }
          ],
          "scatterpolargl": [
           {
            "marker": {
             "colorbar": {
              "outlinewidth": 0,
              "ticks": ""
             }
            },
            "type": "scatterpolargl"
           }
          ],
          "scatterternary": [
           {
            "marker": {
             "colorbar": {
              "outlinewidth": 0,
              "ticks": ""
             }
            },
            "type": "scatterternary"
           }
          ],
          "surface": [
           {
            "colorbar": {
             "outlinewidth": 0,
             "ticks": ""
            },
            "colorscale": [
             [
              0,
              "#0d0887"
             ],
             [
              0.1111111111111111,
              "#46039f"
             ],
             [
              0.2222222222222222,
              "#7201a8"
             ],
             [
              0.3333333333333333,
              "#9c179e"
             ],
             [
              0.4444444444444444,
              "#bd3786"
             ],
             [
              0.5555555555555556,
              "#d8576b"
             ],
             [
              0.6666666666666666,
              "#ed7953"
             ],
             [
              0.7777777777777778,
              "#fb9f3a"
             ],
             [
              0.8888888888888888,
              "#fdca26"
             ],
             [
              1,
              "#f0f921"
             ]
            ],
            "type": "surface"
           }
          ],
          "table": [
           {
            "cells": {
             "fill": {
              "color": "#EBF0F8"
             },
             "line": {
              "color": "white"
             }
            },
            "header": {
             "fill": {
              "color": "#C8D4E3"
             },
             "line": {
              "color": "white"
             }
            },
            "type": "table"
           }
          ]
         },
         "layout": {
          "annotationdefaults": {
           "arrowcolor": "#2a3f5f",
           "arrowhead": 0,
           "arrowwidth": 1
          },
          "coloraxis": {
           "colorbar": {
            "outlinewidth": 0,
            "ticks": ""
           }
          },
          "colorscale": {
           "diverging": [
            [
             0,
             "#8e0152"
            ],
            [
             0.1,
             "#c51b7d"
            ],
            [
             0.2,
             "#de77ae"
            ],
            [
             0.3,
             "#f1b6da"
            ],
            [
             0.4,
             "#fde0ef"
            ],
            [
             0.5,
             "#f7f7f7"
            ],
            [
             0.6,
             "#e6f5d0"
            ],
            [
             0.7,
             "#b8e186"
            ],
            [
             0.8,
             "#7fbc41"
            ],
            [
             0.9,
             "#4d9221"
            ],
            [
             1,
             "#276419"
            ]
           ],
           "sequential": [
            [
             0,
             "#0d0887"
            ],
            [
             0.1111111111111111,
             "#46039f"
            ],
            [
             0.2222222222222222,
             "#7201a8"
            ],
            [
             0.3333333333333333,
             "#9c179e"
            ],
            [
             0.4444444444444444,
             "#bd3786"
            ],
            [
             0.5555555555555556,
             "#d8576b"
            ],
            [
             0.6666666666666666,
             "#ed7953"
            ],
            [
             0.7777777777777778,
             "#fb9f3a"
            ],
            [
             0.8888888888888888,
             "#fdca26"
            ],
            [
             1,
             "#f0f921"
            ]
           ],
           "sequentialminus": [
            [
             0,
             "#0d0887"
            ],
            [
             0.1111111111111111,
             "#46039f"
            ],
            [
             0.2222222222222222,
             "#7201a8"
            ],
            [
             0.3333333333333333,
             "#9c179e"
            ],
            [
             0.4444444444444444,
             "#bd3786"
            ],
            [
             0.5555555555555556,
             "#d8576b"
            ],
            [
             0.6666666666666666,
             "#ed7953"
            ],
            [
             0.7777777777777778,
             "#fb9f3a"
            ],
            [
             0.8888888888888888,
             "#fdca26"
            ],
            [
             1,
             "#f0f921"
            ]
           ]
          },
          "colorway": [
           "#636efa",
           "#EF553B",
           "#00cc96",
           "#ab63fa",
           "#FFA15A",
           "#19d3f3",
           "#FF6692",
           "#B6E880",
           "#FF97FF",
           "#FECB52"
          ],
          "font": {
           "color": "#2a3f5f"
          },
          "geo": {
           "bgcolor": "white",
           "lakecolor": "white",
           "landcolor": "#E5ECF6",
           "showlakes": true,
           "showland": true,
           "subunitcolor": "white"
          },
          "hoverlabel": {
           "align": "left"
          },
          "hovermode": "closest",
          "mapbox": {
           "style": "light"
          },
          "paper_bgcolor": "white",
          "plot_bgcolor": "#E5ECF6",
          "polar": {
           "angularaxis": {
            "gridcolor": "white",
            "linecolor": "white",
            "ticks": ""
           },
           "bgcolor": "#E5ECF6",
           "radialaxis": {
            "gridcolor": "white",
            "linecolor": "white",
            "ticks": ""
           }
          },
          "scene": {
           "xaxis": {
            "backgroundcolor": "#E5ECF6",
            "gridcolor": "white",
            "gridwidth": 2,
            "linecolor": "white",
            "showbackground": true,
            "ticks": "",
            "zerolinecolor": "white"
           },
           "yaxis": {
            "backgroundcolor": "#E5ECF6",
            "gridcolor": "white",
            "gridwidth": 2,
            "linecolor": "white",
            "showbackground": true,
            "ticks": "",
            "zerolinecolor": "white"
           },
           "zaxis": {
            "backgroundcolor": "#E5ECF6",
            "gridcolor": "white",
            "gridwidth": 2,
            "linecolor": "white",
            "showbackground": true,
            "ticks": "",
            "zerolinecolor": "white"
           }
          },
          "shapedefaults": {
           "line": {
            "color": "#2a3f5f"
           }
          },
          "ternary": {
           "aaxis": {
            "gridcolor": "white",
            "linecolor": "white",
            "ticks": ""
           },
           "baxis": {
            "gridcolor": "white",
            "linecolor": "white",
            "ticks": ""
           },
           "bgcolor": "#E5ECF6",
           "caxis": {
            "gridcolor": "white",
            "linecolor": "white",
            "ticks": ""
           }
          },
          "title": {
           "x": 0.05
          },
          "xaxis": {
           "automargin": true,
           "gridcolor": "white",
           "linecolor": "white",
           "ticks": "",
           "title": {
            "standoff": 15
           },
           "zerolinecolor": "white",
           "zerolinewidth": 2
          },
          "yaxis": {
           "automargin": true,
           "gridcolor": "white",
           "linecolor": "white",
           "ticks": "",
           "title": {
            "standoff": 15
           },
           "zerolinecolor": "white",
           "zerolinewidth": 2
          }
         }
        },
        "xaxis": {
         "anchor": "y",
         "domain": [
          0,
          1
         ],
         "title": {
          "text": "index"
         }
        },
        "yaxis": {
         "anchor": "x",
         "domain": [
          0,
          1
         ],
         "title": {
          "text": "value"
         }
        }
       }
      },
      "text/html": [
       "<div>                            <div id=\"36efa5a8-9ae5-440e-8aba-d700a38114a6\" class=\"plotly-graph-div\" style=\"height:525px; width:100%;\"></div>            <script type=\"text/javascript\">                require([\"plotly\"], function(Plotly) {                    window.PLOTLYENV=window.PLOTLYENV || {};                                    if (document.getElementById(\"36efa5a8-9ae5-440e-8aba-d700a38114a6\")) {                    Plotly.newPlot(                        \"36efa5a8-9ae5-440e-8aba-d700a38114a6\",                        [{\"hovertemplate\": \"variable=Total: <br>index=%{x}<br>value=%{y}<extra></extra>\", \"legendgroup\": \"Total: \", \"line\": {\"color\": \"#636efa\", \"dash\": \"solid\"}, \"mode\": \"lines\", \"name\": \"Total: \", \"orientation\": \"v\", \"showlegend\": true, \"type\": \"scatter\", \"x\": [0, 1, 2, 3, 4, 5, 6, 7, 8, 9, 10, 11, 12, 13, 14, 15, 16, 17, 18, 19, 20, 21, 22, 23, 24, 25, 26, 27, 28, 29, 30, 31, 32, 33, 34, 35, 36, 37, 38, 39, 40, 41, 42, 43, 44, 45, 46, 47, 48, 49, 50, 51, 52, 53, 54, 55, 56, 57, 58, 59, 60, 61, 62, 63, 64, 65, 66, 67, 68, 69, 70, 71, 72, 73, 74, 75, 76, 77, 78, 79, 80, 81, 82, 83, 84, 85, 86, 87, 88, 89, 90, 91, 92, 93, 94, 95, 96, 97, 98, 99, 100, 101, 102, 103, 104, 105, 106, 107, 108, 109, 110, 111, 112, 113, 114, 115, 116, 117, 118, 119, 120, 121, 122, 123, 124, 125, 126, 127, 128, 129, 130, 131, 132, 133, 134, 135, 136, 137, 138, 139, 140, 141, 142, 143, 144, 145, 146, 147, 148, 149, 150, 151, 152, 153, 154, 155, 156, 157, 158, 159, 160, 161, 162, 163, 164, 165, 166, 167, 168, 169, 170, 171, 172, 173, 174, 175, 176, 177, 178, 179, 180, 181, 182, 183, 184, 185, 186, 187, 188, 189, 190, 191, 192, 193, 194, 195, 196, 197, 198, 199, 200, 201, 202, 203, 204, 205, 206, 207, 208, 209, 210, 211, 212, 213, 214, 215, 216, 217, 218, 219, 220, 221, 222, 223, 224, 225, 226, 227, 228, 229, 230, 231, 232, 233, 234, 235, 236, 237, 238, 239, 240, 241, 242, 243, 244, 245, 246, 247, 248, 249, 250, 251, 252, 253, 254, 255, 256, 257, 258, 259, 260, 261, 262, 263, 264, 265, 266, 267, 268, 269, 270, 271, 272, 273, 274, 275, 276, 277, 278, 279, 280, 281, 282, 283, 284, 285, 286, 287, 288, 289, 290, 291, 292, 293, 294, 295, 296, 297, 298, 299, 300, 301, 302, 303, 304, 305, 306, 307, 308, 309, 310, 311, 312, 313, 314, 315, 316, 317, 318, 319, 320, 321, 322, 323, 324, 325, 326, 327, 328, 329, 330, 331, 332, 333, 334, 335, 336, 337, 338, 339, 340, 341, 342, 343, 344, 345, 346, 347, 348, 349, 350, 351, 352, 353, 354, 355, 356, 357, 358, 359, 360, 361, 362, 363, 364, 365, 366, 367, 368, 369, 370, 371, 372, 373, 374, 375, 376, 377, 378, 379, 380, 381, 382, 383, 384, 385, 386, 387, 388, 389, 390, 391, 392, 393, 394, 395, 396, 397, 398, 399, 400, 401, 402, 403, 404, 405, 406, 407, 408, 409, 410, 411, 412, 413, 414, 415, 416, 417, 418, 419, 420, 421, 422, 423, 424, 425, 426, 427, 428, 429, 430, 431, 432, 433, 434, 435, 436, 437, 438, 439, 440, 441, 442, 443, 444, 445, 446, 447, 448, 449, 450, 451, 452, 453, 454, 455, 456, 457, 458, 459, 460, 461, 462, 463, 464, 465, 466, 467, 468, 469, 470, 471, 472, 473, 474, 475, 476, 477, 478, 479, 480, 481, 482, 483, 484, 485, 486, 487, 488, 489, 490, 491, 492, 493, 494, 495, 496, 497, 498, 499, 500, 501, 502, 503, 504, 505, 506, 507, 508, 509, 510, 511, 512, 513, 514, 515, 516, 517, 518, 519, 520, 521, 522, 523, 524, 525, 526, 527, 528, 529, 530, 531, 532, 533, 534, 535, 536, 537, 538, 539, 540, 541, 542, 543, 544, 545, 546, 547, 548, 549, 550, 551, 552, 553, 554, 555, 556, 557, 558, 559, 560, 561, 562, 563, 564, 565, 566, 567, 568, 569, 570, 571, 572, 573, 574, 575, 576, 577, 578, 579, 580, 581], \"xaxis\": \"x\", \"y\": [-1.2722874842482763, 1.8292995522821895, 1.5191408486291431, 0.6920509722210187, -0.6519700769421831, -0.9621287805952297, 2.0360720213842205, 1.0022096758740653, -0.6519700769421831, 0.7954372067720343, 1.312368379527112, 0.5886647376700033, -0.6519700769421831, 0.5886647376700033, 1.105595910425081, 0.48527850311898774, -0.6519700769421831, 0.3818922685679722, 1.105595910425081, 0.8988234413230498, -0.238425138738121, 0.5886647376700033, 1.4157546140781274, 0.7954372067720343, -0.3418113732891365, 0.48527850311898774, 0.7954372067720343, 1.312368379527112, 0.48527850311898774, 0.6920509722210187, 0.6920509722210187, 0.7954372067720343, 0.48527850311898774, 1.0022096758740653, 1.2089821449760965, 0.5886647376700033, -0.44519760784015205, 0.27850603401695667, 0.7954372067720343, 0.3818922685679722, -0.44519760784015205, 0.5886647376700033, 1.2089821449760965, 0.0717335649149256, -0.13503890418710546, 0.1751197994659411, 0.6920509722210187, 0.1751197994659411, 0.0717335649149256, -0.03165266963608994, -0.7553563114931986, -0.13503890418710546, -0.13503890418710546, 2.0360720213842205, 0.0717335649149256, 1.105595910425081, 0.0717335649149256, 1.0022096758740653, 0.27850603401695667, -0.44519760784015205, 0.27850603401695667, 1.6225270831801586, 0.0717335649149256, -0.3418113732891365, -0.238425138738121, 1.8292995522821895, -0.6519700769421831, 0.3818922685679722, -0.13503890418710546, 1.312368379527112, -0.03165266963608994, 0.27850603401695667, -0.3418113732891365, 1.105595910425081, 0.5886647376700033, 0.5886647376700033, 0.27850603401695667, 1.6225270831801586, 1.725913317731174, 2.139458255935236, -0.238425138738121, 1.0022096758740653, 1.0022096758740653, -1.4790599533503073, -0.03165266963608994, 1.105595910425081, 0.3818922685679722, -1.2722874842482763, 0.0717335649149256, 1.312368379527112, 0.5886647376700033, -1.4790599533503073, 0.5886647376700033, 1.6225270831801586, 0.6920509722210187, -1.582446187901323, -0.03165266963608994, 1.5191408486291431, 0.5886647376700033, -0.8587425460442142, -0.9621287805952297, 1.2089821449760965, 0.6920509722210187, -0.5485838423911676, -0.6519700769421831, 1.5191408486291431, 0.6920509722210187, -0.6519700769421831, -0.6519700769421831, 1.5191408486291431, 0.8988234413230498, -1.1689012496972608, 0.27850603401695667, 1.6225270831801586, 0.8988234413230498, -1.2722874842482763, 0.0717335649149256, 0.7954372067720343, 0.3818922685679722, 0.27850603401695667, 0.1751197994659411, 1.5191408486291431, 1.0022096758740653, -0.44519760784015205, 0.48527850311898774, 1.105595910425081, 0.6920509722210187, -1.1689012496972608, -0.44519760784015205, 1.312368379527112, 0.7954372067720343, -1.2722874842482763, -0.5485838423911676, 0.8988234413230498, 0.6920509722210187, -1.1689012496972608, -0.9621287805952297, 0.6920509722210187, 0.8988234413230498, -1.582446187901323, -1.0655150151462451, 0.7954372067720343, 0.48527850311898774, -1.1689012496972608, -0.3418113732891365, 1.105595910425081, 0.5886647376700033, -0.13503890418710546, -0.03165266963608994, 1.105595910425081, 0.6920509722210187, -0.7553563114931986, -0.5485838423911676, 1.105595910425081, 0.6920509722210187, -1.0655150151462451, -0.238425138738121, 1.312368379527112, 0.27850603401695667, -1.3756737187992918, -0.9621287805952297, 1.105595910425081, 0.7954372067720343, -1.4790599533503073, 0.6920509722210187, 0.8988234413230498, 1.0022096758740653, -0.6519700769421831, 0.8988234413230498, 1.105595910425081, 1.2089821449760965, -1.789218657003354, -0.5485838423911676, 1.0022096758740653, 0.8988234413230498, -0.13503890418710546, 0.0717335649149256, 1.2089821449760965, 0.8988234413230498, -0.3418113732891365, -0.44519760784015205, 0.7954372067720343, 0.0717335649149256, 0.8988234413230498, -0.8587425460442142, 1.9326857868332052, 0.3818922685679722, -0.8587425460442142, -0.13503890418710546, 2.0360720213842205, 1.105595910425081, -0.7553563114931986, 0.8988234413230498, 0.8988234413230498, 0.6920509722210187, -1.0655150151462451, -0.8587425460442142, 0.8988234413230498, -0.44519760784015205, -1.0655150151462451, 0.6920509722210187, 0.1751197994659411, -0.8587425460442142, -0.3418113732891365, 0.6920509722210187, -0.5485838423911676, -0.8587425460442142, 0.0717335649149256, 0.6920509722210187, -0.44519760784015205, -0.8587425460442142, 0.27850603401695667, 0.3818922685679722, -0.44519760784015205, -0.7553563114931986, 0.0717335649149256, 0.8988234413230498, -0.3418113732891365, -0.238425138738121, 1.105595910425081, -0.238425138738121, -1.0655150151462451, -0.6519700769421831, 1.9326857868332052, -0.44519760784015205, -2.4095360643094472, -0.13503890418710546, 1.2089821449760965, -0.7553563114931986, -0.9621287805952297, -0.238425138738121, 2.139458255935236, -0.5485838423911676, -1.1689012496972608, -1.1689012496972608, 2.139458255935236, -0.7553563114931986, -0.3418113732891365, -1.2722874842482763, null, 0.27850603401695667, -0.7553563114931986, 0.3818922685679722, 0.6920509722210187, 0.3818922685679722, -0.13503890418710546, -0.5485838423911676, 1.105595910425081, 1.0022096758740653, -0.8587425460442142, -0.7553563114931986, 1.0022096758740653, 0.3818922685679722, -0.9621287805952297, 0.27850603401695667, 1.5191408486291431, 0.8988234413230498, -0.6519700769421831, -0.03165266963608994, 0.7954372067720343, 0.1751197994659411, -0.6519700769421831, -1.582446187901323, 1.2089821449760965, -0.03165266963608994, -0.6519700769421831, 0.0717335649149256, 0.6920509722210187, -0.03165266963608994, 0.1751197994659411, -0.9621287805952297, 0.7954372067720343, 0.0717335649149256, 0.3818922685679722, -1.2722874842482763, 0.7954372067720343, -0.238425138738121, 0.1751197994659411, -0.44519760784015205, 0.3818922685679722, -0.44519760784015205, -0.13503890418710546, -0.7553563114931986, 0.48527850311898774, -0.3418113732891365, -0.5485838423911676, -1.582446187901323, 1.2089821449760965, -0.238425138738121, -0.9621287805952297, -0.9621287805952297, 1.105595910425081, 0.48527850311898774, -0.7553563114931986, -2.4095360643094472, 0.7954372067720343, 1.2089821449760965, 0.0717335649149256, -1.789218657003354, 1.105595910425081, -1.3756737187992918, 0.1751197994659411, -0.7553563114931986, 0.8988234413230498, 1.8292995522821895, -0.03165266963608994, 0.1751197994659411, 0.8988234413230498, 0.1751197994659411, -0.3418113732891365, -1.2722874842482763, 1.105595910425081, 0.27850603401695667, -1.0655150151462451, -0.44519760784015205, 0.8988234413230498, -1.0655150151462451, -0.6519700769421831, -0.3418113732891365, 0.6920509722210187, -1.995991126105385, -0.6519700769421831, -2.0993773606564003, 0.6920509722210187, -0.8587425460442142, -0.7553563114931986, -1.995991126105385, 1.0022096758740653, 0.3818922685679722, -1.6858324224523384, -0.8587425460442142, 0.8988234413230498, -0.7553563114931986, -0.6519700769421831, -2.5129222988604627, 0.7954372067720343, -3.0298534716155405, 0.0717335649149256, -0.8587425460442142, 0.6920509722210187, -1.1689012496972608, -0.3418113732891365, -1.3756737187992918, 0.7954372067720343, -1.1689012496972608, -0.8587425460442142, -1.1689012496972608, 0.5886647376700033, -1.2722874842482763, -0.7553563114931986, -0.8587425460442142, 0.8988234413230498, -0.8587425460442142, -0.3418113732891365, -0.44519760784015205, 1.2089821449760965, -1.582446187901323, -1.582446187901323, -0.13503890418710546, 0.7954372067720343, -1.1689012496972608, -2.2027635952074163, -0.03165266963608994, 1.105595910425081, -0.44519760784015205, -1.2722874842482763, -0.9621287805952297, 1.105595910425081, -0.5485838423911676, -0.7553563114931986, -1.995991126105385, 0.8988234413230498, 0.6920509722210187, -1.1689012496972608, -1.6858324224523384, 0.5886647376700033, -1.789218657003354, -0.03165266963608994, -0.6519700769421831, 1.5191408486291431, -0.7553563114931986, -0.7553563114931986, -1.8926048915543694, 0.8988234413230498, -0.5485838423911676, -0.238425138738121, -0.9621287805952297, 1.0022096758740653, -0.03165266963608994, -0.8587425460442142, -0.8587425460442142, 1.0022096758740653, 0.5886647376700033, -0.8587425460442142, 0.27850603401695667, 0.8988234413230498, 0.7954372067720343, -0.238425138738121, -0.6519700769421831, 0.8988234413230498, 0.7954372067720343, -1.582446187901323, -0.7553563114931986, 1.6225270831801586, -0.03165266963608994, 0.27850603401695667, -1.1689012496972608, 1.0022096758740653, 0.1751197994659411, -0.13503890418710546, 0.7954372067720343, 0.48527850311898774, -0.03165266963608994, -1.4790599533503073, 0.7954372067720343, 0.8988234413230498, 0.1751197994659411, -1.4790599533503073, 1.9326857868332052, 0.27850603401695667, -0.9621287805952297, -1.1689012496972608, 0.5886647376700033, -0.9621287805952297, -0.3418113732891365, 0.0717335649149256, 1.0022096758740653, -0.13503890418710546, -0.238425138738121, -0.5485838423911676, 0.48527850311898774, 0.0717335649149256, -0.13503890418710546, 0.1751197994659411, 1.2089821449760965, 0.48527850311898774, -0.5485838423911676, -0.5485838423911676, 1.105595910425081, -0.3418113732891365, 0.0717335649149256, -0.6519700769421831, 1.0022096758740653, -0.9621287805952297, -0.7553563114931986, -0.13503890418710546, 1.105595910425081, -0.238425138738121, -0.9621287805952297, -0.238425138738121, 1.0022096758740653, -1.1689012496972608, -0.44519760784015205, 0.0717335649149256, 1.4157546140781274, -0.238425138738121, -0.6519700769421831, -0.238425138738121, 1.2089821449760965, -0.44519760784015205, -0.13503890418710546, 1.0022096758740653, 1.4157546140781274, -1.2722874842482763, -0.238425138738121, 0.48527850311898774, 1.0022096758740653, -0.03165266963608994, -0.8587425460442142, 0.0717335649149256, 1.1651503814248838, -0.8596802439726668, -0.8596802439726668, -0.3534725876232792, 1.6713580377742714, -1.1127840721473607, -2.7579589552828705, 0.40583889690080227, 0.9120465532501899, 0.6589427250754961, -0.8596802439726668, 1.0385984673375368, 0.5323908109881492, -0.3534725876232792, -1.6189917284967483, 1.0385984673375368, 0.15273506872610845, -0.10036875944858537, 0.5323908109881492, 1.6713580377742714, -0.3534725876232792, -0.8596802439726668, -0.9862321580600137, 0.40583889690080227, 1.2917022955122306, 0.026183154638761537, 0.15273506872610845, -0.4800245017106261, -0.10036875944858537, 1.312368379527112, -0.03165266963608994, 0.0717335649149256, 0.1751197994659411, 1.725913317731174, -0.03165266963608994, -1.3756737187992918, 0.1751197994659411, 2.139458255935236, 0.27850603401695667, -1.2722874842482763, -0.44519760784015205, 2.0360720213842205, 0.8988234413230498, -0.7553563114931986, 0.0717335649149256, 2.139458255935236, 0.48527850311898774, -0.44519760784015205, -1.1689012496972608, 2.0360720213842205, -0.03165266963608994, -0.3418113732891365, -1.1689012496972608, 1.5191408486291431, -0.3418113732891365, -1.3756737187992918, -2.823081002513509, 1.2089821449760965, 0.0717335649149256, -1.2722874842482763, 0.5886647376700033, 1.312368379527112, 0.27850603401695667, -0.7553563114931986, 0.48527850311898774, 2.139458255935236, 0.0717335649149256, -1.2722874842482763, -1.6858324224523384, 0.48527850311898774, 0.27850603401695667, -1.582446187901323, -1.1689012496972608, 0.6920509722210187, -0.44519760784015205, -1.6858324224523384, -1.2722874842482763, 0.8988234413230498, 0.27850603401695667, -1.8926048915543694, -1.2722874842482763, 0.8988234413230498, 0.27850603401695667, -1.995991126105385, -2.2027635952074163, 0.6920509722210187, -0.13503890418710546, -2.0993773606564003, -1.995991126105385, 1.105595910425081, -1.6858324224523384, -0.3418113732891365, -1.0655150151462451, 1.0022096758740653, 0.48527850311898774, -1.0655150151462451, -2.4095360643094472, 1.0022096758740653, -0.9621287805952297, -0.9621287805952297, -1.8926048915543694, 1.2089821449760965, 0.8988234413230498, -1.8926048915543694, -2.4095360643094472, 0.7954372067720343, 0.3818922685679722, -0.5485838423911676, -2.4095360643094472, 0.8988234413230498, -1.2722874842482763, -1.789218657003354], \"yaxis\": \"y\"}],                        {\"legend\": {\"title\": {\"text\": \"variable\"}, \"tracegroupgap\": 0}, \"margin\": {\"t\": 60}, \"template\": {\"data\": {\"bar\": [{\"error_x\": {\"color\": \"#2a3f5f\"}, \"error_y\": {\"color\": \"#2a3f5f\"}, \"marker\": {\"line\": {\"color\": \"#E5ECF6\", \"width\": 0.5}}, \"type\": \"bar\"}], \"barpolar\": [{\"marker\": {\"line\": {\"color\": \"#E5ECF6\", \"width\": 0.5}}, \"type\": \"barpolar\"}], \"carpet\": [{\"aaxis\": {\"endlinecolor\": \"#2a3f5f\", \"gridcolor\": \"white\", \"linecolor\": \"white\", \"minorgridcolor\": \"white\", \"startlinecolor\": \"#2a3f5f\"}, \"baxis\": {\"endlinecolor\": \"#2a3f5f\", \"gridcolor\": \"white\", \"linecolor\": \"white\", \"minorgridcolor\": \"white\", \"startlinecolor\": \"#2a3f5f\"}, \"type\": \"carpet\"}], \"choropleth\": [{\"colorbar\": {\"outlinewidth\": 0, \"ticks\": \"\"}, \"type\": \"choropleth\"}], \"contour\": [{\"colorbar\": {\"outlinewidth\": 0, \"ticks\": \"\"}, \"colorscale\": [[0.0, \"#0d0887\"], [0.1111111111111111, \"#46039f\"], [0.2222222222222222, \"#7201a8\"], [0.3333333333333333, \"#9c179e\"], [0.4444444444444444, \"#bd3786\"], [0.5555555555555556, \"#d8576b\"], [0.6666666666666666, \"#ed7953\"], [0.7777777777777778, \"#fb9f3a\"], [0.8888888888888888, \"#fdca26\"], [1.0, \"#f0f921\"]], \"type\": \"contour\"}], \"contourcarpet\": [{\"colorbar\": {\"outlinewidth\": 0, \"ticks\": \"\"}, \"type\": \"contourcarpet\"}], \"heatmap\": [{\"colorbar\": {\"outlinewidth\": 0, \"ticks\": \"\"}, \"colorscale\": [[0.0, \"#0d0887\"], [0.1111111111111111, \"#46039f\"], [0.2222222222222222, \"#7201a8\"], [0.3333333333333333, \"#9c179e\"], [0.4444444444444444, \"#bd3786\"], [0.5555555555555556, \"#d8576b\"], [0.6666666666666666, \"#ed7953\"], [0.7777777777777778, \"#fb9f3a\"], [0.8888888888888888, \"#fdca26\"], [1.0, \"#f0f921\"]], \"type\": \"heatmap\"}], \"heatmapgl\": [{\"colorbar\": {\"outlinewidth\": 0, \"ticks\": \"\"}, \"colorscale\": [[0.0, \"#0d0887\"], [0.1111111111111111, \"#46039f\"], [0.2222222222222222, \"#7201a8\"], [0.3333333333333333, \"#9c179e\"], [0.4444444444444444, \"#bd3786\"], [0.5555555555555556, \"#d8576b\"], [0.6666666666666666, \"#ed7953\"], [0.7777777777777778, \"#fb9f3a\"], [0.8888888888888888, \"#fdca26\"], [1.0, \"#f0f921\"]], \"type\": \"heatmapgl\"}], \"histogram\": [{\"marker\": {\"colorbar\": {\"outlinewidth\": 0, \"ticks\": \"\"}}, \"type\": \"histogram\"}], \"histogram2d\": [{\"colorbar\": {\"outlinewidth\": 0, \"ticks\": \"\"}, \"colorscale\": [[0.0, \"#0d0887\"], [0.1111111111111111, \"#46039f\"], [0.2222222222222222, \"#7201a8\"], [0.3333333333333333, \"#9c179e\"], [0.4444444444444444, \"#bd3786\"], [0.5555555555555556, \"#d8576b\"], [0.6666666666666666, \"#ed7953\"], [0.7777777777777778, \"#fb9f3a\"], [0.8888888888888888, \"#fdca26\"], [1.0, \"#f0f921\"]], \"type\": \"histogram2d\"}], \"histogram2dcontour\": [{\"colorbar\": {\"outlinewidth\": 0, \"ticks\": \"\"}, \"colorscale\": [[0.0, \"#0d0887\"], [0.1111111111111111, \"#46039f\"], [0.2222222222222222, \"#7201a8\"], [0.3333333333333333, \"#9c179e\"], [0.4444444444444444, \"#bd3786\"], [0.5555555555555556, \"#d8576b\"], [0.6666666666666666, \"#ed7953\"], [0.7777777777777778, \"#fb9f3a\"], [0.8888888888888888, \"#fdca26\"], [1.0, \"#f0f921\"]], \"type\": \"histogram2dcontour\"}], \"mesh3d\": [{\"colorbar\": {\"outlinewidth\": 0, \"ticks\": \"\"}, \"type\": \"mesh3d\"}], \"parcoords\": [{\"line\": {\"colorbar\": {\"outlinewidth\": 0, \"ticks\": \"\"}}, \"type\": \"parcoords\"}], \"pie\": [{\"automargin\": true, \"type\": \"pie\"}], \"scatter\": [{\"marker\": {\"colorbar\": {\"outlinewidth\": 0, \"ticks\": \"\"}}, \"type\": \"scatter\"}], \"scatter3d\": [{\"line\": {\"colorbar\": {\"outlinewidth\": 0, \"ticks\": \"\"}}, \"marker\": {\"colorbar\": {\"outlinewidth\": 0, \"ticks\": \"\"}}, \"type\": \"scatter3d\"}], \"scattercarpet\": [{\"marker\": {\"colorbar\": {\"outlinewidth\": 0, \"ticks\": \"\"}}, \"type\": \"scattercarpet\"}], \"scattergeo\": [{\"marker\": {\"colorbar\": {\"outlinewidth\": 0, \"ticks\": \"\"}}, \"type\": \"scattergeo\"}], \"scattergl\": [{\"marker\": {\"colorbar\": {\"outlinewidth\": 0, \"ticks\": \"\"}}, \"type\": \"scattergl\"}], \"scattermapbox\": [{\"marker\": {\"colorbar\": {\"outlinewidth\": 0, \"ticks\": \"\"}}, \"type\": \"scattermapbox\"}], \"scatterpolar\": [{\"marker\": {\"colorbar\": {\"outlinewidth\": 0, \"ticks\": \"\"}}, \"type\": \"scatterpolar\"}], \"scatterpolargl\": [{\"marker\": {\"colorbar\": {\"outlinewidth\": 0, \"ticks\": \"\"}}, \"type\": \"scatterpolargl\"}], \"scatterternary\": [{\"marker\": {\"colorbar\": {\"outlinewidth\": 0, \"ticks\": \"\"}}, \"type\": \"scatterternary\"}], \"surface\": [{\"colorbar\": {\"outlinewidth\": 0, \"ticks\": \"\"}, \"colorscale\": [[0.0, \"#0d0887\"], [0.1111111111111111, \"#46039f\"], [0.2222222222222222, \"#7201a8\"], [0.3333333333333333, \"#9c179e\"], [0.4444444444444444, \"#bd3786\"], [0.5555555555555556, \"#d8576b\"], [0.6666666666666666, \"#ed7953\"], [0.7777777777777778, \"#fb9f3a\"], [0.8888888888888888, \"#fdca26\"], [1.0, \"#f0f921\"]], \"type\": \"surface\"}], \"table\": [{\"cells\": {\"fill\": {\"color\": \"#EBF0F8\"}, \"line\": {\"color\": \"white\"}}, \"header\": {\"fill\": {\"color\": \"#C8D4E3\"}, \"line\": {\"color\": \"white\"}}, \"type\": \"table\"}]}, \"layout\": {\"annotationdefaults\": {\"arrowcolor\": \"#2a3f5f\", \"arrowhead\": 0, \"arrowwidth\": 1}, \"coloraxis\": {\"colorbar\": {\"outlinewidth\": 0, \"ticks\": \"\"}}, \"colorscale\": {\"diverging\": [[0, \"#8e0152\"], [0.1, \"#c51b7d\"], [0.2, \"#de77ae\"], [0.3, \"#f1b6da\"], [0.4, \"#fde0ef\"], [0.5, \"#f7f7f7\"], [0.6, \"#e6f5d0\"], [0.7, \"#b8e186\"], [0.8, \"#7fbc41\"], [0.9, \"#4d9221\"], [1, \"#276419\"]], \"sequential\": [[0.0, \"#0d0887\"], [0.1111111111111111, \"#46039f\"], [0.2222222222222222, \"#7201a8\"], [0.3333333333333333, \"#9c179e\"], [0.4444444444444444, \"#bd3786\"], [0.5555555555555556, \"#d8576b\"], [0.6666666666666666, \"#ed7953\"], [0.7777777777777778, \"#fb9f3a\"], [0.8888888888888888, \"#fdca26\"], [1.0, \"#f0f921\"]], \"sequentialminus\": [[0.0, \"#0d0887\"], [0.1111111111111111, \"#46039f\"], [0.2222222222222222, \"#7201a8\"], [0.3333333333333333, \"#9c179e\"], [0.4444444444444444, \"#bd3786\"], [0.5555555555555556, \"#d8576b\"], [0.6666666666666666, \"#ed7953\"], [0.7777777777777778, \"#fb9f3a\"], [0.8888888888888888, \"#fdca26\"], [1.0, \"#f0f921\"]]}, \"colorway\": [\"#636efa\", \"#EF553B\", \"#00cc96\", \"#ab63fa\", \"#FFA15A\", \"#19d3f3\", \"#FF6692\", \"#B6E880\", \"#FF97FF\", \"#FECB52\"], \"font\": {\"color\": \"#2a3f5f\"}, \"geo\": {\"bgcolor\": \"white\", \"lakecolor\": \"white\", \"landcolor\": \"#E5ECF6\", \"showlakes\": true, \"showland\": true, \"subunitcolor\": \"white\"}, \"hoverlabel\": {\"align\": \"left\"}, \"hovermode\": \"closest\", \"mapbox\": {\"style\": \"light\"}, \"paper_bgcolor\": \"white\", \"plot_bgcolor\": \"#E5ECF6\", \"polar\": {\"angularaxis\": {\"gridcolor\": \"white\", \"linecolor\": \"white\", \"ticks\": \"\"}, \"bgcolor\": \"#E5ECF6\", \"radialaxis\": {\"gridcolor\": \"white\", \"linecolor\": \"white\", \"ticks\": \"\"}}, \"scene\": {\"xaxis\": {\"backgroundcolor\": \"#E5ECF6\", \"gridcolor\": \"white\", \"gridwidth\": 2, \"linecolor\": \"white\", \"showbackground\": true, \"ticks\": \"\", \"zerolinecolor\": \"white\"}, \"yaxis\": {\"backgroundcolor\": \"#E5ECF6\", \"gridcolor\": \"white\", \"gridwidth\": 2, \"linecolor\": \"white\", \"showbackground\": true, \"ticks\": \"\", \"zerolinecolor\": \"white\"}, \"zaxis\": {\"backgroundcolor\": \"#E5ECF6\", \"gridcolor\": \"white\", \"gridwidth\": 2, \"linecolor\": \"white\", \"showbackground\": true, \"ticks\": \"\", \"zerolinecolor\": \"white\"}}, \"shapedefaults\": {\"line\": {\"color\": \"#2a3f5f\"}}, \"ternary\": {\"aaxis\": {\"gridcolor\": \"white\", \"linecolor\": \"white\", \"ticks\": \"\"}, \"baxis\": {\"gridcolor\": \"white\", \"linecolor\": \"white\", \"ticks\": \"\"}, \"bgcolor\": \"#E5ECF6\", \"caxis\": {\"gridcolor\": \"white\", \"linecolor\": \"white\", \"ticks\": \"\"}}, \"title\": {\"x\": 0.05}, \"xaxis\": {\"automargin\": true, \"gridcolor\": \"white\", \"linecolor\": \"white\", \"ticks\": \"\", \"title\": {\"standoff\": 15}, \"zerolinecolor\": \"white\", \"zerolinewidth\": 2}, \"yaxis\": {\"automargin\": true, \"gridcolor\": \"white\", \"linecolor\": \"white\", \"ticks\": \"\", \"title\": {\"standoff\": 15}, \"zerolinecolor\": \"white\", \"zerolinewidth\": 2}}}, \"xaxis\": {\"anchor\": \"y\", \"domain\": [0.0, 1.0], \"title\": {\"text\": \"index\"}}, \"yaxis\": {\"anchor\": \"x\", \"domain\": [0.0, 1.0], \"title\": {\"text\": \"value\"}}},                        {\"responsive\": true}                    ).then(function(){\n",
       "                            \n",
       "var gd = document.getElementById('36efa5a8-9ae5-440e-8aba-d700a38114a6');\n",
       "var x = new MutationObserver(function (mutations, observer) {{\n",
       "        var display = window.getComputedStyle(gd).display;\n",
       "        if (!display || display === 'none') {{\n",
       "            console.log([gd, 'removed!']);\n",
       "            Plotly.purge(gd);\n",
       "            observer.disconnect();\n",
       "        }}\n",
       "}});\n",
       "\n",
       "// Listen for the removal of the full notebook cells\n",
       "var notebookContainer = gd.closest('#notebook-container');\n",
       "if (notebookContainer) {{\n",
       "    x.observe(notebookContainer, {childList: true});\n",
       "}}\n",
       "\n",
       "// Listen for the clearing of the current output cell\n",
       "var outputEl = gd.closest('.output');\n",
       "if (outputEl) {{\n",
       "    x.observe(outputEl, {childList: true});\n",
       "}}\n",
       "\n",
       "                        })                };                });            </script>        </div>"
      ]
     },
     "metadata": {},
     "output_type": "display_data"
    }
   ],
   "source": [
    "px.line(df[\"Total: \"])"
   ]
  },
  {
   "cell_type": "code",
   "execution_count": 289,
   "metadata": {},
   "outputs": [
    {
     "data": {
      "application/vnd.plotly.v1+json": {
       "config": {
        "plotlyServerURL": "https://plot.ly"
       },
       "data": [
        {
         "hovertemplate": "variable=Chandler<br>index=%{x}<br>value=%{y}<extra></extra>",
         "legendgroup": "Chandler",
         "line": {
          "color": "#636efa",
          "dash": "solid"
         },
         "mode": "lines",
         "name": "Chandler",
         "orientation": "v",
         "showlegend": true,
         "type": "scatter",
         "x": [
          0,
          1,
          3,
          4,
          5,
          7,
          8,
          9,
          11,
          12,
          13,
          15,
          16,
          17,
          19,
          20,
          21,
          23,
          24,
          25,
          27,
          28,
          29,
          31,
          32,
          33,
          35,
          36,
          37,
          39,
          40,
          41,
          43,
          44,
          45,
          47,
          48,
          49,
          50,
          51,
          52,
          54,
          55,
          56,
          58,
          59,
          60,
          62,
          63,
          64,
          66,
          67,
          68,
          70,
          71,
          72,
          74,
          75,
          76,
          78,
          79,
          80,
          82,
          83,
          84,
          86,
          87,
          88,
          90,
          91,
          92,
          94,
          95,
          96,
          98,
          99,
          100,
          102,
          103,
          104,
          106,
          107,
          108,
          110,
          111,
          112,
          114,
          115,
          116,
          118,
          119,
          120,
          122,
          123,
          124,
          126,
          127,
          128,
          130,
          131,
          132,
          134,
          135,
          136,
          138,
          139,
          140,
          142,
          143,
          144,
          146,
          147,
          148,
          150,
          151,
          152,
          154,
          155,
          156,
          158,
          159,
          160,
          162,
          163,
          164,
          166,
          167,
          168,
          170,
          171,
          172,
          174,
          175,
          176,
          178,
          179,
          180,
          182,
          183,
          184,
          186,
          187,
          188,
          190,
          191,
          192,
          194,
          195,
          196,
          198,
          199,
          201,
          202,
          203,
          205,
          206,
          207,
          209,
          210,
          211,
          213,
          214,
          215,
          217,
          218,
          220,
          221,
          222,
          224,
          225,
          226,
          228,
          229,
          230,
          232,
          233,
          234,
          236,
          237,
          238,
          240,
          241,
          242,
          244,
          245,
          246,
          248,
          249,
          250,
          252,
          253,
          254,
          256,
          257,
          258,
          260,
          261,
          262,
          263,
          264,
          265,
          266,
          268,
          269,
          270,
          272,
          273,
          274,
          276,
          277,
          278,
          280,
          281,
          282,
          284,
          285,
          286,
          288,
          289,
          290,
          292,
          293,
          294,
          296,
          297,
          298,
          300,
          301,
          302,
          304,
          305,
          306,
          308,
          309,
          310,
          312,
          313,
          314,
          316,
          317,
          318,
          320,
          321,
          322,
          324,
          325,
          326,
          328,
          329,
          330,
          332,
          333,
          334,
          336,
          337,
          338,
          340,
          341,
          342,
          344,
          345,
          346,
          348,
          349,
          350,
          352,
          353,
          354,
          356,
          357,
          358,
          360,
          361,
          362,
          364,
          365,
          366,
          368,
          369,
          370,
          372,
          373,
          374,
          376,
          377,
          378,
          380,
          381,
          382,
          384,
          385,
          386,
          388,
          389,
          390,
          392,
          393,
          394,
          396,
          397,
          398,
          400,
          401,
          402,
          404,
          405,
          406,
          408,
          409,
          411,
          412,
          413,
          415,
          416,
          417,
          419,
          420,
          421,
          423,
          424,
          425,
          427,
          428,
          429,
          431,
          432,
          433,
          435,
          436,
          437,
          439,
          440,
          441,
          443,
          444,
          445,
          447,
          448,
          449,
          451,
          452,
          453,
          455,
          456,
          457,
          459,
          460,
          461,
          463,
          464,
          465,
          467,
          468,
          469,
          471,
          472,
          473,
          475,
          476,
          478,
          479,
          480,
          482,
          483,
          484,
          486,
          487,
          488,
          490,
          491,
          492,
          493,
          494,
          495,
          496,
          497,
          498,
          500,
          501,
          502,
          504,
          505,
          506,
          508,
          509,
          510,
          512,
          513,
          514,
          516,
          517,
          518,
          520,
          521,
          522,
          524,
          525,
          526,
          528,
          529,
          530,
          532,
          533,
          534,
          536,
          537,
          538,
          540,
          541,
          542,
          544,
          545,
          546,
          548,
          549,
          550,
          552,
          553,
          554,
          556,
          557,
          558,
          560,
          561,
          562,
          564,
          565,
          566,
          568,
          569,
          570,
          572,
          573,
          574,
          576,
          577,
          578,
          580,
          581
         ],
         "xaxis": "x",
         "y": [
          -0.7261810548702498,
          1.03950351239472,
          0.686366598941726,
          0.3332296854887321,
          1.03950351239472,
          0.686366598941726,
          -0.019907227964261844,
          0.3332296854887321,
          0.3332296854887321,
          -0.019907227964261844,
          0.3332296854887321,
          -1.4324548817762377,
          0.686366598941726,
          1.03950351239472,
          0.3332296854887321,
          1.03950351239472,
          0.686366598941726,
          -0.3730441414172558,
          1.03950351239472,
          -0.019907227964261844,
          0.3332296854887321,
          0.3332296854887321,
          -0.7261810548702498,
          1.03950351239472,
          0.3332296854887321,
          -0.019907227964261844,
          0.686366598941726,
          -1.0793179683232437,
          0.686366598941726,
          1.03950351239472,
          -0.019907227964261844,
          0.0355896676839192,
          -2.170969728719073,
          -1.619329879618325,
          1.1388693658854154,
          -1.067690030517577,
          -2.722609577819821,
          0.0355896676839192,
          -1.619329879618325,
          -2.170969728719073,
          1.1388693658854154,
          -0.5160501814168289,
          0.5872295167846673,
          -1.067690030517577,
          -1.619329879618325,
          0.5872295167846673,
          -1.619329879618325,
          -1.619329879618325,
          -1.067690030517577,
          1.1388693658854154,
          -1.067690030517577,
          1.1388693658854154,
          -0.5160501814168289,
          -3.2742494269205693,
          0.0355896676839192,
          -2.722609577819821,
          0.5872295167846673,
          1.1388693658854154,
          -0.5160501814168289,
          1.1388693658854154,
          0.0355896676839192,
          0.0355896676839192,
          0.0355896676839192,
          -0.5160501814168289,
          0.5872295167846673,
          -2.722609577819821,
          0.0355896676839192,
          -0.5160501814168289,
          0.0355896676839192,
          1.1388693658854154,
          0.0355896676839192,
          -1.067690030517577,
          1.1388693658854154,
          -1.619329879618325,
          -0.5160501814168289,
          -0.5160501814168289,
          0.5872295167846673,
          -1.067690030517577,
          -0.5160501814168289,
          -0.5160501814168289,
          0.0355896676839192,
          0.5872295167846673,
          -2.170969728719073,
          -1.067690030517577,
          -0.5160501814168289,
          0.0355896676839192,
          0.0355896676839192,
          -2.170969728719073,
          0.0355896676839192,
          -0.5160501814168289,
          0.0355896676839192,
          0.5872295167846673,
          -1.067690030517577,
          0.5872295167846673,
          0.0355896676839192,
          -2.170969728719073,
          1.1388693658854154,
          0.0355896676839192,
          -0.5160501814168289,
          0.5872295167846673,
          0.0355896676839192,
          0.0355896676839192,
          0.0355896676839192,
          1.1388693658854154,
          -1.619329879618325,
          -2.170969728719073,
          0.5872295167846673,
          0.0355896676839192,
          0.5872295167846673,
          1.1388693658854154,
          0.0355896676839192,
          -3.2742494269205693,
          -1.067690030517577,
          -1.619329879618325,
          1.1388693658854154,
          1.1388693658854154,
          -0.5160501814168289,
          0.5872295167846673,
          -0.5160501814168289,
          0.0355896676839192,
          -1.067690030517577,
          0.5872295167846673,
          -2.170969728719073,
          0.0355896676839192,
          -1.067690030517577,
          -1.619329879618325,
          -2.170969728719073,
          0.5872295167846673,
          1.1388693658854154,
          1.1388693658854154,
          1.1388693658854154,
          1.1388693658854154,
          -1.067690030517577,
          1.1388693658854154,
          0.5872295167846673,
          -1.619329879618325,
          1.1388693658854154,
          0.0355896676839192,
          0.5872295167846673,
          1.1388693658854154,
          -1.067690030517577,
          1.1388693658854154,
          0.5872295167846673,
          1.1388693658854154,
          0.5872295167846673,
          1.1388693658854154,
          -1.067690030517577,
          0.5872295167846673,
          -0.5160501814168289,
          -0.5160501814168289,
          -1.067690030517577,
          0.5872295167846673,
          -2.722609577819821,
          1.1388693658854154,
          -0.5160501814168289,
          -1.619329879618325,
          1.1388693658854154,
          -2.170969728719073,
          -0.5160501814168289,
          1.1388693658854154,
          0.0355896676839192,
          0.0355896676839192,
          0.0355896676839192,
          -1.067690030517577,
          0.0355896676839192,
          -0.5160501814168289,
          -0.5160501814168289,
          1.1388693658854154,
          0.0355896676839192,
          -2.170969728719073,
          -0.5160501814168289,
          -3.2742494269205693,
          -1.067690030517577,
          0.5872295167846673,
          1.1388693658854154,
          -0.5160501814168289,
          1.1388693658854154,
          1.1388693658854154,
          1.1388693658854154,
          -0.5160501814168289,
          0.5872295167846673,
          -1.619329879618325,
          -1.067690030517577,
          -1.619329879618325,
          -1.067690030517577,
          1.1388693658854154,
          -0.5160501814168289,
          0.5872295167846673,
          -0.5160501814168289,
          -5.480808823323562,
          -1.067690030517577,
          -0.5160501814168289,
          0.0355896676839192,
          -2.170969728719073,
          1.1388693658854154,
          -2.170969728719073,
          -1.067690030517577,
          1.1388693658854154,
          1.1388693658854154,
          -1.067690030517577,
          -3.2742494269205693,
          0.0355896676839192,
          -1.067690030517577,
          -0.5160501814168289,
          1.1388693658854154,
          0.5872295167846673,
          -1.067690030517577,
          1.1388693658854154,
          0.5872295167846673,
          1.1388693658854154,
          0.5872295167846673,
          -2.170969728719073,
          0.0355896676839192,
          -1.619329879618325,
          -3.2742494269205693,
          1.1388693658854154,
          0.5872295167846673,
          0.0355896676839192,
          -1.067690030517577,
          1.1388693658854154,
          -1.067690030517577,
          0.0355896676839192,
          -1.619329879618325,
          0.5872295167846673,
          -0.5160501814168289,
          1.1388693658854154,
          -1.067690030517577,
          -1.067690030517577,
          -1.067690030517577,
          0.5872295167846673,
          -1.067690030517577,
          1.1388693658854154,
          -0.5160501814168289,
          -2.722609577819821,
          0.0355896676839192,
          1.1388693658854154,
          0.5872295167846673,
          0.0355896676839192,
          0.5872295167846673,
          1.1388693658854154,
          -1.619329879618325,
          1.1388693658854154,
          -1.067690030517577,
          1.1388693658854154,
          0.0355896676839192,
          0.5872295167846673,
          -3.2742494269205693,
          -1.619329879618325,
          -0.5160501814168289,
          0.5872295167846673,
          -6.03244867242431,
          0.0355896676839192,
          0.5872295167846673,
          -5.480808823323562,
          0.0355896676839192,
          1.1388693658854154,
          -1.067690030517577,
          0.5872295167846673,
          -2.722609577819821,
          -6.584088521525057,
          -1.619329879618325,
          0.0355896676839192,
          -6.03244867242431,
          0.5872295167846673,
          1.1388693658854154,
          -0.5160501814168289,
          0.5872295167846673,
          1.1388693658854154,
          -1.619329879618325,
          -0.5160501814168289,
          1.1388693658854154,
          -0.5160501814168289,
          -1.619329879618325,
          -1.067690030517577,
          0.0355896676839192,
          1.1388693658854154,
          -1.067690030517577,
          -3.2742494269205693,
          -1.067690030517577,
          1.1388693658854154,
          -2.170969728719073,
          0.0355896676839192,
          -1.067690030517577,
          -1.067690030517577,
          1.1388693658854154,
          1.1388693658854154,
          0.0355896676839192,
          -1.067690030517577,
          1.1388693658854154,
          -1.067690030517577,
          1.1388693658854154,
          -1.619329879618325,
          -5.480808823323562,
          -0.5160501814168289,
          1.1388693658854154,
          -3.2742494269205693,
          -1.067690030517577,
          -1.067690030517577,
          -1.619329879618325,
          0.5872295167846673,
          0.5872295167846673,
          0.0355896676839192,
          -2.170969728719073,
          -1.067690030517577,
          0.5872295167846673,
          -1.067690030517577,
          1.1388693658854154,
          -1.067690030517577,
          0.0355896676839192,
          -4.929168974222813,
          0.5872295167846673,
          1.1388693658854154,
          -0.5160501814168289,
          -1.067690030517577,
          1.1388693658854154,
          -1.067690030517577,
          -0.5160501814168289,
          1.1388693658854154,
          -2.722609577819821,
          0.0355896676839192,
          0.5872295167846673,
          1.1388693658854154,
          0.0355896676839192,
          -2.170969728719073,
          1.1388693658854154,
          -0.5160501814168289,
          1.1388693658854154,
          -3.2742494269205693,
          0.0355896676839192,
          -0.5160501814168289,
          1.1388693658854154,
          1.1388693658854154,
          0.0355896676839192,
          -4.377529125122066,
          -0.5160501814168289,
          1.1388693658854154,
          -4.929168974222813,
          1.1388693658854154,
          0.5872295167846673,
          -3.8258892760213175,
          1.1388693658854154,
          -0.5160501814168289,
          -3.8258892760213175,
          0.0355896676839192,
          1.1388693658854154,
          -4.377529125122066,
          -0.5160501814168289,
          0.5872295167846673,
          -1.067690030517577,
          0.0355896676839192,
          1.1388693658854154,
          -3.2742494269205693,
          -0.5160501814168289,
          1.1388693658854154,
          -4.377529125122066,
          1.1388693658854154,
          0.5872295167846673,
          -2.170969728719073,
          -0.5160501814168289,
          0.0355896676839192,
          0.0355896676839192,
          -1.067690030517577,
          0.0355896676839192,
          0.5872295167846673,
          -2.170969728719073,
          0.0355896676839192,
          -1.619329879618325,
          1.1388693658854154,
          -1.619329879618325,
          -1.067690030517577,
          -0.5160501814168289,
          1.1388693658854154,
          0.0355896676839192,
          1.1388693658854154,
          1.1388693658854154,
          -0.5160501814168289,
          1.1388693658854154,
          -1.619329879618325,
          0.5872295167846673,
          -1.067690030517577,
          -1.619329879618325,
          1.1388693658854154,
          -0.5160501814168289,
          -2.722609577819821,
          1.1388693658854154,
          0.5872295167846673,
          1.1388693658854154,
          1.1388693658854154,
          -1.067690030517577,
          1.1388693658854154,
          -1.067690030517577,
          -0.5160501814168289,
          0.0355896676839192,
          -1.619329879618325,
          1.1388693658854154,
          1.1388693658854154,
          1.1388693658854154,
          -3.2742494269205693,
          -1.067690030517577,
          -2.722609577819821,
          1.1388693658854154,
          -1.067690030517577,
          -1.067690030517577,
          1.1388693658854154,
          1.1388693658854154,
          0.5872295167846673,
          1.1388693658854154,
          1.1388693658854154,
          1.1388693658854154,
          -0.5160501814168289,
          -2.170969728719073,
          -1.619329879618325,
          0.5872295167846673,
          -1.619329879618325,
          -2.722609577819821,
          0.5872295167846673,
          1.1388693658854154,
          -0.5160501814168289,
          1.1388693658854154,
          -2.170969728719073,
          -0.5160501814168289,
          -1.067690030517577,
          -3.8258892760213175,
          -0.5160501814168289,
          0.5872295167846673,
          -2.170969728719073,
          -0.5160501814168289,
          -1.067690030517577,
          -9.893927616129547,
          0.5872295167846673,
          0.0355896676839192,
          -3.8258892760213175,
          -0.5160501814168289,
          -3.2742494269205693,
          -2.170969728719073,
          1.1388693658854154,
          -3.8258892760213175,
          -2.170969728719073,
          -0.5160501814168289
         ],
         "yaxis": "y"
        }
       ],
       "layout": {
        "legend": {
         "title": {
          "text": "variable"
         },
         "tracegroupgap": 0
        },
        "margin": {
         "t": 60
        },
        "template": {
         "data": {
          "bar": [
           {
            "error_x": {
             "color": "#2a3f5f"
            },
            "error_y": {
             "color": "#2a3f5f"
            },
            "marker": {
             "line": {
              "color": "#E5ECF6",
              "width": 0.5
             }
            },
            "type": "bar"
           }
          ],
          "barpolar": [
           {
            "marker": {
             "line": {
              "color": "#E5ECF6",
              "width": 0.5
             }
            },
            "type": "barpolar"
           }
          ],
          "carpet": [
           {
            "aaxis": {
             "endlinecolor": "#2a3f5f",
             "gridcolor": "white",
             "linecolor": "white",
             "minorgridcolor": "white",
             "startlinecolor": "#2a3f5f"
            },
            "baxis": {
             "endlinecolor": "#2a3f5f",
             "gridcolor": "white",
             "linecolor": "white",
             "minorgridcolor": "white",
             "startlinecolor": "#2a3f5f"
            },
            "type": "carpet"
           }
          ],
          "choropleth": [
           {
            "colorbar": {
             "outlinewidth": 0,
             "ticks": ""
            },
            "type": "choropleth"
           }
          ],
          "contour": [
           {
            "colorbar": {
             "outlinewidth": 0,
             "ticks": ""
            },
            "colorscale": [
             [
              0,
              "#0d0887"
             ],
             [
              0.1111111111111111,
              "#46039f"
             ],
             [
              0.2222222222222222,
              "#7201a8"
             ],
             [
              0.3333333333333333,
              "#9c179e"
             ],
             [
              0.4444444444444444,
              "#bd3786"
             ],
             [
              0.5555555555555556,
              "#d8576b"
             ],
             [
              0.6666666666666666,
              "#ed7953"
             ],
             [
              0.7777777777777778,
              "#fb9f3a"
             ],
             [
              0.8888888888888888,
              "#fdca26"
             ],
             [
              1,
              "#f0f921"
             ]
            ],
            "type": "contour"
           }
          ],
          "contourcarpet": [
           {
            "colorbar": {
             "outlinewidth": 0,
             "ticks": ""
            },
            "type": "contourcarpet"
           }
          ],
          "heatmap": [
           {
            "colorbar": {
             "outlinewidth": 0,
             "ticks": ""
            },
            "colorscale": [
             [
              0,
              "#0d0887"
             ],
             [
              0.1111111111111111,
              "#46039f"
             ],
             [
              0.2222222222222222,
              "#7201a8"
             ],
             [
              0.3333333333333333,
              "#9c179e"
             ],
             [
              0.4444444444444444,
              "#bd3786"
             ],
             [
              0.5555555555555556,
              "#d8576b"
             ],
             [
              0.6666666666666666,
              "#ed7953"
             ],
             [
              0.7777777777777778,
              "#fb9f3a"
             ],
             [
              0.8888888888888888,
              "#fdca26"
             ],
             [
              1,
              "#f0f921"
             ]
            ],
            "type": "heatmap"
           }
          ],
          "heatmapgl": [
           {
            "colorbar": {
             "outlinewidth": 0,
             "ticks": ""
            },
            "colorscale": [
             [
              0,
              "#0d0887"
             ],
             [
              0.1111111111111111,
              "#46039f"
             ],
             [
              0.2222222222222222,
              "#7201a8"
             ],
             [
              0.3333333333333333,
              "#9c179e"
             ],
             [
              0.4444444444444444,
              "#bd3786"
             ],
             [
              0.5555555555555556,
              "#d8576b"
             ],
             [
              0.6666666666666666,
              "#ed7953"
             ],
             [
              0.7777777777777778,
              "#fb9f3a"
             ],
             [
              0.8888888888888888,
              "#fdca26"
             ],
             [
              1,
              "#f0f921"
             ]
            ],
            "type": "heatmapgl"
           }
          ],
          "histogram": [
           {
            "marker": {
             "colorbar": {
              "outlinewidth": 0,
              "ticks": ""
             }
            },
            "type": "histogram"
           }
          ],
          "histogram2d": [
           {
            "colorbar": {
             "outlinewidth": 0,
             "ticks": ""
            },
            "colorscale": [
             [
              0,
              "#0d0887"
             ],
             [
              0.1111111111111111,
              "#46039f"
             ],
             [
              0.2222222222222222,
              "#7201a8"
             ],
             [
              0.3333333333333333,
              "#9c179e"
             ],
             [
              0.4444444444444444,
              "#bd3786"
             ],
             [
              0.5555555555555556,
              "#d8576b"
             ],
             [
              0.6666666666666666,
              "#ed7953"
             ],
             [
              0.7777777777777778,
              "#fb9f3a"
             ],
             [
              0.8888888888888888,
              "#fdca26"
             ],
             [
              1,
              "#f0f921"
             ]
            ],
            "type": "histogram2d"
           }
          ],
          "histogram2dcontour": [
           {
            "colorbar": {
             "outlinewidth": 0,
             "ticks": ""
            },
            "colorscale": [
             [
              0,
              "#0d0887"
             ],
             [
              0.1111111111111111,
              "#46039f"
             ],
             [
              0.2222222222222222,
              "#7201a8"
             ],
             [
              0.3333333333333333,
              "#9c179e"
             ],
             [
              0.4444444444444444,
              "#bd3786"
             ],
             [
              0.5555555555555556,
              "#d8576b"
             ],
             [
              0.6666666666666666,
              "#ed7953"
             ],
             [
              0.7777777777777778,
              "#fb9f3a"
             ],
             [
              0.8888888888888888,
              "#fdca26"
             ],
             [
              1,
              "#f0f921"
             ]
            ],
            "type": "histogram2dcontour"
           }
          ],
          "mesh3d": [
           {
            "colorbar": {
             "outlinewidth": 0,
             "ticks": ""
            },
            "type": "mesh3d"
           }
          ],
          "parcoords": [
           {
            "line": {
             "colorbar": {
              "outlinewidth": 0,
              "ticks": ""
             }
            },
            "type": "parcoords"
           }
          ],
          "pie": [
           {
            "automargin": true,
            "type": "pie"
           }
          ],
          "scatter": [
           {
            "marker": {
             "colorbar": {
              "outlinewidth": 0,
              "ticks": ""
             }
            },
            "type": "scatter"
           }
          ],
          "scatter3d": [
           {
            "line": {
             "colorbar": {
              "outlinewidth": 0,
              "ticks": ""
             }
            },
            "marker": {
             "colorbar": {
              "outlinewidth": 0,
              "ticks": ""
             }
            },
            "type": "scatter3d"
           }
          ],
          "scattercarpet": [
           {
            "marker": {
             "colorbar": {
              "outlinewidth": 0,
              "ticks": ""
             }
            },
            "type": "scattercarpet"
           }
          ],
          "scattergeo": [
           {
            "marker": {
             "colorbar": {
              "outlinewidth": 0,
              "ticks": ""
             }
            },
            "type": "scattergeo"
           }
          ],
          "scattergl": [
           {
            "marker": {
             "colorbar": {
              "outlinewidth": 0,
              "ticks": ""
             }
            },
            "type": "scattergl"
           }
          ],
          "scattermapbox": [
           {
            "marker": {
             "colorbar": {
              "outlinewidth": 0,
              "ticks": ""
             }
            },
            "type": "scattermapbox"
           }
          ],
          "scatterpolar": [
           {
            "marker": {
             "colorbar": {
              "outlinewidth": 0,
              "ticks": ""
             }
            },
            "type": "scatterpolar"
           }
          ],
          "scatterpolargl": [
           {
            "marker": {
             "colorbar": {
              "outlinewidth": 0,
              "ticks": ""
             }
            },
            "type": "scatterpolargl"
           }
          ],
          "scatterternary": [
           {
            "marker": {
             "colorbar": {
              "outlinewidth": 0,
              "ticks": ""
             }
            },
            "type": "scatterternary"
           }
          ],
          "surface": [
           {
            "colorbar": {
             "outlinewidth": 0,
             "ticks": ""
            },
            "colorscale": [
             [
              0,
              "#0d0887"
             ],
             [
              0.1111111111111111,
              "#46039f"
             ],
             [
              0.2222222222222222,
              "#7201a8"
             ],
             [
              0.3333333333333333,
              "#9c179e"
             ],
             [
              0.4444444444444444,
              "#bd3786"
             ],
             [
              0.5555555555555556,
              "#d8576b"
             ],
             [
              0.6666666666666666,
              "#ed7953"
             ],
             [
              0.7777777777777778,
              "#fb9f3a"
             ],
             [
              0.8888888888888888,
              "#fdca26"
             ],
             [
              1,
              "#f0f921"
             ]
            ],
            "type": "surface"
           }
          ],
          "table": [
           {
            "cells": {
             "fill": {
              "color": "#EBF0F8"
             },
             "line": {
              "color": "white"
             }
            },
            "header": {
             "fill": {
              "color": "#C8D4E3"
             },
             "line": {
              "color": "white"
             }
            },
            "type": "table"
           }
          ]
         },
         "layout": {
          "annotationdefaults": {
           "arrowcolor": "#2a3f5f",
           "arrowhead": 0,
           "arrowwidth": 1
          },
          "coloraxis": {
           "colorbar": {
            "outlinewidth": 0,
            "ticks": ""
           }
          },
          "colorscale": {
           "diverging": [
            [
             0,
             "#8e0152"
            ],
            [
             0.1,
             "#c51b7d"
            ],
            [
             0.2,
             "#de77ae"
            ],
            [
             0.3,
             "#f1b6da"
            ],
            [
             0.4,
             "#fde0ef"
            ],
            [
             0.5,
             "#f7f7f7"
            ],
            [
             0.6,
             "#e6f5d0"
            ],
            [
             0.7,
             "#b8e186"
            ],
            [
             0.8,
             "#7fbc41"
            ],
            [
             0.9,
             "#4d9221"
            ],
            [
             1,
             "#276419"
            ]
           ],
           "sequential": [
            [
             0,
             "#0d0887"
            ],
            [
             0.1111111111111111,
             "#46039f"
            ],
            [
             0.2222222222222222,
             "#7201a8"
            ],
            [
             0.3333333333333333,
             "#9c179e"
            ],
            [
             0.4444444444444444,
             "#bd3786"
            ],
            [
             0.5555555555555556,
             "#d8576b"
            ],
            [
             0.6666666666666666,
             "#ed7953"
            ],
            [
             0.7777777777777778,
             "#fb9f3a"
            ],
            [
             0.8888888888888888,
             "#fdca26"
            ],
            [
             1,
             "#f0f921"
            ]
           ],
           "sequentialminus": [
            [
             0,
             "#0d0887"
            ],
            [
             0.1111111111111111,
             "#46039f"
            ],
            [
             0.2222222222222222,
             "#7201a8"
            ],
            [
             0.3333333333333333,
             "#9c179e"
            ],
            [
             0.4444444444444444,
             "#bd3786"
            ],
            [
             0.5555555555555556,
             "#d8576b"
            ],
            [
             0.6666666666666666,
             "#ed7953"
            ],
            [
             0.7777777777777778,
             "#fb9f3a"
            ],
            [
             0.8888888888888888,
             "#fdca26"
            ],
            [
             1,
             "#f0f921"
            ]
           ]
          },
          "colorway": [
           "#636efa",
           "#EF553B",
           "#00cc96",
           "#ab63fa",
           "#FFA15A",
           "#19d3f3",
           "#FF6692",
           "#B6E880",
           "#FF97FF",
           "#FECB52"
          ],
          "font": {
           "color": "#2a3f5f"
          },
          "geo": {
           "bgcolor": "white",
           "lakecolor": "white",
           "landcolor": "#E5ECF6",
           "showlakes": true,
           "showland": true,
           "subunitcolor": "white"
          },
          "hoverlabel": {
           "align": "left"
          },
          "hovermode": "closest",
          "mapbox": {
           "style": "light"
          },
          "paper_bgcolor": "white",
          "plot_bgcolor": "#E5ECF6",
          "polar": {
           "angularaxis": {
            "gridcolor": "white",
            "linecolor": "white",
            "ticks": ""
           },
           "bgcolor": "#E5ECF6",
           "radialaxis": {
            "gridcolor": "white",
            "linecolor": "white",
            "ticks": ""
           }
          },
          "scene": {
           "xaxis": {
            "backgroundcolor": "#E5ECF6",
            "gridcolor": "white",
            "gridwidth": 2,
            "linecolor": "white",
            "showbackground": true,
            "ticks": "",
            "zerolinecolor": "white"
           },
           "yaxis": {
            "backgroundcolor": "#E5ECF6",
            "gridcolor": "white",
            "gridwidth": 2,
            "linecolor": "white",
            "showbackground": true,
            "ticks": "",
            "zerolinecolor": "white"
           },
           "zaxis": {
            "backgroundcolor": "#E5ECF6",
            "gridcolor": "white",
            "gridwidth": 2,
            "linecolor": "white",
            "showbackground": true,
            "ticks": "",
            "zerolinecolor": "white"
           }
          },
          "shapedefaults": {
           "line": {
            "color": "#2a3f5f"
           }
          },
          "ternary": {
           "aaxis": {
            "gridcolor": "white",
            "linecolor": "white",
            "ticks": ""
           },
           "baxis": {
            "gridcolor": "white",
            "linecolor": "white",
            "ticks": ""
           },
           "bgcolor": "#E5ECF6",
           "caxis": {
            "gridcolor": "white",
            "linecolor": "white",
            "ticks": ""
           }
          },
          "title": {
           "x": 0.05
          },
          "xaxis": {
           "automargin": true,
           "gridcolor": "white",
           "linecolor": "white",
           "ticks": "",
           "title": {
            "standoff": 15
           },
           "zerolinecolor": "white",
           "zerolinewidth": 2
          },
          "yaxis": {
           "automargin": true,
           "gridcolor": "white",
           "linecolor": "white",
           "ticks": "",
           "title": {
            "standoff": 15
           },
           "zerolinecolor": "white",
           "zerolinewidth": 2
          }
         }
        },
        "xaxis": {
         "anchor": "y",
         "domain": [
          0,
          1
         ],
         "title": {
          "text": "index"
         }
        },
        "yaxis": {
         "anchor": "x",
         "domain": [
          0,
          1
         ],
         "title": {
          "text": "value"
         }
        }
       }
      },
      "text/html": [
       "<div>                            <div id=\"4e2a2047-1ab2-4642-b6c6-25aa870f76c7\" class=\"plotly-graph-div\" style=\"height:525px; width:100%;\"></div>            <script type=\"text/javascript\">                require([\"plotly\"], function(Plotly) {                    window.PLOTLYENV=window.PLOTLYENV || {};                                    if (document.getElementById(\"4e2a2047-1ab2-4642-b6c6-25aa870f76c7\")) {                    Plotly.newPlot(                        \"4e2a2047-1ab2-4642-b6c6-25aa870f76c7\",                        [{\"hovertemplate\": \"variable=Chandler<br>index=%{x}<br>value=%{y}<extra></extra>\", \"legendgroup\": \"Chandler\", \"line\": {\"color\": \"#636efa\", \"dash\": \"solid\"}, \"mode\": \"lines\", \"name\": \"Chandler\", \"orientation\": \"v\", \"showlegend\": true, \"type\": \"scatter\", \"x\": [0, 1, 3, 4, 5, 7, 8, 9, 11, 12, 13, 15, 16, 17, 19, 20, 21, 23, 24, 25, 27, 28, 29, 31, 32, 33, 35, 36, 37, 39, 40, 41, 43, 44, 45, 47, 48, 49, 50, 51, 52, 54, 55, 56, 58, 59, 60, 62, 63, 64, 66, 67, 68, 70, 71, 72, 74, 75, 76, 78, 79, 80, 82, 83, 84, 86, 87, 88, 90, 91, 92, 94, 95, 96, 98, 99, 100, 102, 103, 104, 106, 107, 108, 110, 111, 112, 114, 115, 116, 118, 119, 120, 122, 123, 124, 126, 127, 128, 130, 131, 132, 134, 135, 136, 138, 139, 140, 142, 143, 144, 146, 147, 148, 150, 151, 152, 154, 155, 156, 158, 159, 160, 162, 163, 164, 166, 167, 168, 170, 171, 172, 174, 175, 176, 178, 179, 180, 182, 183, 184, 186, 187, 188, 190, 191, 192, 194, 195, 196, 198, 199, 201, 202, 203, 205, 206, 207, 209, 210, 211, 213, 214, 215, 217, 218, 220, 221, 222, 224, 225, 226, 228, 229, 230, 232, 233, 234, 236, 237, 238, 240, 241, 242, 244, 245, 246, 248, 249, 250, 252, 253, 254, 256, 257, 258, 260, 261, 262, 263, 264, 265, 266, 268, 269, 270, 272, 273, 274, 276, 277, 278, 280, 281, 282, 284, 285, 286, 288, 289, 290, 292, 293, 294, 296, 297, 298, 300, 301, 302, 304, 305, 306, 308, 309, 310, 312, 313, 314, 316, 317, 318, 320, 321, 322, 324, 325, 326, 328, 329, 330, 332, 333, 334, 336, 337, 338, 340, 341, 342, 344, 345, 346, 348, 349, 350, 352, 353, 354, 356, 357, 358, 360, 361, 362, 364, 365, 366, 368, 369, 370, 372, 373, 374, 376, 377, 378, 380, 381, 382, 384, 385, 386, 388, 389, 390, 392, 393, 394, 396, 397, 398, 400, 401, 402, 404, 405, 406, 408, 409, 411, 412, 413, 415, 416, 417, 419, 420, 421, 423, 424, 425, 427, 428, 429, 431, 432, 433, 435, 436, 437, 439, 440, 441, 443, 444, 445, 447, 448, 449, 451, 452, 453, 455, 456, 457, 459, 460, 461, 463, 464, 465, 467, 468, 469, 471, 472, 473, 475, 476, 478, 479, 480, 482, 483, 484, 486, 487, 488, 490, 491, 492, 493, 494, 495, 496, 497, 498, 500, 501, 502, 504, 505, 506, 508, 509, 510, 512, 513, 514, 516, 517, 518, 520, 521, 522, 524, 525, 526, 528, 529, 530, 532, 533, 534, 536, 537, 538, 540, 541, 542, 544, 545, 546, 548, 549, 550, 552, 553, 554, 556, 557, 558, 560, 561, 562, 564, 565, 566, 568, 569, 570, 572, 573, 574, 576, 577, 578, 580, 581], \"xaxis\": \"x\", \"y\": [-0.7261810548702498, 1.03950351239472, 0.686366598941726, 0.3332296854887321, 1.03950351239472, 0.686366598941726, -0.019907227964261844, 0.3332296854887321, 0.3332296854887321, -0.019907227964261844, 0.3332296854887321, -1.4324548817762377, 0.686366598941726, 1.03950351239472, 0.3332296854887321, 1.03950351239472, 0.686366598941726, -0.3730441414172558, 1.03950351239472, -0.019907227964261844, 0.3332296854887321, 0.3332296854887321, -0.7261810548702498, 1.03950351239472, 0.3332296854887321, -0.019907227964261844, 0.686366598941726, -1.0793179683232437, 0.686366598941726, 1.03950351239472, -0.019907227964261844, 0.0355896676839192, -2.170969728719073, -1.619329879618325, 1.1388693658854154, -1.067690030517577, -2.722609577819821, 0.0355896676839192, -1.619329879618325, -2.170969728719073, 1.1388693658854154, -0.5160501814168289, 0.5872295167846673, -1.067690030517577, -1.619329879618325, 0.5872295167846673, -1.619329879618325, -1.619329879618325, -1.067690030517577, 1.1388693658854154, -1.067690030517577, 1.1388693658854154, -0.5160501814168289, -3.2742494269205693, 0.0355896676839192, -2.722609577819821, 0.5872295167846673, 1.1388693658854154, -0.5160501814168289, 1.1388693658854154, 0.0355896676839192, 0.0355896676839192, 0.0355896676839192, -0.5160501814168289, 0.5872295167846673, -2.722609577819821, 0.0355896676839192, -0.5160501814168289, 0.0355896676839192, 1.1388693658854154, 0.0355896676839192, -1.067690030517577, 1.1388693658854154, -1.619329879618325, -0.5160501814168289, -0.5160501814168289, 0.5872295167846673, -1.067690030517577, -0.5160501814168289, -0.5160501814168289, 0.0355896676839192, 0.5872295167846673, -2.170969728719073, -1.067690030517577, -0.5160501814168289, 0.0355896676839192, 0.0355896676839192, -2.170969728719073, 0.0355896676839192, -0.5160501814168289, 0.0355896676839192, 0.5872295167846673, -1.067690030517577, 0.5872295167846673, 0.0355896676839192, -2.170969728719073, 1.1388693658854154, 0.0355896676839192, -0.5160501814168289, 0.5872295167846673, 0.0355896676839192, 0.0355896676839192, 0.0355896676839192, 1.1388693658854154, -1.619329879618325, -2.170969728719073, 0.5872295167846673, 0.0355896676839192, 0.5872295167846673, 1.1388693658854154, 0.0355896676839192, -3.2742494269205693, -1.067690030517577, -1.619329879618325, 1.1388693658854154, 1.1388693658854154, -0.5160501814168289, 0.5872295167846673, -0.5160501814168289, 0.0355896676839192, -1.067690030517577, 0.5872295167846673, -2.170969728719073, 0.0355896676839192, -1.067690030517577, -1.619329879618325, -2.170969728719073, 0.5872295167846673, 1.1388693658854154, 1.1388693658854154, 1.1388693658854154, 1.1388693658854154, -1.067690030517577, 1.1388693658854154, 0.5872295167846673, -1.619329879618325, 1.1388693658854154, 0.0355896676839192, 0.5872295167846673, 1.1388693658854154, -1.067690030517577, 1.1388693658854154, 0.5872295167846673, 1.1388693658854154, 0.5872295167846673, 1.1388693658854154, -1.067690030517577, 0.5872295167846673, -0.5160501814168289, -0.5160501814168289, -1.067690030517577, 0.5872295167846673, -2.722609577819821, 1.1388693658854154, -0.5160501814168289, -1.619329879618325, 1.1388693658854154, -2.170969728719073, -0.5160501814168289, 1.1388693658854154, 0.0355896676839192, 0.0355896676839192, 0.0355896676839192, -1.067690030517577, 0.0355896676839192, -0.5160501814168289, -0.5160501814168289, 1.1388693658854154, 0.0355896676839192, -2.170969728719073, -0.5160501814168289, -3.2742494269205693, -1.067690030517577, 0.5872295167846673, 1.1388693658854154, -0.5160501814168289, 1.1388693658854154, 1.1388693658854154, 1.1388693658854154, -0.5160501814168289, 0.5872295167846673, -1.619329879618325, -1.067690030517577, -1.619329879618325, -1.067690030517577, 1.1388693658854154, -0.5160501814168289, 0.5872295167846673, -0.5160501814168289, -5.480808823323562, -1.067690030517577, -0.5160501814168289, 0.0355896676839192, -2.170969728719073, 1.1388693658854154, -2.170969728719073, -1.067690030517577, 1.1388693658854154, 1.1388693658854154, -1.067690030517577, -3.2742494269205693, 0.0355896676839192, -1.067690030517577, -0.5160501814168289, 1.1388693658854154, 0.5872295167846673, -1.067690030517577, 1.1388693658854154, 0.5872295167846673, 1.1388693658854154, 0.5872295167846673, -2.170969728719073, 0.0355896676839192, -1.619329879618325, -3.2742494269205693, 1.1388693658854154, 0.5872295167846673, 0.0355896676839192, -1.067690030517577, 1.1388693658854154, -1.067690030517577, 0.0355896676839192, -1.619329879618325, 0.5872295167846673, -0.5160501814168289, 1.1388693658854154, -1.067690030517577, -1.067690030517577, -1.067690030517577, 0.5872295167846673, -1.067690030517577, 1.1388693658854154, -0.5160501814168289, -2.722609577819821, 0.0355896676839192, 1.1388693658854154, 0.5872295167846673, 0.0355896676839192, 0.5872295167846673, 1.1388693658854154, -1.619329879618325, 1.1388693658854154, -1.067690030517577, 1.1388693658854154, 0.0355896676839192, 0.5872295167846673, -3.2742494269205693, -1.619329879618325, -0.5160501814168289, 0.5872295167846673, -6.03244867242431, 0.0355896676839192, 0.5872295167846673, -5.480808823323562, 0.0355896676839192, 1.1388693658854154, -1.067690030517577, 0.5872295167846673, -2.722609577819821, -6.584088521525057, -1.619329879618325, 0.0355896676839192, -6.03244867242431, 0.5872295167846673, 1.1388693658854154, -0.5160501814168289, 0.5872295167846673, 1.1388693658854154, -1.619329879618325, -0.5160501814168289, 1.1388693658854154, -0.5160501814168289, -1.619329879618325, -1.067690030517577, 0.0355896676839192, 1.1388693658854154, -1.067690030517577, -3.2742494269205693, -1.067690030517577, 1.1388693658854154, -2.170969728719073, 0.0355896676839192, -1.067690030517577, -1.067690030517577, 1.1388693658854154, 1.1388693658854154, 0.0355896676839192, -1.067690030517577, 1.1388693658854154, -1.067690030517577, 1.1388693658854154, -1.619329879618325, -5.480808823323562, -0.5160501814168289, 1.1388693658854154, -3.2742494269205693, -1.067690030517577, -1.067690030517577, -1.619329879618325, 0.5872295167846673, 0.5872295167846673, 0.0355896676839192, -2.170969728719073, -1.067690030517577, 0.5872295167846673, -1.067690030517577, 1.1388693658854154, -1.067690030517577, 0.0355896676839192, -4.929168974222813, 0.5872295167846673, 1.1388693658854154, -0.5160501814168289, -1.067690030517577, 1.1388693658854154, -1.067690030517577, -0.5160501814168289, 1.1388693658854154, -2.722609577819821, 0.0355896676839192, 0.5872295167846673, 1.1388693658854154, 0.0355896676839192, -2.170969728719073, 1.1388693658854154, -0.5160501814168289, 1.1388693658854154, -3.2742494269205693, 0.0355896676839192, -0.5160501814168289, 1.1388693658854154, 1.1388693658854154, 0.0355896676839192, -4.377529125122066, -0.5160501814168289, 1.1388693658854154, -4.929168974222813, 1.1388693658854154, 0.5872295167846673, -3.8258892760213175, 1.1388693658854154, -0.5160501814168289, -3.8258892760213175, 0.0355896676839192, 1.1388693658854154, -4.377529125122066, -0.5160501814168289, 0.5872295167846673, -1.067690030517577, 0.0355896676839192, 1.1388693658854154, -3.2742494269205693, -0.5160501814168289, 1.1388693658854154, -4.377529125122066, 1.1388693658854154, 0.5872295167846673, -2.170969728719073, -0.5160501814168289, 0.0355896676839192, 0.0355896676839192, -1.067690030517577, 0.0355896676839192, 0.5872295167846673, -2.170969728719073, 0.0355896676839192, -1.619329879618325, 1.1388693658854154, -1.619329879618325, -1.067690030517577, -0.5160501814168289, 1.1388693658854154, 0.0355896676839192, 1.1388693658854154, 1.1388693658854154, -0.5160501814168289, 1.1388693658854154, -1.619329879618325, 0.5872295167846673, -1.067690030517577, -1.619329879618325, 1.1388693658854154, -0.5160501814168289, -2.722609577819821, 1.1388693658854154, 0.5872295167846673, 1.1388693658854154, 1.1388693658854154, -1.067690030517577, 1.1388693658854154, -1.067690030517577, -0.5160501814168289, 0.0355896676839192, -1.619329879618325, 1.1388693658854154, 1.1388693658854154, 1.1388693658854154, -3.2742494269205693, -1.067690030517577, -2.722609577819821, 1.1388693658854154, -1.067690030517577, -1.067690030517577, 1.1388693658854154, 1.1388693658854154, 0.5872295167846673, 1.1388693658854154, 1.1388693658854154, 1.1388693658854154, -0.5160501814168289, -2.170969728719073, -1.619329879618325, 0.5872295167846673, -1.619329879618325, -2.722609577819821, 0.5872295167846673, 1.1388693658854154, -0.5160501814168289, 1.1388693658854154, -2.170969728719073, -0.5160501814168289, -1.067690030517577, -3.8258892760213175, -0.5160501814168289, 0.5872295167846673, -2.170969728719073, -0.5160501814168289, -1.067690030517577, -9.893927616129547, 0.5872295167846673, 0.0355896676839192, -3.8258892760213175, -0.5160501814168289, -3.2742494269205693, -2.170969728719073, 1.1388693658854154, -3.8258892760213175, -2.170969728719073, -0.5160501814168289], \"yaxis\": \"y\"}],                        {\"legend\": {\"title\": {\"text\": \"variable\"}, \"tracegroupgap\": 0}, \"margin\": {\"t\": 60}, \"template\": {\"data\": {\"bar\": [{\"error_x\": {\"color\": \"#2a3f5f\"}, \"error_y\": {\"color\": \"#2a3f5f\"}, \"marker\": {\"line\": {\"color\": \"#E5ECF6\", \"width\": 0.5}}, \"type\": \"bar\"}], \"barpolar\": [{\"marker\": {\"line\": {\"color\": \"#E5ECF6\", \"width\": 0.5}}, \"type\": \"barpolar\"}], \"carpet\": [{\"aaxis\": {\"endlinecolor\": \"#2a3f5f\", \"gridcolor\": \"white\", \"linecolor\": \"white\", \"minorgridcolor\": \"white\", \"startlinecolor\": \"#2a3f5f\"}, \"baxis\": {\"endlinecolor\": \"#2a3f5f\", \"gridcolor\": \"white\", \"linecolor\": \"white\", \"minorgridcolor\": \"white\", \"startlinecolor\": \"#2a3f5f\"}, \"type\": \"carpet\"}], \"choropleth\": [{\"colorbar\": {\"outlinewidth\": 0, \"ticks\": \"\"}, \"type\": \"choropleth\"}], \"contour\": [{\"colorbar\": {\"outlinewidth\": 0, \"ticks\": \"\"}, \"colorscale\": [[0.0, \"#0d0887\"], [0.1111111111111111, \"#46039f\"], [0.2222222222222222, \"#7201a8\"], [0.3333333333333333, \"#9c179e\"], [0.4444444444444444, \"#bd3786\"], [0.5555555555555556, \"#d8576b\"], [0.6666666666666666, \"#ed7953\"], [0.7777777777777778, \"#fb9f3a\"], [0.8888888888888888, \"#fdca26\"], [1.0, \"#f0f921\"]], \"type\": \"contour\"}], \"contourcarpet\": [{\"colorbar\": {\"outlinewidth\": 0, \"ticks\": \"\"}, \"type\": \"contourcarpet\"}], \"heatmap\": [{\"colorbar\": {\"outlinewidth\": 0, \"ticks\": \"\"}, \"colorscale\": [[0.0, \"#0d0887\"], [0.1111111111111111, \"#46039f\"], [0.2222222222222222, \"#7201a8\"], [0.3333333333333333, \"#9c179e\"], [0.4444444444444444, \"#bd3786\"], [0.5555555555555556, \"#d8576b\"], [0.6666666666666666, \"#ed7953\"], [0.7777777777777778, \"#fb9f3a\"], [0.8888888888888888, \"#fdca26\"], [1.0, \"#f0f921\"]], \"type\": \"heatmap\"}], \"heatmapgl\": [{\"colorbar\": {\"outlinewidth\": 0, \"ticks\": \"\"}, \"colorscale\": [[0.0, \"#0d0887\"], [0.1111111111111111, \"#46039f\"], [0.2222222222222222, \"#7201a8\"], [0.3333333333333333, \"#9c179e\"], [0.4444444444444444, \"#bd3786\"], [0.5555555555555556, \"#d8576b\"], [0.6666666666666666, \"#ed7953\"], [0.7777777777777778, \"#fb9f3a\"], [0.8888888888888888, \"#fdca26\"], [1.0, \"#f0f921\"]], \"type\": \"heatmapgl\"}], \"histogram\": [{\"marker\": {\"colorbar\": {\"outlinewidth\": 0, \"ticks\": \"\"}}, \"type\": \"histogram\"}], \"histogram2d\": [{\"colorbar\": {\"outlinewidth\": 0, \"ticks\": \"\"}, \"colorscale\": [[0.0, \"#0d0887\"], [0.1111111111111111, \"#46039f\"], [0.2222222222222222, \"#7201a8\"], [0.3333333333333333, \"#9c179e\"], [0.4444444444444444, \"#bd3786\"], [0.5555555555555556, \"#d8576b\"], [0.6666666666666666, \"#ed7953\"], [0.7777777777777778, \"#fb9f3a\"], [0.8888888888888888, \"#fdca26\"], [1.0, \"#f0f921\"]], \"type\": \"histogram2d\"}], \"histogram2dcontour\": [{\"colorbar\": {\"outlinewidth\": 0, \"ticks\": \"\"}, \"colorscale\": [[0.0, \"#0d0887\"], [0.1111111111111111, \"#46039f\"], [0.2222222222222222, \"#7201a8\"], [0.3333333333333333, \"#9c179e\"], [0.4444444444444444, \"#bd3786\"], [0.5555555555555556, \"#d8576b\"], [0.6666666666666666, \"#ed7953\"], [0.7777777777777778, \"#fb9f3a\"], [0.8888888888888888, \"#fdca26\"], [1.0, \"#f0f921\"]], \"type\": \"histogram2dcontour\"}], \"mesh3d\": [{\"colorbar\": {\"outlinewidth\": 0, \"ticks\": \"\"}, \"type\": \"mesh3d\"}], \"parcoords\": [{\"line\": {\"colorbar\": {\"outlinewidth\": 0, \"ticks\": \"\"}}, \"type\": \"parcoords\"}], \"pie\": [{\"automargin\": true, \"type\": \"pie\"}], \"scatter\": [{\"marker\": {\"colorbar\": {\"outlinewidth\": 0, \"ticks\": \"\"}}, \"type\": \"scatter\"}], \"scatter3d\": [{\"line\": {\"colorbar\": {\"outlinewidth\": 0, \"ticks\": \"\"}}, \"marker\": {\"colorbar\": {\"outlinewidth\": 0, \"ticks\": \"\"}}, \"type\": \"scatter3d\"}], \"scattercarpet\": [{\"marker\": {\"colorbar\": {\"outlinewidth\": 0, \"ticks\": \"\"}}, \"type\": \"scattercarpet\"}], \"scattergeo\": [{\"marker\": {\"colorbar\": {\"outlinewidth\": 0, \"ticks\": \"\"}}, \"type\": \"scattergeo\"}], \"scattergl\": [{\"marker\": {\"colorbar\": {\"outlinewidth\": 0, \"ticks\": \"\"}}, \"type\": \"scattergl\"}], \"scattermapbox\": [{\"marker\": {\"colorbar\": {\"outlinewidth\": 0, \"ticks\": \"\"}}, \"type\": \"scattermapbox\"}], \"scatterpolar\": [{\"marker\": {\"colorbar\": {\"outlinewidth\": 0, \"ticks\": \"\"}}, \"type\": \"scatterpolar\"}], \"scatterpolargl\": [{\"marker\": {\"colorbar\": {\"outlinewidth\": 0, \"ticks\": \"\"}}, \"type\": \"scatterpolargl\"}], \"scatterternary\": [{\"marker\": {\"colorbar\": {\"outlinewidth\": 0, \"ticks\": \"\"}}, \"type\": \"scatterternary\"}], \"surface\": [{\"colorbar\": {\"outlinewidth\": 0, \"ticks\": \"\"}, \"colorscale\": [[0.0, \"#0d0887\"], [0.1111111111111111, \"#46039f\"], [0.2222222222222222, \"#7201a8\"], [0.3333333333333333, \"#9c179e\"], [0.4444444444444444, \"#bd3786\"], [0.5555555555555556, \"#d8576b\"], [0.6666666666666666, \"#ed7953\"], [0.7777777777777778, \"#fb9f3a\"], [0.8888888888888888, \"#fdca26\"], [1.0, \"#f0f921\"]], \"type\": \"surface\"}], \"table\": [{\"cells\": {\"fill\": {\"color\": \"#EBF0F8\"}, \"line\": {\"color\": \"white\"}}, \"header\": {\"fill\": {\"color\": \"#C8D4E3\"}, \"line\": {\"color\": \"white\"}}, \"type\": \"table\"}]}, \"layout\": {\"annotationdefaults\": {\"arrowcolor\": \"#2a3f5f\", \"arrowhead\": 0, \"arrowwidth\": 1}, \"coloraxis\": {\"colorbar\": {\"outlinewidth\": 0, \"ticks\": \"\"}}, \"colorscale\": {\"diverging\": [[0, \"#8e0152\"], [0.1, \"#c51b7d\"], [0.2, \"#de77ae\"], [0.3, \"#f1b6da\"], [0.4, \"#fde0ef\"], [0.5, \"#f7f7f7\"], [0.6, \"#e6f5d0\"], [0.7, \"#b8e186\"], [0.8, \"#7fbc41\"], [0.9, \"#4d9221\"], [1, \"#276419\"]], \"sequential\": [[0.0, \"#0d0887\"], [0.1111111111111111, \"#46039f\"], [0.2222222222222222, \"#7201a8\"], [0.3333333333333333, \"#9c179e\"], [0.4444444444444444, \"#bd3786\"], [0.5555555555555556, \"#d8576b\"], [0.6666666666666666, \"#ed7953\"], [0.7777777777777778, \"#fb9f3a\"], [0.8888888888888888, \"#fdca26\"], [1.0, \"#f0f921\"]], \"sequentialminus\": [[0.0, \"#0d0887\"], [0.1111111111111111, \"#46039f\"], [0.2222222222222222, \"#7201a8\"], [0.3333333333333333, \"#9c179e\"], [0.4444444444444444, \"#bd3786\"], [0.5555555555555556, \"#d8576b\"], [0.6666666666666666, \"#ed7953\"], [0.7777777777777778, \"#fb9f3a\"], [0.8888888888888888, \"#fdca26\"], [1.0, \"#f0f921\"]]}, \"colorway\": [\"#636efa\", \"#EF553B\", \"#00cc96\", \"#ab63fa\", \"#FFA15A\", \"#19d3f3\", \"#FF6692\", \"#B6E880\", \"#FF97FF\", \"#FECB52\"], \"font\": {\"color\": \"#2a3f5f\"}, \"geo\": {\"bgcolor\": \"white\", \"lakecolor\": \"white\", \"landcolor\": \"#E5ECF6\", \"showlakes\": true, \"showland\": true, \"subunitcolor\": \"white\"}, \"hoverlabel\": {\"align\": \"left\"}, \"hovermode\": \"closest\", \"mapbox\": {\"style\": \"light\"}, \"paper_bgcolor\": \"white\", \"plot_bgcolor\": \"#E5ECF6\", \"polar\": {\"angularaxis\": {\"gridcolor\": \"white\", \"linecolor\": \"white\", \"ticks\": \"\"}, \"bgcolor\": \"#E5ECF6\", \"radialaxis\": {\"gridcolor\": \"white\", \"linecolor\": \"white\", \"ticks\": \"\"}}, \"scene\": {\"xaxis\": {\"backgroundcolor\": \"#E5ECF6\", \"gridcolor\": \"white\", \"gridwidth\": 2, \"linecolor\": \"white\", \"showbackground\": true, \"ticks\": \"\", \"zerolinecolor\": \"white\"}, \"yaxis\": {\"backgroundcolor\": \"#E5ECF6\", \"gridcolor\": \"white\", \"gridwidth\": 2, \"linecolor\": \"white\", \"showbackground\": true, \"ticks\": \"\", \"zerolinecolor\": \"white\"}, \"zaxis\": {\"backgroundcolor\": \"#E5ECF6\", \"gridcolor\": \"white\", \"gridwidth\": 2, \"linecolor\": \"white\", \"showbackground\": true, \"ticks\": \"\", \"zerolinecolor\": \"white\"}}, \"shapedefaults\": {\"line\": {\"color\": \"#2a3f5f\"}}, \"ternary\": {\"aaxis\": {\"gridcolor\": \"white\", \"linecolor\": \"white\", \"ticks\": \"\"}, \"baxis\": {\"gridcolor\": \"white\", \"linecolor\": \"white\", \"ticks\": \"\"}, \"bgcolor\": \"#E5ECF6\", \"caxis\": {\"gridcolor\": \"white\", \"linecolor\": \"white\", \"ticks\": \"\"}}, \"title\": {\"x\": 0.05}, \"xaxis\": {\"automargin\": true, \"gridcolor\": \"white\", \"linecolor\": \"white\", \"ticks\": \"\", \"title\": {\"standoff\": 15}, \"zerolinecolor\": \"white\", \"zerolinewidth\": 2}, \"yaxis\": {\"automargin\": true, \"gridcolor\": \"white\", \"linecolor\": \"white\", \"ticks\": \"\", \"title\": {\"standoff\": 15}, \"zerolinecolor\": \"white\", \"zerolinewidth\": 2}}}, \"xaxis\": {\"anchor\": \"y\", \"domain\": [0.0, 1.0], \"title\": {\"text\": \"index\"}}, \"yaxis\": {\"anchor\": \"x\", \"domain\": [0.0, 1.0], \"title\": {\"text\": \"value\"}}},                        {\"responsive\": true}                    ).then(function(){\n",
       "                            \n",
       "var gd = document.getElementById('4e2a2047-1ab2-4642-b6c6-25aa870f76c7');\n",
       "var x = new MutationObserver(function (mutations, observer) {{\n",
       "        var display = window.getComputedStyle(gd).display;\n",
       "        if (!display || display === 'none') {{\n",
       "            console.log([gd, 'removed!']);\n",
       "            Plotly.purge(gd);\n",
       "            observer.disconnect();\n",
       "        }}\n",
       "}});\n",
       "\n",
       "// Listen for the removal of the full notebook cells\n",
       "var notebookContainer = gd.closest('#notebook-container');\n",
       "if (notebookContainer) {{\n",
       "    x.observe(notebookContainer, {childList: true});\n",
       "}}\n",
       "\n",
       "// Listen for the clearing of the current output cell\n",
       "var outputEl = gd.closest('.output');\n",
       "if (outputEl) {{\n",
       "    x.observe(outputEl, {childList: true});\n",
       "}}\n",
       "\n",
       "                        })                };                });            </script>        </div>"
      ]
     },
     "metadata": {},
     "output_type": "display_data"
    }
   ],
   "source": [
    "px.line(df2[\"Chandler\"].dropna())"
   ]
  },
  {
   "cell_type": "code",
   "execution_count": 291,
   "metadata": {},
   "outputs": [
    {
     "data": {
      "application/vnd.plotly.v1+json": {
       "config": {
        "plotlyServerURL": "https://plot.ly"
       },
       "data": [
        {
         "hovertemplate": "variable=Total: <br>index=%{x}<br>value=%{y}<extra></extra>",
         "legendgroup": "Total: ",
         "line": {
          "color": "#636efa",
          "dash": "solid"
         },
         "mode": "lines",
         "name": "Total: ",
         "orientation": "v",
         "showlegend": true,
         "type": "scatter",
         "x": [
          0,
          1,
          2,
          3,
          4,
          5,
          6,
          7,
          8,
          9,
          10,
          11,
          12,
          13,
          14,
          15,
          16,
          17,
          18,
          19,
          20,
          21,
          22,
          23,
          24,
          25,
          26,
          27,
          28,
          29,
          30,
          31,
          32,
          33,
          34,
          35,
          36,
          37,
          38,
          39,
          40,
          41,
          42,
          43,
          44,
          45,
          46,
          47,
          48,
          49,
          50,
          51,
          52,
          53,
          54,
          55,
          56,
          57,
          58,
          59,
          60,
          61,
          62,
          63,
          64,
          65,
          66,
          67,
          68,
          69,
          70,
          71,
          72,
          73,
          74,
          75,
          76,
          77,
          78,
          79,
          80,
          81,
          82,
          83,
          84,
          85,
          86,
          87,
          88,
          89,
          90,
          91,
          92,
          93,
          94,
          95,
          96,
          97,
          98,
          99,
          100,
          101,
          102,
          103,
          104,
          105,
          106,
          107,
          108,
          109,
          110,
          111,
          112,
          113,
          114,
          115,
          116,
          117,
          118,
          119,
          120,
          121,
          122,
          123,
          124,
          125,
          126,
          127,
          128,
          129,
          130,
          131,
          132,
          133,
          134,
          135,
          136,
          137,
          138,
          139,
          140,
          141,
          142,
          143,
          144,
          145,
          146,
          147,
          148,
          149,
          150,
          151,
          152,
          153,
          154,
          155,
          156,
          157,
          158,
          159,
          160,
          161,
          162,
          163,
          164,
          165,
          166,
          167,
          168,
          169,
          170,
          171,
          172,
          173,
          174,
          175,
          176,
          177,
          178,
          179,
          180,
          181,
          182,
          183,
          184,
          185,
          186,
          187,
          188,
          189,
          190,
          191,
          192,
          193,
          194,
          195,
          196,
          197,
          198,
          199,
          200,
          201,
          202,
          203,
          204,
          205,
          206,
          207,
          208,
          209,
          210,
          211,
          212,
          213,
          214,
          215,
          216,
          217,
          218,
          219,
          220,
          221,
          222,
          223,
          224,
          225,
          226,
          227,
          228,
          229,
          230,
          231,
          232,
          233,
          234,
          235,
          236,
          237,
          238,
          239,
          240,
          241,
          242,
          243,
          244,
          245,
          246,
          247,
          248,
          249,
          250,
          251,
          252,
          253,
          254,
          255,
          256,
          257,
          258,
          259,
          260,
          261,
          262,
          263,
          264,
          265,
          266,
          267,
          268,
          269,
          270,
          271,
          272,
          273,
          274,
          275,
          276,
          277,
          278,
          279,
          280,
          281,
          282,
          283,
          284,
          285,
          286,
          287,
          288,
          289,
          290,
          291,
          292,
          293,
          294,
          295,
          296,
          297,
          298,
          299,
          300,
          301,
          302,
          303,
          304,
          305,
          306,
          307,
          308,
          309,
          310,
          311,
          312,
          313,
          314,
          315,
          316,
          317,
          318,
          319,
          320,
          321,
          322,
          323,
          324,
          325,
          326,
          327,
          328,
          329,
          330,
          331,
          332,
          333,
          334,
          335,
          336,
          337,
          338,
          339,
          340,
          341,
          342,
          343,
          344,
          345,
          346,
          347,
          348,
          349,
          350,
          351,
          352,
          353,
          354,
          355,
          356,
          357,
          358,
          359,
          360,
          361,
          362,
          363,
          364,
          365,
          366,
          367,
          368,
          369,
          370,
          371,
          372,
          373,
          374,
          375,
          376,
          377,
          378,
          379,
          380,
          381,
          382,
          383,
          384,
          385,
          386,
          387,
          388,
          389,
          390,
          391,
          392,
          393,
          394,
          395,
          396,
          397,
          398,
          399,
          400,
          401,
          402,
          403,
          404,
          405,
          406,
          407,
          408,
          409,
          410,
          411,
          412,
          413,
          414,
          415,
          416,
          417,
          418,
          419,
          420,
          421,
          422,
          423,
          424,
          425,
          426,
          427,
          428,
          429,
          430,
          431,
          432,
          433,
          434,
          435,
          436,
          437,
          438,
          439,
          440,
          441,
          442,
          443,
          444,
          445,
          446,
          447,
          448,
          449,
          450,
          451,
          452,
          453,
          454,
          455,
          456,
          457,
          458,
          459,
          460,
          461,
          462,
          463,
          464,
          465,
          466,
          467,
          468,
          469,
          470,
          471,
          472,
          473,
          474,
          475,
          476,
          477,
          478,
          479,
          480,
          481,
          482,
          483,
          484,
          485,
          486,
          487,
          488,
          489,
          490,
          491,
          492,
          493,
          494,
          495,
          496,
          497,
          498,
          499,
          500,
          501,
          502,
          503,
          504,
          505,
          506,
          507,
          508,
          509,
          510,
          511,
          512,
          513,
          514,
          515,
          516,
          517,
          518,
          519,
          520,
          521,
          522,
          523,
          524,
          525,
          526,
          527,
          528,
          529,
          530,
          531,
          532,
          533,
          534,
          535,
          536,
          537,
          538,
          539,
          540,
          541,
          542,
          543,
          544,
          545,
          546,
          547,
          548,
          549,
          550,
          551,
          552,
          553,
          554,
          555,
          556,
          557,
          558,
          559,
          560,
          561,
          562,
          563,
          564,
          565,
          566,
          567,
          568,
          569,
          570,
          571,
          572,
          573,
          574,
          575,
          576,
          577,
          578,
          579,
          580,
          581
         ],
         "xaxis": "x",
         "y": [
          -1.244906743556674,
          1.864001726555569,
          1.5531108795443447,
          0.7240686208477466,
          -0.6231250495342255,
          -0.9340158965454498,
          2.0712622912297185,
          1.0349594678589709,
          -0.6231250495342255,
          0.8276989031848213,
          1.3458503148701952,
          0.6204383385106718,
          -0.6231250495342255,
          0.6204383385106718,
          1.1385897501960456,
          0.516808056173597,
          -0.6231250495342255,
          0.41317777383652227,
          1.1385897501960456,
          0.9313291855218961,
          -0.2086039201859264,
          0.6204383385106718,
          1.44948059720727,
          0.8276989031848213,
          -0.3122342025230012,
          0.516808056173597,
          0.8276989031848213,
          1.3458503148701952,
          0.516808056173597,
          0.7240686208477466,
          0.7240686208477466,
          0.8276989031848213,
          0.516808056173597,
          1.0349594678589709,
          1.2422200325331205,
          0.6204383385106718,
          -0.415864484860076,
          0.3095474914994475,
          0.8276989031848213,
          0.41317777383652227,
          -0.415864484860076,
          0.10657197808460736,
          0.9258440596100258,
          -0.576154756519908,
          -0.8492454503617141,
          -0.4396094095990049,
          0.24311732500551042,
          -0.4396094095990049,
          -0.576154756519908,
          -0.712700103440811,
          -1.6685175318871326,
          -0.8492454503617141,
          -0.8492454503617141,
          2.01820683497725,
          -0.576154756519908,
          0.7892987126891227,
          -0.576154756519908,
          0.6527533657682196,
          -0.3030640626781018,
          -1.2588814911244233,
          -0.3030640626781018,
          1.472025447293638,
          -0.576154756519908,
          -1.1223361442035202,
          -0.9857907972826172,
          1.745116141135444,
          -1.5319721849662293,
          -0.16651871575719876,
          -0.8492454503617141,
          1.0623894065309287,
          -0.712700103440811,
          -0.3030640626781018,
          -1.1223361442035202,
          0.7892987126891227,
          0.10657197808460736,
          0.10657197808460736,
          -0.3030640626781018,
          1.472025447293638,
          1.608570794214541,
          2.154752181898153,
          -0.9857907972826172,
          0.6527533657682196,
          0.6527533657682196,
          -2.624334960333454,
          -0.712700103440811,
          0.7892987126891227,
          -0.16651871575719876,
          -2.3512442664916477,
          -0.576154756519908,
          1.0623894065309287,
          0.10657197808460736,
          -2.624334960333454,
          0.10657197808460736,
          1.472025447293638,
          0.24311732500551042,
          -2.760880307254357,
          -0.712700103440811,
          1.335480100372735,
          0.10657197808460736,
          -1.8050628788080356,
          -1.9416082257289387,
          0.9258440596100258,
          0.24311732500551042,
          -1.3954268380453263,
          -1.5319721849662293,
          1.335480100372735,
          0.24311732500551042,
          -1.5319721849662293,
          -1.5319721849662293,
          1.335480100372735,
          0.5162080188473166,
          -2.2146989195707447,
          -0.3030640626781018,
          1.472025447293638,
          0.5162080188473166,
          -2.3512442664916477,
          -0.576154756519908,
          0.3796626719264135,
          -0.16651871575719876,
          -0.3030640626781018,
          -0.4396094095990049,
          1.335480100372735,
          0.6527533657682196,
          -1.2588814911244233,
          -0.0299733688362957,
          0.7892987126891227,
          0.24311732500551042,
          -2.2146989195707447,
          -1.2588814911244233,
          1.0623894065309287,
          0.3796626719264135,
          -2.3512442664916477,
          -1.3954268380453263,
          0.5162080188473166,
          0.24311732500551042,
          -2.2146989195707447,
          -1.9416082257289387,
          0.24311732500551042,
          0.5162080188473166,
          -2.760880307254357,
          -2.0781535726498417,
          0.3796626719264135,
          -0.0299733688362957,
          -2.2146989195707447,
          -1.1223361442035202,
          0.7892987126891227,
          0.10657197808460736,
          -0.8492454503617141,
          -0.712700103440811,
          0.7892987126891227,
          0.24311732500551042,
          -1.6685175318871326,
          -1.3954268380453263,
          0.7892987126891227,
          0.24311732500551042,
          -2.0781535726498417,
          -0.9857907972826172,
          1.0623894065309287,
          -0.3030640626781018,
          -2.487789613412551,
          -1.9416082257289387,
          0.7892987126891227,
          0.3796626719264135,
          -2.624334960333454,
          0.24311732500551042,
          0.5162080188473166,
          0.6527533657682196,
          -1.5319721849662293,
          0.5162080188473166,
          0.7892987126891227,
          0.9258440596100258,
          -3.0339710010961634,
          -1.3954268380453263,
          0.6527533657682196,
          0.5162080188473166,
          -0.8492454503617141,
          -0.576154756519908,
          0.9258440596100258,
          0.5162080188473166,
          -1.1223361442035202,
          -1.2588814911244233,
          0.3796626719264135,
          -0.576154756519908,
          0.5162080188473166,
          -1.8050628788080356,
          1.8816614880563471,
          -0.16651871575719876,
          -1.8050628788080356,
          -0.8492454503617141,
          2.01820683497725,
          0.7892987126891227,
          -1.6685175318871326,
          0.5162080188473166,
          0.5162080188473166,
          0.24311732500551042,
          -2.0781535726498417,
          -1.8050628788080356,
          0.5162080188473166,
          -1.2588814911244233,
          -2.0781535726498417,
          0.24311732500551042,
          -0.4396094095990049,
          -1.8050628788080356,
          -1.1223361442035202,
          0.24311732500551042,
          -1.3954268380453263,
          -1.8050628788080356,
          -0.576154756519908,
          0.24311732500551042,
          -1.2588814911244233,
          -1.8050628788080356,
          -0.3030640626781018,
          -0.16651871575719876,
          -1.2588814911244233,
          -1.6685175318871326,
          -0.576154756519908,
          0.5162080188473166,
          -1.1223361442035202,
          -0.9857907972826172,
          0.7892987126891227,
          -0.9857907972826172,
          -2.0781535726498417,
          -1.5319721849662293,
          1.8816614880563471,
          -1.2588814911244233,
          -3.8532430826215816,
          -0.8492454503617141,
          0.9258440596100258,
          -1.6685175318871326,
          -1.9416082257289387,
          -0.9857907972826172,
          2.154752181898153,
          -1.3954268380453263,
          -2.2146989195707447,
          -2.2146989195707447,
          2.154752181898153,
          -1.6685175318871326,
          -1.1223361442035202,
          -2.3512442664916477,
          null,
          -0.3030640626781018,
          -1.6685175318871326,
          -0.16651871575719876,
          0.24311732500551042,
          -0.16651871575719876,
          -0.8492454503617141,
          -1.3954268380453263,
          0.7892987126891227,
          0.6527533657682196,
          -1.8050628788080356,
          -1.6685175318871326,
          0.6527533657682196,
          -0.16651871575719876,
          -1.9416082257289387,
          -0.3030640626781018,
          1.335480100372735,
          0.5162080188473166,
          -1.5319721849662293,
          -0.712700103440811,
          0.3796626719264135,
          -0.4396094095990049,
          -1.5319721849662293,
          -2.760880307254357,
          0.9258440596100258,
          -0.712700103440811,
          -1.5319721849662293,
          -0.576154756519908,
          0.24311732500551042,
          -0.712700103440811,
          -0.4396094095990049,
          -1.9416082257289387,
          0.3796626719264135,
          -0.576154756519908,
          -0.16651871575719876,
          -2.3512442664916477,
          0.3796626719264135,
          -0.9857907972826172,
          -0.4396094095990049,
          -1.2588814911244233,
          -0.16651871575719876,
          -1.2588814911244233,
          -0.8492454503617141,
          -1.6685175318871326,
          -0.0299733688362957,
          -1.1223361442035202,
          -1.3954268380453263,
          -2.760880307254357,
          0.9258440596100258,
          -0.9857907972826172,
          -1.9416082257289387,
          -1.9416082257289387,
          0.7892987126891227,
          -0.0299733688362957,
          -1.6685175318871326,
          -3.8532430826215816,
          0.3796626719264135,
          0.9258440596100258,
          -0.576154756519908,
          -3.0339710010961634,
          0.7892987126891227,
          -2.487789613412551,
          -0.4396094095990049,
          -1.6685175318871326,
          0.5162080188473166,
          1.745116141135444,
          -0.712700103440811,
          -0.4396094095990049,
          0.5162080188473166,
          -0.4396094095990049,
          -1.1223361442035202,
          -2.3512442664916477,
          0.7892987126891227,
          -0.3030640626781018,
          -2.0781535726498417,
          -1.2588814911244233,
          0.5162080188473166,
          -2.0781535726498417,
          -1.5319721849662293,
          -1.1223361442035202,
          0.24311732500551042,
          -3.3070616949379694,
          -1.5319721849662293,
          -3.4436070418588725,
          0.24311732500551042,
          -1.8050628788080356,
          -1.6685175318871326,
          -3.3070616949379694,
          0.6527533657682196,
          -0.16651871575719876,
          -2.89742565417526,
          -1.8050628788080356,
          0.5162080188473166,
          -1.6685175318871326,
          -1.5319721849662293,
          -3.9897884295424846,
          0.3796626719264135,
          -4.672515164147,
          -0.576154756519908,
          -1.8050628788080356,
          0.24311732500551042,
          -2.2146989195707447,
          -1.1223361442035202,
          -2.487789613412551,
          0.3796626719264135,
          -2.2146989195707447,
          -1.8050628788080356,
          -2.2146989195707447,
          0.10657197808460736,
          -2.3512442664916477,
          -1.6685175318871326,
          -1.8050628788080356,
          0.5162080188473166,
          -1.8050628788080356,
          -1.1223361442035202,
          -1.2588814911244233,
          0.9258440596100258,
          -2.760880307254357,
          -2.760880307254357,
          -0.8492454503617141,
          0.3796626719264135,
          -2.2146989195707447,
          -3.5801523887797755,
          -0.712700103440811,
          0.7892987126891227,
          -1.2588814911244233,
          -2.3512442664916477,
          -1.9416082257289387,
          0.7892987126891227,
          -1.3954268380453263,
          -1.6685175318871326,
          -3.3070616949379694,
          0.5162080188473166,
          0.24311732500551042,
          -2.2146989195707447,
          -2.89742565417526,
          0.10657197808460736,
          -3.0339710010961634,
          -0.712700103440811,
          -1.5319721849662293,
          1.335480100372735,
          -1.6685175318871326,
          -1.6685175318871326,
          -3.1705163480170664,
          0.5162080188473166,
          -1.3954268380453263,
          -0.9857907972826172,
          -1.9416082257289387,
          0.6527533657682196,
          -0.712700103440811,
          -1.8050628788080356,
          -1.8050628788080356,
          0.6527533657682196,
          0.10657197808460736,
          -1.8050628788080356,
          -0.3030640626781018,
          0.5162080188473166,
          0.3796626719264135,
          -0.9857907972826172,
          -1.5319721849662293,
          0.5162080188473166,
          0.3796626719264135,
          -2.760880307254357,
          -1.6685175318871326,
          1.472025447293638,
          -0.712700103440811,
          -0.3030640626781018,
          -2.2146989195707447,
          0.6527533657682196,
          -0.4396094095990049,
          -0.8492454503617141,
          0.3796626719264135,
          -0.0299733688362957,
          -0.712700103440811,
          -2.624334960333454,
          0.3796626719264135,
          0.5162080188473166,
          -0.4396094095990049,
          -2.624334960333454,
          1.8816614880563471,
          -0.3030640626781018,
          -1.9416082257289387,
          -2.2146989195707447,
          0.10657197808460736,
          -1.9416082257289387,
          -1.1223361442035202,
          -0.576154756519908,
          0.6527533657682196,
          -0.8492454503617141,
          -0.9857907972826172,
          -1.3954268380453263,
          -0.0299733688362957,
          -0.576154756519908,
          -0.8492454503617141,
          -0.4396094095990049,
          0.9258440596100258,
          -0.0299733688362957,
          -1.3954268380453263,
          -1.3954268380453263,
          0.7892987126891227,
          -1.1223361442035202,
          -0.576154756519908,
          -1.5319721849662293,
          0.6527533657682196,
          -1.9416082257289387,
          -1.6685175318871326,
          -0.8492454503617141,
          0.7892987126891227,
          -0.9857907972826172,
          -1.9416082257289387,
          -0.9857907972826172,
          0.6527533657682196,
          -2.2146989195707447,
          -1.2588814911244233,
          -0.576154756519908,
          1.198934753451832,
          -0.9857907972826172,
          -1.5319721849662293,
          -0.9857907972826172,
          0.9258440596100258,
          -1.2588814911244233,
          -0.8492454503617141,
          0.6527533657682196,
          1.198934753451832,
          -2.3512442664916477,
          -0.9857907972826172,
          -0.0299733688362957,
          0.6527533657682196,
          -0.712700103440811,
          -1.8050628788080356,
          -0.576154756519908,
          0.7892987126891227,
          -1.3954268380453263,
          -1.3954268380453263,
          -0.8492454503617141,
          1.335480100372735,
          -1.6685175318871326,
          -3.4436070418588725,
          -0.0299733688362957,
          0.5162080188473166,
          0.24311732500551042,
          -1.3954268380453263,
          0.6527533657682196,
          0.10657197808460736,
          -0.8492454503617141,
          -2.2146989195707447,
          0.6527533657682196,
          -0.3030640626781018,
          -0.576154756519908,
          0.10657197808460736,
          1.335480100372735,
          -0.8492454503617141,
          -1.3954268380453263,
          -1.5319721849662293,
          -0.0299733688362957,
          0.9258440596100258,
          -0.4396094095990049,
          -0.3030640626781018,
          -0.9857907972826172,
          -0.576154756519908,
          1.0623894065309287,
          -0.712700103440811,
          -0.576154756519908,
          -0.4396094095990049,
          1.608570794214541,
          -0.712700103440811,
          -2.487789613412551,
          -0.4396094095990049,
          2.154752181898153,
          -0.3030640626781018,
          -2.3512442664916477,
          -1.2588814911244233,
          2.01820683497725,
          0.5162080188473166,
          -1.6685175318871326,
          -0.576154756519908,
          2.154752181898153,
          -0.0299733688362957,
          -1.2588814911244233,
          -2.2146989195707447,
          2.01820683497725,
          -0.712700103440811,
          -1.1223361442035202,
          -2.2146989195707447,
          1.335480100372735,
          -1.1223361442035202,
          -2.487789613412551,
          -4.399424470305194,
          0.9258440596100258,
          -0.576154756519908,
          -2.3512442664916477,
          0.10657197808460736,
          1.0623894065309287,
          -0.3030640626781018,
          -1.6685175318871326,
          -0.0299733688362957,
          2.154752181898153,
          -0.576154756519908,
          -2.3512442664916477,
          -2.89742565417526,
          -0.0299733688362957,
          -0.3030640626781018,
          -2.760880307254357,
          -2.2146989195707447,
          0.24311732500551042,
          -1.2588814911244233,
          -2.89742565417526,
          -2.3512442664916477,
          0.5162080188473166,
          -0.3030640626781018,
          -3.1705163480170664,
          -2.3512442664916477,
          0.5162080188473166,
          -0.3030640626781018,
          -3.3070616949379694,
          -3.5801523887797755,
          0.24311732500551042,
          -0.8492454503617141,
          -3.4436070418588725,
          -3.3070616949379694,
          0.7892987126891227,
          -2.89742565417526,
          -1.1223361442035202,
          -2.0781535726498417,
          0.6527533657682196,
          -0.0299733688362957,
          -2.0781535726498417,
          -3.8532430826215816,
          0.6527533657682196,
          -1.9416082257289387,
          -1.9416082257289387,
          -3.1705163480170664,
          0.9258440596100258,
          0.5162080188473166,
          -3.1705163480170664,
          -3.8532430826215816,
          0.3796626719264135,
          -0.16651871575719876,
          -1.3954268380453263,
          -3.8532430826215816,
          0.5162080188473166,
          -2.3512442664916477,
          -3.0339710010961634
         ],
         "yaxis": "y"
        }
       ],
       "layout": {
        "legend": {
         "title": {
          "text": "variable"
         },
         "tracegroupgap": 0
        },
        "margin": {
         "t": 60
        },
        "template": {
         "data": {
          "bar": [
           {
            "error_x": {
             "color": "#2a3f5f"
            },
            "error_y": {
             "color": "#2a3f5f"
            },
            "marker": {
             "line": {
              "color": "#E5ECF6",
              "width": 0.5
             }
            },
            "type": "bar"
           }
          ],
          "barpolar": [
           {
            "marker": {
             "line": {
              "color": "#E5ECF6",
              "width": 0.5
             }
            },
            "type": "barpolar"
           }
          ],
          "carpet": [
           {
            "aaxis": {
             "endlinecolor": "#2a3f5f",
             "gridcolor": "white",
             "linecolor": "white",
             "minorgridcolor": "white",
             "startlinecolor": "#2a3f5f"
            },
            "baxis": {
             "endlinecolor": "#2a3f5f",
             "gridcolor": "white",
             "linecolor": "white",
             "minorgridcolor": "white",
             "startlinecolor": "#2a3f5f"
            },
            "type": "carpet"
           }
          ],
          "choropleth": [
           {
            "colorbar": {
             "outlinewidth": 0,
             "ticks": ""
            },
            "type": "choropleth"
           }
          ],
          "contour": [
           {
            "colorbar": {
             "outlinewidth": 0,
             "ticks": ""
            },
            "colorscale": [
             [
              0,
              "#0d0887"
             ],
             [
              0.1111111111111111,
              "#46039f"
             ],
             [
              0.2222222222222222,
              "#7201a8"
             ],
             [
              0.3333333333333333,
              "#9c179e"
             ],
             [
              0.4444444444444444,
              "#bd3786"
             ],
             [
              0.5555555555555556,
              "#d8576b"
             ],
             [
              0.6666666666666666,
              "#ed7953"
             ],
             [
              0.7777777777777778,
              "#fb9f3a"
             ],
             [
              0.8888888888888888,
              "#fdca26"
             ],
             [
              1,
              "#f0f921"
             ]
            ],
            "type": "contour"
           }
          ],
          "contourcarpet": [
           {
            "colorbar": {
             "outlinewidth": 0,
             "ticks": ""
            },
            "type": "contourcarpet"
           }
          ],
          "heatmap": [
           {
            "colorbar": {
             "outlinewidth": 0,
             "ticks": ""
            },
            "colorscale": [
             [
              0,
              "#0d0887"
             ],
             [
              0.1111111111111111,
              "#46039f"
             ],
             [
              0.2222222222222222,
              "#7201a8"
             ],
             [
              0.3333333333333333,
              "#9c179e"
             ],
             [
              0.4444444444444444,
              "#bd3786"
             ],
             [
              0.5555555555555556,
              "#d8576b"
             ],
             [
              0.6666666666666666,
              "#ed7953"
             ],
             [
              0.7777777777777778,
              "#fb9f3a"
             ],
             [
              0.8888888888888888,
              "#fdca26"
             ],
             [
              1,
              "#f0f921"
             ]
            ],
            "type": "heatmap"
           }
          ],
          "heatmapgl": [
           {
            "colorbar": {
             "outlinewidth": 0,
             "ticks": ""
            },
            "colorscale": [
             [
              0,
              "#0d0887"
             ],
             [
              0.1111111111111111,
              "#46039f"
             ],
             [
              0.2222222222222222,
              "#7201a8"
             ],
             [
              0.3333333333333333,
              "#9c179e"
             ],
             [
              0.4444444444444444,
              "#bd3786"
             ],
             [
              0.5555555555555556,
              "#d8576b"
             ],
             [
              0.6666666666666666,
              "#ed7953"
             ],
             [
              0.7777777777777778,
              "#fb9f3a"
             ],
             [
              0.8888888888888888,
              "#fdca26"
             ],
             [
              1,
              "#f0f921"
             ]
            ],
            "type": "heatmapgl"
           }
          ],
          "histogram": [
           {
            "marker": {
             "colorbar": {
              "outlinewidth": 0,
              "ticks": ""
             }
            },
            "type": "histogram"
           }
          ],
          "histogram2d": [
           {
            "colorbar": {
             "outlinewidth": 0,
             "ticks": ""
            },
            "colorscale": [
             [
              0,
              "#0d0887"
             ],
             [
              0.1111111111111111,
              "#46039f"
             ],
             [
              0.2222222222222222,
              "#7201a8"
             ],
             [
              0.3333333333333333,
              "#9c179e"
             ],
             [
              0.4444444444444444,
              "#bd3786"
             ],
             [
              0.5555555555555556,
              "#d8576b"
             ],
             [
              0.6666666666666666,
              "#ed7953"
             ],
             [
              0.7777777777777778,
              "#fb9f3a"
             ],
             [
              0.8888888888888888,
              "#fdca26"
             ],
             [
              1,
              "#f0f921"
             ]
            ],
            "type": "histogram2d"
           }
          ],
          "histogram2dcontour": [
           {
            "colorbar": {
             "outlinewidth": 0,
             "ticks": ""
            },
            "colorscale": [
             [
              0,
              "#0d0887"
             ],
             [
              0.1111111111111111,
              "#46039f"
             ],
             [
              0.2222222222222222,
              "#7201a8"
             ],
             [
              0.3333333333333333,
              "#9c179e"
             ],
             [
              0.4444444444444444,
              "#bd3786"
             ],
             [
              0.5555555555555556,
              "#d8576b"
             ],
             [
              0.6666666666666666,
              "#ed7953"
             ],
             [
              0.7777777777777778,
              "#fb9f3a"
             ],
             [
              0.8888888888888888,
              "#fdca26"
             ],
             [
              1,
              "#f0f921"
             ]
            ],
            "type": "histogram2dcontour"
           }
          ],
          "mesh3d": [
           {
            "colorbar": {
             "outlinewidth": 0,
             "ticks": ""
            },
            "type": "mesh3d"
           }
          ],
          "parcoords": [
           {
            "line": {
             "colorbar": {
              "outlinewidth": 0,
              "ticks": ""
             }
            },
            "type": "parcoords"
           }
          ],
          "pie": [
           {
            "automargin": true,
            "type": "pie"
           }
          ],
          "scatter": [
           {
            "marker": {
             "colorbar": {
              "outlinewidth": 0,
              "ticks": ""
             }
            },
            "type": "scatter"
           }
          ],
          "scatter3d": [
           {
            "line": {
             "colorbar": {
              "outlinewidth": 0,
              "ticks": ""
             }
            },
            "marker": {
             "colorbar": {
              "outlinewidth": 0,
              "ticks": ""
             }
            },
            "type": "scatter3d"
           }
          ],
          "scattercarpet": [
           {
            "marker": {
             "colorbar": {
              "outlinewidth": 0,
              "ticks": ""
             }
            },
            "type": "scattercarpet"
           }
          ],
          "scattergeo": [
           {
            "marker": {
             "colorbar": {
              "outlinewidth": 0,
              "ticks": ""
             }
            },
            "type": "scattergeo"
           }
          ],
          "scattergl": [
           {
            "marker": {
             "colorbar": {
              "outlinewidth": 0,
              "ticks": ""
             }
            },
            "type": "scattergl"
           }
          ],
          "scattermapbox": [
           {
            "marker": {
             "colorbar": {
              "outlinewidth": 0,
              "ticks": ""
             }
            },
            "type": "scattermapbox"
           }
          ],
          "scatterpolar": [
           {
            "marker": {
             "colorbar": {
              "outlinewidth": 0,
              "ticks": ""
             }
            },
            "type": "scatterpolar"
           }
          ],
          "scatterpolargl": [
           {
            "marker": {
             "colorbar": {
              "outlinewidth": 0,
              "ticks": ""
             }
            },
            "type": "scatterpolargl"
           }
          ],
          "scatterternary": [
           {
            "marker": {
             "colorbar": {
              "outlinewidth": 0,
              "ticks": ""
             }
            },
            "type": "scatterternary"
           }
          ],
          "surface": [
           {
            "colorbar": {
             "outlinewidth": 0,
             "ticks": ""
            },
            "colorscale": [
             [
              0,
              "#0d0887"
             ],
             [
              0.1111111111111111,
              "#46039f"
             ],
             [
              0.2222222222222222,
              "#7201a8"
             ],
             [
              0.3333333333333333,
              "#9c179e"
             ],
             [
              0.4444444444444444,
              "#bd3786"
             ],
             [
              0.5555555555555556,
              "#d8576b"
             ],
             [
              0.6666666666666666,
              "#ed7953"
             ],
             [
              0.7777777777777778,
              "#fb9f3a"
             ],
             [
              0.8888888888888888,
              "#fdca26"
             ],
             [
              1,
              "#f0f921"
             ]
            ],
            "type": "surface"
           }
          ],
          "table": [
           {
            "cells": {
             "fill": {
              "color": "#EBF0F8"
             },
             "line": {
              "color": "white"
             }
            },
            "header": {
             "fill": {
              "color": "#C8D4E3"
             },
             "line": {
              "color": "white"
             }
            },
            "type": "table"
           }
          ]
         },
         "layout": {
          "annotationdefaults": {
           "arrowcolor": "#2a3f5f",
           "arrowhead": 0,
           "arrowwidth": 1
          },
          "coloraxis": {
           "colorbar": {
            "outlinewidth": 0,
            "ticks": ""
           }
          },
          "colorscale": {
           "diverging": [
            [
             0,
             "#8e0152"
            ],
            [
             0.1,
             "#c51b7d"
            ],
            [
             0.2,
             "#de77ae"
            ],
            [
             0.3,
             "#f1b6da"
            ],
            [
             0.4,
             "#fde0ef"
            ],
            [
             0.5,
             "#f7f7f7"
            ],
            [
             0.6,
             "#e6f5d0"
            ],
            [
             0.7,
             "#b8e186"
            ],
            [
             0.8,
             "#7fbc41"
            ],
            [
             0.9,
             "#4d9221"
            ],
            [
             1,
             "#276419"
            ]
           ],
           "sequential": [
            [
             0,
             "#0d0887"
            ],
            [
             0.1111111111111111,
             "#46039f"
            ],
            [
             0.2222222222222222,
             "#7201a8"
            ],
            [
             0.3333333333333333,
             "#9c179e"
            ],
            [
             0.4444444444444444,
             "#bd3786"
            ],
            [
             0.5555555555555556,
             "#d8576b"
            ],
            [
             0.6666666666666666,
             "#ed7953"
            ],
            [
             0.7777777777777778,
             "#fb9f3a"
            ],
            [
             0.8888888888888888,
             "#fdca26"
            ],
            [
             1,
             "#f0f921"
            ]
           ],
           "sequentialminus": [
            [
             0,
             "#0d0887"
            ],
            [
             0.1111111111111111,
             "#46039f"
            ],
            [
             0.2222222222222222,
             "#7201a8"
            ],
            [
             0.3333333333333333,
             "#9c179e"
            ],
            [
             0.4444444444444444,
             "#bd3786"
            ],
            [
             0.5555555555555556,
             "#d8576b"
            ],
            [
             0.6666666666666666,
             "#ed7953"
            ],
            [
             0.7777777777777778,
             "#fb9f3a"
            ],
            [
             0.8888888888888888,
             "#fdca26"
            ],
            [
             1,
             "#f0f921"
            ]
           ]
          },
          "colorway": [
           "#636efa",
           "#EF553B",
           "#00cc96",
           "#ab63fa",
           "#FFA15A",
           "#19d3f3",
           "#FF6692",
           "#B6E880",
           "#FF97FF",
           "#FECB52"
          ],
          "font": {
           "color": "#2a3f5f"
          },
          "geo": {
           "bgcolor": "white",
           "lakecolor": "white",
           "landcolor": "#E5ECF6",
           "showlakes": true,
           "showland": true,
           "subunitcolor": "white"
          },
          "hoverlabel": {
           "align": "left"
          },
          "hovermode": "closest",
          "mapbox": {
           "style": "light"
          },
          "paper_bgcolor": "white",
          "plot_bgcolor": "#E5ECF6",
          "polar": {
           "angularaxis": {
            "gridcolor": "white",
            "linecolor": "white",
            "ticks": ""
           },
           "bgcolor": "#E5ECF6",
           "radialaxis": {
            "gridcolor": "white",
            "linecolor": "white",
            "ticks": ""
           }
          },
          "scene": {
           "xaxis": {
            "backgroundcolor": "#E5ECF6",
            "gridcolor": "white",
            "gridwidth": 2,
            "linecolor": "white",
            "showbackground": true,
            "ticks": "",
            "zerolinecolor": "white"
           },
           "yaxis": {
            "backgroundcolor": "#E5ECF6",
            "gridcolor": "white",
            "gridwidth": 2,
            "linecolor": "white",
            "showbackground": true,
            "ticks": "",
            "zerolinecolor": "white"
           },
           "zaxis": {
            "backgroundcolor": "#E5ECF6",
            "gridcolor": "white",
            "gridwidth": 2,
            "linecolor": "white",
            "showbackground": true,
            "ticks": "",
            "zerolinecolor": "white"
           }
          },
          "shapedefaults": {
           "line": {
            "color": "#2a3f5f"
           }
          },
          "ternary": {
           "aaxis": {
            "gridcolor": "white",
            "linecolor": "white",
            "ticks": ""
           },
           "baxis": {
            "gridcolor": "white",
            "linecolor": "white",
            "ticks": ""
           },
           "bgcolor": "#E5ECF6",
           "caxis": {
            "gridcolor": "white",
            "linecolor": "white",
            "ticks": ""
           }
          },
          "title": {
           "x": 0.05
          },
          "xaxis": {
           "automargin": true,
           "gridcolor": "white",
           "linecolor": "white",
           "ticks": "",
           "title": {
            "standoff": 15
           },
           "zerolinecolor": "white",
           "zerolinewidth": 2
          },
          "yaxis": {
           "automargin": true,
           "gridcolor": "white",
           "linecolor": "white",
           "ticks": "",
           "title": {
            "standoff": 15
           },
           "zerolinecolor": "white",
           "zerolinewidth": 2
          }
         }
        },
        "xaxis": {
         "anchor": "y",
         "domain": [
          0,
          1
         ],
         "title": {
          "text": "index"
         }
        },
        "yaxis": {
         "anchor": "x",
         "domain": [
          0,
          1
         ],
         "title": {
          "text": "value"
         }
        }
       }
      },
      "text/html": [
       "<div>                            <div id=\"abe0f4a9-ae4e-45f5-8663-54e70b04ae05\" class=\"plotly-graph-div\" style=\"height:525px; width:100%;\"></div>            <script type=\"text/javascript\">                require([\"plotly\"], function(Plotly) {                    window.PLOTLYENV=window.PLOTLYENV || {};                                    if (document.getElementById(\"abe0f4a9-ae4e-45f5-8663-54e70b04ae05\")) {                    Plotly.newPlot(                        \"abe0f4a9-ae4e-45f5-8663-54e70b04ae05\",                        [{\"hovertemplate\": \"variable=Total: <br>index=%{x}<br>value=%{y}<extra></extra>\", \"legendgroup\": \"Total: \", \"line\": {\"color\": \"#636efa\", \"dash\": \"solid\"}, \"mode\": \"lines\", \"name\": \"Total: \", \"orientation\": \"v\", \"showlegend\": true, \"type\": \"scatter\", \"x\": [0, 1, 2, 3, 4, 5, 6, 7, 8, 9, 10, 11, 12, 13, 14, 15, 16, 17, 18, 19, 20, 21, 22, 23, 24, 25, 26, 27, 28, 29, 30, 31, 32, 33, 34, 35, 36, 37, 38, 39, 40, 41, 42, 43, 44, 45, 46, 47, 48, 49, 50, 51, 52, 53, 54, 55, 56, 57, 58, 59, 60, 61, 62, 63, 64, 65, 66, 67, 68, 69, 70, 71, 72, 73, 74, 75, 76, 77, 78, 79, 80, 81, 82, 83, 84, 85, 86, 87, 88, 89, 90, 91, 92, 93, 94, 95, 96, 97, 98, 99, 100, 101, 102, 103, 104, 105, 106, 107, 108, 109, 110, 111, 112, 113, 114, 115, 116, 117, 118, 119, 120, 121, 122, 123, 124, 125, 126, 127, 128, 129, 130, 131, 132, 133, 134, 135, 136, 137, 138, 139, 140, 141, 142, 143, 144, 145, 146, 147, 148, 149, 150, 151, 152, 153, 154, 155, 156, 157, 158, 159, 160, 161, 162, 163, 164, 165, 166, 167, 168, 169, 170, 171, 172, 173, 174, 175, 176, 177, 178, 179, 180, 181, 182, 183, 184, 185, 186, 187, 188, 189, 190, 191, 192, 193, 194, 195, 196, 197, 198, 199, 200, 201, 202, 203, 204, 205, 206, 207, 208, 209, 210, 211, 212, 213, 214, 215, 216, 217, 218, 219, 220, 221, 222, 223, 224, 225, 226, 227, 228, 229, 230, 231, 232, 233, 234, 235, 236, 237, 238, 239, 240, 241, 242, 243, 244, 245, 246, 247, 248, 249, 250, 251, 252, 253, 254, 255, 256, 257, 258, 259, 260, 261, 262, 263, 264, 265, 266, 267, 268, 269, 270, 271, 272, 273, 274, 275, 276, 277, 278, 279, 280, 281, 282, 283, 284, 285, 286, 287, 288, 289, 290, 291, 292, 293, 294, 295, 296, 297, 298, 299, 300, 301, 302, 303, 304, 305, 306, 307, 308, 309, 310, 311, 312, 313, 314, 315, 316, 317, 318, 319, 320, 321, 322, 323, 324, 325, 326, 327, 328, 329, 330, 331, 332, 333, 334, 335, 336, 337, 338, 339, 340, 341, 342, 343, 344, 345, 346, 347, 348, 349, 350, 351, 352, 353, 354, 355, 356, 357, 358, 359, 360, 361, 362, 363, 364, 365, 366, 367, 368, 369, 370, 371, 372, 373, 374, 375, 376, 377, 378, 379, 380, 381, 382, 383, 384, 385, 386, 387, 388, 389, 390, 391, 392, 393, 394, 395, 396, 397, 398, 399, 400, 401, 402, 403, 404, 405, 406, 407, 408, 409, 410, 411, 412, 413, 414, 415, 416, 417, 418, 419, 420, 421, 422, 423, 424, 425, 426, 427, 428, 429, 430, 431, 432, 433, 434, 435, 436, 437, 438, 439, 440, 441, 442, 443, 444, 445, 446, 447, 448, 449, 450, 451, 452, 453, 454, 455, 456, 457, 458, 459, 460, 461, 462, 463, 464, 465, 466, 467, 468, 469, 470, 471, 472, 473, 474, 475, 476, 477, 478, 479, 480, 481, 482, 483, 484, 485, 486, 487, 488, 489, 490, 491, 492, 493, 494, 495, 496, 497, 498, 499, 500, 501, 502, 503, 504, 505, 506, 507, 508, 509, 510, 511, 512, 513, 514, 515, 516, 517, 518, 519, 520, 521, 522, 523, 524, 525, 526, 527, 528, 529, 530, 531, 532, 533, 534, 535, 536, 537, 538, 539, 540, 541, 542, 543, 544, 545, 546, 547, 548, 549, 550, 551, 552, 553, 554, 555, 556, 557, 558, 559, 560, 561, 562, 563, 564, 565, 566, 567, 568, 569, 570, 571, 572, 573, 574, 575, 576, 577, 578, 579, 580, 581], \"xaxis\": \"x\", \"y\": [-1.244906743556674, 1.864001726555569, 1.5531108795443447, 0.7240686208477466, -0.6231250495342255, -0.9340158965454498, 2.0712622912297185, 1.0349594678589709, -0.6231250495342255, 0.8276989031848213, 1.3458503148701952, 0.6204383385106718, -0.6231250495342255, 0.6204383385106718, 1.1385897501960456, 0.516808056173597, -0.6231250495342255, 0.41317777383652227, 1.1385897501960456, 0.9313291855218961, -0.2086039201859264, 0.6204383385106718, 1.44948059720727, 0.8276989031848213, -0.3122342025230012, 0.516808056173597, 0.8276989031848213, 1.3458503148701952, 0.516808056173597, 0.7240686208477466, 0.7240686208477466, 0.8276989031848213, 0.516808056173597, 1.0349594678589709, 1.2422200325331205, 0.6204383385106718, -0.415864484860076, 0.3095474914994475, 0.8276989031848213, 0.41317777383652227, -0.415864484860076, 0.10657197808460736, 0.9258440596100258, -0.576154756519908, -0.8492454503617141, -0.4396094095990049, 0.24311732500551042, -0.4396094095990049, -0.576154756519908, -0.712700103440811, -1.6685175318871326, -0.8492454503617141, -0.8492454503617141, 2.01820683497725, -0.576154756519908, 0.7892987126891227, -0.576154756519908, 0.6527533657682196, -0.3030640626781018, -1.2588814911244233, -0.3030640626781018, 1.472025447293638, -0.576154756519908, -1.1223361442035202, -0.9857907972826172, 1.745116141135444, -1.5319721849662293, -0.16651871575719876, -0.8492454503617141, 1.0623894065309287, -0.712700103440811, -0.3030640626781018, -1.1223361442035202, 0.7892987126891227, 0.10657197808460736, 0.10657197808460736, -0.3030640626781018, 1.472025447293638, 1.608570794214541, 2.154752181898153, -0.9857907972826172, 0.6527533657682196, 0.6527533657682196, -2.624334960333454, -0.712700103440811, 0.7892987126891227, -0.16651871575719876, -2.3512442664916477, -0.576154756519908, 1.0623894065309287, 0.10657197808460736, -2.624334960333454, 0.10657197808460736, 1.472025447293638, 0.24311732500551042, -2.760880307254357, -0.712700103440811, 1.335480100372735, 0.10657197808460736, -1.8050628788080356, -1.9416082257289387, 0.9258440596100258, 0.24311732500551042, -1.3954268380453263, -1.5319721849662293, 1.335480100372735, 0.24311732500551042, -1.5319721849662293, -1.5319721849662293, 1.335480100372735, 0.5162080188473166, -2.2146989195707447, -0.3030640626781018, 1.472025447293638, 0.5162080188473166, -2.3512442664916477, -0.576154756519908, 0.3796626719264135, -0.16651871575719876, -0.3030640626781018, -0.4396094095990049, 1.335480100372735, 0.6527533657682196, -1.2588814911244233, -0.0299733688362957, 0.7892987126891227, 0.24311732500551042, -2.2146989195707447, -1.2588814911244233, 1.0623894065309287, 0.3796626719264135, -2.3512442664916477, -1.3954268380453263, 0.5162080188473166, 0.24311732500551042, -2.2146989195707447, -1.9416082257289387, 0.24311732500551042, 0.5162080188473166, -2.760880307254357, -2.0781535726498417, 0.3796626719264135, -0.0299733688362957, -2.2146989195707447, -1.1223361442035202, 0.7892987126891227, 0.10657197808460736, -0.8492454503617141, -0.712700103440811, 0.7892987126891227, 0.24311732500551042, -1.6685175318871326, -1.3954268380453263, 0.7892987126891227, 0.24311732500551042, -2.0781535726498417, -0.9857907972826172, 1.0623894065309287, -0.3030640626781018, -2.487789613412551, -1.9416082257289387, 0.7892987126891227, 0.3796626719264135, -2.624334960333454, 0.24311732500551042, 0.5162080188473166, 0.6527533657682196, -1.5319721849662293, 0.5162080188473166, 0.7892987126891227, 0.9258440596100258, -3.0339710010961634, -1.3954268380453263, 0.6527533657682196, 0.5162080188473166, -0.8492454503617141, -0.576154756519908, 0.9258440596100258, 0.5162080188473166, -1.1223361442035202, -1.2588814911244233, 0.3796626719264135, -0.576154756519908, 0.5162080188473166, -1.8050628788080356, 1.8816614880563471, -0.16651871575719876, -1.8050628788080356, -0.8492454503617141, 2.01820683497725, 0.7892987126891227, -1.6685175318871326, 0.5162080188473166, 0.5162080188473166, 0.24311732500551042, -2.0781535726498417, -1.8050628788080356, 0.5162080188473166, -1.2588814911244233, -2.0781535726498417, 0.24311732500551042, -0.4396094095990049, -1.8050628788080356, -1.1223361442035202, 0.24311732500551042, -1.3954268380453263, -1.8050628788080356, -0.576154756519908, 0.24311732500551042, -1.2588814911244233, -1.8050628788080356, -0.3030640626781018, -0.16651871575719876, -1.2588814911244233, -1.6685175318871326, -0.576154756519908, 0.5162080188473166, -1.1223361442035202, -0.9857907972826172, 0.7892987126891227, -0.9857907972826172, -2.0781535726498417, -1.5319721849662293, 1.8816614880563471, -1.2588814911244233, -3.8532430826215816, -0.8492454503617141, 0.9258440596100258, -1.6685175318871326, -1.9416082257289387, -0.9857907972826172, 2.154752181898153, -1.3954268380453263, -2.2146989195707447, -2.2146989195707447, 2.154752181898153, -1.6685175318871326, -1.1223361442035202, -2.3512442664916477, null, -0.3030640626781018, -1.6685175318871326, -0.16651871575719876, 0.24311732500551042, -0.16651871575719876, -0.8492454503617141, -1.3954268380453263, 0.7892987126891227, 0.6527533657682196, -1.8050628788080356, -1.6685175318871326, 0.6527533657682196, -0.16651871575719876, -1.9416082257289387, -0.3030640626781018, 1.335480100372735, 0.5162080188473166, -1.5319721849662293, -0.712700103440811, 0.3796626719264135, -0.4396094095990049, -1.5319721849662293, -2.760880307254357, 0.9258440596100258, -0.712700103440811, -1.5319721849662293, -0.576154756519908, 0.24311732500551042, -0.712700103440811, -0.4396094095990049, -1.9416082257289387, 0.3796626719264135, -0.576154756519908, -0.16651871575719876, -2.3512442664916477, 0.3796626719264135, -0.9857907972826172, -0.4396094095990049, -1.2588814911244233, -0.16651871575719876, -1.2588814911244233, -0.8492454503617141, -1.6685175318871326, -0.0299733688362957, -1.1223361442035202, -1.3954268380453263, -2.760880307254357, 0.9258440596100258, -0.9857907972826172, -1.9416082257289387, -1.9416082257289387, 0.7892987126891227, -0.0299733688362957, -1.6685175318871326, -3.8532430826215816, 0.3796626719264135, 0.9258440596100258, -0.576154756519908, -3.0339710010961634, 0.7892987126891227, -2.487789613412551, -0.4396094095990049, -1.6685175318871326, 0.5162080188473166, 1.745116141135444, -0.712700103440811, -0.4396094095990049, 0.5162080188473166, -0.4396094095990049, -1.1223361442035202, -2.3512442664916477, 0.7892987126891227, -0.3030640626781018, -2.0781535726498417, -1.2588814911244233, 0.5162080188473166, -2.0781535726498417, -1.5319721849662293, -1.1223361442035202, 0.24311732500551042, -3.3070616949379694, -1.5319721849662293, -3.4436070418588725, 0.24311732500551042, -1.8050628788080356, -1.6685175318871326, -3.3070616949379694, 0.6527533657682196, -0.16651871575719876, -2.89742565417526, -1.8050628788080356, 0.5162080188473166, -1.6685175318871326, -1.5319721849662293, -3.9897884295424846, 0.3796626719264135, -4.672515164147, -0.576154756519908, -1.8050628788080356, 0.24311732500551042, -2.2146989195707447, -1.1223361442035202, -2.487789613412551, 0.3796626719264135, -2.2146989195707447, -1.8050628788080356, -2.2146989195707447, 0.10657197808460736, -2.3512442664916477, -1.6685175318871326, -1.8050628788080356, 0.5162080188473166, -1.8050628788080356, -1.1223361442035202, -1.2588814911244233, 0.9258440596100258, -2.760880307254357, -2.760880307254357, -0.8492454503617141, 0.3796626719264135, -2.2146989195707447, -3.5801523887797755, -0.712700103440811, 0.7892987126891227, -1.2588814911244233, -2.3512442664916477, -1.9416082257289387, 0.7892987126891227, -1.3954268380453263, -1.6685175318871326, -3.3070616949379694, 0.5162080188473166, 0.24311732500551042, -2.2146989195707447, -2.89742565417526, 0.10657197808460736, -3.0339710010961634, -0.712700103440811, -1.5319721849662293, 1.335480100372735, -1.6685175318871326, -1.6685175318871326, -3.1705163480170664, 0.5162080188473166, -1.3954268380453263, -0.9857907972826172, -1.9416082257289387, 0.6527533657682196, -0.712700103440811, -1.8050628788080356, -1.8050628788080356, 0.6527533657682196, 0.10657197808460736, -1.8050628788080356, -0.3030640626781018, 0.5162080188473166, 0.3796626719264135, -0.9857907972826172, -1.5319721849662293, 0.5162080188473166, 0.3796626719264135, -2.760880307254357, -1.6685175318871326, 1.472025447293638, -0.712700103440811, -0.3030640626781018, -2.2146989195707447, 0.6527533657682196, -0.4396094095990049, -0.8492454503617141, 0.3796626719264135, -0.0299733688362957, -0.712700103440811, -2.624334960333454, 0.3796626719264135, 0.5162080188473166, -0.4396094095990049, -2.624334960333454, 1.8816614880563471, -0.3030640626781018, -1.9416082257289387, -2.2146989195707447, 0.10657197808460736, -1.9416082257289387, -1.1223361442035202, -0.576154756519908, 0.6527533657682196, -0.8492454503617141, -0.9857907972826172, -1.3954268380453263, -0.0299733688362957, -0.576154756519908, -0.8492454503617141, -0.4396094095990049, 0.9258440596100258, -0.0299733688362957, -1.3954268380453263, -1.3954268380453263, 0.7892987126891227, -1.1223361442035202, -0.576154756519908, -1.5319721849662293, 0.6527533657682196, -1.9416082257289387, -1.6685175318871326, -0.8492454503617141, 0.7892987126891227, -0.9857907972826172, -1.9416082257289387, -0.9857907972826172, 0.6527533657682196, -2.2146989195707447, -1.2588814911244233, -0.576154756519908, 1.198934753451832, -0.9857907972826172, -1.5319721849662293, -0.9857907972826172, 0.9258440596100258, -1.2588814911244233, -0.8492454503617141, 0.6527533657682196, 1.198934753451832, -2.3512442664916477, -0.9857907972826172, -0.0299733688362957, 0.6527533657682196, -0.712700103440811, -1.8050628788080356, -0.576154756519908, 0.7892987126891227, -1.3954268380453263, -1.3954268380453263, -0.8492454503617141, 1.335480100372735, -1.6685175318871326, -3.4436070418588725, -0.0299733688362957, 0.5162080188473166, 0.24311732500551042, -1.3954268380453263, 0.6527533657682196, 0.10657197808460736, -0.8492454503617141, -2.2146989195707447, 0.6527533657682196, -0.3030640626781018, -0.576154756519908, 0.10657197808460736, 1.335480100372735, -0.8492454503617141, -1.3954268380453263, -1.5319721849662293, -0.0299733688362957, 0.9258440596100258, -0.4396094095990049, -0.3030640626781018, -0.9857907972826172, -0.576154756519908, 1.0623894065309287, -0.712700103440811, -0.576154756519908, -0.4396094095990049, 1.608570794214541, -0.712700103440811, -2.487789613412551, -0.4396094095990049, 2.154752181898153, -0.3030640626781018, -2.3512442664916477, -1.2588814911244233, 2.01820683497725, 0.5162080188473166, -1.6685175318871326, -0.576154756519908, 2.154752181898153, -0.0299733688362957, -1.2588814911244233, -2.2146989195707447, 2.01820683497725, -0.712700103440811, -1.1223361442035202, -2.2146989195707447, 1.335480100372735, -1.1223361442035202, -2.487789613412551, -4.399424470305194, 0.9258440596100258, -0.576154756519908, -2.3512442664916477, 0.10657197808460736, 1.0623894065309287, -0.3030640626781018, -1.6685175318871326, -0.0299733688362957, 2.154752181898153, -0.576154756519908, -2.3512442664916477, -2.89742565417526, -0.0299733688362957, -0.3030640626781018, -2.760880307254357, -2.2146989195707447, 0.24311732500551042, -1.2588814911244233, -2.89742565417526, -2.3512442664916477, 0.5162080188473166, -0.3030640626781018, -3.1705163480170664, -2.3512442664916477, 0.5162080188473166, -0.3030640626781018, -3.3070616949379694, -3.5801523887797755, 0.24311732500551042, -0.8492454503617141, -3.4436070418588725, -3.3070616949379694, 0.7892987126891227, -2.89742565417526, -1.1223361442035202, -2.0781535726498417, 0.6527533657682196, -0.0299733688362957, -2.0781535726498417, -3.8532430826215816, 0.6527533657682196, -1.9416082257289387, -1.9416082257289387, -3.1705163480170664, 0.9258440596100258, 0.5162080188473166, -3.1705163480170664, -3.8532430826215816, 0.3796626719264135, -0.16651871575719876, -1.3954268380453263, -3.8532430826215816, 0.5162080188473166, -2.3512442664916477, -3.0339710010961634], \"yaxis\": \"y\"}],                        {\"legend\": {\"title\": {\"text\": \"variable\"}, \"tracegroupgap\": 0}, \"margin\": {\"t\": 60}, \"template\": {\"data\": {\"bar\": [{\"error_x\": {\"color\": \"#2a3f5f\"}, \"error_y\": {\"color\": \"#2a3f5f\"}, \"marker\": {\"line\": {\"color\": \"#E5ECF6\", \"width\": 0.5}}, \"type\": \"bar\"}], \"barpolar\": [{\"marker\": {\"line\": {\"color\": \"#E5ECF6\", \"width\": 0.5}}, \"type\": \"barpolar\"}], \"carpet\": [{\"aaxis\": {\"endlinecolor\": \"#2a3f5f\", \"gridcolor\": \"white\", \"linecolor\": \"white\", \"minorgridcolor\": \"white\", \"startlinecolor\": \"#2a3f5f\"}, \"baxis\": {\"endlinecolor\": \"#2a3f5f\", \"gridcolor\": \"white\", \"linecolor\": \"white\", \"minorgridcolor\": \"white\", \"startlinecolor\": \"#2a3f5f\"}, \"type\": \"carpet\"}], \"choropleth\": [{\"colorbar\": {\"outlinewidth\": 0, \"ticks\": \"\"}, \"type\": \"choropleth\"}], \"contour\": [{\"colorbar\": {\"outlinewidth\": 0, \"ticks\": \"\"}, \"colorscale\": [[0.0, \"#0d0887\"], [0.1111111111111111, \"#46039f\"], [0.2222222222222222, \"#7201a8\"], [0.3333333333333333, \"#9c179e\"], [0.4444444444444444, \"#bd3786\"], [0.5555555555555556, \"#d8576b\"], [0.6666666666666666, \"#ed7953\"], [0.7777777777777778, \"#fb9f3a\"], [0.8888888888888888, \"#fdca26\"], [1.0, \"#f0f921\"]], \"type\": \"contour\"}], \"contourcarpet\": [{\"colorbar\": {\"outlinewidth\": 0, \"ticks\": \"\"}, \"type\": \"contourcarpet\"}], \"heatmap\": [{\"colorbar\": {\"outlinewidth\": 0, \"ticks\": \"\"}, \"colorscale\": [[0.0, \"#0d0887\"], [0.1111111111111111, \"#46039f\"], [0.2222222222222222, \"#7201a8\"], [0.3333333333333333, \"#9c179e\"], [0.4444444444444444, \"#bd3786\"], [0.5555555555555556, \"#d8576b\"], [0.6666666666666666, \"#ed7953\"], [0.7777777777777778, \"#fb9f3a\"], [0.8888888888888888, \"#fdca26\"], [1.0, \"#f0f921\"]], \"type\": \"heatmap\"}], \"heatmapgl\": [{\"colorbar\": {\"outlinewidth\": 0, \"ticks\": \"\"}, \"colorscale\": [[0.0, \"#0d0887\"], [0.1111111111111111, \"#46039f\"], [0.2222222222222222, \"#7201a8\"], [0.3333333333333333, \"#9c179e\"], [0.4444444444444444, \"#bd3786\"], [0.5555555555555556, \"#d8576b\"], [0.6666666666666666, \"#ed7953\"], [0.7777777777777778, \"#fb9f3a\"], [0.8888888888888888, \"#fdca26\"], [1.0, \"#f0f921\"]], \"type\": \"heatmapgl\"}], \"histogram\": [{\"marker\": {\"colorbar\": {\"outlinewidth\": 0, \"ticks\": \"\"}}, \"type\": \"histogram\"}], \"histogram2d\": [{\"colorbar\": {\"outlinewidth\": 0, \"ticks\": \"\"}, \"colorscale\": [[0.0, \"#0d0887\"], [0.1111111111111111, \"#46039f\"], [0.2222222222222222, \"#7201a8\"], [0.3333333333333333, \"#9c179e\"], [0.4444444444444444, \"#bd3786\"], [0.5555555555555556, \"#d8576b\"], [0.6666666666666666, \"#ed7953\"], [0.7777777777777778, \"#fb9f3a\"], [0.8888888888888888, \"#fdca26\"], [1.0, \"#f0f921\"]], \"type\": \"histogram2d\"}], \"histogram2dcontour\": [{\"colorbar\": {\"outlinewidth\": 0, \"ticks\": \"\"}, \"colorscale\": [[0.0, \"#0d0887\"], [0.1111111111111111, \"#46039f\"], [0.2222222222222222, \"#7201a8\"], [0.3333333333333333, \"#9c179e\"], [0.4444444444444444, \"#bd3786\"], [0.5555555555555556, \"#d8576b\"], [0.6666666666666666, \"#ed7953\"], [0.7777777777777778, \"#fb9f3a\"], [0.8888888888888888, \"#fdca26\"], [1.0, \"#f0f921\"]], \"type\": \"histogram2dcontour\"}], \"mesh3d\": [{\"colorbar\": {\"outlinewidth\": 0, \"ticks\": \"\"}, \"type\": \"mesh3d\"}], \"parcoords\": [{\"line\": {\"colorbar\": {\"outlinewidth\": 0, \"ticks\": \"\"}}, \"type\": \"parcoords\"}], \"pie\": [{\"automargin\": true, \"type\": \"pie\"}], \"scatter\": [{\"marker\": {\"colorbar\": {\"outlinewidth\": 0, \"ticks\": \"\"}}, \"type\": \"scatter\"}], \"scatter3d\": [{\"line\": {\"colorbar\": {\"outlinewidth\": 0, \"ticks\": \"\"}}, \"marker\": {\"colorbar\": {\"outlinewidth\": 0, \"ticks\": \"\"}}, \"type\": \"scatter3d\"}], \"scattercarpet\": [{\"marker\": {\"colorbar\": {\"outlinewidth\": 0, \"ticks\": \"\"}}, \"type\": \"scattercarpet\"}], \"scattergeo\": [{\"marker\": {\"colorbar\": {\"outlinewidth\": 0, \"ticks\": \"\"}}, \"type\": \"scattergeo\"}], \"scattergl\": [{\"marker\": {\"colorbar\": {\"outlinewidth\": 0, \"ticks\": \"\"}}, \"type\": \"scattergl\"}], \"scattermapbox\": [{\"marker\": {\"colorbar\": {\"outlinewidth\": 0, \"ticks\": \"\"}}, \"type\": \"scattermapbox\"}], \"scatterpolar\": [{\"marker\": {\"colorbar\": {\"outlinewidth\": 0, \"ticks\": \"\"}}, \"type\": \"scatterpolar\"}], \"scatterpolargl\": [{\"marker\": {\"colorbar\": {\"outlinewidth\": 0, \"ticks\": \"\"}}, \"type\": \"scatterpolargl\"}], \"scatterternary\": [{\"marker\": {\"colorbar\": {\"outlinewidth\": 0, \"ticks\": \"\"}}, \"type\": \"scatterternary\"}], \"surface\": [{\"colorbar\": {\"outlinewidth\": 0, \"ticks\": \"\"}, \"colorscale\": [[0.0, \"#0d0887\"], [0.1111111111111111, \"#46039f\"], [0.2222222222222222, \"#7201a8\"], [0.3333333333333333, \"#9c179e\"], [0.4444444444444444, \"#bd3786\"], [0.5555555555555556, \"#d8576b\"], [0.6666666666666666, \"#ed7953\"], [0.7777777777777778, \"#fb9f3a\"], [0.8888888888888888, \"#fdca26\"], [1.0, \"#f0f921\"]], \"type\": \"surface\"}], \"table\": [{\"cells\": {\"fill\": {\"color\": \"#EBF0F8\"}, \"line\": {\"color\": \"white\"}}, \"header\": {\"fill\": {\"color\": \"#C8D4E3\"}, \"line\": {\"color\": \"white\"}}, \"type\": \"table\"}]}, \"layout\": {\"annotationdefaults\": {\"arrowcolor\": \"#2a3f5f\", \"arrowhead\": 0, \"arrowwidth\": 1}, \"coloraxis\": {\"colorbar\": {\"outlinewidth\": 0, \"ticks\": \"\"}}, \"colorscale\": {\"diverging\": [[0, \"#8e0152\"], [0.1, \"#c51b7d\"], [0.2, \"#de77ae\"], [0.3, \"#f1b6da\"], [0.4, \"#fde0ef\"], [0.5, \"#f7f7f7\"], [0.6, \"#e6f5d0\"], [0.7, \"#b8e186\"], [0.8, \"#7fbc41\"], [0.9, \"#4d9221\"], [1, \"#276419\"]], \"sequential\": [[0.0, \"#0d0887\"], [0.1111111111111111, \"#46039f\"], [0.2222222222222222, \"#7201a8\"], [0.3333333333333333, \"#9c179e\"], [0.4444444444444444, \"#bd3786\"], [0.5555555555555556, \"#d8576b\"], [0.6666666666666666, \"#ed7953\"], [0.7777777777777778, \"#fb9f3a\"], [0.8888888888888888, \"#fdca26\"], [1.0, \"#f0f921\"]], \"sequentialminus\": [[0.0, \"#0d0887\"], [0.1111111111111111, \"#46039f\"], [0.2222222222222222, \"#7201a8\"], [0.3333333333333333, \"#9c179e\"], [0.4444444444444444, \"#bd3786\"], [0.5555555555555556, \"#d8576b\"], [0.6666666666666666, \"#ed7953\"], [0.7777777777777778, \"#fb9f3a\"], [0.8888888888888888, \"#fdca26\"], [1.0, \"#f0f921\"]]}, \"colorway\": [\"#636efa\", \"#EF553B\", \"#00cc96\", \"#ab63fa\", \"#FFA15A\", \"#19d3f3\", \"#FF6692\", \"#B6E880\", \"#FF97FF\", \"#FECB52\"], \"font\": {\"color\": \"#2a3f5f\"}, \"geo\": {\"bgcolor\": \"white\", \"lakecolor\": \"white\", \"landcolor\": \"#E5ECF6\", \"showlakes\": true, \"showland\": true, \"subunitcolor\": \"white\"}, \"hoverlabel\": {\"align\": \"left\"}, \"hovermode\": \"closest\", \"mapbox\": {\"style\": \"light\"}, \"paper_bgcolor\": \"white\", \"plot_bgcolor\": \"#E5ECF6\", \"polar\": {\"angularaxis\": {\"gridcolor\": \"white\", \"linecolor\": \"white\", \"ticks\": \"\"}, \"bgcolor\": \"#E5ECF6\", \"radialaxis\": {\"gridcolor\": \"white\", \"linecolor\": \"white\", \"ticks\": \"\"}}, \"scene\": {\"xaxis\": {\"backgroundcolor\": \"#E5ECF6\", \"gridcolor\": \"white\", \"gridwidth\": 2, \"linecolor\": \"white\", \"showbackground\": true, \"ticks\": \"\", \"zerolinecolor\": \"white\"}, \"yaxis\": {\"backgroundcolor\": \"#E5ECF6\", \"gridcolor\": \"white\", \"gridwidth\": 2, \"linecolor\": \"white\", \"showbackground\": true, \"ticks\": \"\", \"zerolinecolor\": \"white\"}, \"zaxis\": {\"backgroundcolor\": \"#E5ECF6\", \"gridcolor\": \"white\", \"gridwidth\": 2, \"linecolor\": \"white\", \"showbackground\": true, \"ticks\": \"\", \"zerolinecolor\": \"white\"}}, \"shapedefaults\": {\"line\": {\"color\": \"#2a3f5f\"}}, \"ternary\": {\"aaxis\": {\"gridcolor\": \"white\", \"linecolor\": \"white\", \"ticks\": \"\"}, \"baxis\": {\"gridcolor\": \"white\", \"linecolor\": \"white\", \"ticks\": \"\"}, \"bgcolor\": \"#E5ECF6\", \"caxis\": {\"gridcolor\": \"white\", \"linecolor\": \"white\", \"ticks\": \"\"}}, \"title\": {\"x\": 0.05}, \"xaxis\": {\"automargin\": true, \"gridcolor\": \"white\", \"linecolor\": \"white\", \"ticks\": \"\", \"title\": {\"standoff\": 15}, \"zerolinecolor\": \"white\", \"zerolinewidth\": 2}, \"yaxis\": {\"automargin\": true, \"gridcolor\": \"white\", \"linecolor\": \"white\", \"ticks\": \"\", \"title\": {\"standoff\": 15}, \"zerolinecolor\": \"white\", \"zerolinewidth\": 2}}}, \"xaxis\": {\"anchor\": \"y\", \"domain\": [0.0, 1.0], \"title\": {\"text\": \"index\"}}, \"yaxis\": {\"anchor\": \"x\", \"domain\": [0.0, 1.0], \"title\": {\"text\": \"value\"}}},                        {\"responsive\": true}                    ).then(function(){\n",
       "                            \n",
       "var gd = document.getElementById('abe0f4a9-ae4e-45f5-8663-54e70b04ae05');\n",
       "var x = new MutationObserver(function (mutations, observer) {{\n",
       "        var display = window.getComputedStyle(gd).display;\n",
       "        if (!display || display === 'none') {{\n",
       "            console.log([gd, 'removed!']);\n",
       "            Plotly.purge(gd);\n",
       "            observer.disconnect();\n",
       "        }}\n",
       "}});\n",
       "\n",
       "// Listen for the removal of the full notebook cells\n",
       "var notebookContainer = gd.closest('#notebook-container');\n",
       "if (notebookContainer) {{\n",
       "    x.observe(notebookContainer, {childList: true});\n",
       "}}\n",
       "\n",
       "// Listen for the clearing of the current output cell\n",
       "var outputEl = gd.closest('.output');\n",
       "if (outputEl) {{\n",
       "    x.observe(outputEl, {childList: true});\n",
       "}}\n",
       "\n",
       "                        })                };                });            </script>        </div>"
      ]
     },
     "metadata": {},
     "output_type": "display_data"
    }
   ],
   "source": [
    "px.line(df2[\"Total: \"])"
   ]
  },
  {
   "cell_type": "markdown",
   "metadata": {},
   "source": [
    "These graphs are looking independent and random so we can say that this assumption also checks out"
   ]
  },
  {
   "cell_type": "code",
   "execution_count": null,
   "metadata": {},
   "outputs": [],
   "source": []
  }
 ],
 "metadata": {
  "kernelspec": {
   "display_name": "Python 3",
   "language": "python",
   "name": "python3"
  },
  "language_info": {
   "codemirror_mode": {
    "name": "ipython",
    "version": 3
   },
   "file_extension": ".py",
   "mimetype": "text/x-python",
   "name": "python",
   "nbconvert_exporter": "python",
   "pygments_lexer": "ipython3",
   "version": "3.8.5"
  }
 },
 "nbformat": 4,
 "nbformat_minor": 4
}
