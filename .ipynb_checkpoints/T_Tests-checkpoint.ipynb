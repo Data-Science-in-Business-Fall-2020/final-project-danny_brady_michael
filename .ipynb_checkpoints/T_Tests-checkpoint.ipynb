{
 "cells": [
  {
   "cell_type": "code",
   "execution_count": 1,
   "metadata": {},
   "outputs": [],
   "source": [
    "import numpy as np\n",
    "import pandas as pd\n",
    "import plotly.express as px\n",
    "import matplotlib.pyplot as plt\n",
    "import datetime\n",
    "import plotly.graph_objects as go\n",
    "import scipy.stats as st"
   ]
  },
  {
   "cell_type": "markdown",
   "metadata": {},
   "source": [
    "# Data Cleaning for All Datasets"
   ]
  },
  {
   "cell_type": "code",
   "execution_count": 2,
   "metadata": {},
   "outputs": [],
   "source": [
    "# Read in shark data\n",
    "eat = pd.read_excel(\"SharkData.xlsx\", sheet_name = 0)\n",
    "targets = pd.read_excel(\"SharkData.xlsx\", sheet_name = 1)\n",
    "drops = pd.read_excel(\"SharkData.xlsx\", sheet_name = 2)\n",
    "other_factors = pd.read_excel(\"SharkData.xlsx\", sheet_name = 3)"
   ]
  },
  {
   "cell_type": "code",
   "execution_count": 3,
   "metadata": {},
   "outputs": [
    {
     "data": {
      "text/html": [
       "<div>\n",
       "<style scoped>\n",
       "    .dataframe tbody tr th:only-of-type {\n",
       "        vertical-align: middle;\n",
       "    }\n",
       "\n",
       "    .dataframe tbody tr th {\n",
       "        vertical-align: top;\n",
       "    }\n",
       "\n",
       "    .dataframe thead th {\n",
       "        text-align: right;\n",
       "    }\n",
       "</style>\n",
       "<table border=\"1\" class=\"dataframe\">\n",
       "  <thead>\n",
       "    <tr style=\"text-align: right;\">\n",
       "      <th></th>\n",
       "      <th>Date</th>\n",
       "      <th>Ross</th>\n",
       "      <th>Chandler</th>\n",
       "      <th>BT1</th>\n",
       "      <th>BT2</th>\n",
       "      <th>BT3</th>\n",
       "      <th>BT4</th>\n",
       "      <th>BT5</th>\n",
       "      <th>GR1</th>\n",
       "      <th>GR2</th>\n",
       "      <th>GR3</th>\n",
       "      <th>GR4</th>\n",
       "      <th>GR5</th>\n",
       "      <th>Total:</th>\n",
       "      <th>Etc. Comments</th>\n",
       "    </tr>\n",
       "  </thead>\n",
       "  <tbody>\n",
       "    <tr>\n",
       "      <th>578</th>\n",
       "      <td>2020-09-22</td>\n",
       "      <td>6.0</td>\n",
       "      <td>0.0</td>\n",
       "      <td>1.0</td>\n",
       "      <td>2.0</td>\n",
       "      <td>6.0</td>\n",
       "      <td>0.0</td>\n",
       "      <td>4.0</td>\n",
       "      <td>1.0</td>\n",
       "      <td>0.0</td>\n",
       "      <td>0.0</td>\n",
       "      <td>5.0</td>\n",
       "      <td>1.0</td>\n",
       "      <td>26.0</td>\n",
       "      <td>NaN</td>\n",
       "    </tr>\n",
       "    <tr>\n",
       "      <th>579</th>\n",
       "      <td>2020-09-24</td>\n",
       "      <td>0.0</td>\n",
       "      <td>9.0</td>\n",
       "      <td>0.0</td>\n",
       "      <td>7.0</td>\n",
       "      <td>5.0</td>\n",
       "      <td>5.0</td>\n",
       "      <td>7.0</td>\n",
       "      <td>0.0</td>\n",
       "      <td>1.0</td>\n",
       "      <td>2.0</td>\n",
       "      <td>2.0</td>\n",
       "      <td>6.0</td>\n",
       "      <td>44.0</td>\n",
       "      <td>NaN</td>\n",
       "    </tr>\n",
       "    <tr>\n",
       "      <th>580</th>\n",
       "      <td>2020-09-26</td>\n",
       "      <td>NaN</td>\n",
       "      <td>NaN</td>\n",
       "      <td>NaN</td>\n",
       "      <td>NaN</td>\n",
       "      <td>NaN</td>\n",
       "      <td>NaN</td>\n",
       "      <td>NaN</td>\n",
       "      <td>4.0</td>\n",
       "      <td>0.0</td>\n",
       "      <td>2.0</td>\n",
       "      <td>3.0</td>\n",
       "      <td>3.0</td>\n",
       "      <td>12.0</td>\n",
       "      <td>NaN</td>\n",
       "    </tr>\n",
       "    <tr>\n",
       "      <th>581</th>\n",
       "      <td>2020-09-27</td>\n",
       "      <td>5.0</td>\n",
       "      <td>6.0</td>\n",
       "      <td>3.0</td>\n",
       "      <td>6.0</td>\n",
       "      <td>4.0</td>\n",
       "      <td>6.0</td>\n",
       "      <td>3.0</td>\n",
       "      <td>NaN</td>\n",
       "      <td>NaN</td>\n",
       "      <td>NaN</td>\n",
       "      <td>NaN</td>\n",
       "      <td>NaN</td>\n",
       "      <td>33.0</td>\n",
       "      <td>NaN</td>\n",
       "    </tr>\n",
       "    <tr>\n",
       "      <th>582</th>\n",
       "      <td>2020-09-29</td>\n",
       "      <td>10.0</td>\n",
       "      <td>3.0</td>\n",
       "      <td>1.0</td>\n",
       "      <td>1.0</td>\n",
       "      <td>4.0</td>\n",
       "      <td>2.0</td>\n",
       "      <td>7.0</td>\n",
       "      <td>4.0</td>\n",
       "      <td>4.0</td>\n",
       "      <td>0.0</td>\n",
       "      <td>2.0</td>\n",
       "      <td>0.0</td>\n",
       "      <td>38.0</td>\n",
       "      <td>NaN</td>\n",
       "    </tr>\n",
       "  </tbody>\n",
       "</table>\n",
       "</div>"
      ],
      "text/plain": [
       "           Date  Ross  Chandler  BT1  BT2  BT3  BT4  BT5  GR1  GR2  GR3  GR4  \\\n",
       "578  2020-09-22   6.0       0.0  1.0  2.0  6.0  0.0  4.0  1.0  0.0  0.0  5.0   \n",
       "579  2020-09-24   0.0       9.0  0.0  7.0  5.0  5.0  7.0  0.0  1.0  2.0  2.0   \n",
       "580  2020-09-26   NaN       NaN  NaN  NaN  NaN  NaN  NaN  4.0  0.0  2.0  3.0   \n",
       "581  2020-09-27   5.0       6.0  3.0  6.0  4.0  6.0  3.0  NaN  NaN  NaN  NaN   \n",
       "582  2020-09-29  10.0       3.0  1.0  1.0  4.0  2.0  7.0  4.0  4.0  0.0  2.0   \n",
       "\n",
       "     GR5  Total:  Etc. Comments  \n",
       "578  1.0     26.0           NaN  \n",
       "579  6.0     44.0           NaN  \n",
       "580  3.0     12.0           NaN  \n",
       "581  NaN     33.0           NaN  \n",
       "582  0.0     38.0           NaN  "
      ]
     },
     "execution_count": 3,
     "metadata": {},
     "output_type": "execute_result"
    }
   ],
   "source": [
    "# Clean eating dataset\n",
    "eat = eat.iloc[1:,:-1]\n",
    "eat.rename(columns = {\"Unnamed: 14\":'Etc. Comments', \"Pieces Eaten\": \"Date\"}, inplace = True)\n",
    "\n",
    "#get rid of null values at end of dataset\n",
    "eat = eat.head(582)\n",
    "\n",
    "# Change date to just date format, not datetime\n",
    "eat['Date'] = pd.to_datetime(eat['Date']).dt.date\n",
    "\n",
    "\n",
    "eat.tail()"
   ]
  },
  {
   "cell_type": "code",
   "execution_count": 4,
   "metadata": {},
   "outputs": [],
   "source": [
    "# Clean Drops Dataset\n",
    "drops = drops.iloc[1:,:-1]\n",
    "drops['Drops'] = pd.to_datetime(drops['Drops']).dt.date"
   ]
  },
  {
   "cell_type": "code",
   "execution_count": 5,
   "metadata": {},
   "outputs": [
    {
     "data": {
      "text/html": [
       "<div>\n",
       "<style scoped>\n",
       "    .dataframe tbody tr th:only-of-type {\n",
       "        vertical-align: middle;\n",
       "    }\n",
       "\n",
       "    .dataframe tbody tr th {\n",
       "        vertical-align: top;\n",
       "    }\n",
       "\n",
       "    .dataframe thead th {\n",
       "        text-align: right;\n",
       "    }\n",
       "</style>\n",
       "<table border=\"1\" class=\"dataframe\">\n",
       "  <thead>\n",
       "    <tr style=\"text-align: right;\">\n",
       "      <th></th>\n",
       "      <th>Date</th>\n",
       "      <th>Ross</th>\n",
       "      <th>Chandler</th>\n",
       "      <th>BT1</th>\n",
       "      <th>BT2</th>\n",
       "      <th>BT3</th>\n",
       "      <th>BT4</th>\n",
       "      <th>BT5</th>\n",
       "      <th>GR1</th>\n",
       "      <th>GR2</th>\n",
       "      <th>GR3</th>\n",
       "      <th>GR4</th>\n",
       "      <th>GR5</th>\n",
       "      <th>Total:</th>\n",
       "    </tr>\n",
       "  </thead>\n",
       "  <tbody>\n",
       "    <tr>\n",
       "      <th>578</th>\n",
       "      <td>2020-09-22</td>\n",
       "      <td>6.0</td>\n",
       "      <td>1.0</td>\n",
       "      <td>4.0</td>\n",
       "      <td>6.0</td>\n",
       "      <td>5.0</td>\n",
       "      <td>4.0</td>\n",
       "      <td>7.0</td>\n",
       "      <td>2.0</td>\n",
       "      <td>1.0</td>\n",
       "      <td>5.0</td>\n",
       "      <td>4.0</td>\n",
       "      <td>1.0</td>\n",
       "      <td>46.0</td>\n",
       "    </tr>\n",
       "    <tr>\n",
       "      <th>579</th>\n",
       "      <td>2020-09-24</td>\n",
       "      <td>8.0</td>\n",
       "      <td>18.0</td>\n",
       "      <td>2.0</td>\n",
       "      <td>9.0</td>\n",
       "      <td>10.0</td>\n",
       "      <td>10.0</td>\n",
       "      <td>11.0</td>\n",
       "      <td>5.0</td>\n",
       "      <td>6.0</td>\n",
       "      <td>3.0</td>\n",
       "      <td>7.0</td>\n",
       "      <td>9.0</td>\n",
       "      <td>98.0</td>\n",
       "    </tr>\n",
       "    <tr>\n",
       "      <th>580</th>\n",
       "      <td>2020-09-26</td>\n",
       "      <td>NaN</td>\n",
       "      <td>NaN</td>\n",
       "      <td>NaN</td>\n",
       "      <td>NaN</td>\n",
       "      <td>NaN</td>\n",
       "      <td>NaN</td>\n",
       "      <td>NaN</td>\n",
       "      <td>6.0</td>\n",
       "      <td>2.0</td>\n",
       "      <td>3.0</td>\n",
       "      <td>5.0</td>\n",
       "      <td>8.0</td>\n",
       "      <td>24.0</td>\n",
       "    </tr>\n",
       "    <tr>\n",
       "      <th>581</th>\n",
       "      <td>2020-09-27</td>\n",
       "      <td>10.0</td>\n",
       "      <td>19.0</td>\n",
       "      <td>9.0</td>\n",
       "      <td>10.0</td>\n",
       "      <td>8.0</td>\n",
       "      <td>16.0</td>\n",
       "      <td>3.0</td>\n",
       "      <td>NaN</td>\n",
       "      <td>NaN</td>\n",
       "      <td>NaN</td>\n",
       "      <td>NaN</td>\n",
       "      <td>NaN</td>\n",
       "      <td>75.0</td>\n",
       "    </tr>\n",
       "    <tr>\n",
       "      <th>582</th>\n",
       "      <td>2020-09-29</td>\n",
       "      <td>15.0</td>\n",
       "      <td>5.0</td>\n",
       "      <td>6.0</td>\n",
       "      <td>6.0</td>\n",
       "      <td>4.0</td>\n",
       "      <td>4.0</td>\n",
       "      <td>7.0</td>\n",
       "      <td>4.0</td>\n",
       "      <td>1.0</td>\n",
       "      <td>4.0</td>\n",
       "      <td>4.0</td>\n",
       "      <td>1.0</td>\n",
       "      <td>61.0</td>\n",
       "    </tr>\n",
       "  </tbody>\n",
       "</table>\n",
       "</div>"
      ],
      "text/plain": [
       "           Date  Ross  Chandler  BT1   BT2   BT3   BT4   BT5  GR1  GR2  GR3  \\\n",
       "578  2020-09-22   6.0       1.0  4.0   6.0   5.0   4.0   7.0  2.0  1.0  5.0   \n",
       "579  2020-09-24   8.0      18.0  2.0   9.0  10.0  10.0  11.0  5.0  6.0  3.0   \n",
       "580  2020-09-26   NaN       NaN  NaN   NaN   NaN   NaN   NaN  6.0  2.0  3.0   \n",
       "581  2020-09-27  10.0      19.0  9.0  10.0   8.0  16.0   3.0  NaN  NaN  NaN   \n",
       "582  2020-09-29  15.0       5.0  6.0   6.0   4.0   4.0   7.0  4.0  1.0  4.0   \n",
       "\n",
       "     GR4  GR5  Total:   \n",
       "578  4.0  1.0     46.0  \n",
       "579  7.0  9.0     98.0  \n",
       "580  5.0  8.0     24.0  \n",
       "581  NaN  NaN     75.0  \n",
       "582  4.0  1.0     61.0  "
      ]
     },
     "execution_count": 5,
     "metadata": {},
     "output_type": "execute_result"
    }
   ],
   "source": [
    "# Clean Targets Dataset\n",
    "targets = targets.iloc[1:,:-1]\n",
    "targets.rename(columns = {\"Unnamed: 14\":'Etc. Comments', \"Targets\": \"Date\"}, inplace = True)\n",
    "\n",
    "#get rid of null values at end of dataset\n",
    "targets = targets.head(582)\n",
    "\n",
    "# Change date to just date format, not datetime\n",
    "targets['Date'] = pd.to_datetime(targets['Date']).dt.date\n",
    "\n",
    "\n",
    "targets.tail()"
   ]
  },
  {
   "cell_type": "markdown",
   "metadata": {},
   "source": [
    "# Create Subset Groups"
   ]
  },
  {
   "cell_type": "code",
   "execution_count": 6,
   "metadata": {},
   "outputs": [],
   "source": [
    "# All Sharks Subset\n",
    "All_Sharks = eat[['Ross', 'Chandler','BT1','BT2','BT3','BT4','BT5','GR1','GR2','GR3','GR4', 'GR5','Total: ']]\n",
    "\n",
    "# All SS Subset\n",
    "All_SS = eat[['Ross', 'Chandler']]\n",
    "\n",
    "# All BT Subset\n",
    "All_BT = eat[['BT1', 'BT2', 'BT3', 'BT4', 'BT5']]\n",
    "\n",
    "# All GR Subset\n",
    "All_GR = eat[['GR1', 'GR2', 'GR3', 'GR4', 'GR5']]\n",
    "\n",
    "# Male Subset\n",
    "Male = eat[[\"BT1\",\"BT5\",\"GR1\",\"Ross\",\"Chandler\"]]\n",
    "\n",
    "# Female Subset\n",
    "female = eat[[\"BT2\",\"BT3\",\"BT4\",\"GR2\",\"GR3\",\"GR4\",\"GR5\"]]\n",
    "\n",
    "# Append all subsets to original datasets\n",
    "# eat dataset\n",
    "eat[\"All_GR\"] = eat['GR1'] + eat['GR2'] + eat['GR3'] + eat['GR4'] + eat['GR5']\n",
    "eat[\"All_BT\"] = eat['BT1'] + eat['BT2'] + eat['BT3'] + eat['BT4'] + eat['BT5']\n",
    "eat[\"All_SS\"] = eat['Ross'] + eat['Chandler']\n",
    "eat[\"male\"] = eat[[\"BT1\",\"BT5\",\"GR1\",\"Ross\",\"Chandler\"]].sum(axis = 1)\n",
    "eat[\"female\"] = eat[[\"BT2\",\"BT3\",\"BT4\",\"GR2\",\"GR3\",\"GR4\",\"GR5\"]].sum(axis = 1)\n",
    "\n",
    "# drop dataset\n",
    "drops[\"All_GR\"] = drops['GR1'] + drops['GR2'] + drops['GR3'] + drops['GR4'] + drops['GR5']\n",
    "drops[\"All_BT\"] = drops['BT1'] + drops['BT2'] + drops['BT3'] + drops['BT4'] + drops['BT5']\n",
    "drops[\"All_SS\"] = drops['Ross'] + drops['Chandler']\n",
    "drops[\"male\"] = drops[[\"BT1\",\"BT5\",\"GR1\",\"Ross\",\"Chandler\"]].sum(axis = 1)\n",
    "drops[\"female\"] = drops[[\"BT2\",\"BT3\",\"BT4\",\"GR2\",\"GR3\",\"GR4\",\"GR5\"]].sum(axis = 1)\n",
    "\n",
    "# target dataset\n",
    "targets[\"All_GR\"] = targets['GR1'] + targets['GR2'] + targets['GR3'] + targets['GR4'] + targets['GR5']\n",
    "targets[\"All_BT\"] = targets['BT1'] + targets['BT2'] + targets['BT3'] + targets['BT4'] + targets['BT5']\n",
    "targets[\"All_SS\"] = targets['Ross'] + targets['Chandler']\n",
    "targets[\"male\"] = targets[[\"BT1\",\"BT5\",\"GR1\",\"Ross\",\"Chandler\"]].sum(axis = 1)\n",
    "targets[\"female\"] = targets[[\"BT2\",\"BT3\",\"BT4\",\"GR2\",\"GR3\",\"GR4\",\"GR5\"]].sum(axis = 1)\n"
   ]
  },
  {
   "cell_type": "code",
   "execution_count": 7,
   "metadata": {},
   "outputs": [
    {
     "data": {
      "text/html": [
       "<div>\n",
       "<style scoped>\n",
       "    .dataframe tbody tr th:only-of-type {\n",
       "        vertical-align: middle;\n",
       "    }\n",
       "\n",
       "    .dataframe tbody tr th {\n",
       "        vertical-align: top;\n",
       "    }\n",
       "\n",
       "    .dataframe thead th {\n",
       "        text-align: right;\n",
       "    }\n",
       "</style>\n",
       "<table border=\"1\" class=\"dataframe\">\n",
       "  <thead>\n",
       "    <tr style=\"text-align: right;\">\n",
       "      <th></th>\n",
       "      <th>Date</th>\n",
       "      <th>Ross</th>\n",
       "      <th>Chandler</th>\n",
       "      <th>BT1</th>\n",
       "      <th>BT2</th>\n",
       "      <th>BT3</th>\n",
       "      <th>BT4</th>\n",
       "      <th>BT5</th>\n",
       "      <th>GR1</th>\n",
       "      <th>GR2</th>\n",
       "      <th>GR3</th>\n",
       "      <th>GR4</th>\n",
       "      <th>GR5</th>\n",
       "      <th>Total:</th>\n",
       "      <th>Etc. Comments</th>\n",
       "      <th>All_GR</th>\n",
       "      <th>All_BT</th>\n",
       "      <th>All_SS</th>\n",
       "      <th>male</th>\n",
       "      <th>female</th>\n",
       "    </tr>\n",
       "  </thead>\n",
       "  <tbody>\n",
       "    <tr>\n",
       "      <th>1</th>\n",
       "      <td>2017-12-05</td>\n",
       "      <td>0.0</td>\n",
       "      <td>5.0</td>\n",
       "      <td>3.0</td>\n",
       "      <td>6.0</td>\n",
       "      <td>5.0</td>\n",
       "      <td>4.0</td>\n",
       "      <td>4.0</td>\n",
       "      <td>0.0</td>\n",
       "      <td>0.0</td>\n",
       "      <td>2.0</td>\n",
       "      <td>3.0</td>\n",
       "      <td>1.0</td>\n",
       "      <td>33.0</td>\n",
       "      <td>NaN</td>\n",
       "      <td>6.0</td>\n",
       "      <td>22.0</td>\n",
       "      <td>5.0</td>\n",
       "      <td>12.0</td>\n",
       "      <td>21.0</td>\n",
       "    </tr>\n",
       "    <tr>\n",
       "      <th>2</th>\n",
       "      <td>2017-12-07</td>\n",
       "      <td>1.0</td>\n",
       "      <td>0.0</td>\n",
       "      <td>0.0</td>\n",
       "      <td>2.0</td>\n",
       "      <td>0.0</td>\n",
       "      <td>0.0</td>\n",
       "      <td>0.0</td>\n",
       "      <td>0.0</td>\n",
       "      <td>0.0</td>\n",
       "      <td>0.0</td>\n",
       "      <td>0.0</td>\n",
       "      <td>0.0</td>\n",
       "      <td>3.0</td>\n",
       "      <td>NaN</td>\n",
       "      <td>0.0</td>\n",
       "      <td>2.0</td>\n",
       "      <td>1.0</td>\n",
       "      <td>1.0</td>\n",
       "      <td>2.0</td>\n",
       "    </tr>\n",
       "    <tr>\n",
       "      <th>3</th>\n",
       "      <td>2017-12-09</td>\n",
       "      <td>NaN</td>\n",
       "      <td>NaN</td>\n",
       "      <td>NaN</td>\n",
       "      <td>NaN</td>\n",
       "      <td>NaN</td>\n",
       "      <td>NaN</td>\n",
       "      <td>NaN</td>\n",
       "      <td>2.0</td>\n",
       "      <td>0.0</td>\n",
       "      <td>3.0</td>\n",
       "      <td>1.0</td>\n",
       "      <td>0.0</td>\n",
       "      <td>6.0</td>\n",
       "      <td>NaN</td>\n",
       "      <td>6.0</td>\n",
       "      <td>NaN</td>\n",
       "      <td>NaN</td>\n",
       "      <td>2.0</td>\n",
       "      <td>4.0</td>\n",
       "    </tr>\n",
       "    <tr>\n",
       "      <th>4</th>\n",
       "      <td>2017-12-10</td>\n",
       "      <td>5.0</td>\n",
       "      <td>1.0</td>\n",
       "      <td>1.0</td>\n",
       "      <td>3.0</td>\n",
       "      <td>2.0</td>\n",
       "      <td>2.0</td>\n",
       "      <td>0.0</td>\n",
       "      <td>NaN</td>\n",
       "      <td>NaN</td>\n",
       "      <td>NaN</td>\n",
       "      <td>NaN</td>\n",
       "      <td>NaN</td>\n",
       "      <td>14.0</td>\n",
       "      <td>NaN</td>\n",
       "      <td>NaN</td>\n",
       "      <td>8.0</td>\n",
       "      <td>6.0</td>\n",
       "      <td>7.0</td>\n",
       "      <td>7.0</td>\n",
       "    </tr>\n",
       "    <tr>\n",
       "      <th>5</th>\n",
       "      <td>2017-12-12</td>\n",
       "      <td>2.0</td>\n",
       "      <td>2.0</td>\n",
       "      <td>0.0</td>\n",
       "      <td>5.0</td>\n",
       "      <td>2.0</td>\n",
       "      <td>4.0</td>\n",
       "      <td>5.0</td>\n",
       "      <td>0.0</td>\n",
       "      <td>2.0</td>\n",
       "      <td>3.0</td>\n",
       "      <td>2.0</td>\n",
       "      <td>0.0</td>\n",
       "      <td>27.0</td>\n",
       "      <td>NaN</td>\n",
       "      <td>7.0</td>\n",
       "      <td>16.0</td>\n",
       "      <td>4.0</td>\n",
       "      <td>9.0</td>\n",
       "      <td>18.0</td>\n",
       "    </tr>\n",
       "  </tbody>\n",
       "</table>\n",
       "</div>"
      ],
      "text/plain": [
       "         Date  Ross  Chandler  BT1  BT2  BT3  BT4  BT5  GR1  GR2  GR3  GR4  \\\n",
       "1  2017-12-05   0.0       5.0  3.0  6.0  5.0  4.0  4.0  0.0  0.0  2.0  3.0   \n",
       "2  2017-12-07   1.0       0.0  0.0  2.0  0.0  0.0  0.0  0.0  0.0  0.0  0.0   \n",
       "3  2017-12-09   NaN       NaN  NaN  NaN  NaN  NaN  NaN  2.0  0.0  3.0  1.0   \n",
       "4  2017-12-10   5.0       1.0  1.0  3.0  2.0  2.0  0.0  NaN  NaN  NaN  NaN   \n",
       "5  2017-12-12   2.0       2.0  0.0  5.0  2.0  4.0  5.0  0.0  2.0  3.0  2.0   \n",
       "\n",
       "   GR5  Total:  Etc. Comments  All_GR  All_BT  All_SS  male  female  \n",
       "1  1.0     33.0           NaN     6.0    22.0     5.0  12.0    21.0  \n",
       "2  0.0      3.0           NaN     0.0     2.0     1.0   1.0     2.0  \n",
       "3  0.0      6.0           NaN     6.0     NaN     NaN   2.0     4.0  \n",
       "4  NaN     14.0           NaN     NaN     8.0     6.0   7.0     7.0  \n",
       "5  0.0     27.0           NaN     7.0    16.0     4.0   9.0    18.0  "
      ]
     },
     "execution_count": 7,
     "metadata": {},
     "output_type": "execute_result"
    }
   ],
   "source": [
    "eat.head()"
   ]
  },
  {
   "cell_type": "code",
   "execution_count": 8,
   "metadata": {},
   "outputs": [
    {
     "data": {
      "text/html": [
       "<div>\n",
       "<style scoped>\n",
       "    .dataframe tbody tr th:only-of-type {\n",
       "        vertical-align: middle;\n",
       "    }\n",
       "\n",
       "    .dataframe tbody tr th {\n",
       "        vertical-align: top;\n",
       "    }\n",
       "\n",
       "    .dataframe thead th {\n",
       "        text-align: right;\n",
       "    }\n",
       "</style>\n",
       "<table border=\"1\" class=\"dataframe\">\n",
       "  <thead>\n",
       "    <tr style=\"text-align: right;\">\n",
       "      <th></th>\n",
       "      <th>Drops</th>\n",
       "      <th>Ross</th>\n",
       "      <th>Chandler</th>\n",
       "      <th>BT1</th>\n",
       "      <th>BT2</th>\n",
       "      <th>BT3</th>\n",
       "      <th>BT4</th>\n",
       "      <th>BT5</th>\n",
       "      <th>GR1</th>\n",
       "      <th>GR2</th>\n",
       "      <th>GR3</th>\n",
       "      <th>GR4</th>\n",
       "      <th>GR5</th>\n",
       "      <th>Total:</th>\n",
       "      <th>All_GR</th>\n",
       "      <th>All_BT</th>\n",
       "      <th>All_SS</th>\n",
       "      <th>male</th>\n",
       "      <th>female</th>\n",
       "    </tr>\n",
       "  </thead>\n",
       "  <tbody>\n",
       "    <tr>\n",
       "      <th>1</th>\n",
       "      <td>2017-12-05</td>\n",
       "      <td>0.0</td>\n",
       "      <td>0.0</td>\n",
       "      <td>0.0</td>\n",
       "      <td>0.0</td>\n",
       "      <td>0.0</td>\n",
       "      <td>1.0</td>\n",
       "      <td>0.0</td>\n",
       "      <td>0.0</td>\n",
       "      <td>0.0</td>\n",
       "      <td>1.0</td>\n",
       "      <td>1.0</td>\n",
       "      <td>0.0</td>\n",
       "      <td>3.0</td>\n",
       "      <td>2.0</td>\n",
       "      <td>1.0</td>\n",
       "      <td>0.0</td>\n",
       "      <td>0.0</td>\n",
       "      <td>3.0</td>\n",
       "    </tr>\n",
       "    <tr>\n",
       "      <th>2</th>\n",
       "      <td>2017-12-07</td>\n",
       "      <td>0.0</td>\n",
       "      <td>1.0</td>\n",
       "      <td>1.0</td>\n",
       "      <td>2.0</td>\n",
       "      <td>1.0</td>\n",
       "      <td>1.0</td>\n",
       "      <td>2.0</td>\n",
       "      <td>0.0</td>\n",
       "      <td>0.0</td>\n",
       "      <td>2.0</td>\n",
       "      <td>0.0</td>\n",
       "      <td>0.0</td>\n",
       "      <td>10.0</td>\n",
       "      <td>2.0</td>\n",
       "      <td>7.0</td>\n",
       "      <td>1.0</td>\n",
       "      <td>4.0</td>\n",
       "      <td>6.0</td>\n",
       "    </tr>\n",
       "    <tr>\n",
       "      <th>3</th>\n",
       "      <td>2017-12-09</td>\n",
       "      <td>NaN</td>\n",
       "      <td>NaN</td>\n",
       "      <td>NaN</td>\n",
       "      <td>NaN</td>\n",
       "      <td>NaN</td>\n",
       "      <td>NaN</td>\n",
       "      <td>NaN</td>\n",
       "      <td>0.0</td>\n",
       "      <td>1.0</td>\n",
       "      <td>0.0</td>\n",
       "      <td>0.0</td>\n",
       "      <td>0.0</td>\n",
       "      <td>1.0</td>\n",
       "      <td>1.0</td>\n",
       "      <td>NaN</td>\n",
       "      <td>NaN</td>\n",
       "      <td>0.0</td>\n",
       "      <td>1.0</td>\n",
       "    </tr>\n",
       "    <tr>\n",
       "      <th>4</th>\n",
       "      <td>2017-12-10</td>\n",
       "      <td>0.0</td>\n",
       "      <td>0.0</td>\n",
       "      <td>0.0</td>\n",
       "      <td>0.0</td>\n",
       "      <td>0.0</td>\n",
       "      <td>0.0</td>\n",
       "      <td>1.0</td>\n",
       "      <td>NaN</td>\n",
       "      <td>NaN</td>\n",
       "      <td>NaN</td>\n",
       "      <td>NaN</td>\n",
       "      <td>NaN</td>\n",
       "      <td>1.0</td>\n",
       "      <td>NaN</td>\n",
       "      <td>1.0</td>\n",
       "      <td>0.0</td>\n",
       "      <td>1.0</td>\n",
       "      <td>0.0</td>\n",
       "    </tr>\n",
       "    <tr>\n",
       "      <th>5</th>\n",
       "      <td>2017-12-12</td>\n",
       "      <td>0.0</td>\n",
       "      <td>0.0</td>\n",
       "      <td>0.0</td>\n",
       "      <td>0.0</td>\n",
       "      <td>2.0</td>\n",
       "      <td>0.0</td>\n",
       "      <td>0.0</td>\n",
       "      <td>0.0</td>\n",
       "      <td>0.0</td>\n",
       "      <td>0.0</td>\n",
       "      <td>1.0</td>\n",
       "      <td>0.0</td>\n",
       "      <td>3.0</td>\n",
       "      <td>1.0</td>\n",
       "      <td>2.0</td>\n",
       "      <td>0.0</td>\n",
       "      <td>0.0</td>\n",
       "      <td>3.0</td>\n",
       "    </tr>\n",
       "  </tbody>\n",
       "</table>\n",
       "</div>"
      ],
      "text/plain": [
       "        Drops  Ross  Chandler  BT1  BT2  BT3  BT4  BT5  GR1  GR2  GR3  GR4  \\\n",
       "1  2017-12-05   0.0       0.0  0.0  0.0  0.0  1.0  0.0  0.0  0.0  1.0  1.0   \n",
       "2  2017-12-07   0.0       1.0  1.0  2.0  1.0  1.0  2.0  0.0  0.0  2.0  0.0   \n",
       "3  2017-12-09   NaN       NaN  NaN  NaN  NaN  NaN  NaN  0.0  1.0  0.0  0.0   \n",
       "4  2017-12-10   0.0       0.0  0.0  0.0  0.0  0.0  1.0  NaN  NaN  NaN  NaN   \n",
       "5  2017-12-12   0.0       0.0  0.0  0.0  2.0  0.0  0.0  0.0  0.0  0.0  1.0   \n",
       "\n",
       "   GR5  Total:   All_GR  All_BT  All_SS  male  female  \n",
       "1  0.0      3.0     2.0     1.0     0.0   0.0     3.0  \n",
       "2  0.0     10.0     2.0     7.0     1.0   4.0     6.0  \n",
       "3  0.0      1.0     1.0     NaN     NaN   0.0     1.0  \n",
       "4  NaN      1.0     NaN     1.0     0.0   1.0     0.0  \n",
       "5  0.0      3.0     1.0     2.0     0.0   0.0     3.0  "
      ]
     },
     "execution_count": 8,
     "metadata": {},
     "output_type": "execute_result"
    }
   ],
   "source": [
    "drops.head()"
   ]
  },
  {
   "cell_type": "code",
   "execution_count": 9,
   "metadata": {},
   "outputs": [
    {
     "data": {
      "text/html": [
       "<div>\n",
       "<style scoped>\n",
       "    .dataframe tbody tr th:only-of-type {\n",
       "        vertical-align: middle;\n",
       "    }\n",
       "\n",
       "    .dataframe tbody tr th {\n",
       "        vertical-align: top;\n",
       "    }\n",
       "\n",
       "    .dataframe thead th {\n",
       "        text-align: right;\n",
       "    }\n",
       "</style>\n",
       "<table border=\"1\" class=\"dataframe\">\n",
       "  <thead>\n",
       "    <tr style=\"text-align: right;\">\n",
       "      <th></th>\n",
       "      <th>Date</th>\n",
       "      <th>Ross</th>\n",
       "      <th>Chandler</th>\n",
       "      <th>BT1</th>\n",
       "      <th>BT2</th>\n",
       "      <th>BT3</th>\n",
       "      <th>BT4</th>\n",
       "      <th>BT5</th>\n",
       "      <th>GR1</th>\n",
       "      <th>GR2</th>\n",
       "      <th>GR3</th>\n",
       "      <th>GR4</th>\n",
       "      <th>GR5</th>\n",
       "      <th>Total:</th>\n",
       "      <th>All_GR</th>\n",
       "      <th>All_BT</th>\n",
       "      <th>All_SS</th>\n",
       "      <th>male</th>\n",
       "      <th>female</th>\n",
       "    </tr>\n",
       "  </thead>\n",
       "  <tbody>\n",
       "    <tr>\n",
       "      <th>1</th>\n",
       "      <td>2017-12-05</td>\n",
       "      <td>3.0</td>\n",
       "      <td>0.0</td>\n",
       "      <td>4.0</td>\n",
       "      <td>3.0</td>\n",
       "      <td>0.0</td>\n",
       "      <td>2.0</td>\n",
       "      <td>2.0</td>\n",
       "      <td>1.0</td>\n",
       "      <td>1.0</td>\n",
       "      <td>3.0</td>\n",
       "      <td>3.0</td>\n",
       "      <td>0.0</td>\n",
       "      <td>22.0</td>\n",
       "      <td>8.0</td>\n",
       "      <td>11.0</td>\n",
       "      <td>3.0</td>\n",
       "      <td>10.0</td>\n",
       "      <td>12.0</td>\n",
       "    </tr>\n",
       "    <tr>\n",
       "      <th>2</th>\n",
       "      <td>2017-12-07</td>\n",
       "      <td>4.0</td>\n",
       "      <td>5.0</td>\n",
       "      <td>2.0</td>\n",
       "      <td>2.0</td>\n",
       "      <td>5.0</td>\n",
       "      <td>3.0</td>\n",
       "      <td>5.0</td>\n",
       "      <td>0.0</td>\n",
       "      <td>0.0</td>\n",
       "      <td>2.0</td>\n",
       "      <td>2.0</td>\n",
       "      <td>0.0</td>\n",
       "      <td>30.0</td>\n",
       "      <td>4.0</td>\n",
       "      <td>17.0</td>\n",
       "      <td>9.0</td>\n",
       "      <td>16.0</td>\n",
       "      <td>14.0</td>\n",
       "    </tr>\n",
       "    <tr>\n",
       "      <th>3</th>\n",
       "      <td>2017-12-09</td>\n",
       "      <td>NaN</td>\n",
       "      <td>NaN</td>\n",
       "      <td>NaN</td>\n",
       "      <td>NaN</td>\n",
       "      <td>NaN</td>\n",
       "      <td>NaN</td>\n",
       "      <td>NaN</td>\n",
       "      <td>1.0</td>\n",
       "      <td>3.0</td>\n",
       "      <td>1.0</td>\n",
       "      <td>0.0</td>\n",
       "      <td>3.0</td>\n",
       "      <td>8.0</td>\n",
       "      <td>8.0</td>\n",
       "      <td>NaN</td>\n",
       "      <td>NaN</td>\n",
       "      <td>1.0</td>\n",
       "      <td>7.0</td>\n",
       "    </tr>\n",
       "    <tr>\n",
       "      <th>4</th>\n",
       "      <td>2017-12-10</td>\n",
       "      <td>4.0</td>\n",
       "      <td>7.0</td>\n",
       "      <td>0.0</td>\n",
       "      <td>2.0</td>\n",
       "      <td>2.0</td>\n",
       "      <td>0.0</td>\n",
       "      <td>0.0</td>\n",
       "      <td>NaN</td>\n",
       "      <td>NaN</td>\n",
       "      <td>NaN</td>\n",
       "      <td>NaN</td>\n",
       "      <td>NaN</td>\n",
       "      <td>15.0</td>\n",
       "      <td>NaN</td>\n",
       "      <td>4.0</td>\n",
       "      <td>11.0</td>\n",
       "      <td>11.0</td>\n",
       "      <td>4.0</td>\n",
       "    </tr>\n",
       "    <tr>\n",
       "      <th>5</th>\n",
       "      <td>2017-12-12</td>\n",
       "      <td>3.0</td>\n",
       "      <td>1.0</td>\n",
       "      <td>3.0</td>\n",
       "      <td>2.0</td>\n",
       "      <td>4.0</td>\n",
       "      <td>1.0</td>\n",
       "      <td>1.0</td>\n",
       "      <td>1.0</td>\n",
       "      <td>1.0</td>\n",
       "      <td>5.0</td>\n",
       "      <td>1.0</td>\n",
       "      <td>3.0</td>\n",
       "      <td>26.0</td>\n",
       "      <td>11.0</td>\n",
       "      <td>11.0</td>\n",
       "      <td>4.0</td>\n",
       "      <td>9.0</td>\n",
       "      <td>17.0</td>\n",
       "    </tr>\n",
       "  </tbody>\n",
       "</table>\n",
       "</div>"
      ],
      "text/plain": [
       "         Date  Ross  Chandler  BT1  BT2  BT3  BT4  BT5  GR1  GR2  GR3  GR4  \\\n",
       "1  2017-12-05   3.0       0.0  4.0  3.0  0.0  2.0  2.0  1.0  1.0  3.0  3.0   \n",
       "2  2017-12-07   4.0       5.0  2.0  2.0  5.0  3.0  5.0  0.0  0.0  2.0  2.0   \n",
       "3  2017-12-09   NaN       NaN  NaN  NaN  NaN  NaN  NaN  1.0  3.0  1.0  0.0   \n",
       "4  2017-12-10   4.0       7.0  0.0  2.0  2.0  0.0  0.0  NaN  NaN  NaN  NaN   \n",
       "5  2017-12-12   3.0       1.0  3.0  2.0  4.0  1.0  1.0  1.0  1.0  5.0  1.0   \n",
       "\n",
       "   GR5  Total:   All_GR  All_BT  All_SS  male  female  \n",
       "1  0.0     22.0     8.0    11.0     3.0  10.0    12.0  \n",
       "2  0.0     30.0     4.0    17.0     9.0  16.0    14.0  \n",
       "3  3.0      8.0     8.0     NaN     NaN   1.0     7.0  \n",
       "4  NaN     15.0     NaN     4.0    11.0  11.0     4.0  \n",
       "5  3.0     26.0    11.0    11.0     4.0   9.0    17.0  "
      ]
     },
     "execution_count": 9,
     "metadata": {},
     "output_type": "execute_result"
    }
   ],
   "source": [
    "targets.head()"
   ]
  },
  {
   "cell_type": "markdown",
   "metadata": {},
   "source": [
    "# T test for Shutdown vs. Open Groups"
   ]
  },
  {
   "cell_type": "markdown",
   "metadata": {},
   "source": [
    "# Number of Pieces Eaten"
   ]
  },
  {
   "cell_type": "code",
   "execution_count": 10,
   "metadata": {},
   "outputs": [],
   "source": [
    "start_date = pd.to_datetime('03-14-2020')\n",
    "end_date = pd.to_datetime('05-09-2020')\n",
    "corona_times_eat = (eat['Date'] >= start_date) & (eat['Date'] < end_date)\n",
    "corona_eat = eat[corona_times_eat]\n",
    "\n",
    "# Create dataset of the all the time that the Aquarium was open to the public to compare\n",
    "open_eat_times = (eat['Date'] < start_date) | (eat['Date'] >= end_date)\n",
    "open_eat = eat[open_eat_times]"
   ]
  },
  {
   "cell_type": "code",
   "execution_count": 11,
   "metadata": {},
   "outputs": [
    {
     "name": "stdout",
     "output_type": "stream",
     "text": [
      "Ross : Test Statistic = -1.61396 P-Value = 0.10726\n",
      "Chandler : Test Statistic = -0.40546 P-Value = 0.68534\n",
      "BT1 : Test Statistic = -0.49799 P-Value = 0.61874\n",
      "BT2 : Test Statistic = 2.87097 P-Value = 0.00429\n",
      "BT3 : Test Statistic = -1.95872 P-Value = 0.05078\n",
      "BT4 : Test Statistic = -0.20414 P-Value = 0.83834\n",
      "BT5 : Test Statistic = -1.04968 P-Value = 0.29445\n",
      "GR1 : Test Statistic = -1.05797 P-Value = 0.29066\n",
      "GR2 : Test Statistic = -1.38793 P-Value = 0.16587\n",
      "GR3 : Test Statistic = -0.11202 P-Value = 0.91086\n",
      "GR4 : Test Statistic = -0.90367 P-Value = 0.36667\n",
      "GR5 : Test Statistic = -1.37777 P-Value = 0.16898\n",
      "Total:  : Test Statistic = -0.81231 P-Value = 0.41695\n"
     ]
    }
   ],
   "source": [
    "# Perform T-Test for each individual Shark\n",
    "for column in All_Sharks:\n",
    "    twosample_results = st.ttest_ind(corona_eat[column], open_eat[column],nan_policy='omit')\n",
    "    print(column, \": Test Statistic =\" ,round(twosample_results[0], 5), \"P-Value =\", round(twosample_results[1], 5))"
   ]
  },
  {
   "cell_type": "code",
   "execution_count": 12,
   "metadata": {},
   "outputs": [
    {
     "name": "stdout",
     "output_type": "stream",
     "text": [
      "male : Test Statistic = -1.09837 P-Value = 0.2725\n",
      "female : Test Statistic = -0.1688 P-Value = 0.86602\n",
      "All_GR : Test Statistic = -1.756 P-Value = 0.07979\n",
      "All_BT : Test Statistic = -0.24767 P-Value = 0.8045\n",
      "All_SS : Test Statistic = -1.44172 P-Value = 0.1501\n"
     ]
    }
   ],
   "source": [
    "# Perform T-Test for species and genders\n",
    "gender_and_species = eat[['male', 'female', 'All_GR', 'All_BT', 'All_SS']]\n",
    "for column in gender_and_species:\n",
    "    twosample_results = st.ttest_ind(corona_eat[column], open_eat[column],nan_policy='omit')\n",
    "    print(column, \": Test Statistic =\" ,round(twosample_results[0], 5), \"P-Value =\", round(twosample_results[1], 5))"
   ]
  },
  {
   "cell_type": "markdown",
   "metadata": {},
   "source": [
    "After correcting for the number of T-tests, these are the significant p-values for each subset:"
   ]
  },
  {
   "cell_type": "code",
   "execution_count": 13,
   "metadata": {},
   "outputs": [
    {
     "name": "stdout",
     "output_type": "stream",
     "text": [
      "Individual Sharks: 0.00417\n",
      "Species: 0.01667\n",
      "Male/Female 0.025\n",
      "Total: 0.05\n"
     ]
    }
   ],
   "source": [
    "print('Individual Sharks:', round(0.05 / 12, 5))\n",
    "print('Species:', round(0.05 / 3, 5))\n",
    "print(\"Male/Female\", round(0.05 / 2, 5))\n",
    "print(\"Total:\", 0.05)"
   ]
  },
  {
   "cell_type": "markdown",
   "metadata": {},
   "source": [
    "Based on these significant values, there are no significant p-values from any individual shark or subset as a result of our T-tests. We can conclude that there was no significant difference in the number of pieces eaten between the COVID lockdown and the time the Aquarium was open to the public."
   ]
  },
  {
   "cell_type": "markdown",
   "metadata": {},
   "source": [
    "# Number of Pieces Dropped"
   ]
  },
  {
   "cell_type": "code",
   "execution_count": 14,
   "metadata": {},
   "outputs": [],
   "source": [
    "# Create Drops Data for Corona time and open to the public time to perform T-Test\n",
    "corona_times_drop = (drops['Drops'] >= start_date) & (drops['Drops'] < end_date)\n",
    "corona_drop = drops[corona_times_drop]\n",
    "\n",
    "# Create dataset of the all the time that the Aquarium was open to the public to compare\n",
    "open_drop_times = (drops['Drops'] < start_date) | (drops['Drops'] >= end_date)\n",
    "open_drop = drops[open_drop_times]"
   ]
  },
  {
   "cell_type": "code",
   "execution_count": 15,
   "metadata": {},
   "outputs": [
    {
     "name": "stdout",
     "output_type": "stream",
     "text": [
      "Ross : Test Statistic = 1.58969 P-Value = 0.11263\n",
      "Chandler : Test Statistic = 0.43535 P-Value = 0.66352\n",
      "BT1 : Test Statistic = 0.24058 P-Value = 0.80999\n",
      "BT2 : Test Statistic = 3.89072 P-Value = 0.00012\n",
      "BT3 : Test Statistic = 1.67011 P-Value = 0.09562\n",
      "BT4 : Test Statistic = 2.15166 P-Value = 0.03197\n",
      "BT5 : Test Statistic = 3.07718 P-Value = 0.00222\n",
      "GR1 : Test Statistic = -0.29879 P-Value = 0.76525\n",
      "GR2 : Test Statistic = 0.35249 P-Value = 0.72464\n",
      "GR3 : Test Statistic = 0.49377 P-Value = 0.62171\n",
      "GR4 : Test Statistic = 0.61508 P-Value = 0.53882\n",
      "GR5 : Test Statistic = 0.16739 P-Value = 0.86714\n",
      "Total:  : Test Statistic = 3.54939 P-Value = 0.00042\n"
     ]
    }
   ],
   "source": [
    "# Perform T-Test for each individual Shark\n",
    "for column in All_Sharks:\n",
    "    twosample_results = st.ttest_ind(corona_drop[column], open_drop[column],nan_policy='omit')\n",
    "    print(column, \": Test Statistic =\" ,round(twosample_results[0],5), \"P-Value =\", round(twosample_results[1],5))"
   ]
  },
  {
   "cell_type": "code",
   "execution_count": 16,
   "metadata": {
    "scrolled": true
   },
   "outputs": [
    {
     "name": "stdout",
     "output_type": "stream",
     "text": [
      "male : Test Statistic = 1.84951 P-Value = 0.06489\n",
      "female : Test Statistic = 3.64153 P-Value = 0.0003\n",
      "All_GR : Test Statistic = 0.57308 P-Value = 0.56689\n",
      "All_BT : Test Statistic = 4.29426 P-Value = 2e-05\n",
      "All_SS : Test Statistic = 1.17782 P-Value = 0.23951\n"
     ]
    }
   ],
   "source": [
    "# Perform T-Test for species and genders\n",
    "gender_and_species_drop = drops[['male', 'female', 'All_GR', 'All_BT', 'All_SS']]\n",
    "for column in gender_and_species_drop:\n",
    "    twosample_results = st.ttest_ind(corona_drop[column], open_drop[column],nan_policy='omit')\n",
    "    print(column, \": Test Statistic =\" ,round(twosample_results[0],5), \"P-Value =\", round(twosample_results[1],5))"
   ]
  },
  {
   "cell_type": "markdown",
   "metadata": {},
   "source": [
    "Blacktip2 and Blcktip5 have significant p-values for drops, as well as the Blacktip subset and the female subset"
   ]
  },
  {
   "cell_type": "markdown",
   "metadata": {},
   "source": [
    "# Number of Times Targeted"
   ]
  },
  {
   "cell_type": "code",
   "execution_count": 17,
   "metadata": {},
   "outputs": [],
   "source": [
    "# Create Target Data for Corona time and open to the public time to perform T-Test\n",
    "corona_times_target = (targets['Date'] >= start_date) & (targets['Date'] < end_date)\n",
    "corona_target = targets[corona_times_target]\n",
    "\n",
    "# Create dataset of the all the time that the Aquarium was open to the public to compare\n",
    "open_target_times = (targets['Date'] < start_date) | (targets['Date'] >= end_date)\n",
    "open_target = targets[open_target_times]"
   ]
  },
  {
   "cell_type": "code",
   "execution_count": 18,
   "metadata": {},
   "outputs": [
    {
     "name": "stdout",
     "output_type": "stream",
     "text": [
      "Ross : Test Statistic = -2.2993 P-Value = 0.02196\n",
      "Chandler : Test Statistic = -1.63313 P-Value = 0.10317\n",
      "BT1 : Test Statistic = -1.53598 P-Value = 0.12527\n",
      "BT2 : Test Statistic = 1.64821 P-Value = 0.10003\n",
      "BT3 : Test Statistic = 0.75754 P-Value = 0.44914\n",
      "BT4 : Test Statistic = 0.37776 P-Value = 0.70579\n",
      "BT5 : Test Statistic = -1.69312 P-Value = 0.09115\n",
      "GR1 : Test Statistic = -1.81694 P-Value = 0.06991\n",
      "GR2 : Test Statistic = -0.29126 P-Value = 0.77099\n",
      "GR3 : Test Statistic = -0.97071 P-Value = 0.33223\n",
      "GR4 : Test Statistic = 0.29916 P-Value = 0.76496\n",
      "GR5 : Test Statistic = -1.80879 P-Value = 0.07117\n",
      "Total:  : Test Statistic = -1.05584 P-Value = 0.29148\n"
     ]
    }
   ],
   "source": [
    "# Perform T-Test for each individual Shark\n",
    "for column in All_Sharks:\n",
    "    twosample_results = st.ttest_ind(corona_target[column], open_target[column],nan_policy='omit')\n",
    "    print(column, \": Test Statistic =\" ,round(twosample_results[0],5), \"P-Value =\", round(twosample_results[1],5))"
   ]
  },
  {
   "cell_type": "code",
   "execution_count": 19,
   "metadata": {},
   "outputs": [
    {
     "name": "stdout",
     "output_type": "stream",
     "text": [
      "male : Test Statistic = -1.86336 P-Value = 0.06292\n",
      "female : Test Statistic = 0.42712 P-Value = 0.66945\n",
      "All_GR : Test Statistic = -1.45035 P-Value = 0.14768\n",
      "All_BT : Test Statistic = -0.27715 P-Value = 0.7818\n",
      "All_SS : Test Statistic = -2.35684 P-Value = 0.01887\n"
     ]
    }
   ],
   "source": [
    "# Perform T-Test for species and genders\n",
    "gender_and_species_target = targets[['male', 'female', 'All_GR', 'All_BT', 'All_SS']]\n",
    "for column in gender_and_species_target:\n",
    "    twosample_results = st.ttest_ind(corona_target[column], open_target[column],nan_policy='omit')\n",
    "    print(column, \": Test Statistic =\" ,round(twosample_results[0],5), \"P-Value =\", round(twosample_results[1],5))"
   ]
  },
  {
   "cell_type": "markdown",
   "metadata": {},
   "source": [
    "There were no significant p-values in terms of number of pieces dropped between COVID times and regular open times."
   ]
  },
  {
   "cell_type": "markdown",
   "metadata": {},
   "source": [
    "# T tests for Light Training Vs. No Light Training"
   ]
  },
  {
   "cell_type": "markdown",
   "metadata": {},
   "source": [
    "Since there were only 41 entries in our data that did not include light training, we will compare this time period with the 40 days immediately after light training began, the final 40 days of our dataset, and to all the days that did not have light training to see if there are significant differences in any of the dates."
   ]
  },
  {
   "cell_type": "markdown",
   "metadata": {},
   "source": [
    "# Number of Pieces Eaten"
   ]
  },
  {
   "cell_type": "code",
   "execution_count": 20,
   "metadata": {},
   "outputs": [],
   "source": [
    "# Create dataset that includes days without light training\n",
    "start_date = pd.to_datetime('02-15-2018')\n",
    "#end_date = pd.to_datetime('05-09-2020')\n",
    "no_light_e = (eat['Date'] < start_date)\n",
    "no_light_eat = eat[no_light_e]\n",
    "\n",
    "# Create dataset of first 40 days after light training was introduced\n",
    "first_40 = (eat[\"Date\"] >= start_date) & (eat[\"Date\"] <= pd.to_datetime('04-28-2018'))\n",
    "first_40_eat = eat[first_40]\n",
    "\n",
    "# Create dataset of last 40 days of dataset\n",
    "last_40 = eat.iloc[-40:]\n",
    "\n",
    "# Create dataset of all non light training days\n",
    "light = eat['Date'] >= start_date\n",
    "light_eat = eat[light]"
   ]
  },
  {
   "cell_type": "markdown",
   "metadata": {},
   "source": [
    "First we will perform the T-test between the no light training group and the first 40 days after light training was introduced:"
   ]
  },
  {
   "cell_type": "code",
   "execution_count": 21,
   "metadata": {
    "scrolled": true
   },
   "outputs": [
    {
     "name": "stdout",
     "output_type": "stream",
     "text": [
      "Ross : Test Statistic = -1.41029 P-Value = 0.16362\n",
      "Chandler : Test Statistic = -1.97072 P-Value = 0.05337\n",
      "BT1 : Test Statistic = 0.08784 P-Value = 0.9303\n",
      "BT2 : Test Statistic = 0.14512 P-Value = 0.8851\n",
      "BT3 : Test Statistic = 0.62961 P-Value = 0.53134\n",
      "BT4 : Test Statistic = -0.64733 P-Value = 0.51989\n",
      "BT5 : Test Statistic = 0.22961 P-Value = 0.81919\n",
      "GR1 : Test Statistic = 1.15358 P-Value = 0.25317\n",
      "GR2 : Test Statistic = 0.19689 P-Value = 0.84457\n",
      "GR3 : Test Statistic = 1.61052 P-Value = 0.11245\n",
      "GR4 : Test Statistic = 0.02983 P-Value = 0.9763\n",
      "GR5 : Test Statistic = -1.54532 P-Value = 0.12744\n",
      "Total:  : Test Statistic = -0.29934 P-Value = 0.76545\n"
     ]
    }
   ],
   "source": [
    "# Perform T-Test for each individual Shark\n",
    "for column in All_Sharks:\n",
    "    twosample_results = st.ttest_ind(no_light_eat[column], first_40_eat[column],nan_policy='omit')\n",
    "    print(column, \": Test Statistic =\" ,round(twosample_results[0], 5), \"P-Value =\", round(twosample_results[1], 5))"
   ]
  },
  {
   "cell_type": "code",
   "execution_count": 22,
   "metadata": {},
   "outputs": [
    {
     "name": "stdout",
     "output_type": "stream",
     "text": [
      "male : Test Statistic = -1.20314 P-Value = 0.23247\n",
      "female : Test Statistic = 0.11406 P-Value = 0.90947\n",
      "All_GR : Test Statistic = 0.57841 P-Value = 0.56512\n",
      "All_BT : Test Statistic = 0.33383 P-Value = 0.73969\n",
      "All_SS : Test Statistic = -2.19435 P-Value = 0.03209\n"
     ]
    }
   ],
   "source": [
    "# Perform T-Test for species and genders\n",
    "for column in gender_and_species:\n",
    "    twosample_results = st.ttest_ind(no_light_eat[column], first_40_eat[column],nan_policy='omit')\n",
    "    print(column, \": Test Statistic =\" ,round(twosample_results[0], 5), \"P-Value =\", round(twosample_results[1], 5))"
   ]
  },
  {
   "cell_type": "markdown",
   "metadata": {},
   "source": [
    "There were no significant p-values when conducting the T-tests between the time frame with no light training and the first 40 days of light training. Next we will perform the T-test between the no light training time frame and the last 40 days of the dataset wit hlight training used:"
   ]
  },
  {
   "cell_type": "code",
   "execution_count": 23,
   "metadata": {},
   "outputs": [
    {
     "name": "stdout",
     "output_type": "stream",
     "text": [
      "Ross : Test Statistic = -1.26515 P-Value = 0.2107924558\n",
      "Chandler : Test Statistic = -3.15646 P-Value = 0.0025152465\n",
      "BT1 : Test Statistic = -1.12999 P-Value = 0.2630534188\n",
      "BT2 : Test Statistic = -2.74599 P-Value = 0.0079850899\n",
      "BT3 : Test Statistic = -1.79207 P-Value = 0.0782491067\n",
      "BT4 : Test Statistic = -3.42741 P-Value = 0.0011163556\n",
      "BT5 : Test Statistic = -3.94279 P-Value = 0.0002194297\n",
      "GR1 : Test Statistic = -3.30711 P-Value = 0.0016085972\n",
      "GR2 : Test Statistic = -1.72522 P-Value = 0.0897235664\n",
      "GR3 : Test Statistic = -0.28503 P-Value = 0.7766165661\n",
      "GR4 : Test Statistic = -2.15341 P-Value = 0.0353844967\n",
      "GR5 : Test Statistic = -3.87084 P-Value = 0.0002738381\n",
      "Total:  : Test Statistic = -5.0205 P-Value = 3.1196e-06\n"
     ]
    }
   ],
   "source": [
    "# Perform T-Test for each individual Shark\n",
    "for column in All_Sharks:\n",
    "    twosample_results = st.ttest_ind(no_light_eat[column], last_40[column],nan_policy='omit')\n",
    "    print(column, \": Test Statistic =\" ,round(twosample_results[0], 5), \"P-Value =\", round(twosample_results[1], 10))"
   ]
  },
  {
   "cell_type": "code",
   "execution_count": 24,
   "metadata": {},
   "outputs": [
    {
     "name": "stdout",
     "output_type": "stream",
     "text": [
      "male : Test Statistic = -4.21881 P-Value = 6e-05\n",
      "female : Test Statistic = -3.94547 P-Value = 0.00017\n",
      "All_GR : Test Statistic = -4.64421 P-Value = 2e-05\n",
      "All_BT : Test Statistic = -4.57361 P-Value = 3e-05\n",
      "All_SS : Test Statistic = -3.75821 P-Value = 0.00039\n"
     ]
    }
   ],
   "source": [
    "# Perform T-Test for species and genders\n",
    "for column in gender_and_species:\n",
    "    twosample_results = st.ttest_ind(no_light_eat[column], last_40[column],nan_policy='omit')\n",
    "    print(column, \": Test Statistic =\" ,round(twosample_results[0], 5), \"P-Value =\", round(twosample_results[1], 5))"
   ]
  },
  {
   "cell_type": "markdown",
   "metadata": {},
   "source": [
    "Chandler, BT4, BT5, GR1, GR5, males, females, All_GR, All_BT, All_SS, and the total were all significant. This shows evidence that the sharks may have improved over time with the number of the fish they ate because of light training. Now we will compare the time frame of no light training with the whole time frame of light training:"
   ]
  },
  {
   "cell_type": "code",
   "execution_count": 25,
   "metadata": {},
   "outputs": [
    {
     "name": "stdout",
     "output_type": "stream",
     "text": [
      "Ross : Test Statistic = -0.52385 P-Value = 0.6006489928\n",
      "Chandler : Test Statistic = -1.69831 P-Value = 0.0901602489\n",
      "BT1 : Test Statistic = -1.33223 P-Value = 0.1834797438\n",
      "BT2 : Test Statistic = -2.51846 P-Value = 0.0121439573\n",
      "BT3 : Test Statistic = -0.6316 P-Value = 0.5279772593\n",
      "BT4 : Test Statistic = -2.93365 P-Value = 0.0035267242\n",
      "BT5 : Test Statistic = -2.16195 P-Value = 0.0311677576\n",
      "GR1 : Test Statistic = -1.46375 P-Value = 0.1439840385\n",
      "GR2 : Test Statistic = -1.34015 P-Value = 0.1808965732\n",
      "GR3 : Test Statistic = 0.36902 P-Value = 0.7122952273\n",
      "GR4 : Test Statistic = -1.19187 P-Value = 0.2339604589\n",
      "GR5 : Test Statistic = -2.40969 P-Value = 0.0163802393\n",
      "Total:  : Test Statistic = -3.37587 P-Value = 0.0007851421\n"
     ]
    }
   ],
   "source": [
    "# Perform T-Test for each individual Shark\n",
    "for column in All_Sharks:\n",
    "    twosample_results = st.ttest_ind(no_light_eat[column], light_eat[column],nan_policy='omit')\n",
    "    print(column, \": Test Statistic =\" ,round(twosample_results[0], 5), \"P-Value =\", round(twosample_results[1], 10))"
   ]
  },
  {
   "cell_type": "code",
   "execution_count": 26,
   "metadata": {},
   "outputs": [
    {
     "name": "stdout",
     "output_type": "stream",
     "text": [
      "male : Test Statistic = -2.25547 P-Value = 0.02448\n",
      "female : Test Statistic = -3.15556 P-Value = 0.00168\n",
      "All_GR : Test Statistic = -2.18877 P-Value = 0.02914\n",
      "All_BT : Test Statistic = -3.56903 P-Value = 0.0004\n",
      "All_SS : Test Statistic = -1.55598 P-Value = 0.12044\n"
     ]
    }
   ],
   "source": [
    "# Perform T-Test for species and genders\n",
    "for column in gender_and_species:\n",
    "    twosample_results = st.ttest_ind(no_light_eat[column], light_eat[column],nan_policy='omit')\n",
    "    print(column, \": Test Statistic =\" ,round(twosample_results[0], 5), \"P-Value =\", round(twosample_results[1], 5))"
   ]
  },
  {
   "cell_type": "markdown",
   "metadata": {},
   "source": [
    "The total p-value was significant, along with the male, female, All_GR, and All_BT subsets. This is a good indicator that teh light training has a significant effect on the number of fish the sharks eat."
   ]
  },
  {
   "cell_type": "markdown",
   "metadata": {},
   "source": [
    "# Number of Drops"
   ]
  },
  {
   "cell_type": "code",
   "execution_count": 27,
   "metadata": {},
   "outputs": [],
   "source": [
    "# Create dataset that includes days without light training\n",
    "\n",
    "no_light_d = (drops['Drops'] < start_date)\n",
    "no_light_drops = drops[no_light_d]\n",
    "\n",
    "# Create dataset of first 40 days after light training was introduced\n",
    "first_40_d = (drops[\"Drops\"] >= start_date) & (drops[\"Drops\"] <= pd.to_datetime('04-28-2018'))\n",
    "first_40_drops = drops[first_40_d]\n",
    "\n",
    "# Create dataset of last 40 days of dataset\n",
    "last_40_d = drops.iloc[-40:]\n",
    "\n",
    "# Create dataset of all non light training days\n",
    "light_d = drops['Drops'] >= start_date\n",
    "light_drops = drops[light_d]"
   ]
  },
  {
   "cell_type": "markdown",
   "metadata": {},
   "source": [
    "First we will perform the T-test between the no light training group and the first 40 days after light training was introduced:"
   ]
  },
  {
   "cell_type": "code",
   "execution_count": 28,
   "metadata": {},
   "outputs": [
    {
     "name": "stdout",
     "output_type": "stream",
     "text": [
      "Ross : Test Statistic = -0.45676 P-Value = 0.64955\n",
      "Chandler : Test Statistic = -2.18551 P-Value = 0.0329\n",
      "BT1 : Test Statistic = 0.61463 P-Value = 0.54116\n",
      "BT2 : Test Statistic = 0.09473 P-Value = 0.92485\n",
      "BT3 : Test Statistic = 0.87148 P-Value = 0.38702\n",
      "BT4 : Test Statistic = -0.75221 P-Value = 0.45492\n",
      "BT5 : Test Statistic = 0.87357 P-Value = 0.38589\n",
      "GR1 : Test Statistic = 1.91708 P-Value = 0.05992\n",
      "GR2 : Test Statistic = 1.08847 P-Value = 0.28067\n",
      "GR3 : Test Statistic = 1.31692 P-Value = 0.19279\n",
      "GR4 : Test Statistic = 0.94443 P-Value = 0.34867\n",
      "GR5 : Test Statistic = -0.70028 P-Value = 0.48641\n",
      "Total:  : Test Statistic = 0.40096 P-Value = 0.68953\n"
     ]
    }
   ],
   "source": [
    "# Perform T-Test for each individual Shark\n",
    "for column in All_Sharks:\n",
    "    twosample_results = st.ttest_ind(no_light_drops[column], first_40_drops[column],nan_policy='omit')\n",
    "    print(column, \": Test Statistic =\" ,round(twosample_results[0], 5), \"P-Value =\", round(twosample_results[1], 5))"
   ]
  },
  {
   "cell_type": "code",
   "execution_count": 29,
   "metadata": {},
   "outputs": [
    {
     "name": "stdout",
     "output_type": "stream",
     "text": [
      "male : Test Statistic = 0.33205 P-Value = 0.74073\n",
      "female : Test Statistic = 0.96797 P-Value = 0.33601\n",
      "All_GR : Test Statistic = 1.54525 P-Value = 0.12746\n",
      "All_BT : Test Statistic = 0.85347 P-Value = 0.39685\n",
      "All_SS : Test Statistic = -1.82788 P-Value = 0.07271\n"
     ]
    }
   ],
   "source": [
    "# Perform T-Test for species and genders\n",
    "for column in gender_and_species:\n",
    "    twosample_results = st.ttest_ind(no_light_drops[column], first_40_drops[column],nan_policy='omit')\n",
    "    print(column, \": Test Statistic =\" ,round(twosample_results[0], 5), \"P-Value =\", round(twosample_results[1], 5))"
   ]
  },
  {
   "cell_type": "markdown",
   "metadata": {},
   "source": [
    "There were no significant P-values between the no light training time frame and the subset of the first 40 days. Now we will compare the last 40 days of the dataset to the days with no light training:"
   ]
  },
  {
   "cell_type": "code",
   "execution_count": 30,
   "metadata": {},
   "outputs": [
    {
     "name": "stdout",
     "output_type": "stream",
     "text": [
      "Ross : Test Statistic = 2.50405 P-Value = 0.01511\n",
      "Chandler : Test Statistic = -0.79993 P-Value = 0.42701\n",
      "BT1 : Test Statistic = 1.31062 P-Value = 0.19515\n",
      "BT2 : Test Statistic = -0.3721 P-Value = 0.71117\n",
      "BT3 : Test Statistic = 1.21852 P-Value = 0.22796\n",
      "BT4 : Test Statistic = 0.88681 P-Value = 0.37884\n",
      "BT5 : Test Statistic = 0.12891 P-Value = 0.89787\n",
      "GR1 : Test Statistic = 1.9847 P-Value = 0.05183\n",
      "GR2 : Test Statistic = -0.8929 P-Value = 0.37554\n",
      "GR3 : Test Statistic = 1.65647 P-Value = 0.10294\n",
      "GR4 : Test Statistic = 1.59695 P-Value = 0.11562\n",
      "GR5 : Test Statistic = -2.03061 P-Value = 0.04681\n",
      "Total:  : Test Statistic = 1.09082 P-Value = 0.27871\n"
     ]
    }
   ],
   "source": [
    "# Perform T-Test for each individual Shark\n",
    "for column in All_Sharks:\n",
    "    twosample_results = st.ttest_ind(no_light_drops[column], last_40_d[column],nan_policy='omit')\n",
    "    print(column, \": Test Statistic =\" ,round(twosample_results[0], 5), \"P-Value =\", round(twosample_results[1], 5))"
   ]
  },
  {
   "cell_type": "code",
   "execution_count": 31,
   "metadata": {},
   "outputs": [
    {
     "name": "stdout",
     "output_type": "stream",
     "text": [
      "male : Test Statistic = 1.32292 P-Value = 0.18973\n",
      "female : Test Statistic = 0.93319 P-Value = 0.3536\n",
      "All_GR : Test Statistic = 1.03868 P-Value = 0.30319\n",
      "All_BT : Test Statistic = 1.35082 P-Value = 0.182\n",
      "All_SS : Test Statistic = 0.37817 P-Value = 0.70668\n"
     ]
    }
   ],
   "source": [
    "# Perform T-Test for species and genders\n",
    "for column in gender_and_species:\n",
    "    twosample_results = st.ttest_ind(no_light_drops[column], last_40_d[column],nan_policy='omit')\n",
    "    print(column, \": Test Statistic =\" ,round(twosample_results[0], 5), \"P-Value =\", round(twosample_results[1], 5))"
   ]
  },
  {
   "cell_type": "markdown",
   "metadata": {},
   "source": [
    "There were no significant P-values between the subset of no light training and the last 40 days subset. Now we will look at the no light training subset and the light training subset as a whole:"
   ]
  },
  {
   "cell_type": "code",
   "execution_count": 32,
   "metadata": {},
   "outputs": [
    {
     "name": "stdout",
     "output_type": "stream",
     "text": [
      "Ross : Test Statistic = 1.9177 P-Value = 0.0558\n",
      "Chandler : Test Statistic = 0.45865 P-Value = 0.64671\n",
      "BT1 : Test Statistic = 2.36659 P-Value = 0.01839\n",
      "BT2 : Test Statistic = -0.4617 P-Value = 0.64453\n",
      "BT3 : Test Statistic = 0.63897 P-Value = 0.52318\n",
      "BT4 : Test Statistic = -0.30976 P-Value = 0.75689\n",
      "BT5 : Test Statistic = 0.8157 P-Value = 0.41512\n",
      "GR1 : Test Statistic = 3.8595 P-Value = 0.00013\n",
      "GR2 : Test Statistic = -0.3634 P-Value = 0.71648\n",
      "GR3 : Test Statistic = 3.37785 P-Value = 0.0008\n",
      "GR4 : Test Statistic = 2.04736 P-Value = 0.04122\n",
      "GR5 : Test Statistic = -0.36774 P-Value = 0.71325\n",
      "Total:  : Test Statistic = 1.74169 P-Value = 0.08209\n"
     ]
    }
   ],
   "source": [
    "# Perform T-Test for each individual Shark\n",
    "for column in All_Sharks:\n",
    "    twosample_results = st.ttest_ind(no_light_drops[column], light_drops[column],nan_policy='omit')\n",
    "    print(column, \": Test Statistic =\" ,round(twosample_results[0], 5), \"P-Value =\", round(twosample_results[1], 5))"
   ]
  },
  {
   "cell_type": "code",
   "execution_count": 33,
   "metadata": {},
   "outputs": [
    {
     "name": "stdout",
     "output_type": "stream",
     "text": [
      "male : Test Statistic = 2.9715 P-Value = 0.00309\n",
      "female : Test Statistic = 1.05099 P-Value = 0.2937\n",
      "All_GR : Test Statistic = 3.19281 P-Value = 0.00151\n",
      "All_BT : Test Statistic = 1.26563 P-Value = 0.20633\n",
      "All_SS : Test Statistic = 1.36852 P-Value = 0.17185\n"
     ]
    }
   ],
   "source": [
    "# Perform T-Test for species and genders\n",
    "for column in gender_and_species:\n",
    "    twosample_results = st.ttest_ind(no_light_drops[column], light_drops[column],nan_policy='omit')\n",
    "    print(column, \": Test Statistic =\" ,round(twosample_results[0], 5), \"P-Value =\", round(twosample_results[1], 5))"
   ]
  },
  {
   "cell_type": "markdown",
   "metadata": {},
   "source": [
    "The only significant P-value between the non-light training and light training groups was the All_GR, as well as GR1 and GR3 subset, so this is a good indicator the light training does not significantly effect the number of drops."
   ]
  },
  {
   "cell_type": "markdown",
   "metadata": {},
   "source": [
    "# Number of Targets"
   ]
  },
  {
   "cell_type": "code",
   "execution_count": 34,
   "metadata": {},
   "outputs": [],
   "source": [
    "# Create dataset that includes days without light training\n",
    "\n",
    "no_light_t = (targets['Date'] < start_date)\n",
    "no_light_targets = targets[no_light_t]\n",
    "\n",
    "# Create dataset of first 40 days after light training was introduced\n",
    "first_40_t = (targets[\"Date\"] >= start_date) & (targets[\"Date\"] <= pd.to_datetime('04-28-2018'))\n",
    "first_40_targets = drops[first_40_t]\n",
    "\n",
    "# Create dataset of last 40 days of dataset\n",
    "last_40_t = targets.iloc[-40:]\n",
    "\n",
    "# Create dataset of all non light training days\n",
    "light_t = drops['Drops'] >= start_date\n",
    "light_targets = drops[light_t]"
   ]
  },
  {
   "cell_type": "markdown",
   "metadata": {},
   "source": [
    "First we will coparethe no light training subset to the first 40 days after light training started subset:"
   ]
  },
  {
   "cell_type": "code",
   "execution_count": 35,
   "metadata": {},
   "outputs": [
    {
     "name": "stdout",
     "output_type": "stream",
     "text": [
      "Ross : Test Statistic = 7.4382 P-Value = 5e-10\n",
      "Chandler : Test Statistic = 6.86537 P-Value = 4.9e-09\n",
      "BT1 : Test Statistic = 5.70262 P-Value = 4.006e-07\n",
      "BT2 : Test Statistic = 6.79503 P-Value = 6e-09\n",
      "BT3 : Test Statistic = 8.50252 P-Value = 0.0\n",
      "BT4 : Test Statistic = 7.1884 P-Value = 1.3e-09\n",
      "BT5 : Test Statistic = 6.01022 P-Value = 1.244e-07\n",
      "GR1 : Test Statistic = 6.51826 P-Value = 1.55e-08\n",
      "GR2 : Test Statistic = 5.63541 P-Value = 4.745e-07\n",
      "GR3 : Test Statistic = 6.97731 P-Value = 2.5e-09\n",
      "GR4 : Test Statistic = 5.20761 P-Value = 2.382e-06\n",
      "GR5 : Test Statistic = 3.07409 P-Value = 0.0031560435\n",
      "Total:  : Test Statistic = 10.28547 P-Value = 0.0\n"
     ]
    }
   ],
   "source": [
    "# Perform T-Test for each individual Shark\n",
    "for column in All_Sharks:\n",
    "    twosample_results = st.ttest_ind(no_light_targets[column], first_40_targets[column],nan_policy='omit')\n",
    "    print(column, \": Test Statistic =\" ,round(twosample_results[0], 5), \"P-Value =\", round(twosample_results[1], 10))"
   ]
  },
  {
   "cell_type": "code",
   "execution_count": 36,
   "metadata": {},
   "outputs": [
    {
     "name": "stdout",
     "output_type": "stream",
     "text": [
      "male : Test Statistic = 7.78718 P-Value = 0.0\n",
      "female : Test Statistic = 10.8431 P-Value = 0.0\n",
      "All_GR : Test Statistic = 8.99048 P-Value = 0.0\n",
      "All_BT : Test Statistic = 9.57083 P-Value = 0.0\n",
      "All_SS : Test Statistic = 7.76162 P-Value = 2e-10\n"
     ]
    }
   ],
   "source": [
    "# Perform T-Test for species and genders\n",
    "for column in gender_and_species:\n",
    "    twosample_results = st.ttest_ind(no_light_targets[column], first_40_targets[column],nan_policy='omit')\n",
    "    print(column, \": Test Statistic =\" ,round(twosample_results[0], 5), \"P-Value =\", round(twosample_results[1], 10))"
   ]
  },
  {
   "cell_type": "markdown",
   "metadata": {},
   "source": [
    "Almost every single P-value is significant. This would make sense since the light training probably was a shock to the sharks at first and either didn't target as much or targeted more. Now we will compare the non-light training subset to the last 40 days of light training subset:"
   ]
  },
  {
   "cell_type": "code",
   "execution_count": 37,
   "metadata": {},
   "outputs": [
    {
     "name": "stdout",
     "output_type": "stream",
     "text": [
      "Ross : Test Statistic = -1.68722 P-Value = 0.0969333882\n",
      "Chandler : Test Statistic = -1.53604 P-Value = 0.1299654646\n",
      "BT1 : Test Statistic = 0.49784 P-Value = 0.6204777804\n",
      "BT2 : Test Statistic = -3.12479 P-Value = 0.002777852\n",
      "BT3 : Test Statistic = -1.03103 P-Value = 0.3068063745\n",
      "BT4 : Test Statistic = -4.08836 P-Value = 0.0001354664\n",
      "BT5 : Test Statistic = -4.00907 P-Value = 0.0001763462\n",
      "GR1 : Test Statistic = -1.32542 P-Value = 0.1901401276\n",
      "GR2 : Test Statistic = -2.83406 P-Value = 0.0062826497\n",
      "GR3 : Test Statistic = 1.69134 P-Value = 0.0960482222\n",
      "GR4 : Test Statistic = -1.49635 P-Value = 0.1398924537\n",
      "GR5 : Test Statistic = -3.95334 P-Value = 0.0002088523\n",
      "Total:  : Test Statistic = -2.64137 P-Value = 0.009972226\n"
     ]
    }
   ],
   "source": [
    "# Perform T-Test for each individual Shark\n",
    "for column in All_Sharks:\n",
    "    twosample_results = st.ttest_ind(no_light_targets[column], last_40_t[column],nan_policy='omit')\n",
    "    print(column, \": Test Statistic =\" ,round(twosample_results[0], 5), \"P-Value =\", round(twosample_results[1], 10))"
   ]
  },
  {
   "cell_type": "code",
   "execution_count": 38,
   "metadata": {},
   "outputs": [
    {
     "name": "stdout",
     "output_type": "stream",
     "text": [
      "male : Test Statistic = -1.69109 P-Value = 0.0948112714\n",
      "female : Test Statistic = -3.30149 P-Value = 0.0014524086\n",
      "All_GR : Test Statistic = -2.44215 P-Value = 0.0176157187\n",
      "All_BT : Test Statistic = -3.25035 P-Value = 0.0019211677\n",
      "All_SS : Test Statistic = -1.8115 P-Value = 0.0752424523\n"
     ]
    }
   ],
   "source": [
    "# Perform T-Test for species and genders\n",
    "for column in gender_and_species:\n",
    "    twosample_results = st.ttest_ind(no_light_targets[column], last_40_t[column],nan_policy='omit')\n",
    "    print(column, \": Test Statistic =\" ,round(twosample_results[0], 5), \"P-Value =\", round(twosample_results[1], 10))"
   ]
  },
  {
   "cell_type": "markdown",
   "metadata": {},
   "source": [
    "There were multiple significant values within the individual sharks as well as female and and All_BT subsets. Now we will look at the non-light training subset vs. the light training subset as a whole:"
   ]
  },
  {
   "cell_type": "code",
   "execution_count": 39,
   "metadata": {},
   "outputs": [
    {
     "name": "stdout",
     "output_type": "stream",
     "text": [
      "Ross : Test Statistic = 27.50708 P-Value = 0.0\n",
      "Chandler : Test Statistic = 25.95271 P-Value = 0.0\n",
      "BT1 : Test Statistic = 18.1091 P-Value = 0.0\n",
      "BT2 : Test Statistic = 11.31421 P-Value = 0.0\n",
      "BT3 : Test Statistic = 21.21807 P-Value = 0.0\n",
      "BT4 : Test Statistic = 17.48554 P-Value = 0.0\n",
      "BT5 : Test Statistic = 14.72079 P-Value = 0.0\n",
      "GR1 : Test Statistic = 20.42728 P-Value = 0.0\n",
      "GR2 : Test Statistic = 12.15249 P-Value = 0.0\n",
      "GR3 : Test Statistic = 22.99193 P-Value = 0.0\n",
      "GR4 : Test Statistic = 16.14505 P-Value = 0.0\n",
      "GR5 : Test Statistic = 10.25076 P-Value = 0.0\n",
      "Total:  : Test Statistic = 34.03772 P-Value = 0.0\n"
     ]
    }
   ],
   "source": [
    "# Perform T-Test for each individual Shark\n",
    "for column in All_Sharks:\n",
    "    twosample_results = st.ttest_ind(no_light_targets[column], light_targets[column],nan_policy='omit')\n",
    "    print(column, \": Test Statistic =\" ,round(twosample_results[0], 5), \"P-Value =\", round(twosample_results[1], 10))"
   ]
  },
  {
   "cell_type": "code",
   "execution_count": 40,
   "metadata": {},
   "outputs": [
    {
     "name": "stdout",
     "output_type": "stream",
     "text": [
      "male : Test Statistic = 27.71497 P-Value = 0.0\n",
      "female : Test Statistic = 30.81513 P-Value = 0.0\n",
      "All_GR : Test Statistic = 29.02143 P-Value = 0.0\n",
      "All_BT : Test Statistic = 27.59957 P-Value = 0.0\n",
      "All_SS : Test Statistic = 29.62477 P-Value = 0.0\n"
     ]
    }
   ],
   "source": [
    "# Perform T-Test for species and genders\n",
    "for column in gender_and_species:\n",
    "    twosample_results = st.ttest_ind(no_light_targets[column], light_targets[column],nan_policy='omit')\n",
    "    print(column, \": Test Statistic =\" ,round(twosample_results[0], 5), \"P-Value =\", round(twosample_results[1], 10))"
   ]
  },
  {
   "cell_type": "markdown",
   "metadata": {},
   "source": [
    "All of the P-values are significant, so it seems that targeting was significantly effected by light training."
   ]
  },
  {
   "cell_type": "code",
   "execution_count": null,
   "metadata": {},
   "outputs": [],
   "source": []
  }
 ],
 "metadata": {
  "kernelspec": {
   "display_name": "Python 3",
   "language": "python",
   "name": "python3"
  },
  "language_info": {
   "codemirror_mode": {
    "name": "ipython",
    "version": 3
   },
   "file_extension": ".py",
   "mimetype": "text/x-python",
   "name": "python",
   "nbconvert_exporter": "python",
   "pygments_lexer": "ipython3",
   "version": "3.8.5"
  }
 },
 "nbformat": 4,
 "nbformat_minor": 4
}
