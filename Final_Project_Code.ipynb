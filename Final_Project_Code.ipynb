{
 "cells": [
  {
   "cell_type": "code",
   "execution_count": 251,
   "metadata": {},
   "outputs": [],
   "source": [
    "import numpy as np\n",
    "import pandas as pd\n",
    "import plotly.express as px\n",
    "import matplotlib.pyplot as plt"
   ]
  },
  {
   "cell_type": "code",
   "execution_count": 131,
   "metadata": {},
   "outputs": [],
   "source": [
    "eat = pd.read_excel(\"SharkData.xlsx\", sheet_name = 0)\n",
    "targets = pd.read_excel(\"SharkData.xlsx\", sheet_name = 1)\n",
    "drops = pd.read_excel(\"SharkData.xlsx\", sheet_name = 2)\n",
    "other_factors = pd.read_excel(\"SharkData.xlsx\", sheet_name = 3)"
   ]
  },
  {
   "cell_type": "markdown",
   "metadata": {},
   "source": [
    "Cleaning for eat Dataframe"
   ]
  },
  {
   "cell_type": "code",
   "execution_count": 132,
   "metadata": {},
   "outputs": [
    {
     "data": {
      "text/html": [
       "<div>\n",
       "<style scoped>\n",
       "    .dataframe tbody tr th:only-of-type {\n",
       "        vertical-align: middle;\n",
       "    }\n",
       "\n",
       "    .dataframe tbody tr th {\n",
       "        vertical-align: top;\n",
       "    }\n",
       "\n",
       "    .dataframe thead th {\n",
       "        text-align: right;\n",
       "    }\n",
       "</style>\n",
       "<table border=\"1\" class=\"dataframe\">\n",
       "  <thead>\n",
       "    <tr style=\"text-align: right;\">\n",
       "      <th></th>\n",
       "      <th>Date</th>\n",
       "      <th>Ross</th>\n",
       "      <th>Chandler</th>\n",
       "      <th>BT1</th>\n",
       "      <th>BT2</th>\n",
       "      <th>BT3</th>\n",
       "      <th>BT4</th>\n",
       "      <th>BT5</th>\n",
       "      <th>GR1</th>\n",
       "      <th>GR2</th>\n",
       "      <th>GR3</th>\n",
       "      <th>GR4</th>\n",
       "      <th>GR5</th>\n",
       "      <th>Total:</th>\n",
       "      <th>Etc. Comments</th>\n",
       "    </tr>\n",
       "  </thead>\n",
       "  <tbody>\n",
       "    <tr>\n",
       "      <th>578</th>\n",
       "      <td>2020-09-22</td>\n",
       "      <td>6.0</td>\n",
       "      <td>0.0</td>\n",
       "      <td>1.0</td>\n",
       "      <td>2.0</td>\n",
       "      <td>6.0</td>\n",
       "      <td>0.0</td>\n",
       "      <td>4.0</td>\n",
       "      <td>1.0</td>\n",
       "      <td>0.0</td>\n",
       "      <td>0.0</td>\n",
       "      <td>5.0</td>\n",
       "      <td>1.0</td>\n",
       "      <td>26.0</td>\n",
       "      <td>0</td>\n",
       "    </tr>\n",
       "    <tr>\n",
       "      <th>579</th>\n",
       "      <td>2020-09-24</td>\n",
       "      <td>0.0</td>\n",
       "      <td>9.0</td>\n",
       "      <td>0.0</td>\n",
       "      <td>7.0</td>\n",
       "      <td>5.0</td>\n",
       "      <td>5.0</td>\n",
       "      <td>7.0</td>\n",
       "      <td>0.0</td>\n",
       "      <td>1.0</td>\n",
       "      <td>2.0</td>\n",
       "      <td>2.0</td>\n",
       "      <td>6.0</td>\n",
       "      <td>44.0</td>\n",
       "      <td>0</td>\n",
       "    </tr>\n",
       "    <tr>\n",
       "      <th>580</th>\n",
       "      <td>2020-09-26</td>\n",
       "      <td>0.0</td>\n",
       "      <td>0.0</td>\n",
       "      <td>0.0</td>\n",
       "      <td>0.0</td>\n",
       "      <td>0.0</td>\n",
       "      <td>0.0</td>\n",
       "      <td>0.0</td>\n",
       "      <td>4.0</td>\n",
       "      <td>0.0</td>\n",
       "      <td>2.0</td>\n",
       "      <td>3.0</td>\n",
       "      <td>3.0</td>\n",
       "      <td>12.0</td>\n",
       "      <td>0</td>\n",
       "    </tr>\n",
       "    <tr>\n",
       "      <th>581</th>\n",
       "      <td>2020-09-27</td>\n",
       "      <td>5.0</td>\n",
       "      <td>6.0</td>\n",
       "      <td>3.0</td>\n",
       "      <td>6.0</td>\n",
       "      <td>4.0</td>\n",
       "      <td>6.0</td>\n",
       "      <td>3.0</td>\n",
       "      <td>0.0</td>\n",
       "      <td>0.0</td>\n",
       "      <td>0.0</td>\n",
       "      <td>0.0</td>\n",
       "      <td>0.0</td>\n",
       "      <td>33.0</td>\n",
       "      <td>0</td>\n",
       "    </tr>\n",
       "    <tr>\n",
       "      <th>582</th>\n",
       "      <td>2020-09-29</td>\n",
       "      <td>10.0</td>\n",
       "      <td>3.0</td>\n",
       "      <td>1.0</td>\n",
       "      <td>1.0</td>\n",
       "      <td>4.0</td>\n",
       "      <td>2.0</td>\n",
       "      <td>7.0</td>\n",
       "      <td>4.0</td>\n",
       "      <td>4.0</td>\n",
       "      <td>0.0</td>\n",
       "      <td>2.0</td>\n",
       "      <td>0.0</td>\n",
       "      <td>38.0</td>\n",
       "      <td>0</td>\n",
       "    </tr>\n",
       "  </tbody>\n",
       "</table>\n",
       "</div>"
      ],
      "text/plain": [
       "           Date  Ross  Chandler  BT1  BT2  BT3  BT4  BT5  GR1  GR2  GR3  GR4  \\\n",
       "578  2020-09-22   6.0       0.0  1.0  2.0  6.0  0.0  4.0  1.0  0.0  0.0  5.0   \n",
       "579  2020-09-24   0.0       9.0  0.0  7.0  5.0  5.0  7.0  0.0  1.0  2.0  2.0   \n",
       "580  2020-09-26   0.0       0.0  0.0  0.0  0.0  0.0  0.0  4.0  0.0  2.0  3.0   \n",
       "581  2020-09-27   5.0       6.0  3.0  6.0  4.0  6.0  3.0  0.0  0.0  0.0  0.0   \n",
       "582  2020-09-29  10.0       3.0  1.0  1.0  4.0  2.0  7.0  4.0  4.0  0.0  2.0   \n",
       "\n",
       "     GR5  Total:  Etc. Comments  \n",
       "578  1.0     26.0             0  \n",
       "579  6.0     44.0             0  \n",
       "580  3.0     12.0             0  \n",
       "581  0.0     33.0             0  \n",
       "582  0.0     38.0             0  "
      ]
     },
     "execution_count": 132,
     "metadata": {},
     "output_type": "execute_result"
    }
   ],
   "source": [
    "eat = eat.iloc[1:,:-1]\n",
    "eat.rename(columns = {\"Unnamed: 14\":'Etc. Comments', \"Pieces Eaten\": \"Date\"}, inplace = True)\n",
    "\n",
    "#get rid of null values at end of dataset\n",
    "eat = eat.head(582)\n",
    "\n",
    "# Change date to just date format, not datetime\n",
    "eat['Date'] = pd.to_datetime(eat['Date']).dt.date\n",
    "\n",
    "eat.fillna(0, inplace = True)\n",
    "\n",
    "eat.tail()"
   ]
  },
  {
   "cell_type": "markdown",
   "metadata": {},
   "source": [
    "# \n",
    "Look at means of Individual sharks, then look at means of individual species"
   ]
  },
  {
   "cell_type": "code",
   "execution_count": 133,
   "metadata": {
    "scrolled": true
   },
   "outputs": [
    {
     "data": {
      "text/plain": [
       "Ross        2.686\n",
       "Chandler    2.174\n",
       "BT1         1.538\n",
       "BT2         2.151\n",
       "BT3         1.768\n",
       "BT4         2.100\n",
       "BT5         2.304\n",
       "GR1         1.010\n",
       "GR2         1.015\n",
       "GR3         1.395\n",
       "GR4         1.203\n",
       "GR5         1.302\n",
       "dtype: float64"
      ]
     },
     "execution_count": 133,
     "metadata": {},
     "output_type": "execute_result"
    }
   ],
   "source": [
    "# Individual mean number of pieces eaten\n",
    "All_Sharks = eat[['Ross', 'Chandler','BT1','BT2','BT3','BT4','BT5','GR1','GR2','GR3','GR4', 'GR5']]\n",
    "All_mean = round(All_Sharks.mean(), 3)\n",
    "All_mean"
   ]
  },
  {
   "cell_type": "code",
   "execution_count": 134,
   "metadata": {},
   "outputs": [
    {
     "data": {
      "application/vnd.plotly.v1+json": {
       "config": {
        "plotlyServerURL": "https://plot.ly"
       },
       "data": [
        {
         "alignmentgroup": "True",
         "bingroup": "x",
         "histfunc": "sum",
         "hovertemplate": "Shark=%{x}<br>sum of  Mean Number of Fish=%{y}<extra></extra>",
         "legendgroup": "",
         "marker": {
          "color": "#636efa"
         },
         "name": "",
         "offsetgroup": "",
         "orientation": "v",
         "showlegend": false,
         "type": "histogram",
         "x": [
          "Ross",
          "BT5",
          "Chandler",
          "BT2",
          "BT4",
          "BT3",
          "BT1",
          "GR3",
          "GR5",
          "GR4",
          "GR2",
          "GR1"
         ],
         "xaxis": "x",
         "y": [
          2.686,
          2.304,
          2.174,
          2.151,
          2.1,
          1.768,
          1.538,
          1.395,
          1.302,
          1.203,
          1.015,
          1.01
         ],
         "yaxis": "y"
        }
       ],
       "layout": {
        "barmode": "relative",
        "legend": {
         "tracegroupgap": 0
        },
        "template": {
         "data": {
          "bar": [
           {
            "error_x": {
             "color": "#2a3f5f"
            },
            "error_y": {
             "color": "#2a3f5f"
            },
            "marker": {
             "line": {
              "color": "#E5ECF6",
              "width": 0.5
             }
            },
            "type": "bar"
           }
          ],
          "barpolar": [
           {
            "marker": {
             "line": {
              "color": "#E5ECF6",
              "width": 0.5
             }
            },
            "type": "barpolar"
           }
          ],
          "carpet": [
           {
            "aaxis": {
             "endlinecolor": "#2a3f5f",
             "gridcolor": "white",
             "linecolor": "white",
             "minorgridcolor": "white",
             "startlinecolor": "#2a3f5f"
            },
            "baxis": {
             "endlinecolor": "#2a3f5f",
             "gridcolor": "white",
             "linecolor": "white",
             "minorgridcolor": "white",
             "startlinecolor": "#2a3f5f"
            },
            "type": "carpet"
           }
          ],
          "choropleth": [
           {
            "colorbar": {
             "outlinewidth": 0,
             "ticks": ""
            },
            "type": "choropleth"
           }
          ],
          "contour": [
           {
            "colorbar": {
             "outlinewidth": 0,
             "ticks": ""
            },
            "colorscale": [
             [
              0,
              "#0d0887"
             ],
             [
              0.1111111111111111,
              "#46039f"
             ],
             [
              0.2222222222222222,
              "#7201a8"
             ],
             [
              0.3333333333333333,
              "#9c179e"
             ],
             [
              0.4444444444444444,
              "#bd3786"
             ],
             [
              0.5555555555555556,
              "#d8576b"
             ],
             [
              0.6666666666666666,
              "#ed7953"
             ],
             [
              0.7777777777777778,
              "#fb9f3a"
             ],
             [
              0.8888888888888888,
              "#fdca26"
             ],
             [
              1,
              "#f0f921"
             ]
            ],
            "type": "contour"
           }
          ],
          "contourcarpet": [
           {
            "colorbar": {
             "outlinewidth": 0,
             "ticks": ""
            },
            "type": "contourcarpet"
           }
          ],
          "heatmap": [
           {
            "colorbar": {
             "outlinewidth": 0,
             "ticks": ""
            },
            "colorscale": [
             [
              0,
              "#0d0887"
             ],
             [
              0.1111111111111111,
              "#46039f"
             ],
             [
              0.2222222222222222,
              "#7201a8"
             ],
             [
              0.3333333333333333,
              "#9c179e"
             ],
             [
              0.4444444444444444,
              "#bd3786"
             ],
             [
              0.5555555555555556,
              "#d8576b"
             ],
             [
              0.6666666666666666,
              "#ed7953"
             ],
             [
              0.7777777777777778,
              "#fb9f3a"
             ],
             [
              0.8888888888888888,
              "#fdca26"
             ],
             [
              1,
              "#f0f921"
             ]
            ],
            "type": "heatmap"
           }
          ],
          "heatmapgl": [
           {
            "colorbar": {
             "outlinewidth": 0,
             "ticks": ""
            },
            "colorscale": [
             [
              0,
              "#0d0887"
             ],
             [
              0.1111111111111111,
              "#46039f"
             ],
             [
              0.2222222222222222,
              "#7201a8"
             ],
             [
              0.3333333333333333,
              "#9c179e"
             ],
             [
              0.4444444444444444,
              "#bd3786"
             ],
             [
              0.5555555555555556,
              "#d8576b"
             ],
             [
              0.6666666666666666,
              "#ed7953"
             ],
             [
              0.7777777777777778,
              "#fb9f3a"
             ],
             [
              0.8888888888888888,
              "#fdca26"
             ],
             [
              1,
              "#f0f921"
             ]
            ],
            "type": "heatmapgl"
           }
          ],
          "histogram": [
           {
            "marker": {
             "colorbar": {
              "outlinewidth": 0,
              "ticks": ""
             }
            },
            "type": "histogram"
           }
          ],
          "histogram2d": [
           {
            "colorbar": {
             "outlinewidth": 0,
             "ticks": ""
            },
            "colorscale": [
             [
              0,
              "#0d0887"
             ],
             [
              0.1111111111111111,
              "#46039f"
             ],
             [
              0.2222222222222222,
              "#7201a8"
             ],
             [
              0.3333333333333333,
              "#9c179e"
             ],
             [
              0.4444444444444444,
              "#bd3786"
             ],
             [
              0.5555555555555556,
              "#d8576b"
             ],
             [
              0.6666666666666666,
              "#ed7953"
             ],
             [
              0.7777777777777778,
              "#fb9f3a"
             ],
             [
              0.8888888888888888,
              "#fdca26"
             ],
             [
              1,
              "#f0f921"
             ]
            ],
            "type": "histogram2d"
           }
          ],
          "histogram2dcontour": [
           {
            "colorbar": {
             "outlinewidth": 0,
             "ticks": ""
            },
            "colorscale": [
             [
              0,
              "#0d0887"
             ],
             [
              0.1111111111111111,
              "#46039f"
             ],
             [
              0.2222222222222222,
              "#7201a8"
             ],
             [
              0.3333333333333333,
              "#9c179e"
             ],
             [
              0.4444444444444444,
              "#bd3786"
             ],
             [
              0.5555555555555556,
              "#d8576b"
             ],
             [
              0.6666666666666666,
              "#ed7953"
             ],
             [
              0.7777777777777778,
              "#fb9f3a"
             ],
             [
              0.8888888888888888,
              "#fdca26"
             ],
             [
              1,
              "#f0f921"
             ]
            ],
            "type": "histogram2dcontour"
           }
          ],
          "mesh3d": [
           {
            "colorbar": {
             "outlinewidth": 0,
             "ticks": ""
            },
            "type": "mesh3d"
           }
          ],
          "parcoords": [
           {
            "line": {
             "colorbar": {
              "outlinewidth": 0,
              "ticks": ""
             }
            },
            "type": "parcoords"
           }
          ],
          "pie": [
           {
            "automargin": true,
            "type": "pie"
           }
          ],
          "scatter": [
           {
            "marker": {
             "colorbar": {
              "outlinewidth": 0,
              "ticks": ""
             }
            },
            "type": "scatter"
           }
          ],
          "scatter3d": [
           {
            "line": {
             "colorbar": {
              "outlinewidth": 0,
              "ticks": ""
             }
            },
            "marker": {
             "colorbar": {
              "outlinewidth": 0,
              "ticks": ""
             }
            },
            "type": "scatter3d"
           }
          ],
          "scattercarpet": [
           {
            "marker": {
             "colorbar": {
              "outlinewidth": 0,
              "ticks": ""
             }
            },
            "type": "scattercarpet"
           }
          ],
          "scattergeo": [
           {
            "marker": {
             "colorbar": {
              "outlinewidth": 0,
              "ticks": ""
             }
            },
            "type": "scattergeo"
           }
          ],
          "scattergl": [
           {
            "marker": {
             "colorbar": {
              "outlinewidth": 0,
              "ticks": ""
             }
            },
            "type": "scattergl"
           }
          ],
          "scattermapbox": [
           {
            "marker": {
             "colorbar": {
              "outlinewidth": 0,
              "ticks": ""
             }
            },
            "type": "scattermapbox"
           }
          ],
          "scatterpolar": [
           {
            "marker": {
             "colorbar": {
              "outlinewidth": 0,
              "ticks": ""
             }
            },
            "type": "scatterpolar"
           }
          ],
          "scatterpolargl": [
           {
            "marker": {
             "colorbar": {
              "outlinewidth": 0,
              "ticks": ""
             }
            },
            "type": "scatterpolargl"
           }
          ],
          "scatterternary": [
           {
            "marker": {
             "colorbar": {
              "outlinewidth": 0,
              "ticks": ""
             }
            },
            "type": "scatterternary"
           }
          ],
          "surface": [
           {
            "colorbar": {
             "outlinewidth": 0,
             "ticks": ""
            },
            "colorscale": [
             [
              0,
              "#0d0887"
             ],
             [
              0.1111111111111111,
              "#46039f"
             ],
             [
              0.2222222222222222,
              "#7201a8"
             ],
             [
              0.3333333333333333,
              "#9c179e"
             ],
             [
              0.4444444444444444,
              "#bd3786"
             ],
             [
              0.5555555555555556,
              "#d8576b"
             ],
             [
              0.6666666666666666,
              "#ed7953"
             ],
             [
              0.7777777777777778,
              "#fb9f3a"
             ],
             [
              0.8888888888888888,
              "#fdca26"
             ],
             [
              1,
              "#f0f921"
             ]
            ],
            "type": "surface"
           }
          ],
          "table": [
           {
            "cells": {
             "fill": {
              "color": "#EBF0F8"
             },
             "line": {
              "color": "white"
             }
            },
            "header": {
             "fill": {
              "color": "#C8D4E3"
             },
             "line": {
              "color": "white"
             }
            },
            "type": "table"
           }
          ]
         },
         "layout": {
          "annotationdefaults": {
           "arrowcolor": "#2a3f5f",
           "arrowhead": 0,
           "arrowwidth": 1
          },
          "coloraxis": {
           "colorbar": {
            "outlinewidth": 0,
            "ticks": ""
           }
          },
          "colorscale": {
           "diverging": [
            [
             0,
             "#8e0152"
            ],
            [
             0.1,
             "#c51b7d"
            ],
            [
             0.2,
             "#de77ae"
            ],
            [
             0.3,
             "#f1b6da"
            ],
            [
             0.4,
             "#fde0ef"
            ],
            [
             0.5,
             "#f7f7f7"
            ],
            [
             0.6,
             "#e6f5d0"
            ],
            [
             0.7,
             "#b8e186"
            ],
            [
             0.8,
             "#7fbc41"
            ],
            [
             0.9,
             "#4d9221"
            ],
            [
             1,
             "#276419"
            ]
           ],
           "sequential": [
            [
             0,
             "#0d0887"
            ],
            [
             0.1111111111111111,
             "#46039f"
            ],
            [
             0.2222222222222222,
             "#7201a8"
            ],
            [
             0.3333333333333333,
             "#9c179e"
            ],
            [
             0.4444444444444444,
             "#bd3786"
            ],
            [
             0.5555555555555556,
             "#d8576b"
            ],
            [
             0.6666666666666666,
             "#ed7953"
            ],
            [
             0.7777777777777778,
             "#fb9f3a"
            ],
            [
             0.8888888888888888,
             "#fdca26"
            ],
            [
             1,
             "#f0f921"
            ]
           ],
           "sequentialminus": [
            [
             0,
             "#0d0887"
            ],
            [
             0.1111111111111111,
             "#46039f"
            ],
            [
             0.2222222222222222,
             "#7201a8"
            ],
            [
             0.3333333333333333,
             "#9c179e"
            ],
            [
             0.4444444444444444,
             "#bd3786"
            ],
            [
             0.5555555555555556,
             "#d8576b"
            ],
            [
             0.6666666666666666,
             "#ed7953"
            ],
            [
             0.7777777777777778,
             "#fb9f3a"
            ],
            [
             0.8888888888888888,
             "#fdca26"
            ],
            [
             1,
             "#f0f921"
            ]
           ]
          },
          "colorway": [
           "#636efa",
           "#EF553B",
           "#00cc96",
           "#ab63fa",
           "#FFA15A",
           "#19d3f3",
           "#FF6692",
           "#B6E880",
           "#FF97FF",
           "#FECB52"
          ],
          "font": {
           "color": "#2a3f5f"
          },
          "geo": {
           "bgcolor": "white",
           "lakecolor": "white",
           "landcolor": "#E5ECF6",
           "showlakes": true,
           "showland": true,
           "subunitcolor": "white"
          },
          "hoverlabel": {
           "align": "left"
          },
          "hovermode": "closest",
          "mapbox": {
           "style": "light"
          },
          "paper_bgcolor": "white",
          "plot_bgcolor": "#E5ECF6",
          "polar": {
           "angularaxis": {
            "gridcolor": "white",
            "linecolor": "white",
            "ticks": ""
           },
           "bgcolor": "#E5ECF6",
           "radialaxis": {
            "gridcolor": "white",
            "linecolor": "white",
            "ticks": ""
           }
          },
          "scene": {
           "xaxis": {
            "backgroundcolor": "#E5ECF6",
            "gridcolor": "white",
            "gridwidth": 2,
            "linecolor": "white",
            "showbackground": true,
            "ticks": "",
            "zerolinecolor": "white"
           },
           "yaxis": {
            "backgroundcolor": "#E5ECF6",
            "gridcolor": "white",
            "gridwidth": 2,
            "linecolor": "white",
            "showbackground": true,
            "ticks": "",
            "zerolinecolor": "white"
           },
           "zaxis": {
            "backgroundcolor": "#E5ECF6",
            "gridcolor": "white",
            "gridwidth": 2,
            "linecolor": "white",
            "showbackground": true,
            "ticks": "",
            "zerolinecolor": "white"
           }
          },
          "shapedefaults": {
           "line": {
            "color": "#2a3f5f"
           }
          },
          "ternary": {
           "aaxis": {
            "gridcolor": "white",
            "linecolor": "white",
            "ticks": ""
           },
           "baxis": {
            "gridcolor": "white",
            "linecolor": "white",
            "ticks": ""
           },
           "bgcolor": "#E5ECF6",
           "caxis": {
            "gridcolor": "white",
            "linecolor": "white",
            "ticks": ""
           }
          },
          "title": {
           "x": 0.05
          },
          "xaxis": {
           "automargin": true,
           "gridcolor": "white",
           "linecolor": "white",
           "ticks": "",
           "title": {
            "standoff": 15
           },
           "zerolinecolor": "white",
           "zerolinewidth": 2
          },
          "yaxis": {
           "automargin": true,
           "gridcolor": "white",
           "linecolor": "white",
           "ticks": "",
           "title": {
            "standoff": 15
           },
           "zerolinecolor": "white",
           "zerolinewidth": 2
          }
         }
        },
        "title": {
         "text": "Mean Number of Fish Eaten by Shark"
        },
        "xaxis": {
         "anchor": "y",
         "domain": [
          0,
          1
         ],
         "title": {
          "text": "Shark"
         }
        },
        "yaxis": {
         "anchor": "x",
         "domain": [
          0,
          1
         ],
         "title": {
          "text": "sum of  Mean Number of Fish"
         }
        }
       }
      },
      "text/html": [
       "<div>                            <div id=\"f0464736-e057-4043-a2ec-26936b0300cd\" class=\"plotly-graph-div\" style=\"height:525px; width:100%;\"></div>            <script type=\"text/javascript\">                require([\"plotly\"], function(Plotly) {                    window.PLOTLYENV=window.PLOTLYENV || {};                                    if (document.getElementById(\"f0464736-e057-4043-a2ec-26936b0300cd\")) {                    Plotly.newPlot(                        \"f0464736-e057-4043-a2ec-26936b0300cd\",                        [{\"alignmentgroup\": \"True\", \"bingroup\": \"x\", \"histfunc\": \"sum\", \"hovertemplate\": \"Shark=%{x}<br>sum of  Mean Number of Fish=%{y}<extra></extra>\", \"legendgroup\": \"\", \"marker\": {\"color\": \"#636efa\"}, \"name\": \"\", \"offsetgroup\": \"\", \"orientation\": \"v\", \"showlegend\": false, \"type\": \"histogram\", \"x\": [\"Ross\", \"BT5\", \"Chandler\", \"BT2\", \"BT4\", \"BT3\", \"BT1\", \"GR3\", \"GR5\", \"GR4\", \"GR2\", \"GR1\"], \"xaxis\": \"x\", \"y\": [2.686, 2.304, 2.174, 2.151, 2.1, 1.768, 1.538, 1.395, 1.302, 1.203, 1.015, 1.01], \"yaxis\": \"y\"}],                        {\"barmode\": \"relative\", \"legend\": {\"tracegroupgap\": 0}, \"template\": {\"data\": {\"bar\": [{\"error_x\": {\"color\": \"#2a3f5f\"}, \"error_y\": {\"color\": \"#2a3f5f\"}, \"marker\": {\"line\": {\"color\": \"#E5ECF6\", \"width\": 0.5}}, \"type\": \"bar\"}], \"barpolar\": [{\"marker\": {\"line\": {\"color\": \"#E5ECF6\", \"width\": 0.5}}, \"type\": \"barpolar\"}], \"carpet\": [{\"aaxis\": {\"endlinecolor\": \"#2a3f5f\", \"gridcolor\": \"white\", \"linecolor\": \"white\", \"minorgridcolor\": \"white\", \"startlinecolor\": \"#2a3f5f\"}, \"baxis\": {\"endlinecolor\": \"#2a3f5f\", \"gridcolor\": \"white\", \"linecolor\": \"white\", \"minorgridcolor\": \"white\", \"startlinecolor\": \"#2a3f5f\"}, \"type\": \"carpet\"}], \"choropleth\": [{\"colorbar\": {\"outlinewidth\": 0, \"ticks\": \"\"}, \"type\": \"choropleth\"}], \"contour\": [{\"colorbar\": {\"outlinewidth\": 0, \"ticks\": \"\"}, \"colorscale\": [[0.0, \"#0d0887\"], [0.1111111111111111, \"#46039f\"], [0.2222222222222222, \"#7201a8\"], [0.3333333333333333, \"#9c179e\"], [0.4444444444444444, \"#bd3786\"], [0.5555555555555556, \"#d8576b\"], [0.6666666666666666, \"#ed7953\"], [0.7777777777777778, \"#fb9f3a\"], [0.8888888888888888, \"#fdca26\"], [1.0, \"#f0f921\"]], \"type\": \"contour\"}], \"contourcarpet\": [{\"colorbar\": {\"outlinewidth\": 0, \"ticks\": \"\"}, \"type\": \"contourcarpet\"}], \"heatmap\": [{\"colorbar\": {\"outlinewidth\": 0, \"ticks\": \"\"}, \"colorscale\": [[0.0, \"#0d0887\"], [0.1111111111111111, \"#46039f\"], [0.2222222222222222, \"#7201a8\"], [0.3333333333333333, \"#9c179e\"], [0.4444444444444444, \"#bd3786\"], [0.5555555555555556, \"#d8576b\"], [0.6666666666666666, \"#ed7953\"], [0.7777777777777778, \"#fb9f3a\"], [0.8888888888888888, \"#fdca26\"], [1.0, \"#f0f921\"]], \"type\": \"heatmap\"}], \"heatmapgl\": [{\"colorbar\": {\"outlinewidth\": 0, \"ticks\": \"\"}, \"colorscale\": [[0.0, \"#0d0887\"], [0.1111111111111111, \"#46039f\"], [0.2222222222222222, \"#7201a8\"], [0.3333333333333333, \"#9c179e\"], [0.4444444444444444, \"#bd3786\"], [0.5555555555555556, \"#d8576b\"], [0.6666666666666666, \"#ed7953\"], [0.7777777777777778, \"#fb9f3a\"], [0.8888888888888888, \"#fdca26\"], [1.0, \"#f0f921\"]], \"type\": \"heatmapgl\"}], \"histogram\": [{\"marker\": {\"colorbar\": {\"outlinewidth\": 0, \"ticks\": \"\"}}, \"type\": \"histogram\"}], \"histogram2d\": [{\"colorbar\": {\"outlinewidth\": 0, \"ticks\": \"\"}, \"colorscale\": [[0.0, \"#0d0887\"], [0.1111111111111111, \"#46039f\"], [0.2222222222222222, \"#7201a8\"], [0.3333333333333333, \"#9c179e\"], [0.4444444444444444, \"#bd3786\"], [0.5555555555555556, \"#d8576b\"], [0.6666666666666666, \"#ed7953\"], [0.7777777777777778, \"#fb9f3a\"], [0.8888888888888888, \"#fdca26\"], [1.0, \"#f0f921\"]], \"type\": \"histogram2d\"}], \"histogram2dcontour\": [{\"colorbar\": {\"outlinewidth\": 0, \"ticks\": \"\"}, \"colorscale\": [[0.0, \"#0d0887\"], [0.1111111111111111, \"#46039f\"], [0.2222222222222222, \"#7201a8\"], [0.3333333333333333, \"#9c179e\"], [0.4444444444444444, \"#bd3786\"], [0.5555555555555556, \"#d8576b\"], [0.6666666666666666, \"#ed7953\"], [0.7777777777777778, \"#fb9f3a\"], [0.8888888888888888, \"#fdca26\"], [1.0, \"#f0f921\"]], \"type\": \"histogram2dcontour\"}], \"mesh3d\": [{\"colorbar\": {\"outlinewidth\": 0, \"ticks\": \"\"}, \"type\": \"mesh3d\"}], \"parcoords\": [{\"line\": {\"colorbar\": {\"outlinewidth\": 0, \"ticks\": \"\"}}, \"type\": \"parcoords\"}], \"pie\": [{\"automargin\": true, \"type\": \"pie\"}], \"scatter\": [{\"marker\": {\"colorbar\": {\"outlinewidth\": 0, \"ticks\": \"\"}}, \"type\": \"scatter\"}], \"scatter3d\": [{\"line\": {\"colorbar\": {\"outlinewidth\": 0, \"ticks\": \"\"}}, \"marker\": {\"colorbar\": {\"outlinewidth\": 0, \"ticks\": \"\"}}, \"type\": \"scatter3d\"}], \"scattercarpet\": [{\"marker\": {\"colorbar\": {\"outlinewidth\": 0, \"ticks\": \"\"}}, \"type\": \"scattercarpet\"}], \"scattergeo\": [{\"marker\": {\"colorbar\": {\"outlinewidth\": 0, \"ticks\": \"\"}}, \"type\": \"scattergeo\"}], \"scattergl\": [{\"marker\": {\"colorbar\": {\"outlinewidth\": 0, \"ticks\": \"\"}}, \"type\": \"scattergl\"}], \"scattermapbox\": [{\"marker\": {\"colorbar\": {\"outlinewidth\": 0, \"ticks\": \"\"}}, \"type\": \"scattermapbox\"}], \"scatterpolar\": [{\"marker\": {\"colorbar\": {\"outlinewidth\": 0, \"ticks\": \"\"}}, \"type\": \"scatterpolar\"}], \"scatterpolargl\": [{\"marker\": {\"colorbar\": {\"outlinewidth\": 0, \"ticks\": \"\"}}, \"type\": \"scatterpolargl\"}], \"scatterternary\": [{\"marker\": {\"colorbar\": {\"outlinewidth\": 0, \"ticks\": \"\"}}, \"type\": \"scatterternary\"}], \"surface\": [{\"colorbar\": {\"outlinewidth\": 0, \"ticks\": \"\"}, \"colorscale\": [[0.0, \"#0d0887\"], [0.1111111111111111, \"#46039f\"], [0.2222222222222222, \"#7201a8\"], [0.3333333333333333, \"#9c179e\"], [0.4444444444444444, \"#bd3786\"], [0.5555555555555556, \"#d8576b\"], [0.6666666666666666, \"#ed7953\"], [0.7777777777777778, \"#fb9f3a\"], [0.8888888888888888, \"#fdca26\"], [1.0, \"#f0f921\"]], \"type\": \"surface\"}], \"table\": [{\"cells\": {\"fill\": {\"color\": \"#EBF0F8\"}, \"line\": {\"color\": \"white\"}}, \"header\": {\"fill\": {\"color\": \"#C8D4E3\"}, \"line\": {\"color\": \"white\"}}, \"type\": \"table\"}]}, \"layout\": {\"annotationdefaults\": {\"arrowcolor\": \"#2a3f5f\", \"arrowhead\": 0, \"arrowwidth\": 1}, \"coloraxis\": {\"colorbar\": {\"outlinewidth\": 0, \"ticks\": \"\"}}, \"colorscale\": {\"diverging\": [[0, \"#8e0152\"], [0.1, \"#c51b7d\"], [0.2, \"#de77ae\"], [0.3, \"#f1b6da\"], [0.4, \"#fde0ef\"], [0.5, \"#f7f7f7\"], [0.6, \"#e6f5d0\"], [0.7, \"#b8e186\"], [0.8, \"#7fbc41\"], [0.9, \"#4d9221\"], [1, \"#276419\"]], \"sequential\": [[0.0, \"#0d0887\"], [0.1111111111111111, \"#46039f\"], [0.2222222222222222, \"#7201a8\"], [0.3333333333333333, \"#9c179e\"], [0.4444444444444444, \"#bd3786\"], [0.5555555555555556, \"#d8576b\"], [0.6666666666666666, \"#ed7953\"], [0.7777777777777778, \"#fb9f3a\"], [0.8888888888888888, \"#fdca26\"], [1.0, \"#f0f921\"]], \"sequentialminus\": [[0.0, \"#0d0887\"], [0.1111111111111111, \"#46039f\"], [0.2222222222222222, \"#7201a8\"], [0.3333333333333333, \"#9c179e\"], [0.4444444444444444, \"#bd3786\"], [0.5555555555555556, \"#d8576b\"], [0.6666666666666666, \"#ed7953\"], [0.7777777777777778, \"#fb9f3a\"], [0.8888888888888888, \"#fdca26\"], [1.0, \"#f0f921\"]]}, \"colorway\": [\"#636efa\", \"#EF553B\", \"#00cc96\", \"#ab63fa\", \"#FFA15A\", \"#19d3f3\", \"#FF6692\", \"#B6E880\", \"#FF97FF\", \"#FECB52\"], \"font\": {\"color\": \"#2a3f5f\"}, \"geo\": {\"bgcolor\": \"white\", \"lakecolor\": \"white\", \"landcolor\": \"#E5ECF6\", \"showlakes\": true, \"showland\": true, \"subunitcolor\": \"white\"}, \"hoverlabel\": {\"align\": \"left\"}, \"hovermode\": \"closest\", \"mapbox\": {\"style\": \"light\"}, \"paper_bgcolor\": \"white\", \"plot_bgcolor\": \"#E5ECF6\", \"polar\": {\"angularaxis\": {\"gridcolor\": \"white\", \"linecolor\": \"white\", \"ticks\": \"\"}, \"bgcolor\": \"#E5ECF6\", \"radialaxis\": {\"gridcolor\": \"white\", \"linecolor\": \"white\", \"ticks\": \"\"}}, \"scene\": {\"xaxis\": {\"backgroundcolor\": \"#E5ECF6\", \"gridcolor\": \"white\", \"gridwidth\": 2, \"linecolor\": \"white\", \"showbackground\": true, \"ticks\": \"\", \"zerolinecolor\": \"white\"}, \"yaxis\": {\"backgroundcolor\": \"#E5ECF6\", \"gridcolor\": \"white\", \"gridwidth\": 2, \"linecolor\": \"white\", \"showbackground\": true, \"ticks\": \"\", \"zerolinecolor\": \"white\"}, \"zaxis\": {\"backgroundcolor\": \"#E5ECF6\", \"gridcolor\": \"white\", \"gridwidth\": 2, \"linecolor\": \"white\", \"showbackground\": true, \"ticks\": \"\", \"zerolinecolor\": \"white\"}}, \"shapedefaults\": {\"line\": {\"color\": \"#2a3f5f\"}}, \"ternary\": {\"aaxis\": {\"gridcolor\": \"white\", \"linecolor\": \"white\", \"ticks\": \"\"}, \"baxis\": {\"gridcolor\": \"white\", \"linecolor\": \"white\", \"ticks\": \"\"}, \"bgcolor\": \"#E5ECF6\", \"caxis\": {\"gridcolor\": \"white\", \"linecolor\": \"white\", \"ticks\": \"\"}}, \"title\": {\"x\": 0.05}, \"xaxis\": {\"automargin\": true, \"gridcolor\": \"white\", \"linecolor\": \"white\", \"ticks\": \"\", \"title\": {\"standoff\": 15}, \"zerolinecolor\": \"white\", \"zerolinewidth\": 2}, \"yaxis\": {\"automargin\": true, \"gridcolor\": \"white\", \"linecolor\": \"white\", \"ticks\": \"\", \"title\": {\"standoff\": 15}, \"zerolinecolor\": \"white\", \"zerolinewidth\": 2}}}, \"title\": {\"text\": \"Mean Number of Fish Eaten by Shark\"}, \"xaxis\": {\"anchor\": \"y\", \"domain\": [0.0, 1.0], \"title\": {\"text\": \"Shark\"}}, \"yaxis\": {\"anchor\": \"x\", \"domain\": [0.0, 1.0], \"title\": {\"text\": \"sum of  Mean Number of Fish\"}}},                        {\"responsive\": true}                    ).then(function(){\n",
       "                            \n",
       "var gd = document.getElementById('f0464736-e057-4043-a2ec-26936b0300cd');\n",
       "var x = new MutationObserver(function (mutations, observer) {{\n",
       "        var display = window.getComputedStyle(gd).display;\n",
       "        if (!display || display === 'none') {{\n",
       "            console.log([gd, 'removed!']);\n",
       "            Plotly.purge(gd);\n",
       "            observer.disconnect();\n",
       "        }}\n",
       "}});\n",
       "\n",
       "// Listen for the removal of the full notebook cells\n",
       "var notebookContainer = gd.closest('#notebook-container');\n",
       "if (notebookContainer) {{\n",
       "    x.observe(notebookContainer, {childList: true});\n",
       "}}\n",
       "\n",
       "// Listen for the clearing of the current output cell\n",
       "var outputEl = gd.closest('.output');\n",
       "if (outputEl) {{\n",
       "    x.observe(outputEl, {childList: true});\n",
       "}}\n",
       "\n",
       "                        })                };                });            </script>        </div>"
      ]
     },
     "metadata": {},
     "output_type": "display_data"
    }
   ],
   "source": [
    "# Graph Mean Number of Fish Eaten For Each Shark\n",
    "\n",
    "Eaten_Means = {'Shark': All_Sharks.columns,\n",
    "        'Mean': All_mean}\n",
    "\n",
    "Eaten_Means_df = pd.DataFrame(Eaten_Means, columns = ['Shark', 'Mean'])\n",
    "\n",
    "Eaten_Means_Sorted = Eaten_Means_df.sort_values(by=['Mean'], ascending = False)\n",
    "\n",
    "fig = px.histogram(Eaten_Means_Sorted, x=\"Shark\", y=\"Mean\", \n",
    "                   title = \"Mean Number of Fish Eaten by Shark\",\n",
    "                  labels={\n",
    "                     \"Shark\": \"Shark\",\n",
    "                     \"Mean\": \" Mean Number of Fish\",\n",
    "                 })\n",
    "fig.show()"
   ]
  },
  {
   "cell_type": "code",
   "execution_count": 135,
   "metadata": {
    "scrolled": true
   },
   "outputs": [
    {
     "data": {
      "text/plain": [
       "4.859106529209622"
      ]
     },
     "execution_count": 135,
     "metadata": {},
     "output_type": "execute_result"
    }
   ],
   "source": [
    "# Mean of Ross and Chandler\n",
    "Sandbar = eat['Ross'] + eat['Chandler']\n",
    "Sandbar.mean()"
   ]
  },
  {
   "cell_type": "code",
   "execution_count": 136,
   "metadata": {},
   "outputs": [
    {
     "data": {
      "text/plain": [
       "9.860824742268042"
      ]
     },
     "execution_count": 136,
     "metadata": {},
     "output_type": "execute_result"
    }
   ],
   "source": [
    "# Mean of BT\n",
    "BT = eat['BT1'] + eat['BT2'] + eat['BT3'] + eat['BT4'] + eat['BT5']\n",
    "BT.mean()"
   ]
  },
  {
   "cell_type": "code",
   "execution_count": 137,
   "metadata": {},
   "outputs": [
    {
     "data": {
      "text/plain": [
       "5.926116838487973"
      ]
     },
     "execution_count": 137,
     "metadata": {},
     "output_type": "execute_result"
    }
   ],
   "source": [
    "# Mean of GR\n",
    "GR = eat['GR1'] + eat['GR2'] + eat['GR3'] + eat['GR4'] + eat['GR5']\n",
    "GR.mean()"
   ]
  },
  {
   "cell_type": "code",
   "execution_count": 138,
   "metadata": {},
   "outputs": [
    {
     "data": {
      "application/vnd.plotly.v1+json": {
       "config": {
        "plotlyServerURL": "https://plot.ly"
       },
       "data": [
        {
         "alignmentgroup": "True",
         "bingroup": "x",
         "histfunc": "sum",
         "hovertemplate": "Species=%{x}<br>sum of  Mean Number of Fish=%{y}<extra></extra>",
         "legendgroup": "",
         "marker": {
          "color": "#636efa"
         },
         "name": "",
         "offsetgroup": "",
         "orientation": "v",
         "showlegend": false,
         "type": "histogram",
         "x": [
          "Blacktip",
          "Gray Reef",
          "Sandbar"
         ],
         "xaxis": "x",
         "y": [
          9.861,
          5.926,
          4.859
         ],
         "yaxis": "y"
        }
       ],
       "layout": {
        "barmode": "relative",
        "legend": {
         "tracegroupgap": 0
        },
        "template": {
         "data": {
          "bar": [
           {
            "error_x": {
             "color": "#2a3f5f"
            },
            "error_y": {
             "color": "#2a3f5f"
            },
            "marker": {
             "line": {
              "color": "#E5ECF6",
              "width": 0.5
             }
            },
            "type": "bar"
           }
          ],
          "barpolar": [
           {
            "marker": {
             "line": {
              "color": "#E5ECF6",
              "width": 0.5
             }
            },
            "type": "barpolar"
           }
          ],
          "carpet": [
           {
            "aaxis": {
             "endlinecolor": "#2a3f5f",
             "gridcolor": "white",
             "linecolor": "white",
             "minorgridcolor": "white",
             "startlinecolor": "#2a3f5f"
            },
            "baxis": {
             "endlinecolor": "#2a3f5f",
             "gridcolor": "white",
             "linecolor": "white",
             "minorgridcolor": "white",
             "startlinecolor": "#2a3f5f"
            },
            "type": "carpet"
           }
          ],
          "choropleth": [
           {
            "colorbar": {
             "outlinewidth": 0,
             "ticks": ""
            },
            "type": "choropleth"
           }
          ],
          "contour": [
           {
            "colorbar": {
             "outlinewidth": 0,
             "ticks": ""
            },
            "colorscale": [
             [
              0,
              "#0d0887"
             ],
             [
              0.1111111111111111,
              "#46039f"
             ],
             [
              0.2222222222222222,
              "#7201a8"
             ],
             [
              0.3333333333333333,
              "#9c179e"
             ],
             [
              0.4444444444444444,
              "#bd3786"
             ],
             [
              0.5555555555555556,
              "#d8576b"
             ],
             [
              0.6666666666666666,
              "#ed7953"
             ],
             [
              0.7777777777777778,
              "#fb9f3a"
             ],
             [
              0.8888888888888888,
              "#fdca26"
             ],
             [
              1,
              "#f0f921"
             ]
            ],
            "type": "contour"
           }
          ],
          "contourcarpet": [
           {
            "colorbar": {
             "outlinewidth": 0,
             "ticks": ""
            },
            "type": "contourcarpet"
           }
          ],
          "heatmap": [
           {
            "colorbar": {
             "outlinewidth": 0,
             "ticks": ""
            },
            "colorscale": [
             [
              0,
              "#0d0887"
             ],
             [
              0.1111111111111111,
              "#46039f"
             ],
             [
              0.2222222222222222,
              "#7201a8"
             ],
             [
              0.3333333333333333,
              "#9c179e"
             ],
             [
              0.4444444444444444,
              "#bd3786"
             ],
             [
              0.5555555555555556,
              "#d8576b"
             ],
             [
              0.6666666666666666,
              "#ed7953"
             ],
             [
              0.7777777777777778,
              "#fb9f3a"
             ],
             [
              0.8888888888888888,
              "#fdca26"
             ],
             [
              1,
              "#f0f921"
             ]
            ],
            "type": "heatmap"
           }
          ],
          "heatmapgl": [
           {
            "colorbar": {
             "outlinewidth": 0,
             "ticks": ""
            },
            "colorscale": [
             [
              0,
              "#0d0887"
             ],
             [
              0.1111111111111111,
              "#46039f"
             ],
             [
              0.2222222222222222,
              "#7201a8"
             ],
             [
              0.3333333333333333,
              "#9c179e"
             ],
             [
              0.4444444444444444,
              "#bd3786"
             ],
             [
              0.5555555555555556,
              "#d8576b"
             ],
             [
              0.6666666666666666,
              "#ed7953"
             ],
             [
              0.7777777777777778,
              "#fb9f3a"
             ],
             [
              0.8888888888888888,
              "#fdca26"
             ],
             [
              1,
              "#f0f921"
             ]
            ],
            "type": "heatmapgl"
           }
          ],
          "histogram": [
           {
            "marker": {
             "colorbar": {
              "outlinewidth": 0,
              "ticks": ""
             }
            },
            "type": "histogram"
           }
          ],
          "histogram2d": [
           {
            "colorbar": {
             "outlinewidth": 0,
             "ticks": ""
            },
            "colorscale": [
             [
              0,
              "#0d0887"
             ],
             [
              0.1111111111111111,
              "#46039f"
             ],
             [
              0.2222222222222222,
              "#7201a8"
             ],
             [
              0.3333333333333333,
              "#9c179e"
             ],
             [
              0.4444444444444444,
              "#bd3786"
             ],
             [
              0.5555555555555556,
              "#d8576b"
             ],
             [
              0.6666666666666666,
              "#ed7953"
             ],
             [
              0.7777777777777778,
              "#fb9f3a"
             ],
             [
              0.8888888888888888,
              "#fdca26"
             ],
             [
              1,
              "#f0f921"
             ]
            ],
            "type": "histogram2d"
           }
          ],
          "histogram2dcontour": [
           {
            "colorbar": {
             "outlinewidth": 0,
             "ticks": ""
            },
            "colorscale": [
             [
              0,
              "#0d0887"
             ],
             [
              0.1111111111111111,
              "#46039f"
             ],
             [
              0.2222222222222222,
              "#7201a8"
             ],
             [
              0.3333333333333333,
              "#9c179e"
             ],
             [
              0.4444444444444444,
              "#bd3786"
             ],
             [
              0.5555555555555556,
              "#d8576b"
             ],
             [
              0.6666666666666666,
              "#ed7953"
             ],
             [
              0.7777777777777778,
              "#fb9f3a"
             ],
             [
              0.8888888888888888,
              "#fdca26"
             ],
             [
              1,
              "#f0f921"
             ]
            ],
            "type": "histogram2dcontour"
           }
          ],
          "mesh3d": [
           {
            "colorbar": {
             "outlinewidth": 0,
             "ticks": ""
            },
            "type": "mesh3d"
           }
          ],
          "parcoords": [
           {
            "line": {
             "colorbar": {
              "outlinewidth": 0,
              "ticks": ""
             }
            },
            "type": "parcoords"
           }
          ],
          "pie": [
           {
            "automargin": true,
            "type": "pie"
           }
          ],
          "scatter": [
           {
            "marker": {
             "colorbar": {
              "outlinewidth": 0,
              "ticks": ""
             }
            },
            "type": "scatter"
           }
          ],
          "scatter3d": [
           {
            "line": {
             "colorbar": {
              "outlinewidth": 0,
              "ticks": ""
             }
            },
            "marker": {
             "colorbar": {
              "outlinewidth": 0,
              "ticks": ""
             }
            },
            "type": "scatter3d"
           }
          ],
          "scattercarpet": [
           {
            "marker": {
             "colorbar": {
              "outlinewidth": 0,
              "ticks": ""
             }
            },
            "type": "scattercarpet"
           }
          ],
          "scattergeo": [
           {
            "marker": {
             "colorbar": {
              "outlinewidth": 0,
              "ticks": ""
             }
            },
            "type": "scattergeo"
           }
          ],
          "scattergl": [
           {
            "marker": {
             "colorbar": {
              "outlinewidth": 0,
              "ticks": ""
             }
            },
            "type": "scattergl"
           }
          ],
          "scattermapbox": [
           {
            "marker": {
             "colorbar": {
              "outlinewidth": 0,
              "ticks": ""
             }
            },
            "type": "scattermapbox"
           }
          ],
          "scatterpolar": [
           {
            "marker": {
             "colorbar": {
              "outlinewidth": 0,
              "ticks": ""
             }
            },
            "type": "scatterpolar"
           }
          ],
          "scatterpolargl": [
           {
            "marker": {
             "colorbar": {
              "outlinewidth": 0,
              "ticks": ""
             }
            },
            "type": "scatterpolargl"
           }
          ],
          "scatterternary": [
           {
            "marker": {
             "colorbar": {
              "outlinewidth": 0,
              "ticks": ""
             }
            },
            "type": "scatterternary"
           }
          ],
          "surface": [
           {
            "colorbar": {
             "outlinewidth": 0,
             "ticks": ""
            },
            "colorscale": [
             [
              0,
              "#0d0887"
             ],
             [
              0.1111111111111111,
              "#46039f"
             ],
             [
              0.2222222222222222,
              "#7201a8"
             ],
             [
              0.3333333333333333,
              "#9c179e"
             ],
             [
              0.4444444444444444,
              "#bd3786"
             ],
             [
              0.5555555555555556,
              "#d8576b"
             ],
             [
              0.6666666666666666,
              "#ed7953"
             ],
             [
              0.7777777777777778,
              "#fb9f3a"
             ],
             [
              0.8888888888888888,
              "#fdca26"
             ],
             [
              1,
              "#f0f921"
             ]
            ],
            "type": "surface"
           }
          ],
          "table": [
           {
            "cells": {
             "fill": {
              "color": "#EBF0F8"
             },
             "line": {
              "color": "white"
             }
            },
            "header": {
             "fill": {
              "color": "#C8D4E3"
             },
             "line": {
              "color": "white"
             }
            },
            "type": "table"
           }
          ]
         },
         "layout": {
          "annotationdefaults": {
           "arrowcolor": "#2a3f5f",
           "arrowhead": 0,
           "arrowwidth": 1
          },
          "coloraxis": {
           "colorbar": {
            "outlinewidth": 0,
            "ticks": ""
           }
          },
          "colorscale": {
           "diverging": [
            [
             0,
             "#8e0152"
            ],
            [
             0.1,
             "#c51b7d"
            ],
            [
             0.2,
             "#de77ae"
            ],
            [
             0.3,
             "#f1b6da"
            ],
            [
             0.4,
             "#fde0ef"
            ],
            [
             0.5,
             "#f7f7f7"
            ],
            [
             0.6,
             "#e6f5d0"
            ],
            [
             0.7,
             "#b8e186"
            ],
            [
             0.8,
             "#7fbc41"
            ],
            [
             0.9,
             "#4d9221"
            ],
            [
             1,
             "#276419"
            ]
           ],
           "sequential": [
            [
             0,
             "#0d0887"
            ],
            [
             0.1111111111111111,
             "#46039f"
            ],
            [
             0.2222222222222222,
             "#7201a8"
            ],
            [
             0.3333333333333333,
             "#9c179e"
            ],
            [
             0.4444444444444444,
             "#bd3786"
            ],
            [
             0.5555555555555556,
             "#d8576b"
            ],
            [
             0.6666666666666666,
             "#ed7953"
            ],
            [
             0.7777777777777778,
             "#fb9f3a"
            ],
            [
             0.8888888888888888,
             "#fdca26"
            ],
            [
             1,
             "#f0f921"
            ]
           ],
           "sequentialminus": [
            [
             0,
             "#0d0887"
            ],
            [
             0.1111111111111111,
             "#46039f"
            ],
            [
             0.2222222222222222,
             "#7201a8"
            ],
            [
             0.3333333333333333,
             "#9c179e"
            ],
            [
             0.4444444444444444,
             "#bd3786"
            ],
            [
             0.5555555555555556,
             "#d8576b"
            ],
            [
             0.6666666666666666,
             "#ed7953"
            ],
            [
             0.7777777777777778,
             "#fb9f3a"
            ],
            [
             0.8888888888888888,
             "#fdca26"
            ],
            [
             1,
             "#f0f921"
            ]
           ]
          },
          "colorway": [
           "#636efa",
           "#EF553B",
           "#00cc96",
           "#ab63fa",
           "#FFA15A",
           "#19d3f3",
           "#FF6692",
           "#B6E880",
           "#FF97FF",
           "#FECB52"
          ],
          "font": {
           "color": "#2a3f5f"
          },
          "geo": {
           "bgcolor": "white",
           "lakecolor": "white",
           "landcolor": "#E5ECF6",
           "showlakes": true,
           "showland": true,
           "subunitcolor": "white"
          },
          "hoverlabel": {
           "align": "left"
          },
          "hovermode": "closest",
          "mapbox": {
           "style": "light"
          },
          "paper_bgcolor": "white",
          "plot_bgcolor": "#E5ECF6",
          "polar": {
           "angularaxis": {
            "gridcolor": "white",
            "linecolor": "white",
            "ticks": ""
           },
           "bgcolor": "#E5ECF6",
           "radialaxis": {
            "gridcolor": "white",
            "linecolor": "white",
            "ticks": ""
           }
          },
          "scene": {
           "xaxis": {
            "backgroundcolor": "#E5ECF6",
            "gridcolor": "white",
            "gridwidth": 2,
            "linecolor": "white",
            "showbackground": true,
            "ticks": "",
            "zerolinecolor": "white"
           },
           "yaxis": {
            "backgroundcolor": "#E5ECF6",
            "gridcolor": "white",
            "gridwidth": 2,
            "linecolor": "white",
            "showbackground": true,
            "ticks": "",
            "zerolinecolor": "white"
           },
           "zaxis": {
            "backgroundcolor": "#E5ECF6",
            "gridcolor": "white",
            "gridwidth": 2,
            "linecolor": "white",
            "showbackground": true,
            "ticks": "",
            "zerolinecolor": "white"
           }
          },
          "shapedefaults": {
           "line": {
            "color": "#2a3f5f"
           }
          },
          "ternary": {
           "aaxis": {
            "gridcolor": "white",
            "linecolor": "white",
            "ticks": ""
           },
           "baxis": {
            "gridcolor": "white",
            "linecolor": "white",
            "ticks": ""
           },
           "bgcolor": "#E5ECF6",
           "caxis": {
            "gridcolor": "white",
            "linecolor": "white",
            "ticks": ""
           }
          },
          "title": {
           "x": 0.05
          },
          "xaxis": {
           "automargin": true,
           "gridcolor": "white",
           "linecolor": "white",
           "ticks": "",
           "title": {
            "standoff": 15
           },
           "zerolinecolor": "white",
           "zerolinewidth": 2
          },
          "yaxis": {
           "automargin": true,
           "gridcolor": "white",
           "linecolor": "white",
           "ticks": "",
           "title": {
            "standoff": 15
           },
           "zerolinecolor": "white",
           "zerolinewidth": 2
          }
         }
        },
        "title": {
         "text": "Mean Number of Fish Eaten by Species"
        },
        "xaxis": {
         "anchor": "y",
         "domain": [
          0,
          1
         ],
         "title": {
          "text": "Species"
         }
        },
        "yaxis": {
         "anchor": "x",
         "domain": [
          0,
          1
         ],
         "title": {
          "text": "sum of  Mean Number of Fish"
         }
        }
       }
      },
      "text/html": [
       "<div>                            <div id=\"190fb685-3103-4914-8803-41ecc5d5177e\" class=\"plotly-graph-div\" style=\"height:525px; width:100%;\"></div>            <script type=\"text/javascript\">                require([\"plotly\"], function(Plotly) {                    window.PLOTLYENV=window.PLOTLYENV || {};                                    if (document.getElementById(\"190fb685-3103-4914-8803-41ecc5d5177e\")) {                    Plotly.newPlot(                        \"190fb685-3103-4914-8803-41ecc5d5177e\",                        [{\"alignmentgroup\": \"True\", \"bingroup\": \"x\", \"histfunc\": \"sum\", \"hovertemplate\": \"Species=%{x}<br>sum of  Mean Number of Fish=%{y}<extra></extra>\", \"legendgroup\": \"\", \"marker\": {\"color\": \"#636efa\"}, \"name\": \"\", \"offsetgroup\": \"\", \"orientation\": \"v\", \"showlegend\": false, \"type\": \"histogram\", \"x\": [\"Blacktip\", \"Gray Reef\", \"Sandbar\"], \"xaxis\": \"x\", \"y\": [9.861, 5.926, 4.859], \"yaxis\": \"y\"}],                        {\"barmode\": \"relative\", \"legend\": {\"tracegroupgap\": 0}, \"template\": {\"data\": {\"bar\": [{\"error_x\": {\"color\": \"#2a3f5f\"}, \"error_y\": {\"color\": \"#2a3f5f\"}, \"marker\": {\"line\": {\"color\": \"#E5ECF6\", \"width\": 0.5}}, \"type\": \"bar\"}], \"barpolar\": [{\"marker\": {\"line\": {\"color\": \"#E5ECF6\", \"width\": 0.5}}, \"type\": \"barpolar\"}], \"carpet\": [{\"aaxis\": {\"endlinecolor\": \"#2a3f5f\", \"gridcolor\": \"white\", \"linecolor\": \"white\", \"minorgridcolor\": \"white\", \"startlinecolor\": \"#2a3f5f\"}, \"baxis\": {\"endlinecolor\": \"#2a3f5f\", \"gridcolor\": \"white\", \"linecolor\": \"white\", \"minorgridcolor\": \"white\", \"startlinecolor\": \"#2a3f5f\"}, \"type\": \"carpet\"}], \"choropleth\": [{\"colorbar\": {\"outlinewidth\": 0, \"ticks\": \"\"}, \"type\": \"choropleth\"}], \"contour\": [{\"colorbar\": {\"outlinewidth\": 0, \"ticks\": \"\"}, \"colorscale\": [[0.0, \"#0d0887\"], [0.1111111111111111, \"#46039f\"], [0.2222222222222222, \"#7201a8\"], [0.3333333333333333, \"#9c179e\"], [0.4444444444444444, \"#bd3786\"], [0.5555555555555556, \"#d8576b\"], [0.6666666666666666, \"#ed7953\"], [0.7777777777777778, \"#fb9f3a\"], [0.8888888888888888, \"#fdca26\"], [1.0, \"#f0f921\"]], \"type\": \"contour\"}], \"contourcarpet\": [{\"colorbar\": {\"outlinewidth\": 0, \"ticks\": \"\"}, \"type\": \"contourcarpet\"}], \"heatmap\": [{\"colorbar\": {\"outlinewidth\": 0, \"ticks\": \"\"}, \"colorscale\": [[0.0, \"#0d0887\"], [0.1111111111111111, \"#46039f\"], [0.2222222222222222, \"#7201a8\"], [0.3333333333333333, \"#9c179e\"], [0.4444444444444444, \"#bd3786\"], [0.5555555555555556, \"#d8576b\"], [0.6666666666666666, \"#ed7953\"], [0.7777777777777778, \"#fb9f3a\"], [0.8888888888888888, \"#fdca26\"], [1.0, \"#f0f921\"]], \"type\": \"heatmap\"}], \"heatmapgl\": [{\"colorbar\": {\"outlinewidth\": 0, \"ticks\": \"\"}, \"colorscale\": [[0.0, \"#0d0887\"], [0.1111111111111111, \"#46039f\"], [0.2222222222222222, \"#7201a8\"], [0.3333333333333333, \"#9c179e\"], [0.4444444444444444, \"#bd3786\"], [0.5555555555555556, \"#d8576b\"], [0.6666666666666666, \"#ed7953\"], [0.7777777777777778, \"#fb9f3a\"], [0.8888888888888888, \"#fdca26\"], [1.0, \"#f0f921\"]], \"type\": \"heatmapgl\"}], \"histogram\": [{\"marker\": {\"colorbar\": {\"outlinewidth\": 0, \"ticks\": \"\"}}, \"type\": \"histogram\"}], \"histogram2d\": [{\"colorbar\": {\"outlinewidth\": 0, \"ticks\": \"\"}, \"colorscale\": [[0.0, \"#0d0887\"], [0.1111111111111111, \"#46039f\"], [0.2222222222222222, \"#7201a8\"], [0.3333333333333333, \"#9c179e\"], [0.4444444444444444, \"#bd3786\"], [0.5555555555555556, \"#d8576b\"], [0.6666666666666666, \"#ed7953\"], [0.7777777777777778, \"#fb9f3a\"], [0.8888888888888888, \"#fdca26\"], [1.0, \"#f0f921\"]], \"type\": \"histogram2d\"}], \"histogram2dcontour\": [{\"colorbar\": {\"outlinewidth\": 0, \"ticks\": \"\"}, \"colorscale\": [[0.0, \"#0d0887\"], [0.1111111111111111, \"#46039f\"], [0.2222222222222222, \"#7201a8\"], [0.3333333333333333, \"#9c179e\"], [0.4444444444444444, \"#bd3786\"], [0.5555555555555556, \"#d8576b\"], [0.6666666666666666, \"#ed7953\"], [0.7777777777777778, \"#fb9f3a\"], [0.8888888888888888, \"#fdca26\"], [1.0, \"#f0f921\"]], \"type\": \"histogram2dcontour\"}], \"mesh3d\": [{\"colorbar\": {\"outlinewidth\": 0, \"ticks\": \"\"}, \"type\": \"mesh3d\"}], \"parcoords\": [{\"line\": {\"colorbar\": {\"outlinewidth\": 0, \"ticks\": \"\"}}, \"type\": \"parcoords\"}], \"pie\": [{\"automargin\": true, \"type\": \"pie\"}], \"scatter\": [{\"marker\": {\"colorbar\": {\"outlinewidth\": 0, \"ticks\": \"\"}}, \"type\": \"scatter\"}], \"scatter3d\": [{\"line\": {\"colorbar\": {\"outlinewidth\": 0, \"ticks\": \"\"}}, \"marker\": {\"colorbar\": {\"outlinewidth\": 0, \"ticks\": \"\"}}, \"type\": \"scatter3d\"}], \"scattercarpet\": [{\"marker\": {\"colorbar\": {\"outlinewidth\": 0, \"ticks\": \"\"}}, \"type\": \"scattercarpet\"}], \"scattergeo\": [{\"marker\": {\"colorbar\": {\"outlinewidth\": 0, \"ticks\": \"\"}}, \"type\": \"scattergeo\"}], \"scattergl\": [{\"marker\": {\"colorbar\": {\"outlinewidth\": 0, \"ticks\": \"\"}}, \"type\": \"scattergl\"}], \"scattermapbox\": [{\"marker\": {\"colorbar\": {\"outlinewidth\": 0, \"ticks\": \"\"}}, \"type\": \"scattermapbox\"}], \"scatterpolar\": [{\"marker\": {\"colorbar\": {\"outlinewidth\": 0, \"ticks\": \"\"}}, \"type\": \"scatterpolar\"}], \"scatterpolargl\": [{\"marker\": {\"colorbar\": {\"outlinewidth\": 0, \"ticks\": \"\"}}, \"type\": \"scatterpolargl\"}], \"scatterternary\": [{\"marker\": {\"colorbar\": {\"outlinewidth\": 0, \"ticks\": \"\"}}, \"type\": \"scatterternary\"}], \"surface\": [{\"colorbar\": {\"outlinewidth\": 0, \"ticks\": \"\"}, \"colorscale\": [[0.0, \"#0d0887\"], [0.1111111111111111, \"#46039f\"], [0.2222222222222222, \"#7201a8\"], [0.3333333333333333, \"#9c179e\"], [0.4444444444444444, \"#bd3786\"], [0.5555555555555556, \"#d8576b\"], [0.6666666666666666, \"#ed7953\"], [0.7777777777777778, \"#fb9f3a\"], [0.8888888888888888, \"#fdca26\"], [1.0, \"#f0f921\"]], \"type\": \"surface\"}], \"table\": [{\"cells\": {\"fill\": {\"color\": \"#EBF0F8\"}, \"line\": {\"color\": \"white\"}}, \"header\": {\"fill\": {\"color\": \"#C8D4E3\"}, \"line\": {\"color\": \"white\"}}, \"type\": \"table\"}]}, \"layout\": {\"annotationdefaults\": {\"arrowcolor\": \"#2a3f5f\", \"arrowhead\": 0, \"arrowwidth\": 1}, \"coloraxis\": {\"colorbar\": {\"outlinewidth\": 0, \"ticks\": \"\"}}, \"colorscale\": {\"diverging\": [[0, \"#8e0152\"], [0.1, \"#c51b7d\"], [0.2, \"#de77ae\"], [0.3, \"#f1b6da\"], [0.4, \"#fde0ef\"], [0.5, \"#f7f7f7\"], [0.6, \"#e6f5d0\"], [0.7, \"#b8e186\"], [0.8, \"#7fbc41\"], [0.9, \"#4d9221\"], [1, \"#276419\"]], \"sequential\": [[0.0, \"#0d0887\"], [0.1111111111111111, \"#46039f\"], [0.2222222222222222, \"#7201a8\"], [0.3333333333333333, \"#9c179e\"], [0.4444444444444444, \"#bd3786\"], [0.5555555555555556, \"#d8576b\"], [0.6666666666666666, \"#ed7953\"], [0.7777777777777778, \"#fb9f3a\"], [0.8888888888888888, \"#fdca26\"], [1.0, \"#f0f921\"]], \"sequentialminus\": [[0.0, \"#0d0887\"], [0.1111111111111111, \"#46039f\"], [0.2222222222222222, \"#7201a8\"], [0.3333333333333333, \"#9c179e\"], [0.4444444444444444, \"#bd3786\"], [0.5555555555555556, \"#d8576b\"], [0.6666666666666666, \"#ed7953\"], [0.7777777777777778, \"#fb9f3a\"], [0.8888888888888888, \"#fdca26\"], [1.0, \"#f0f921\"]]}, \"colorway\": [\"#636efa\", \"#EF553B\", \"#00cc96\", \"#ab63fa\", \"#FFA15A\", \"#19d3f3\", \"#FF6692\", \"#B6E880\", \"#FF97FF\", \"#FECB52\"], \"font\": {\"color\": \"#2a3f5f\"}, \"geo\": {\"bgcolor\": \"white\", \"lakecolor\": \"white\", \"landcolor\": \"#E5ECF6\", \"showlakes\": true, \"showland\": true, \"subunitcolor\": \"white\"}, \"hoverlabel\": {\"align\": \"left\"}, \"hovermode\": \"closest\", \"mapbox\": {\"style\": \"light\"}, \"paper_bgcolor\": \"white\", \"plot_bgcolor\": \"#E5ECF6\", \"polar\": {\"angularaxis\": {\"gridcolor\": \"white\", \"linecolor\": \"white\", \"ticks\": \"\"}, \"bgcolor\": \"#E5ECF6\", \"radialaxis\": {\"gridcolor\": \"white\", \"linecolor\": \"white\", \"ticks\": \"\"}}, \"scene\": {\"xaxis\": {\"backgroundcolor\": \"#E5ECF6\", \"gridcolor\": \"white\", \"gridwidth\": 2, \"linecolor\": \"white\", \"showbackground\": true, \"ticks\": \"\", \"zerolinecolor\": \"white\"}, \"yaxis\": {\"backgroundcolor\": \"#E5ECF6\", \"gridcolor\": \"white\", \"gridwidth\": 2, \"linecolor\": \"white\", \"showbackground\": true, \"ticks\": \"\", \"zerolinecolor\": \"white\"}, \"zaxis\": {\"backgroundcolor\": \"#E5ECF6\", \"gridcolor\": \"white\", \"gridwidth\": 2, \"linecolor\": \"white\", \"showbackground\": true, \"ticks\": \"\", \"zerolinecolor\": \"white\"}}, \"shapedefaults\": {\"line\": {\"color\": \"#2a3f5f\"}}, \"ternary\": {\"aaxis\": {\"gridcolor\": \"white\", \"linecolor\": \"white\", \"ticks\": \"\"}, \"baxis\": {\"gridcolor\": \"white\", \"linecolor\": \"white\", \"ticks\": \"\"}, \"bgcolor\": \"#E5ECF6\", \"caxis\": {\"gridcolor\": \"white\", \"linecolor\": \"white\", \"ticks\": \"\"}}, \"title\": {\"x\": 0.05}, \"xaxis\": {\"automargin\": true, \"gridcolor\": \"white\", \"linecolor\": \"white\", \"ticks\": \"\", \"title\": {\"standoff\": 15}, \"zerolinecolor\": \"white\", \"zerolinewidth\": 2}, \"yaxis\": {\"automargin\": true, \"gridcolor\": \"white\", \"linecolor\": \"white\", \"ticks\": \"\", \"title\": {\"standoff\": 15}, \"zerolinecolor\": \"white\", \"zerolinewidth\": 2}}}, \"title\": {\"text\": \"Mean Number of Fish Eaten by Species\"}, \"xaxis\": {\"anchor\": \"y\", \"domain\": [0.0, 1.0], \"title\": {\"text\": \"Species\"}}, \"yaxis\": {\"anchor\": \"x\", \"domain\": [0.0, 1.0], \"title\": {\"text\": \"sum of  Mean Number of Fish\"}}},                        {\"responsive\": true}                    ).then(function(){\n",
       "                            \n",
       "var gd = document.getElementById('190fb685-3103-4914-8803-41ecc5d5177e');\n",
       "var x = new MutationObserver(function (mutations, observer) {{\n",
       "        var display = window.getComputedStyle(gd).display;\n",
       "        if (!display || display === 'none') {{\n",
       "            console.log([gd, 'removed!']);\n",
       "            Plotly.purge(gd);\n",
       "            observer.disconnect();\n",
       "        }}\n",
       "}});\n",
       "\n",
       "// Listen for the removal of the full notebook cells\n",
       "var notebookContainer = gd.closest('#notebook-container');\n",
       "if (notebookContainer) {{\n",
       "    x.observe(notebookContainer, {childList: true});\n",
       "}}\n",
       "\n",
       "// Listen for the clearing of the current output cell\n",
       "var outputEl = gd.closest('.output');\n",
       "if (outputEl) {{\n",
       "    x.observe(outputEl, {childList: true});\n",
       "}}\n",
       "\n",
       "                        })                };                });            </script>        </div>"
      ]
     },
     "metadata": {},
     "output_type": "display_data"
    }
   ],
   "source": [
    "# Graph Mean Number of Fish Eaten For Each Species\n",
    "\n",
    "Species_Eaten_Means = {'Species': ['Blacktip', 'Gray Reef', 'Sandbar'],\n",
    "        'Mean': [round(BT.mean(),3),round(GR.mean(),3), round(Sandbar.mean(),3)]}\n",
    "\n",
    "Species_Eaten_Means_df = pd.DataFrame(Species_Eaten_Means, columns = ['Species', 'Mean'])\n",
    "\n",
    "Species_Eaten_Means_Sorted = Species_Eaten_Means_df.sort_values(by=['Mean'], ascending = False)\n",
    "\n",
    "fig = px.histogram(Species_Eaten_Means_Sorted, x=\"Species\", y=\"Mean\", \n",
    "                   title = \"Mean Number of Fish Eaten by Species\",\n",
    "                  labels={\n",
    "                     \"Species\": \"Species\",\n",
    "                     \"Mean\": \" Mean Number of Fish\",\n",
    "                 })\n",
    "fig.show()"
   ]
  },
  {
   "cell_type": "code",
   "execution_count": 139,
   "metadata": {},
   "outputs": [
    {
     "name": "stdout",
     "output_type": "stream",
     "text": [
      "Ross 377\n",
      "Chandler 337\n",
      "BT1 324\n",
      "BT2 355\n",
      "BT3 331\n",
      "BT4 367\n",
      "BT5 370\n",
      "GR1 282\n",
      "GR2 286\n",
      "GR3 307\n",
      "GR4 318\n",
      "GR5 313\n"
     ]
    }
   ],
   "source": [
    "# Look at how many days the sharks ate in comparison to did not eat\n",
    "columns = list(All_Sharks) \n",
    "  \n",
    "for i in columns: \n",
    "    Days_Eaten = All_Sharks[i] > 0\n",
    "    print(i, All_Sharks[i][Days_Eaten].count())"
   ]
  },
  {
   "cell_type": "code",
   "execution_count": 140,
   "metadata": {},
   "outputs": [
    {
     "name": "stdout",
     "output_type": "stream",
     "text": [
      "Ross 0.648\n",
      "Chandler 0.579\n",
      "BT1 0.557\n",
      "BT2 0.61\n",
      "BT3 0.569\n",
      "BT4 0.631\n",
      "BT5 0.636\n",
      "GR1 0.485\n",
      "GR2 0.491\n",
      "GR3 0.527\n",
      "GR4 0.546\n",
      "GR5 0.538\n"
     ]
    }
   ],
   "source": [
    "# Proportion of Days Each Shark Ate Out of Total Days\n",
    "columns = list(All_Sharks) \n",
    "  \n",
    "for i in columns: \n",
    "    Days_Eaten = All_Sharks[i] > 0\n",
    "    prop = round((All_Sharks[i][Days_Eaten].count())/All_Sharks[i].count(), 3)\n",
    "    print(i, prop)"
   ]
  },
  {
   "cell_type": "code",
   "execution_count": 141,
   "metadata": {},
   "outputs": [
    {
     "data": {
      "application/vnd.plotly.v1+json": {
       "config": {
        "plotlyServerURL": "https://plot.ly"
       },
       "data": [
        {
         "alignmentgroup": "True",
         "bingroup": "x",
         "histfunc": "sum",
         "hovertemplate": "Shark=%{x}<br>sum of Proportion of Days=%{y}<extra></extra>",
         "legendgroup": "",
         "marker": {
          "color": "#636efa"
         },
         "name": "",
         "offsetgroup": "",
         "orientation": "v",
         "showlegend": false,
         "type": "histogram",
         "x": [
          "Ross",
          "BT5",
          "BT4",
          "BT2",
          "Chandler",
          "BT3",
          "BT1",
          "GR4",
          "GR5",
          "GR3",
          "GR2",
          "GR1"
         ],
         "xaxis": "x",
         "y": [
          0.857,
          0.849,
          0.838,
          0.811,
          0.768,
          0.756,
          0.74,
          0.728,
          0.716,
          0.703,
          0.654,
          0.645
         ],
         "yaxis": "y"
        }
       ],
       "layout": {
        "barmode": "relative",
        "legend": {
         "tracegroupgap": 0
        },
        "template": {
         "data": {
          "bar": [
           {
            "error_x": {
             "color": "#2a3f5f"
            },
            "error_y": {
             "color": "#2a3f5f"
            },
            "marker": {
             "line": {
              "color": "#E5ECF6",
              "width": 0.5
             }
            },
            "type": "bar"
           }
          ],
          "barpolar": [
           {
            "marker": {
             "line": {
              "color": "#E5ECF6",
              "width": 0.5
             }
            },
            "type": "barpolar"
           }
          ],
          "carpet": [
           {
            "aaxis": {
             "endlinecolor": "#2a3f5f",
             "gridcolor": "white",
             "linecolor": "white",
             "minorgridcolor": "white",
             "startlinecolor": "#2a3f5f"
            },
            "baxis": {
             "endlinecolor": "#2a3f5f",
             "gridcolor": "white",
             "linecolor": "white",
             "minorgridcolor": "white",
             "startlinecolor": "#2a3f5f"
            },
            "type": "carpet"
           }
          ],
          "choropleth": [
           {
            "colorbar": {
             "outlinewidth": 0,
             "ticks": ""
            },
            "type": "choropleth"
           }
          ],
          "contour": [
           {
            "colorbar": {
             "outlinewidth": 0,
             "ticks": ""
            },
            "colorscale": [
             [
              0,
              "#0d0887"
             ],
             [
              0.1111111111111111,
              "#46039f"
             ],
             [
              0.2222222222222222,
              "#7201a8"
             ],
             [
              0.3333333333333333,
              "#9c179e"
             ],
             [
              0.4444444444444444,
              "#bd3786"
             ],
             [
              0.5555555555555556,
              "#d8576b"
             ],
             [
              0.6666666666666666,
              "#ed7953"
             ],
             [
              0.7777777777777778,
              "#fb9f3a"
             ],
             [
              0.8888888888888888,
              "#fdca26"
             ],
             [
              1,
              "#f0f921"
             ]
            ],
            "type": "contour"
           }
          ],
          "contourcarpet": [
           {
            "colorbar": {
             "outlinewidth": 0,
             "ticks": ""
            },
            "type": "contourcarpet"
           }
          ],
          "heatmap": [
           {
            "colorbar": {
             "outlinewidth": 0,
             "ticks": ""
            },
            "colorscale": [
             [
              0,
              "#0d0887"
             ],
             [
              0.1111111111111111,
              "#46039f"
             ],
             [
              0.2222222222222222,
              "#7201a8"
             ],
             [
              0.3333333333333333,
              "#9c179e"
             ],
             [
              0.4444444444444444,
              "#bd3786"
             ],
             [
              0.5555555555555556,
              "#d8576b"
             ],
             [
              0.6666666666666666,
              "#ed7953"
             ],
             [
              0.7777777777777778,
              "#fb9f3a"
             ],
             [
              0.8888888888888888,
              "#fdca26"
             ],
             [
              1,
              "#f0f921"
             ]
            ],
            "type": "heatmap"
           }
          ],
          "heatmapgl": [
           {
            "colorbar": {
             "outlinewidth": 0,
             "ticks": ""
            },
            "colorscale": [
             [
              0,
              "#0d0887"
             ],
             [
              0.1111111111111111,
              "#46039f"
             ],
             [
              0.2222222222222222,
              "#7201a8"
             ],
             [
              0.3333333333333333,
              "#9c179e"
             ],
             [
              0.4444444444444444,
              "#bd3786"
             ],
             [
              0.5555555555555556,
              "#d8576b"
             ],
             [
              0.6666666666666666,
              "#ed7953"
             ],
             [
              0.7777777777777778,
              "#fb9f3a"
             ],
             [
              0.8888888888888888,
              "#fdca26"
             ],
             [
              1,
              "#f0f921"
             ]
            ],
            "type": "heatmapgl"
           }
          ],
          "histogram": [
           {
            "marker": {
             "colorbar": {
              "outlinewidth": 0,
              "ticks": ""
             }
            },
            "type": "histogram"
           }
          ],
          "histogram2d": [
           {
            "colorbar": {
             "outlinewidth": 0,
             "ticks": ""
            },
            "colorscale": [
             [
              0,
              "#0d0887"
             ],
             [
              0.1111111111111111,
              "#46039f"
             ],
             [
              0.2222222222222222,
              "#7201a8"
             ],
             [
              0.3333333333333333,
              "#9c179e"
             ],
             [
              0.4444444444444444,
              "#bd3786"
             ],
             [
              0.5555555555555556,
              "#d8576b"
             ],
             [
              0.6666666666666666,
              "#ed7953"
             ],
             [
              0.7777777777777778,
              "#fb9f3a"
             ],
             [
              0.8888888888888888,
              "#fdca26"
             ],
             [
              1,
              "#f0f921"
             ]
            ],
            "type": "histogram2d"
           }
          ],
          "histogram2dcontour": [
           {
            "colorbar": {
             "outlinewidth": 0,
             "ticks": ""
            },
            "colorscale": [
             [
              0,
              "#0d0887"
             ],
             [
              0.1111111111111111,
              "#46039f"
             ],
             [
              0.2222222222222222,
              "#7201a8"
             ],
             [
              0.3333333333333333,
              "#9c179e"
             ],
             [
              0.4444444444444444,
              "#bd3786"
             ],
             [
              0.5555555555555556,
              "#d8576b"
             ],
             [
              0.6666666666666666,
              "#ed7953"
             ],
             [
              0.7777777777777778,
              "#fb9f3a"
             ],
             [
              0.8888888888888888,
              "#fdca26"
             ],
             [
              1,
              "#f0f921"
             ]
            ],
            "type": "histogram2dcontour"
           }
          ],
          "mesh3d": [
           {
            "colorbar": {
             "outlinewidth": 0,
             "ticks": ""
            },
            "type": "mesh3d"
           }
          ],
          "parcoords": [
           {
            "line": {
             "colorbar": {
              "outlinewidth": 0,
              "ticks": ""
             }
            },
            "type": "parcoords"
           }
          ],
          "pie": [
           {
            "automargin": true,
            "type": "pie"
           }
          ],
          "scatter": [
           {
            "marker": {
             "colorbar": {
              "outlinewidth": 0,
              "ticks": ""
             }
            },
            "type": "scatter"
           }
          ],
          "scatter3d": [
           {
            "line": {
             "colorbar": {
              "outlinewidth": 0,
              "ticks": ""
             }
            },
            "marker": {
             "colorbar": {
              "outlinewidth": 0,
              "ticks": ""
             }
            },
            "type": "scatter3d"
           }
          ],
          "scattercarpet": [
           {
            "marker": {
             "colorbar": {
              "outlinewidth": 0,
              "ticks": ""
             }
            },
            "type": "scattercarpet"
           }
          ],
          "scattergeo": [
           {
            "marker": {
             "colorbar": {
              "outlinewidth": 0,
              "ticks": ""
             }
            },
            "type": "scattergeo"
           }
          ],
          "scattergl": [
           {
            "marker": {
             "colorbar": {
              "outlinewidth": 0,
              "ticks": ""
             }
            },
            "type": "scattergl"
           }
          ],
          "scattermapbox": [
           {
            "marker": {
             "colorbar": {
              "outlinewidth": 0,
              "ticks": ""
             }
            },
            "type": "scattermapbox"
           }
          ],
          "scatterpolar": [
           {
            "marker": {
             "colorbar": {
              "outlinewidth": 0,
              "ticks": ""
             }
            },
            "type": "scatterpolar"
           }
          ],
          "scatterpolargl": [
           {
            "marker": {
             "colorbar": {
              "outlinewidth": 0,
              "ticks": ""
             }
            },
            "type": "scatterpolargl"
           }
          ],
          "scatterternary": [
           {
            "marker": {
             "colorbar": {
              "outlinewidth": 0,
              "ticks": ""
             }
            },
            "type": "scatterternary"
           }
          ],
          "surface": [
           {
            "colorbar": {
             "outlinewidth": 0,
             "ticks": ""
            },
            "colorscale": [
             [
              0,
              "#0d0887"
             ],
             [
              0.1111111111111111,
              "#46039f"
             ],
             [
              0.2222222222222222,
              "#7201a8"
             ],
             [
              0.3333333333333333,
              "#9c179e"
             ],
             [
              0.4444444444444444,
              "#bd3786"
             ],
             [
              0.5555555555555556,
              "#d8576b"
             ],
             [
              0.6666666666666666,
              "#ed7953"
             ],
             [
              0.7777777777777778,
              "#fb9f3a"
             ],
             [
              0.8888888888888888,
              "#fdca26"
             ],
             [
              1,
              "#f0f921"
             ]
            ],
            "type": "surface"
           }
          ],
          "table": [
           {
            "cells": {
             "fill": {
              "color": "#EBF0F8"
             },
             "line": {
              "color": "white"
             }
            },
            "header": {
             "fill": {
              "color": "#C8D4E3"
             },
             "line": {
              "color": "white"
             }
            },
            "type": "table"
           }
          ]
         },
         "layout": {
          "annotationdefaults": {
           "arrowcolor": "#2a3f5f",
           "arrowhead": 0,
           "arrowwidth": 1
          },
          "coloraxis": {
           "colorbar": {
            "outlinewidth": 0,
            "ticks": ""
           }
          },
          "colorscale": {
           "diverging": [
            [
             0,
             "#8e0152"
            ],
            [
             0.1,
             "#c51b7d"
            ],
            [
             0.2,
             "#de77ae"
            ],
            [
             0.3,
             "#f1b6da"
            ],
            [
             0.4,
             "#fde0ef"
            ],
            [
             0.5,
             "#f7f7f7"
            ],
            [
             0.6,
             "#e6f5d0"
            ],
            [
             0.7,
             "#b8e186"
            ],
            [
             0.8,
             "#7fbc41"
            ],
            [
             0.9,
             "#4d9221"
            ],
            [
             1,
             "#276419"
            ]
           ],
           "sequential": [
            [
             0,
             "#0d0887"
            ],
            [
             0.1111111111111111,
             "#46039f"
            ],
            [
             0.2222222222222222,
             "#7201a8"
            ],
            [
             0.3333333333333333,
             "#9c179e"
            ],
            [
             0.4444444444444444,
             "#bd3786"
            ],
            [
             0.5555555555555556,
             "#d8576b"
            ],
            [
             0.6666666666666666,
             "#ed7953"
            ],
            [
             0.7777777777777778,
             "#fb9f3a"
            ],
            [
             0.8888888888888888,
             "#fdca26"
            ],
            [
             1,
             "#f0f921"
            ]
           ],
           "sequentialminus": [
            [
             0,
             "#0d0887"
            ],
            [
             0.1111111111111111,
             "#46039f"
            ],
            [
             0.2222222222222222,
             "#7201a8"
            ],
            [
             0.3333333333333333,
             "#9c179e"
            ],
            [
             0.4444444444444444,
             "#bd3786"
            ],
            [
             0.5555555555555556,
             "#d8576b"
            ],
            [
             0.6666666666666666,
             "#ed7953"
            ],
            [
             0.7777777777777778,
             "#fb9f3a"
            ],
            [
             0.8888888888888888,
             "#fdca26"
            ],
            [
             1,
             "#f0f921"
            ]
           ]
          },
          "colorway": [
           "#636efa",
           "#EF553B",
           "#00cc96",
           "#ab63fa",
           "#FFA15A",
           "#19d3f3",
           "#FF6692",
           "#B6E880",
           "#FF97FF",
           "#FECB52"
          ],
          "font": {
           "color": "#2a3f5f"
          },
          "geo": {
           "bgcolor": "white",
           "lakecolor": "white",
           "landcolor": "#E5ECF6",
           "showlakes": true,
           "showland": true,
           "subunitcolor": "white"
          },
          "hoverlabel": {
           "align": "left"
          },
          "hovermode": "closest",
          "mapbox": {
           "style": "light"
          },
          "paper_bgcolor": "white",
          "plot_bgcolor": "#E5ECF6",
          "polar": {
           "angularaxis": {
            "gridcolor": "white",
            "linecolor": "white",
            "ticks": ""
           },
           "bgcolor": "#E5ECF6",
           "radialaxis": {
            "gridcolor": "white",
            "linecolor": "white",
            "ticks": ""
           }
          },
          "scene": {
           "xaxis": {
            "backgroundcolor": "#E5ECF6",
            "gridcolor": "white",
            "gridwidth": 2,
            "linecolor": "white",
            "showbackground": true,
            "ticks": "",
            "zerolinecolor": "white"
           },
           "yaxis": {
            "backgroundcolor": "#E5ECF6",
            "gridcolor": "white",
            "gridwidth": 2,
            "linecolor": "white",
            "showbackground": true,
            "ticks": "",
            "zerolinecolor": "white"
           },
           "zaxis": {
            "backgroundcolor": "#E5ECF6",
            "gridcolor": "white",
            "gridwidth": 2,
            "linecolor": "white",
            "showbackground": true,
            "ticks": "",
            "zerolinecolor": "white"
           }
          },
          "shapedefaults": {
           "line": {
            "color": "#2a3f5f"
           }
          },
          "ternary": {
           "aaxis": {
            "gridcolor": "white",
            "linecolor": "white",
            "ticks": ""
           },
           "baxis": {
            "gridcolor": "white",
            "linecolor": "white",
            "ticks": ""
           },
           "bgcolor": "#E5ECF6",
           "caxis": {
            "gridcolor": "white",
            "linecolor": "white",
            "ticks": ""
           }
          },
          "title": {
           "x": 0.05
          },
          "xaxis": {
           "automargin": true,
           "gridcolor": "white",
           "linecolor": "white",
           "ticks": "",
           "title": {
            "standoff": 15
           },
           "zerolinecolor": "white",
           "zerolinewidth": 2
          },
          "yaxis": {
           "automargin": true,
           "gridcolor": "white",
           "linecolor": "white",
           "ticks": "",
           "title": {
            "standoff": 15
           },
           "zerolinecolor": "white",
           "zerolinewidth": 2
          }
         }
        },
        "title": {
         "text": "Proportion of Days Where The Shark Ate"
        },
        "xaxis": {
         "anchor": "y",
         "domain": [
          0,
          1
         ],
         "title": {
          "text": "Shark"
         }
        },
        "yaxis": {
         "anchor": "x",
         "domain": [
          0,
          1
         ],
         "title": {
          "text": "sum of Proportion of Days"
         }
        }
       }
      },
      "text/html": [
       "<div>                            <div id=\"89509b55-737f-47aa-b59c-b86dfa9c76d3\" class=\"plotly-graph-div\" style=\"height:525px; width:100%;\"></div>            <script type=\"text/javascript\">                require([\"plotly\"], function(Plotly) {                    window.PLOTLYENV=window.PLOTLYENV || {};                                    if (document.getElementById(\"89509b55-737f-47aa-b59c-b86dfa9c76d3\")) {                    Plotly.newPlot(                        \"89509b55-737f-47aa-b59c-b86dfa9c76d3\",                        [{\"alignmentgroup\": \"True\", \"bingroup\": \"x\", \"histfunc\": \"sum\", \"hovertemplate\": \"Shark=%{x}<br>sum of Proportion of Days=%{y}<extra></extra>\", \"legendgroup\": \"\", \"marker\": {\"color\": \"#636efa\"}, \"name\": \"\", \"offsetgroup\": \"\", \"orientation\": \"v\", \"showlegend\": false, \"type\": \"histogram\", \"x\": [\"Ross\", \"BT5\", \"BT4\", \"BT2\", \"Chandler\", \"BT3\", \"BT1\", \"GR4\", \"GR5\", \"GR3\", \"GR2\", \"GR1\"], \"xaxis\": \"x\", \"y\": [0.857, 0.849, 0.838, 0.811, 0.768, 0.756, 0.74, 0.728, 0.716, 0.703, 0.654, 0.645], \"yaxis\": \"y\"}],                        {\"barmode\": \"relative\", \"legend\": {\"tracegroupgap\": 0}, \"template\": {\"data\": {\"bar\": [{\"error_x\": {\"color\": \"#2a3f5f\"}, \"error_y\": {\"color\": \"#2a3f5f\"}, \"marker\": {\"line\": {\"color\": \"#E5ECF6\", \"width\": 0.5}}, \"type\": \"bar\"}], \"barpolar\": [{\"marker\": {\"line\": {\"color\": \"#E5ECF6\", \"width\": 0.5}}, \"type\": \"barpolar\"}], \"carpet\": [{\"aaxis\": {\"endlinecolor\": \"#2a3f5f\", \"gridcolor\": \"white\", \"linecolor\": \"white\", \"minorgridcolor\": \"white\", \"startlinecolor\": \"#2a3f5f\"}, \"baxis\": {\"endlinecolor\": \"#2a3f5f\", \"gridcolor\": \"white\", \"linecolor\": \"white\", \"minorgridcolor\": \"white\", \"startlinecolor\": \"#2a3f5f\"}, \"type\": \"carpet\"}], \"choropleth\": [{\"colorbar\": {\"outlinewidth\": 0, \"ticks\": \"\"}, \"type\": \"choropleth\"}], \"contour\": [{\"colorbar\": {\"outlinewidth\": 0, \"ticks\": \"\"}, \"colorscale\": [[0.0, \"#0d0887\"], [0.1111111111111111, \"#46039f\"], [0.2222222222222222, \"#7201a8\"], [0.3333333333333333, \"#9c179e\"], [0.4444444444444444, \"#bd3786\"], [0.5555555555555556, \"#d8576b\"], [0.6666666666666666, \"#ed7953\"], [0.7777777777777778, \"#fb9f3a\"], [0.8888888888888888, \"#fdca26\"], [1.0, \"#f0f921\"]], \"type\": \"contour\"}], \"contourcarpet\": [{\"colorbar\": {\"outlinewidth\": 0, \"ticks\": \"\"}, \"type\": \"contourcarpet\"}], \"heatmap\": [{\"colorbar\": {\"outlinewidth\": 0, \"ticks\": \"\"}, \"colorscale\": [[0.0, \"#0d0887\"], [0.1111111111111111, \"#46039f\"], [0.2222222222222222, \"#7201a8\"], [0.3333333333333333, \"#9c179e\"], [0.4444444444444444, \"#bd3786\"], [0.5555555555555556, \"#d8576b\"], [0.6666666666666666, \"#ed7953\"], [0.7777777777777778, \"#fb9f3a\"], [0.8888888888888888, \"#fdca26\"], [1.0, \"#f0f921\"]], \"type\": \"heatmap\"}], \"heatmapgl\": [{\"colorbar\": {\"outlinewidth\": 0, \"ticks\": \"\"}, \"colorscale\": [[0.0, \"#0d0887\"], [0.1111111111111111, \"#46039f\"], [0.2222222222222222, \"#7201a8\"], [0.3333333333333333, \"#9c179e\"], [0.4444444444444444, \"#bd3786\"], [0.5555555555555556, \"#d8576b\"], [0.6666666666666666, \"#ed7953\"], [0.7777777777777778, \"#fb9f3a\"], [0.8888888888888888, \"#fdca26\"], [1.0, \"#f0f921\"]], \"type\": \"heatmapgl\"}], \"histogram\": [{\"marker\": {\"colorbar\": {\"outlinewidth\": 0, \"ticks\": \"\"}}, \"type\": \"histogram\"}], \"histogram2d\": [{\"colorbar\": {\"outlinewidth\": 0, \"ticks\": \"\"}, \"colorscale\": [[0.0, \"#0d0887\"], [0.1111111111111111, \"#46039f\"], [0.2222222222222222, \"#7201a8\"], [0.3333333333333333, \"#9c179e\"], [0.4444444444444444, \"#bd3786\"], [0.5555555555555556, \"#d8576b\"], [0.6666666666666666, \"#ed7953\"], [0.7777777777777778, \"#fb9f3a\"], [0.8888888888888888, \"#fdca26\"], [1.0, \"#f0f921\"]], \"type\": \"histogram2d\"}], \"histogram2dcontour\": [{\"colorbar\": {\"outlinewidth\": 0, \"ticks\": \"\"}, \"colorscale\": [[0.0, \"#0d0887\"], [0.1111111111111111, \"#46039f\"], [0.2222222222222222, \"#7201a8\"], [0.3333333333333333, \"#9c179e\"], [0.4444444444444444, \"#bd3786\"], [0.5555555555555556, \"#d8576b\"], [0.6666666666666666, \"#ed7953\"], [0.7777777777777778, \"#fb9f3a\"], [0.8888888888888888, \"#fdca26\"], [1.0, \"#f0f921\"]], \"type\": \"histogram2dcontour\"}], \"mesh3d\": [{\"colorbar\": {\"outlinewidth\": 0, \"ticks\": \"\"}, \"type\": \"mesh3d\"}], \"parcoords\": [{\"line\": {\"colorbar\": {\"outlinewidth\": 0, \"ticks\": \"\"}}, \"type\": \"parcoords\"}], \"pie\": [{\"automargin\": true, \"type\": \"pie\"}], \"scatter\": [{\"marker\": {\"colorbar\": {\"outlinewidth\": 0, \"ticks\": \"\"}}, \"type\": \"scatter\"}], \"scatter3d\": [{\"line\": {\"colorbar\": {\"outlinewidth\": 0, \"ticks\": \"\"}}, \"marker\": {\"colorbar\": {\"outlinewidth\": 0, \"ticks\": \"\"}}, \"type\": \"scatter3d\"}], \"scattercarpet\": [{\"marker\": {\"colorbar\": {\"outlinewidth\": 0, \"ticks\": \"\"}}, \"type\": \"scattercarpet\"}], \"scattergeo\": [{\"marker\": {\"colorbar\": {\"outlinewidth\": 0, \"ticks\": \"\"}}, \"type\": \"scattergeo\"}], \"scattergl\": [{\"marker\": {\"colorbar\": {\"outlinewidth\": 0, \"ticks\": \"\"}}, \"type\": \"scattergl\"}], \"scattermapbox\": [{\"marker\": {\"colorbar\": {\"outlinewidth\": 0, \"ticks\": \"\"}}, \"type\": \"scattermapbox\"}], \"scatterpolar\": [{\"marker\": {\"colorbar\": {\"outlinewidth\": 0, \"ticks\": \"\"}}, \"type\": \"scatterpolar\"}], \"scatterpolargl\": [{\"marker\": {\"colorbar\": {\"outlinewidth\": 0, \"ticks\": \"\"}}, \"type\": \"scatterpolargl\"}], \"scatterternary\": [{\"marker\": {\"colorbar\": {\"outlinewidth\": 0, \"ticks\": \"\"}}, \"type\": \"scatterternary\"}], \"surface\": [{\"colorbar\": {\"outlinewidth\": 0, \"ticks\": \"\"}, \"colorscale\": [[0.0, \"#0d0887\"], [0.1111111111111111, \"#46039f\"], [0.2222222222222222, \"#7201a8\"], [0.3333333333333333, \"#9c179e\"], [0.4444444444444444, \"#bd3786\"], [0.5555555555555556, \"#d8576b\"], [0.6666666666666666, \"#ed7953\"], [0.7777777777777778, \"#fb9f3a\"], [0.8888888888888888, \"#fdca26\"], [1.0, \"#f0f921\"]], \"type\": \"surface\"}], \"table\": [{\"cells\": {\"fill\": {\"color\": \"#EBF0F8\"}, \"line\": {\"color\": \"white\"}}, \"header\": {\"fill\": {\"color\": \"#C8D4E3\"}, \"line\": {\"color\": \"white\"}}, \"type\": \"table\"}]}, \"layout\": {\"annotationdefaults\": {\"arrowcolor\": \"#2a3f5f\", \"arrowhead\": 0, \"arrowwidth\": 1}, \"coloraxis\": {\"colorbar\": {\"outlinewidth\": 0, \"ticks\": \"\"}}, \"colorscale\": {\"diverging\": [[0, \"#8e0152\"], [0.1, \"#c51b7d\"], [0.2, \"#de77ae\"], [0.3, \"#f1b6da\"], [0.4, \"#fde0ef\"], [0.5, \"#f7f7f7\"], [0.6, \"#e6f5d0\"], [0.7, \"#b8e186\"], [0.8, \"#7fbc41\"], [0.9, \"#4d9221\"], [1, \"#276419\"]], \"sequential\": [[0.0, \"#0d0887\"], [0.1111111111111111, \"#46039f\"], [0.2222222222222222, \"#7201a8\"], [0.3333333333333333, \"#9c179e\"], [0.4444444444444444, \"#bd3786\"], [0.5555555555555556, \"#d8576b\"], [0.6666666666666666, \"#ed7953\"], [0.7777777777777778, \"#fb9f3a\"], [0.8888888888888888, \"#fdca26\"], [1.0, \"#f0f921\"]], \"sequentialminus\": [[0.0, \"#0d0887\"], [0.1111111111111111, \"#46039f\"], [0.2222222222222222, \"#7201a8\"], [0.3333333333333333, \"#9c179e\"], [0.4444444444444444, \"#bd3786\"], [0.5555555555555556, \"#d8576b\"], [0.6666666666666666, \"#ed7953\"], [0.7777777777777778, \"#fb9f3a\"], [0.8888888888888888, \"#fdca26\"], [1.0, \"#f0f921\"]]}, \"colorway\": [\"#636efa\", \"#EF553B\", \"#00cc96\", \"#ab63fa\", \"#FFA15A\", \"#19d3f3\", \"#FF6692\", \"#B6E880\", \"#FF97FF\", \"#FECB52\"], \"font\": {\"color\": \"#2a3f5f\"}, \"geo\": {\"bgcolor\": \"white\", \"lakecolor\": \"white\", \"landcolor\": \"#E5ECF6\", \"showlakes\": true, \"showland\": true, \"subunitcolor\": \"white\"}, \"hoverlabel\": {\"align\": \"left\"}, \"hovermode\": \"closest\", \"mapbox\": {\"style\": \"light\"}, \"paper_bgcolor\": \"white\", \"plot_bgcolor\": \"#E5ECF6\", \"polar\": {\"angularaxis\": {\"gridcolor\": \"white\", \"linecolor\": \"white\", \"ticks\": \"\"}, \"bgcolor\": \"#E5ECF6\", \"radialaxis\": {\"gridcolor\": \"white\", \"linecolor\": \"white\", \"ticks\": \"\"}}, \"scene\": {\"xaxis\": {\"backgroundcolor\": \"#E5ECF6\", \"gridcolor\": \"white\", \"gridwidth\": 2, \"linecolor\": \"white\", \"showbackground\": true, \"ticks\": \"\", \"zerolinecolor\": \"white\"}, \"yaxis\": {\"backgroundcolor\": \"#E5ECF6\", \"gridcolor\": \"white\", \"gridwidth\": 2, \"linecolor\": \"white\", \"showbackground\": true, \"ticks\": \"\", \"zerolinecolor\": \"white\"}, \"zaxis\": {\"backgroundcolor\": \"#E5ECF6\", \"gridcolor\": \"white\", \"gridwidth\": 2, \"linecolor\": \"white\", \"showbackground\": true, \"ticks\": \"\", \"zerolinecolor\": \"white\"}}, \"shapedefaults\": {\"line\": {\"color\": \"#2a3f5f\"}}, \"ternary\": {\"aaxis\": {\"gridcolor\": \"white\", \"linecolor\": \"white\", \"ticks\": \"\"}, \"baxis\": {\"gridcolor\": \"white\", \"linecolor\": \"white\", \"ticks\": \"\"}, \"bgcolor\": \"#E5ECF6\", \"caxis\": {\"gridcolor\": \"white\", \"linecolor\": \"white\", \"ticks\": \"\"}}, \"title\": {\"x\": 0.05}, \"xaxis\": {\"automargin\": true, \"gridcolor\": \"white\", \"linecolor\": \"white\", \"ticks\": \"\", \"title\": {\"standoff\": 15}, \"zerolinecolor\": \"white\", \"zerolinewidth\": 2}, \"yaxis\": {\"automargin\": true, \"gridcolor\": \"white\", \"linecolor\": \"white\", \"ticks\": \"\", \"title\": {\"standoff\": 15}, \"zerolinecolor\": \"white\", \"zerolinewidth\": 2}}}, \"title\": {\"text\": \"Proportion of Days Where The Shark Ate\"}, \"xaxis\": {\"anchor\": \"y\", \"domain\": [0.0, 1.0], \"title\": {\"text\": \"Shark\"}}, \"yaxis\": {\"anchor\": \"x\", \"domain\": [0.0, 1.0], \"title\": {\"text\": \"sum of Proportion of Days\"}}},                        {\"responsive\": true}                    ).then(function(){\n",
       "                            \n",
       "var gd = document.getElementById('89509b55-737f-47aa-b59c-b86dfa9c76d3');\n",
       "var x = new MutationObserver(function (mutations, observer) {{\n",
       "        var display = window.getComputedStyle(gd).display;\n",
       "        if (!display || display === 'none') {{\n",
       "            console.log([gd, 'removed!']);\n",
       "            Plotly.purge(gd);\n",
       "            observer.disconnect();\n",
       "        }}\n",
       "}});\n",
       "\n",
       "// Listen for the removal of the full notebook cells\n",
       "var notebookContainer = gd.closest('#notebook-container');\n",
       "if (notebookContainer) {{\n",
       "    x.observe(notebookContainer, {childList: true});\n",
       "}}\n",
       "\n",
       "// Listen for the clearing of the current output cell\n",
       "var outputEl = gd.closest('.output');\n",
       "if (outputEl) {{\n",
       "    x.observe(outputEl, {childList: true});\n",
       "}}\n",
       "\n",
       "                        })                };                });            </script>        </div>"
      ]
     },
     "metadata": {},
     "output_type": "display_data"
    }
   ],
   "source": [
    "# Graph Proportions for Each Shark\n",
    "Eaten_Props = {'Shark': ['Ross', 'Chandler','BT1','BT2','BT3','BT4','BT5','GR1','GR2','GR3','GR4', 'GR5'],\n",
    "        'Proportion': [0.857,0.768,0.74,0.811,0.756,0.838,0.849,0.645,0.654,0.703,0.728,0.716]}\n",
    "\n",
    "Eaten_Props_df = pd.DataFrame(Eaten_Props, columns = ['Shark', 'Proportion'])\n",
    "\n",
    "Eaten_Props_Sorted = Eaten_Props_df.sort_values(by=['Proportion'], ascending = False)\n",
    "\n",
    "fig = px.histogram(Eaten_Props_Sorted, x=\"Shark\", y=\"Proportion\", \n",
    "                   title = \"Proportion of Days Where The Shark Ate\",\n",
    "                  labels={\n",
    "                     \"Shark\": \"Shark\",\n",
    "                     \"Proportion\": \"Proportion of Days\",\n",
    "                 })\n",
    "fig.show()"
   ]
  },
  {
   "cell_type": "markdown",
   "metadata": {},
   "source": [
    "# \n",
    "Out of all the sharks, Ross had the highest proportion of days eaten. He ate at least 1 fish for .857 of the days. The shark with the lowest proportion of days eaten was GR1, who ate at least 1 fish for .645 of the days."
   ]
  },
  {
   "cell_type": "code",
   "execution_count": 142,
   "metadata": {},
   "outputs": [
    {
     "name": "stdout",
     "output_type": "stream",
     "text": [
      "Sandbar Number of Days Eaten: 425\n",
      "Sandbar Proportion of Days Eaten: 0.73\n"
     ]
    }
   ],
   "source": [
    "# Look at the proportion of days eaten by each species\n",
    "# Sandbars\n",
    "SB_Days_Eaten = Sandbar > 0\n",
    "SB_Eaten_Count = Sandbar[SB_Days_Eaten].count()\n",
    "SB_Eaten_Prop = round(Sandbar[SB_Days_Eaten].count() / Sandbar.count(),3)\n",
    "print(\"Sandbar Number of Days Eaten:\", SB_Eaten_Count)\n",
    "print(\"Sandbar Proportion of Days Eaten:\", SB_Eaten_Prop)\n"
   ]
  },
  {
   "cell_type": "code",
   "execution_count": 143,
   "metadata": {},
   "outputs": [
    {
     "name": "stdout",
     "output_type": "stream",
     "text": [
      "Blacktip Number of Days Eaten: 437\n",
      "Blacktip Proportion of Days Eaten: 0.751\n"
     ]
    }
   ],
   "source": [
    "# Blacktips\n",
    "BT_Days_Eaten = BT > 0\n",
    "BT_Eaten_Count = BT[BT_Days_Eaten].count()\n",
    "BT_Eaten_Prop = round(BT[BT_Days_Eaten].count() / BT.count(),3)\n",
    "print(\"Blacktip Number of Days Eaten:\", BT_Eaten_Count)\n",
    "print(\"Blacktip Proportion of Days Eaten:\", BT_Eaten_Prop)"
   ]
  },
  {
   "cell_type": "code",
   "execution_count": 144,
   "metadata": {},
   "outputs": [
    {
     "name": "stdout",
     "output_type": "stream",
     "text": [
      "Gray Reef Number of Days Eaten: 418\n",
      "Gray Reef Proportion of Days Eaten: 0.718\n"
     ]
    }
   ],
   "source": [
    "# Gray Reefs\n",
    "GR_Days_Eaten = GR > 0\n",
    "GR_Eaten_Count = GR[GR_Days_Eaten].count()\n",
    "GR_Eaten_Prop = round(GR[GR_Days_Eaten].count() / GR.count(),3)\n",
    "print(\"Gray Reef Number of Days Eaten:\", GR_Eaten_Count)\n",
    "print(\"Gray Reef Proportion of Days Eaten:\", GR_Eaten_Prop)"
   ]
  },
  {
   "cell_type": "markdown",
   "metadata": {},
   "source": [
    "# \n",
    "Blacktip sharks had the highest number of days where at least one shark from the group ate at least 1 fish. At least 1 Blacktip shark ate for .998 of the days. Gray Reef sharks only had at least one shark eat for .957 of the days, which was the lowest of the three groups"
   ]
  },
  {
   "cell_type": "code",
   "execution_count": 145,
   "metadata": {},
   "outputs": [
    {
     "data": {
      "application/vnd.plotly.v1+json": {
       "config": {
        "plotlyServerURL": "https://plot.ly"
       },
       "data": [
        {
         "alignmentgroup": "True",
         "bingroup": "x",
         "histfunc": "sum",
         "hovertemplate": "Shark Species=%{x}<br>sum of Proportion of Days=%{y}<extra></extra>",
         "legendgroup": "",
         "marker": {
          "color": "#636efa"
         },
         "name": "",
         "offsetgroup": "",
         "orientation": "v",
         "showlegend": false,
         "type": "histogram",
         "x": [
          "Blacktip",
          "Sandbar",
          "Gray Reef"
         ],
         "xaxis": "x",
         "y": [
          0.751,
          0.73,
          0.718
         ],
         "yaxis": "y"
        }
       ],
       "layout": {
        "barmode": "relative",
        "legend": {
         "tracegroupgap": 0
        },
        "template": {
         "data": {
          "bar": [
           {
            "error_x": {
             "color": "#2a3f5f"
            },
            "error_y": {
             "color": "#2a3f5f"
            },
            "marker": {
             "line": {
              "color": "#E5ECF6",
              "width": 0.5
             }
            },
            "type": "bar"
           }
          ],
          "barpolar": [
           {
            "marker": {
             "line": {
              "color": "#E5ECF6",
              "width": 0.5
             }
            },
            "type": "barpolar"
           }
          ],
          "carpet": [
           {
            "aaxis": {
             "endlinecolor": "#2a3f5f",
             "gridcolor": "white",
             "linecolor": "white",
             "minorgridcolor": "white",
             "startlinecolor": "#2a3f5f"
            },
            "baxis": {
             "endlinecolor": "#2a3f5f",
             "gridcolor": "white",
             "linecolor": "white",
             "minorgridcolor": "white",
             "startlinecolor": "#2a3f5f"
            },
            "type": "carpet"
           }
          ],
          "choropleth": [
           {
            "colorbar": {
             "outlinewidth": 0,
             "ticks": ""
            },
            "type": "choropleth"
           }
          ],
          "contour": [
           {
            "colorbar": {
             "outlinewidth": 0,
             "ticks": ""
            },
            "colorscale": [
             [
              0,
              "#0d0887"
             ],
             [
              0.1111111111111111,
              "#46039f"
             ],
             [
              0.2222222222222222,
              "#7201a8"
             ],
             [
              0.3333333333333333,
              "#9c179e"
             ],
             [
              0.4444444444444444,
              "#bd3786"
             ],
             [
              0.5555555555555556,
              "#d8576b"
             ],
             [
              0.6666666666666666,
              "#ed7953"
             ],
             [
              0.7777777777777778,
              "#fb9f3a"
             ],
             [
              0.8888888888888888,
              "#fdca26"
             ],
             [
              1,
              "#f0f921"
             ]
            ],
            "type": "contour"
           }
          ],
          "contourcarpet": [
           {
            "colorbar": {
             "outlinewidth": 0,
             "ticks": ""
            },
            "type": "contourcarpet"
           }
          ],
          "heatmap": [
           {
            "colorbar": {
             "outlinewidth": 0,
             "ticks": ""
            },
            "colorscale": [
             [
              0,
              "#0d0887"
             ],
             [
              0.1111111111111111,
              "#46039f"
             ],
             [
              0.2222222222222222,
              "#7201a8"
             ],
             [
              0.3333333333333333,
              "#9c179e"
             ],
             [
              0.4444444444444444,
              "#bd3786"
             ],
             [
              0.5555555555555556,
              "#d8576b"
             ],
             [
              0.6666666666666666,
              "#ed7953"
             ],
             [
              0.7777777777777778,
              "#fb9f3a"
             ],
             [
              0.8888888888888888,
              "#fdca26"
             ],
             [
              1,
              "#f0f921"
             ]
            ],
            "type": "heatmap"
           }
          ],
          "heatmapgl": [
           {
            "colorbar": {
             "outlinewidth": 0,
             "ticks": ""
            },
            "colorscale": [
             [
              0,
              "#0d0887"
             ],
             [
              0.1111111111111111,
              "#46039f"
             ],
             [
              0.2222222222222222,
              "#7201a8"
             ],
             [
              0.3333333333333333,
              "#9c179e"
             ],
             [
              0.4444444444444444,
              "#bd3786"
             ],
             [
              0.5555555555555556,
              "#d8576b"
             ],
             [
              0.6666666666666666,
              "#ed7953"
             ],
             [
              0.7777777777777778,
              "#fb9f3a"
             ],
             [
              0.8888888888888888,
              "#fdca26"
             ],
             [
              1,
              "#f0f921"
             ]
            ],
            "type": "heatmapgl"
           }
          ],
          "histogram": [
           {
            "marker": {
             "colorbar": {
              "outlinewidth": 0,
              "ticks": ""
             }
            },
            "type": "histogram"
           }
          ],
          "histogram2d": [
           {
            "colorbar": {
             "outlinewidth": 0,
             "ticks": ""
            },
            "colorscale": [
             [
              0,
              "#0d0887"
             ],
             [
              0.1111111111111111,
              "#46039f"
             ],
             [
              0.2222222222222222,
              "#7201a8"
             ],
             [
              0.3333333333333333,
              "#9c179e"
             ],
             [
              0.4444444444444444,
              "#bd3786"
             ],
             [
              0.5555555555555556,
              "#d8576b"
             ],
             [
              0.6666666666666666,
              "#ed7953"
             ],
             [
              0.7777777777777778,
              "#fb9f3a"
             ],
             [
              0.8888888888888888,
              "#fdca26"
             ],
             [
              1,
              "#f0f921"
             ]
            ],
            "type": "histogram2d"
           }
          ],
          "histogram2dcontour": [
           {
            "colorbar": {
             "outlinewidth": 0,
             "ticks": ""
            },
            "colorscale": [
             [
              0,
              "#0d0887"
             ],
             [
              0.1111111111111111,
              "#46039f"
             ],
             [
              0.2222222222222222,
              "#7201a8"
             ],
             [
              0.3333333333333333,
              "#9c179e"
             ],
             [
              0.4444444444444444,
              "#bd3786"
             ],
             [
              0.5555555555555556,
              "#d8576b"
             ],
             [
              0.6666666666666666,
              "#ed7953"
             ],
             [
              0.7777777777777778,
              "#fb9f3a"
             ],
             [
              0.8888888888888888,
              "#fdca26"
             ],
             [
              1,
              "#f0f921"
             ]
            ],
            "type": "histogram2dcontour"
           }
          ],
          "mesh3d": [
           {
            "colorbar": {
             "outlinewidth": 0,
             "ticks": ""
            },
            "type": "mesh3d"
           }
          ],
          "parcoords": [
           {
            "line": {
             "colorbar": {
              "outlinewidth": 0,
              "ticks": ""
             }
            },
            "type": "parcoords"
           }
          ],
          "pie": [
           {
            "automargin": true,
            "type": "pie"
           }
          ],
          "scatter": [
           {
            "marker": {
             "colorbar": {
              "outlinewidth": 0,
              "ticks": ""
             }
            },
            "type": "scatter"
           }
          ],
          "scatter3d": [
           {
            "line": {
             "colorbar": {
              "outlinewidth": 0,
              "ticks": ""
             }
            },
            "marker": {
             "colorbar": {
              "outlinewidth": 0,
              "ticks": ""
             }
            },
            "type": "scatter3d"
           }
          ],
          "scattercarpet": [
           {
            "marker": {
             "colorbar": {
              "outlinewidth": 0,
              "ticks": ""
             }
            },
            "type": "scattercarpet"
           }
          ],
          "scattergeo": [
           {
            "marker": {
             "colorbar": {
              "outlinewidth": 0,
              "ticks": ""
             }
            },
            "type": "scattergeo"
           }
          ],
          "scattergl": [
           {
            "marker": {
             "colorbar": {
              "outlinewidth": 0,
              "ticks": ""
             }
            },
            "type": "scattergl"
           }
          ],
          "scattermapbox": [
           {
            "marker": {
             "colorbar": {
              "outlinewidth": 0,
              "ticks": ""
             }
            },
            "type": "scattermapbox"
           }
          ],
          "scatterpolar": [
           {
            "marker": {
             "colorbar": {
              "outlinewidth": 0,
              "ticks": ""
             }
            },
            "type": "scatterpolar"
           }
          ],
          "scatterpolargl": [
           {
            "marker": {
             "colorbar": {
              "outlinewidth": 0,
              "ticks": ""
             }
            },
            "type": "scatterpolargl"
           }
          ],
          "scatterternary": [
           {
            "marker": {
             "colorbar": {
              "outlinewidth": 0,
              "ticks": ""
             }
            },
            "type": "scatterternary"
           }
          ],
          "surface": [
           {
            "colorbar": {
             "outlinewidth": 0,
             "ticks": ""
            },
            "colorscale": [
             [
              0,
              "#0d0887"
             ],
             [
              0.1111111111111111,
              "#46039f"
             ],
             [
              0.2222222222222222,
              "#7201a8"
             ],
             [
              0.3333333333333333,
              "#9c179e"
             ],
             [
              0.4444444444444444,
              "#bd3786"
             ],
             [
              0.5555555555555556,
              "#d8576b"
             ],
             [
              0.6666666666666666,
              "#ed7953"
             ],
             [
              0.7777777777777778,
              "#fb9f3a"
             ],
             [
              0.8888888888888888,
              "#fdca26"
             ],
             [
              1,
              "#f0f921"
             ]
            ],
            "type": "surface"
           }
          ],
          "table": [
           {
            "cells": {
             "fill": {
              "color": "#EBF0F8"
             },
             "line": {
              "color": "white"
             }
            },
            "header": {
             "fill": {
              "color": "#C8D4E3"
             },
             "line": {
              "color": "white"
             }
            },
            "type": "table"
           }
          ]
         },
         "layout": {
          "annotationdefaults": {
           "arrowcolor": "#2a3f5f",
           "arrowhead": 0,
           "arrowwidth": 1
          },
          "coloraxis": {
           "colorbar": {
            "outlinewidth": 0,
            "ticks": ""
           }
          },
          "colorscale": {
           "diverging": [
            [
             0,
             "#8e0152"
            ],
            [
             0.1,
             "#c51b7d"
            ],
            [
             0.2,
             "#de77ae"
            ],
            [
             0.3,
             "#f1b6da"
            ],
            [
             0.4,
             "#fde0ef"
            ],
            [
             0.5,
             "#f7f7f7"
            ],
            [
             0.6,
             "#e6f5d0"
            ],
            [
             0.7,
             "#b8e186"
            ],
            [
             0.8,
             "#7fbc41"
            ],
            [
             0.9,
             "#4d9221"
            ],
            [
             1,
             "#276419"
            ]
           ],
           "sequential": [
            [
             0,
             "#0d0887"
            ],
            [
             0.1111111111111111,
             "#46039f"
            ],
            [
             0.2222222222222222,
             "#7201a8"
            ],
            [
             0.3333333333333333,
             "#9c179e"
            ],
            [
             0.4444444444444444,
             "#bd3786"
            ],
            [
             0.5555555555555556,
             "#d8576b"
            ],
            [
             0.6666666666666666,
             "#ed7953"
            ],
            [
             0.7777777777777778,
             "#fb9f3a"
            ],
            [
             0.8888888888888888,
             "#fdca26"
            ],
            [
             1,
             "#f0f921"
            ]
           ],
           "sequentialminus": [
            [
             0,
             "#0d0887"
            ],
            [
             0.1111111111111111,
             "#46039f"
            ],
            [
             0.2222222222222222,
             "#7201a8"
            ],
            [
             0.3333333333333333,
             "#9c179e"
            ],
            [
             0.4444444444444444,
             "#bd3786"
            ],
            [
             0.5555555555555556,
             "#d8576b"
            ],
            [
             0.6666666666666666,
             "#ed7953"
            ],
            [
             0.7777777777777778,
             "#fb9f3a"
            ],
            [
             0.8888888888888888,
             "#fdca26"
            ],
            [
             1,
             "#f0f921"
            ]
           ]
          },
          "colorway": [
           "#636efa",
           "#EF553B",
           "#00cc96",
           "#ab63fa",
           "#FFA15A",
           "#19d3f3",
           "#FF6692",
           "#B6E880",
           "#FF97FF",
           "#FECB52"
          ],
          "font": {
           "color": "#2a3f5f"
          },
          "geo": {
           "bgcolor": "white",
           "lakecolor": "white",
           "landcolor": "#E5ECF6",
           "showlakes": true,
           "showland": true,
           "subunitcolor": "white"
          },
          "hoverlabel": {
           "align": "left"
          },
          "hovermode": "closest",
          "mapbox": {
           "style": "light"
          },
          "paper_bgcolor": "white",
          "plot_bgcolor": "#E5ECF6",
          "polar": {
           "angularaxis": {
            "gridcolor": "white",
            "linecolor": "white",
            "ticks": ""
           },
           "bgcolor": "#E5ECF6",
           "radialaxis": {
            "gridcolor": "white",
            "linecolor": "white",
            "ticks": ""
           }
          },
          "scene": {
           "xaxis": {
            "backgroundcolor": "#E5ECF6",
            "gridcolor": "white",
            "gridwidth": 2,
            "linecolor": "white",
            "showbackground": true,
            "ticks": "",
            "zerolinecolor": "white"
           },
           "yaxis": {
            "backgroundcolor": "#E5ECF6",
            "gridcolor": "white",
            "gridwidth": 2,
            "linecolor": "white",
            "showbackground": true,
            "ticks": "",
            "zerolinecolor": "white"
           },
           "zaxis": {
            "backgroundcolor": "#E5ECF6",
            "gridcolor": "white",
            "gridwidth": 2,
            "linecolor": "white",
            "showbackground": true,
            "ticks": "",
            "zerolinecolor": "white"
           }
          },
          "shapedefaults": {
           "line": {
            "color": "#2a3f5f"
           }
          },
          "ternary": {
           "aaxis": {
            "gridcolor": "white",
            "linecolor": "white",
            "ticks": ""
           },
           "baxis": {
            "gridcolor": "white",
            "linecolor": "white",
            "ticks": ""
           },
           "bgcolor": "#E5ECF6",
           "caxis": {
            "gridcolor": "white",
            "linecolor": "white",
            "ticks": ""
           }
          },
          "title": {
           "x": 0.05
          },
          "xaxis": {
           "automargin": true,
           "gridcolor": "white",
           "linecolor": "white",
           "ticks": "",
           "title": {
            "standoff": 15
           },
           "zerolinecolor": "white",
           "zerolinewidth": 2
          },
          "yaxis": {
           "automargin": true,
           "gridcolor": "white",
           "linecolor": "white",
           "ticks": "",
           "title": {
            "standoff": 15
           },
           "zerolinecolor": "white",
           "zerolinewidth": 2
          }
         }
        },
        "title": {
         "text": "Proportion of Days Where A Species Ate"
        },
        "xaxis": {
         "anchor": "y",
         "domain": [
          0,
          1
         ],
         "title": {
          "text": "Shark Species"
         }
        },
        "yaxis": {
         "anchor": "x",
         "domain": [
          0,
          1
         ],
         "title": {
          "text": "sum of Proportion of Days"
         }
        }
       }
      },
      "text/html": [
       "<div>                            <div id=\"0f381770-3dbb-419e-82ad-2a73539bb0a1\" class=\"plotly-graph-div\" style=\"height:525px; width:100%;\"></div>            <script type=\"text/javascript\">                require([\"plotly\"], function(Plotly) {                    window.PLOTLYENV=window.PLOTLYENV || {};                                    if (document.getElementById(\"0f381770-3dbb-419e-82ad-2a73539bb0a1\")) {                    Plotly.newPlot(                        \"0f381770-3dbb-419e-82ad-2a73539bb0a1\",                        [{\"alignmentgroup\": \"True\", \"bingroup\": \"x\", \"histfunc\": \"sum\", \"hovertemplate\": \"Shark Species=%{x}<br>sum of Proportion of Days=%{y}<extra></extra>\", \"legendgroup\": \"\", \"marker\": {\"color\": \"#636efa\"}, \"name\": \"\", \"offsetgroup\": \"\", \"orientation\": \"v\", \"showlegend\": false, \"type\": \"histogram\", \"x\": [\"Blacktip\", \"Sandbar\", \"Gray Reef\"], \"xaxis\": \"x\", \"y\": [0.751, 0.73, 0.718], \"yaxis\": \"y\"}],                        {\"barmode\": \"relative\", \"legend\": {\"tracegroupgap\": 0}, \"template\": {\"data\": {\"bar\": [{\"error_x\": {\"color\": \"#2a3f5f\"}, \"error_y\": {\"color\": \"#2a3f5f\"}, \"marker\": {\"line\": {\"color\": \"#E5ECF6\", \"width\": 0.5}}, \"type\": \"bar\"}], \"barpolar\": [{\"marker\": {\"line\": {\"color\": \"#E5ECF6\", \"width\": 0.5}}, \"type\": \"barpolar\"}], \"carpet\": [{\"aaxis\": {\"endlinecolor\": \"#2a3f5f\", \"gridcolor\": \"white\", \"linecolor\": \"white\", \"minorgridcolor\": \"white\", \"startlinecolor\": \"#2a3f5f\"}, \"baxis\": {\"endlinecolor\": \"#2a3f5f\", \"gridcolor\": \"white\", \"linecolor\": \"white\", \"minorgridcolor\": \"white\", \"startlinecolor\": \"#2a3f5f\"}, \"type\": \"carpet\"}], \"choropleth\": [{\"colorbar\": {\"outlinewidth\": 0, \"ticks\": \"\"}, \"type\": \"choropleth\"}], \"contour\": [{\"colorbar\": {\"outlinewidth\": 0, \"ticks\": \"\"}, \"colorscale\": [[0.0, \"#0d0887\"], [0.1111111111111111, \"#46039f\"], [0.2222222222222222, \"#7201a8\"], [0.3333333333333333, \"#9c179e\"], [0.4444444444444444, \"#bd3786\"], [0.5555555555555556, \"#d8576b\"], [0.6666666666666666, \"#ed7953\"], [0.7777777777777778, \"#fb9f3a\"], [0.8888888888888888, \"#fdca26\"], [1.0, \"#f0f921\"]], \"type\": \"contour\"}], \"contourcarpet\": [{\"colorbar\": {\"outlinewidth\": 0, \"ticks\": \"\"}, \"type\": \"contourcarpet\"}], \"heatmap\": [{\"colorbar\": {\"outlinewidth\": 0, \"ticks\": \"\"}, \"colorscale\": [[0.0, \"#0d0887\"], [0.1111111111111111, \"#46039f\"], [0.2222222222222222, \"#7201a8\"], [0.3333333333333333, \"#9c179e\"], [0.4444444444444444, \"#bd3786\"], [0.5555555555555556, \"#d8576b\"], [0.6666666666666666, \"#ed7953\"], [0.7777777777777778, \"#fb9f3a\"], [0.8888888888888888, \"#fdca26\"], [1.0, \"#f0f921\"]], \"type\": \"heatmap\"}], \"heatmapgl\": [{\"colorbar\": {\"outlinewidth\": 0, \"ticks\": \"\"}, \"colorscale\": [[0.0, \"#0d0887\"], [0.1111111111111111, \"#46039f\"], [0.2222222222222222, \"#7201a8\"], [0.3333333333333333, \"#9c179e\"], [0.4444444444444444, \"#bd3786\"], [0.5555555555555556, \"#d8576b\"], [0.6666666666666666, \"#ed7953\"], [0.7777777777777778, \"#fb9f3a\"], [0.8888888888888888, \"#fdca26\"], [1.0, \"#f0f921\"]], \"type\": \"heatmapgl\"}], \"histogram\": [{\"marker\": {\"colorbar\": {\"outlinewidth\": 0, \"ticks\": \"\"}}, \"type\": \"histogram\"}], \"histogram2d\": [{\"colorbar\": {\"outlinewidth\": 0, \"ticks\": \"\"}, \"colorscale\": [[0.0, \"#0d0887\"], [0.1111111111111111, \"#46039f\"], [0.2222222222222222, \"#7201a8\"], [0.3333333333333333, \"#9c179e\"], [0.4444444444444444, \"#bd3786\"], [0.5555555555555556, \"#d8576b\"], [0.6666666666666666, \"#ed7953\"], [0.7777777777777778, \"#fb9f3a\"], [0.8888888888888888, \"#fdca26\"], [1.0, \"#f0f921\"]], \"type\": \"histogram2d\"}], \"histogram2dcontour\": [{\"colorbar\": {\"outlinewidth\": 0, \"ticks\": \"\"}, \"colorscale\": [[0.0, \"#0d0887\"], [0.1111111111111111, \"#46039f\"], [0.2222222222222222, \"#7201a8\"], [0.3333333333333333, \"#9c179e\"], [0.4444444444444444, \"#bd3786\"], [0.5555555555555556, \"#d8576b\"], [0.6666666666666666, \"#ed7953\"], [0.7777777777777778, \"#fb9f3a\"], [0.8888888888888888, \"#fdca26\"], [1.0, \"#f0f921\"]], \"type\": \"histogram2dcontour\"}], \"mesh3d\": [{\"colorbar\": {\"outlinewidth\": 0, \"ticks\": \"\"}, \"type\": \"mesh3d\"}], \"parcoords\": [{\"line\": {\"colorbar\": {\"outlinewidth\": 0, \"ticks\": \"\"}}, \"type\": \"parcoords\"}], \"pie\": [{\"automargin\": true, \"type\": \"pie\"}], \"scatter\": [{\"marker\": {\"colorbar\": {\"outlinewidth\": 0, \"ticks\": \"\"}}, \"type\": \"scatter\"}], \"scatter3d\": [{\"line\": {\"colorbar\": {\"outlinewidth\": 0, \"ticks\": \"\"}}, \"marker\": {\"colorbar\": {\"outlinewidth\": 0, \"ticks\": \"\"}}, \"type\": \"scatter3d\"}], \"scattercarpet\": [{\"marker\": {\"colorbar\": {\"outlinewidth\": 0, \"ticks\": \"\"}}, \"type\": \"scattercarpet\"}], \"scattergeo\": [{\"marker\": {\"colorbar\": {\"outlinewidth\": 0, \"ticks\": \"\"}}, \"type\": \"scattergeo\"}], \"scattergl\": [{\"marker\": {\"colorbar\": {\"outlinewidth\": 0, \"ticks\": \"\"}}, \"type\": \"scattergl\"}], \"scattermapbox\": [{\"marker\": {\"colorbar\": {\"outlinewidth\": 0, \"ticks\": \"\"}}, \"type\": \"scattermapbox\"}], \"scatterpolar\": [{\"marker\": {\"colorbar\": {\"outlinewidth\": 0, \"ticks\": \"\"}}, \"type\": \"scatterpolar\"}], \"scatterpolargl\": [{\"marker\": {\"colorbar\": {\"outlinewidth\": 0, \"ticks\": \"\"}}, \"type\": \"scatterpolargl\"}], \"scatterternary\": [{\"marker\": {\"colorbar\": {\"outlinewidth\": 0, \"ticks\": \"\"}}, \"type\": \"scatterternary\"}], \"surface\": [{\"colorbar\": {\"outlinewidth\": 0, \"ticks\": \"\"}, \"colorscale\": [[0.0, \"#0d0887\"], [0.1111111111111111, \"#46039f\"], [0.2222222222222222, \"#7201a8\"], [0.3333333333333333, \"#9c179e\"], [0.4444444444444444, \"#bd3786\"], [0.5555555555555556, \"#d8576b\"], [0.6666666666666666, \"#ed7953\"], [0.7777777777777778, \"#fb9f3a\"], [0.8888888888888888, \"#fdca26\"], [1.0, \"#f0f921\"]], \"type\": \"surface\"}], \"table\": [{\"cells\": {\"fill\": {\"color\": \"#EBF0F8\"}, \"line\": {\"color\": \"white\"}}, \"header\": {\"fill\": {\"color\": \"#C8D4E3\"}, \"line\": {\"color\": \"white\"}}, \"type\": \"table\"}]}, \"layout\": {\"annotationdefaults\": {\"arrowcolor\": \"#2a3f5f\", \"arrowhead\": 0, \"arrowwidth\": 1}, \"coloraxis\": {\"colorbar\": {\"outlinewidth\": 0, \"ticks\": \"\"}}, \"colorscale\": {\"diverging\": [[0, \"#8e0152\"], [0.1, \"#c51b7d\"], [0.2, \"#de77ae\"], [0.3, \"#f1b6da\"], [0.4, \"#fde0ef\"], [0.5, \"#f7f7f7\"], [0.6, \"#e6f5d0\"], [0.7, \"#b8e186\"], [0.8, \"#7fbc41\"], [0.9, \"#4d9221\"], [1, \"#276419\"]], \"sequential\": [[0.0, \"#0d0887\"], [0.1111111111111111, \"#46039f\"], [0.2222222222222222, \"#7201a8\"], [0.3333333333333333, \"#9c179e\"], [0.4444444444444444, \"#bd3786\"], [0.5555555555555556, \"#d8576b\"], [0.6666666666666666, \"#ed7953\"], [0.7777777777777778, \"#fb9f3a\"], [0.8888888888888888, \"#fdca26\"], [1.0, \"#f0f921\"]], \"sequentialminus\": [[0.0, \"#0d0887\"], [0.1111111111111111, \"#46039f\"], [0.2222222222222222, \"#7201a8\"], [0.3333333333333333, \"#9c179e\"], [0.4444444444444444, \"#bd3786\"], [0.5555555555555556, \"#d8576b\"], [0.6666666666666666, \"#ed7953\"], [0.7777777777777778, \"#fb9f3a\"], [0.8888888888888888, \"#fdca26\"], [1.0, \"#f0f921\"]]}, \"colorway\": [\"#636efa\", \"#EF553B\", \"#00cc96\", \"#ab63fa\", \"#FFA15A\", \"#19d3f3\", \"#FF6692\", \"#B6E880\", \"#FF97FF\", \"#FECB52\"], \"font\": {\"color\": \"#2a3f5f\"}, \"geo\": {\"bgcolor\": \"white\", \"lakecolor\": \"white\", \"landcolor\": \"#E5ECF6\", \"showlakes\": true, \"showland\": true, \"subunitcolor\": \"white\"}, \"hoverlabel\": {\"align\": \"left\"}, \"hovermode\": \"closest\", \"mapbox\": {\"style\": \"light\"}, \"paper_bgcolor\": \"white\", \"plot_bgcolor\": \"#E5ECF6\", \"polar\": {\"angularaxis\": {\"gridcolor\": \"white\", \"linecolor\": \"white\", \"ticks\": \"\"}, \"bgcolor\": \"#E5ECF6\", \"radialaxis\": {\"gridcolor\": \"white\", \"linecolor\": \"white\", \"ticks\": \"\"}}, \"scene\": {\"xaxis\": {\"backgroundcolor\": \"#E5ECF6\", \"gridcolor\": \"white\", \"gridwidth\": 2, \"linecolor\": \"white\", \"showbackground\": true, \"ticks\": \"\", \"zerolinecolor\": \"white\"}, \"yaxis\": {\"backgroundcolor\": \"#E5ECF6\", \"gridcolor\": \"white\", \"gridwidth\": 2, \"linecolor\": \"white\", \"showbackground\": true, \"ticks\": \"\", \"zerolinecolor\": \"white\"}, \"zaxis\": {\"backgroundcolor\": \"#E5ECF6\", \"gridcolor\": \"white\", \"gridwidth\": 2, \"linecolor\": \"white\", \"showbackground\": true, \"ticks\": \"\", \"zerolinecolor\": \"white\"}}, \"shapedefaults\": {\"line\": {\"color\": \"#2a3f5f\"}}, \"ternary\": {\"aaxis\": {\"gridcolor\": \"white\", \"linecolor\": \"white\", \"ticks\": \"\"}, \"baxis\": {\"gridcolor\": \"white\", \"linecolor\": \"white\", \"ticks\": \"\"}, \"bgcolor\": \"#E5ECF6\", \"caxis\": {\"gridcolor\": \"white\", \"linecolor\": \"white\", \"ticks\": \"\"}}, \"title\": {\"x\": 0.05}, \"xaxis\": {\"automargin\": true, \"gridcolor\": \"white\", \"linecolor\": \"white\", \"ticks\": \"\", \"title\": {\"standoff\": 15}, \"zerolinecolor\": \"white\", \"zerolinewidth\": 2}, \"yaxis\": {\"automargin\": true, \"gridcolor\": \"white\", \"linecolor\": \"white\", \"ticks\": \"\", \"title\": {\"standoff\": 15}, \"zerolinecolor\": \"white\", \"zerolinewidth\": 2}}}, \"title\": {\"text\": \"Proportion of Days Where A Species Ate\"}, \"xaxis\": {\"anchor\": \"y\", \"domain\": [0.0, 1.0], \"title\": {\"text\": \"Shark Species\"}}, \"yaxis\": {\"anchor\": \"x\", \"domain\": [0.0, 1.0], \"title\": {\"text\": \"sum of Proportion of Days\"}}},                        {\"responsive\": true}                    ).then(function(){\n",
       "                            \n",
       "var gd = document.getElementById('0f381770-3dbb-419e-82ad-2a73539bb0a1');\n",
       "var x = new MutationObserver(function (mutations, observer) {{\n",
       "        var display = window.getComputedStyle(gd).display;\n",
       "        if (!display || display === 'none') {{\n",
       "            console.log([gd, 'removed!']);\n",
       "            Plotly.purge(gd);\n",
       "            observer.disconnect();\n",
       "        }}\n",
       "}});\n",
       "\n",
       "// Listen for the removal of the full notebook cells\n",
       "var notebookContainer = gd.closest('#notebook-container');\n",
       "if (notebookContainer) {{\n",
       "    x.observe(notebookContainer, {childList: true});\n",
       "}}\n",
       "\n",
       "// Listen for the clearing of the current output cell\n",
       "var outputEl = gd.closest('.output');\n",
       "if (outputEl) {{\n",
       "    x.observe(outputEl, {childList: true});\n",
       "}}\n",
       "\n",
       "                        })                };                });            </script>        </div>"
      ]
     },
     "metadata": {},
     "output_type": "display_data"
    }
   ],
   "source": [
    "# Graph Proportions Based on Species of Shark\n",
    "Species_Eaten_Props = {'Species': ['Blacktip','Sandbar','Gray Reef'],\n",
    "        'Proportion': [BT_Eaten_Prop,SB_Eaten_Prop,GR_Eaten_Prop]\n",
    "        }\n",
    "Species_Eaten_Props_df = pd.DataFrame(Species_Eaten_Props, columns = ['Species', 'Proportion'])\n",
    "fig = px.histogram(Species_Eaten_Props_df, x=\"Species\", y=\"Proportion\", \n",
    "                   title = \"Proportion of Days Where A Species Ate\",\n",
    "                  labels={\n",
    "                     \"Species\": \"Shark Species\",\n",
    "                     \"Proportion\": \"Proportion of Days\",\n",
    "                 })\n",
    "fig.show()"
   ]
  },
  {
   "cell_type": "markdown",
   "metadata": {},
   "source": [
    "## Drop Data (Brady's Section)"
   ]
  },
  {
   "cell_type": "code",
   "execution_count": 146,
   "metadata": {},
   "outputs": [],
   "source": [
    "drops = drops.iloc[1:,:-1]\n",
    "drops['Drops'] = pd.to_datetime(drops['Drops']).dt.date\n",
    "drops.fillna(0, inplace = True)"
   ]
  },
  {
   "cell_type": "code",
   "execution_count": 148,
   "metadata": {},
   "outputs": [
    {
     "name": "stdout",
     "output_type": "stream",
     "text": [
      "3.46 drops on average per day when feeding took place\n",
      "0.29 drops on average per day per shark when feeding took place\n"
     ]
    }
   ],
   "source": [
    "#print(round(drops[\"Total: \"].mean(),2),\"drops on average per day when feeding took place\")\n",
    "print(round((drops[\"Total: \"].mean()/12),2), \"drops on average per day per shark when feeding took place\")"
   ]
  },
  {
   "cell_type": "code",
   "execution_count": 149,
   "metadata": {},
   "outputs": [],
   "source": [
    "drops[\"All_GR\"] = drops[\"GR1\"] + drops[\"GR2\"] + drops[\"GR3\"]+ drops[\"GR4\"] + drops[\"GR5\"]\n",
    "drops[\"All_BT\"] = drops[\"BT1\"] + drops[\"BT2\"] + drops[\"BT3\"]+ drops[\"BT4\"] + drops[\"BT5\"]\n",
    "drops[\"All_SS\"] = drops[\"Ross\"] + drops[\"Chandler\"]"
   ]
  },
  {
   "cell_type": "code",
   "execution_count": 151,
   "metadata": {},
   "outputs": [
    {
     "name": "stdout",
     "output_type": "stream",
     "text": [
      "0.14 drops on average per day for each Grey Reef Sharks when feeding took place\n",
      "0.5 drops on average per day for each Black Tip Sharks when feeding took place\n",
      "0.15 drops on average per day for each Sand Sharks when feeding took place\n"
     ]
    }
   ],
   "source": [
    "print(round(drops[\"All_GR\"].mean()/5,2),\"drops on average per day for each Grey Reef Sharks when feeding took place\")\n",
    "print(round(drops[\"All_BT\"].mean()/5,2),\"drops on average per day for each Black Tip Sharks when feeding took place\")\n",
    "print(round(drops[\"All_SS\"].mean()/2,2),\"drops on average per day for each Sand Sharks when feeding took place\")"
   ]
  },
  {
   "cell_type": "code",
   "execution_count": 152,
   "metadata": {},
   "outputs": [],
   "source": [
    "drops[\"male\"] = drops[\"BT1\"] + drops[\"BT5\"] + drops[\"GR1\"] + drops[\"Ross\"] + drops[\"Chandler\"]\n",
    "drops[\"female\"] = drops[\"BT2\"] + drops[\"BT3\"] + drops[\"BT4\"] + drops[\"GR2\"] + drops[\"GR3\"] + drops[\"GR4\"] + drops[\"GR5\"]"
   ]
  },
  {
   "cell_type": "code",
   "execution_count": 154,
   "metadata": {},
   "outputs": [
    {
     "name": "stdout",
     "output_type": "stream",
     "text": [
      "0.28 drops on average per day for all male sharks when feeding took place\n",
      "0.3 drops on average per day for all female sharks when feeding took place\n"
     ]
    }
   ],
   "source": [
    "print(round(drops[\"male\"].mean()/5,2),\"drops on average per day for all male sharks when feeding took place\")\n",
    "print(round(drops[\"female\"].mean()/7,2),\"drops on average per day for all female sharks when feeding took place\")"
   ]
  },
  {
   "cell_type": "code",
   "execution_count": 155,
   "metadata": {},
   "outputs": [
    {
     "data": {
      "application/vnd.plotly.v1+json": {
       "config": {
        "plotlyServerURL": "https://plot.ly"
       },
       "data": [
        {
         "alignmentgroup": "True",
         "hovertemplate": "Shark=%{x}<br>Mean=%{y}<extra></extra>",
         "legendgroup": "",
         "marker": {
          "color": "#636efa"
         },
         "name": "",
         "offsetgroup": "",
         "orientation": "v",
         "showlegend": false,
         "textposition": "auto",
         "type": "bar",
         "x": [
          "BT2",
          "BT1",
          "BT5",
          "BT3",
          "BT4",
          "GR3",
          "GR2",
          "Chandler",
          "GR4",
          "Ross",
          "GR5",
          "GR1"
         ],
         "xaxis": "x",
         "y": [
          0.649,
          0.581,
          0.452,
          0.447,
          0.359,
          0.215,
          0.198,
          0.191,
          0.12,
          0.101,
          0.089,
          0.082
         ],
         "yaxis": "y"
        }
       ],
       "layout": {
        "barmode": "relative",
        "legend": {
         "tracegroupgap": 0
        },
        "template": {
         "data": {
          "bar": [
           {
            "error_x": {
             "color": "#2a3f5f"
            },
            "error_y": {
             "color": "#2a3f5f"
            },
            "marker": {
             "line": {
              "color": "#E5ECF6",
              "width": 0.5
             }
            },
            "type": "bar"
           }
          ],
          "barpolar": [
           {
            "marker": {
             "line": {
              "color": "#E5ECF6",
              "width": 0.5
             }
            },
            "type": "barpolar"
           }
          ],
          "carpet": [
           {
            "aaxis": {
             "endlinecolor": "#2a3f5f",
             "gridcolor": "white",
             "linecolor": "white",
             "minorgridcolor": "white",
             "startlinecolor": "#2a3f5f"
            },
            "baxis": {
             "endlinecolor": "#2a3f5f",
             "gridcolor": "white",
             "linecolor": "white",
             "minorgridcolor": "white",
             "startlinecolor": "#2a3f5f"
            },
            "type": "carpet"
           }
          ],
          "choropleth": [
           {
            "colorbar": {
             "outlinewidth": 0,
             "ticks": ""
            },
            "type": "choropleth"
           }
          ],
          "contour": [
           {
            "colorbar": {
             "outlinewidth": 0,
             "ticks": ""
            },
            "colorscale": [
             [
              0,
              "#0d0887"
             ],
             [
              0.1111111111111111,
              "#46039f"
             ],
             [
              0.2222222222222222,
              "#7201a8"
             ],
             [
              0.3333333333333333,
              "#9c179e"
             ],
             [
              0.4444444444444444,
              "#bd3786"
             ],
             [
              0.5555555555555556,
              "#d8576b"
             ],
             [
              0.6666666666666666,
              "#ed7953"
             ],
             [
              0.7777777777777778,
              "#fb9f3a"
             ],
             [
              0.8888888888888888,
              "#fdca26"
             ],
             [
              1,
              "#f0f921"
             ]
            ],
            "type": "contour"
           }
          ],
          "contourcarpet": [
           {
            "colorbar": {
             "outlinewidth": 0,
             "ticks": ""
            },
            "type": "contourcarpet"
           }
          ],
          "heatmap": [
           {
            "colorbar": {
             "outlinewidth": 0,
             "ticks": ""
            },
            "colorscale": [
             [
              0,
              "#0d0887"
             ],
             [
              0.1111111111111111,
              "#46039f"
             ],
             [
              0.2222222222222222,
              "#7201a8"
             ],
             [
              0.3333333333333333,
              "#9c179e"
             ],
             [
              0.4444444444444444,
              "#bd3786"
             ],
             [
              0.5555555555555556,
              "#d8576b"
             ],
             [
              0.6666666666666666,
              "#ed7953"
             ],
             [
              0.7777777777777778,
              "#fb9f3a"
             ],
             [
              0.8888888888888888,
              "#fdca26"
             ],
             [
              1,
              "#f0f921"
             ]
            ],
            "type": "heatmap"
           }
          ],
          "heatmapgl": [
           {
            "colorbar": {
             "outlinewidth": 0,
             "ticks": ""
            },
            "colorscale": [
             [
              0,
              "#0d0887"
             ],
             [
              0.1111111111111111,
              "#46039f"
             ],
             [
              0.2222222222222222,
              "#7201a8"
             ],
             [
              0.3333333333333333,
              "#9c179e"
             ],
             [
              0.4444444444444444,
              "#bd3786"
             ],
             [
              0.5555555555555556,
              "#d8576b"
             ],
             [
              0.6666666666666666,
              "#ed7953"
             ],
             [
              0.7777777777777778,
              "#fb9f3a"
             ],
             [
              0.8888888888888888,
              "#fdca26"
             ],
             [
              1,
              "#f0f921"
             ]
            ],
            "type": "heatmapgl"
           }
          ],
          "histogram": [
           {
            "marker": {
             "colorbar": {
              "outlinewidth": 0,
              "ticks": ""
             }
            },
            "type": "histogram"
           }
          ],
          "histogram2d": [
           {
            "colorbar": {
             "outlinewidth": 0,
             "ticks": ""
            },
            "colorscale": [
             [
              0,
              "#0d0887"
             ],
             [
              0.1111111111111111,
              "#46039f"
             ],
             [
              0.2222222222222222,
              "#7201a8"
             ],
             [
              0.3333333333333333,
              "#9c179e"
             ],
             [
              0.4444444444444444,
              "#bd3786"
             ],
             [
              0.5555555555555556,
              "#d8576b"
             ],
             [
              0.6666666666666666,
              "#ed7953"
             ],
             [
              0.7777777777777778,
              "#fb9f3a"
             ],
             [
              0.8888888888888888,
              "#fdca26"
             ],
             [
              1,
              "#f0f921"
             ]
            ],
            "type": "histogram2d"
           }
          ],
          "histogram2dcontour": [
           {
            "colorbar": {
             "outlinewidth": 0,
             "ticks": ""
            },
            "colorscale": [
             [
              0,
              "#0d0887"
             ],
             [
              0.1111111111111111,
              "#46039f"
             ],
             [
              0.2222222222222222,
              "#7201a8"
             ],
             [
              0.3333333333333333,
              "#9c179e"
             ],
             [
              0.4444444444444444,
              "#bd3786"
             ],
             [
              0.5555555555555556,
              "#d8576b"
             ],
             [
              0.6666666666666666,
              "#ed7953"
             ],
             [
              0.7777777777777778,
              "#fb9f3a"
             ],
             [
              0.8888888888888888,
              "#fdca26"
             ],
             [
              1,
              "#f0f921"
             ]
            ],
            "type": "histogram2dcontour"
           }
          ],
          "mesh3d": [
           {
            "colorbar": {
             "outlinewidth": 0,
             "ticks": ""
            },
            "type": "mesh3d"
           }
          ],
          "parcoords": [
           {
            "line": {
             "colorbar": {
              "outlinewidth": 0,
              "ticks": ""
             }
            },
            "type": "parcoords"
           }
          ],
          "pie": [
           {
            "automargin": true,
            "type": "pie"
           }
          ],
          "scatter": [
           {
            "marker": {
             "colorbar": {
              "outlinewidth": 0,
              "ticks": ""
             }
            },
            "type": "scatter"
           }
          ],
          "scatter3d": [
           {
            "line": {
             "colorbar": {
              "outlinewidth": 0,
              "ticks": ""
             }
            },
            "marker": {
             "colorbar": {
              "outlinewidth": 0,
              "ticks": ""
             }
            },
            "type": "scatter3d"
           }
          ],
          "scattercarpet": [
           {
            "marker": {
             "colorbar": {
              "outlinewidth": 0,
              "ticks": ""
             }
            },
            "type": "scattercarpet"
           }
          ],
          "scattergeo": [
           {
            "marker": {
             "colorbar": {
              "outlinewidth": 0,
              "ticks": ""
             }
            },
            "type": "scattergeo"
           }
          ],
          "scattergl": [
           {
            "marker": {
             "colorbar": {
              "outlinewidth": 0,
              "ticks": ""
             }
            },
            "type": "scattergl"
           }
          ],
          "scattermapbox": [
           {
            "marker": {
             "colorbar": {
              "outlinewidth": 0,
              "ticks": ""
             }
            },
            "type": "scattermapbox"
           }
          ],
          "scatterpolar": [
           {
            "marker": {
             "colorbar": {
              "outlinewidth": 0,
              "ticks": ""
             }
            },
            "type": "scatterpolar"
           }
          ],
          "scatterpolargl": [
           {
            "marker": {
             "colorbar": {
              "outlinewidth": 0,
              "ticks": ""
             }
            },
            "type": "scatterpolargl"
           }
          ],
          "scatterternary": [
           {
            "marker": {
             "colorbar": {
              "outlinewidth": 0,
              "ticks": ""
             }
            },
            "type": "scatterternary"
           }
          ],
          "surface": [
           {
            "colorbar": {
             "outlinewidth": 0,
             "ticks": ""
            },
            "colorscale": [
             [
              0,
              "#0d0887"
             ],
             [
              0.1111111111111111,
              "#46039f"
             ],
             [
              0.2222222222222222,
              "#7201a8"
             ],
             [
              0.3333333333333333,
              "#9c179e"
             ],
             [
              0.4444444444444444,
              "#bd3786"
             ],
             [
              0.5555555555555556,
              "#d8576b"
             ],
             [
              0.6666666666666666,
              "#ed7953"
             ],
             [
              0.7777777777777778,
              "#fb9f3a"
             ],
             [
              0.8888888888888888,
              "#fdca26"
             ],
             [
              1,
              "#f0f921"
             ]
            ],
            "type": "surface"
           }
          ],
          "table": [
           {
            "cells": {
             "fill": {
              "color": "#EBF0F8"
             },
             "line": {
              "color": "white"
             }
            },
            "header": {
             "fill": {
              "color": "#C8D4E3"
             },
             "line": {
              "color": "white"
             }
            },
            "type": "table"
           }
          ]
         },
         "layout": {
          "annotationdefaults": {
           "arrowcolor": "#2a3f5f",
           "arrowhead": 0,
           "arrowwidth": 1
          },
          "coloraxis": {
           "colorbar": {
            "outlinewidth": 0,
            "ticks": ""
           }
          },
          "colorscale": {
           "diverging": [
            [
             0,
             "#8e0152"
            ],
            [
             0.1,
             "#c51b7d"
            ],
            [
             0.2,
             "#de77ae"
            ],
            [
             0.3,
             "#f1b6da"
            ],
            [
             0.4,
             "#fde0ef"
            ],
            [
             0.5,
             "#f7f7f7"
            ],
            [
             0.6,
             "#e6f5d0"
            ],
            [
             0.7,
             "#b8e186"
            ],
            [
             0.8,
             "#7fbc41"
            ],
            [
             0.9,
             "#4d9221"
            ],
            [
             1,
             "#276419"
            ]
           ],
           "sequential": [
            [
             0,
             "#0d0887"
            ],
            [
             0.1111111111111111,
             "#46039f"
            ],
            [
             0.2222222222222222,
             "#7201a8"
            ],
            [
             0.3333333333333333,
             "#9c179e"
            ],
            [
             0.4444444444444444,
             "#bd3786"
            ],
            [
             0.5555555555555556,
             "#d8576b"
            ],
            [
             0.6666666666666666,
             "#ed7953"
            ],
            [
             0.7777777777777778,
             "#fb9f3a"
            ],
            [
             0.8888888888888888,
             "#fdca26"
            ],
            [
             1,
             "#f0f921"
            ]
           ],
           "sequentialminus": [
            [
             0,
             "#0d0887"
            ],
            [
             0.1111111111111111,
             "#46039f"
            ],
            [
             0.2222222222222222,
             "#7201a8"
            ],
            [
             0.3333333333333333,
             "#9c179e"
            ],
            [
             0.4444444444444444,
             "#bd3786"
            ],
            [
             0.5555555555555556,
             "#d8576b"
            ],
            [
             0.6666666666666666,
             "#ed7953"
            ],
            [
             0.7777777777777778,
             "#fb9f3a"
            ],
            [
             0.8888888888888888,
             "#fdca26"
            ],
            [
             1,
             "#f0f921"
            ]
           ]
          },
          "colorway": [
           "#636efa",
           "#EF553B",
           "#00cc96",
           "#ab63fa",
           "#FFA15A",
           "#19d3f3",
           "#FF6692",
           "#B6E880",
           "#FF97FF",
           "#FECB52"
          ],
          "font": {
           "color": "#2a3f5f"
          },
          "geo": {
           "bgcolor": "white",
           "lakecolor": "white",
           "landcolor": "#E5ECF6",
           "showlakes": true,
           "showland": true,
           "subunitcolor": "white"
          },
          "hoverlabel": {
           "align": "left"
          },
          "hovermode": "closest",
          "mapbox": {
           "style": "light"
          },
          "paper_bgcolor": "white",
          "plot_bgcolor": "#E5ECF6",
          "polar": {
           "angularaxis": {
            "gridcolor": "white",
            "linecolor": "white",
            "ticks": ""
           },
           "bgcolor": "#E5ECF6",
           "radialaxis": {
            "gridcolor": "white",
            "linecolor": "white",
            "ticks": ""
           }
          },
          "scene": {
           "xaxis": {
            "backgroundcolor": "#E5ECF6",
            "gridcolor": "white",
            "gridwidth": 2,
            "linecolor": "white",
            "showbackground": true,
            "ticks": "",
            "zerolinecolor": "white"
           },
           "yaxis": {
            "backgroundcolor": "#E5ECF6",
            "gridcolor": "white",
            "gridwidth": 2,
            "linecolor": "white",
            "showbackground": true,
            "ticks": "",
            "zerolinecolor": "white"
           },
           "zaxis": {
            "backgroundcolor": "#E5ECF6",
            "gridcolor": "white",
            "gridwidth": 2,
            "linecolor": "white",
            "showbackground": true,
            "ticks": "",
            "zerolinecolor": "white"
           }
          },
          "shapedefaults": {
           "line": {
            "color": "#2a3f5f"
           }
          },
          "ternary": {
           "aaxis": {
            "gridcolor": "white",
            "linecolor": "white",
            "ticks": ""
           },
           "baxis": {
            "gridcolor": "white",
            "linecolor": "white",
            "ticks": ""
           },
           "bgcolor": "#E5ECF6",
           "caxis": {
            "gridcolor": "white",
            "linecolor": "white",
            "ticks": ""
           }
          },
          "title": {
           "x": 0.05
          },
          "xaxis": {
           "automargin": true,
           "gridcolor": "white",
           "linecolor": "white",
           "ticks": "",
           "title": {
            "standoff": 15
           },
           "zerolinecolor": "white",
           "zerolinewidth": 2
          },
          "yaxis": {
           "automargin": true,
           "gridcolor": "white",
           "linecolor": "white",
           "ticks": "",
           "title": {
            "standoff": 15
           },
           "zerolinecolor": "white",
           "zerolinewidth": 2
          }
         }
        },
        "title": {
         "text": "Drop Means for Each Shark"
        },
        "xaxis": {
         "anchor": "y",
         "domain": [
          0,
          1
         ],
         "title": {
          "text": "Shark"
         }
        },
        "yaxis": {
         "anchor": "x",
         "domain": [
          0,
          1
         ],
         "title": {
          "text": "Mean"
         }
        }
       }
      },
      "text/html": [
       "<div>                            <div id=\"48c21f6f-746c-4963-9eea-1fe9b92e627f\" class=\"plotly-graph-div\" style=\"height:525px; width:100%;\"></div>            <script type=\"text/javascript\">                require([\"plotly\"], function(Plotly) {                    window.PLOTLYENV=window.PLOTLYENV || {};                                    if (document.getElementById(\"48c21f6f-746c-4963-9eea-1fe9b92e627f\")) {                    Plotly.newPlot(                        \"48c21f6f-746c-4963-9eea-1fe9b92e627f\",                        [{\"alignmentgroup\": \"True\", \"hovertemplate\": \"Shark=%{x}<br>Mean=%{y}<extra></extra>\", \"legendgroup\": \"\", \"marker\": {\"color\": \"#636efa\"}, \"name\": \"\", \"offsetgroup\": \"\", \"orientation\": \"v\", \"showlegend\": false, \"textposition\": \"auto\", \"type\": \"bar\", \"x\": [\"BT2\", \"BT1\", \"BT5\", \"BT3\", \"BT4\", \"GR3\", \"GR2\", \"Chandler\", \"GR4\", \"Ross\", \"GR5\", \"GR1\"], \"xaxis\": \"x\", \"y\": [0.649, 0.581, 0.452, 0.447, 0.359, 0.215, 0.198, 0.191, 0.12, 0.101, 0.089, 0.082], \"yaxis\": \"y\"}],                        {\"barmode\": \"relative\", \"legend\": {\"tracegroupgap\": 0}, \"template\": {\"data\": {\"bar\": [{\"error_x\": {\"color\": \"#2a3f5f\"}, \"error_y\": {\"color\": \"#2a3f5f\"}, \"marker\": {\"line\": {\"color\": \"#E5ECF6\", \"width\": 0.5}}, \"type\": \"bar\"}], \"barpolar\": [{\"marker\": {\"line\": {\"color\": \"#E5ECF6\", \"width\": 0.5}}, \"type\": \"barpolar\"}], \"carpet\": [{\"aaxis\": {\"endlinecolor\": \"#2a3f5f\", \"gridcolor\": \"white\", \"linecolor\": \"white\", \"minorgridcolor\": \"white\", \"startlinecolor\": \"#2a3f5f\"}, \"baxis\": {\"endlinecolor\": \"#2a3f5f\", \"gridcolor\": \"white\", \"linecolor\": \"white\", \"minorgridcolor\": \"white\", \"startlinecolor\": \"#2a3f5f\"}, \"type\": \"carpet\"}], \"choropleth\": [{\"colorbar\": {\"outlinewidth\": 0, \"ticks\": \"\"}, \"type\": \"choropleth\"}], \"contour\": [{\"colorbar\": {\"outlinewidth\": 0, \"ticks\": \"\"}, \"colorscale\": [[0.0, \"#0d0887\"], [0.1111111111111111, \"#46039f\"], [0.2222222222222222, \"#7201a8\"], [0.3333333333333333, \"#9c179e\"], [0.4444444444444444, \"#bd3786\"], [0.5555555555555556, \"#d8576b\"], [0.6666666666666666, \"#ed7953\"], [0.7777777777777778, \"#fb9f3a\"], [0.8888888888888888, \"#fdca26\"], [1.0, \"#f0f921\"]], \"type\": \"contour\"}], \"contourcarpet\": [{\"colorbar\": {\"outlinewidth\": 0, \"ticks\": \"\"}, \"type\": \"contourcarpet\"}], \"heatmap\": [{\"colorbar\": {\"outlinewidth\": 0, \"ticks\": \"\"}, \"colorscale\": [[0.0, \"#0d0887\"], [0.1111111111111111, \"#46039f\"], [0.2222222222222222, \"#7201a8\"], [0.3333333333333333, \"#9c179e\"], [0.4444444444444444, \"#bd3786\"], [0.5555555555555556, \"#d8576b\"], [0.6666666666666666, \"#ed7953\"], [0.7777777777777778, \"#fb9f3a\"], [0.8888888888888888, \"#fdca26\"], [1.0, \"#f0f921\"]], \"type\": \"heatmap\"}], \"heatmapgl\": [{\"colorbar\": {\"outlinewidth\": 0, \"ticks\": \"\"}, \"colorscale\": [[0.0, \"#0d0887\"], [0.1111111111111111, \"#46039f\"], [0.2222222222222222, \"#7201a8\"], [0.3333333333333333, \"#9c179e\"], [0.4444444444444444, \"#bd3786\"], [0.5555555555555556, \"#d8576b\"], [0.6666666666666666, \"#ed7953\"], [0.7777777777777778, \"#fb9f3a\"], [0.8888888888888888, \"#fdca26\"], [1.0, \"#f0f921\"]], \"type\": \"heatmapgl\"}], \"histogram\": [{\"marker\": {\"colorbar\": {\"outlinewidth\": 0, \"ticks\": \"\"}}, \"type\": \"histogram\"}], \"histogram2d\": [{\"colorbar\": {\"outlinewidth\": 0, \"ticks\": \"\"}, \"colorscale\": [[0.0, \"#0d0887\"], [0.1111111111111111, \"#46039f\"], [0.2222222222222222, \"#7201a8\"], [0.3333333333333333, \"#9c179e\"], [0.4444444444444444, \"#bd3786\"], [0.5555555555555556, \"#d8576b\"], [0.6666666666666666, \"#ed7953\"], [0.7777777777777778, \"#fb9f3a\"], [0.8888888888888888, \"#fdca26\"], [1.0, \"#f0f921\"]], \"type\": \"histogram2d\"}], \"histogram2dcontour\": [{\"colorbar\": {\"outlinewidth\": 0, \"ticks\": \"\"}, \"colorscale\": [[0.0, \"#0d0887\"], [0.1111111111111111, \"#46039f\"], [0.2222222222222222, \"#7201a8\"], [0.3333333333333333, \"#9c179e\"], [0.4444444444444444, \"#bd3786\"], [0.5555555555555556, \"#d8576b\"], [0.6666666666666666, \"#ed7953\"], [0.7777777777777778, \"#fb9f3a\"], [0.8888888888888888, \"#fdca26\"], [1.0, \"#f0f921\"]], \"type\": \"histogram2dcontour\"}], \"mesh3d\": [{\"colorbar\": {\"outlinewidth\": 0, \"ticks\": \"\"}, \"type\": \"mesh3d\"}], \"parcoords\": [{\"line\": {\"colorbar\": {\"outlinewidth\": 0, \"ticks\": \"\"}}, \"type\": \"parcoords\"}], \"pie\": [{\"automargin\": true, \"type\": \"pie\"}], \"scatter\": [{\"marker\": {\"colorbar\": {\"outlinewidth\": 0, \"ticks\": \"\"}}, \"type\": \"scatter\"}], \"scatter3d\": [{\"line\": {\"colorbar\": {\"outlinewidth\": 0, \"ticks\": \"\"}}, \"marker\": {\"colorbar\": {\"outlinewidth\": 0, \"ticks\": \"\"}}, \"type\": \"scatter3d\"}], \"scattercarpet\": [{\"marker\": {\"colorbar\": {\"outlinewidth\": 0, \"ticks\": \"\"}}, \"type\": \"scattercarpet\"}], \"scattergeo\": [{\"marker\": {\"colorbar\": {\"outlinewidth\": 0, \"ticks\": \"\"}}, \"type\": \"scattergeo\"}], \"scattergl\": [{\"marker\": {\"colorbar\": {\"outlinewidth\": 0, \"ticks\": \"\"}}, \"type\": \"scattergl\"}], \"scattermapbox\": [{\"marker\": {\"colorbar\": {\"outlinewidth\": 0, \"ticks\": \"\"}}, \"type\": \"scattermapbox\"}], \"scatterpolar\": [{\"marker\": {\"colorbar\": {\"outlinewidth\": 0, \"ticks\": \"\"}}, \"type\": \"scatterpolar\"}], \"scatterpolargl\": [{\"marker\": {\"colorbar\": {\"outlinewidth\": 0, \"ticks\": \"\"}}, \"type\": \"scatterpolargl\"}], \"scatterternary\": [{\"marker\": {\"colorbar\": {\"outlinewidth\": 0, \"ticks\": \"\"}}, \"type\": \"scatterternary\"}], \"surface\": [{\"colorbar\": {\"outlinewidth\": 0, \"ticks\": \"\"}, \"colorscale\": [[0.0, \"#0d0887\"], [0.1111111111111111, \"#46039f\"], [0.2222222222222222, \"#7201a8\"], [0.3333333333333333, \"#9c179e\"], [0.4444444444444444, \"#bd3786\"], [0.5555555555555556, \"#d8576b\"], [0.6666666666666666, \"#ed7953\"], [0.7777777777777778, \"#fb9f3a\"], [0.8888888888888888, \"#fdca26\"], [1.0, \"#f0f921\"]], \"type\": \"surface\"}], \"table\": [{\"cells\": {\"fill\": {\"color\": \"#EBF0F8\"}, \"line\": {\"color\": \"white\"}}, \"header\": {\"fill\": {\"color\": \"#C8D4E3\"}, \"line\": {\"color\": \"white\"}}, \"type\": \"table\"}]}, \"layout\": {\"annotationdefaults\": {\"arrowcolor\": \"#2a3f5f\", \"arrowhead\": 0, \"arrowwidth\": 1}, \"coloraxis\": {\"colorbar\": {\"outlinewidth\": 0, \"ticks\": \"\"}}, \"colorscale\": {\"diverging\": [[0, \"#8e0152\"], [0.1, \"#c51b7d\"], [0.2, \"#de77ae\"], [0.3, \"#f1b6da\"], [0.4, \"#fde0ef\"], [0.5, \"#f7f7f7\"], [0.6, \"#e6f5d0\"], [0.7, \"#b8e186\"], [0.8, \"#7fbc41\"], [0.9, \"#4d9221\"], [1, \"#276419\"]], \"sequential\": [[0.0, \"#0d0887\"], [0.1111111111111111, \"#46039f\"], [0.2222222222222222, \"#7201a8\"], [0.3333333333333333, \"#9c179e\"], [0.4444444444444444, \"#bd3786\"], [0.5555555555555556, \"#d8576b\"], [0.6666666666666666, \"#ed7953\"], [0.7777777777777778, \"#fb9f3a\"], [0.8888888888888888, \"#fdca26\"], [1.0, \"#f0f921\"]], \"sequentialminus\": [[0.0, \"#0d0887\"], [0.1111111111111111, \"#46039f\"], [0.2222222222222222, \"#7201a8\"], [0.3333333333333333, \"#9c179e\"], [0.4444444444444444, \"#bd3786\"], [0.5555555555555556, \"#d8576b\"], [0.6666666666666666, \"#ed7953\"], [0.7777777777777778, \"#fb9f3a\"], [0.8888888888888888, \"#fdca26\"], [1.0, \"#f0f921\"]]}, \"colorway\": [\"#636efa\", \"#EF553B\", \"#00cc96\", \"#ab63fa\", \"#FFA15A\", \"#19d3f3\", \"#FF6692\", \"#B6E880\", \"#FF97FF\", \"#FECB52\"], \"font\": {\"color\": \"#2a3f5f\"}, \"geo\": {\"bgcolor\": \"white\", \"lakecolor\": \"white\", \"landcolor\": \"#E5ECF6\", \"showlakes\": true, \"showland\": true, \"subunitcolor\": \"white\"}, \"hoverlabel\": {\"align\": \"left\"}, \"hovermode\": \"closest\", \"mapbox\": {\"style\": \"light\"}, \"paper_bgcolor\": \"white\", \"plot_bgcolor\": \"#E5ECF6\", \"polar\": {\"angularaxis\": {\"gridcolor\": \"white\", \"linecolor\": \"white\", \"ticks\": \"\"}, \"bgcolor\": \"#E5ECF6\", \"radialaxis\": {\"gridcolor\": \"white\", \"linecolor\": \"white\", \"ticks\": \"\"}}, \"scene\": {\"xaxis\": {\"backgroundcolor\": \"#E5ECF6\", \"gridcolor\": \"white\", \"gridwidth\": 2, \"linecolor\": \"white\", \"showbackground\": true, \"ticks\": \"\", \"zerolinecolor\": \"white\"}, \"yaxis\": {\"backgroundcolor\": \"#E5ECF6\", \"gridcolor\": \"white\", \"gridwidth\": 2, \"linecolor\": \"white\", \"showbackground\": true, \"ticks\": \"\", \"zerolinecolor\": \"white\"}, \"zaxis\": {\"backgroundcolor\": \"#E5ECF6\", \"gridcolor\": \"white\", \"gridwidth\": 2, \"linecolor\": \"white\", \"showbackground\": true, \"ticks\": \"\", \"zerolinecolor\": \"white\"}}, \"shapedefaults\": {\"line\": {\"color\": \"#2a3f5f\"}}, \"ternary\": {\"aaxis\": {\"gridcolor\": \"white\", \"linecolor\": \"white\", \"ticks\": \"\"}, \"baxis\": {\"gridcolor\": \"white\", \"linecolor\": \"white\", \"ticks\": \"\"}, \"bgcolor\": \"#E5ECF6\", \"caxis\": {\"gridcolor\": \"white\", \"linecolor\": \"white\", \"ticks\": \"\"}}, \"title\": {\"x\": 0.05}, \"xaxis\": {\"automargin\": true, \"gridcolor\": \"white\", \"linecolor\": \"white\", \"ticks\": \"\", \"title\": {\"standoff\": 15}, \"zerolinecolor\": \"white\", \"zerolinewidth\": 2}, \"yaxis\": {\"automargin\": true, \"gridcolor\": \"white\", \"linecolor\": \"white\", \"ticks\": \"\", \"title\": {\"standoff\": 15}, \"zerolinecolor\": \"white\", \"zerolinewidth\": 2}}}, \"title\": {\"text\": \"Drop Means for Each Shark\"}, \"xaxis\": {\"anchor\": \"y\", \"domain\": [0.0, 1.0], \"title\": {\"text\": \"Shark\"}}, \"yaxis\": {\"anchor\": \"x\", \"domain\": [0.0, 1.0], \"title\": {\"text\": \"Mean\"}}},                        {\"responsive\": true}                    ).then(function(){\n",
       "                            \n",
       "var gd = document.getElementById('48c21f6f-746c-4963-9eea-1fe9b92e627f');\n",
       "var x = new MutationObserver(function (mutations, observer) {{\n",
       "        var display = window.getComputedStyle(gd).display;\n",
       "        if (!display || display === 'none') {{\n",
       "            console.log([gd, 'removed!']);\n",
       "            Plotly.purge(gd);\n",
       "            observer.disconnect();\n",
       "        }}\n",
       "}});\n",
       "\n",
       "// Listen for the removal of the full notebook cells\n",
       "var notebookContainer = gd.closest('#notebook-container');\n",
       "if (notebookContainer) {{\n",
       "    x.observe(notebookContainer, {childList: true});\n",
       "}}\n",
       "\n",
       "// Listen for the clearing of the current output cell\n",
       "var outputEl = gd.closest('.output');\n",
       "if (outputEl) {{\n",
       "    x.observe(outputEl, {childList: true});\n",
       "}}\n",
       "\n",
       "                        })                };                });            </script>        </div>"
      ]
     },
     "metadata": {},
     "output_type": "display_data"
    }
   ],
   "source": [
    "All_Sharks_drops = drops[['Ross', 'Chandler','BT1','BT2','BT3','BT4','BT5','GR1','GR2','GR3','GR4', 'GR5']]\n",
    "drop_means = pd.DataFrame(round(All_Sharks_drops.mean(), 3)).reset_index()\n",
    "drop_means.columns = [\"Shark\",\"Mean\"]\n",
    "drop_means = drop_means.sort_values(by = \"Mean\", ascending = False)\n",
    "drop_means\n",
    "px.bar(drop_means, x = \"Shark\", y = \"Mean\", title = \"Drop Means for Each Shark\")"
   ]
  },
  {
   "cell_type": "code",
   "execution_count": 252,
   "metadata": {},
   "outputs": [
    {
     "name": "stdout",
     "output_type": "stream",
     "text": [
      "   Gender   Mean\n",
      "0  female  0.297\n",
      "1    male  0.281\n"
     ]
    },
    {
     "name": "stderr",
     "output_type": "stream",
     "text": [
      "<ipython-input-252-57bad449d22e>:2: SettingWithCopyWarning:\n",
      "\n",
      "\n",
      "A value is trying to be set on a copy of a slice from a DataFrame.\n",
      "Try using .loc[row_indexer,col_indexer] = value instead\n",
      "\n",
      "See the caveats in the documentation: https://pandas.pydata.org/pandas-docs/stable/user_guide/indexing.html#returning-a-view-versus-a-copy\n",
      "\n",
      "<ipython-input-252-57bad449d22e>:3: SettingWithCopyWarning:\n",
      "\n",
      "\n",
      "A value is trying to be set on a copy of a slice from a DataFrame.\n",
      "Try using .loc[row_indexer,col_indexer] = value instead\n",
      "\n",
      "See the caveats in the documentation: https://pandas.pydata.org/pandas-docs/stable/user_guide/indexing.html#returning-a-view-versus-a-copy\n",
      "\n"
     ]
    },
    {
     "data": {
      "application/vnd.plotly.v1+json": {
       "config": {
        "plotlyServerURL": "https://plot.ly"
       },
       "data": [
        {
         "alignmentgroup": "True",
         "hovertemplate": "Gender=%{x}<br>Mean=%{y}<extra></extra>",
         "legendgroup": "",
         "marker": {
          "color": "#636efa"
         },
         "name": "",
         "offsetgroup": "",
         "orientation": "v",
         "showlegend": false,
         "textposition": "auto",
         "type": "bar",
         "x": [
          "female",
          "male"
         ],
         "xaxis": "x",
         "y": [
          0.297,
          0.281
         ],
         "yaxis": "y"
        }
       ],
       "layout": {
        "barmode": "relative",
        "legend": {
         "tracegroupgap": 0
        },
        "template": {
         "data": {
          "bar": [
           {
            "error_x": {
             "color": "#2a3f5f"
            },
            "error_y": {
             "color": "#2a3f5f"
            },
            "marker": {
             "line": {
              "color": "#E5ECF6",
              "width": 0.5
             }
            },
            "type": "bar"
           }
          ],
          "barpolar": [
           {
            "marker": {
             "line": {
              "color": "#E5ECF6",
              "width": 0.5
             }
            },
            "type": "barpolar"
           }
          ],
          "carpet": [
           {
            "aaxis": {
             "endlinecolor": "#2a3f5f",
             "gridcolor": "white",
             "linecolor": "white",
             "minorgridcolor": "white",
             "startlinecolor": "#2a3f5f"
            },
            "baxis": {
             "endlinecolor": "#2a3f5f",
             "gridcolor": "white",
             "linecolor": "white",
             "minorgridcolor": "white",
             "startlinecolor": "#2a3f5f"
            },
            "type": "carpet"
           }
          ],
          "choropleth": [
           {
            "colorbar": {
             "outlinewidth": 0,
             "ticks": ""
            },
            "type": "choropleth"
           }
          ],
          "contour": [
           {
            "colorbar": {
             "outlinewidth": 0,
             "ticks": ""
            },
            "colorscale": [
             [
              0,
              "#0d0887"
             ],
             [
              0.1111111111111111,
              "#46039f"
             ],
             [
              0.2222222222222222,
              "#7201a8"
             ],
             [
              0.3333333333333333,
              "#9c179e"
             ],
             [
              0.4444444444444444,
              "#bd3786"
             ],
             [
              0.5555555555555556,
              "#d8576b"
             ],
             [
              0.6666666666666666,
              "#ed7953"
             ],
             [
              0.7777777777777778,
              "#fb9f3a"
             ],
             [
              0.8888888888888888,
              "#fdca26"
             ],
             [
              1,
              "#f0f921"
             ]
            ],
            "type": "contour"
           }
          ],
          "contourcarpet": [
           {
            "colorbar": {
             "outlinewidth": 0,
             "ticks": ""
            },
            "type": "contourcarpet"
           }
          ],
          "heatmap": [
           {
            "colorbar": {
             "outlinewidth": 0,
             "ticks": ""
            },
            "colorscale": [
             [
              0,
              "#0d0887"
             ],
             [
              0.1111111111111111,
              "#46039f"
             ],
             [
              0.2222222222222222,
              "#7201a8"
             ],
             [
              0.3333333333333333,
              "#9c179e"
             ],
             [
              0.4444444444444444,
              "#bd3786"
             ],
             [
              0.5555555555555556,
              "#d8576b"
             ],
             [
              0.6666666666666666,
              "#ed7953"
             ],
             [
              0.7777777777777778,
              "#fb9f3a"
             ],
             [
              0.8888888888888888,
              "#fdca26"
             ],
             [
              1,
              "#f0f921"
             ]
            ],
            "type": "heatmap"
           }
          ],
          "heatmapgl": [
           {
            "colorbar": {
             "outlinewidth": 0,
             "ticks": ""
            },
            "colorscale": [
             [
              0,
              "#0d0887"
             ],
             [
              0.1111111111111111,
              "#46039f"
             ],
             [
              0.2222222222222222,
              "#7201a8"
             ],
             [
              0.3333333333333333,
              "#9c179e"
             ],
             [
              0.4444444444444444,
              "#bd3786"
             ],
             [
              0.5555555555555556,
              "#d8576b"
             ],
             [
              0.6666666666666666,
              "#ed7953"
             ],
             [
              0.7777777777777778,
              "#fb9f3a"
             ],
             [
              0.8888888888888888,
              "#fdca26"
             ],
             [
              1,
              "#f0f921"
             ]
            ],
            "type": "heatmapgl"
           }
          ],
          "histogram": [
           {
            "marker": {
             "colorbar": {
              "outlinewidth": 0,
              "ticks": ""
             }
            },
            "type": "histogram"
           }
          ],
          "histogram2d": [
           {
            "colorbar": {
             "outlinewidth": 0,
             "ticks": ""
            },
            "colorscale": [
             [
              0,
              "#0d0887"
             ],
             [
              0.1111111111111111,
              "#46039f"
             ],
             [
              0.2222222222222222,
              "#7201a8"
             ],
             [
              0.3333333333333333,
              "#9c179e"
             ],
             [
              0.4444444444444444,
              "#bd3786"
             ],
             [
              0.5555555555555556,
              "#d8576b"
             ],
             [
              0.6666666666666666,
              "#ed7953"
             ],
             [
              0.7777777777777778,
              "#fb9f3a"
             ],
             [
              0.8888888888888888,
              "#fdca26"
             ],
             [
              1,
              "#f0f921"
             ]
            ],
            "type": "histogram2d"
           }
          ],
          "histogram2dcontour": [
           {
            "colorbar": {
             "outlinewidth": 0,
             "ticks": ""
            },
            "colorscale": [
             [
              0,
              "#0d0887"
             ],
             [
              0.1111111111111111,
              "#46039f"
             ],
             [
              0.2222222222222222,
              "#7201a8"
             ],
             [
              0.3333333333333333,
              "#9c179e"
             ],
             [
              0.4444444444444444,
              "#bd3786"
             ],
             [
              0.5555555555555556,
              "#d8576b"
             ],
             [
              0.6666666666666666,
              "#ed7953"
             ],
             [
              0.7777777777777778,
              "#fb9f3a"
             ],
             [
              0.8888888888888888,
              "#fdca26"
             ],
             [
              1,
              "#f0f921"
             ]
            ],
            "type": "histogram2dcontour"
           }
          ],
          "mesh3d": [
           {
            "colorbar": {
             "outlinewidth": 0,
             "ticks": ""
            },
            "type": "mesh3d"
           }
          ],
          "parcoords": [
           {
            "line": {
             "colorbar": {
              "outlinewidth": 0,
              "ticks": ""
             }
            },
            "type": "parcoords"
           }
          ],
          "pie": [
           {
            "automargin": true,
            "type": "pie"
           }
          ],
          "scatter": [
           {
            "marker": {
             "colorbar": {
              "outlinewidth": 0,
              "ticks": ""
             }
            },
            "type": "scatter"
           }
          ],
          "scatter3d": [
           {
            "line": {
             "colorbar": {
              "outlinewidth": 0,
              "ticks": ""
             }
            },
            "marker": {
             "colorbar": {
              "outlinewidth": 0,
              "ticks": ""
             }
            },
            "type": "scatter3d"
           }
          ],
          "scattercarpet": [
           {
            "marker": {
             "colorbar": {
              "outlinewidth": 0,
              "ticks": ""
             }
            },
            "type": "scattercarpet"
           }
          ],
          "scattergeo": [
           {
            "marker": {
             "colorbar": {
              "outlinewidth": 0,
              "ticks": ""
             }
            },
            "type": "scattergeo"
           }
          ],
          "scattergl": [
           {
            "marker": {
             "colorbar": {
              "outlinewidth": 0,
              "ticks": ""
             }
            },
            "type": "scattergl"
           }
          ],
          "scattermapbox": [
           {
            "marker": {
             "colorbar": {
              "outlinewidth": 0,
              "ticks": ""
             }
            },
            "type": "scattermapbox"
           }
          ],
          "scatterpolar": [
           {
            "marker": {
             "colorbar": {
              "outlinewidth": 0,
              "ticks": ""
             }
            },
            "type": "scatterpolar"
           }
          ],
          "scatterpolargl": [
           {
            "marker": {
             "colorbar": {
              "outlinewidth": 0,
              "ticks": ""
             }
            },
            "type": "scatterpolargl"
           }
          ],
          "scatterternary": [
           {
            "marker": {
             "colorbar": {
              "outlinewidth": 0,
              "ticks": ""
             }
            },
            "type": "scatterternary"
           }
          ],
          "surface": [
           {
            "colorbar": {
             "outlinewidth": 0,
             "ticks": ""
            },
            "colorscale": [
             [
              0,
              "#0d0887"
             ],
             [
              0.1111111111111111,
              "#46039f"
             ],
             [
              0.2222222222222222,
              "#7201a8"
             ],
             [
              0.3333333333333333,
              "#9c179e"
             ],
             [
              0.4444444444444444,
              "#bd3786"
             ],
             [
              0.5555555555555556,
              "#d8576b"
             ],
             [
              0.6666666666666666,
              "#ed7953"
             ],
             [
              0.7777777777777778,
              "#fb9f3a"
             ],
             [
              0.8888888888888888,
              "#fdca26"
             ],
             [
              1,
              "#f0f921"
             ]
            ],
            "type": "surface"
           }
          ],
          "table": [
           {
            "cells": {
             "fill": {
              "color": "#EBF0F8"
             },
             "line": {
              "color": "white"
             }
            },
            "header": {
             "fill": {
              "color": "#C8D4E3"
             },
             "line": {
              "color": "white"
             }
            },
            "type": "table"
           }
          ]
         },
         "layout": {
          "annotationdefaults": {
           "arrowcolor": "#2a3f5f",
           "arrowhead": 0,
           "arrowwidth": 1
          },
          "coloraxis": {
           "colorbar": {
            "outlinewidth": 0,
            "ticks": ""
           }
          },
          "colorscale": {
           "diverging": [
            [
             0,
             "#8e0152"
            ],
            [
             0.1,
             "#c51b7d"
            ],
            [
             0.2,
             "#de77ae"
            ],
            [
             0.3,
             "#f1b6da"
            ],
            [
             0.4,
             "#fde0ef"
            ],
            [
             0.5,
             "#f7f7f7"
            ],
            [
             0.6,
             "#e6f5d0"
            ],
            [
             0.7,
             "#b8e186"
            ],
            [
             0.8,
             "#7fbc41"
            ],
            [
             0.9,
             "#4d9221"
            ],
            [
             1,
             "#276419"
            ]
           ],
           "sequential": [
            [
             0,
             "#0d0887"
            ],
            [
             0.1111111111111111,
             "#46039f"
            ],
            [
             0.2222222222222222,
             "#7201a8"
            ],
            [
             0.3333333333333333,
             "#9c179e"
            ],
            [
             0.4444444444444444,
             "#bd3786"
            ],
            [
             0.5555555555555556,
             "#d8576b"
            ],
            [
             0.6666666666666666,
             "#ed7953"
            ],
            [
             0.7777777777777778,
             "#fb9f3a"
            ],
            [
             0.8888888888888888,
             "#fdca26"
            ],
            [
             1,
             "#f0f921"
            ]
           ],
           "sequentialminus": [
            [
             0,
             "#0d0887"
            ],
            [
             0.1111111111111111,
             "#46039f"
            ],
            [
             0.2222222222222222,
             "#7201a8"
            ],
            [
             0.3333333333333333,
             "#9c179e"
            ],
            [
             0.4444444444444444,
             "#bd3786"
            ],
            [
             0.5555555555555556,
             "#d8576b"
            ],
            [
             0.6666666666666666,
             "#ed7953"
            ],
            [
             0.7777777777777778,
             "#fb9f3a"
            ],
            [
             0.8888888888888888,
             "#fdca26"
            ],
            [
             1,
             "#f0f921"
            ]
           ]
          },
          "colorway": [
           "#636efa",
           "#EF553B",
           "#00cc96",
           "#ab63fa",
           "#FFA15A",
           "#19d3f3",
           "#FF6692",
           "#B6E880",
           "#FF97FF",
           "#FECB52"
          ],
          "font": {
           "color": "#2a3f5f"
          },
          "geo": {
           "bgcolor": "white",
           "lakecolor": "white",
           "landcolor": "#E5ECF6",
           "showlakes": true,
           "showland": true,
           "subunitcolor": "white"
          },
          "hoverlabel": {
           "align": "left"
          },
          "hovermode": "closest",
          "mapbox": {
           "style": "light"
          },
          "paper_bgcolor": "white",
          "plot_bgcolor": "#E5ECF6",
          "polar": {
           "angularaxis": {
            "gridcolor": "white",
            "linecolor": "white",
            "ticks": ""
           },
           "bgcolor": "#E5ECF6",
           "radialaxis": {
            "gridcolor": "white",
            "linecolor": "white",
            "ticks": ""
           }
          },
          "scene": {
           "xaxis": {
            "backgroundcolor": "#E5ECF6",
            "gridcolor": "white",
            "gridwidth": 2,
            "linecolor": "white",
            "showbackground": true,
            "ticks": "",
            "zerolinecolor": "white"
           },
           "yaxis": {
            "backgroundcolor": "#E5ECF6",
            "gridcolor": "white",
            "gridwidth": 2,
            "linecolor": "white",
            "showbackground": true,
            "ticks": "",
            "zerolinecolor": "white"
           },
           "zaxis": {
            "backgroundcolor": "#E5ECF6",
            "gridcolor": "white",
            "gridwidth": 2,
            "linecolor": "white",
            "showbackground": true,
            "ticks": "",
            "zerolinecolor": "white"
           }
          },
          "shapedefaults": {
           "line": {
            "color": "#2a3f5f"
           }
          },
          "ternary": {
           "aaxis": {
            "gridcolor": "white",
            "linecolor": "white",
            "ticks": ""
           },
           "baxis": {
            "gridcolor": "white",
            "linecolor": "white",
            "ticks": ""
           },
           "bgcolor": "#E5ECF6",
           "caxis": {
            "gridcolor": "white",
            "linecolor": "white",
            "ticks": ""
           }
          },
          "title": {
           "x": 0.05
          },
          "xaxis": {
           "automargin": true,
           "gridcolor": "white",
           "linecolor": "white",
           "ticks": "",
           "title": {
            "standoff": 15
           },
           "zerolinecolor": "white",
           "zerolinewidth": 2
          },
          "yaxis": {
           "automargin": true,
           "gridcolor": "white",
           "linecolor": "white",
           "ticks": "",
           "title": {
            "standoff": 15
           },
           "zerolinecolor": "white",
           "zerolinewidth": 2
          }
         }
        },
        "title": {
         "text": "How often is the average shark dropping for each gender?"
        },
        "xaxis": {
         "anchor": "y",
         "domain": [
          0,
          1
         ],
         "title": {
          "text": "Gender"
         }
        },
        "yaxis": {
         "anchor": "x",
         "domain": [
          0,
          1
         ],
         "title": {
          "text": "Mean"
         }
        }
       }
      },
      "text/html": [
       "<div>                            <div id=\"9e04b2f8-c58b-4a9c-8aef-eec810bf773a\" class=\"plotly-graph-div\" style=\"height:525px; width:100%;\"></div>            <script type=\"text/javascript\">                require([\"plotly\"], function(Plotly) {                    window.PLOTLYENV=window.PLOTLYENV || {};                                    if (document.getElementById(\"9e04b2f8-c58b-4a9c-8aef-eec810bf773a\")) {                    Plotly.newPlot(                        \"9e04b2f8-c58b-4a9c-8aef-eec810bf773a\",                        [{\"alignmentgroup\": \"True\", \"hovertemplate\": \"Gender=%{x}<br>Mean=%{y}<extra></extra>\", \"legendgroup\": \"\", \"marker\": {\"color\": \"#636efa\"}, \"name\": \"\", \"offsetgroup\": \"\", \"orientation\": \"v\", \"showlegend\": false, \"textposition\": \"auto\", \"type\": \"bar\", \"x\": [\"female\", \"male\"], \"xaxis\": \"x\", \"y\": [0.297, 0.281], \"yaxis\": \"y\"}],                        {\"barmode\": \"relative\", \"legend\": {\"tracegroupgap\": 0}, \"template\": {\"data\": {\"bar\": [{\"error_x\": {\"color\": \"#2a3f5f\"}, \"error_y\": {\"color\": \"#2a3f5f\"}, \"marker\": {\"line\": {\"color\": \"#E5ECF6\", \"width\": 0.5}}, \"type\": \"bar\"}], \"barpolar\": [{\"marker\": {\"line\": {\"color\": \"#E5ECF6\", \"width\": 0.5}}, \"type\": \"barpolar\"}], \"carpet\": [{\"aaxis\": {\"endlinecolor\": \"#2a3f5f\", \"gridcolor\": \"white\", \"linecolor\": \"white\", \"minorgridcolor\": \"white\", \"startlinecolor\": \"#2a3f5f\"}, \"baxis\": {\"endlinecolor\": \"#2a3f5f\", \"gridcolor\": \"white\", \"linecolor\": \"white\", \"minorgridcolor\": \"white\", \"startlinecolor\": \"#2a3f5f\"}, \"type\": \"carpet\"}], \"choropleth\": [{\"colorbar\": {\"outlinewidth\": 0, \"ticks\": \"\"}, \"type\": \"choropleth\"}], \"contour\": [{\"colorbar\": {\"outlinewidth\": 0, \"ticks\": \"\"}, \"colorscale\": [[0.0, \"#0d0887\"], [0.1111111111111111, \"#46039f\"], [0.2222222222222222, \"#7201a8\"], [0.3333333333333333, \"#9c179e\"], [0.4444444444444444, \"#bd3786\"], [0.5555555555555556, \"#d8576b\"], [0.6666666666666666, \"#ed7953\"], [0.7777777777777778, \"#fb9f3a\"], [0.8888888888888888, \"#fdca26\"], [1.0, \"#f0f921\"]], \"type\": \"contour\"}], \"contourcarpet\": [{\"colorbar\": {\"outlinewidth\": 0, \"ticks\": \"\"}, \"type\": \"contourcarpet\"}], \"heatmap\": [{\"colorbar\": {\"outlinewidth\": 0, \"ticks\": \"\"}, \"colorscale\": [[0.0, \"#0d0887\"], [0.1111111111111111, \"#46039f\"], [0.2222222222222222, \"#7201a8\"], [0.3333333333333333, \"#9c179e\"], [0.4444444444444444, \"#bd3786\"], [0.5555555555555556, \"#d8576b\"], [0.6666666666666666, \"#ed7953\"], [0.7777777777777778, \"#fb9f3a\"], [0.8888888888888888, \"#fdca26\"], [1.0, \"#f0f921\"]], \"type\": \"heatmap\"}], \"heatmapgl\": [{\"colorbar\": {\"outlinewidth\": 0, \"ticks\": \"\"}, \"colorscale\": [[0.0, \"#0d0887\"], [0.1111111111111111, \"#46039f\"], [0.2222222222222222, \"#7201a8\"], [0.3333333333333333, \"#9c179e\"], [0.4444444444444444, \"#bd3786\"], [0.5555555555555556, \"#d8576b\"], [0.6666666666666666, \"#ed7953\"], [0.7777777777777778, \"#fb9f3a\"], [0.8888888888888888, \"#fdca26\"], [1.0, \"#f0f921\"]], \"type\": \"heatmapgl\"}], \"histogram\": [{\"marker\": {\"colorbar\": {\"outlinewidth\": 0, \"ticks\": \"\"}}, \"type\": \"histogram\"}], \"histogram2d\": [{\"colorbar\": {\"outlinewidth\": 0, \"ticks\": \"\"}, \"colorscale\": [[0.0, \"#0d0887\"], [0.1111111111111111, \"#46039f\"], [0.2222222222222222, \"#7201a8\"], [0.3333333333333333, \"#9c179e\"], [0.4444444444444444, \"#bd3786\"], [0.5555555555555556, \"#d8576b\"], [0.6666666666666666, \"#ed7953\"], [0.7777777777777778, \"#fb9f3a\"], [0.8888888888888888, \"#fdca26\"], [1.0, \"#f0f921\"]], \"type\": \"histogram2d\"}], \"histogram2dcontour\": [{\"colorbar\": {\"outlinewidth\": 0, \"ticks\": \"\"}, \"colorscale\": [[0.0, \"#0d0887\"], [0.1111111111111111, \"#46039f\"], [0.2222222222222222, \"#7201a8\"], [0.3333333333333333, \"#9c179e\"], [0.4444444444444444, \"#bd3786\"], [0.5555555555555556, \"#d8576b\"], [0.6666666666666666, \"#ed7953\"], [0.7777777777777778, \"#fb9f3a\"], [0.8888888888888888, \"#fdca26\"], [1.0, \"#f0f921\"]], \"type\": \"histogram2dcontour\"}], \"mesh3d\": [{\"colorbar\": {\"outlinewidth\": 0, \"ticks\": \"\"}, \"type\": \"mesh3d\"}], \"parcoords\": [{\"line\": {\"colorbar\": {\"outlinewidth\": 0, \"ticks\": \"\"}}, \"type\": \"parcoords\"}], \"pie\": [{\"automargin\": true, \"type\": \"pie\"}], \"scatter\": [{\"marker\": {\"colorbar\": {\"outlinewidth\": 0, \"ticks\": \"\"}}, \"type\": \"scatter\"}], \"scatter3d\": [{\"line\": {\"colorbar\": {\"outlinewidth\": 0, \"ticks\": \"\"}}, \"marker\": {\"colorbar\": {\"outlinewidth\": 0, \"ticks\": \"\"}}, \"type\": \"scatter3d\"}], \"scattercarpet\": [{\"marker\": {\"colorbar\": {\"outlinewidth\": 0, \"ticks\": \"\"}}, \"type\": \"scattercarpet\"}], \"scattergeo\": [{\"marker\": {\"colorbar\": {\"outlinewidth\": 0, \"ticks\": \"\"}}, \"type\": \"scattergeo\"}], \"scattergl\": [{\"marker\": {\"colorbar\": {\"outlinewidth\": 0, \"ticks\": \"\"}}, \"type\": \"scattergl\"}], \"scattermapbox\": [{\"marker\": {\"colorbar\": {\"outlinewidth\": 0, \"ticks\": \"\"}}, \"type\": \"scattermapbox\"}], \"scatterpolar\": [{\"marker\": {\"colorbar\": {\"outlinewidth\": 0, \"ticks\": \"\"}}, \"type\": \"scatterpolar\"}], \"scatterpolargl\": [{\"marker\": {\"colorbar\": {\"outlinewidth\": 0, \"ticks\": \"\"}}, \"type\": \"scatterpolargl\"}], \"scatterternary\": [{\"marker\": {\"colorbar\": {\"outlinewidth\": 0, \"ticks\": \"\"}}, \"type\": \"scatterternary\"}], \"surface\": [{\"colorbar\": {\"outlinewidth\": 0, \"ticks\": \"\"}, \"colorscale\": [[0.0, \"#0d0887\"], [0.1111111111111111, \"#46039f\"], [0.2222222222222222, \"#7201a8\"], [0.3333333333333333, \"#9c179e\"], [0.4444444444444444, \"#bd3786\"], [0.5555555555555556, \"#d8576b\"], [0.6666666666666666, \"#ed7953\"], [0.7777777777777778, \"#fb9f3a\"], [0.8888888888888888, \"#fdca26\"], [1.0, \"#f0f921\"]], \"type\": \"surface\"}], \"table\": [{\"cells\": {\"fill\": {\"color\": \"#EBF0F8\"}, \"line\": {\"color\": \"white\"}}, \"header\": {\"fill\": {\"color\": \"#C8D4E3\"}, \"line\": {\"color\": \"white\"}}, \"type\": \"table\"}]}, \"layout\": {\"annotationdefaults\": {\"arrowcolor\": \"#2a3f5f\", \"arrowhead\": 0, \"arrowwidth\": 1}, \"coloraxis\": {\"colorbar\": {\"outlinewidth\": 0, \"ticks\": \"\"}}, \"colorscale\": {\"diverging\": [[0, \"#8e0152\"], [0.1, \"#c51b7d\"], [0.2, \"#de77ae\"], [0.3, \"#f1b6da\"], [0.4, \"#fde0ef\"], [0.5, \"#f7f7f7\"], [0.6, \"#e6f5d0\"], [0.7, \"#b8e186\"], [0.8, \"#7fbc41\"], [0.9, \"#4d9221\"], [1, \"#276419\"]], \"sequential\": [[0.0, \"#0d0887\"], [0.1111111111111111, \"#46039f\"], [0.2222222222222222, \"#7201a8\"], [0.3333333333333333, \"#9c179e\"], [0.4444444444444444, \"#bd3786\"], [0.5555555555555556, \"#d8576b\"], [0.6666666666666666, \"#ed7953\"], [0.7777777777777778, \"#fb9f3a\"], [0.8888888888888888, \"#fdca26\"], [1.0, \"#f0f921\"]], \"sequentialminus\": [[0.0, \"#0d0887\"], [0.1111111111111111, \"#46039f\"], [0.2222222222222222, \"#7201a8\"], [0.3333333333333333, \"#9c179e\"], [0.4444444444444444, \"#bd3786\"], [0.5555555555555556, \"#d8576b\"], [0.6666666666666666, \"#ed7953\"], [0.7777777777777778, \"#fb9f3a\"], [0.8888888888888888, \"#fdca26\"], [1.0, \"#f0f921\"]]}, \"colorway\": [\"#636efa\", \"#EF553B\", \"#00cc96\", \"#ab63fa\", \"#FFA15A\", \"#19d3f3\", \"#FF6692\", \"#B6E880\", \"#FF97FF\", \"#FECB52\"], \"font\": {\"color\": \"#2a3f5f\"}, \"geo\": {\"bgcolor\": \"white\", \"lakecolor\": \"white\", \"landcolor\": \"#E5ECF6\", \"showlakes\": true, \"showland\": true, \"subunitcolor\": \"white\"}, \"hoverlabel\": {\"align\": \"left\"}, \"hovermode\": \"closest\", \"mapbox\": {\"style\": \"light\"}, \"paper_bgcolor\": \"white\", \"plot_bgcolor\": \"#E5ECF6\", \"polar\": {\"angularaxis\": {\"gridcolor\": \"white\", \"linecolor\": \"white\", \"ticks\": \"\"}, \"bgcolor\": \"#E5ECF6\", \"radialaxis\": {\"gridcolor\": \"white\", \"linecolor\": \"white\", \"ticks\": \"\"}}, \"scene\": {\"xaxis\": {\"backgroundcolor\": \"#E5ECF6\", \"gridcolor\": \"white\", \"gridwidth\": 2, \"linecolor\": \"white\", \"showbackground\": true, \"ticks\": \"\", \"zerolinecolor\": \"white\"}, \"yaxis\": {\"backgroundcolor\": \"#E5ECF6\", \"gridcolor\": \"white\", \"gridwidth\": 2, \"linecolor\": \"white\", \"showbackground\": true, \"ticks\": \"\", \"zerolinecolor\": \"white\"}, \"zaxis\": {\"backgroundcolor\": \"#E5ECF6\", \"gridcolor\": \"white\", \"gridwidth\": 2, \"linecolor\": \"white\", \"showbackground\": true, \"ticks\": \"\", \"zerolinecolor\": \"white\"}}, \"shapedefaults\": {\"line\": {\"color\": \"#2a3f5f\"}}, \"ternary\": {\"aaxis\": {\"gridcolor\": \"white\", \"linecolor\": \"white\", \"ticks\": \"\"}, \"baxis\": {\"gridcolor\": \"white\", \"linecolor\": \"white\", \"ticks\": \"\"}, \"bgcolor\": \"#E5ECF6\", \"caxis\": {\"gridcolor\": \"white\", \"linecolor\": \"white\", \"ticks\": \"\"}}, \"title\": {\"x\": 0.05}, \"xaxis\": {\"automargin\": true, \"gridcolor\": \"white\", \"linecolor\": \"white\", \"ticks\": \"\", \"title\": {\"standoff\": 15}, \"zerolinecolor\": \"white\", \"zerolinewidth\": 2}, \"yaxis\": {\"automargin\": true, \"gridcolor\": \"white\", \"linecolor\": \"white\", \"ticks\": \"\", \"title\": {\"standoff\": 15}, \"zerolinecolor\": \"white\", \"zerolinewidth\": 2}}}, \"title\": {\"text\": \"How often is the average shark dropping for each gender?\"}, \"xaxis\": {\"anchor\": \"y\", \"domain\": [0.0, 1.0], \"title\": {\"text\": \"Gender\"}}, \"yaxis\": {\"anchor\": \"x\", \"domain\": [0.0, 1.0], \"title\": {\"text\": \"Mean\"}}},                        {\"responsive\": true}                    ).then(function(){\n",
       "                            \n",
       "var gd = document.getElementById('9e04b2f8-c58b-4a9c-8aef-eec810bf773a');\n",
       "var x = new MutationObserver(function (mutations, observer) {{\n",
       "        var display = window.getComputedStyle(gd).display;\n",
       "        if (!display || display === 'none') {{\n",
       "            console.log([gd, 'removed!']);\n",
       "            Plotly.purge(gd);\n",
       "            observer.disconnect();\n",
       "        }}\n",
       "}});\n",
       "\n",
       "// Listen for the removal of the full notebook cells\n",
       "var notebookContainer = gd.closest('#notebook-container');\n",
       "if (notebookContainer) {{\n",
       "    x.observe(notebookContainer, {childList: true});\n",
       "}}\n",
       "\n",
       "// Listen for the clearing of the current output cell\n",
       "var outputEl = gd.closest('.output');\n",
       "if (outputEl) {{\n",
       "    x.observe(outputEl, {childList: true});\n",
       "}}\n",
       "\n",
       "                        })                };                });            </script>        </div>"
      ]
     },
     "metadata": {},
     "output_type": "display_data"
    }
   ],
   "source": [
    "All_Sharks_drops = drops[[\"female\",\"male\"]]\n",
    "All_Sharks_drops[\"female\"] = All_Sharks_drops[\"female\"] / 7\n",
    "All_Sharks_drops[\"male\"] = All_Sharks_drops[\"male\"] / 5\n",
    "drop_means = pd.DataFrame(round(All_Sharks_drops.mean(), 3)).reset_index()\n",
    "drop_means.columns = [\"Gender\",\"Mean\"]\n",
    "drop_means = drop_means.sort_values(by = \"Mean\", ascending = False)\n",
    "print(drop_means) \n",
    "px.bar(drop_means, x = \"Gender\", y = \"Mean\", title = \"How often is the average shark dropping for each gender?\")"
   ]
  },
  {
   "cell_type": "code",
   "execution_count": 241,
   "metadata": {},
   "outputs": [
    {
     "name": "stdout",
     "output_type": "stream",
     "text": [
      "      Species   Mean\n",
      "1   Black Tip  0.498\n",
      "2  Sand Shark  0.146\n",
      "0   Grey Reef  0.141\n"
     ]
    },
    {
     "name": "stderr",
     "output_type": "stream",
     "text": [
      "<ipython-input-241-e7e62d58ed02>:2: SettingWithCopyWarning:\n",
      "\n",
      "\n",
      "A value is trying to be set on a copy of a slice from a DataFrame.\n",
      "Try using .loc[row_indexer,col_indexer] = value instead\n",
      "\n",
      "See the caveats in the documentation: https://pandas.pydata.org/pandas-docs/stable/user_guide/indexing.html#returning-a-view-versus-a-copy\n",
      "\n",
      "<ipython-input-241-e7e62d58ed02>:3: SettingWithCopyWarning:\n",
      "\n",
      "\n",
      "A value is trying to be set on a copy of a slice from a DataFrame.\n",
      "Try using .loc[row_indexer,col_indexer] = value instead\n",
      "\n",
      "See the caveats in the documentation: https://pandas.pydata.org/pandas-docs/stable/user_guide/indexing.html#returning-a-view-versus-a-copy\n",
      "\n",
      "<ipython-input-241-e7e62d58ed02>:4: SettingWithCopyWarning:\n",
      "\n",
      "\n",
      "A value is trying to be set on a copy of a slice from a DataFrame.\n",
      "Try using .loc[row_indexer,col_indexer] = value instead\n",
      "\n",
      "See the caveats in the documentation: https://pandas.pydata.org/pandas-docs/stable/user_guide/indexing.html#returning-a-view-versus-a-copy\n",
      "\n"
     ]
    },
    {
     "data": {
      "application/vnd.plotly.v1+json": {
       "config": {
        "plotlyServerURL": "https://plot.ly"
       },
       "data": [
        {
         "alignmentgroup": "True",
         "hovertemplate": "Species=%{x}<br>Mean=%{y}<extra></extra>",
         "legendgroup": "",
         "marker": {
          "color": "#636efa"
         },
         "name": "",
         "offsetgroup": "",
         "orientation": "v",
         "showlegend": false,
         "textposition": "auto",
         "type": "bar",
         "x": [
          "Black Tip",
          "Sand Shark",
          "Grey Reef"
         ],
         "xaxis": "x",
         "y": [
          0.498,
          0.146,
          0.141
         ],
         "yaxis": "y"
        }
       ],
       "layout": {
        "barmode": "relative",
        "legend": {
         "tracegroupgap": 0
        },
        "template": {
         "data": {
          "bar": [
           {
            "error_x": {
             "color": "#2a3f5f"
            },
            "error_y": {
             "color": "#2a3f5f"
            },
            "marker": {
             "line": {
              "color": "#E5ECF6",
              "width": 0.5
             }
            },
            "type": "bar"
           }
          ],
          "barpolar": [
           {
            "marker": {
             "line": {
              "color": "#E5ECF6",
              "width": 0.5
             }
            },
            "type": "barpolar"
           }
          ],
          "carpet": [
           {
            "aaxis": {
             "endlinecolor": "#2a3f5f",
             "gridcolor": "white",
             "linecolor": "white",
             "minorgridcolor": "white",
             "startlinecolor": "#2a3f5f"
            },
            "baxis": {
             "endlinecolor": "#2a3f5f",
             "gridcolor": "white",
             "linecolor": "white",
             "minorgridcolor": "white",
             "startlinecolor": "#2a3f5f"
            },
            "type": "carpet"
           }
          ],
          "choropleth": [
           {
            "colorbar": {
             "outlinewidth": 0,
             "ticks": ""
            },
            "type": "choropleth"
           }
          ],
          "contour": [
           {
            "colorbar": {
             "outlinewidth": 0,
             "ticks": ""
            },
            "colorscale": [
             [
              0,
              "#0d0887"
             ],
             [
              0.1111111111111111,
              "#46039f"
             ],
             [
              0.2222222222222222,
              "#7201a8"
             ],
             [
              0.3333333333333333,
              "#9c179e"
             ],
             [
              0.4444444444444444,
              "#bd3786"
             ],
             [
              0.5555555555555556,
              "#d8576b"
             ],
             [
              0.6666666666666666,
              "#ed7953"
             ],
             [
              0.7777777777777778,
              "#fb9f3a"
             ],
             [
              0.8888888888888888,
              "#fdca26"
             ],
             [
              1,
              "#f0f921"
             ]
            ],
            "type": "contour"
           }
          ],
          "contourcarpet": [
           {
            "colorbar": {
             "outlinewidth": 0,
             "ticks": ""
            },
            "type": "contourcarpet"
           }
          ],
          "heatmap": [
           {
            "colorbar": {
             "outlinewidth": 0,
             "ticks": ""
            },
            "colorscale": [
             [
              0,
              "#0d0887"
             ],
             [
              0.1111111111111111,
              "#46039f"
             ],
             [
              0.2222222222222222,
              "#7201a8"
             ],
             [
              0.3333333333333333,
              "#9c179e"
             ],
             [
              0.4444444444444444,
              "#bd3786"
             ],
             [
              0.5555555555555556,
              "#d8576b"
             ],
             [
              0.6666666666666666,
              "#ed7953"
             ],
             [
              0.7777777777777778,
              "#fb9f3a"
             ],
             [
              0.8888888888888888,
              "#fdca26"
             ],
             [
              1,
              "#f0f921"
             ]
            ],
            "type": "heatmap"
           }
          ],
          "heatmapgl": [
           {
            "colorbar": {
             "outlinewidth": 0,
             "ticks": ""
            },
            "colorscale": [
             [
              0,
              "#0d0887"
             ],
             [
              0.1111111111111111,
              "#46039f"
             ],
             [
              0.2222222222222222,
              "#7201a8"
             ],
             [
              0.3333333333333333,
              "#9c179e"
             ],
             [
              0.4444444444444444,
              "#bd3786"
             ],
             [
              0.5555555555555556,
              "#d8576b"
             ],
             [
              0.6666666666666666,
              "#ed7953"
             ],
             [
              0.7777777777777778,
              "#fb9f3a"
             ],
             [
              0.8888888888888888,
              "#fdca26"
             ],
             [
              1,
              "#f0f921"
             ]
            ],
            "type": "heatmapgl"
           }
          ],
          "histogram": [
           {
            "marker": {
             "colorbar": {
              "outlinewidth": 0,
              "ticks": ""
             }
            },
            "type": "histogram"
           }
          ],
          "histogram2d": [
           {
            "colorbar": {
             "outlinewidth": 0,
             "ticks": ""
            },
            "colorscale": [
             [
              0,
              "#0d0887"
             ],
             [
              0.1111111111111111,
              "#46039f"
             ],
             [
              0.2222222222222222,
              "#7201a8"
             ],
             [
              0.3333333333333333,
              "#9c179e"
             ],
             [
              0.4444444444444444,
              "#bd3786"
             ],
             [
              0.5555555555555556,
              "#d8576b"
             ],
             [
              0.6666666666666666,
              "#ed7953"
             ],
             [
              0.7777777777777778,
              "#fb9f3a"
             ],
             [
              0.8888888888888888,
              "#fdca26"
             ],
             [
              1,
              "#f0f921"
             ]
            ],
            "type": "histogram2d"
           }
          ],
          "histogram2dcontour": [
           {
            "colorbar": {
             "outlinewidth": 0,
             "ticks": ""
            },
            "colorscale": [
             [
              0,
              "#0d0887"
             ],
             [
              0.1111111111111111,
              "#46039f"
             ],
             [
              0.2222222222222222,
              "#7201a8"
             ],
             [
              0.3333333333333333,
              "#9c179e"
             ],
             [
              0.4444444444444444,
              "#bd3786"
             ],
             [
              0.5555555555555556,
              "#d8576b"
             ],
             [
              0.6666666666666666,
              "#ed7953"
             ],
             [
              0.7777777777777778,
              "#fb9f3a"
             ],
             [
              0.8888888888888888,
              "#fdca26"
             ],
             [
              1,
              "#f0f921"
             ]
            ],
            "type": "histogram2dcontour"
           }
          ],
          "mesh3d": [
           {
            "colorbar": {
             "outlinewidth": 0,
             "ticks": ""
            },
            "type": "mesh3d"
           }
          ],
          "parcoords": [
           {
            "line": {
             "colorbar": {
              "outlinewidth": 0,
              "ticks": ""
             }
            },
            "type": "parcoords"
           }
          ],
          "pie": [
           {
            "automargin": true,
            "type": "pie"
           }
          ],
          "scatter": [
           {
            "marker": {
             "colorbar": {
              "outlinewidth": 0,
              "ticks": ""
             }
            },
            "type": "scatter"
           }
          ],
          "scatter3d": [
           {
            "line": {
             "colorbar": {
              "outlinewidth": 0,
              "ticks": ""
             }
            },
            "marker": {
             "colorbar": {
              "outlinewidth": 0,
              "ticks": ""
             }
            },
            "type": "scatter3d"
           }
          ],
          "scattercarpet": [
           {
            "marker": {
             "colorbar": {
              "outlinewidth": 0,
              "ticks": ""
             }
            },
            "type": "scattercarpet"
           }
          ],
          "scattergeo": [
           {
            "marker": {
             "colorbar": {
              "outlinewidth": 0,
              "ticks": ""
             }
            },
            "type": "scattergeo"
           }
          ],
          "scattergl": [
           {
            "marker": {
             "colorbar": {
              "outlinewidth": 0,
              "ticks": ""
             }
            },
            "type": "scattergl"
           }
          ],
          "scattermapbox": [
           {
            "marker": {
             "colorbar": {
              "outlinewidth": 0,
              "ticks": ""
             }
            },
            "type": "scattermapbox"
           }
          ],
          "scatterpolar": [
           {
            "marker": {
             "colorbar": {
              "outlinewidth": 0,
              "ticks": ""
             }
            },
            "type": "scatterpolar"
           }
          ],
          "scatterpolargl": [
           {
            "marker": {
             "colorbar": {
              "outlinewidth": 0,
              "ticks": ""
             }
            },
            "type": "scatterpolargl"
           }
          ],
          "scatterternary": [
           {
            "marker": {
             "colorbar": {
              "outlinewidth": 0,
              "ticks": ""
             }
            },
            "type": "scatterternary"
           }
          ],
          "surface": [
           {
            "colorbar": {
             "outlinewidth": 0,
             "ticks": ""
            },
            "colorscale": [
             [
              0,
              "#0d0887"
             ],
             [
              0.1111111111111111,
              "#46039f"
             ],
             [
              0.2222222222222222,
              "#7201a8"
             ],
             [
              0.3333333333333333,
              "#9c179e"
             ],
             [
              0.4444444444444444,
              "#bd3786"
             ],
             [
              0.5555555555555556,
              "#d8576b"
             ],
             [
              0.6666666666666666,
              "#ed7953"
             ],
             [
              0.7777777777777778,
              "#fb9f3a"
             ],
             [
              0.8888888888888888,
              "#fdca26"
             ],
             [
              1,
              "#f0f921"
             ]
            ],
            "type": "surface"
           }
          ],
          "table": [
           {
            "cells": {
             "fill": {
              "color": "#EBF0F8"
             },
             "line": {
              "color": "white"
             }
            },
            "header": {
             "fill": {
              "color": "#C8D4E3"
             },
             "line": {
              "color": "white"
             }
            },
            "type": "table"
           }
          ]
         },
         "layout": {
          "annotationdefaults": {
           "arrowcolor": "#2a3f5f",
           "arrowhead": 0,
           "arrowwidth": 1
          },
          "coloraxis": {
           "colorbar": {
            "outlinewidth": 0,
            "ticks": ""
           }
          },
          "colorscale": {
           "diverging": [
            [
             0,
             "#8e0152"
            ],
            [
             0.1,
             "#c51b7d"
            ],
            [
             0.2,
             "#de77ae"
            ],
            [
             0.3,
             "#f1b6da"
            ],
            [
             0.4,
             "#fde0ef"
            ],
            [
             0.5,
             "#f7f7f7"
            ],
            [
             0.6,
             "#e6f5d0"
            ],
            [
             0.7,
             "#b8e186"
            ],
            [
             0.8,
             "#7fbc41"
            ],
            [
             0.9,
             "#4d9221"
            ],
            [
             1,
             "#276419"
            ]
           ],
           "sequential": [
            [
             0,
             "#0d0887"
            ],
            [
             0.1111111111111111,
             "#46039f"
            ],
            [
             0.2222222222222222,
             "#7201a8"
            ],
            [
             0.3333333333333333,
             "#9c179e"
            ],
            [
             0.4444444444444444,
             "#bd3786"
            ],
            [
             0.5555555555555556,
             "#d8576b"
            ],
            [
             0.6666666666666666,
             "#ed7953"
            ],
            [
             0.7777777777777778,
             "#fb9f3a"
            ],
            [
             0.8888888888888888,
             "#fdca26"
            ],
            [
             1,
             "#f0f921"
            ]
           ],
           "sequentialminus": [
            [
             0,
             "#0d0887"
            ],
            [
             0.1111111111111111,
             "#46039f"
            ],
            [
             0.2222222222222222,
             "#7201a8"
            ],
            [
             0.3333333333333333,
             "#9c179e"
            ],
            [
             0.4444444444444444,
             "#bd3786"
            ],
            [
             0.5555555555555556,
             "#d8576b"
            ],
            [
             0.6666666666666666,
             "#ed7953"
            ],
            [
             0.7777777777777778,
             "#fb9f3a"
            ],
            [
             0.8888888888888888,
             "#fdca26"
            ],
            [
             1,
             "#f0f921"
            ]
           ]
          },
          "colorway": [
           "#636efa",
           "#EF553B",
           "#00cc96",
           "#ab63fa",
           "#FFA15A",
           "#19d3f3",
           "#FF6692",
           "#B6E880",
           "#FF97FF",
           "#FECB52"
          ],
          "font": {
           "color": "#2a3f5f"
          },
          "geo": {
           "bgcolor": "white",
           "lakecolor": "white",
           "landcolor": "#E5ECF6",
           "showlakes": true,
           "showland": true,
           "subunitcolor": "white"
          },
          "hoverlabel": {
           "align": "left"
          },
          "hovermode": "closest",
          "mapbox": {
           "style": "light"
          },
          "paper_bgcolor": "white",
          "plot_bgcolor": "#E5ECF6",
          "polar": {
           "angularaxis": {
            "gridcolor": "white",
            "linecolor": "white",
            "ticks": ""
           },
           "bgcolor": "#E5ECF6",
           "radialaxis": {
            "gridcolor": "white",
            "linecolor": "white",
            "ticks": ""
           }
          },
          "scene": {
           "xaxis": {
            "backgroundcolor": "#E5ECF6",
            "gridcolor": "white",
            "gridwidth": 2,
            "linecolor": "white",
            "showbackground": true,
            "ticks": "",
            "zerolinecolor": "white"
           },
           "yaxis": {
            "backgroundcolor": "#E5ECF6",
            "gridcolor": "white",
            "gridwidth": 2,
            "linecolor": "white",
            "showbackground": true,
            "ticks": "",
            "zerolinecolor": "white"
           },
           "zaxis": {
            "backgroundcolor": "#E5ECF6",
            "gridcolor": "white",
            "gridwidth": 2,
            "linecolor": "white",
            "showbackground": true,
            "ticks": "",
            "zerolinecolor": "white"
           }
          },
          "shapedefaults": {
           "line": {
            "color": "#2a3f5f"
           }
          },
          "ternary": {
           "aaxis": {
            "gridcolor": "white",
            "linecolor": "white",
            "ticks": ""
           },
           "baxis": {
            "gridcolor": "white",
            "linecolor": "white",
            "ticks": ""
           },
           "bgcolor": "#E5ECF6",
           "caxis": {
            "gridcolor": "white",
            "linecolor": "white",
            "ticks": ""
           }
          },
          "title": {
           "x": 0.05
          },
          "xaxis": {
           "automargin": true,
           "gridcolor": "white",
           "linecolor": "white",
           "ticks": "",
           "title": {
            "standoff": 15
           },
           "zerolinecolor": "white",
           "zerolinewidth": 2
          },
          "yaxis": {
           "automargin": true,
           "gridcolor": "white",
           "linecolor": "white",
           "ticks": "",
           "title": {
            "standoff": 15
           },
           "zerolinecolor": "white",
           "zerolinewidth": 2
          }
         }
        },
        "title": {
         "text": "Drop Means for Each species on average"
        },
        "xaxis": {
         "anchor": "y",
         "domain": [
          0,
          1
         ],
         "title": {
          "text": "Species"
         }
        },
        "yaxis": {
         "anchor": "x",
         "domain": [
          0,
          1
         ],
         "title": {
          "text": "Mean"
         }
        }
       }
      },
      "text/html": [
       "<div>                            <div id=\"a64ed260-9504-44a3-af0e-fe150270b55f\" class=\"plotly-graph-div\" style=\"height:525px; width:100%;\"></div>            <script type=\"text/javascript\">                require([\"plotly\"], function(Plotly) {                    window.PLOTLYENV=window.PLOTLYENV || {};                                    if (document.getElementById(\"a64ed260-9504-44a3-af0e-fe150270b55f\")) {                    Plotly.newPlot(                        \"a64ed260-9504-44a3-af0e-fe150270b55f\",                        [{\"alignmentgroup\": \"True\", \"hovertemplate\": \"Species=%{x}<br>Mean=%{y}<extra></extra>\", \"legendgroup\": \"\", \"marker\": {\"color\": \"#636efa\"}, \"name\": \"\", \"offsetgroup\": \"\", \"orientation\": \"v\", \"showlegend\": false, \"textposition\": \"auto\", \"type\": \"bar\", \"x\": [\"Black Tip\", \"Sand Shark\", \"Grey Reef\"], \"xaxis\": \"x\", \"y\": [0.498, 0.146, 0.141], \"yaxis\": \"y\"}],                        {\"barmode\": \"relative\", \"legend\": {\"tracegroupgap\": 0}, \"template\": {\"data\": {\"bar\": [{\"error_x\": {\"color\": \"#2a3f5f\"}, \"error_y\": {\"color\": \"#2a3f5f\"}, \"marker\": {\"line\": {\"color\": \"#E5ECF6\", \"width\": 0.5}}, \"type\": \"bar\"}], \"barpolar\": [{\"marker\": {\"line\": {\"color\": \"#E5ECF6\", \"width\": 0.5}}, \"type\": \"barpolar\"}], \"carpet\": [{\"aaxis\": {\"endlinecolor\": \"#2a3f5f\", \"gridcolor\": \"white\", \"linecolor\": \"white\", \"minorgridcolor\": \"white\", \"startlinecolor\": \"#2a3f5f\"}, \"baxis\": {\"endlinecolor\": \"#2a3f5f\", \"gridcolor\": \"white\", \"linecolor\": \"white\", \"minorgridcolor\": \"white\", \"startlinecolor\": \"#2a3f5f\"}, \"type\": \"carpet\"}], \"choropleth\": [{\"colorbar\": {\"outlinewidth\": 0, \"ticks\": \"\"}, \"type\": \"choropleth\"}], \"contour\": [{\"colorbar\": {\"outlinewidth\": 0, \"ticks\": \"\"}, \"colorscale\": [[0.0, \"#0d0887\"], [0.1111111111111111, \"#46039f\"], [0.2222222222222222, \"#7201a8\"], [0.3333333333333333, \"#9c179e\"], [0.4444444444444444, \"#bd3786\"], [0.5555555555555556, \"#d8576b\"], [0.6666666666666666, \"#ed7953\"], [0.7777777777777778, \"#fb9f3a\"], [0.8888888888888888, \"#fdca26\"], [1.0, \"#f0f921\"]], \"type\": \"contour\"}], \"contourcarpet\": [{\"colorbar\": {\"outlinewidth\": 0, \"ticks\": \"\"}, \"type\": \"contourcarpet\"}], \"heatmap\": [{\"colorbar\": {\"outlinewidth\": 0, \"ticks\": \"\"}, \"colorscale\": [[0.0, \"#0d0887\"], [0.1111111111111111, \"#46039f\"], [0.2222222222222222, \"#7201a8\"], [0.3333333333333333, \"#9c179e\"], [0.4444444444444444, \"#bd3786\"], [0.5555555555555556, \"#d8576b\"], [0.6666666666666666, \"#ed7953\"], [0.7777777777777778, \"#fb9f3a\"], [0.8888888888888888, \"#fdca26\"], [1.0, \"#f0f921\"]], \"type\": \"heatmap\"}], \"heatmapgl\": [{\"colorbar\": {\"outlinewidth\": 0, \"ticks\": \"\"}, \"colorscale\": [[0.0, \"#0d0887\"], [0.1111111111111111, \"#46039f\"], [0.2222222222222222, \"#7201a8\"], [0.3333333333333333, \"#9c179e\"], [0.4444444444444444, \"#bd3786\"], [0.5555555555555556, \"#d8576b\"], [0.6666666666666666, \"#ed7953\"], [0.7777777777777778, \"#fb9f3a\"], [0.8888888888888888, \"#fdca26\"], [1.0, \"#f0f921\"]], \"type\": \"heatmapgl\"}], \"histogram\": [{\"marker\": {\"colorbar\": {\"outlinewidth\": 0, \"ticks\": \"\"}}, \"type\": \"histogram\"}], \"histogram2d\": [{\"colorbar\": {\"outlinewidth\": 0, \"ticks\": \"\"}, \"colorscale\": [[0.0, \"#0d0887\"], [0.1111111111111111, \"#46039f\"], [0.2222222222222222, \"#7201a8\"], [0.3333333333333333, \"#9c179e\"], [0.4444444444444444, \"#bd3786\"], [0.5555555555555556, \"#d8576b\"], [0.6666666666666666, \"#ed7953\"], [0.7777777777777778, \"#fb9f3a\"], [0.8888888888888888, \"#fdca26\"], [1.0, \"#f0f921\"]], \"type\": \"histogram2d\"}], \"histogram2dcontour\": [{\"colorbar\": {\"outlinewidth\": 0, \"ticks\": \"\"}, \"colorscale\": [[0.0, \"#0d0887\"], [0.1111111111111111, \"#46039f\"], [0.2222222222222222, \"#7201a8\"], [0.3333333333333333, \"#9c179e\"], [0.4444444444444444, \"#bd3786\"], [0.5555555555555556, \"#d8576b\"], [0.6666666666666666, \"#ed7953\"], [0.7777777777777778, \"#fb9f3a\"], [0.8888888888888888, \"#fdca26\"], [1.0, \"#f0f921\"]], \"type\": \"histogram2dcontour\"}], \"mesh3d\": [{\"colorbar\": {\"outlinewidth\": 0, \"ticks\": \"\"}, \"type\": \"mesh3d\"}], \"parcoords\": [{\"line\": {\"colorbar\": {\"outlinewidth\": 0, \"ticks\": \"\"}}, \"type\": \"parcoords\"}], \"pie\": [{\"automargin\": true, \"type\": \"pie\"}], \"scatter\": [{\"marker\": {\"colorbar\": {\"outlinewidth\": 0, \"ticks\": \"\"}}, \"type\": \"scatter\"}], \"scatter3d\": [{\"line\": {\"colorbar\": {\"outlinewidth\": 0, \"ticks\": \"\"}}, \"marker\": {\"colorbar\": {\"outlinewidth\": 0, \"ticks\": \"\"}}, \"type\": \"scatter3d\"}], \"scattercarpet\": [{\"marker\": {\"colorbar\": {\"outlinewidth\": 0, \"ticks\": \"\"}}, \"type\": \"scattercarpet\"}], \"scattergeo\": [{\"marker\": {\"colorbar\": {\"outlinewidth\": 0, \"ticks\": \"\"}}, \"type\": \"scattergeo\"}], \"scattergl\": [{\"marker\": {\"colorbar\": {\"outlinewidth\": 0, \"ticks\": \"\"}}, \"type\": \"scattergl\"}], \"scattermapbox\": [{\"marker\": {\"colorbar\": {\"outlinewidth\": 0, \"ticks\": \"\"}}, \"type\": \"scattermapbox\"}], \"scatterpolar\": [{\"marker\": {\"colorbar\": {\"outlinewidth\": 0, \"ticks\": \"\"}}, \"type\": \"scatterpolar\"}], \"scatterpolargl\": [{\"marker\": {\"colorbar\": {\"outlinewidth\": 0, \"ticks\": \"\"}}, \"type\": \"scatterpolargl\"}], \"scatterternary\": [{\"marker\": {\"colorbar\": {\"outlinewidth\": 0, \"ticks\": \"\"}}, \"type\": \"scatterternary\"}], \"surface\": [{\"colorbar\": {\"outlinewidth\": 0, \"ticks\": \"\"}, \"colorscale\": [[0.0, \"#0d0887\"], [0.1111111111111111, \"#46039f\"], [0.2222222222222222, \"#7201a8\"], [0.3333333333333333, \"#9c179e\"], [0.4444444444444444, \"#bd3786\"], [0.5555555555555556, \"#d8576b\"], [0.6666666666666666, \"#ed7953\"], [0.7777777777777778, \"#fb9f3a\"], [0.8888888888888888, \"#fdca26\"], [1.0, \"#f0f921\"]], \"type\": \"surface\"}], \"table\": [{\"cells\": {\"fill\": {\"color\": \"#EBF0F8\"}, \"line\": {\"color\": \"white\"}}, \"header\": {\"fill\": {\"color\": \"#C8D4E3\"}, \"line\": {\"color\": \"white\"}}, \"type\": \"table\"}]}, \"layout\": {\"annotationdefaults\": {\"arrowcolor\": \"#2a3f5f\", \"arrowhead\": 0, \"arrowwidth\": 1}, \"coloraxis\": {\"colorbar\": {\"outlinewidth\": 0, \"ticks\": \"\"}}, \"colorscale\": {\"diverging\": [[0, \"#8e0152\"], [0.1, \"#c51b7d\"], [0.2, \"#de77ae\"], [0.3, \"#f1b6da\"], [0.4, \"#fde0ef\"], [0.5, \"#f7f7f7\"], [0.6, \"#e6f5d0\"], [0.7, \"#b8e186\"], [0.8, \"#7fbc41\"], [0.9, \"#4d9221\"], [1, \"#276419\"]], \"sequential\": [[0.0, \"#0d0887\"], [0.1111111111111111, \"#46039f\"], [0.2222222222222222, \"#7201a8\"], [0.3333333333333333, \"#9c179e\"], [0.4444444444444444, \"#bd3786\"], [0.5555555555555556, \"#d8576b\"], [0.6666666666666666, \"#ed7953\"], [0.7777777777777778, \"#fb9f3a\"], [0.8888888888888888, \"#fdca26\"], [1.0, \"#f0f921\"]], \"sequentialminus\": [[0.0, \"#0d0887\"], [0.1111111111111111, \"#46039f\"], [0.2222222222222222, \"#7201a8\"], [0.3333333333333333, \"#9c179e\"], [0.4444444444444444, \"#bd3786\"], [0.5555555555555556, \"#d8576b\"], [0.6666666666666666, \"#ed7953\"], [0.7777777777777778, \"#fb9f3a\"], [0.8888888888888888, \"#fdca26\"], [1.0, \"#f0f921\"]]}, \"colorway\": [\"#636efa\", \"#EF553B\", \"#00cc96\", \"#ab63fa\", \"#FFA15A\", \"#19d3f3\", \"#FF6692\", \"#B6E880\", \"#FF97FF\", \"#FECB52\"], \"font\": {\"color\": \"#2a3f5f\"}, \"geo\": {\"bgcolor\": \"white\", \"lakecolor\": \"white\", \"landcolor\": \"#E5ECF6\", \"showlakes\": true, \"showland\": true, \"subunitcolor\": \"white\"}, \"hoverlabel\": {\"align\": \"left\"}, \"hovermode\": \"closest\", \"mapbox\": {\"style\": \"light\"}, \"paper_bgcolor\": \"white\", \"plot_bgcolor\": \"#E5ECF6\", \"polar\": {\"angularaxis\": {\"gridcolor\": \"white\", \"linecolor\": \"white\", \"ticks\": \"\"}, \"bgcolor\": \"#E5ECF6\", \"radialaxis\": {\"gridcolor\": \"white\", \"linecolor\": \"white\", \"ticks\": \"\"}}, \"scene\": {\"xaxis\": {\"backgroundcolor\": \"#E5ECF6\", \"gridcolor\": \"white\", \"gridwidth\": 2, \"linecolor\": \"white\", \"showbackground\": true, \"ticks\": \"\", \"zerolinecolor\": \"white\"}, \"yaxis\": {\"backgroundcolor\": \"#E5ECF6\", \"gridcolor\": \"white\", \"gridwidth\": 2, \"linecolor\": \"white\", \"showbackground\": true, \"ticks\": \"\", \"zerolinecolor\": \"white\"}, \"zaxis\": {\"backgroundcolor\": \"#E5ECF6\", \"gridcolor\": \"white\", \"gridwidth\": 2, \"linecolor\": \"white\", \"showbackground\": true, \"ticks\": \"\", \"zerolinecolor\": \"white\"}}, \"shapedefaults\": {\"line\": {\"color\": \"#2a3f5f\"}}, \"ternary\": {\"aaxis\": {\"gridcolor\": \"white\", \"linecolor\": \"white\", \"ticks\": \"\"}, \"baxis\": {\"gridcolor\": \"white\", \"linecolor\": \"white\", \"ticks\": \"\"}, \"bgcolor\": \"#E5ECF6\", \"caxis\": {\"gridcolor\": \"white\", \"linecolor\": \"white\", \"ticks\": \"\"}}, \"title\": {\"x\": 0.05}, \"xaxis\": {\"automargin\": true, \"gridcolor\": \"white\", \"linecolor\": \"white\", \"ticks\": \"\", \"title\": {\"standoff\": 15}, \"zerolinecolor\": \"white\", \"zerolinewidth\": 2}, \"yaxis\": {\"automargin\": true, \"gridcolor\": \"white\", \"linecolor\": \"white\", \"ticks\": \"\", \"title\": {\"standoff\": 15}, \"zerolinecolor\": \"white\", \"zerolinewidth\": 2}}}, \"title\": {\"text\": \"Drop Means for Each species on average\"}, \"xaxis\": {\"anchor\": \"y\", \"domain\": [0.0, 1.0], \"title\": {\"text\": \"Species\"}}, \"yaxis\": {\"anchor\": \"x\", \"domain\": [0.0, 1.0], \"title\": {\"text\": \"Mean\"}}},                        {\"responsive\": true}                    ).then(function(){\n",
       "                            \n",
       "var gd = document.getElementById('a64ed260-9504-44a3-af0e-fe150270b55f');\n",
       "var x = new MutationObserver(function (mutations, observer) {{\n",
       "        var display = window.getComputedStyle(gd).display;\n",
       "        if (!display || display === 'none') {{\n",
       "            console.log([gd, 'removed!']);\n",
       "            Plotly.purge(gd);\n",
       "            observer.disconnect();\n",
       "        }}\n",
       "}});\n",
       "\n",
       "// Listen for the removal of the full notebook cells\n",
       "var notebookContainer = gd.closest('#notebook-container');\n",
       "if (notebookContainer) {{\n",
       "    x.observe(notebookContainer, {childList: true});\n",
       "}}\n",
       "\n",
       "// Listen for the clearing of the current output cell\n",
       "var outputEl = gd.closest('.output');\n",
       "if (outputEl) {{\n",
       "    x.observe(outputEl, {childList: true});\n",
       "}}\n",
       "\n",
       "                        })                };                });            </script>        </div>"
      ]
     },
     "metadata": {},
     "output_type": "display_data"
    }
   ],
   "source": [
    "All_Sharks_drops = drops[[\"All_GR\",\"All_BT\",\"All_SS\"]]\n",
    "All_Sharks_drops[\"All_GR\"] = All_Sharks_drops[\"All_GR\"] / 5\n",
    "All_Sharks_drops[\"All_BT\"] = All_Sharks_drops[\"All_BT\"] / 5\n",
    "All_Sharks_drops[\"All_SS\"] = All_Sharks_drops[\"All_SS\"] / 2\n",
    "All_Sharks_drops.columns = [\"Grey Reef\",\"Black Tip\",\"Sand Shark\"]\n",
    "drop_means = pd.DataFrame(round(All_Sharks_drops.mean(), 3)).reset_index()\n",
    "drop_means.columns = [\"Species\",\"Mean\"]\n",
    "drop_means = drop_means.sort_values(by = \"Mean\", ascending = False)\n",
    "print(drop_means)\n",
    "px.bar(drop_means, x = \"Species\", y = \"Mean\", title = \"Drop Means for Each species on average\")"
   ]
  },
  {
   "cell_type": "code",
   "execution_count": 238,
   "metadata": {},
   "outputs": [
    {
     "data": {
      "application/vnd.plotly.v1+json": {
       "config": {
        "plotlyServerURL": "https://plot.ly"
       },
       "data": [
        {
         "alignmentgroup": "True",
         "hovertemplate": "Average=Above Average<br>Subset=%{x}<br>Mean=%{y}<extra></extra>",
         "legendgroup": "Above Average",
         "marker": {
          "color": "#636efa"
         },
         "name": "Above Average",
         "offsetgroup": "Above Average",
         "orientation": "v",
         "showlegend": true,
         "textposition": "auto",
         "type": "bar",
         "x": [
          "BT2",
          "BT1",
          "All_BT",
          "BT5",
          "BT3",
          "BT4",
          "female"
         ],
         "xaxis": "x",
         "y": [
          0.649,
          0.581,
          0.498,
          0.452,
          0.447,
          0.359,
          0.297
         ],
         "yaxis": "y"
        },
        {
         "alignmentgroup": "True",
         "hovertemplate": "Average=Average<br>Subset=%{x}<br>Mean=%{y}<extra></extra>",
         "legendgroup": "Average",
         "marker": {
          "color": "#EF553B"
         },
         "name": "Average",
         "offsetgroup": "Average",
         "orientation": "v",
         "showlegend": true,
         "textposition": "auto",
         "type": "bar",
         "x": [
          "Total: "
         ],
         "xaxis": "x",
         "y": [
          0.289
         ],
         "yaxis": "y"
        },
        {
         "alignmentgroup": "True",
         "hovertemplate": "Average=Below Average<br>Subset=%{x}<br>Mean=%{y}<extra></extra>",
         "legendgroup": "Below Average",
         "marker": {
          "color": "#00cc96"
         },
         "name": "Below Average",
         "offsetgroup": "Below Average",
         "orientation": "v",
         "showlegend": true,
         "textposition": "auto",
         "type": "bar",
         "x": [
          "male",
          "GR3",
          "GR2",
          "Chandler",
          "All_SS",
          "All_GR",
          "GR4",
          "Ross",
          "GR5",
          "GR1"
         ],
         "xaxis": "x",
         "y": [
          0.281,
          0.215,
          0.198,
          0.191,
          0.146,
          0.141,
          0.12,
          0.101,
          0.089,
          0.082
         ],
         "yaxis": "y"
        }
       ],
       "layout": {
        "barmode": "relative",
        "legend": {
         "title": {
          "text": "Average"
         },
         "tracegroupgap": 0
        },
        "template": {
         "data": {
          "bar": [
           {
            "error_x": {
             "color": "#2a3f5f"
            },
            "error_y": {
             "color": "#2a3f5f"
            },
            "marker": {
             "line": {
              "color": "#E5ECF6",
              "width": 0.5
             }
            },
            "type": "bar"
           }
          ],
          "barpolar": [
           {
            "marker": {
             "line": {
              "color": "#E5ECF6",
              "width": 0.5
             }
            },
            "type": "barpolar"
           }
          ],
          "carpet": [
           {
            "aaxis": {
             "endlinecolor": "#2a3f5f",
             "gridcolor": "white",
             "linecolor": "white",
             "minorgridcolor": "white",
             "startlinecolor": "#2a3f5f"
            },
            "baxis": {
             "endlinecolor": "#2a3f5f",
             "gridcolor": "white",
             "linecolor": "white",
             "minorgridcolor": "white",
             "startlinecolor": "#2a3f5f"
            },
            "type": "carpet"
           }
          ],
          "choropleth": [
           {
            "colorbar": {
             "outlinewidth": 0,
             "ticks": ""
            },
            "type": "choropleth"
           }
          ],
          "contour": [
           {
            "colorbar": {
             "outlinewidth": 0,
             "ticks": ""
            },
            "colorscale": [
             [
              0,
              "#0d0887"
             ],
             [
              0.1111111111111111,
              "#46039f"
             ],
             [
              0.2222222222222222,
              "#7201a8"
             ],
             [
              0.3333333333333333,
              "#9c179e"
             ],
             [
              0.4444444444444444,
              "#bd3786"
             ],
             [
              0.5555555555555556,
              "#d8576b"
             ],
             [
              0.6666666666666666,
              "#ed7953"
             ],
             [
              0.7777777777777778,
              "#fb9f3a"
             ],
             [
              0.8888888888888888,
              "#fdca26"
             ],
             [
              1,
              "#f0f921"
             ]
            ],
            "type": "contour"
           }
          ],
          "contourcarpet": [
           {
            "colorbar": {
             "outlinewidth": 0,
             "ticks": ""
            },
            "type": "contourcarpet"
           }
          ],
          "heatmap": [
           {
            "colorbar": {
             "outlinewidth": 0,
             "ticks": ""
            },
            "colorscale": [
             [
              0,
              "#0d0887"
             ],
             [
              0.1111111111111111,
              "#46039f"
             ],
             [
              0.2222222222222222,
              "#7201a8"
             ],
             [
              0.3333333333333333,
              "#9c179e"
             ],
             [
              0.4444444444444444,
              "#bd3786"
             ],
             [
              0.5555555555555556,
              "#d8576b"
             ],
             [
              0.6666666666666666,
              "#ed7953"
             ],
             [
              0.7777777777777778,
              "#fb9f3a"
             ],
             [
              0.8888888888888888,
              "#fdca26"
             ],
             [
              1,
              "#f0f921"
             ]
            ],
            "type": "heatmap"
           }
          ],
          "heatmapgl": [
           {
            "colorbar": {
             "outlinewidth": 0,
             "ticks": ""
            },
            "colorscale": [
             [
              0,
              "#0d0887"
             ],
             [
              0.1111111111111111,
              "#46039f"
             ],
             [
              0.2222222222222222,
              "#7201a8"
             ],
             [
              0.3333333333333333,
              "#9c179e"
             ],
             [
              0.4444444444444444,
              "#bd3786"
             ],
             [
              0.5555555555555556,
              "#d8576b"
             ],
             [
              0.6666666666666666,
              "#ed7953"
             ],
             [
              0.7777777777777778,
              "#fb9f3a"
             ],
             [
              0.8888888888888888,
              "#fdca26"
             ],
             [
              1,
              "#f0f921"
             ]
            ],
            "type": "heatmapgl"
           }
          ],
          "histogram": [
           {
            "marker": {
             "colorbar": {
              "outlinewidth": 0,
              "ticks": ""
             }
            },
            "type": "histogram"
           }
          ],
          "histogram2d": [
           {
            "colorbar": {
             "outlinewidth": 0,
             "ticks": ""
            },
            "colorscale": [
             [
              0,
              "#0d0887"
             ],
             [
              0.1111111111111111,
              "#46039f"
             ],
             [
              0.2222222222222222,
              "#7201a8"
             ],
             [
              0.3333333333333333,
              "#9c179e"
             ],
             [
              0.4444444444444444,
              "#bd3786"
             ],
             [
              0.5555555555555556,
              "#d8576b"
             ],
             [
              0.6666666666666666,
              "#ed7953"
             ],
             [
              0.7777777777777778,
              "#fb9f3a"
             ],
             [
              0.8888888888888888,
              "#fdca26"
             ],
             [
              1,
              "#f0f921"
             ]
            ],
            "type": "histogram2d"
           }
          ],
          "histogram2dcontour": [
           {
            "colorbar": {
             "outlinewidth": 0,
             "ticks": ""
            },
            "colorscale": [
             [
              0,
              "#0d0887"
             ],
             [
              0.1111111111111111,
              "#46039f"
             ],
             [
              0.2222222222222222,
              "#7201a8"
             ],
             [
              0.3333333333333333,
              "#9c179e"
             ],
             [
              0.4444444444444444,
              "#bd3786"
             ],
             [
              0.5555555555555556,
              "#d8576b"
             ],
             [
              0.6666666666666666,
              "#ed7953"
             ],
             [
              0.7777777777777778,
              "#fb9f3a"
             ],
             [
              0.8888888888888888,
              "#fdca26"
             ],
             [
              1,
              "#f0f921"
             ]
            ],
            "type": "histogram2dcontour"
           }
          ],
          "mesh3d": [
           {
            "colorbar": {
             "outlinewidth": 0,
             "ticks": ""
            },
            "type": "mesh3d"
           }
          ],
          "parcoords": [
           {
            "line": {
             "colorbar": {
              "outlinewidth": 0,
              "ticks": ""
             }
            },
            "type": "parcoords"
           }
          ],
          "pie": [
           {
            "automargin": true,
            "type": "pie"
           }
          ],
          "scatter": [
           {
            "marker": {
             "colorbar": {
              "outlinewidth": 0,
              "ticks": ""
             }
            },
            "type": "scatter"
           }
          ],
          "scatter3d": [
           {
            "line": {
             "colorbar": {
              "outlinewidth": 0,
              "ticks": ""
             }
            },
            "marker": {
             "colorbar": {
              "outlinewidth": 0,
              "ticks": ""
             }
            },
            "type": "scatter3d"
           }
          ],
          "scattercarpet": [
           {
            "marker": {
             "colorbar": {
              "outlinewidth": 0,
              "ticks": ""
             }
            },
            "type": "scattercarpet"
           }
          ],
          "scattergeo": [
           {
            "marker": {
             "colorbar": {
              "outlinewidth": 0,
              "ticks": ""
             }
            },
            "type": "scattergeo"
           }
          ],
          "scattergl": [
           {
            "marker": {
             "colorbar": {
              "outlinewidth": 0,
              "ticks": ""
             }
            },
            "type": "scattergl"
           }
          ],
          "scattermapbox": [
           {
            "marker": {
             "colorbar": {
              "outlinewidth": 0,
              "ticks": ""
             }
            },
            "type": "scattermapbox"
           }
          ],
          "scatterpolar": [
           {
            "marker": {
             "colorbar": {
              "outlinewidth": 0,
              "ticks": ""
             }
            },
            "type": "scatterpolar"
           }
          ],
          "scatterpolargl": [
           {
            "marker": {
             "colorbar": {
              "outlinewidth": 0,
              "ticks": ""
             }
            },
            "type": "scatterpolargl"
           }
          ],
          "scatterternary": [
           {
            "marker": {
             "colorbar": {
              "outlinewidth": 0,
              "ticks": ""
             }
            },
            "type": "scatterternary"
           }
          ],
          "surface": [
           {
            "colorbar": {
             "outlinewidth": 0,
             "ticks": ""
            },
            "colorscale": [
             [
              0,
              "#0d0887"
             ],
             [
              0.1111111111111111,
              "#46039f"
             ],
             [
              0.2222222222222222,
              "#7201a8"
             ],
             [
              0.3333333333333333,
              "#9c179e"
             ],
             [
              0.4444444444444444,
              "#bd3786"
             ],
             [
              0.5555555555555556,
              "#d8576b"
             ],
             [
              0.6666666666666666,
              "#ed7953"
             ],
             [
              0.7777777777777778,
              "#fb9f3a"
             ],
             [
              0.8888888888888888,
              "#fdca26"
             ],
             [
              1,
              "#f0f921"
             ]
            ],
            "type": "surface"
           }
          ],
          "table": [
           {
            "cells": {
             "fill": {
              "color": "#EBF0F8"
             },
             "line": {
              "color": "white"
             }
            },
            "header": {
             "fill": {
              "color": "#C8D4E3"
             },
             "line": {
              "color": "white"
             }
            },
            "type": "table"
           }
          ]
         },
         "layout": {
          "annotationdefaults": {
           "arrowcolor": "#2a3f5f",
           "arrowhead": 0,
           "arrowwidth": 1
          },
          "coloraxis": {
           "colorbar": {
            "outlinewidth": 0,
            "ticks": ""
           }
          },
          "colorscale": {
           "diverging": [
            [
             0,
             "#8e0152"
            ],
            [
             0.1,
             "#c51b7d"
            ],
            [
             0.2,
             "#de77ae"
            ],
            [
             0.3,
             "#f1b6da"
            ],
            [
             0.4,
             "#fde0ef"
            ],
            [
             0.5,
             "#f7f7f7"
            ],
            [
             0.6,
             "#e6f5d0"
            ],
            [
             0.7,
             "#b8e186"
            ],
            [
             0.8,
             "#7fbc41"
            ],
            [
             0.9,
             "#4d9221"
            ],
            [
             1,
             "#276419"
            ]
           ],
           "sequential": [
            [
             0,
             "#0d0887"
            ],
            [
             0.1111111111111111,
             "#46039f"
            ],
            [
             0.2222222222222222,
             "#7201a8"
            ],
            [
             0.3333333333333333,
             "#9c179e"
            ],
            [
             0.4444444444444444,
             "#bd3786"
            ],
            [
             0.5555555555555556,
             "#d8576b"
            ],
            [
             0.6666666666666666,
             "#ed7953"
            ],
            [
             0.7777777777777778,
             "#fb9f3a"
            ],
            [
             0.8888888888888888,
             "#fdca26"
            ],
            [
             1,
             "#f0f921"
            ]
           ],
           "sequentialminus": [
            [
             0,
             "#0d0887"
            ],
            [
             0.1111111111111111,
             "#46039f"
            ],
            [
             0.2222222222222222,
             "#7201a8"
            ],
            [
             0.3333333333333333,
             "#9c179e"
            ],
            [
             0.4444444444444444,
             "#bd3786"
            ],
            [
             0.5555555555555556,
             "#d8576b"
            ],
            [
             0.6666666666666666,
             "#ed7953"
            ],
            [
             0.7777777777777778,
             "#fb9f3a"
            ],
            [
             0.8888888888888888,
             "#fdca26"
            ],
            [
             1,
             "#f0f921"
            ]
           ]
          },
          "colorway": [
           "#636efa",
           "#EF553B",
           "#00cc96",
           "#ab63fa",
           "#FFA15A",
           "#19d3f3",
           "#FF6692",
           "#B6E880",
           "#FF97FF",
           "#FECB52"
          ],
          "font": {
           "color": "#2a3f5f"
          },
          "geo": {
           "bgcolor": "white",
           "lakecolor": "white",
           "landcolor": "#E5ECF6",
           "showlakes": true,
           "showland": true,
           "subunitcolor": "white"
          },
          "hoverlabel": {
           "align": "left"
          },
          "hovermode": "closest",
          "mapbox": {
           "style": "light"
          },
          "paper_bgcolor": "white",
          "plot_bgcolor": "#E5ECF6",
          "polar": {
           "angularaxis": {
            "gridcolor": "white",
            "linecolor": "white",
            "ticks": ""
           },
           "bgcolor": "#E5ECF6",
           "radialaxis": {
            "gridcolor": "white",
            "linecolor": "white",
            "ticks": ""
           }
          },
          "scene": {
           "xaxis": {
            "backgroundcolor": "#E5ECF6",
            "gridcolor": "white",
            "gridwidth": 2,
            "linecolor": "white",
            "showbackground": true,
            "ticks": "",
            "zerolinecolor": "white"
           },
           "yaxis": {
            "backgroundcolor": "#E5ECF6",
            "gridcolor": "white",
            "gridwidth": 2,
            "linecolor": "white",
            "showbackground": true,
            "ticks": "",
            "zerolinecolor": "white"
           },
           "zaxis": {
            "backgroundcolor": "#E5ECF6",
            "gridcolor": "white",
            "gridwidth": 2,
            "linecolor": "white",
            "showbackground": true,
            "ticks": "",
            "zerolinecolor": "white"
           }
          },
          "shapedefaults": {
           "line": {
            "color": "#2a3f5f"
           }
          },
          "ternary": {
           "aaxis": {
            "gridcolor": "white",
            "linecolor": "white",
            "ticks": ""
           },
           "baxis": {
            "gridcolor": "white",
            "linecolor": "white",
            "ticks": ""
           },
           "bgcolor": "#E5ECF6",
           "caxis": {
            "gridcolor": "white",
            "linecolor": "white",
            "ticks": ""
           }
          },
          "title": {
           "x": 0.05
          },
          "xaxis": {
           "automargin": true,
           "gridcolor": "white",
           "linecolor": "white",
           "ticks": "",
           "title": {
            "standoff": 15
           },
           "zerolinecolor": "white",
           "zerolinewidth": 2
          },
          "yaxis": {
           "automargin": true,
           "gridcolor": "white",
           "linecolor": "white",
           "ticks": "",
           "title": {
            "standoff": 15
           },
           "zerolinecolor": "white",
           "zerolinewidth": 2
          }
         }
        },
        "title": {
         "text": "Drop Means for each subset"
        },
        "xaxis": {
         "anchor": "y",
         "domain": [
          0,
          1
         ],
         "title": {
          "text": "Subset"
         }
        },
        "yaxis": {
         "anchor": "x",
         "domain": [
          0,
          1
         ],
         "title": {
          "text": "Mean"
         }
        }
       }
      },
      "text/html": [
       "<div>                            <div id=\"53692343-cbf0-475a-99d3-b8af80dad6b2\" class=\"plotly-graph-div\" style=\"height:525px; width:100%;\"></div>            <script type=\"text/javascript\">                require([\"plotly\"], function(Plotly) {                    window.PLOTLYENV=window.PLOTLYENV || {};                                    if (document.getElementById(\"53692343-cbf0-475a-99d3-b8af80dad6b2\")) {                    Plotly.newPlot(                        \"53692343-cbf0-475a-99d3-b8af80dad6b2\",                        [{\"alignmentgroup\": \"True\", \"hovertemplate\": \"Average=Above Average<br>Subset=%{x}<br>Mean=%{y}<extra></extra>\", \"legendgroup\": \"Above Average\", \"marker\": {\"color\": \"#636efa\"}, \"name\": \"Above Average\", \"offsetgroup\": \"Above Average\", \"orientation\": \"v\", \"showlegend\": true, \"textposition\": \"auto\", \"type\": \"bar\", \"x\": [\"BT2\", \"BT1\", \"All_BT\", \"BT5\", \"BT3\", \"BT4\", \"female\"], \"xaxis\": \"x\", \"y\": [0.649, 0.581, 0.498, 0.452, 0.447, 0.359, 0.297], \"yaxis\": \"y\"}, {\"alignmentgroup\": \"True\", \"hovertemplate\": \"Average=Average<br>Subset=%{x}<br>Mean=%{y}<extra></extra>\", \"legendgroup\": \"Average\", \"marker\": {\"color\": \"#EF553B\"}, \"name\": \"Average\", \"offsetgroup\": \"Average\", \"orientation\": \"v\", \"showlegend\": true, \"textposition\": \"auto\", \"type\": \"bar\", \"x\": [\"Total: \"], \"xaxis\": \"x\", \"y\": [0.289], \"yaxis\": \"y\"}, {\"alignmentgroup\": \"True\", \"hovertemplate\": \"Average=Below Average<br>Subset=%{x}<br>Mean=%{y}<extra></extra>\", \"legendgroup\": \"Below Average\", \"marker\": {\"color\": \"#00cc96\"}, \"name\": \"Below Average\", \"offsetgroup\": \"Below Average\", \"orientation\": \"v\", \"showlegend\": true, \"textposition\": \"auto\", \"type\": \"bar\", \"x\": [\"male\", \"GR3\", \"GR2\", \"Chandler\", \"All_SS\", \"All_GR\", \"GR4\", \"Ross\", \"GR5\", \"GR1\"], \"xaxis\": \"x\", \"y\": [0.281, 0.215, 0.198, 0.191, 0.146, 0.141, 0.12, 0.101, 0.089, 0.082], \"yaxis\": \"y\"}],                        {\"barmode\": \"relative\", \"legend\": {\"title\": {\"text\": \"Average\"}, \"tracegroupgap\": 0}, \"template\": {\"data\": {\"bar\": [{\"error_x\": {\"color\": \"#2a3f5f\"}, \"error_y\": {\"color\": \"#2a3f5f\"}, \"marker\": {\"line\": {\"color\": \"#E5ECF6\", \"width\": 0.5}}, \"type\": \"bar\"}], \"barpolar\": [{\"marker\": {\"line\": {\"color\": \"#E5ECF6\", \"width\": 0.5}}, \"type\": \"barpolar\"}], \"carpet\": [{\"aaxis\": {\"endlinecolor\": \"#2a3f5f\", \"gridcolor\": \"white\", \"linecolor\": \"white\", \"minorgridcolor\": \"white\", \"startlinecolor\": \"#2a3f5f\"}, \"baxis\": {\"endlinecolor\": \"#2a3f5f\", \"gridcolor\": \"white\", \"linecolor\": \"white\", \"minorgridcolor\": \"white\", \"startlinecolor\": \"#2a3f5f\"}, \"type\": \"carpet\"}], \"choropleth\": [{\"colorbar\": {\"outlinewidth\": 0, \"ticks\": \"\"}, \"type\": \"choropleth\"}], \"contour\": [{\"colorbar\": {\"outlinewidth\": 0, \"ticks\": \"\"}, \"colorscale\": [[0.0, \"#0d0887\"], [0.1111111111111111, \"#46039f\"], [0.2222222222222222, \"#7201a8\"], [0.3333333333333333, \"#9c179e\"], [0.4444444444444444, \"#bd3786\"], [0.5555555555555556, \"#d8576b\"], [0.6666666666666666, \"#ed7953\"], [0.7777777777777778, \"#fb9f3a\"], [0.8888888888888888, \"#fdca26\"], [1.0, \"#f0f921\"]], \"type\": \"contour\"}], \"contourcarpet\": [{\"colorbar\": {\"outlinewidth\": 0, \"ticks\": \"\"}, \"type\": \"contourcarpet\"}], \"heatmap\": [{\"colorbar\": {\"outlinewidth\": 0, \"ticks\": \"\"}, \"colorscale\": [[0.0, \"#0d0887\"], [0.1111111111111111, \"#46039f\"], [0.2222222222222222, \"#7201a8\"], [0.3333333333333333, \"#9c179e\"], [0.4444444444444444, \"#bd3786\"], [0.5555555555555556, \"#d8576b\"], [0.6666666666666666, \"#ed7953\"], [0.7777777777777778, \"#fb9f3a\"], [0.8888888888888888, \"#fdca26\"], [1.0, \"#f0f921\"]], \"type\": \"heatmap\"}], \"heatmapgl\": [{\"colorbar\": {\"outlinewidth\": 0, \"ticks\": \"\"}, \"colorscale\": [[0.0, \"#0d0887\"], [0.1111111111111111, \"#46039f\"], [0.2222222222222222, \"#7201a8\"], [0.3333333333333333, \"#9c179e\"], [0.4444444444444444, \"#bd3786\"], [0.5555555555555556, \"#d8576b\"], [0.6666666666666666, \"#ed7953\"], [0.7777777777777778, \"#fb9f3a\"], [0.8888888888888888, \"#fdca26\"], [1.0, \"#f0f921\"]], \"type\": \"heatmapgl\"}], \"histogram\": [{\"marker\": {\"colorbar\": {\"outlinewidth\": 0, \"ticks\": \"\"}}, \"type\": \"histogram\"}], \"histogram2d\": [{\"colorbar\": {\"outlinewidth\": 0, \"ticks\": \"\"}, \"colorscale\": [[0.0, \"#0d0887\"], [0.1111111111111111, \"#46039f\"], [0.2222222222222222, \"#7201a8\"], [0.3333333333333333, \"#9c179e\"], [0.4444444444444444, \"#bd3786\"], [0.5555555555555556, \"#d8576b\"], [0.6666666666666666, \"#ed7953\"], [0.7777777777777778, \"#fb9f3a\"], [0.8888888888888888, \"#fdca26\"], [1.0, \"#f0f921\"]], \"type\": \"histogram2d\"}], \"histogram2dcontour\": [{\"colorbar\": {\"outlinewidth\": 0, \"ticks\": \"\"}, \"colorscale\": [[0.0, \"#0d0887\"], [0.1111111111111111, \"#46039f\"], [0.2222222222222222, \"#7201a8\"], [0.3333333333333333, \"#9c179e\"], [0.4444444444444444, \"#bd3786\"], [0.5555555555555556, \"#d8576b\"], [0.6666666666666666, \"#ed7953\"], [0.7777777777777778, \"#fb9f3a\"], [0.8888888888888888, \"#fdca26\"], [1.0, \"#f0f921\"]], \"type\": \"histogram2dcontour\"}], \"mesh3d\": [{\"colorbar\": {\"outlinewidth\": 0, \"ticks\": \"\"}, \"type\": \"mesh3d\"}], \"parcoords\": [{\"line\": {\"colorbar\": {\"outlinewidth\": 0, \"ticks\": \"\"}}, \"type\": \"parcoords\"}], \"pie\": [{\"automargin\": true, \"type\": \"pie\"}], \"scatter\": [{\"marker\": {\"colorbar\": {\"outlinewidth\": 0, \"ticks\": \"\"}}, \"type\": \"scatter\"}], \"scatter3d\": [{\"line\": {\"colorbar\": {\"outlinewidth\": 0, \"ticks\": \"\"}}, \"marker\": {\"colorbar\": {\"outlinewidth\": 0, \"ticks\": \"\"}}, \"type\": \"scatter3d\"}], \"scattercarpet\": [{\"marker\": {\"colorbar\": {\"outlinewidth\": 0, \"ticks\": \"\"}}, \"type\": \"scattercarpet\"}], \"scattergeo\": [{\"marker\": {\"colorbar\": {\"outlinewidth\": 0, \"ticks\": \"\"}}, \"type\": \"scattergeo\"}], \"scattergl\": [{\"marker\": {\"colorbar\": {\"outlinewidth\": 0, \"ticks\": \"\"}}, \"type\": \"scattergl\"}], \"scattermapbox\": [{\"marker\": {\"colorbar\": {\"outlinewidth\": 0, \"ticks\": \"\"}}, \"type\": \"scattermapbox\"}], \"scatterpolar\": [{\"marker\": {\"colorbar\": {\"outlinewidth\": 0, \"ticks\": \"\"}}, \"type\": \"scatterpolar\"}], \"scatterpolargl\": [{\"marker\": {\"colorbar\": {\"outlinewidth\": 0, \"ticks\": \"\"}}, \"type\": \"scatterpolargl\"}], \"scatterternary\": [{\"marker\": {\"colorbar\": {\"outlinewidth\": 0, \"ticks\": \"\"}}, \"type\": \"scatterternary\"}], \"surface\": [{\"colorbar\": {\"outlinewidth\": 0, \"ticks\": \"\"}, \"colorscale\": [[0.0, \"#0d0887\"], [0.1111111111111111, \"#46039f\"], [0.2222222222222222, \"#7201a8\"], [0.3333333333333333, \"#9c179e\"], [0.4444444444444444, \"#bd3786\"], [0.5555555555555556, \"#d8576b\"], [0.6666666666666666, \"#ed7953\"], [0.7777777777777778, \"#fb9f3a\"], [0.8888888888888888, \"#fdca26\"], [1.0, \"#f0f921\"]], \"type\": \"surface\"}], \"table\": [{\"cells\": {\"fill\": {\"color\": \"#EBF0F8\"}, \"line\": {\"color\": \"white\"}}, \"header\": {\"fill\": {\"color\": \"#C8D4E3\"}, \"line\": {\"color\": \"white\"}}, \"type\": \"table\"}]}, \"layout\": {\"annotationdefaults\": {\"arrowcolor\": \"#2a3f5f\", \"arrowhead\": 0, \"arrowwidth\": 1}, \"coloraxis\": {\"colorbar\": {\"outlinewidth\": 0, \"ticks\": \"\"}}, \"colorscale\": {\"diverging\": [[0, \"#8e0152\"], [0.1, \"#c51b7d\"], [0.2, \"#de77ae\"], [0.3, \"#f1b6da\"], [0.4, \"#fde0ef\"], [0.5, \"#f7f7f7\"], [0.6, \"#e6f5d0\"], [0.7, \"#b8e186\"], [0.8, \"#7fbc41\"], [0.9, \"#4d9221\"], [1, \"#276419\"]], \"sequential\": [[0.0, \"#0d0887\"], [0.1111111111111111, \"#46039f\"], [0.2222222222222222, \"#7201a8\"], [0.3333333333333333, \"#9c179e\"], [0.4444444444444444, \"#bd3786\"], [0.5555555555555556, \"#d8576b\"], [0.6666666666666666, \"#ed7953\"], [0.7777777777777778, \"#fb9f3a\"], [0.8888888888888888, \"#fdca26\"], [1.0, \"#f0f921\"]], \"sequentialminus\": [[0.0, \"#0d0887\"], [0.1111111111111111, \"#46039f\"], [0.2222222222222222, \"#7201a8\"], [0.3333333333333333, \"#9c179e\"], [0.4444444444444444, \"#bd3786\"], [0.5555555555555556, \"#d8576b\"], [0.6666666666666666, \"#ed7953\"], [0.7777777777777778, \"#fb9f3a\"], [0.8888888888888888, \"#fdca26\"], [1.0, \"#f0f921\"]]}, \"colorway\": [\"#636efa\", \"#EF553B\", \"#00cc96\", \"#ab63fa\", \"#FFA15A\", \"#19d3f3\", \"#FF6692\", \"#B6E880\", \"#FF97FF\", \"#FECB52\"], \"font\": {\"color\": \"#2a3f5f\"}, \"geo\": {\"bgcolor\": \"white\", \"lakecolor\": \"white\", \"landcolor\": \"#E5ECF6\", \"showlakes\": true, \"showland\": true, \"subunitcolor\": \"white\"}, \"hoverlabel\": {\"align\": \"left\"}, \"hovermode\": \"closest\", \"mapbox\": {\"style\": \"light\"}, \"paper_bgcolor\": \"white\", \"plot_bgcolor\": \"#E5ECF6\", \"polar\": {\"angularaxis\": {\"gridcolor\": \"white\", \"linecolor\": \"white\", \"ticks\": \"\"}, \"bgcolor\": \"#E5ECF6\", \"radialaxis\": {\"gridcolor\": \"white\", \"linecolor\": \"white\", \"ticks\": \"\"}}, \"scene\": {\"xaxis\": {\"backgroundcolor\": \"#E5ECF6\", \"gridcolor\": \"white\", \"gridwidth\": 2, \"linecolor\": \"white\", \"showbackground\": true, \"ticks\": \"\", \"zerolinecolor\": \"white\"}, \"yaxis\": {\"backgroundcolor\": \"#E5ECF6\", \"gridcolor\": \"white\", \"gridwidth\": 2, \"linecolor\": \"white\", \"showbackground\": true, \"ticks\": \"\", \"zerolinecolor\": \"white\"}, \"zaxis\": {\"backgroundcolor\": \"#E5ECF6\", \"gridcolor\": \"white\", \"gridwidth\": 2, \"linecolor\": \"white\", \"showbackground\": true, \"ticks\": \"\", \"zerolinecolor\": \"white\"}}, \"shapedefaults\": {\"line\": {\"color\": \"#2a3f5f\"}}, \"ternary\": {\"aaxis\": {\"gridcolor\": \"white\", \"linecolor\": \"white\", \"ticks\": \"\"}, \"baxis\": {\"gridcolor\": \"white\", \"linecolor\": \"white\", \"ticks\": \"\"}, \"bgcolor\": \"#E5ECF6\", \"caxis\": {\"gridcolor\": \"white\", \"linecolor\": \"white\", \"ticks\": \"\"}}, \"title\": {\"x\": 0.05}, \"xaxis\": {\"automargin\": true, \"gridcolor\": \"white\", \"linecolor\": \"white\", \"ticks\": \"\", \"title\": {\"standoff\": 15}, \"zerolinecolor\": \"white\", \"zerolinewidth\": 2}, \"yaxis\": {\"automargin\": true, \"gridcolor\": \"white\", \"linecolor\": \"white\", \"ticks\": \"\", \"title\": {\"standoff\": 15}, \"zerolinecolor\": \"white\", \"zerolinewidth\": 2}}}, \"title\": {\"text\": \"Drop Means for each subset\"}, \"xaxis\": {\"anchor\": \"y\", \"domain\": [0.0, 1.0], \"title\": {\"text\": \"Subset\"}}, \"yaxis\": {\"anchor\": \"x\", \"domain\": [0.0, 1.0], \"title\": {\"text\": \"Mean\"}}},                        {\"responsive\": true}                    ).then(function(){\n",
       "                            \n",
       "var gd = document.getElementById('53692343-cbf0-475a-99d3-b8af80dad6b2');\n",
       "var x = new MutationObserver(function (mutations, observer) {{\n",
       "        var display = window.getComputedStyle(gd).display;\n",
       "        if (!display || display === 'none') {{\n",
       "            console.log([gd, 'removed!']);\n",
       "            Plotly.purge(gd);\n",
       "            observer.disconnect();\n",
       "        }}\n",
       "}});\n",
       "\n",
       "// Listen for the removal of the full notebook cells\n",
       "var notebookContainer = gd.closest('#notebook-container');\n",
       "if (notebookContainer) {{\n",
       "    x.observe(notebookContainer, {childList: true});\n",
       "}}\n",
       "\n",
       "// Listen for the clearing of the current output cell\n",
       "var outputEl = gd.closest('.output');\n",
       "if (outputEl) {{\n",
       "    x.observe(outputEl, {childList: true});\n",
       "}}\n",
       "\n",
       "                        })                };                });            </script>        </div>"
      ]
     },
     "metadata": {},
     "output_type": "display_data"
    }
   ],
   "source": [
    "All_Sharks_drops = drops.iloc[:,1:]\n",
    "All_Sharks_drops[\"All_GR\"] = All_Sharks_drops[\"All_GR\"] / 5\n",
    "All_Sharks_drops[\"All_BT\"] = All_Sharks_drops[\"All_BT\"] / 5\n",
    "All_Sharks_drops[\"All_SS\"] = All_Sharks_drops[\"All_SS\"] / 2\n",
    "All_Sharks_drops[\"female\"] = All_Sharks_drops[\"female\"] / 7\n",
    "All_Sharks_drops[\"male\"] = All_Sharks_drops[\"male\"] / 5\n",
    "All_Sharks_drops[\"Total: \"] = All_Sharks_drops[\"Total: \"] / 12\n",
    "drop_means = pd.DataFrame(round(All_Sharks_drops.mean(), 3)).reset_index()\n",
    "drop_means.columns = [\"Subset\",\"Mean\"]\n",
    "drop_means = drop_means.sort_values(by = \"Mean\", ascending = False)\n",
    "prop_average = drop_means[drop_means[\"Subset\"]==\"Total: \"][\"Mean\"].values[0]\n",
    "#drop_means[\"color\"] = \"blue\"\n",
    "Average = []\n",
    "for i in drop_means.Mean:\n",
    "    if i > prop_average:\n",
    "        Average.append(\"Above Average\")\n",
    "    elif i == prop_average:\n",
    "        Average.append(\"Average\")\n",
    "    else:\n",
    "        Average.append(\"Below Average\")\n",
    "drop_means[\"Average\"] = Average\n",
    "    \n",
    "px.bar(drop_means, x = \"Subset\", y = \"Mean\", color = \"Average\", title = \"Drop Means for each subset\")"
   ]
  },
  {
   "cell_type": "code",
   "execution_count": 159,
   "metadata": {},
   "outputs": [],
   "source": [
    "drop_prop = drops.iloc[:,1:]"
   ]
  },
  {
   "cell_type": "code",
   "execution_count": 160,
   "metadata": {},
   "outputs": [],
   "source": [
    "props = {}\n",
    "for i in drop_prop.columns:\n",
    "    data = drop_prop[i]\n",
    "    dropped_days = data > 0\n",
    "    props.update({i:(round(len(data[dropped_days])/len(data),2))})\n",
    "props = pd.DataFrame(list(props.items()),columns = ['Subset of Data','Proportion of Days Dropped'])"
   ]
  },
  {
   "cell_type": "code",
   "execution_count": 259,
   "metadata": {},
   "outputs": [
    {
     "name": "stdout",
     "output_type": "stream",
     "text": [
      "0.84 is the overall proportion of days with a drop by a shark\n"
     ]
    }
   ],
   "source": [
    "print(props.iloc[12].values[1],\"is the overall proportion of days with a drop by a shark\")"
   ]
  },
  {
   "cell_type": "code",
   "execution_count": 161,
   "metadata": {},
   "outputs": [],
   "source": [
    "drop_prop_species = props.iloc[13:16,:].rename(columns = {\"Subset of Data\":\"Species\"}).sort_values(by = \"Proportion of Days Dropped\", ascending = False)\n",
    "drop_prop_gender = props.iloc[-2:,:].rename(columns = {\"Subset of Data\":\"Gender\"}).sort_values(by = \"Proportion of Days Dropped\", ascending = False)\n",
    "drop_prop_sharks = props.iloc[0:12,:].rename(columns = {\"Subset of Data\":\"Shark\"}).sort_values(by = \"Proportion of Days Dropped\", ascending = False)"
   ]
  },
  {
   "cell_type": "code",
   "execution_count": 162,
   "metadata": {},
   "outputs": [
    {
     "data": {
      "application/vnd.plotly.v1+json": {
       "config": {
        "plotlyServerURL": "https://plot.ly"
       },
       "data": [
        {
         "alignmentgroup": "True",
         "hovertemplate": "Species=%{x}<br>Proportion of Days Dropped=%{y}<extra></extra>",
         "legendgroup": "",
         "marker": {
          "color": "#636efa"
         },
         "name": "",
         "offsetgroup": "",
         "orientation": "v",
         "showlegend": false,
         "textposition": "auto",
         "type": "bar",
         "x": [
          "All_BT",
          "All_GR",
          "All_SS"
         ],
         "xaxis": "x",
         "y": [
          0.69,
          0.39,
          0.2
         ],
         "yaxis": "y"
        }
       ],
       "layout": {
        "barmode": "relative",
        "legend": {
         "tracegroupgap": 0
        },
        "margin": {
         "t": 60
        },
        "template": {
         "data": {
          "bar": [
           {
            "error_x": {
             "color": "#2a3f5f"
            },
            "error_y": {
             "color": "#2a3f5f"
            },
            "marker": {
             "line": {
              "color": "#E5ECF6",
              "width": 0.5
             }
            },
            "type": "bar"
           }
          ],
          "barpolar": [
           {
            "marker": {
             "line": {
              "color": "#E5ECF6",
              "width": 0.5
             }
            },
            "type": "barpolar"
           }
          ],
          "carpet": [
           {
            "aaxis": {
             "endlinecolor": "#2a3f5f",
             "gridcolor": "white",
             "linecolor": "white",
             "minorgridcolor": "white",
             "startlinecolor": "#2a3f5f"
            },
            "baxis": {
             "endlinecolor": "#2a3f5f",
             "gridcolor": "white",
             "linecolor": "white",
             "minorgridcolor": "white",
             "startlinecolor": "#2a3f5f"
            },
            "type": "carpet"
           }
          ],
          "choropleth": [
           {
            "colorbar": {
             "outlinewidth": 0,
             "ticks": ""
            },
            "type": "choropleth"
           }
          ],
          "contour": [
           {
            "colorbar": {
             "outlinewidth": 0,
             "ticks": ""
            },
            "colorscale": [
             [
              0,
              "#0d0887"
             ],
             [
              0.1111111111111111,
              "#46039f"
             ],
             [
              0.2222222222222222,
              "#7201a8"
             ],
             [
              0.3333333333333333,
              "#9c179e"
             ],
             [
              0.4444444444444444,
              "#bd3786"
             ],
             [
              0.5555555555555556,
              "#d8576b"
             ],
             [
              0.6666666666666666,
              "#ed7953"
             ],
             [
              0.7777777777777778,
              "#fb9f3a"
             ],
             [
              0.8888888888888888,
              "#fdca26"
             ],
             [
              1,
              "#f0f921"
             ]
            ],
            "type": "contour"
           }
          ],
          "contourcarpet": [
           {
            "colorbar": {
             "outlinewidth": 0,
             "ticks": ""
            },
            "type": "contourcarpet"
           }
          ],
          "heatmap": [
           {
            "colorbar": {
             "outlinewidth": 0,
             "ticks": ""
            },
            "colorscale": [
             [
              0,
              "#0d0887"
             ],
             [
              0.1111111111111111,
              "#46039f"
             ],
             [
              0.2222222222222222,
              "#7201a8"
             ],
             [
              0.3333333333333333,
              "#9c179e"
             ],
             [
              0.4444444444444444,
              "#bd3786"
             ],
             [
              0.5555555555555556,
              "#d8576b"
             ],
             [
              0.6666666666666666,
              "#ed7953"
             ],
             [
              0.7777777777777778,
              "#fb9f3a"
             ],
             [
              0.8888888888888888,
              "#fdca26"
             ],
             [
              1,
              "#f0f921"
             ]
            ],
            "type": "heatmap"
           }
          ],
          "heatmapgl": [
           {
            "colorbar": {
             "outlinewidth": 0,
             "ticks": ""
            },
            "colorscale": [
             [
              0,
              "#0d0887"
             ],
             [
              0.1111111111111111,
              "#46039f"
             ],
             [
              0.2222222222222222,
              "#7201a8"
             ],
             [
              0.3333333333333333,
              "#9c179e"
             ],
             [
              0.4444444444444444,
              "#bd3786"
             ],
             [
              0.5555555555555556,
              "#d8576b"
             ],
             [
              0.6666666666666666,
              "#ed7953"
             ],
             [
              0.7777777777777778,
              "#fb9f3a"
             ],
             [
              0.8888888888888888,
              "#fdca26"
             ],
             [
              1,
              "#f0f921"
             ]
            ],
            "type": "heatmapgl"
           }
          ],
          "histogram": [
           {
            "marker": {
             "colorbar": {
              "outlinewidth": 0,
              "ticks": ""
             }
            },
            "type": "histogram"
           }
          ],
          "histogram2d": [
           {
            "colorbar": {
             "outlinewidth": 0,
             "ticks": ""
            },
            "colorscale": [
             [
              0,
              "#0d0887"
             ],
             [
              0.1111111111111111,
              "#46039f"
             ],
             [
              0.2222222222222222,
              "#7201a8"
             ],
             [
              0.3333333333333333,
              "#9c179e"
             ],
             [
              0.4444444444444444,
              "#bd3786"
             ],
             [
              0.5555555555555556,
              "#d8576b"
             ],
             [
              0.6666666666666666,
              "#ed7953"
             ],
             [
              0.7777777777777778,
              "#fb9f3a"
             ],
             [
              0.8888888888888888,
              "#fdca26"
             ],
             [
              1,
              "#f0f921"
             ]
            ],
            "type": "histogram2d"
           }
          ],
          "histogram2dcontour": [
           {
            "colorbar": {
             "outlinewidth": 0,
             "ticks": ""
            },
            "colorscale": [
             [
              0,
              "#0d0887"
             ],
             [
              0.1111111111111111,
              "#46039f"
             ],
             [
              0.2222222222222222,
              "#7201a8"
             ],
             [
              0.3333333333333333,
              "#9c179e"
             ],
             [
              0.4444444444444444,
              "#bd3786"
             ],
             [
              0.5555555555555556,
              "#d8576b"
             ],
             [
              0.6666666666666666,
              "#ed7953"
             ],
             [
              0.7777777777777778,
              "#fb9f3a"
             ],
             [
              0.8888888888888888,
              "#fdca26"
             ],
             [
              1,
              "#f0f921"
             ]
            ],
            "type": "histogram2dcontour"
           }
          ],
          "mesh3d": [
           {
            "colorbar": {
             "outlinewidth": 0,
             "ticks": ""
            },
            "type": "mesh3d"
           }
          ],
          "parcoords": [
           {
            "line": {
             "colorbar": {
              "outlinewidth": 0,
              "ticks": ""
             }
            },
            "type": "parcoords"
           }
          ],
          "pie": [
           {
            "automargin": true,
            "type": "pie"
           }
          ],
          "scatter": [
           {
            "marker": {
             "colorbar": {
              "outlinewidth": 0,
              "ticks": ""
             }
            },
            "type": "scatter"
           }
          ],
          "scatter3d": [
           {
            "line": {
             "colorbar": {
              "outlinewidth": 0,
              "ticks": ""
             }
            },
            "marker": {
             "colorbar": {
              "outlinewidth": 0,
              "ticks": ""
             }
            },
            "type": "scatter3d"
           }
          ],
          "scattercarpet": [
           {
            "marker": {
             "colorbar": {
              "outlinewidth": 0,
              "ticks": ""
             }
            },
            "type": "scattercarpet"
           }
          ],
          "scattergeo": [
           {
            "marker": {
             "colorbar": {
              "outlinewidth": 0,
              "ticks": ""
             }
            },
            "type": "scattergeo"
           }
          ],
          "scattergl": [
           {
            "marker": {
             "colorbar": {
              "outlinewidth": 0,
              "ticks": ""
             }
            },
            "type": "scattergl"
           }
          ],
          "scattermapbox": [
           {
            "marker": {
             "colorbar": {
              "outlinewidth": 0,
              "ticks": ""
             }
            },
            "type": "scattermapbox"
           }
          ],
          "scatterpolar": [
           {
            "marker": {
             "colorbar": {
              "outlinewidth": 0,
              "ticks": ""
             }
            },
            "type": "scatterpolar"
           }
          ],
          "scatterpolargl": [
           {
            "marker": {
             "colorbar": {
              "outlinewidth": 0,
              "ticks": ""
             }
            },
            "type": "scatterpolargl"
           }
          ],
          "scatterternary": [
           {
            "marker": {
             "colorbar": {
              "outlinewidth": 0,
              "ticks": ""
             }
            },
            "type": "scatterternary"
           }
          ],
          "surface": [
           {
            "colorbar": {
             "outlinewidth": 0,
             "ticks": ""
            },
            "colorscale": [
             [
              0,
              "#0d0887"
             ],
             [
              0.1111111111111111,
              "#46039f"
             ],
             [
              0.2222222222222222,
              "#7201a8"
             ],
             [
              0.3333333333333333,
              "#9c179e"
             ],
             [
              0.4444444444444444,
              "#bd3786"
             ],
             [
              0.5555555555555556,
              "#d8576b"
             ],
             [
              0.6666666666666666,
              "#ed7953"
             ],
             [
              0.7777777777777778,
              "#fb9f3a"
             ],
             [
              0.8888888888888888,
              "#fdca26"
             ],
             [
              1,
              "#f0f921"
             ]
            ],
            "type": "surface"
           }
          ],
          "table": [
           {
            "cells": {
             "fill": {
              "color": "#EBF0F8"
             },
             "line": {
              "color": "white"
             }
            },
            "header": {
             "fill": {
              "color": "#C8D4E3"
             },
             "line": {
              "color": "white"
             }
            },
            "type": "table"
           }
          ]
         },
         "layout": {
          "annotationdefaults": {
           "arrowcolor": "#2a3f5f",
           "arrowhead": 0,
           "arrowwidth": 1
          },
          "coloraxis": {
           "colorbar": {
            "outlinewidth": 0,
            "ticks": ""
           }
          },
          "colorscale": {
           "diverging": [
            [
             0,
             "#8e0152"
            ],
            [
             0.1,
             "#c51b7d"
            ],
            [
             0.2,
             "#de77ae"
            ],
            [
             0.3,
             "#f1b6da"
            ],
            [
             0.4,
             "#fde0ef"
            ],
            [
             0.5,
             "#f7f7f7"
            ],
            [
             0.6,
             "#e6f5d0"
            ],
            [
             0.7,
             "#b8e186"
            ],
            [
             0.8,
             "#7fbc41"
            ],
            [
             0.9,
             "#4d9221"
            ],
            [
             1,
             "#276419"
            ]
           ],
           "sequential": [
            [
             0,
             "#0d0887"
            ],
            [
             0.1111111111111111,
             "#46039f"
            ],
            [
             0.2222222222222222,
             "#7201a8"
            ],
            [
             0.3333333333333333,
             "#9c179e"
            ],
            [
             0.4444444444444444,
             "#bd3786"
            ],
            [
             0.5555555555555556,
             "#d8576b"
            ],
            [
             0.6666666666666666,
             "#ed7953"
            ],
            [
             0.7777777777777778,
             "#fb9f3a"
            ],
            [
             0.8888888888888888,
             "#fdca26"
            ],
            [
             1,
             "#f0f921"
            ]
           ],
           "sequentialminus": [
            [
             0,
             "#0d0887"
            ],
            [
             0.1111111111111111,
             "#46039f"
            ],
            [
             0.2222222222222222,
             "#7201a8"
            ],
            [
             0.3333333333333333,
             "#9c179e"
            ],
            [
             0.4444444444444444,
             "#bd3786"
            ],
            [
             0.5555555555555556,
             "#d8576b"
            ],
            [
             0.6666666666666666,
             "#ed7953"
            ],
            [
             0.7777777777777778,
             "#fb9f3a"
            ],
            [
             0.8888888888888888,
             "#fdca26"
            ],
            [
             1,
             "#f0f921"
            ]
           ]
          },
          "colorway": [
           "#636efa",
           "#EF553B",
           "#00cc96",
           "#ab63fa",
           "#FFA15A",
           "#19d3f3",
           "#FF6692",
           "#B6E880",
           "#FF97FF",
           "#FECB52"
          ],
          "font": {
           "color": "#2a3f5f"
          },
          "geo": {
           "bgcolor": "white",
           "lakecolor": "white",
           "landcolor": "#E5ECF6",
           "showlakes": true,
           "showland": true,
           "subunitcolor": "white"
          },
          "hoverlabel": {
           "align": "left"
          },
          "hovermode": "closest",
          "mapbox": {
           "style": "light"
          },
          "paper_bgcolor": "white",
          "plot_bgcolor": "#E5ECF6",
          "polar": {
           "angularaxis": {
            "gridcolor": "white",
            "linecolor": "white",
            "ticks": ""
           },
           "bgcolor": "#E5ECF6",
           "radialaxis": {
            "gridcolor": "white",
            "linecolor": "white",
            "ticks": ""
           }
          },
          "scene": {
           "xaxis": {
            "backgroundcolor": "#E5ECF6",
            "gridcolor": "white",
            "gridwidth": 2,
            "linecolor": "white",
            "showbackground": true,
            "ticks": "",
            "zerolinecolor": "white"
           },
           "yaxis": {
            "backgroundcolor": "#E5ECF6",
            "gridcolor": "white",
            "gridwidth": 2,
            "linecolor": "white",
            "showbackground": true,
            "ticks": "",
            "zerolinecolor": "white"
           },
           "zaxis": {
            "backgroundcolor": "#E5ECF6",
            "gridcolor": "white",
            "gridwidth": 2,
            "linecolor": "white",
            "showbackground": true,
            "ticks": "",
            "zerolinecolor": "white"
           }
          },
          "shapedefaults": {
           "line": {
            "color": "#2a3f5f"
           }
          },
          "ternary": {
           "aaxis": {
            "gridcolor": "white",
            "linecolor": "white",
            "ticks": ""
           },
           "baxis": {
            "gridcolor": "white",
            "linecolor": "white",
            "ticks": ""
           },
           "bgcolor": "#E5ECF6",
           "caxis": {
            "gridcolor": "white",
            "linecolor": "white",
            "ticks": ""
           }
          },
          "title": {
           "x": 0.05
          },
          "xaxis": {
           "automargin": true,
           "gridcolor": "white",
           "linecolor": "white",
           "ticks": "",
           "title": {
            "standoff": 15
           },
           "zerolinecolor": "white",
           "zerolinewidth": 2
          },
          "yaxis": {
           "automargin": true,
           "gridcolor": "white",
           "linecolor": "white",
           "ticks": "",
           "title": {
            "standoff": 15
           },
           "zerolinecolor": "white",
           "zerolinewidth": 2
          }
         }
        },
        "xaxis": {
         "anchor": "y",
         "domain": [
          0,
          1
         ],
         "title": {
          "text": "Species"
         }
        },
        "yaxis": {
         "anchor": "x",
         "domain": [
          0,
          1
         ],
         "title": {
          "text": "Proportion of Days Dropped"
         }
        }
       }
      },
      "text/html": [
       "<div>                            <div id=\"8a11feea-d2e8-4a3e-9fbc-209cfd37c400\" class=\"plotly-graph-div\" style=\"height:525px; width:100%;\"></div>            <script type=\"text/javascript\">                require([\"plotly\"], function(Plotly) {                    window.PLOTLYENV=window.PLOTLYENV || {};                                    if (document.getElementById(\"8a11feea-d2e8-4a3e-9fbc-209cfd37c400\")) {                    Plotly.newPlot(                        \"8a11feea-d2e8-4a3e-9fbc-209cfd37c400\",                        [{\"alignmentgroup\": \"True\", \"hovertemplate\": \"Species=%{x}<br>Proportion of Days Dropped=%{y}<extra></extra>\", \"legendgroup\": \"\", \"marker\": {\"color\": \"#636efa\"}, \"name\": \"\", \"offsetgroup\": \"\", \"orientation\": \"v\", \"showlegend\": false, \"textposition\": \"auto\", \"type\": \"bar\", \"x\": [\"All_BT\", \"All_GR\", \"All_SS\"], \"xaxis\": \"x\", \"y\": [0.69, 0.39, 0.2], \"yaxis\": \"y\"}],                        {\"barmode\": \"relative\", \"legend\": {\"tracegroupgap\": 0}, \"margin\": {\"t\": 60}, \"template\": {\"data\": {\"bar\": [{\"error_x\": {\"color\": \"#2a3f5f\"}, \"error_y\": {\"color\": \"#2a3f5f\"}, \"marker\": {\"line\": {\"color\": \"#E5ECF6\", \"width\": 0.5}}, \"type\": \"bar\"}], \"barpolar\": [{\"marker\": {\"line\": {\"color\": \"#E5ECF6\", \"width\": 0.5}}, \"type\": \"barpolar\"}], \"carpet\": [{\"aaxis\": {\"endlinecolor\": \"#2a3f5f\", \"gridcolor\": \"white\", \"linecolor\": \"white\", \"minorgridcolor\": \"white\", \"startlinecolor\": \"#2a3f5f\"}, \"baxis\": {\"endlinecolor\": \"#2a3f5f\", \"gridcolor\": \"white\", \"linecolor\": \"white\", \"minorgridcolor\": \"white\", \"startlinecolor\": \"#2a3f5f\"}, \"type\": \"carpet\"}], \"choropleth\": [{\"colorbar\": {\"outlinewidth\": 0, \"ticks\": \"\"}, \"type\": \"choropleth\"}], \"contour\": [{\"colorbar\": {\"outlinewidth\": 0, \"ticks\": \"\"}, \"colorscale\": [[0.0, \"#0d0887\"], [0.1111111111111111, \"#46039f\"], [0.2222222222222222, \"#7201a8\"], [0.3333333333333333, \"#9c179e\"], [0.4444444444444444, \"#bd3786\"], [0.5555555555555556, \"#d8576b\"], [0.6666666666666666, \"#ed7953\"], [0.7777777777777778, \"#fb9f3a\"], [0.8888888888888888, \"#fdca26\"], [1.0, \"#f0f921\"]], \"type\": \"contour\"}], \"contourcarpet\": [{\"colorbar\": {\"outlinewidth\": 0, \"ticks\": \"\"}, \"type\": \"contourcarpet\"}], \"heatmap\": [{\"colorbar\": {\"outlinewidth\": 0, \"ticks\": \"\"}, \"colorscale\": [[0.0, \"#0d0887\"], [0.1111111111111111, \"#46039f\"], [0.2222222222222222, \"#7201a8\"], [0.3333333333333333, \"#9c179e\"], [0.4444444444444444, \"#bd3786\"], [0.5555555555555556, \"#d8576b\"], [0.6666666666666666, \"#ed7953\"], [0.7777777777777778, \"#fb9f3a\"], [0.8888888888888888, \"#fdca26\"], [1.0, \"#f0f921\"]], \"type\": \"heatmap\"}], \"heatmapgl\": [{\"colorbar\": {\"outlinewidth\": 0, \"ticks\": \"\"}, \"colorscale\": [[0.0, \"#0d0887\"], [0.1111111111111111, \"#46039f\"], [0.2222222222222222, \"#7201a8\"], [0.3333333333333333, \"#9c179e\"], [0.4444444444444444, \"#bd3786\"], [0.5555555555555556, \"#d8576b\"], [0.6666666666666666, \"#ed7953\"], [0.7777777777777778, \"#fb9f3a\"], [0.8888888888888888, \"#fdca26\"], [1.0, \"#f0f921\"]], \"type\": \"heatmapgl\"}], \"histogram\": [{\"marker\": {\"colorbar\": {\"outlinewidth\": 0, \"ticks\": \"\"}}, \"type\": \"histogram\"}], \"histogram2d\": [{\"colorbar\": {\"outlinewidth\": 0, \"ticks\": \"\"}, \"colorscale\": [[0.0, \"#0d0887\"], [0.1111111111111111, \"#46039f\"], [0.2222222222222222, \"#7201a8\"], [0.3333333333333333, \"#9c179e\"], [0.4444444444444444, \"#bd3786\"], [0.5555555555555556, \"#d8576b\"], [0.6666666666666666, \"#ed7953\"], [0.7777777777777778, \"#fb9f3a\"], [0.8888888888888888, \"#fdca26\"], [1.0, \"#f0f921\"]], \"type\": \"histogram2d\"}], \"histogram2dcontour\": [{\"colorbar\": {\"outlinewidth\": 0, \"ticks\": \"\"}, \"colorscale\": [[0.0, \"#0d0887\"], [0.1111111111111111, \"#46039f\"], [0.2222222222222222, \"#7201a8\"], [0.3333333333333333, \"#9c179e\"], [0.4444444444444444, \"#bd3786\"], [0.5555555555555556, \"#d8576b\"], [0.6666666666666666, \"#ed7953\"], [0.7777777777777778, \"#fb9f3a\"], [0.8888888888888888, \"#fdca26\"], [1.0, \"#f0f921\"]], \"type\": \"histogram2dcontour\"}], \"mesh3d\": [{\"colorbar\": {\"outlinewidth\": 0, \"ticks\": \"\"}, \"type\": \"mesh3d\"}], \"parcoords\": [{\"line\": {\"colorbar\": {\"outlinewidth\": 0, \"ticks\": \"\"}}, \"type\": \"parcoords\"}], \"pie\": [{\"automargin\": true, \"type\": \"pie\"}], \"scatter\": [{\"marker\": {\"colorbar\": {\"outlinewidth\": 0, \"ticks\": \"\"}}, \"type\": \"scatter\"}], \"scatter3d\": [{\"line\": {\"colorbar\": {\"outlinewidth\": 0, \"ticks\": \"\"}}, \"marker\": {\"colorbar\": {\"outlinewidth\": 0, \"ticks\": \"\"}}, \"type\": \"scatter3d\"}], \"scattercarpet\": [{\"marker\": {\"colorbar\": {\"outlinewidth\": 0, \"ticks\": \"\"}}, \"type\": \"scattercarpet\"}], \"scattergeo\": [{\"marker\": {\"colorbar\": {\"outlinewidth\": 0, \"ticks\": \"\"}}, \"type\": \"scattergeo\"}], \"scattergl\": [{\"marker\": {\"colorbar\": {\"outlinewidth\": 0, \"ticks\": \"\"}}, \"type\": \"scattergl\"}], \"scattermapbox\": [{\"marker\": {\"colorbar\": {\"outlinewidth\": 0, \"ticks\": \"\"}}, \"type\": \"scattermapbox\"}], \"scatterpolar\": [{\"marker\": {\"colorbar\": {\"outlinewidth\": 0, \"ticks\": \"\"}}, \"type\": \"scatterpolar\"}], \"scatterpolargl\": [{\"marker\": {\"colorbar\": {\"outlinewidth\": 0, \"ticks\": \"\"}}, \"type\": \"scatterpolargl\"}], \"scatterternary\": [{\"marker\": {\"colorbar\": {\"outlinewidth\": 0, \"ticks\": \"\"}}, \"type\": \"scatterternary\"}], \"surface\": [{\"colorbar\": {\"outlinewidth\": 0, \"ticks\": \"\"}, \"colorscale\": [[0.0, \"#0d0887\"], [0.1111111111111111, \"#46039f\"], [0.2222222222222222, \"#7201a8\"], [0.3333333333333333, \"#9c179e\"], [0.4444444444444444, \"#bd3786\"], [0.5555555555555556, \"#d8576b\"], [0.6666666666666666, \"#ed7953\"], [0.7777777777777778, \"#fb9f3a\"], [0.8888888888888888, \"#fdca26\"], [1.0, \"#f0f921\"]], \"type\": \"surface\"}], \"table\": [{\"cells\": {\"fill\": {\"color\": \"#EBF0F8\"}, \"line\": {\"color\": \"white\"}}, \"header\": {\"fill\": {\"color\": \"#C8D4E3\"}, \"line\": {\"color\": \"white\"}}, \"type\": \"table\"}]}, \"layout\": {\"annotationdefaults\": {\"arrowcolor\": \"#2a3f5f\", \"arrowhead\": 0, \"arrowwidth\": 1}, \"coloraxis\": {\"colorbar\": {\"outlinewidth\": 0, \"ticks\": \"\"}}, \"colorscale\": {\"diverging\": [[0, \"#8e0152\"], [0.1, \"#c51b7d\"], [0.2, \"#de77ae\"], [0.3, \"#f1b6da\"], [0.4, \"#fde0ef\"], [0.5, \"#f7f7f7\"], [0.6, \"#e6f5d0\"], [0.7, \"#b8e186\"], [0.8, \"#7fbc41\"], [0.9, \"#4d9221\"], [1, \"#276419\"]], \"sequential\": [[0.0, \"#0d0887\"], [0.1111111111111111, \"#46039f\"], [0.2222222222222222, \"#7201a8\"], [0.3333333333333333, \"#9c179e\"], [0.4444444444444444, \"#bd3786\"], [0.5555555555555556, \"#d8576b\"], [0.6666666666666666, \"#ed7953\"], [0.7777777777777778, \"#fb9f3a\"], [0.8888888888888888, \"#fdca26\"], [1.0, \"#f0f921\"]], \"sequentialminus\": [[0.0, \"#0d0887\"], [0.1111111111111111, \"#46039f\"], [0.2222222222222222, \"#7201a8\"], [0.3333333333333333, \"#9c179e\"], [0.4444444444444444, \"#bd3786\"], [0.5555555555555556, \"#d8576b\"], [0.6666666666666666, \"#ed7953\"], [0.7777777777777778, \"#fb9f3a\"], [0.8888888888888888, \"#fdca26\"], [1.0, \"#f0f921\"]]}, \"colorway\": [\"#636efa\", \"#EF553B\", \"#00cc96\", \"#ab63fa\", \"#FFA15A\", \"#19d3f3\", \"#FF6692\", \"#B6E880\", \"#FF97FF\", \"#FECB52\"], \"font\": {\"color\": \"#2a3f5f\"}, \"geo\": {\"bgcolor\": \"white\", \"lakecolor\": \"white\", \"landcolor\": \"#E5ECF6\", \"showlakes\": true, \"showland\": true, \"subunitcolor\": \"white\"}, \"hoverlabel\": {\"align\": \"left\"}, \"hovermode\": \"closest\", \"mapbox\": {\"style\": \"light\"}, \"paper_bgcolor\": \"white\", \"plot_bgcolor\": \"#E5ECF6\", \"polar\": {\"angularaxis\": {\"gridcolor\": \"white\", \"linecolor\": \"white\", \"ticks\": \"\"}, \"bgcolor\": \"#E5ECF6\", \"radialaxis\": {\"gridcolor\": \"white\", \"linecolor\": \"white\", \"ticks\": \"\"}}, \"scene\": {\"xaxis\": {\"backgroundcolor\": \"#E5ECF6\", \"gridcolor\": \"white\", \"gridwidth\": 2, \"linecolor\": \"white\", \"showbackground\": true, \"ticks\": \"\", \"zerolinecolor\": \"white\"}, \"yaxis\": {\"backgroundcolor\": \"#E5ECF6\", \"gridcolor\": \"white\", \"gridwidth\": 2, \"linecolor\": \"white\", \"showbackground\": true, \"ticks\": \"\", \"zerolinecolor\": \"white\"}, \"zaxis\": {\"backgroundcolor\": \"#E5ECF6\", \"gridcolor\": \"white\", \"gridwidth\": 2, \"linecolor\": \"white\", \"showbackground\": true, \"ticks\": \"\", \"zerolinecolor\": \"white\"}}, \"shapedefaults\": {\"line\": {\"color\": \"#2a3f5f\"}}, \"ternary\": {\"aaxis\": {\"gridcolor\": \"white\", \"linecolor\": \"white\", \"ticks\": \"\"}, \"baxis\": {\"gridcolor\": \"white\", \"linecolor\": \"white\", \"ticks\": \"\"}, \"bgcolor\": \"#E5ECF6\", \"caxis\": {\"gridcolor\": \"white\", \"linecolor\": \"white\", \"ticks\": \"\"}}, \"title\": {\"x\": 0.05}, \"xaxis\": {\"automargin\": true, \"gridcolor\": \"white\", \"linecolor\": \"white\", \"ticks\": \"\", \"title\": {\"standoff\": 15}, \"zerolinecolor\": \"white\", \"zerolinewidth\": 2}, \"yaxis\": {\"automargin\": true, \"gridcolor\": \"white\", \"linecolor\": \"white\", \"ticks\": \"\", \"title\": {\"standoff\": 15}, \"zerolinecolor\": \"white\", \"zerolinewidth\": 2}}}, \"xaxis\": {\"anchor\": \"y\", \"domain\": [0.0, 1.0], \"title\": {\"text\": \"Species\"}}, \"yaxis\": {\"anchor\": \"x\", \"domain\": [0.0, 1.0], \"title\": {\"text\": \"Proportion of Days Dropped\"}}},                        {\"responsive\": true}                    ).then(function(){\n",
       "                            \n",
       "var gd = document.getElementById('8a11feea-d2e8-4a3e-9fbc-209cfd37c400');\n",
       "var x = new MutationObserver(function (mutations, observer) {{\n",
       "        var display = window.getComputedStyle(gd).display;\n",
       "        if (!display || display === 'none') {{\n",
       "            console.log([gd, 'removed!']);\n",
       "            Plotly.purge(gd);\n",
       "            observer.disconnect();\n",
       "        }}\n",
       "}});\n",
       "\n",
       "// Listen for the removal of the full notebook cells\n",
       "var notebookContainer = gd.closest('#notebook-container');\n",
       "if (notebookContainer) {{\n",
       "    x.observe(notebookContainer, {childList: true});\n",
       "}}\n",
       "\n",
       "// Listen for the clearing of the current output cell\n",
       "var outputEl = gd.closest('.output');\n",
       "if (outputEl) {{\n",
       "    x.observe(outputEl, {childList: true});\n",
       "}}\n",
       "\n",
       "                        })                };                });            </script>        </div>"
      ]
     },
     "metadata": {},
     "output_type": "display_data"
    }
   ],
   "source": [
    "px.bar(drop_prop_species, x = \"Species\", y = \"Proportion of Days Dropped\")"
   ]
  },
  {
   "cell_type": "code",
   "execution_count": 163,
   "metadata": {},
   "outputs": [
    {
     "data": {
      "application/vnd.plotly.v1+json": {
       "config": {
        "plotlyServerURL": "https://plot.ly"
       },
       "data": [
        {
         "alignmentgroup": "True",
         "hovertemplate": "Gender=%{x}<br>Proportion of Days Dropped=%{y}<extra></extra>",
         "legendgroup": "",
         "marker": {
          "color": "#636efa"
         },
         "name": "",
         "offsetgroup": "",
         "orientation": "v",
         "showlegend": false,
         "textposition": "auto",
         "type": "bar",
         "x": [
          "female",
          "male"
         ],
         "xaxis": "x",
         "y": [
          0.75,
          0.62
         ],
         "yaxis": "y"
        }
       ],
       "layout": {
        "barmode": "relative",
        "legend": {
         "tracegroupgap": 0
        },
        "margin": {
         "t": 60
        },
        "template": {
         "data": {
          "bar": [
           {
            "error_x": {
             "color": "#2a3f5f"
            },
            "error_y": {
             "color": "#2a3f5f"
            },
            "marker": {
             "line": {
              "color": "#E5ECF6",
              "width": 0.5
             }
            },
            "type": "bar"
           }
          ],
          "barpolar": [
           {
            "marker": {
             "line": {
              "color": "#E5ECF6",
              "width": 0.5
             }
            },
            "type": "barpolar"
           }
          ],
          "carpet": [
           {
            "aaxis": {
             "endlinecolor": "#2a3f5f",
             "gridcolor": "white",
             "linecolor": "white",
             "minorgridcolor": "white",
             "startlinecolor": "#2a3f5f"
            },
            "baxis": {
             "endlinecolor": "#2a3f5f",
             "gridcolor": "white",
             "linecolor": "white",
             "minorgridcolor": "white",
             "startlinecolor": "#2a3f5f"
            },
            "type": "carpet"
           }
          ],
          "choropleth": [
           {
            "colorbar": {
             "outlinewidth": 0,
             "ticks": ""
            },
            "type": "choropleth"
           }
          ],
          "contour": [
           {
            "colorbar": {
             "outlinewidth": 0,
             "ticks": ""
            },
            "colorscale": [
             [
              0,
              "#0d0887"
             ],
             [
              0.1111111111111111,
              "#46039f"
             ],
             [
              0.2222222222222222,
              "#7201a8"
             ],
             [
              0.3333333333333333,
              "#9c179e"
             ],
             [
              0.4444444444444444,
              "#bd3786"
             ],
             [
              0.5555555555555556,
              "#d8576b"
             ],
             [
              0.6666666666666666,
              "#ed7953"
             ],
             [
              0.7777777777777778,
              "#fb9f3a"
             ],
             [
              0.8888888888888888,
              "#fdca26"
             ],
             [
              1,
              "#f0f921"
             ]
            ],
            "type": "contour"
           }
          ],
          "contourcarpet": [
           {
            "colorbar": {
             "outlinewidth": 0,
             "ticks": ""
            },
            "type": "contourcarpet"
           }
          ],
          "heatmap": [
           {
            "colorbar": {
             "outlinewidth": 0,
             "ticks": ""
            },
            "colorscale": [
             [
              0,
              "#0d0887"
             ],
             [
              0.1111111111111111,
              "#46039f"
             ],
             [
              0.2222222222222222,
              "#7201a8"
             ],
             [
              0.3333333333333333,
              "#9c179e"
             ],
             [
              0.4444444444444444,
              "#bd3786"
             ],
             [
              0.5555555555555556,
              "#d8576b"
             ],
             [
              0.6666666666666666,
              "#ed7953"
             ],
             [
              0.7777777777777778,
              "#fb9f3a"
             ],
             [
              0.8888888888888888,
              "#fdca26"
             ],
             [
              1,
              "#f0f921"
             ]
            ],
            "type": "heatmap"
           }
          ],
          "heatmapgl": [
           {
            "colorbar": {
             "outlinewidth": 0,
             "ticks": ""
            },
            "colorscale": [
             [
              0,
              "#0d0887"
             ],
             [
              0.1111111111111111,
              "#46039f"
             ],
             [
              0.2222222222222222,
              "#7201a8"
             ],
             [
              0.3333333333333333,
              "#9c179e"
             ],
             [
              0.4444444444444444,
              "#bd3786"
             ],
             [
              0.5555555555555556,
              "#d8576b"
             ],
             [
              0.6666666666666666,
              "#ed7953"
             ],
             [
              0.7777777777777778,
              "#fb9f3a"
             ],
             [
              0.8888888888888888,
              "#fdca26"
             ],
             [
              1,
              "#f0f921"
             ]
            ],
            "type": "heatmapgl"
           }
          ],
          "histogram": [
           {
            "marker": {
             "colorbar": {
              "outlinewidth": 0,
              "ticks": ""
             }
            },
            "type": "histogram"
           }
          ],
          "histogram2d": [
           {
            "colorbar": {
             "outlinewidth": 0,
             "ticks": ""
            },
            "colorscale": [
             [
              0,
              "#0d0887"
             ],
             [
              0.1111111111111111,
              "#46039f"
             ],
             [
              0.2222222222222222,
              "#7201a8"
             ],
             [
              0.3333333333333333,
              "#9c179e"
             ],
             [
              0.4444444444444444,
              "#bd3786"
             ],
             [
              0.5555555555555556,
              "#d8576b"
             ],
             [
              0.6666666666666666,
              "#ed7953"
             ],
             [
              0.7777777777777778,
              "#fb9f3a"
             ],
             [
              0.8888888888888888,
              "#fdca26"
             ],
             [
              1,
              "#f0f921"
             ]
            ],
            "type": "histogram2d"
           }
          ],
          "histogram2dcontour": [
           {
            "colorbar": {
             "outlinewidth": 0,
             "ticks": ""
            },
            "colorscale": [
             [
              0,
              "#0d0887"
             ],
             [
              0.1111111111111111,
              "#46039f"
             ],
             [
              0.2222222222222222,
              "#7201a8"
             ],
             [
              0.3333333333333333,
              "#9c179e"
             ],
             [
              0.4444444444444444,
              "#bd3786"
             ],
             [
              0.5555555555555556,
              "#d8576b"
             ],
             [
              0.6666666666666666,
              "#ed7953"
             ],
             [
              0.7777777777777778,
              "#fb9f3a"
             ],
             [
              0.8888888888888888,
              "#fdca26"
             ],
             [
              1,
              "#f0f921"
             ]
            ],
            "type": "histogram2dcontour"
           }
          ],
          "mesh3d": [
           {
            "colorbar": {
             "outlinewidth": 0,
             "ticks": ""
            },
            "type": "mesh3d"
           }
          ],
          "parcoords": [
           {
            "line": {
             "colorbar": {
              "outlinewidth": 0,
              "ticks": ""
             }
            },
            "type": "parcoords"
           }
          ],
          "pie": [
           {
            "automargin": true,
            "type": "pie"
           }
          ],
          "scatter": [
           {
            "marker": {
             "colorbar": {
              "outlinewidth": 0,
              "ticks": ""
             }
            },
            "type": "scatter"
           }
          ],
          "scatter3d": [
           {
            "line": {
             "colorbar": {
              "outlinewidth": 0,
              "ticks": ""
             }
            },
            "marker": {
             "colorbar": {
              "outlinewidth": 0,
              "ticks": ""
             }
            },
            "type": "scatter3d"
           }
          ],
          "scattercarpet": [
           {
            "marker": {
             "colorbar": {
              "outlinewidth": 0,
              "ticks": ""
             }
            },
            "type": "scattercarpet"
           }
          ],
          "scattergeo": [
           {
            "marker": {
             "colorbar": {
              "outlinewidth": 0,
              "ticks": ""
             }
            },
            "type": "scattergeo"
           }
          ],
          "scattergl": [
           {
            "marker": {
             "colorbar": {
              "outlinewidth": 0,
              "ticks": ""
             }
            },
            "type": "scattergl"
           }
          ],
          "scattermapbox": [
           {
            "marker": {
             "colorbar": {
              "outlinewidth": 0,
              "ticks": ""
             }
            },
            "type": "scattermapbox"
           }
          ],
          "scatterpolar": [
           {
            "marker": {
             "colorbar": {
              "outlinewidth": 0,
              "ticks": ""
             }
            },
            "type": "scatterpolar"
           }
          ],
          "scatterpolargl": [
           {
            "marker": {
             "colorbar": {
              "outlinewidth": 0,
              "ticks": ""
             }
            },
            "type": "scatterpolargl"
           }
          ],
          "scatterternary": [
           {
            "marker": {
             "colorbar": {
              "outlinewidth": 0,
              "ticks": ""
             }
            },
            "type": "scatterternary"
           }
          ],
          "surface": [
           {
            "colorbar": {
             "outlinewidth": 0,
             "ticks": ""
            },
            "colorscale": [
             [
              0,
              "#0d0887"
             ],
             [
              0.1111111111111111,
              "#46039f"
             ],
             [
              0.2222222222222222,
              "#7201a8"
             ],
             [
              0.3333333333333333,
              "#9c179e"
             ],
             [
              0.4444444444444444,
              "#bd3786"
             ],
             [
              0.5555555555555556,
              "#d8576b"
             ],
             [
              0.6666666666666666,
              "#ed7953"
             ],
             [
              0.7777777777777778,
              "#fb9f3a"
             ],
             [
              0.8888888888888888,
              "#fdca26"
             ],
             [
              1,
              "#f0f921"
             ]
            ],
            "type": "surface"
           }
          ],
          "table": [
           {
            "cells": {
             "fill": {
              "color": "#EBF0F8"
             },
             "line": {
              "color": "white"
             }
            },
            "header": {
             "fill": {
              "color": "#C8D4E3"
             },
             "line": {
              "color": "white"
             }
            },
            "type": "table"
           }
          ]
         },
         "layout": {
          "annotationdefaults": {
           "arrowcolor": "#2a3f5f",
           "arrowhead": 0,
           "arrowwidth": 1
          },
          "coloraxis": {
           "colorbar": {
            "outlinewidth": 0,
            "ticks": ""
           }
          },
          "colorscale": {
           "diverging": [
            [
             0,
             "#8e0152"
            ],
            [
             0.1,
             "#c51b7d"
            ],
            [
             0.2,
             "#de77ae"
            ],
            [
             0.3,
             "#f1b6da"
            ],
            [
             0.4,
             "#fde0ef"
            ],
            [
             0.5,
             "#f7f7f7"
            ],
            [
             0.6,
             "#e6f5d0"
            ],
            [
             0.7,
             "#b8e186"
            ],
            [
             0.8,
             "#7fbc41"
            ],
            [
             0.9,
             "#4d9221"
            ],
            [
             1,
             "#276419"
            ]
           ],
           "sequential": [
            [
             0,
             "#0d0887"
            ],
            [
             0.1111111111111111,
             "#46039f"
            ],
            [
             0.2222222222222222,
             "#7201a8"
            ],
            [
             0.3333333333333333,
             "#9c179e"
            ],
            [
             0.4444444444444444,
             "#bd3786"
            ],
            [
             0.5555555555555556,
             "#d8576b"
            ],
            [
             0.6666666666666666,
             "#ed7953"
            ],
            [
             0.7777777777777778,
             "#fb9f3a"
            ],
            [
             0.8888888888888888,
             "#fdca26"
            ],
            [
             1,
             "#f0f921"
            ]
           ],
           "sequentialminus": [
            [
             0,
             "#0d0887"
            ],
            [
             0.1111111111111111,
             "#46039f"
            ],
            [
             0.2222222222222222,
             "#7201a8"
            ],
            [
             0.3333333333333333,
             "#9c179e"
            ],
            [
             0.4444444444444444,
             "#bd3786"
            ],
            [
             0.5555555555555556,
             "#d8576b"
            ],
            [
             0.6666666666666666,
             "#ed7953"
            ],
            [
             0.7777777777777778,
             "#fb9f3a"
            ],
            [
             0.8888888888888888,
             "#fdca26"
            ],
            [
             1,
             "#f0f921"
            ]
           ]
          },
          "colorway": [
           "#636efa",
           "#EF553B",
           "#00cc96",
           "#ab63fa",
           "#FFA15A",
           "#19d3f3",
           "#FF6692",
           "#B6E880",
           "#FF97FF",
           "#FECB52"
          ],
          "font": {
           "color": "#2a3f5f"
          },
          "geo": {
           "bgcolor": "white",
           "lakecolor": "white",
           "landcolor": "#E5ECF6",
           "showlakes": true,
           "showland": true,
           "subunitcolor": "white"
          },
          "hoverlabel": {
           "align": "left"
          },
          "hovermode": "closest",
          "mapbox": {
           "style": "light"
          },
          "paper_bgcolor": "white",
          "plot_bgcolor": "#E5ECF6",
          "polar": {
           "angularaxis": {
            "gridcolor": "white",
            "linecolor": "white",
            "ticks": ""
           },
           "bgcolor": "#E5ECF6",
           "radialaxis": {
            "gridcolor": "white",
            "linecolor": "white",
            "ticks": ""
           }
          },
          "scene": {
           "xaxis": {
            "backgroundcolor": "#E5ECF6",
            "gridcolor": "white",
            "gridwidth": 2,
            "linecolor": "white",
            "showbackground": true,
            "ticks": "",
            "zerolinecolor": "white"
           },
           "yaxis": {
            "backgroundcolor": "#E5ECF6",
            "gridcolor": "white",
            "gridwidth": 2,
            "linecolor": "white",
            "showbackground": true,
            "ticks": "",
            "zerolinecolor": "white"
           },
           "zaxis": {
            "backgroundcolor": "#E5ECF6",
            "gridcolor": "white",
            "gridwidth": 2,
            "linecolor": "white",
            "showbackground": true,
            "ticks": "",
            "zerolinecolor": "white"
           }
          },
          "shapedefaults": {
           "line": {
            "color": "#2a3f5f"
           }
          },
          "ternary": {
           "aaxis": {
            "gridcolor": "white",
            "linecolor": "white",
            "ticks": ""
           },
           "baxis": {
            "gridcolor": "white",
            "linecolor": "white",
            "ticks": ""
           },
           "bgcolor": "#E5ECF6",
           "caxis": {
            "gridcolor": "white",
            "linecolor": "white",
            "ticks": ""
           }
          },
          "title": {
           "x": 0.05
          },
          "xaxis": {
           "automargin": true,
           "gridcolor": "white",
           "linecolor": "white",
           "ticks": "",
           "title": {
            "standoff": 15
           },
           "zerolinecolor": "white",
           "zerolinewidth": 2
          },
          "yaxis": {
           "automargin": true,
           "gridcolor": "white",
           "linecolor": "white",
           "ticks": "",
           "title": {
            "standoff": 15
           },
           "zerolinecolor": "white",
           "zerolinewidth": 2
          }
         }
        },
        "xaxis": {
         "anchor": "y",
         "domain": [
          0,
          1
         ],
         "title": {
          "text": "Gender"
         }
        },
        "yaxis": {
         "anchor": "x",
         "domain": [
          0,
          1
         ],
         "title": {
          "text": "Proportion of Days Dropped"
         }
        }
       }
      },
      "text/html": [
       "<div>                            <div id=\"76122e7c-99a5-4da9-9ab1-7dd3630dd0cf\" class=\"plotly-graph-div\" style=\"height:525px; width:100%;\"></div>            <script type=\"text/javascript\">                require([\"plotly\"], function(Plotly) {                    window.PLOTLYENV=window.PLOTLYENV || {};                                    if (document.getElementById(\"76122e7c-99a5-4da9-9ab1-7dd3630dd0cf\")) {                    Plotly.newPlot(                        \"76122e7c-99a5-4da9-9ab1-7dd3630dd0cf\",                        [{\"alignmentgroup\": \"True\", \"hovertemplate\": \"Gender=%{x}<br>Proportion of Days Dropped=%{y}<extra></extra>\", \"legendgroup\": \"\", \"marker\": {\"color\": \"#636efa\"}, \"name\": \"\", \"offsetgroup\": \"\", \"orientation\": \"v\", \"showlegend\": false, \"textposition\": \"auto\", \"type\": \"bar\", \"x\": [\"female\", \"male\"], \"xaxis\": \"x\", \"y\": [0.75, 0.62], \"yaxis\": \"y\"}],                        {\"barmode\": \"relative\", \"legend\": {\"tracegroupgap\": 0}, \"margin\": {\"t\": 60}, \"template\": {\"data\": {\"bar\": [{\"error_x\": {\"color\": \"#2a3f5f\"}, \"error_y\": {\"color\": \"#2a3f5f\"}, \"marker\": {\"line\": {\"color\": \"#E5ECF6\", \"width\": 0.5}}, \"type\": \"bar\"}], \"barpolar\": [{\"marker\": {\"line\": {\"color\": \"#E5ECF6\", \"width\": 0.5}}, \"type\": \"barpolar\"}], \"carpet\": [{\"aaxis\": {\"endlinecolor\": \"#2a3f5f\", \"gridcolor\": \"white\", \"linecolor\": \"white\", \"minorgridcolor\": \"white\", \"startlinecolor\": \"#2a3f5f\"}, \"baxis\": {\"endlinecolor\": \"#2a3f5f\", \"gridcolor\": \"white\", \"linecolor\": \"white\", \"minorgridcolor\": \"white\", \"startlinecolor\": \"#2a3f5f\"}, \"type\": \"carpet\"}], \"choropleth\": [{\"colorbar\": {\"outlinewidth\": 0, \"ticks\": \"\"}, \"type\": \"choropleth\"}], \"contour\": [{\"colorbar\": {\"outlinewidth\": 0, \"ticks\": \"\"}, \"colorscale\": [[0.0, \"#0d0887\"], [0.1111111111111111, \"#46039f\"], [0.2222222222222222, \"#7201a8\"], [0.3333333333333333, \"#9c179e\"], [0.4444444444444444, \"#bd3786\"], [0.5555555555555556, \"#d8576b\"], [0.6666666666666666, \"#ed7953\"], [0.7777777777777778, \"#fb9f3a\"], [0.8888888888888888, \"#fdca26\"], [1.0, \"#f0f921\"]], \"type\": \"contour\"}], \"contourcarpet\": [{\"colorbar\": {\"outlinewidth\": 0, \"ticks\": \"\"}, \"type\": \"contourcarpet\"}], \"heatmap\": [{\"colorbar\": {\"outlinewidth\": 0, \"ticks\": \"\"}, \"colorscale\": [[0.0, \"#0d0887\"], [0.1111111111111111, \"#46039f\"], [0.2222222222222222, \"#7201a8\"], [0.3333333333333333, \"#9c179e\"], [0.4444444444444444, \"#bd3786\"], [0.5555555555555556, \"#d8576b\"], [0.6666666666666666, \"#ed7953\"], [0.7777777777777778, \"#fb9f3a\"], [0.8888888888888888, \"#fdca26\"], [1.0, \"#f0f921\"]], \"type\": \"heatmap\"}], \"heatmapgl\": [{\"colorbar\": {\"outlinewidth\": 0, \"ticks\": \"\"}, \"colorscale\": [[0.0, \"#0d0887\"], [0.1111111111111111, \"#46039f\"], [0.2222222222222222, \"#7201a8\"], [0.3333333333333333, \"#9c179e\"], [0.4444444444444444, \"#bd3786\"], [0.5555555555555556, \"#d8576b\"], [0.6666666666666666, \"#ed7953\"], [0.7777777777777778, \"#fb9f3a\"], [0.8888888888888888, \"#fdca26\"], [1.0, \"#f0f921\"]], \"type\": \"heatmapgl\"}], \"histogram\": [{\"marker\": {\"colorbar\": {\"outlinewidth\": 0, \"ticks\": \"\"}}, \"type\": \"histogram\"}], \"histogram2d\": [{\"colorbar\": {\"outlinewidth\": 0, \"ticks\": \"\"}, \"colorscale\": [[0.0, \"#0d0887\"], [0.1111111111111111, \"#46039f\"], [0.2222222222222222, \"#7201a8\"], [0.3333333333333333, \"#9c179e\"], [0.4444444444444444, \"#bd3786\"], [0.5555555555555556, \"#d8576b\"], [0.6666666666666666, \"#ed7953\"], [0.7777777777777778, \"#fb9f3a\"], [0.8888888888888888, \"#fdca26\"], [1.0, \"#f0f921\"]], \"type\": \"histogram2d\"}], \"histogram2dcontour\": [{\"colorbar\": {\"outlinewidth\": 0, \"ticks\": \"\"}, \"colorscale\": [[0.0, \"#0d0887\"], [0.1111111111111111, \"#46039f\"], [0.2222222222222222, \"#7201a8\"], [0.3333333333333333, \"#9c179e\"], [0.4444444444444444, \"#bd3786\"], [0.5555555555555556, \"#d8576b\"], [0.6666666666666666, \"#ed7953\"], [0.7777777777777778, \"#fb9f3a\"], [0.8888888888888888, \"#fdca26\"], [1.0, \"#f0f921\"]], \"type\": \"histogram2dcontour\"}], \"mesh3d\": [{\"colorbar\": {\"outlinewidth\": 0, \"ticks\": \"\"}, \"type\": \"mesh3d\"}], \"parcoords\": [{\"line\": {\"colorbar\": {\"outlinewidth\": 0, \"ticks\": \"\"}}, \"type\": \"parcoords\"}], \"pie\": [{\"automargin\": true, \"type\": \"pie\"}], \"scatter\": [{\"marker\": {\"colorbar\": {\"outlinewidth\": 0, \"ticks\": \"\"}}, \"type\": \"scatter\"}], \"scatter3d\": [{\"line\": {\"colorbar\": {\"outlinewidth\": 0, \"ticks\": \"\"}}, \"marker\": {\"colorbar\": {\"outlinewidth\": 0, \"ticks\": \"\"}}, \"type\": \"scatter3d\"}], \"scattercarpet\": [{\"marker\": {\"colorbar\": {\"outlinewidth\": 0, \"ticks\": \"\"}}, \"type\": \"scattercarpet\"}], \"scattergeo\": [{\"marker\": {\"colorbar\": {\"outlinewidth\": 0, \"ticks\": \"\"}}, \"type\": \"scattergeo\"}], \"scattergl\": [{\"marker\": {\"colorbar\": {\"outlinewidth\": 0, \"ticks\": \"\"}}, \"type\": \"scattergl\"}], \"scattermapbox\": [{\"marker\": {\"colorbar\": {\"outlinewidth\": 0, \"ticks\": \"\"}}, \"type\": \"scattermapbox\"}], \"scatterpolar\": [{\"marker\": {\"colorbar\": {\"outlinewidth\": 0, \"ticks\": \"\"}}, \"type\": \"scatterpolar\"}], \"scatterpolargl\": [{\"marker\": {\"colorbar\": {\"outlinewidth\": 0, \"ticks\": \"\"}}, \"type\": \"scatterpolargl\"}], \"scatterternary\": [{\"marker\": {\"colorbar\": {\"outlinewidth\": 0, \"ticks\": \"\"}}, \"type\": \"scatterternary\"}], \"surface\": [{\"colorbar\": {\"outlinewidth\": 0, \"ticks\": \"\"}, \"colorscale\": [[0.0, \"#0d0887\"], [0.1111111111111111, \"#46039f\"], [0.2222222222222222, \"#7201a8\"], [0.3333333333333333, \"#9c179e\"], [0.4444444444444444, \"#bd3786\"], [0.5555555555555556, \"#d8576b\"], [0.6666666666666666, \"#ed7953\"], [0.7777777777777778, \"#fb9f3a\"], [0.8888888888888888, \"#fdca26\"], [1.0, \"#f0f921\"]], \"type\": \"surface\"}], \"table\": [{\"cells\": {\"fill\": {\"color\": \"#EBF0F8\"}, \"line\": {\"color\": \"white\"}}, \"header\": {\"fill\": {\"color\": \"#C8D4E3\"}, \"line\": {\"color\": \"white\"}}, \"type\": \"table\"}]}, \"layout\": {\"annotationdefaults\": {\"arrowcolor\": \"#2a3f5f\", \"arrowhead\": 0, \"arrowwidth\": 1}, \"coloraxis\": {\"colorbar\": {\"outlinewidth\": 0, \"ticks\": \"\"}}, \"colorscale\": {\"diverging\": [[0, \"#8e0152\"], [0.1, \"#c51b7d\"], [0.2, \"#de77ae\"], [0.3, \"#f1b6da\"], [0.4, \"#fde0ef\"], [0.5, \"#f7f7f7\"], [0.6, \"#e6f5d0\"], [0.7, \"#b8e186\"], [0.8, \"#7fbc41\"], [0.9, \"#4d9221\"], [1, \"#276419\"]], \"sequential\": [[0.0, \"#0d0887\"], [0.1111111111111111, \"#46039f\"], [0.2222222222222222, \"#7201a8\"], [0.3333333333333333, \"#9c179e\"], [0.4444444444444444, \"#bd3786\"], [0.5555555555555556, \"#d8576b\"], [0.6666666666666666, \"#ed7953\"], [0.7777777777777778, \"#fb9f3a\"], [0.8888888888888888, \"#fdca26\"], [1.0, \"#f0f921\"]], \"sequentialminus\": [[0.0, \"#0d0887\"], [0.1111111111111111, \"#46039f\"], [0.2222222222222222, \"#7201a8\"], [0.3333333333333333, \"#9c179e\"], [0.4444444444444444, \"#bd3786\"], [0.5555555555555556, \"#d8576b\"], [0.6666666666666666, \"#ed7953\"], [0.7777777777777778, \"#fb9f3a\"], [0.8888888888888888, \"#fdca26\"], [1.0, \"#f0f921\"]]}, \"colorway\": [\"#636efa\", \"#EF553B\", \"#00cc96\", \"#ab63fa\", \"#FFA15A\", \"#19d3f3\", \"#FF6692\", \"#B6E880\", \"#FF97FF\", \"#FECB52\"], \"font\": {\"color\": \"#2a3f5f\"}, \"geo\": {\"bgcolor\": \"white\", \"lakecolor\": \"white\", \"landcolor\": \"#E5ECF6\", \"showlakes\": true, \"showland\": true, \"subunitcolor\": \"white\"}, \"hoverlabel\": {\"align\": \"left\"}, \"hovermode\": \"closest\", \"mapbox\": {\"style\": \"light\"}, \"paper_bgcolor\": \"white\", \"plot_bgcolor\": \"#E5ECF6\", \"polar\": {\"angularaxis\": {\"gridcolor\": \"white\", \"linecolor\": \"white\", \"ticks\": \"\"}, \"bgcolor\": \"#E5ECF6\", \"radialaxis\": {\"gridcolor\": \"white\", \"linecolor\": \"white\", \"ticks\": \"\"}}, \"scene\": {\"xaxis\": {\"backgroundcolor\": \"#E5ECF6\", \"gridcolor\": \"white\", \"gridwidth\": 2, \"linecolor\": \"white\", \"showbackground\": true, \"ticks\": \"\", \"zerolinecolor\": \"white\"}, \"yaxis\": {\"backgroundcolor\": \"#E5ECF6\", \"gridcolor\": \"white\", \"gridwidth\": 2, \"linecolor\": \"white\", \"showbackground\": true, \"ticks\": \"\", \"zerolinecolor\": \"white\"}, \"zaxis\": {\"backgroundcolor\": \"#E5ECF6\", \"gridcolor\": \"white\", \"gridwidth\": 2, \"linecolor\": \"white\", \"showbackground\": true, \"ticks\": \"\", \"zerolinecolor\": \"white\"}}, \"shapedefaults\": {\"line\": {\"color\": \"#2a3f5f\"}}, \"ternary\": {\"aaxis\": {\"gridcolor\": \"white\", \"linecolor\": \"white\", \"ticks\": \"\"}, \"baxis\": {\"gridcolor\": \"white\", \"linecolor\": \"white\", \"ticks\": \"\"}, \"bgcolor\": \"#E5ECF6\", \"caxis\": {\"gridcolor\": \"white\", \"linecolor\": \"white\", \"ticks\": \"\"}}, \"title\": {\"x\": 0.05}, \"xaxis\": {\"automargin\": true, \"gridcolor\": \"white\", \"linecolor\": \"white\", \"ticks\": \"\", \"title\": {\"standoff\": 15}, \"zerolinecolor\": \"white\", \"zerolinewidth\": 2}, \"yaxis\": {\"automargin\": true, \"gridcolor\": \"white\", \"linecolor\": \"white\", \"ticks\": \"\", \"title\": {\"standoff\": 15}, \"zerolinecolor\": \"white\", \"zerolinewidth\": 2}}}, \"xaxis\": {\"anchor\": \"y\", \"domain\": [0.0, 1.0], \"title\": {\"text\": \"Gender\"}}, \"yaxis\": {\"anchor\": \"x\", \"domain\": [0.0, 1.0], \"title\": {\"text\": \"Proportion of Days Dropped\"}}},                        {\"responsive\": true}                    ).then(function(){\n",
       "                            \n",
       "var gd = document.getElementById('76122e7c-99a5-4da9-9ab1-7dd3630dd0cf');\n",
       "var x = new MutationObserver(function (mutations, observer) {{\n",
       "        var display = window.getComputedStyle(gd).display;\n",
       "        if (!display || display === 'none') {{\n",
       "            console.log([gd, 'removed!']);\n",
       "            Plotly.purge(gd);\n",
       "            observer.disconnect();\n",
       "        }}\n",
       "}});\n",
       "\n",
       "// Listen for the removal of the full notebook cells\n",
       "var notebookContainer = gd.closest('#notebook-container');\n",
       "if (notebookContainer) {{\n",
       "    x.observe(notebookContainer, {childList: true});\n",
       "}}\n",
       "\n",
       "// Listen for the clearing of the current output cell\n",
       "var outputEl = gd.closest('.output');\n",
       "if (outputEl) {{\n",
       "    x.observe(outputEl, {childList: true});\n",
       "}}\n",
       "\n",
       "                        })                };                });            </script>        </div>"
      ]
     },
     "metadata": {},
     "output_type": "display_data"
    }
   ],
   "source": [
    "px.bar(drop_prop_gender, x = \"Gender\", y = \"Proportion of Days Dropped\")"
   ]
  },
  {
   "cell_type": "code",
   "execution_count": 164,
   "metadata": {
    "scrolled": true
   },
   "outputs": [
    {
     "data": {
      "application/vnd.plotly.v1+json": {
       "config": {
        "plotlyServerURL": "https://plot.ly"
       },
       "data": [
        {
         "alignmentgroup": "True",
         "hovertemplate": "Shark=%{x}<br>Proportion of Days Dropped=%{y}<extra></extra>",
         "legendgroup": "",
         "marker": {
          "color": "#636efa"
         },
         "name": "",
         "offsetgroup": "",
         "orientation": "v",
         "showlegend": false,
         "textposition": "auto",
         "type": "bar",
         "x": [
          "BT2",
          "BT1",
          "BT5",
          "BT3",
          "BT4",
          "GR3",
          "Chandler",
          "GR2",
          "GR4",
          "Ross",
          "GR5",
          "GR1"
         ],
         "xaxis": "x",
         "y": [
          0.37,
          0.36,
          0.31,
          0.29,
          0.24,
          0.16,
          0.15,
          0.15,
          0.1,
          0.09,
          0.08,
          0.07
         ],
         "yaxis": "y"
        }
       ],
       "layout": {
        "barmode": "relative",
        "legend": {
         "tracegroupgap": 0
        },
        "margin": {
         "t": 60
        },
        "template": {
         "data": {
          "bar": [
           {
            "error_x": {
             "color": "#2a3f5f"
            },
            "error_y": {
             "color": "#2a3f5f"
            },
            "marker": {
             "line": {
              "color": "#E5ECF6",
              "width": 0.5
             }
            },
            "type": "bar"
           }
          ],
          "barpolar": [
           {
            "marker": {
             "line": {
              "color": "#E5ECF6",
              "width": 0.5
             }
            },
            "type": "barpolar"
           }
          ],
          "carpet": [
           {
            "aaxis": {
             "endlinecolor": "#2a3f5f",
             "gridcolor": "white",
             "linecolor": "white",
             "minorgridcolor": "white",
             "startlinecolor": "#2a3f5f"
            },
            "baxis": {
             "endlinecolor": "#2a3f5f",
             "gridcolor": "white",
             "linecolor": "white",
             "minorgridcolor": "white",
             "startlinecolor": "#2a3f5f"
            },
            "type": "carpet"
           }
          ],
          "choropleth": [
           {
            "colorbar": {
             "outlinewidth": 0,
             "ticks": ""
            },
            "type": "choropleth"
           }
          ],
          "contour": [
           {
            "colorbar": {
             "outlinewidth": 0,
             "ticks": ""
            },
            "colorscale": [
             [
              0,
              "#0d0887"
             ],
             [
              0.1111111111111111,
              "#46039f"
             ],
             [
              0.2222222222222222,
              "#7201a8"
             ],
             [
              0.3333333333333333,
              "#9c179e"
             ],
             [
              0.4444444444444444,
              "#bd3786"
             ],
             [
              0.5555555555555556,
              "#d8576b"
             ],
             [
              0.6666666666666666,
              "#ed7953"
             ],
             [
              0.7777777777777778,
              "#fb9f3a"
             ],
             [
              0.8888888888888888,
              "#fdca26"
             ],
             [
              1,
              "#f0f921"
             ]
            ],
            "type": "contour"
           }
          ],
          "contourcarpet": [
           {
            "colorbar": {
             "outlinewidth": 0,
             "ticks": ""
            },
            "type": "contourcarpet"
           }
          ],
          "heatmap": [
           {
            "colorbar": {
             "outlinewidth": 0,
             "ticks": ""
            },
            "colorscale": [
             [
              0,
              "#0d0887"
             ],
             [
              0.1111111111111111,
              "#46039f"
             ],
             [
              0.2222222222222222,
              "#7201a8"
             ],
             [
              0.3333333333333333,
              "#9c179e"
             ],
             [
              0.4444444444444444,
              "#bd3786"
             ],
             [
              0.5555555555555556,
              "#d8576b"
             ],
             [
              0.6666666666666666,
              "#ed7953"
             ],
             [
              0.7777777777777778,
              "#fb9f3a"
             ],
             [
              0.8888888888888888,
              "#fdca26"
             ],
             [
              1,
              "#f0f921"
             ]
            ],
            "type": "heatmap"
           }
          ],
          "heatmapgl": [
           {
            "colorbar": {
             "outlinewidth": 0,
             "ticks": ""
            },
            "colorscale": [
             [
              0,
              "#0d0887"
             ],
             [
              0.1111111111111111,
              "#46039f"
             ],
             [
              0.2222222222222222,
              "#7201a8"
             ],
             [
              0.3333333333333333,
              "#9c179e"
             ],
             [
              0.4444444444444444,
              "#bd3786"
             ],
             [
              0.5555555555555556,
              "#d8576b"
             ],
             [
              0.6666666666666666,
              "#ed7953"
             ],
             [
              0.7777777777777778,
              "#fb9f3a"
             ],
             [
              0.8888888888888888,
              "#fdca26"
             ],
             [
              1,
              "#f0f921"
             ]
            ],
            "type": "heatmapgl"
           }
          ],
          "histogram": [
           {
            "marker": {
             "colorbar": {
              "outlinewidth": 0,
              "ticks": ""
             }
            },
            "type": "histogram"
           }
          ],
          "histogram2d": [
           {
            "colorbar": {
             "outlinewidth": 0,
             "ticks": ""
            },
            "colorscale": [
             [
              0,
              "#0d0887"
             ],
             [
              0.1111111111111111,
              "#46039f"
             ],
             [
              0.2222222222222222,
              "#7201a8"
             ],
             [
              0.3333333333333333,
              "#9c179e"
             ],
             [
              0.4444444444444444,
              "#bd3786"
             ],
             [
              0.5555555555555556,
              "#d8576b"
             ],
             [
              0.6666666666666666,
              "#ed7953"
             ],
             [
              0.7777777777777778,
              "#fb9f3a"
             ],
             [
              0.8888888888888888,
              "#fdca26"
             ],
             [
              1,
              "#f0f921"
             ]
            ],
            "type": "histogram2d"
           }
          ],
          "histogram2dcontour": [
           {
            "colorbar": {
             "outlinewidth": 0,
             "ticks": ""
            },
            "colorscale": [
             [
              0,
              "#0d0887"
             ],
             [
              0.1111111111111111,
              "#46039f"
             ],
             [
              0.2222222222222222,
              "#7201a8"
             ],
             [
              0.3333333333333333,
              "#9c179e"
             ],
             [
              0.4444444444444444,
              "#bd3786"
             ],
             [
              0.5555555555555556,
              "#d8576b"
             ],
             [
              0.6666666666666666,
              "#ed7953"
             ],
             [
              0.7777777777777778,
              "#fb9f3a"
             ],
             [
              0.8888888888888888,
              "#fdca26"
             ],
             [
              1,
              "#f0f921"
             ]
            ],
            "type": "histogram2dcontour"
           }
          ],
          "mesh3d": [
           {
            "colorbar": {
             "outlinewidth": 0,
             "ticks": ""
            },
            "type": "mesh3d"
           }
          ],
          "parcoords": [
           {
            "line": {
             "colorbar": {
              "outlinewidth": 0,
              "ticks": ""
             }
            },
            "type": "parcoords"
           }
          ],
          "pie": [
           {
            "automargin": true,
            "type": "pie"
           }
          ],
          "scatter": [
           {
            "marker": {
             "colorbar": {
              "outlinewidth": 0,
              "ticks": ""
             }
            },
            "type": "scatter"
           }
          ],
          "scatter3d": [
           {
            "line": {
             "colorbar": {
              "outlinewidth": 0,
              "ticks": ""
             }
            },
            "marker": {
             "colorbar": {
              "outlinewidth": 0,
              "ticks": ""
             }
            },
            "type": "scatter3d"
           }
          ],
          "scattercarpet": [
           {
            "marker": {
             "colorbar": {
              "outlinewidth": 0,
              "ticks": ""
             }
            },
            "type": "scattercarpet"
           }
          ],
          "scattergeo": [
           {
            "marker": {
             "colorbar": {
              "outlinewidth": 0,
              "ticks": ""
             }
            },
            "type": "scattergeo"
           }
          ],
          "scattergl": [
           {
            "marker": {
             "colorbar": {
              "outlinewidth": 0,
              "ticks": ""
             }
            },
            "type": "scattergl"
           }
          ],
          "scattermapbox": [
           {
            "marker": {
             "colorbar": {
              "outlinewidth": 0,
              "ticks": ""
             }
            },
            "type": "scattermapbox"
           }
          ],
          "scatterpolar": [
           {
            "marker": {
             "colorbar": {
              "outlinewidth": 0,
              "ticks": ""
             }
            },
            "type": "scatterpolar"
           }
          ],
          "scatterpolargl": [
           {
            "marker": {
             "colorbar": {
              "outlinewidth": 0,
              "ticks": ""
             }
            },
            "type": "scatterpolargl"
           }
          ],
          "scatterternary": [
           {
            "marker": {
             "colorbar": {
              "outlinewidth": 0,
              "ticks": ""
             }
            },
            "type": "scatterternary"
           }
          ],
          "surface": [
           {
            "colorbar": {
             "outlinewidth": 0,
             "ticks": ""
            },
            "colorscale": [
             [
              0,
              "#0d0887"
             ],
             [
              0.1111111111111111,
              "#46039f"
             ],
             [
              0.2222222222222222,
              "#7201a8"
             ],
             [
              0.3333333333333333,
              "#9c179e"
             ],
             [
              0.4444444444444444,
              "#bd3786"
             ],
             [
              0.5555555555555556,
              "#d8576b"
             ],
             [
              0.6666666666666666,
              "#ed7953"
             ],
             [
              0.7777777777777778,
              "#fb9f3a"
             ],
             [
              0.8888888888888888,
              "#fdca26"
             ],
             [
              1,
              "#f0f921"
             ]
            ],
            "type": "surface"
           }
          ],
          "table": [
           {
            "cells": {
             "fill": {
              "color": "#EBF0F8"
             },
             "line": {
              "color": "white"
             }
            },
            "header": {
             "fill": {
              "color": "#C8D4E3"
             },
             "line": {
              "color": "white"
             }
            },
            "type": "table"
           }
          ]
         },
         "layout": {
          "annotationdefaults": {
           "arrowcolor": "#2a3f5f",
           "arrowhead": 0,
           "arrowwidth": 1
          },
          "coloraxis": {
           "colorbar": {
            "outlinewidth": 0,
            "ticks": ""
           }
          },
          "colorscale": {
           "diverging": [
            [
             0,
             "#8e0152"
            ],
            [
             0.1,
             "#c51b7d"
            ],
            [
             0.2,
             "#de77ae"
            ],
            [
             0.3,
             "#f1b6da"
            ],
            [
             0.4,
             "#fde0ef"
            ],
            [
             0.5,
             "#f7f7f7"
            ],
            [
             0.6,
             "#e6f5d0"
            ],
            [
             0.7,
             "#b8e186"
            ],
            [
             0.8,
             "#7fbc41"
            ],
            [
             0.9,
             "#4d9221"
            ],
            [
             1,
             "#276419"
            ]
           ],
           "sequential": [
            [
             0,
             "#0d0887"
            ],
            [
             0.1111111111111111,
             "#46039f"
            ],
            [
             0.2222222222222222,
             "#7201a8"
            ],
            [
             0.3333333333333333,
             "#9c179e"
            ],
            [
             0.4444444444444444,
             "#bd3786"
            ],
            [
             0.5555555555555556,
             "#d8576b"
            ],
            [
             0.6666666666666666,
             "#ed7953"
            ],
            [
             0.7777777777777778,
             "#fb9f3a"
            ],
            [
             0.8888888888888888,
             "#fdca26"
            ],
            [
             1,
             "#f0f921"
            ]
           ],
           "sequentialminus": [
            [
             0,
             "#0d0887"
            ],
            [
             0.1111111111111111,
             "#46039f"
            ],
            [
             0.2222222222222222,
             "#7201a8"
            ],
            [
             0.3333333333333333,
             "#9c179e"
            ],
            [
             0.4444444444444444,
             "#bd3786"
            ],
            [
             0.5555555555555556,
             "#d8576b"
            ],
            [
             0.6666666666666666,
             "#ed7953"
            ],
            [
             0.7777777777777778,
             "#fb9f3a"
            ],
            [
             0.8888888888888888,
             "#fdca26"
            ],
            [
             1,
             "#f0f921"
            ]
           ]
          },
          "colorway": [
           "#636efa",
           "#EF553B",
           "#00cc96",
           "#ab63fa",
           "#FFA15A",
           "#19d3f3",
           "#FF6692",
           "#B6E880",
           "#FF97FF",
           "#FECB52"
          ],
          "font": {
           "color": "#2a3f5f"
          },
          "geo": {
           "bgcolor": "white",
           "lakecolor": "white",
           "landcolor": "#E5ECF6",
           "showlakes": true,
           "showland": true,
           "subunitcolor": "white"
          },
          "hoverlabel": {
           "align": "left"
          },
          "hovermode": "closest",
          "mapbox": {
           "style": "light"
          },
          "paper_bgcolor": "white",
          "plot_bgcolor": "#E5ECF6",
          "polar": {
           "angularaxis": {
            "gridcolor": "white",
            "linecolor": "white",
            "ticks": ""
           },
           "bgcolor": "#E5ECF6",
           "radialaxis": {
            "gridcolor": "white",
            "linecolor": "white",
            "ticks": ""
           }
          },
          "scene": {
           "xaxis": {
            "backgroundcolor": "#E5ECF6",
            "gridcolor": "white",
            "gridwidth": 2,
            "linecolor": "white",
            "showbackground": true,
            "ticks": "",
            "zerolinecolor": "white"
           },
           "yaxis": {
            "backgroundcolor": "#E5ECF6",
            "gridcolor": "white",
            "gridwidth": 2,
            "linecolor": "white",
            "showbackground": true,
            "ticks": "",
            "zerolinecolor": "white"
           },
           "zaxis": {
            "backgroundcolor": "#E5ECF6",
            "gridcolor": "white",
            "gridwidth": 2,
            "linecolor": "white",
            "showbackground": true,
            "ticks": "",
            "zerolinecolor": "white"
           }
          },
          "shapedefaults": {
           "line": {
            "color": "#2a3f5f"
           }
          },
          "ternary": {
           "aaxis": {
            "gridcolor": "white",
            "linecolor": "white",
            "ticks": ""
           },
           "baxis": {
            "gridcolor": "white",
            "linecolor": "white",
            "ticks": ""
           },
           "bgcolor": "#E5ECF6",
           "caxis": {
            "gridcolor": "white",
            "linecolor": "white",
            "ticks": ""
           }
          },
          "title": {
           "x": 0.05
          },
          "xaxis": {
           "automargin": true,
           "gridcolor": "white",
           "linecolor": "white",
           "ticks": "",
           "title": {
            "standoff": 15
           },
           "zerolinecolor": "white",
           "zerolinewidth": 2
          },
          "yaxis": {
           "automargin": true,
           "gridcolor": "white",
           "linecolor": "white",
           "ticks": "",
           "title": {
            "standoff": 15
           },
           "zerolinecolor": "white",
           "zerolinewidth": 2
          }
         }
        },
        "xaxis": {
         "anchor": "y",
         "domain": [
          0,
          1
         ],
         "title": {
          "text": "Shark"
         }
        },
        "yaxis": {
         "anchor": "x",
         "domain": [
          0,
          1
         ],
         "title": {
          "text": "Proportion of Days Dropped"
         }
        }
       }
      },
      "text/html": [
       "<div>                            <div id=\"8b93ddfd-ed0a-4911-b94d-0047302cc297\" class=\"plotly-graph-div\" style=\"height:525px; width:100%;\"></div>            <script type=\"text/javascript\">                require([\"plotly\"], function(Plotly) {                    window.PLOTLYENV=window.PLOTLYENV || {};                                    if (document.getElementById(\"8b93ddfd-ed0a-4911-b94d-0047302cc297\")) {                    Plotly.newPlot(                        \"8b93ddfd-ed0a-4911-b94d-0047302cc297\",                        [{\"alignmentgroup\": \"True\", \"hovertemplate\": \"Shark=%{x}<br>Proportion of Days Dropped=%{y}<extra></extra>\", \"legendgroup\": \"\", \"marker\": {\"color\": \"#636efa\"}, \"name\": \"\", \"offsetgroup\": \"\", \"orientation\": \"v\", \"showlegend\": false, \"textposition\": \"auto\", \"type\": \"bar\", \"x\": [\"BT2\", \"BT1\", \"BT5\", \"BT3\", \"BT4\", \"GR3\", \"Chandler\", \"GR2\", \"GR4\", \"Ross\", \"GR5\", \"GR1\"], \"xaxis\": \"x\", \"y\": [0.37, 0.36, 0.31, 0.29, 0.24, 0.16, 0.15, 0.15, 0.1, 0.09, 0.08, 0.07], \"yaxis\": \"y\"}],                        {\"barmode\": \"relative\", \"legend\": {\"tracegroupgap\": 0}, \"margin\": {\"t\": 60}, \"template\": {\"data\": {\"bar\": [{\"error_x\": {\"color\": \"#2a3f5f\"}, \"error_y\": {\"color\": \"#2a3f5f\"}, \"marker\": {\"line\": {\"color\": \"#E5ECF6\", \"width\": 0.5}}, \"type\": \"bar\"}], \"barpolar\": [{\"marker\": {\"line\": {\"color\": \"#E5ECF6\", \"width\": 0.5}}, \"type\": \"barpolar\"}], \"carpet\": [{\"aaxis\": {\"endlinecolor\": \"#2a3f5f\", \"gridcolor\": \"white\", \"linecolor\": \"white\", \"minorgridcolor\": \"white\", \"startlinecolor\": \"#2a3f5f\"}, \"baxis\": {\"endlinecolor\": \"#2a3f5f\", \"gridcolor\": \"white\", \"linecolor\": \"white\", \"minorgridcolor\": \"white\", \"startlinecolor\": \"#2a3f5f\"}, \"type\": \"carpet\"}], \"choropleth\": [{\"colorbar\": {\"outlinewidth\": 0, \"ticks\": \"\"}, \"type\": \"choropleth\"}], \"contour\": [{\"colorbar\": {\"outlinewidth\": 0, \"ticks\": \"\"}, \"colorscale\": [[0.0, \"#0d0887\"], [0.1111111111111111, \"#46039f\"], [0.2222222222222222, \"#7201a8\"], [0.3333333333333333, \"#9c179e\"], [0.4444444444444444, \"#bd3786\"], [0.5555555555555556, \"#d8576b\"], [0.6666666666666666, \"#ed7953\"], [0.7777777777777778, \"#fb9f3a\"], [0.8888888888888888, \"#fdca26\"], [1.0, \"#f0f921\"]], \"type\": \"contour\"}], \"contourcarpet\": [{\"colorbar\": {\"outlinewidth\": 0, \"ticks\": \"\"}, \"type\": \"contourcarpet\"}], \"heatmap\": [{\"colorbar\": {\"outlinewidth\": 0, \"ticks\": \"\"}, \"colorscale\": [[0.0, \"#0d0887\"], [0.1111111111111111, \"#46039f\"], [0.2222222222222222, \"#7201a8\"], [0.3333333333333333, \"#9c179e\"], [0.4444444444444444, \"#bd3786\"], [0.5555555555555556, \"#d8576b\"], [0.6666666666666666, \"#ed7953\"], [0.7777777777777778, \"#fb9f3a\"], [0.8888888888888888, \"#fdca26\"], [1.0, \"#f0f921\"]], \"type\": \"heatmap\"}], \"heatmapgl\": [{\"colorbar\": {\"outlinewidth\": 0, \"ticks\": \"\"}, \"colorscale\": [[0.0, \"#0d0887\"], [0.1111111111111111, \"#46039f\"], [0.2222222222222222, \"#7201a8\"], [0.3333333333333333, \"#9c179e\"], [0.4444444444444444, \"#bd3786\"], [0.5555555555555556, \"#d8576b\"], [0.6666666666666666, \"#ed7953\"], [0.7777777777777778, \"#fb9f3a\"], [0.8888888888888888, \"#fdca26\"], [1.0, \"#f0f921\"]], \"type\": \"heatmapgl\"}], \"histogram\": [{\"marker\": {\"colorbar\": {\"outlinewidth\": 0, \"ticks\": \"\"}}, \"type\": \"histogram\"}], \"histogram2d\": [{\"colorbar\": {\"outlinewidth\": 0, \"ticks\": \"\"}, \"colorscale\": [[0.0, \"#0d0887\"], [0.1111111111111111, \"#46039f\"], [0.2222222222222222, \"#7201a8\"], [0.3333333333333333, \"#9c179e\"], [0.4444444444444444, \"#bd3786\"], [0.5555555555555556, \"#d8576b\"], [0.6666666666666666, \"#ed7953\"], [0.7777777777777778, \"#fb9f3a\"], [0.8888888888888888, \"#fdca26\"], [1.0, \"#f0f921\"]], \"type\": \"histogram2d\"}], \"histogram2dcontour\": [{\"colorbar\": {\"outlinewidth\": 0, \"ticks\": \"\"}, \"colorscale\": [[0.0, \"#0d0887\"], [0.1111111111111111, \"#46039f\"], [0.2222222222222222, \"#7201a8\"], [0.3333333333333333, \"#9c179e\"], [0.4444444444444444, \"#bd3786\"], [0.5555555555555556, \"#d8576b\"], [0.6666666666666666, \"#ed7953\"], [0.7777777777777778, \"#fb9f3a\"], [0.8888888888888888, \"#fdca26\"], [1.0, \"#f0f921\"]], \"type\": \"histogram2dcontour\"}], \"mesh3d\": [{\"colorbar\": {\"outlinewidth\": 0, \"ticks\": \"\"}, \"type\": \"mesh3d\"}], \"parcoords\": [{\"line\": {\"colorbar\": {\"outlinewidth\": 0, \"ticks\": \"\"}}, \"type\": \"parcoords\"}], \"pie\": [{\"automargin\": true, \"type\": \"pie\"}], \"scatter\": [{\"marker\": {\"colorbar\": {\"outlinewidth\": 0, \"ticks\": \"\"}}, \"type\": \"scatter\"}], \"scatter3d\": [{\"line\": {\"colorbar\": {\"outlinewidth\": 0, \"ticks\": \"\"}}, \"marker\": {\"colorbar\": {\"outlinewidth\": 0, \"ticks\": \"\"}}, \"type\": \"scatter3d\"}], \"scattercarpet\": [{\"marker\": {\"colorbar\": {\"outlinewidth\": 0, \"ticks\": \"\"}}, \"type\": \"scattercarpet\"}], \"scattergeo\": [{\"marker\": {\"colorbar\": {\"outlinewidth\": 0, \"ticks\": \"\"}}, \"type\": \"scattergeo\"}], \"scattergl\": [{\"marker\": {\"colorbar\": {\"outlinewidth\": 0, \"ticks\": \"\"}}, \"type\": \"scattergl\"}], \"scattermapbox\": [{\"marker\": {\"colorbar\": {\"outlinewidth\": 0, \"ticks\": \"\"}}, \"type\": \"scattermapbox\"}], \"scatterpolar\": [{\"marker\": {\"colorbar\": {\"outlinewidth\": 0, \"ticks\": \"\"}}, \"type\": \"scatterpolar\"}], \"scatterpolargl\": [{\"marker\": {\"colorbar\": {\"outlinewidth\": 0, \"ticks\": \"\"}}, \"type\": \"scatterpolargl\"}], \"scatterternary\": [{\"marker\": {\"colorbar\": {\"outlinewidth\": 0, \"ticks\": \"\"}}, \"type\": \"scatterternary\"}], \"surface\": [{\"colorbar\": {\"outlinewidth\": 0, \"ticks\": \"\"}, \"colorscale\": [[0.0, \"#0d0887\"], [0.1111111111111111, \"#46039f\"], [0.2222222222222222, \"#7201a8\"], [0.3333333333333333, \"#9c179e\"], [0.4444444444444444, \"#bd3786\"], [0.5555555555555556, \"#d8576b\"], [0.6666666666666666, \"#ed7953\"], [0.7777777777777778, \"#fb9f3a\"], [0.8888888888888888, \"#fdca26\"], [1.0, \"#f0f921\"]], \"type\": \"surface\"}], \"table\": [{\"cells\": {\"fill\": {\"color\": \"#EBF0F8\"}, \"line\": {\"color\": \"white\"}}, \"header\": {\"fill\": {\"color\": \"#C8D4E3\"}, \"line\": {\"color\": \"white\"}}, \"type\": \"table\"}]}, \"layout\": {\"annotationdefaults\": {\"arrowcolor\": \"#2a3f5f\", \"arrowhead\": 0, \"arrowwidth\": 1}, \"coloraxis\": {\"colorbar\": {\"outlinewidth\": 0, \"ticks\": \"\"}}, \"colorscale\": {\"diverging\": [[0, \"#8e0152\"], [0.1, \"#c51b7d\"], [0.2, \"#de77ae\"], [0.3, \"#f1b6da\"], [0.4, \"#fde0ef\"], [0.5, \"#f7f7f7\"], [0.6, \"#e6f5d0\"], [0.7, \"#b8e186\"], [0.8, \"#7fbc41\"], [0.9, \"#4d9221\"], [1, \"#276419\"]], \"sequential\": [[0.0, \"#0d0887\"], [0.1111111111111111, \"#46039f\"], [0.2222222222222222, \"#7201a8\"], [0.3333333333333333, \"#9c179e\"], [0.4444444444444444, \"#bd3786\"], [0.5555555555555556, \"#d8576b\"], [0.6666666666666666, \"#ed7953\"], [0.7777777777777778, \"#fb9f3a\"], [0.8888888888888888, \"#fdca26\"], [1.0, \"#f0f921\"]], \"sequentialminus\": [[0.0, \"#0d0887\"], [0.1111111111111111, \"#46039f\"], [0.2222222222222222, \"#7201a8\"], [0.3333333333333333, \"#9c179e\"], [0.4444444444444444, \"#bd3786\"], [0.5555555555555556, \"#d8576b\"], [0.6666666666666666, \"#ed7953\"], [0.7777777777777778, \"#fb9f3a\"], [0.8888888888888888, \"#fdca26\"], [1.0, \"#f0f921\"]]}, \"colorway\": [\"#636efa\", \"#EF553B\", \"#00cc96\", \"#ab63fa\", \"#FFA15A\", \"#19d3f3\", \"#FF6692\", \"#B6E880\", \"#FF97FF\", \"#FECB52\"], \"font\": {\"color\": \"#2a3f5f\"}, \"geo\": {\"bgcolor\": \"white\", \"lakecolor\": \"white\", \"landcolor\": \"#E5ECF6\", \"showlakes\": true, \"showland\": true, \"subunitcolor\": \"white\"}, \"hoverlabel\": {\"align\": \"left\"}, \"hovermode\": \"closest\", \"mapbox\": {\"style\": \"light\"}, \"paper_bgcolor\": \"white\", \"plot_bgcolor\": \"#E5ECF6\", \"polar\": {\"angularaxis\": {\"gridcolor\": \"white\", \"linecolor\": \"white\", \"ticks\": \"\"}, \"bgcolor\": \"#E5ECF6\", \"radialaxis\": {\"gridcolor\": \"white\", \"linecolor\": \"white\", \"ticks\": \"\"}}, \"scene\": {\"xaxis\": {\"backgroundcolor\": \"#E5ECF6\", \"gridcolor\": \"white\", \"gridwidth\": 2, \"linecolor\": \"white\", \"showbackground\": true, \"ticks\": \"\", \"zerolinecolor\": \"white\"}, \"yaxis\": {\"backgroundcolor\": \"#E5ECF6\", \"gridcolor\": \"white\", \"gridwidth\": 2, \"linecolor\": \"white\", \"showbackground\": true, \"ticks\": \"\", \"zerolinecolor\": \"white\"}, \"zaxis\": {\"backgroundcolor\": \"#E5ECF6\", \"gridcolor\": \"white\", \"gridwidth\": 2, \"linecolor\": \"white\", \"showbackground\": true, \"ticks\": \"\", \"zerolinecolor\": \"white\"}}, \"shapedefaults\": {\"line\": {\"color\": \"#2a3f5f\"}}, \"ternary\": {\"aaxis\": {\"gridcolor\": \"white\", \"linecolor\": \"white\", \"ticks\": \"\"}, \"baxis\": {\"gridcolor\": \"white\", \"linecolor\": \"white\", \"ticks\": \"\"}, \"bgcolor\": \"#E5ECF6\", \"caxis\": {\"gridcolor\": \"white\", \"linecolor\": \"white\", \"ticks\": \"\"}}, \"title\": {\"x\": 0.05}, \"xaxis\": {\"automargin\": true, \"gridcolor\": \"white\", \"linecolor\": \"white\", \"ticks\": \"\", \"title\": {\"standoff\": 15}, \"zerolinecolor\": \"white\", \"zerolinewidth\": 2}, \"yaxis\": {\"automargin\": true, \"gridcolor\": \"white\", \"linecolor\": \"white\", \"ticks\": \"\", \"title\": {\"standoff\": 15}, \"zerolinecolor\": \"white\", \"zerolinewidth\": 2}}}, \"xaxis\": {\"anchor\": \"y\", \"domain\": [0.0, 1.0], \"title\": {\"text\": \"Shark\"}}, \"yaxis\": {\"anchor\": \"x\", \"domain\": [0.0, 1.0], \"title\": {\"text\": \"Proportion of Days Dropped\"}}},                        {\"responsive\": true}                    ).then(function(){\n",
       "                            \n",
       "var gd = document.getElementById('8b93ddfd-ed0a-4911-b94d-0047302cc297');\n",
       "var x = new MutationObserver(function (mutations, observer) {{\n",
       "        var display = window.getComputedStyle(gd).display;\n",
       "        if (!display || display === 'none') {{\n",
       "            console.log([gd, 'removed!']);\n",
       "            Plotly.purge(gd);\n",
       "            observer.disconnect();\n",
       "        }}\n",
       "}});\n",
       "\n",
       "// Listen for the removal of the full notebook cells\n",
       "var notebookContainer = gd.closest('#notebook-container');\n",
       "if (notebookContainer) {{\n",
       "    x.observe(notebookContainer, {childList: true});\n",
       "}}\n",
       "\n",
       "// Listen for the clearing of the current output cell\n",
       "var outputEl = gd.closest('.output');\n",
       "if (outputEl) {{\n",
       "    x.observe(outputEl, {childList: true});\n",
       "}}\n",
       "\n",
       "                        })                };                });            </script>        </div>"
      ]
     },
     "metadata": {},
     "output_type": "display_data"
    }
   ],
   "source": [
    "px.bar(drop_prop_sharks, x = \"Shark\", y = \"Proportion of Days Dropped\")"
   ]
  },
  {
   "cell_type": "markdown",
   "metadata": {},
   "source": [
    "## Here is how long the sharks are fasting"
   ]
  },
  {
   "cell_type": "code",
   "execution_count": 208,
   "metadata": {},
   "outputs": [
    {
     "data": {
      "text/html": [
       "<div>\n",
       "<style scoped>\n",
       "    .dataframe tbody tr th:only-of-type {\n",
       "        vertical-align: middle;\n",
       "    }\n",
       "\n",
       "    .dataframe tbody tr th {\n",
       "        vertical-align: top;\n",
       "    }\n",
       "\n",
       "    .dataframe thead th {\n",
       "        text-align: right;\n",
       "    }\n",
       "</style>\n",
       "<table border=\"1\" class=\"dataframe\">\n",
       "  <thead>\n",
       "    <tr style=\"text-align: right;\">\n",
       "      <th></th>\n",
       "      <th>Ross</th>\n",
       "      <th>Chandler</th>\n",
       "      <th>BT1</th>\n",
       "      <th>BT2</th>\n",
       "      <th>BT3</th>\n",
       "      <th>BT4</th>\n",
       "      <th>BT5</th>\n",
       "      <th>GR1</th>\n",
       "      <th>GR2</th>\n",
       "      <th>GR3</th>\n",
       "      <th>GR4</th>\n",
       "      <th>GR5</th>\n",
       "    </tr>\n",
       "  </thead>\n",
       "  <tbody>\n",
       "    <tr>\n",
       "      <th>1</th>\n",
       "      <td>3.0</td>\n",
       "      <td>5.0</td>\n",
       "      <td>5.0</td>\n",
       "      <td>2.0</td>\n",
       "      <td>5.0</td>\n",
       "      <td>5.0</td>\n",
       "      <td>7.0</td>\n",
       "      <td>5.0</td>\n",
       "      <td>2.0</td>\n",
       "      <td>4.0</td>\n",
       "      <td>4.0</td>\n",
       "      <td>9.0</td>\n",
       "    </tr>\n",
       "    <tr>\n",
       "      <th>2</th>\n",
       "      <td>2.0</td>\n",
       "      <td>2.0</td>\n",
       "      <td>4.0</td>\n",
       "      <td>3.0</td>\n",
       "      <td>2.0</td>\n",
       "      <td>2.0</td>\n",
       "      <td>2.0</td>\n",
       "      <td>5.0</td>\n",
       "      <td>7.0</td>\n",
       "      <td>3.0</td>\n",
       "      <td>3.0</td>\n",
       "      <td>2.0</td>\n",
       "    </tr>\n",
       "    <tr>\n",
       "      <th>3</th>\n",
       "      <td>2.0</td>\n",
       "      <td>5.0</td>\n",
       "      <td>3.0</td>\n",
       "      <td>2.0</td>\n",
       "      <td>5.0</td>\n",
       "      <td>2.0</td>\n",
       "      <td>3.0</td>\n",
       "      <td>4.0</td>\n",
       "      <td>2.0</td>\n",
       "      <td>2.0</td>\n",
       "      <td>2.0</td>\n",
       "      <td>7.0</td>\n",
       "    </tr>\n",
       "    <tr>\n",
       "      <th>4</th>\n",
       "      <td>3.0</td>\n",
       "      <td>2.0</td>\n",
       "      <td>2.0</td>\n",
       "      <td>2.0</td>\n",
       "      <td>2.0</td>\n",
       "      <td>3.0</td>\n",
       "      <td>2.0</td>\n",
       "      <td>7.0</td>\n",
       "      <td>3.0</td>\n",
       "      <td>5.0</td>\n",
       "      <td>5.0</td>\n",
       "      <td>3.0</td>\n",
       "    </tr>\n",
       "    <tr>\n",
       "      <th>5</th>\n",
       "      <td>2.0</td>\n",
       "      <td>2.0</td>\n",
       "      <td>7.0</td>\n",
       "      <td>3.0</td>\n",
       "      <td>2.0</td>\n",
       "      <td>4.0</td>\n",
       "      <td>2.0</td>\n",
       "      <td>7.0</td>\n",
       "      <td>4.0</td>\n",
       "      <td>2.0</td>\n",
       "      <td>4.0</td>\n",
       "      <td>2.0</td>\n",
       "    </tr>\n",
       "    <tr>\n",
       "      <th>...</th>\n",
       "      <td>...</td>\n",
       "      <td>...</td>\n",
       "      <td>...</td>\n",
       "      <td>...</td>\n",
       "      <td>...</td>\n",
       "      <td>...</td>\n",
       "      <td>...</td>\n",
       "      <td>...</td>\n",
       "      <td>...</td>\n",
       "      <td>...</td>\n",
       "      <td>...</td>\n",
       "      <td>...</td>\n",
       "    </tr>\n",
       "    <tr>\n",
       "      <th>372</th>\n",
       "      <td>3.0</td>\n",
       "      <td>NaN</td>\n",
       "      <td>NaN</td>\n",
       "      <td>NaN</td>\n",
       "      <td>NaN</td>\n",
       "      <td>NaN</td>\n",
       "      <td>NaN</td>\n",
       "      <td>NaN</td>\n",
       "      <td>NaN</td>\n",
       "      <td>NaN</td>\n",
       "      <td>NaN</td>\n",
       "      <td>NaN</td>\n",
       "    </tr>\n",
       "    <tr>\n",
       "      <th>373</th>\n",
       "      <td>3.0</td>\n",
       "      <td>NaN</td>\n",
       "      <td>NaN</td>\n",
       "      <td>NaN</td>\n",
       "      <td>NaN</td>\n",
       "      <td>NaN</td>\n",
       "      <td>NaN</td>\n",
       "      <td>NaN</td>\n",
       "      <td>NaN</td>\n",
       "      <td>NaN</td>\n",
       "      <td>NaN</td>\n",
       "      <td>NaN</td>\n",
       "    </tr>\n",
       "    <tr>\n",
       "      <th>374</th>\n",
       "      <td>2.0</td>\n",
       "      <td>NaN</td>\n",
       "      <td>NaN</td>\n",
       "      <td>NaN</td>\n",
       "      <td>NaN</td>\n",
       "      <td>NaN</td>\n",
       "      <td>NaN</td>\n",
       "      <td>NaN</td>\n",
       "      <td>NaN</td>\n",
       "      <td>NaN</td>\n",
       "      <td>NaN</td>\n",
       "      <td>NaN</td>\n",
       "    </tr>\n",
       "    <tr>\n",
       "      <th>375</th>\n",
       "      <td>5.0</td>\n",
       "      <td>NaN</td>\n",
       "      <td>NaN</td>\n",
       "      <td>NaN</td>\n",
       "      <td>NaN</td>\n",
       "      <td>NaN</td>\n",
       "      <td>NaN</td>\n",
       "      <td>NaN</td>\n",
       "      <td>NaN</td>\n",
       "      <td>NaN</td>\n",
       "      <td>NaN</td>\n",
       "      <td>NaN</td>\n",
       "    </tr>\n",
       "    <tr>\n",
       "      <th>376</th>\n",
       "      <td>2.0</td>\n",
       "      <td>NaN</td>\n",
       "      <td>NaN</td>\n",
       "      <td>NaN</td>\n",
       "      <td>NaN</td>\n",
       "      <td>NaN</td>\n",
       "      <td>NaN</td>\n",
       "      <td>NaN</td>\n",
       "      <td>NaN</td>\n",
       "      <td>NaN</td>\n",
       "      <td>NaN</td>\n",
       "      <td>NaN</td>\n",
       "    </tr>\n",
       "  </tbody>\n",
       "</table>\n",
       "<p>376 rows × 12 columns</p>\n",
       "</div>"
      ],
      "text/plain": [
       "     Ross  Chandler  BT1  BT2  BT3  BT4  BT5  GR1  GR2  GR3  GR4  GR5\n",
       "1     3.0       5.0  5.0  2.0  5.0  5.0  7.0  5.0  2.0  4.0  4.0  9.0\n",
       "2     2.0       2.0  4.0  3.0  2.0  2.0  2.0  5.0  7.0  3.0  3.0  2.0\n",
       "3     2.0       5.0  3.0  2.0  5.0  2.0  3.0  4.0  2.0  2.0  2.0  7.0\n",
       "4     3.0       2.0  2.0  2.0  2.0  3.0  2.0  7.0  3.0  5.0  5.0  3.0\n",
       "5     2.0       2.0  7.0  3.0  2.0  4.0  2.0  7.0  4.0  2.0  4.0  2.0\n",
       "..    ...       ...  ...  ...  ...  ...  ...  ...  ...  ...  ...  ...\n",
       "372   3.0       NaN  NaN  NaN  NaN  NaN  NaN  NaN  NaN  NaN  NaN  NaN\n",
       "373   3.0       NaN  NaN  NaN  NaN  NaN  NaN  NaN  NaN  NaN  NaN  NaN\n",
       "374   2.0       NaN  NaN  NaN  NaN  NaN  NaN  NaN  NaN  NaN  NaN  NaN\n",
       "375   5.0       NaN  NaN  NaN  NaN  NaN  NaN  NaN  NaN  NaN  NaN  NaN\n",
       "376   2.0       NaN  NaN  NaN  NaN  NaN  NaN  NaN  NaN  NaN  NaN  NaN\n",
       "\n",
       "[376 rows x 12 columns]"
      ]
     },
     "execution_count": 208,
     "metadata": {},
     "output_type": "execute_result"
    }
   ],
   "source": [
    "fast_days = pd.DataFrame()\n",
    "fast_data = eat.iloc[:,1:-2]\n",
    "for i in fast_data.columns:\n",
    "    data = fast_data[i]\n",
    "    data = pd.concat([eat.Date,data], axis = 1)\n",
    "    fast = []\n",
    "    row_num = -1\n",
    "    for pieces in data.iloc[:,1]:\n",
    "        row_num +=1\n",
    "        if pieces > 0:\n",
    "            fast.append(data.iloc[row_num,0])\n",
    "    fast = pd.Series(fast, name = i).diff(1).dt.days\n",
    "    fast_days = pd.concat([fast_days, fast], axis = 1)\n",
    "fast_days = fast_days[1:]\n",
    "fast_days"
   ]
  },
  {
   "cell_type": "code",
   "execution_count": 209,
   "metadata": {},
   "outputs": [
    {
     "data": {
      "text/html": [
       "<div>\n",
       "<style scoped>\n",
       "    .dataframe tbody tr th:only-of-type {\n",
       "        vertical-align: middle;\n",
       "    }\n",
       "\n",
       "    .dataframe tbody tr th {\n",
       "        vertical-align: top;\n",
       "    }\n",
       "\n",
       "    .dataframe thead th {\n",
       "        text-align: right;\n",
       "    }\n",
       "</style>\n",
       "<table border=\"1\" class=\"dataframe\">\n",
       "  <thead>\n",
       "    <tr style=\"text-align: right;\">\n",
       "      <th></th>\n",
       "      <th>Ross</th>\n",
       "      <th>Chandler</th>\n",
       "      <th>BT1</th>\n",
       "      <th>BT2</th>\n",
       "      <th>BT3</th>\n",
       "      <th>BT4</th>\n",
       "      <th>BT5</th>\n",
       "      <th>GR1</th>\n",
       "      <th>GR2</th>\n",
       "      <th>GR3</th>\n",
       "      <th>GR4</th>\n",
       "      <th>GR5</th>\n",
       "    </tr>\n",
       "  </thead>\n",
       "  <tbody>\n",
       "    <tr>\n",
       "      <th>count</th>\n",
       "      <td>376.000000</td>\n",
       "      <td>336.0000</td>\n",
       "      <td>323.000000</td>\n",
       "      <td>354.00000</td>\n",
       "      <td>330.000000</td>\n",
       "      <td>366.000000</td>\n",
       "      <td>369.000000</td>\n",
       "      <td>281.000000</td>\n",
       "      <td>285.000000</td>\n",
       "      <td>306.000000</td>\n",
       "      <td>317.000000</td>\n",
       "      <td>312.000000</td>\n",
       "    </tr>\n",
       "    <tr>\n",
       "      <th>mean</th>\n",
       "      <td>2.731383</td>\n",
       "      <td>3.0625</td>\n",
       "      <td>3.185759</td>\n",
       "      <td>2.90678</td>\n",
       "      <td>3.118182</td>\n",
       "      <td>2.811475</td>\n",
       "      <td>2.788618</td>\n",
       "      <td>3.647687</td>\n",
       "      <td>3.585965</td>\n",
       "      <td>3.352941</td>\n",
       "      <td>3.246057</td>\n",
       "      <td>3.288462</td>\n",
       "    </tr>\n",
       "    <tr>\n",
       "      <th>max</th>\n",
       "      <td>9.000000</td>\n",
       "      <td>12.0000</td>\n",
       "      <td>14.000000</td>\n",
       "      <td>14.00000</td>\n",
       "      <td>14.000000</td>\n",
       "      <td>9.000000</td>\n",
       "      <td>7.000000</td>\n",
       "      <td>24.000000</td>\n",
       "      <td>21.000000</td>\n",
       "      <td>17.000000</td>\n",
       "      <td>17.000000</td>\n",
       "      <td>23.000000</td>\n",
       "    </tr>\n",
       "  </tbody>\n",
       "</table>\n",
       "</div>"
      ],
      "text/plain": [
       "             Ross  Chandler         BT1        BT2         BT3         BT4  \\\n",
       "count  376.000000  336.0000  323.000000  354.00000  330.000000  366.000000   \n",
       "mean     2.731383    3.0625    3.185759    2.90678    3.118182    2.811475   \n",
       "max      9.000000   12.0000   14.000000   14.00000   14.000000    9.000000   \n",
       "\n",
       "              BT5         GR1         GR2         GR3         GR4         GR5  \n",
       "count  369.000000  281.000000  285.000000  306.000000  317.000000  312.000000  \n",
       "mean     2.788618    3.647687    3.585965    3.352941    3.246057    3.288462  \n",
       "max      7.000000   24.000000   21.000000   17.000000   17.000000   23.000000  "
      ]
     },
     "execution_count": 209,
     "metadata": {},
     "output_type": "execute_result"
    }
   ],
   "source": [
    "fast_days.describe().loc[[\"count\",\"mean\",\"max\"]]"
   ]
  },
  {
   "cell_type": "code",
   "execution_count": 214,
   "metadata": {},
   "outputs": [
    {
     "data": {
      "text/html": [
       "<div>\n",
       "<style scoped>\n",
       "    .dataframe tbody tr th:only-of-type {\n",
       "        vertical-align: middle;\n",
       "    }\n",
       "\n",
       "    .dataframe tbody tr th {\n",
       "        vertical-align: top;\n",
       "    }\n",
       "\n",
       "    .dataframe thead th {\n",
       "        text-align: right;\n",
       "    }\n",
       "</style>\n",
       "<table border=\"1\" class=\"dataframe\">\n",
       "  <thead>\n",
       "    <tr style=\"text-align: right;\">\n",
       "      <th></th>\n",
       "      <th>Shark</th>\n",
       "      <th>Mean</th>\n",
       "    </tr>\n",
       "  </thead>\n",
       "  <tbody>\n",
       "    <tr>\n",
       "      <th>7</th>\n",
       "      <td>GR1</td>\n",
       "      <td>3.65</td>\n",
       "    </tr>\n",
       "    <tr>\n",
       "      <th>8</th>\n",
       "      <td>GR2</td>\n",
       "      <td>3.59</td>\n",
       "    </tr>\n",
       "    <tr>\n",
       "      <th>9</th>\n",
       "      <td>GR3</td>\n",
       "      <td>3.35</td>\n",
       "    </tr>\n",
       "    <tr>\n",
       "      <th>11</th>\n",
       "      <td>GR5</td>\n",
       "      <td>3.29</td>\n",
       "    </tr>\n",
       "    <tr>\n",
       "      <th>10</th>\n",
       "      <td>GR4</td>\n",
       "      <td>3.25</td>\n",
       "    </tr>\n",
       "    <tr>\n",
       "      <th>2</th>\n",
       "      <td>BT1</td>\n",
       "      <td>3.19</td>\n",
       "    </tr>\n",
       "    <tr>\n",
       "      <th>4</th>\n",
       "      <td>BT3</td>\n",
       "      <td>3.12</td>\n",
       "    </tr>\n",
       "    <tr>\n",
       "      <th>1</th>\n",
       "      <td>Chandler</td>\n",
       "      <td>3.06</td>\n",
       "    </tr>\n",
       "    <tr>\n",
       "      <th>3</th>\n",
       "      <td>BT2</td>\n",
       "      <td>2.91</td>\n",
       "    </tr>\n",
       "    <tr>\n",
       "      <th>5</th>\n",
       "      <td>BT4</td>\n",
       "      <td>2.81</td>\n",
       "    </tr>\n",
       "    <tr>\n",
       "      <th>6</th>\n",
       "      <td>BT5</td>\n",
       "      <td>2.79</td>\n",
       "    </tr>\n",
       "    <tr>\n",
       "      <th>0</th>\n",
       "      <td>Ross</td>\n",
       "      <td>2.73</td>\n",
       "    </tr>\n",
       "  </tbody>\n",
       "</table>\n",
       "</div>"
      ],
      "text/plain": [
       "       Shark  Mean\n",
       "7        GR1  3.65\n",
       "8        GR2  3.59\n",
       "9        GR3  3.35\n",
       "11       GR5  3.29\n",
       "10       GR4  3.25\n",
       "2        BT1  3.19\n",
       "4        BT3  3.12\n",
       "1   Chandler  3.06\n",
       "3        BT2  2.91\n",
       "5        BT4  2.81\n",
       "6        BT5  2.79\n",
       "0       Ross  2.73"
      ]
     },
     "execution_count": 214,
     "metadata": {},
     "output_type": "execute_result"
    }
   ],
   "source": [
    "fast_days_means = pd.melt(fast_days.describe().loc[[\"mean\"]], var_name = \"Shark\", value_name = \"Mean\").sort_values(by = \"Mean\", ascending = False)\n",
    "fast_days_means[\"Mean\"] = round(fast_days_means[\"Mean\"],2)\n",
    "fast_days_means"
   ]
  },
  {
   "cell_type": "code",
   "execution_count": 215,
   "metadata": {},
   "outputs": [
    {
     "data": {
      "application/vnd.plotly.v1+json": {
       "config": {
        "plotlyServerURL": "https://plot.ly"
       },
       "data": [
        {
         "alignmentgroup": "True",
         "hovertemplate": "Shark=%{x}<br>Mean=%{y}<extra></extra>",
         "legendgroup": "",
         "marker": {
          "color": "#636efa"
         },
         "name": "",
         "offsetgroup": "",
         "orientation": "v",
         "showlegend": false,
         "textposition": "auto",
         "type": "bar",
         "x": [
          "GR1",
          "GR2",
          "GR3",
          "GR5",
          "GR4",
          "BT1",
          "BT3",
          "Chandler",
          "BT2",
          "BT4",
          "BT5",
          "Ross"
         ],
         "xaxis": "x",
         "y": [
          3.65,
          3.59,
          3.35,
          3.29,
          3.25,
          3.19,
          3.12,
          3.06,
          2.91,
          2.81,
          2.79,
          2.73
         ],
         "yaxis": "y"
        }
       ],
       "layout": {
        "barmode": "relative",
        "legend": {
         "tracegroupgap": 0
        },
        "template": {
         "data": {
          "bar": [
           {
            "error_x": {
             "color": "#2a3f5f"
            },
            "error_y": {
             "color": "#2a3f5f"
            },
            "marker": {
             "line": {
              "color": "#E5ECF6",
              "width": 0.5
             }
            },
            "type": "bar"
           }
          ],
          "barpolar": [
           {
            "marker": {
             "line": {
              "color": "#E5ECF6",
              "width": 0.5
             }
            },
            "type": "barpolar"
           }
          ],
          "carpet": [
           {
            "aaxis": {
             "endlinecolor": "#2a3f5f",
             "gridcolor": "white",
             "linecolor": "white",
             "minorgridcolor": "white",
             "startlinecolor": "#2a3f5f"
            },
            "baxis": {
             "endlinecolor": "#2a3f5f",
             "gridcolor": "white",
             "linecolor": "white",
             "minorgridcolor": "white",
             "startlinecolor": "#2a3f5f"
            },
            "type": "carpet"
           }
          ],
          "choropleth": [
           {
            "colorbar": {
             "outlinewidth": 0,
             "ticks": ""
            },
            "type": "choropleth"
           }
          ],
          "contour": [
           {
            "colorbar": {
             "outlinewidth": 0,
             "ticks": ""
            },
            "colorscale": [
             [
              0,
              "#0d0887"
             ],
             [
              0.1111111111111111,
              "#46039f"
             ],
             [
              0.2222222222222222,
              "#7201a8"
             ],
             [
              0.3333333333333333,
              "#9c179e"
             ],
             [
              0.4444444444444444,
              "#bd3786"
             ],
             [
              0.5555555555555556,
              "#d8576b"
             ],
             [
              0.6666666666666666,
              "#ed7953"
             ],
             [
              0.7777777777777778,
              "#fb9f3a"
             ],
             [
              0.8888888888888888,
              "#fdca26"
             ],
             [
              1,
              "#f0f921"
             ]
            ],
            "type": "contour"
           }
          ],
          "contourcarpet": [
           {
            "colorbar": {
             "outlinewidth": 0,
             "ticks": ""
            },
            "type": "contourcarpet"
           }
          ],
          "heatmap": [
           {
            "colorbar": {
             "outlinewidth": 0,
             "ticks": ""
            },
            "colorscale": [
             [
              0,
              "#0d0887"
             ],
             [
              0.1111111111111111,
              "#46039f"
             ],
             [
              0.2222222222222222,
              "#7201a8"
             ],
             [
              0.3333333333333333,
              "#9c179e"
             ],
             [
              0.4444444444444444,
              "#bd3786"
             ],
             [
              0.5555555555555556,
              "#d8576b"
             ],
             [
              0.6666666666666666,
              "#ed7953"
             ],
             [
              0.7777777777777778,
              "#fb9f3a"
             ],
             [
              0.8888888888888888,
              "#fdca26"
             ],
             [
              1,
              "#f0f921"
             ]
            ],
            "type": "heatmap"
           }
          ],
          "heatmapgl": [
           {
            "colorbar": {
             "outlinewidth": 0,
             "ticks": ""
            },
            "colorscale": [
             [
              0,
              "#0d0887"
             ],
             [
              0.1111111111111111,
              "#46039f"
             ],
             [
              0.2222222222222222,
              "#7201a8"
             ],
             [
              0.3333333333333333,
              "#9c179e"
             ],
             [
              0.4444444444444444,
              "#bd3786"
             ],
             [
              0.5555555555555556,
              "#d8576b"
             ],
             [
              0.6666666666666666,
              "#ed7953"
             ],
             [
              0.7777777777777778,
              "#fb9f3a"
             ],
             [
              0.8888888888888888,
              "#fdca26"
             ],
             [
              1,
              "#f0f921"
             ]
            ],
            "type": "heatmapgl"
           }
          ],
          "histogram": [
           {
            "marker": {
             "colorbar": {
              "outlinewidth": 0,
              "ticks": ""
             }
            },
            "type": "histogram"
           }
          ],
          "histogram2d": [
           {
            "colorbar": {
             "outlinewidth": 0,
             "ticks": ""
            },
            "colorscale": [
             [
              0,
              "#0d0887"
             ],
             [
              0.1111111111111111,
              "#46039f"
             ],
             [
              0.2222222222222222,
              "#7201a8"
             ],
             [
              0.3333333333333333,
              "#9c179e"
             ],
             [
              0.4444444444444444,
              "#bd3786"
             ],
             [
              0.5555555555555556,
              "#d8576b"
             ],
             [
              0.6666666666666666,
              "#ed7953"
             ],
             [
              0.7777777777777778,
              "#fb9f3a"
             ],
             [
              0.8888888888888888,
              "#fdca26"
             ],
             [
              1,
              "#f0f921"
             ]
            ],
            "type": "histogram2d"
           }
          ],
          "histogram2dcontour": [
           {
            "colorbar": {
             "outlinewidth": 0,
             "ticks": ""
            },
            "colorscale": [
             [
              0,
              "#0d0887"
             ],
             [
              0.1111111111111111,
              "#46039f"
             ],
             [
              0.2222222222222222,
              "#7201a8"
             ],
             [
              0.3333333333333333,
              "#9c179e"
             ],
             [
              0.4444444444444444,
              "#bd3786"
             ],
             [
              0.5555555555555556,
              "#d8576b"
             ],
             [
              0.6666666666666666,
              "#ed7953"
             ],
             [
              0.7777777777777778,
              "#fb9f3a"
             ],
             [
              0.8888888888888888,
              "#fdca26"
             ],
             [
              1,
              "#f0f921"
             ]
            ],
            "type": "histogram2dcontour"
           }
          ],
          "mesh3d": [
           {
            "colorbar": {
             "outlinewidth": 0,
             "ticks": ""
            },
            "type": "mesh3d"
           }
          ],
          "parcoords": [
           {
            "line": {
             "colorbar": {
              "outlinewidth": 0,
              "ticks": ""
             }
            },
            "type": "parcoords"
           }
          ],
          "pie": [
           {
            "automargin": true,
            "type": "pie"
           }
          ],
          "scatter": [
           {
            "marker": {
             "colorbar": {
              "outlinewidth": 0,
              "ticks": ""
             }
            },
            "type": "scatter"
           }
          ],
          "scatter3d": [
           {
            "line": {
             "colorbar": {
              "outlinewidth": 0,
              "ticks": ""
             }
            },
            "marker": {
             "colorbar": {
              "outlinewidth": 0,
              "ticks": ""
             }
            },
            "type": "scatter3d"
           }
          ],
          "scattercarpet": [
           {
            "marker": {
             "colorbar": {
              "outlinewidth": 0,
              "ticks": ""
             }
            },
            "type": "scattercarpet"
           }
          ],
          "scattergeo": [
           {
            "marker": {
             "colorbar": {
              "outlinewidth": 0,
              "ticks": ""
             }
            },
            "type": "scattergeo"
           }
          ],
          "scattergl": [
           {
            "marker": {
             "colorbar": {
              "outlinewidth": 0,
              "ticks": ""
             }
            },
            "type": "scattergl"
           }
          ],
          "scattermapbox": [
           {
            "marker": {
             "colorbar": {
              "outlinewidth": 0,
              "ticks": ""
             }
            },
            "type": "scattermapbox"
           }
          ],
          "scatterpolar": [
           {
            "marker": {
             "colorbar": {
              "outlinewidth": 0,
              "ticks": ""
             }
            },
            "type": "scatterpolar"
           }
          ],
          "scatterpolargl": [
           {
            "marker": {
             "colorbar": {
              "outlinewidth": 0,
              "ticks": ""
             }
            },
            "type": "scatterpolargl"
           }
          ],
          "scatterternary": [
           {
            "marker": {
             "colorbar": {
              "outlinewidth": 0,
              "ticks": ""
             }
            },
            "type": "scatterternary"
           }
          ],
          "surface": [
           {
            "colorbar": {
             "outlinewidth": 0,
             "ticks": ""
            },
            "colorscale": [
             [
              0,
              "#0d0887"
             ],
             [
              0.1111111111111111,
              "#46039f"
             ],
             [
              0.2222222222222222,
              "#7201a8"
             ],
             [
              0.3333333333333333,
              "#9c179e"
             ],
             [
              0.4444444444444444,
              "#bd3786"
             ],
             [
              0.5555555555555556,
              "#d8576b"
             ],
             [
              0.6666666666666666,
              "#ed7953"
             ],
             [
              0.7777777777777778,
              "#fb9f3a"
             ],
             [
              0.8888888888888888,
              "#fdca26"
             ],
             [
              1,
              "#f0f921"
             ]
            ],
            "type": "surface"
           }
          ],
          "table": [
           {
            "cells": {
             "fill": {
              "color": "#EBF0F8"
             },
             "line": {
              "color": "white"
             }
            },
            "header": {
             "fill": {
              "color": "#C8D4E3"
             },
             "line": {
              "color": "white"
             }
            },
            "type": "table"
           }
          ]
         },
         "layout": {
          "annotationdefaults": {
           "arrowcolor": "#2a3f5f",
           "arrowhead": 0,
           "arrowwidth": 1
          },
          "coloraxis": {
           "colorbar": {
            "outlinewidth": 0,
            "ticks": ""
           }
          },
          "colorscale": {
           "diverging": [
            [
             0,
             "#8e0152"
            ],
            [
             0.1,
             "#c51b7d"
            ],
            [
             0.2,
             "#de77ae"
            ],
            [
             0.3,
             "#f1b6da"
            ],
            [
             0.4,
             "#fde0ef"
            ],
            [
             0.5,
             "#f7f7f7"
            ],
            [
             0.6,
             "#e6f5d0"
            ],
            [
             0.7,
             "#b8e186"
            ],
            [
             0.8,
             "#7fbc41"
            ],
            [
             0.9,
             "#4d9221"
            ],
            [
             1,
             "#276419"
            ]
           ],
           "sequential": [
            [
             0,
             "#0d0887"
            ],
            [
             0.1111111111111111,
             "#46039f"
            ],
            [
             0.2222222222222222,
             "#7201a8"
            ],
            [
             0.3333333333333333,
             "#9c179e"
            ],
            [
             0.4444444444444444,
             "#bd3786"
            ],
            [
             0.5555555555555556,
             "#d8576b"
            ],
            [
             0.6666666666666666,
             "#ed7953"
            ],
            [
             0.7777777777777778,
             "#fb9f3a"
            ],
            [
             0.8888888888888888,
             "#fdca26"
            ],
            [
             1,
             "#f0f921"
            ]
           ],
           "sequentialminus": [
            [
             0,
             "#0d0887"
            ],
            [
             0.1111111111111111,
             "#46039f"
            ],
            [
             0.2222222222222222,
             "#7201a8"
            ],
            [
             0.3333333333333333,
             "#9c179e"
            ],
            [
             0.4444444444444444,
             "#bd3786"
            ],
            [
             0.5555555555555556,
             "#d8576b"
            ],
            [
             0.6666666666666666,
             "#ed7953"
            ],
            [
             0.7777777777777778,
             "#fb9f3a"
            ],
            [
             0.8888888888888888,
             "#fdca26"
            ],
            [
             1,
             "#f0f921"
            ]
           ]
          },
          "colorway": [
           "#636efa",
           "#EF553B",
           "#00cc96",
           "#ab63fa",
           "#FFA15A",
           "#19d3f3",
           "#FF6692",
           "#B6E880",
           "#FF97FF",
           "#FECB52"
          ],
          "font": {
           "color": "#2a3f5f"
          },
          "geo": {
           "bgcolor": "white",
           "lakecolor": "white",
           "landcolor": "#E5ECF6",
           "showlakes": true,
           "showland": true,
           "subunitcolor": "white"
          },
          "hoverlabel": {
           "align": "left"
          },
          "hovermode": "closest",
          "mapbox": {
           "style": "light"
          },
          "paper_bgcolor": "white",
          "plot_bgcolor": "#E5ECF6",
          "polar": {
           "angularaxis": {
            "gridcolor": "white",
            "linecolor": "white",
            "ticks": ""
           },
           "bgcolor": "#E5ECF6",
           "radialaxis": {
            "gridcolor": "white",
            "linecolor": "white",
            "ticks": ""
           }
          },
          "scene": {
           "xaxis": {
            "backgroundcolor": "#E5ECF6",
            "gridcolor": "white",
            "gridwidth": 2,
            "linecolor": "white",
            "showbackground": true,
            "ticks": "",
            "zerolinecolor": "white"
           },
           "yaxis": {
            "backgroundcolor": "#E5ECF6",
            "gridcolor": "white",
            "gridwidth": 2,
            "linecolor": "white",
            "showbackground": true,
            "ticks": "",
            "zerolinecolor": "white"
           },
           "zaxis": {
            "backgroundcolor": "#E5ECF6",
            "gridcolor": "white",
            "gridwidth": 2,
            "linecolor": "white",
            "showbackground": true,
            "ticks": "",
            "zerolinecolor": "white"
           }
          },
          "shapedefaults": {
           "line": {
            "color": "#2a3f5f"
           }
          },
          "ternary": {
           "aaxis": {
            "gridcolor": "white",
            "linecolor": "white",
            "ticks": ""
           },
           "baxis": {
            "gridcolor": "white",
            "linecolor": "white",
            "ticks": ""
           },
           "bgcolor": "#E5ECF6",
           "caxis": {
            "gridcolor": "white",
            "linecolor": "white",
            "ticks": ""
           }
          },
          "title": {
           "x": 0.05
          },
          "xaxis": {
           "automargin": true,
           "gridcolor": "white",
           "linecolor": "white",
           "ticks": "",
           "title": {
            "standoff": 15
           },
           "zerolinecolor": "white",
           "zerolinewidth": 2
          },
          "yaxis": {
           "automargin": true,
           "gridcolor": "white",
           "linecolor": "white",
           "ticks": "",
           "title": {
            "standoff": 15
           },
           "zerolinecolor": "white",
           "zerolinewidth": 2
          }
         }
        },
        "title": {
         "text": "How long are the sharks fasting on average?"
        },
        "xaxis": {
         "anchor": "y",
         "domain": [
          0,
          1
         ],
         "title": {
          "text": "Shark"
         }
        },
        "yaxis": {
         "anchor": "x",
         "domain": [
          0,
          1
         ],
         "title": {
          "text": "Mean"
         }
        }
       }
      },
      "text/html": [
       "<div>                            <div id=\"9ed72476-7e9c-477d-a941-cf92e63bbd67\" class=\"plotly-graph-div\" style=\"height:525px; width:100%;\"></div>            <script type=\"text/javascript\">                require([\"plotly\"], function(Plotly) {                    window.PLOTLYENV=window.PLOTLYENV || {};                                    if (document.getElementById(\"9ed72476-7e9c-477d-a941-cf92e63bbd67\")) {                    Plotly.newPlot(                        \"9ed72476-7e9c-477d-a941-cf92e63bbd67\",                        [{\"alignmentgroup\": \"True\", \"hovertemplate\": \"Shark=%{x}<br>Mean=%{y}<extra></extra>\", \"legendgroup\": \"\", \"marker\": {\"color\": \"#636efa\"}, \"name\": \"\", \"offsetgroup\": \"\", \"orientation\": \"v\", \"showlegend\": false, \"textposition\": \"auto\", \"type\": \"bar\", \"x\": [\"GR1\", \"GR2\", \"GR3\", \"GR5\", \"GR4\", \"BT1\", \"BT3\", \"Chandler\", \"BT2\", \"BT4\", \"BT5\", \"Ross\"], \"xaxis\": \"x\", \"y\": [3.65, 3.59, 3.35, 3.29, 3.25, 3.19, 3.12, 3.06, 2.91, 2.81, 2.79, 2.73], \"yaxis\": \"y\"}],                        {\"barmode\": \"relative\", \"legend\": {\"tracegroupgap\": 0}, \"template\": {\"data\": {\"bar\": [{\"error_x\": {\"color\": \"#2a3f5f\"}, \"error_y\": {\"color\": \"#2a3f5f\"}, \"marker\": {\"line\": {\"color\": \"#E5ECF6\", \"width\": 0.5}}, \"type\": \"bar\"}], \"barpolar\": [{\"marker\": {\"line\": {\"color\": \"#E5ECF6\", \"width\": 0.5}}, \"type\": \"barpolar\"}], \"carpet\": [{\"aaxis\": {\"endlinecolor\": \"#2a3f5f\", \"gridcolor\": \"white\", \"linecolor\": \"white\", \"minorgridcolor\": \"white\", \"startlinecolor\": \"#2a3f5f\"}, \"baxis\": {\"endlinecolor\": \"#2a3f5f\", \"gridcolor\": \"white\", \"linecolor\": \"white\", \"minorgridcolor\": \"white\", \"startlinecolor\": \"#2a3f5f\"}, \"type\": \"carpet\"}], \"choropleth\": [{\"colorbar\": {\"outlinewidth\": 0, \"ticks\": \"\"}, \"type\": \"choropleth\"}], \"contour\": [{\"colorbar\": {\"outlinewidth\": 0, \"ticks\": \"\"}, \"colorscale\": [[0.0, \"#0d0887\"], [0.1111111111111111, \"#46039f\"], [0.2222222222222222, \"#7201a8\"], [0.3333333333333333, \"#9c179e\"], [0.4444444444444444, \"#bd3786\"], [0.5555555555555556, \"#d8576b\"], [0.6666666666666666, \"#ed7953\"], [0.7777777777777778, \"#fb9f3a\"], [0.8888888888888888, \"#fdca26\"], [1.0, \"#f0f921\"]], \"type\": \"contour\"}], \"contourcarpet\": [{\"colorbar\": {\"outlinewidth\": 0, \"ticks\": \"\"}, \"type\": \"contourcarpet\"}], \"heatmap\": [{\"colorbar\": {\"outlinewidth\": 0, \"ticks\": \"\"}, \"colorscale\": [[0.0, \"#0d0887\"], [0.1111111111111111, \"#46039f\"], [0.2222222222222222, \"#7201a8\"], [0.3333333333333333, \"#9c179e\"], [0.4444444444444444, \"#bd3786\"], [0.5555555555555556, \"#d8576b\"], [0.6666666666666666, \"#ed7953\"], [0.7777777777777778, \"#fb9f3a\"], [0.8888888888888888, \"#fdca26\"], [1.0, \"#f0f921\"]], \"type\": \"heatmap\"}], \"heatmapgl\": [{\"colorbar\": {\"outlinewidth\": 0, \"ticks\": \"\"}, \"colorscale\": [[0.0, \"#0d0887\"], [0.1111111111111111, \"#46039f\"], [0.2222222222222222, \"#7201a8\"], [0.3333333333333333, \"#9c179e\"], [0.4444444444444444, \"#bd3786\"], [0.5555555555555556, \"#d8576b\"], [0.6666666666666666, \"#ed7953\"], [0.7777777777777778, \"#fb9f3a\"], [0.8888888888888888, \"#fdca26\"], [1.0, \"#f0f921\"]], \"type\": \"heatmapgl\"}], \"histogram\": [{\"marker\": {\"colorbar\": {\"outlinewidth\": 0, \"ticks\": \"\"}}, \"type\": \"histogram\"}], \"histogram2d\": [{\"colorbar\": {\"outlinewidth\": 0, \"ticks\": \"\"}, \"colorscale\": [[0.0, \"#0d0887\"], [0.1111111111111111, \"#46039f\"], [0.2222222222222222, \"#7201a8\"], [0.3333333333333333, \"#9c179e\"], [0.4444444444444444, \"#bd3786\"], [0.5555555555555556, \"#d8576b\"], [0.6666666666666666, \"#ed7953\"], [0.7777777777777778, \"#fb9f3a\"], [0.8888888888888888, \"#fdca26\"], [1.0, \"#f0f921\"]], \"type\": \"histogram2d\"}], \"histogram2dcontour\": [{\"colorbar\": {\"outlinewidth\": 0, \"ticks\": \"\"}, \"colorscale\": [[0.0, \"#0d0887\"], [0.1111111111111111, \"#46039f\"], [0.2222222222222222, \"#7201a8\"], [0.3333333333333333, \"#9c179e\"], [0.4444444444444444, \"#bd3786\"], [0.5555555555555556, \"#d8576b\"], [0.6666666666666666, \"#ed7953\"], [0.7777777777777778, \"#fb9f3a\"], [0.8888888888888888, \"#fdca26\"], [1.0, \"#f0f921\"]], \"type\": \"histogram2dcontour\"}], \"mesh3d\": [{\"colorbar\": {\"outlinewidth\": 0, \"ticks\": \"\"}, \"type\": \"mesh3d\"}], \"parcoords\": [{\"line\": {\"colorbar\": {\"outlinewidth\": 0, \"ticks\": \"\"}}, \"type\": \"parcoords\"}], \"pie\": [{\"automargin\": true, \"type\": \"pie\"}], \"scatter\": [{\"marker\": {\"colorbar\": {\"outlinewidth\": 0, \"ticks\": \"\"}}, \"type\": \"scatter\"}], \"scatter3d\": [{\"line\": {\"colorbar\": {\"outlinewidth\": 0, \"ticks\": \"\"}}, \"marker\": {\"colorbar\": {\"outlinewidth\": 0, \"ticks\": \"\"}}, \"type\": \"scatter3d\"}], \"scattercarpet\": [{\"marker\": {\"colorbar\": {\"outlinewidth\": 0, \"ticks\": \"\"}}, \"type\": \"scattercarpet\"}], \"scattergeo\": [{\"marker\": {\"colorbar\": {\"outlinewidth\": 0, \"ticks\": \"\"}}, \"type\": \"scattergeo\"}], \"scattergl\": [{\"marker\": {\"colorbar\": {\"outlinewidth\": 0, \"ticks\": \"\"}}, \"type\": \"scattergl\"}], \"scattermapbox\": [{\"marker\": {\"colorbar\": {\"outlinewidth\": 0, \"ticks\": \"\"}}, \"type\": \"scattermapbox\"}], \"scatterpolar\": [{\"marker\": {\"colorbar\": {\"outlinewidth\": 0, \"ticks\": \"\"}}, \"type\": \"scatterpolar\"}], \"scatterpolargl\": [{\"marker\": {\"colorbar\": {\"outlinewidth\": 0, \"ticks\": \"\"}}, \"type\": \"scatterpolargl\"}], \"scatterternary\": [{\"marker\": {\"colorbar\": {\"outlinewidth\": 0, \"ticks\": \"\"}}, \"type\": \"scatterternary\"}], \"surface\": [{\"colorbar\": {\"outlinewidth\": 0, \"ticks\": \"\"}, \"colorscale\": [[0.0, \"#0d0887\"], [0.1111111111111111, \"#46039f\"], [0.2222222222222222, \"#7201a8\"], [0.3333333333333333, \"#9c179e\"], [0.4444444444444444, \"#bd3786\"], [0.5555555555555556, \"#d8576b\"], [0.6666666666666666, \"#ed7953\"], [0.7777777777777778, \"#fb9f3a\"], [0.8888888888888888, \"#fdca26\"], [1.0, \"#f0f921\"]], \"type\": \"surface\"}], \"table\": [{\"cells\": {\"fill\": {\"color\": \"#EBF0F8\"}, \"line\": {\"color\": \"white\"}}, \"header\": {\"fill\": {\"color\": \"#C8D4E3\"}, \"line\": {\"color\": \"white\"}}, \"type\": \"table\"}]}, \"layout\": {\"annotationdefaults\": {\"arrowcolor\": \"#2a3f5f\", \"arrowhead\": 0, \"arrowwidth\": 1}, \"coloraxis\": {\"colorbar\": {\"outlinewidth\": 0, \"ticks\": \"\"}}, \"colorscale\": {\"diverging\": [[0, \"#8e0152\"], [0.1, \"#c51b7d\"], [0.2, \"#de77ae\"], [0.3, \"#f1b6da\"], [0.4, \"#fde0ef\"], [0.5, \"#f7f7f7\"], [0.6, \"#e6f5d0\"], [0.7, \"#b8e186\"], [0.8, \"#7fbc41\"], [0.9, \"#4d9221\"], [1, \"#276419\"]], \"sequential\": [[0.0, \"#0d0887\"], [0.1111111111111111, \"#46039f\"], [0.2222222222222222, \"#7201a8\"], [0.3333333333333333, \"#9c179e\"], [0.4444444444444444, \"#bd3786\"], [0.5555555555555556, \"#d8576b\"], [0.6666666666666666, \"#ed7953\"], [0.7777777777777778, \"#fb9f3a\"], [0.8888888888888888, \"#fdca26\"], [1.0, \"#f0f921\"]], \"sequentialminus\": [[0.0, \"#0d0887\"], [0.1111111111111111, \"#46039f\"], [0.2222222222222222, \"#7201a8\"], [0.3333333333333333, \"#9c179e\"], [0.4444444444444444, \"#bd3786\"], [0.5555555555555556, \"#d8576b\"], [0.6666666666666666, \"#ed7953\"], [0.7777777777777778, \"#fb9f3a\"], [0.8888888888888888, \"#fdca26\"], [1.0, \"#f0f921\"]]}, \"colorway\": [\"#636efa\", \"#EF553B\", \"#00cc96\", \"#ab63fa\", \"#FFA15A\", \"#19d3f3\", \"#FF6692\", \"#B6E880\", \"#FF97FF\", \"#FECB52\"], \"font\": {\"color\": \"#2a3f5f\"}, \"geo\": {\"bgcolor\": \"white\", \"lakecolor\": \"white\", \"landcolor\": \"#E5ECF6\", \"showlakes\": true, \"showland\": true, \"subunitcolor\": \"white\"}, \"hoverlabel\": {\"align\": \"left\"}, \"hovermode\": \"closest\", \"mapbox\": {\"style\": \"light\"}, \"paper_bgcolor\": \"white\", \"plot_bgcolor\": \"#E5ECF6\", \"polar\": {\"angularaxis\": {\"gridcolor\": \"white\", \"linecolor\": \"white\", \"ticks\": \"\"}, \"bgcolor\": \"#E5ECF6\", \"radialaxis\": {\"gridcolor\": \"white\", \"linecolor\": \"white\", \"ticks\": \"\"}}, \"scene\": {\"xaxis\": {\"backgroundcolor\": \"#E5ECF6\", \"gridcolor\": \"white\", \"gridwidth\": 2, \"linecolor\": \"white\", \"showbackground\": true, \"ticks\": \"\", \"zerolinecolor\": \"white\"}, \"yaxis\": {\"backgroundcolor\": \"#E5ECF6\", \"gridcolor\": \"white\", \"gridwidth\": 2, \"linecolor\": \"white\", \"showbackground\": true, \"ticks\": \"\", \"zerolinecolor\": \"white\"}, \"zaxis\": {\"backgroundcolor\": \"#E5ECF6\", \"gridcolor\": \"white\", \"gridwidth\": 2, \"linecolor\": \"white\", \"showbackground\": true, \"ticks\": \"\", \"zerolinecolor\": \"white\"}}, \"shapedefaults\": {\"line\": {\"color\": \"#2a3f5f\"}}, \"ternary\": {\"aaxis\": {\"gridcolor\": \"white\", \"linecolor\": \"white\", \"ticks\": \"\"}, \"baxis\": {\"gridcolor\": \"white\", \"linecolor\": \"white\", \"ticks\": \"\"}, \"bgcolor\": \"#E5ECF6\", \"caxis\": {\"gridcolor\": \"white\", \"linecolor\": \"white\", \"ticks\": \"\"}}, \"title\": {\"x\": 0.05}, \"xaxis\": {\"automargin\": true, \"gridcolor\": \"white\", \"linecolor\": \"white\", \"ticks\": \"\", \"title\": {\"standoff\": 15}, \"zerolinecolor\": \"white\", \"zerolinewidth\": 2}, \"yaxis\": {\"automargin\": true, \"gridcolor\": \"white\", \"linecolor\": \"white\", \"ticks\": \"\", \"title\": {\"standoff\": 15}, \"zerolinecolor\": \"white\", \"zerolinewidth\": 2}}}, \"title\": {\"text\": \"How long are the sharks fasting on average?\"}, \"xaxis\": {\"anchor\": \"y\", \"domain\": [0.0, 1.0], \"title\": {\"text\": \"Shark\"}}, \"yaxis\": {\"anchor\": \"x\", \"domain\": [0.0, 1.0], \"title\": {\"text\": \"Mean\"}}},                        {\"responsive\": true}                    ).then(function(){\n",
       "                            \n",
       "var gd = document.getElementById('9ed72476-7e9c-477d-a941-cf92e63bbd67');\n",
       "var x = new MutationObserver(function (mutations, observer) {{\n",
       "        var display = window.getComputedStyle(gd).display;\n",
       "        if (!display || display === 'none') {{\n",
       "            console.log([gd, 'removed!']);\n",
       "            Plotly.purge(gd);\n",
       "            observer.disconnect();\n",
       "        }}\n",
       "}});\n",
       "\n",
       "// Listen for the removal of the full notebook cells\n",
       "var notebookContainer = gd.closest('#notebook-container');\n",
       "if (notebookContainer) {{\n",
       "    x.observe(notebookContainer, {childList: true});\n",
       "}}\n",
       "\n",
       "// Listen for the clearing of the current output cell\n",
       "var outputEl = gd.closest('.output');\n",
       "if (outputEl) {{\n",
       "    x.observe(outputEl, {childList: true});\n",
       "}}\n",
       "\n",
       "                        })                };                });            </script>        </div>"
      ]
     },
     "metadata": {},
     "output_type": "display_data"
    }
   ],
   "source": [
    "px.bar(fast_days_means, x = \"Shark\", y = \"Mean\", title = \"How long are the sharks fasting on average?\")"
   ]
  },
  {
   "cell_type": "code",
   "execution_count": 219,
   "metadata": {},
   "outputs": [
    {
     "data": {
      "application/vnd.plotly.v1+json": {
       "config": {
        "plotlyServerURL": "https://plot.ly"
       },
       "data": [
        {
         "alignmentgroup": "True",
         "hovertemplate": "Shark=%{x}<br>Days=%{y}<extra></extra>",
         "legendgroup": "",
         "marker": {
          "color": "#636efa"
         },
         "name": "",
         "notched": false,
         "offsetgroup": "",
         "orientation": "v",
         "showlegend": false,
         "type": "box",
         "x": [
          "Ross",
          "Ross",
          "Ross",
          "Ross",
          "Ross",
          "Ross",
          "Ross",
          "Ross",
          "Ross",
          "Ross",
          "Ross",
          "Ross",
          "Ross",
          "Ross",
          "Ross",
          "Ross",
          "Ross",
          "Ross",
          "Ross",
          "Ross",
          "Ross",
          "Ross",
          "Ross",
          "Ross",
          "Ross",
          "Ross",
          "Ross",
          "Ross",
          "Ross",
          "Ross",
          "Ross",
          "Ross",
          "Ross",
          "Ross",
          "Ross",
          "Ross",
          "Ross",
          "Ross",
          "Ross",
          "Ross",
          "Ross",
          "Ross",
          "Ross",
          "Ross",
          "Ross",
          "Ross",
          "Ross",
          "Ross",
          "Ross",
          "Ross",
          "Ross",
          "Ross",
          "Ross",
          "Ross",
          "Ross",
          "Ross",
          "Ross",
          "Ross",
          "Ross",
          "Ross",
          "Ross",
          "Ross",
          "Ross",
          "Ross",
          "Ross",
          "Ross",
          "Ross",
          "Ross",
          "Ross",
          "Ross",
          "Ross",
          "Ross",
          "Ross",
          "Ross",
          "Ross",
          "Ross",
          "Ross",
          "Ross",
          "Ross",
          "Ross",
          "Ross",
          "Ross",
          "Ross",
          "Ross",
          "Ross",
          "Ross",
          "Ross",
          "Ross",
          "Ross",
          "Ross",
          "Ross",
          "Ross",
          "Ross",
          "Ross",
          "Ross",
          "Ross",
          "Ross",
          "Ross",
          "Ross",
          "Ross",
          "Ross",
          "Ross",
          "Ross",
          "Ross",
          "Ross",
          "Ross",
          "Ross",
          "Ross",
          "Ross",
          "Ross",
          "Ross",
          "Ross",
          "Ross",
          "Ross",
          "Ross",
          "Ross",
          "Ross",
          "Ross",
          "Ross",
          "Ross",
          "Ross",
          "Ross",
          "Ross",
          "Ross",
          "Ross",
          "Ross",
          "Ross",
          "Ross",
          "Ross",
          "Ross",
          "Ross",
          "Ross",
          "Ross",
          "Ross",
          "Ross",
          "Ross",
          "Ross",
          "Ross",
          "Ross",
          "Ross",
          "Ross",
          "Ross",
          "Ross",
          "Ross",
          "Ross",
          "Ross",
          "Ross",
          "Ross",
          "Ross",
          "Ross",
          "Ross",
          "Ross",
          "Ross",
          "Ross",
          "Ross",
          "Ross",
          "Ross",
          "Ross",
          "Ross",
          "Ross",
          "Ross",
          "Ross",
          "Ross",
          "Ross",
          "Ross",
          "Ross",
          "Ross",
          "Ross",
          "Ross",
          "Ross",
          "Ross",
          "Ross",
          "Ross",
          "Ross",
          "Ross",
          "Ross",
          "Ross",
          "Ross",
          "Ross",
          "Ross",
          "Ross",
          "Ross",
          "Ross",
          "Ross",
          "Ross",
          "Ross",
          "Ross",
          "Ross",
          "Ross",
          "Ross",
          "Ross",
          "Ross",
          "Ross",
          "Ross",
          "Ross",
          "Ross",
          "Ross",
          "Ross",
          "Ross",
          "Ross",
          "Ross",
          "Ross",
          "Ross",
          "Ross",
          "Ross",
          "Ross",
          "Ross",
          "Ross",
          "Ross",
          "Ross",
          "Ross",
          "Ross",
          "Ross",
          "Ross",
          "Ross",
          "Ross",
          "Ross",
          "Ross",
          "Ross",
          "Ross",
          "Ross",
          "Ross",
          "Ross",
          "Ross",
          "Ross",
          "Ross",
          "Ross",
          "Ross",
          "Ross",
          "Ross",
          "Ross",
          "Ross",
          "Ross",
          "Ross",
          "Ross",
          "Ross",
          "Ross",
          "Ross",
          "Ross",
          "Ross",
          "Ross",
          "Ross",
          "Ross",
          "Ross",
          "Ross",
          "Ross",
          "Ross",
          "Ross",
          "Ross",
          "Ross",
          "Ross",
          "Ross",
          "Ross",
          "Ross",
          "Ross",
          "Ross",
          "Ross",
          "Ross",
          "Ross",
          "Ross",
          "Ross",
          "Ross",
          "Ross",
          "Ross",
          "Ross",
          "Ross",
          "Ross",
          "Ross",
          "Ross",
          "Ross",
          "Ross",
          "Ross",
          "Ross",
          "Ross",
          "Ross",
          "Ross",
          "Ross",
          "Ross",
          "Ross",
          "Ross",
          "Ross",
          "Ross",
          "Ross",
          "Ross",
          "Ross",
          "Ross",
          "Ross",
          "Ross",
          "Ross",
          "Ross",
          "Ross",
          "Ross",
          "Ross",
          "Ross",
          "Ross",
          "Ross",
          "Ross",
          "Ross",
          "Ross",
          "Ross",
          "Ross",
          "Ross",
          "Ross",
          "Ross",
          "Ross",
          "Ross",
          "Ross",
          "Ross",
          "Ross",
          "Ross",
          "Ross",
          "Ross",
          "Ross",
          "Ross",
          "Ross",
          "Ross",
          "Ross",
          "Ross",
          "Ross",
          "Ross",
          "Ross",
          "Ross",
          "Ross",
          "Ross",
          "Ross",
          "Ross",
          "Ross",
          "Ross",
          "Ross",
          "Ross",
          "Ross",
          "Ross",
          "Ross",
          "Ross",
          "Ross",
          "Ross",
          "Ross",
          "Ross",
          "Ross",
          "Ross",
          "Ross",
          "Ross",
          "Ross",
          "Ross",
          "Ross",
          "Ross",
          "Ross",
          "Ross",
          "Ross",
          "Ross",
          "Ross",
          "Ross",
          "Ross",
          "Ross",
          "Ross",
          "Ross",
          "Ross",
          "Ross",
          "Ross",
          "Ross",
          "Ross",
          "Ross",
          "Ross",
          "Ross",
          "Ross",
          "Ross",
          "Ross",
          "Ross",
          "Ross",
          "Ross",
          "Ross",
          "Ross",
          "Ross",
          "Ross",
          "Ross",
          "Ross",
          "Chandler",
          "Chandler",
          "Chandler",
          "Chandler",
          "Chandler",
          "Chandler",
          "Chandler",
          "Chandler",
          "Chandler",
          "Chandler",
          "Chandler",
          "Chandler",
          "Chandler",
          "Chandler",
          "Chandler",
          "Chandler",
          "Chandler",
          "Chandler",
          "Chandler",
          "Chandler",
          "Chandler",
          "Chandler",
          "Chandler",
          "Chandler",
          "Chandler",
          "Chandler",
          "Chandler",
          "Chandler",
          "Chandler",
          "Chandler",
          "Chandler",
          "Chandler",
          "Chandler",
          "Chandler",
          "Chandler",
          "Chandler",
          "Chandler",
          "Chandler",
          "Chandler",
          "Chandler",
          "Chandler",
          "Chandler",
          "Chandler",
          "Chandler",
          "Chandler",
          "Chandler",
          "Chandler",
          "Chandler",
          "Chandler",
          "Chandler",
          "Chandler",
          "Chandler",
          "Chandler",
          "Chandler",
          "Chandler",
          "Chandler",
          "Chandler",
          "Chandler",
          "Chandler",
          "Chandler",
          "Chandler",
          "Chandler",
          "Chandler",
          "Chandler",
          "Chandler",
          "Chandler",
          "Chandler",
          "Chandler",
          "Chandler",
          "Chandler",
          "Chandler",
          "Chandler",
          "Chandler",
          "Chandler",
          "Chandler",
          "Chandler",
          "Chandler",
          "Chandler",
          "Chandler",
          "Chandler",
          "Chandler",
          "Chandler",
          "Chandler",
          "Chandler",
          "Chandler",
          "Chandler",
          "Chandler",
          "Chandler",
          "Chandler",
          "Chandler",
          "Chandler",
          "Chandler",
          "Chandler",
          "Chandler",
          "Chandler",
          "Chandler",
          "Chandler",
          "Chandler",
          "Chandler",
          "Chandler",
          "Chandler",
          "Chandler",
          "Chandler",
          "Chandler",
          "Chandler",
          "Chandler",
          "Chandler",
          "Chandler",
          "Chandler",
          "Chandler",
          "Chandler",
          "Chandler",
          "Chandler",
          "Chandler",
          "Chandler",
          "Chandler",
          "Chandler",
          "Chandler",
          "Chandler",
          "Chandler",
          "Chandler",
          "Chandler",
          "Chandler",
          "Chandler",
          "Chandler",
          "Chandler",
          "Chandler",
          "Chandler",
          "Chandler",
          "Chandler",
          "Chandler",
          "Chandler",
          "Chandler",
          "Chandler",
          "Chandler",
          "Chandler",
          "Chandler",
          "Chandler",
          "Chandler",
          "Chandler",
          "Chandler",
          "Chandler",
          "Chandler",
          "Chandler",
          "Chandler",
          "Chandler",
          "Chandler",
          "Chandler",
          "Chandler",
          "Chandler",
          "Chandler",
          "Chandler",
          "Chandler",
          "Chandler",
          "Chandler",
          "Chandler",
          "Chandler",
          "Chandler",
          "Chandler",
          "Chandler",
          "Chandler",
          "Chandler",
          "Chandler",
          "Chandler",
          "Chandler",
          "Chandler",
          "Chandler",
          "Chandler",
          "Chandler",
          "Chandler",
          "Chandler",
          "Chandler",
          "Chandler",
          "Chandler",
          "Chandler",
          "Chandler",
          "Chandler",
          "Chandler",
          "Chandler",
          "Chandler",
          "Chandler",
          "Chandler",
          "Chandler",
          "Chandler",
          "Chandler",
          "Chandler",
          "Chandler",
          "Chandler",
          "Chandler",
          "Chandler",
          "Chandler",
          "Chandler",
          "Chandler",
          "Chandler",
          "Chandler",
          "Chandler",
          "Chandler",
          "Chandler",
          "Chandler",
          "Chandler",
          "Chandler",
          "Chandler",
          "Chandler",
          "Chandler",
          "Chandler",
          "Chandler",
          "Chandler",
          "Chandler",
          "Chandler",
          "Chandler",
          "Chandler",
          "Chandler",
          "Chandler",
          "Chandler",
          "Chandler",
          "Chandler",
          "Chandler",
          "Chandler",
          "Chandler",
          "Chandler",
          "Chandler",
          "Chandler",
          "Chandler",
          "Chandler",
          "Chandler",
          "Chandler",
          "Chandler",
          "Chandler",
          "Chandler",
          "Chandler",
          "Chandler",
          "Chandler",
          "Chandler",
          "Chandler",
          "Chandler",
          "Chandler",
          "Chandler",
          "Chandler",
          "Chandler",
          "Chandler",
          "Chandler",
          "Chandler",
          "Chandler",
          "Chandler",
          "Chandler",
          "Chandler",
          "Chandler",
          "Chandler",
          "Chandler",
          "Chandler",
          "Chandler",
          "Chandler",
          "Chandler",
          "Chandler",
          "Chandler",
          "Chandler",
          "Chandler",
          "Chandler",
          "Chandler",
          "Chandler",
          "Chandler",
          "Chandler",
          "Chandler",
          "Chandler",
          "Chandler",
          "Chandler",
          "Chandler",
          "Chandler",
          "Chandler",
          "Chandler",
          "Chandler",
          "Chandler",
          "Chandler",
          "Chandler",
          "Chandler",
          "Chandler",
          "Chandler",
          "Chandler",
          "Chandler",
          "Chandler",
          "Chandler",
          "Chandler",
          "Chandler",
          "Chandler",
          "Chandler",
          "Chandler",
          "Chandler",
          "Chandler",
          "Chandler",
          "Chandler",
          "Chandler",
          "Chandler",
          "Chandler",
          "Chandler",
          "Chandler",
          "Chandler",
          "Chandler",
          "Chandler",
          "Chandler",
          "Chandler",
          "Chandler",
          "Chandler",
          "Chandler",
          "Chandler",
          "Chandler",
          "Chandler",
          "Chandler",
          "Chandler",
          "Chandler",
          "Chandler",
          "Chandler",
          "Chandler",
          "Chandler",
          "Chandler",
          "Chandler",
          "Chandler",
          "Chandler",
          "Chandler",
          "Chandler",
          "Chandler",
          "Chandler",
          "Chandler",
          "Chandler",
          "Chandler",
          "Chandler",
          "Chandler",
          "Chandler",
          "Chandler",
          "Chandler",
          "Chandler",
          "Chandler",
          "Chandler",
          "Chandler",
          "Chandler",
          "Chandler",
          "Chandler",
          "Chandler",
          "Chandler",
          "Chandler",
          "Chandler",
          "Chandler",
          "Chandler",
          "Chandler",
          "Chandler",
          "Chandler",
          "Chandler",
          "Chandler",
          "Chandler",
          "Chandler",
          "Chandler",
          "Chandler",
          "Chandler",
          "Chandler",
          "Chandler",
          "Chandler",
          "Chandler",
          "Chandler",
          "Chandler",
          "Chandler",
          "Chandler",
          "Chandler",
          "Chandler",
          "Chandler",
          "Chandler",
          "Chandler",
          "Chandler",
          "Chandler",
          "Chandler",
          "Chandler",
          "Chandler",
          "Chandler",
          "Chandler",
          "Chandler",
          "Chandler",
          "Chandler",
          "Chandler",
          "BT1",
          "BT1",
          "BT1",
          "BT1",
          "BT1",
          "BT1",
          "BT1",
          "BT1",
          "BT1",
          "BT1",
          "BT1",
          "BT1",
          "BT1",
          "BT1",
          "BT1",
          "BT1",
          "BT1",
          "BT1",
          "BT1",
          "BT1",
          "BT1",
          "BT1",
          "BT1",
          "BT1",
          "BT1",
          "BT1",
          "BT1",
          "BT1",
          "BT1",
          "BT1",
          "BT1",
          "BT1",
          "BT1",
          "BT1",
          "BT1",
          "BT1",
          "BT1",
          "BT1",
          "BT1",
          "BT1",
          "BT1",
          "BT1",
          "BT1",
          "BT1",
          "BT1",
          "BT1",
          "BT1",
          "BT1",
          "BT1",
          "BT1",
          "BT1",
          "BT1",
          "BT1",
          "BT1",
          "BT1",
          "BT1",
          "BT1",
          "BT1",
          "BT1",
          "BT1",
          "BT1",
          "BT1",
          "BT1",
          "BT1",
          "BT1",
          "BT1",
          "BT1",
          "BT1",
          "BT1",
          "BT1",
          "BT1",
          "BT1",
          "BT1",
          "BT1",
          "BT1",
          "BT1",
          "BT1",
          "BT1",
          "BT1",
          "BT1",
          "BT1",
          "BT1",
          "BT1",
          "BT1",
          "BT1",
          "BT1",
          "BT1",
          "BT1",
          "BT1",
          "BT1",
          "BT1",
          "BT1",
          "BT1",
          "BT1",
          "BT1",
          "BT1",
          "BT1",
          "BT1",
          "BT1",
          "BT1",
          "BT1",
          "BT1",
          "BT1",
          "BT1",
          "BT1",
          "BT1",
          "BT1",
          "BT1",
          "BT1",
          "BT1",
          "BT1",
          "BT1",
          "BT1",
          "BT1",
          "BT1",
          "BT1",
          "BT1",
          "BT1",
          "BT1",
          "BT1",
          "BT1",
          "BT1",
          "BT1",
          "BT1",
          "BT1",
          "BT1",
          "BT1",
          "BT1",
          "BT1",
          "BT1",
          "BT1",
          "BT1",
          "BT1",
          "BT1",
          "BT1",
          "BT1",
          "BT1",
          "BT1",
          "BT1",
          "BT1",
          "BT1",
          "BT1",
          "BT1",
          "BT1",
          "BT1",
          "BT1",
          "BT1",
          "BT1",
          "BT1",
          "BT1",
          "BT1",
          "BT1",
          "BT1",
          "BT1",
          "BT1",
          "BT1",
          "BT1",
          "BT1",
          "BT1",
          "BT1",
          "BT1",
          "BT1",
          "BT1",
          "BT1",
          "BT1",
          "BT1",
          "BT1",
          "BT1",
          "BT1",
          "BT1",
          "BT1",
          "BT1",
          "BT1",
          "BT1",
          "BT1",
          "BT1",
          "BT1",
          "BT1",
          "BT1",
          "BT1",
          "BT1",
          "BT1",
          "BT1",
          "BT1",
          "BT1",
          "BT1",
          "BT1",
          "BT1",
          "BT1",
          "BT1",
          "BT1",
          "BT1",
          "BT1",
          "BT1",
          "BT1",
          "BT1",
          "BT1",
          "BT1",
          "BT1",
          "BT1",
          "BT1",
          "BT1",
          "BT1",
          "BT1",
          "BT1",
          "BT1",
          "BT1",
          "BT1",
          "BT1",
          "BT1",
          "BT1",
          "BT1",
          "BT1",
          "BT1",
          "BT1",
          "BT1",
          "BT1",
          "BT1",
          "BT1",
          "BT1",
          "BT1",
          "BT1",
          "BT1",
          "BT1",
          "BT1",
          "BT1",
          "BT1",
          "BT1",
          "BT1",
          "BT1",
          "BT1",
          "BT1",
          "BT1",
          "BT1",
          "BT1",
          "BT1",
          "BT1",
          "BT1",
          "BT1",
          "BT1",
          "BT1",
          "BT1",
          "BT1",
          "BT1",
          "BT1",
          "BT1",
          "BT1",
          "BT1",
          "BT1",
          "BT1",
          "BT1",
          "BT1",
          "BT1",
          "BT1",
          "BT1",
          "BT1",
          "BT1",
          "BT1",
          "BT1",
          "BT1",
          "BT1",
          "BT1",
          "BT1",
          "BT1",
          "BT1",
          "BT1",
          "BT1",
          "BT1",
          "BT1",
          "BT1",
          "BT1",
          "BT1",
          "BT1",
          "BT1",
          "BT1",
          "BT1",
          "BT1",
          "BT1",
          "BT1",
          "BT1",
          "BT1",
          "BT1",
          "BT1",
          "BT1",
          "BT1",
          "BT1",
          "BT1",
          "BT1",
          "BT1",
          "BT1",
          "BT1",
          "BT1",
          "BT1",
          "BT1",
          "BT1",
          "BT1",
          "BT1",
          "BT1",
          "BT1",
          "BT1",
          "BT1",
          "BT1",
          "BT1",
          "BT1",
          "BT1",
          "BT1",
          "BT1",
          "BT1",
          "BT1",
          "BT1",
          "BT1",
          "BT1",
          "BT1",
          "BT1",
          "BT1",
          "BT1",
          "BT1",
          "BT1",
          "BT1",
          "BT1",
          "BT1",
          "BT1",
          "BT1",
          "BT1",
          "BT1",
          "BT1",
          "BT1",
          "BT1",
          "BT1",
          "BT1",
          "BT1",
          "BT1",
          "BT1",
          "BT1",
          "BT1",
          "BT1",
          "BT1",
          "BT1",
          "BT1",
          "BT1",
          "BT1",
          "BT1",
          "BT1",
          "BT1",
          "BT1",
          "BT1",
          "BT1",
          "BT1",
          "BT1",
          "BT1",
          "BT1",
          "BT1",
          "BT1",
          "BT1",
          "BT1",
          "BT1",
          "BT1",
          "BT1",
          "BT1",
          "BT1",
          "BT1",
          "BT1",
          "BT1",
          "BT1",
          "BT1",
          "BT1",
          "BT1",
          "BT1",
          "BT1",
          "BT1",
          "BT1",
          "BT1",
          "BT1",
          "BT1",
          "BT1",
          "BT1",
          "BT2",
          "BT2",
          "BT2",
          "BT2",
          "BT2",
          "BT2",
          "BT2",
          "BT2",
          "BT2",
          "BT2",
          "BT2",
          "BT2",
          "BT2",
          "BT2",
          "BT2",
          "BT2",
          "BT2",
          "BT2",
          "BT2",
          "BT2",
          "BT2",
          "BT2",
          "BT2",
          "BT2",
          "BT2",
          "BT2",
          "BT2",
          "BT2",
          "BT2",
          "BT2",
          "BT2",
          "BT2",
          "BT2",
          "BT2",
          "BT2",
          "BT2",
          "BT2",
          "BT2",
          "BT2",
          "BT2",
          "BT2",
          "BT2",
          "BT2",
          "BT2",
          "BT2",
          "BT2",
          "BT2",
          "BT2",
          "BT2",
          "BT2",
          "BT2",
          "BT2",
          "BT2",
          "BT2",
          "BT2",
          "BT2",
          "BT2",
          "BT2",
          "BT2",
          "BT2",
          "BT2",
          "BT2",
          "BT2",
          "BT2",
          "BT2",
          "BT2",
          "BT2",
          "BT2",
          "BT2",
          "BT2",
          "BT2",
          "BT2",
          "BT2",
          "BT2",
          "BT2",
          "BT2",
          "BT2",
          "BT2",
          "BT2",
          "BT2",
          "BT2",
          "BT2",
          "BT2",
          "BT2",
          "BT2",
          "BT2",
          "BT2",
          "BT2",
          "BT2",
          "BT2",
          "BT2",
          "BT2",
          "BT2",
          "BT2",
          "BT2",
          "BT2",
          "BT2",
          "BT2",
          "BT2",
          "BT2",
          "BT2",
          "BT2",
          "BT2",
          "BT2",
          "BT2",
          "BT2",
          "BT2",
          "BT2",
          "BT2",
          "BT2",
          "BT2",
          "BT2",
          "BT2",
          "BT2",
          "BT2",
          "BT2",
          "BT2",
          "BT2",
          "BT2",
          "BT2",
          "BT2",
          "BT2",
          "BT2",
          "BT2",
          "BT2",
          "BT2",
          "BT2",
          "BT2",
          "BT2",
          "BT2",
          "BT2",
          "BT2",
          "BT2",
          "BT2",
          "BT2",
          "BT2",
          "BT2",
          "BT2",
          "BT2",
          "BT2",
          "BT2",
          "BT2",
          "BT2",
          "BT2",
          "BT2",
          "BT2",
          "BT2",
          "BT2",
          "BT2",
          "BT2",
          "BT2",
          "BT2",
          "BT2",
          "BT2",
          "BT2",
          "BT2",
          "BT2",
          "BT2",
          "BT2",
          "BT2",
          "BT2",
          "BT2",
          "BT2",
          "BT2",
          "BT2",
          "BT2",
          "BT2",
          "BT2",
          "BT2",
          "BT2",
          "BT2",
          "BT2",
          "BT2",
          "BT2",
          "BT2",
          "BT2",
          "BT2",
          "BT2",
          "BT2",
          "BT2",
          "BT2",
          "BT2",
          "BT2",
          "BT2",
          "BT2",
          "BT2",
          "BT2",
          "BT2",
          "BT2",
          "BT2",
          "BT2",
          "BT2",
          "BT2",
          "BT2",
          "BT2",
          "BT2",
          "BT2",
          "BT2",
          "BT2",
          "BT2",
          "BT2",
          "BT2",
          "BT2",
          "BT2",
          "BT2",
          "BT2",
          "BT2",
          "BT2",
          "BT2",
          "BT2",
          "BT2",
          "BT2",
          "BT2",
          "BT2",
          "BT2",
          "BT2",
          "BT2",
          "BT2",
          "BT2",
          "BT2",
          "BT2",
          "BT2",
          "BT2",
          "BT2",
          "BT2",
          "BT2",
          "BT2",
          "BT2",
          "BT2",
          "BT2",
          "BT2",
          "BT2",
          "BT2",
          "BT2",
          "BT2",
          "BT2",
          "BT2",
          "BT2",
          "BT2",
          "BT2",
          "BT2",
          "BT2",
          "BT2",
          "BT2",
          "BT2",
          "BT2",
          "BT2",
          "BT2",
          "BT2",
          "BT2",
          "BT2",
          "BT2",
          "BT2",
          "BT2",
          "BT2",
          "BT2",
          "BT2",
          "BT2",
          "BT2",
          "BT2",
          "BT2",
          "BT2",
          "BT2",
          "BT2",
          "BT2",
          "BT2",
          "BT2",
          "BT2",
          "BT2",
          "BT2",
          "BT2",
          "BT2",
          "BT2",
          "BT2",
          "BT2",
          "BT2",
          "BT2",
          "BT2",
          "BT2",
          "BT2",
          "BT2",
          "BT2",
          "BT2",
          "BT2",
          "BT2",
          "BT2",
          "BT2",
          "BT2",
          "BT2",
          "BT2",
          "BT2",
          "BT2",
          "BT2",
          "BT2",
          "BT2",
          "BT2",
          "BT2",
          "BT2",
          "BT2",
          "BT2",
          "BT2",
          "BT2",
          "BT2",
          "BT2",
          "BT2",
          "BT2",
          "BT2",
          "BT2",
          "BT2",
          "BT2",
          "BT2",
          "BT2",
          "BT2",
          "BT2",
          "BT2",
          "BT2",
          "BT2",
          "BT2",
          "BT2",
          "BT2",
          "BT2",
          "BT2",
          "BT2",
          "BT2",
          "BT2",
          "BT2",
          "BT2",
          "BT2",
          "BT2",
          "BT2",
          "BT2",
          "BT2",
          "BT2",
          "BT2",
          "BT2",
          "BT2",
          "BT2",
          "BT2",
          "BT2",
          "BT2",
          "BT2",
          "BT2",
          "BT2",
          "BT2",
          "BT2",
          "BT2",
          "BT2",
          "BT2",
          "BT2",
          "BT2",
          "BT2",
          "BT2",
          "BT2",
          "BT2",
          "BT2",
          "BT2",
          "BT2",
          "BT2",
          "BT2",
          "BT2",
          "BT2",
          "BT2",
          "BT2",
          "BT2",
          "BT2",
          "BT2",
          "BT2",
          "BT2",
          "BT2",
          "BT2",
          "BT2",
          "BT2",
          "BT2",
          "BT2",
          "BT2",
          "BT2",
          "BT3",
          "BT3",
          "BT3",
          "BT3",
          "BT3",
          "BT3",
          "BT3",
          "BT3",
          "BT3",
          "BT3",
          "BT3",
          "BT3",
          "BT3",
          "BT3",
          "BT3",
          "BT3",
          "BT3",
          "BT3",
          "BT3",
          "BT3",
          "BT3",
          "BT3",
          "BT3",
          "BT3",
          "BT3",
          "BT3",
          "BT3",
          "BT3",
          "BT3",
          "BT3",
          "BT3",
          "BT3",
          "BT3",
          "BT3",
          "BT3",
          "BT3",
          "BT3",
          "BT3",
          "BT3",
          "BT3",
          "BT3",
          "BT3",
          "BT3",
          "BT3",
          "BT3",
          "BT3",
          "BT3",
          "BT3",
          "BT3",
          "BT3",
          "BT3",
          "BT3",
          "BT3",
          "BT3",
          "BT3",
          "BT3",
          "BT3",
          "BT3",
          "BT3",
          "BT3",
          "BT3",
          "BT3",
          "BT3",
          "BT3",
          "BT3",
          "BT3",
          "BT3",
          "BT3",
          "BT3",
          "BT3",
          "BT3",
          "BT3",
          "BT3",
          "BT3",
          "BT3",
          "BT3",
          "BT3",
          "BT3",
          "BT3",
          "BT3",
          "BT3",
          "BT3",
          "BT3",
          "BT3",
          "BT3",
          "BT3",
          "BT3",
          "BT3",
          "BT3",
          "BT3",
          "BT3",
          "BT3",
          "BT3",
          "BT3",
          "BT3",
          "BT3",
          "BT3",
          "BT3",
          "BT3",
          "BT3",
          "BT3",
          "BT3",
          "BT3",
          "BT3",
          "BT3",
          "BT3",
          "BT3",
          "BT3",
          "BT3",
          "BT3",
          "BT3",
          "BT3",
          "BT3",
          "BT3",
          "BT3",
          "BT3",
          "BT3",
          "BT3",
          "BT3",
          "BT3",
          "BT3",
          "BT3",
          "BT3",
          "BT3",
          "BT3",
          "BT3",
          "BT3",
          "BT3",
          "BT3",
          "BT3",
          "BT3",
          "BT3",
          "BT3",
          "BT3",
          "BT3",
          "BT3",
          "BT3",
          "BT3",
          "BT3",
          "BT3",
          "BT3",
          "BT3",
          "BT3",
          "BT3",
          "BT3",
          "BT3",
          "BT3",
          "BT3",
          "BT3",
          "BT3",
          "BT3",
          "BT3",
          "BT3",
          "BT3",
          "BT3",
          "BT3",
          "BT3",
          "BT3",
          "BT3",
          "BT3",
          "BT3",
          "BT3",
          "BT3",
          "BT3",
          "BT3",
          "BT3",
          "BT3",
          "BT3",
          "BT3",
          "BT3",
          "BT3",
          "BT3",
          "BT3",
          "BT3",
          "BT3",
          "BT3",
          "BT3",
          "BT3",
          "BT3",
          "BT3",
          "BT3",
          "BT3",
          "BT3",
          "BT3",
          "BT3",
          "BT3",
          "BT3",
          "BT3",
          "BT3",
          "BT3",
          "BT3",
          "BT3",
          "BT3",
          "BT3",
          "BT3",
          "BT3",
          "BT3",
          "BT3",
          "BT3",
          "BT3",
          "BT3",
          "BT3",
          "BT3",
          "BT3",
          "BT3",
          "BT3",
          "BT3",
          "BT3",
          "BT3",
          "BT3",
          "BT3",
          "BT3",
          "BT3",
          "BT3",
          "BT3",
          "BT3",
          "BT3",
          "BT3",
          "BT3",
          "BT3",
          "BT3",
          "BT3",
          "BT3",
          "BT3",
          "BT3",
          "BT3",
          "BT3",
          "BT3",
          "BT3",
          "BT3",
          "BT3",
          "BT3",
          "BT3",
          "BT3",
          "BT3",
          "BT3",
          "BT3",
          "BT3",
          "BT3",
          "BT3",
          "BT3",
          "BT3",
          "BT3",
          "BT3",
          "BT3",
          "BT3",
          "BT3",
          "BT3",
          "BT3",
          "BT3",
          "BT3",
          "BT3",
          "BT3",
          "BT3",
          "BT3",
          "BT3",
          "BT3",
          "BT3",
          "BT3",
          "BT3",
          "BT3",
          "BT3",
          "BT3",
          "BT3",
          "BT3",
          "BT3",
          "BT3",
          "BT3",
          "BT3",
          "BT3",
          "BT3",
          "BT3",
          "BT3",
          "BT3",
          "BT3",
          "BT3",
          "BT3",
          "BT3",
          "BT3",
          "BT3",
          "BT3",
          "BT3",
          "BT3",
          "BT3",
          "BT3",
          "BT3",
          "BT3",
          "BT3",
          "BT3",
          "BT3",
          "BT3",
          "BT3",
          "BT3",
          "BT3",
          "BT3",
          "BT3",
          "BT3",
          "BT3",
          "BT3",
          "BT3",
          "BT3",
          "BT3",
          "BT3",
          "BT3",
          "BT3",
          "BT3",
          "BT3",
          "BT3",
          "BT3",
          "BT3",
          "BT3",
          "BT3",
          "BT3",
          "BT3",
          "BT3",
          "BT3",
          "BT3",
          "BT3",
          "BT3",
          "BT3",
          "BT3",
          "BT3",
          "BT3",
          "BT3",
          "BT3",
          "BT3",
          "BT3",
          "BT3",
          "BT3",
          "BT3",
          "BT3",
          "BT3",
          "BT3",
          "BT3",
          "BT3",
          "BT3",
          "BT3",
          "BT3",
          "BT3",
          "BT3",
          "BT3",
          "BT3",
          "BT3",
          "BT3",
          "BT3",
          "BT3",
          "BT3",
          "BT3",
          "BT3",
          "BT3",
          "BT3",
          "BT3",
          "BT3",
          "BT3",
          "BT3",
          "BT3",
          "BT3",
          "BT3",
          "BT3",
          "BT3",
          "BT3",
          "BT3",
          "BT3",
          "BT3",
          "BT3",
          "BT3",
          "BT3",
          "BT3",
          "BT3",
          "BT3",
          "BT3",
          "BT3",
          "BT3",
          "BT3",
          "BT3",
          "BT3",
          "BT4",
          "BT4",
          "BT4",
          "BT4",
          "BT4",
          "BT4",
          "BT4",
          "BT4",
          "BT4",
          "BT4",
          "BT4",
          "BT4",
          "BT4",
          "BT4",
          "BT4",
          "BT4",
          "BT4",
          "BT4",
          "BT4",
          "BT4",
          "BT4",
          "BT4",
          "BT4",
          "BT4",
          "BT4",
          "BT4",
          "BT4",
          "BT4",
          "BT4",
          "BT4",
          "BT4",
          "BT4",
          "BT4",
          "BT4",
          "BT4",
          "BT4",
          "BT4",
          "BT4",
          "BT4",
          "BT4",
          "BT4",
          "BT4",
          "BT4",
          "BT4",
          "BT4",
          "BT4",
          "BT4",
          "BT4",
          "BT4",
          "BT4",
          "BT4",
          "BT4",
          "BT4",
          "BT4",
          "BT4",
          "BT4",
          "BT4",
          "BT4",
          "BT4",
          "BT4",
          "BT4",
          "BT4",
          "BT4",
          "BT4",
          "BT4",
          "BT4",
          "BT4",
          "BT4",
          "BT4",
          "BT4",
          "BT4",
          "BT4",
          "BT4",
          "BT4",
          "BT4",
          "BT4",
          "BT4",
          "BT4",
          "BT4",
          "BT4",
          "BT4",
          "BT4",
          "BT4",
          "BT4",
          "BT4",
          "BT4",
          "BT4",
          "BT4",
          "BT4",
          "BT4",
          "BT4",
          "BT4",
          "BT4",
          "BT4",
          "BT4",
          "BT4",
          "BT4",
          "BT4",
          "BT4",
          "BT4",
          "BT4",
          "BT4",
          "BT4",
          "BT4",
          "BT4",
          "BT4",
          "BT4",
          "BT4",
          "BT4",
          "BT4",
          "BT4",
          "BT4",
          "BT4",
          "BT4",
          "BT4",
          "BT4",
          "BT4",
          "BT4",
          "BT4",
          "BT4",
          "BT4",
          "BT4",
          "BT4",
          "BT4",
          "BT4",
          "BT4",
          "BT4",
          "BT4",
          "BT4",
          "BT4",
          "BT4",
          "BT4",
          "BT4",
          "BT4",
          "BT4",
          "BT4",
          "BT4",
          "BT4",
          "BT4",
          "BT4",
          "BT4",
          "BT4",
          "BT4",
          "BT4",
          "BT4",
          "BT4",
          "BT4",
          "BT4",
          "BT4",
          "BT4",
          "BT4",
          "BT4",
          "BT4",
          "BT4",
          "BT4",
          "BT4",
          "BT4",
          "BT4",
          "BT4",
          "BT4",
          "BT4",
          "BT4",
          "BT4",
          "BT4",
          "BT4",
          "BT4",
          "BT4",
          "BT4",
          "BT4",
          "BT4",
          "BT4",
          "BT4",
          "BT4",
          "BT4",
          "BT4",
          "BT4",
          "BT4",
          "BT4",
          "BT4",
          "BT4",
          "BT4",
          "BT4",
          "BT4",
          "BT4",
          "BT4",
          "BT4",
          "BT4",
          "BT4",
          "BT4",
          "BT4",
          "BT4",
          "BT4",
          "BT4",
          "BT4",
          "BT4",
          "BT4",
          "BT4",
          "BT4",
          "BT4",
          "BT4",
          "BT4",
          "BT4",
          "BT4",
          "BT4",
          "BT4",
          "BT4",
          "BT4",
          "BT4",
          "BT4",
          "BT4",
          "BT4",
          "BT4",
          "BT4",
          "BT4",
          "BT4",
          "BT4",
          "BT4",
          "BT4",
          "BT4",
          "BT4",
          "BT4",
          "BT4",
          "BT4",
          "BT4",
          "BT4",
          "BT4",
          "BT4",
          "BT4",
          "BT4",
          "BT4",
          "BT4",
          "BT4",
          "BT4",
          "BT4",
          "BT4",
          "BT4",
          "BT4",
          "BT4",
          "BT4",
          "BT4",
          "BT4",
          "BT4",
          "BT4",
          "BT4",
          "BT4",
          "BT4",
          "BT4",
          "BT4",
          "BT4",
          "BT4",
          "BT4",
          "BT4",
          "BT4",
          "BT4",
          "BT4",
          "BT4",
          "BT4",
          "BT4",
          "BT4",
          "BT4",
          "BT4",
          "BT4",
          "BT4",
          "BT4",
          "BT4",
          "BT4",
          "BT4",
          "BT4",
          "BT4",
          "BT4",
          "BT4",
          "BT4",
          "BT4",
          "BT4",
          "BT4",
          "BT4",
          "BT4",
          "BT4",
          "BT4",
          "BT4",
          "BT4",
          "BT4",
          "BT4",
          "BT4",
          "BT4",
          "BT4",
          "BT4",
          "BT4",
          "BT4",
          "BT4",
          "BT4",
          "BT4",
          "BT4",
          "BT4",
          "BT4",
          "BT4",
          "BT4",
          "BT4",
          "BT4",
          "BT4",
          "BT4",
          "BT4",
          "BT4",
          "BT4",
          "BT4",
          "BT4",
          "BT4",
          "BT4",
          "BT4",
          "BT4",
          "BT4",
          "BT4",
          "BT4",
          "BT4",
          "BT4",
          "BT4",
          "BT4",
          "BT4",
          "BT4",
          "BT4",
          "BT4",
          "BT4",
          "BT4",
          "BT4",
          "BT4",
          "BT4",
          "BT4",
          "BT4",
          "BT4",
          "BT4",
          "BT4",
          "BT4",
          "BT4",
          "BT4",
          "BT4",
          "BT4",
          "BT4",
          "BT4",
          "BT4",
          "BT4",
          "BT4",
          "BT4",
          "BT4",
          "BT4",
          "BT4",
          "BT4",
          "BT4",
          "BT4",
          "BT4",
          "BT4",
          "BT4",
          "BT4",
          "BT4",
          "BT4",
          "BT4",
          "BT4",
          "BT4",
          "BT4",
          "BT4",
          "BT4",
          "BT4",
          "BT4",
          "BT4",
          "BT4",
          "BT4",
          "BT4",
          "BT4",
          "BT4",
          "BT4",
          "BT4",
          "BT4",
          "BT4",
          "BT4",
          "BT4",
          "BT4",
          "BT4",
          "BT5",
          "BT5",
          "BT5",
          "BT5",
          "BT5",
          "BT5",
          "BT5",
          "BT5",
          "BT5",
          "BT5",
          "BT5",
          "BT5",
          "BT5",
          "BT5",
          "BT5",
          "BT5",
          "BT5",
          "BT5",
          "BT5",
          "BT5",
          "BT5",
          "BT5",
          "BT5",
          "BT5",
          "BT5",
          "BT5",
          "BT5",
          "BT5",
          "BT5",
          "BT5",
          "BT5",
          "BT5",
          "BT5",
          "BT5",
          "BT5",
          "BT5",
          "BT5",
          "BT5",
          "BT5",
          "BT5",
          "BT5",
          "BT5",
          "BT5",
          "BT5",
          "BT5",
          "BT5",
          "BT5",
          "BT5",
          "BT5",
          "BT5",
          "BT5",
          "BT5",
          "BT5",
          "BT5",
          "BT5",
          "BT5",
          "BT5",
          "BT5",
          "BT5",
          "BT5",
          "BT5",
          "BT5",
          "BT5",
          "BT5",
          "BT5",
          "BT5",
          "BT5",
          "BT5",
          "BT5",
          "BT5",
          "BT5",
          "BT5",
          "BT5",
          "BT5",
          "BT5",
          "BT5",
          "BT5",
          "BT5",
          "BT5",
          "BT5",
          "BT5",
          "BT5",
          "BT5",
          "BT5",
          "BT5",
          "BT5",
          "BT5",
          "BT5",
          "BT5",
          "BT5",
          "BT5",
          "BT5",
          "BT5",
          "BT5",
          "BT5",
          "BT5",
          "BT5",
          "BT5",
          "BT5",
          "BT5",
          "BT5",
          "BT5",
          "BT5",
          "BT5",
          "BT5",
          "BT5",
          "BT5",
          "BT5",
          "BT5",
          "BT5",
          "BT5",
          "BT5",
          "BT5",
          "BT5",
          "BT5",
          "BT5",
          "BT5",
          "BT5",
          "BT5",
          "BT5",
          "BT5",
          "BT5",
          "BT5",
          "BT5",
          "BT5",
          "BT5",
          "BT5",
          "BT5",
          "BT5",
          "BT5",
          "BT5",
          "BT5",
          "BT5",
          "BT5",
          "BT5",
          "BT5",
          "BT5",
          "BT5",
          "BT5",
          "BT5",
          "BT5",
          "BT5",
          "BT5",
          "BT5",
          "BT5",
          "BT5",
          "BT5",
          "BT5",
          "BT5",
          "BT5",
          "BT5",
          "BT5",
          "BT5",
          "BT5",
          "BT5",
          "BT5",
          "BT5",
          "BT5",
          "BT5",
          "BT5",
          "BT5",
          "BT5",
          "BT5",
          "BT5",
          "BT5",
          "BT5",
          "BT5",
          "BT5",
          "BT5",
          "BT5",
          "BT5",
          "BT5",
          "BT5",
          "BT5",
          "BT5",
          "BT5",
          "BT5",
          "BT5",
          "BT5",
          "BT5",
          "BT5",
          "BT5",
          "BT5",
          "BT5",
          "BT5",
          "BT5",
          "BT5",
          "BT5",
          "BT5",
          "BT5",
          "BT5",
          "BT5",
          "BT5",
          "BT5",
          "BT5",
          "BT5",
          "BT5",
          "BT5",
          "BT5",
          "BT5",
          "BT5",
          "BT5",
          "BT5",
          "BT5",
          "BT5",
          "BT5",
          "BT5",
          "BT5",
          "BT5",
          "BT5",
          "BT5",
          "BT5",
          "BT5",
          "BT5",
          "BT5",
          "BT5",
          "BT5",
          "BT5",
          "BT5",
          "BT5",
          "BT5",
          "BT5",
          "BT5",
          "BT5",
          "BT5",
          "BT5",
          "BT5",
          "BT5",
          "BT5",
          "BT5",
          "BT5",
          "BT5",
          "BT5",
          "BT5",
          "BT5",
          "BT5",
          "BT5",
          "BT5",
          "BT5",
          "BT5",
          "BT5",
          "BT5",
          "BT5",
          "BT5",
          "BT5",
          "BT5",
          "BT5",
          "BT5",
          "BT5",
          "BT5",
          "BT5",
          "BT5",
          "BT5",
          "BT5",
          "BT5",
          "BT5",
          "BT5",
          "BT5",
          "BT5",
          "BT5",
          "BT5",
          "BT5",
          "BT5",
          "BT5",
          "BT5",
          "BT5",
          "BT5",
          "BT5",
          "BT5",
          "BT5",
          "BT5",
          "BT5",
          "BT5",
          "BT5",
          "BT5",
          "BT5",
          "BT5",
          "BT5",
          "BT5",
          "BT5",
          "BT5",
          "BT5",
          "BT5",
          "BT5",
          "BT5",
          "BT5",
          "BT5",
          "BT5",
          "BT5",
          "BT5",
          "BT5",
          "BT5",
          "BT5",
          "BT5",
          "BT5",
          "BT5",
          "BT5",
          "BT5",
          "BT5",
          "BT5",
          "BT5",
          "BT5",
          "BT5",
          "BT5",
          "BT5",
          "BT5",
          "BT5",
          "BT5",
          "BT5",
          "BT5",
          "BT5",
          "BT5",
          "BT5",
          "BT5",
          "BT5",
          "BT5",
          "BT5",
          "BT5",
          "BT5",
          "BT5",
          "BT5",
          "BT5",
          "BT5",
          "BT5",
          "BT5",
          "BT5",
          "BT5",
          "BT5",
          "BT5",
          "BT5",
          "BT5",
          "BT5",
          "BT5",
          "BT5",
          "BT5",
          "BT5",
          "BT5",
          "BT5",
          "BT5",
          "BT5",
          "BT5",
          "BT5",
          "BT5",
          "BT5",
          "BT5",
          "BT5",
          "BT5",
          "BT5",
          "BT5",
          "BT5",
          "BT5",
          "BT5",
          "BT5",
          "BT5",
          "BT5",
          "BT5",
          "BT5",
          "BT5",
          "BT5",
          "BT5",
          "BT5",
          "BT5",
          "BT5",
          "BT5",
          "BT5",
          "BT5",
          "BT5",
          "BT5",
          "BT5",
          "BT5",
          "BT5",
          "BT5",
          "BT5",
          "BT5",
          "BT5",
          "BT5",
          "GR1",
          "GR1",
          "GR1",
          "GR1",
          "GR1",
          "GR1",
          "GR1",
          "GR1",
          "GR1",
          "GR1",
          "GR1",
          "GR1",
          "GR1",
          "GR1",
          "GR1",
          "GR1",
          "GR1",
          "GR1",
          "GR1",
          "GR1",
          "GR1",
          "GR1",
          "GR1",
          "GR1",
          "GR1",
          "GR1",
          "GR1",
          "GR1",
          "GR1",
          "GR1",
          "GR1",
          "GR1",
          "GR1",
          "GR1",
          "GR1",
          "GR1",
          "GR1",
          "GR1",
          "GR1",
          "GR1",
          "GR1",
          "GR1",
          "GR1",
          "GR1",
          "GR1",
          "GR1",
          "GR1",
          "GR1",
          "GR1",
          "GR1",
          "GR1",
          "GR1",
          "GR1",
          "GR1",
          "GR1",
          "GR1",
          "GR1",
          "GR1",
          "GR1",
          "GR1",
          "GR1",
          "GR1",
          "GR1",
          "GR1",
          "GR1",
          "GR1",
          "GR1",
          "GR1",
          "GR1",
          "GR1",
          "GR1",
          "GR1",
          "GR1",
          "GR1",
          "GR1",
          "GR1",
          "GR1",
          "GR1",
          "GR1",
          "GR1",
          "GR1",
          "GR1",
          "GR1",
          "GR1",
          "GR1",
          "GR1",
          "GR1",
          "GR1",
          "GR1",
          "GR1",
          "GR1",
          "GR1",
          "GR1",
          "GR1",
          "GR1",
          "GR1",
          "GR1",
          "GR1",
          "GR1",
          "GR1",
          "GR1",
          "GR1",
          "GR1",
          "GR1",
          "GR1",
          "GR1",
          "GR1",
          "GR1",
          "GR1",
          "GR1",
          "GR1",
          "GR1",
          "GR1",
          "GR1",
          "GR1",
          "GR1",
          "GR1",
          "GR1",
          "GR1",
          "GR1",
          "GR1",
          "GR1",
          "GR1",
          "GR1",
          "GR1",
          "GR1",
          "GR1",
          "GR1",
          "GR1",
          "GR1",
          "GR1",
          "GR1",
          "GR1",
          "GR1",
          "GR1",
          "GR1",
          "GR1",
          "GR1",
          "GR1",
          "GR1",
          "GR1",
          "GR1",
          "GR1",
          "GR1",
          "GR1",
          "GR1",
          "GR1",
          "GR1",
          "GR1",
          "GR1",
          "GR1",
          "GR1",
          "GR1",
          "GR1",
          "GR1",
          "GR1",
          "GR1",
          "GR1",
          "GR1",
          "GR1",
          "GR1",
          "GR1",
          "GR1",
          "GR1",
          "GR1",
          "GR1",
          "GR1",
          "GR1",
          "GR1",
          "GR1",
          "GR1",
          "GR1",
          "GR1",
          "GR1",
          "GR1",
          "GR1",
          "GR1",
          "GR1",
          "GR1",
          "GR1",
          "GR1",
          "GR1",
          "GR1",
          "GR1",
          "GR1",
          "GR1",
          "GR1",
          "GR1",
          "GR1",
          "GR1",
          "GR1",
          "GR1",
          "GR1",
          "GR1",
          "GR1",
          "GR1",
          "GR1",
          "GR1",
          "GR1",
          "GR1",
          "GR1",
          "GR1",
          "GR1",
          "GR1",
          "GR1",
          "GR1",
          "GR1",
          "GR1",
          "GR1",
          "GR1",
          "GR1",
          "GR1",
          "GR1",
          "GR1",
          "GR1",
          "GR1",
          "GR1",
          "GR1",
          "GR1",
          "GR1",
          "GR1",
          "GR1",
          "GR1",
          "GR1",
          "GR1",
          "GR1",
          "GR1",
          "GR1",
          "GR1",
          "GR1",
          "GR1",
          "GR1",
          "GR1",
          "GR1",
          "GR1",
          "GR1",
          "GR1",
          "GR1",
          "GR1",
          "GR1",
          "GR1",
          "GR1",
          "GR1",
          "GR1",
          "GR1",
          "GR1",
          "GR1",
          "GR1",
          "GR1",
          "GR1",
          "GR1",
          "GR1",
          "GR1",
          "GR1",
          "GR1",
          "GR1",
          "GR1",
          "GR1",
          "GR1",
          "GR1",
          "GR1",
          "GR1",
          "GR1",
          "GR1",
          "GR1",
          "GR1",
          "GR1",
          "GR1",
          "GR1",
          "GR1",
          "GR1",
          "GR1",
          "GR1",
          "GR1",
          "GR1",
          "GR1",
          "GR1",
          "GR1",
          "GR1",
          "GR1",
          "GR1",
          "GR1",
          "GR1",
          "GR1",
          "GR1",
          "GR1",
          "GR1",
          "GR1",
          "GR1",
          "GR1",
          "GR1",
          "GR1",
          "GR1",
          "GR1",
          "GR1",
          "GR1",
          "GR1",
          "GR1",
          "GR1",
          "GR1",
          "GR1",
          "GR1",
          "GR1",
          "GR1",
          "GR1",
          "GR1",
          "GR1",
          "GR1",
          "GR1",
          "GR1",
          "GR1",
          "GR1",
          "GR1",
          "GR1",
          "GR1",
          "GR1",
          "GR1",
          "GR1",
          "GR1",
          "GR1",
          "GR1",
          "GR1",
          "GR1",
          "GR1",
          "GR1",
          "GR1",
          "GR1",
          "GR1",
          "GR1",
          "GR1",
          "GR1",
          "GR1",
          "GR1",
          "GR1",
          "GR1",
          "GR1",
          "GR1",
          "GR1",
          "GR1",
          "GR1",
          "GR1",
          "GR1",
          "GR1",
          "GR1",
          "GR1",
          "GR1",
          "GR1",
          "GR1",
          "GR1",
          "GR1",
          "GR1",
          "GR1",
          "GR1",
          "GR1",
          "GR1",
          "GR1",
          "GR1",
          "GR1",
          "GR1",
          "GR1",
          "GR1",
          "GR1",
          "GR1",
          "GR1",
          "GR1",
          "GR1",
          "GR1",
          "GR1",
          "GR1",
          "GR1",
          "GR1",
          "GR1",
          "GR1",
          "GR1",
          "GR1",
          "GR1",
          "GR2",
          "GR2",
          "GR2",
          "GR2",
          "GR2",
          "GR2",
          "GR2",
          "GR2",
          "GR2",
          "GR2",
          "GR2",
          "GR2",
          "GR2",
          "GR2",
          "GR2",
          "GR2",
          "GR2",
          "GR2",
          "GR2",
          "GR2",
          "GR2",
          "GR2",
          "GR2",
          "GR2",
          "GR2",
          "GR2",
          "GR2",
          "GR2",
          "GR2",
          "GR2",
          "GR2",
          "GR2",
          "GR2",
          "GR2",
          "GR2",
          "GR2",
          "GR2",
          "GR2",
          "GR2",
          "GR2",
          "GR2",
          "GR2",
          "GR2",
          "GR2",
          "GR2",
          "GR2",
          "GR2",
          "GR2",
          "GR2",
          "GR2",
          "GR2",
          "GR2",
          "GR2",
          "GR2",
          "GR2",
          "GR2",
          "GR2",
          "GR2",
          "GR2",
          "GR2",
          "GR2",
          "GR2",
          "GR2",
          "GR2",
          "GR2",
          "GR2",
          "GR2",
          "GR2",
          "GR2",
          "GR2",
          "GR2",
          "GR2",
          "GR2",
          "GR2",
          "GR2",
          "GR2",
          "GR2",
          "GR2",
          "GR2",
          "GR2",
          "GR2",
          "GR2",
          "GR2",
          "GR2",
          "GR2",
          "GR2",
          "GR2",
          "GR2",
          "GR2",
          "GR2",
          "GR2",
          "GR2",
          "GR2",
          "GR2",
          "GR2",
          "GR2",
          "GR2",
          "GR2",
          "GR2",
          "GR2",
          "GR2",
          "GR2",
          "GR2",
          "GR2",
          "GR2",
          "GR2",
          "GR2",
          "GR2",
          "GR2",
          "GR2",
          "GR2",
          "GR2",
          "GR2",
          "GR2",
          "GR2",
          "GR2",
          "GR2",
          "GR2",
          "GR2",
          "GR2",
          "GR2",
          "GR2",
          "GR2",
          "GR2",
          "GR2",
          "GR2",
          "GR2",
          "GR2",
          "GR2",
          "GR2",
          "GR2",
          "GR2",
          "GR2",
          "GR2",
          "GR2",
          "GR2",
          "GR2",
          "GR2",
          "GR2",
          "GR2",
          "GR2",
          "GR2",
          "GR2",
          "GR2",
          "GR2",
          "GR2",
          "GR2",
          "GR2",
          "GR2",
          "GR2",
          "GR2",
          "GR2",
          "GR2",
          "GR2",
          "GR2",
          "GR2",
          "GR2",
          "GR2",
          "GR2",
          "GR2",
          "GR2",
          "GR2",
          "GR2",
          "GR2",
          "GR2",
          "GR2",
          "GR2",
          "GR2",
          "GR2",
          "GR2",
          "GR2",
          "GR2",
          "GR2",
          "GR2",
          "GR2",
          "GR2",
          "GR2",
          "GR2",
          "GR2",
          "GR2",
          "GR2",
          "GR2",
          "GR2",
          "GR2",
          "GR2",
          "GR2",
          "GR2",
          "GR2",
          "GR2",
          "GR2",
          "GR2",
          "GR2",
          "GR2",
          "GR2",
          "GR2",
          "GR2",
          "GR2",
          "GR2",
          "GR2",
          "GR2",
          "GR2",
          "GR2",
          "GR2",
          "GR2",
          "GR2",
          "GR2",
          "GR2",
          "GR2",
          "GR2",
          "GR2",
          "GR2",
          "GR2",
          "GR2",
          "GR2",
          "GR2",
          "GR2",
          "GR2",
          "GR2",
          "GR2",
          "GR2",
          "GR2",
          "GR2",
          "GR2",
          "GR2",
          "GR2",
          "GR2",
          "GR2",
          "GR2",
          "GR2",
          "GR2",
          "GR2",
          "GR2",
          "GR2",
          "GR2",
          "GR2",
          "GR2",
          "GR2",
          "GR2",
          "GR2",
          "GR2",
          "GR2",
          "GR2",
          "GR2",
          "GR2",
          "GR2",
          "GR2",
          "GR2",
          "GR2",
          "GR2",
          "GR2",
          "GR2",
          "GR2",
          "GR2",
          "GR2",
          "GR2",
          "GR2",
          "GR2",
          "GR2",
          "GR2",
          "GR2",
          "GR2",
          "GR2",
          "GR2",
          "GR2",
          "GR2",
          "GR2",
          "GR2",
          "GR2",
          "GR2",
          "GR2",
          "GR2",
          "GR2",
          "GR2",
          "GR2",
          "GR2",
          "GR2",
          "GR2",
          "GR2",
          "GR2",
          "GR2",
          "GR2",
          "GR2",
          "GR2",
          "GR2",
          "GR2",
          "GR2",
          "GR2",
          "GR2",
          "GR2",
          "GR2",
          "GR2",
          "GR2",
          "GR2",
          "GR2",
          "GR2",
          "GR2",
          "GR2",
          "GR2",
          "GR2",
          "GR2",
          "GR2",
          "GR2",
          "GR2",
          "GR2",
          "GR2",
          "GR2",
          "GR2",
          "GR2",
          "GR2",
          "GR2",
          "GR2",
          "GR2",
          "GR2",
          "GR2",
          "GR2",
          "GR2",
          "GR2",
          "GR2",
          "GR2",
          "GR2",
          "GR2",
          "GR2",
          "GR2",
          "GR2",
          "GR2",
          "GR2",
          "GR2",
          "GR2",
          "GR2",
          "GR2",
          "GR2",
          "GR2",
          "GR2",
          "GR2",
          "GR2",
          "GR2",
          "GR2",
          "GR2",
          "GR2",
          "GR2",
          "GR2",
          "GR2",
          "GR2",
          "GR2",
          "GR2",
          "GR2",
          "GR2",
          "GR2",
          "GR2",
          "GR2",
          "GR2",
          "GR2",
          "GR2",
          "GR2",
          "GR2",
          "GR2",
          "GR2",
          "GR2",
          "GR2",
          "GR2",
          "GR2",
          "GR2",
          "GR2",
          "GR2",
          "GR2",
          "GR2",
          "GR2",
          "GR2",
          "GR2",
          "GR2",
          "GR2",
          "GR2",
          "GR2",
          "GR2",
          "GR2",
          "GR2",
          "GR3",
          "GR3",
          "GR3",
          "GR3",
          "GR3",
          "GR3",
          "GR3",
          "GR3",
          "GR3",
          "GR3",
          "GR3",
          "GR3",
          "GR3",
          "GR3",
          "GR3",
          "GR3",
          "GR3",
          "GR3",
          "GR3",
          "GR3",
          "GR3",
          "GR3",
          "GR3",
          "GR3",
          "GR3",
          "GR3",
          "GR3",
          "GR3",
          "GR3",
          "GR3",
          "GR3",
          "GR3",
          "GR3",
          "GR3",
          "GR3",
          "GR3",
          "GR3",
          "GR3",
          "GR3",
          "GR3",
          "GR3",
          "GR3",
          "GR3",
          "GR3",
          "GR3",
          "GR3",
          "GR3",
          "GR3",
          "GR3",
          "GR3",
          "GR3",
          "GR3",
          "GR3",
          "GR3",
          "GR3",
          "GR3",
          "GR3",
          "GR3",
          "GR3",
          "GR3",
          "GR3",
          "GR3",
          "GR3",
          "GR3",
          "GR3",
          "GR3",
          "GR3",
          "GR3",
          "GR3",
          "GR3",
          "GR3",
          "GR3",
          "GR3",
          "GR3",
          "GR3",
          "GR3",
          "GR3",
          "GR3",
          "GR3",
          "GR3",
          "GR3",
          "GR3",
          "GR3",
          "GR3",
          "GR3",
          "GR3",
          "GR3",
          "GR3",
          "GR3",
          "GR3",
          "GR3",
          "GR3",
          "GR3",
          "GR3",
          "GR3",
          "GR3",
          "GR3",
          "GR3",
          "GR3",
          "GR3",
          "GR3",
          "GR3",
          "GR3",
          "GR3",
          "GR3",
          "GR3",
          "GR3",
          "GR3",
          "GR3",
          "GR3",
          "GR3",
          "GR3",
          "GR3",
          "GR3",
          "GR3",
          "GR3",
          "GR3",
          "GR3",
          "GR3",
          "GR3",
          "GR3",
          "GR3",
          "GR3",
          "GR3",
          "GR3",
          "GR3",
          "GR3",
          "GR3",
          "GR3",
          "GR3",
          "GR3",
          "GR3",
          "GR3",
          "GR3",
          "GR3",
          "GR3",
          "GR3",
          "GR3",
          "GR3",
          "GR3",
          "GR3",
          "GR3",
          "GR3",
          "GR3",
          "GR3",
          "GR3",
          "GR3",
          "GR3",
          "GR3",
          "GR3",
          "GR3",
          "GR3",
          "GR3",
          "GR3",
          "GR3",
          "GR3",
          "GR3",
          "GR3",
          "GR3",
          "GR3",
          "GR3",
          "GR3",
          "GR3",
          "GR3",
          "GR3",
          "GR3",
          "GR3",
          "GR3",
          "GR3",
          "GR3",
          "GR3",
          "GR3",
          "GR3",
          "GR3",
          "GR3",
          "GR3",
          "GR3",
          "GR3",
          "GR3",
          "GR3",
          "GR3",
          "GR3",
          "GR3",
          "GR3",
          "GR3",
          "GR3",
          "GR3",
          "GR3",
          "GR3",
          "GR3",
          "GR3",
          "GR3",
          "GR3",
          "GR3",
          "GR3",
          "GR3",
          "GR3",
          "GR3",
          "GR3",
          "GR3",
          "GR3",
          "GR3",
          "GR3",
          "GR3",
          "GR3",
          "GR3",
          "GR3",
          "GR3",
          "GR3",
          "GR3",
          "GR3",
          "GR3",
          "GR3",
          "GR3",
          "GR3",
          "GR3",
          "GR3",
          "GR3",
          "GR3",
          "GR3",
          "GR3",
          "GR3",
          "GR3",
          "GR3",
          "GR3",
          "GR3",
          "GR3",
          "GR3",
          "GR3",
          "GR3",
          "GR3",
          "GR3",
          "GR3",
          "GR3",
          "GR3",
          "GR3",
          "GR3",
          "GR3",
          "GR3",
          "GR3",
          "GR3",
          "GR3",
          "GR3",
          "GR3",
          "GR3",
          "GR3",
          "GR3",
          "GR3",
          "GR3",
          "GR3",
          "GR3",
          "GR3",
          "GR3",
          "GR3",
          "GR3",
          "GR3",
          "GR3",
          "GR3",
          "GR3",
          "GR3",
          "GR3",
          "GR3",
          "GR3",
          "GR3",
          "GR3",
          "GR3",
          "GR3",
          "GR3",
          "GR3",
          "GR3",
          "GR3",
          "GR3",
          "GR3",
          "GR3",
          "GR3",
          "GR3",
          "GR3",
          "GR3",
          "GR3",
          "GR3",
          "GR3",
          "GR3",
          "GR3",
          "GR3",
          "GR3",
          "GR3",
          "GR3",
          "GR3",
          "GR3",
          "GR3",
          "GR3",
          "GR3",
          "GR3",
          "GR3",
          "GR3",
          "GR3",
          "GR3",
          "GR3",
          "GR3",
          "GR3",
          "GR3",
          "GR3",
          "GR3",
          "GR3",
          "GR3",
          "GR3",
          "GR3",
          "GR3",
          "GR3",
          "GR3",
          "GR3",
          "GR3",
          "GR3",
          "GR3",
          "GR3",
          "GR3",
          "GR3",
          "GR3",
          "GR3",
          "GR3",
          "GR3",
          "GR3",
          "GR3",
          "GR3",
          "GR3",
          "GR3",
          "GR3",
          "GR3",
          "GR3",
          "GR3",
          "GR3",
          "GR3",
          "GR3",
          "GR3",
          "GR3",
          "GR3",
          "GR3",
          "GR3",
          "GR3",
          "GR3",
          "GR3",
          "GR3",
          "GR3",
          "GR3",
          "GR3",
          "GR3",
          "GR3",
          "GR3",
          "GR3",
          "GR3",
          "GR3",
          "GR3",
          "GR3",
          "GR3",
          "GR3",
          "GR3",
          "GR3",
          "GR3",
          "GR3",
          "GR3",
          "GR3",
          "GR3",
          "GR3",
          "GR3",
          "GR3",
          "GR3",
          "GR3",
          "GR3",
          "GR3",
          "GR3",
          "GR3",
          "GR3",
          "GR3",
          "GR3",
          "GR3",
          "GR3",
          "GR4",
          "GR4",
          "GR4",
          "GR4",
          "GR4",
          "GR4",
          "GR4",
          "GR4",
          "GR4",
          "GR4",
          "GR4",
          "GR4",
          "GR4",
          "GR4",
          "GR4",
          "GR4",
          "GR4",
          "GR4",
          "GR4",
          "GR4",
          "GR4",
          "GR4",
          "GR4",
          "GR4",
          "GR4",
          "GR4",
          "GR4",
          "GR4",
          "GR4",
          "GR4",
          "GR4",
          "GR4",
          "GR4",
          "GR4",
          "GR4",
          "GR4",
          "GR4",
          "GR4",
          "GR4",
          "GR4",
          "GR4",
          "GR4",
          "GR4",
          "GR4",
          "GR4",
          "GR4",
          "GR4",
          "GR4",
          "GR4",
          "GR4",
          "GR4",
          "GR4",
          "GR4",
          "GR4",
          "GR4",
          "GR4",
          "GR4",
          "GR4",
          "GR4",
          "GR4",
          "GR4",
          "GR4",
          "GR4",
          "GR4",
          "GR4",
          "GR4",
          "GR4",
          "GR4",
          "GR4",
          "GR4",
          "GR4",
          "GR4",
          "GR4",
          "GR4",
          "GR4",
          "GR4",
          "GR4",
          "GR4",
          "GR4",
          "GR4",
          "GR4",
          "GR4",
          "GR4",
          "GR4",
          "GR4",
          "GR4",
          "GR4",
          "GR4",
          "GR4",
          "GR4",
          "GR4",
          "GR4",
          "GR4",
          "GR4",
          "GR4",
          "GR4",
          "GR4",
          "GR4",
          "GR4",
          "GR4",
          "GR4",
          "GR4",
          "GR4",
          "GR4",
          "GR4",
          "GR4",
          "GR4",
          "GR4",
          "GR4",
          "GR4",
          "GR4",
          "GR4",
          "GR4",
          "GR4",
          "GR4",
          "GR4",
          "GR4",
          "GR4",
          "GR4",
          "GR4",
          "GR4",
          "GR4",
          "GR4",
          "GR4",
          "GR4",
          "GR4",
          "GR4",
          "GR4",
          "GR4",
          "GR4",
          "GR4",
          "GR4",
          "GR4",
          "GR4",
          "GR4",
          "GR4",
          "GR4",
          "GR4",
          "GR4",
          "GR4",
          "GR4",
          "GR4",
          "GR4",
          "GR4",
          "GR4",
          "GR4",
          "GR4",
          "GR4",
          "GR4",
          "GR4",
          "GR4",
          "GR4",
          "GR4",
          "GR4",
          "GR4",
          "GR4",
          "GR4",
          "GR4",
          "GR4",
          "GR4",
          "GR4",
          "GR4",
          "GR4",
          "GR4",
          "GR4",
          "GR4",
          "GR4",
          "GR4",
          "GR4",
          "GR4",
          "GR4",
          "GR4",
          "GR4",
          "GR4",
          "GR4",
          "GR4",
          "GR4",
          "GR4",
          "GR4",
          "GR4",
          "GR4",
          "GR4",
          "GR4",
          "GR4",
          "GR4",
          "GR4",
          "GR4",
          "GR4",
          "GR4",
          "GR4",
          "GR4",
          "GR4",
          "GR4",
          "GR4",
          "GR4",
          "GR4",
          "GR4",
          "GR4",
          "GR4",
          "GR4",
          "GR4",
          "GR4",
          "GR4",
          "GR4",
          "GR4",
          "GR4",
          "GR4",
          "GR4",
          "GR4",
          "GR4",
          "GR4",
          "GR4",
          "GR4",
          "GR4",
          "GR4",
          "GR4",
          "GR4",
          "GR4",
          "GR4",
          "GR4",
          "GR4",
          "GR4",
          "GR4",
          "GR4",
          "GR4",
          "GR4",
          "GR4",
          "GR4",
          "GR4",
          "GR4",
          "GR4",
          "GR4",
          "GR4",
          "GR4",
          "GR4",
          "GR4",
          "GR4",
          "GR4",
          "GR4",
          "GR4",
          "GR4",
          "GR4",
          "GR4",
          "GR4",
          "GR4",
          "GR4",
          "GR4",
          "GR4",
          "GR4",
          "GR4",
          "GR4",
          "GR4",
          "GR4",
          "GR4",
          "GR4",
          "GR4",
          "GR4",
          "GR4",
          "GR4",
          "GR4",
          "GR4",
          "GR4",
          "GR4",
          "GR4",
          "GR4",
          "GR4",
          "GR4",
          "GR4",
          "GR4",
          "GR4",
          "GR4",
          "GR4",
          "GR4",
          "GR4",
          "GR4",
          "GR4",
          "GR4",
          "GR4",
          "GR4",
          "GR4",
          "GR4",
          "GR4",
          "GR4",
          "GR4",
          "GR4",
          "GR4",
          "GR4",
          "GR4",
          "GR4",
          "GR4",
          "GR4",
          "GR4",
          "GR4",
          "GR4",
          "GR4",
          "GR4",
          "GR4",
          "GR4",
          "GR4",
          "GR4",
          "GR4",
          "GR4",
          "GR4",
          "GR4",
          "GR4",
          "GR4",
          "GR4",
          "GR4",
          "GR4",
          "GR4",
          "GR4",
          "GR4",
          "GR4",
          "GR4",
          "GR4",
          "GR4",
          "GR4",
          "GR4",
          "GR4",
          "GR4",
          "GR4",
          "GR4",
          "GR4",
          "GR4",
          "GR4",
          "GR4",
          "GR4",
          "GR4",
          "GR4",
          "GR4",
          "GR4",
          "GR4",
          "GR4",
          "GR4",
          "GR4",
          "GR4",
          "GR4",
          "GR4",
          "GR4",
          "GR4",
          "GR4",
          "GR4",
          "GR4",
          "GR4",
          "GR4",
          "GR4",
          "GR4",
          "GR4",
          "GR4",
          "GR4",
          "GR4",
          "GR4",
          "GR4",
          "GR4",
          "GR4",
          "GR4",
          "GR4",
          "GR4",
          "GR4",
          "GR4",
          "GR4",
          "GR4",
          "GR4",
          "GR4",
          "GR4",
          "GR4",
          "GR4",
          "GR4",
          "GR4",
          "GR4",
          "GR4",
          "GR4",
          "GR4",
          "GR4",
          "GR4",
          "GR4",
          "GR5",
          "GR5",
          "GR5",
          "GR5",
          "GR5",
          "GR5",
          "GR5",
          "GR5",
          "GR5",
          "GR5",
          "GR5",
          "GR5",
          "GR5",
          "GR5",
          "GR5",
          "GR5",
          "GR5",
          "GR5",
          "GR5",
          "GR5",
          "GR5",
          "GR5",
          "GR5",
          "GR5",
          "GR5",
          "GR5",
          "GR5",
          "GR5",
          "GR5",
          "GR5",
          "GR5",
          "GR5",
          "GR5",
          "GR5",
          "GR5",
          "GR5",
          "GR5",
          "GR5",
          "GR5",
          "GR5",
          "GR5",
          "GR5",
          "GR5",
          "GR5",
          "GR5",
          "GR5",
          "GR5",
          "GR5",
          "GR5",
          "GR5",
          "GR5",
          "GR5",
          "GR5",
          "GR5",
          "GR5",
          "GR5",
          "GR5",
          "GR5",
          "GR5",
          "GR5",
          "GR5",
          "GR5",
          "GR5",
          "GR5",
          "GR5",
          "GR5",
          "GR5",
          "GR5",
          "GR5",
          "GR5",
          "GR5",
          "GR5",
          "GR5",
          "GR5",
          "GR5",
          "GR5",
          "GR5",
          "GR5",
          "GR5",
          "GR5",
          "GR5",
          "GR5",
          "GR5",
          "GR5",
          "GR5",
          "GR5",
          "GR5",
          "GR5",
          "GR5",
          "GR5",
          "GR5",
          "GR5",
          "GR5",
          "GR5",
          "GR5",
          "GR5",
          "GR5",
          "GR5",
          "GR5",
          "GR5",
          "GR5",
          "GR5",
          "GR5",
          "GR5",
          "GR5",
          "GR5",
          "GR5",
          "GR5",
          "GR5",
          "GR5",
          "GR5",
          "GR5",
          "GR5",
          "GR5",
          "GR5",
          "GR5",
          "GR5",
          "GR5",
          "GR5",
          "GR5",
          "GR5",
          "GR5",
          "GR5",
          "GR5",
          "GR5",
          "GR5",
          "GR5",
          "GR5",
          "GR5",
          "GR5",
          "GR5",
          "GR5",
          "GR5",
          "GR5",
          "GR5",
          "GR5",
          "GR5",
          "GR5",
          "GR5",
          "GR5",
          "GR5",
          "GR5",
          "GR5",
          "GR5",
          "GR5",
          "GR5",
          "GR5",
          "GR5",
          "GR5",
          "GR5",
          "GR5",
          "GR5",
          "GR5",
          "GR5",
          "GR5",
          "GR5",
          "GR5",
          "GR5",
          "GR5",
          "GR5",
          "GR5",
          "GR5",
          "GR5",
          "GR5",
          "GR5",
          "GR5",
          "GR5",
          "GR5",
          "GR5",
          "GR5",
          "GR5",
          "GR5",
          "GR5",
          "GR5",
          "GR5",
          "GR5",
          "GR5",
          "GR5",
          "GR5",
          "GR5",
          "GR5",
          "GR5",
          "GR5",
          "GR5",
          "GR5",
          "GR5",
          "GR5",
          "GR5",
          "GR5",
          "GR5",
          "GR5",
          "GR5",
          "GR5",
          "GR5",
          "GR5",
          "GR5",
          "GR5",
          "GR5",
          "GR5",
          "GR5",
          "GR5",
          "GR5",
          "GR5",
          "GR5",
          "GR5",
          "GR5",
          "GR5",
          "GR5",
          "GR5",
          "GR5",
          "GR5",
          "GR5",
          "GR5",
          "GR5",
          "GR5",
          "GR5",
          "GR5",
          "GR5",
          "GR5",
          "GR5",
          "GR5",
          "GR5",
          "GR5",
          "GR5",
          "GR5",
          "GR5",
          "GR5",
          "GR5",
          "GR5",
          "GR5",
          "GR5",
          "GR5",
          "GR5",
          "GR5",
          "GR5",
          "GR5",
          "GR5",
          "GR5",
          "GR5",
          "GR5",
          "GR5",
          "GR5",
          "GR5",
          "GR5",
          "GR5",
          "GR5",
          "GR5",
          "GR5",
          "GR5",
          "GR5",
          "GR5",
          "GR5",
          "GR5",
          "GR5",
          "GR5",
          "GR5",
          "GR5",
          "GR5",
          "GR5",
          "GR5",
          "GR5",
          "GR5",
          "GR5",
          "GR5",
          "GR5",
          "GR5",
          "GR5",
          "GR5",
          "GR5",
          "GR5",
          "GR5",
          "GR5",
          "GR5",
          "GR5",
          "GR5",
          "GR5",
          "GR5",
          "GR5",
          "GR5",
          "GR5",
          "GR5",
          "GR5",
          "GR5",
          "GR5",
          "GR5",
          "GR5",
          "GR5",
          "GR5",
          "GR5",
          "GR5",
          "GR5",
          "GR5",
          "GR5",
          "GR5",
          "GR5",
          "GR5",
          "GR5",
          "GR5",
          "GR5",
          "GR5",
          "GR5",
          "GR5",
          "GR5",
          "GR5",
          "GR5",
          "GR5",
          "GR5",
          "GR5",
          "GR5",
          "GR5",
          "GR5",
          "GR5",
          "GR5",
          "GR5",
          "GR5",
          "GR5",
          "GR5",
          "GR5",
          "GR5",
          "GR5",
          "GR5",
          "GR5",
          "GR5",
          "GR5",
          "GR5",
          "GR5",
          "GR5",
          "GR5",
          "GR5",
          "GR5",
          "GR5",
          "GR5",
          "GR5",
          "GR5",
          "GR5",
          "GR5",
          "GR5",
          "GR5",
          "GR5",
          "GR5",
          "GR5",
          "GR5",
          "GR5",
          "GR5",
          "GR5",
          "GR5",
          "GR5",
          "GR5",
          "GR5",
          "GR5",
          "GR5",
          "GR5",
          "GR5",
          "GR5",
          "GR5",
          "GR5",
          "GR5",
          "GR5",
          "GR5",
          "GR5",
          "GR5",
          "GR5",
          "GR5",
          "GR5",
          "GR5",
          "GR5",
          "GR5",
          "GR5",
          "GR5",
          "GR5",
          "GR5",
          "GR5",
          "GR5",
          "GR5",
          "GR5",
          "GR5"
         ],
         "x0": " ",
         "xaxis": "x",
         "y": [
          3,
          2,
          2,
          3,
          2,
          2,
          3,
          4,
          3,
          2,
          2,
          3,
          4,
          3,
          2,
          2,
          3,
          2,
          2,
          3,
          4,
          3,
          7,
          2,
          2,
          3,
          2,
          2,
          3,
          4,
          2,
          5,
          3,
          2,
          2,
          3,
          2,
          2,
          3,
          2,
          2,
          3,
          4,
          3,
          2,
          5,
          4,
          5,
          2,
          3,
          2,
          2,
          3,
          2,
          5,
          2,
          2,
          3,
          2,
          2,
          3,
          2,
          2,
          3,
          2,
          5,
          2,
          2,
          5,
          2,
          3,
          2,
          2,
          5,
          2,
          5,
          2,
          3,
          2,
          2,
          3,
          2,
          2,
          3,
          2,
          2,
          5,
          2,
          5,
          2,
          3,
          2,
          2,
          3,
          2,
          2,
          5,
          2,
          3,
          4,
          3,
          2,
          2,
          3,
          2,
          5,
          2,
          2,
          3,
          2,
          2,
          5,
          2,
          3,
          2,
          5,
          2,
          2,
          3,
          2,
          5,
          4,
          3,
          2,
          5,
          2,
          2,
          3,
          2,
          2,
          3,
          2,
          2,
          3,
          2,
          5,
          4,
          3,
          4,
          3,
          2,
          2,
          3,
          2,
          2,
          3,
          2,
          5,
          2,
          2,
          3,
          2,
          2,
          3,
          2,
          2,
          3,
          2,
          5,
          2,
          2,
          3,
          2,
          5,
          2,
          2,
          2,
          1,
          2,
          5,
          2,
          2,
          3,
          2,
          2,
          3,
          2,
          2,
          3,
          2,
          2,
          3,
          2,
          2,
          3,
          2,
          2,
          3,
          2,
          1,
          4,
          2,
          2,
          3,
          4,
          3,
          2,
          2,
          3,
          2,
          2,
          3,
          4,
          3,
          4,
          3,
          2,
          2,
          3,
          2,
          2,
          3,
          2,
          2,
          3,
          2,
          2,
          3,
          4,
          3,
          2,
          2,
          3,
          4,
          3,
          2,
          2,
          3,
          4,
          3,
          2,
          2,
          3,
          2,
          2,
          3,
          2,
          2,
          3,
          2,
          1,
          3,
          1,
          2,
          2,
          3,
          2,
          2,
          3,
          2,
          2,
          3,
          2,
          2,
          3,
          2,
          6,
          3,
          3,
          2,
          2,
          3,
          2,
          5,
          2,
          2,
          3,
          7,
          2,
          9,
          4,
          1,
          2,
          3,
          2,
          2,
          3,
          2,
          2,
          4,
          3,
          3,
          2,
          2,
          3,
          2,
          2,
          3,
          4,
          5,
          2,
          5,
          2,
          3,
          2,
          6,
          3,
          5,
          2,
          5,
          2,
          3,
          2,
          2,
          3,
          4,
          7,
          3,
          4,
          3,
          2,
          5,
          2,
          2,
          2,
          5,
          2,
          3,
          2,
          3,
          2,
          2,
          3,
          4,
          3,
          2,
          2,
          3,
          2,
          2,
          3,
          2,
          2,
          3,
          2,
          2,
          3,
          2,
          2,
          3,
          2,
          5,
          4,
          3,
          2,
          2,
          3,
          2,
          2,
          3,
          4,
          3,
          2,
          2,
          3,
          2,
          2,
          3,
          2,
          2,
          3,
          2,
          2,
          3,
          2,
          2,
          3,
          2,
          2,
          3,
          1,
          3,
          3,
          2,
          5,
          2,
          5,
          2,
          5,
          2,
          2,
          3,
          2,
          2,
          3,
          2,
          5,
          4,
          3,
          4,
          3,
          2,
          2,
          5,
          2,
          3,
          2,
          2,
          5,
          2,
          3,
          2,
          5,
          2,
          2,
          2,
          2,
          6,
          2,
          2,
          3,
          2,
          2,
          3,
          2,
          5,
          4,
          3,
          2,
          2,
          3,
          4,
          5,
          2,
          3,
          2,
          2,
          3,
          2,
          2,
          3,
          4,
          3,
          4,
          3,
          2,
          2,
          3,
          2,
          2,
          3,
          2,
          2,
          3,
          2,
          2,
          3,
          2,
          2,
          3,
          2,
          2,
          3,
          2,
          2,
          3,
          4,
          3,
          2,
          2,
          3,
          2,
          5,
          2,
          2,
          3,
          2,
          5,
          2,
          2,
          3,
          7,
          2,
          2,
          3,
          2,
          2,
          3,
          2,
          2,
          3,
          2,
          2,
          12,
          5,
          2,
          5,
          2,
          5,
          4,
          5,
          5,
          2,
          2,
          3,
          2,
          5,
          2,
          5,
          2,
          5,
          2,
          5,
          2,
          2,
          3,
          4,
          3,
          2,
          5,
          2,
          2,
          3,
          2,
          2,
          5,
          9,
          3,
          2,
          2,
          3,
          2,
          5,
          2,
          2,
          3,
          2,
          2,
          3,
          2,
          5,
          2,
          5,
          2,
          2,
          3,
          2,
          5,
          2,
          5,
          4,
          3,
          2,
          2,
          3,
          4,
          3,
          2,
          5,
          2,
          1,
          4,
          2,
          5,
          2,
          2,
          3,
          2,
          5,
          2,
          2,
          5,
          2,
          3,
          4,
          5,
          5,
          2,
          2,
          3,
          2,
          2,
          3,
          2,
          2,
          3,
          2,
          5,
          2,
          2,
          3,
          2,
          2,
          3,
          2,
          5,
          2,
          5,
          2,
          5,
          2,
          2,
          3,
          4,
          3,
          2,
          5,
          2,
          2,
          3,
          7,
          2,
          5,
          4,
          3,
          2,
          6,
          1,
          2,
          3,
          2,
          2,
          3,
          2,
          2,
          3,
          2,
          5,
          2,
          5,
          2,
          5,
          2,
          6,
          1,
          5,
          2,
          2,
          5,
          2,
          5,
          5,
          2,
          2,
          7,
          3,
          2,
          5,
          4,
          3,
          4,
          3,
          2,
          5,
          1,
          3,
          3,
          2,
          5,
          2,
          5,
          4,
          3,
          4,
          3,
          2,
          2,
          3,
          2,
          2,
          3,
          2,
          5,
          2,
          2,
          5,
          7,
          5,
          2,
          2,
          3,
          4,
          3,
          4,
          7,
          5,
          2,
          3,
          2,
          9,
          3,
          2,
          5,
          2,
          7,
          9,
          3,
          2,
          2,
          3,
          2,
          2,
          5,
          5,
          2,
          2,
          3,
          2,
          2,
          3,
          2,
          2,
          3,
          2,
          2,
          3,
          1,
          3,
          3,
          4,
          3,
          2,
          null,
          null,
          null,
          null,
          null,
          null,
          null,
          null,
          null,
          null,
          null,
          null,
          null,
          null,
          null,
          null,
          null,
          null,
          null,
          null,
          null,
          null,
          null,
          null,
          null,
          null,
          null,
          null,
          null,
          null,
          null,
          null,
          null,
          null,
          null,
          null,
          null,
          null,
          null,
          null,
          5,
          4,
          3,
          2,
          7,
          5,
          2,
          2,
          3,
          2,
          2,
          3,
          2,
          2,
          5,
          2,
          3,
          2,
          7,
          2,
          5,
          7,
          2,
          5,
          2,
          2,
          2,
          3,
          3,
          4,
          14,
          3,
          2,
          2,
          3,
          2,
          2,
          3,
          4,
          5,
          2,
          3,
          2,
          2,
          5,
          2,
          3,
          2,
          2,
          5,
          5,
          2,
          2,
          5,
          7,
          5,
          2,
          5,
          2,
          2,
          3,
          2,
          7,
          7,
          2,
          5,
          2,
          3,
          2,
          2,
          3,
          4,
          3,
          2,
          5,
          2,
          5,
          2,
          2,
          5,
          2,
          3,
          2,
          2,
          5,
          5,
          2,
          5,
          2,
          5,
          2,
          5,
          2,
          2,
          3,
          4,
          3,
          2,
          2,
          3,
          2,
          2,
          5,
          2,
          3,
          2,
          5,
          2,
          2,
          7,
          5,
          2,
          3,
          4,
          10,
          2,
          2,
          5,
          5,
          2,
          2,
          3,
          2,
          2,
          3,
          2,
          2,
          3,
          2,
          2,
          3,
          2,
          7,
          2,
          5,
          2,
          5,
          2,
          5,
          2,
          7,
          3,
          2,
          2,
          5,
          2,
          5,
          2,
          3,
          2,
          5,
          2,
          2,
          3,
          2,
          2,
          5,
          1,
          6,
          2,
          3,
          2,
          2,
          5,
          2,
          3,
          7,
          2,
          5,
          2,
          7,
          5,
          2,
          2,
          3,
          2,
          2,
          3,
          2,
          2,
          3,
          2,
          5,
          2,
          5,
          2,
          2,
          3,
          2,
          2,
          3,
          2,
          5,
          2,
          2,
          3,
          2,
          5,
          2,
          5,
          2,
          1,
          6,
          5,
          2,
          2,
          3,
          2,
          2,
          3,
          2,
          2,
          3,
          2,
          2,
          5,
          2,
          5,
          2,
          3,
          2,
          2,
          3,
          7,
          2,
          7,
          2,
          3,
          2,
          2,
          4,
          1,
          2,
          3,
          2,
          2,
          3,
          2,
          2,
          5,
          9,
          3,
          2,
          2,
          5,
          5,
          4,
          3,
          2,
          2,
          3,
          2,
          5,
          1,
          6,
          7,
          4,
          3,
          4,
          3,
          4,
          3,
          2,
          2,
          5,
          2,
          3,
          2,
          7,
          2,
          5,
          2,
          2,
          3,
          5,
          2,
          2,
          5,
          2,
          5,
          2,
          3,
          2,
          5,
          2,
          5,
          2,
          2,
          5,
          5,
          4,
          3,
          2,
          2,
          3,
          2,
          2,
          3,
          2,
          2,
          3,
          2,
          2,
          3,
          2,
          2,
          5,
          2,
          5,
          2,
          3,
          2,
          2,
          5,
          2,
          3,
          2,
          2,
          4,
          3,
          5,
          5,
          2,
          null,
          null,
          null,
          null,
          null,
          null,
          null,
          null,
          null,
          null,
          null,
          null,
          null,
          null,
          null,
          null,
          null,
          null,
          null,
          null,
          null,
          null,
          null,
          null,
          null,
          null,
          null,
          null,
          null,
          null,
          null,
          null,
          null,
          null,
          null,
          null,
          null,
          null,
          null,
          null,
          null,
          null,
          null,
          null,
          null,
          null,
          null,
          null,
          null,
          null,
          null,
          null,
          null,
          2,
          3,
          2,
          2,
          3,
          2,
          5,
          2,
          2,
          5,
          2,
          5,
          2,
          3,
          9,
          5,
          2,
          2,
          3,
          2,
          2,
          5,
          2,
          3,
          2,
          2,
          11,
          3,
          7,
          3,
          4,
          7,
          3,
          2,
          2,
          3,
          4,
          3,
          2,
          2,
          3,
          2,
          2,
          5,
          7,
          2,
          3,
          2,
          2,
          3,
          2,
          5,
          7,
          2,
          2,
          3,
          2,
          7,
          7,
          2,
          3,
          2,
          2,
          3,
          2,
          2,
          5,
          2,
          3,
          2,
          5,
          2,
          2,
          3,
          2,
          2,
          3,
          2,
          2,
          3,
          2,
          2,
          5,
          2,
          3,
          2,
          2,
          3,
          2,
          2,
          3,
          2,
          2,
          3,
          2,
          2,
          10,
          2,
          2,
          3,
          4,
          3,
          2,
          2,
          3,
          2,
          2,
          3,
          2,
          5,
          14,
          4,
          3,
          4,
          3,
          2,
          2,
          3,
          2,
          2,
          3,
          7,
          2,
          2,
          3,
          2,
          2,
          3,
          2,
          2,
          3,
          2,
          2,
          3,
          2,
          2,
          3,
          4,
          3,
          2,
          2,
          3,
          2,
          2,
          3,
          4,
          3,
          2,
          2,
          3,
          2,
          2,
          3,
          2,
          2,
          3,
          2,
          2,
          3,
          2,
          2,
          3,
          2,
          2,
          3,
          2,
          5,
          2,
          2,
          3,
          2,
          5,
          2,
          1,
          4,
          2,
          2,
          3,
          2,
          7,
          5,
          2,
          2,
          5,
          5,
          2,
          5,
          2,
          2,
          3,
          4,
          3,
          2,
          2,
          3,
          2,
          2,
          3,
          2,
          2,
          3,
          4,
          3,
          2,
          2,
          3,
          2,
          2,
          3,
          2,
          2,
          3,
          2,
          2,
          3,
          2,
          2,
          3,
          2,
          2,
          3,
          2,
          1,
          6,
          2,
          3,
          2,
          2,
          3,
          4,
          3,
          2,
          2,
          5,
          2,
          4,
          1,
          2,
          5,
          2,
          3,
          2,
          5,
          2,
          2,
          3,
          2,
          5,
          2,
          2,
          7,
          4,
          1,
          2,
          3,
          2,
          2,
          5,
          7,
          2,
          5,
          7,
          2,
          3,
          4,
          3,
          2,
          2,
          3,
          2,
          2,
          3,
          2,
          6,
          6,
          2,
          2,
          5,
          2,
          3,
          2,
          2,
          3,
          4,
          3,
          2,
          2,
          3,
          2,
          2,
          3,
          2,
          2,
          3,
          2,
          2,
          5,
          2,
          2,
          3,
          2,
          3,
          2,
          2,
          3,
          2,
          5,
          2,
          2,
          5,
          2,
          3,
          2,
          2,
          3,
          4,
          3,
          2,
          2,
          3,
          2,
          2,
          5,
          2,
          3,
          2,
          2,
          3,
          2,
          5,
          2,
          2,
          3,
          2,
          2,
          3,
          2,
          2,
          3,
          2,
          2,
          3,
          2,
          2,
          3,
          4,
          3,
          4,
          4,
          6,
          2,
          2,
          3,
          2,
          null,
          null,
          null,
          null,
          null,
          null,
          null,
          null,
          null,
          null,
          null,
          null,
          null,
          null,
          null,
          null,
          null,
          null,
          null,
          null,
          null,
          null,
          5,
          2,
          5,
          2,
          2,
          3,
          2,
          2,
          5,
          7,
          7,
          2,
          5,
          2,
          5,
          5,
          2,
          2,
          3,
          2,
          2,
          3,
          2,
          2,
          3,
          2,
          2,
          2,
          5,
          7,
          3,
          2,
          9,
          3,
          4,
          3,
          2,
          2,
          3,
          4,
          5,
          2,
          3,
          2,
          2,
          5,
          2,
          3,
          4,
          3,
          2,
          5,
          2,
          2,
          10,
          4,
          5,
          2,
          3,
          2,
          5,
          4,
          5,
          2,
          3,
          2,
          2,
          3,
          2,
          2,
          3,
          2,
          2,
          3,
          2,
          2,
          3,
          2,
          2,
          5,
          2,
          5,
          2,
          3,
          2,
          5,
          2,
          2,
          3,
          2,
          2,
          5,
          2,
          5,
          2,
          3,
          2,
          2,
          5,
          2,
          3,
          4,
          3,
          7,
          2,
          2,
          5,
          2,
          3,
          7,
          2,
          2,
          5,
          2,
          5,
          2,
          3,
          2,
          5,
          4,
          3,
          2,
          2,
          3,
          2,
          2,
          5,
          2,
          3,
          2,
          2,
          3,
          2,
          2,
          5,
          2,
          3,
          2,
          2,
          3,
          2,
          2,
          5,
          2,
          5,
          2,
          5,
          2,
          3,
          2,
          2,
          3,
          2,
          2,
          5,
          2,
          3,
          2,
          2,
          5,
          2,
          3,
          2,
          2,
          3,
          2,
          2,
          5,
          1,
          4,
          2,
          2,
          3,
          2,
          5,
          2,
          5,
          4,
          3,
          2,
          2,
          3,
          2,
          5,
          4,
          3,
          2,
          7,
          2,
          3,
          2,
          5,
          2,
          5,
          2,
          7,
          2,
          3,
          2,
          5,
          2,
          5,
          2,
          5,
          2,
          5,
          2,
          2,
          3,
          2,
          1,
          6,
          2,
          3,
          2,
          5,
          2,
          5,
          2,
          2,
          3,
          2,
          2,
          5,
          7,
          7,
          5,
          2,
          2,
          5,
          7,
          9,
          14,
          3,
          2,
          6,
          1,
          5,
          2,
          2,
          3,
          2,
          2,
          3,
          2,
          2,
          3,
          2,
          2,
          3,
          2,
          5,
          2,
          2,
          3,
          1,
          3,
          3,
          2,
          5,
          2,
          2,
          5,
          2,
          3,
          4,
          3,
          2,
          2,
          3,
          2,
          5,
          2,
          2,
          3,
          2,
          2,
          2,
          5,
          7,
          3,
          2,
          2,
          3,
          2,
          2,
          5,
          2,
          7,
          3,
          4,
          5,
          2,
          3,
          2,
          2,
          5,
          5,
          2,
          2,
          3,
          2,
          2,
          3,
          2,
          2,
          3,
          4,
          5,
          2,
          5,
          2,
          3,
          2,
          2,
          3,
          4,
          3,
          2,
          2,
          3,
          2,
          2,
          3,
          4,
          3,
          2,
          2,
          3,
          2,
          null,
          null,
          null,
          null,
          null,
          null,
          null,
          null,
          null,
          null,
          null,
          null,
          null,
          null,
          null,
          null,
          null,
          null,
          null,
          null,
          null,
          null,
          null,
          null,
          null,
          null,
          null,
          null,
          null,
          null,
          null,
          null,
          null,
          null,
          null,
          null,
          null,
          null,
          null,
          null,
          null,
          null,
          null,
          null,
          null,
          null,
          5,
          2,
          2,
          3,
          4,
          3,
          4,
          5,
          5,
          2,
          2,
          3,
          2,
          2,
          7,
          5,
          7,
          2,
          5,
          2,
          3,
          4,
          5,
          2,
          4,
          6,
          4,
          5,
          5,
          2,
          2,
          3,
          2,
          2,
          3,
          4,
          3,
          4,
          3,
          2,
          2,
          5,
          2,
          3,
          2,
          2,
          3,
          2,
          5,
          2,
          2,
          5,
          2,
          3,
          2,
          2,
          3,
          2,
          2,
          3,
          2,
          5,
          2,
          5,
          2,
          2,
          3,
          2,
          2,
          3,
          2,
          2,
          3,
          2,
          2,
          3,
          2,
          2,
          5,
          2,
          3,
          2,
          2,
          3,
          2,
          2,
          3,
          2,
          2,
          3,
          2,
          2,
          3,
          2,
          2,
          5,
          5,
          2,
          5,
          2,
          2,
          3,
          2,
          2,
          3,
          4,
          3,
          2,
          2,
          3,
          2,
          2,
          5,
          2,
          3,
          2,
          2,
          3,
          2,
          5,
          2,
          2,
          3,
          2,
          2,
          3,
          4,
          3,
          2,
          2,
          3,
          4,
          3,
          2,
          9,
          3,
          2,
          2,
          3,
          4,
          3,
          2,
          2,
          3,
          2,
          5,
          2,
          2,
          5,
          2,
          3,
          2,
          2,
          3,
          2,
          2,
          3,
          2,
          5,
          2,
          2,
          3,
          2,
          2,
          3,
          2,
          5,
          2,
          2,
          5,
          5,
          2,
          2,
          3,
          2,
          2,
          3,
          2,
          1,
          6,
          2,
          3,
          2,
          7,
          7,
          2,
          3,
          2,
          5,
          2,
          2,
          3,
          2,
          2,
          3,
          2,
          2,
          3,
          2,
          2,
          3,
          2,
          2,
          3,
          2,
          2,
          3,
          2,
          2,
          3,
          2,
          2,
          3,
          2,
          2,
          3,
          2,
          2,
          3,
          2,
          2,
          3,
          2,
          2,
          3,
          2,
          2,
          3,
          2,
          5,
          2,
          2,
          3,
          2,
          2,
          3,
          2,
          2,
          3,
          4,
          3,
          2,
          2,
          5,
          5,
          2,
          2,
          3,
          2,
          2,
          3,
          4,
          3,
          2,
          7,
          2,
          3,
          4,
          5,
          2,
          3,
          2,
          5,
          2,
          2,
          4,
          1,
          2,
          3,
          2,
          2,
          3,
          4,
          3,
          2,
          2,
          3,
          2,
          2,
          5,
          5,
          2,
          2,
          3,
          1,
          3,
          3,
          2,
          2,
          5,
          2,
          3,
          2,
          2,
          3,
          4,
          3,
          2,
          2,
          3,
          2,
          5,
          2,
          2,
          3,
          2,
          2,
          5,
          2,
          2,
          3,
          2,
          5,
          2,
          3,
          2,
          2,
          7,
          3,
          2,
          2,
          3,
          2,
          2,
          3,
          4,
          3,
          2,
          2,
          5,
          2,
          3,
          2,
          2,
          3,
          2,
          5,
          2,
          2,
          3,
          2,
          2,
          3,
          2,
          2,
          3,
          2,
          2,
          3,
          2,
          2,
          3,
          2,
          2,
          3,
          2,
          2,
          3,
          2,
          2,
          4,
          3,
          3,
          4,
          3,
          2,
          null,
          null,
          null,
          null,
          null,
          null,
          null,
          null,
          null,
          null,
          7,
          2,
          3,
          2,
          2,
          5,
          2,
          5,
          2,
          5,
          2,
          5,
          2,
          3,
          2,
          2,
          3,
          2,
          2,
          3,
          2,
          2,
          3,
          2,
          2,
          3,
          2,
          2,
          3,
          2,
          2,
          4,
          3,
          3,
          4,
          3,
          2,
          2,
          7,
          3,
          4,
          5,
          2,
          3,
          2,
          2,
          5,
          2,
          3,
          2,
          2,
          3,
          2,
          2,
          5,
          2,
          5,
          2,
          5,
          2,
          3,
          2,
          2,
          5,
          2,
          3,
          2,
          2,
          5,
          2,
          3,
          2,
          2,
          5,
          2,
          3,
          2,
          2,
          3,
          2,
          2,
          3,
          2,
          2,
          5,
          2,
          5,
          2,
          5,
          2,
          3,
          2,
          2,
          3,
          2,
          2,
          5,
          2,
          3,
          2,
          2,
          5,
          2,
          5,
          2,
          7,
          5,
          2,
          3,
          4,
          3,
          2,
          2,
          3,
          2,
          2,
          3,
          2,
          2,
          5,
          5,
          2,
          2,
          3,
          2,
          2,
          5,
          2,
          3,
          2,
          5,
          4,
          7,
          3,
          2,
          2,
          3,
          2,
          2,
          3,
          2,
          5,
          2,
          2,
          3,
          2,
          2,
          3,
          2,
          2,
          3,
          2,
          2,
          5,
          5,
          2,
          5,
          2,
          2,
          3,
          2,
          5,
          2,
          2,
          3,
          2,
          5,
          2,
          2,
          3,
          2,
          2,
          5,
          2,
          3,
          2,
          2,
          5,
          1,
          6,
          2,
          5,
          2,
          5,
          2,
          3,
          2,
          2,
          3,
          2,
          2,
          3,
          2,
          2,
          3,
          2,
          2,
          3,
          2,
          2,
          5,
          2,
          5,
          2,
          3,
          2,
          2,
          3,
          2,
          2,
          3,
          2,
          2,
          3,
          2,
          2,
          3,
          2,
          2,
          3,
          2,
          5,
          2,
          5,
          2,
          2,
          3,
          2,
          1,
          4,
          2,
          2,
          3,
          2,
          2,
          3,
          2,
          2,
          3,
          2,
          2,
          5,
          2,
          5,
          2,
          5,
          2,
          3,
          2,
          2,
          3,
          2,
          2,
          3,
          2,
          5,
          2,
          2,
          3,
          2,
          2,
          4,
          1,
          2,
          3,
          2,
          2,
          5,
          2,
          4,
          1,
          2,
          3,
          2,
          2,
          3,
          2,
          2,
          5,
          2,
          3,
          2,
          2,
          5,
          2,
          3,
          4,
          3,
          1,
          3,
          3,
          2,
          2,
          3,
          2,
          2,
          3,
          2,
          2,
          3,
          4,
          3,
          2,
          2,
          3,
          2,
          2,
          5,
          2,
          5,
          2,
          7,
          2,
          3,
          2,
          3,
          2,
          7,
          2,
          5,
          2,
          3,
          2,
          5,
          2,
          2,
          3,
          2,
          2,
          3,
          2,
          2,
          3,
          2,
          7,
          5,
          2,
          2,
          5,
          2,
          3,
          2,
          2,
          3,
          2,
          2,
          3,
          2,
          2,
          3,
          2,
          2,
          3,
          2,
          2,
          3,
          2,
          2,
          3,
          2,
          2,
          3,
          1,
          3,
          3,
          2,
          2,
          3,
          2,
          null,
          null,
          null,
          null,
          null,
          null,
          null,
          5,
          5,
          4,
          7,
          7,
          7,
          7,
          7,
          7,
          7,
          7,
          3,
          4,
          21,
          3,
          7,
          4,
          3,
          2,
          7,
          5,
          2,
          2,
          3,
          2,
          5,
          7,
          2,
          2,
          3,
          2,
          5,
          4,
          3,
          2,
          5,
          10,
          4,
          2,
          2,
          3,
          2,
          2,
          5,
          5,
          2,
          2,
          3,
          2,
          5,
          2,
          5,
          2,
          2,
          3,
          2,
          5,
          2,
          2,
          7,
          3,
          2,
          7,
          2,
          3,
          4,
          3,
          4,
          7,
          5,
          2,
          3,
          4,
          3,
          4,
          5,
          5,
          2,
          9,
          3,
          2,
          2,
          3,
          9,
          5,
          4,
          5,
          2,
          3,
          4,
          5,
          1,
          4,
          4,
          3,
          2,
          2,
          24,
          4,
          3,
          2,
          2,
          3,
          2,
          2,
          3,
          2,
          2,
          3,
          2,
          2,
          3,
          4,
          5,
          2,
          3,
          2,
          2,
          7,
          3,
          4,
          3,
          2,
          5,
          2,
          2,
          3,
          4,
          3,
          1,
          3,
          5,
          2,
          12,
          5,
          4,
          3,
          4,
          5,
          2,
          3,
          2,
          2,
          5,
          2,
          3,
          2,
          5,
          2,
          2,
          3,
          2,
          2,
          7,
          3,
          2,
          2,
          3,
          2,
          2,
          7,
          3,
          2,
          2,
          3,
          4,
          3,
          2,
          2,
          3,
          1,
          3,
          3,
          2,
          2,
          5,
          5,
          2,
          2,
          7,
          3,
          4,
          5,
          2,
          3,
          2,
          2,
          3,
          2,
          2,
          7,
          3,
          4,
          5,
          2,
          3,
          2,
          5,
          2,
          2,
          3,
          4,
          5,
          2,
          3,
          2,
          2,
          3,
          2,
          7,
          2,
          3,
          2,
          2,
          3,
          4,
          3,
          7,
          2,
          2,
          7,
          10,
          4,
          3,
          2,
          7,
          2,
          5,
          2,
          3,
          2,
          2,
          19,
          5,
          4,
          3,
          4,
          3,
          2,
          5,
          2,
          5,
          7,
          2,
          7,
          5,
          2,
          5,
          2,
          2,
          3,
          2,
          5,
          2,
          2,
          3,
          2,
          2,
          3,
          4,
          3,
          2,
          2,
          3,
          2,
          2,
          3,
          2,
          2,
          3,
          2,
          2,
          5,
          2,
          3,
          2,
          4,
          5,
          3,
          4,
          3,
          null,
          null,
          null,
          null,
          null,
          null,
          null,
          null,
          null,
          null,
          null,
          null,
          null,
          null,
          null,
          null,
          null,
          null,
          null,
          null,
          null,
          null,
          null,
          null,
          null,
          null,
          null,
          null,
          null,
          null,
          null,
          null,
          null,
          null,
          null,
          null,
          null,
          null,
          null,
          null,
          null,
          null,
          null,
          null,
          null,
          null,
          null,
          null,
          null,
          null,
          null,
          null,
          null,
          null,
          null,
          null,
          null,
          null,
          null,
          null,
          null,
          null,
          null,
          null,
          null,
          null,
          null,
          null,
          null,
          null,
          null,
          null,
          null,
          null,
          null,
          null,
          null,
          null,
          null,
          null,
          null,
          null,
          null,
          null,
          null,
          null,
          null,
          null,
          null,
          null,
          null,
          null,
          null,
          null,
          null,
          2,
          7,
          2,
          3,
          4,
          5,
          2,
          3,
          7,
          2,
          2,
          3,
          2,
          2,
          21,
          7,
          3,
          4,
          14,
          3,
          7,
          2,
          5,
          4,
          7,
          3,
          4,
          3,
          2,
          2,
          3,
          4,
          3,
          4,
          3,
          2,
          2,
          3,
          4,
          3,
          2,
          2,
          5,
          5,
          2,
          5,
          2,
          2,
          7,
          7,
          3,
          4,
          3,
          2,
          2,
          3,
          4,
          3,
          4,
          3,
          2,
          2,
          3,
          2,
          2,
          3,
          4,
          3,
          2,
          2,
          3,
          2,
          2,
          3,
          2,
          2,
          3,
          2,
          2,
          3,
          7,
          4,
          5,
          5,
          4,
          5,
          5,
          4,
          3,
          7,
          4,
          3,
          4,
          3,
          4,
          3,
          2,
          2,
          3,
          2,
          2,
          5,
          7,
          1,
          4,
          2,
          5,
          4,
          3,
          7,
          2,
          5,
          2,
          2,
          7,
          5,
          5,
          7,
          2,
          5,
          2,
          2,
          3,
          2,
          5,
          4,
          3,
          2,
          2,
          5,
          2,
          5,
          2,
          3,
          2,
          2,
          5,
          2,
          5,
          2,
          3,
          1,
          3,
          5,
          5,
          4,
          7,
          3,
          2,
          2,
          3,
          2,
          7,
          2,
          3,
          2,
          2,
          3,
          2,
          5,
          4,
          3,
          4,
          3,
          4,
          5,
          2,
          3,
          2,
          2,
          3,
          2,
          2,
          3,
          4,
          3,
          2,
          2,
          3,
          4,
          3,
          2,
          5,
          1,
          3,
          3,
          2,
          2,
          3,
          2,
          2,
          3,
          2,
          2,
          3,
          2,
          5,
          2,
          2,
          3,
          2,
          2,
          3,
          2,
          5,
          7,
          2,
          5,
          4,
          3,
          9,
          5,
          2,
          2,
          3,
          4,
          5,
          2,
          3,
          2,
          2,
          3,
          2,
          2,
          3,
          7,
          4,
          3,
          4,
          7,
          3,
          2,
          2,
          2,
          5,
          7,
          5,
          5,
          4,
          5,
          2,
          3,
          2,
          2,
          3,
          2,
          2,
          3,
          9,
          5,
          11,
          12,
          5,
          14,
          9,
          7,
          2,
          5,
          2,
          3,
          7,
          2,
          2,
          3,
          2,
          2,
          3,
          2,
          5,
          2,
          2,
          3,
          4,
          3,
          4,
          3,
          7,
          2,
          2,
          3,
          2,
          2,
          7,
          5,
          5,
          null,
          null,
          null,
          null,
          null,
          null,
          null,
          null,
          null,
          null,
          null,
          null,
          null,
          null,
          null,
          null,
          null,
          null,
          null,
          null,
          null,
          null,
          null,
          null,
          null,
          null,
          null,
          null,
          null,
          null,
          null,
          null,
          null,
          null,
          null,
          null,
          null,
          null,
          null,
          null,
          null,
          null,
          null,
          null,
          null,
          null,
          null,
          null,
          null,
          null,
          null,
          null,
          null,
          null,
          null,
          null,
          null,
          null,
          null,
          null,
          null,
          null,
          null,
          null,
          null,
          null,
          null,
          null,
          null,
          null,
          null,
          null,
          null,
          null,
          null,
          null,
          null,
          null,
          null,
          null,
          null,
          null,
          null,
          null,
          null,
          null,
          null,
          null,
          null,
          null,
          null,
          4,
          3,
          2,
          5,
          2,
          2,
          3,
          4,
          3,
          2,
          5,
          2,
          2,
          3,
          4,
          3,
          4,
          3,
          4,
          3,
          2,
          2,
          3,
          11,
          7,
          2,
          3,
          5,
          4,
          3,
          4,
          3,
          4,
          3,
          4,
          3,
          7,
          4,
          3,
          4,
          3,
          4,
          3,
          7,
          2,
          2,
          3,
          4,
          3,
          2,
          2,
          3,
          2,
          2,
          3,
          2,
          1,
          4,
          9,
          2,
          7,
          3,
          4,
          3,
          4,
          3,
          2,
          2,
          3,
          2,
          2,
          3,
          4,
          3,
          2,
          9,
          17,
          2,
          2,
          3,
          2,
          2,
          3,
          2,
          2,
          3,
          2,
          2,
          3,
          2,
          2,
          3,
          2,
          2,
          5,
          5,
          7,
          4,
          3,
          2,
          2,
          3,
          4,
          3,
          2,
          5,
          4,
          3,
          2,
          2,
          3,
          2,
          2,
          5,
          1,
          4,
          2,
          5,
          2,
          5,
          2,
          5,
          2,
          5,
          14,
          2,
          2,
          7,
          3,
          4,
          3,
          4,
          3,
          2,
          2,
          3,
          2,
          2,
          3,
          2,
          2,
          5,
          2,
          5,
          2,
          5,
          2,
          3,
          2,
          2,
          3,
          2,
          2,
          3,
          1,
          3,
          5,
          2,
          5,
          2,
          7,
          5,
          2,
          5,
          2,
          3,
          2,
          2,
          5,
          5,
          2,
          5,
          2,
          2,
          3,
          2,
          2,
          3,
          2,
          5,
          4,
          3,
          2,
          2,
          3,
          4,
          3,
          2,
          2,
          3,
          4,
          3,
          2,
          2,
          3,
          2,
          6,
          6,
          2,
          2,
          3,
          2,
          5,
          2,
          2,
          3,
          4,
          3,
          2,
          2,
          3,
          4,
          3,
          2,
          2,
          3,
          2,
          2,
          3,
          4,
          3,
          4,
          3,
          2,
          2,
          3,
          2,
          7,
          5,
          4,
          3,
          2,
          2,
          5,
          2,
          3,
          4,
          3,
          4,
          3,
          4,
          3,
          2,
          2,
          5,
          2,
          5,
          2,
          2,
          3,
          2,
          3,
          4,
          3,
          2,
          2,
          5,
          7,
          2,
          5,
          2,
          3,
          2,
          2,
          5,
          2,
          3,
          2,
          16,
          10,
          2,
          5,
          7,
          14,
          7,
          2,
          2,
          3,
          2,
          7,
          7,
          2,
          3,
          2,
          2,
          3,
          2,
          2,
          5,
          2,
          3,
          2,
          5,
          2,
          5,
          2,
          2,
          3,
          4,
          3,
          2,
          2,
          2,
          3,
          7,
          2,
          null,
          null,
          null,
          null,
          null,
          null,
          null,
          null,
          null,
          null,
          null,
          null,
          null,
          null,
          null,
          null,
          null,
          null,
          null,
          null,
          null,
          null,
          null,
          null,
          null,
          null,
          null,
          null,
          null,
          null,
          null,
          null,
          null,
          null,
          null,
          null,
          null,
          null,
          null,
          null,
          null,
          null,
          null,
          null,
          null,
          null,
          null,
          null,
          null,
          null,
          null,
          null,
          null,
          null,
          null,
          null,
          null,
          null,
          null,
          null,
          null,
          null,
          null,
          null,
          null,
          null,
          null,
          null,
          null,
          null,
          4,
          3,
          2,
          5,
          4,
          3,
          4,
          3,
          4,
          5,
          2,
          3,
          2,
          2,
          7,
          3,
          4,
          3,
          2,
          2,
          3,
          4,
          3,
          2,
          2,
          3,
          2,
          2,
          2,
          3,
          5,
          4,
          7,
          3,
          2,
          5,
          7,
          2,
          2,
          5,
          2,
          3,
          4,
          3,
          4,
          3,
          7,
          2,
          2,
          3,
          4,
          3,
          2,
          2,
          5,
          5,
          7,
          4,
          3,
          2,
          2,
          3,
          11,
          5,
          2,
          3,
          2,
          2,
          3,
          2,
          2,
          3,
          2,
          2,
          3,
          4,
          5,
          2,
          3,
          2,
          2,
          3,
          4,
          3,
          2,
          5,
          4,
          7,
          3,
          2,
          2,
          3,
          7,
          4,
          5,
          2,
          3,
          2,
          5,
          4,
          3,
          2,
          2,
          3,
          4,
          5,
          2,
          3,
          4,
          3,
          4,
          5,
          2,
          5,
          1,
          11,
          2,
          2,
          17,
          2,
          2,
          5,
          2,
          3,
          4,
          3,
          2,
          2,
          3,
          9,
          2,
          3,
          2,
          2,
          3,
          2,
          2,
          5,
          2,
          5,
          2,
          3,
          4,
          3,
          2,
          2,
          3,
          2,
          2,
          3,
          2,
          2,
          3,
          4,
          5,
          2,
          5,
          2,
          5,
          2,
          5,
          2,
          3,
          2,
          2,
          3,
          2,
          2,
          7,
          3,
          2,
          2,
          3,
          2,
          2,
          3,
          2,
          2,
          3,
          2,
          2,
          3,
          2,
          2,
          3,
          2,
          2,
          3,
          2,
          2,
          3,
          2,
          5,
          2,
          2,
          3,
          4,
          3,
          2,
          2,
          3,
          1,
          3,
          3,
          2,
          5,
          2,
          2,
          3,
          4,
          3,
          2,
          2,
          3,
          2,
          2,
          3,
          2,
          2,
          3,
          2,
          2,
          3,
          2,
          5,
          4,
          3,
          4,
          3,
          4,
          3,
          7,
          2,
          2,
          3,
          4,
          3,
          2,
          2,
          3,
          2,
          5,
          2,
          2,
          3,
          4,
          3,
          4,
          3,
          2,
          2,
          3,
          2,
          2,
          3,
          2,
          2,
          2,
          5,
          5,
          2,
          3,
          2,
          2,
          7,
          5,
          7,
          2,
          3,
          2,
          2,
          3,
          4,
          3,
          2,
          5,
          7,
          2,
          2,
          7,
          3,
          2,
          5,
          7,
          7,
          9,
          2,
          5,
          5,
          2,
          7,
          7,
          2,
          3,
          2,
          5,
          2,
          5,
          2,
          2,
          3,
          4,
          7,
          5,
          2,
          5,
          2,
          3,
          2,
          2,
          2,
          3,
          2,
          3,
          2,
          2,
          3,
          null,
          null,
          null,
          null,
          null,
          null,
          null,
          null,
          null,
          null,
          null,
          null,
          null,
          null,
          null,
          null,
          null,
          null,
          null,
          null,
          null,
          null,
          null,
          null,
          null,
          null,
          null,
          null,
          null,
          null,
          null,
          null,
          null,
          null,
          null,
          null,
          null,
          null,
          null,
          null,
          null,
          null,
          null,
          null,
          null,
          null,
          null,
          null,
          null,
          null,
          null,
          null,
          null,
          null,
          null,
          null,
          null,
          null,
          null,
          9,
          2,
          7,
          3,
          2,
          2,
          5,
          2,
          3,
          2,
          2,
          3,
          4,
          3,
          4,
          7,
          7,
          7,
          3,
          2,
          2,
          12,
          2,
          3,
          2,
          2,
          5,
          5,
          2,
          2,
          3,
          2,
          2,
          3,
          2,
          2,
          3,
          2,
          9,
          3,
          4,
          3,
          2,
          2,
          3,
          4,
          3,
          4,
          3,
          4,
          12,
          5,
          2,
          5,
          2,
          2,
          3,
          2,
          2,
          3,
          4,
          3,
          4,
          3,
          2,
          2,
          3,
          4,
          3,
          4,
          3,
          2,
          2,
          5,
          2,
          3,
          4,
          3,
          2,
          2,
          3,
          2,
          2,
          3,
          2,
          2,
          3,
          4,
          3,
          2,
          2,
          5,
          2,
          5,
          2,
          5,
          2,
          3,
          2,
          9,
          3,
          2,
          2,
          3,
          4,
          3,
          4,
          3,
          4,
          7,
          3,
          4,
          6,
          4,
          2,
          2,
          3,
          2,
          2,
          3,
          2,
          5,
          2,
          5,
          2,
          5,
          4,
          3,
          2,
          2,
          3,
          2,
          2,
          7,
          3,
          4,
          10,
          2,
          7,
          2,
          5,
          2,
          7,
          3,
          2,
          2,
          3,
          2,
          5,
          2,
          2,
          4,
          8,
          9,
          7,
          3,
          4,
          3,
          4,
          3,
          2,
          2,
          5,
          2,
          3,
          2,
          2,
          3,
          2,
          2,
          3,
          2,
          2,
          3,
          2,
          2,
          7,
          3,
          2,
          2,
          3,
          2,
          2,
          3,
          2,
          2,
          3,
          4,
          3,
          2,
          2,
          3,
          4,
          3,
          1,
          3,
          3,
          4,
          3,
          2,
          2,
          3,
          2,
          2,
          3,
          2,
          2,
          3,
          2,
          2,
          3,
          4,
          5,
          2,
          7,
          3,
          2,
          2,
          3,
          4,
          5,
          2,
          3,
          2,
          3,
          2,
          2,
          2,
          3,
          4,
          3,
          2,
          2,
          3,
          2,
          5,
          2,
          2,
          3,
          4,
          7,
          3,
          7,
          4,
          3,
          4,
          2,
          8,
          4,
          3,
          4,
          5,
          2,
          5,
          2,
          3,
          2,
          2,
          5,
          7,
          2,
          3,
          2,
          23,
          3,
          2,
          5,
          2,
          2,
          3,
          11,
          5,
          2,
          3,
          2,
          2,
          3,
          2,
          2,
          3,
          2,
          5,
          2,
          2,
          3,
          7,
          2,
          2,
          3,
          2,
          2,
          3,
          2,
          2,
          3,
          2,
          2,
          3,
          2,
          2,
          3,
          2,
          2,
          3,
          2,
          2,
          2,
          3,
          2,
          3,
          2,
          2,
          null,
          null,
          null,
          null,
          null,
          null,
          null,
          null,
          null,
          null,
          null,
          null,
          null,
          null,
          null,
          null,
          null,
          null,
          null,
          null,
          null,
          null,
          null,
          null,
          null,
          null,
          null,
          null,
          null,
          null,
          null,
          null,
          null,
          null,
          null,
          null,
          null,
          null,
          null,
          null,
          null,
          null,
          null,
          null,
          null,
          null,
          null,
          null,
          null,
          null,
          null,
          null,
          null,
          null,
          null,
          null,
          null,
          null,
          null,
          null,
          null,
          null,
          null,
          null
         ],
         "y0": " ",
         "yaxis": "y"
        }
       ],
       "layout": {
        "boxmode": "group",
        "legend": {
         "tracegroupgap": 0
        },
        "margin": {
         "t": 60
        },
        "template": {
         "data": {
          "bar": [
           {
            "error_x": {
             "color": "#2a3f5f"
            },
            "error_y": {
             "color": "#2a3f5f"
            },
            "marker": {
             "line": {
              "color": "#E5ECF6",
              "width": 0.5
             }
            },
            "type": "bar"
           }
          ],
          "barpolar": [
           {
            "marker": {
             "line": {
              "color": "#E5ECF6",
              "width": 0.5
             }
            },
            "type": "barpolar"
           }
          ],
          "carpet": [
           {
            "aaxis": {
             "endlinecolor": "#2a3f5f",
             "gridcolor": "white",
             "linecolor": "white",
             "minorgridcolor": "white",
             "startlinecolor": "#2a3f5f"
            },
            "baxis": {
             "endlinecolor": "#2a3f5f",
             "gridcolor": "white",
             "linecolor": "white",
             "minorgridcolor": "white",
             "startlinecolor": "#2a3f5f"
            },
            "type": "carpet"
           }
          ],
          "choropleth": [
           {
            "colorbar": {
             "outlinewidth": 0,
             "ticks": ""
            },
            "type": "choropleth"
           }
          ],
          "contour": [
           {
            "colorbar": {
             "outlinewidth": 0,
             "ticks": ""
            },
            "colorscale": [
             [
              0,
              "#0d0887"
             ],
             [
              0.1111111111111111,
              "#46039f"
             ],
             [
              0.2222222222222222,
              "#7201a8"
             ],
             [
              0.3333333333333333,
              "#9c179e"
             ],
             [
              0.4444444444444444,
              "#bd3786"
             ],
             [
              0.5555555555555556,
              "#d8576b"
             ],
             [
              0.6666666666666666,
              "#ed7953"
             ],
             [
              0.7777777777777778,
              "#fb9f3a"
             ],
             [
              0.8888888888888888,
              "#fdca26"
             ],
             [
              1,
              "#f0f921"
             ]
            ],
            "type": "contour"
           }
          ],
          "contourcarpet": [
           {
            "colorbar": {
             "outlinewidth": 0,
             "ticks": ""
            },
            "type": "contourcarpet"
           }
          ],
          "heatmap": [
           {
            "colorbar": {
             "outlinewidth": 0,
             "ticks": ""
            },
            "colorscale": [
             [
              0,
              "#0d0887"
             ],
             [
              0.1111111111111111,
              "#46039f"
             ],
             [
              0.2222222222222222,
              "#7201a8"
             ],
             [
              0.3333333333333333,
              "#9c179e"
             ],
             [
              0.4444444444444444,
              "#bd3786"
             ],
             [
              0.5555555555555556,
              "#d8576b"
             ],
             [
              0.6666666666666666,
              "#ed7953"
             ],
             [
              0.7777777777777778,
              "#fb9f3a"
             ],
             [
              0.8888888888888888,
              "#fdca26"
             ],
             [
              1,
              "#f0f921"
             ]
            ],
            "type": "heatmap"
           }
          ],
          "heatmapgl": [
           {
            "colorbar": {
             "outlinewidth": 0,
             "ticks": ""
            },
            "colorscale": [
             [
              0,
              "#0d0887"
             ],
             [
              0.1111111111111111,
              "#46039f"
             ],
             [
              0.2222222222222222,
              "#7201a8"
             ],
             [
              0.3333333333333333,
              "#9c179e"
             ],
             [
              0.4444444444444444,
              "#bd3786"
             ],
             [
              0.5555555555555556,
              "#d8576b"
             ],
             [
              0.6666666666666666,
              "#ed7953"
             ],
             [
              0.7777777777777778,
              "#fb9f3a"
             ],
             [
              0.8888888888888888,
              "#fdca26"
             ],
             [
              1,
              "#f0f921"
             ]
            ],
            "type": "heatmapgl"
           }
          ],
          "histogram": [
           {
            "marker": {
             "colorbar": {
              "outlinewidth": 0,
              "ticks": ""
             }
            },
            "type": "histogram"
           }
          ],
          "histogram2d": [
           {
            "colorbar": {
             "outlinewidth": 0,
             "ticks": ""
            },
            "colorscale": [
             [
              0,
              "#0d0887"
             ],
             [
              0.1111111111111111,
              "#46039f"
             ],
             [
              0.2222222222222222,
              "#7201a8"
             ],
             [
              0.3333333333333333,
              "#9c179e"
             ],
             [
              0.4444444444444444,
              "#bd3786"
             ],
             [
              0.5555555555555556,
              "#d8576b"
             ],
             [
              0.6666666666666666,
              "#ed7953"
             ],
             [
              0.7777777777777778,
              "#fb9f3a"
             ],
             [
              0.8888888888888888,
              "#fdca26"
             ],
             [
              1,
              "#f0f921"
             ]
            ],
            "type": "histogram2d"
           }
          ],
          "histogram2dcontour": [
           {
            "colorbar": {
             "outlinewidth": 0,
             "ticks": ""
            },
            "colorscale": [
             [
              0,
              "#0d0887"
             ],
             [
              0.1111111111111111,
              "#46039f"
             ],
             [
              0.2222222222222222,
              "#7201a8"
             ],
             [
              0.3333333333333333,
              "#9c179e"
             ],
             [
              0.4444444444444444,
              "#bd3786"
             ],
             [
              0.5555555555555556,
              "#d8576b"
             ],
             [
              0.6666666666666666,
              "#ed7953"
             ],
             [
              0.7777777777777778,
              "#fb9f3a"
             ],
             [
              0.8888888888888888,
              "#fdca26"
             ],
             [
              1,
              "#f0f921"
             ]
            ],
            "type": "histogram2dcontour"
           }
          ],
          "mesh3d": [
           {
            "colorbar": {
             "outlinewidth": 0,
             "ticks": ""
            },
            "type": "mesh3d"
           }
          ],
          "parcoords": [
           {
            "line": {
             "colorbar": {
              "outlinewidth": 0,
              "ticks": ""
             }
            },
            "type": "parcoords"
           }
          ],
          "pie": [
           {
            "automargin": true,
            "type": "pie"
           }
          ],
          "scatter": [
           {
            "marker": {
             "colorbar": {
              "outlinewidth": 0,
              "ticks": ""
             }
            },
            "type": "scatter"
           }
          ],
          "scatter3d": [
           {
            "line": {
             "colorbar": {
              "outlinewidth": 0,
              "ticks": ""
             }
            },
            "marker": {
             "colorbar": {
              "outlinewidth": 0,
              "ticks": ""
             }
            },
            "type": "scatter3d"
           }
          ],
          "scattercarpet": [
           {
            "marker": {
             "colorbar": {
              "outlinewidth": 0,
              "ticks": ""
             }
            },
            "type": "scattercarpet"
           }
          ],
          "scattergeo": [
           {
            "marker": {
             "colorbar": {
              "outlinewidth": 0,
              "ticks": ""
             }
            },
            "type": "scattergeo"
           }
          ],
          "scattergl": [
           {
            "marker": {
             "colorbar": {
              "outlinewidth": 0,
              "ticks": ""
             }
            },
            "type": "scattergl"
           }
          ],
          "scattermapbox": [
           {
            "marker": {
             "colorbar": {
              "outlinewidth": 0,
              "ticks": ""
             }
            },
            "type": "scattermapbox"
           }
          ],
          "scatterpolar": [
           {
            "marker": {
             "colorbar": {
              "outlinewidth": 0,
              "ticks": ""
             }
            },
            "type": "scatterpolar"
           }
          ],
          "scatterpolargl": [
           {
            "marker": {
             "colorbar": {
              "outlinewidth": 0,
              "ticks": ""
             }
            },
            "type": "scatterpolargl"
           }
          ],
          "scatterternary": [
           {
            "marker": {
             "colorbar": {
              "outlinewidth": 0,
              "ticks": ""
             }
            },
            "type": "scatterternary"
           }
          ],
          "surface": [
           {
            "colorbar": {
             "outlinewidth": 0,
             "ticks": ""
            },
            "colorscale": [
             [
              0,
              "#0d0887"
             ],
             [
              0.1111111111111111,
              "#46039f"
             ],
             [
              0.2222222222222222,
              "#7201a8"
             ],
             [
              0.3333333333333333,
              "#9c179e"
             ],
             [
              0.4444444444444444,
              "#bd3786"
             ],
             [
              0.5555555555555556,
              "#d8576b"
             ],
             [
              0.6666666666666666,
              "#ed7953"
             ],
             [
              0.7777777777777778,
              "#fb9f3a"
             ],
             [
              0.8888888888888888,
              "#fdca26"
             ],
             [
              1,
              "#f0f921"
             ]
            ],
            "type": "surface"
           }
          ],
          "table": [
           {
            "cells": {
             "fill": {
              "color": "#EBF0F8"
             },
             "line": {
              "color": "white"
             }
            },
            "header": {
             "fill": {
              "color": "#C8D4E3"
             },
             "line": {
              "color": "white"
             }
            },
            "type": "table"
           }
          ]
         },
         "layout": {
          "annotationdefaults": {
           "arrowcolor": "#2a3f5f",
           "arrowhead": 0,
           "arrowwidth": 1
          },
          "coloraxis": {
           "colorbar": {
            "outlinewidth": 0,
            "ticks": ""
           }
          },
          "colorscale": {
           "diverging": [
            [
             0,
             "#8e0152"
            ],
            [
             0.1,
             "#c51b7d"
            ],
            [
             0.2,
             "#de77ae"
            ],
            [
             0.3,
             "#f1b6da"
            ],
            [
             0.4,
             "#fde0ef"
            ],
            [
             0.5,
             "#f7f7f7"
            ],
            [
             0.6,
             "#e6f5d0"
            ],
            [
             0.7,
             "#b8e186"
            ],
            [
             0.8,
             "#7fbc41"
            ],
            [
             0.9,
             "#4d9221"
            ],
            [
             1,
             "#276419"
            ]
           ],
           "sequential": [
            [
             0,
             "#0d0887"
            ],
            [
             0.1111111111111111,
             "#46039f"
            ],
            [
             0.2222222222222222,
             "#7201a8"
            ],
            [
             0.3333333333333333,
             "#9c179e"
            ],
            [
             0.4444444444444444,
             "#bd3786"
            ],
            [
             0.5555555555555556,
             "#d8576b"
            ],
            [
             0.6666666666666666,
             "#ed7953"
            ],
            [
             0.7777777777777778,
             "#fb9f3a"
            ],
            [
             0.8888888888888888,
             "#fdca26"
            ],
            [
             1,
             "#f0f921"
            ]
           ],
           "sequentialminus": [
            [
             0,
             "#0d0887"
            ],
            [
             0.1111111111111111,
             "#46039f"
            ],
            [
             0.2222222222222222,
             "#7201a8"
            ],
            [
             0.3333333333333333,
             "#9c179e"
            ],
            [
             0.4444444444444444,
             "#bd3786"
            ],
            [
             0.5555555555555556,
             "#d8576b"
            ],
            [
             0.6666666666666666,
             "#ed7953"
            ],
            [
             0.7777777777777778,
             "#fb9f3a"
            ],
            [
             0.8888888888888888,
             "#fdca26"
            ],
            [
             1,
             "#f0f921"
            ]
           ]
          },
          "colorway": [
           "#636efa",
           "#EF553B",
           "#00cc96",
           "#ab63fa",
           "#FFA15A",
           "#19d3f3",
           "#FF6692",
           "#B6E880",
           "#FF97FF",
           "#FECB52"
          ],
          "font": {
           "color": "#2a3f5f"
          },
          "geo": {
           "bgcolor": "white",
           "lakecolor": "white",
           "landcolor": "#E5ECF6",
           "showlakes": true,
           "showland": true,
           "subunitcolor": "white"
          },
          "hoverlabel": {
           "align": "left"
          },
          "hovermode": "closest",
          "mapbox": {
           "style": "light"
          },
          "paper_bgcolor": "white",
          "plot_bgcolor": "#E5ECF6",
          "polar": {
           "angularaxis": {
            "gridcolor": "white",
            "linecolor": "white",
            "ticks": ""
           },
           "bgcolor": "#E5ECF6",
           "radialaxis": {
            "gridcolor": "white",
            "linecolor": "white",
            "ticks": ""
           }
          },
          "scene": {
           "xaxis": {
            "backgroundcolor": "#E5ECF6",
            "gridcolor": "white",
            "gridwidth": 2,
            "linecolor": "white",
            "showbackground": true,
            "ticks": "",
            "zerolinecolor": "white"
           },
           "yaxis": {
            "backgroundcolor": "#E5ECF6",
            "gridcolor": "white",
            "gridwidth": 2,
            "linecolor": "white",
            "showbackground": true,
            "ticks": "",
            "zerolinecolor": "white"
           },
           "zaxis": {
            "backgroundcolor": "#E5ECF6",
            "gridcolor": "white",
            "gridwidth": 2,
            "linecolor": "white",
            "showbackground": true,
            "ticks": "",
            "zerolinecolor": "white"
           }
          },
          "shapedefaults": {
           "line": {
            "color": "#2a3f5f"
           }
          },
          "ternary": {
           "aaxis": {
            "gridcolor": "white",
            "linecolor": "white",
            "ticks": ""
           },
           "baxis": {
            "gridcolor": "white",
            "linecolor": "white",
            "ticks": ""
           },
           "bgcolor": "#E5ECF6",
           "caxis": {
            "gridcolor": "white",
            "linecolor": "white",
            "ticks": ""
           }
          },
          "title": {
           "x": 0.05
          },
          "xaxis": {
           "automargin": true,
           "gridcolor": "white",
           "linecolor": "white",
           "ticks": "",
           "title": {
            "standoff": 15
           },
           "zerolinecolor": "white",
           "zerolinewidth": 2
          },
          "yaxis": {
           "automargin": true,
           "gridcolor": "white",
           "linecolor": "white",
           "ticks": "",
           "title": {
            "standoff": 15
           },
           "zerolinecolor": "white",
           "zerolinewidth": 2
          }
         }
        },
        "xaxis": {
         "anchor": "y",
         "domain": [
          0,
          1
         ],
         "title": {
          "text": "Shark"
         }
        },
        "yaxis": {
         "anchor": "x",
         "domain": [
          0,
          1
         ],
         "title": {
          "text": "Days"
         }
        }
       }
      },
      "text/html": [
       "<div>                            <div id=\"d85bbf3c-ca08-4036-98af-ec2f280e3368\" class=\"plotly-graph-div\" style=\"height:525px; width:100%;\"></div>            <script type=\"text/javascript\">                require([\"plotly\"], function(Plotly) {                    window.PLOTLYENV=window.PLOTLYENV || {};                                    if (document.getElementById(\"d85bbf3c-ca08-4036-98af-ec2f280e3368\")) {                    Plotly.newPlot(                        \"d85bbf3c-ca08-4036-98af-ec2f280e3368\",                        [{\"alignmentgroup\": \"True\", \"hovertemplate\": \"Shark=%{x}<br>Days=%{y}<extra></extra>\", \"legendgroup\": \"\", \"marker\": {\"color\": \"#636efa\"}, \"name\": \"\", \"notched\": false, \"offsetgroup\": \"\", \"orientation\": \"v\", \"showlegend\": false, \"type\": \"box\", \"x\": [\"Ross\", \"Ross\", \"Ross\", \"Ross\", \"Ross\", \"Ross\", \"Ross\", \"Ross\", \"Ross\", \"Ross\", \"Ross\", \"Ross\", \"Ross\", \"Ross\", \"Ross\", \"Ross\", \"Ross\", \"Ross\", \"Ross\", \"Ross\", \"Ross\", \"Ross\", \"Ross\", \"Ross\", \"Ross\", \"Ross\", \"Ross\", \"Ross\", \"Ross\", \"Ross\", \"Ross\", \"Ross\", \"Ross\", \"Ross\", \"Ross\", \"Ross\", \"Ross\", \"Ross\", \"Ross\", \"Ross\", \"Ross\", \"Ross\", \"Ross\", \"Ross\", \"Ross\", \"Ross\", \"Ross\", \"Ross\", \"Ross\", \"Ross\", \"Ross\", \"Ross\", \"Ross\", \"Ross\", \"Ross\", \"Ross\", \"Ross\", \"Ross\", \"Ross\", \"Ross\", \"Ross\", \"Ross\", \"Ross\", \"Ross\", \"Ross\", \"Ross\", \"Ross\", \"Ross\", \"Ross\", \"Ross\", \"Ross\", \"Ross\", \"Ross\", \"Ross\", \"Ross\", \"Ross\", \"Ross\", \"Ross\", \"Ross\", \"Ross\", \"Ross\", \"Ross\", \"Ross\", \"Ross\", \"Ross\", \"Ross\", \"Ross\", \"Ross\", \"Ross\", \"Ross\", \"Ross\", \"Ross\", \"Ross\", \"Ross\", \"Ross\", \"Ross\", \"Ross\", \"Ross\", \"Ross\", \"Ross\", \"Ross\", \"Ross\", \"Ross\", \"Ross\", \"Ross\", \"Ross\", \"Ross\", \"Ross\", \"Ross\", \"Ross\", \"Ross\", \"Ross\", \"Ross\", \"Ross\", \"Ross\", \"Ross\", \"Ross\", \"Ross\", \"Ross\", \"Ross\", \"Ross\", \"Ross\", \"Ross\", \"Ross\", \"Ross\", \"Ross\", \"Ross\", \"Ross\", \"Ross\", \"Ross\", \"Ross\", \"Ross\", \"Ross\", \"Ross\", \"Ross\", \"Ross\", \"Ross\", \"Ross\", \"Ross\", \"Ross\", \"Ross\", \"Ross\", \"Ross\", \"Ross\", \"Ross\", \"Ross\", \"Ross\", \"Ross\", \"Ross\", \"Ross\", \"Ross\", \"Ross\", \"Ross\", \"Ross\", \"Ross\", \"Ross\", \"Ross\", \"Ross\", \"Ross\", \"Ross\", \"Ross\", \"Ross\", \"Ross\", \"Ross\", \"Ross\", \"Ross\", \"Ross\", \"Ross\", \"Ross\", \"Ross\", \"Ross\", \"Ross\", \"Ross\", \"Ross\", \"Ross\", \"Ross\", \"Ross\", \"Ross\", \"Ross\", \"Ross\", \"Ross\", \"Ross\", \"Ross\", \"Ross\", \"Ross\", \"Ross\", \"Ross\", \"Ross\", \"Ross\", \"Ross\", \"Ross\", \"Ross\", \"Ross\", \"Ross\", \"Ross\", \"Ross\", \"Ross\", \"Ross\", \"Ross\", \"Ross\", \"Ross\", \"Ross\", \"Ross\", \"Ross\", \"Ross\", \"Ross\", \"Ross\", \"Ross\", \"Ross\", \"Ross\", \"Ross\", \"Ross\", \"Ross\", \"Ross\", \"Ross\", \"Ross\", \"Ross\", \"Ross\", \"Ross\", \"Ross\", \"Ross\", \"Ross\", \"Ross\", \"Ross\", \"Ross\", \"Ross\", \"Ross\", \"Ross\", \"Ross\", \"Ross\", \"Ross\", \"Ross\", \"Ross\", \"Ross\", \"Ross\", \"Ross\", \"Ross\", \"Ross\", \"Ross\", \"Ross\", \"Ross\", \"Ross\", \"Ross\", \"Ross\", \"Ross\", \"Ross\", \"Ross\", \"Ross\", \"Ross\", \"Ross\", \"Ross\", \"Ross\", \"Ross\", \"Ross\", \"Ross\", \"Ross\", \"Ross\", \"Ross\", \"Ross\", \"Ross\", \"Ross\", \"Ross\", \"Ross\", \"Ross\", \"Ross\", \"Ross\", \"Ross\", \"Ross\", \"Ross\", \"Ross\", \"Ross\", \"Ross\", \"Ross\", \"Ross\", \"Ross\", \"Ross\", \"Ross\", \"Ross\", \"Ross\", \"Ross\", \"Ross\", \"Ross\", \"Ross\", \"Ross\", \"Ross\", \"Ross\", \"Ross\", \"Ross\", \"Ross\", \"Ross\", \"Ross\", \"Ross\", \"Ross\", \"Ross\", \"Ross\", \"Ross\", \"Ross\", \"Ross\", \"Ross\", \"Ross\", \"Ross\", \"Ross\", \"Ross\", \"Ross\", \"Ross\", \"Ross\", \"Ross\", \"Ross\", \"Ross\", \"Ross\", \"Ross\", \"Ross\", \"Ross\", \"Ross\", \"Ross\", \"Ross\", \"Ross\", \"Ross\", \"Ross\", \"Ross\", \"Ross\", \"Ross\", \"Ross\", \"Ross\", \"Ross\", \"Ross\", \"Ross\", \"Ross\", \"Ross\", \"Ross\", \"Ross\", \"Ross\", \"Ross\", \"Ross\", \"Ross\", \"Ross\", \"Ross\", \"Ross\", \"Ross\", \"Ross\", \"Ross\", \"Ross\", \"Ross\", \"Ross\", \"Ross\", \"Ross\", \"Ross\", \"Ross\", \"Ross\", \"Ross\", \"Ross\", \"Ross\", \"Ross\", \"Ross\", \"Ross\", \"Ross\", \"Ross\", \"Ross\", \"Ross\", \"Ross\", \"Ross\", \"Ross\", \"Ross\", \"Ross\", \"Ross\", \"Ross\", \"Ross\", \"Ross\", \"Ross\", \"Ross\", \"Ross\", \"Ross\", \"Ross\", \"Ross\", \"Ross\", \"Ross\", \"Chandler\", \"Chandler\", \"Chandler\", \"Chandler\", \"Chandler\", \"Chandler\", \"Chandler\", \"Chandler\", \"Chandler\", \"Chandler\", \"Chandler\", \"Chandler\", \"Chandler\", \"Chandler\", \"Chandler\", \"Chandler\", \"Chandler\", \"Chandler\", \"Chandler\", \"Chandler\", \"Chandler\", \"Chandler\", \"Chandler\", \"Chandler\", \"Chandler\", \"Chandler\", \"Chandler\", \"Chandler\", \"Chandler\", \"Chandler\", \"Chandler\", \"Chandler\", \"Chandler\", \"Chandler\", \"Chandler\", \"Chandler\", \"Chandler\", \"Chandler\", \"Chandler\", \"Chandler\", \"Chandler\", \"Chandler\", \"Chandler\", \"Chandler\", \"Chandler\", \"Chandler\", \"Chandler\", \"Chandler\", \"Chandler\", \"Chandler\", \"Chandler\", \"Chandler\", \"Chandler\", \"Chandler\", \"Chandler\", \"Chandler\", \"Chandler\", \"Chandler\", \"Chandler\", \"Chandler\", \"Chandler\", \"Chandler\", \"Chandler\", \"Chandler\", \"Chandler\", \"Chandler\", \"Chandler\", \"Chandler\", \"Chandler\", \"Chandler\", \"Chandler\", \"Chandler\", \"Chandler\", \"Chandler\", \"Chandler\", \"Chandler\", \"Chandler\", \"Chandler\", \"Chandler\", \"Chandler\", \"Chandler\", \"Chandler\", \"Chandler\", \"Chandler\", \"Chandler\", \"Chandler\", \"Chandler\", \"Chandler\", \"Chandler\", \"Chandler\", \"Chandler\", \"Chandler\", \"Chandler\", \"Chandler\", \"Chandler\", \"Chandler\", \"Chandler\", \"Chandler\", \"Chandler\", \"Chandler\", \"Chandler\", \"Chandler\", \"Chandler\", \"Chandler\", \"Chandler\", \"Chandler\", \"Chandler\", \"Chandler\", \"Chandler\", \"Chandler\", \"Chandler\", \"Chandler\", \"Chandler\", \"Chandler\", \"Chandler\", \"Chandler\", \"Chandler\", \"Chandler\", \"Chandler\", \"Chandler\", \"Chandler\", \"Chandler\", \"Chandler\", \"Chandler\", \"Chandler\", \"Chandler\", \"Chandler\", \"Chandler\", \"Chandler\", \"Chandler\", \"Chandler\", \"Chandler\", \"Chandler\", \"Chandler\", \"Chandler\", \"Chandler\", \"Chandler\", \"Chandler\", \"Chandler\", \"Chandler\", \"Chandler\", \"Chandler\", \"Chandler\", \"Chandler\", \"Chandler\", \"Chandler\", \"Chandler\", \"Chandler\", \"Chandler\", \"Chandler\", \"Chandler\", \"Chandler\", \"Chandler\", \"Chandler\", \"Chandler\", \"Chandler\", \"Chandler\", \"Chandler\", \"Chandler\", \"Chandler\", \"Chandler\", \"Chandler\", \"Chandler\", \"Chandler\", \"Chandler\", \"Chandler\", \"Chandler\", \"Chandler\", \"Chandler\", \"Chandler\", \"Chandler\", \"Chandler\", \"Chandler\", \"Chandler\", \"Chandler\", \"Chandler\", \"Chandler\", \"Chandler\", \"Chandler\", \"Chandler\", \"Chandler\", \"Chandler\", \"Chandler\", \"Chandler\", \"Chandler\", \"Chandler\", \"Chandler\", \"Chandler\", \"Chandler\", \"Chandler\", \"Chandler\", \"Chandler\", \"Chandler\", \"Chandler\", \"Chandler\", \"Chandler\", \"Chandler\", \"Chandler\", \"Chandler\", \"Chandler\", \"Chandler\", \"Chandler\", \"Chandler\", \"Chandler\", \"Chandler\", \"Chandler\", \"Chandler\", \"Chandler\", \"Chandler\", \"Chandler\", \"Chandler\", \"Chandler\", \"Chandler\", \"Chandler\", \"Chandler\", \"Chandler\", \"Chandler\", \"Chandler\", \"Chandler\", \"Chandler\", \"Chandler\", \"Chandler\", \"Chandler\", \"Chandler\", \"Chandler\", \"Chandler\", \"Chandler\", \"Chandler\", \"Chandler\", \"Chandler\", \"Chandler\", \"Chandler\", \"Chandler\", \"Chandler\", \"Chandler\", \"Chandler\", \"Chandler\", \"Chandler\", \"Chandler\", \"Chandler\", \"Chandler\", \"Chandler\", \"Chandler\", \"Chandler\", \"Chandler\", \"Chandler\", \"Chandler\", \"Chandler\", \"Chandler\", \"Chandler\", \"Chandler\", \"Chandler\", \"Chandler\", \"Chandler\", \"Chandler\", \"Chandler\", \"Chandler\", \"Chandler\", \"Chandler\", \"Chandler\", \"Chandler\", \"Chandler\", \"Chandler\", \"Chandler\", \"Chandler\", \"Chandler\", \"Chandler\", \"Chandler\", \"Chandler\", \"Chandler\", \"Chandler\", \"Chandler\", \"Chandler\", \"Chandler\", \"Chandler\", \"Chandler\", \"Chandler\", \"Chandler\", \"Chandler\", \"Chandler\", \"Chandler\", \"Chandler\", \"Chandler\", \"Chandler\", \"Chandler\", \"Chandler\", \"Chandler\", \"Chandler\", \"Chandler\", \"Chandler\", \"Chandler\", \"Chandler\", \"Chandler\", \"Chandler\", \"Chandler\", \"Chandler\", \"Chandler\", \"Chandler\", \"Chandler\", \"Chandler\", \"Chandler\", \"Chandler\", \"Chandler\", \"Chandler\", \"Chandler\", \"Chandler\", \"Chandler\", \"Chandler\", \"Chandler\", \"Chandler\", \"Chandler\", \"Chandler\", \"Chandler\", \"Chandler\", \"Chandler\", \"Chandler\", \"Chandler\", \"Chandler\", \"Chandler\", \"Chandler\", \"Chandler\", \"Chandler\", \"Chandler\", \"Chandler\", \"Chandler\", \"Chandler\", \"Chandler\", \"Chandler\", \"Chandler\", \"Chandler\", \"Chandler\", \"Chandler\", \"Chandler\", \"Chandler\", \"Chandler\", \"Chandler\", \"Chandler\", \"Chandler\", \"Chandler\", \"Chandler\", \"Chandler\", \"Chandler\", \"Chandler\", \"Chandler\", \"Chandler\", \"Chandler\", \"Chandler\", \"Chandler\", \"Chandler\", \"Chandler\", \"Chandler\", \"Chandler\", \"Chandler\", \"Chandler\", \"Chandler\", \"Chandler\", \"Chandler\", \"Chandler\", \"Chandler\", \"Chandler\", \"Chandler\", \"Chandler\", \"Chandler\", \"Chandler\", \"Chandler\", \"Chandler\", \"Chandler\", \"Chandler\", \"Chandler\", \"Chandler\", \"Chandler\", \"Chandler\", \"Chandler\", \"Chandler\", \"Chandler\", \"Chandler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x0\": \" \", \"xaxis\": \"x\", \"y\": [3.0, 2.0, 2.0, 3.0, 2.0, 2.0, 3.0, 4.0, 3.0, 2.0, 2.0, 3.0, 4.0, 3.0, 2.0, 2.0, 3.0, 2.0, 2.0, 3.0, 4.0, 3.0, 7.0, 2.0, 2.0, 3.0, 2.0, 2.0, 3.0, 4.0, 2.0, 5.0, 3.0, 2.0, 2.0, 3.0, 2.0, 2.0, 3.0, 2.0, 2.0, 3.0, 4.0, 3.0, 2.0, 5.0, 4.0, 5.0, 2.0, 3.0, 2.0, 2.0, 3.0, 2.0, 5.0, 2.0, 2.0, 3.0, 2.0, 2.0, 3.0, 2.0, 2.0, 3.0, 2.0, 5.0, 2.0, 2.0, 5.0, 2.0, 3.0, 2.0, 2.0, 5.0, 2.0, 5.0, 2.0, 3.0, 2.0, 2.0, 3.0, 2.0, 2.0, 3.0, 2.0, 2.0, 5.0, 2.0, 5.0, 2.0, 3.0, 2.0, 2.0, 3.0, 2.0, 2.0, 5.0, 2.0, 3.0, 4.0, 3.0, 2.0, 2.0, 3.0, 2.0, 5.0, 2.0, 2.0, 3.0, 2.0, 2.0, 5.0, 2.0, 3.0, 2.0, 5.0, 2.0, 2.0, 3.0, 2.0, 5.0, 4.0, 3.0, 2.0, 5.0, 2.0, 2.0, 3.0, 2.0, 2.0, 3.0, 2.0, 2.0, 3.0, 2.0, 5.0, 4.0, 3.0, 4.0, 3.0, 2.0, 2.0, 3.0, 2.0, 2.0, 3.0, 2.0, 5.0, 2.0, 2.0, 3.0, 2.0, 2.0, 3.0, 2.0, 2.0, 3.0, 2.0, 5.0, 2.0, 2.0, 3.0, 2.0, 5.0, 2.0, 2.0, 2.0, 1.0, 2.0, 5.0, 2.0, 2.0, 3.0, 2.0, 2.0, 3.0, 2.0, 2.0, 3.0, 2.0, 2.0, 3.0, 2.0, 2.0, 3.0, 2.0, 2.0, 3.0, 2.0, 1.0, 4.0, 2.0, 2.0, 3.0, 4.0, 3.0, 2.0, 2.0, 3.0, 2.0, 2.0, 3.0, 4.0, 3.0, 4.0, 3.0, 2.0, 2.0, 3.0, 2.0, 2.0, 3.0, 2.0, 2.0, 3.0, 2.0, 2.0, 3.0, 4.0, 3.0, 2.0, 2.0, 3.0, 4.0, 3.0, 2.0, 2.0, 3.0, 4.0, 3.0, 2.0, 2.0, 3.0, 2.0, 2.0, 3.0, 2.0, 2.0, 3.0, 2.0, 1.0, 3.0, 1.0, 2.0, 2.0, 3.0, 2.0, 2.0, 3.0, 2.0, 2.0, 3.0, 2.0, 2.0, 3.0, 2.0, 6.0, 3.0, 3.0, 2.0, 2.0, 3.0, 2.0, 5.0, 2.0, 2.0, 3.0, 7.0, 2.0, 9.0, 4.0, 1.0, 2.0, 3.0, 2.0, 2.0, 3.0, 2.0, 2.0, 4.0, 3.0, 3.0, 2.0, 2.0, 3.0, 2.0, 2.0, 3.0, 4.0, 5.0, 2.0, 5.0, 2.0, 3.0, 2.0, 6.0, 3.0, 5.0, 2.0, 5.0, 2.0, 3.0, 2.0, 2.0, 3.0, 4.0, 7.0, 3.0, 4.0, 3.0, 2.0, 5.0, 2.0, 2.0, 2.0, 5.0, 2.0, 3.0, 2.0, 3.0, 2.0, 2.0, 3.0, 4.0, 3.0, 2.0, 2.0, 3.0, 2.0, 2.0, 3.0, 2.0, 2.0, 3.0, 2.0, 2.0, 3.0, 2.0, 2.0, 3.0, 2.0, 5.0, 4.0, 3.0, 2.0, 2.0, 3.0, 2.0, 2.0, 3.0, 4.0, 3.0, 2.0, 2.0, 3.0, 2.0, 2.0, 3.0, 2.0, 2.0, 3.0, 2.0, 2.0, 3.0, 2.0, 2.0, 3.0, 2.0, 2.0, 3.0, 1.0, 3.0, 3.0, 2.0, 5.0, 2.0, 5.0, 2.0, 5.0, 2.0, 2.0, 3.0, 2.0, 2.0, 3.0, 2.0, 5.0, 4.0, 3.0, 4.0, 3.0, 2.0, 2.0, 5.0, 2.0, 3.0, 2.0, 2.0, 5.0, 2.0, 3.0, 2.0, 5.0, 2.0, 2.0, 2.0, 2.0, 6.0, 2.0, 2.0, 3.0, 2.0, 2.0, 3.0, 2.0, 5.0, 4.0, 3.0, 2.0, 2.0, 3.0, 4.0, 5.0, 2.0, 3.0, 2.0, 2.0, 3.0, 2.0, 2.0, 3.0, 4.0, 3.0, 4.0, 3.0, 2.0, 2.0, 3.0, 2.0, 2.0, 3.0, 2.0, 2.0, 3.0, 2.0, 2.0, 3.0, 2.0, 2.0, 3.0, 2.0, 2.0, 3.0, 2.0, 2.0, 3.0, 4.0, 3.0, 2.0, 2.0, 3.0, 2.0, 5.0, 2.0, 2.0, 3.0, 2.0, 5.0, 2.0, 2.0, 3.0, 7.0, 2.0, 2.0, 3.0, 2.0, 2.0, 3.0, 2.0, 2.0, 3.0, 2.0, 2.0, 12.0, 5.0, 2.0, 5.0, 2.0, 5.0, 4.0, 5.0, 5.0, 2.0, 2.0, 3.0, 2.0, 5.0, 2.0, 5.0, 2.0, 5.0, 2.0, 5.0, 2.0, 2.0, 3.0, 4.0, 3.0, 2.0, 5.0, 2.0, 2.0, 3.0, 2.0, 2.0, 5.0, 9.0, 3.0, 2.0, 2.0, 3.0, 2.0, 5.0, 2.0, 2.0, 3.0, 2.0, 2.0, 3.0, 2.0, 5.0, 2.0, 5.0, 2.0, 2.0, 3.0, 2.0, 5.0, 2.0, 5.0, 4.0, 3.0, 2.0, 2.0, 3.0, 4.0, 3.0, 2.0, 5.0, 2.0, 1.0, 4.0, 2.0, 5.0, 2.0, 2.0, 3.0, 2.0, 5.0, 2.0, 2.0, 5.0, 2.0, 3.0, 4.0, 5.0, 5.0, 2.0, 2.0, 3.0, 2.0, 2.0, 3.0, 2.0, 2.0, 3.0, 2.0, 5.0, 2.0, 2.0, 3.0, 2.0, 2.0, 3.0, 2.0, 5.0, 2.0, 5.0, 2.0, 5.0, 2.0, 2.0, 3.0, 4.0, 3.0, 2.0, 5.0, 2.0, 2.0, 3.0, 7.0, 2.0, 5.0, 4.0, 3.0, 2.0, 6.0, 1.0, 2.0, 3.0, 2.0, 2.0, 3.0, 2.0, 2.0, 3.0, 2.0, 5.0, 2.0, 5.0, 2.0, 5.0, 2.0, 6.0, 1.0, 5.0, 2.0, 2.0, 5.0, 2.0, 5.0, 5.0, 2.0, 2.0, 7.0, 3.0, 2.0, 5.0, 4.0, 3.0, 4.0, 3.0, 2.0, 5.0, 1.0, 3.0, 3.0, 2.0, 5.0, 2.0, 5.0, 4.0, 3.0, 4.0, 3.0, 2.0, 2.0, 3.0, 2.0, 2.0, 3.0, 2.0, 5.0, 2.0, 2.0, 5.0, 7.0, 5.0, 2.0, 2.0, 3.0, 4.0, 3.0, 4.0, 7.0, 5.0, 2.0, 3.0, 2.0, 9.0, 3.0, 2.0, 5.0, 2.0, 7.0, 9.0, 3.0, 2.0, 2.0, 3.0, 2.0, 2.0, 5.0, 5.0, 2.0, 2.0, 3.0, 2.0, 2.0, 3.0, 2.0, 2.0, 3.0, 2.0, 2.0, 3.0, 1.0, 3.0, 3.0, 4.0, 3.0, 2.0, null, null, null, null, null, null, null, null, null, null, null, null, null, null, null, null, null, null, null, null, null, null, null, null, null, null, null, null, null, null, null, null, null, null, null, null, null, null, null, null, 5.0, 4.0, 3.0, 2.0, 7.0, 5.0, 2.0, 2.0, 3.0, 2.0, 2.0, 3.0, 2.0, 2.0, 5.0, 2.0, 3.0, 2.0, 7.0, 2.0, 5.0, 7.0, 2.0, 5.0, 2.0, 2.0, 2.0, 3.0, 3.0, 4.0, 14.0, 3.0, 2.0, 2.0, 3.0, 2.0, 2.0, 3.0, 4.0, 5.0, 2.0, 3.0, 2.0, 2.0, 5.0, 2.0, 3.0, 2.0, 2.0, 5.0, 5.0, 2.0, 2.0, 5.0, 7.0, 5.0, 2.0, 5.0, 2.0, 2.0, 3.0, 2.0, 7.0, 7.0, 2.0, 5.0, 2.0, 3.0, 2.0, 2.0, 3.0, 4.0, 3.0, 2.0, 5.0, 2.0, 5.0, 2.0, 2.0, 5.0, 2.0, 3.0, 2.0, 2.0, 5.0, 5.0, 2.0, 5.0, 2.0, 5.0, 2.0, 5.0, 2.0, 2.0, 3.0, 4.0, 3.0, 2.0, 2.0, 3.0, 2.0, 2.0, 5.0, 2.0, 3.0, 2.0, 5.0, 2.0, 2.0, 7.0, 5.0, 2.0, 3.0, 4.0, 10.0, 2.0, 2.0, 5.0, 5.0, 2.0, 2.0, 3.0, 2.0, 2.0, 3.0, 2.0, 2.0, 3.0, 2.0, 2.0, 3.0, 2.0, 7.0, 2.0, 5.0, 2.0, 5.0, 2.0, 5.0, 2.0, 7.0, 3.0, 2.0, 2.0, 5.0, 2.0, 5.0, 2.0, 3.0, 2.0, 5.0, 2.0, 2.0, 3.0, 2.0, 2.0, 5.0, 1.0, 6.0, 2.0, 3.0, 2.0, 2.0, 5.0, 2.0, 3.0, 7.0, 2.0, 5.0, 2.0, 7.0, 5.0, 2.0, 2.0, 3.0, 2.0, 2.0, 3.0, 2.0, 2.0, 3.0, 2.0, 5.0, 2.0, 5.0, 2.0, 2.0, 3.0, 2.0, 2.0, 3.0, 2.0, 5.0, 2.0, 2.0, 3.0, 2.0, 5.0, 2.0, 5.0, 2.0, 1.0, 6.0, 5.0, 2.0, 2.0, 3.0, 2.0, 2.0, 3.0, 2.0, 2.0, 3.0, 2.0, 2.0, 5.0, 2.0, 5.0, 2.0, 3.0, 2.0, 2.0, 3.0, 7.0, 2.0, 7.0, 2.0, 3.0, 2.0, 2.0, 4.0, 1.0, 2.0, 3.0, 2.0, 2.0, 3.0, 2.0, 2.0, 5.0, 9.0, 3.0, 2.0, 2.0, 5.0, 5.0, 4.0, 3.0, 2.0, 2.0, 3.0, 2.0, 5.0, 1.0, 6.0, 7.0, 4.0, 3.0, 4.0, 3.0, 4.0, 3.0, 2.0, 2.0, 5.0, 2.0, 3.0, 2.0, 7.0, 2.0, 5.0, 2.0, 2.0, 3.0, 5.0, 2.0, 2.0, 5.0, 2.0, 5.0, 2.0, 3.0, 2.0, 5.0, 2.0, 5.0, 2.0, 2.0, 5.0, 5.0, 4.0, 3.0, 2.0, 2.0, 3.0, 2.0, 2.0, 3.0, 2.0, 2.0, 3.0, 2.0, 2.0, 3.0, 2.0, 2.0, 5.0, 2.0, 5.0, 2.0, 3.0, 2.0, 2.0, 5.0, 2.0, 3.0, 2.0, 2.0, 4.0, 3.0, 5.0, 5.0, 2.0, null, null, null, null, null, null, null, null, null, null, null, null, null, null, null, null, null, null, null, null, null, null, null, null, null, null, null, null, null, null, null, null, null, null, null, null, null, null, null, null, null, null, null, null, null, null, null, null, null, null, null, null, null, 2.0, 3.0, 2.0, 2.0, 3.0, 2.0, 5.0, 2.0, 2.0, 5.0, 2.0, 5.0, 2.0, 3.0, 9.0, 5.0, 2.0, 2.0, 3.0, 2.0, 2.0, 5.0, 2.0, 3.0, 2.0, 2.0, 11.0, 3.0, 7.0, 3.0, 4.0, 7.0, 3.0, 2.0, 2.0, 3.0, 4.0, 3.0, 2.0, 2.0, 3.0, 2.0, 2.0, 5.0, 7.0, 2.0, 3.0, 2.0, 2.0, 3.0, 2.0, 5.0, 7.0, 2.0, 2.0, 3.0, 2.0, 7.0, 7.0, 2.0, 3.0, 2.0, 2.0, 3.0, 2.0, 2.0, 5.0, 2.0, 3.0, 2.0, 5.0, 2.0, 2.0, 3.0, 2.0, 2.0, 3.0, 2.0, 2.0, 3.0, 2.0, 2.0, 5.0, 2.0, 3.0, 2.0, 2.0, 3.0, 2.0, 2.0, 3.0, 2.0, 2.0, 3.0, 2.0, 2.0, 10.0, 2.0, 2.0, 3.0, 4.0, 3.0, 2.0, 2.0, 3.0, 2.0, 2.0, 3.0, 2.0, 5.0, 14.0, 4.0, 3.0, 4.0, 3.0, 2.0, 2.0, 3.0, 2.0, 2.0, 3.0, 7.0, 2.0, 2.0, 3.0, 2.0, 2.0, 3.0, 2.0, 2.0, 3.0, 2.0, 2.0, 3.0, 2.0, 2.0, 3.0, 4.0, 3.0, 2.0, 2.0, 3.0, 2.0, 2.0, 3.0, 4.0, 3.0, 2.0, 2.0, 3.0, 2.0, 2.0, 3.0, 2.0, 2.0, 3.0, 2.0, 2.0, 3.0, 2.0, 2.0, 3.0, 2.0, 2.0, 3.0, 2.0, 5.0, 2.0, 2.0, 3.0, 2.0, 5.0, 2.0, 1.0, 4.0, 2.0, 2.0, 3.0, 2.0, 7.0, 5.0, 2.0, 2.0, 5.0, 5.0, 2.0, 5.0, 2.0, 2.0, 3.0, 4.0, 3.0, 2.0, 2.0, 3.0, 2.0, 2.0, 3.0, 2.0, 2.0, 3.0, 4.0, 3.0, 2.0, 2.0, 3.0, 2.0, 2.0, 3.0, 2.0, 2.0, 3.0, 2.0, 2.0, 3.0, 2.0, 2.0, 3.0, 2.0, 2.0, 3.0, 2.0, 1.0, 6.0, 2.0, 3.0, 2.0, 2.0, 3.0, 4.0, 3.0, 2.0, 2.0, 5.0, 2.0, 4.0, 1.0, 2.0, 5.0, 2.0, 3.0, 2.0, 5.0, 2.0, 2.0, 3.0, 2.0, 5.0, 2.0, 2.0, 7.0, 4.0, 1.0, 2.0, 3.0, 2.0, 2.0, 5.0, 7.0, 2.0, 5.0, 7.0, 2.0, 3.0, 4.0, 3.0, 2.0, 2.0, 3.0, 2.0, 2.0, 3.0, 2.0, 6.0, 6.0, 2.0, 2.0, 5.0, 2.0, 3.0, 2.0, 2.0, 3.0, 4.0, 3.0, 2.0, 2.0, 3.0, 2.0, 2.0, 3.0, 2.0, 2.0, 3.0, 2.0, 2.0, 5.0, 2.0, 2.0, 3.0, 2.0, 3.0, 2.0, 2.0, 3.0, 2.0, 5.0, 2.0, 2.0, 5.0, 2.0, 3.0, 2.0, 2.0, 3.0, 4.0, 3.0, 2.0, 2.0, 3.0, 2.0, 2.0, 5.0, 2.0, 3.0, 2.0, 2.0, 3.0, 2.0, 5.0, 2.0, 2.0, 3.0, 2.0, 2.0, 3.0, 2.0, 2.0, 3.0, 2.0, 2.0, 3.0, 2.0, 2.0, 3.0, 4.0, 3.0, 4.0, 4.0, 6.0, 2.0, 2.0, 3.0, 2.0, null, null, null, null, null, null, null, null, null, null, null, null, null, null, null, null, null, null, null, null, null, null, 5.0, 2.0, 5.0, 2.0, 2.0, 3.0, 2.0, 2.0, 5.0, 7.0, 7.0, 2.0, 5.0, 2.0, 5.0, 5.0, 2.0, 2.0, 3.0, 2.0, 2.0, 3.0, 2.0, 2.0, 3.0, 2.0, 2.0, 2.0, 5.0, 7.0, 3.0, 2.0, 9.0, 3.0, 4.0, 3.0, 2.0, 2.0, 3.0, 4.0, 5.0, 2.0, 3.0, 2.0, 2.0, 5.0, 2.0, 3.0, 4.0, 3.0, 2.0, 5.0, 2.0, 2.0, 10.0, 4.0, 5.0, 2.0, 3.0, 2.0, 5.0, 4.0, 5.0, 2.0, 3.0, 2.0, 2.0, 3.0, 2.0, 2.0, 3.0, 2.0, 2.0, 3.0, 2.0, 2.0, 3.0, 2.0, 2.0, 5.0, 2.0, 5.0, 2.0, 3.0, 2.0, 5.0, 2.0, 2.0, 3.0, 2.0, 2.0, 5.0, 2.0, 5.0, 2.0, 3.0, 2.0, 2.0, 5.0, 2.0, 3.0, 4.0, 3.0, 7.0, 2.0, 2.0, 5.0, 2.0, 3.0, 7.0, 2.0, 2.0, 5.0, 2.0, 5.0, 2.0, 3.0, 2.0, 5.0, 4.0, 3.0, 2.0, 2.0, 3.0, 2.0, 2.0, 5.0, 2.0, 3.0, 2.0, 2.0, 3.0, 2.0, 2.0, 5.0, 2.0, 3.0, 2.0, 2.0, 3.0, 2.0, 2.0, 5.0, 2.0, 5.0, 2.0, 5.0, 2.0, 3.0, 2.0, 2.0, 3.0, 2.0, 2.0, 5.0, 2.0, 3.0, 2.0, 2.0, 5.0, 2.0, 3.0, 2.0, 2.0, 3.0, 2.0, 2.0, 5.0, 1.0, 4.0, 2.0, 2.0, 3.0, 2.0, 5.0, 2.0, 5.0, 4.0, 3.0, 2.0, 2.0, 3.0, 2.0, 5.0, 4.0, 3.0, 2.0, 7.0, 2.0, 3.0, 2.0, 5.0, 2.0, 5.0, 2.0, 7.0, 2.0, 3.0, 2.0, 5.0, 2.0, 5.0, 2.0, 5.0, 2.0, 5.0, 2.0, 2.0, 3.0, 2.0, 1.0, 6.0, 2.0, 3.0, 2.0, 5.0, 2.0, 5.0, 2.0, 2.0, 3.0, 2.0, 2.0, 5.0, 7.0, 7.0, 5.0, 2.0, 2.0, 5.0, 7.0, 9.0, 14.0, 3.0, 2.0, 6.0, 1.0, 5.0, 2.0, 2.0, 3.0, 2.0, 2.0, 3.0, 2.0, 2.0, 3.0, 2.0, 2.0, 3.0, 2.0, 5.0, 2.0, 2.0, 3.0, 1.0, 3.0, 3.0, 2.0, 5.0, 2.0, 2.0, 5.0, 2.0, 3.0, 4.0, 3.0, 2.0, 2.0, 3.0, 2.0, 5.0, 2.0, 2.0, 3.0, 2.0, 2.0, 2.0, 5.0, 7.0, 3.0, 2.0, 2.0, 3.0, 2.0, 2.0, 5.0, 2.0, 7.0, 3.0, 4.0, 5.0, 2.0, 3.0, 2.0, 2.0, 5.0, 5.0, 2.0, 2.0, 3.0, 2.0, 2.0, 3.0, 2.0, 2.0, 3.0, 4.0, 5.0, 2.0, 5.0, 2.0, 3.0, 2.0, 2.0, 3.0, 4.0, 3.0, 2.0, 2.0, 3.0, 2.0, 2.0, 3.0, 4.0, 3.0, 2.0, 2.0, 3.0, 2.0, null, null, null, null, null, null, null, null, null, null, null, null, null, null, null, null, null, null, null, null, null, null, null, null, null, null, null, null, null, null, null, null, null, null, null, null, null, null, null, null, null, null, null, null, null, null, 5.0, 2.0, 2.0, 3.0, 4.0, 3.0, 4.0, 5.0, 5.0, 2.0, 2.0, 3.0, 2.0, 2.0, 7.0, 5.0, 7.0, 2.0, 5.0, 2.0, 3.0, 4.0, 5.0, 2.0, 4.0, 6.0, 4.0, 5.0, 5.0, 2.0, 2.0, 3.0, 2.0, 2.0, 3.0, 4.0, 3.0, 4.0, 3.0, 2.0, 2.0, 5.0, 2.0, 3.0, 2.0, 2.0, 3.0, 2.0, 5.0, 2.0, 2.0, 5.0, 2.0, 3.0, 2.0, 2.0, 3.0, 2.0, 2.0, 3.0, 2.0, 5.0, 2.0, 5.0, 2.0, 2.0, 3.0, 2.0, 2.0, 3.0, 2.0, 2.0, 3.0, 2.0, 2.0, 3.0, 2.0, 2.0, 5.0, 2.0, 3.0, 2.0, 2.0, 3.0, 2.0, 2.0, 3.0, 2.0, 2.0, 3.0, 2.0, 2.0, 3.0, 2.0, 2.0, 5.0, 5.0, 2.0, 5.0, 2.0, 2.0, 3.0, 2.0, 2.0, 3.0, 4.0, 3.0, 2.0, 2.0, 3.0, 2.0, 2.0, 5.0, 2.0, 3.0, 2.0, 2.0, 3.0, 2.0, 5.0, 2.0, 2.0, 3.0, 2.0, 2.0, 3.0, 4.0, 3.0, 2.0, 2.0, 3.0, 4.0, 3.0, 2.0, 9.0, 3.0, 2.0, 2.0, 3.0, 4.0, 3.0, 2.0, 2.0, 3.0, 2.0, 5.0, 2.0, 2.0, 5.0, 2.0, 3.0, 2.0, 2.0, 3.0, 2.0, 2.0, 3.0, 2.0, 5.0, 2.0, 2.0, 3.0, 2.0, 2.0, 3.0, 2.0, 5.0, 2.0, 2.0, 5.0, 5.0, 2.0, 2.0, 3.0, 2.0, 2.0, 3.0, 2.0, 1.0, 6.0, 2.0, 3.0, 2.0, 7.0, 7.0, 2.0, 3.0, 2.0, 5.0, 2.0, 2.0, 3.0, 2.0, 2.0, 3.0, 2.0, 2.0, 3.0, 2.0, 2.0, 3.0, 2.0, 2.0, 3.0, 2.0, 2.0, 3.0, 2.0, 2.0, 3.0, 2.0, 2.0, 3.0, 2.0, 2.0, 3.0, 2.0, 2.0, 3.0, 2.0, 2.0, 3.0, 2.0, 2.0, 3.0, 2.0, 2.0, 3.0, 2.0, 5.0, 2.0, 2.0, 3.0, 2.0, 2.0, 3.0, 2.0, 2.0, 3.0, 4.0, 3.0, 2.0, 2.0, 5.0, 5.0, 2.0, 2.0, 3.0, 2.0, 2.0, 3.0, 4.0, 3.0, 2.0, 7.0, 2.0, 3.0, 4.0, 5.0, 2.0, 3.0, 2.0, 5.0, 2.0, 2.0, 4.0, 1.0, 2.0, 3.0, 2.0, 2.0, 3.0, 4.0, 3.0, 2.0, 2.0, 3.0, 2.0, 2.0, 5.0, 5.0, 2.0, 2.0, 3.0, 1.0, 3.0, 3.0, 2.0, 2.0, 5.0, 2.0, 3.0, 2.0, 2.0, 3.0, 4.0, 3.0, 2.0, 2.0, 3.0, 2.0, 5.0, 2.0, 2.0, 3.0, 2.0, 2.0, 5.0, 2.0, 2.0, 3.0, 2.0, 5.0, 2.0, 3.0, 2.0, 2.0, 7.0, 3.0, 2.0, 2.0, 3.0, 2.0, 2.0, 3.0, 4.0, 3.0, 2.0, 2.0, 5.0, 2.0, 3.0, 2.0, 2.0, 3.0, 2.0, 5.0, 2.0, 2.0, 3.0, 2.0, 2.0, 3.0, 2.0, 2.0, 3.0, 2.0, 2.0, 3.0, 2.0, 2.0, 3.0, 2.0, 2.0, 3.0, 2.0, 2.0, 3.0, 2.0, 2.0, 4.0, 3.0, 3.0, 4.0, 3.0, 2.0, null, null, null, null, null, null, null, null, null, null, 7.0, 2.0, 3.0, 2.0, 2.0, 5.0, 2.0, 5.0, 2.0, 5.0, 2.0, 5.0, 2.0, 3.0, 2.0, 2.0, 3.0, 2.0, 2.0, 3.0, 2.0, 2.0, 3.0, 2.0, 2.0, 3.0, 2.0, 2.0, 3.0, 2.0, 2.0, 4.0, 3.0, 3.0, 4.0, 3.0, 2.0, 2.0, 7.0, 3.0, 4.0, 5.0, 2.0, 3.0, 2.0, 2.0, 5.0, 2.0, 3.0, 2.0, 2.0, 3.0, 2.0, 2.0, 5.0, 2.0, 5.0, 2.0, 5.0, 2.0, 3.0, 2.0, 2.0, 5.0, 2.0, 3.0, 2.0, 2.0, 5.0, 2.0, 3.0, 2.0, 2.0, 5.0, 2.0, 3.0, 2.0, 2.0, 3.0, 2.0, 2.0, 3.0, 2.0, 2.0, 5.0, 2.0, 5.0, 2.0, 5.0, 2.0, 3.0, 2.0, 2.0, 3.0, 2.0, 2.0, 5.0, 2.0, 3.0, 2.0, 2.0, 5.0, 2.0, 5.0, 2.0, 7.0, 5.0, 2.0, 3.0, 4.0, 3.0, 2.0, 2.0, 3.0, 2.0, 2.0, 3.0, 2.0, 2.0, 5.0, 5.0, 2.0, 2.0, 3.0, 2.0, 2.0, 5.0, 2.0, 3.0, 2.0, 5.0, 4.0, 7.0, 3.0, 2.0, 2.0, 3.0, 2.0, 2.0, 3.0, 2.0, 5.0, 2.0, 2.0, 3.0, 2.0, 2.0, 3.0, 2.0, 2.0, 3.0, 2.0, 2.0, 5.0, 5.0, 2.0, 5.0, 2.0, 2.0, 3.0, 2.0, 5.0, 2.0, 2.0, 3.0, 2.0, 5.0, 2.0, 2.0, 3.0, 2.0, 2.0, 5.0, 2.0, 3.0, 2.0, 2.0, 5.0, 1.0, 6.0, 2.0, 5.0, 2.0, 5.0, 2.0, 3.0, 2.0, 2.0, 3.0, 2.0, 2.0, 3.0, 2.0, 2.0, 3.0, 2.0, 2.0, 3.0, 2.0, 2.0, 5.0, 2.0, 5.0, 2.0, 3.0, 2.0, 2.0, 3.0, 2.0, 2.0, 3.0, 2.0, 2.0, 3.0, 2.0, 2.0, 3.0, 2.0, 2.0, 3.0, 2.0, 5.0, 2.0, 5.0, 2.0, 2.0, 3.0, 2.0, 1.0, 4.0, 2.0, 2.0, 3.0, 2.0, 2.0, 3.0, 2.0, 2.0, 3.0, 2.0, 2.0, 5.0, 2.0, 5.0, 2.0, 5.0, 2.0, 3.0, 2.0, 2.0, 3.0, 2.0, 2.0, 3.0, 2.0, 5.0, 2.0, 2.0, 3.0, 2.0, 2.0, 4.0, 1.0, 2.0, 3.0, 2.0, 2.0, 5.0, 2.0, 4.0, 1.0, 2.0, 3.0, 2.0, 2.0, 3.0, 2.0, 2.0, 5.0, 2.0, 3.0, 2.0, 2.0, 5.0, 2.0, 3.0, 4.0, 3.0, 1.0, 3.0, 3.0, 2.0, 2.0, 3.0, 2.0, 2.0, 3.0, 2.0, 2.0, 3.0, 4.0, 3.0, 2.0, 2.0, 3.0, 2.0, 2.0, 5.0, 2.0, 5.0, 2.0, 7.0, 2.0, 3.0, 2.0, 3.0, 2.0, 7.0, 2.0, 5.0, 2.0, 3.0, 2.0, 5.0, 2.0, 2.0, 3.0, 2.0, 2.0, 3.0, 2.0, 2.0, 3.0, 2.0, 7.0, 5.0, 2.0, 2.0, 5.0, 2.0, 3.0, 2.0, 2.0, 3.0, 2.0, 2.0, 3.0, 2.0, 2.0, 3.0, 2.0, 2.0, 3.0, 2.0, 2.0, 3.0, 2.0, 2.0, 3.0, 2.0, 2.0, 3.0, 1.0, 3.0, 3.0, 2.0, 2.0, 3.0, 2.0, null, null, null, null, null, null, null, 5.0, 5.0, 4.0, 7.0, 7.0, 7.0, 7.0, 7.0, 7.0, 7.0, 7.0, 3.0, 4.0, 21.0, 3.0, 7.0, 4.0, 3.0, 2.0, 7.0, 5.0, 2.0, 2.0, 3.0, 2.0, 5.0, 7.0, 2.0, 2.0, 3.0, 2.0, 5.0, 4.0, 3.0, 2.0, 5.0, 10.0, 4.0, 2.0, 2.0, 3.0, 2.0, 2.0, 5.0, 5.0, 2.0, 2.0, 3.0, 2.0, 5.0, 2.0, 5.0, 2.0, 2.0, 3.0, 2.0, 5.0, 2.0, 2.0, 7.0, 3.0, 2.0, 7.0, 2.0, 3.0, 4.0, 3.0, 4.0, 7.0, 5.0, 2.0, 3.0, 4.0, 3.0, 4.0, 5.0, 5.0, 2.0, 9.0, 3.0, 2.0, 2.0, 3.0, 9.0, 5.0, 4.0, 5.0, 2.0, 3.0, 4.0, 5.0, 1.0, 4.0, 4.0, 3.0, 2.0, 2.0, 24.0, 4.0, 3.0, 2.0, 2.0, 3.0, 2.0, 2.0, 3.0, 2.0, 2.0, 3.0, 2.0, 2.0, 3.0, 4.0, 5.0, 2.0, 3.0, 2.0, 2.0, 7.0, 3.0, 4.0, 3.0, 2.0, 5.0, 2.0, 2.0, 3.0, 4.0, 3.0, 1.0, 3.0, 5.0, 2.0, 12.0, 5.0, 4.0, 3.0, 4.0, 5.0, 2.0, 3.0, 2.0, 2.0, 5.0, 2.0, 3.0, 2.0, 5.0, 2.0, 2.0, 3.0, 2.0, 2.0, 7.0, 3.0, 2.0, 2.0, 3.0, 2.0, 2.0, 7.0, 3.0, 2.0, 2.0, 3.0, 4.0, 3.0, 2.0, 2.0, 3.0, 1.0, 3.0, 3.0, 2.0, 2.0, 5.0, 5.0, 2.0, 2.0, 7.0, 3.0, 4.0, 5.0, 2.0, 3.0, 2.0, 2.0, 3.0, 2.0, 2.0, 7.0, 3.0, 4.0, 5.0, 2.0, 3.0, 2.0, 5.0, 2.0, 2.0, 3.0, 4.0, 5.0, 2.0, 3.0, 2.0, 2.0, 3.0, 2.0, 7.0, 2.0, 3.0, 2.0, 2.0, 3.0, 4.0, 3.0, 7.0, 2.0, 2.0, 7.0, 10.0, 4.0, 3.0, 2.0, 7.0, 2.0, 5.0, 2.0, 3.0, 2.0, 2.0, 19.0, 5.0, 4.0, 3.0, 4.0, 3.0, 2.0, 5.0, 2.0, 5.0, 7.0, 2.0, 7.0, 5.0, 2.0, 5.0, 2.0, 2.0, 3.0, 2.0, 5.0, 2.0, 2.0, 3.0, 2.0, 2.0, 3.0, 4.0, 3.0, 2.0, 2.0, 3.0, 2.0, 2.0, 3.0, 2.0, 2.0, 3.0, 2.0, 2.0, 5.0, 2.0, 3.0, 2.0, 4.0, 5.0, 3.0, 4.0, 3.0, null, null, null, null, null, null, null, null, null, null, null, null, null, null, null, null, null, null, null, null, null, null, null, null, null, null, null, null, null, null, null, null, null, null, null, null, null, null, null, null, null, null, null, null, null, null, null, null, null, null, null, null, null, null, null, null, null, null, null, null, null, null, null, null, null, null, null, null, null, null, null, null, null, null, null, null, null, null, null, null, null, null, null, null, null, null, null, null, null, null, null, null, null, null, null, 2.0, 7.0, 2.0, 3.0, 4.0, 5.0, 2.0, 3.0, 7.0, 2.0, 2.0, 3.0, 2.0, 2.0, 21.0, 7.0, 3.0, 4.0, 14.0, 3.0, 7.0, 2.0, 5.0, 4.0, 7.0, 3.0, 4.0, 3.0, 2.0, 2.0, 3.0, 4.0, 3.0, 4.0, 3.0, 2.0, 2.0, 3.0, 4.0, 3.0, 2.0, 2.0, 5.0, 5.0, 2.0, 5.0, 2.0, 2.0, 7.0, 7.0, 3.0, 4.0, 3.0, 2.0, 2.0, 3.0, 4.0, 3.0, 4.0, 3.0, 2.0, 2.0, 3.0, 2.0, 2.0, 3.0, 4.0, 3.0, 2.0, 2.0, 3.0, 2.0, 2.0, 3.0, 2.0, 2.0, 3.0, 2.0, 2.0, 3.0, 7.0, 4.0, 5.0, 5.0, 4.0, 5.0, 5.0, 4.0, 3.0, 7.0, 4.0, 3.0, 4.0, 3.0, 4.0, 3.0, 2.0, 2.0, 3.0, 2.0, 2.0, 5.0, 7.0, 1.0, 4.0, 2.0, 5.0, 4.0, 3.0, 7.0, 2.0, 5.0, 2.0, 2.0, 7.0, 5.0, 5.0, 7.0, 2.0, 5.0, 2.0, 2.0, 3.0, 2.0, 5.0, 4.0, 3.0, 2.0, 2.0, 5.0, 2.0, 5.0, 2.0, 3.0, 2.0, 2.0, 5.0, 2.0, 5.0, 2.0, 3.0, 1.0, 3.0, 5.0, 5.0, 4.0, 7.0, 3.0, 2.0, 2.0, 3.0, 2.0, 7.0, 2.0, 3.0, 2.0, 2.0, 3.0, 2.0, 5.0, 4.0, 3.0, 4.0, 3.0, 4.0, 5.0, 2.0, 3.0, 2.0, 2.0, 3.0, 2.0, 2.0, 3.0, 4.0, 3.0, 2.0, 2.0, 3.0, 4.0, 3.0, 2.0, 5.0, 1.0, 3.0, 3.0, 2.0, 2.0, 3.0, 2.0, 2.0, 3.0, 2.0, 2.0, 3.0, 2.0, 5.0, 2.0, 2.0, 3.0, 2.0, 2.0, 3.0, 2.0, 5.0, 7.0, 2.0, 5.0, 4.0, 3.0, 9.0, 5.0, 2.0, 2.0, 3.0, 4.0, 5.0, 2.0, 3.0, 2.0, 2.0, 3.0, 2.0, 2.0, 3.0, 7.0, 4.0, 3.0, 4.0, 7.0, 3.0, 2.0, 2.0, 2.0, 5.0, 7.0, 5.0, 5.0, 4.0, 5.0, 2.0, 3.0, 2.0, 2.0, 3.0, 2.0, 2.0, 3.0, 9.0, 5.0, 11.0, 12.0, 5.0, 14.0, 9.0, 7.0, 2.0, 5.0, 2.0, 3.0, 7.0, 2.0, 2.0, 3.0, 2.0, 2.0, 3.0, 2.0, 5.0, 2.0, 2.0, 3.0, 4.0, 3.0, 4.0, 3.0, 7.0, 2.0, 2.0, 3.0, 2.0, 2.0, 7.0, 5.0, 5.0, null, null, null, null, null, null, null, null, null, null, null, null, null, null, null, null, null, null, null, null, null, null, null, null, null, null, null, null, null, null, null, null, null, null, null, null, null, null, null, null, null, null, null, null, null, null, null, null, null, null, null, null, null, null, null, null, null, null, null, null, null, null, null, null, null, null, null, null, null, null, null, null, null, null, null, null, null, null, null, null, null, null, null, null, null, null, null, null, null, null, null, 4.0, 3.0, 2.0, 5.0, 2.0, 2.0, 3.0, 4.0, 3.0, 2.0, 5.0, 2.0, 2.0, 3.0, 4.0, 3.0, 4.0, 3.0, 4.0, 3.0, 2.0, 2.0, 3.0, 11.0, 7.0, 2.0, 3.0, 5.0, 4.0, 3.0, 4.0, 3.0, 4.0, 3.0, 4.0, 3.0, 7.0, 4.0, 3.0, 4.0, 3.0, 4.0, 3.0, 7.0, 2.0, 2.0, 3.0, 4.0, 3.0, 2.0, 2.0, 3.0, 2.0, 2.0, 3.0, 2.0, 1.0, 4.0, 9.0, 2.0, 7.0, 3.0, 4.0, 3.0, 4.0, 3.0, 2.0, 2.0, 3.0, 2.0, 2.0, 3.0, 4.0, 3.0, 2.0, 9.0, 17.0, 2.0, 2.0, 3.0, 2.0, 2.0, 3.0, 2.0, 2.0, 3.0, 2.0, 2.0, 3.0, 2.0, 2.0, 3.0, 2.0, 2.0, 5.0, 5.0, 7.0, 4.0, 3.0, 2.0, 2.0, 3.0, 4.0, 3.0, 2.0, 5.0, 4.0, 3.0, 2.0, 2.0, 3.0, 2.0, 2.0, 5.0, 1.0, 4.0, 2.0, 5.0, 2.0, 5.0, 2.0, 5.0, 2.0, 5.0, 14.0, 2.0, 2.0, 7.0, 3.0, 4.0, 3.0, 4.0, 3.0, 2.0, 2.0, 3.0, 2.0, 2.0, 3.0, 2.0, 2.0, 5.0, 2.0, 5.0, 2.0, 5.0, 2.0, 3.0, 2.0, 2.0, 3.0, 2.0, 2.0, 3.0, 1.0, 3.0, 5.0, 2.0, 5.0, 2.0, 7.0, 5.0, 2.0, 5.0, 2.0, 3.0, 2.0, 2.0, 5.0, 5.0, 2.0, 5.0, 2.0, 2.0, 3.0, 2.0, 2.0, 3.0, 2.0, 5.0, 4.0, 3.0, 2.0, 2.0, 3.0, 4.0, 3.0, 2.0, 2.0, 3.0, 4.0, 3.0, 2.0, 2.0, 3.0, 2.0, 6.0, 6.0, 2.0, 2.0, 3.0, 2.0, 5.0, 2.0, 2.0, 3.0, 4.0, 3.0, 2.0, 2.0, 3.0, 4.0, 3.0, 2.0, 2.0, 3.0, 2.0, 2.0, 3.0, 4.0, 3.0, 4.0, 3.0, 2.0, 2.0, 3.0, 2.0, 7.0, 5.0, 4.0, 3.0, 2.0, 2.0, 5.0, 2.0, 3.0, 4.0, 3.0, 4.0, 3.0, 4.0, 3.0, 2.0, 2.0, 5.0, 2.0, 5.0, 2.0, 2.0, 3.0, 2.0, 3.0, 4.0, 3.0, 2.0, 2.0, 5.0, 7.0, 2.0, 5.0, 2.0, 3.0, 2.0, 2.0, 5.0, 2.0, 3.0, 2.0, 16.0, 10.0, 2.0, 5.0, 7.0, 14.0, 7.0, 2.0, 2.0, 3.0, 2.0, 7.0, 7.0, 2.0, 3.0, 2.0, 2.0, 3.0, 2.0, 2.0, 5.0, 2.0, 3.0, 2.0, 5.0, 2.0, 5.0, 2.0, 2.0, 3.0, 4.0, 3.0, 2.0, 2.0, 2.0, 3.0, 7.0, 2.0, null, null, null, null, null, null, null, null, null, null, null, null, null, null, null, null, null, null, null, null, null, null, null, null, null, null, null, null, null, null, null, null, null, null, null, null, null, null, null, null, null, null, null, null, null, null, null, null, null, null, null, null, null, null, null, null, null, null, null, null, null, null, null, null, null, null, null, null, null, null, 4.0, 3.0, 2.0, 5.0, 4.0, 3.0, 4.0, 3.0, 4.0, 5.0, 2.0, 3.0, 2.0, 2.0, 7.0, 3.0, 4.0, 3.0, 2.0, 2.0, 3.0, 4.0, 3.0, 2.0, 2.0, 3.0, 2.0, 2.0, 2.0, 3.0, 5.0, 4.0, 7.0, 3.0, 2.0, 5.0, 7.0, 2.0, 2.0, 5.0, 2.0, 3.0, 4.0, 3.0, 4.0, 3.0, 7.0, 2.0, 2.0, 3.0, 4.0, 3.0, 2.0, 2.0, 5.0, 5.0, 7.0, 4.0, 3.0, 2.0, 2.0, 3.0, 11.0, 5.0, 2.0, 3.0, 2.0, 2.0, 3.0, 2.0, 2.0, 3.0, 2.0, 2.0, 3.0, 4.0, 5.0, 2.0, 3.0, 2.0, 2.0, 3.0, 4.0, 3.0, 2.0, 5.0, 4.0, 7.0, 3.0, 2.0, 2.0, 3.0, 7.0, 4.0, 5.0, 2.0, 3.0, 2.0, 5.0, 4.0, 3.0, 2.0, 2.0, 3.0, 4.0, 5.0, 2.0, 3.0, 4.0, 3.0, 4.0, 5.0, 2.0, 5.0, 1.0, 11.0, 2.0, 2.0, 17.0, 2.0, 2.0, 5.0, 2.0, 3.0, 4.0, 3.0, 2.0, 2.0, 3.0, 9.0, 2.0, 3.0, 2.0, 2.0, 3.0, 2.0, 2.0, 5.0, 2.0, 5.0, 2.0, 3.0, 4.0, 3.0, 2.0, 2.0, 3.0, 2.0, 2.0, 3.0, 2.0, 2.0, 3.0, 4.0, 5.0, 2.0, 5.0, 2.0, 5.0, 2.0, 5.0, 2.0, 3.0, 2.0, 2.0, 3.0, 2.0, 2.0, 7.0, 3.0, 2.0, 2.0, 3.0, 2.0, 2.0, 3.0, 2.0, 2.0, 3.0, 2.0, 2.0, 3.0, 2.0, 2.0, 3.0, 2.0, 2.0, 3.0, 2.0, 2.0, 3.0, 2.0, 5.0, 2.0, 2.0, 3.0, 4.0, 3.0, 2.0, 2.0, 3.0, 1.0, 3.0, 3.0, 2.0, 5.0, 2.0, 2.0, 3.0, 4.0, 3.0, 2.0, 2.0, 3.0, 2.0, 2.0, 3.0, 2.0, 2.0, 3.0, 2.0, 2.0, 3.0, 2.0, 5.0, 4.0, 3.0, 4.0, 3.0, 4.0, 3.0, 7.0, 2.0, 2.0, 3.0, 4.0, 3.0, 2.0, 2.0, 3.0, 2.0, 5.0, 2.0, 2.0, 3.0, 4.0, 3.0, 4.0, 3.0, 2.0, 2.0, 3.0, 2.0, 2.0, 3.0, 2.0, 2.0, 2.0, 5.0, 5.0, 2.0, 3.0, 2.0, 2.0, 7.0, 5.0, 7.0, 2.0, 3.0, 2.0, 2.0, 3.0, 4.0, 3.0, 2.0, 5.0, 7.0, 2.0, 2.0, 7.0, 3.0, 2.0, 5.0, 7.0, 7.0, 9.0, 2.0, 5.0, 5.0, 2.0, 7.0, 7.0, 2.0, 3.0, 2.0, 5.0, 2.0, 5.0, 2.0, 2.0, 3.0, 4.0, 7.0, 5.0, 2.0, 5.0, 2.0, 3.0, 2.0, 2.0, 2.0, 3.0, 2.0, 3.0, 2.0, 2.0, 3.0, null, null, null, null, null, null, null, null, null, null, null, null, null, null, null, null, null, null, null, null, null, null, null, null, null, null, null, null, null, null, null, null, null, null, null, null, null, null, null, null, null, null, null, null, null, null, null, null, null, null, null, null, null, null, null, null, null, null, null, 9.0, 2.0, 7.0, 3.0, 2.0, 2.0, 5.0, 2.0, 3.0, 2.0, 2.0, 3.0, 4.0, 3.0, 4.0, 7.0, 7.0, 7.0, 3.0, 2.0, 2.0, 12.0, 2.0, 3.0, 2.0, 2.0, 5.0, 5.0, 2.0, 2.0, 3.0, 2.0, 2.0, 3.0, 2.0, 2.0, 3.0, 2.0, 9.0, 3.0, 4.0, 3.0, 2.0, 2.0, 3.0, 4.0, 3.0, 4.0, 3.0, 4.0, 12.0, 5.0, 2.0, 5.0, 2.0, 2.0, 3.0, 2.0, 2.0, 3.0, 4.0, 3.0, 4.0, 3.0, 2.0, 2.0, 3.0, 4.0, 3.0, 4.0, 3.0, 2.0, 2.0, 5.0, 2.0, 3.0, 4.0, 3.0, 2.0, 2.0, 3.0, 2.0, 2.0, 3.0, 2.0, 2.0, 3.0, 4.0, 3.0, 2.0, 2.0, 5.0, 2.0, 5.0, 2.0, 5.0, 2.0, 3.0, 2.0, 9.0, 3.0, 2.0, 2.0, 3.0, 4.0, 3.0, 4.0, 3.0, 4.0, 7.0, 3.0, 4.0, 6.0, 4.0, 2.0, 2.0, 3.0, 2.0, 2.0, 3.0, 2.0, 5.0, 2.0, 5.0, 2.0, 5.0, 4.0, 3.0, 2.0, 2.0, 3.0, 2.0, 2.0, 7.0, 3.0, 4.0, 10.0, 2.0, 7.0, 2.0, 5.0, 2.0, 7.0, 3.0, 2.0, 2.0, 3.0, 2.0, 5.0, 2.0, 2.0, 4.0, 8.0, 9.0, 7.0, 3.0, 4.0, 3.0, 4.0, 3.0, 2.0, 2.0, 5.0, 2.0, 3.0, 2.0, 2.0, 3.0, 2.0, 2.0, 3.0, 2.0, 2.0, 3.0, 2.0, 2.0, 7.0, 3.0, 2.0, 2.0, 3.0, 2.0, 2.0, 3.0, 2.0, 2.0, 3.0, 4.0, 3.0, 2.0, 2.0, 3.0, 4.0, 3.0, 1.0, 3.0, 3.0, 4.0, 3.0, 2.0, 2.0, 3.0, 2.0, 2.0, 3.0, 2.0, 2.0, 3.0, 2.0, 2.0, 3.0, 4.0, 5.0, 2.0, 7.0, 3.0, 2.0, 2.0, 3.0, 4.0, 5.0, 2.0, 3.0, 2.0, 3.0, 2.0, 2.0, 2.0, 3.0, 4.0, 3.0, 2.0, 2.0, 3.0, 2.0, 5.0, 2.0, 2.0, 3.0, 4.0, 7.0, 3.0, 7.0, 4.0, 3.0, 4.0, 2.0, 8.0, 4.0, 3.0, 4.0, 5.0, 2.0, 5.0, 2.0, 3.0, 2.0, 2.0, 5.0, 7.0, 2.0, 3.0, 2.0, 23.0, 3.0, 2.0, 5.0, 2.0, 2.0, 3.0, 11.0, 5.0, 2.0, 3.0, 2.0, 2.0, 3.0, 2.0, 2.0, 3.0, 2.0, 5.0, 2.0, 2.0, 3.0, 7.0, 2.0, 2.0, 3.0, 2.0, 2.0, 3.0, 2.0, 2.0, 3.0, 2.0, 2.0, 3.0, 2.0, 2.0, 3.0, 2.0, 2.0, 3.0, 2.0, 2.0, 2.0, 3.0, 2.0, 3.0, 2.0, 2.0, null, null, null, null, null, null, null, null, null, null, null, null, null, null, null, null, null, null, null, null, null, null, null, null, null, null, null, null, null, null, null, null, null, null, null, null, null, null, null, null, null, null, null, null, null, null, null, null, null, null, null, null, null, null, null, null, null, null, null, null, null, null, null, null], \"y0\": \" \", \"yaxis\": \"y\"}],                        {\"boxmode\": \"group\", \"legend\": {\"tracegroupgap\": 0}, \"margin\": {\"t\": 60}, \"template\": {\"data\": {\"bar\": [{\"error_x\": {\"color\": \"#2a3f5f\"}, \"error_y\": {\"color\": \"#2a3f5f\"}, \"marker\": {\"line\": {\"color\": \"#E5ECF6\", \"width\": 0.5}}, \"type\": \"bar\"}], \"barpolar\": [{\"marker\": {\"line\": {\"color\": \"#E5ECF6\", \"width\": 0.5}}, \"type\": \"barpolar\"}], \"carpet\": [{\"aaxis\": {\"endlinecolor\": \"#2a3f5f\", \"gridcolor\": \"white\", \"linecolor\": \"white\", \"minorgridcolor\": \"white\", \"startlinecolor\": \"#2a3f5f\"}, \"baxis\": {\"endlinecolor\": \"#2a3f5f\", \"gridcolor\": \"white\", \"linecolor\": \"white\", \"minorgridcolor\": \"white\", \"startlinecolor\": \"#2a3f5f\"}, \"type\": \"carpet\"}], \"choropleth\": [{\"colorbar\": {\"outlinewidth\": 0, \"ticks\": \"\"}, \"type\": \"choropleth\"}], \"contour\": [{\"colorbar\": {\"outlinewidth\": 0, \"ticks\": \"\"}, \"colorscale\": [[0.0, \"#0d0887\"], [0.1111111111111111, \"#46039f\"], [0.2222222222222222, \"#7201a8\"], [0.3333333333333333, \"#9c179e\"], [0.4444444444444444, \"#bd3786\"], [0.5555555555555556, \"#d8576b\"], [0.6666666666666666, \"#ed7953\"], [0.7777777777777778, \"#fb9f3a\"], [0.8888888888888888, \"#fdca26\"], [1.0, \"#f0f921\"]], \"type\": \"contour\"}], \"contourcarpet\": [{\"colorbar\": {\"outlinewidth\": 0, \"ticks\": \"\"}, \"type\": \"contourcarpet\"}], \"heatmap\": [{\"colorbar\": {\"outlinewidth\": 0, \"ticks\": \"\"}, \"colorscale\": [[0.0, \"#0d0887\"], [0.1111111111111111, \"#46039f\"], [0.2222222222222222, \"#7201a8\"], [0.3333333333333333, \"#9c179e\"], [0.4444444444444444, \"#bd3786\"], [0.5555555555555556, \"#d8576b\"], [0.6666666666666666, \"#ed7953\"], [0.7777777777777778, \"#fb9f3a\"], [0.8888888888888888, \"#fdca26\"], [1.0, \"#f0f921\"]], \"type\": \"heatmap\"}], \"heatmapgl\": [{\"colorbar\": {\"outlinewidth\": 0, \"ticks\": \"\"}, \"colorscale\": [[0.0, \"#0d0887\"], [0.1111111111111111, \"#46039f\"], [0.2222222222222222, \"#7201a8\"], [0.3333333333333333, \"#9c179e\"], [0.4444444444444444, \"#bd3786\"], [0.5555555555555556, \"#d8576b\"], [0.6666666666666666, \"#ed7953\"], [0.7777777777777778, \"#fb9f3a\"], [0.8888888888888888, \"#fdca26\"], [1.0, \"#f0f921\"]], \"type\": \"heatmapgl\"}], \"histogram\": [{\"marker\": {\"colorbar\": {\"outlinewidth\": 0, \"ticks\": \"\"}}, \"type\": \"histogram\"}], \"histogram2d\": [{\"colorbar\": {\"outlinewidth\": 0, \"ticks\": \"\"}, \"colorscale\": [[0.0, \"#0d0887\"], [0.1111111111111111, \"#46039f\"], [0.2222222222222222, \"#7201a8\"], [0.3333333333333333, \"#9c179e\"], [0.4444444444444444, \"#bd3786\"], [0.5555555555555556, \"#d8576b\"], [0.6666666666666666, \"#ed7953\"], [0.7777777777777778, \"#fb9f3a\"], [0.8888888888888888, \"#fdca26\"], [1.0, \"#f0f921\"]], \"type\": \"histogram2d\"}], \"histogram2dcontour\": [{\"colorbar\": {\"outlinewidth\": 0, \"ticks\": \"\"}, \"colorscale\": [[0.0, \"#0d0887\"], [0.1111111111111111, \"#46039f\"], [0.2222222222222222, \"#7201a8\"], [0.3333333333333333, \"#9c179e\"], [0.4444444444444444, \"#bd3786\"], [0.5555555555555556, \"#d8576b\"], [0.6666666666666666, \"#ed7953\"], [0.7777777777777778, \"#fb9f3a\"], [0.8888888888888888, \"#fdca26\"], [1.0, \"#f0f921\"]], \"type\": \"histogram2dcontour\"}], \"mesh3d\": [{\"colorbar\": {\"outlinewidth\": 0, \"ticks\": \"\"}, \"type\": \"mesh3d\"}], \"parcoords\": [{\"line\": {\"colorbar\": {\"outlinewidth\": 0, \"ticks\": \"\"}}, \"type\": \"parcoords\"}], \"pie\": [{\"automargin\": true, \"type\": \"pie\"}], \"scatter\": [{\"marker\": {\"colorbar\": {\"outlinewidth\": 0, \"ticks\": \"\"}}, \"type\": \"scatter\"}], \"scatter3d\": [{\"line\": {\"colorbar\": {\"outlinewidth\": 0, \"ticks\": \"\"}}, \"marker\": {\"colorbar\": {\"outlinewidth\": 0, \"ticks\": \"\"}}, \"type\": \"scatter3d\"}], \"scattercarpet\": [{\"marker\": {\"colorbar\": {\"outlinewidth\": 0, \"ticks\": \"\"}}, \"type\": \"scattercarpet\"}], \"scattergeo\": [{\"marker\": {\"colorbar\": {\"outlinewidth\": 0, \"ticks\": \"\"}}, \"type\": \"scattergeo\"}], \"scattergl\": [{\"marker\": {\"colorbar\": {\"outlinewidth\": 0, \"ticks\": \"\"}}, \"type\": \"scattergl\"}], \"scattermapbox\": [{\"marker\": {\"colorbar\": {\"outlinewidth\": 0, \"ticks\": \"\"}}, \"type\": \"scattermapbox\"}], \"scatterpolar\": [{\"marker\": {\"colorbar\": {\"outlinewidth\": 0, \"ticks\": \"\"}}, \"type\": \"scatterpolar\"}], \"scatterpolargl\": [{\"marker\": {\"colorbar\": {\"outlinewidth\": 0, \"ticks\": \"\"}}, \"type\": \"scatterpolargl\"}], \"scatterternary\": [{\"marker\": {\"colorbar\": {\"outlinewidth\": 0, \"ticks\": \"\"}}, \"type\": \"scatterternary\"}], \"surface\": [{\"colorbar\": {\"outlinewidth\": 0, \"ticks\": \"\"}, \"colorscale\": [[0.0, \"#0d0887\"], [0.1111111111111111, \"#46039f\"], [0.2222222222222222, \"#7201a8\"], [0.3333333333333333, \"#9c179e\"], [0.4444444444444444, \"#bd3786\"], [0.5555555555555556, \"#d8576b\"], [0.6666666666666666, \"#ed7953\"], [0.7777777777777778, \"#fb9f3a\"], [0.8888888888888888, \"#fdca26\"], [1.0, \"#f0f921\"]], \"type\": \"surface\"}], \"table\": [{\"cells\": {\"fill\": {\"color\": \"#EBF0F8\"}, \"line\": {\"color\": \"white\"}}, \"header\": {\"fill\": {\"color\": \"#C8D4E3\"}, \"line\": {\"color\": \"white\"}}, \"type\": \"table\"}]}, \"layout\": {\"annotationdefaults\": {\"arrowcolor\": \"#2a3f5f\", \"arrowhead\": 0, \"arrowwidth\": 1}, \"coloraxis\": {\"colorbar\": {\"outlinewidth\": 0, \"ticks\": \"\"}}, \"colorscale\": {\"diverging\": [[0, \"#8e0152\"], [0.1, \"#c51b7d\"], [0.2, \"#de77ae\"], [0.3, \"#f1b6da\"], [0.4, \"#fde0ef\"], [0.5, \"#f7f7f7\"], [0.6, \"#e6f5d0\"], [0.7, \"#b8e186\"], [0.8, \"#7fbc41\"], [0.9, \"#4d9221\"], [1, \"#276419\"]], \"sequential\": [[0.0, \"#0d0887\"], [0.1111111111111111, \"#46039f\"], [0.2222222222222222, \"#7201a8\"], [0.3333333333333333, \"#9c179e\"], [0.4444444444444444, \"#bd3786\"], [0.5555555555555556, \"#d8576b\"], [0.6666666666666666, \"#ed7953\"], [0.7777777777777778, \"#fb9f3a\"], [0.8888888888888888, \"#fdca26\"], [1.0, \"#f0f921\"]], \"sequentialminus\": [[0.0, \"#0d0887\"], [0.1111111111111111, \"#46039f\"], [0.2222222222222222, \"#7201a8\"], [0.3333333333333333, \"#9c179e\"], [0.4444444444444444, \"#bd3786\"], [0.5555555555555556, \"#d8576b\"], [0.6666666666666666, \"#ed7953\"], [0.7777777777777778, \"#fb9f3a\"], [0.8888888888888888, \"#fdca26\"], [1.0, \"#f0f921\"]]}, \"colorway\": [\"#636efa\", \"#EF553B\", \"#00cc96\", \"#ab63fa\", \"#FFA15A\", \"#19d3f3\", \"#FF6692\", \"#B6E880\", \"#FF97FF\", \"#FECB52\"], \"font\": {\"color\": \"#2a3f5f\"}, \"geo\": {\"bgcolor\": \"white\", \"lakecolor\": \"white\", \"landcolor\": \"#E5ECF6\", \"showlakes\": true, \"showland\": true, \"subunitcolor\": \"white\"}, \"hoverlabel\": {\"align\": \"left\"}, \"hovermode\": \"closest\", \"mapbox\": {\"style\": \"light\"}, \"paper_bgcolor\": \"white\", \"plot_bgcolor\": \"#E5ECF6\", \"polar\": {\"angularaxis\": {\"gridcolor\": \"white\", \"linecolor\": \"white\", \"ticks\": \"\"}, \"bgcolor\": \"#E5ECF6\", \"radialaxis\": {\"gridcolor\": \"white\", \"linecolor\": \"white\", \"ticks\": \"\"}}, \"scene\": {\"xaxis\": {\"backgroundcolor\": \"#E5ECF6\", \"gridcolor\": \"white\", \"gridwidth\": 2, \"linecolor\": \"white\", \"showbackground\": true, \"ticks\": \"\", \"zerolinecolor\": \"white\"}, \"yaxis\": {\"backgroundcolor\": \"#E5ECF6\", \"gridcolor\": \"white\", \"gridwidth\": 2, \"linecolor\": \"white\", \"showbackground\": true, \"ticks\": \"\", \"zerolinecolor\": \"white\"}, \"zaxis\": {\"backgroundcolor\": \"#E5ECF6\", \"gridcolor\": \"white\", \"gridwidth\": 2, \"linecolor\": \"white\", \"showbackground\": true, \"ticks\": \"\", \"zerolinecolor\": \"white\"}}, \"shapedefaults\": {\"line\": {\"color\": \"#2a3f5f\"}}, \"ternary\": {\"aaxis\": {\"gridcolor\": \"white\", \"linecolor\": \"white\", \"ticks\": \"\"}, \"baxis\": {\"gridcolor\": \"white\", \"linecolor\": \"white\", \"ticks\": \"\"}, \"bgcolor\": \"#E5ECF6\", \"caxis\": {\"gridcolor\": \"white\", \"linecolor\": \"white\", \"ticks\": \"\"}}, \"title\": {\"x\": 0.05}, \"xaxis\": {\"automargin\": true, \"gridcolor\": \"white\", \"linecolor\": \"white\", \"ticks\": \"\", \"title\": {\"standoff\": 15}, \"zerolinecolor\": \"white\", \"zerolinewidth\": 2}, \"yaxis\": {\"automargin\": true, \"gridcolor\": \"white\", \"linecolor\": \"white\", \"ticks\": \"\", \"title\": {\"standoff\": 15}, \"zerolinecolor\": \"white\", \"zerolinewidth\": 2}}}, \"xaxis\": {\"anchor\": \"y\", \"domain\": [0.0, 1.0], \"title\": {\"text\": \"Shark\"}}, \"yaxis\": {\"anchor\": \"x\", \"domain\": [0.0, 1.0], \"title\": {\"text\": \"Days\"}}},                        {\"responsive\": true}                    ).then(function(){\n",
       "                            \n",
       "var gd = document.getElementById('d85bbf3c-ca08-4036-98af-ec2f280e3368');\n",
       "var x = new MutationObserver(function (mutations, observer) {{\n",
       "        var display = window.getComputedStyle(gd).display;\n",
       "        if (!display || display === 'none') {{\n",
       "            console.log([gd, 'removed!']);\n",
       "            Plotly.purge(gd);\n",
       "            observer.disconnect();\n",
       "        }}\n",
       "}});\n",
       "\n",
       "// Listen for the removal of the full notebook cells\n",
       "var notebookContainer = gd.closest('#notebook-container');\n",
       "if (notebookContainer) {{\n",
       "    x.observe(notebookContainer, {childList: true});\n",
       "}}\n",
       "\n",
       "// Listen for the clearing of the current output cell\n",
       "var outputEl = gd.closest('.output');\n",
       "if (outputEl) {{\n",
       "    x.observe(outputEl, {childList: true});\n",
       "}}\n",
       "\n",
       "                        })                };                });            </script>        </div>"
      ]
     },
     "metadata": {},
     "output_type": "display_data"
    }
   ],
   "source": [
    "#Not sure if this helps at all, but here this is\n",
    "px.box(pd.melt(fast_days, var_name = \"Shark\", value_name = \"Days\"), x = \"Shark\", y = \"Days\")"
   ]
  },
  {
   "cell_type": "code",
   "execution_count": 228,
   "metadata": {},
   "outputs": [
    {
     "data": {
      "application/vnd.plotly.v1+json": {
       "config": {
        "plotlyServerURL": "https://plot.ly"
       },
       "data": [
        {
         "alignmentgroup": "True",
         "hovertemplate": "Shark=%{x}<br>Days=%{y}<extra></extra>",
         "legendgroup": "",
         "marker": {
          "color": "#636efa"
         },
         "name": "",
         "offsetgroup": "",
         "orientation": "v",
         "showlegend": false,
         "textposition": "auto",
         "type": "bar",
         "x": [
          "GR1",
          "GR5",
          "GR2",
          "GR3",
          "GR4",
          "BT1",
          "BT2",
          "BT3",
          "Chandler",
          "Ross",
          "BT4",
          "BT5"
         ],
         "xaxis": "x",
         "y": [
          24,
          23,
          21,
          17,
          17,
          14,
          14,
          14,
          12,
          9,
          9,
          7
         ],
         "yaxis": "y"
        }
       ],
       "layout": {
        "barmode": "relative",
        "legend": {
         "tracegroupgap": 0
        },
        "template": {
         "data": {
          "bar": [
           {
            "error_x": {
             "color": "#2a3f5f"
            },
            "error_y": {
             "color": "#2a3f5f"
            },
            "marker": {
             "line": {
              "color": "#E5ECF6",
              "width": 0.5
             }
            },
            "type": "bar"
           }
          ],
          "barpolar": [
           {
            "marker": {
             "line": {
              "color": "#E5ECF6",
              "width": 0.5
             }
            },
            "type": "barpolar"
           }
          ],
          "carpet": [
           {
            "aaxis": {
             "endlinecolor": "#2a3f5f",
             "gridcolor": "white",
             "linecolor": "white",
             "minorgridcolor": "white",
             "startlinecolor": "#2a3f5f"
            },
            "baxis": {
             "endlinecolor": "#2a3f5f",
             "gridcolor": "white",
             "linecolor": "white",
             "minorgridcolor": "white",
             "startlinecolor": "#2a3f5f"
            },
            "type": "carpet"
           }
          ],
          "choropleth": [
           {
            "colorbar": {
             "outlinewidth": 0,
             "ticks": ""
            },
            "type": "choropleth"
           }
          ],
          "contour": [
           {
            "colorbar": {
             "outlinewidth": 0,
             "ticks": ""
            },
            "colorscale": [
             [
              0,
              "#0d0887"
             ],
             [
              0.1111111111111111,
              "#46039f"
             ],
             [
              0.2222222222222222,
              "#7201a8"
             ],
             [
              0.3333333333333333,
              "#9c179e"
             ],
             [
              0.4444444444444444,
              "#bd3786"
             ],
             [
              0.5555555555555556,
              "#d8576b"
             ],
             [
              0.6666666666666666,
              "#ed7953"
             ],
             [
              0.7777777777777778,
              "#fb9f3a"
             ],
             [
              0.8888888888888888,
              "#fdca26"
             ],
             [
              1,
              "#f0f921"
             ]
            ],
            "type": "contour"
           }
          ],
          "contourcarpet": [
           {
            "colorbar": {
             "outlinewidth": 0,
             "ticks": ""
            },
            "type": "contourcarpet"
           }
          ],
          "heatmap": [
           {
            "colorbar": {
             "outlinewidth": 0,
             "ticks": ""
            },
            "colorscale": [
             [
              0,
              "#0d0887"
             ],
             [
              0.1111111111111111,
              "#46039f"
             ],
             [
              0.2222222222222222,
              "#7201a8"
             ],
             [
              0.3333333333333333,
              "#9c179e"
             ],
             [
              0.4444444444444444,
              "#bd3786"
             ],
             [
              0.5555555555555556,
              "#d8576b"
             ],
             [
              0.6666666666666666,
              "#ed7953"
             ],
             [
              0.7777777777777778,
              "#fb9f3a"
             ],
             [
              0.8888888888888888,
              "#fdca26"
             ],
             [
              1,
              "#f0f921"
             ]
            ],
            "type": "heatmap"
           }
          ],
          "heatmapgl": [
           {
            "colorbar": {
             "outlinewidth": 0,
             "ticks": ""
            },
            "colorscale": [
             [
              0,
              "#0d0887"
             ],
             [
              0.1111111111111111,
              "#46039f"
             ],
             [
              0.2222222222222222,
              "#7201a8"
             ],
             [
              0.3333333333333333,
              "#9c179e"
             ],
             [
              0.4444444444444444,
              "#bd3786"
             ],
             [
              0.5555555555555556,
              "#d8576b"
             ],
             [
              0.6666666666666666,
              "#ed7953"
             ],
             [
              0.7777777777777778,
              "#fb9f3a"
             ],
             [
              0.8888888888888888,
              "#fdca26"
             ],
             [
              1,
              "#f0f921"
             ]
            ],
            "type": "heatmapgl"
           }
          ],
          "histogram": [
           {
            "marker": {
             "colorbar": {
              "outlinewidth": 0,
              "ticks": ""
             }
            },
            "type": "histogram"
           }
          ],
          "histogram2d": [
           {
            "colorbar": {
             "outlinewidth": 0,
             "ticks": ""
            },
            "colorscale": [
             [
              0,
              "#0d0887"
             ],
             [
              0.1111111111111111,
              "#46039f"
             ],
             [
              0.2222222222222222,
              "#7201a8"
             ],
             [
              0.3333333333333333,
              "#9c179e"
             ],
             [
              0.4444444444444444,
              "#bd3786"
             ],
             [
              0.5555555555555556,
              "#d8576b"
             ],
             [
              0.6666666666666666,
              "#ed7953"
             ],
             [
              0.7777777777777778,
              "#fb9f3a"
             ],
             [
              0.8888888888888888,
              "#fdca26"
             ],
             [
              1,
              "#f0f921"
             ]
            ],
            "type": "histogram2d"
           }
          ],
          "histogram2dcontour": [
           {
            "colorbar": {
             "outlinewidth": 0,
             "ticks": ""
            },
            "colorscale": [
             [
              0,
              "#0d0887"
             ],
             [
              0.1111111111111111,
              "#46039f"
             ],
             [
              0.2222222222222222,
              "#7201a8"
             ],
             [
              0.3333333333333333,
              "#9c179e"
             ],
             [
              0.4444444444444444,
              "#bd3786"
             ],
             [
              0.5555555555555556,
              "#d8576b"
             ],
             [
              0.6666666666666666,
              "#ed7953"
             ],
             [
              0.7777777777777778,
              "#fb9f3a"
             ],
             [
              0.8888888888888888,
              "#fdca26"
             ],
             [
              1,
              "#f0f921"
             ]
            ],
            "type": "histogram2dcontour"
           }
          ],
          "mesh3d": [
           {
            "colorbar": {
             "outlinewidth": 0,
             "ticks": ""
            },
            "type": "mesh3d"
           }
          ],
          "parcoords": [
           {
            "line": {
             "colorbar": {
              "outlinewidth": 0,
              "ticks": ""
             }
            },
            "type": "parcoords"
           }
          ],
          "pie": [
           {
            "automargin": true,
            "type": "pie"
           }
          ],
          "scatter": [
           {
            "marker": {
             "colorbar": {
              "outlinewidth": 0,
              "ticks": ""
             }
            },
            "type": "scatter"
           }
          ],
          "scatter3d": [
           {
            "line": {
             "colorbar": {
              "outlinewidth": 0,
              "ticks": ""
             }
            },
            "marker": {
             "colorbar": {
              "outlinewidth": 0,
              "ticks": ""
             }
            },
            "type": "scatter3d"
           }
          ],
          "scattercarpet": [
           {
            "marker": {
             "colorbar": {
              "outlinewidth": 0,
              "ticks": ""
             }
            },
            "type": "scattercarpet"
           }
          ],
          "scattergeo": [
           {
            "marker": {
             "colorbar": {
              "outlinewidth": 0,
              "ticks": ""
             }
            },
            "type": "scattergeo"
           }
          ],
          "scattergl": [
           {
            "marker": {
             "colorbar": {
              "outlinewidth": 0,
              "ticks": ""
             }
            },
            "type": "scattergl"
           }
          ],
          "scattermapbox": [
           {
            "marker": {
             "colorbar": {
              "outlinewidth": 0,
              "ticks": ""
             }
            },
            "type": "scattermapbox"
           }
          ],
          "scatterpolar": [
           {
            "marker": {
             "colorbar": {
              "outlinewidth": 0,
              "ticks": ""
             }
            },
            "type": "scatterpolar"
           }
          ],
          "scatterpolargl": [
           {
            "marker": {
             "colorbar": {
              "outlinewidth": 0,
              "ticks": ""
             }
            },
            "type": "scatterpolargl"
           }
          ],
          "scatterternary": [
           {
            "marker": {
             "colorbar": {
              "outlinewidth": 0,
              "ticks": ""
             }
            },
            "type": "scatterternary"
           }
          ],
          "surface": [
           {
            "colorbar": {
             "outlinewidth": 0,
             "ticks": ""
            },
            "colorscale": [
             [
              0,
              "#0d0887"
             ],
             [
              0.1111111111111111,
              "#46039f"
             ],
             [
              0.2222222222222222,
              "#7201a8"
             ],
             [
              0.3333333333333333,
              "#9c179e"
             ],
             [
              0.4444444444444444,
              "#bd3786"
             ],
             [
              0.5555555555555556,
              "#d8576b"
             ],
             [
              0.6666666666666666,
              "#ed7953"
             ],
             [
              0.7777777777777778,
              "#fb9f3a"
             ],
             [
              0.8888888888888888,
              "#fdca26"
             ],
             [
              1,
              "#f0f921"
             ]
            ],
            "type": "surface"
           }
          ],
          "table": [
           {
            "cells": {
             "fill": {
              "color": "#EBF0F8"
             },
             "line": {
              "color": "white"
             }
            },
            "header": {
             "fill": {
              "color": "#C8D4E3"
             },
             "line": {
              "color": "white"
             }
            },
            "type": "table"
           }
          ]
         },
         "layout": {
          "annotationdefaults": {
           "arrowcolor": "#2a3f5f",
           "arrowhead": 0,
           "arrowwidth": 1
          },
          "coloraxis": {
           "colorbar": {
            "outlinewidth": 0,
            "ticks": ""
           }
          },
          "colorscale": {
           "diverging": [
            [
             0,
             "#8e0152"
            ],
            [
             0.1,
             "#c51b7d"
            ],
            [
             0.2,
             "#de77ae"
            ],
            [
             0.3,
             "#f1b6da"
            ],
            [
             0.4,
             "#fde0ef"
            ],
            [
             0.5,
             "#f7f7f7"
            ],
            [
             0.6,
             "#e6f5d0"
            ],
            [
             0.7,
             "#b8e186"
            ],
            [
             0.8,
             "#7fbc41"
            ],
            [
             0.9,
             "#4d9221"
            ],
            [
             1,
             "#276419"
            ]
           ],
           "sequential": [
            [
             0,
             "#0d0887"
            ],
            [
             0.1111111111111111,
             "#46039f"
            ],
            [
             0.2222222222222222,
             "#7201a8"
            ],
            [
             0.3333333333333333,
             "#9c179e"
            ],
            [
             0.4444444444444444,
             "#bd3786"
            ],
            [
             0.5555555555555556,
             "#d8576b"
            ],
            [
             0.6666666666666666,
             "#ed7953"
            ],
            [
             0.7777777777777778,
             "#fb9f3a"
            ],
            [
             0.8888888888888888,
             "#fdca26"
            ],
            [
             1,
             "#f0f921"
            ]
           ],
           "sequentialminus": [
            [
             0,
             "#0d0887"
            ],
            [
             0.1111111111111111,
             "#46039f"
            ],
            [
             0.2222222222222222,
             "#7201a8"
            ],
            [
             0.3333333333333333,
             "#9c179e"
            ],
            [
             0.4444444444444444,
             "#bd3786"
            ],
            [
             0.5555555555555556,
             "#d8576b"
            ],
            [
             0.6666666666666666,
             "#ed7953"
            ],
            [
             0.7777777777777778,
             "#fb9f3a"
            ],
            [
             0.8888888888888888,
             "#fdca26"
            ],
            [
             1,
             "#f0f921"
            ]
           ]
          },
          "colorway": [
           "#636efa",
           "#EF553B",
           "#00cc96",
           "#ab63fa",
           "#FFA15A",
           "#19d3f3",
           "#FF6692",
           "#B6E880",
           "#FF97FF",
           "#FECB52"
          ],
          "font": {
           "color": "#2a3f5f"
          },
          "geo": {
           "bgcolor": "white",
           "lakecolor": "white",
           "landcolor": "#E5ECF6",
           "showlakes": true,
           "showland": true,
           "subunitcolor": "white"
          },
          "hoverlabel": {
           "align": "left"
          },
          "hovermode": "closest",
          "mapbox": {
           "style": "light"
          },
          "paper_bgcolor": "white",
          "plot_bgcolor": "#E5ECF6",
          "polar": {
           "angularaxis": {
            "gridcolor": "white",
            "linecolor": "white",
            "ticks": ""
           },
           "bgcolor": "#E5ECF6",
           "radialaxis": {
            "gridcolor": "white",
            "linecolor": "white",
            "ticks": ""
           }
          },
          "scene": {
           "xaxis": {
            "backgroundcolor": "#E5ECF6",
            "gridcolor": "white",
            "gridwidth": 2,
            "linecolor": "white",
            "showbackground": true,
            "ticks": "",
            "zerolinecolor": "white"
           },
           "yaxis": {
            "backgroundcolor": "#E5ECF6",
            "gridcolor": "white",
            "gridwidth": 2,
            "linecolor": "white",
            "showbackground": true,
            "ticks": "",
            "zerolinecolor": "white"
           },
           "zaxis": {
            "backgroundcolor": "#E5ECF6",
            "gridcolor": "white",
            "gridwidth": 2,
            "linecolor": "white",
            "showbackground": true,
            "ticks": "",
            "zerolinecolor": "white"
           }
          },
          "shapedefaults": {
           "line": {
            "color": "#2a3f5f"
           }
          },
          "ternary": {
           "aaxis": {
            "gridcolor": "white",
            "linecolor": "white",
            "ticks": ""
           },
           "baxis": {
            "gridcolor": "white",
            "linecolor": "white",
            "ticks": ""
           },
           "bgcolor": "#E5ECF6",
           "caxis": {
            "gridcolor": "white",
            "linecolor": "white",
            "ticks": ""
           }
          },
          "title": {
           "x": 0.05
          },
          "xaxis": {
           "automargin": true,
           "gridcolor": "white",
           "linecolor": "white",
           "ticks": "",
           "title": {
            "standoff": 15
           },
           "zerolinecolor": "white",
           "zerolinewidth": 2
          },
          "yaxis": {
           "automargin": true,
           "gridcolor": "white",
           "linecolor": "white",
           "ticks": "",
           "title": {
            "standoff": 15
           },
           "zerolinecolor": "white",
           "zerolinewidth": 2
          }
         }
        },
        "title": {
         "text": "What is the longest that each shark will go fasting?"
        },
        "xaxis": {
         "anchor": "y",
         "domain": [
          0,
          1
         ],
         "title": {
          "text": "Shark"
         }
        },
        "yaxis": {
         "anchor": "x",
         "domain": [
          0,
          1
         ],
         "title": {
          "text": "Days"
         }
        }
       }
      },
      "text/html": [
       "<div>                            <div id=\"5090dd77-5ccc-4896-a5a9-93d591203c16\" class=\"plotly-graph-div\" style=\"height:525px; width:100%;\"></div>            <script type=\"text/javascript\">                require([\"plotly\"], function(Plotly) {                    window.PLOTLYENV=window.PLOTLYENV || {};                                    if (document.getElementById(\"5090dd77-5ccc-4896-a5a9-93d591203c16\")) {                    Plotly.newPlot(                        \"5090dd77-5ccc-4896-a5a9-93d591203c16\",                        [{\"alignmentgroup\": \"True\", \"hovertemplate\": \"Shark=%{x}<br>Days=%{y}<extra></extra>\", \"legendgroup\": \"\", \"marker\": {\"color\": \"#636efa\"}, \"name\": \"\", \"offsetgroup\": \"\", \"orientation\": \"v\", \"showlegend\": false, \"textposition\": \"auto\", \"type\": \"bar\", \"x\": [\"GR1\", \"GR5\", \"GR2\", \"GR3\", \"GR4\", \"BT1\", \"BT2\", \"BT3\", \"Chandler\", \"Ross\", \"BT4\", \"BT5\"], \"xaxis\": \"x\", \"y\": [24.0, 23.0, 21.0, 17.0, 17.0, 14.0, 14.0, 14.0, 12.0, 9.0, 9.0, 7.0], \"yaxis\": \"y\"}],                        {\"barmode\": \"relative\", \"legend\": {\"tracegroupgap\": 0}, \"template\": {\"data\": {\"bar\": [{\"error_x\": {\"color\": \"#2a3f5f\"}, \"error_y\": {\"color\": \"#2a3f5f\"}, \"marker\": {\"line\": {\"color\": \"#E5ECF6\", \"width\": 0.5}}, \"type\": \"bar\"}], \"barpolar\": [{\"marker\": {\"line\": {\"color\": \"#E5ECF6\", \"width\": 0.5}}, \"type\": \"barpolar\"}], \"carpet\": [{\"aaxis\": {\"endlinecolor\": \"#2a3f5f\", \"gridcolor\": \"white\", \"linecolor\": \"white\", \"minorgridcolor\": \"white\", \"startlinecolor\": \"#2a3f5f\"}, \"baxis\": {\"endlinecolor\": \"#2a3f5f\", \"gridcolor\": \"white\", \"linecolor\": \"white\", \"minorgridcolor\": \"white\", \"startlinecolor\": \"#2a3f5f\"}, \"type\": \"carpet\"}], \"choropleth\": [{\"colorbar\": {\"outlinewidth\": 0, \"ticks\": \"\"}, \"type\": \"choropleth\"}], \"contour\": [{\"colorbar\": {\"outlinewidth\": 0, \"ticks\": \"\"}, \"colorscale\": [[0.0, \"#0d0887\"], [0.1111111111111111, \"#46039f\"], [0.2222222222222222, \"#7201a8\"], [0.3333333333333333, \"#9c179e\"], [0.4444444444444444, \"#bd3786\"], [0.5555555555555556, \"#d8576b\"], [0.6666666666666666, \"#ed7953\"], [0.7777777777777778, \"#fb9f3a\"], [0.8888888888888888, \"#fdca26\"], [1.0, \"#f0f921\"]], \"type\": \"contour\"}], \"contourcarpet\": [{\"colorbar\": {\"outlinewidth\": 0, \"ticks\": \"\"}, \"type\": \"contourcarpet\"}], \"heatmap\": [{\"colorbar\": {\"outlinewidth\": 0, \"ticks\": \"\"}, \"colorscale\": [[0.0, \"#0d0887\"], [0.1111111111111111, \"#46039f\"], [0.2222222222222222, \"#7201a8\"], [0.3333333333333333, \"#9c179e\"], [0.4444444444444444, \"#bd3786\"], [0.5555555555555556, \"#d8576b\"], [0.6666666666666666, \"#ed7953\"], [0.7777777777777778, \"#fb9f3a\"], [0.8888888888888888, \"#fdca26\"], [1.0, \"#f0f921\"]], \"type\": \"heatmap\"}], \"heatmapgl\": [{\"colorbar\": {\"outlinewidth\": 0, \"ticks\": \"\"}, \"colorscale\": [[0.0, \"#0d0887\"], [0.1111111111111111, \"#46039f\"], [0.2222222222222222, \"#7201a8\"], [0.3333333333333333, \"#9c179e\"], [0.4444444444444444, \"#bd3786\"], [0.5555555555555556, \"#d8576b\"], [0.6666666666666666, \"#ed7953\"], [0.7777777777777778, \"#fb9f3a\"], [0.8888888888888888, \"#fdca26\"], [1.0, \"#f0f921\"]], \"type\": \"heatmapgl\"}], \"histogram\": [{\"marker\": {\"colorbar\": {\"outlinewidth\": 0, \"ticks\": \"\"}}, \"type\": \"histogram\"}], \"histogram2d\": [{\"colorbar\": {\"outlinewidth\": 0, \"ticks\": \"\"}, \"colorscale\": [[0.0, \"#0d0887\"], [0.1111111111111111, \"#46039f\"], [0.2222222222222222, \"#7201a8\"], [0.3333333333333333, \"#9c179e\"], [0.4444444444444444, \"#bd3786\"], [0.5555555555555556, \"#d8576b\"], [0.6666666666666666, \"#ed7953\"], [0.7777777777777778, \"#fb9f3a\"], [0.8888888888888888, \"#fdca26\"], [1.0, \"#f0f921\"]], \"type\": \"histogram2d\"}], \"histogram2dcontour\": [{\"colorbar\": {\"outlinewidth\": 0, \"ticks\": \"\"}, \"colorscale\": [[0.0, \"#0d0887\"], [0.1111111111111111, \"#46039f\"], [0.2222222222222222, \"#7201a8\"], [0.3333333333333333, \"#9c179e\"], [0.4444444444444444, \"#bd3786\"], [0.5555555555555556, \"#d8576b\"], [0.6666666666666666, \"#ed7953\"], [0.7777777777777778, \"#fb9f3a\"], [0.8888888888888888, \"#fdca26\"], [1.0, \"#f0f921\"]], \"type\": \"histogram2dcontour\"}], \"mesh3d\": [{\"colorbar\": {\"outlinewidth\": 0, \"ticks\": \"\"}, \"type\": \"mesh3d\"}], \"parcoords\": [{\"line\": {\"colorbar\": {\"outlinewidth\": 0, \"ticks\": \"\"}}, \"type\": \"parcoords\"}], \"pie\": [{\"automargin\": true, \"type\": \"pie\"}], \"scatter\": [{\"marker\": {\"colorbar\": {\"outlinewidth\": 0, \"ticks\": \"\"}}, \"type\": \"scatter\"}], \"scatter3d\": [{\"line\": {\"colorbar\": {\"outlinewidth\": 0, \"ticks\": \"\"}}, \"marker\": {\"colorbar\": {\"outlinewidth\": 0, \"ticks\": \"\"}}, \"type\": \"scatter3d\"}], \"scattercarpet\": [{\"marker\": {\"colorbar\": {\"outlinewidth\": 0, \"ticks\": \"\"}}, \"type\": \"scattercarpet\"}], \"scattergeo\": [{\"marker\": {\"colorbar\": {\"outlinewidth\": 0, \"ticks\": \"\"}}, \"type\": \"scattergeo\"}], \"scattergl\": [{\"marker\": {\"colorbar\": {\"outlinewidth\": 0, \"ticks\": \"\"}}, \"type\": \"scattergl\"}], \"scattermapbox\": [{\"marker\": {\"colorbar\": {\"outlinewidth\": 0, \"ticks\": \"\"}}, \"type\": \"scattermapbox\"}], \"scatterpolar\": [{\"marker\": {\"colorbar\": {\"outlinewidth\": 0, \"ticks\": \"\"}}, \"type\": \"scatterpolar\"}], \"scatterpolargl\": [{\"marker\": {\"colorbar\": {\"outlinewidth\": 0, \"ticks\": \"\"}}, \"type\": \"scatterpolargl\"}], \"scatterternary\": [{\"marker\": {\"colorbar\": {\"outlinewidth\": 0, \"ticks\": \"\"}}, \"type\": \"scatterternary\"}], \"surface\": [{\"colorbar\": {\"outlinewidth\": 0, \"ticks\": \"\"}, \"colorscale\": [[0.0, \"#0d0887\"], [0.1111111111111111, \"#46039f\"], [0.2222222222222222, \"#7201a8\"], [0.3333333333333333, \"#9c179e\"], [0.4444444444444444, \"#bd3786\"], [0.5555555555555556, \"#d8576b\"], [0.6666666666666666, \"#ed7953\"], [0.7777777777777778, \"#fb9f3a\"], [0.8888888888888888, \"#fdca26\"], [1.0, \"#f0f921\"]], \"type\": \"surface\"}], \"table\": [{\"cells\": {\"fill\": {\"color\": \"#EBF0F8\"}, \"line\": {\"color\": \"white\"}}, \"header\": {\"fill\": {\"color\": \"#C8D4E3\"}, \"line\": {\"color\": \"white\"}}, \"type\": \"table\"}]}, \"layout\": {\"annotationdefaults\": {\"arrowcolor\": \"#2a3f5f\", \"arrowhead\": 0, \"arrowwidth\": 1}, \"coloraxis\": {\"colorbar\": {\"outlinewidth\": 0, \"ticks\": \"\"}}, \"colorscale\": {\"diverging\": [[0, \"#8e0152\"], [0.1, \"#c51b7d\"], [0.2, \"#de77ae\"], [0.3, \"#f1b6da\"], [0.4, \"#fde0ef\"], [0.5, \"#f7f7f7\"], [0.6, \"#e6f5d0\"], [0.7, \"#b8e186\"], [0.8, \"#7fbc41\"], [0.9, \"#4d9221\"], [1, \"#276419\"]], \"sequential\": [[0.0, \"#0d0887\"], [0.1111111111111111, \"#46039f\"], [0.2222222222222222, \"#7201a8\"], [0.3333333333333333, \"#9c179e\"], [0.4444444444444444, \"#bd3786\"], [0.5555555555555556, \"#d8576b\"], [0.6666666666666666, \"#ed7953\"], [0.7777777777777778, \"#fb9f3a\"], [0.8888888888888888, \"#fdca26\"], [1.0, \"#f0f921\"]], \"sequentialminus\": [[0.0, \"#0d0887\"], [0.1111111111111111, \"#46039f\"], [0.2222222222222222, \"#7201a8\"], [0.3333333333333333, \"#9c179e\"], [0.4444444444444444, \"#bd3786\"], [0.5555555555555556, \"#d8576b\"], [0.6666666666666666, \"#ed7953\"], [0.7777777777777778, \"#fb9f3a\"], [0.8888888888888888, \"#fdca26\"], [1.0, \"#f0f921\"]]}, \"colorway\": [\"#636efa\", \"#EF553B\", \"#00cc96\", \"#ab63fa\", \"#FFA15A\", \"#19d3f3\", \"#FF6692\", \"#B6E880\", \"#FF97FF\", \"#FECB52\"], \"font\": {\"color\": \"#2a3f5f\"}, \"geo\": {\"bgcolor\": \"white\", \"lakecolor\": \"white\", \"landcolor\": \"#E5ECF6\", \"showlakes\": true, \"showland\": true, \"subunitcolor\": \"white\"}, \"hoverlabel\": {\"align\": \"left\"}, \"hovermode\": \"closest\", \"mapbox\": {\"style\": \"light\"}, \"paper_bgcolor\": \"white\", \"plot_bgcolor\": \"#E5ECF6\", \"polar\": {\"angularaxis\": {\"gridcolor\": \"white\", \"linecolor\": \"white\", \"ticks\": \"\"}, \"bgcolor\": \"#E5ECF6\", \"radialaxis\": {\"gridcolor\": \"white\", \"linecolor\": \"white\", \"ticks\": \"\"}}, \"scene\": {\"xaxis\": {\"backgroundcolor\": \"#E5ECF6\", \"gridcolor\": \"white\", \"gridwidth\": 2, \"linecolor\": \"white\", \"showbackground\": true, \"ticks\": \"\", \"zerolinecolor\": \"white\"}, \"yaxis\": {\"backgroundcolor\": \"#E5ECF6\", \"gridcolor\": \"white\", \"gridwidth\": 2, \"linecolor\": \"white\", \"showbackground\": true, \"ticks\": \"\", \"zerolinecolor\": \"white\"}, \"zaxis\": {\"backgroundcolor\": \"#E5ECF6\", \"gridcolor\": \"white\", \"gridwidth\": 2, \"linecolor\": \"white\", \"showbackground\": true, \"ticks\": \"\", \"zerolinecolor\": \"white\"}}, \"shapedefaults\": {\"line\": {\"color\": \"#2a3f5f\"}}, \"ternary\": {\"aaxis\": {\"gridcolor\": \"white\", \"linecolor\": \"white\", \"ticks\": \"\"}, \"baxis\": {\"gridcolor\": \"white\", \"linecolor\": \"white\", \"ticks\": \"\"}, \"bgcolor\": \"#E5ECF6\", \"caxis\": {\"gridcolor\": \"white\", \"linecolor\": \"white\", \"ticks\": \"\"}}, \"title\": {\"x\": 0.05}, \"xaxis\": {\"automargin\": true, \"gridcolor\": \"white\", \"linecolor\": \"white\", \"ticks\": \"\", \"title\": {\"standoff\": 15}, \"zerolinecolor\": \"white\", \"zerolinewidth\": 2}, \"yaxis\": {\"automargin\": true, \"gridcolor\": \"white\", \"linecolor\": \"white\", \"ticks\": \"\", \"title\": {\"standoff\": 15}, \"zerolinecolor\": \"white\", \"zerolinewidth\": 2}}}, \"title\": {\"text\": \"What is the longest that each shark will go fasting?\"}, \"xaxis\": {\"anchor\": \"y\", \"domain\": [0.0, 1.0], \"title\": {\"text\": \"Shark\"}}, \"yaxis\": {\"anchor\": \"x\", \"domain\": [0.0, 1.0], \"title\": {\"text\": \"Days\"}}},                        {\"responsive\": true}                    ).then(function(){\n",
       "                            \n",
       "var gd = document.getElementById('5090dd77-5ccc-4896-a5a9-93d591203c16');\n",
       "var x = new MutationObserver(function (mutations, observer) {{\n",
       "        var display = window.getComputedStyle(gd).display;\n",
       "        if (!display || display === 'none') {{\n",
       "            console.log([gd, 'removed!']);\n",
       "            Plotly.purge(gd);\n",
       "            observer.disconnect();\n",
       "        }}\n",
       "}});\n",
       "\n",
       "// Listen for the removal of the full notebook cells\n",
       "var notebookContainer = gd.closest('#notebook-container');\n",
       "if (notebookContainer) {{\n",
       "    x.observe(notebookContainer, {childList: true});\n",
       "}}\n",
       "\n",
       "// Listen for the clearing of the current output cell\n",
       "var outputEl = gd.closest('.output');\n",
       "if (outputEl) {{\n",
       "    x.observe(outputEl, {childList: true});\n",
       "}}\n",
       "\n",
       "                        })                };                });            </script>        </div>"
      ]
     },
     "metadata": {},
     "output_type": "display_data"
    }
   ],
   "source": [
    "fast_days_max = pd.melt(fast_days.describe().loc[[\"max\"]], var_name = \"Shark\", value_name = \"Days\").sort_values(by = \"Days\", ascending = False)\n",
    "fast_days_max[\"Days\"] = round(fast_days_max[\"Days\"],2)\n",
    "px.bar(fast_days_max, x = \"Shark\", y = \"Days\", title = \"What is the longest that each shark will go fasting?\")"
   ]
  },
  {
   "cell_type": "code",
   "execution_count": null,
   "metadata": {},
   "outputs": [],
   "source": []
  }
 ],
 "metadata": {
  "kernelspec": {
   "display_name": "Python 3",
   "language": "python",
   "name": "python3"
  },
  "language_info": {
   "codemirror_mode": {
    "name": "ipython",
    "version": 3
   },
   "file_extension": ".py",
   "mimetype": "text/x-python",
   "name": "python",
   "nbconvert_exporter": "python",
   "pygments_lexer": "ipython3",
   "version": "3.8.5"
  }
 },
 "nbformat": 4,
 "nbformat_minor": 4
}
